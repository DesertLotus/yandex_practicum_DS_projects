{
 "cells": [
  {
   "cell_type": "markdown",
   "metadata": {
    "toc": true
   },
   "source": [
    "<h1>Содержание<span class=\"tocSkip\"></span></h1>\n",
    "<div class=\"toc\"><ul class=\"toc-item\"><li><span><a href=\"#Загрузка-данных\" data-toc-modified-id=\"Загрузка-данных-1\"><span class=\"toc-item-num\">1&nbsp;&nbsp;</span>Загрузка данных</a></span></li><li><span><a href=\"#Умножение-матриц\" data-toc-modified-id=\"Умножение-матриц-2\"><span class=\"toc-item-num\">2&nbsp;&nbsp;</span>Умножение матриц</a></span></li><li><span><a href=\"#Алгоритм-преобразования\" data-toc-modified-id=\"Алгоритм-преобразования-3\"><span class=\"toc-item-num\">3&nbsp;&nbsp;</span>Алгоритм преобразования</a></span></li><li><span><a href=\"#Проверка-алгоритма\" data-toc-modified-id=\"Проверка-алгоритма-4\"><span class=\"toc-item-num\">4&nbsp;&nbsp;</span>Проверка алгоритма</a></span></li><li><span><a href=\"#Вывод\" data-toc-modified-id=\"Вывод-5\"><span class=\"toc-item-num\">5&nbsp;&nbsp;</span>Вывод</a></span></li><li><span><a href=\"#Чек-лист-проверки\" data-toc-modified-id=\"Чек-лист-проверки-6\"><span class=\"toc-item-num\">6&nbsp;&nbsp;</span>Чек-лист проверки</a></span></li></ul></div>"
   ]
  },
  {
   "cell_type": "markdown",
   "metadata": {},
   "source": [
    "# Защита персональных данных клиентов"
   ]
  },
  {
   "cell_type": "markdown",
   "metadata": {},
   "source": [
    "Вам нужно защитить данные клиентов страховой компании «Хоть потоп». Разработайте такой метод преобразования данных, чтобы по ним было сложно восстановить персональную информацию. Обоснуйте корректность его работы.\n",
    "\n",
    "Нужно защитить данные, чтобы при преобразовании качество моделей машинного обучения не ухудшилось. Подбирать наилучшую модель не требуется."
   ]
  },
  {
   "cell_type": "markdown",
   "metadata": {},
   "source": [
    "## Загрузка данных"
   ]
  },
  {
   "cell_type": "markdown",
   "metadata": {},
   "source": [
    "Загрузите и изучите данные."
   ]
  },
  {
   "cell_type": "code",
   "execution_count": 1,
   "metadata": {},
   "outputs": [],
   "source": [
    "# Загрузим все необходимые библиотеки\n",
    "\n",
    "import pandas as pd # импорт библиотеки pandas \n",
    "import matplotlib.pyplot as plt # импорт библиотеки matplotlib\n",
    "plt.style.use('seaborn-pastel')\n",
    "import numpy as np # импорт библиотеки numpy\n",
    "\n",
    "from sklearn.model_selection import train_test_split\n",
    "from sklearn.metrics import r2_score\n",
    "\n",
    "from sklearn.linear_model import LinearRegression\n",
    "\n",
    "import time\n",
    "from tqdm import tqdm # импорт библиотеки tqdm для просмотра прогресса обучения модели"
   ]
  },
  {
   "cell_type": "code",
   "execution_count": 2,
   "metadata": {},
   "outputs": [
    {
     "data": {
      "text/html": [
       "<div>\n",
       "<style scoped>\n",
       "    .dataframe tbody tr th:only-of-type {\n",
       "        vertical-align: middle;\n",
       "    }\n",
       "\n",
       "    .dataframe tbody tr th {\n",
       "        vertical-align: top;\n",
       "    }\n",
       "\n",
       "    .dataframe thead th {\n",
       "        text-align: right;\n",
       "    }\n",
       "</style>\n",
       "<table border=\"1\" class=\"dataframe\">\n",
       "  <thead>\n",
       "    <tr style=\"text-align: right;\">\n",
       "      <th></th>\n",
       "      <th>Пол</th>\n",
       "      <th>Возраст</th>\n",
       "      <th>Зарплата</th>\n",
       "      <th>Члены семьи</th>\n",
       "      <th>Страховые выплаты</th>\n",
       "    </tr>\n",
       "  </thead>\n",
       "  <tbody>\n",
       "    <tr>\n",
       "      <th>0</th>\n",
       "      <td>1</td>\n",
       "      <td>41.0</td>\n",
       "      <td>49600.0</td>\n",
       "      <td>1</td>\n",
       "      <td>0</td>\n",
       "    </tr>\n",
       "    <tr>\n",
       "      <th>1</th>\n",
       "      <td>0</td>\n",
       "      <td>46.0</td>\n",
       "      <td>38000.0</td>\n",
       "      <td>1</td>\n",
       "      <td>1</td>\n",
       "    </tr>\n",
       "    <tr>\n",
       "      <th>2</th>\n",
       "      <td>0</td>\n",
       "      <td>29.0</td>\n",
       "      <td>21000.0</td>\n",
       "      <td>0</td>\n",
       "      <td>0</td>\n",
       "    </tr>\n",
       "    <tr>\n",
       "      <th>3</th>\n",
       "      <td>0</td>\n",
       "      <td>21.0</td>\n",
       "      <td>41700.0</td>\n",
       "      <td>2</td>\n",
       "      <td>0</td>\n",
       "    </tr>\n",
       "    <tr>\n",
       "      <th>4</th>\n",
       "      <td>1</td>\n",
       "      <td>28.0</td>\n",
       "      <td>26100.0</td>\n",
       "      <td>0</td>\n",
       "      <td>0</td>\n",
       "    </tr>\n",
       "  </tbody>\n",
       "</table>\n",
       "</div>"
      ],
      "text/plain": [
       "   Пол  Возраст  Зарплата  Члены семьи  Страховые выплаты\n",
       "0    1     41.0   49600.0            1                  0\n",
       "1    0     46.0   38000.0            1                  1\n",
       "2    0     29.0   21000.0            0                  0\n",
       "3    0     21.0   41700.0            2                  0\n",
       "4    1     28.0   26100.0            0                  0"
      ]
     },
     "execution_count": 2,
     "metadata": {},
     "output_type": "execute_result"
    }
   ],
   "source": [
    "# Загрузим данные и просмотрим таблтицу\n",
    "\n",
    "df = pd.read_csv('/datasets/insurance.csv')\n",
    "\n",
    "df.head()"
   ]
  },
  {
   "cell_type": "code",
   "execution_count": 3,
   "metadata": {},
   "outputs": [
    {
     "name": "stdout",
     "output_type": "stream",
     "text": [
      "<class 'pandas.core.frame.DataFrame'>\n",
      "RangeIndex: 5000 entries, 0 to 4999\n",
      "Data columns (total 5 columns):\n",
      " #   Column             Non-Null Count  Dtype  \n",
      "---  ------             --------------  -----  \n",
      " 0   Пол                5000 non-null   int64  \n",
      " 1   Возраст            5000 non-null   float64\n",
      " 2   Зарплата           5000 non-null   float64\n",
      " 3   Члены семьи        5000 non-null   int64  \n",
      " 4   Страховые выплаты  5000 non-null   int64  \n",
      "dtypes: float64(2), int64(3)\n",
      "memory usage: 195.4 KB\n"
     ]
    }
   ],
   "source": [
    "df.info()"
   ]
  },
  {
   "cell_type": "code",
   "execution_count": 4,
   "metadata": {},
   "outputs": [
    {
     "data": {
      "image/png": "[encoded data removed]",
      "text/plain": [
       "<Figure size 504x360 with 1 Axes>"
      ]
     },
     "metadata": {
      "needs_background": "light"
     },
     "output_type": "display_data"
    },
    {
     "data": {
      "image/png": "[encoded data removed]",
      "text/plain": [
       "<Figure size 504x360 with 1 Axes>"
      ]
     },
     "metadata": {
      "needs_background": "light"
     },
     "output_type": "display_data"
    },
    {
     "data": {
      "image/png": "[encoded data removed]",
      "text/plain": [
       "<Figure size 504x360 with 1 Axes>"
      ]
     },
     "metadata": {
      "needs_background": "light"
     },
     "output_type": "display_data"
    },
    {
     "data": {
      "image/png": "[encoded data removed]",
      "text/plain": [
       "<Figure size 504x360 with 1 Axes>"
      ]
     },
     "metadata": {
      "needs_background": "light"
     },
     "output_type": "display_data"
    },
    {
     "data": {
      "image/png": "[encoded data removed]",
      "text/plain": [
       "<Figure size 504x360 with 1 Axes>"
      ]
     },
     "metadata": {
      "needs_background": "light"
     },
     "output_type": "display_data"
    }
   ],
   "source": [
    "# Рассмотрим гистограммы столбцов\n",
    "\n",
    "for column in df.columns:\n",
    "    plt.figure(figsize=(7,5))\n",
    "    df[column].hist(bins=25, edgecolor='k')\n",
    "    plt.title(f'Распределение столбца {column}')\n",
    "    plt.show()"
   ]
  },
  {
   "cell_type": "markdown",
   "metadata": {},
   "source": [
    "**Вывод:**\n",
    "\n",
    "* Пропусков нет.\n",
    "* Выбросов нет.\n",
    "* Лишних столбцов нет.\n",
    "\n",
    "Приступим к выполнении условий задачи. "
   ]
  },
  {
   "cell_type": "markdown",
   "metadata": {},
   "source": [
    "## Умножение матриц"
   ]
  },
  {
   "cell_type": "markdown",
   "metadata": {},
   "source": [
    "Ответьте на вопрос и обоснуйте решение.\n",
    "\n",
    "Признаки умножают на обратимую матрицу. Изменится ли качество линейной регрессии?\n",
    "\n",
    "**a**. Изменится. Приведите примеры матриц.\n",
    "\n",
    "**b**. Не изменится. Укажите, как связаны параметры линейной регрессии в исходной задаче и в преобразованной."
   ]
  },
  {
   "cell_type": "markdown",
   "metadata": {},
   "source": [
    "Обозначения:\n",
    "\n",
    "- $X$ — матрица признаков (нулевой столбец состоит из единиц)\n",
    "\n",
    "- $y$ — вектор целевого признака\n",
    "\n",
    "- $P$ — матрица, на которую умножаются признаки\n",
    "\n",
    "- $w$ — вектор весов линейной регрессии (нулевой элемент равен сдвигу)"
   ]
  },
  {
   "cell_type": "markdown",
   "metadata": {},
   "source": [
    "Предсказания:\n",
    "\n",
    "$$\n",
    "a = Xw\n",
    "$$\n",
    "\n",
    "Задача обучения:\n",
    "\n",
    "$$\n",
    "w = \\arg\\min_w MSE(Xw, y)\n",
    "$$\n",
    "\n",
    "Формула обучения:\n",
    "\n",
    "$$\n",
    "w = (X^T X)^{-1} X^T y\n",
    "$$"
   ]
  },
  {
   "cell_type": "markdown",
   "metadata": {},
   "source": [
    "**Ответ:** Качество модели не изменится\n",
    "\n",
    "**Обоснование:** "
   ]
  },
  {
   "cell_type": "markdown",
   "metadata": {},
   "source": [
    "Воспользуемся следующими свойствами матриц:\n",
    "\n",
    "\n",
    "1. $AA^{-1} = E$\n",
    "\n",
    "2. $(AB)^T = B^TA^T$\n",
    "\n",
    "3. $(AB)^{-1} = B^{-1}A^{-1}$\n",
    "\n",
    "4. $(AB)C = A(BC)$\n",
    "\n",
    "Где свойства 2 и 4 верны всегда, а свойства 1 и 3 верны только для обратимых матриц (то есть матрицы должны быть квадратными)"
   ]
  },
  {
   "cell_type": "markdown",
   "metadata": {},
   "source": [
    "Преобразуем правила для нашего случая:\n",
    "\n",
    "1. $XX^{-1} = E$\n",
    "\n",
    "2. $(XP)^T = P^TX^T$\n",
    "\n",
    "3. $(XP)^{-1} = P^{-1}X^{-1}$\n",
    "\n",
    "4. $(XP)C = X(PC)$\n"
   ]
  },
  {
   "cell_type": "markdown",
   "metadata": {},
   "source": [
    "Подставим в формулу обучения:\n",
    "\n",
    "$$\n",
    "w' = ((XP)^T XP)^{-1} (XP)^T y\n",
    "$$"
   ]
  },
  {
   "cell_type": "markdown",
   "metadata": {},
   "source": [
    "Раскроем скобки:\n",
    "\n",
    "$$\n",
    "w' = ((P^TX^T XP)^{-1} P^TX^T y\n",
    "$$"
   ]
  },
  {
   "cell_type": "markdown",
   "metadata": {},
   "source": [
    "Заключим $X^T X$ в скобки и раскроем внешние:\n",
    "\n",
    "$$\n",
    "w' = P^{-1}(X^T X)^{-1}(P^T)^{-1} P^TX^T y\n",
    "$$"
   ]
  },
  {
   "cell_type": "markdown",
   "metadata": {},
   "source": [
    "При перемножении $(P^T)^{-1} P^T$ выходит единичная матрица и уравнение сокращается:\n",
    "\n",
    "$$\n",
    "w' = P^{-1}(X^T X)^{-1}X^T y\n",
    "$$"
   ]
  },
  {
   "cell_type": "markdown",
   "metadata": {},
   "source": [
    "Подставим $w$ в $w'$:\n",
    "\n",
    "$$\n",
    "w' = P^{-1}w\n",
    "$$"
   ]
  },
  {
   "cell_type": "markdown",
   "metadata": {},
   "source": [
    "Подставим в предсказания перемноженные матрицы и посмотрим результат:"
   ]
  },
  {
   "cell_type": "markdown",
   "metadata": {},
   "source": [
    "$$\n",
    "a' = XPw'\n",
    "$$"
   ]
  },
  {
   "cell_type": "markdown",
   "metadata": {},
   "source": [
    "Образуется единичная матрица:\n",
    "\n",
    "$$\n",
    "a' = XPP^{-1}w\n",
    "$$"
   ]
  },
  {
   "cell_type": "markdown",
   "metadata": {},
   "source": [
    "$$\n",
    "a' = Xw = a\n",
    "$$"
   ]
  },
  {
   "cell_type": "markdown",
   "metadata": {},
   "source": [
    "**Вывод:**\n",
    "\n",
    "При использовании обратимой матрицы признаков, как метод шифрования, - метрика не изменится. Так как предсказания $a$ равны $a'$"
   ]
  },
  {
   "cell_type": "markdown",
   "metadata": {},
   "source": [
    "## Алгоритм преобразования"
   ]
  },
  {
   "cell_type": "markdown",
   "metadata": {},
   "source": [
    "**Предложите алгоритм преобразования данных для решения задачи. Обоснуйте, почему качество линейной регрессии не поменяется.**"
   ]
  },
  {
   "cell_type": "markdown",
   "metadata": {},
   "source": [
    "**Алгоритм**\n",
    "\n",
    "Для преобразования воспользуемся данным алгоритмом:\n",
    "\n",
    "1. Разделим данные на признаки и целевой признак.\n",
    "2. Создадим рандомизированную квадратную матрицу, ширина которой будет равняться количеству признаков.\n",
    "3. Проверим матрицу на обратимость. Если необратима - зададим другие параметры рандомизации.\n",
    "4. Преобразуем признаки, умножив их на матрицу и сохраним их в новой переменной - зашифрованной таблице.\n",
    "5. Сохраним обратную матрицу, чтобы была возможность дешифровать признаки.\n",
    "6. Разделим изначальный датасет и зашифрованный на тестовую и тренировочную выборку.\n",
    "7. Проверим метрики. Если не отличаются - задача выполнена."
   ]
  },
  {
   "cell_type": "markdown",
   "metadata": {},
   "source": [
    "**Обоснование**\n",
    "\n",
    "Так как, на основании полученной ранее формулы, где предсказания $a$ равны $a'$, при умножении матрицы признаков на обратимую матрицу, метрики качества не изменятся.\n",
    "\n",
    "Проверим наш алгоритм."
   ]
  },
  {
   "cell_type": "markdown",
   "metadata": {},
   "source": [
    "## Проверка алгоритма"
   ]
  },
  {
   "cell_type": "markdown",
   "metadata": {},
   "source": [
    "Запрограммируйте этот алгоритм, применив матричные операции. Проверьте, что качество линейной регрессии из sklearn не отличается до и после преобразования. Примените метрику R2."
   ]
  },
  {
   "cell_type": "markdown",
   "metadata": {},
   "source": [
    "Создадим функцию, которая выполняет необходимые операции:"
   ]
  },
  {
   "cell_type": "code",
   "execution_count": 5,
   "metadata": {},
   "outputs": [],
   "source": [
    "# Создаём функцию, которая преобразовывает данные:\n",
    "\n",
    "def encode(data, randomstate=12345, randint=1000):\n",
    "    try:\n",
    "        # задаём рандом\n",
    "        rng = np.random.RandomState(randomstate)\n",
    "        \n",
    "        # создаём матрицу, где идет разброс значений от 0 до 1000\n",
    "        P = rng.randint(randint, size=(data.shape[1], data.shape[1]))\n",
    "        \n",
    "        # проверяем обратимость. Если будет необратимая - перенесет на except\n",
    "        Pinv = np.linalg.inv(P)\n",
    "        \n",
    "        # преобразуем таблицу и снова задаём столбцы\n",
    "        encoded_data = np.dot(data, P)\n",
    "        encoded_data = pd.DataFrame(encoded_data, columns=data.columns)\n",
    "        \n",
    "        # возвращаем ключ шифрования и преобразованную таблицу\n",
    "        return encoded_data, Pinv\n",
    "    except:\n",
    "        print('Cannot create inverted matrix. Try another RandInt or RandomState.')"
   ]
  },
  {
   "cell_type": "markdown",
   "metadata": {},
   "source": [
    "Разделим датасет на признаки и целевой признак, проферим шифрацию данных:"
   ]
  },
  {
   "cell_type": "code",
   "execution_count": 6,
   "metadata": {},
   "outputs": [
    {
     "data": {
      "text/html": [
       "<div>\n",
       "<style scoped>\n",
       "    .dataframe tbody tr th:only-of-type {\n",
       "        vertical-align: middle;\n",
       "    }\n",
       "\n",
       "    .dataframe tbody tr th {\n",
       "        vertical-align: top;\n",
       "    }\n",
       "\n",
       "    .dataframe thead th {\n",
       "        text-align: right;\n",
       "    }\n",
       "</style>\n",
       "<table border=\"1\" class=\"dataframe\">\n",
       "  <thead>\n",
       "    <tr style=\"text-align: right;\">\n",
       "      <th></th>\n",
       "      <th>Пол</th>\n",
       "      <th>Возраст</th>\n",
       "      <th>Зарплата</th>\n",
       "      <th>Члены семьи</th>\n",
       "    </tr>\n",
       "  </thead>\n",
       "  <tbody>\n",
       "    <tr>\n",
       "      <th>0</th>\n",
       "      <td>27099671.0</td>\n",
       "      <td>26851825.0</td>\n",
       "      <td>38159001.0</td>\n",
       "      <td>5867671.0</td>\n",
       "    </tr>\n",
       "    <tr>\n",
       "      <th>1</th>\n",
       "      <td>20767689.0</td>\n",
       "      <td>20577865.0</td>\n",
       "      <td>29240226.0</td>\n",
       "      <td>4500527.0</td>\n",
       "    </tr>\n",
       "    <tr>\n",
       "      <th>2</th>\n",
       "      <td>11478180.0</td>\n",
       "      <td>11373325.0</td>\n",
       "      <td>16160078.0</td>\n",
       "      <td>2488353.0</td>\n",
       "    </tr>\n",
       "    <tr>\n",
       "      <th>3</th>\n",
       "      <td>22777758.0</td>\n",
       "      <td>22569255.0</td>\n",
       "      <td>32076630.0</td>\n",
       "      <td>4928307.0</td>\n",
       "    </tr>\n",
       "    <tr>\n",
       "      <th>4</th>\n",
       "      <td>14262842.0</td>\n",
       "      <td>14132485.0</td>\n",
       "      <td>20081881.0</td>\n",
       "      <td>3089925.0</td>\n",
       "    </tr>\n",
       "    <tr>\n",
       "      <th>...</th>\n",
       "      <td>...</td>\n",
       "      <td>...</td>\n",
       "      <td>...</td>\n",
       "      <td>...</td>\n",
       "    </tr>\n",
       "    <tr>\n",
       "      <th>4995</th>\n",
       "      <td>19504698.0</td>\n",
       "      <td>19326230.0</td>\n",
       "      <td>27465304.0</td>\n",
       "      <td>4222806.0</td>\n",
       "    </tr>\n",
       "    <tr>\n",
       "      <th>4996</th>\n",
       "      <td>28625049.0</td>\n",
       "      <td>28363165.0</td>\n",
       "      <td>40309242.0</td>\n",
       "      <td>6195443.0</td>\n",
       "    </tr>\n",
       "    <tr>\n",
       "      <th>4997</th>\n",
       "      <td>18518538.0</td>\n",
       "      <td>18349030.0</td>\n",
       "      <td>26078048.0</td>\n",
       "      <td>4007550.0</td>\n",
       "    </tr>\n",
       "    <tr>\n",
       "      <th>4998</th>\n",
       "      <td>17865029.0</td>\n",
       "      <td>17701480.0</td>\n",
       "      <td>25156951.0</td>\n",
       "      <td>3866898.0</td>\n",
       "    </tr>\n",
       "    <tr>\n",
       "      <th>4999</th>\n",
       "      <td>22180211.0</td>\n",
       "      <td>21977300.0</td>\n",
       "      <td>31233035.0</td>\n",
       "      <td>4801030.0</td>\n",
       "    </tr>\n",
       "  </tbody>\n",
       "</table>\n",
       "<p>5000 rows × 4 columns</p>\n",
       "</div>"
      ],
      "text/plain": [
       "             Пол     Возраст    Зарплата  Члены семьи\n",
       "0     27099671.0  26851825.0  38159001.0    5867671.0\n",
       "1     20767689.0  20577865.0  29240226.0    4500527.0\n",
       "2     11478180.0  11373325.0  16160078.0    2488353.0\n",
       "3     22777758.0  22569255.0  32076630.0    4928307.0\n",
       "4     14262842.0  14132485.0  20081881.0    3089925.0\n",
       "...          ...         ...         ...          ...\n",
       "4995  19504698.0  19326230.0  27465304.0    4222806.0\n",
       "4996  28625049.0  28363165.0  40309242.0    6195443.0\n",
       "4997  18518538.0  18349030.0  26078048.0    4007550.0\n",
       "4998  17865029.0  17701480.0  25156951.0    3866898.0\n",
       "4999  22180211.0  21977300.0  31233035.0    4801030.0\n",
       "\n",
       "[5000 rows x 4 columns]"
      ]
     },
     "execution_count": 6,
     "metadata": {},
     "output_type": "execute_result"
    }
   ],
   "source": [
    "features = df.drop('Страховые выплаты', axis=1)\n",
    "target = df['Страховые выплаты']\n",
    "\n",
    "features_encoded, encode_key = encode(features)\n",
    "\n",
    "features_encoded"
   ]
  },
  {
   "cell_type": "markdown",
   "metadata": {},
   "source": [
    "**Матрица преобразована.**"
   ]
  },
  {
   "cell_type": "markdown",
   "metadata": {},
   "source": [
    "Создадим функцию, которая принимает в виде аргументов: `признаки`, `целевой признак` и `модель обучения`.\n",
    "\n",
    "> Внутри функции разделение матрицы на тестовую и тренировочную выборку в соотношении 4 к 1, обучает модель на выборках и показывает метрики качества модели - как на тренировочной, так и на тестовой."
   ]
  },
  {
   "cell_type": "code",
   "execution_count": 7,
   "metadata": {},
   "outputs": [],
   "source": [
    "def check_r2(features, target, model=LinearRegression()):\n",
    "    \n",
    "    train_features, test_features, train_target, test_target = train_test_split(features,\n",
    "                                                                                target,\n",
    "                                                                                test_size=0.2,\n",
    "                                                                                random_state=12345)\n",
    "    \n",
    "    model = model\n",
    "    model.fit(train_features, train_target)\n",
    "    \n",
    "    train_predicted = model.predict(train_features)\n",
    "    test_predicted = model.predict(test_features)\n",
    "    \n",
    "    train_score = r2_score(train_target, train_predicted)\n",
    "    test_score = r2_score(test_target, test_predicted)\n",
    "    \n",
    "    print('Метрика R2 на тренировочной выборке:', round(train_score, 4), \n",
    "          '\\nМетрика R2 на тестовой выборке:', round(test_score, 4))"
   ]
  },
  {
   "cell_type": "markdown",
   "metadata": {},
   "source": [
    "Проверим не преобразованный датасет:"
   ]
  },
  {
   "cell_type": "code",
   "execution_count": 8,
   "metadata": {},
   "outputs": [
    {
     "name": "stdout",
     "output_type": "stream",
     "text": [
      "Метрика R2 на тренировочной выборке: 0.4273 \n",
      "Метрика R2 на тестовой выборке: 0.4118\n"
     ]
    }
   ],
   "source": [
    "check_r2(features, target)"
   ]
  },
  {
   "cell_type": "markdown",
   "metadata": {},
   "source": [
    "Проверим шифрованный:"
   ]
  },
  {
   "cell_type": "code",
   "execution_count": 9,
   "metadata": {},
   "outputs": [
    {
     "name": "stdout",
     "output_type": "stream",
     "text": [
      "Метрика R2 на тренировочной выборке: 0.4273 \n",
      "Метрика R2 на тестовой выборке: 0.4118\n"
     ]
    }
   ],
   "source": [
    "check_r2(features_encoded, target)"
   ]
  },
  {
   "cell_type": "markdown",
   "metadata": {},
   "source": [
    "## Вывод"
   ]
  },
  {
   "cell_type": "markdown",
   "metadata": {},
   "source": [
    "Метрики качества моделей до и после преобразования не изменились.\n",
    "\n",
    "Функцией `encode`, можно защитить данные клиентов страховой компании «Хоть потоп». При этом качество модели не будет меняться."
   ]
  },
  {
   "cell_type": "markdown",
   "metadata": {},
   "source": [
    "## Чек-лист проверки"
   ]
  },
  {
   "cell_type": "markdown",
   "metadata": {},
   "source": [
    "Поставьте 'x' в выполненных пунктах. Далее нажмите Shift+Enter."
   ]
  },
  {
   "cell_type": "markdown",
   "metadata": {},
   "source": [
    "- [x]  Jupyter Notebook открыт\n",
    "- [x]  Весь код выполняется без ошибок\n",
    "- [x]  Ячейки с кодом расположены в порядке исполнения\n",
    "- [x]  Выполнен шаг 1: данные загружены\n",
    "- [x]  Выполнен шаг 2: получен ответ на вопрос об умножении матриц\n",
    "    - [x]  Указан правильный вариант ответа\n",
    "    - [x]  Вариант обоснован\n",
    "- [x]  Выполнен шаг 3: предложен алгоритм преобразования\n",
    "    - [x]  Алгоритм описан\n",
    "    - [x]  Алгоритм обоснован\n",
    "- [x]  Выполнен шаг 4: алгоритм проверен\n",
    "    - [x]  Алгоритм реализован\n",
    "    - [x]  Проведено сравнение качества моделей до и после преобразования"
   ]
  }
 ],
 "metadata": {
  "ExecuteTimeLog": [
   {
    "duration": 124,
    "start_time": "2022-04-25T17:55:19.945Z"
   },
   {
    "duration": 2424,
    "start_time": "2022-04-25T17:55:22.620Z"
   },
   {
    "duration": 42,
    "start_time": "2022-04-25T17:55:46.358Z"
   },
   {
    "duration": 19,
    "start_time": "2022-04-25T17:55:54.512Z"
   },
   {
    "duration": 6,
    "start_time": "2022-04-25T17:56:13.696Z"
   },
   {
    "duration": 2384,
    "start_time": "2022-04-26T10:23:00.723Z"
   },
   {
    "duration": 30,
    "start_time": "2022-04-26T10:23:04.303Z"
   },
   {
    "duration": 26,
    "start_time": "2022-04-26T10:23:05.767Z"
   },
   {
    "duration": 187,
    "start_time": "2022-04-26T11:11:50.910Z"
   },
   {
    "duration": 5,
    "start_time": "2022-04-26T11:11:56.960Z"
   },
   {
    "duration": 12,
    "start_time": "2022-04-26T11:12:00.363Z"
   },
   {
    "duration": 8,
    "start_time": "2022-04-26T11:12:07.664Z"
   },
   {
    "duration": 6,
    "start_time": "2022-04-26T11:12:09.686Z"
   },
   {
    "duration": 10,
    "start_time": "2022-04-26T11:12:10.561Z"
   },
   {
    "duration": 7,
    "start_time": "2022-04-26T11:12:11.171Z"
   },
   {
    "duration": 12,
    "start_time": "2022-04-26T11:12:19.362Z"
   },
   {
    "duration": 5,
    "start_time": "2022-04-26T11:12:45.990Z"
   },
   {
    "duration": 7,
    "start_time": "2022-04-26T11:12:48.261Z"
   },
   {
    "duration": 13,
    "start_time": "2022-04-26T11:12:51.961Z"
   },
   {
    "duration": 6,
    "start_time": "2022-04-26T11:12:52.494Z"
   },
   {
    "duration": 5,
    "start_time": "2022-04-26T11:12:55.493Z"
   },
   {
    "duration": 6,
    "start_time": "2022-04-26T11:12:56.561Z"
   },
   {
    "duration": 802,
    "start_time": "2022-04-26T11:13:05.760Z"
   },
   {
    "duration": 881,
    "start_time": "2022-04-26T11:13:38.077Z"
   },
   {
    "duration": 11,
    "start_time": "2022-04-26T11:14:12.908Z"
   },
   {
    "duration": 1753,
    "start_time": "2022-04-26T11:14:19.477Z"
   },
   {
    "duration": 1774,
    "start_time": "2022-04-26T11:14:28.277Z"
   },
   {
    "duration": 7,
    "start_time": "2022-04-26T11:14:54.470Z"
   },
   {
    "duration": 214,
    "start_time": "2022-04-26T11:15:28.477Z"
   },
   {
    "duration": 8,
    "start_time": "2022-04-26T11:15:31.959Z"
   },
   {
    "duration": 5,
    "start_time": "2022-04-26T11:15:40.577Z"
   },
   {
    "duration": 5,
    "start_time": "2022-04-26T11:17:13.825Z"
   },
   {
    "duration": 8,
    "start_time": "2022-04-26T11:17:16.158Z"
   },
   {
    "duration": 6,
    "start_time": "2022-04-26T11:17:17.976Z"
   },
   {
    "duration": 5,
    "start_time": "2022-04-26T11:17:18.578Z"
   },
   {
    "duration": 5,
    "start_time": "2022-04-26T11:17:51.632Z"
   },
   {
    "duration": 12,
    "start_time": "2022-04-26T11:18:08.774Z"
   },
   {
    "duration": 6,
    "start_time": "2022-04-26T11:18:14.512Z"
   },
   {
    "duration": 15,
    "start_time": "2022-04-26T11:18:21.937Z"
   },
   {
    "duration": 7,
    "start_time": "2022-04-26T11:18:24.871Z"
   },
   {
    "duration": 5,
    "start_time": "2022-04-26T11:19:02.911Z"
   },
   {
    "duration": 248,
    "start_time": "2022-04-26T11:19:05.955Z"
   },
   {
    "duration": 4,
    "start_time": "2022-04-26T11:19:16.701Z"
   },
   {
    "duration": 306,
    "start_time": "2022-04-26T11:19:17.359Z"
   },
   {
    "duration": 321,
    "start_time": "2022-04-26T11:19:23.318Z"
   },
   {
    "duration": 223,
    "start_time": "2022-04-26T11:19:25.413Z"
   },
   {
    "duration": 300,
    "start_time": "2022-04-26T11:20:07.656Z"
   },
   {
    "duration": 586,
    "start_time": "2022-04-26T11:20:08.628Z"
   },
   {
    "duration": 5,
    "start_time": "2022-04-26T11:20:15.256Z"
   },
   {
    "duration": 6,
    "start_time": "2022-04-26T11:20:16.080Z"
   },
   {
    "duration": 4,
    "start_time": "2022-04-26T11:20:24.734Z"
   },
   {
    "duration": 6,
    "start_time": "2022-04-26T11:20:25.324Z"
   },
   {
    "duration": 4,
    "start_time": "2022-04-26T11:29:14.599Z"
   },
   {
    "duration": 6,
    "start_time": "2022-04-26T11:29:17.831Z"
   },
   {
    "duration": 5,
    "start_time": "2022-04-26T11:29:23.555Z"
   },
   {
    "duration": 3,
    "start_time": "2022-04-26T11:29:24.183Z"
   },
   {
    "duration": 5,
    "start_time": "2022-04-26T11:29:24.799Z"
   },
   {
    "duration": 15,
    "start_time": "2022-04-26T11:30:45.554Z"
   },
   {
    "duration": 6,
    "start_time": "2022-04-26T11:30:49.050Z"
   },
   {
    "duration": 6,
    "start_time": "2022-04-26T11:30:55.316Z"
   },
   {
    "duration": 7,
    "start_time": "2022-04-26T11:31:05.262Z"
   },
   {
    "duration": 3,
    "start_time": "2022-04-26T11:31:11.092Z"
   },
   {
    "duration": 6,
    "start_time": "2022-04-26T11:31:17.872Z"
   },
   {
    "duration": 5,
    "start_time": "2022-04-26T11:31:55.550Z"
   },
   {
    "duration": 5,
    "start_time": "2022-04-26T12:13:49.858Z"
   },
   {
    "duration": 296,
    "start_time": "2022-04-26T12:20:25.569Z"
   },
   {
    "duration": 4,
    "start_time": "2022-04-26T12:21:22.615Z"
   },
   {
    "duration": 4,
    "start_time": "2022-04-26T12:21:35.761Z"
   },
   {
    "duration": 200,
    "start_time": "2022-04-26T12:21:53.033Z"
   },
   {
    "duration": 197,
    "start_time": "2022-04-26T12:22:09.725Z"
   },
   {
    "duration": 194,
    "start_time": "2022-04-26T12:22:12.621Z"
   },
   {
    "duration": 195,
    "start_time": "2022-04-26T12:22:14.664Z"
   },
   {
    "duration": 8,
    "start_time": "2022-04-26T12:23:20.068Z"
   },
   {
    "duration": 7,
    "start_time": "2022-04-26T12:41:51.877Z"
   },
   {
    "duration": 6,
    "start_time": "2022-04-26T12:42:07.646Z"
   },
   {
    "duration": 6,
    "start_time": "2022-04-26T12:42:24.146Z"
   },
   {
    "duration": 5,
    "start_time": "2022-04-26T12:42:27.299Z"
   },
   {
    "duration": 4,
    "start_time": "2022-04-26T12:42:33.372Z"
   },
   {
    "duration": 8,
    "start_time": "2022-04-26T12:42:37.451Z"
   },
   {
    "duration": 7,
    "start_time": "2022-04-26T12:42:43.283Z"
   },
   {
    "duration": 6,
    "start_time": "2022-04-26T12:42:50.795Z"
   },
   {
    "duration": 190,
    "start_time": "2022-04-26T12:43:42.377Z"
   },
   {
    "duration": 1394,
    "start_time": "2022-04-26T12:43:49.433Z"
   },
   {
    "duration": 4,
    "start_time": "2022-04-26T12:43:53.847Z"
   },
   {
    "duration": 1562,
    "start_time": "2022-04-26T12:44:00.046Z"
   },
   {
    "duration": 9,
    "start_time": "2022-04-26T12:44:04.832Z"
   },
   {
    "duration": 5,
    "start_time": "2022-04-26T12:44:07.547Z"
   },
   {
    "duration": 5,
    "start_time": "2022-04-26T12:44:10.466Z"
   },
   {
    "duration": 5,
    "start_time": "2022-04-26T12:44:16.321Z"
   },
   {
    "duration": 6,
    "start_time": "2022-04-26T12:44:21.273Z"
   },
   {
    "duration": 4,
    "start_time": "2022-04-26T12:44:27.746Z"
   },
   {
    "duration": 6,
    "start_time": "2022-04-26T12:44:57.452Z"
   },
   {
    "duration": 4,
    "start_time": "2022-04-26T12:47:27.811Z"
   },
   {
    "duration": 9,
    "start_time": "2022-04-26T12:47:46.116Z"
   },
   {
    "duration": 6,
    "start_time": "2022-04-26T12:47:50.003Z"
   },
   {
    "duration": 9,
    "start_time": "2022-04-26T12:47:56.483Z"
   },
   {
    "duration": 87,
    "start_time": "2022-04-26T12:48:07.255Z"
   },
   {
    "duration": 15,
    "start_time": "2022-04-26T12:48:09.810Z"
   },
   {
    "duration": 4,
    "start_time": "2022-04-26T12:48:33.987Z"
   },
   {
    "duration": 7,
    "start_time": "2022-04-26T12:48:34.705Z"
   },
   {
    "duration": 14,
    "start_time": "2022-04-26T12:48:48.233Z"
   },
   {
    "duration": 9,
    "start_time": "2022-04-26T12:48:58.257Z"
   },
   {
    "duration": 4,
    "start_time": "2022-04-26T12:51:59.115Z"
   },
   {
    "duration": 7,
    "start_time": "2022-04-26T12:52:00.419Z"
   },
   {
    "duration": 7,
    "start_time": "2022-04-26T12:52:05.507Z"
   },
   {
    "duration": 80,
    "start_time": "2022-04-26T12:52:09.766Z"
   },
   {
    "duration": 19,
    "start_time": "2022-04-26T12:53:17.320Z"
   },
   {
    "duration": 4,
    "start_time": "2022-04-26T12:54:23.064Z"
   },
   {
    "duration": 14,
    "start_time": "2022-04-26T12:54:23.816Z"
   },
   {
    "duration": 5,
    "start_time": "2022-04-26T12:55:04.815Z"
   },
   {
    "duration": 12,
    "start_time": "2022-04-26T12:55:05.374Z"
   },
   {
    "duration": 4,
    "start_time": "2022-04-26T12:55:31.422Z"
   },
   {
    "duration": 20,
    "start_time": "2022-04-26T12:55:31.990Z"
   },
   {
    "duration": 4,
    "start_time": "2022-04-26T12:57:39.834Z"
   },
   {
    "duration": 3,
    "start_time": "2022-04-26T12:57:50.810Z"
   },
   {
    "duration": 11,
    "start_time": "2022-04-26T12:57:52.888Z"
   },
   {
    "duration": 4,
    "start_time": "2022-04-26T12:58:16.289Z"
   },
   {
    "duration": 11,
    "start_time": "2022-04-26T12:58:32.017Z"
   },
   {
    "duration": 11,
    "start_time": "2022-04-26T12:58:45.529Z"
   },
   {
    "duration": 11,
    "start_time": "2022-04-26T12:58:48.112Z"
   },
   {
    "duration": 17,
    "start_time": "2022-04-26T12:58:50.472Z"
   },
   {
    "duration": 5,
    "start_time": "2022-04-26T12:59:08.245Z"
   },
   {
    "duration": 4,
    "start_time": "2022-04-26T12:59:09.632Z"
   },
   {
    "duration": 80,
    "start_time": "2022-04-26T12:59:10.064Z"
   },
   {
    "duration": 9,
    "start_time": "2022-04-26T12:59:44.207Z"
   },
   {
    "duration": 20,
    "start_time": "2022-04-26T12:59:54.822Z"
   },
   {
    "duration": 5,
    "start_time": "2022-04-26T13:00:31.133Z"
   },
   {
    "duration": 3,
    "start_time": "2022-04-26T13:00:32.120Z"
   },
   {
    "duration": 86,
    "start_time": "2022-04-26T13:00:32.550Z"
   },
   {
    "duration": 14,
    "start_time": "2022-04-26T13:00:34.763Z"
   },
   {
    "duration": 16,
    "start_time": "2022-04-26T13:00:53.157Z"
   },
   {
    "duration": 18,
    "start_time": "2022-04-26T13:01:35.189Z"
   },
   {
    "duration": 16,
    "start_time": "2022-04-26T13:01:36.899Z"
   },
   {
    "duration": 61,
    "start_time": "2022-04-26T13:01:42.676Z"
   },
   {
    "duration": 17,
    "start_time": "2022-04-26T13:01:44.067Z"
   },
   {
    "duration": 9,
    "start_time": "2022-04-26T13:04:01.265Z"
   },
   {
    "duration": 7,
    "start_time": "2022-04-26T13:04:08.157Z"
   },
   {
    "duration": 10,
    "start_time": "2022-04-26T13:04:19.296Z"
   },
   {
    "duration": 10,
    "start_time": "2022-04-26T13:05:06.142Z"
   },
   {
    "duration": 87,
    "start_time": "2022-04-26T13:06:59.547Z"
   },
   {
    "duration": 4,
    "start_time": "2022-04-26T13:32:52.360Z"
   },
   {
    "duration": 10,
    "start_time": "2022-04-26T13:34:29.757Z"
   },
   {
    "duration": 5,
    "start_time": "2022-04-26T13:34:45.316Z"
   },
   {
    "duration": 12,
    "start_time": "2022-04-26T13:34:52.229Z"
   },
   {
    "duration": 172,
    "start_time": "2022-04-26T13:35:09.862Z"
   },
   {
    "duration": 5,
    "start_time": "2022-04-26T13:36:07.066Z"
   },
   {
    "duration": 5,
    "start_time": "2022-04-26T13:36:08.258Z"
   },
   {
    "duration": 13,
    "start_time": "2022-04-26T13:36:08.907Z"
   },
   {
    "duration": 20,
    "start_time": "2022-04-26T13:36:12.075Z"
   },
   {
    "duration": 5,
    "start_time": "2022-04-26T13:36:25.450Z"
   },
   {
    "duration": 17,
    "start_time": "2022-04-26T13:36:28.113Z"
   },
   {
    "duration": 99,
    "start_time": "2022-04-26T13:36:41.937Z"
   },
   {
    "duration": 5,
    "start_time": "2022-04-26T13:37:11.210Z"
   },
   {
    "duration": 7,
    "start_time": "2022-04-26T13:37:38.552Z"
   },
   {
    "duration": 15,
    "start_time": "2022-04-26T13:37:50.143Z"
   },
   {
    "duration": 8,
    "start_time": "2022-04-26T13:39:15.150Z"
   },
   {
    "duration": 15,
    "start_time": "2022-04-26T13:39:15.968Z"
   },
   {
    "duration": 14,
    "start_time": "2022-04-26T13:39:18.724Z"
   },
   {
    "duration": 7,
    "start_time": "2022-04-26T13:40:11.827Z"
   },
   {
    "duration": 20,
    "start_time": "2022-04-26T13:40:13.331Z"
   },
   {
    "duration": 5,
    "start_time": "2022-04-26T13:40:33.579Z"
   },
   {
    "duration": 13,
    "start_time": "2022-04-26T13:40:34.208Z"
   },
   {
    "duration": 15,
    "start_time": "2022-04-26T13:40:35.610Z"
   },
   {
    "duration": 32,
    "start_time": "2022-04-26T13:40:40.715Z"
   },
   {
    "duration": 14,
    "start_time": "2022-04-26T13:40:43.866Z"
   },
   {
    "duration": 27,
    "start_time": "2022-04-26T13:42:26.408Z"
   },
   {
    "duration": 14,
    "start_time": "2022-04-26T13:42:32.263Z"
   },
   {
    "duration": 4,
    "start_time": "2022-04-26T13:48:10.614Z"
   },
   {
    "duration": 5,
    "start_time": "2022-04-26T13:48:11.326Z"
   },
   {
    "duration": 16,
    "start_time": "2022-04-26T13:48:13.846Z"
   },
   {
    "duration": 32,
    "start_time": "2022-04-26T13:48:15.806Z"
   },
   {
    "duration": 18,
    "start_time": "2022-04-26T13:48:17.245Z"
   },
   {
    "duration": 14,
    "start_time": "2022-04-26T13:48:29.845Z"
   },
   {
    "duration": 4,
    "start_time": "2022-04-26T13:51:23.146Z"
   },
   {
    "duration": 10,
    "start_time": "2022-04-26T13:51:24.816Z"
   },
   {
    "duration": 4,
    "start_time": "2022-04-26T13:51:37.705Z"
   },
   {
    "duration": 15,
    "start_time": "2022-04-26T13:51:38.872Z"
   },
   {
    "duration": 5,
    "start_time": "2022-04-26T13:51:42.777Z"
   },
   {
    "duration": 5,
    "start_time": "2022-04-26T13:51:45.049Z"
   },
   {
    "duration": 13,
    "start_time": "2022-04-26T13:51:46.193Z"
   },
   {
    "duration": 15,
    "start_time": "2022-04-26T13:51:47.784Z"
   },
   {
    "duration": 10,
    "start_time": "2022-04-26T13:51:48.800Z"
   },
   {
    "duration": 17,
    "start_time": "2022-04-26T13:51:54.231Z"
   },
   {
    "duration": 16,
    "start_time": "2022-04-26T13:51:56.216Z"
   },
   {
    "duration": 18,
    "start_time": "2022-04-26T13:52:52.174Z"
   },
   {
    "duration": 18,
    "start_time": "2022-04-26T13:52:54.910Z"
   },
   {
    "duration": 52,
    "start_time": "2022-04-26T13:53:06.182Z"
   },
   {
    "duration": 18,
    "start_time": "2022-04-26T13:53:09.694Z"
   },
   {
    "duration": 16,
    "start_time": "2022-04-26T13:53:21.198Z"
   },
   {
    "duration": 2717,
    "start_time": "2022-04-26T15:58:22.507Z"
   },
   {
    "duration": 40,
    "start_time": "2022-04-26T15:58:25.228Z"
   },
   {
    "duration": 6,
    "start_time": "2022-04-26T15:58:30.856Z"
   },
   {
    "duration": 173,
    "start_time": "2022-04-26T15:58:33.827Z"
   },
   {
    "duration": 7,
    "start_time": "2022-04-26T15:58:37.378Z"
   },
   {
    "duration": 7,
    "start_time": "2022-04-26T15:58:40.370Z"
   },
   {
    "duration": 19,
    "start_time": "2022-04-26T15:58:41.141Z"
   },
   {
    "duration": 20,
    "start_time": "2022-04-26T15:58:43.729Z"
   },
   {
    "duration": 88,
    "start_time": "2022-04-26T15:58:48.006Z"
   },
   {
    "duration": 18,
    "start_time": "2022-04-26T15:58:49.919Z"
   },
   {
    "duration": 194,
    "start_time": "2022-04-26T15:59:49.336Z"
   },
   {
    "duration": 24,
    "start_time": "2022-04-26T16:00:04.715Z"
   },
   {
    "duration": 58,
    "start_time": "2022-04-26T16:03:46.179Z"
   },
   {
    "duration": 19,
    "start_time": "2022-04-26T16:03:57.549Z"
   },
   {
    "duration": 103,
    "start_time": "2022-04-26T16:04:06.306Z"
   },
   {
    "duration": 122,
    "start_time": "2022-04-26T16:06:54.122Z"
   },
   {
    "duration": 10,
    "start_time": "2022-04-26T16:07:00.939Z"
   },
   {
    "duration": 23,
    "start_time": "2022-04-26T16:07:07.828Z"
   },
   {
    "duration": 14,
    "start_time": "2022-04-26T16:07:18.553Z"
   },
   {
    "duration": 14,
    "start_time": "2022-04-26T16:07:27.381Z"
   },
   {
    "duration": 11,
    "start_time": "2022-04-26T16:07:39.622Z"
   },
   {
    "duration": 21,
    "start_time": "2022-04-26T16:08:36.737Z"
   },
   {
    "duration": 29,
    "start_time": "2022-04-26T16:13:55.327Z"
   },
   {
    "duration": 20,
    "start_time": "2022-04-26T16:14:23.432Z"
   },
   {
    "duration": 22,
    "start_time": "2022-04-26T16:16:18.681Z"
   },
   {
    "duration": 199,
    "start_time": "2022-04-26T16:18:58.466Z"
   },
   {
    "duration": 6,
    "start_time": "2022-04-26T16:19:06.451Z"
   },
   {
    "duration": 7,
    "start_time": "2022-04-26T16:19:07.219Z"
   },
   {
    "duration": 72,
    "start_time": "2022-04-26T16:19:15.211Z"
   },
   {
    "duration": 6,
    "start_time": "2022-04-26T16:22:53.407Z"
   },
   {
    "duration": 110,
    "start_time": "2022-04-26T16:23:23.386Z"
   },
   {
    "duration": 89,
    "start_time": "2022-04-26T16:23:30.197Z"
   },
   {
    "duration": 9,
    "start_time": "2022-04-26T16:31:51.805Z"
   },
   {
    "duration": 7,
    "start_time": "2022-04-26T16:31:55.137Z"
   },
   {
    "duration": 15,
    "start_time": "2022-04-26T16:41:42.757Z"
   },
   {
    "duration": 278,
    "start_time": "2022-04-26T16:42:26.913Z"
   },
   {
    "duration": 293,
    "start_time": "2022-04-26T16:42:37.635Z"
   },
   {
    "duration": 399,
    "start_time": "2022-04-26T16:46:27.418Z"
   },
   {
    "duration": 17,
    "start_time": "2022-04-26T16:47:15.306Z"
   },
   {
    "duration": 16,
    "start_time": "2022-04-26T16:47:22.127Z"
   },
   {
    "duration": 863,
    "start_time": "2022-04-26T16:47:26.860Z"
   },
   {
    "duration": 492,
    "start_time": "2022-04-26T16:47:32.758Z"
   },
   {
    "duration": 16,
    "start_time": "2022-04-26T16:48:00.727Z"
   },
   {
    "duration": 19,
    "start_time": "2022-04-26T16:48:05.667Z"
   },
   {
    "duration": 26,
    "start_time": "2022-04-26T16:48:14.376Z"
   },
   {
    "duration": 2870,
    "start_time": "2022-04-26T16:50:00.067Z"
   },
   {
    "duration": 2009,
    "start_time": "2022-04-26T16:50:20.666Z"
   },
   {
    "duration": 1511,
    "start_time": "2022-04-26T16:50:31.506Z"
   },
   {
    "duration": 2326,
    "start_time": "2022-04-26T16:51:17.066Z"
   },
   {
    "duration": 1482,
    "start_time": "2022-04-26T16:51:32.041Z"
   },
   {
    "duration": 7,
    "start_time": "2022-04-26T16:55:01.120Z"
   },
   {
    "duration": 28,
    "start_time": "2022-04-26T16:55:10.687Z"
   },
   {
    "duration": 7,
    "start_time": "2022-04-26T16:57:50.152Z"
   },
   {
    "duration": 62,
    "start_time": "2022-04-26T16:59:01.529Z"
   },
   {
    "duration": 7,
    "start_time": "2022-04-26T17:01:57.400Z"
   },
   {
    "duration": 114,
    "start_time": "2022-04-26T17:02:19.975Z"
   },
   {
    "duration": 25,
    "start_time": "2022-04-26T17:02:33.793Z"
   },
   {
    "duration": 9,
    "start_time": "2022-04-26T17:03:21.913Z"
   },
   {
    "duration": 135,
    "start_time": "2022-04-26T17:03:23.165Z"
   },
   {
    "duration": 53,
    "start_time": "2022-04-26T17:03:25.239Z"
   },
   {
    "duration": 2152,
    "start_time": "2022-04-26T17:03:37.012Z"
   },
   {
    "duration": 33,
    "start_time": "2022-04-26T17:03:39.167Z"
   },
   {
    "duration": 20,
    "start_time": "2022-04-26T17:03:39.203Z"
   },
   {
    "duration": 1475,
    "start_time": "2022-04-26T17:03:39.227Z"
   },
   {
    "duration": 10,
    "start_time": "2022-04-26T17:03:40.705Z"
   },
   {
    "duration": 88,
    "start_time": "2022-04-26T17:03:40.719Z"
   },
   {
    "duration": 15,
    "start_time": "2022-04-26T17:03:40.810Z"
   },
   {
    "duration": 173,
    "start_time": "2022-04-26T17:03:40.829Z"
   },
   {
    "duration": 111,
    "start_time": "2022-04-26T17:03:41.013Z"
   },
   {
    "duration": 2327,
    "start_time": "2022-04-26T17:06:41.136Z"
   },
   {
    "duration": 39,
    "start_time": "2022-04-26T17:06:43.466Z"
   },
   {
    "duration": 20,
    "start_time": "2022-04-26T17:06:43.510Z"
   },
   {
    "duration": 2004,
    "start_time": "2022-04-26T17:06:43.533Z"
   },
   {
    "duration": 11,
    "start_time": "2022-04-26T17:06:45.542Z"
   },
   {
    "duration": 54,
    "start_time": "2022-04-26T17:06:45.556Z"
   },
   {
    "duration": 110,
    "start_time": "2022-04-26T17:06:45.617Z"
   },
   {
    "duration": 54,
    "start_time": "2022-04-26T17:06:45.730Z"
   },
   {
    "duration": 105,
    "start_time": "2022-04-26T17:06:45.787Z"
   },
   {
    "duration": 10,
    "start_time": "2022-04-26T17:06:47.704Z"
   },
   {
    "duration": 1899,
    "start_time": "2022-04-26T17:06:51.743Z"
   },
   {
    "duration": 28,
    "start_time": "2022-04-26T17:06:53.645Z"
   },
   {
    "duration": 25,
    "start_time": "2022-04-26T17:06:53.675Z"
   },
   {
    "duration": 1314,
    "start_time": "2022-04-26T17:06:53.702Z"
   },
   {
    "duration": 9,
    "start_time": "2022-04-26T17:06:55.020Z"
   },
   {
    "duration": 65,
    "start_time": "2022-04-26T17:06:55.031Z"
   },
   {
    "duration": 79,
    "start_time": "2022-04-26T17:06:55.112Z"
   },
   {
    "duration": 108,
    "start_time": "2022-04-26T17:06:55.196Z"
   },
   {
    "duration": 112,
    "start_time": "2022-04-26T17:06:55.307Z"
   }
  ],
  "kernelspec": {
   "display_name": "Python 3 (ipykernel)",
   "language": "python",
   "name": "python3"
  },
  "language_info": {
   "codemirror_mode": {
    "name": "ipython",
    "version": 3
   },
   "file_extension": ".py",
   "mimetype": "text/x-python",
   "name": "python",
   "nbconvert_exporter": "python",
   "pygments_lexer": "ipython3",
   "version": "3.9.5"
  },
  "toc": {
   "base_numbering": 1,
   "nav_menu": {},
   "number_sections": true,
   "sideBar": true,
   "skip_h1_title": true,
   "title_cell": "Содержание",
   "title_sidebar": "Contents",
   "toc_cell": true,
   "toc_position": {},
   "toc_section_display": true,
   "toc_window_display": true
  }
 },
 "nbformat": 4,
 "nbformat_minor": 2
}
