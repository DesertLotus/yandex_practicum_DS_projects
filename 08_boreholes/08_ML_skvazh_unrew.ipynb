{
 "cells": [
  {
   "cell_type": "markdown",
   "metadata": {},
   "source": [
    "# Выбор локации для скважины"
   ]
  },
  {
   "cell_type": "markdown",
   "metadata": {},
   "source": [
    "Допустим, вы работаете в добывающей компании «ГлавРосГосНефть». Нужно решить, где бурить новую скважину.\n",
    "\n",
    "Вам предоставлены пробы нефти в трёх регионах: в каждом 10 000 месторождений, где измерили качество нефти и объём её запасов. Постройте модель машинного обучения, которая поможет определить регион, где добыча принесёт наибольшую прибыль. Проанализируйте возможную прибыль и риски техникой *Bootstrap.*\n",
    "\n",
    "Шаги для выбора локации:\n",
    "\n",
    "- В избранном регионе ищут месторождения, для каждого определяют значения признаков;\n",
    "- Строят модель и оценивают объём запасов;\n",
    "- Выбирают месторождения с самым высокими оценками значений. Количество месторождений зависит от бюджета компании и стоимости разработки одной скважины;\n",
    "- Прибыль равна суммарной прибыли отобранных месторождений."
   ]
  },
  {
   "cell_type": "markdown",
   "metadata": {},
   "source": [
    "## Загрузка и подготовка данных"
   ]
  },
  {
   "cell_type": "markdown",
   "metadata": {},
   "source": [
    "Импортируем необходимые библиотеки:"
   ]
  },
  {
   "cell_type": "code",
   "execution_count": 1,
   "metadata": {},
   "outputs": [
    {
     "name": "stderr",
     "output_type": "stream",
     "text": [
      "/opt/conda/lib/python3.7/site-packages/statsmodels/tools/_testing.py:19: FutureWarning: pandas.util.testing is deprecated. Use the functions in the public API at pandas.testing instead.\n",
      "  import pandas.util.testing as tm\n"
     ]
    }
   ],
   "source": [
    "import pandas as pd # импорт библиотеки pandas \n",
    "import matplotlib.pyplot as plt # импорт библиотеки matplotlib\n",
    "plt.style.use('seaborn-pastel')\n",
    "import seaborn as sns # импорт библиотеки seaborn\n",
    "import numpy as np # импорт библиотеки nump\n",
    "from scipy import stats as st # импорт библиотеки scipy\n",
    "from sklearn.linear_model import LinearRegression # импорт линейной регрессии\n",
    "from sklearn.metrics import mean_squared_error \n",
    "from sklearn.model_selection import train_test_split # импорт разделителя\n",
    "from sklearn.utils import shuffle # импорт шаффла для перемешивания\n",
    "\n",
    "import sweetviz as sv\n",
    "%matplotlib inline"
   ]
  },
  {
   "cell_type": "markdown",
   "metadata": {},
   "source": [
    "Загрузим данные и создадим список ключей:"
   ]
  },
  {
   "cell_type": "code",
   "execution_count": 2,
   "metadata": {},
   "outputs": [],
   "source": [
    "reg_1 = pd.read_csv('/datasets/geo_data_0.csv')\n",
    "reg_2 = pd.read_csv('/datasets/geo_data_1.csv')\n",
    "reg_3 = pd.read_csv('/datasets/geo_data_2.csv')\n",
    "\n",
    "region_list = {'Region 1': reg_1,\n",
    "               'Region 2': reg_2,\n",
    "               'Region 3': reg_3,}"
   ]
  },
  {
   "cell_type": "markdown",
   "metadata": {},
   "source": [
    "Изучим данные:"
   ]
  },
  {
   "cell_type": "code",
   "execution_count": 3,
   "metadata": {},
   "outputs": [
    {
     "name": "stdout",
     "output_type": "stream",
     "text": [
      "<class 'pandas.core.frame.DataFrame'>\n",
      "RangeIndex: 100000 entries, 0 to 99999\n",
      "Data columns (total 5 columns):\n",
      " #   Column   Non-Null Count   Dtype  \n",
      "---  ------   --------------   -----  \n",
      " 0   id       100000 non-null  object \n",
      " 1   f0       100000 non-null  float64\n",
      " 2   f1       100000 non-null  float64\n",
      " 3   f2       100000 non-null  float64\n",
      " 4   product  100000 non-null  float64\n",
      "dtypes: float64(4), object(1)\n",
      "memory usage: 3.8+ MB\n",
      "<class 'pandas.core.frame.DataFrame'>\n",
      "RangeIndex: 100000 entries, 0 to 99999\n",
      "Data columns (total 5 columns):\n",
      " #   Column   Non-Null Count   Dtype  \n",
      "---  ------   --------------   -----  \n",
      " 0   id       100000 non-null  object \n",
      " 1   f0       100000 non-null  float64\n",
      " 2   f1       100000 non-null  float64\n",
      " 3   f2       100000 non-null  float64\n",
      " 4   product  100000 non-null  float64\n",
      "dtypes: float64(4), object(1)\n",
      "memory usage: 3.8+ MB\n",
      "<class 'pandas.core.frame.DataFrame'>\n",
      "RangeIndex: 100000 entries, 0 to 99999\n",
      "Data columns (total 5 columns):\n",
      " #   Column   Non-Null Count   Dtype  \n",
      "---  ------   --------------   -----  \n",
      " 0   id       100000 non-null  object \n",
      " 1   f0       100000 non-null  float64\n",
      " 2   f1       100000 non-null  float64\n",
      " 3   f2       100000 non-null  float64\n",
      " 4   product  100000 non-null  float64\n",
      "dtypes: float64(4), object(1)\n",
      "memory usage: 3.8+ MB\n"
     ]
    }
   ],
   "source": [
    "for reg in region_list:\n",
    "    region_list[reg].info()"
   ]
  },
  {
   "cell_type": "markdown",
   "metadata": {},
   "source": [
    "* `id` — уникальный идентификатор скважины;\n",
    "* `f0`, `f1`, `f2` — три признака точек (неважно, что они означают, но сами признаки значимы);\n",
    "* `product` — объём запасов в скважине (тыс. баррелей).\n",
    "\n",
    "Пропусков нет, рассмотри EDA библиотеки sweetviz:"
   ]
  },
  {
   "cell_type": "code",
   "execution_count": 4,
   "metadata": {},
   "outputs": [
    {
     "data": {
      "application/vnd.jupyter.widget-view+json": {
       "model_id": "3115b2a6868245818a47eba25ed2efc1",
       "version_major": 2,
       "version_minor": 0
      },
      "text/plain": [
       "HBox(children=(HTML(value=''), FloatProgress(value=0.0, layout=Layout(flex='2'), max=6.0), HTML(value='')), la…"
      ]
     },
     "metadata": {},
     "output_type": "display_data"
    },
    {
     "name": "stdout",
     "output_type": "stream",
     "text": [
      "\n"
     ]
    },
    {
     "data": {
      "application/vnd.jupyter.widget-view+json": {
       "model_id": "1e346319ca9a49749d9e58ff688fc346",
       "version_major": 2,
       "version_minor": 0
      },
      "text/plain": [
       "HBox(children=(HTML(value=''), FloatProgress(value=0.0, layout=Layout(flex='2'), max=6.0), HTML(value='')), la…"
      ]
     },
     "metadata": {},
     "output_type": "display_data"
    },
    {
     "name": "stdout",
     "output_type": "stream",
     "text": [
      "\n"
     ]
    },
    {
     "data": {
      "application/vnd.jupyter.widget-view+json": {
       "model_id": "29e8b19e9c4f43428daae7a1f94009d1",
       "version_major": 2,
       "version_minor": 0
      },
      "text/plain": [
       "HBox(children=(HTML(value=''), FloatProgress(value=0.0, layout=Layout(flex='2'), max=6.0), HTML(value='')), la…"
      ]
     },
     "metadata": {},
     "output_type": "display_data"
    },
    {
     "name": "stdout",
     "output_type": "stream",
     "text": [
      "\n"
     ]
    }
   ],
   "source": [
    "report_reg_1 = sv.analyze([reg_1, \"Region 1\"])\n",
    "report_reg_2 = sv.analyze([reg_2, \"Region 2\"])\n",
    "report_reg_3 = sv.analyze([reg_3, \"Region 3\"])"
   ]
  },
  {
   "cell_type": "code",
   "execution_count": null,
   "metadata": {
    "scrolled": true
   },
   "outputs": [],
   "source": [
    "report_reg_1.show_notebook(w='100%', h='full', scale=0.9)"
   ]
  },
  {
   "cell_type": "code",
   "execution_count": null,
   "metadata": {},
   "outputs": [],
   "source": [
    "report_reg_2.show_notebook(w='100%', h='full', scale=0.9)"
   ]
  },
  {
   "cell_type": "code",
   "execution_count": null,
   "metadata": {
    "scrolled": true
   },
   "outputs": [],
   "source": [
    "report_reg_3.show_notebook(w='100%', h='full', scale=0.9)"
   ]
  },
  {
   "cell_type": "markdown",
   "metadata": {},
   "source": [
    "При анализе sweetviz было выявлено:\n",
    "\n",
    "* полных дубликатов нет, но есть дубликаты в столбце `id`\n",
    "* пустых значений нет\n",
    "* есть нули в значениях `product` (скважины не принесли нефть)\n",
    "* пропусков значений нет"
   ]
  },
  {
   "cell_type": "markdown",
   "metadata": {},
   "source": [
    "Изучим корреляцию между параметрами:"
   ]
  },
  {
   "cell_type": "code",
   "execution_count": null,
   "metadata": {},
   "outputs": [],
   "source": [
    "for reg in region_list:\n",
    "    plt.figure(figsize=(7, 4))\n",
    "    plt.title(f'Матрица корреляций зависимости фичей {reg}')\n",
    "    sns.heatmap(region_list[reg].corr(), annot = True, cmap='Blues')\n",
    "    plt.show()"
   ]
  },
  {
   "cell_type": "markdown",
   "metadata": {},
   "source": [
    "Во всех регионах значение `f2` коррелирует с количеством продукта. Во втором регионе это же значение прямо коррелирует с количеством продукта. Посмотрим, как это повлияет на будущую модель обучения."
   ]
  },
  {
   "cell_type": "markdown",
   "metadata": {},
   "source": [
    "Изучим дубликаты в столбцах `id`:"
   ]
  },
  {
   "cell_type": "code",
   "execution_count": 9,
   "metadata": {},
   "outputs": [
    {
     "data": {
      "text/plain": [
       "'Region 1'"
      ]
     },
     "metadata": {},
     "output_type": "display_data"
    },
    {
     "data": {
      "text/html": [
       "<div>\n",
       "<style scoped>\n",
       "    .dataframe tbody tr th:only-of-type {\n",
       "        vertical-align: middle;\n",
       "    }\n",
       "\n",
       "    .dataframe tbody tr th {\n",
       "        vertical-align: top;\n",
       "    }\n",
       "\n",
       "    .dataframe thead th {\n",
       "        text-align: right;\n",
       "    }\n",
       "</style>\n",
       "<table border=\"1\" class=\"dataframe\">\n",
       "  <thead>\n",
       "    <tr style=\"text-align: right;\">\n",
       "      <th></th>\n",
       "      <th>id</th>\n",
       "      <th>f0</th>\n",
       "      <th>f1</th>\n",
       "      <th>f2</th>\n",
       "      <th>product</th>\n",
       "    </tr>\n",
       "  </thead>\n",
       "  <tbody>\n",
       "    <tr>\n",
       "      <th>931</th>\n",
       "      <td>HZww2</td>\n",
       "      <td>0.755284</td>\n",
       "      <td>0.368511</td>\n",
       "      <td>1.863211</td>\n",
       "      <td>30.681774</td>\n",
       "    </tr>\n",
       "    <tr>\n",
       "      <th>7530</th>\n",
       "      <td>HZww2</td>\n",
       "      <td>1.061194</td>\n",
       "      <td>-0.373969</td>\n",
       "      <td>10.430210</td>\n",
       "      <td>158.828695</td>\n",
       "    </tr>\n",
       "    <tr>\n",
       "      <th>1364</th>\n",
       "      <td>bxg6G</td>\n",
       "      <td>0.411645</td>\n",
       "      <td>0.856830</td>\n",
       "      <td>-3.653440</td>\n",
       "      <td>73.604260</td>\n",
       "    </tr>\n",
       "    <tr>\n",
       "      <th>41724</th>\n",
       "      <td>bxg6G</td>\n",
       "      <td>-0.823752</td>\n",
       "      <td>0.546319</td>\n",
       "      <td>3.630479</td>\n",
       "      <td>93.007798</td>\n",
       "    </tr>\n",
       "    <tr>\n",
       "      <th>3389</th>\n",
       "      <td>A5aEY</td>\n",
       "      <td>-0.039949</td>\n",
       "      <td>0.156872</td>\n",
       "      <td>0.209861</td>\n",
       "      <td>89.249364</td>\n",
       "    </tr>\n",
       "    <tr>\n",
       "      <th>51970</th>\n",
       "      <td>A5aEY</td>\n",
       "      <td>-0.180335</td>\n",
       "      <td>0.935548</td>\n",
       "      <td>-2.094773</td>\n",
       "      <td>33.020205</td>\n",
       "    </tr>\n",
       "    <tr>\n",
       "      <th>1949</th>\n",
       "      <td>QcMuo</td>\n",
       "      <td>0.506563</td>\n",
       "      <td>-0.323775</td>\n",
       "      <td>-2.215583</td>\n",
       "      <td>75.496502</td>\n",
       "    </tr>\n",
       "    <tr>\n",
       "      <th>63593</th>\n",
       "      <td>QcMuo</td>\n",
       "      <td>0.635635</td>\n",
       "      <td>-0.473422</td>\n",
       "      <td>0.862670</td>\n",
       "      <td>64.578675</td>\n",
       "    </tr>\n",
       "    <tr>\n",
       "      <th>64022</th>\n",
       "      <td>74z30</td>\n",
       "      <td>0.741456</td>\n",
       "      <td>0.459229</td>\n",
       "      <td>5.153109</td>\n",
       "      <td>140.771492</td>\n",
       "    </tr>\n",
       "    <tr>\n",
       "      <th>66136</th>\n",
       "      <td>74z30</td>\n",
       "      <td>1.084962</td>\n",
       "      <td>-0.312358</td>\n",
       "      <td>6.990771</td>\n",
       "      <td>127.643327</td>\n",
       "    </tr>\n",
       "    <tr>\n",
       "      <th>42529</th>\n",
       "      <td>AGS9W</td>\n",
       "      <td>1.454747</td>\n",
       "      <td>-0.479651</td>\n",
       "      <td>0.683380</td>\n",
       "      <td>126.370504</td>\n",
       "    </tr>\n",
       "    <tr>\n",
       "      <th>69163</th>\n",
       "      <td>AGS9W</td>\n",
       "      <td>-0.933795</td>\n",
       "      <td>0.116194</td>\n",
       "      <td>-3.655896</td>\n",
       "      <td>19.230453</td>\n",
       "    </tr>\n",
       "    <tr>\n",
       "      <th>21426</th>\n",
       "      <td>Tdehs</td>\n",
       "      <td>0.829407</td>\n",
       "      <td>0.298807</td>\n",
       "      <td>-0.049563</td>\n",
       "      <td>96.035308</td>\n",
       "    </tr>\n",
       "    <tr>\n",
       "      <th>75715</th>\n",
       "      <td>Tdehs</td>\n",
       "      <td>0.112079</td>\n",
       "      <td>0.430296</td>\n",
       "      <td>3.218993</td>\n",
       "      <td>60.964018</td>\n",
       "    </tr>\n",
       "    <tr>\n",
       "      <th>16633</th>\n",
       "      <td>fiKDv</td>\n",
       "      <td>0.157341</td>\n",
       "      <td>1.028359</td>\n",
       "      <td>5.585586</td>\n",
       "      <td>95.817889</td>\n",
       "    </tr>\n",
       "    <tr>\n",
       "      <th>90815</th>\n",
       "      <td>fiKDv</td>\n",
       "      <td>0.049883</td>\n",
       "      <td>0.841313</td>\n",
       "      <td>6.394613</td>\n",
       "      <td>137.346586</td>\n",
       "    </tr>\n",
       "    <tr>\n",
       "      <th>60140</th>\n",
       "      <td>TtcGQ</td>\n",
       "      <td>0.569276</td>\n",
       "      <td>-0.104876</td>\n",
       "      <td>6.440215</td>\n",
       "      <td>85.350186</td>\n",
       "    </tr>\n",
       "    <tr>\n",
       "      <th>92341</th>\n",
       "      <td>TtcGQ</td>\n",
       "      <td>0.110711</td>\n",
       "      <td>1.022689</td>\n",
       "      <td>0.911381</td>\n",
       "      <td>101.318008</td>\n",
       "    </tr>\n",
       "    <tr>\n",
       "      <th>89582</th>\n",
       "      <td>bsk9y</td>\n",
       "      <td>0.398908</td>\n",
       "      <td>-0.400253</td>\n",
       "      <td>10.122376</td>\n",
       "      <td>163.433078</td>\n",
       "    </tr>\n",
       "    <tr>\n",
       "      <th>97785</th>\n",
       "      <td>bsk9y</td>\n",
       "      <td>0.378429</td>\n",
       "      <td>0.005837</td>\n",
       "      <td>0.160827</td>\n",
       "      <td>160.637302</td>\n",
       "    </tr>\n",
       "  </tbody>\n",
       "</table>\n",
       "</div>"
      ],
      "text/plain": [
       "          id        f0        f1         f2     product\n",
       "931    HZww2  0.755284  0.368511   1.863211   30.681774\n",
       "7530   HZww2  1.061194 -0.373969  10.430210  158.828695\n",
       "1364   bxg6G  0.411645  0.856830  -3.653440   73.604260\n",
       "41724  bxg6G -0.823752  0.546319   3.630479   93.007798\n",
       "3389   A5aEY -0.039949  0.156872   0.209861   89.249364\n",
       "51970  A5aEY -0.180335  0.935548  -2.094773   33.020205\n",
       "1949   QcMuo  0.506563 -0.323775  -2.215583   75.496502\n",
       "63593  QcMuo  0.635635 -0.473422   0.862670   64.578675\n",
       "64022  74z30  0.741456  0.459229   5.153109  140.771492\n",
       "66136  74z30  1.084962 -0.312358   6.990771  127.643327\n",
       "42529  AGS9W  1.454747 -0.479651   0.683380  126.370504\n",
       "69163  AGS9W -0.933795  0.116194  -3.655896   19.230453\n",
       "21426  Tdehs  0.829407  0.298807  -0.049563   96.035308\n",
       "75715  Tdehs  0.112079  0.430296   3.218993   60.964018\n",
       "16633  fiKDv  0.157341  1.028359   5.585586   95.817889\n",
       "90815  fiKDv  0.049883  0.841313   6.394613  137.346586\n",
       "60140  TtcGQ  0.569276 -0.104876   6.440215   85.350186\n",
       "92341  TtcGQ  0.110711  1.022689   0.911381  101.318008\n",
       "89582  bsk9y  0.398908 -0.400253  10.122376  163.433078\n",
       "97785  bsk9y  0.378429  0.005837   0.160827  160.637302"
      ]
     },
     "metadata": {},
     "output_type": "display_data"
    },
    {
     "data": {
      "text/plain": [
       "'Region 2'"
      ]
     },
     "metadata": {},
     "output_type": "display_data"
    },
    {
     "data": {
      "text/html": [
       "<div>\n",
       "<style scoped>\n",
       "    .dataframe tbody tr th:only-of-type {\n",
       "        vertical-align: middle;\n",
       "    }\n",
       "\n",
       "    .dataframe tbody tr th {\n",
       "        vertical-align: top;\n",
       "    }\n",
       "\n",
       "    .dataframe thead th {\n",
       "        text-align: right;\n",
       "    }\n",
       "</style>\n",
       "<table border=\"1\" class=\"dataframe\">\n",
       "  <thead>\n",
       "    <tr style=\"text-align: right;\">\n",
       "      <th></th>\n",
       "      <th>id</th>\n",
       "      <th>f0</th>\n",
       "      <th>f1</th>\n",
       "      <th>f2</th>\n",
       "      <th>product</th>\n",
       "    </tr>\n",
       "  </thead>\n",
       "  <tbody>\n",
       "    <tr>\n",
       "      <th>1305</th>\n",
       "      <td>LHZR0</td>\n",
       "      <td>11.170835</td>\n",
       "      <td>-1.945066</td>\n",
       "      <td>3.002872</td>\n",
       "      <td>80.859783</td>\n",
       "    </tr>\n",
       "    <tr>\n",
       "      <th>41906</th>\n",
       "      <td>LHZR0</td>\n",
       "      <td>-8.989672</td>\n",
       "      <td>-4.286607</td>\n",
       "      <td>2.009139</td>\n",
       "      <td>57.085625</td>\n",
       "    </tr>\n",
       "    <tr>\n",
       "      <th>2721</th>\n",
       "      <td>bfPNe</td>\n",
       "      <td>-9.494442</td>\n",
       "      <td>-5.463692</td>\n",
       "      <td>4.006042</td>\n",
       "      <td>110.992147</td>\n",
       "    </tr>\n",
       "    <tr>\n",
       "      <th>82178</th>\n",
       "      <td>bfPNe</td>\n",
       "      <td>-6.202799</td>\n",
       "      <td>-4.820045</td>\n",
       "      <td>2.995107</td>\n",
       "      <td>84.038886</td>\n",
       "    </tr>\n",
       "    <tr>\n",
       "      <th>47591</th>\n",
       "      <td>wt4Uk</td>\n",
       "      <td>-9.091098</td>\n",
       "      <td>-8.109279</td>\n",
       "      <td>-0.002314</td>\n",
       "      <td>3.179103</td>\n",
       "    </tr>\n",
       "    <tr>\n",
       "      <th>82873</th>\n",
       "      <td>wt4Uk</td>\n",
       "      <td>10.259972</td>\n",
       "      <td>-9.376355</td>\n",
       "      <td>4.994297</td>\n",
       "      <td>134.766305</td>\n",
       "    </tr>\n",
       "    <tr>\n",
       "      <th>5849</th>\n",
       "      <td>5ltQ6</td>\n",
       "      <td>-3.435401</td>\n",
       "      <td>-12.296043</td>\n",
       "      <td>1.999796</td>\n",
       "      <td>57.085625</td>\n",
       "    </tr>\n",
       "    <tr>\n",
       "      <th>84461</th>\n",
       "      <td>5ltQ6</td>\n",
       "      <td>18.213839</td>\n",
       "      <td>2.191999</td>\n",
       "      <td>3.993869</td>\n",
       "      <td>107.813044</td>\n",
       "    </tr>\n",
       "  </tbody>\n",
       "</table>\n",
       "</div>"
      ],
      "text/plain": [
       "          id         f0         f1        f2     product\n",
       "1305   LHZR0  11.170835  -1.945066  3.002872   80.859783\n",
       "41906  LHZR0  -8.989672  -4.286607  2.009139   57.085625\n",
       "2721   bfPNe  -9.494442  -5.463692  4.006042  110.992147\n",
       "82178  bfPNe  -6.202799  -4.820045  2.995107   84.038886\n",
       "47591  wt4Uk  -9.091098  -8.109279 -0.002314    3.179103\n",
       "82873  wt4Uk  10.259972  -9.376355  4.994297  134.766305\n",
       "5849   5ltQ6  -3.435401 -12.296043  1.999796   57.085625\n",
       "84461  5ltQ6  18.213839   2.191999  3.993869  107.813044"
      ]
     },
     "metadata": {},
     "output_type": "display_data"
    },
    {
     "data": {
      "text/plain": [
       "'Region 3'"
      ]
     },
     "metadata": {},
     "output_type": "display_data"
    },
    {
     "data": {
      "text/html": [
       "<div>\n",
       "<style scoped>\n",
       "    .dataframe tbody tr th:only-of-type {\n",
       "        vertical-align: middle;\n",
       "    }\n",
       "\n",
       "    .dataframe tbody tr th {\n",
       "        vertical-align: top;\n",
       "    }\n",
       "\n",
       "    .dataframe thead th {\n",
       "        text-align: right;\n",
       "    }\n",
       "</style>\n",
       "<table border=\"1\" class=\"dataframe\">\n",
       "  <thead>\n",
       "    <tr style=\"text-align: right;\">\n",
       "      <th></th>\n",
       "      <th>id</th>\n",
       "      <th>f0</th>\n",
       "      <th>f1</th>\n",
       "      <th>f2</th>\n",
       "      <th>product</th>\n",
       "    </tr>\n",
       "  </thead>\n",
       "  <tbody>\n",
       "    <tr>\n",
       "      <th>28039</th>\n",
       "      <td>xCHr8</td>\n",
       "      <td>1.633027</td>\n",
       "      <td>0.368135</td>\n",
       "      <td>-2.378367</td>\n",
       "      <td>6.120525</td>\n",
       "    </tr>\n",
       "    <tr>\n",
       "      <th>43233</th>\n",
       "      <td>xCHr8</td>\n",
       "      <td>-0.847066</td>\n",
       "      <td>2.101796</td>\n",
       "      <td>5.597130</td>\n",
       "      <td>184.388641</td>\n",
       "    </tr>\n",
       "    <tr>\n",
       "      <th>11449</th>\n",
       "      <td>VF7Jo</td>\n",
       "      <td>2.122656</td>\n",
       "      <td>-0.858275</td>\n",
       "      <td>5.746001</td>\n",
       "      <td>181.716817</td>\n",
       "    </tr>\n",
       "    <tr>\n",
       "      <th>49564</th>\n",
       "      <td>VF7Jo</td>\n",
       "      <td>-0.883115</td>\n",
       "      <td>0.560537</td>\n",
       "      <td>0.723601</td>\n",
       "      <td>136.233420</td>\n",
       "    </tr>\n",
       "    <tr>\n",
       "      <th>45404</th>\n",
       "      <td>KUPhW</td>\n",
       "      <td>0.231846</td>\n",
       "      <td>-1.698941</td>\n",
       "      <td>4.990775</td>\n",
       "      <td>11.716299</td>\n",
       "    </tr>\n",
       "    <tr>\n",
       "      <th>55967</th>\n",
       "      <td>KUPhW</td>\n",
       "      <td>1.211150</td>\n",
       "      <td>3.176408</td>\n",
       "      <td>5.543540</td>\n",
       "      <td>132.831802</td>\n",
       "    </tr>\n",
       "    <tr>\n",
       "      <th>44378</th>\n",
       "      <td>Vcm5J</td>\n",
       "      <td>-1.229484</td>\n",
       "      <td>-2.439204</td>\n",
       "      <td>1.222909</td>\n",
       "      <td>137.968290</td>\n",
       "    </tr>\n",
       "    <tr>\n",
       "      <th>95090</th>\n",
       "      <td>Vcm5J</td>\n",
       "      <td>2.587702</td>\n",
       "      <td>1.986875</td>\n",
       "      <td>2.482245</td>\n",
       "      <td>92.327572</td>\n",
       "    </tr>\n",
       "  </tbody>\n",
       "</table>\n",
       "</div>"
      ],
      "text/plain": [
       "          id        f0        f1        f2     product\n",
       "28039  xCHr8  1.633027  0.368135 -2.378367    6.120525\n",
       "43233  xCHr8 -0.847066  2.101796  5.597130  184.388641\n",
       "11449  VF7Jo  2.122656 -0.858275  5.746001  181.716817\n",
       "49564  VF7Jo -0.883115  0.560537  0.723601  136.233420\n",
       "45404  KUPhW  0.231846 -1.698941  4.990775   11.716299\n",
       "55967  KUPhW  1.211150  3.176408  5.543540  132.831802\n",
       "44378  Vcm5J -1.229484 -2.439204  1.222909  137.968290\n",
       "95090  Vcm5J  2.587702  1.986875  2.482245   92.327572"
      ]
     },
     "metadata": {},
     "output_type": "display_data"
    }
   ],
   "source": [
    "for reg in region_list:\n",
    "    duplicated_id = pd.DataFrame(columns=reg_1.columns)\n",
    "    display(reg)\n",
    "    for i in region_list[reg][region_list[reg]['id'].duplicated()]['id'].values:\n",
    "        duplicated_id = pd.concat([duplicated_id] \n",
    "                                  + [region_list[reg][region_list[reg]['id'] == i]])\n",
    "    display(duplicated_id)"
   ]
  },
  {
   "cell_type": "markdown",
   "metadata": {},
   "source": [
    "В регионах дубликаты в параметрах `id` никак не влияют на остальные параметры. Возможно, что одинаковый `id` скважины означает, что использовали иной метод добычи продукта или другую технологию. Или это ошибка при заполнении датасета."
   ]
  },
  {
   "cell_type": "markdown",
   "metadata": {},
   "source": [
    "Отбросим столбец `id`, чтобы обучить будущую модель:"
   ]
  },
  {
   "cell_type": "code",
   "execution_count": 10,
   "metadata": {},
   "outputs": [],
   "source": [
    "reg_1 = reg_1.drop('id', axis=1)\n",
    "reg_2 = reg_2.drop('id', axis=1)\n",
    "reg_3 = reg_3.drop('id', axis=1)"
   ]
  },
  {
   "cell_type": "markdown",
   "metadata": {},
   "source": [
    "## Обучение и проверка модели"
   ]
  },
  {
   "cell_type": "markdown",
   "metadata": {},
   "source": [
    "Обучим и проверим модель для каждого региона:\n",
    "\n",
    "1. Разобьём данные на обучающую и валидационную выборки в соотношении 75:25.\n",
    "2. Обучим модель и сделаем предсказания на валидационной выборке.\n",
    "3. Сохраним предсказания и правильные ответы на валидационной выборке.\n",
    "4. Напечатаем на экране средний запас предсказанного сырья и RMSE модели.\n",
    "5. Проанализируем результаты."
   ]
  },
  {
   "cell_type": "markdown",
   "metadata": {},
   "source": [
    "Создаём функцию для подсчета RMSE:"
   ]
  },
  {
   "cell_type": "code",
   "execution_count": 11,
   "metadata": {},
   "outputs": [],
   "source": [
    "def rmse(target_valid, predictions_valid):\n",
    "    x = mean_squared_error(target_valid, predictions_valid)**0.5\n",
    "    return x"
   ]
  },
  {
   "cell_type": "markdown",
   "metadata": {},
   "source": [
    "Разобьём данные, обучим и сделаем предсказания модели, а так же сохраним результат:"
   ]
  },
  {
   "cell_type": "markdown",
   "metadata": {},
   "source": [
    "Создаём функцию по подсчету моделей и необходимых значений:"
   ]
  },
  {
   "cell_type": "code",
   "execution_count": 12,
   "metadata": {},
   "outputs": [],
   "source": [
    "def model_calculate(data):\n",
    "    # выделяем параметры и таргет\n",
    "    features = data.drop('product', axis=1)\n",
    "    target = data['product']\n",
    "\n",
    "    # делим на валидационную и обучающую\n",
    "    features_train, features_valid, target_train, target_valid = train_test_split(features,\n",
    "                                                                                  target,\n",
    "                                                                                  test_size=0.25,\n",
    "                                                                                  random_state=12345)\n",
    "\n",
    "    # обучаем модель и сохраняем результат\n",
    "    model = LinearRegression()\n",
    "    model.fit(features_train, target_train)\n",
    "    predictions = model.predict(features_valid)\n",
    "\n",
    "    # считаем RMSE\n",
    "    rmse_data = rmse(target_valid, predictions)\n",
    "    return target_valid, predictions, rmse_data"
   ]
  },
  {
   "cell_type": "markdown",
   "metadata": {},
   "source": [
    "Считаем:"
   ]
  },
  {
   "cell_type": "code",
   "execution_count": 13,
   "metadata": {},
   "outputs": [],
   "source": [
    "reg_1_tg_valid, predictions_1_valid, rmse_1 = model_calculate(reg_1)\n",
    "reg_2_tg_valid, predictions_2_valid, rmse_2 = model_calculate(reg_2)\n",
    "reg_3_tg_valid, predictions_3_valid, rmse_3 = model_calculate(reg_3)"
   ]
  },
  {
   "cell_type": "markdown",
   "metadata": {},
   "source": [
    "Считаем средний предсказанный запас сырья:"
   ]
  },
  {
   "cell_type": "code",
   "execution_count": 14,
   "metadata": {},
   "outputs": [],
   "source": [
    "mean_product_1 = predictions_1_valid.mean()\n",
    "mean_product_2 = predictions_2_valid.mean()\n",
    "mean_product_3 = predictions_3_valid.mean()"
   ]
  },
  {
   "cell_type": "markdown",
   "metadata": {},
   "source": [
    "Изучаем результат:"
   ]
  },
  {
   "cell_type": "code",
   "execution_count": 15,
   "metadata": {},
   "outputs": [
    {
     "name": "stdout",
     "output_type": "stream",
     "text": [
      "Cредний запас предсказанного сырья 1 региона: 92.59 RMSE: 37.5794217150813\n",
      "Cредний запас предсказанного сырья 2 региона: 68.73 RMSE: 0.893099286775617\n",
      "Cредний запас предсказанного сырья 3 региона: 94.97 RMSE: 40.02970873393434\n"
     ]
    }
   ],
   "source": [
    "print('Cредний запас предсказанного сырья 1 региона:', round(mean_product_1, 2), 'RMSE:', rmse_1)\n",
    "print('Cредний запас предсказанного сырья 2 региона:', round(mean_product_2, 2), 'RMSE:', rmse_2)\n",
    "print('Cредний запас предсказанного сырья 3 региона:', round(mean_product_3, 2), 'RMSE:', rmse_3)"
   ]
  },
  {
   "cell_type": "markdown",
   "metadata": {},
   "source": [
    "### Вывод"
   ]
  },
  {
   "cell_type": "markdown",
   "metadata": {},
   "source": [
    "Лучший параметр RMSE показывает модель на 2 регионе, что скорее всего связано с большой корреляцией параметра `f3` и таргета"
   ]
  },
  {
   "cell_type": "markdown",
   "metadata": {},
   "source": [
    "## Подготовка к расчёту прибыли"
   ]
  },
  {
   "cell_type": "markdown",
   "metadata": {},
   "source": [
    "1. Все ключевые значения для расчётов сохраним в отдельных переменных.\n",
    "2. Рассчитаем достаточный объём сырья для безубыточной разработки новой скважины. Сравним полученный объём сырья со средним запасом в каждом регионе.\n",
    "3. Напишем выводы по этапу подготовки расчёта прибыли."
   ]
  },
  {
   "cell_type": "markdown",
   "metadata": {},
   "source": [
    "* При разведке региона исследуют 500 точек, из которых с помощью машинного обучения выбирают 200 лучших для разработки.\n",
    "* Бюджет на разработку скважин в регионе — 10 млрд рублей.\n",
    "* При нынешних ценах один баррель сырья приносит 450 рублей дохода. Доход с каждой единицы продукта составляет 450 тыс. рублей, поскольку объём указан в тысячах баррелей.\n",
    "* После оценки рисков нужно оставить лишь те регионы, в которых вероятность убытков меньше 2.5%. Среди них выбирают регион с наибольшей средней прибылью."
   ]
  },
  {
   "cell_type": "markdown",
   "metadata": {},
   "source": [
    "Создаём необходимые переменные:"
   ]
  },
  {
   "cell_type": "code",
   "execution_count": 16,
   "metadata": {},
   "outputs": [],
   "source": [
    "number_bores = 500 \n",
    "bores_needed = 200\n",
    "budget = 10000000000 / 1000000 # в млн. руб.\n",
    "barrel_price = 450000 / 1000000 # в млн. руб.\n",
    "risk = 2.5"
   ]
  },
  {
   "cell_type": "markdown",
   "metadata": {},
   "source": [
    "Рассчитаем достаточный объём сырья для безубыточной разработки новой скважины.\n",
    "\n",
    "Выведем на экран среднее значение и проанализируем результат:"
   ]
  },
  {
   "cell_type": "code",
   "execution_count": 17,
   "metadata": {},
   "outputs": [
    {
     "name": "stdout",
     "output_type": "stream",
     "text": [
      "Необходимый средний объём одной скважины, чтобы она была не убыточна: 111.11111111111111\n",
      "\n",
      "Средний объём сырья в Region 1 убыточен: 92.5\n",
      "Средний объём сырья в Region 2 убыточен: 68.825\n",
      "Средний объём сырья в Region 3 убыточен: 95.0\n"
     ]
    }
   ],
   "source": [
    "product_needed = budget / bores_needed / barrel_price\n",
    "\n",
    "print(f'Необходимый средний объём одной скважины, чтобы она была не убыточна: {product_needed}')\n",
    "print('')\n",
    "for reg in region_list:\n",
    "    x = region_list[reg]['product'].mean()\n",
    "    if x > product_needed:\n",
    "        print(f'Средний объём сырья в {reg} не убыточный: {round(x, 3)}')\n",
    "    else: \n",
    "        print(f'Средний объём сырья в {reg} убыточен: {round(x, 3)}')"
   ]
  },
  {
   "cell_type": "markdown",
   "metadata": {},
   "source": [
    "###  Вывод"
   ]
  },
  {
   "cell_type": "markdown",
   "metadata": {},
   "source": [
    "Все регионы в среднем указывают, что они убыточны."
   ]
  },
  {
   "cell_type": "markdown",
   "metadata": {},
   "source": [
    "## Расчёт прибыли и рисков "
   ]
  },
  {
   "cell_type": "markdown",
   "metadata": {},
   "source": [
    "Напишием функцию для расчёта прибыли по выбранным скважинам и предсказаниям модели:\n",
    "1. Выберем скважины с максимальными значениями предсказаний.\n",
    "2. Просуммируем целевое значение объёма сырья, соответствующее этим предсказаниям.\n",
    "3. Рассчитаем прибыль для полученного объёма сырья."
   ]
  },
  {
   "cell_type": "code",
   "execution_count": 18,
   "metadata": {},
   "outputs": [],
   "source": [
    "# преобразуем результаты предсказаний в Pandas Series\n",
    "\n",
    "predictions_1_valid = pd.Series(predictions_1_valid)\n",
    "predictions_2_valid = pd.Series(predictions_2_valid)\n",
    "predictions_3_valid = pd.Series(predictions_3_valid)"
   ]
  },
  {
   "cell_type": "code",
   "execution_count": 19,
   "metadata": {},
   "outputs": [],
   "source": [
    "# создаём функцию для подсчета прибыли\n",
    "\n",
    "def revenue_profit(target, bores, count, budget):\n",
    "    bores_sorted = bores.sort_values(ascending=False) # сортируем по предсказанию\n",
    "    selected = target[bores_sorted.index][:count] # выбираем лучшие но по фактическим индексам\n",
    "    revenue = barrel_price * selected.sum() # считаем заработок с выбранных скважин\n",
    "    profit = revenue - budget # считаем прибыль\n",
    "    return profit"
   ]
  },
  {
   "cell_type": "markdown",
   "metadata": {},
   "source": [
    "Посчитаем риски и прибыль для каждого региона:\n",
    "1. Применим технику Bootstrap с 1000 выборок, чтобы найти распределение прибыли.\n",
    "2. Найдём среднюю прибыль, 95%-й доверительный интервал и риск убытков. Убыток — это отрицательная прибыль.\n",
    "3. Напишем выводы: предложим регион для разработки скважин и обоснуем выбор."
   ]
  },
  {
   "cell_type": "markdown",
   "metadata": {},
   "source": [
    "Создаём функцию для подсчета результатов:"
   ]
  },
  {
   "cell_type": "code",
   "execution_count": 20,
   "metadata": {},
   "outputs": [],
   "source": [
    "def check_region(target, predictions):\n",
    "    # создаём список\n",
    "    values = []\n",
    "\n",
    "    # применяем Bootstrap\n",
    "    state = np.random.RandomState(12345)\n",
    "    for i in range(1000):\n",
    "        target_subsample = target.reset_index(drop=True).sample(n=number_bores, replace=True, random_state=state)\n",
    "        pred_subsample = predictions[target_subsample.index]\n",
    "        value = revenue_profit(target_subsample, pred_subsample, bores_needed, budget)\n",
    "        values.append(value)\n",
    "\n",
    "    # считаем количество убытков\n",
    "    values = pd.Series(values)\n",
    "    risk = (values < 0).mean()\n",
    "\n",
    "    # считаем доверительный интервал\n",
    "    lower = values.quantile(0.025)\n",
    "    upper = values.quantile(0.975)\n",
    "\n",
    "    # выводим результат\n",
    "    print('Средняя прибыль в 3 регионе:', round(values.mean(), 2), 'млн. руб')\n",
    "    print(f'95% доверительный интервал: ({lower}, {upper})')\n",
    "    print('Риск убытков: {:.1%}'.format((values < 0).mean()))\n",
    "\n",
    "    # сравниваем с необходимым риском\n",
    "    if (risk * 100) <= 2.5:\n",
    "          print('Риск убытков меньше необходимого значения. Регион можно оставить.')\n",
    "    else:\n",
    "          print('Риск убытков больше необходимого значения.')      "
   ]
  },
  {
   "cell_type": "code",
   "execution_count": 21,
   "metadata": {
    "scrolled": true
   },
   "outputs": [
    {
     "name": "stdout",
     "output_type": "stream",
     "text": [
      "Средняя прибыль в 3 регионе: 425.94 млн. руб\n",
      "95% доверительный интервал: (-102.09009483793594, 947.976353358369)\n",
      "Риск убытков: 6.0%\n",
      "Риск убытков больше необходимого значения.\n"
     ]
    }
   ],
   "source": [
    "check_region(reg_1_tg_valid, predictions_1_valid)"
   ]
  },
  {
   "cell_type": "code",
   "execution_count": 22,
   "metadata": {},
   "outputs": [
    {
     "name": "stdout",
     "output_type": "stream",
     "text": [
      "Средняя прибыль в 3 регионе: 515.22 млн. руб\n",
      "95% доверительный интервал: (68.87322537050254, 931.5475912570489)\n",
      "Риск убытков: 1.0%\n",
      "Риск убытков меньше необходимого значения. Регион можно оставить.\n"
     ]
    }
   ],
   "source": [
    "check_region(reg_2_tg_valid, predictions_2_valid)"
   ]
  },
  {
   "cell_type": "code",
   "execution_count": 23,
   "metadata": {},
   "outputs": [
    {
     "name": "stdout",
     "output_type": "stream",
     "text": [
      "Средняя прибыль в 3 регионе: 435.01 млн. руб\n",
      "95% доверительный интервал: (-128.88054732978893, 969.7069541802656)\n",
      "Риск убытков: 6.4%\n",
      "Риск убытков больше необходимого значения.\n"
     ]
    }
   ],
   "source": [
    "check_region(reg_3_tg_valid, predictions_3_valid)"
   ]
  },
  {
   "cell_type": "markdown",
   "metadata": {},
   "source": [
    "### Вывод"
   ]
  },
  {
   "cell_type": "markdown",
   "metadata": {},
   "source": [
    "По двум регионам (1 и 3 регион) средняя прибыль меньше, чем у второго региона, а так же вероятность убытков выше. Их не стоит расмматривать. \n",
    "\n",
    "Для дальнейшей разработки нефтяных скважин стоит рассматривать второй регион, так как риск убытков ниже и средняя прибыль выше, чем у остальных регионов."
   ]
  }
 ],
 "metadata": {
  "ExecuteTimeLog": [
   {
    "duration": 104309,
    "start_time": "2022-03-09T16:14:16.623Z"
   },
   {
    "duration": 104333,
    "start_time": "2022-03-09T16:16:00.934Z"
   },
   {
    "duration": 158618,
    "start_time": "2022-03-09T16:17:45.270Z"
   },
   {
    "duration": 90243,
    "start_time": "2022-03-09T16:20:23.890Z"
   },
   {
    "duration": 47468,
    "start_time": "2022-03-09T16:21:54.136Z"
   },
   {
    "duration": 99621,
    "start_time": "2022-03-09T16:22:41.606Z"
   },
   {
    "duration": 2218,
    "start_time": "2022-03-09T16:24:21.229Z"
   },
   {
    "duration": 33118,
    "start_time": "2022-03-09T16:24:23.450Z"
   },
   {
    "duration": 99424,
    "start_time": "2022-03-09T16:33:44.526Z"
   },
   {
    "duration": 99381,
    "start_time": "2022-03-09T16:35:56.415Z"
   },
   {
    "duration": 99494,
    "start_time": "2022-03-09T16:38:42.054Z"
   },
   {
    "duration": 100291,
    "start_time": "2022-03-09T16:40:28.165Z"
   },
   {
    "duration": 247,
    "start_time": "2022-03-09T16:42:30.378Z"
   },
   {
    "duration": 58,
    "start_time": "2022-03-09T16:42:34.055Z"
   },
   {
    "duration": 187,
    "start_time": "2022-03-09T16:42:44.060Z"
   },
   {
    "duration": 195,
    "start_time": "2022-03-09T16:43:19.402Z"
   },
   {
    "duration": 99167,
    "start_time": "2022-03-09T16:43:50.062Z"
   },
   {
    "duration": 268426,
    "start_time": "2022-03-09T16:46:26.591Z"
   },
   {
    "duration": 223,
    "start_time": "2022-03-09T16:52:27.436Z"
   },
   {
    "duration": 72,
    "start_time": "2022-03-09T16:52:31.227Z"
   },
   {
    "duration": 99234,
    "start_time": "2022-03-09T16:52:36.824Z"
   },
   {
    "duration": 3227,
    "start_time": "2022-03-09T17:20:11.559Z"
   },
   {
    "duration": 1707,
    "start_time": "2022-03-09T17:20:20.813Z"
   },
   {
    "duration": 1000,
    "start_time": "2022-03-09T17:20:34.348Z"
   },
   {
    "duration": 125,
    "start_time": "2022-03-09T17:21:36.423Z"
   },
   {
    "duration": 24,
    "start_time": "2022-03-09T17:21:45.071Z"
   },
   {
    "duration": 5860,
    "start_time": "2022-03-09T17:24:37.800Z"
   },
   {
    "duration": 307,
    "start_time": "2022-03-09T17:25:17.656Z"
   },
   {
    "duration": 201,
    "start_time": "2022-03-09T17:25:25.915Z"
   },
   {
    "duration": 202,
    "start_time": "2022-03-09T17:26:04.405Z"
   },
   {
    "duration": 216,
    "start_time": "2022-03-09T17:26:43.048Z"
   },
   {
    "duration": 429,
    "start_time": "2022-03-09T17:27:01.881Z"
   },
   {
    "duration": 280,
    "start_time": "2022-03-09T17:31:06.752Z"
   },
   {
    "duration": 28,
    "start_time": "2022-03-09T17:32:30.043Z"
   },
   {
    "duration": 20,
    "start_time": "2022-03-09T17:33:34.505Z"
   },
   {
    "duration": 18,
    "start_time": "2022-03-09T17:33:43.619Z"
   },
   {
    "duration": 68,
    "start_time": "2022-03-09T17:34:06.099Z"
   },
   {
    "duration": 20,
    "start_time": "2022-03-09T17:34:14.251Z"
   },
   {
    "duration": 20,
    "start_time": "2022-03-09T17:34:22.101Z"
   },
   {
    "duration": 20,
    "start_time": "2022-03-09T17:34:28.312Z"
   },
   {
    "duration": 19,
    "start_time": "2022-03-09T17:35:15.140Z"
   },
   {
    "duration": 20,
    "start_time": "2022-03-09T17:35:24.736Z"
   },
   {
    "duration": 20,
    "start_time": "2022-03-09T17:35:31.068Z"
   },
   {
    "duration": 21,
    "start_time": "2022-03-09T17:35:36.270Z"
   },
   {
    "duration": 182,
    "start_time": "2022-03-09T17:36:41.122Z"
   },
   {
    "duration": 189,
    "start_time": "2022-03-09T17:36:46.248Z"
   },
   {
    "duration": 19,
    "start_time": "2022-03-09T17:36:52.815Z"
   },
   {
    "duration": 20,
    "start_time": "2022-03-09T17:37:34.539Z"
   },
   {
    "duration": 20,
    "start_time": "2022-03-09T17:37:39.380Z"
   },
   {
    "duration": 6,
    "start_time": "2022-03-09T17:39:57.496Z"
   },
   {
    "duration": 1050,
    "start_time": "2022-03-09T17:44:45.420Z"
   },
   {
    "duration": 19,
    "start_time": "2022-03-09T17:44:57.826Z"
   },
   {
    "duration": 349,
    "start_time": "2022-03-09T17:58:35.731Z"
   },
   {
    "duration": 4,
    "start_time": "2022-03-09T17:59:16.062Z"
   },
   {
    "duration": 3,
    "start_time": "2022-03-09T17:59:19.371Z"
   },
   {
    "duration": 11,
    "start_time": "2022-03-09T17:59:37.944Z"
   },
   {
    "duration": 11,
    "start_time": "2022-03-09T17:59:45.650Z"
   },
   {
    "duration": 10,
    "start_time": "2022-03-09T17:59:46.343Z"
   },
   {
    "duration": 18048,
    "start_time": "2022-03-09T18:00:35.438Z"
   },
   {
    "duration": 23,
    "start_time": "2022-03-09T18:01:00.330Z"
   },
   {
    "duration": 20,
    "start_time": "2022-03-09T18:01:02.600Z"
   },
   {
    "duration": 19,
    "start_time": "2022-03-09T18:01:04.404Z"
   },
   {
    "duration": 1951,
    "start_time": "2022-03-09T18:04:23.029Z"
   },
   {
    "duration": 362,
    "start_time": "2022-03-09T18:04:24.982Z"
   },
   {
    "duration": 13,
    "start_time": "2022-03-09T18:04:25.346Z"
   },
   {
    "duration": 10,
    "start_time": "2022-03-09T18:04:25.361Z"
   },
   {
    "duration": 10,
    "start_time": "2022-03-09T18:04:25.373Z"
   },
   {
    "duration": 17793,
    "start_time": "2022-03-09T18:04:25.384Z"
   },
   {
    "duration": 238,
    "start_time": "2022-03-09T18:04:43.179Z"
   },
   {
    "duration": 41,
    "start_time": "2022-03-09T18:04:43.420Z"
   },
   {
    "duration": 22,
    "start_time": "2022-03-09T18:04:43.463Z"
   },
   {
    "duration": 19,
    "start_time": "2022-03-09T18:05:28.192Z"
   },
   {
    "duration": 341,
    "start_time": "2022-03-09T18:06:27.346Z"
   },
   {
    "duration": 322,
    "start_time": "2022-03-09T18:06:36.529Z"
   },
   {
    "duration": 364,
    "start_time": "2022-03-09T18:08:14.835Z"
   },
   {
    "duration": 377,
    "start_time": "2022-03-09T18:08:25.935Z"
   },
   {
    "duration": 359,
    "start_time": "2022-03-09T18:08:38.802Z"
   },
   {
    "duration": 691,
    "start_time": "2022-03-09T18:09:01.020Z"
   },
   {
    "duration": 384,
    "start_time": "2022-03-09T18:09:06.672Z"
   },
   {
    "duration": 4,
    "start_time": "2022-03-09T18:09:27.636Z"
   },
   {
    "duration": 17,
    "start_time": "2022-03-09T18:09:38.875Z"
   },
   {
    "duration": 22,
    "start_time": "2022-03-09T18:10:33.461Z"
   },
   {
    "duration": 33,
    "start_time": "2022-03-09T18:10:40.698Z"
   },
   {
    "duration": 37,
    "start_time": "2022-03-09T18:10:58.861Z"
   },
   {
    "duration": 59,
    "start_time": "2022-03-09T18:11:03.714Z"
   },
   {
    "duration": 439,
    "start_time": "2022-03-09T18:11:06.376Z"
   },
   {
    "duration": 902,
    "start_time": "2022-03-09T18:13:22.167Z"
   },
   {
    "duration": 866,
    "start_time": "2022-03-09T18:13:32.287Z"
   },
   {
    "duration": 1366,
    "start_time": "2022-03-09T18:15:41.332Z"
   },
   {
    "duration": 885,
    "start_time": "2022-03-09T18:16:02.776Z"
   },
   {
    "duration": 951,
    "start_time": "2022-03-09T18:16:26.619Z"
   },
   {
    "duration": 7,
    "start_time": "2022-03-09T18:21:56.291Z"
   },
   {
    "duration": 188,
    "start_time": "2022-03-09T18:23:43.721Z"
   },
   {
    "duration": 196,
    "start_time": "2022-03-09T18:23:49.281Z"
   },
   {
    "duration": 207,
    "start_time": "2022-03-09T18:24:02.070Z"
   },
   {
    "duration": 188,
    "start_time": "2022-03-09T18:24:20.564Z"
   },
   {
    "duration": 199,
    "start_time": "2022-03-09T18:24:27.146Z"
   },
   {
    "duration": 194,
    "start_time": "2022-03-09T18:25:17.415Z"
   },
   {
    "duration": 199,
    "start_time": "2022-03-09T18:25:29.566Z"
   },
   {
    "duration": 176,
    "start_time": "2022-03-09T18:25:54.732Z"
   },
   {
    "duration": 48,
    "start_time": "2022-03-09T18:26:44.672Z"
   },
   {
    "duration": 55,
    "start_time": "2022-03-09T18:26:54.426Z"
   },
   {
    "duration": 125,
    "start_time": "2022-03-09T18:28:00.587Z"
   },
   {
    "duration": 56,
    "start_time": "2022-03-09T18:28:03.971Z"
   },
   {
    "duration": 4554,
    "start_time": "2022-03-09T18:28:49.099Z"
   },
   {
    "duration": 63,
    "start_time": "2022-03-09T18:29:02.463Z"
   },
   {
    "duration": 67,
    "start_time": "2022-03-09T18:29:33.815Z"
   },
   {
    "duration": 17,
    "start_time": "2022-03-09T18:30:05.679Z"
   },
   {
    "duration": 21,
    "start_time": "2022-03-09T18:30:47.259Z"
   },
   {
    "duration": 27,
    "start_time": "2022-03-09T18:30:55.155Z"
   },
   {
    "duration": 42,
    "start_time": "2022-03-09T18:31:11.905Z"
   },
   {
    "duration": 40,
    "start_time": "2022-03-09T18:31:21.279Z"
   },
   {
    "duration": 2589,
    "start_time": "2022-03-09T18:31:31.964Z"
   },
   {
    "duration": 2384,
    "start_time": "2022-03-09T18:31:36.759Z"
   },
   {
    "duration": 17,
    "start_time": "2022-03-09T18:31:45.420Z"
   },
   {
    "duration": 15,
    "start_time": "2022-03-09T18:32:19.791Z"
   },
   {
    "duration": 16,
    "start_time": "2022-03-09T18:32:27.431Z"
   },
   {
    "duration": 40,
    "start_time": "2022-03-09T18:32:34.891Z"
   },
   {
    "duration": 36,
    "start_time": "2022-03-09T18:32:40.102Z"
   },
   {
    "duration": 85,
    "start_time": "2022-03-09T18:33:11.368Z"
   },
   {
    "duration": 206,
    "start_time": "2022-03-09T18:33:33.391Z"
   },
   {
    "duration": 203,
    "start_time": "2022-03-09T18:33:42.258Z"
   },
   {
    "duration": 219,
    "start_time": "2022-03-09T18:33:49.154Z"
   },
   {
    "duration": 16,
    "start_time": "2022-03-09T18:34:01.575Z"
   },
   {
    "duration": 16,
    "start_time": "2022-03-09T18:34:29.853Z"
   },
   {
    "duration": 146,
    "start_time": "2022-03-09T18:36:49.461Z"
   },
   {
    "duration": 173,
    "start_time": "2022-03-09T18:39:01.754Z"
   },
   {
    "duration": 239,
    "start_time": "2022-03-09T18:39:10.521Z"
   },
   {
    "duration": 64,
    "start_time": "2022-03-09T18:39:15.896Z"
   },
   {
    "duration": 139,
    "start_time": "2022-03-09T18:40:43.574Z"
   },
   {
    "duration": 206,
    "start_time": "2022-03-09T18:41:20.799Z"
   },
   {
    "duration": 82,
    "start_time": "2022-03-09T18:41:38.443Z"
   },
   {
    "duration": 109,
    "start_time": "2022-03-09T18:42:22.525Z"
   },
   {
    "duration": 216,
    "start_time": "2022-03-09T18:42:28.227Z"
   },
   {
    "duration": 101,
    "start_time": "2022-03-09T18:43:07.880Z"
   },
   {
    "duration": 6,
    "start_time": "2022-03-09T18:43:13.158Z"
   },
   {
    "duration": 89,
    "start_time": "2022-03-09T18:43:40.465Z"
   },
   {
    "duration": 193,
    "start_time": "2022-03-09T18:45:34.470Z"
   },
   {
    "duration": 191,
    "start_time": "2022-03-09T18:45:57.091Z"
   },
   {
    "duration": 197,
    "start_time": "2022-03-09T18:46:11.502Z"
   },
   {
    "duration": 7,
    "start_time": "2022-03-09T18:56:42.357Z"
   },
   {
    "duration": 10,
    "start_time": "2022-03-09T18:56:46.563Z"
   },
   {
    "duration": 3,
    "start_time": "2022-03-09T19:09:31.988Z"
   },
   {
    "duration": 5,
    "start_time": "2022-03-09T19:11:44.828Z"
   },
   {
    "duration": 12,
    "start_time": "2022-03-09T19:12:55.013Z"
   },
   {
    "duration": 13,
    "start_time": "2022-03-09T19:17:03.776Z"
   },
   {
    "duration": 12,
    "start_time": "2022-03-09T19:17:09.524Z"
   },
   {
    "duration": 188,
    "start_time": "2022-03-09T19:18:15.337Z"
   },
   {
    "duration": 4,
    "start_time": "2022-03-09T19:18:42.120Z"
   },
   {
    "duration": 4,
    "start_time": "2022-03-09T19:18:46.901Z"
   },
   {
    "duration": 5,
    "start_time": "2022-03-09T19:19:10.030Z"
   },
   {
    "duration": 19,
    "start_time": "2022-03-09T19:22:55.983Z"
   },
   {
    "duration": 12,
    "start_time": "2022-03-09T19:23:15.588Z"
   },
   {
    "duration": 12,
    "start_time": "2022-03-09T19:23:16.323Z"
   },
   {
    "duration": 5,
    "start_time": "2022-03-09T19:23:17.016Z"
   },
   {
    "duration": 19,
    "start_time": "2022-03-09T19:23:18.392Z"
   },
   {
    "duration": 5,
    "start_time": "2022-03-09T19:23:42.062Z"
   },
   {
    "duration": 12,
    "start_time": "2022-03-09T19:23:42.914Z"
   },
   {
    "duration": 12,
    "start_time": "2022-03-09T19:23:43.614Z"
   },
   {
    "duration": 5,
    "start_time": "2022-03-09T19:23:44.223Z"
   },
   {
    "duration": 10,
    "start_time": "2022-03-09T19:23:52.383Z"
   },
   {
    "duration": 22,
    "start_time": "2022-03-09T19:23:59.749Z"
   },
   {
    "duration": 5,
    "start_time": "2022-03-09T19:24:03.936Z"
   },
   {
    "duration": 1683,
    "start_time": "2022-03-10T17:35:32.295Z"
   },
   {
    "duration": 86,
    "start_time": "2022-03-10T17:35:33.895Z"
   },
   {
    "duration": 82,
    "start_time": "2022-03-10T17:35:33.900Z"
   },
   {
    "duration": 83,
    "start_time": "2022-03-10T17:35:33.900Z"
   },
   {
    "duration": 83,
    "start_time": "2022-03-10T17:35:33.901Z"
   },
   {
    "duration": 83,
    "start_time": "2022-03-10T17:35:33.902Z"
   },
   {
    "duration": 83,
    "start_time": "2022-03-10T17:35:33.903Z"
   },
   {
    "duration": 83,
    "start_time": "2022-03-10T17:35:33.904Z"
   },
   {
    "duration": 81,
    "start_time": "2022-03-10T17:35:33.907Z"
   },
   {
    "duration": 81,
    "start_time": "2022-03-10T17:35:33.908Z"
   },
   {
    "duration": 82,
    "start_time": "2022-03-10T17:35:33.908Z"
   },
   {
    "duration": 82,
    "start_time": "2022-03-10T17:35:33.909Z"
   },
   {
    "duration": 82,
    "start_time": "2022-03-10T17:35:33.910Z"
   },
   {
    "duration": 83,
    "start_time": "2022-03-10T17:35:33.910Z"
   },
   {
    "duration": 83,
    "start_time": "2022-03-10T17:35:33.911Z"
   },
   {
    "duration": 83,
    "start_time": "2022-03-10T17:35:33.912Z"
   },
   {
    "duration": 84,
    "start_time": "2022-03-10T17:35:33.912Z"
   },
   {
    "duration": 20823,
    "start_time": "2022-03-10T17:35:58.645Z"
   },
   {
    "duration": 532,
    "start_time": "2022-03-10T17:36:29.765Z"
   },
   {
    "duration": 2338,
    "start_time": "2022-03-10T17:36:35.128Z"
   },
   {
    "duration": 333,
    "start_time": "2022-03-10T17:36:37.468Z"
   },
   {
    "duration": 13,
    "start_time": "2022-03-10T17:36:37.803Z"
   },
   {
    "duration": 11,
    "start_time": "2022-03-10T17:36:37.817Z"
   },
   {
    "duration": 11,
    "start_time": "2022-03-10T17:36:37.829Z"
   },
   {
    "duration": 17366,
    "start_time": "2022-03-10T17:36:37.842Z"
   },
   {
    "duration": 176,
    "start_time": "2022-03-10T17:36:55.210Z"
   },
   {
    "duration": 28,
    "start_time": "2022-03-10T17:36:55.388Z"
   },
   {
    "duration": 20,
    "start_time": "2022-03-10T17:36:55.418Z"
   },
   {
    "duration": 886,
    "start_time": "2022-03-10T17:36:55.440Z"
   },
   {
    "duration": 159,
    "start_time": "2022-03-10T17:36:56.328Z"
   },
   {
    "duration": 21,
    "start_time": "2022-03-10T17:36:56.488Z"
   },
   {
    "duration": 8,
    "start_time": "2022-03-10T17:36:56.510Z"
   },
   {
    "duration": 13,
    "start_time": "2022-03-10T17:36:56.519Z"
   },
   {
    "duration": 76,
    "start_time": "2022-03-10T17:36:56.533Z"
   },
   {
    "duration": 5,
    "start_time": "2022-03-10T17:36:56.611Z"
   },
   {
    "duration": 128,
    "start_time": "2022-03-10T17:36:56.706Z"
   },
   {
    "duration": 85,
    "start_time": "2022-03-10T17:36:56.751Z"
   },
   {
    "duration": 7,
    "start_time": "2022-03-10T17:37:00.421Z"
   },
   {
    "duration": 342,
    "start_time": "2022-03-10T17:37:01.345Z"
   },
   {
    "duration": 2007,
    "start_time": "2022-03-10T17:37:08.828Z"
   },
   {
    "duration": 324,
    "start_time": "2022-03-10T17:37:10.836Z"
   },
   {
    "duration": 12,
    "start_time": "2022-03-10T17:37:11.162Z"
   },
   {
    "duration": 10,
    "start_time": "2022-03-10T17:37:11.176Z"
   },
   {
    "duration": 22,
    "start_time": "2022-03-10T17:37:11.188Z"
   },
   {
    "duration": 15894,
    "start_time": "2022-03-10T17:37:11.212Z"
   },
   {
    "duration": 181,
    "start_time": "2022-03-10T17:37:27.108Z"
   },
   {
    "duration": 30,
    "start_time": "2022-03-10T17:37:27.290Z"
   },
   {
    "duration": 17,
    "start_time": "2022-03-10T17:37:27.322Z"
   },
   {
    "duration": 884,
    "start_time": "2022-03-10T17:37:27.340Z"
   },
   {
    "duration": 164,
    "start_time": "2022-03-10T17:37:28.225Z"
   },
   {
    "duration": 17,
    "start_time": "2022-03-10T17:37:28.390Z"
   },
   {
    "duration": 7,
    "start_time": "2022-03-10T17:37:28.408Z"
   },
   {
    "duration": 13,
    "start_time": "2022-03-10T17:37:28.416Z"
   },
   {
    "duration": 78,
    "start_time": "2022-03-10T17:37:28.430Z"
   },
   {
    "duration": 96,
    "start_time": "2022-03-10T17:37:28.510Z"
   },
   {
    "duration": 103,
    "start_time": "2022-03-10T17:37:28.608Z"
   },
   {
    "duration": 4,
    "start_time": "2022-03-10T17:39:53.874Z"
   },
   {
    "duration": 11,
    "start_time": "2022-03-10T17:39:54.337Z"
   },
   {
    "duration": 9,
    "start_time": "2022-03-10T17:39:54.907Z"
   },
   {
    "duration": 5,
    "start_time": "2022-03-10T17:39:55.440Z"
   },
   {
    "duration": 3,
    "start_time": "2022-03-10T17:41:28.216Z"
   },
   {
    "duration": 4,
    "start_time": "2022-03-10T17:41:42.870Z"
   },
   {
    "duration": 4,
    "start_time": "2022-03-10T17:41:56.917Z"
   },
   {
    "duration": 4,
    "start_time": "2022-03-10T17:42:33.109Z"
   },
   {
    "duration": 12,
    "start_time": "2022-03-10T17:42:33.427Z"
   },
   {
    "duration": 12,
    "start_time": "2022-03-10T17:42:33.979Z"
   },
   {
    "duration": 4,
    "start_time": "2022-03-10T17:42:34.368Z"
   },
   {
    "duration": 448,
    "start_time": "2022-03-10T17:50:21.760Z"
   },
   {
    "duration": 302,
    "start_time": "2022-03-10T17:50:49.112Z"
   },
   {
    "duration": 3,
    "start_time": "2022-03-10T17:50:55.946Z"
   },
   {
    "duration": 8,
    "start_time": "2022-03-10T17:53:01.222Z"
   },
   {
    "duration": 4,
    "start_time": "2022-03-10T17:53:07.919Z"
   },
   {
    "duration": 102,
    "start_time": "2022-03-10T17:53:27.791Z"
   },
   {
    "duration": 108,
    "start_time": "2022-03-10T17:53:33.888Z"
   },
   {
    "duration": 403,
    "start_time": "2022-03-10T17:53:37.797Z"
   },
   {
    "duration": 6,
    "start_time": "2022-03-10T17:53:40.662Z"
   },
   {
    "duration": 5,
    "start_time": "2022-03-10T17:53:58.554Z"
   },
   {
    "duration": 6,
    "start_time": "2022-03-10T17:54:13.130Z"
   },
   {
    "duration": 4,
    "start_time": "2022-03-10T17:54:18.874Z"
   },
   {
    "duration": 3,
    "start_time": "2022-03-10T18:01:03.531Z"
   },
   {
    "duration": 2,
    "start_time": "2022-03-10T18:05:39.070Z"
   },
   {
    "duration": 4,
    "start_time": "2022-03-10T18:05:44.610Z"
   },
   {
    "duration": 5,
    "start_time": "2022-03-10T18:07:49.898Z"
   },
   {
    "duration": 5,
    "start_time": "2022-03-10T18:08:49.278Z"
   },
   {
    "duration": 5,
    "start_time": "2022-03-10T18:08:54.129Z"
   },
   {
    "duration": 4,
    "start_time": "2022-03-10T18:11:13.848Z"
   },
   {
    "duration": 3,
    "start_time": "2022-03-10T18:11:31.419Z"
   },
   {
    "duration": 3,
    "start_time": "2022-03-10T18:11:38.854Z"
   },
   {
    "duration": 3,
    "start_time": "2022-03-10T18:12:00.401Z"
   },
   {
    "duration": 115,
    "start_time": "2022-03-10T18:19:34.934Z"
   },
   {
    "duration": 369,
    "start_time": "2022-03-10T18:20:10.119Z"
   },
   {
    "duration": 485,
    "start_time": "2022-03-10T18:20:16.826Z"
   },
   {
    "duration": 6,
    "start_time": "2022-03-10T18:20:23.990Z"
   },
   {
    "duration": 105,
    "start_time": "2022-03-10T18:20:59.083Z"
   },
   {
    "duration": 5,
    "start_time": "2022-03-10T18:21:09.832Z"
   },
   {
    "duration": 91,
    "start_time": "2022-03-10T18:21:54.592Z"
   },
   {
    "duration": 939,
    "start_time": "2022-03-10T18:22:03.540Z"
   },
   {
    "duration": 100,
    "start_time": "2022-03-10T18:22:18.863Z"
   },
   {
    "duration": 105,
    "start_time": "2022-03-10T18:22:28.125Z"
   },
   {
    "duration": 296,
    "start_time": "2022-03-10T18:23:18.209Z"
   },
   {
    "duration": 6,
    "start_time": "2022-03-10T18:23:25.033Z"
   },
   {
    "duration": 5,
    "start_time": "2022-03-10T18:23:41.275Z"
   },
   {
    "duration": 5,
    "start_time": "2022-03-10T18:23:45.132Z"
   },
   {
    "duration": 5,
    "start_time": "2022-03-10T18:24:00.541Z"
   },
   {
    "duration": 3,
    "start_time": "2022-03-10T18:29:36.529Z"
   },
   {
    "duration": 2,
    "start_time": "2022-03-10T18:30:29.873Z"
   },
   {
    "duration": 3,
    "start_time": "2022-03-10T18:57:28.895Z"
   },
   {
    "duration": 581,
    "start_time": "2022-03-10T18:58:40.838Z"
   },
   {
    "duration": 592,
    "start_time": "2022-03-10T18:58:57.131Z"
   },
   {
    "duration": 300,
    "start_time": "2022-03-10T18:59:21.993Z"
   },
   {
    "duration": 3,
    "start_time": "2022-03-10T18:59:24.514Z"
   },
   {
    "duration": 3,
    "start_time": "2022-03-10T18:59:31.591Z"
   },
   {
    "duration": 343,
    "start_time": "2022-03-10T19:00:15.925Z"
   },
   {
    "duration": 8,
    "start_time": "2022-03-10T19:00:45.794Z"
   },
   {
    "duration": 301,
    "start_time": "2022-03-10T19:00:51.153Z"
   },
   {
    "duration": 8,
    "start_time": "2022-03-10T19:02:20.753Z"
   },
   {
    "duration": 592,
    "start_time": "2022-03-10T19:02:28.252Z"
   },
   {
    "duration": 7,
    "start_time": "2022-03-10T19:02:46.509Z"
   },
   {
    "duration": 617,
    "start_time": "2022-03-10T19:03:15.290Z"
   },
   {
    "duration": 314,
    "start_time": "2022-03-10T19:04:04.147Z"
   },
   {
    "duration": 316,
    "start_time": "2022-03-10T19:05:22.515Z"
   },
   {
    "duration": 6,
    "start_time": "2022-03-10T19:05:49.222Z"
   },
   {
    "duration": 309,
    "start_time": "2022-03-10T19:06:18.369Z"
   },
   {
    "duration": 318,
    "start_time": "2022-03-10T19:06:37.409Z"
   },
   {
    "duration": 300,
    "start_time": "2022-03-10T19:06:43.107Z"
   },
   {
    "duration": 4,
    "start_time": "2022-03-10T19:07:00.084Z"
   },
   {
    "duration": 359,
    "start_time": "2022-03-10T19:08:37.995Z"
   },
   {
    "duration": 10,
    "start_time": "2022-03-10T19:09:09.463Z"
   },
   {
    "duration": 3,
    "start_time": "2022-03-10T19:09:32.892Z"
   },
   {
    "duration": 605,
    "start_time": "2022-03-10T19:09:33.887Z"
   },
   {
    "duration": 9,
    "start_time": "2022-03-10T19:10:48.845Z"
   },
   {
    "duration": 6,
    "start_time": "2022-03-10T19:11:20.761Z"
   },
   {
    "duration": 7,
    "start_time": "2022-03-10T19:11:29.854Z"
   },
   {
    "duration": 4,
    "start_time": "2022-03-10T19:11:30.689Z"
   },
   {
    "duration": 8,
    "start_time": "2022-03-10T19:11:57.874Z"
   },
   {
    "duration": 3,
    "start_time": "2022-03-10T19:12:30.940Z"
   },
   {
    "duration": 10,
    "start_time": "2022-03-10T19:12:32.027Z"
   },
   {
    "duration": 5,
    "start_time": "2022-03-10T19:13:05.220Z"
   },
   {
    "duration": 11,
    "start_time": "2022-03-10T19:13:07.802Z"
   },
   {
    "duration": 313,
    "start_time": "2022-03-10T19:16:25.454Z"
   },
   {
    "duration": 298,
    "start_time": "2022-03-10T19:16:33.700Z"
   },
   {
    "duration": 6862,
    "start_time": "2022-03-10T19:17:05.636Z"
   },
   {
    "duration": 6542,
    "start_time": "2022-03-10T19:17:20.187Z"
   },
   {
    "duration": 298,
    "start_time": "2022-03-10T19:17:39.655Z"
   },
   {
    "duration": 3,
    "start_time": "2022-03-10T19:18:01.581Z"
   },
   {
    "duration": 305,
    "start_time": "2022-03-10T19:18:02.990Z"
   },
   {
    "duration": 4,
    "start_time": "2022-03-10T19:18:11.362Z"
   },
   {
    "duration": 313,
    "start_time": "2022-03-10T19:18:13.586Z"
   },
   {
    "duration": 348,
    "start_time": "2022-03-10T19:18:47.895Z"
   },
   {
    "duration": 318,
    "start_time": "2022-03-10T19:18:55.181Z"
   },
   {
    "duration": 8,
    "start_time": "2022-03-10T19:19:19.578Z"
   },
   {
    "duration": 4,
    "start_time": "2022-03-10T19:19:21.098Z"
   },
   {
    "duration": 9,
    "start_time": "2022-03-10T19:19:21.716Z"
   },
   {
    "duration": 4,
    "start_time": "2022-03-10T19:19:30.100Z"
   },
   {
    "duration": 385,
    "start_time": "2022-03-10T19:20:26.006Z"
   },
   {
    "duration": 587,
    "start_time": "2022-03-10T19:20:42.408Z"
   },
   {
    "duration": 302,
    "start_time": "2022-03-10T19:21:33.872Z"
   },
   {
    "duration": 3,
    "start_time": "2022-03-10T19:23:15.334Z"
   },
   {
    "duration": 5,
    "start_time": "2022-03-10T19:23:18.525Z"
   },
   {
    "duration": 3,
    "start_time": "2022-03-10T19:23:33.321Z"
   },
   {
    "duration": 8,
    "start_time": "2022-03-10T19:23:39.815Z"
   },
   {
    "duration": 3,
    "start_time": "2022-03-10T19:23:48.197Z"
   },
   {
    "duration": 3,
    "start_time": "2022-03-10T19:23:48.513Z"
   },
   {
    "duration": 8,
    "start_time": "2022-03-10T19:23:49.187Z"
   },
   {
    "duration": 4,
    "start_time": "2022-03-10T19:23:51.356Z"
   },
   {
    "duration": 607,
    "start_time": "2022-03-10T19:24:04.494Z"
   },
   {
    "duration": 4,
    "start_time": "2022-03-10T19:24:44.371Z"
   },
   {
    "duration": 5,
    "start_time": "2022-03-10T19:24:51.239Z"
   },
   {
    "duration": 4,
    "start_time": "2022-03-10T19:25:11.647Z"
   },
   {
    "duration": 3,
    "start_time": "2022-03-10T19:26:08.993Z"
   },
   {
    "duration": 5,
    "start_time": "2022-03-10T19:26:20.541Z"
   },
   {
    "duration": 3,
    "start_time": "2022-03-10T19:27:01.589Z"
   },
   {
    "duration": 383,
    "start_time": "2022-03-10T19:27:04.610Z"
   },
   {
    "duration": 4,
    "start_time": "2022-03-10T19:28:06.899Z"
   },
   {
    "duration": 5,
    "start_time": "2022-03-10T19:28:11.796Z"
   },
   {
    "duration": 290,
    "start_time": "2022-03-10T19:28:22.164Z"
   },
   {
    "duration": 3,
    "start_time": "2022-03-10T19:29:42.459Z"
   },
   {
    "duration": 335,
    "start_time": "2022-03-10T19:29:48.580Z"
   },
   {
    "duration": 292,
    "start_time": "2022-03-10T19:29:59.142Z"
   },
   {
    "duration": 3,
    "start_time": "2022-03-10T19:30:04.522Z"
   },
   {
    "duration": 332,
    "start_time": "2022-03-10T19:30:07.082Z"
   },
   {
    "duration": 653,
    "start_time": "2022-03-10T19:30:10.139Z"
   },
   {
    "duration": 10,
    "start_time": "2022-03-10T19:30:25.455Z"
   },
   {
    "duration": 407,
    "start_time": "2022-03-10T19:30:27.088Z"
   },
   {
    "duration": 5,
    "start_time": "2022-03-10T19:30:40.878Z"
   },
   {
    "duration": 308,
    "start_time": "2022-03-10T19:30:45.420Z"
   },
   {
    "duration": 3,
    "start_time": "2022-03-10T19:31:47.706Z"
   },
   {
    "duration": 8,
    "start_time": "2022-03-10T19:31:49.246Z"
   },
   {
    "duration": 296,
    "start_time": "2022-03-10T19:31:49.774Z"
   },
   {
    "duration": 3,
    "start_time": "2022-03-10T19:31:52.534Z"
   },
   {
    "duration": 3,
    "start_time": "2022-03-10T19:32:04.890Z"
   },
   {
    "duration": 4,
    "start_time": "2022-03-10T19:32:06.440Z"
   },
   {
    "duration": 282,
    "start_time": "2022-03-10T19:32:11.691Z"
   },
   {
    "duration": 5,
    "start_time": "2022-03-10T19:32:20.422Z"
   },
   {
    "duration": 295,
    "start_time": "2022-03-10T19:32:21.482Z"
   },
   {
    "duration": 8,
    "start_time": "2022-03-10T19:32:31.599Z"
   },
   {
    "duration": 336,
    "start_time": "2022-03-10T19:32:32.756Z"
   },
   {
    "duration": 3,
    "start_time": "2022-03-10T19:32:39.106Z"
   },
   {
    "duration": 8,
    "start_time": "2022-03-10T19:32:40.115Z"
   },
   {
    "duration": 4,
    "start_time": "2022-03-10T19:32:42.152Z"
   },
   {
    "duration": 294,
    "start_time": "2022-03-10T19:32:52.757Z"
   },
   {
    "duration": 6,
    "start_time": "2022-03-10T19:32:58.403Z"
   },
   {
    "duration": 300,
    "start_time": "2022-03-10T19:32:59.143Z"
   },
   {
    "duration": 4,
    "start_time": "2022-03-10T19:33:01.906Z"
   },
   {
    "duration": 3,
    "start_time": "2022-03-10T19:33:12.455Z"
   },
   {
    "duration": 3,
    "start_time": "2022-03-10T19:33:15.832Z"
   },
   {
    "duration": 8,
    "start_time": "2022-03-10T19:33:22.867Z"
   },
   {
    "duration": 3,
    "start_time": "2022-03-10T19:33:23.738Z"
   },
   {
    "duration": 5,
    "start_time": "2022-03-10T19:33:33.211Z"
   },
   {
    "duration": 6,
    "start_time": "2022-03-10T19:33:34.281Z"
   },
   {
    "duration": 3,
    "start_time": "2022-03-10T19:33:35.264Z"
   },
   {
    "duration": 306,
    "start_time": "2022-03-10T19:33:37.472Z"
   },
   {
    "duration": 1884,
    "start_time": "2022-03-10T19:33:51.704Z"
   },
   {
    "duration": 328,
    "start_time": "2022-03-10T19:33:53.590Z"
   },
   {
    "duration": 13,
    "start_time": "2022-03-10T19:33:53.922Z"
   },
   {
    "duration": 10,
    "start_time": "2022-03-10T19:33:53.937Z"
   },
   {
    "duration": 11,
    "start_time": "2022-03-10T19:33:53.948Z"
   },
   {
    "duration": 16648,
    "start_time": "2022-03-10T19:33:53.960Z"
   },
   {
    "duration": 180,
    "start_time": "2022-03-10T19:34:10.610Z"
   },
   {
    "duration": 29,
    "start_time": "2022-03-10T19:34:10.792Z"
   },
   {
    "duration": 17,
    "start_time": "2022-03-10T19:34:10.823Z"
   },
   {
    "duration": 935,
    "start_time": "2022-03-10T19:34:10.841Z"
   },
   {
    "duration": 167,
    "start_time": "2022-03-10T19:34:11.777Z"
   },
   {
    "duration": 8,
    "start_time": "2022-03-10T19:34:11.945Z"
   },
   {
    "duration": 18,
    "start_time": "2022-03-10T19:34:11.955Z"
   },
   {
    "duration": 9,
    "start_time": "2022-03-10T19:34:11.975Z"
   },
   {
    "duration": 6,
    "start_time": "2022-03-10T19:34:12.006Z"
   },
   {
    "duration": 95,
    "start_time": "2022-03-10T19:34:12.014Z"
   },
   {
    "duration": 96,
    "start_time": "2022-03-10T19:34:12.111Z"
   },
   {
    "duration": 10,
    "start_time": "2022-03-10T19:34:12.208Z"
   },
   {
    "duration": 88,
    "start_time": "2022-03-10T19:34:12.221Z"
   },
   {
    "duration": 111,
    "start_time": "2022-03-10T19:34:12.311Z"
   },
   {
    "duration": 15,
    "start_time": "2022-03-10T19:34:12.424Z"
   },
   {
    "duration": 5,
    "start_time": "2022-03-10T19:34:12.505Z"
   },
   {
    "duration": 99,
    "start_time": "2022-03-10T19:34:12.512Z"
   },
   {
    "duration": 8,
    "start_time": "2022-03-10T19:34:12.612Z"
   },
   {
    "duration": 5,
    "start_time": "2022-03-10T19:34:12.621Z"
   },
   {
    "duration": 4,
    "start_time": "2022-03-10T19:34:12.628Z"
   },
   {
    "duration": 6,
    "start_time": "2022-03-10T19:34:12.633Z"
   },
   {
    "duration": 9,
    "start_time": "2022-03-10T19:34:12.640Z"
   },
   {
    "duration": 8,
    "start_time": "2022-03-10T19:34:12.650Z"
   },
   {
    "duration": 9,
    "start_time": "2022-03-10T19:34:12.659Z"
   },
   {
    "duration": 394,
    "start_time": "2022-03-10T19:34:12.670Z"
   },
   {
    "duration": 290,
    "start_time": "2022-03-10T19:34:12.775Z"
   },
   {
    "duration": 290,
    "start_time": "2022-03-10T19:34:12.776Z"
   },
   {
    "duration": 290,
    "start_time": "2022-03-10T19:34:12.777Z"
   },
   {
    "duration": 291,
    "start_time": "2022-03-10T19:34:12.777Z"
   },
   {
    "duration": 289,
    "start_time": "2022-03-10T19:34:12.780Z"
   },
   {
    "duration": 289,
    "start_time": "2022-03-10T19:34:12.781Z"
   },
   {
    "duration": 289,
    "start_time": "2022-03-10T19:34:12.782Z"
   },
   {
    "duration": 4,
    "start_time": "2022-03-10T19:35:26.729Z"
   },
   {
    "duration": 5,
    "start_time": "2022-03-10T19:35:27.583Z"
   },
   {
    "duration": 4,
    "start_time": "2022-03-10T19:35:29.127Z"
   },
   {
    "duration": 5,
    "start_time": "2022-03-10T19:35:29.963Z"
   },
   {
    "duration": 6,
    "start_time": "2022-03-10T19:35:31.397Z"
   },
   {
    "duration": 4,
    "start_time": "2022-03-10T19:35:32.150Z"
   },
   {
    "duration": 652,
    "start_time": "2022-03-10T19:35:33.295Z"
   },
   {
    "duration": 406,
    "start_time": "2022-03-10T19:36:07.623Z"
   },
   {
    "duration": 3,
    "start_time": "2022-03-10T19:38:45.983Z"
   },
   {
    "duration": 8,
    "start_time": "2022-03-10T19:39:08.089Z"
   },
   {
    "duration": 1812,
    "start_time": "2022-03-10T19:39:46.835Z"
   },
   {
    "duration": 1339,
    "start_time": "2022-03-10T19:41:56.972Z"
   },
   {
    "duration": 4,
    "start_time": "2022-03-10T19:44:16.600Z"
   },
   {
    "duration": 12,
    "start_time": "2022-03-10T19:44:21.219Z"
   },
   {
    "duration": 95,
    "start_time": "2022-03-10T19:44:34.667Z"
   },
   {
    "duration": 308,
    "start_time": "2022-03-10T19:44:36.482Z"
   },
   {
    "duration": 299,
    "start_time": "2022-03-10T19:44:42.131Z"
   },
   {
    "duration": 5,
    "start_time": "2022-03-10T19:44:58.378Z"
   },
   {
    "duration": 1364,
    "start_time": "2022-03-10T19:46:23.016Z"
   },
   {
    "duration": 9,
    "start_time": "2022-03-10T19:54:59.894Z"
   },
   {
    "duration": 4,
    "start_time": "2022-03-10T19:55:09.839Z"
   },
   {
    "duration": 5,
    "start_time": "2022-03-10T19:57:00.842Z"
   },
   {
    "duration": 1644,
    "start_time": "2022-03-10T19:59:29.491Z"
   },
   {
    "duration": 1660,
    "start_time": "2022-03-10T19:59:55.629Z"
   },
   {
    "duration": 16,
    "start_time": "2022-03-10T20:00:07.567Z"
   },
   {
    "duration": 3,
    "start_time": "2022-03-10T20:00:40.740Z"
   },
   {
    "duration": 1854,
    "start_time": "2022-03-10T20:00:44.899Z"
   },
   {
    "duration": 1305,
    "start_time": "2022-03-10T20:00:48.700Z"
   },
   {
    "duration": 3,
    "start_time": "2022-03-10T20:02:19.117Z"
   },
   {
    "duration": 8,
    "start_time": "2022-03-10T20:02:20.713Z"
   },
   {
    "duration": 9,
    "start_time": "2022-03-10T20:02:30.299Z"
   },
   {
    "duration": 9,
    "start_time": "2022-03-10T20:02:36.717Z"
   },
   {
    "duration": 3,
    "start_time": "2022-03-10T20:03:02.661Z"
   },
   {
    "duration": 336,
    "start_time": "2022-03-10T20:04:07.517Z"
   },
   {
    "duration": 4,
    "start_time": "2022-03-10T20:06:28.580Z"
   },
   {
    "duration": 3,
    "start_time": "2022-03-10T20:10:19.441Z"
   },
   {
    "duration": 6,
    "start_time": "2022-03-10T20:10:20.180Z"
   },
   {
    "duration": 4,
    "start_time": "2022-03-10T20:10:37.883Z"
   },
   {
    "duration": 4,
    "start_time": "2022-03-10T20:10:48.076Z"
   },
   {
    "duration": 4,
    "start_time": "2022-03-10T20:11:09.940Z"
   },
   {
    "duration": 4,
    "start_time": "2022-03-10T20:11:21.040Z"
   },
   {
    "duration": 3,
    "start_time": "2022-03-10T20:11:22.633Z"
   },
   {
    "duration": 4,
    "start_time": "2022-03-10T20:11:27.091Z"
   },
   {
    "duration": 6,
    "start_time": "2022-03-10T20:11:33.284Z"
   },
   {
    "duration": 4,
    "start_time": "2022-03-10T20:11:34.709Z"
   },
   {
    "duration": 5,
    "start_time": "2022-03-10T20:11:35.488Z"
   },
   {
    "duration": 5,
    "start_time": "2022-03-10T20:11:36.550Z"
   },
   {
    "duration": 4,
    "start_time": "2022-03-10T20:12:03.942Z"
   },
   {
    "duration": 4,
    "start_time": "2022-03-10T20:12:08.357Z"
   },
   {
    "duration": 5,
    "start_time": "2022-03-10T20:12:16.445Z"
   },
   {
    "duration": 4,
    "start_time": "2022-03-10T20:12:18.178Z"
   },
   {
    "duration": 4,
    "start_time": "2022-03-10T20:12:19.926Z"
   },
   {
    "duration": 4,
    "start_time": "2022-03-10T20:12:22.937Z"
   },
   {
    "duration": 4,
    "start_time": "2022-03-10T20:12:23.597Z"
   },
   {
    "duration": 4,
    "start_time": "2022-03-10T20:12:39.346Z"
   },
   {
    "duration": 4,
    "start_time": "2022-03-10T20:12:41.464Z"
   },
   {
    "duration": 3,
    "start_time": "2022-03-10T20:13:34.076Z"
   },
   {
    "duration": 4,
    "start_time": "2022-03-10T20:13:38.927Z"
   },
   {
    "duration": 5,
    "start_time": "2022-03-10T20:14:16.531Z"
   },
   {
    "duration": 3,
    "start_time": "2022-03-10T20:15:11.557Z"
   },
   {
    "duration": 5,
    "start_time": "2022-03-10T20:15:14.474Z"
   },
   {
    "duration": 3,
    "start_time": "2022-03-10T20:15:35.786Z"
   },
   {
    "duration": 5,
    "start_time": "2022-03-10T20:15:40.208Z"
   },
   {
    "duration": 5,
    "start_time": "2022-03-10T20:16:34.199Z"
   },
   {
    "duration": 5,
    "start_time": "2022-03-10T20:16:54.117Z"
   },
   {
    "duration": 4,
    "start_time": "2022-03-10T20:16:55.485Z"
   },
   {
    "duration": 5,
    "start_time": "2022-03-10T20:16:59.671Z"
   },
   {
    "duration": 4,
    "start_time": "2022-03-10T20:17:09.269Z"
   },
   {
    "duration": 4,
    "start_time": "2022-03-10T20:17:19.916Z"
   },
   {
    "duration": 4,
    "start_time": "2022-03-10T20:17:34.968Z"
   },
   {
    "duration": 4,
    "start_time": "2022-03-10T20:17:58.193Z"
   },
   {
    "duration": 6,
    "start_time": "2022-03-10T20:18:40.327Z"
   },
   {
    "duration": 5,
    "start_time": "2022-03-10T20:18:41.684Z"
   },
   {
    "duration": 5,
    "start_time": "2022-03-10T20:18:45.483Z"
   },
   {
    "duration": 4,
    "start_time": "2022-03-10T20:18:46.940Z"
   },
   {
    "duration": 6,
    "start_time": "2022-03-10T20:18:48.339Z"
   },
   {
    "duration": 5,
    "start_time": "2022-03-10T20:18:49.884Z"
   },
   {
    "duration": 5,
    "start_time": "2022-03-10T20:18:51.021Z"
   },
   {
    "duration": 4,
    "start_time": "2022-03-10T20:18:52.047Z"
   },
   {
    "duration": 6,
    "start_time": "2022-03-10T20:19:43.922Z"
   },
   {
    "duration": 5,
    "start_time": "2022-03-10T20:19:47.210Z"
   },
   {
    "duration": 6,
    "start_time": "2022-03-10T20:19:49.016Z"
   },
   {
    "duration": 7,
    "start_time": "2022-03-10T20:19:52.486Z"
   },
   {
    "duration": 6,
    "start_time": "2022-03-10T20:19:59.093Z"
   },
   {
    "duration": 3,
    "start_time": "2022-03-10T20:20:01.229Z"
   },
   {
    "duration": 3,
    "start_time": "2022-03-10T20:20:02.842Z"
   },
   {
    "duration": 6,
    "start_time": "2022-03-10T20:20:04.795Z"
   },
   {
    "duration": 4,
    "start_time": "2022-03-10T20:22:46.416Z"
   },
   {
    "duration": 4,
    "start_time": "2022-03-10T20:22:49.246Z"
   },
   {
    "duration": 5,
    "start_time": "2022-03-10T20:23:25.509Z"
   },
   {
    "duration": 4,
    "start_time": "2022-03-10T20:23:29.630Z"
   },
   {
    "duration": 5,
    "start_time": "2022-03-10T20:25:10.483Z"
   },
   {
    "duration": 6,
    "start_time": "2022-03-10T20:25:12.014Z"
   },
   {
    "duration": 5,
    "start_time": "2022-03-10T20:25:13.203Z"
   },
   {
    "duration": 5,
    "start_time": "2022-03-10T20:25:14.792Z"
   },
   {
    "duration": 6,
    "start_time": "2022-03-10T20:25:16.136Z"
   },
   {
    "duration": 4,
    "start_time": "2022-03-10T20:25:18.027Z"
   },
   {
    "duration": 4,
    "start_time": "2022-03-10T20:25:19.350Z"
   },
   {
    "duration": 4,
    "start_time": "2022-03-10T20:25:21.236Z"
   },
   {
    "duration": 1286,
    "start_time": "2022-03-10T20:25:41.925Z"
   },
   {
    "duration": 5,
    "start_time": "2022-03-10T20:29:04.156Z"
   },
   {
    "duration": 4,
    "start_time": "2022-03-10T20:29:35.043Z"
   },
   {
    "duration": 4,
    "start_time": "2022-03-10T20:29:55.657Z"
   },
   {
    "duration": 4,
    "start_time": "2022-03-10T20:30:33.257Z"
   },
   {
    "duration": 4,
    "start_time": "2022-03-10T20:30:35.806Z"
   },
   {
    "duration": 3,
    "start_time": "2022-03-10T20:31:15.352Z"
   },
   {
    "duration": 333,
    "start_time": "2022-03-10T20:31:18.803Z"
   },
   {
    "duration": 5,
    "start_time": "2022-03-10T20:31:26.728Z"
   },
   {
    "duration": 3,
    "start_time": "2022-03-10T20:36:32.415Z"
   },
   {
    "duration": 3,
    "start_time": "2022-03-10T20:36:50.545Z"
   },
   {
    "duration": 5,
    "start_time": "2022-03-10T20:36:54.773Z"
   },
   {
    "duration": 5,
    "start_time": "2022-03-10T20:36:57.372Z"
   },
   {
    "duration": 4,
    "start_time": "2022-03-10T20:37:05.968Z"
   },
   {
    "duration": 4,
    "start_time": "2022-03-10T20:37:10.366Z"
   },
   {
    "duration": 4,
    "start_time": "2022-03-10T20:37:11.642Z"
   },
   {
    "duration": 6,
    "start_time": "2022-03-10T20:37:48.242Z"
   },
   {
    "duration": 3,
    "start_time": "2022-03-10T20:38:17.789Z"
   },
   {
    "duration": 610,
    "start_time": "2022-03-10T20:38:45.612Z"
   },
   {
    "duration": 6,
    "start_time": "2022-03-10T20:38:52.696Z"
   },
   {
    "duration": 5,
    "start_time": "2022-03-10T20:39:08.055Z"
   },
   {
    "duration": 6,
    "start_time": "2022-03-10T20:39:19.085Z"
   },
   {
    "duration": 4,
    "start_time": "2022-03-10T20:39:24.585Z"
   },
   {
    "duration": 4,
    "start_time": "2022-03-10T20:39:26.629Z"
   },
   {
    "duration": 4,
    "start_time": "2022-03-10T20:39:28.555Z"
   },
   {
    "duration": 6,
    "start_time": "2022-03-10T20:39:47.321Z"
   },
   {
    "duration": 4,
    "start_time": "2022-03-10T20:39:52.735Z"
   },
   {
    "duration": 5,
    "start_time": "2022-03-10T20:39:54.277Z"
   },
   {
    "duration": 5,
    "start_time": "2022-03-10T20:39:56.136Z"
   },
   {
    "duration": 5,
    "start_time": "2022-03-10T20:39:56.992Z"
   },
   {
    "duration": 6,
    "start_time": "2022-03-10T20:39:58.520Z"
   },
   {
    "duration": 4,
    "start_time": "2022-03-10T20:39:59.829Z"
   },
   {
    "duration": 3,
    "start_time": "2022-03-10T20:40:00.686Z"
   },
   {
    "duration": 4,
    "start_time": "2022-03-10T20:40:01.608Z"
   },
   {
    "duration": 5,
    "start_time": "2022-03-10T20:40:18.202Z"
   },
   {
    "duration": 3,
    "start_time": "2022-03-10T20:41:30.372Z"
   },
   {
    "duration": 6,
    "start_time": "2022-03-10T20:41:34.570Z"
   },
   {
    "duration": 290,
    "start_time": "2022-03-10T20:42:07.776Z"
   },
   {
    "duration": 19,
    "start_time": "2022-03-10T20:42:41.766Z"
   },
   {
    "duration": 1263,
    "start_time": "2022-03-10T20:42:51.576Z"
   },
   {
    "duration": 286,
    "start_time": "2022-03-10T20:43:54.491Z"
   },
   {
    "duration": 4,
    "start_time": "2022-03-10T20:44:12.162Z"
   },
   {
    "duration": 1310,
    "start_time": "2022-03-10T20:44:36.382Z"
   },
   {
    "duration": 5,
    "start_time": "2022-03-10T20:44:49.901Z"
   },
   {
    "duration": 1253,
    "start_time": "2022-03-10T20:45:16.112Z"
   },
   {
    "duration": 5,
    "start_time": "2022-03-10T20:45:19.735Z"
   },
   {
    "duration": 1506,
    "start_time": "2022-03-10T20:45:47.601Z"
   },
   {
    "duration": 5,
    "start_time": "2022-03-10T20:45:50.469Z"
   },
   {
    "duration": 1364,
    "start_time": "2022-03-10T20:46:39.399Z"
   },
   {
    "duration": 6,
    "start_time": "2022-03-10T20:47:03.482Z"
   },
   {
    "duration": 5,
    "start_time": "2022-03-10T20:47:21.392Z"
   },
   {
    "duration": 5,
    "start_time": "2022-03-10T20:47:22.432Z"
   },
   {
    "duration": 5,
    "start_time": "2022-03-10T20:47:29.301Z"
   },
   {
    "duration": 5,
    "start_time": "2022-03-10T20:47:31.978Z"
   },
   {
    "duration": 7,
    "start_time": "2022-03-10T20:47:33.516Z"
   },
   {
    "duration": 5,
    "start_time": "2022-03-10T20:47:34.765Z"
   },
   {
    "duration": 4,
    "start_time": "2022-03-10T20:47:35.916Z"
   },
   {
    "duration": 4,
    "start_time": "2022-03-10T20:47:37.400Z"
   },
   {
    "duration": 1266,
    "start_time": "2022-03-10T20:51:36.193Z"
   },
   {
    "duration": 4,
    "start_time": "2022-03-10T20:51:38.768Z"
   },
   {
    "duration": 5,
    "start_time": "2022-03-10T20:52:09.665Z"
   },
   {
    "duration": 5,
    "start_time": "2022-03-10T20:52:38.744Z"
   },
   {
    "duration": 5,
    "start_time": "2022-03-10T20:52:45.314Z"
   },
   {
    "duration": 4,
    "start_time": "2022-03-10T20:52:53.480Z"
   },
   {
    "duration": 4,
    "start_time": "2022-03-10T20:52:58.163Z"
   },
   {
    "duration": 1261,
    "start_time": "2022-03-10T20:54:07.708Z"
   },
   {
    "duration": 4,
    "start_time": "2022-03-10T20:54:10.535Z"
   },
   {
    "duration": 1541,
    "start_time": "2022-03-10T20:57:14.711Z"
   },
   {
    "duration": 1284,
    "start_time": "2022-03-10T20:57:54.160Z"
   },
   {
    "duration": 1294,
    "start_time": "2022-03-10T20:59:43.018Z"
   },
   {
    "duration": 7,
    "start_time": "2022-03-10T20:59:46.184Z"
   },
   {
    "duration": 1276,
    "start_time": "2022-03-10T20:59:51.757Z"
   },
   {
    "duration": 10,
    "start_time": "2022-03-10T20:59:54.246Z"
   },
   {
    "duration": 2084,
    "start_time": "2022-03-10T21:03:49.769Z"
   },
   {
    "duration": 326,
    "start_time": "2022-03-10T21:03:51.855Z"
   },
   {
    "duration": 13,
    "start_time": "2022-03-10T21:03:52.183Z"
   },
   {
    "duration": 11,
    "start_time": "2022-03-10T21:03:52.205Z"
   },
   {
    "duration": 11,
    "start_time": "2022-03-10T21:03:52.218Z"
   },
   {
    "duration": 15828,
    "start_time": "2022-03-10T21:03:52.230Z"
   },
   {
    "duration": 211,
    "start_time": "2022-03-10T21:04:08.060Z"
   },
   {
    "duration": 37,
    "start_time": "2022-03-10T21:04:08.272Z"
   },
   {
    "duration": 17,
    "start_time": "2022-03-10T21:04:08.311Z"
   },
   {
    "duration": 839,
    "start_time": "2022-03-10T21:04:08.329Z"
   },
   {
    "duration": 170,
    "start_time": "2022-03-10T21:04:09.170Z"
   },
   {
    "duration": 8,
    "start_time": "2022-03-10T21:04:09.342Z"
   },
   {
    "duration": 15,
    "start_time": "2022-03-10T21:04:09.351Z"
   },
   {
    "duration": 38,
    "start_time": "2022-03-10T21:04:09.368Z"
   },
   {
    "duration": 98,
    "start_time": "2022-03-10T21:04:09.408Z"
   },
   {
    "duration": 10,
    "start_time": "2022-03-10T21:04:09.508Z"
   },
   {
    "duration": 15,
    "start_time": "2022-03-10T21:04:09.519Z"
   },
   {
    "duration": 78,
    "start_time": "2022-03-10T21:04:09.535Z"
   },
   {
    "duration": 93,
    "start_time": "2022-03-10T21:04:09.615Z"
   },
   {
    "duration": 13,
    "start_time": "2022-03-10T21:04:09.710Z"
   },
   {
    "duration": 82,
    "start_time": "2022-03-10T21:04:09.724Z"
   },
   {
    "duration": 5,
    "start_time": "2022-03-10T21:04:09.808Z"
   },
   {
    "duration": 92,
    "start_time": "2022-03-10T21:04:09.815Z"
   },
   {
    "duration": 7,
    "start_time": "2022-03-10T21:04:09.908Z"
   },
   {
    "duration": 3,
    "start_time": "2022-03-10T21:04:09.917Z"
   },
   {
    "duration": 5,
    "start_time": "2022-03-10T21:04:09.922Z"
   },
   {
    "duration": 6,
    "start_time": "2022-03-10T21:04:09.930Z"
   },
   {
    "duration": 4,
    "start_time": "2022-03-10T21:04:09.938Z"
   },
   {
    "duration": 6,
    "start_time": "2022-03-10T21:04:09.944Z"
   },
   {
    "duration": 6,
    "start_time": "2022-03-10T21:04:09.951Z"
   },
   {
    "duration": 4,
    "start_time": "2022-03-10T21:04:09.959Z"
   },
   {
    "duration": 41,
    "start_time": "2022-03-10T21:04:09.964Z"
   },
   {
    "duration": 3,
    "start_time": "2022-03-10T21:04:10.007Z"
   },
   {
    "duration": 8,
    "start_time": "2022-03-10T21:04:10.011Z"
   },
   {
    "duration": 8,
    "start_time": "2022-03-10T21:04:10.020Z"
   },
   {
    "duration": 4,
    "start_time": "2022-03-10T21:04:10.030Z"
   },
   {
    "duration": 9,
    "start_time": "2022-03-10T21:04:10.036Z"
   },
   {
    "duration": 8,
    "start_time": "2022-03-10T21:04:10.046Z"
   },
   {
    "duration": 4,
    "start_time": "2022-03-10T21:04:10.056Z"
   },
   {
    "duration": 7,
    "start_time": "2022-03-10T21:04:10.062Z"
   },
   {
    "duration": 5,
    "start_time": "2022-03-10T21:04:10.070Z"
   },
   {
    "duration": 4,
    "start_time": "2022-03-10T21:04:10.105Z"
   },
   {
    "duration": 5,
    "start_time": "2022-03-10T21:04:10.111Z"
   },
   {
    "duration": 7,
    "start_time": "2022-03-10T21:04:10.117Z"
   },
   {
    "duration": 5,
    "start_time": "2022-03-10T21:04:10.125Z"
   },
   {
    "duration": 1284,
    "start_time": "2022-03-10T21:04:10.131Z"
   },
   {
    "duration": 4,
    "start_time": "2022-03-10T21:04:11.416Z"
   },
   {
    "duration": 1286,
    "start_time": "2022-03-10T21:04:11.422Z"
   },
   {
    "duration": 4,
    "start_time": "2022-03-10T21:04:12.710Z"
   },
   {
    "duration": 1297,
    "start_time": "2022-03-10T21:04:12.716Z"
   },
   {
    "duration": 6,
    "start_time": "2022-03-10T21:04:14.014Z"
   },
   {
    "duration": 1619,
    "start_time": "2022-03-12T08:30:16.171Z"
   },
   {
    "duration": 182,
    "start_time": "2022-03-12T08:30:17.613Z"
   },
   {
    "duration": 181,
    "start_time": "2022-03-12T08:30:17.615Z"
   },
   {
    "duration": 182,
    "start_time": "2022-03-12T08:30:17.616Z"
   },
   {
    "duration": 183,
    "start_time": "2022-03-12T08:30:17.617Z"
   },
   {
    "duration": 183,
    "start_time": "2022-03-12T08:30:17.618Z"
   },
   {
    "duration": 181,
    "start_time": "2022-03-12T08:30:17.622Z"
   },
   {
    "duration": 181,
    "start_time": "2022-03-12T08:30:17.623Z"
   },
   {
    "duration": 182,
    "start_time": "2022-03-12T08:30:17.624Z"
   },
   {
    "duration": 171,
    "start_time": "2022-03-12T08:30:17.636Z"
   },
   {
    "duration": 172,
    "start_time": "2022-03-12T08:30:17.637Z"
   },
   {
    "duration": 173,
    "start_time": "2022-03-12T08:30:17.638Z"
   },
   {
    "duration": 173,
    "start_time": "2022-03-12T08:30:17.639Z"
   },
   {
    "duration": 174,
    "start_time": "2022-03-12T08:30:17.640Z"
   },
   {
    "duration": 174,
    "start_time": "2022-03-12T08:30:17.641Z"
   },
   {
    "duration": 172,
    "start_time": "2022-03-12T08:30:17.645Z"
   },
   {
    "duration": 173,
    "start_time": "2022-03-12T08:30:17.646Z"
   },
   {
    "duration": 173,
    "start_time": "2022-03-12T08:30:17.647Z"
   },
   {
    "duration": 171,
    "start_time": "2022-03-12T08:30:17.650Z"
   },
   {
    "duration": 172,
    "start_time": "2022-03-12T08:30:17.651Z"
   },
   {
    "duration": 173,
    "start_time": "2022-03-12T08:30:17.652Z"
   },
   {
    "duration": 174,
    "start_time": "2022-03-12T08:30:17.652Z"
   },
   {
    "duration": 135,
    "start_time": "2022-03-12T08:30:17.693Z"
   },
   {
    "duration": 119,
    "start_time": "2022-03-12T08:30:17.710Z"
   },
   {
    "duration": 118,
    "start_time": "2022-03-12T08:30:17.713Z"
   },
   {
    "duration": 101,
    "start_time": "2022-03-12T08:30:17.731Z"
   },
   {
    "duration": 102,
    "start_time": "2022-03-12T08:30:17.732Z"
   },
   {
    "duration": 89,
    "start_time": "2022-03-12T08:30:17.746Z"
   },
   {
    "duration": 90,
    "start_time": "2022-03-12T08:30:17.747Z"
   },
   {
    "duration": 90,
    "start_time": "2022-03-12T08:30:17.748Z"
   },
   {
    "duration": 151,
    "start_time": "2022-03-12T08:30:17.749Z"
   },
   {
    "duration": 152,
    "start_time": "2022-03-12T08:30:17.750Z"
   },
   {
    "duration": 153,
    "start_time": "2022-03-12T08:30:17.751Z"
   },
   {
    "duration": 141,
    "start_time": "2022-03-12T08:30:17.765Z"
   },
   {
    "duration": 135,
    "start_time": "2022-03-12T08:30:17.772Z"
   },
   {
    "duration": 139,
    "start_time": "2022-03-12T08:30:17.772Z"
   },
   {
    "duration": 140,
    "start_time": "2022-03-12T08:30:17.773Z"
   },
   {
    "duration": 141,
    "start_time": "2022-03-12T08:30:17.774Z"
   },
   {
    "duration": 141,
    "start_time": "2022-03-12T08:30:17.775Z"
   },
   {
    "duration": 142,
    "start_time": "2022-03-12T08:30:17.776Z"
   },
   {
    "duration": 141,
    "start_time": "2022-03-12T08:30:17.778Z"
   },
   {
    "duration": 142,
    "start_time": "2022-03-12T08:30:17.779Z"
   },
   {
    "duration": 141,
    "start_time": "2022-03-12T08:30:17.781Z"
   },
   {
    "duration": 141,
    "start_time": "2022-03-12T08:30:17.783Z"
   },
   {
    "duration": 137,
    "start_time": "2022-03-12T08:30:17.788Z"
   },
   {
    "duration": 138,
    "start_time": "2022-03-12T08:30:17.789Z"
   },
   {
    "duration": 139,
    "start_time": "2022-03-12T08:30:17.790Z"
   },
   {
    "duration": 139,
    "start_time": "2022-03-12T08:30:17.791Z"
   },
   {
    "duration": 122,
    "start_time": "2022-03-12T08:30:17.810Z"
   },
   {
    "duration": 122,
    "start_time": "2022-03-12T08:30:17.811Z"
   },
   {
    "duration": 120,
    "start_time": "2022-03-12T08:30:17.815Z"
   },
   {
    "duration": 2188,
    "start_time": "2022-03-12T08:30:38.446Z"
   },
   {
    "duration": 11890,
    "start_time": "2022-03-12T08:30:45.247Z"
   },
   {
    "duration": 2442,
    "start_time": "2022-03-12T08:31:29.277Z"
   },
   {
    "duration": 365,
    "start_time": "2022-03-12T08:31:31.722Z"
   },
   {
    "duration": 16,
    "start_time": "2022-03-12T08:31:32.100Z"
   },
   {
    "duration": 15,
    "start_time": "2022-03-12T08:31:32.118Z"
   },
   {
    "duration": 14,
    "start_time": "2022-03-12T08:31:32.135Z"
   },
   {
    "duration": 18877,
    "start_time": "2022-03-12T08:31:32.150Z"
   },
   {
    "duration": 226,
    "start_time": "2022-03-12T08:31:51.030Z"
   },
   {
    "duration": 45,
    "start_time": "2022-03-12T08:31:51.259Z"
   },
   {
    "duration": 22,
    "start_time": "2022-03-12T08:31:51.306Z"
   },
   {
    "duration": 965,
    "start_time": "2022-03-12T08:31:51.330Z"
   },
   {
    "duration": 220,
    "start_time": "2022-03-12T08:31:52.302Z"
   },
   {
    "duration": 10,
    "start_time": "2022-03-12T08:31:52.524Z"
   },
   {
    "duration": 26,
    "start_time": "2022-03-12T08:31:52.536Z"
   },
   {
    "duration": 38,
    "start_time": "2022-03-12T08:31:52.564Z"
   },
   {
    "duration": 4,
    "start_time": "2022-03-12T08:31:52.605Z"
   },
   {
    "duration": 113,
    "start_time": "2022-03-12T08:31:52.610Z"
   },
   {
    "duration": 91,
    "start_time": "2022-03-12T08:31:52.726Z"
   },
   {
    "duration": 15,
    "start_time": "2022-03-12T08:31:52.819Z"
   },
   {
    "duration": 74,
    "start_time": "2022-03-12T08:31:52.837Z"
   },
   {
    "duration": 19,
    "start_time": "2022-03-12T08:31:53.002Z"
   },
   {
    "duration": 14,
    "start_time": "2022-03-12T08:31:53.024Z"
   },
   {
    "duration": 64,
    "start_time": "2022-03-12T08:31:53.041Z"
   },
   {
    "duration": 102,
    "start_time": "2022-03-12T08:31:53.108Z"
   },
   {
    "duration": 10,
    "start_time": "2022-03-12T08:31:53.213Z"
   },
   {
    "duration": 17,
    "start_time": "2022-03-12T08:31:53.225Z"
   },
   {
    "duration": 7,
    "start_time": "2022-03-12T08:31:53.247Z"
   },
   {
    "duration": 8,
    "start_time": "2022-03-12T08:31:53.257Z"
   },
   {
    "duration": 13,
    "start_time": "2022-03-12T08:31:53.267Z"
   },
   {
    "duration": 19,
    "start_time": "2022-03-12T08:31:53.282Z"
   },
   {
    "duration": 5,
    "start_time": "2022-03-12T08:31:53.303Z"
   },
   {
    "duration": 10,
    "start_time": "2022-03-12T08:31:53.310Z"
   },
   {
    "duration": 12,
    "start_time": "2022-03-12T08:31:53.322Z"
   },
   {
    "duration": 9,
    "start_time": "2022-03-12T08:31:53.336Z"
   },
   {
    "duration": 11,
    "start_time": "2022-03-12T08:31:53.347Z"
   },
   {
    "duration": 13,
    "start_time": "2022-03-12T08:31:53.360Z"
   },
   {
    "duration": 15,
    "start_time": "2022-03-12T08:31:53.375Z"
   },
   {
    "duration": 14,
    "start_time": "2022-03-12T08:31:53.392Z"
   },
   {
    "duration": 14,
    "start_time": "2022-03-12T08:31:53.408Z"
   },
   {
    "duration": 8,
    "start_time": "2022-03-12T08:31:53.424Z"
   },
   {
    "duration": 12,
    "start_time": "2022-03-12T08:31:53.434Z"
   },
   {
    "duration": 8,
    "start_time": "2022-03-12T08:31:53.448Z"
   },
   {
    "duration": 12,
    "start_time": "2022-03-12T08:31:53.458Z"
   },
   {
    "duration": 10,
    "start_time": "2022-03-12T08:31:53.471Z"
   },
   {
    "duration": 20,
    "start_time": "2022-03-12T08:31:53.483Z"
   },
   {
    "duration": 5,
    "start_time": "2022-03-12T08:31:53.505Z"
   },
   {
    "duration": 1513,
    "start_time": "2022-03-12T08:31:53.511Z"
   },
   {
    "duration": 4,
    "start_time": "2022-03-12T08:31:55.026Z"
   },
   {
    "duration": 1561,
    "start_time": "2022-03-12T08:31:55.032Z"
   },
   {
    "duration": 9,
    "start_time": "2022-03-12T08:31:56.595Z"
   },
   {
    "duration": 1559,
    "start_time": "2022-03-12T08:31:56.606Z"
   },
   {
    "duration": 7,
    "start_time": "2022-03-12T08:31:58.167Z"
   },
   {
    "duration": 7,
    "start_time": "2022-03-12T08:32:23.965Z"
   },
   {
    "duration": 2059,
    "start_time": "2022-03-12T08:32:29.110Z"
   },
   {
    "duration": 380,
    "start_time": "2022-03-12T08:32:31.171Z"
   },
   {
    "duration": 85,
    "start_time": "2022-03-12T08:32:31.554Z"
   },
   {
    "duration": 16,
    "start_time": "2022-03-12T08:32:31.641Z"
   },
   {
    "duration": 17,
    "start_time": "2022-03-12T08:32:31.660Z"
   },
   {
    "duration": 17927,
    "start_time": "2022-03-12T08:32:31.679Z"
   },
   {
    "duration": 187,
    "start_time": "2022-03-12T08:32:49.608Z"
   },
   {
    "duration": 22,
    "start_time": "2022-03-12T08:32:49.802Z"
   },
   {
    "duration": 74,
    "start_time": "2022-03-12T08:32:49.827Z"
   },
   {
    "duration": 1404,
    "start_time": "2022-03-12T08:32:49.905Z"
   },
   {
    "duration": 231,
    "start_time": "2022-03-12T08:32:51.312Z"
   },
   {
    "duration": 11,
    "start_time": "2022-03-12T08:32:51.545Z"
   },
   {
    "duration": 34,
    "start_time": "2022-03-12T08:32:51.558Z"
   },
   {
    "duration": 26,
    "start_time": "2022-03-12T08:32:51.594Z"
   },
   {
    "duration": 81,
    "start_time": "2022-03-12T08:32:51.623Z"
   },
   {
    "duration": 102,
    "start_time": "2022-03-12T08:32:51.706Z"
   },
   {
    "duration": 16,
    "start_time": "2022-03-12T08:32:51.810Z"
   },
   {
    "duration": 13,
    "start_time": "2022-03-12T08:32:51.829Z"
   },
   {
    "duration": 162,
    "start_time": "2022-03-12T08:32:51.844Z"
   },
   {
    "duration": 19,
    "start_time": "2022-03-12T08:32:52.008Z"
   },
   {
    "duration": 14,
    "start_time": "2022-03-12T08:32:52.029Z"
   },
   {
    "duration": 62,
    "start_time": "2022-03-12T08:32:52.045Z"
   },
   {
    "duration": 95,
    "start_time": "2022-03-12T08:32:52.109Z"
   },
   {
    "duration": 10,
    "start_time": "2022-03-12T08:32:52.207Z"
   },
   {
    "duration": 6,
    "start_time": "2022-03-12T08:32:52.219Z"
   },
   {
    "duration": 12,
    "start_time": "2022-03-12T08:32:52.227Z"
   },
   {
    "duration": 16,
    "start_time": "2022-03-12T08:32:52.243Z"
   },
   {
    "duration": 7,
    "start_time": "2022-03-12T08:32:52.261Z"
   },
   {
    "duration": 31,
    "start_time": "2022-03-12T08:32:52.270Z"
   },
   {
    "duration": 3,
    "start_time": "2022-03-12T08:32:52.304Z"
   },
   {
    "duration": 13,
    "start_time": "2022-03-12T08:32:52.309Z"
   },
   {
    "duration": 10,
    "start_time": "2022-03-12T08:32:52.325Z"
   },
   {
    "duration": 19,
    "start_time": "2022-03-12T08:32:52.337Z"
   },
   {
    "duration": 9,
    "start_time": "2022-03-12T08:32:52.358Z"
   },
   {
    "duration": 15,
    "start_time": "2022-03-12T08:32:52.369Z"
   },
   {
    "duration": 14,
    "start_time": "2022-03-12T08:32:52.387Z"
   },
   {
    "duration": 11,
    "start_time": "2022-03-12T08:32:52.403Z"
   },
   {
    "duration": 10,
    "start_time": "2022-03-12T08:32:52.416Z"
   },
   {
    "duration": 9,
    "start_time": "2022-03-12T08:32:52.428Z"
   },
   {
    "duration": 12,
    "start_time": "2022-03-12T08:32:52.439Z"
   },
   {
    "duration": 9,
    "start_time": "2022-03-12T08:32:52.453Z"
   },
   {
    "duration": 8,
    "start_time": "2022-03-12T08:32:52.464Z"
   },
   {
    "duration": 34,
    "start_time": "2022-03-12T08:32:52.474Z"
   },
   {
    "duration": 7,
    "start_time": "2022-03-12T08:32:52.510Z"
   },
   {
    "duration": 9,
    "start_time": "2022-03-12T08:32:52.518Z"
   },
   {
    "duration": 1599,
    "start_time": "2022-03-12T08:32:52.529Z"
   },
   {
    "duration": 5,
    "start_time": "2022-03-12T08:32:54.130Z"
   },
   {
    "duration": 1527,
    "start_time": "2022-03-12T08:32:54.138Z"
   },
   {
    "duration": 5,
    "start_time": "2022-03-12T08:32:55.667Z"
   },
   {
    "duration": 1582,
    "start_time": "2022-03-12T08:32:55.674Z"
   },
   {
    "duration": 8,
    "start_time": "2022-03-12T08:32:57.257Z"
   },
   {
    "duration": 2254,
    "start_time": "2022-03-12T08:33:39.118Z"
   },
   {
    "duration": 388,
    "start_time": "2022-03-12T08:33:41.375Z"
   },
   {
    "duration": 84,
    "start_time": "2022-03-12T08:33:41.765Z"
   },
   {
    "duration": 29,
    "start_time": "2022-03-12T08:33:41.851Z"
   },
   {
    "duration": 26,
    "start_time": "2022-03-12T08:33:41.882Z"
   },
   {
    "duration": 18302,
    "start_time": "2022-03-12T08:33:41.911Z"
   },
   {
    "duration": 202,
    "start_time": "2022-03-12T08:34:00.216Z"
   },
   {
    "duration": 22,
    "start_time": "2022-03-12T08:34:00.420Z"
   },
   {
    "duration": 66,
    "start_time": "2022-03-12T08:34:00.445Z"
   },
   {
    "duration": 1469,
    "start_time": "2022-03-12T08:34:00.515Z"
   },
   {
    "duration": 227,
    "start_time": "2022-03-12T08:34:01.986Z"
   },
   {
    "duration": 11,
    "start_time": "2022-03-12T08:34:02.214Z"
   },
   {
    "duration": 33,
    "start_time": "2022-03-12T08:34:02.227Z"
   },
   {
    "duration": 42,
    "start_time": "2022-03-12T08:34:02.262Z"
   },
   {
    "duration": 103,
    "start_time": "2022-03-12T08:34:02.308Z"
   },
   {
    "duration": 7,
    "start_time": "2022-03-12T08:34:02.502Z"
   },
   {
    "duration": 17,
    "start_time": "2022-03-12T08:34:02.511Z"
   },
   {
    "duration": 14,
    "start_time": "2022-03-12T08:34:02.531Z"
   },
   {
    "duration": 62,
    "start_time": "2022-03-12T08:34:02.547Z"
   },
   {
    "duration": 112,
    "start_time": "2022-03-12T08:34:02.611Z"
   },
   {
    "duration": 15,
    "start_time": "2022-03-12T08:34:02.725Z"
   },
   {
    "duration": 159,
    "start_time": "2022-03-12T08:34:02.743Z"
   },
   {
    "duration": 10,
    "start_time": "2022-03-12T08:34:02.904Z"
   },
   {
    "duration": 13,
    "start_time": "2022-03-12T08:34:02.916Z"
   },
   {
    "duration": 12,
    "start_time": "2022-03-12T08:34:02.930Z"
   },
   {
    "duration": 15,
    "start_time": "2022-03-12T08:34:02.944Z"
   },
   {
    "duration": 10,
    "start_time": "2022-03-12T08:34:02.964Z"
   },
   {
    "duration": 3,
    "start_time": "2022-03-12T08:34:02.977Z"
   },
   {
    "duration": 21,
    "start_time": "2022-03-12T08:34:02.982Z"
   },
   {
    "duration": 12,
    "start_time": "2022-03-12T08:34:03.005Z"
   },
   {
    "duration": 12,
    "start_time": "2022-03-12T08:34:03.020Z"
   },
   {
    "duration": 12,
    "start_time": "2022-03-12T08:34:03.034Z"
   },
   {
    "duration": 19,
    "start_time": "2022-03-12T08:34:03.048Z"
   },
   {
    "duration": 23,
    "start_time": "2022-03-12T08:34:03.069Z"
   },
   {
    "duration": 20,
    "start_time": "2022-03-12T08:34:03.094Z"
   },
   {
    "duration": 479,
    "start_time": "2022-03-12T08:34:03.116Z"
   },
   {
    "duration": 188,
    "start_time": "2022-03-12T08:34:03.409Z"
   },
   {
    "duration": 185,
    "start_time": "2022-03-12T08:34:03.414Z"
   },
   {
    "duration": 185,
    "start_time": "2022-03-12T08:34:03.415Z"
   },
   {
    "duration": 185,
    "start_time": "2022-03-12T08:34:03.416Z"
   },
   {
    "duration": 185,
    "start_time": "2022-03-12T08:34:03.417Z"
   },
   {
    "duration": 186,
    "start_time": "2022-03-12T08:34:03.417Z"
   },
   {
    "duration": 183,
    "start_time": "2022-03-12T08:34:03.421Z"
   },
   {
    "duration": 183,
    "start_time": "2022-03-12T08:34:03.422Z"
   },
   {
    "duration": 185,
    "start_time": "2022-03-12T08:34:03.422Z"
   },
   {
    "duration": 185,
    "start_time": "2022-03-12T08:34:03.423Z"
   },
   {
    "duration": 185,
    "start_time": "2022-03-12T08:34:03.424Z"
   },
   {
    "duration": 182,
    "start_time": "2022-03-12T08:34:03.428Z"
   },
   {
    "duration": 183,
    "start_time": "2022-03-12T08:34:03.428Z"
   },
   {
    "duration": 1526,
    "start_time": "2022-03-12T08:35:42.859Z"
   },
   {
    "duration": 6,
    "start_time": "2022-03-12T08:35:47.380Z"
   },
   {
    "duration": 1525,
    "start_time": "2022-03-12T08:35:48.384Z"
   },
   {
    "duration": 5,
    "start_time": "2022-03-12T08:35:49.911Z"
   },
   {
    "duration": 1588,
    "start_time": "2022-03-12T08:35:49.918Z"
   },
   {
    "duration": 7,
    "start_time": "2022-03-12T08:35:51.508Z"
   },
   {
    "duration": 73,
    "start_time": "2022-03-12T09:05:53.312Z"
   },
   {
    "duration": 73,
    "start_time": "2022-03-12T09:06:07.586Z"
   },
   {
    "duration": 1783,
    "start_time": "2022-03-12T09:06:21.750Z"
   },
   {
    "duration": 1861,
    "start_time": "2022-03-12T09:06:31.373Z"
   },
   {
    "duration": 1774,
    "start_time": "2022-03-12T09:07:02.625Z"
   },
   {
    "duration": 9,
    "start_time": "2022-03-12T09:07:27.858Z"
   },
   {
    "duration": 1657,
    "start_time": "2022-03-12T09:07:32.253Z"
   },
   {
    "duration": 1577,
    "start_time": "2022-03-12T09:07:44.072Z"
   },
   {
    "duration": 1616,
    "start_time": "2022-03-12T09:08:18.721Z"
   },
   {
    "duration": 1599,
    "start_time": "2022-03-12T09:10:26.377Z"
   },
   {
    "duration": 1572,
    "start_time": "2022-03-12T09:10:36.899Z"
   },
   {
    "duration": 1532,
    "start_time": "2022-03-12T09:10:43.105Z"
   },
   {
    "duration": 1674,
    "start_time": "2022-03-12T09:10:56.186Z"
   },
   {
    "duration": 1531,
    "start_time": "2022-03-12T09:11:04.088Z"
   },
   {
    "duration": 1857,
    "start_time": "2022-03-12T09:11:19.558Z"
   },
   {
    "duration": 1527,
    "start_time": "2022-03-12T09:11:37.754Z"
   },
   {
    "duration": 1510,
    "start_time": "2022-03-12T09:11:42.347Z"
   },
   {
    "duration": 1648,
    "start_time": "2022-03-12T09:11:59.813Z"
   },
   {
    "duration": 3,
    "start_time": "2022-03-12T09:12:31.704Z"
   },
   {
    "duration": 3,
    "start_time": "2022-03-12T09:12:59.225Z"
   },
   {
    "duration": 32,
    "start_time": "2022-03-12T09:12:59.794Z"
   },
   {
    "duration": 77,
    "start_time": "2022-03-12T09:13:40.118Z"
   },
   {
    "duration": 24,
    "start_time": "2022-03-12T09:13:45.265Z"
   },
   {
    "duration": 25,
    "start_time": "2022-03-12T09:13:50.068Z"
   },
   {
    "duration": 24,
    "start_time": "2022-03-12T09:13:50.693Z"
   },
   {
    "duration": 4,
    "start_time": "2022-03-12T09:13:51.966Z"
   },
   {
    "duration": 6,
    "start_time": "2022-03-12T09:13:52.496Z"
   },
   {
    "duration": 4,
    "start_time": "2022-03-12T09:14:11.863Z"
   },
   {
    "duration": 6,
    "start_time": "2022-03-12T09:14:24.502Z"
   },
   {
    "duration": 4,
    "start_time": "2022-03-12T09:15:09.381Z"
   },
   {
    "duration": 8,
    "start_time": "2022-03-12T09:15:11.152Z"
   },
   {
    "duration": 591,
    "start_time": "2022-03-12T09:15:17.601Z"
   },
   {
    "duration": 4,
    "start_time": "2022-03-12T09:15:37.898Z"
   },
   {
    "duration": 4,
    "start_time": "2022-03-12T09:15:38.391Z"
   },
   {
    "duration": 4,
    "start_time": "2022-03-12T09:15:39.446Z"
   },
   {
    "duration": 1623,
    "start_time": "2022-03-12T09:15:40.150Z"
   },
   {
    "duration": 1668,
    "start_time": "2022-03-12T09:16:23.413Z"
   },
   {
    "duration": 1526,
    "start_time": "2022-03-12T09:16:25.083Z"
   },
   {
    "duration": 2059,
    "start_time": "2022-03-12T09:57:51.507Z"
   },
   {
    "duration": 393,
    "start_time": "2022-03-12T09:57:53.569Z"
   },
   {
    "duration": 86,
    "start_time": "2022-03-12T09:57:53.966Z"
   },
   {
    "duration": 29,
    "start_time": "2022-03-12T09:57:54.054Z"
   },
   {
    "duration": 22,
    "start_time": "2022-03-12T09:57:54.085Z"
   },
   {
    "duration": 18295,
    "start_time": "2022-03-12T09:57:54.109Z"
   },
   {
    "duration": 204,
    "start_time": "2022-03-12T09:58:12.406Z"
   },
   {
    "duration": 22,
    "start_time": "2022-03-12T09:58:12.613Z"
   },
   {
    "duration": 68,
    "start_time": "2022-03-12T09:58:12.638Z"
   },
   {
    "duration": 1384,
    "start_time": "2022-03-12T09:58:12.708Z"
   },
   {
    "duration": 232,
    "start_time": "2022-03-12T09:58:14.094Z"
   },
   {
    "duration": 12,
    "start_time": "2022-03-12T09:58:14.328Z"
   },
   {
    "duration": 7,
    "start_time": "2022-03-12T09:58:14.342Z"
   },
   {
    "duration": 160,
    "start_time": "2022-03-12T09:58:14.351Z"
   },
   {
    "duration": 92,
    "start_time": "2022-03-12T09:58:14.513Z"
   },
   {
    "duration": 207,
    "start_time": "2022-03-12T09:58:14.608Z"
   },
   {
    "duration": 5,
    "start_time": "2022-03-12T09:58:14.818Z"
   },
   {
    "duration": 101,
    "start_time": "2022-03-12T09:58:14.902Z"
   },
   {
    "duration": 11,
    "start_time": "2022-03-12T09:58:15.005Z"
   },
   {
    "duration": 33,
    "start_time": "2022-03-12T09:58:15.018Z"
   },
   {
    "duration": 14,
    "start_time": "2022-03-12T09:58:15.053Z"
   },
   {
    "duration": 18,
    "start_time": "2022-03-12T09:58:15.069Z"
   },
   {
    "duration": 17,
    "start_time": "2022-03-12T09:58:15.089Z"
   },
   {
    "duration": 1613,
    "start_time": "2022-03-12T09:58:15.108Z"
   },
   {
    "duration": 1581,
    "start_time": "2022-03-12T09:58:16.723Z"
   },
   {
    "duration": 1599,
    "start_time": "2022-03-12T09:58:18.308Z"
   },
   {
    "duration": 341,
    "start_time": "2022-03-12T10:00:50.290Z"
   },
   {
    "duration": 41,
    "start_time": "2022-03-12T10:01:02.808Z"
   },
   {
    "duration": 3,
    "start_time": "2022-03-12T10:21:44.318Z"
   },
   {
    "duration": 3,
    "start_time": "2022-03-12T10:21:53.905Z"
   },
   {
    "duration": 3,
    "start_time": "2022-03-12T10:23:22.651Z"
   },
   {
    "duration": 3,
    "start_time": "2022-03-12T10:23:37.950Z"
   },
   {
    "duration": 1617,
    "start_time": "2022-03-12T10:31:31.464Z"
   },
   {
    "duration": 1530,
    "start_time": "2022-03-12T10:31:35.337Z"
   },
   {
    "duration": 2165,
    "start_time": "2022-03-12T10:34:22.404Z"
   },
   {
    "duration": 376,
    "start_time": "2022-03-12T10:34:24.571Z"
   },
   {
    "duration": 107,
    "start_time": "2022-03-12T10:34:24.949Z"
   },
   {
    "duration": 18744,
    "start_time": "2022-03-12T10:34:25.058Z"
   },
   {
    "duration": 189,
    "start_time": "2022-03-12T10:34:43.805Z"
   },
   {
    "duration": 23,
    "start_time": "2022-03-12T10:34:43.996Z"
   },
   {
    "duration": 21,
    "start_time": "2022-03-12T10:34:44.021Z"
   },
   {
    "duration": 1442,
    "start_time": "2022-03-12T10:34:44.045Z"
   },
   {
    "duration": 218,
    "start_time": "2022-03-12T10:34:45.502Z"
   },
   {
    "duration": 12,
    "start_time": "2022-03-12T10:34:45.722Z"
   },
   {
    "duration": 17,
    "start_time": "2022-03-12T10:34:45.736Z"
   },
   {
    "duration": 46,
    "start_time": "2022-03-12T10:34:45.755Z"
   },
   {
    "duration": 213,
    "start_time": "2022-03-12T10:34:45.804Z"
   },
   {
    "duration": 192,
    "start_time": "2022-03-12T10:34:46.019Z"
   },
   {
    "duration": 90,
    "start_time": "2022-03-12T10:34:46.214Z"
   },
   {
    "duration": 104,
    "start_time": "2022-03-12T10:34:46.307Z"
   },
   {
    "duration": 18,
    "start_time": "2022-03-12T10:34:46.413Z"
   },
   {
    "duration": 15,
    "start_time": "2022-03-12T10:34:46.433Z"
   },
   {
    "duration": 28,
    "start_time": "2022-03-12T10:34:46.450Z"
   },
   {
    "duration": 20,
    "start_time": "2022-03-12T10:34:46.480Z"
   },
   {
    "duration": 2331,
    "start_time": "2022-03-12T10:34:46.503Z"
   },
   {
    "duration": 2345,
    "start_time": "2022-03-12T10:34:48.836Z"
   },
   {
    "duration": 1617,
    "start_time": "2022-03-12T10:34:51.184Z"
   },
   {
    "duration": 228,
    "start_time": "2022-03-12T16:44:34.196Z"
   },
   {
    "duration": 21792,
    "start_time": "2022-03-12T16:45:00.034Z"
   },
   {
    "duration": 2041,
    "start_time": "2022-03-12T16:48:25.756Z"
   },
   {
    "duration": 328,
    "start_time": "2022-03-12T16:48:27.799Z"
   },
   {
    "duration": 33,
    "start_time": "2022-03-12T16:48:28.129Z"
   },
   {
    "duration": 17675,
    "start_time": "2022-03-12T16:48:28.164Z"
   },
   {
    "duration": 200,
    "start_time": "2022-03-12T16:48:45.841Z"
   },
   {
    "duration": 19,
    "start_time": "2022-03-12T16:48:46.043Z"
   },
   {
    "duration": 18,
    "start_time": "2022-03-12T16:48:46.064Z"
   },
   {
    "duration": 865,
    "start_time": "2022-03-12T16:48:46.133Z"
   },
   {
    "duration": 194,
    "start_time": "2022-03-12T16:48:47.000Z"
   },
   {
    "duration": 10,
    "start_time": "2022-03-12T16:48:47.196Z"
   },
   {
    "duration": 6,
    "start_time": "2022-03-12T16:48:47.207Z"
   },
   {
    "duration": 27,
    "start_time": "2022-03-12T16:48:47.233Z"
   },
   {
    "duration": 183,
    "start_time": "2022-03-12T16:48:47.263Z"
   },
   {
    "duration": 192,
    "start_time": "2022-03-12T16:48:47.449Z"
   },
   {
    "duration": 3,
    "start_time": "2022-03-12T16:48:47.643Z"
   },
   {
    "duration": 187,
    "start_time": "2022-03-12T16:48:47.649Z"
   },
   {
    "duration": 7,
    "start_time": "2022-03-12T16:48:47.838Z"
   },
   {
    "duration": 11,
    "start_time": "2022-03-12T16:48:47.847Z"
   },
   {
    "duration": 5,
    "start_time": "2022-03-12T16:48:47.860Z"
   },
   {
    "duration": 5,
    "start_time": "2022-03-12T16:48:47.867Z"
   },
   {
    "duration": 1396,
    "start_time": "2022-03-12T16:48:47.874Z"
   },
   {
    "duration": 1420,
    "start_time": "2022-03-12T16:48:49.272Z"
   },
   {
    "duration": 1391,
    "start_time": "2022-03-12T16:48:50.695Z"
   },
   {
    "duration": 5,
    "start_time": "2022-03-12T16:48:52.089Z"
   },
   {
    "duration": 4,
    "start_time": "2022-03-12T16:54:47.386Z"
   },
   {
    "duration": 4,
    "start_time": "2022-03-12T16:54:57.855Z"
   },
   {
    "duration": 426,
    "start_time": "2022-03-12T16:55:22.605Z"
   },
   {
    "duration": 472,
    "start_time": "2022-03-12T16:55:31.475Z"
   },
   {
    "duration": 485,
    "start_time": "2022-03-12T16:55:42.698Z"
   },
   {
    "duration": 4,
    "start_time": "2022-03-12T16:56:36.101Z"
   },
   {
    "duration": 4,
    "start_time": "2022-03-12T16:56:39.046Z"
   },
   {
    "duration": 4,
    "start_time": "2022-03-12T16:56:44.047Z"
   },
   {
    "duration": 3,
    "start_time": "2022-03-12T16:56:48.558Z"
   },
   {
    "duration": 4,
    "start_time": "2022-03-12T16:56:53.277Z"
   },
   {
    "duration": 4,
    "start_time": "2022-03-12T16:56:54.809Z"
   },
   {
    "duration": 272,
    "start_time": "2022-03-12T16:57:02.393Z"
   },
   {
    "duration": 4,
    "start_time": "2022-03-12T16:57:05.471Z"
   },
   {
    "duration": 4,
    "start_time": "2022-03-12T16:57:08.786Z"
   },
   {
    "duration": 4,
    "start_time": "2022-03-12T16:57:11.603Z"
   },
   {
    "duration": 4,
    "start_time": "2022-03-12T16:57:13.525Z"
   },
   {
    "duration": 1524,
    "start_time": "2022-03-12T16:58:03.303Z"
   },
   {
    "duration": 57,
    "start_time": "2022-03-12T16:58:35.464Z"
   },
   {
    "duration": 53,
    "start_time": "2022-03-12T16:59:07.858Z"
   },
   {
    "duration": 60,
    "start_time": "2022-03-12T16:59:13.405Z"
   },
   {
    "duration": 56,
    "start_time": "2022-03-12T16:59:17.224Z"
   },
   {
    "duration": 61,
    "start_time": "2022-03-12T16:59:25.733Z"
   },
   {
    "duration": 168,
    "start_time": "2022-03-12T16:59:42.353Z"
   },
   {
    "duration": 166,
    "start_time": "2022-03-12T16:59:58.694Z"
   },
   {
    "duration": 233,
    "start_time": "2022-03-12T17:00:01.834Z"
   },
   {
    "duration": 1380,
    "start_time": "2022-03-12T17:00:13.778Z"
   },
   {
    "duration": 5,
    "start_time": "2022-03-12T17:00:16.580Z"
   },
   {
    "duration": 3,
    "start_time": "2022-03-12T17:00:18.471Z"
   },
   {
    "duration": 5,
    "start_time": "2022-03-12T17:00:19.585Z"
   },
   {
    "duration": 4,
    "start_time": "2022-03-12T17:00:24.752Z"
   },
   {
    "duration": 5,
    "start_time": "2022-03-12T17:00:30.245Z"
   },
   {
    "duration": 56,
    "start_time": "2022-03-12T17:00:37.428Z"
   },
   {
    "duration": 5,
    "start_time": "2022-03-12T17:00:38.705Z"
   },
   {
    "duration": 60,
    "start_time": "2022-03-12T17:00:49.646Z"
   },
   {
    "duration": 54,
    "start_time": "2022-03-12T17:00:56.087Z"
   },
   {
    "duration": 89,
    "start_time": "2022-03-12T17:01:04.327Z"
   },
   {
    "duration": 59,
    "start_time": "2022-03-12T17:01:06.984Z"
   },
   {
    "duration": 60,
    "start_time": "2022-03-12T17:01:08.969Z"
   },
   {
    "duration": 58,
    "start_time": "2022-03-12T17:01:25.084Z"
   },
   {
    "duration": 56,
    "start_time": "2022-03-12T17:01:32.014Z"
   },
   {
    "duration": 4,
    "start_time": "2022-03-12T17:01:43.564Z"
   },
   {
    "duration": 59,
    "start_time": "2022-03-12T17:01:55.727Z"
   },
   {
    "duration": 58,
    "start_time": "2022-03-12T17:02:12.770Z"
   },
   {
    "duration": 58,
    "start_time": "2022-03-12T17:02:56.777Z"
   },
   {
    "duration": 175,
    "start_time": "2022-03-12T17:03:45.821Z"
   },
   {
    "duration": 3,
    "start_time": "2022-03-12T17:03:52.048Z"
   },
   {
    "duration": 61,
    "start_time": "2022-03-12T17:04:00.907Z"
   },
   {
    "duration": 1432,
    "start_time": "2022-03-12T17:04:12.886Z"
   },
   {
    "duration": 1426,
    "start_time": "2022-03-12T17:04:34.771Z"
   },
   {
    "duration": 1386,
    "start_time": "2022-03-12T17:05:14.588Z"
   },
   {
    "duration": 1374,
    "start_time": "2022-03-12T17:08:44.447Z"
   },
   {
    "duration": 1374,
    "start_time": "2022-03-12T17:09:07.713Z"
   },
   {
    "duration": 1383,
    "start_time": "2022-03-12T17:09:36.608Z"
   },
   {
    "duration": 1383,
    "start_time": "2022-03-12T17:09:38.044Z"
   },
   {
    "duration": 60,
    "start_time": "2022-03-12T17:12:44.313Z"
   },
   {
    "duration": 6,
    "start_time": "2022-03-12T17:12:48.571Z"
   },
   {
    "duration": 1419,
    "start_time": "2022-03-12T17:13:14.492Z"
   },
   {
    "duration": 1411,
    "start_time": "2022-03-12T17:14:14.815Z"
   },
   {
    "duration": 1478,
    "start_time": "2022-03-12T17:14:27.479Z"
   },
   {
    "duration": 1412,
    "start_time": "2022-03-12T17:14:28.959Z"
   },
   {
    "duration": 2063,
    "start_time": "2022-03-12T17:14:30.374Z"
   },
   {
    "duration": 54,
    "start_time": "2022-03-12T17:19:15.077Z"
   },
   {
    "duration": 4,
    "start_time": "2022-03-12T17:19:20.269Z"
   },
   {
    "duration": 4,
    "start_time": "2022-03-12T17:20:36.372Z"
   },
   {
    "duration": 178,
    "start_time": "2022-03-12T17:20:37.890Z"
   },
   {
    "duration": 25,
    "start_time": "2022-03-12T17:20:54.340Z"
   },
   {
    "duration": 6,
    "start_time": "2022-03-12T17:21:00.048Z"
   },
   {
    "duration": 537,
    "start_time": "2022-03-12T17:21:06.477Z"
   },
   {
    "duration": 3,
    "start_time": "2022-03-12T17:21:15.803Z"
   },
   {
    "duration": 1424,
    "start_time": "2022-03-12T17:21:17.941Z"
   },
   {
    "duration": 328,
    "start_time": "2022-03-12T17:21:49.310Z"
   },
   {
    "duration": 3,
    "start_time": "2022-03-12T17:21:50.734Z"
   },
   {
    "duration": 6,
    "start_time": "2022-03-12T17:21:51.669Z"
   },
   {
    "duration": 4,
    "start_time": "2022-03-12T17:22:23.934Z"
   },
   {
    "duration": 308,
    "start_time": "2022-03-12T17:22:25.033Z"
   },
   {
    "duration": 6,
    "start_time": "2022-03-12T17:23:31.030Z"
   },
   {
    "duration": 513,
    "start_time": "2022-03-12T17:23:32.703Z"
   },
   {
    "duration": 3,
    "start_time": "2022-03-12T17:23:39.013Z"
   },
   {
    "duration": 1352,
    "start_time": "2022-03-12T17:23:41.056Z"
   },
   {
    "duration": 1359,
    "start_time": "2022-03-12T17:23:48.113Z"
   },
   {
    "duration": 1388,
    "start_time": "2022-03-12T17:23:49.474Z"
   },
   {
    "duration": 1837,
    "start_time": "2022-03-12T17:24:18.219Z"
   },
   {
    "duration": 332,
    "start_time": "2022-03-12T17:24:20.057Z"
   },
   {
    "duration": 99,
    "start_time": "2022-03-12T17:24:20.391Z"
   },
   {
    "duration": 17242,
    "start_time": "2022-03-12T17:24:20.492Z"
   },
   {
    "duration": 181,
    "start_time": "2022-03-12T17:24:37.736Z"
   },
   {
    "duration": 26,
    "start_time": "2022-03-12T17:24:37.919Z"
   },
   {
    "duration": 19,
    "start_time": "2022-03-12T17:24:37.946Z"
   },
   {
    "duration": 1336,
    "start_time": "2022-03-12T17:24:37.966Z"
   },
   {
    "duration": 185,
    "start_time": "2022-03-12T17:24:39.304Z"
   },
   {
    "duration": 9,
    "start_time": "2022-03-12T17:24:39.491Z"
   },
   {
    "duration": 7,
    "start_time": "2022-03-12T17:24:39.502Z"
   },
   {
    "duration": 5,
    "start_time": "2022-03-12T17:24:39.510Z"
   },
   {
    "duration": 400,
    "start_time": "2022-03-12T17:24:39.533Z"
   },
   {
    "duration": 4,
    "start_time": "2022-03-12T17:24:39.935Z"
   },
   {
    "duration": 106,
    "start_time": "2022-03-12T17:24:39.941Z"
   },
   {
    "duration": 7,
    "start_time": "2022-03-12T17:24:40.049Z"
   },
   {
    "duration": 11,
    "start_time": "2022-03-12T17:24:40.058Z"
   },
   {
    "duration": 3,
    "start_time": "2022-03-12T17:24:40.071Z"
   },
   {
    "duration": 6,
    "start_time": "2022-03-12T17:24:40.075Z"
   },
   {
    "duration": 6,
    "start_time": "2022-03-12T17:24:40.083Z"
   },
   {
    "duration": 1421,
    "start_time": "2022-03-12T17:24:40.090Z"
   },
   {
    "duration": 1377,
    "start_time": "2022-03-12T17:24:41.513Z"
   },
   {
    "duration": 1371,
    "start_time": "2022-03-12T17:24:42.892Z"
   },
   {
    "duration": 1836,
    "start_time": "2022-03-12T17:28:46.336Z"
   },
   {
    "duration": 322,
    "start_time": "2022-03-12T17:28:48.174Z"
   },
   {
    "duration": 94,
    "start_time": "2022-03-12T17:28:48.499Z"
   },
   {
    "duration": 17057,
    "start_time": "2022-03-12T17:28:48.595Z"
   },
   {
    "duration": 188,
    "start_time": "2022-03-12T17:29:05.654Z"
   },
   {
    "duration": 19,
    "start_time": "2022-03-12T17:29:05.844Z"
   },
   {
    "duration": 68,
    "start_time": "2022-03-12T17:29:05.865Z"
   },
   {
    "duration": 1226,
    "start_time": "2022-03-12T17:29:05.936Z"
   },
   {
    "duration": 196,
    "start_time": "2022-03-12T17:29:07.165Z"
   },
   {
    "duration": 10,
    "start_time": "2022-03-12T17:29:07.363Z"
   },
   {
    "duration": 5,
    "start_time": "2022-03-12T17:29:07.375Z"
   },
   {
    "duration": 5,
    "start_time": "2022-03-12T17:29:07.382Z"
   },
   {
    "duration": 348,
    "start_time": "2022-03-12T17:29:07.389Z"
   },
   {
    "duration": 4,
    "start_time": "2022-03-12T17:29:07.739Z"
   },
   {
    "duration": 189,
    "start_time": "2022-03-12T17:29:07.745Z"
   },
   {
    "duration": 4,
    "start_time": "2022-03-12T17:29:07.936Z"
   },
   {
    "duration": 12,
    "start_time": "2022-03-12T17:29:07.941Z"
   },
   {
    "duration": 4,
    "start_time": "2022-03-12T17:29:07.954Z"
   },
   {
    "duration": 6,
    "start_time": "2022-03-12T17:29:07.960Z"
   },
   {
    "duration": 6,
    "start_time": "2022-03-12T17:29:07.968Z"
   },
   {
    "duration": 1404,
    "start_time": "2022-03-12T17:29:07.976Z"
   },
   {
    "duration": 1425,
    "start_time": "2022-03-12T17:29:09.382Z"
   },
   {
    "duration": 1375,
    "start_time": "2022-03-12T17:29:10.809Z"
   }
  ],
  "kernelspec": {
   "display_name": "Python 3 (ipykernel)",
   "language": "python",
   "name": "python3"
  },
  "language_info": {
   "codemirror_mode": {
    "name": "ipython",
    "version": 3
   },
   "file_extension": ".py",
   "mimetype": "text/x-python",
   "name": "python",
   "nbconvert_exporter": "python",
   "pygments_lexer": "ipython3",
   "version": "3.9.13"
  },
  "toc": {
   "base_numbering": 1,
   "nav_menu": {},
   "number_sections": true,
   "sideBar": true,
   "skip_h1_title": true,
   "title_cell": "Table of Contents",
   "title_sidebar": "Contents",
   "toc_cell": false,
   "toc_position": {},
   "toc_section_display": true,
   "toc_window_display": true
  }
 },
 "nbformat": 4,
 "nbformat_minor": 4
}
