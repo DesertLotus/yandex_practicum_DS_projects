{
 "cells": [
  {
   "cell_type": "markdown",
   "metadata": {
    "id": "E0vqbgi9ay0H"
   },
   "source": [
    "# Яндекс.Музыка"
   ]
  },
  {
   "cell_type": "markdown",
   "metadata": {
    "id": "VUC88oWjTJw2"
   },
   "source": [
    "Сравнение Москвы и Петербурга окружено мифами. Например:\n",
    " * Москва — мегаполис, подчинённый жёсткому ритму рабочей недели;\n",
    " * Петербург — культурная столица, со своими вкусами.\n",
    "\n",
    "На данных Яндекс.Музыки вы сравните поведение пользователей двух столиц.\n",
    "\n",
    "**Цель исследования** — проверьте три гипотезы:\n",
    "1. Активность пользователей зависит от дня недели. Причём в Москве и Петербурге это проявляется по-разному.\n",
    "2. В понедельник утром в Москве преобладают одни жанры, а в Петербурге — другие. Так же и вечером пятницы преобладают разные жанры — в зависимости от города. \n",
    "3. Москва и Петербург предпочитают разные жанры музыки. В Москве чаще слушают поп-музыку, в Петербурге — русский рэп.\n",
    "\n",
    "**Ход исследования**\n",
    "\n",
    "Данные о поведении пользователей вы получите из файла `yandex_music_project.csv`. О качестве данных ничего не известно. Поэтому перед проверкой гипотез понадобится обзор данных. \n",
    "\n",
    "Вы проверите данные на ошибки и оцените их влияние на исследование. Затем, на этапе предобработки вы поищете возможность исправить самые критичные ошибки данных.\n",
    " \n",
    "Таким образом, исследование пройдёт в три этапа:\n",
    " 1. Обзор данных.\n",
    " 2. Предобработка данных.\n",
    " 3. Проверка гипотез.\n",
    "\n"
   ]
  },
  {
   "cell_type": "markdown",
   "metadata": {
    "id": "Ml1hmfXC_Zcs"
   },
   "source": [
    "## Обзор данных\n",
    "\n",
    "Составьте первое представление о данных Яндекс.Музыки.\n",
    "\n",
    "\n"
   ]
  },
  {
   "cell_type": "markdown",
   "metadata": {
    "id": "57eAOGIz_Zcs"
   },
   "source": [
    "Основной инструмент аналитика — `pandas`. Импортируйте эту библиотеку."
   ]
  },
  {
   "cell_type": "code",
   "execution_count": 1,
   "metadata": {
    "id": "AXN7PHPN_Zcs"
   },
   "outputs": [],
   "source": [
    "# импорт библиотеки pandas\n",
    "\n",
    "import pandas as pd"
   ]
  },
  {
   "cell_type": "markdown",
   "metadata": {
    "id": "SG23P8tt_Zcs"
   },
   "source": [
    "Прочитайте файл `yandex_music_project.csv` из папки `/datasets` и сохраните его в переменной `df`:"
   ]
  },
  {
   "cell_type": "code",
   "execution_count": 2,
   "metadata": {
    "id": "fFVu7vqh_Zct"
   },
   "outputs": [],
   "source": [
    "# чтение файла с данными и сохранение в df\n",
    "\n",
    "df = pd.read_csv('/datasets/yandex_music_project.csv')"
   ]
  },
  {
   "cell_type": "markdown",
   "metadata": {
    "id": "rDoOMd3uTqnZ"
   },
   "source": [
    "Выведите на экран первые десять строк таблицы:"
   ]
  },
  {
   "cell_type": "code",
   "execution_count": 3,
   "metadata": {
    "id": "oWTVX3gW_Zct",
    "scrolled": true
   },
   "outputs": [
    {
     "data": {
      "text/html": [
       "<div>\n",
       "<style scoped>\n",
       "    .dataframe tbody tr th:only-of-type {\n",
       "        vertical-align: middle;\n",
       "    }\n",
       "\n",
       "    .dataframe tbody tr th {\n",
       "        vertical-align: top;\n",
       "    }\n",
       "\n",
       "    .dataframe thead th {\n",
       "        text-align: right;\n",
       "    }\n",
       "</style>\n",
       "<table border=\"1\" class=\"dataframe\">\n",
       "  <thead>\n",
       "    <tr style=\"text-align: right;\">\n",
       "      <th></th>\n",
       "      <th>userID</th>\n",
       "      <th>Track</th>\n",
       "      <th>artist</th>\n",
       "      <th>genre</th>\n",
       "      <th>City</th>\n",
       "      <th>time</th>\n",
       "      <th>Day</th>\n",
       "    </tr>\n",
       "  </thead>\n",
       "  <tbody>\n",
       "    <tr>\n",
       "      <td>0</td>\n",
       "      <td>FFB692EC</td>\n",
       "      <td>Kamigata To Boots</td>\n",
       "      <td>The Mass Missile</td>\n",
       "      <td>rock</td>\n",
       "      <td>Saint-Petersburg</td>\n",
       "      <td>20:28:33</td>\n",
       "      <td>Wednesday</td>\n",
       "    </tr>\n",
       "    <tr>\n",
       "      <td>1</td>\n",
       "      <td>55204538</td>\n",
       "      <td>Delayed Because of Accident</td>\n",
       "      <td>Andreas Rönnberg</td>\n",
       "      <td>rock</td>\n",
       "      <td>Moscow</td>\n",
       "      <td>14:07:09</td>\n",
       "      <td>Friday</td>\n",
       "    </tr>\n",
       "    <tr>\n",
       "      <td>2</td>\n",
       "      <td>20EC38</td>\n",
       "      <td>Funiculì funiculà</td>\n",
       "      <td>Mario Lanza</td>\n",
       "      <td>pop</td>\n",
       "      <td>Saint-Petersburg</td>\n",
       "      <td>20:58:07</td>\n",
       "      <td>Wednesday</td>\n",
       "    </tr>\n",
       "    <tr>\n",
       "      <td>3</td>\n",
       "      <td>A3DD03C9</td>\n",
       "      <td>Dragons in the Sunset</td>\n",
       "      <td>Fire + Ice</td>\n",
       "      <td>folk</td>\n",
       "      <td>Saint-Petersburg</td>\n",
       "      <td>08:37:09</td>\n",
       "      <td>Monday</td>\n",
       "    </tr>\n",
       "    <tr>\n",
       "      <td>4</td>\n",
       "      <td>E2DC1FAE</td>\n",
       "      <td>Soul People</td>\n",
       "      <td>Space Echo</td>\n",
       "      <td>dance</td>\n",
       "      <td>Moscow</td>\n",
       "      <td>08:34:34</td>\n",
       "      <td>Monday</td>\n",
       "    </tr>\n",
       "    <tr>\n",
       "      <td>5</td>\n",
       "      <td>842029A1</td>\n",
       "      <td>Преданная</td>\n",
       "      <td>IMPERVTOR</td>\n",
       "      <td>rusrap</td>\n",
       "      <td>Saint-Petersburg</td>\n",
       "      <td>13:09:41</td>\n",
       "      <td>Friday</td>\n",
       "    </tr>\n",
       "    <tr>\n",
       "      <td>6</td>\n",
       "      <td>4CB90AA5</td>\n",
       "      <td>True</td>\n",
       "      <td>Roman Messer</td>\n",
       "      <td>dance</td>\n",
       "      <td>Moscow</td>\n",
       "      <td>13:00:07</td>\n",
       "      <td>Wednesday</td>\n",
       "    </tr>\n",
       "    <tr>\n",
       "      <td>7</td>\n",
       "      <td>F03E1C1F</td>\n",
       "      <td>Feeling This Way</td>\n",
       "      <td>Polina Griffith</td>\n",
       "      <td>dance</td>\n",
       "      <td>Moscow</td>\n",
       "      <td>20:47:49</td>\n",
       "      <td>Wednesday</td>\n",
       "    </tr>\n",
       "    <tr>\n",
       "      <td>8</td>\n",
       "      <td>8FA1D3BE</td>\n",
       "      <td>И вновь продолжается бой</td>\n",
       "      <td>NaN</td>\n",
       "      <td>ruspop</td>\n",
       "      <td>Moscow</td>\n",
       "      <td>09:17:40</td>\n",
       "      <td>Friday</td>\n",
       "    </tr>\n",
       "    <tr>\n",
       "      <td>9</td>\n",
       "      <td>E772D5C0</td>\n",
       "      <td>Pessimist</td>\n",
       "      <td>NaN</td>\n",
       "      <td>dance</td>\n",
       "      <td>Saint-Petersburg</td>\n",
       "      <td>21:20:49</td>\n",
       "      <td>Wednesday</td>\n",
       "    </tr>\n",
       "  </tbody>\n",
       "</table>\n",
       "</div>"
      ],
      "text/plain": [
       "     userID                        Track            artist   genre  \\\n",
       "0  FFB692EC            Kamigata To Boots  The Mass Missile    rock   \n",
       "1  55204538  Delayed Because of Accident  Andreas Rönnberg    rock   \n",
       "2    20EC38            Funiculì funiculà       Mario Lanza     pop   \n",
       "3  A3DD03C9        Dragons in the Sunset        Fire + Ice    folk   \n",
       "4  E2DC1FAE                  Soul People        Space Echo   dance   \n",
       "5  842029A1                    Преданная         IMPERVTOR  rusrap   \n",
       "6  4CB90AA5                         True      Roman Messer   dance   \n",
       "7  F03E1C1F             Feeling This Way   Polina Griffith   dance   \n",
       "8  8FA1D3BE     И вновь продолжается бой               NaN  ruspop   \n",
       "9  E772D5C0                    Pessimist               NaN   dance   \n",
       "\n",
       "             City        time        Day  \n",
       "0  Saint-Petersburg  20:28:33  Wednesday  \n",
       "1            Moscow  14:07:09     Friday  \n",
       "2  Saint-Petersburg  20:58:07  Wednesday  \n",
       "3  Saint-Petersburg  08:37:09     Monday  \n",
       "4            Moscow  08:34:34     Monday  \n",
       "5  Saint-Petersburg  13:09:41     Friday  \n",
       "6            Moscow  13:00:07  Wednesday  \n",
       "7            Moscow  20:47:49  Wednesday  \n",
       "8            Moscow  09:17:40     Friday  \n",
       "9  Saint-Petersburg  21:20:49  Wednesday  "
      ]
     },
     "execution_count": 3,
     "metadata": {},
     "output_type": "execute_result"
    }
   ],
   "source": [
    "df.head(10) # получение первых 10 строк таблицы df"
   ]
  },
  {
   "cell_type": "markdown",
   "metadata": {
    "id": "EO73Kwic_Zct"
   },
   "source": [
    "Одной командой получить общую информацию о таблице:"
   ]
  },
  {
   "cell_type": "code",
   "execution_count": 4,
   "metadata": {
    "id": "DSf2kIb-_Zct"
   },
   "outputs": [
    {
     "name": "stdout",
     "output_type": "stream",
     "text": [
      "<class 'pandas.core.frame.DataFrame'>\n",
      "RangeIndex: 65079 entries, 0 to 65078\n",
      "Data columns (total 7 columns):\n",
      "  userID    65079 non-null object\n",
      "Track       63848 non-null object\n",
      "artist      57876 non-null object\n",
      "genre       63881 non-null object\n",
      "  City      65079 non-null object\n",
      "time        65079 non-null object\n",
      "Day         65079 non-null object\n",
      "dtypes: object(7)\n",
      "memory usage: 3.5+ MB\n"
     ]
    }
   ],
   "source": [
    "df.info() # получение общей информации о данных в таблице df"
   ]
  },
  {
   "cell_type": "markdown",
   "metadata": {
    "id": "TaQ2Iwbr_Zct"
   },
   "source": [
    "Итак, в таблице семь столбцов. Тип данных во всех столбцах — `object`.\n",
    "\n",
    "Согласно документации к данным:\n",
    "* `userID` — идентификатор пользователя;\n",
    "* `Track` — название трека;  \n",
    "* `artist` — имя исполнителя;\n",
    "* `genre` — название жанра;\n",
    "* `City` — город пользователя;\n",
    "* `time` — время начала прослушивания;\n",
    "* `Day` — день недели.\n",
    "\n",
    "В названиях колонок видны три нарушения стиля:\n",
    "1. Строчные буквы сочетаются с прописными.\n",
    "2. Встречаются пробелы.\n",
    "3. Найдите ещё одну проблему в названии колонок и опишите её в этом пункте: названия столбцов лучше писать без пробелов, т.е. в \"змеином_регистре\", как, например, \"userID\" изменить в \"user_id\".\n",
    "\n",
    "Количество значений в столбцах различается. Значит, в данных есть пропущенные значения.\n"
   ]
  },
  {
   "cell_type": "markdown",
   "metadata": {
    "id": "MCB6-dXG_Zct"
   },
   "source": [
    "**Выводы**\n",
    "\n",
    "В каждой строке таблицы — данные о прослушанном треке. Часть колонок описывает саму композицию: название, исполнителя и жанр. Остальные данные рассказывают о пользователе: из какого он города, когда он слушал музыку. \n",
    "\n",
    "Предварительно можно утверждать, что, данных достаточно для проверки гипотез. Но встречаются пропуски в данных, а в названиях колонок — расхождения с хорошим стилем.\n",
    "\n",
    "Чтобы двигаться дальше, нужно устранить проблемы в данных."
   ]
  },
  {
   "cell_type": "markdown",
   "metadata": {
    "id": "SjYF6Ub9_Zct"
   },
   "source": [
    "## Предобработка данных\n",
    "Исправьте стиль в заголовках столбцов, исключите пропуски. Затем проверьте данные на дубликаты."
   ]
  },
  {
   "cell_type": "markdown",
   "metadata": {
    "id": "dIaKXr29_Zct"
   },
   "source": [
    "### Стиль заголовков\n",
    "Выведите на экран названия столбцов:"
   ]
  },
  {
   "cell_type": "code",
   "execution_count": 5,
   "metadata": {
    "id": "oKOTdF_Q_Zct"
   },
   "outputs": [
    {
     "data": {
      "text/plain": [
       "Index(['  userID', 'Track', 'artist', 'genre', '  City  ', 'time', 'Day'], dtype='object')"
      ]
     },
     "execution_count": 5,
     "metadata": {},
     "output_type": "execute_result"
    }
   ],
   "source": [
    "df.columns # перечень названий столбцов таблицы df"
   ]
  },
  {
   "cell_type": "markdown",
   "metadata": {
    "id": "zj5534cv_Zct"
   },
   "source": [
    "Приведите названия в соответствие с хорошим стилем:\n",
    "* несколько слов в названии запишите в «змеином_регистре»,\n",
    "* все символы сделайте строчными,\n",
    "* устраните пробелы.\n",
    "\n",
    "Для этого переименуйте колонки так:\n",
    "* `'  userID'` → `'user_id'`;\n",
    "* `'Track'` → `'track'`;\n",
    "* `'  City  '` → `'city'`;\n",
    "* `'Day'` → `'day'`."
   ]
  },
  {
   "cell_type": "code",
   "execution_count": 6,
   "metadata": {
    "id": "ISlFqs5y_Zct"
   },
   "outputs": [],
   "source": [
    "df = df.rename(columns={'  userID':'user_id', 'Track':'track', '  City  ':'city', 'Day':'day'}) # переименование столбцов"
   ]
  },
  {
   "cell_type": "markdown",
   "metadata": {
    "id": "1dqbh00J_Zct"
   },
   "source": [
    "Проверьте результат. Для этого ещё раз выведите на экран названия столбцов:"
   ]
  },
  {
   "cell_type": "code",
   "execution_count": 7,
   "metadata": {
    "id": "d4NOAmTW_Zct"
   },
   "outputs": [
    {
     "data": {
      "text/plain": [
       "Index(['user_id', 'track', 'artist', 'genre', 'city', 'time', 'day'], dtype='object')"
      ]
     },
     "execution_count": 7,
     "metadata": {},
     "output_type": "execute_result"
    }
   ],
   "source": [
    "df.columns # проверка результатов - перечень названий столбцов"
   ]
  },
  {
   "cell_type": "markdown",
   "metadata": {
    "id": "5ISfbcfY_Zct"
   },
   "source": [
    "### Пропуски значений\n",
    "Сначала посчитайте, сколько в таблице пропущенных значений. Для этого достаточно двух методов `pandas`:"
   ]
  },
  {
   "cell_type": "code",
   "execution_count": 8,
   "metadata": {
    "id": "RskX29qr_Zct"
   },
   "outputs": [
    {
     "data": {
      "text/plain": [
       "user_id       0\n",
       "track      1231\n",
       "artist     7203\n",
       "genre      1198\n",
       "city          0\n",
       "time          0\n",
       "day           0\n",
       "dtype: int64"
      ]
     },
     "execution_count": 8,
     "metadata": {},
     "output_type": "execute_result"
    }
   ],
   "source": [
    "df.isna().sum() # подсчёт пропусков"
   ]
  },
  {
   "cell_type": "markdown",
   "metadata": {
    "id": "qubhgnlO_Zct"
   },
   "source": [
    "Не все пропущенные значения влияют на исследование. Так в `track` и `artist` пропуски не важны для вашей работы. Достаточно заменить их явными обозначениями.\n",
    "\n",
    "Но пропуски в `genre` могут помешать сравнению музыкальных вкусов в Москве и Санкт-Петербурге. На практике было бы правильно установить причину пропусков и восстановить данные. Такой возможности нет в учебном проекте. Придётся:\n",
    "* заполнить и эти пропуски явными обозначениями,\n",
    "* оценить, насколько они повредят расчётам. "
   ]
  },
  {
   "cell_type": "markdown",
   "metadata": {
    "id": "fSv2laPA_Zct"
   },
   "source": [
    "Замените пропущенные значения в столбцах `track`, `artist` и `genre` на строку `'unknown'`. Для этого создайте список `columns_to_replace`, переберите его элементы циклом `for` и для каждого столбца выполните замену пропущенных значений:"
   ]
  },
  {
   "cell_type": "code",
   "execution_count": 9,
   "metadata": {
    "id": "KplB5qWs_Zct"
   },
   "outputs": [],
   "source": [
    "def fill_gaps(columns, name): # создаем функцию fill_gaps для замены значений в столбцах на name. \n",
    "    for row in columns:\n",
    "        df[row] = df[row].fillna(name)\n",
    "\n",
    "columns_with_gaps = ['track', 'artist', 'genre'] # список столбцов, в которых заменяются значения.\n",
    "\n",
    "fill_gaps(columns_with_gaps, 'unknown') # перебор названий столбцов в цикле и замена пропущенных значений на 'unknown'"
   ]
  },
  {
   "cell_type": "markdown",
   "metadata": {
    "id": "Ilsm-MZo_Zct"
   },
   "source": [
    "Убедитесь, что в таблице не осталось пропусков. Для этого ещё раз посчитайте пропущенные значения."
   ]
  },
  {
   "cell_type": "code",
   "execution_count": 10,
   "metadata": {
    "id": "Tq4nYRX4_Zct"
   },
   "outputs": [
    {
     "data": {
      "text/plain": [
       "user_id    0\n",
       "track      0\n",
       "artist     0\n",
       "genre      0\n",
       "city       0\n",
       "time       0\n",
       "day        0\n",
       "dtype: int64"
      ]
     },
     "execution_count": 10,
     "metadata": {},
     "output_type": "execute_result"
    }
   ],
   "source": [
    "df.isna().sum() # подсчёт пропусков"
   ]
  },
  {
   "cell_type": "markdown",
   "metadata": {
    "id": "BWKRtBJ3_Zct"
   },
   "source": [
    "### Дубликаты\n",
    "Посчитайте явные дубликаты в таблице одной командой:"
   ]
  },
  {
   "cell_type": "code",
   "execution_count": 11,
   "metadata": {
    "id": "36eES_S0_Zct"
   },
   "outputs": [
    {
     "data": {
      "text/plain": [
       "3826"
      ]
     },
     "execution_count": 11,
     "metadata": {},
     "output_type": "execute_result"
    }
   ],
   "source": [
    "df.duplicated().sum() # подсчёт явных дубликатов"
   ]
  },
  {
   "cell_type": "markdown",
   "metadata": {
    "id": "Ot25h6XR_Zct"
   },
   "source": [
    "Вызовите специальный метод `pandas`, чтобы удалить явные дубликаты:"
   ]
  },
  {
   "cell_type": "code",
   "execution_count": 12,
   "metadata": {
    "id": "exFHq6tt_Zct"
   },
   "outputs": [],
   "source": [
    "# удаление явных дубликатов (с удалением старых индексов и формированием новых)\n",
    "\n",
    "df = df.drop_duplicates().reset_index(drop = True) "
   ]
  },
  {
   "cell_type": "markdown",
   "metadata": {
    "id": "Im2YwBEG_Zct"
   },
   "source": [
    "Ещё раз посчитайте явные дубликаты в таблице — убедитесь, что полностью от них избавились:"
   ]
  },
  {
   "cell_type": "code",
   "execution_count": 13,
   "metadata": {
    "id": "-8PuNWQ0_Zct"
   },
   "outputs": [
    {
     "data": {
      "text/plain": [
       "0"
      ]
     },
     "execution_count": 13,
     "metadata": {},
     "output_type": "execute_result"
    }
   ],
   "source": [
    "df.duplicated().sum() # проверка на отсутствие дубликатов"
   ]
  },
  {
   "cell_type": "markdown",
   "metadata": {
    "id": "QlFBsxAr_Zct"
   },
   "source": [
    "Теперь избавьтесь от неявных дубликатов в колонке `genre`. Например, название одного и того же жанра может быть записано немного по-разному. Такие ошибки тоже повлияют на результат исследования."
   ]
  },
  {
   "cell_type": "markdown",
   "metadata": {
    "id": "eSjWwsOh_Zct"
   },
   "source": [
    "Выведите на экран список уникальных названий жанров, отсортированный в алфавитном порядке. Для этого:\n",
    "* извлеките нужный столбец датафрейма, \n",
    "* примените к нему метод сортировки,\n",
    "* для отсортированного столбца вызовите метод, который вернёт уникальные значения из столбца."
   ]
  },
  {
   "cell_type": "code",
   "execution_count": 14,
   "metadata": {
    "id": "JIUcqzZN_Zct"
   },
   "outputs": [
    {
     "data": {
      "text/plain": [
       "array(['acid', 'acoustic', 'action', 'adult', 'africa', 'afrikaans',\n",
       "       'alternative', 'alternativepunk', 'ambient', 'americana',\n",
       "       'animated', 'anime', 'arabesk', 'arabic', 'arena',\n",
       "       'argentinetango', 'art', 'audiobook', 'author', 'avantgarde',\n",
       "       'axé', 'baile', 'balkan', 'beats', 'bigroom', 'black', 'bluegrass',\n",
       "       'blues', 'bollywood', 'bossa', 'brazilian', 'breakbeat', 'breaks',\n",
       "       'broadway', 'cantautori', 'cantopop', 'canzone', 'caribbean',\n",
       "       'caucasian', 'celtic', 'chamber', 'chanson', 'children', 'chill',\n",
       "       'chinese', 'choral', 'christian', 'christmas', 'classical',\n",
       "       'classicmetal', 'club', 'colombian', 'comedy', 'conjazz',\n",
       "       'contemporary', 'country', 'cuban', 'dance', 'dancehall',\n",
       "       'dancepop', 'dark', 'death', 'deep', 'deutschrock', 'deutschspr',\n",
       "       'dirty', 'disco', 'dnb', 'documentary', 'downbeat', 'downtempo',\n",
       "       'drum', 'dub', 'dubstep', 'eastern', 'easy', 'electronic',\n",
       "       'electropop', 'emo', 'entehno', 'epicmetal', 'estrada', 'ethnic',\n",
       "       'eurofolk', 'european', 'experimental', 'extrememetal', 'fado',\n",
       "       'fairytail', 'film', 'fitness', 'flamenco', 'folk', 'folklore',\n",
       "       'folkmetal', 'folkrock', 'folktronica', 'forró', 'frankreich',\n",
       "       'französisch', 'french', 'funk', 'future', 'gangsta', 'garage',\n",
       "       'german', 'ghazal', 'gitarre', 'glitch', 'gospel', 'gothic',\n",
       "       'grime', 'grunge', 'gypsy', 'handsup', \"hard'n'heavy\", 'hardcore',\n",
       "       'hardstyle', 'hardtechno', 'hip', 'hip-hop', 'hiphop',\n",
       "       'historisch', 'holiday', 'hop', 'horror', 'house', 'hymn', 'idm',\n",
       "       'independent', 'indian', 'indie', 'indipop', 'industrial',\n",
       "       'inspirational', 'instrumental', 'international', 'irish', 'jam',\n",
       "       'japanese', 'jazz', 'jewish', 'jpop', 'jungle', 'k-pop',\n",
       "       'karadeniz', 'karaoke', 'kayokyoku', 'korean', 'laiko', 'latin',\n",
       "       'latino', 'leftfield', 'local', 'lounge', 'loungeelectronic',\n",
       "       'lovers', 'malaysian', 'mandopop', 'marschmusik', 'meditative',\n",
       "       'mediterranean', 'melodic', 'metal', 'metalcore', 'mexican',\n",
       "       'middle', 'minimal', 'miscellaneous', 'modern', 'mood', 'mpb',\n",
       "       'muslim', 'native', 'neoklassik', 'neue', 'new', 'newage',\n",
       "       'newwave', 'nu', 'nujazz', 'numetal', 'oceania', 'old', 'opera',\n",
       "       'orchestral', 'other', 'piano', 'podcasts', 'pop', 'popdance',\n",
       "       'popelectronic', 'popeurodance', 'poprussian', 'post',\n",
       "       'posthardcore', 'postrock', 'power', 'progmetal', 'progressive',\n",
       "       'psychedelic', 'punjabi', 'punk', 'quebecois', 'ragga', 'ram',\n",
       "       'rancheras', 'rap', 'rave', 'reggae', 'reggaeton', 'regional',\n",
       "       'relax', 'religious', 'retro', 'rhythm', 'rnb', 'rnr', 'rock',\n",
       "       'rockabilly', 'rockalternative', 'rockindie', 'rockother',\n",
       "       'romance', 'roots', 'ruspop', 'rusrap', 'rusrock', 'russian',\n",
       "       'salsa', 'samba', 'scenic', 'schlager', 'self', 'sertanejo',\n",
       "       'shanson', 'shoegazing', 'showtunes', 'singer', 'ska', 'skarock',\n",
       "       'slow', 'smooth', 'soft', 'soul', 'soulful', 'sound', 'soundtrack',\n",
       "       'southern', 'specialty', 'speech', 'spiritual', 'sport',\n",
       "       'stonerrock', 'surf', 'swing', 'synthpop', 'synthrock',\n",
       "       'sängerportrait', 'tango', 'tanzorchester', 'taraftar', 'tatar',\n",
       "       'tech', 'techno', 'teen', 'thrash', 'top', 'traditional',\n",
       "       'tradjazz', 'trance', 'tribal', 'trip', 'triphop', 'tropical',\n",
       "       'türk', 'türkçe', 'ukrrock', 'unknown', 'urban', 'uzbek',\n",
       "       'variété', 'vi', 'videogame', 'vocal', 'western', 'world',\n",
       "       'worldbeat', 'ïîï', 'электроника'], dtype=object)"
      ]
     },
     "metadata": {},
     "output_type": "display_data"
    }
   ],
   "source": [
    "# Просмотр уникальных названий жанров\n",
    "\n",
    "genre_unique = df['genre'].sort_values().unique()\n",
    "\n",
    "display(genre_unique)"
   ]
  },
  {
   "cell_type": "markdown",
   "metadata": {
    "id": "qej-Qmuo_Zct"
   },
   "source": [
    "Просмотрите список и найдите неявные дубликаты названия `hiphop`. Это могут быть названия с ошибками или альтернативные названия того же жанра.\n",
    "\n",
    "Вы увидите следующие неявные дубликаты:\n",
    "* *hip*,\n",
    "* *hop*,\n",
    "* *hip-hop*.\n",
    "\n",
    "Чтобы очистить от них таблицу, напишите функцию `replace_wrong_genres()` с двумя параметрами: \n",
    "* `wrong_genres` — список дубликатов,\n",
    "* `correct_genre` — строка с правильным значением.\n",
    "\n",
    "Функция должна исправить колонку `genre` в таблице `df`: заменить каждое значение из списка `wrong_genres` на значение из `correct_genre`."
   ]
  },
  {
   "cell_type": "code",
   "execution_count": 15,
   "metadata": {
    "id": "ErNDkmns_Zct"
   },
   "outputs": [],
   "source": [
    "# Функция для замены неявных дубликатов\n",
    "\n",
    "def replace_wrong_genres(wrong_genres, correct_genre):\n",
    "    for wrong_genre in wrong_genres:\n",
    "        df['genre'] = df['genre'].replace(wrong_genre, correct_genre)"
   ]
  },
  {
   "cell_type": "markdown",
   "metadata": {
    "id": "aDoBJxbA_Zct"
   },
   "source": [
    "Вызовите `replace_wrong_genres()` и передайте ей такие аргументы, чтобы она устранила неявные дубликаты: вместо `hip`, `hop` и `hip-hop` в таблице должно быть значение `hiphop`:"
   ]
  },
  {
   "cell_type": "code",
   "execution_count": 16,
   "metadata": {
    "id": "YN5i2hpmSo09"
   },
   "outputs": [],
   "source": [
    "# Устранение неявных дубликатов\n",
    "\n",
    "wrong_genres_hiphop = ['hip', 'hop', 'hip-hop']\n",
    "\n",
    "replace_wrong_genres(wrong_genres_hiphop, 'hiphop') "
   ]
  },
  {
   "cell_type": "markdown",
   "metadata": {
    "id": "zQKF16_RG15m"
   },
   "source": [
    "Проверьте, что заменили неправильные названия:\n",
    "\n",
    "*   hip\n",
    "*   hop\n",
    "*   hip-hop\n",
    "\n",
    "Выведите отсортированный список уникальных значений столбца `genre`:"
   ]
  },
  {
   "cell_type": "code",
   "execution_count": 17,
   "metadata": {
    "id": "wvixALnFG15m"
   },
   "outputs": [
    {
     "data": {
      "text/plain": [
       "array(['acid', 'acoustic', 'action', 'adult', 'africa', 'afrikaans',\n",
       "       'alternative', 'alternativepunk', 'ambient', 'americana',\n",
       "       'animated', 'anime', 'arabesk', 'arabic', 'arena',\n",
       "       'argentinetango', 'art', 'audiobook', 'author', 'avantgarde',\n",
       "       'axé', 'baile', 'balkan', 'beats', 'bigroom', 'black', 'bluegrass',\n",
       "       'blues', 'bollywood', 'bossa', 'brazilian', 'breakbeat', 'breaks',\n",
       "       'broadway', 'cantautori', 'cantopop', 'canzone', 'caribbean',\n",
       "       'caucasian', 'celtic', 'chamber', 'chanson', 'children', 'chill',\n",
       "       'chinese', 'choral', 'christian', 'christmas', 'classical',\n",
       "       'classicmetal', 'club', 'colombian', 'comedy', 'conjazz',\n",
       "       'contemporary', 'country', 'cuban', 'dance', 'dancehall',\n",
       "       'dancepop', 'dark', 'death', 'deep', 'deutschrock', 'deutschspr',\n",
       "       'dirty', 'disco', 'dnb', 'documentary', 'downbeat', 'downtempo',\n",
       "       'drum', 'dub', 'dubstep', 'eastern', 'easy', 'electronic',\n",
       "       'electropop', 'emo', 'entehno', 'epicmetal', 'estrada', 'ethnic',\n",
       "       'eurofolk', 'european', 'experimental', 'extrememetal', 'fado',\n",
       "       'fairytail', 'film', 'fitness', 'flamenco', 'folk', 'folklore',\n",
       "       'folkmetal', 'folkrock', 'folktronica', 'forró', 'frankreich',\n",
       "       'französisch', 'french', 'funk', 'future', 'gangsta', 'garage',\n",
       "       'german', 'ghazal', 'gitarre', 'glitch', 'gospel', 'gothic',\n",
       "       'grime', 'grunge', 'gypsy', 'handsup', \"hard'n'heavy\", 'hardcore',\n",
       "       'hardstyle', 'hardtechno', 'hiphop', 'historisch', 'holiday',\n",
       "       'horror', 'house', 'hymn', 'idm', 'independent', 'indian', 'indie',\n",
       "       'indipop', 'industrial', 'inspirational', 'instrumental',\n",
       "       'international', 'irish', 'jam', 'japanese', 'jazz', 'jewish',\n",
       "       'jpop', 'jungle', 'k-pop', 'karadeniz', 'karaoke', 'kayokyoku',\n",
       "       'korean', 'laiko', 'latin', 'latino', 'leftfield', 'local',\n",
       "       'lounge', 'loungeelectronic', 'lovers', 'malaysian', 'mandopop',\n",
       "       'marschmusik', 'meditative', 'mediterranean', 'melodic', 'metal',\n",
       "       'metalcore', 'mexican', 'middle', 'minimal', 'miscellaneous',\n",
       "       'modern', 'mood', 'mpb', 'muslim', 'native', 'neoklassik', 'neue',\n",
       "       'new', 'newage', 'newwave', 'nu', 'nujazz', 'numetal', 'oceania',\n",
       "       'old', 'opera', 'orchestral', 'other', 'piano', 'podcasts', 'pop',\n",
       "       'popdance', 'popelectronic', 'popeurodance', 'poprussian', 'post',\n",
       "       'posthardcore', 'postrock', 'power', 'progmetal', 'progressive',\n",
       "       'psychedelic', 'punjabi', 'punk', 'quebecois', 'ragga', 'ram',\n",
       "       'rancheras', 'rap', 'rave', 'reggae', 'reggaeton', 'regional',\n",
       "       'relax', 'religious', 'retro', 'rhythm', 'rnb', 'rnr', 'rock',\n",
       "       'rockabilly', 'rockalternative', 'rockindie', 'rockother',\n",
       "       'romance', 'roots', 'ruspop', 'rusrap', 'rusrock', 'russian',\n",
       "       'salsa', 'samba', 'scenic', 'schlager', 'self', 'sertanejo',\n",
       "       'shanson', 'shoegazing', 'showtunes', 'singer', 'ska', 'skarock',\n",
       "       'slow', 'smooth', 'soft', 'soul', 'soulful', 'sound', 'soundtrack',\n",
       "       'southern', 'specialty', 'speech', 'spiritual', 'sport',\n",
       "       'stonerrock', 'surf', 'swing', 'synthpop', 'synthrock',\n",
       "       'sängerportrait', 'tango', 'tanzorchester', 'taraftar', 'tatar',\n",
       "       'tech', 'techno', 'teen', 'thrash', 'top', 'traditional',\n",
       "       'tradjazz', 'trance', 'tribal', 'trip', 'triphop', 'tropical',\n",
       "       'türk', 'türkçe', 'ukrrock', 'unknown', 'urban', 'uzbek',\n",
       "       'variété', 'vi', 'videogame', 'vocal', 'western', 'world',\n",
       "       'worldbeat', 'ïîï', 'электроника'], dtype=object)"
      ]
     },
     "execution_count": 17,
     "metadata": {},
     "output_type": "execute_result"
    }
   ],
   "source": [
    "df['genre'].sort_values().unique() # Проверка на неявные дубликаты и сортировка уникальный значений"
   ]
  },
  {
   "cell_type": "markdown",
   "metadata": {
    "id": "jz6a9-7HQUDd"
   },
   "source": [
    "**Выводы**\n",
    "\n",
    "Предобработка обнаружила три проблемы в данных:\n",
    "\n",
    "- нарушения в стиле заголовков,\n",
    "- пропущенные значения,\n",
    "- дубликаты — явные и неявные.\n",
    "\n",
    "Вы исправили заголовки, чтобы упростить работу с таблицей. Без дубликатов исследование станет более точным.\n",
    "\n",
    "Пропущенные значения вы заменили на `'unknown'`. Ещё предстоит увидеть, не повредят ли исследованию пропуски в колонке `genre`.\n",
    "\n",
    "Теперь можно перейти к проверке гипотез. "
   ]
  },
  {
   "cell_type": "markdown",
   "metadata": {
    "id": "WttZHXH0SqKk"
   },
   "source": [
    "## Проверка гипотез"
   ]
  },
  {
   "cell_type": "markdown",
   "metadata": {
    "id": "Im936VVi_Zcu"
   },
   "source": [
    "### Сравнение поведения пользователей двух столиц"
   ]
  },
  {
   "cell_type": "markdown",
   "metadata": {
    "id": "nwt_MuaL_Zcu"
   },
   "source": [
    "Первая гипотеза утверждает, что пользователи по-разному слушают музыку в Москве и Санкт-Петербурге. Проверьте это предположение по данным о трёх днях недели — понедельнике, среде и пятнице. Для этого:\n",
    "\n",
    "* Разделите пользователей Москвы и Санкт-Петербурга\n",
    "* Сравните, сколько треков послушала каждая группа пользователей в понедельник, среду и пятницу.\n"
   ]
  },
  {
   "cell_type": "markdown",
   "metadata": {
    "id": "8Dw_YMmT_Zcu"
   },
   "source": [
    "Для тренировки сначала выполните каждый из расчётов по отдельности. \n",
    "\n",
    "Оцените активность пользователей в каждом городе. Сгруппируйте данные по городу и посчитайте прослушивания в каждой группе.\n",
    "\n"
   ]
  },
  {
   "cell_type": "code",
   "execution_count": 18,
   "metadata": {
    "id": "0_Qs96oh_Zcu"
   },
   "outputs": [
    {
     "data": {
      "text/plain": [
       "city\n",
       "Moscow              42741\n",
       "Saint-Petersburg    18512\n",
       "Name: user_id, dtype: int64"
      ]
     },
     "execution_count": 18,
     "metadata": {},
     "output_type": "execute_result"
    }
   ],
   "source": [
    "# Подсчёт прослушиваний в каждом городе\n",
    "\n",
    "groupby_city = df.groupby('city')\n",
    "\n",
    "groupby_city['user_id'].count()"
   ]
  },
  {
   "cell_type": "markdown",
   "metadata": {
    "id": "dzli3w8o_Zcu"
   },
   "source": [
    "В Москве прослушиваний больше, чем в Петербурге. Из этого не следует, что московские пользователи чаще слушают музыку. Просто самих пользователей в Москве больше.\n",
    "\n",
    "Теперь сгруппируйте данные по дню недели и подсчитайте прослушивания в понедельник, среду и пятницу. Учтите, что в данных есть информация только о прослушиваниях только за эти дни.\n"
   ]
  },
  {
   "cell_type": "code",
   "execution_count": 19,
   "metadata": {
    "id": "uZMKjiJz_Zcu"
   },
   "outputs": [
    {
     "data": {
      "text/plain": [
       "day\n",
       "Friday       21840\n",
       "Monday       21354\n",
       "Wednesday    18059\n",
       "Name: user_id, dtype: int64"
      ]
     },
     "execution_count": 19,
     "metadata": {},
     "output_type": "execute_result"
    }
   ],
   "source": [
    "# Подсчёт прослушиваний в каждый из трёх дней\n",
    "\n",
    "groupby_day = df.groupby('day')\n",
    "\n",
    "groupby_day['user_id'].count()"
   ]
  },
  {
   "cell_type": "markdown",
   "metadata": {
    "id": "cC2tNrlL_Zcu"
   },
   "source": [
    "В среднем пользователи из двух городов менее активны по средам. Но картина может измениться, если рассмотреть каждый город в отдельности."
   ]
  },
  {
   "cell_type": "markdown",
   "metadata": {
    "id": "POzs8bGa_Zcu"
   },
   "source": [
    "Вы видели, как работает группировка по городу и по дням недели. Теперь напишите функцию, которая объединит два эти расчёта.\n",
    "\n",
    "Создайте функцию `number_tracks()`, которая посчитает прослушивания для заданного дня и города. Ей понадобятся два параметра:\n",
    "* день недели,\n",
    "* название города.\n",
    "\n",
    "В функции сохраните в переменную строки исходной таблицы, у которых значение:\n",
    "  * в колонке `day` равно параметру `day`,\n",
    "  * в колонке `city` равно параметру `city`.\n",
    "\n",
    "Для этого примените последовательную фильтрацию с логической индексацией.\n",
    "\n",
    "Затем посчитайте значения в столбце `user_id` получившейся таблицы. Результат сохраните в новую переменную. Верните эту переменную из функции."
   ]
  },
  {
   "cell_type": "code",
   "execution_count": 20,
   "metadata": {
    "id": "Nz3GdQB1_Zcu"
   },
   "outputs": [],
   "source": [
    "# <создание функции number_tracks()>\n",
    "# Объявляется функция с двумя параметрами: day, city.\n",
    "# В переменной track_list сохраняются те строки таблицы df, для которых \n",
    "# значение в столбце 'day' равно параметру day и одновременно значение\n",
    "# в столбце 'city' равно параметру city (используйте последовательную фильтрацию\n",
    "# с помощью логической индексации).\n",
    "# В переменной track_list_count сохраняется число значений столбца 'user_id',\n",
    "# рассчитанное методом count() для таблицы track_list.\n",
    "# Функция возвращает число - значение track_list_count.\n",
    "\n",
    "# Функция для подсчёта прослушиваний для конкретного города и дня.\n",
    "# С помощью последовательной фильтрации с логической индексацией она \n",
    "# сначала получит из исходной таблицы строки с нужным днём,\n",
    "# затем из результата отфильтрует строки с нужным городом,\n",
    "# методом count() посчитает количество значений в колонке user_id. \n",
    "# Это количество функция вернёт в качестве результата\n",
    "\n",
    "def number_tracks(day, city):\n",
    "    track_list = df[df['day']==day]\n",
    "    track_list = track_list[track_list['city']==city]\n",
    "    track_list_count = track_list['user_id'].count()\n",
    "    return track_list_count"
   ]
  },
  {
   "cell_type": "markdown",
   "metadata": {
    "id": "ytf7xFrFJQ2r"
   },
   "source": [
    "Вызовите `number_tracks()` шесть раз, меняя значение параметров — так, чтобы получить данные для каждого города в каждый из трёх дней."
   ]
  },
  {
   "cell_type": "code",
   "execution_count": 21,
   "metadata": {
    "id": "rJcRATNQ_Zcu"
   },
   "outputs": [
    {
     "data": {
      "text/plain": [
       "15740"
      ]
     },
     "execution_count": 21,
     "metadata": {},
     "output_type": "execute_result"
    }
   ],
   "source": [
    "# количество прослушиваний в Москве по понедельникам\n",
    "\n",
    "number_tracks('Monday', 'Moscow') "
   ]
  },
  {
   "cell_type": "code",
   "execution_count": 22,
   "metadata": {
    "id": "hq_ncZ5T_Zcu"
   },
   "outputs": [
    {
     "data": {
      "text/plain": [
       "5614"
      ]
     },
     "execution_count": 22,
     "metadata": {},
     "output_type": "execute_result"
    }
   ],
   "source": [
    "# количество прослушиваний в Санкт-Петербурге по понедельникам\n",
    "\n",
    "number_tracks('Monday', 'Saint-Petersburg')"
   ]
  },
  {
   "cell_type": "code",
   "execution_count": 23,
   "metadata": {
    "id": "_NTy2VPU_Zcu"
   },
   "outputs": [
    {
     "data": {
      "text/plain": [
       "11056"
      ]
     },
     "execution_count": 23,
     "metadata": {},
     "output_type": "execute_result"
    }
   ],
   "source": [
    "# количество прослушиваний в Москве по средам\n",
    "\n",
    "number_tracks('Wednesday', 'Moscow')"
   ]
  },
  {
   "cell_type": "code",
   "execution_count": 24,
   "metadata": {
    "id": "j2y3TAwo_Zcu"
   },
   "outputs": [
    {
     "data": {
      "text/plain": [
       "7003"
      ]
     },
     "execution_count": 24,
     "metadata": {},
     "output_type": "execute_result"
    }
   ],
   "source": [
    "# количество прослушиваний в Санкт-Петербурге по средам\n",
    "\n",
    "number_tracks('Wednesday', 'Saint-Petersburg') "
   ]
  },
  {
   "cell_type": "code",
   "execution_count": 25,
   "metadata": {
    "id": "vYDw5u_K_Zcu"
   },
   "outputs": [
    {
     "data": {
      "text/plain": [
       "15945"
      ]
     },
     "execution_count": 25,
     "metadata": {},
     "output_type": "execute_result"
    }
   ],
   "source": [
    "# количество прослушиваний в Москве по пятницам\n",
    "\n",
    "number_tracks('Friday', 'Moscow')"
   ]
  },
  {
   "cell_type": "code",
   "execution_count": 26,
   "metadata": {
    "id": "8_yzFtW3_Zcu"
   },
   "outputs": [
    {
     "data": {
      "text/plain": [
       "5895"
      ]
     },
     "execution_count": 26,
     "metadata": {},
     "output_type": "execute_result"
    }
   ],
   "source": [
    "# количество прослушиваний в Санкт-Петербурге по пятницам\n",
    "\n",
    "number_tracks('Friday', 'Saint-Petersburg')"
   ]
  },
  {
   "cell_type": "markdown",
   "metadata": {},
   "source": [
    "Для заполнения данных в таблице воспользуемся циклом, который создаст необходимые переменные, распределенные по дням недели:"
   ]
  },
  {
   "cell_type": "code",
   "execution_count": 27,
   "metadata": {},
   "outputs": [],
   "source": [
    "days = ['Monday', 'Wednesday', 'Friday'] # список по дням\n",
    "cities = ['Moscow', 'Saint-Petersburg'] # список по городам\n",
    "\n",
    "data_cities = [] # пустой список, для заполнения данных таблицы\n",
    "\n",
    "for city in cities: # цикл по городам\n",
    "    list_for_city = [] # пустой список для заполнения по городу\n",
    "    list_for_city.append(city) # добавим к началу списка город\n",
    "    for day in days: # цикл по дням\n",
    "        number_tracks_for_day = number_tracks(day, city) # испотзуем ранее заданную функцию\n",
    "        list_for_city.append(number_tracks_for_day) # заполняем список\n",
    "    data_cities.append(list_for_city) # заполняем таблицу"
   ]
  },
  {
   "cell_type": "markdown",
   "metadata": {
    "id": "7QXffbO-_Zcu"
   },
   "source": [
    "Создайте c помощью конструктора `pd.DataFrame` таблицу, где\n",
    "* названия колонок — `['city', 'monday', 'wednesday', 'friday']`;\n",
    "* данные — результаты, которые вы получили с помощью `number_tracks`."
   ]
  },
  {
   "cell_type": "code",
   "execution_count": 28,
   "metadata": {
    "id": "APAcLpOr_Zcu"
   },
   "outputs": [
    {
     "data": {
      "text/html": [
       "<div>\n",
       "<style scoped>\n",
       "    .dataframe tbody tr th:only-of-type {\n",
       "        vertical-align: middle;\n",
       "    }\n",
       "\n",
       "    .dataframe tbody tr th {\n",
       "        vertical-align: top;\n",
       "    }\n",
       "\n",
       "    .dataframe thead th {\n",
       "        text-align: right;\n",
       "    }\n",
       "</style>\n",
       "<table border=\"1\" class=\"dataframe\">\n",
       "  <thead>\n",
       "    <tr style=\"text-align: right;\">\n",
       "      <th></th>\n",
       "      <th>city</th>\n",
       "      <th>Monday</th>\n",
       "      <th>Wednesday</th>\n",
       "      <th>Friday</th>\n",
       "    </tr>\n",
       "  </thead>\n",
       "  <tbody>\n",
       "    <tr>\n",
       "      <td>0</td>\n",
       "      <td>Moscow</td>\n",
       "      <td>15740</td>\n",
       "      <td>11056</td>\n",
       "      <td>15945</td>\n",
       "    </tr>\n",
       "    <tr>\n",
       "      <td>1</td>\n",
       "      <td>Saint-Petersburg</td>\n",
       "      <td>5614</td>\n",
       "      <td>7003</td>\n",
       "      <td>5895</td>\n",
       "    </tr>\n",
       "  </tbody>\n",
       "</table>\n",
       "</div>"
      ],
      "text/plain": [
       "               city  Monday  Wednesday  Friday\n",
       "0            Moscow   15740      11056   15945\n",
       "1  Saint-Petersburg    5614       7003    5895"
      ]
     },
     "metadata": {},
     "output_type": "display_data"
    }
   ],
   "source": [
    "# Таблица с результатами\n",
    "\n",
    "columns = ['city', 'Monday', 'Wednesday', 'Friday']\n",
    "\n",
    "table_days = pd.DataFrame(data=data_cities, columns=columns)\n",
    "\n",
    "display(table_days)"
   ]
  },
  {
   "cell_type": "markdown",
   "metadata": {
    "id": "-EgPIHYu_Zcu"
   },
   "source": [
    "**Выводы**\n",
    "\n",
    "Данные показывают разницу поведения пользователей:\n",
    "\n",
    "- В Москве пик прослушиваний приходится на понедельник и пятницу, а в среду заметен спад.\n",
    "- В Петербурге, наоборот, больше слушают музыку по средам. Активность в понедельник и пятницу здесь почти в равной мере уступает среде.\n",
    "\n",
    "Значит, данные говорят в пользу первой гипотезы."
   ]
  },
  {
   "cell_type": "markdown",
   "metadata": {
    "id": "atZAxtq4_Zcu"
   },
   "source": [
    "### Музыка в начале и в конце недели"
   ]
  },
  {
   "cell_type": "markdown",
   "metadata": {
    "id": "eXrQqXFH_Zcu"
   },
   "source": [
    "Согласно второй гипотезе, утром в понедельник в Москве преобладают одни жанры, а в Петербурге — другие. Так же и вечером пятницы преобладают разные жанры — в зависимости от города."
   ]
  },
  {
   "cell_type": "markdown",
   "metadata": {
    "id": "S8UcW6Hw_Zcu"
   },
   "source": [
    "Сохраните таблицы с данными в две переменные:\n",
    "* по Москве — в `moscow_general`;\n",
    "* по Санкт-Петербургу — в `spb_general`."
   ]
  },
  {
   "cell_type": "code",
   "execution_count": 29,
   "metadata": {
    "id": "qeaFfM_P_Zcu"
   },
   "outputs": [],
   "source": [
    "# получение таблицы moscow_general из тех строк таблицы df, \n",
    "# для которых значение в столбце 'city' равно 'Moscow'\n",
    "\n",
    "moscow_general = df[df['city']=='Moscow']"
   ]
  },
  {
   "cell_type": "code",
   "execution_count": 30,
   "metadata": {
    "id": "ORaVRKto_Zcu"
   },
   "outputs": [],
   "source": [
    "# получение таблицы spb_general из тех строк таблицы df,\n",
    "# для которых значение в столбце 'city' равно 'Saint-Petersburg'\n",
    "\n",
    "spb_general = df[df['city']=='Saint-Petersburg']"
   ]
  },
  {
   "cell_type": "markdown",
   "metadata": {
    "id": "MEJV-CX2_Zcu"
   },
   "source": [
    "Создайте функцию `genre_weekday()` с четырьмя параметрами:\n",
    "* таблица (датафрейм) с данными,\n",
    "* день недели,\n",
    "* начальная временная метка в формате 'hh:mm', \n",
    "* последняя временная метка в формате 'hh:mm'.\n",
    "\n",
    "Функция должна вернуть информацию о топ-10 жанров тех треков, которые прослушивали в указанный день, в промежутке между двумя отметками времени."
   ]
  },
  {
   "cell_type": "code",
   "execution_count": 31,
   "metadata": {
    "id": "laJT9BYl_Zcu"
   },
   "outputs": [],
   "source": [
    "# Объявление функции genre_weekday() с параметрами table, day, time1, time2,\n",
    "# которая возвращает информацию о самых популярных жанрах в указанный день в\n",
    "# заданное время:\n",
    "# 1) в переменную genre_df сохраняются те строки переданного датафрейма table, для\n",
    "#    которых одновременно:\n",
    "#    - значение в столбце day равно значению аргумента day\n",
    "#    - значение в столбце time больше значения аргумента time1\n",
    "#    - значение в столбце time меньше значения аргумента time2\n",
    "#    Используйте последовательную фильтрацию с помощью логической индексации.\n",
    "# 2) сгруппировать датафрейм genre_df по столбцу genre, взять один из его\n",
    "#    столбцов и посчитать методом count() количество записей для каждого из\n",
    "#    присутствующих жанров, получившийся Series записать в переменную\n",
    "#    genre_df_count\n",
    "# 3) отсортировать genre_df_count по убыванию встречаемости и сохранить\n",
    "#    в переменную genre_df_sorted\n",
    "# 4) вернуть Series из 10 первых значений genre_df_sorted, это будут топ-10\n",
    "#    популярных жанров (в указанный день, в заданное время)\n",
    "\n",
    "def genre_weekday(table, day, time1, time2):\n",
    "    genre_df = table[table['day']==day]\n",
    "    genre_df = genre_df[genre_df['time']>=time1]\n",
    "    genre_df = genre_df[genre_df['time']<=time2]\n",
    "    genre_df = genre_df.groupby('genre')['genre']\n",
    "    genre_df_count = genre_df.count()\n",
    "    genre_df_sorted = genre_df_count.sort_values(ascending=False)\n",
    "    return genre_df_sorted.head(10)"
   ]
  },
  {
   "cell_type": "markdown",
   "metadata": {
    "id": "la2s2_PF_Zcu"
   },
   "source": [
    "Cравните результаты функции `genre_weekday()` для Москвы и Санкт-Петербурга в понедельник утром (с 7:00 до 11:00) и в пятницу вечером (с 17:00 до 23:00):"
   ]
  },
  {
   "cell_type": "code",
   "execution_count": 32,
   "metadata": {
    "id": "yz7itPUQ_Zcu"
   },
   "outputs": [
    {
     "data": {
      "text/plain": [
       "genre\n",
       "pop            781\n",
       "dance          549\n",
       "electronic     480\n",
       "rock           474\n",
       "hiphop         286\n",
       "ruspop         186\n",
       "world          181\n",
       "rusrap         175\n",
       "alternative    164\n",
       "unknown        161\n",
       "Name: genre, dtype: int64"
      ]
     },
     "execution_count": 32,
     "metadata": {},
     "output_type": "execute_result"
    }
   ],
   "source": [
    "# вызов функции для утра понедельника в Москве (вместо df — таблица moscow_general)\n",
    "# объекты, хранящие время, являются строками и сравниваются как строки\n",
    "# пример вызова: genre_weekday(moscow_general, 'Monday', '07:00', '11:00')\n",
    "\n",
    "genre_weekday(moscow_general, 'Monday', '07:00', '11:00')"
   ]
  },
  {
   "cell_type": "code",
   "execution_count": 33,
   "metadata": {
    "id": "kwUcHPdy_Zcu"
   },
   "outputs": [
    {
     "data": {
      "text/plain": [
       "genre\n",
       "pop            218\n",
       "dance          182\n",
       "rock           162\n",
       "electronic     147\n",
       "hiphop          80\n",
       "ruspop          64\n",
       "alternative     58\n",
       "rusrap          55\n",
       "jazz            44\n",
       "classical       40\n",
       "Name: genre, dtype: int64"
      ]
     },
     "execution_count": 33,
     "metadata": {},
     "output_type": "execute_result"
    }
   ],
   "source": [
    "# вызов функции для утра понедельника в Петербурге (вместо df — таблица spb_general)\n",
    "\n",
    "genre_weekday(spb_general, 'Monday', '07:00', '11:00')"
   ]
  },
  {
   "cell_type": "code",
   "execution_count": 34,
   "metadata": {
    "id": "EzXVRE1o_Zcu"
   },
   "outputs": [
    {
     "data": {
      "text/plain": [
       "genre\n",
       "pop            713\n",
       "rock           517\n",
       "dance          495\n",
       "electronic     482\n",
       "hiphop         273\n",
       "world          208\n",
       "ruspop         170\n",
       "alternative    163\n",
       "classical      163\n",
       "rusrap         142\n",
       "Name: genre, dtype: int64"
      ]
     },
     "execution_count": 34,
     "metadata": {},
     "output_type": "execute_result"
    }
   ],
   "source": [
    "# вызов функции для вечера пятницы в Москве\n",
    "\n",
    "genre_weekday(moscow_general, 'Friday', '17:00', '23:00')"
   ]
  },
  {
   "cell_type": "code",
   "execution_count": 35,
   "metadata": {
    "id": "JZaEKu5v_Zcu"
   },
   "outputs": [
    {
     "data": {
      "text/plain": [
       "genre\n",
       "pop            256\n",
       "rock           216\n",
       "electronic     216\n",
       "dance          210\n",
       "hiphop          97\n",
       "alternative     63\n",
       "jazz            61\n",
       "classical       60\n",
       "rusrap          59\n",
       "world           54\n",
       "Name: genre, dtype: int64"
      ]
     },
     "execution_count": 35,
     "metadata": {},
     "output_type": "execute_result"
    }
   ],
   "source": [
    "# вызов функции для вечера пятницы в Петербурге\n",
    "\n",
    "genre_weekday(spb_general, 'Friday', '17:00', '23:00')"
   ]
  },
  {
   "cell_type": "markdown",
   "metadata": {
    "id": "wrCe4MNX_Zcu"
   },
   "source": [
    "**Выводы**\n",
    "\n",
    "Если сравнить топ-10 жанров в понедельник утром, можно сделать такие выводы:\n",
    "\n",
    "1. В Москве и Петербурге слушают похожую музыку. Единственное отличие — в московский рейтинг вошёл жанр “world”, а в петербургский — джаз и классика.\n",
    "\n",
    "2. В Москве пропущенных значений оказалось так много, что значение `'unknown'` заняло десятое место среди самых популярных жанров. Значит, пропущенные значения занимают существенную долю в данных и угрожают достоверности исследования.\n",
    "\n",
    "Вечер пятницы не меняет эту картину. Некоторые жанры поднимаются немного выше, другие спускаются, но в целом топ-10 остаётся тем же самым.\n",
    "\n",
    "Таким образом, вторая гипотеза подтвердилась лишь частично:\n",
    "* Пользователи слушают похожую музыку в начале недели и в конце.\n",
    "* Разница между Москвой и Петербургом не слишком выражена. В Москве чаще слушают русскую популярную музыку, в Петербурге — джаз.\n",
    "\n",
    "Однако пропуски в данных ставят под сомнение этот результат. В Москве их так много, что рейтинг топ-10 мог бы выглядеть иначе, если бы не утерянные  данные о жанрах."
   ]
  },
  {
   "cell_type": "markdown",
   "metadata": {
    "id": "JolODAqr_Zcu"
   },
   "source": [
    "### Жанровые предпочтения в Москве и Петербурге\n",
    "\n",
    "Гипотеза: Петербург — столица рэпа, музыку этого жанра там слушают чаще, чем в Москве.  А Москва — город контрастов, в котором, тем не менее, преобладает поп-музыка."
   ]
  },
  {
   "cell_type": "markdown",
   "metadata": {
    "id": "DlegSvaT_Zcu"
   },
   "source": [
    "Сгруппируйте таблицу `moscow_general` по жанру и посчитайте прослушивания треков каждого жанра методом `count()`. Затем отсортируйте результат в порядке убывания и сохраните его в таблице `moscow_genres`."
   ]
  },
  {
   "cell_type": "code",
   "execution_count": 36,
   "metadata": {
    "id": "r19lIPke_Zcu"
   },
   "outputs": [],
   "source": [
    "moscow_genres = moscow_general.groupby('genre')['genre'].count().sort_values(ascending=False)\n",
    "\n",
    "# одной строкой: группировка таблицы moscow_general по столбцу 'genre', \n",
    "# подсчёт числа значений 'genre' в этой группировке методом count(), \n",
    "# сортировка получившегося Series в порядке убывания и сохранение в moscow_genres"
   ]
  },
  {
   "cell_type": "markdown",
   "metadata": {
    "id": "6kMuomxTiIr8"
   },
   "source": [
    "Выведите на экран первые десять строк `moscow_genres`:"
   ]
  },
  {
   "cell_type": "code",
   "execution_count": 37,
   "metadata": {
    "id": "WhCSooF8_Zcv"
   },
   "outputs": [
    {
     "data": {
      "text/plain": [
       "genre\n",
       "pop            5892\n",
       "dance          4435\n",
       "rock           3965\n",
       "electronic     3786\n",
       "hiphop         2096\n",
       "classical      1616\n",
       "world          1432\n",
       "alternative    1379\n",
       "ruspop         1372\n",
       "rusrap         1161\n",
       "Name: genre, dtype: int64"
      ]
     },
     "execution_count": 37,
     "metadata": {},
     "output_type": "execute_result"
    }
   ],
   "source": [
    "# просмотр первых 10 строк moscow_genres\n",
    "\n",
    "moscow_genres.head(10)"
   ]
  },
  {
   "cell_type": "markdown",
   "metadata": {
    "id": "cnPG2vnN_Zcv"
   },
   "source": [
    "Теперь повторите то же и для Петербурга.\n",
    "\n",
    "Сгруппируйте таблицу `spb_general` по жанру. Посчитайте прослушивания треков каждого жанра. Результат отсортируйте в порядке убывания и сохраните в таблице `spb_genres`:\n"
   ]
  },
  {
   "cell_type": "code",
   "execution_count": 38,
   "metadata": {
    "id": "gluLIpE7_Zcv"
   },
   "outputs": [],
   "source": [
    "# одной строкой: группировка таблицы spb_general по столбцу 'genre', \n",
    "# подсчёт числа значений 'genre' в этой группировке методом count(), \n",
    "# сортировка получившегося Series в порядке убывания и сохранение в spb_genres\n",
    "\n",
    "spb_genres = spb_general.groupby('genre')['genre'].count().sort_values(ascending=False)"
   ]
  },
  {
   "cell_type": "markdown",
   "metadata": {
    "id": "5Doha_ODgyQ8"
   },
   "source": [
    "Выведите на экран первые десять строк `spb_genres`:"
   ]
  },
  {
   "cell_type": "code",
   "execution_count": 39,
   "metadata": {
    "id": "uaGJHjVU_Zcv"
   },
   "outputs": [
    {
     "data": {
      "text/plain": [
       "genre\n",
       "pop            2431\n",
       "dance          1932\n",
       "rock           1879\n",
       "electronic     1736\n",
       "hiphop          960\n",
       "alternative     649\n",
       "classical       646\n",
       "rusrap          564\n",
       "ruspop          538\n",
       "world           515\n",
       "Name: genre, dtype: int64"
      ]
     },
     "execution_count": 39,
     "metadata": {},
     "output_type": "execute_result"
    }
   ],
   "source": [
    "# просмотр первых 10 строк spb_genres\n",
    "\n",
    "spb_genres.head(10)"
   ]
  },
  {
   "cell_type": "markdown",
   "metadata": {
    "id": "RY51YJYu_Zcv"
   },
   "source": [
    "**Выводы**"
   ]
  },
  {
   "cell_type": "markdown",
   "metadata": {
    "id": "nVhnJEm__Zcv"
   },
   "source": [
    "Гипотеза частично подтвердилась:\n",
    "* Поп-музыка — самый популярный жанр в Москве, как и предполагала гипотеза. Более того, в топ-10 жанров встречается близкий жанр — русская популярная музыка.\n",
    "* Вопреки ожиданиям, рэп одинаково популярен в Москве и Петербурге. \n"
   ]
  },
  {
   "cell_type": "markdown",
   "metadata": {
    "id": "ykKQ0N65_Zcv"
   },
   "source": [
    "## Итоги исследования"
   ]
  },
  {
   "cell_type": "markdown",
   "metadata": {
    "id": "tjUwbHb3_Zcv"
   },
   "source": [
    "Вы проверили три гипотезы и установили:\n",
    "\n",
    "1. День недели по-разному влияет на активность пользователей в Москве и Петербурге. \n",
    "\n",
    "Первая гипотеза полностью подтвердилась.\n",
    "\n",
    "2. Музыкальные предпочтения не сильно меняются в течение недели — будь то Москва или Петербург. Небольшие различия заметны в начале недели, по понедельникам:\n",
    "* в Москве слушают музыку жанра “world”,\n",
    "* в Петербурге — джаз и классику.\n",
    "\n",
    "Таким образом, вторая гипотеза подтвердилась лишь отчасти. Этот результат мог оказаться иным, если бы не пропуски в данных.\n",
    "\n",
    "3. Во вкусах пользователей Москвы и Петербурга больше общего чем различий. Вопреки ожиданиям, предпочтения жанров в Петербурге напоминают московские.\n",
    "\n",
    "Третья гипотеза не подтвердилась. Если различия в предпочтениях и существуют, на основной массе пользователей они незаметны."
   ]
  }
 ],
 "metadata": {
  "ExecuteTimeLog": [
   {
    "duration": 286,
    "start_time": "2021-11-17T22:57:21.806Z"
   },
   {
    "duration": 519,
    "start_time": "2021-11-17T22:57:50.334Z"
   },
   {
    "duration": 790,
    "start_time": "2021-11-17T22:57:50.855Z"
   },
   {
    "duration": 2,
    "start_time": "2021-11-17T22:58:03.441Z"
   },
   {
    "duration": 3,
    "start_time": "2021-11-17T23:16:44.689Z"
   },
   {
    "duration": 16,
    "start_time": "2021-11-17T23:17:12.336Z"
   },
   {
    "duration": 10,
    "start_time": "2021-11-17T23:17:22.041Z"
   },
   {
    "duration": 634,
    "start_time": "2021-11-18T11:02:32.514Z"
   },
   {
    "duration": 138,
    "start_time": "2021-11-18T11:02:33.150Z"
   },
   {
    "duration": 19,
    "start_time": "2021-11-18T11:02:33.290Z"
   },
   {
    "duration": 3,
    "start_time": "2021-11-18T11:02:33.312Z"
   },
   {
    "duration": 6,
    "start_time": "2021-11-18T11:02:33.317Z"
   },
   {
    "duration": 3,
    "start_time": "2021-11-18T11:02:33.344Z"
   },
   {
    "duration": 10,
    "start_time": "2021-11-18T11:02:33.349Z"
   },
   {
    "duration": 6,
    "start_time": "2021-11-18T11:02:33.362Z"
   },
   {
    "duration": 10,
    "start_time": "2021-11-18T11:02:33.369Z"
   },
   {
    "duration": 6,
    "start_time": "2021-11-18T11:02:33.380Z"
   },
   {
    "duration": 6,
    "start_time": "2021-11-18T11:02:33.388Z"
   },
   {
    "duration": 5,
    "start_time": "2021-11-18T11:02:33.395Z"
   },
   {
    "duration": 6,
    "start_time": "2021-11-18T11:02:33.402Z"
   },
   {
    "duration": 6,
    "start_time": "2021-11-18T11:02:33.409Z"
   },
   {
    "duration": 5,
    "start_time": "2021-11-18T11:02:33.416Z"
   },
   {
    "duration": 7,
    "start_time": "2021-11-18T11:02:33.423Z"
   },
   {
    "duration": 13,
    "start_time": "2021-11-18T11:02:33.432Z"
   },
   {
    "duration": 9,
    "start_time": "2021-11-18T11:02:33.447Z"
   },
   {
    "duration": 8,
    "start_time": "2021-11-18T11:02:33.457Z"
   },
   {
    "duration": 12,
    "start_time": "2021-11-18T11:02:33.466Z"
   },
   {
    "duration": 21,
    "start_time": "2021-11-18T11:02:33.480Z"
   },
   {
    "duration": 6,
    "start_time": "2021-11-18T11:02:33.503Z"
   },
   {
    "duration": 9,
    "start_time": "2021-11-18T11:02:33.512Z"
   },
   {
    "duration": 14,
    "start_time": "2021-11-18T11:02:33.523Z"
   },
   {
    "duration": 22,
    "start_time": "2021-11-18T11:02:33.538Z"
   },
   {
    "duration": 14,
    "start_time": "2021-11-18T11:02:33.561Z"
   },
   {
    "duration": 5,
    "start_time": "2021-11-18T11:02:33.576Z"
   },
   {
    "duration": 4,
    "start_time": "2021-11-18T11:02:33.583Z"
   },
   {
    "duration": 8,
    "start_time": "2021-11-18T11:02:33.589Z"
   },
   {
    "duration": 10,
    "start_time": "2021-11-18T11:02:33.599Z"
   },
   {
    "duration": 14,
    "start_time": "2021-11-18T11:02:33.610Z"
   },
   {
    "duration": 17,
    "start_time": "2021-11-18T11:02:33.625Z"
   },
   {
    "duration": 9,
    "start_time": "2021-11-18T11:02:33.643Z"
   },
   {
    "duration": 4,
    "start_time": "2021-11-18T11:02:33.654Z"
   },
   {
    "duration": 4,
    "start_time": "2021-11-18T11:02:33.660Z"
   },
   {
    "duration": 4,
    "start_time": "2021-11-18T11:02:33.666Z"
   },
   {
    "duration": 12,
    "start_time": "2021-11-18T11:02:33.672Z"
   },
   {
    "duration": 6,
    "start_time": "2021-11-18T11:02:33.685Z"
   },
   {
    "duration": 41,
    "start_time": "2021-11-18T11:04:23.742Z"
   },
   {
    "duration": 4,
    "start_time": "2021-11-18T11:04:39.024Z"
   },
   {
    "duration": 19,
    "start_time": "2021-11-18T11:05:37.780Z"
   },
   {
    "duration": 4,
    "start_time": "2021-11-18T11:05:44.387Z"
   },
   {
    "duration": 24,
    "start_time": "2021-11-18T11:05:51.492Z"
   },
   {
    "duration": 17,
    "start_time": "2021-11-18T11:06:05.442Z"
   },
   {
    "duration": 23,
    "start_time": "2021-11-18T11:06:10.784Z"
   },
   {
    "duration": 79,
    "start_time": "2021-11-18T11:06:17.469Z"
   },
   {
    "duration": 591,
    "start_time": "2021-11-18T11:14:01.814Z"
   },
   {
    "duration": 414,
    "start_time": "2021-11-18T11:15:47.764Z"
   },
   {
    "duration": 421,
    "start_time": "2021-11-18T11:16:32.581Z"
   },
   {
    "duration": 804,
    "start_time": "2021-11-18T11:16:39.676Z"
   },
   {
    "duration": 2,
    "start_time": "2021-11-18T11:17:24.541Z"
   },
   {
    "duration": 191,
    "start_time": "2021-11-18T11:17:24.545Z"
   },
   {
    "duration": 14,
    "start_time": "2021-11-18T11:17:24.739Z"
   },
   {
    "duration": 30,
    "start_time": "2021-11-18T11:17:24.755Z"
   },
   {
    "duration": 8,
    "start_time": "2021-11-18T11:17:24.787Z"
   },
   {
    "duration": 15,
    "start_time": "2021-11-18T11:17:24.797Z"
   },
   {
    "duration": 4,
    "start_time": "2021-11-18T11:17:24.814Z"
   },
   {
    "duration": 24,
    "start_time": "2021-11-18T11:17:24.844Z"
   },
   {
    "duration": 19,
    "start_time": "2021-11-18T11:17:24.870Z"
   },
   {
    "duration": 25,
    "start_time": "2021-11-18T11:17:24.891Z"
   },
   {
    "duration": 70,
    "start_time": "2021-11-18T11:17:24.917Z"
   },
   {
    "duration": 2,
    "start_time": "2021-11-18T11:17:24.989Z"
   },
   {
    "duration": 8,
    "start_time": "2021-11-18T11:17:24.992Z"
   },
   {
    "duration": 6,
    "start_time": "2021-11-18T11:17:25.002Z"
   },
   {
    "duration": 11,
    "start_time": "2021-11-18T11:17:25.010Z"
   },
   {
    "duration": 5,
    "start_time": "2021-11-18T11:17:25.023Z"
   },
   {
    "duration": 6,
    "start_time": "2021-11-18T11:17:25.030Z"
   },
   {
    "duration": 9,
    "start_time": "2021-11-18T11:17:25.038Z"
   },
   {
    "duration": 7,
    "start_time": "2021-11-18T11:17:25.048Z"
   },
   {
    "duration": 5,
    "start_time": "2021-11-18T11:17:25.057Z"
   },
   {
    "duration": 9,
    "start_time": "2021-11-18T11:17:25.063Z"
   },
   {
    "duration": 5,
    "start_time": "2021-11-18T11:17:25.074Z"
   },
   {
    "duration": 6,
    "start_time": "2021-11-18T11:17:25.081Z"
   },
   {
    "duration": 10,
    "start_time": "2021-11-18T11:17:25.089Z"
   },
   {
    "duration": 7,
    "start_time": "2021-11-18T11:17:25.101Z"
   },
   {
    "duration": 17,
    "start_time": "2021-11-18T11:17:25.110Z"
   },
   {
    "duration": 8,
    "start_time": "2021-11-18T11:17:25.131Z"
   },
   {
    "duration": 12,
    "start_time": "2021-11-18T11:17:25.141Z"
   },
   {
    "duration": 5,
    "start_time": "2021-11-18T11:17:25.155Z"
   },
   {
    "duration": 5,
    "start_time": "2021-11-18T11:17:25.162Z"
   },
   {
    "duration": 6,
    "start_time": "2021-11-18T11:17:25.168Z"
   },
   {
    "duration": 5,
    "start_time": "2021-11-18T11:17:25.176Z"
   },
   {
    "duration": 9,
    "start_time": "2021-11-18T11:17:25.182Z"
   },
   {
    "duration": 6,
    "start_time": "2021-11-18T11:17:25.193Z"
   },
   {
    "duration": 5,
    "start_time": "2021-11-18T11:17:25.200Z"
   },
   {
    "duration": 5,
    "start_time": "2021-11-18T11:17:25.207Z"
   },
   {
    "duration": 9,
    "start_time": "2021-11-18T11:17:25.214Z"
   },
   {
    "duration": 16,
    "start_time": "2021-11-18T11:17:25.225Z"
   },
   {
    "duration": 59,
    "start_time": "2021-11-18T14:30:37.807Z"
   },
   {
    "duration": 56,
    "start_time": "2021-11-18T14:30:39.047Z"
   },
   {
    "duration": 48,
    "start_time": "2021-11-18T14:30:40.034Z"
   },
   {
    "duration": 38,
    "start_time": "2021-11-18T14:31:06.220Z"
   },
   {
    "duration": 3,
    "start_time": "2021-11-18T14:31:26.495Z"
   },
   {
    "duration": 9,
    "start_time": "2021-11-18T14:31:33.320Z"
   },
   {
    "duration": 6,
    "start_time": "2021-11-18T14:31:42.222Z"
   },
   {
    "duration": 31,
    "start_time": "2021-11-18T14:31:54.618Z"
   },
   {
    "duration": 29,
    "start_time": "2021-11-18T14:31:59.516Z"
   },
   {
    "duration": 5,
    "start_time": "2021-11-18T14:32:16.468Z"
   },
   {
    "duration": 14,
    "start_time": "2021-11-18T14:32:48.128Z"
   },
   {
    "duration": 3,
    "start_time": "2021-11-18T14:32:51.795Z"
   },
   {
    "duration": 142,
    "start_time": "2021-11-18T14:32:51.799Z"
   },
   {
    "duration": 10,
    "start_time": "2021-11-18T14:32:51.943Z"
   },
   {
    "duration": 26,
    "start_time": "2021-11-18T14:32:51.955Z"
   },
   {
    "duration": 5,
    "start_time": "2021-11-18T14:32:51.983Z"
   },
   {
    "duration": 14,
    "start_time": "2021-11-18T14:32:51.990Z"
   },
   {
    "duration": 4,
    "start_time": "2021-11-18T14:32:52.006Z"
   },
   {
    "duration": 56,
    "start_time": "2021-11-18T14:32:52.012Z"
   },
   {
    "duration": 18,
    "start_time": "2021-11-18T14:32:52.071Z"
   },
   {
    "duration": 23,
    "start_time": "2021-11-18T14:32:52.091Z"
   },
   {
    "duration": 74,
    "start_time": "2021-11-18T14:32:52.115Z"
   },
   {
    "duration": 71,
    "start_time": "2021-11-18T14:32:52.190Z"
   },
   {
    "duration": 50,
    "start_time": "2021-11-18T14:32:52.262Z"
   },
   {
    "duration": 49,
    "start_time": "2021-11-18T14:32:52.314Z"
   },
   {
    "duration": 3,
    "start_time": "2021-11-18T14:32:52.364Z"
   },
   {
    "duration": 16,
    "start_time": "2021-11-18T14:32:52.368Z"
   },
   {
    "duration": 7,
    "start_time": "2021-11-18T14:32:52.386Z"
   },
   {
    "duration": 57,
    "start_time": "2021-11-18T14:32:52.394Z"
   },
   {
    "duration": 32,
    "start_time": "2021-11-18T14:32:52.452Z"
   },
   {
    "duration": 3,
    "start_time": "2021-11-18T14:32:52.486Z"
   },
   {
    "duration": 24,
    "start_time": "2021-11-18T14:32:52.491Z"
   },
   {
    "duration": 30,
    "start_time": "2021-11-18T14:32:52.517Z"
   },
   {
    "duration": 14,
    "start_time": "2021-11-18T14:32:52.549Z"
   },
   {
    "duration": 13,
    "start_time": "2021-11-18T14:32:52.564Z"
   },
   {
    "duration": 16,
    "start_time": "2021-11-18T14:32:52.579Z"
   },
   {
    "duration": 14,
    "start_time": "2021-11-18T14:32:52.596Z"
   },
   {
    "duration": 302,
    "start_time": "2021-11-18T14:34:37.712Z"
   },
   {
    "duration": 2,
    "start_time": "2021-11-18T14:34:48.011Z"
   },
   {
    "duration": 139,
    "start_time": "2021-11-18T14:34:48.015Z"
   },
   {
    "duration": 10,
    "start_time": "2021-11-18T14:34:48.156Z"
   },
   {
    "duration": 24,
    "start_time": "2021-11-18T14:34:48.167Z"
   },
   {
    "duration": 5,
    "start_time": "2021-11-18T14:34:48.192Z"
   },
   {
    "duration": 13,
    "start_time": "2021-11-18T14:34:48.198Z"
   },
   {
    "duration": 3,
    "start_time": "2021-11-18T14:34:48.213Z"
   },
   {
    "duration": 46,
    "start_time": "2021-11-18T14:34:48.218Z"
   },
   {
    "duration": 21,
    "start_time": "2021-11-18T14:34:48.267Z"
   },
   {
    "duration": 21,
    "start_time": "2021-11-18T14:34:48.290Z"
   },
   {
    "duration": 74,
    "start_time": "2021-11-18T14:34:48.313Z"
   },
   {
    "duration": 67,
    "start_time": "2021-11-18T14:34:48.388Z"
   },
   {
    "duration": 46,
    "start_time": "2021-11-18T14:34:48.456Z"
   },
   {
    "duration": 49,
    "start_time": "2021-11-18T14:34:48.503Z"
   },
   {
    "duration": 2,
    "start_time": "2021-11-18T14:34:48.554Z"
   },
   {
    "duration": 15,
    "start_time": "2021-11-18T14:34:48.558Z"
   },
   {
    "duration": 8,
    "start_time": "2021-11-18T14:34:48.574Z"
   },
   {
    "duration": 38,
    "start_time": "2021-11-18T14:34:48.583Z"
   },
   {
    "duration": 46,
    "start_time": "2021-11-18T14:34:48.622Z"
   },
   {
    "duration": 3,
    "start_time": "2021-11-18T14:34:48.669Z"
   },
   {
    "duration": 25,
    "start_time": "2021-11-18T14:34:48.674Z"
   },
   {
    "duration": 13,
    "start_time": "2021-11-18T14:34:48.701Z"
   },
   {
    "duration": 38,
    "start_time": "2021-11-18T14:34:48.716Z"
   },
   {
    "duration": 13,
    "start_time": "2021-11-18T14:34:48.756Z"
   },
   {
    "duration": 19,
    "start_time": "2021-11-18T14:34:48.770Z"
   },
   {
    "duration": 13,
    "start_time": "2021-11-18T14:34:48.790Z"
   },
   {
    "duration": 84,
    "start_time": "2021-11-18T14:34:48.806Z"
   },
   {
    "duration": 8,
    "start_time": "2021-11-18T14:34:49.643Z"
   },
   {
    "duration": 11,
    "start_time": "2021-11-18T14:35:04.937Z"
   },
   {
    "duration": 8,
    "start_time": "2021-11-18T14:35:08.994Z"
   },
   {
    "duration": 4,
    "start_time": "2021-11-18T14:35:16.918Z"
   },
   {
    "duration": 19,
    "start_time": "2021-11-18T14:35:22.934Z"
   },
   {
    "duration": 12,
    "start_time": "2021-11-18T14:35:28.103Z"
   },
   {
    "duration": 16,
    "start_time": "2021-11-18T14:35:34.945Z"
   },
   {
    "duration": 12,
    "start_time": "2021-11-18T14:35:38.690Z"
   },
   {
    "duration": 270,
    "start_time": "2021-11-18T14:35:58.620Z"
   },
   {
    "duration": 22,
    "start_time": "2021-11-18T14:36:02.909Z"
   },
   {
    "duration": 8,
    "start_time": "2021-11-18T14:36:04.163Z"
   },
   {
    "duration": 14,
    "start_time": "2021-11-18T14:36:09.544Z"
   },
   {
    "duration": 9,
    "start_time": "2021-11-18T14:36:13.325Z"
   },
   {
    "duration": 811,
    "start_time": "2021-11-18T16:13:35.551Z"
   },
   {
    "duration": 183,
    "start_time": "2021-11-18T16:13:36.365Z"
   },
   {
    "duration": 33,
    "start_time": "2021-11-18T16:13:36.551Z"
   },
   {
    "duration": 37,
    "start_time": "2021-11-18T16:13:36.586Z"
   },
   {
    "duration": 5,
    "start_time": "2021-11-18T16:13:36.626Z"
   },
   {
    "duration": 62,
    "start_time": "2021-11-18T16:13:36.633Z"
   },
   {
    "duration": 9,
    "start_time": "2021-11-18T16:13:36.697Z"
   },
   {
    "duration": 33,
    "start_time": "2021-11-18T16:13:36.708Z"
   },
   {
    "duration": 53,
    "start_time": "2021-11-18T16:13:36.745Z"
   },
   {
    "duration": 33,
    "start_time": "2021-11-18T16:13:36.801Z"
   },
   {
    "duration": 145,
    "start_time": "2021-11-18T16:13:36.837Z"
   },
   {
    "duration": 144,
    "start_time": "2021-11-18T16:13:36.985Z"
   },
   {
    "duration": 114,
    "start_time": "2021-11-18T16:13:37.132Z"
   },
   {
    "duration": 68,
    "start_time": "2021-11-18T16:13:37.249Z"
   },
   {
    "duration": 4,
    "start_time": "2021-11-18T16:13:37.320Z"
   },
   {
    "duration": 19,
    "start_time": "2021-11-18T16:13:37.326Z"
   },
   {
    "duration": 40,
    "start_time": "2021-11-18T16:13:37.348Z"
   },
   {
    "duration": 45,
    "start_time": "2021-11-18T16:13:37.391Z"
   },
   {
    "duration": 74,
    "start_time": "2021-11-18T16:13:37.438Z"
   },
   {
    "duration": 5,
    "start_time": "2021-11-18T16:13:37.514Z"
   },
   {
    "duration": 29,
    "start_time": "2021-11-18T16:13:37.522Z"
   },
   {
    "duration": 41,
    "start_time": "2021-11-18T16:13:37.553Z"
   },
   {
    "duration": 18,
    "start_time": "2021-11-18T16:13:37.596Z"
   },
   {
    "duration": 23,
    "start_time": "2021-11-18T16:13:37.616Z"
   },
   {
    "duration": 58,
    "start_time": "2021-11-18T16:13:37.641Z"
   },
   {
    "duration": 18,
    "start_time": "2021-11-18T16:13:37.702Z"
   },
   {
    "duration": 111,
    "start_time": "2021-11-18T16:13:37.724Z"
   },
   {
    "duration": 12,
    "start_time": "2021-11-18T16:13:37.838Z"
   },
   {
    "duration": 30,
    "start_time": "2021-11-18T16:13:37.852Z"
   },
   {
    "duration": 14,
    "start_time": "2021-11-18T16:13:37.885Z"
   },
   {
    "duration": 8,
    "start_time": "2021-11-18T16:13:37.903Z"
   },
   {
    "duration": 36,
    "start_time": "2021-11-18T16:13:37.913Z"
   },
   {
    "duration": 19,
    "start_time": "2021-11-18T16:13:37.981Z"
   },
   {
    "duration": 21,
    "start_time": "2021-11-18T16:13:38.003Z"
   },
   {
    "duration": 16,
    "start_time": "2021-11-18T16:13:38.026Z"
   },
   {
    "duration": 33,
    "start_time": "2021-11-18T16:13:38.082Z"
   },
   {
    "duration": 13,
    "start_time": "2021-11-18T16:13:38.118Z"
   },
   {
    "duration": 50,
    "start_time": "2021-11-18T16:13:38.133Z"
   },
   {
    "duration": 12,
    "start_time": "2021-11-18T16:13:38.185Z"
   },
   {
    "duration": 94,
    "start_time": "2021-11-18T20:15:20.503Z"
   },
   {
    "duration": 296,
    "start_time": "2021-11-18T20:22:55.563Z"
   },
   {
    "duration": 588,
    "start_time": "2021-11-18T20:23:12.810Z"
   },
   {
    "duration": 130,
    "start_time": "2021-11-18T20:23:13.400Z"
   },
   {
    "duration": 17,
    "start_time": "2021-11-18T20:23:13.533Z"
   },
   {
    "duration": 25,
    "start_time": "2021-11-18T20:23:13.552Z"
   },
   {
    "duration": 4,
    "start_time": "2021-11-18T20:23:13.579Z"
   },
   {
    "duration": 19,
    "start_time": "2021-11-18T20:23:13.585Z"
   },
   {
    "duration": 4,
    "start_time": "2021-11-18T20:23:13.606Z"
   },
   {
    "duration": 53,
    "start_time": "2021-11-18T20:23:13.612Z"
   },
   {
    "duration": 26,
    "start_time": "2021-11-18T20:23:13.668Z"
   },
   {
    "duration": 49,
    "start_time": "2021-11-18T20:23:13.697Z"
   },
   {
    "duration": 81,
    "start_time": "2021-11-18T20:23:13.748Z"
   },
   {
    "duration": 114,
    "start_time": "2021-11-18T20:23:13.831Z"
   },
   {
    "duration": 71,
    "start_time": "2021-11-18T20:23:13.947Z"
   },
   {
    "duration": 76,
    "start_time": "2021-11-18T20:23:14.020Z"
   },
   {
    "duration": 3,
    "start_time": "2021-11-18T20:23:14.098Z"
   },
   {
    "duration": 14,
    "start_time": "2021-11-18T20:23:14.103Z"
   },
   {
    "duration": 313,
    "start_time": "2021-11-18T20:23:14.779Z"
   },
   {
    "duration": 257,
    "start_time": "2021-11-18T20:23:26.825Z"
   },
   {
    "duration": 326,
    "start_time": "2021-11-18T20:24:52.961Z"
   },
   {
    "duration": 7,
    "start_time": "2021-11-18T20:25:43.325Z"
   },
   {
    "duration": 7,
    "start_time": "2021-11-18T20:25:49.414Z"
   },
   {
    "duration": 95,
    "start_time": "2021-11-18T20:26:23.276Z"
   },
   {
    "duration": 41,
    "start_time": "2021-11-18T20:26:29.977Z"
   },
   {
    "duration": 11,
    "start_time": "2021-11-18T20:29:48.834Z"
   },
   {
    "duration": 12,
    "start_time": "2021-11-18T20:30:00.032Z"
   },
   {
    "duration": 12,
    "start_time": "2021-11-18T20:32:33.898Z"
   },
   {
    "duration": 4,
    "start_time": "2021-11-18T20:32:54.928Z"
   },
   {
    "duration": 3,
    "start_time": "2021-11-18T20:32:56.618Z"
   },
   {
    "duration": 16,
    "start_time": "2021-11-18T20:33:20.247Z"
   },
   {
    "duration": 3,
    "start_time": "2021-11-18T20:33:27.033Z"
   },
   {
    "duration": 152,
    "start_time": "2021-11-18T20:33:27.038Z"
   },
   {
    "duration": 11,
    "start_time": "2021-11-18T20:33:27.192Z"
   },
   {
    "duration": 41,
    "start_time": "2021-11-18T20:33:27.205Z"
   },
   {
    "duration": 4,
    "start_time": "2021-11-18T20:33:27.248Z"
   },
   {
    "duration": 21,
    "start_time": "2021-11-18T20:33:27.253Z"
   },
   {
    "duration": 4,
    "start_time": "2021-11-18T20:33:27.276Z"
   },
   {
    "duration": 23,
    "start_time": "2021-11-18T20:33:27.282Z"
   },
   {
    "duration": 46,
    "start_time": "2021-11-18T20:33:27.308Z"
   },
   {
    "duration": 21,
    "start_time": "2021-11-18T20:33:27.356Z"
   },
   {
    "duration": 76,
    "start_time": "2021-11-18T20:33:27.379Z"
   },
   {
    "duration": 67,
    "start_time": "2021-11-18T20:33:27.457Z"
   },
   {
    "duration": 62,
    "start_time": "2021-11-18T20:33:27.526Z"
   },
   {
    "duration": 45,
    "start_time": "2021-11-18T20:33:27.590Z"
   },
   {
    "duration": 3,
    "start_time": "2021-11-18T20:33:27.644Z"
   },
   {
    "duration": 11,
    "start_time": "2021-11-18T20:33:27.649Z"
   },
   {
    "duration": 39,
    "start_time": "2021-11-18T20:33:27.662Z"
   },
   {
    "duration": 11,
    "start_time": "2021-11-18T20:33:27.702Z"
   },
   {
    "duration": 33,
    "start_time": "2021-11-18T20:33:27.714Z"
   },
   {
    "duration": 3,
    "start_time": "2021-11-18T20:33:27.749Z"
   },
   {
    "duration": 20,
    "start_time": "2021-11-18T20:33:27.753Z"
   },
   {
    "duration": 13,
    "start_time": "2021-11-18T20:33:27.774Z"
   },
   {
    "duration": 14,
    "start_time": "2021-11-18T20:33:27.789Z"
   },
   {
    "duration": 42,
    "start_time": "2021-11-18T20:33:27.804Z"
   },
   {
    "duration": 18,
    "start_time": "2021-11-18T20:33:27.848Z"
   },
   {
    "duration": 5,
    "start_time": "2021-11-18T20:40:32.993Z"
   },
   {
    "duration": 251,
    "start_time": "2021-11-18T20:40:35.504Z"
   },
   {
    "duration": 3,
    "start_time": "2021-11-18T20:40:43.210Z"
   },
   {
    "duration": 149,
    "start_time": "2021-11-18T20:40:43.215Z"
   },
   {
    "duration": 11,
    "start_time": "2021-11-18T20:40:43.366Z"
   },
   {
    "duration": 24,
    "start_time": "2021-11-18T20:40:43.379Z"
   },
   {
    "duration": 3,
    "start_time": "2021-11-18T20:40:43.405Z"
   },
   {
    "duration": 42,
    "start_time": "2021-11-18T20:40:43.410Z"
   },
   {
    "duration": 4,
    "start_time": "2021-11-18T20:40:43.454Z"
   },
   {
    "duration": 22,
    "start_time": "2021-11-18T20:40:43.460Z"
   },
   {
    "duration": 16,
    "start_time": "2021-11-18T20:40:43.484Z"
   },
   {
    "duration": 43,
    "start_time": "2021-11-18T20:40:43.501Z"
   },
   {
    "duration": 50,
    "start_time": "2021-11-18T20:40:43.546Z"
   },
   {
    "duration": 75,
    "start_time": "2021-11-18T20:40:43.597Z"
   },
   {
    "duration": 48,
    "start_time": "2021-11-18T20:40:43.674Z"
   },
   {
    "duration": 49,
    "start_time": "2021-11-18T20:40:43.724Z"
   },
   {
    "duration": 3,
    "start_time": "2021-11-18T20:40:43.775Z"
   },
   {
    "duration": 10,
    "start_time": "2021-11-18T20:40:43.779Z"
   },
   {
    "duration": 36,
    "start_time": "2021-11-18T20:40:43.791Z"
   },
   {
    "duration": 10,
    "start_time": "2021-11-18T20:40:43.844Z"
   },
   {
    "duration": 11,
    "start_time": "2021-11-18T20:40:43.856Z"
   },
   {
    "duration": 3,
    "start_time": "2021-11-18T20:40:43.869Z"
   },
   {
    "duration": 21,
    "start_time": "2021-11-18T20:40:43.873Z"
   },
   {
    "duration": 12,
    "start_time": "2021-11-18T20:40:43.896Z"
   },
   {
    "duration": 38,
    "start_time": "2021-11-18T20:40:43.911Z"
   },
   {
    "duration": 12,
    "start_time": "2021-11-18T20:40:43.951Z"
   },
   {
    "duration": 14,
    "start_time": "2021-11-18T20:40:43.965Z"
   },
   {
    "duration": 13,
    "start_time": "2021-11-18T20:40:43.981Z"
   },
   {
    "duration": 89,
    "start_time": "2021-11-18T20:40:43.996Z"
   },
   {
    "duration": 7,
    "start_time": "2021-11-18T20:40:44.086Z"
   },
   {
    "duration": 24,
    "start_time": "2021-11-18T20:40:44.095Z"
   },
   {
    "duration": 14,
    "start_time": "2021-11-18T20:40:44.121Z"
   },
   {
    "duration": 19,
    "start_time": "2021-11-18T20:40:44.136Z"
   },
   {
    "duration": 521,
    "start_time": "2021-11-18T20:40:45.564Z"
   },
   {
    "duration": 4,
    "start_time": "2021-11-18T20:40:59.288Z"
   },
   {
    "duration": 19,
    "start_time": "2021-11-18T20:41:01.598Z"
   },
   {
    "duration": 5,
    "start_time": "2021-11-18T20:41:54.504Z"
   },
   {
    "duration": 513,
    "start_time": "2021-11-18T20:41:56.019Z"
   },
   {
    "duration": 2,
    "start_time": "2021-11-18T20:42:13.764Z"
   },
   {
    "duration": 136,
    "start_time": "2021-11-18T20:42:13.768Z"
   },
   {
    "duration": 10,
    "start_time": "2021-11-18T20:42:13.907Z"
   },
   {
    "duration": 29,
    "start_time": "2021-11-18T20:42:13.919Z"
   },
   {
    "duration": 4,
    "start_time": "2021-11-18T20:42:13.950Z"
   },
   {
    "duration": 13,
    "start_time": "2021-11-18T20:42:13.955Z"
   },
   {
    "duration": 3,
    "start_time": "2021-11-18T20:42:13.971Z"
   },
   {
    "duration": 27,
    "start_time": "2021-11-18T20:42:13.976Z"
   },
   {
    "duration": 49,
    "start_time": "2021-11-18T20:42:14.005Z"
   },
   {
    "duration": 23,
    "start_time": "2021-11-18T20:42:14.055Z"
   },
   {
    "duration": 72,
    "start_time": "2021-11-18T20:42:14.079Z"
   },
   {
    "duration": 60,
    "start_time": "2021-11-18T20:42:14.153Z"
   },
   {
    "duration": 62,
    "start_time": "2021-11-18T20:42:14.215Z"
   },
   {
    "duration": 42,
    "start_time": "2021-11-18T20:42:14.279Z"
   },
   {
    "duration": 3,
    "start_time": "2021-11-18T20:42:14.323Z"
   },
   {
    "duration": 22,
    "start_time": "2021-11-18T20:42:14.327Z"
   },
   {
    "duration": 46,
    "start_time": "2021-11-18T20:42:14.350Z"
   },
   {
    "duration": 15,
    "start_time": "2021-11-18T20:42:14.398Z"
   },
   {
    "duration": 34,
    "start_time": "2021-11-18T20:42:14.416Z"
   },
   {
    "duration": 3,
    "start_time": "2021-11-18T20:42:14.452Z"
   },
   {
    "duration": 21,
    "start_time": "2021-11-18T20:42:14.457Z"
   },
   {
    "duration": 14,
    "start_time": "2021-11-18T20:42:14.480Z"
   },
   {
    "duration": 14,
    "start_time": "2021-11-18T20:42:14.495Z"
   },
   {
    "duration": 43,
    "start_time": "2021-11-18T20:42:14.511Z"
   },
   {
    "duration": 15,
    "start_time": "2021-11-18T20:42:14.556Z"
   },
   {
    "duration": 14,
    "start_time": "2021-11-18T20:42:14.572Z"
   },
   {
    "duration": 90,
    "start_time": "2021-11-18T20:42:14.588Z"
   },
   {
    "duration": 7,
    "start_time": "2021-11-18T20:42:14.680Z"
   },
   {
    "duration": 12,
    "start_time": "2021-11-18T20:42:14.689Z"
   },
   {
    "duration": 10,
    "start_time": "2021-11-18T20:42:14.703Z"
   },
   {
    "duration": 5,
    "start_time": "2021-11-18T20:42:14.715Z"
   },
   {
    "duration": 519,
    "start_time": "2021-11-18T20:42:15.345Z"
   },
   {
    "duration": 4,
    "start_time": "2021-11-18T20:42:34.346Z"
   },
   {
    "duration": 18,
    "start_time": "2021-11-18T20:42:34.990Z"
   },
   {
    "duration": 4,
    "start_time": "2021-11-18T20:44:25.142Z"
   },
   {
    "duration": 596,
    "start_time": "2021-11-18T20:44:28.008Z"
   },
   {
    "duration": 5,
    "start_time": "2021-11-18T20:45:35.479Z"
   },
   {
    "duration": 637,
    "start_time": "2021-11-18T20:45:37.635Z"
   },
   {
    "duration": 4,
    "start_time": "2021-11-18T20:45:49.889Z"
   },
   {
    "duration": 505,
    "start_time": "2021-11-18T20:45:50.964Z"
   },
   {
    "duration": 4,
    "start_time": "2021-11-18T20:45:57.159Z"
   },
   {
    "duration": 18,
    "start_time": "2021-11-18T20:45:59.196Z"
   },
   {
    "duration": 6,
    "start_time": "2021-11-18T20:48:06.214Z"
   },
   {
    "duration": 18,
    "start_time": "2021-11-18T20:48:07.430Z"
   },
   {
    "duration": 14,
    "start_time": "2021-11-18T20:48:12.184Z"
   },
   {
    "duration": 23,
    "start_time": "2021-11-18T20:48:15.161Z"
   },
   {
    "duration": 12,
    "start_time": "2021-11-18T20:48:18.433Z"
   },
   {
    "duration": 10,
    "start_time": "2021-11-18T20:48:37.519Z"
   },
   {
    "duration": 5,
    "start_time": "2021-11-18T20:49:07.641Z"
   },
   {
    "duration": 4,
    "start_time": "2021-11-18T20:49:41.851Z"
   },
   {
    "duration": 7,
    "start_time": "2021-11-18T20:50:38.960Z"
   },
   {
    "duration": 5,
    "start_time": "2021-11-18T20:50:40.091Z"
   },
   {
    "duration": 40,
    "start_time": "2021-11-18T20:53:20.941Z"
   },
   {
    "duration": 3,
    "start_time": "2021-11-18T20:55:32.676Z"
   },
   {
    "duration": 11,
    "start_time": "2021-11-18T20:55:34.127Z"
   },
   {
    "duration": 38,
    "start_time": "2021-11-18T20:55:39.584Z"
   },
   {
    "duration": 2,
    "start_time": "2021-11-18T20:56:14.105Z"
   },
   {
    "duration": 9,
    "start_time": "2021-11-18T20:56:17.538Z"
   },
   {
    "duration": 39,
    "start_time": "2021-11-18T20:56:19.548Z"
   },
   {
    "duration": 12,
    "start_time": "2021-11-18T20:56:24.456Z"
   },
   {
    "duration": 11,
    "start_time": "2021-11-18T20:56:30.306Z"
   },
   {
    "duration": 3,
    "start_time": "2021-11-18T20:56:33.354Z"
   },
   {
    "duration": 17,
    "start_time": "2021-11-18T20:56:36.168Z"
   },
   {
    "duration": 14,
    "start_time": "2021-11-18T20:56:45.502Z"
   },
   {
    "duration": 63,
    "start_time": "2021-11-18T20:56:50.100Z"
   },
   {
    "duration": 8,
    "start_time": "2021-11-18T20:57:52.763Z"
   },
   {
    "duration": 5,
    "start_time": "2021-11-18T20:57:54.090Z"
   },
   {
    "duration": 6,
    "start_time": "2021-11-18T20:57:56.165Z"
   },
   {
    "duration": 4,
    "start_time": "2021-11-18T20:57:57.685Z"
   },
   {
    "duration": 86,
    "start_time": "2021-11-18T20:58:30.254Z"
   },
   {
    "duration": 636,
    "start_time": "2021-11-18T21:00:04.707Z"
   },
   {
    "duration": 145,
    "start_time": "2021-11-18T21:00:05.345Z"
   },
   {
    "duration": 17,
    "start_time": "2021-11-18T21:00:05.492Z"
   },
   {
    "duration": 33,
    "start_time": "2021-11-18T21:00:05.511Z"
   },
   {
    "duration": 6,
    "start_time": "2021-11-18T21:00:05.546Z"
   },
   {
    "duration": 35,
    "start_time": "2021-11-18T21:00:05.553Z"
   },
   {
    "duration": 12,
    "start_time": "2021-11-18T21:00:05.589Z"
   },
   {
    "duration": 39,
    "start_time": "2021-11-18T21:00:05.603Z"
   },
   {
    "duration": 25,
    "start_time": "2021-11-18T21:00:05.644Z"
   },
   {
    "duration": 29,
    "start_time": "2021-11-18T21:00:05.671Z"
   },
   {
    "duration": 71,
    "start_time": "2021-11-18T21:00:05.702Z"
   },
   {
    "duration": 74,
    "start_time": "2021-11-18T21:00:05.775Z"
   },
   {
    "duration": 54,
    "start_time": "2021-11-18T21:00:05.851Z"
   },
   {
    "duration": 55,
    "start_time": "2021-11-18T21:00:05.907Z"
   },
   {
    "duration": 2,
    "start_time": "2021-11-18T21:00:05.964Z"
   },
   {
    "duration": 11,
    "start_time": "2021-11-18T21:00:05.968Z"
   },
   {
    "duration": 42,
    "start_time": "2021-11-18T21:00:05.981Z"
   },
   {
    "duration": 28,
    "start_time": "2021-11-18T21:00:06.025Z"
   },
   {
    "duration": 12,
    "start_time": "2021-11-18T21:00:06.055Z"
   },
   {
    "duration": 3,
    "start_time": "2021-11-18T21:00:06.069Z"
   },
   {
    "duration": 24,
    "start_time": "2021-11-18T21:00:06.073Z"
   },
   {
    "duration": 14,
    "start_time": "2021-11-18T21:00:06.099Z"
   },
   {
    "duration": 16,
    "start_time": "2021-11-18T21:00:06.144Z"
   },
   {
    "duration": 15,
    "start_time": "2021-11-18T21:00:06.161Z"
   },
   {
    "duration": 17,
    "start_time": "2021-11-18T21:00:06.178Z"
   },
   {
    "duration": 14,
    "start_time": "2021-11-18T21:00:06.197Z"
   },
   {
    "duration": 99,
    "start_time": "2021-11-18T21:00:06.212Z"
   },
   {
    "duration": 7,
    "start_time": "2021-11-18T21:00:06.313Z"
   },
   {
    "duration": 25,
    "start_time": "2021-11-18T21:00:06.322Z"
   },
   {
    "duration": 9,
    "start_time": "2021-11-18T21:00:06.349Z"
   },
   {
    "duration": 4,
    "start_time": "2021-11-18T21:00:06.360Z"
   },
   {
    "duration": 22,
    "start_time": "2021-11-18T21:00:06.366Z"
   },
   {
    "duration": 14,
    "start_time": "2021-11-18T21:00:06.390Z"
   },
   {
    "duration": 42,
    "start_time": "2021-11-18T21:00:06.405Z"
   },
   {
    "duration": 12,
    "start_time": "2021-11-18T21:00:06.449Z"
   },
   {
    "duration": 8,
    "start_time": "2021-11-18T21:00:06.463Z"
   },
   {
    "duration": 10,
    "start_time": "2021-11-18T21:00:06.473Z"
   },
   {
    "duration": 10,
    "start_time": "2021-11-18T21:00:06.485Z"
   },
   {
    "duration": 5,
    "start_time": "2021-11-18T21:00:06.497Z"
   },
   {
    "duration": 803,
    "start_time": "2021-11-19T07:52:42.925Z"
   },
   {
    "duration": 197,
    "start_time": "2021-11-19T07:52:43.731Z"
   },
   {
    "duration": 29,
    "start_time": "2021-11-19T07:52:43.931Z"
   },
   {
    "duration": 54,
    "start_time": "2021-11-19T07:52:43.963Z"
   },
   {
    "duration": 6,
    "start_time": "2021-11-19T07:52:44.021Z"
   },
   {
    "duration": 62,
    "start_time": "2021-11-19T07:52:44.031Z"
   },
   {
    "duration": 6,
    "start_time": "2021-11-19T07:52:44.096Z"
   },
   {
    "duration": 32,
    "start_time": "2021-11-19T07:52:44.109Z"
   },
   {
    "duration": 26,
    "start_time": "2021-11-19T07:52:44.181Z"
   },
   {
    "duration": 34,
    "start_time": "2021-11-19T07:52:44.210Z"
   },
   {
    "duration": 110,
    "start_time": "2021-11-19T07:52:44.247Z"
   },
   {
    "duration": 113,
    "start_time": "2021-11-19T07:52:44.360Z"
   },
   {
    "duration": 77,
    "start_time": "2021-11-19T07:52:44.481Z"
   },
   {
    "duration": 69,
    "start_time": "2021-11-19T07:52:44.560Z"
   },
   {
    "duration": 5,
    "start_time": "2021-11-19T07:52:44.632Z"
   },
   {
    "duration": 42,
    "start_time": "2021-11-19T07:52:44.640Z"
   },
   {
    "duration": 58,
    "start_time": "2021-11-19T07:52:44.685Z"
   },
   {
    "duration": 37,
    "start_time": "2021-11-19T07:52:44.746Z"
   },
   {
    "duration": 15,
    "start_time": "2021-11-19T07:52:44.786Z"
   },
   {
    "duration": 4,
    "start_time": "2021-11-19T07:52:44.804Z"
   },
   {
    "duration": 25,
    "start_time": "2021-11-19T07:52:44.811Z"
   },
   {
    "duration": 52,
    "start_time": "2021-11-19T07:52:44.839Z"
   },
   {
    "duration": 19,
    "start_time": "2021-11-19T07:52:44.896Z"
   },
   {
    "duration": 19,
    "start_time": "2021-11-19T07:52:44.918Z"
   },
   {
    "duration": 56,
    "start_time": "2021-11-19T07:52:44.939Z"
   },
   {
    "duration": 21,
    "start_time": "2021-11-19T07:52:44.997Z"
   },
   {
    "duration": 116,
    "start_time": "2021-11-19T07:52:45.020Z"
   },
   {
    "duration": 11,
    "start_time": "2021-11-19T07:52:45.138Z"
   },
   {
    "duration": 35,
    "start_time": "2021-11-19T07:52:45.152Z"
   },
   {
    "duration": 12,
    "start_time": "2021-11-19T07:52:45.190Z"
   },
   {
    "duration": 6,
    "start_time": "2021-11-19T07:52:45.204Z"
   },
   {
    "duration": 39,
    "start_time": "2021-11-19T07:52:45.213Z"
   },
   {
    "duration": 25,
    "start_time": "2021-11-19T07:52:45.283Z"
   },
   {
    "duration": 33,
    "start_time": "2021-11-19T07:52:45.311Z"
   },
   {
    "duration": 52,
    "start_time": "2021-11-19T07:52:45.347Z"
   },
   {
    "duration": 16,
    "start_time": "2021-11-19T07:52:45.402Z"
   },
   {
    "duration": 6,
    "start_time": "2021-11-19T07:52:45.421Z"
   },
   {
    "duration": 8,
    "start_time": "2021-11-19T07:52:45.430Z"
   },
   {
    "duration": 7,
    "start_time": "2021-11-19T07:52:45.441Z"
   }
  ],
  "colab": {
   "collapsed_sections": [
    "E0vqbgi9ay0H",
    "VUC88oWjTJw2"
   ],
   "name": "yandex_music_project_2021.2.ipynb",
   "provenance": []
  },
  "kernelspec": {
   "display_name": "Python 3 (ipykernel)",
   "language": "python",
   "name": "python3"
  },
  "language_info": {
   "codemirror_mode": {
    "name": "ipython",
    "version": 3
   },
   "file_extension": ".py",
   "mimetype": "text/x-python",
   "name": "python",
   "nbconvert_exporter": "python",
   "pygments_lexer": "ipython3",
   "version": "3.9.13"
  },
  "toc": {
   "base_numbering": 1,
   "nav_menu": {},
   "number_sections": true,
   "sideBar": true,
   "skip_h1_title": true,
   "title_cell": "Table of Contents",
   "title_sidebar": "Contents",
   "toc_cell": false,
   "toc_position": {
    "height": "calc(100% - 180px)",
    "left": "10px",
    "top": "150px",
    "width": "165px"
   },
   "toc_section_display": true,
   "toc_window_display": true
  }
 },
 "nbformat": 4,
 "nbformat_minor": 4
}
