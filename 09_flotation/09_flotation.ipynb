{
 "cells": [
  {
   "cell_type": "markdown",
   "metadata": {
    "toc": true
   },
   "source": [
    "<h1>Содержание<span class=\"tocSkip\"></span></h1>\n",
    "<div class=\"toc\"><ul class=\"toc-item\"><li><span><a href=\"#Подготовка-данных\" data-toc-modified-id=\"Подготовка-данных-1\"><span class=\"toc-item-num\">1&nbsp;&nbsp;</span>Подготовка данных</a></span><ul class=\"toc-item\"><li><span><a href=\"#Описание-данных\" data-toc-modified-id=\"Описание-данных-1.1\"><span class=\"toc-item-num\">1.1&nbsp;&nbsp;</span>Описание данных</a></span></li><li><span><a href=\"#Расчет-эффективности\" data-toc-modified-id=\"Расчет-эффективности-1.2\"><span class=\"toc-item-num\">1.2&nbsp;&nbsp;</span>Расчет эффективности</a></span></li><li><span><a href=\"#Анализ-признаков-тестовой-выборки\" data-toc-modified-id=\"Анализ-признаков-тестовой-выборки-1.3\"><span class=\"toc-item-num\">1.3&nbsp;&nbsp;</span>Анализ признаков тестовой выборки</a></span></li><li><span><a href=\"#Предобработка-данных\" data-toc-modified-id=\"Предобработка-данных-1.4\"><span class=\"toc-item-num\">1.4&nbsp;&nbsp;</span>Предобработка данных</a></span></li><li><span><a href=\"#Вывод\" data-toc-modified-id=\"Вывод-1.5\"><span class=\"toc-item-num\">1.5&nbsp;&nbsp;</span>Вывод</a></span></li></ul></li><li><span><a href=\"#Анализ-данных\" data-toc-modified-id=\"Анализ-данных-2\"><span class=\"toc-item-num\">2&nbsp;&nbsp;</span>Анализ данных</a></span><ul class=\"toc-item\"><li><span><a href=\"#Концентрация-металлов\" data-toc-modified-id=\"Концентрация-металлов-2.1\"><span class=\"toc-item-num\">2.1&nbsp;&nbsp;</span>Концентрация металлов</a></span></li><li><span><a href=\"#Распределение-гранул-сырья\" data-toc-modified-id=\"Распределение-гранул-сырья-2.2\"><span class=\"toc-item-num\">2.2&nbsp;&nbsp;</span>Распределение гранул сырья</a></span></li><li><span><a href=\"#Суммарная-концентрация\" data-toc-modified-id=\"Суммарная-концентрация-2.3\"><span class=\"toc-item-num\">2.3&nbsp;&nbsp;</span>Суммарная концентрация</a></span></li><li><span><a href=\"#Вывод\" data-toc-modified-id=\"Вывод-2.4\"><span class=\"toc-item-num\">2.4&nbsp;&nbsp;</span>Вывод</a></span></li></ul></li><li><span><a href=\"#Модель\" data-toc-modified-id=\"Модель-3\"><span class=\"toc-item-num\">3&nbsp;&nbsp;</span>Модель</a></span><ul class=\"toc-item\"><li><span><a href=\"#Итоговая-sMAPE\" data-toc-modified-id=\"Итоговая-sMAPE-3.1\"><span class=\"toc-item-num\">3.1&nbsp;&nbsp;</span>Итоговая sMAPE</a></span></li><li><span><a href=\"#Обучение-модели\" data-toc-modified-id=\"Обучение-модели-3.2\"><span class=\"toc-item-num\">3.2&nbsp;&nbsp;</span>Обучение модели</a></span></li><li><span><a href=\"#Проверка-на-тестовой-выборке\" data-toc-modified-id=\"Проверка-на-тестовой-выборке-3.3\"><span class=\"toc-item-num\">3.3&nbsp;&nbsp;</span>Проверка на тестовой выборке</a></span></li><li><span><a href=\"#Проверка-адекватности-модели\" data-toc-modified-id=\"Проверка-адекватности-модели-3.4\"><span class=\"toc-item-num\">3.4&nbsp;&nbsp;</span>Проверка адекватности модели</a></span></li><li><span><a href=\"#Вывод\" data-toc-modified-id=\"Вывод-3.5\"><span class=\"toc-item-num\">3.5&nbsp;&nbsp;</span>Вывод</a></span></li></ul></li><li><span><a href=\"#Чек-лист-готовности-проекта\" data-toc-modified-id=\"Чек-лист-готовности-проекта-4\"><span class=\"toc-item-num\">4&nbsp;&nbsp;</span>Чек-лист готовности проекта</a></span></li></ul></div>"
   ]
  },
  {
   "cell_type": "markdown",
   "metadata": {},
   "source": [
    "# Восстановление золота из руды"
   ]
  },
  {
   "cell_type": "markdown",
   "metadata": {},
   "source": [
    "Подготовьте прототип модели машинного обучения для «Цифры». Компания разрабатывает решения для эффективной работы промышленных предприятий.\n",
    "\n",
    "Модель должна предсказать коэффициент восстановления золота из золотосодержащей руды. Используйте данные с параметрами добычи и очистки. \n",
    "\n",
    "Модель поможет оптимизировать производство, чтобы не запускать предприятие с убыточными характеристиками.\n",
    "\n",
    "Вам нужно:\n",
    "\n",
    "1. Подготовить данные;\n",
    "2. Провести исследовательский анализ данных;\n",
    "3. Построить и обучить модель.\n",
    "\n",
    "Чтобы выполнить проект, обращайтесь к библиотекам *pandas*, *matplotlib* и *sklearn.* Вам поможет их документация."
   ]
  },
  {
   "cell_type": "markdown",
   "metadata": {},
   "source": [
    "## Подготовка данных"
   ]
  },
  {
   "cell_type": "code",
   "execution_count": 1,
   "metadata": {},
   "outputs": [],
   "source": [
    "import pandas as pd # импорт библиотеки pandas \n",
    "import matplotlib.pyplot as plt # импорт библиотеки matplotlib\n",
    "plt.style.use('seaborn-pastel')\n",
    "import seaborn as sns # импорт библиотеки seaborn\n",
    "import numpy as np # импорт библиотеки numpy\n",
    "\n",
    "from sklearn.model_selection import train_test_split, cross_val_score\n",
    "from sklearn.preprocessing import StandardScaler\n",
    "from sklearn.metrics import make_scorer, mean_absolute_error\n",
    "\n",
    "from sklearn.linear_model import LinearRegression \n",
    "from sklearn.tree import DecisionTreeRegressor\n",
    "from sklearn.ensemble import RandomForestRegressor\n",
    "from sklearn.dummy import DummyRegressor\n",
    "\n",
    "import time\n",
    "from tqdm import tqdm # импорт библиотеки tqdm для просмотра прогресса обучения модели"
   ]
  },
  {
   "cell_type": "markdown",
   "metadata": {},
   "source": [
    "Откроем файл и изучим данные."
   ]
  },
  {
   "cell_type": "code",
   "execution_count": 2,
   "metadata": {},
   "outputs": [],
   "source": [
    "df_train = pd.read_csv('/datasets/gold_recovery_train_new.csv')\n",
    "df_test = pd.read_csv('/datasets/gold_recovery_test_new.csv')\n",
    "df_full = pd.read_csv('/datasets/gold_recovery_full_new.csv')\n",
    "\n",
    "df_list = [df_full, df_train, df_test]\n",
    "\n",
    "pd.options.display.max_columns = None # полностью отображаем столбцы"
   ]
  },
  {
   "cell_type": "code",
   "execution_count": 3,
   "metadata": {
    "scrolled": false
   },
   "outputs": [
    {
     "data": {
      "text/html": [
       "<div>\n",
       "<style scoped>\n",
       "    .dataframe tbody tr th:only-of-type {\n",
       "        vertical-align: middle;\n",
       "    }\n",
       "\n",
       "    .dataframe tbody tr th {\n",
       "        vertical-align: top;\n",
       "    }\n",
       "\n",
       "    .dataframe thead th {\n",
       "        text-align: right;\n",
       "    }\n",
       "</style>\n",
       "<table border=\"1\" class=\"dataframe\">\n",
       "  <thead>\n",
       "    <tr style=\"text-align: right;\">\n",
       "      <th></th>\n",
       "      <th>date</th>\n",
       "      <th>final.output.concentrate_ag</th>\n",
       "      <th>final.output.concentrate_pb</th>\n",
       "      <th>final.output.concentrate_sol</th>\n",
       "      <th>final.output.concentrate_au</th>\n",
       "      <th>final.output.recovery</th>\n",
       "      <th>final.output.tail_ag</th>\n",
       "      <th>final.output.tail_pb</th>\n",
       "      <th>final.output.tail_sol</th>\n",
       "      <th>final.output.tail_au</th>\n",
       "      <th>primary_cleaner.input.sulfate</th>\n",
       "      <th>primary_cleaner.input.depressant</th>\n",
       "      <th>primary_cleaner.input.feed_size</th>\n",
       "      <th>primary_cleaner.input.xanthate</th>\n",
       "      <th>primary_cleaner.output.concentrate_ag</th>\n",
       "      <th>primary_cleaner.output.concentrate_pb</th>\n",
       "      <th>primary_cleaner.output.concentrate_sol</th>\n",
       "      <th>primary_cleaner.output.concentrate_au</th>\n",
       "      <th>primary_cleaner.output.tail_ag</th>\n",
       "      <th>primary_cleaner.output.tail_pb</th>\n",
       "      <th>primary_cleaner.output.tail_sol</th>\n",
       "      <th>primary_cleaner.output.tail_au</th>\n",
       "      <th>primary_cleaner.state.floatbank8_a_air</th>\n",
       "      <th>primary_cleaner.state.floatbank8_a_level</th>\n",
       "      <th>primary_cleaner.state.floatbank8_b_air</th>\n",
       "      <th>primary_cleaner.state.floatbank8_b_level</th>\n",
       "      <th>primary_cleaner.state.floatbank8_c_air</th>\n",
       "      <th>primary_cleaner.state.floatbank8_c_level</th>\n",
       "      <th>primary_cleaner.state.floatbank8_d_air</th>\n",
       "      <th>primary_cleaner.state.floatbank8_d_level</th>\n",
       "      <th>rougher.calculation.sulfate_to_au_concentrate</th>\n",
       "      <th>rougher.calculation.floatbank10_sulfate_to_au_feed</th>\n",
       "      <th>rougher.calculation.floatbank11_sulfate_to_au_feed</th>\n",
       "      <th>rougher.calculation.au_pb_ratio</th>\n",
       "      <th>rougher.input.feed_ag</th>\n",
       "      <th>rougher.input.feed_pb</th>\n",
       "      <th>rougher.input.feed_rate</th>\n",
       "      <th>rougher.input.feed_size</th>\n",
       "      <th>rougher.input.feed_sol</th>\n",
       "      <th>rougher.input.feed_au</th>\n",
       "      <th>rougher.input.floatbank10_sulfate</th>\n",
       "      <th>rougher.input.floatbank10_xanthate</th>\n",
       "      <th>rougher.input.floatbank11_sulfate</th>\n",
       "      <th>rougher.input.floatbank11_xanthate</th>\n",
       "      <th>rougher.output.concentrate_ag</th>\n",
       "      <th>rougher.output.concentrate_pb</th>\n",
       "      <th>rougher.output.concentrate_sol</th>\n",
       "      <th>rougher.output.concentrate_au</th>\n",
       "      <th>rougher.output.recovery</th>\n",
       "      <th>rougher.output.tail_ag</th>\n",
       "      <th>rougher.output.tail_pb</th>\n",
       "      <th>rougher.output.tail_sol</th>\n",
       "      <th>rougher.output.tail_au</th>\n",
       "      <th>rougher.state.floatbank10_a_air</th>\n",
       "      <th>rougher.state.floatbank10_a_level</th>\n",
       "      <th>rougher.state.floatbank10_b_air</th>\n",
       "      <th>rougher.state.floatbank10_b_level</th>\n",
       "      <th>rougher.state.floatbank10_c_air</th>\n",
       "      <th>rougher.state.floatbank10_c_level</th>\n",
       "      <th>rougher.state.floatbank10_d_air</th>\n",
       "      <th>rougher.state.floatbank10_d_level</th>\n",
       "      <th>rougher.state.floatbank10_e_air</th>\n",
       "      <th>rougher.state.floatbank10_e_level</th>\n",
       "      <th>rougher.state.floatbank10_f_air</th>\n",
       "      <th>rougher.state.floatbank10_f_level</th>\n",
       "      <th>secondary_cleaner.output.tail_ag</th>\n",
       "      <th>secondary_cleaner.output.tail_pb</th>\n",
       "      <th>secondary_cleaner.output.tail_sol</th>\n",
       "      <th>secondary_cleaner.output.tail_au</th>\n",
       "      <th>secondary_cleaner.state.floatbank2_a_air</th>\n",
       "      <th>secondary_cleaner.state.floatbank2_a_level</th>\n",
       "      <th>secondary_cleaner.state.floatbank2_b_air</th>\n",
       "      <th>secondary_cleaner.state.floatbank2_b_level</th>\n",
       "      <th>secondary_cleaner.state.floatbank3_a_air</th>\n",
       "      <th>secondary_cleaner.state.floatbank3_a_level</th>\n",
       "      <th>secondary_cleaner.state.floatbank3_b_air</th>\n",
       "      <th>secondary_cleaner.state.floatbank3_b_level</th>\n",
       "      <th>secondary_cleaner.state.floatbank4_a_air</th>\n",
       "      <th>secondary_cleaner.state.floatbank4_a_level</th>\n",
       "      <th>secondary_cleaner.state.floatbank4_b_air</th>\n",
       "      <th>secondary_cleaner.state.floatbank4_b_level</th>\n",
       "      <th>secondary_cleaner.state.floatbank5_a_air</th>\n",
       "      <th>secondary_cleaner.state.floatbank5_a_level</th>\n",
       "      <th>secondary_cleaner.state.floatbank5_b_air</th>\n",
       "      <th>secondary_cleaner.state.floatbank5_b_level</th>\n",
       "      <th>secondary_cleaner.state.floatbank6_a_air</th>\n",
       "      <th>secondary_cleaner.state.floatbank6_a_level</th>\n",
       "    </tr>\n",
       "  </thead>\n",
       "  <tbody>\n",
       "    <tr>\n",
       "      <th>0</th>\n",
       "      <td>2016-01-15 00:00:00</td>\n",
       "      <td>6.055403</td>\n",
       "      <td>9.889648</td>\n",
       "      <td>5.507324</td>\n",
       "      <td>42.192020</td>\n",
       "      <td>70.541216</td>\n",
       "      <td>10.411962</td>\n",
       "      <td>0.895447</td>\n",
       "      <td>16.904297</td>\n",
       "      <td>2.143149</td>\n",
       "      <td>127.092003</td>\n",
       "      <td>10.128295</td>\n",
       "      <td>7.25</td>\n",
       "      <td>0.988759</td>\n",
       "      <td>8.547551</td>\n",
       "      <td>10.389648</td>\n",
       "      <td>19.529297</td>\n",
       "      <td>34.174427</td>\n",
       "      <td>14.936526</td>\n",
       "      <td>2.534912</td>\n",
       "      <td>7.476074</td>\n",
       "      <td>2.106679</td>\n",
       "      <td>1549.775757</td>\n",
       "      <td>-498.912140</td>\n",
       "      <td>1551.434204</td>\n",
       "      <td>-516.403442</td>\n",
       "      <td>1549.873901</td>\n",
       "      <td>-498.666595</td>\n",
       "      <td>1554.367432</td>\n",
       "      <td>-493.428131</td>\n",
       "      <td>41885.707031</td>\n",
       "      <td>3481.779053</td>\n",
       "      <td>3520.337158</td>\n",
       "      <td>2.838687</td>\n",
       "      <td>6.100378</td>\n",
       "      <td>2.284912</td>\n",
       "      <td>523.546326</td>\n",
       "      <td>55.486599</td>\n",
       "      <td>36.808594</td>\n",
       "      <td>6.486150</td>\n",
       "      <td>11.986616</td>\n",
       "      <td>6.007990</td>\n",
       "      <td>11.836743</td>\n",
       "      <td>6.005818</td>\n",
       "      <td>11.500771</td>\n",
       "      <td>7.101074</td>\n",
       "      <td>28.029297</td>\n",
       "      <td>19.793808</td>\n",
       "      <td>87.107763</td>\n",
       "      <td>5.008018</td>\n",
       "      <td>0.508728</td>\n",
       "      <td>19.154297</td>\n",
       "      <td>1.170244</td>\n",
       "      <td>999.706909</td>\n",
       "      <td>-404.066986</td>\n",
       "      <td>1603.011353</td>\n",
       "      <td>-434.715027</td>\n",
       "      <td>1602.375000</td>\n",
       "      <td>-442.204468</td>\n",
       "      <td>1598.937256</td>\n",
       "      <td>-451.294128</td>\n",
       "      <td>1404.472046</td>\n",
       "      <td>-455.462982</td>\n",
       "      <td>1416.354980</td>\n",
       "      <td>-451.939636</td>\n",
       "      <td>14.500184</td>\n",
       "      <td>4.694824</td>\n",
       "      <td>8.764648</td>\n",
       "      <td>2.606185</td>\n",
       "      <td>25.853109</td>\n",
       "      <td>-498.526489</td>\n",
       "      <td>23.893660</td>\n",
       "      <td>-501.406281</td>\n",
       "      <td>23.961798</td>\n",
       "      <td>-495.262817</td>\n",
       "      <td>21.940409</td>\n",
       "      <td>-499.340973</td>\n",
       "      <td>14.016835</td>\n",
       "      <td>-502.488007</td>\n",
       "      <td>12.099931</td>\n",
       "      <td>-504.715942</td>\n",
       "      <td>9.925633</td>\n",
       "      <td>-498.310211</td>\n",
       "      <td>8.079666</td>\n",
       "      <td>-500.470978</td>\n",
       "      <td>14.151341</td>\n",
       "      <td>-605.841980</td>\n",
       "    </tr>\n",
       "    <tr>\n",
       "      <th>1</th>\n",
       "      <td>2016-01-15 01:00:00</td>\n",
       "      <td>6.029369</td>\n",
       "      <td>9.968944</td>\n",
       "      <td>5.257781</td>\n",
       "      <td>42.701629</td>\n",
       "      <td>69.266198</td>\n",
       "      <td>10.462676</td>\n",
       "      <td>0.927452</td>\n",
       "      <td>16.634514</td>\n",
       "      <td>2.224930</td>\n",
       "      <td>125.629232</td>\n",
       "      <td>10.296251</td>\n",
       "      <td>7.25</td>\n",
       "      <td>1.002663</td>\n",
       "      <td>8.558743</td>\n",
       "      <td>10.497069</td>\n",
       "      <td>19.369147</td>\n",
       "      <td>34.118526</td>\n",
       "      <td>16.250511</td>\n",
       "      <td>3.049646</td>\n",
       "      <td>6.733907</td>\n",
       "      <td>2.353017</td>\n",
       "      <td>1576.166671</td>\n",
       "      <td>-500.904965</td>\n",
       "      <td>1575.950626</td>\n",
       "      <td>-499.865889</td>\n",
       "      <td>1575.994189</td>\n",
       "      <td>-499.315107</td>\n",
       "      <td>1574.479259</td>\n",
       "      <td>-498.931665</td>\n",
       "      <td>42050.861809</td>\n",
       "      <td>3498.370979</td>\n",
       "      <td>3489.981857</td>\n",
       "      <td>2.858998</td>\n",
       "      <td>6.161113</td>\n",
       "      <td>2.266033</td>\n",
       "      <td>525.290581</td>\n",
       "      <td>57.278666</td>\n",
       "      <td>35.753385</td>\n",
       "      <td>6.478583</td>\n",
       "      <td>11.971193</td>\n",
       "      <td>6.005766</td>\n",
       "      <td>11.996163</td>\n",
       "      <td>6.012594</td>\n",
       "      <td>11.615865</td>\n",
       "      <td>7.278807</td>\n",
       "      <td>28.067063</td>\n",
       "      <td>20.050975</td>\n",
       "      <td>86.843261</td>\n",
       "      <td>4.955378</td>\n",
       "      <td>0.536689</td>\n",
       "      <td>18.965234</td>\n",
       "      <td>1.184827</td>\n",
       "      <td>1000.286398</td>\n",
       "      <td>-400.065196</td>\n",
       "      <td>1600.754587</td>\n",
       "      <td>-449.953435</td>\n",
       "      <td>1600.479580</td>\n",
       "      <td>-449.830646</td>\n",
       "      <td>1600.527589</td>\n",
       "      <td>-449.953649</td>\n",
       "      <td>1399.227084</td>\n",
       "      <td>-450.869848</td>\n",
       "      <td>1399.719514</td>\n",
       "      <td>-450.119001</td>\n",
       "      <td>14.265474</td>\n",
       "      <td>4.592547</td>\n",
       "      <td>9.001494</td>\n",
       "      <td>2.488248</td>\n",
       "      <td>25.880539</td>\n",
       "      <td>-499.989656</td>\n",
       "      <td>23.889530</td>\n",
       "      <td>-500.372428</td>\n",
       "      <td>23.970550</td>\n",
       "      <td>-500.085473</td>\n",
       "      <td>22.085714</td>\n",
       "      <td>-499.446897</td>\n",
       "      <td>13.992281</td>\n",
       "      <td>-505.503262</td>\n",
       "      <td>11.950531</td>\n",
       "      <td>-501.331529</td>\n",
       "      <td>10.039245</td>\n",
       "      <td>-500.169983</td>\n",
       "      <td>7.984757</td>\n",
       "      <td>-500.582168</td>\n",
       "      <td>13.998353</td>\n",
       "      <td>-599.787184</td>\n",
       "    </tr>\n",
       "    <tr>\n",
       "      <th>2</th>\n",
       "      <td>2016-01-15 02:00:00</td>\n",
       "      <td>6.055926</td>\n",
       "      <td>10.213995</td>\n",
       "      <td>5.383759</td>\n",
       "      <td>42.657501</td>\n",
       "      <td>68.116445</td>\n",
       "      <td>10.507046</td>\n",
       "      <td>0.953716</td>\n",
       "      <td>16.208849</td>\n",
       "      <td>2.257889</td>\n",
       "      <td>123.819808</td>\n",
       "      <td>11.316280</td>\n",
       "      <td>7.25</td>\n",
       "      <td>0.991265</td>\n",
       "      <td>8.603505</td>\n",
       "      <td>10.354494</td>\n",
       "      <td>19.167579</td>\n",
       "      <td>33.969464</td>\n",
       "      <td>16.491823</td>\n",
       "      <td>3.124664</td>\n",
       "      <td>6.471768</td>\n",
       "      <td>2.416800</td>\n",
       "      <td>1601.556163</td>\n",
       "      <td>-499.997791</td>\n",
       "      <td>1600.386685</td>\n",
       "      <td>-500.607762</td>\n",
       "      <td>1602.003542</td>\n",
       "      <td>-500.870069</td>\n",
       "      <td>1599.541515</td>\n",
       "      <td>-499.827444</td>\n",
       "      <td>42018.101184</td>\n",
       "      <td>3495.348910</td>\n",
       "      <td>3502.359819</td>\n",
       "      <td>2.945989</td>\n",
       "      <td>6.116455</td>\n",
       "      <td>2.159622</td>\n",
       "      <td>530.026610</td>\n",
       "      <td>57.510649</td>\n",
       "      <td>35.971630</td>\n",
       "      <td>6.362222</td>\n",
       "      <td>11.920603</td>\n",
       "      <td>6.197377</td>\n",
       "      <td>11.920305</td>\n",
       "      <td>6.204633</td>\n",
       "      <td>11.695753</td>\n",
       "      <td>7.216833</td>\n",
       "      <td>27.454037</td>\n",
       "      <td>19.737170</td>\n",
       "      <td>86.842308</td>\n",
       "      <td>4.843460</td>\n",
       "      <td>0.546416</td>\n",
       "      <td>18.808533</td>\n",
       "      <td>1.162562</td>\n",
       "      <td>999.719565</td>\n",
       "      <td>-400.074028</td>\n",
       "      <td>1599.337330</td>\n",
       "      <td>-450.008530</td>\n",
       "      <td>1599.672797</td>\n",
       "      <td>-449.954491</td>\n",
       "      <td>1599.849325</td>\n",
       "      <td>-449.954185</td>\n",
       "      <td>1399.180945</td>\n",
       "      <td>-449.937588</td>\n",
       "      <td>1400.316682</td>\n",
       "      <td>-450.527147</td>\n",
       "      <td>14.115662</td>\n",
       "      <td>4.624775</td>\n",
       "      <td>8.842896</td>\n",
       "      <td>2.458187</td>\n",
       "      <td>26.005245</td>\n",
       "      <td>-499.929616</td>\n",
       "      <td>23.886657</td>\n",
       "      <td>-499.951928</td>\n",
       "      <td>23.913535</td>\n",
       "      <td>-499.442343</td>\n",
       "      <td>23.957717</td>\n",
       "      <td>-499.901982</td>\n",
       "      <td>14.015015</td>\n",
       "      <td>-502.520901</td>\n",
       "      <td>11.912783</td>\n",
       "      <td>-501.133383</td>\n",
       "      <td>10.070913</td>\n",
       "      <td>-500.129135</td>\n",
       "      <td>8.013877</td>\n",
       "      <td>-500.517572</td>\n",
       "      <td>14.028663</td>\n",
       "      <td>-601.427363</td>\n",
       "    </tr>\n",
       "    <tr>\n",
       "      <th>3</th>\n",
       "      <td>2016-01-15 03:00:00</td>\n",
       "      <td>6.047977</td>\n",
       "      <td>9.977019</td>\n",
       "      <td>4.858634</td>\n",
       "      <td>42.689819</td>\n",
       "      <td>68.347543</td>\n",
       "      <td>10.422762</td>\n",
       "      <td>0.883763</td>\n",
       "      <td>16.532835</td>\n",
       "      <td>2.146849</td>\n",
       "      <td>122.270188</td>\n",
       "      <td>11.322140</td>\n",
       "      <td>7.25</td>\n",
       "      <td>0.996739</td>\n",
       "      <td>7.221879</td>\n",
       "      <td>8.496563</td>\n",
       "      <td>15.978538</td>\n",
       "      <td>28.260743</td>\n",
       "      <td>16.024359</td>\n",
       "      <td>2.960362</td>\n",
       "      <td>6.843791</td>\n",
       "      <td>2.262051</td>\n",
       "      <td>1599.968720</td>\n",
       "      <td>-500.951778</td>\n",
       "      <td>1600.659236</td>\n",
       "      <td>-499.677094</td>\n",
       "      <td>1600.304144</td>\n",
       "      <td>-500.727997</td>\n",
       "      <td>1600.449520</td>\n",
       "      <td>-500.052575</td>\n",
       "      <td>42029.447991</td>\n",
       "      <td>3498.578313</td>\n",
       "      <td>3499.162912</td>\n",
       "      <td>3.002340</td>\n",
       "      <td>6.043309</td>\n",
       "      <td>2.037807</td>\n",
       "      <td>542.590390</td>\n",
       "      <td>57.792734</td>\n",
       "      <td>36.862241</td>\n",
       "      <td>6.118189</td>\n",
       "      <td>11.630094</td>\n",
       "      <td>6.203177</td>\n",
       "      <td>11.692450</td>\n",
       "      <td>6.196578</td>\n",
       "      <td>11.915047</td>\n",
       "      <td>7.175616</td>\n",
       "      <td>27.341277</td>\n",
       "      <td>19.320810</td>\n",
       "      <td>87.226430</td>\n",
       "      <td>4.655288</td>\n",
       "      <td>0.542525</td>\n",
       "      <td>19.330200</td>\n",
       "      <td>1.079755</td>\n",
       "      <td>999.814770</td>\n",
       "      <td>-400.200179</td>\n",
       "      <td>1600.059442</td>\n",
       "      <td>-450.619948</td>\n",
       "      <td>1600.012842</td>\n",
       "      <td>-449.910497</td>\n",
       "      <td>1597.725177</td>\n",
       "      <td>-450.130127</td>\n",
       "      <td>1400.943157</td>\n",
       "      <td>-450.030142</td>\n",
       "      <td>1400.234743</td>\n",
       "      <td>-449.790835</td>\n",
       "      <td>13.732071</td>\n",
       "      <td>4.482453</td>\n",
       "      <td>9.122857</td>\n",
       "      <td>2.322062</td>\n",
       "      <td>25.942508</td>\n",
       "      <td>-499.176749</td>\n",
       "      <td>23.955516</td>\n",
       "      <td>-499.848796</td>\n",
       "      <td>23.966838</td>\n",
       "      <td>-500.008812</td>\n",
       "      <td>23.954443</td>\n",
       "      <td>-499.944710</td>\n",
       "      <td>14.036510</td>\n",
       "      <td>-500.857308</td>\n",
       "      <td>11.999550</td>\n",
       "      <td>-501.193686</td>\n",
       "      <td>9.970366</td>\n",
       "      <td>-499.201640</td>\n",
       "      <td>7.977324</td>\n",
       "      <td>-500.255908</td>\n",
       "      <td>14.005551</td>\n",
       "      <td>-599.996129</td>\n",
       "    </tr>\n",
       "    <tr>\n",
       "      <th>4</th>\n",
       "      <td>2016-01-15 04:00:00</td>\n",
       "      <td>6.148599</td>\n",
       "      <td>10.142511</td>\n",
       "      <td>4.939416</td>\n",
       "      <td>42.774141</td>\n",
       "      <td>66.927016</td>\n",
       "      <td>10.360302</td>\n",
       "      <td>0.792826</td>\n",
       "      <td>16.525686</td>\n",
       "      <td>2.055292</td>\n",
       "      <td>117.988169</td>\n",
       "      <td>11.913613</td>\n",
       "      <td>7.25</td>\n",
       "      <td>1.009869</td>\n",
       "      <td>9.089428</td>\n",
       "      <td>9.986786</td>\n",
       "      <td>19.199864</td>\n",
       "      <td>33.044932</td>\n",
       "      <td>16.480185</td>\n",
       "      <td>3.112100</td>\n",
       "      <td>6.550154</td>\n",
       "      <td>2.277073</td>\n",
       "      <td>1601.339707</td>\n",
       "      <td>-498.975456</td>\n",
       "      <td>1601.437854</td>\n",
       "      <td>-500.323246</td>\n",
       "      <td>1599.581894</td>\n",
       "      <td>-500.888152</td>\n",
       "      <td>1602.649541</td>\n",
       "      <td>-500.593010</td>\n",
       "      <td>42125.354245</td>\n",
       "      <td>3494.800771</td>\n",
       "      <td>3506.679315</td>\n",
       "      <td>3.169615</td>\n",
       "      <td>6.060915</td>\n",
       "      <td>1.786875</td>\n",
       "      <td>540.531893</td>\n",
       "      <td>56.047189</td>\n",
       "      <td>34.347666</td>\n",
       "      <td>5.663707</td>\n",
       "      <td>10.957755</td>\n",
       "      <td>6.198826</td>\n",
       "      <td>10.960521</td>\n",
       "      <td>6.194897</td>\n",
       "      <td>12.411054</td>\n",
       "      <td>7.240205</td>\n",
       "      <td>27.041023</td>\n",
       "      <td>19.216101</td>\n",
       "      <td>86.688794</td>\n",
       "      <td>4.552800</td>\n",
       "      <td>0.515438</td>\n",
       "      <td>19.267422</td>\n",
       "      <td>1.012642</td>\n",
       "      <td>999.678690</td>\n",
       "      <td>-399.752729</td>\n",
       "      <td>1600.208824</td>\n",
       "      <td>-449.599614</td>\n",
       "      <td>1600.357732</td>\n",
       "      <td>-450.034364</td>\n",
       "      <td>1599.759049</td>\n",
       "      <td>-449.909799</td>\n",
       "      <td>1401.560902</td>\n",
       "      <td>-448.877187</td>\n",
       "      <td>1401.160227</td>\n",
       "      <td>-450.407128</td>\n",
       "      <td>14.079996</td>\n",
       "      <td>4.470737</td>\n",
       "      <td>8.871028</td>\n",
       "      <td>2.330448</td>\n",
       "      <td>26.024787</td>\n",
       "      <td>-500.279091</td>\n",
       "      <td>23.955345</td>\n",
       "      <td>-500.593614</td>\n",
       "      <td>23.985703</td>\n",
       "      <td>-500.083811</td>\n",
       "      <td>23.958945</td>\n",
       "      <td>-499.990309</td>\n",
       "      <td>14.027298</td>\n",
       "      <td>-499.838632</td>\n",
       "      <td>11.953070</td>\n",
       "      <td>-501.053894</td>\n",
       "      <td>9.925709</td>\n",
       "      <td>-501.686727</td>\n",
       "      <td>7.894242</td>\n",
       "      <td>-500.356035</td>\n",
       "      <td>13.996647</td>\n",
       "      <td>-601.496691</td>\n",
       "    </tr>\n",
       "  </tbody>\n",
       "</table>\n",
       "</div>"
      ],
      "text/plain": [
       "                  date  final.output.concentrate_ag  \\\n",
       "0  2016-01-15 00:00:00                     6.055403   \n",
       "1  2016-01-15 01:00:00                     6.029369   \n",
       "2  2016-01-15 02:00:00                     6.055926   \n",
       "3  2016-01-15 03:00:00                     6.047977   \n",
       "4  2016-01-15 04:00:00                     6.148599   \n",
       "\n",
       "   final.output.concentrate_pb  final.output.concentrate_sol  \\\n",
       "0                     9.889648                      5.507324   \n",
       "1                     9.968944                      5.257781   \n",
       "2                    10.213995                      5.383759   \n",
       "3                     9.977019                      4.858634   \n",
       "4                    10.142511                      4.939416   \n",
       "\n",
       "   final.output.concentrate_au  final.output.recovery  final.output.tail_ag  \\\n",
       "0                    42.192020              70.541216             10.411962   \n",
       "1                    42.701629              69.266198             10.462676   \n",
       "2                    42.657501              68.116445             10.507046   \n",
       "3                    42.689819              68.347543             10.422762   \n",
       "4                    42.774141              66.927016             10.360302   \n",
       "\n",
       "   final.output.tail_pb  final.output.tail_sol  final.output.tail_au  \\\n",
       "0              0.895447              16.904297              2.143149   \n",
       "1              0.927452              16.634514              2.224930   \n",
       "2              0.953716              16.208849              2.257889   \n",
       "3              0.883763              16.532835              2.146849   \n",
       "4              0.792826              16.525686              2.055292   \n",
       "\n",
       "   primary_cleaner.input.sulfate  primary_cleaner.input.depressant  \\\n",
       "0                     127.092003                         10.128295   \n",
       "1                     125.629232                         10.296251   \n",
       "2                     123.819808                         11.316280   \n",
       "3                     122.270188                         11.322140   \n",
       "4                     117.988169                         11.913613   \n",
       "\n",
       "   primary_cleaner.input.feed_size  primary_cleaner.input.xanthate  \\\n",
       "0                             7.25                        0.988759   \n",
       "1                             7.25                        1.002663   \n",
       "2                             7.25                        0.991265   \n",
       "3                             7.25                        0.996739   \n",
       "4                             7.25                        1.009869   \n",
       "\n",
       "   primary_cleaner.output.concentrate_ag  \\\n",
       "0                               8.547551   \n",
       "1                               8.558743   \n",
       "2                               8.603505   \n",
       "3                               7.221879   \n",
       "4                               9.089428   \n",
       "\n",
       "   primary_cleaner.output.concentrate_pb  \\\n",
       "0                              10.389648   \n",
       "1                              10.497069   \n",
       "2                              10.354494   \n",
       "3                               8.496563   \n",
       "4                               9.986786   \n",
       "\n",
       "   primary_cleaner.output.concentrate_sol  \\\n",
       "0                               19.529297   \n",
       "1                               19.369147   \n",
       "2                               19.167579   \n",
       "3                               15.978538   \n",
       "4                               19.199864   \n",
       "\n",
       "   primary_cleaner.output.concentrate_au  primary_cleaner.output.tail_ag  \\\n",
       "0                              34.174427                       14.936526   \n",
       "1                              34.118526                       16.250511   \n",
       "2                              33.969464                       16.491823   \n",
       "3                              28.260743                       16.024359   \n",
       "4                              33.044932                       16.480185   \n",
       "\n",
       "   primary_cleaner.output.tail_pb  primary_cleaner.output.tail_sol  \\\n",
       "0                        2.534912                         7.476074   \n",
       "1                        3.049646                         6.733907   \n",
       "2                        3.124664                         6.471768   \n",
       "3                        2.960362                         6.843791   \n",
       "4                        3.112100                         6.550154   \n",
       "\n",
       "   primary_cleaner.output.tail_au  primary_cleaner.state.floatbank8_a_air  \\\n",
       "0                        2.106679                             1549.775757   \n",
       "1                        2.353017                             1576.166671   \n",
       "2                        2.416800                             1601.556163   \n",
       "3                        2.262051                             1599.968720   \n",
       "4                        2.277073                             1601.339707   \n",
       "\n",
       "   primary_cleaner.state.floatbank8_a_level  \\\n",
       "0                               -498.912140   \n",
       "1                               -500.904965   \n",
       "2                               -499.997791   \n",
       "3                               -500.951778   \n",
       "4                               -498.975456   \n",
       "\n",
       "   primary_cleaner.state.floatbank8_b_air  \\\n",
       "0                             1551.434204   \n",
       "1                             1575.950626   \n",
       "2                             1600.386685   \n",
       "3                             1600.659236   \n",
       "4                             1601.437854   \n",
       "\n",
       "   primary_cleaner.state.floatbank8_b_level  \\\n",
       "0                               -516.403442   \n",
       "1                               -499.865889   \n",
       "2                               -500.607762   \n",
       "3                               -499.677094   \n",
       "4                               -500.323246   \n",
       "\n",
       "   primary_cleaner.state.floatbank8_c_air  \\\n",
       "0                             1549.873901   \n",
       "1                             1575.994189   \n",
       "2                             1602.003542   \n",
       "3                             1600.304144   \n",
       "4                             1599.581894   \n",
       "\n",
       "   primary_cleaner.state.floatbank8_c_level  \\\n",
       "0                               -498.666595   \n",
       "1                               -499.315107   \n",
       "2                               -500.870069   \n",
       "3                               -500.727997   \n",
       "4                               -500.888152   \n",
       "\n",
       "   primary_cleaner.state.floatbank8_d_air  \\\n",
       "0                             1554.367432   \n",
       "1                             1574.479259   \n",
       "2                             1599.541515   \n",
       "3                             1600.449520   \n",
       "4                             1602.649541   \n",
       "\n",
       "   primary_cleaner.state.floatbank8_d_level  \\\n",
       "0                               -493.428131   \n",
       "1                               -498.931665   \n",
       "2                               -499.827444   \n",
       "3                               -500.052575   \n",
       "4                               -500.593010   \n",
       "\n",
       "   rougher.calculation.sulfate_to_au_concentrate  \\\n",
       "0                                   41885.707031   \n",
       "1                                   42050.861809   \n",
       "2                                   42018.101184   \n",
       "3                                   42029.447991   \n",
       "4                                   42125.354245   \n",
       "\n",
       "   rougher.calculation.floatbank10_sulfate_to_au_feed  \\\n",
       "0                                        3481.779053    \n",
       "1                                        3498.370979    \n",
       "2                                        3495.348910    \n",
       "3                                        3498.578313    \n",
       "4                                        3494.800771    \n",
       "\n",
       "   rougher.calculation.floatbank11_sulfate_to_au_feed  \\\n",
       "0                                        3520.337158    \n",
       "1                                        3489.981857    \n",
       "2                                        3502.359819    \n",
       "3                                        3499.162912    \n",
       "4                                        3506.679315    \n",
       "\n",
       "   rougher.calculation.au_pb_ratio  rougher.input.feed_ag  \\\n",
       "0                         2.838687               6.100378   \n",
       "1                         2.858998               6.161113   \n",
       "2                         2.945989               6.116455   \n",
       "3                         3.002340               6.043309   \n",
       "4                         3.169615               6.060915   \n",
       "\n",
       "   rougher.input.feed_pb  rougher.input.feed_rate  rougher.input.feed_size  \\\n",
       "0               2.284912               523.546326                55.486599   \n",
       "1               2.266033               525.290581                57.278666   \n",
       "2               2.159622               530.026610                57.510649   \n",
       "3               2.037807               542.590390                57.792734   \n",
       "4               1.786875               540.531893                56.047189   \n",
       "\n",
       "   rougher.input.feed_sol  rougher.input.feed_au  \\\n",
       "0               36.808594               6.486150   \n",
       "1               35.753385               6.478583   \n",
       "2               35.971630               6.362222   \n",
       "3               36.862241               6.118189   \n",
       "4               34.347666               5.663707   \n",
       "\n",
       "   rougher.input.floatbank10_sulfate  rougher.input.floatbank10_xanthate  \\\n",
       "0                          11.986616                            6.007990   \n",
       "1                          11.971193                            6.005766   \n",
       "2                          11.920603                            6.197377   \n",
       "3                          11.630094                            6.203177   \n",
       "4                          10.957755                            6.198826   \n",
       "\n",
       "   rougher.input.floatbank11_sulfate  rougher.input.floatbank11_xanthate  \\\n",
       "0                          11.836743                            6.005818   \n",
       "1                          11.996163                            6.012594   \n",
       "2                          11.920305                            6.204633   \n",
       "3                          11.692450                            6.196578   \n",
       "4                          10.960521                            6.194897   \n",
       "\n",
       "   rougher.output.concentrate_ag  rougher.output.concentrate_pb  \\\n",
       "0                      11.500771                       7.101074   \n",
       "1                      11.615865                       7.278807   \n",
       "2                      11.695753                       7.216833   \n",
       "3                      11.915047                       7.175616   \n",
       "4                      12.411054                       7.240205   \n",
       "\n",
       "   rougher.output.concentrate_sol  rougher.output.concentrate_au  \\\n",
       "0                       28.029297                      19.793808   \n",
       "1                       28.067063                      20.050975   \n",
       "2                       27.454037                      19.737170   \n",
       "3                       27.341277                      19.320810   \n",
       "4                       27.041023                      19.216101   \n",
       "\n",
       "   rougher.output.recovery  rougher.output.tail_ag  rougher.output.tail_pb  \\\n",
       "0                87.107763                5.008018                0.508728   \n",
       "1                86.843261                4.955378                0.536689   \n",
       "2                86.842308                4.843460                0.546416   \n",
       "3                87.226430                4.655288                0.542525   \n",
       "4                86.688794                4.552800                0.515438   \n",
       "\n",
       "   rougher.output.tail_sol  rougher.output.tail_au  \\\n",
       "0                19.154297                1.170244   \n",
       "1                18.965234                1.184827   \n",
       "2                18.808533                1.162562   \n",
       "3                19.330200                1.079755   \n",
       "4                19.267422                1.012642   \n",
       "\n",
       "   rougher.state.floatbank10_a_air  rougher.state.floatbank10_a_level  \\\n",
       "0                       999.706909                        -404.066986   \n",
       "1                      1000.286398                        -400.065196   \n",
       "2                       999.719565                        -400.074028   \n",
       "3                       999.814770                        -400.200179   \n",
       "4                       999.678690                        -399.752729   \n",
       "\n",
       "   rougher.state.floatbank10_b_air  rougher.state.floatbank10_b_level  \\\n",
       "0                      1603.011353                        -434.715027   \n",
       "1                      1600.754587                        -449.953435   \n",
       "2                      1599.337330                        -450.008530   \n",
       "3                      1600.059442                        -450.619948   \n",
       "4                      1600.208824                        -449.599614   \n",
       "\n",
       "   rougher.state.floatbank10_c_air  rougher.state.floatbank10_c_level  \\\n",
       "0                      1602.375000                        -442.204468   \n",
       "1                      1600.479580                        -449.830646   \n",
       "2                      1599.672797                        -449.954491   \n",
       "3                      1600.012842                        -449.910497   \n",
       "4                      1600.357732                        -450.034364   \n",
       "\n",
       "   rougher.state.floatbank10_d_air  rougher.state.floatbank10_d_level  \\\n",
       "0                      1598.937256                        -451.294128   \n",
       "1                      1600.527589                        -449.953649   \n",
       "2                      1599.849325                        -449.954185   \n",
       "3                      1597.725177                        -450.130127   \n",
       "4                      1599.759049                        -449.909799   \n",
       "\n",
       "   rougher.state.floatbank10_e_air  rougher.state.floatbank10_e_level  \\\n",
       "0                      1404.472046                        -455.462982   \n",
       "1                      1399.227084                        -450.869848   \n",
       "2                      1399.180945                        -449.937588   \n",
       "3                      1400.943157                        -450.030142   \n",
       "4                      1401.560902                        -448.877187   \n",
       "\n",
       "   rougher.state.floatbank10_f_air  rougher.state.floatbank10_f_level  \\\n",
       "0                      1416.354980                        -451.939636   \n",
       "1                      1399.719514                        -450.119001   \n",
       "2                      1400.316682                        -450.527147   \n",
       "3                      1400.234743                        -449.790835   \n",
       "4                      1401.160227                        -450.407128   \n",
       "\n",
       "   secondary_cleaner.output.tail_ag  secondary_cleaner.output.tail_pb  \\\n",
       "0                         14.500184                          4.694824   \n",
       "1                         14.265474                          4.592547   \n",
       "2                         14.115662                          4.624775   \n",
       "3                         13.732071                          4.482453   \n",
       "4                         14.079996                          4.470737   \n",
       "\n",
       "   secondary_cleaner.output.tail_sol  secondary_cleaner.output.tail_au  \\\n",
       "0                           8.764648                          2.606185   \n",
       "1                           9.001494                          2.488248   \n",
       "2                           8.842896                          2.458187   \n",
       "3                           9.122857                          2.322062   \n",
       "4                           8.871028                          2.330448   \n",
       "\n",
       "   secondary_cleaner.state.floatbank2_a_air  \\\n",
       "0                                 25.853109   \n",
       "1                                 25.880539   \n",
       "2                                 26.005245   \n",
       "3                                 25.942508   \n",
       "4                                 26.024787   \n",
       "\n",
       "   secondary_cleaner.state.floatbank2_a_level  \\\n",
       "0                                 -498.526489   \n",
       "1                                 -499.989656   \n",
       "2                                 -499.929616   \n",
       "3                                 -499.176749   \n",
       "4                                 -500.279091   \n",
       "\n",
       "   secondary_cleaner.state.floatbank2_b_air  \\\n",
       "0                                 23.893660   \n",
       "1                                 23.889530   \n",
       "2                                 23.886657   \n",
       "3                                 23.955516   \n",
       "4                                 23.955345   \n",
       "\n",
       "   secondary_cleaner.state.floatbank2_b_level  \\\n",
       "0                                 -501.406281   \n",
       "1                                 -500.372428   \n",
       "2                                 -499.951928   \n",
       "3                                 -499.848796   \n",
       "4                                 -500.593614   \n",
       "\n",
       "   secondary_cleaner.state.floatbank3_a_air  \\\n",
       "0                                 23.961798   \n",
       "1                                 23.970550   \n",
       "2                                 23.913535   \n",
       "3                                 23.966838   \n",
       "4                                 23.985703   \n",
       "\n",
       "   secondary_cleaner.state.floatbank3_a_level  \\\n",
       "0                                 -495.262817   \n",
       "1                                 -500.085473   \n",
       "2                                 -499.442343   \n",
       "3                                 -500.008812   \n",
       "4                                 -500.083811   \n",
       "\n",
       "   secondary_cleaner.state.floatbank3_b_air  \\\n",
       "0                                 21.940409   \n",
       "1                                 22.085714   \n",
       "2                                 23.957717   \n",
       "3                                 23.954443   \n",
       "4                                 23.958945   \n",
       "\n",
       "   secondary_cleaner.state.floatbank3_b_level  \\\n",
       "0                                 -499.340973   \n",
       "1                                 -499.446897   \n",
       "2                                 -499.901982   \n",
       "3                                 -499.944710   \n",
       "4                                 -499.990309   \n",
       "\n",
       "   secondary_cleaner.state.floatbank4_a_air  \\\n",
       "0                                 14.016835   \n",
       "1                                 13.992281   \n",
       "2                                 14.015015   \n",
       "3                                 14.036510   \n",
       "4                                 14.027298   \n",
       "\n",
       "   secondary_cleaner.state.floatbank4_a_level  \\\n",
       "0                                 -502.488007   \n",
       "1                                 -505.503262   \n",
       "2                                 -502.520901   \n",
       "3                                 -500.857308   \n",
       "4                                 -499.838632   \n",
       "\n",
       "   secondary_cleaner.state.floatbank4_b_air  \\\n",
       "0                                 12.099931   \n",
       "1                                 11.950531   \n",
       "2                                 11.912783   \n",
       "3                                 11.999550   \n",
       "4                                 11.953070   \n",
       "\n",
       "   secondary_cleaner.state.floatbank4_b_level  \\\n",
       "0                                 -504.715942   \n",
       "1                                 -501.331529   \n",
       "2                                 -501.133383   \n",
       "3                                 -501.193686   \n",
       "4                                 -501.053894   \n",
       "\n",
       "   secondary_cleaner.state.floatbank5_a_air  \\\n",
       "0                                  9.925633   \n",
       "1                                 10.039245   \n",
       "2                                 10.070913   \n",
       "3                                  9.970366   \n",
       "4                                  9.925709   \n",
       "\n",
       "   secondary_cleaner.state.floatbank5_a_level  \\\n",
       "0                                 -498.310211   \n",
       "1                                 -500.169983   \n",
       "2                                 -500.129135   \n",
       "3                                 -499.201640   \n",
       "4                                 -501.686727   \n",
       "\n",
       "   secondary_cleaner.state.floatbank5_b_air  \\\n",
       "0                                  8.079666   \n",
       "1                                  7.984757   \n",
       "2                                  8.013877   \n",
       "3                                  7.977324   \n",
       "4                                  7.894242   \n",
       "\n",
       "   secondary_cleaner.state.floatbank5_b_level  \\\n",
       "0                                 -500.470978   \n",
       "1                                 -500.582168   \n",
       "2                                 -500.517572   \n",
       "3                                 -500.255908   \n",
       "4                                 -500.356035   \n",
       "\n",
       "   secondary_cleaner.state.floatbank6_a_air  \\\n",
       "0                                 14.151341   \n",
       "1                                 13.998353   \n",
       "2                                 14.028663   \n",
       "3                                 14.005551   \n",
       "4                                 13.996647   \n",
       "\n",
       "   secondary_cleaner.state.floatbank6_a_level  \n",
       "0                                 -605.841980  \n",
       "1                                 -599.787184  \n",
       "2                                 -601.427363  \n",
       "3                                 -599.996129  \n",
       "4                                 -601.496691  "
      ]
     },
     "metadata": {},
     "output_type": "display_data"
    },
    {
     "name": "stdout",
     "output_type": "stream",
     "text": [
      "<class 'pandas.core.frame.DataFrame'>\n",
      "RangeIndex: 19439 entries, 0 to 19438\n",
      "Data columns (total 87 columns):\n",
      " #   Column                                              Non-Null Count  Dtype  \n",
      "---  ------                                              --------------  -----  \n",
      " 0   date                                                19439 non-null  object \n",
      " 1   final.output.concentrate_ag                         19438 non-null  float64\n",
      " 2   final.output.concentrate_pb                         19438 non-null  float64\n",
      " 3   final.output.concentrate_sol                        19228 non-null  float64\n",
      " 4   final.output.concentrate_au                         19439 non-null  float64\n",
      " 5   final.output.recovery                               19439 non-null  float64\n",
      " 6   final.output.tail_ag                                19438 non-null  float64\n",
      " 7   final.output.tail_pb                                19338 non-null  float64\n",
      " 8   final.output.tail_sol                               19433 non-null  float64\n",
      " 9   final.output.tail_au                                19439 non-null  float64\n",
      " 10  primary_cleaner.input.sulfate                       19415 non-null  float64\n",
      " 11  primary_cleaner.input.depressant                    19402 non-null  float64\n",
      " 12  primary_cleaner.input.feed_size                     19439 non-null  float64\n",
      " 13  primary_cleaner.input.xanthate                      19335 non-null  float64\n",
      " 14  primary_cleaner.output.concentrate_ag               19439 non-null  float64\n",
      " 15  primary_cleaner.output.concentrate_pb               19323 non-null  float64\n",
      " 16  primary_cleaner.output.concentrate_sol              19069 non-null  float64\n",
      " 17  primary_cleaner.output.concentrate_au               19439 non-null  float64\n",
      " 18  primary_cleaner.output.tail_ag                      19435 non-null  float64\n",
      " 19  primary_cleaner.output.tail_pb                      19418 non-null  float64\n",
      " 20  primary_cleaner.output.tail_sol                     19377 non-null  float64\n",
      " 21  primary_cleaner.output.tail_au                      19439 non-null  float64\n",
      " 22  primary_cleaner.state.floatbank8_a_air              19435 non-null  float64\n",
      " 23  primary_cleaner.state.floatbank8_a_level            19438 non-null  float64\n",
      " 24  primary_cleaner.state.floatbank8_b_air              19435 non-null  float64\n",
      " 25  primary_cleaner.state.floatbank8_b_level            19438 non-null  float64\n",
      " 26  primary_cleaner.state.floatbank8_c_air              19437 non-null  float64\n",
      " 27  primary_cleaner.state.floatbank8_c_level            19438 non-null  float64\n",
      " 28  primary_cleaner.state.floatbank8_d_air              19436 non-null  float64\n",
      " 29  primary_cleaner.state.floatbank8_d_level            19438 non-null  float64\n",
      " 30  rougher.calculation.sulfate_to_au_concentrate       19437 non-null  float64\n",
      " 31  rougher.calculation.floatbank10_sulfate_to_au_feed  19437 non-null  float64\n",
      " 32  rougher.calculation.floatbank11_sulfate_to_au_feed  19437 non-null  float64\n",
      " 33  rougher.calculation.au_pb_ratio                     19439 non-null  float64\n",
      " 34  rougher.input.feed_ag                               19439 non-null  float64\n",
      " 35  rougher.input.feed_pb                               19339 non-null  float64\n",
      " 36  rougher.input.feed_rate                             19428 non-null  float64\n",
      " 37  rougher.input.feed_size                             19294 non-null  float64\n",
      " 38  rougher.input.feed_sol                              19340 non-null  float64\n",
      " 39  rougher.input.feed_au                               19439 non-null  float64\n",
      " 40  rougher.input.floatbank10_sulfate                   19405 non-null  float64\n",
      " 41  rougher.input.floatbank10_xanthate                  19431 non-null  float64\n",
      " 42  rougher.input.floatbank11_sulfate                   19395 non-null  float64\n",
      " 43  rougher.input.floatbank11_xanthate                  18986 non-null  float64\n",
      " 44  rougher.output.concentrate_ag                       19439 non-null  float64\n",
      " 45  rougher.output.concentrate_pb                       19439 non-null  float64\n",
      " 46  rougher.output.concentrate_sol                      19416 non-null  float64\n",
      " 47  rougher.output.concentrate_au                       19439 non-null  float64\n",
      " 48  rougher.output.recovery                             19439 non-null  float64\n",
      " 49  rougher.output.tail_ag                              19438 non-null  float64\n",
      " 50  rougher.output.tail_pb                              19439 non-null  float64\n",
      " 51  rougher.output.tail_sol                             19439 non-null  float64\n",
      " 52  rougher.output.tail_au                              19439 non-null  float64\n",
      " 53  rougher.state.floatbank10_a_air                     19438 non-null  float64\n",
      " 54  rougher.state.floatbank10_a_level                   19438 non-null  float64\n",
      " 55  rougher.state.floatbank10_b_air                     19438 non-null  float64\n",
      " 56  rougher.state.floatbank10_b_level                   19438 non-null  float64\n",
      " 57  rougher.state.floatbank10_c_air                     19438 non-null  float64\n",
      " 58  rougher.state.floatbank10_c_level                   19438 non-null  float64\n",
      " 59  rougher.state.floatbank10_d_air                     19439 non-null  float64\n",
      " 60  rougher.state.floatbank10_d_level                   19439 non-null  float64\n",
      " 61  rougher.state.floatbank10_e_air                     19003 non-null  float64\n",
      " 62  rougher.state.floatbank10_e_level                   19439 non-null  float64\n",
      " 63  rougher.state.floatbank10_f_air                     19439 non-null  float64\n",
      " 64  rougher.state.floatbank10_f_level                   19439 non-null  float64\n",
      " 65  secondary_cleaner.output.tail_ag                    19437 non-null  float64\n",
      " 66  secondary_cleaner.output.tail_pb                    19427 non-null  float64\n",
      " 67  secondary_cleaner.output.tail_sol                   17691 non-null  float64\n",
      " 68  secondary_cleaner.output.tail_au                    19439 non-null  float64\n",
      " 69  secondary_cleaner.state.floatbank2_a_air            19219 non-null  float64\n",
      " 70  secondary_cleaner.state.floatbank2_a_level          19438 non-null  float64\n",
      " 71  secondary_cleaner.state.floatbank2_b_air            19416 non-null  float64\n",
      " 72  secondary_cleaner.state.floatbank2_b_level          19438 non-null  float64\n",
      " 73  secondary_cleaner.state.floatbank3_a_air            19426 non-null  float64\n",
      " 74  secondary_cleaner.state.floatbank3_a_level          19438 non-null  float64\n",
      " 75  secondary_cleaner.state.floatbank3_b_air            19438 non-null  float64\n",
      " 76  secondary_cleaner.state.floatbank3_b_level          19438 non-null  float64\n",
      " 77  secondary_cleaner.state.floatbank4_a_air            19433 non-null  float64\n",
      " 78  secondary_cleaner.state.floatbank4_a_level          19438 non-null  float64\n",
      " 79  secondary_cleaner.state.floatbank4_b_air            19438 non-null  float64\n",
      " 80  secondary_cleaner.state.floatbank4_b_level          19438 non-null  float64\n",
      " 81  secondary_cleaner.state.floatbank5_a_air            19438 non-null  float64\n",
      " 82  secondary_cleaner.state.floatbank5_a_level          19438 non-null  float64\n",
      " 83  secondary_cleaner.state.floatbank5_b_air            19438 non-null  float64\n",
      " 84  secondary_cleaner.state.floatbank5_b_level          19438 non-null  float64\n",
      " 85  secondary_cleaner.state.floatbank6_a_air            19437 non-null  float64\n",
      " 86  secondary_cleaner.state.floatbank6_a_level          19438 non-null  float64\n",
      "dtypes: float64(86), object(1)\n",
      "memory usage: 12.9+ MB\n"
     ]
    },
    {
     "data": {
      "text/html": [
       "<div>\n",
       "<style scoped>\n",
       "    .dataframe tbody tr th:only-of-type {\n",
       "        vertical-align: middle;\n",
       "    }\n",
       "\n",
       "    .dataframe tbody tr th {\n",
       "        vertical-align: top;\n",
       "    }\n",
       "\n",
       "    .dataframe thead th {\n",
       "        text-align: right;\n",
       "    }\n",
       "</style>\n",
       "<table border=\"1\" class=\"dataframe\">\n",
       "  <thead>\n",
       "    <tr style=\"text-align: right;\">\n",
       "      <th></th>\n",
       "      <th>date</th>\n",
       "      <th>final.output.concentrate_ag</th>\n",
       "      <th>final.output.concentrate_pb</th>\n",
       "      <th>final.output.concentrate_sol</th>\n",
       "      <th>final.output.concentrate_au</th>\n",
       "      <th>final.output.recovery</th>\n",
       "      <th>final.output.tail_ag</th>\n",
       "      <th>final.output.tail_pb</th>\n",
       "      <th>final.output.tail_sol</th>\n",
       "      <th>final.output.tail_au</th>\n",
       "      <th>primary_cleaner.input.sulfate</th>\n",
       "      <th>primary_cleaner.input.depressant</th>\n",
       "      <th>primary_cleaner.input.feed_size</th>\n",
       "      <th>primary_cleaner.input.xanthate</th>\n",
       "      <th>primary_cleaner.output.concentrate_ag</th>\n",
       "      <th>primary_cleaner.output.concentrate_pb</th>\n",
       "      <th>primary_cleaner.output.concentrate_sol</th>\n",
       "      <th>primary_cleaner.output.concentrate_au</th>\n",
       "      <th>primary_cleaner.output.tail_ag</th>\n",
       "      <th>primary_cleaner.output.tail_pb</th>\n",
       "      <th>primary_cleaner.output.tail_sol</th>\n",
       "      <th>primary_cleaner.output.tail_au</th>\n",
       "      <th>primary_cleaner.state.floatbank8_a_air</th>\n",
       "      <th>primary_cleaner.state.floatbank8_a_level</th>\n",
       "      <th>primary_cleaner.state.floatbank8_b_air</th>\n",
       "      <th>primary_cleaner.state.floatbank8_b_level</th>\n",
       "      <th>primary_cleaner.state.floatbank8_c_air</th>\n",
       "      <th>primary_cleaner.state.floatbank8_c_level</th>\n",
       "      <th>primary_cleaner.state.floatbank8_d_air</th>\n",
       "      <th>primary_cleaner.state.floatbank8_d_level</th>\n",
       "      <th>rougher.calculation.sulfate_to_au_concentrate</th>\n",
       "      <th>rougher.calculation.floatbank10_sulfate_to_au_feed</th>\n",
       "      <th>rougher.calculation.floatbank11_sulfate_to_au_feed</th>\n",
       "      <th>rougher.calculation.au_pb_ratio</th>\n",
       "      <th>rougher.input.feed_ag</th>\n",
       "      <th>rougher.input.feed_pb</th>\n",
       "      <th>rougher.input.feed_rate</th>\n",
       "      <th>rougher.input.feed_size</th>\n",
       "      <th>rougher.input.feed_sol</th>\n",
       "      <th>rougher.input.feed_au</th>\n",
       "      <th>rougher.input.floatbank10_sulfate</th>\n",
       "      <th>rougher.input.floatbank10_xanthate</th>\n",
       "      <th>rougher.input.floatbank11_sulfate</th>\n",
       "      <th>rougher.input.floatbank11_xanthate</th>\n",
       "      <th>rougher.output.concentrate_ag</th>\n",
       "      <th>rougher.output.concentrate_pb</th>\n",
       "      <th>rougher.output.concentrate_sol</th>\n",
       "      <th>rougher.output.concentrate_au</th>\n",
       "      <th>rougher.output.recovery</th>\n",
       "      <th>rougher.output.tail_ag</th>\n",
       "      <th>rougher.output.tail_pb</th>\n",
       "      <th>rougher.output.tail_sol</th>\n",
       "      <th>rougher.output.tail_au</th>\n",
       "      <th>rougher.state.floatbank10_a_air</th>\n",
       "      <th>rougher.state.floatbank10_a_level</th>\n",
       "      <th>rougher.state.floatbank10_b_air</th>\n",
       "      <th>rougher.state.floatbank10_b_level</th>\n",
       "      <th>rougher.state.floatbank10_c_air</th>\n",
       "      <th>rougher.state.floatbank10_c_level</th>\n",
       "      <th>rougher.state.floatbank10_d_air</th>\n",
       "      <th>rougher.state.floatbank10_d_level</th>\n",
       "      <th>rougher.state.floatbank10_e_air</th>\n",
       "      <th>rougher.state.floatbank10_e_level</th>\n",
       "      <th>rougher.state.floatbank10_f_air</th>\n",
       "      <th>rougher.state.floatbank10_f_level</th>\n",
       "      <th>secondary_cleaner.output.tail_ag</th>\n",
       "      <th>secondary_cleaner.output.tail_pb</th>\n",
       "      <th>secondary_cleaner.output.tail_sol</th>\n",
       "      <th>secondary_cleaner.output.tail_au</th>\n",
       "      <th>secondary_cleaner.state.floatbank2_a_air</th>\n",
       "      <th>secondary_cleaner.state.floatbank2_a_level</th>\n",
       "      <th>secondary_cleaner.state.floatbank2_b_air</th>\n",
       "      <th>secondary_cleaner.state.floatbank2_b_level</th>\n",
       "      <th>secondary_cleaner.state.floatbank3_a_air</th>\n",
       "      <th>secondary_cleaner.state.floatbank3_a_level</th>\n",
       "      <th>secondary_cleaner.state.floatbank3_b_air</th>\n",
       "      <th>secondary_cleaner.state.floatbank3_b_level</th>\n",
       "      <th>secondary_cleaner.state.floatbank4_a_air</th>\n",
       "      <th>secondary_cleaner.state.floatbank4_a_level</th>\n",
       "      <th>secondary_cleaner.state.floatbank4_b_air</th>\n",
       "      <th>secondary_cleaner.state.floatbank4_b_level</th>\n",
       "      <th>secondary_cleaner.state.floatbank5_a_air</th>\n",
       "      <th>secondary_cleaner.state.floatbank5_a_level</th>\n",
       "      <th>secondary_cleaner.state.floatbank5_b_air</th>\n",
       "      <th>secondary_cleaner.state.floatbank5_b_level</th>\n",
       "      <th>secondary_cleaner.state.floatbank6_a_air</th>\n",
       "      <th>secondary_cleaner.state.floatbank6_a_level</th>\n",
       "    </tr>\n",
       "  </thead>\n",
       "  <tbody>\n",
       "    <tr>\n",
       "      <th>0</th>\n",
       "      <td>2016-01-15 00:00:00</td>\n",
       "      <td>6.055403</td>\n",
       "      <td>9.889648</td>\n",
       "      <td>5.507324</td>\n",
       "      <td>42.192020</td>\n",
       "      <td>70.541216</td>\n",
       "      <td>10.411962</td>\n",
       "      <td>0.895447</td>\n",
       "      <td>16.904297</td>\n",
       "      <td>2.143149</td>\n",
       "      <td>127.092003</td>\n",
       "      <td>10.128295</td>\n",
       "      <td>7.25</td>\n",
       "      <td>0.988759</td>\n",
       "      <td>8.547551</td>\n",
       "      <td>10.389648</td>\n",
       "      <td>19.529297</td>\n",
       "      <td>34.174427</td>\n",
       "      <td>14.936526</td>\n",
       "      <td>2.534912</td>\n",
       "      <td>7.476074</td>\n",
       "      <td>2.106679</td>\n",
       "      <td>1549.775757</td>\n",
       "      <td>-498.912140</td>\n",
       "      <td>1551.434204</td>\n",
       "      <td>-516.403442</td>\n",
       "      <td>1549.873901</td>\n",
       "      <td>-498.666595</td>\n",
       "      <td>1554.367432</td>\n",
       "      <td>-493.428131</td>\n",
       "      <td>41885.707031</td>\n",
       "      <td>3481.779053</td>\n",
       "      <td>3520.337158</td>\n",
       "      <td>2.838687</td>\n",
       "      <td>6.100378</td>\n",
       "      <td>2.284912</td>\n",
       "      <td>523.546326</td>\n",
       "      <td>55.486599</td>\n",
       "      <td>36.808594</td>\n",
       "      <td>6.486150</td>\n",
       "      <td>11.986616</td>\n",
       "      <td>6.007990</td>\n",
       "      <td>11.836743</td>\n",
       "      <td>6.005818</td>\n",
       "      <td>11.500771</td>\n",
       "      <td>7.101074</td>\n",
       "      <td>28.029297</td>\n",
       "      <td>19.793808</td>\n",
       "      <td>87.107763</td>\n",
       "      <td>5.008018</td>\n",
       "      <td>0.508728</td>\n",
       "      <td>19.154297</td>\n",
       "      <td>1.170244</td>\n",
       "      <td>999.706909</td>\n",
       "      <td>-404.066986</td>\n",
       "      <td>1603.011353</td>\n",
       "      <td>-434.715027</td>\n",
       "      <td>1602.375000</td>\n",
       "      <td>-442.204468</td>\n",
       "      <td>1598.937256</td>\n",
       "      <td>-451.294128</td>\n",
       "      <td>1404.472046</td>\n",
       "      <td>-455.462982</td>\n",
       "      <td>1416.354980</td>\n",
       "      <td>-451.939636</td>\n",
       "      <td>14.500184</td>\n",
       "      <td>4.694824</td>\n",
       "      <td>8.764648</td>\n",
       "      <td>2.606185</td>\n",
       "      <td>25.853109</td>\n",
       "      <td>-498.526489</td>\n",
       "      <td>23.893660</td>\n",
       "      <td>-501.406281</td>\n",
       "      <td>23.961798</td>\n",
       "      <td>-495.262817</td>\n",
       "      <td>21.940409</td>\n",
       "      <td>-499.340973</td>\n",
       "      <td>14.016835</td>\n",
       "      <td>-502.488007</td>\n",
       "      <td>12.099931</td>\n",
       "      <td>-504.715942</td>\n",
       "      <td>9.925633</td>\n",
       "      <td>-498.310211</td>\n",
       "      <td>8.079666</td>\n",
       "      <td>-500.470978</td>\n",
       "      <td>14.151341</td>\n",
       "      <td>-605.841980</td>\n",
       "    </tr>\n",
       "    <tr>\n",
       "      <th>1</th>\n",
       "      <td>2016-01-15 01:00:00</td>\n",
       "      <td>6.029369</td>\n",
       "      <td>9.968944</td>\n",
       "      <td>5.257781</td>\n",
       "      <td>42.701629</td>\n",
       "      <td>69.266198</td>\n",
       "      <td>10.462676</td>\n",
       "      <td>0.927452</td>\n",
       "      <td>16.634514</td>\n",
       "      <td>2.224930</td>\n",
       "      <td>125.629232</td>\n",
       "      <td>10.296251</td>\n",
       "      <td>7.25</td>\n",
       "      <td>1.002663</td>\n",
       "      <td>8.558743</td>\n",
       "      <td>10.497069</td>\n",
       "      <td>19.369147</td>\n",
       "      <td>34.118526</td>\n",
       "      <td>16.250511</td>\n",
       "      <td>3.049646</td>\n",
       "      <td>6.733907</td>\n",
       "      <td>2.353017</td>\n",
       "      <td>1576.166671</td>\n",
       "      <td>-500.904965</td>\n",
       "      <td>1575.950626</td>\n",
       "      <td>-499.865889</td>\n",
       "      <td>1575.994189</td>\n",
       "      <td>-499.315107</td>\n",
       "      <td>1574.479259</td>\n",
       "      <td>-498.931665</td>\n",
       "      <td>42050.861809</td>\n",
       "      <td>3498.370979</td>\n",
       "      <td>3489.981857</td>\n",
       "      <td>2.858998</td>\n",
       "      <td>6.161113</td>\n",
       "      <td>2.266033</td>\n",
       "      <td>525.290581</td>\n",
       "      <td>57.278666</td>\n",
       "      <td>35.753385</td>\n",
       "      <td>6.478583</td>\n",
       "      <td>11.971193</td>\n",
       "      <td>6.005766</td>\n",
       "      <td>11.996163</td>\n",
       "      <td>6.012594</td>\n",
       "      <td>11.615865</td>\n",
       "      <td>7.278807</td>\n",
       "      <td>28.067063</td>\n",
       "      <td>20.050975</td>\n",
       "      <td>86.843261</td>\n",
       "      <td>4.955378</td>\n",
       "      <td>0.536689</td>\n",
       "      <td>18.965234</td>\n",
       "      <td>1.184827</td>\n",
       "      <td>1000.286398</td>\n",
       "      <td>-400.065196</td>\n",
       "      <td>1600.754587</td>\n",
       "      <td>-449.953435</td>\n",
       "      <td>1600.479580</td>\n",
       "      <td>-449.830646</td>\n",
       "      <td>1600.527589</td>\n",
       "      <td>-449.953649</td>\n",
       "      <td>1399.227084</td>\n",
       "      <td>-450.869848</td>\n",
       "      <td>1399.719514</td>\n",
       "      <td>-450.119001</td>\n",
       "      <td>14.265474</td>\n",
       "      <td>4.592547</td>\n",
       "      <td>9.001494</td>\n",
       "      <td>2.488248</td>\n",
       "      <td>25.880539</td>\n",
       "      <td>-499.989656</td>\n",
       "      <td>23.889530</td>\n",
       "      <td>-500.372428</td>\n",
       "      <td>23.970550</td>\n",
       "      <td>-500.085473</td>\n",
       "      <td>22.085714</td>\n",
       "      <td>-499.446897</td>\n",
       "      <td>13.992281</td>\n",
       "      <td>-505.503262</td>\n",
       "      <td>11.950531</td>\n",
       "      <td>-501.331529</td>\n",
       "      <td>10.039245</td>\n",
       "      <td>-500.169983</td>\n",
       "      <td>7.984757</td>\n",
       "      <td>-500.582168</td>\n",
       "      <td>13.998353</td>\n",
       "      <td>-599.787184</td>\n",
       "    </tr>\n",
       "    <tr>\n",
       "      <th>2</th>\n",
       "      <td>2016-01-15 02:00:00</td>\n",
       "      <td>6.055926</td>\n",
       "      <td>10.213995</td>\n",
       "      <td>5.383759</td>\n",
       "      <td>42.657501</td>\n",
       "      <td>68.116445</td>\n",
       "      <td>10.507046</td>\n",
       "      <td>0.953716</td>\n",
       "      <td>16.208849</td>\n",
       "      <td>2.257889</td>\n",
       "      <td>123.819808</td>\n",
       "      <td>11.316280</td>\n",
       "      <td>7.25</td>\n",
       "      <td>0.991265</td>\n",
       "      <td>8.603505</td>\n",
       "      <td>10.354494</td>\n",
       "      <td>19.167579</td>\n",
       "      <td>33.969464</td>\n",
       "      <td>16.491823</td>\n",
       "      <td>3.124664</td>\n",
       "      <td>6.471768</td>\n",
       "      <td>2.416800</td>\n",
       "      <td>1601.556163</td>\n",
       "      <td>-499.997791</td>\n",
       "      <td>1600.386685</td>\n",
       "      <td>-500.607762</td>\n",
       "      <td>1602.003542</td>\n",
       "      <td>-500.870069</td>\n",
       "      <td>1599.541515</td>\n",
       "      <td>-499.827444</td>\n",
       "      <td>42018.101184</td>\n",
       "      <td>3495.348910</td>\n",
       "      <td>3502.359819</td>\n",
       "      <td>2.945989</td>\n",
       "      <td>6.116455</td>\n",
       "      <td>2.159622</td>\n",
       "      <td>530.026610</td>\n",
       "      <td>57.510649</td>\n",
       "      <td>35.971630</td>\n",
       "      <td>6.362222</td>\n",
       "      <td>11.920603</td>\n",
       "      <td>6.197377</td>\n",
       "      <td>11.920305</td>\n",
       "      <td>6.204633</td>\n",
       "      <td>11.695753</td>\n",
       "      <td>7.216833</td>\n",
       "      <td>27.454037</td>\n",
       "      <td>19.737170</td>\n",
       "      <td>86.842308</td>\n",
       "      <td>4.843460</td>\n",
       "      <td>0.546416</td>\n",
       "      <td>18.808533</td>\n",
       "      <td>1.162562</td>\n",
       "      <td>999.719565</td>\n",
       "      <td>-400.074028</td>\n",
       "      <td>1599.337330</td>\n",
       "      <td>-450.008530</td>\n",
       "      <td>1599.672797</td>\n",
       "      <td>-449.954491</td>\n",
       "      <td>1599.849325</td>\n",
       "      <td>-449.954185</td>\n",
       "      <td>1399.180945</td>\n",
       "      <td>-449.937588</td>\n",
       "      <td>1400.316682</td>\n",
       "      <td>-450.527147</td>\n",
       "      <td>14.115662</td>\n",
       "      <td>4.624775</td>\n",
       "      <td>8.842896</td>\n",
       "      <td>2.458187</td>\n",
       "      <td>26.005245</td>\n",
       "      <td>-499.929616</td>\n",
       "      <td>23.886657</td>\n",
       "      <td>-499.951928</td>\n",
       "      <td>23.913535</td>\n",
       "      <td>-499.442343</td>\n",
       "      <td>23.957717</td>\n",
       "      <td>-499.901982</td>\n",
       "      <td>14.015015</td>\n",
       "      <td>-502.520901</td>\n",
       "      <td>11.912783</td>\n",
       "      <td>-501.133383</td>\n",
       "      <td>10.070913</td>\n",
       "      <td>-500.129135</td>\n",
       "      <td>8.013877</td>\n",
       "      <td>-500.517572</td>\n",
       "      <td>14.028663</td>\n",
       "      <td>-601.427363</td>\n",
       "    </tr>\n",
       "    <tr>\n",
       "      <th>3</th>\n",
       "      <td>2016-01-15 03:00:00</td>\n",
       "      <td>6.047977</td>\n",
       "      <td>9.977019</td>\n",
       "      <td>4.858634</td>\n",
       "      <td>42.689819</td>\n",
       "      <td>68.347543</td>\n",
       "      <td>10.422762</td>\n",
       "      <td>0.883763</td>\n",
       "      <td>16.532835</td>\n",
       "      <td>2.146849</td>\n",
       "      <td>122.270188</td>\n",
       "      <td>11.322140</td>\n",
       "      <td>7.25</td>\n",
       "      <td>0.996739</td>\n",
       "      <td>7.221879</td>\n",
       "      <td>8.496563</td>\n",
       "      <td>15.978538</td>\n",
       "      <td>28.260743</td>\n",
       "      <td>16.024359</td>\n",
       "      <td>2.960362</td>\n",
       "      <td>6.843791</td>\n",
       "      <td>2.262051</td>\n",
       "      <td>1599.968720</td>\n",
       "      <td>-500.951778</td>\n",
       "      <td>1600.659236</td>\n",
       "      <td>-499.677094</td>\n",
       "      <td>1600.304144</td>\n",
       "      <td>-500.727997</td>\n",
       "      <td>1600.449520</td>\n",
       "      <td>-500.052575</td>\n",
       "      <td>42029.447991</td>\n",
       "      <td>3498.578313</td>\n",
       "      <td>3499.162912</td>\n",
       "      <td>3.002340</td>\n",
       "      <td>6.043309</td>\n",
       "      <td>2.037807</td>\n",
       "      <td>542.590390</td>\n",
       "      <td>57.792734</td>\n",
       "      <td>36.862241</td>\n",
       "      <td>6.118189</td>\n",
       "      <td>11.630094</td>\n",
       "      <td>6.203177</td>\n",
       "      <td>11.692450</td>\n",
       "      <td>6.196578</td>\n",
       "      <td>11.915047</td>\n",
       "      <td>7.175616</td>\n",
       "      <td>27.341277</td>\n",
       "      <td>19.320810</td>\n",
       "      <td>87.226430</td>\n",
       "      <td>4.655288</td>\n",
       "      <td>0.542525</td>\n",
       "      <td>19.330200</td>\n",
       "      <td>1.079755</td>\n",
       "      <td>999.814770</td>\n",
       "      <td>-400.200179</td>\n",
       "      <td>1600.059442</td>\n",
       "      <td>-450.619948</td>\n",
       "      <td>1600.012842</td>\n",
       "      <td>-449.910497</td>\n",
       "      <td>1597.725177</td>\n",
       "      <td>-450.130127</td>\n",
       "      <td>1400.943157</td>\n",
       "      <td>-450.030142</td>\n",
       "      <td>1400.234743</td>\n",
       "      <td>-449.790835</td>\n",
       "      <td>13.732071</td>\n",
       "      <td>4.482453</td>\n",
       "      <td>9.122857</td>\n",
       "      <td>2.322062</td>\n",
       "      <td>25.942508</td>\n",
       "      <td>-499.176749</td>\n",
       "      <td>23.955516</td>\n",
       "      <td>-499.848796</td>\n",
       "      <td>23.966838</td>\n",
       "      <td>-500.008812</td>\n",
       "      <td>23.954443</td>\n",
       "      <td>-499.944710</td>\n",
       "      <td>14.036510</td>\n",
       "      <td>-500.857308</td>\n",
       "      <td>11.999550</td>\n",
       "      <td>-501.193686</td>\n",
       "      <td>9.970366</td>\n",
       "      <td>-499.201640</td>\n",
       "      <td>7.977324</td>\n",
       "      <td>-500.255908</td>\n",
       "      <td>14.005551</td>\n",
       "      <td>-599.996129</td>\n",
       "    </tr>\n",
       "    <tr>\n",
       "      <th>4</th>\n",
       "      <td>2016-01-15 04:00:00</td>\n",
       "      <td>6.148599</td>\n",
       "      <td>10.142511</td>\n",
       "      <td>4.939416</td>\n",
       "      <td>42.774141</td>\n",
       "      <td>66.927016</td>\n",
       "      <td>10.360302</td>\n",
       "      <td>0.792826</td>\n",
       "      <td>16.525686</td>\n",
       "      <td>2.055292</td>\n",
       "      <td>117.988169</td>\n",
       "      <td>11.913613</td>\n",
       "      <td>7.25</td>\n",
       "      <td>1.009869</td>\n",
       "      <td>9.089428</td>\n",
       "      <td>9.986786</td>\n",
       "      <td>19.199864</td>\n",
       "      <td>33.044932</td>\n",
       "      <td>16.480185</td>\n",
       "      <td>3.112100</td>\n",
       "      <td>6.550154</td>\n",
       "      <td>2.277073</td>\n",
       "      <td>1601.339707</td>\n",
       "      <td>-498.975456</td>\n",
       "      <td>1601.437854</td>\n",
       "      <td>-500.323246</td>\n",
       "      <td>1599.581894</td>\n",
       "      <td>-500.888152</td>\n",
       "      <td>1602.649541</td>\n",
       "      <td>-500.593010</td>\n",
       "      <td>42125.354245</td>\n",
       "      <td>3494.800771</td>\n",
       "      <td>3506.679315</td>\n",
       "      <td>3.169615</td>\n",
       "      <td>6.060915</td>\n",
       "      <td>1.786875</td>\n",
       "      <td>540.531893</td>\n",
       "      <td>56.047189</td>\n",
       "      <td>34.347666</td>\n",
       "      <td>5.663707</td>\n",
       "      <td>10.957755</td>\n",
       "      <td>6.198826</td>\n",
       "      <td>10.960521</td>\n",
       "      <td>6.194897</td>\n",
       "      <td>12.411054</td>\n",
       "      <td>7.240205</td>\n",
       "      <td>27.041023</td>\n",
       "      <td>19.216101</td>\n",
       "      <td>86.688794</td>\n",
       "      <td>4.552800</td>\n",
       "      <td>0.515438</td>\n",
       "      <td>19.267422</td>\n",
       "      <td>1.012642</td>\n",
       "      <td>999.678690</td>\n",
       "      <td>-399.752729</td>\n",
       "      <td>1600.208824</td>\n",
       "      <td>-449.599614</td>\n",
       "      <td>1600.357732</td>\n",
       "      <td>-450.034364</td>\n",
       "      <td>1599.759049</td>\n",
       "      <td>-449.909799</td>\n",
       "      <td>1401.560902</td>\n",
       "      <td>-448.877187</td>\n",
       "      <td>1401.160227</td>\n",
       "      <td>-450.407128</td>\n",
       "      <td>14.079996</td>\n",
       "      <td>4.470737</td>\n",
       "      <td>8.871028</td>\n",
       "      <td>2.330448</td>\n",
       "      <td>26.024787</td>\n",
       "      <td>-500.279091</td>\n",
       "      <td>23.955345</td>\n",
       "      <td>-500.593614</td>\n",
       "      <td>23.985703</td>\n",
       "      <td>-500.083811</td>\n",
       "      <td>23.958945</td>\n",
       "      <td>-499.990309</td>\n",
       "      <td>14.027298</td>\n",
       "      <td>-499.838632</td>\n",
       "      <td>11.953070</td>\n",
       "      <td>-501.053894</td>\n",
       "      <td>9.925709</td>\n",
       "      <td>-501.686727</td>\n",
       "      <td>7.894242</td>\n",
       "      <td>-500.356035</td>\n",
       "      <td>13.996647</td>\n",
       "      <td>-601.496691</td>\n",
       "    </tr>\n",
       "  </tbody>\n",
       "</table>\n",
       "</div>"
      ],
      "text/plain": [
       "                  date  final.output.concentrate_ag  \\\n",
       "0  2016-01-15 00:00:00                     6.055403   \n",
       "1  2016-01-15 01:00:00                     6.029369   \n",
       "2  2016-01-15 02:00:00                     6.055926   \n",
       "3  2016-01-15 03:00:00                     6.047977   \n",
       "4  2016-01-15 04:00:00                     6.148599   \n",
       "\n",
       "   final.output.concentrate_pb  final.output.concentrate_sol  \\\n",
       "0                     9.889648                      5.507324   \n",
       "1                     9.968944                      5.257781   \n",
       "2                    10.213995                      5.383759   \n",
       "3                     9.977019                      4.858634   \n",
       "4                    10.142511                      4.939416   \n",
       "\n",
       "   final.output.concentrate_au  final.output.recovery  final.output.tail_ag  \\\n",
       "0                    42.192020              70.541216             10.411962   \n",
       "1                    42.701629              69.266198             10.462676   \n",
       "2                    42.657501              68.116445             10.507046   \n",
       "3                    42.689819              68.347543             10.422762   \n",
       "4                    42.774141              66.927016             10.360302   \n",
       "\n",
       "   final.output.tail_pb  final.output.tail_sol  final.output.tail_au  \\\n",
       "0              0.895447              16.904297              2.143149   \n",
       "1              0.927452              16.634514              2.224930   \n",
       "2              0.953716              16.208849              2.257889   \n",
       "3              0.883763              16.532835              2.146849   \n",
       "4              0.792826              16.525686              2.055292   \n",
       "\n",
       "   primary_cleaner.input.sulfate  primary_cleaner.input.depressant  \\\n",
       "0                     127.092003                         10.128295   \n",
       "1                     125.629232                         10.296251   \n",
       "2                     123.819808                         11.316280   \n",
       "3                     122.270188                         11.322140   \n",
       "4                     117.988169                         11.913613   \n",
       "\n",
       "   primary_cleaner.input.feed_size  primary_cleaner.input.xanthate  \\\n",
       "0                             7.25                        0.988759   \n",
       "1                             7.25                        1.002663   \n",
       "2                             7.25                        0.991265   \n",
       "3                             7.25                        0.996739   \n",
       "4                             7.25                        1.009869   \n",
       "\n",
       "   primary_cleaner.output.concentrate_ag  \\\n",
       "0                               8.547551   \n",
       "1                               8.558743   \n",
       "2                               8.603505   \n",
       "3                               7.221879   \n",
       "4                               9.089428   \n",
       "\n",
       "   primary_cleaner.output.concentrate_pb  \\\n",
       "0                              10.389648   \n",
       "1                              10.497069   \n",
       "2                              10.354494   \n",
       "3                               8.496563   \n",
       "4                               9.986786   \n",
       "\n",
       "   primary_cleaner.output.concentrate_sol  \\\n",
       "0                               19.529297   \n",
       "1                               19.369147   \n",
       "2                               19.167579   \n",
       "3                               15.978538   \n",
       "4                               19.199864   \n",
       "\n",
       "   primary_cleaner.output.concentrate_au  primary_cleaner.output.tail_ag  \\\n",
       "0                              34.174427                       14.936526   \n",
       "1                              34.118526                       16.250511   \n",
       "2                              33.969464                       16.491823   \n",
       "3                              28.260743                       16.024359   \n",
       "4                              33.044932                       16.480185   \n",
       "\n",
       "   primary_cleaner.output.tail_pb  primary_cleaner.output.tail_sol  \\\n",
       "0                        2.534912                         7.476074   \n",
       "1                        3.049646                         6.733907   \n",
       "2                        3.124664                         6.471768   \n",
       "3                        2.960362                         6.843791   \n",
       "4                        3.112100                         6.550154   \n",
       "\n",
       "   primary_cleaner.output.tail_au  primary_cleaner.state.floatbank8_a_air  \\\n",
       "0                        2.106679                             1549.775757   \n",
       "1                        2.353017                             1576.166671   \n",
       "2                        2.416800                             1601.556163   \n",
       "3                        2.262051                             1599.968720   \n",
       "4                        2.277073                             1601.339707   \n",
       "\n",
       "   primary_cleaner.state.floatbank8_a_level  \\\n",
       "0                               -498.912140   \n",
       "1                               -500.904965   \n",
       "2                               -499.997791   \n",
       "3                               -500.951778   \n",
       "4                               -498.975456   \n",
       "\n",
       "   primary_cleaner.state.floatbank8_b_air  \\\n",
       "0                             1551.434204   \n",
       "1                             1575.950626   \n",
       "2                             1600.386685   \n",
       "3                             1600.659236   \n",
       "4                             1601.437854   \n",
       "\n",
       "   primary_cleaner.state.floatbank8_b_level  \\\n",
       "0                               -516.403442   \n",
       "1                               -499.865889   \n",
       "2                               -500.607762   \n",
       "3                               -499.677094   \n",
       "4                               -500.323246   \n",
       "\n",
       "   primary_cleaner.state.floatbank8_c_air  \\\n",
       "0                             1549.873901   \n",
       "1                             1575.994189   \n",
       "2                             1602.003542   \n",
       "3                             1600.304144   \n",
       "4                             1599.581894   \n",
       "\n",
       "   primary_cleaner.state.floatbank8_c_level  \\\n",
       "0                               -498.666595   \n",
       "1                               -499.315107   \n",
       "2                               -500.870069   \n",
       "3                               -500.727997   \n",
       "4                               -500.888152   \n",
       "\n",
       "   primary_cleaner.state.floatbank8_d_air  \\\n",
       "0                             1554.367432   \n",
       "1                             1574.479259   \n",
       "2                             1599.541515   \n",
       "3                             1600.449520   \n",
       "4                             1602.649541   \n",
       "\n",
       "   primary_cleaner.state.floatbank8_d_level  \\\n",
       "0                               -493.428131   \n",
       "1                               -498.931665   \n",
       "2                               -499.827444   \n",
       "3                               -500.052575   \n",
       "4                               -500.593010   \n",
       "\n",
       "   rougher.calculation.sulfate_to_au_concentrate  \\\n",
       "0                                   41885.707031   \n",
       "1                                   42050.861809   \n",
       "2                                   42018.101184   \n",
       "3                                   42029.447991   \n",
       "4                                   42125.354245   \n",
       "\n",
       "   rougher.calculation.floatbank10_sulfate_to_au_feed  \\\n",
       "0                                        3481.779053    \n",
       "1                                        3498.370979    \n",
       "2                                        3495.348910    \n",
       "3                                        3498.578313    \n",
       "4                                        3494.800771    \n",
       "\n",
       "   rougher.calculation.floatbank11_sulfate_to_au_feed  \\\n",
       "0                                        3520.337158    \n",
       "1                                        3489.981857    \n",
       "2                                        3502.359819    \n",
       "3                                        3499.162912    \n",
       "4                                        3506.679315    \n",
       "\n",
       "   rougher.calculation.au_pb_ratio  rougher.input.feed_ag  \\\n",
       "0                         2.838687               6.100378   \n",
       "1                         2.858998               6.161113   \n",
       "2                         2.945989               6.116455   \n",
       "3                         3.002340               6.043309   \n",
       "4                         3.169615               6.060915   \n",
       "\n",
       "   rougher.input.feed_pb  rougher.input.feed_rate  rougher.input.feed_size  \\\n",
       "0               2.284912               523.546326                55.486599   \n",
       "1               2.266033               525.290581                57.278666   \n",
       "2               2.159622               530.026610                57.510649   \n",
       "3               2.037807               542.590390                57.792734   \n",
       "4               1.786875               540.531893                56.047189   \n",
       "\n",
       "   rougher.input.feed_sol  rougher.input.feed_au  \\\n",
       "0               36.808594               6.486150   \n",
       "1               35.753385               6.478583   \n",
       "2               35.971630               6.362222   \n",
       "3               36.862241               6.118189   \n",
       "4               34.347666               5.663707   \n",
       "\n",
       "   rougher.input.floatbank10_sulfate  rougher.input.floatbank10_xanthate  \\\n",
       "0                          11.986616                            6.007990   \n",
       "1                          11.971193                            6.005766   \n",
       "2                          11.920603                            6.197377   \n",
       "3                          11.630094                            6.203177   \n",
       "4                          10.957755                            6.198826   \n",
       "\n",
       "   rougher.input.floatbank11_sulfate  rougher.input.floatbank11_xanthate  \\\n",
       "0                          11.836743                            6.005818   \n",
       "1                          11.996163                            6.012594   \n",
       "2                          11.920305                            6.204633   \n",
       "3                          11.692450                            6.196578   \n",
       "4                          10.960521                            6.194897   \n",
       "\n",
       "   rougher.output.concentrate_ag  rougher.output.concentrate_pb  \\\n",
       "0                      11.500771                       7.101074   \n",
       "1                      11.615865                       7.278807   \n",
       "2                      11.695753                       7.216833   \n",
       "3                      11.915047                       7.175616   \n",
       "4                      12.411054                       7.240205   \n",
       "\n",
       "   rougher.output.concentrate_sol  rougher.output.concentrate_au  \\\n",
       "0                       28.029297                      19.793808   \n",
       "1                       28.067063                      20.050975   \n",
       "2                       27.454037                      19.737170   \n",
       "3                       27.341277                      19.320810   \n",
       "4                       27.041023                      19.216101   \n",
       "\n",
       "   rougher.output.recovery  rougher.output.tail_ag  rougher.output.tail_pb  \\\n",
       "0                87.107763                5.008018                0.508728   \n",
       "1                86.843261                4.955378                0.536689   \n",
       "2                86.842308                4.843460                0.546416   \n",
       "3                87.226430                4.655288                0.542525   \n",
       "4                86.688794                4.552800                0.515438   \n",
       "\n",
       "   rougher.output.tail_sol  rougher.output.tail_au  \\\n",
       "0                19.154297                1.170244   \n",
       "1                18.965234                1.184827   \n",
       "2                18.808533                1.162562   \n",
       "3                19.330200                1.079755   \n",
       "4                19.267422                1.012642   \n",
       "\n",
       "   rougher.state.floatbank10_a_air  rougher.state.floatbank10_a_level  \\\n",
       "0                       999.706909                        -404.066986   \n",
       "1                      1000.286398                        -400.065196   \n",
       "2                       999.719565                        -400.074028   \n",
       "3                       999.814770                        -400.200179   \n",
       "4                       999.678690                        -399.752729   \n",
       "\n",
       "   rougher.state.floatbank10_b_air  rougher.state.floatbank10_b_level  \\\n",
       "0                      1603.011353                        -434.715027   \n",
       "1                      1600.754587                        -449.953435   \n",
       "2                      1599.337330                        -450.008530   \n",
       "3                      1600.059442                        -450.619948   \n",
       "4                      1600.208824                        -449.599614   \n",
       "\n",
       "   rougher.state.floatbank10_c_air  rougher.state.floatbank10_c_level  \\\n",
       "0                      1602.375000                        -442.204468   \n",
       "1                      1600.479580                        -449.830646   \n",
       "2                      1599.672797                        -449.954491   \n",
       "3                      1600.012842                        -449.910497   \n",
       "4                      1600.357732                        -450.034364   \n",
       "\n",
       "   rougher.state.floatbank10_d_air  rougher.state.floatbank10_d_level  \\\n",
       "0                      1598.937256                        -451.294128   \n",
       "1                      1600.527589                        -449.953649   \n",
       "2                      1599.849325                        -449.954185   \n",
       "3                      1597.725177                        -450.130127   \n",
       "4                      1599.759049                        -449.909799   \n",
       "\n",
       "   rougher.state.floatbank10_e_air  rougher.state.floatbank10_e_level  \\\n",
       "0                      1404.472046                        -455.462982   \n",
       "1                      1399.227084                        -450.869848   \n",
       "2                      1399.180945                        -449.937588   \n",
       "3                      1400.943157                        -450.030142   \n",
       "4                      1401.560902                        -448.877187   \n",
       "\n",
       "   rougher.state.floatbank10_f_air  rougher.state.floatbank10_f_level  \\\n",
       "0                      1416.354980                        -451.939636   \n",
       "1                      1399.719514                        -450.119001   \n",
       "2                      1400.316682                        -450.527147   \n",
       "3                      1400.234743                        -449.790835   \n",
       "4                      1401.160227                        -450.407128   \n",
       "\n",
       "   secondary_cleaner.output.tail_ag  secondary_cleaner.output.tail_pb  \\\n",
       "0                         14.500184                          4.694824   \n",
       "1                         14.265474                          4.592547   \n",
       "2                         14.115662                          4.624775   \n",
       "3                         13.732071                          4.482453   \n",
       "4                         14.079996                          4.470737   \n",
       "\n",
       "   secondary_cleaner.output.tail_sol  secondary_cleaner.output.tail_au  \\\n",
       "0                           8.764648                          2.606185   \n",
       "1                           9.001494                          2.488248   \n",
       "2                           8.842896                          2.458187   \n",
       "3                           9.122857                          2.322062   \n",
       "4                           8.871028                          2.330448   \n",
       "\n",
       "   secondary_cleaner.state.floatbank2_a_air  \\\n",
       "0                                 25.853109   \n",
       "1                                 25.880539   \n",
       "2                                 26.005245   \n",
       "3                                 25.942508   \n",
       "4                                 26.024787   \n",
       "\n",
       "   secondary_cleaner.state.floatbank2_a_level  \\\n",
       "0                                 -498.526489   \n",
       "1                                 -499.989656   \n",
       "2                                 -499.929616   \n",
       "3                                 -499.176749   \n",
       "4                                 -500.279091   \n",
       "\n",
       "   secondary_cleaner.state.floatbank2_b_air  \\\n",
       "0                                 23.893660   \n",
       "1                                 23.889530   \n",
       "2                                 23.886657   \n",
       "3                                 23.955516   \n",
       "4                                 23.955345   \n",
       "\n",
       "   secondary_cleaner.state.floatbank2_b_level  \\\n",
       "0                                 -501.406281   \n",
       "1                                 -500.372428   \n",
       "2                                 -499.951928   \n",
       "3                                 -499.848796   \n",
       "4                                 -500.593614   \n",
       "\n",
       "   secondary_cleaner.state.floatbank3_a_air  \\\n",
       "0                                 23.961798   \n",
       "1                                 23.970550   \n",
       "2                                 23.913535   \n",
       "3                                 23.966838   \n",
       "4                                 23.985703   \n",
       "\n",
       "   secondary_cleaner.state.floatbank3_a_level  \\\n",
       "0                                 -495.262817   \n",
       "1                                 -500.085473   \n",
       "2                                 -499.442343   \n",
       "3                                 -500.008812   \n",
       "4                                 -500.083811   \n",
       "\n",
       "   secondary_cleaner.state.floatbank3_b_air  \\\n",
       "0                                 21.940409   \n",
       "1                                 22.085714   \n",
       "2                                 23.957717   \n",
       "3                                 23.954443   \n",
       "4                                 23.958945   \n",
       "\n",
       "   secondary_cleaner.state.floatbank3_b_level  \\\n",
       "0                                 -499.340973   \n",
       "1                                 -499.446897   \n",
       "2                                 -499.901982   \n",
       "3                                 -499.944710   \n",
       "4                                 -499.990309   \n",
       "\n",
       "   secondary_cleaner.state.floatbank4_a_air  \\\n",
       "0                                 14.016835   \n",
       "1                                 13.992281   \n",
       "2                                 14.015015   \n",
       "3                                 14.036510   \n",
       "4                                 14.027298   \n",
       "\n",
       "   secondary_cleaner.state.floatbank4_a_level  \\\n",
       "0                                 -502.488007   \n",
       "1                                 -505.503262   \n",
       "2                                 -502.520901   \n",
       "3                                 -500.857308   \n",
       "4                                 -499.838632   \n",
       "\n",
       "   secondary_cleaner.state.floatbank4_b_air  \\\n",
       "0                                 12.099931   \n",
       "1                                 11.950531   \n",
       "2                                 11.912783   \n",
       "3                                 11.999550   \n",
       "4                                 11.953070   \n",
       "\n",
       "   secondary_cleaner.state.floatbank4_b_level  \\\n",
       "0                                 -504.715942   \n",
       "1                                 -501.331529   \n",
       "2                                 -501.133383   \n",
       "3                                 -501.193686   \n",
       "4                                 -501.053894   \n",
       "\n",
       "   secondary_cleaner.state.floatbank5_a_air  \\\n",
       "0                                  9.925633   \n",
       "1                                 10.039245   \n",
       "2                                 10.070913   \n",
       "3                                  9.970366   \n",
       "4                                  9.925709   \n",
       "\n",
       "   secondary_cleaner.state.floatbank5_a_level  \\\n",
       "0                                 -498.310211   \n",
       "1                                 -500.169983   \n",
       "2                                 -500.129135   \n",
       "3                                 -499.201640   \n",
       "4                                 -501.686727   \n",
       "\n",
       "   secondary_cleaner.state.floatbank5_b_air  \\\n",
       "0                                  8.079666   \n",
       "1                                  7.984757   \n",
       "2                                  8.013877   \n",
       "3                                  7.977324   \n",
       "4                                  7.894242   \n",
       "\n",
       "   secondary_cleaner.state.floatbank5_b_level  \\\n",
       "0                                 -500.470978   \n",
       "1                                 -500.582168   \n",
       "2                                 -500.517572   \n",
       "3                                 -500.255908   \n",
       "4                                 -500.356035   \n",
       "\n",
       "   secondary_cleaner.state.floatbank6_a_air  \\\n",
       "0                                 14.151341   \n",
       "1                                 13.998353   \n",
       "2                                 14.028663   \n",
       "3                                 14.005551   \n",
       "4                                 13.996647   \n",
       "\n",
       "   secondary_cleaner.state.floatbank6_a_level  \n",
       "0                                 -605.841980  \n",
       "1                                 -599.787184  \n",
       "2                                 -601.427363  \n",
       "3                                 -599.996129  \n",
       "4                                 -601.496691  "
      ]
     },
     "metadata": {},
     "output_type": "display_data"
    },
    {
     "name": "stdout",
     "output_type": "stream",
     "text": [
      "<class 'pandas.core.frame.DataFrame'>\n",
      "RangeIndex: 14149 entries, 0 to 14148\n",
      "Data columns (total 87 columns):\n",
      " #   Column                                              Non-Null Count  Dtype  \n",
      "---  ------                                              --------------  -----  \n",
      " 0   date                                                14149 non-null  object \n",
      " 1   final.output.concentrate_ag                         14148 non-null  float64\n",
      " 2   final.output.concentrate_pb                         14148 non-null  float64\n",
      " 3   final.output.concentrate_sol                        13938 non-null  float64\n",
      " 4   final.output.concentrate_au                         14149 non-null  float64\n",
      " 5   final.output.recovery                               14149 non-null  float64\n",
      " 6   final.output.tail_ag                                14149 non-null  float64\n",
      " 7   final.output.tail_pb                                14049 non-null  float64\n",
      " 8   final.output.tail_sol                               14144 non-null  float64\n",
      " 9   final.output.tail_au                                14149 non-null  float64\n",
      " 10  primary_cleaner.input.sulfate                       14129 non-null  float64\n",
      " 11  primary_cleaner.input.depressant                    14117 non-null  float64\n",
      " 12  primary_cleaner.input.feed_size                     14149 non-null  float64\n",
      " 13  primary_cleaner.input.xanthate                      14049 non-null  float64\n",
      " 14  primary_cleaner.output.concentrate_ag               14149 non-null  float64\n",
      " 15  primary_cleaner.output.concentrate_pb               14063 non-null  float64\n",
      " 16  primary_cleaner.output.concentrate_sol              13863 non-null  float64\n",
      " 17  primary_cleaner.output.concentrate_au               14149 non-null  float64\n",
      " 18  primary_cleaner.output.tail_ag                      14148 non-null  float64\n",
      " 19  primary_cleaner.output.tail_pb                      14134 non-null  float64\n",
      " 20  primary_cleaner.output.tail_sol                     14103 non-null  float64\n",
      " 21  primary_cleaner.output.tail_au                      14149 non-null  float64\n",
      " 22  primary_cleaner.state.floatbank8_a_air              14145 non-null  float64\n",
      " 23  primary_cleaner.state.floatbank8_a_level            14148 non-null  float64\n",
      " 24  primary_cleaner.state.floatbank8_b_air              14145 non-null  float64\n",
      " 25  primary_cleaner.state.floatbank8_b_level            14148 non-null  float64\n",
      " 26  primary_cleaner.state.floatbank8_c_air              14147 non-null  float64\n",
      " 27  primary_cleaner.state.floatbank8_c_level            14148 non-null  float64\n",
      " 28  primary_cleaner.state.floatbank8_d_air              14146 non-null  float64\n",
      " 29  primary_cleaner.state.floatbank8_d_level            14148 non-null  float64\n",
      " 30  rougher.calculation.sulfate_to_au_concentrate       14148 non-null  float64\n",
      " 31  rougher.calculation.floatbank10_sulfate_to_au_feed  14148 non-null  float64\n",
      " 32  rougher.calculation.floatbank11_sulfate_to_au_feed  14148 non-null  float64\n",
      " 33  rougher.calculation.au_pb_ratio                     14149 non-null  float64\n",
      " 34  rougher.input.feed_ag                               14149 non-null  float64\n",
      " 35  rougher.input.feed_pb                               14049 non-null  float64\n",
      " 36  rougher.input.feed_rate                             14141 non-null  float64\n",
      " 37  rougher.input.feed_size                             14005 non-null  float64\n",
      " 38  rougher.input.feed_sol                              14071 non-null  float64\n",
      " 39  rougher.input.feed_au                               14149 non-null  float64\n",
      " 40  rougher.input.floatbank10_sulfate                   14120 non-null  float64\n",
      " 41  rougher.input.floatbank10_xanthate                  14141 non-null  float64\n",
      " 42  rougher.input.floatbank11_sulfate                   14113 non-null  float64\n",
      " 43  rougher.input.floatbank11_xanthate                  13721 non-null  float64\n",
      " 44  rougher.output.concentrate_ag                       14149 non-null  float64\n",
      " 45  rougher.output.concentrate_pb                       14149 non-null  float64\n",
      " 46  rougher.output.concentrate_sol                      14127 non-null  float64\n",
      " 47  rougher.output.concentrate_au                       14149 non-null  float64\n",
      " 48  rougher.output.recovery                             14149 non-null  float64\n",
      " 49  rougher.output.tail_ag                              14148 non-null  float64\n",
      " 50  rougher.output.tail_pb                              14149 non-null  float64\n",
      " 51  rougher.output.tail_sol                             14149 non-null  float64\n",
      " 52  rougher.output.tail_au                              14149 non-null  float64\n",
      " 53  rougher.state.floatbank10_a_air                     14148 non-null  float64\n",
      " 54  rougher.state.floatbank10_a_level                   14148 non-null  float64\n",
      " 55  rougher.state.floatbank10_b_air                     14148 non-null  float64\n",
      " 56  rougher.state.floatbank10_b_level                   14148 non-null  float64\n",
      " 57  rougher.state.floatbank10_c_air                     14148 non-null  float64\n",
      " 58  rougher.state.floatbank10_c_level                   14148 non-null  float64\n",
      " 59  rougher.state.floatbank10_d_air                     14149 non-null  float64\n",
      " 60  rougher.state.floatbank10_d_level                   14149 non-null  float64\n",
      " 61  rougher.state.floatbank10_e_air                     13713 non-null  float64\n",
      " 62  rougher.state.floatbank10_e_level                   14149 non-null  float64\n",
      " 63  rougher.state.floatbank10_f_air                     14149 non-null  float64\n",
      " 64  rougher.state.floatbank10_f_level                   14149 non-null  float64\n",
      " 65  secondary_cleaner.output.tail_ag                    14147 non-null  float64\n",
      " 66  secondary_cleaner.output.tail_pb                    14139 non-null  float64\n",
      " 67  secondary_cleaner.output.tail_sol                   12544 non-null  float64\n",
      " 68  secondary_cleaner.output.tail_au                    14149 non-null  float64\n",
      " 69  secondary_cleaner.state.floatbank2_a_air            13932 non-null  float64\n",
      " 70  secondary_cleaner.state.floatbank2_a_level          14148 non-null  float64\n",
      " 71  secondary_cleaner.state.floatbank2_b_air            14128 non-null  float64\n",
      " 72  secondary_cleaner.state.floatbank2_b_level          14148 non-null  float64\n",
      " 73  secondary_cleaner.state.floatbank3_a_air            14145 non-null  float64\n",
      " 74  secondary_cleaner.state.floatbank3_a_level          14148 non-null  float64\n",
      " 75  secondary_cleaner.state.floatbank3_b_air            14148 non-null  float64\n",
      " 76  secondary_cleaner.state.floatbank3_b_level          14148 non-null  float64\n",
      " 77  secondary_cleaner.state.floatbank4_a_air            14143 non-null  float64\n",
      " 78  secondary_cleaner.state.floatbank4_a_level          14148 non-null  float64\n",
      " 79  secondary_cleaner.state.floatbank4_b_air            14148 non-null  float64\n",
      " 80  secondary_cleaner.state.floatbank4_b_level          14148 non-null  float64\n",
      " 81  secondary_cleaner.state.floatbank5_a_air            14148 non-null  float64\n",
      " 82  secondary_cleaner.state.floatbank5_a_level          14148 non-null  float64\n",
      " 83  secondary_cleaner.state.floatbank5_b_air            14148 non-null  float64\n",
      " 84  secondary_cleaner.state.floatbank5_b_level          14148 non-null  float64\n",
      " 85  secondary_cleaner.state.floatbank6_a_air            14147 non-null  float64\n",
      " 86  secondary_cleaner.state.floatbank6_a_level          14148 non-null  float64\n",
      "dtypes: float64(86), object(1)\n",
      "memory usage: 9.4+ MB\n"
     ]
    },
    {
     "data": {
      "text/html": [
       "<div>\n",
       "<style scoped>\n",
       "    .dataframe tbody tr th:only-of-type {\n",
       "        vertical-align: middle;\n",
       "    }\n",
       "\n",
       "    .dataframe tbody tr th {\n",
       "        vertical-align: top;\n",
       "    }\n",
       "\n",
       "    .dataframe thead th {\n",
       "        text-align: right;\n",
       "    }\n",
       "</style>\n",
       "<table border=\"1\" class=\"dataframe\">\n",
       "  <thead>\n",
       "    <tr style=\"text-align: right;\">\n",
       "      <th></th>\n",
       "      <th>date</th>\n",
       "      <th>primary_cleaner.input.sulfate</th>\n",
       "      <th>primary_cleaner.input.depressant</th>\n",
       "      <th>primary_cleaner.input.feed_size</th>\n",
       "      <th>primary_cleaner.input.xanthate</th>\n",
       "      <th>primary_cleaner.state.floatbank8_a_air</th>\n",
       "      <th>primary_cleaner.state.floatbank8_a_level</th>\n",
       "      <th>primary_cleaner.state.floatbank8_b_air</th>\n",
       "      <th>primary_cleaner.state.floatbank8_b_level</th>\n",
       "      <th>primary_cleaner.state.floatbank8_c_air</th>\n",
       "      <th>primary_cleaner.state.floatbank8_c_level</th>\n",
       "      <th>primary_cleaner.state.floatbank8_d_air</th>\n",
       "      <th>primary_cleaner.state.floatbank8_d_level</th>\n",
       "      <th>rougher.input.feed_ag</th>\n",
       "      <th>rougher.input.feed_pb</th>\n",
       "      <th>rougher.input.feed_rate</th>\n",
       "      <th>rougher.input.feed_size</th>\n",
       "      <th>rougher.input.feed_sol</th>\n",
       "      <th>rougher.input.feed_au</th>\n",
       "      <th>rougher.input.floatbank10_sulfate</th>\n",
       "      <th>rougher.input.floatbank10_xanthate</th>\n",
       "      <th>rougher.input.floatbank11_sulfate</th>\n",
       "      <th>rougher.input.floatbank11_xanthate</th>\n",
       "      <th>rougher.state.floatbank10_a_air</th>\n",
       "      <th>rougher.state.floatbank10_a_level</th>\n",
       "      <th>rougher.state.floatbank10_b_air</th>\n",
       "      <th>rougher.state.floatbank10_b_level</th>\n",
       "      <th>rougher.state.floatbank10_c_air</th>\n",
       "      <th>rougher.state.floatbank10_c_level</th>\n",
       "      <th>rougher.state.floatbank10_d_air</th>\n",
       "      <th>rougher.state.floatbank10_d_level</th>\n",
       "      <th>rougher.state.floatbank10_e_air</th>\n",
       "      <th>rougher.state.floatbank10_e_level</th>\n",
       "      <th>rougher.state.floatbank10_f_air</th>\n",
       "      <th>rougher.state.floatbank10_f_level</th>\n",
       "      <th>secondary_cleaner.state.floatbank2_a_air</th>\n",
       "      <th>secondary_cleaner.state.floatbank2_a_level</th>\n",
       "      <th>secondary_cleaner.state.floatbank2_b_air</th>\n",
       "      <th>secondary_cleaner.state.floatbank2_b_level</th>\n",
       "      <th>secondary_cleaner.state.floatbank3_a_air</th>\n",
       "      <th>secondary_cleaner.state.floatbank3_a_level</th>\n",
       "      <th>secondary_cleaner.state.floatbank3_b_air</th>\n",
       "      <th>secondary_cleaner.state.floatbank3_b_level</th>\n",
       "      <th>secondary_cleaner.state.floatbank4_a_air</th>\n",
       "      <th>secondary_cleaner.state.floatbank4_a_level</th>\n",
       "      <th>secondary_cleaner.state.floatbank4_b_air</th>\n",
       "      <th>secondary_cleaner.state.floatbank4_b_level</th>\n",
       "      <th>secondary_cleaner.state.floatbank5_a_air</th>\n",
       "      <th>secondary_cleaner.state.floatbank5_a_level</th>\n",
       "      <th>secondary_cleaner.state.floatbank5_b_air</th>\n",
       "      <th>secondary_cleaner.state.floatbank5_b_level</th>\n",
       "      <th>secondary_cleaner.state.floatbank6_a_air</th>\n",
       "      <th>secondary_cleaner.state.floatbank6_a_level</th>\n",
       "    </tr>\n",
       "  </thead>\n",
       "  <tbody>\n",
       "    <tr>\n",
       "      <th>0</th>\n",
       "      <td>2016-09-01 00:59:59</td>\n",
       "      <td>210.800909</td>\n",
       "      <td>14.993118</td>\n",
       "      <td>8.080000</td>\n",
       "      <td>1.005021</td>\n",
       "      <td>1398.981301</td>\n",
       "      <td>-500.225577</td>\n",
       "      <td>1399.144926</td>\n",
       "      <td>-499.919735</td>\n",
       "      <td>1400.102998</td>\n",
       "      <td>-500.704369</td>\n",
       "      <td>1399.001695</td>\n",
       "      <td>-499.485144</td>\n",
       "      <td>13.128569</td>\n",
       "      <td>5.636710</td>\n",
       "      <td>489.793655</td>\n",
       "      <td>62.710452</td>\n",
       "      <td>42.022440</td>\n",
       "      <td>12.084103</td>\n",
       "      <td>16.922877</td>\n",
       "      <td>6.153479</td>\n",
       "      <td>16.867518</td>\n",
       "      <td>6.150709</td>\n",
       "      <td>1001.849317</td>\n",
       "      <td>-350.301265</td>\n",
       "      <td>1249.738612</td>\n",
       "      <td>-399.107531</td>\n",
       "      <td>1249.750520</td>\n",
       "      <td>-399.396730</td>\n",
       "      <td>1198.287855</td>\n",
       "      <td>-399.488594</td>\n",
       "      <td>999.472250</td>\n",
       "      <td>-399.530962</td>\n",
       "      <td>949.566189</td>\n",
       "      <td>-398.180807</td>\n",
       "      <td>24.938200</td>\n",
       "      <td>-500.490963</td>\n",
       "      <td>14.947607</td>\n",
       "      <td>-500.013837</td>\n",
       "      <td>20.018166</td>\n",
       "      <td>-450.395995</td>\n",
       "      <td>13.987058</td>\n",
       "      <td>-449.831513</td>\n",
       "      <td>12.023554</td>\n",
       "      <td>-497.795834</td>\n",
       "      <td>8.016656</td>\n",
       "      <td>-501.289139</td>\n",
       "      <td>7.946562</td>\n",
       "      <td>-432.317850</td>\n",
       "      <td>4.872511</td>\n",
       "      <td>-500.037437</td>\n",
       "      <td>26.705889</td>\n",
       "      <td>-499.709414</td>\n",
       "    </tr>\n",
       "    <tr>\n",
       "      <th>1</th>\n",
       "      <td>2016-09-01 01:59:59</td>\n",
       "      <td>215.392455</td>\n",
       "      <td>14.987471</td>\n",
       "      <td>8.080000</td>\n",
       "      <td>0.990469</td>\n",
       "      <td>1398.777912</td>\n",
       "      <td>-500.057435</td>\n",
       "      <td>1398.055362</td>\n",
       "      <td>-499.778182</td>\n",
       "      <td>1396.151033</td>\n",
       "      <td>-499.240168</td>\n",
       "      <td>1399.508091</td>\n",
       "      <td>-500.416324</td>\n",
       "      <td>13.036280</td>\n",
       "      <td>5.526065</td>\n",
       "      <td>490.104534</td>\n",
       "      <td>61.961163</td>\n",
       "      <td>41.187903</td>\n",
       "      <td>11.918977</td>\n",
       "      <td>17.002532</td>\n",
       "      <td>5.999043</td>\n",
       "      <td>16.996063</td>\n",
       "      <td>6.002315</td>\n",
       "      <td>998.690785</td>\n",
       "      <td>-350.425704</td>\n",
       "      <td>1248.395457</td>\n",
       "      <td>-399.946025</td>\n",
       "      <td>1249.514451</td>\n",
       "      <td>-399.630810</td>\n",
       "      <td>1200.506459</td>\n",
       "      <td>-399.942434</td>\n",
       "      <td>1000.002114</td>\n",
       "      <td>-399.491528</td>\n",
       "      <td>950.200009</td>\n",
       "      <td>-405.787514</td>\n",
       "      <td>24.923466</td>\n",
       "      <td>-499.813963</td>\n",
       "      <td>14.930873</td>\n",
       "      <td>-500.764452</td>\n",
       "      <td>19.988503</td>\n",
       "      <td>-450.114024</td>\n",
       "      <td>14.092981</td>\n",
       "      <td>-450.059163</td>\n",
       "      <td>12.058140</td>\n",
       "      <td>-498.695773</td>\n",
       "      <td>8.130979</td>\n",
       "      <td>-499.634209</td>\n",
       "      <td>7.958270</td>\n",
       "      <td>-525.839648</td>\n",
       "      <td>4.878850</td>\n",
       "      <td>-500.162375</td>\n",
       "      <td>25.019940</td>\n",
       "      <td>-499.819438</td>\n",
       "    </tr>\n",
       "    <tr>\n",
       "      <th>2</th>\n",
       "      <td>2016-09-01 02:59:59</td>\n",
       "      <td>215.259946</td>\n",
       "      <td>12.884934</td>\n",
       "      <td>7.786667</td>\n",
       "      <td>0.996043</td>\n",
       "      <td>1398.493666</td>\n",
       "      <td>-500.868360</td>\n",
       "      <td>1398.860436</td>\n",
       "      <td>-499.764529</td>\n",
       "      <td>1398.075709</td>\n",
       "      <td>-502.151509</td>\n",
       "      <td>1399.497088</td>\n",
       "      <td>-499.715479</td>\n",
       "      <td>13.138412</td>\n",
       "      <td>5.426561</td>\n",
       "      <td>489.617969</td>\n",
       "      <td>66.903807</td>\n",
       "      <td>42.546294</td>\n",
       "      <td>12.091332</td>\n",
       "      <td>16.992520</td>\n",
       "      <td>5.850632</td>\n",
       "      <td>16.982096</td>\n",
       "      <td>5.853594</td>\n",
       "      <td>998.516720</td>\n",
       "      <td>-349.783538</td>\n",
       "      <td>1247.440748</td>\n",
       "      <td>-400.264330</td>\n",
       "      <td>1248.207204</td>\n",
       "      <td>-401.074405</td>\n",
       "      <td>1199.770026</td>\n",
       "      <td>-400.790582</td>\n",
       "      <td>999.925519</td>\n",
       "      <td>-399.236999</td>\n",
       "      <td>950.320481</td>\n",
       "      <td>-400.864340</td>\n",
       "      <td>24.908732</td>\n",
       "      <td>-500.304035</td>\n",
       "      <td>14.996511</td>\n",
       "      <td>-500.993821</td>\n",
       "      <td>20.039689</td>\n",
       "      <td>-450.263164</td>\n",
       "      <td>14.077881</td>\n",
       "      <td>-449.660997</td>\n",
       "      <td>11.962366</td>\n",
       "      <td>-498.767484</td>\n",
       "      <td>8.096893</td>\n",
       "      <td>-500.827423</td>\n",
       "      <td>8.071056</td>\n",
       "      <td>-500.801673</td>\n",
       "      <td>4.905125</td>\n",
       "      <td>-499.828510</td>\n",
       "      <td>24.994862</td>\n",
       "      <td>-500.622559</td>\n",
       "    </tr>\n",
       "    <tr>\n",
       "      <th>3</th>\n",
       "      <td>2016-09-01 03:59:59</td>\n",
       "      <td>215.336236</td>\n",
       "      <td>12.006805</td>\n",
       "      <td>7.640000</td>\n",
       "      <td>0.863514</td>\n",
       "      <td>1399.618111</td>\n",
       "      <td>-498.863574</td>\n",
       "      <td>1397.440120</td>\n",
       "      <td>-499.211024</td>\n",
       "      <td>1400.129303</td>\n",
       "      <td>-498.355873</td>\n",
       "      <td>1401.065165</td>\n",
       "      <td>-501.038738</td>\n",
       "      <td>12.400507</td>\n",
       "      <td>5.114758</td>\n",
       "      <td>476.618130</td>\n",
       "      <td>59.865919</td>\n",
       "      <td>41.060195</td>\n",
       "      <td>12.181597</td>\n",
       "      <td>16.532144</td>\n",
       "      <td>5.801935</td>\n",
       "      <td>16.515277</td>\n",
       "      <td>5.803657</td>\n",
       "      <td>1000.276604</td>\n",
       "      <td>-350.172597</td>\n",
       "      <td>1251.322675</td>\n",
       "      <td>-398.655289</td>\n",
       "      <td>1250.493702</td>\n",
       "      <td>-399.746728</td>\n",
       "      <td>1199.398691</td>\n",
       "      <td>-397.503052</td>\n",
       "      <td>1001.930679</td>\n",
       "      <td>-400.437573</td>\n",
       "      <td>950.735324</td>\n",
       "      <td>-399.802986</td>\n",
       "      <td>24.893998</td>\n",
       "      <td>-499.382374</td>\n",
       "      <td>14.916674</td>\n",
       "      <td>-499.862299</td>\n",
       "      <td>20.031100</td>\n",
       "      <td>-449.372570</td>\n",
       "      <td>14.013968</td>\n",
       "      <td>-449.526900</td>\n",
       "      <td>12.033091</td>\n",
       "      <td>-498.350935</td>\n",
       "      <td>8.074946</td>\n",
       "      <td>-499.474407</td>\n",
       "      <td>7.897085</td>\n",
       "      <td>-500.868509</td>\n",
       "      <td>4.931400</td>\n",
       "      <td>-499.963623</td>\n",
       "      <td>24.948919</td>\n",
       "      <td>-498.709987</td>\n",
       "    </tr>\n",
       "    <tr>\n",
       "      <th>4</th>\n",
       "      <td>2016-09-01 04:59:59</td>\n",
       "      <td>199.099327</td>\n",
       "      <td>10.682530</td>\n",
       "      <td>7.530000</td>\n",
       "      <td>0.805575</td>\n",
       "      <td>1401.268123</td>\n",
       "      <td>-500.808305</td>\n",
       "      <td>1398.128818</td>\n",
       "      <td>-499.504543</td>\n",
       "      <td>1402.172226</td>\n",
       "      <td>-500.810606</td>\n",
       "      <td>1399.480508</td>\n",
       "      <td>-499.374053</td>\n",
       "      <td>11.327427</td>\n",
       "      <td>4.767383</td>\n",
       "      <td>488.248117</td>\n",
       "      <td>63.315324</td>\n",
       "      <td>41.269161</td>\n",
       "      <td>11.290425</td>\n",
       "      <td>13.607257</td>\n",
       "      <td>5.738081</td>\n",
       "      <td>13.650053</td>\n",
       "      <td>5.739634</td>\n",
       "      <td>996.541302</td>\n",
       "      <td>-350.562517</td>\n",
       "      <td>1304.658848</td>\n",
       "      <td>-399.511519</td>\n",
       "      <td>1306.455515</td>\n",
       "      <td>-399.050685</td>\n",
       "      <td>1248.699349</td>\n",
       "      <td>-400.876894</td>\n",
       "      <td>1058.839106</td>\n",
       "      <td>-398.988239</td>\n",
       "      <td>949.645313</td>\n",
       "      <td>-399.277632</td>\n",
       "      <td>24.886905</td>\n",
       "      <td>-499.357375</td>\n",
       "      <td>14.979233</td>\n",
       "      <td>-500.186804</td>\n",
       "      <td>19.962364</td>\n",
       "      <td>-450.638828</td>\n",
       "      <td>14.009245</td>\n",
       "      <td>-450.022259</td>\n",
       "      <td>12.025367</td>\n",
       "      <td>-500.786497</td>\n",
       "      <td>8.054678</td>\n",
       "      <td>-500.397500</td>\n",
       "      <td>8.107890</td>\n",
       "      <td>-509.526725</td>\n",
       "      <td>4.957674</td>\n",
       "      <td>-500.360026</td>\n",
       "      <td>25.003331</td>\n",
       "      <td>-500.856333</td>\n",
       "    </tr>\n",
       "  </tbody>\n",
       "</table>\n",
       "</div>"
      ],
      "text/plain": [
       "                  date  primary_cleaner.input.sulfate  \\\n",
       "0  2016-09-01 00:59:59                     210.800909   \n",
       "1  2016-09-01 01:59:59                     215.392455   \n",
       "2  2016-09-01 02:59:59                     215.259946   \n",
       "3  2016-09-01 03:59:59                     215.336236   \n",
       "4  2016-09-01 04:59:59                     199.099327   \n",
       "\n",
       "   primary_cleaner.input.depressant  primary_cleaner.input.feed_size  \\\n",
       "0                         14.993118                         8.080000   \n",
       "1                         14.987471                         8.080000   \n",
       "2                         12.884934                         7.786667   \n",
       "3                         12.006805                         7.640000   \n",
       "4                         10.682530                         7.530000   \n",
       "\n",
       "   primary_cleaner.input.xanthate  primary_cleaner.state.floatbank8_a_air  \\\n",
       "0                        1.005021                             1398.981301   \n",
       "1                        0.990469                             1398.777912   \n",
       "2                        0.996043                             1398.493666   \n",
       "3                        0.863514                             1399.618111   \n",
       "4                        0.805575                             1401.268123   \n",
       "\n",
       "   primary_cleaner.state.floatbank8_a_level  \\\n",
       "0                               -500.225577   \n",
       "1                               -500.057435   \n",
       "2                               -500.868360   \n",
       "3                               -498.863574   \n",
       "4                               -500.808305   \n",
       "\n",
       "   primary_cleaner.state.floatbank8_b_air  \\\n",
       "0                             1399.144926   \n",
       "1                             1398.055362   \n",
       "2                             1398.860436   \n",
       "3                             1397.440120   \n",
       "4                             1398.128818   \n",
       "\n",
       "   primary_cleaner.state.floatbank8_b_level  \\\n",
       "0                               -499.919735   \n",
       "1                               -499.778182   \n",
       "2                               -499.764529   \n",
       "3                               -499.211024   \n",
       "4                               -499.504543   \n",
       "\n",
       "   primary_cleaner.state.floatbank8_c_air  \\\n",
       "0                             1400.102998   \n",
       "1                             1396.151033   \n",
       "2                             1398.075709   \n",
       "3                             1400.129303   \n",
       "4                             1402.172226   \n",
       "\n",
       "   primary_cleaner.state.floatbank8_c_level  \\\n",
       "0                               -500.704369   \n",
       "1                               -499.240168   \n",
       "2                               -502.151509   \n",
       "3                               -498.355873   \n",
       "4                               -500.810606   \n",
       "\n",
       "   primary_cleaner.state.floatbank8_d_air  \\\n",
       "0                             1399.001695   \n",
       "1                             1399.508091   \n",
       "2                             1399.497088   \n",
       "3                             1401.065165   \n",
       "4                             1399.480508   \n",
       "\n",
       "   primary_cleaner.state.floatbank8_d_level  rougher.input.feed_ag  \\\n",
       "0                               -499.485144              13.128569   \n",
       "1                               -500.416324              13.036280   \n",
       "2                               -499.715479              13.138412   \n",
       "3                               -501.038738              12.400507   \n",
       "4                               -499.374053              11.327427   \n",
       "\n",
       "   rougher.input.feed_pb  rougher.input.feed_rate  rougher.input.feed_size  \\\n",
       "0               5.636710               489.793655                62.710452   \n",
       "1               5.526065               490.104534                61.961163   \n",
       "2               5.426561               489.617969                66.903807   \n",
       "3               5.114758               476.618130                59.865919   \n",
       "4               4.767383               488.248117                63.315324   \n",
       "\n",
       "   rougher.input.feed_sol  rougher.input.feed_au  \\\n",
       "0               42.022440              12.084103   \n",
       "1               41.187903              11.918977   \n",
       "2               42.546294              12.091332   \n",
       "3               41.060195              12.181597   \n",
       "4               41.269161              11.290425   \n",
       "\n",
       "   rougher.input.floatbank10_sulfate  rougher.input.floatbank10_xanthate  \\\n",
       "0                          16.922877                            6.153479   \n",
       "1                          17.002532                            5.999043   \n",
       "2                          16.992520                            5.850632   \n",
       "3                          16.532144                            5.801935   \n",
       "4                          13.607257                            5.738081   \n",
       "\n",
       "   rougher.input.floatbank11_sulfate  rougher.input.floatbank11_xanthate  \\\n",
       "0                          16.867518                            6.150709   \n",
       "1                          16.996063                            6.002315   \n",
       "2                          16.982096                            5.853594   \n",
       "3                          16.515277                            5.803657   \n",
       "4                          13.650053                            5.739634   \n",
       "\n",
       "   rougher.state.floatbank10_a_air  rougher.state.floatbank10_a_level  \\\n",
       "0                      1001.849317                        -350.301265   \n",
       "1                       998.690785                        -350.425704   \n",
       "2                       998.516720                        -349.783538   \n",
       "3                      1000.276604                        -350.172597   \n",
       "4                       996.541302                        -350.562517   \n",
       "\n",
       "   rougher.state.floatbank10_b_air  rougher.state.floatbank10_b_level  \\\n",
       "0                      1249.738612                        -399.107531   \n",
       "1                      1248.395457                        -399.946025   \n",
       "2                      1247.440748                        -400.264330   \n",
       "3                      1251.322675                        -398.655289   \n",
       "4                      1304.658848                        -399.511519   \n",
       "\n",
       "   rougher.state.floatbank10_c_air  rougher.state.floatbank10_c_level  \\\n",
       "0                      1249.750520                        -399.396730   \n",
       "1                      1249.514451                        -399.630810   \n",
       "2                      1248.207204                        -401.074405   \n",
       "3                      1250.493702                        -399.746728   \n",
       "4                      1306.455515                        -399.050685   \n",
       "\n",
       "   rougher.state.floatbank10_d_air  rougher.state.floatbank10_d_level  \\\n",
       "0                      1198.287855                        -399.488594   \n",
       "1                      1200.506459                        -399.942434   \n",
       "2                      1199.770026                        -400.790582   \n",
       "3                      1199.398691                        -397.503052   \n",
       "4                      1248.699349                        -400.876894   \n",
       "\n",
       "   rougher.state.floatbank10_e_air  rougher.state.floatbank10_e_level  \\\n",
       "0                       999.472250                        -399.530962   \n",
       "1                      1000.002114                        -399.491528   \n",
       "2                       999.925519                        -399.236999   \n",
       "3                      1001.930679                        -400.437573   \n",
       "4                      1058.839106                        -398.988239   \n",
       "\n",
       "   rougher.state.floatbank10_f_air  rougher.state.floatbank10_f_level  \\\n",
       "0                       949.566189                        -398.180807   \n",
       "1                       950.200009                        -405.787514   \n",
       "2                       950.320481                        -400.864340   \n",
       "3                       950.735324                        -399.802986   \n",
       "4                       949.645313                        -399.277632   \n",
       "\n",
       "   secondary_cleaner.state.floatbank2_a_air  \\\n",
       "0                                 24.938200   \n",
       "1                                 24.923466   \n",
       "2                                 24.908732   \n",
       "3                                 24.893998   \n",
       "4                                 24.886905   \n",
       "\n",
       "   secondary_cleaner.state.floatbank2_a_level  \\\n",
       "0                                 -500.490963   \n",
       "1                                 -499.813963   \n",
       "2                                 -500.304035   \n",
       "3                                 -499.382374   \n",
       "4                                 -499.357375   \n",
       "\n",
       "   secondary_cleaner.state.floatbank2_b_air  \\\n",
       "0                                 14.947607   \n",
       "1                                 14.930873   \n",
       "2                                 14.996511   \n",
       "3                                 14.916674   \n",
       "4                                 14.979233   \n",
       "\n",
       "   secondary_cleaner.state.floatbank2_b_level  \\\n",
       "0                                 -500.013837   \n",
       "1                                 -500.764452   \n",
       "2                                 -500.993821   \n",
       "3                                 -499.862299   \n",
       "4                                 -500.186804   \n",
       "\n",
       "   secondary_cleaner.state.floatbank3_a_air  \\\n",
       "0                                 20.018166   \n",
       "1                                 19.988503   \n",
       "2                                 20.039689   \n",
       "3                                 20.031100   \n",
       "4                                 19.962364   \n",
       "\n",
       "   secondary_cleaner.state.floatbank3_a_level  \\\n",
       "0                                 -450.395995   \n",
       "1                                 -450.114024   \n",
       "2                                 -450.263164   \n",
       "3                                 -449.372570   \n",
       "4                                 -450.638828   \n",
       "\n",
       "   secondary_cleaner.state.floatbank3_b_air  \\\n",
       "0                                 13.987058   \n",
       "1                                 14.092981   \n",
       "2                                 14.077881   \n",
       "3                                 14.013968   \n",
       "4                                 14.009245   \n",
       "\n",
       "   secondary_cleaner.state.floatbank3_b_level  \\\n",
       "0                                 -449.831513   \n",
       "1                                 -450.059163   \n",
       "2                                 -449.660997   \n",
       "3                                 -449.526900   \n",
       "4                                 -450.022259   \n",
       "\n",
       "   secondary_cleaner.state.floatbank4_a_air  \\\n",
       "0                                 12.023554   \n",
       "1                                 12.058140   \n",
       "2                                 11.962366   \n",
       "3                                 12.033091   \n",
       "4                                 12.025367   \n",
       "\n",
       "   secondary_cleaner.state.floatbank4_a_level  \\\n",
       "0                                 -497.795834   \n",
       "1                                 -498.695773   \n",
       "2                                 -498.767484   \n",
       "3                                 -498.350935   \n",
       "4                                 -500.786497   \n",
       "\n",
       "   secondary_cleaner.state.floatbank4_b_air  \\\n",
       "0                                  8.016656   \n",
       "1                                  8.130979   \n",
       "2                                  8.096893   \n",
       "3                                  8.074946   \n",
       "4                                  8.054678   \n",
       "\n",
       "   secondary_cleaner.state.floatbank4_b_level  \\\n",
       "0                                 -501.289139   \n",
       "1                                 -499.634209   \n",
       "2                                 -500.827423   \n",
       "3                                 -499.474407   \n",
       "4                                 -500.397500   \n",
       "\n",
       "   secondary_cleaner.state.floatbank5_a_air  \\\n",
       "0                                  7.946562   \n",
       "1                                  7.958270   \n",
       "2                                  8.071056   \n",
       "3                                  7.897085   \n",
       "4                                  8.107890   \n",
       "\n",
       "   secondary_cleaner.state.floatbank5_a_level  \\\n",
       "0                                 -432.317850   \n",
       "1                                 -525.839648   \n",
       "2                                 -500.801673   \n",
       "3                                 -500.868509   \n",
       "4                                 -509.526725   \n",
       "\n",
       "   secondary_cleaner.state.floatbank5_b_air  \\\n",
       "0                                  4.872511   \n",
       "1                                  4.878850   \n",
       "2                                  4.905125   \n",
       "3                                  4.931400   \n",
       "4                                  4.957674   \n",
       "\n",
       "   secondary_cleaner.state.floatbank5_b_level  \\\n",
       "0                                 -500.037437   \n",
       "1                                 -500.162375   \n",
       "2                                 -499.828510   \n",
       "3                                 -499.963623   \n",
       "4                                 -500.360026   \n",
       "\n",
       "   secondary_cleaner.state.floatbank6_a_air  \\\n",
       "0                                 26.705889   \n",
       "1                                 25.019940   \n",
       "2                                 24.994862   \n",
       "3                                 24.948919   \n",
       "4                                 25.003331   \n",
       "\n",
       "   secondary_cleaner.state.floatbank6_a_level  \n",
       "0                                 -499.709414  \n",
       "1                                 -499.819438  \n",
       "2                                 -500.622559  \n",
       "3                                 -498.709987  \n",
       "4                                 -500.856333  "
      ]
     },
     "metadata": {},
     "output_type": "display_data"
    },
    {
     "name": "stdout",
     "output_type": "stream",
     "text": [
      "<class 'pandas.core.frame.DataFrame'>\n",
      "RangeIndex: 5290 entries, 0 to 5289\n",
      "Data columns (total 53 columns):\n",
      " #   Column                                      Non-Null Count  Dtype  \n",
      "---  ------                                      --------------  -----  \n",
      " 0   date                                        5290 non-null   object \n",
      " 1   primary_cleaner.input.sulfate               5286 non-null   float64\n",
      " 2   primary_cleaner.input.depressant            5285 non-null   float64\n",
      " 3   primary_cleaner.input.feed_size             5290 non-null   float64\n",
      " 4   primary_cleaner.input.xanthate              5286 non-null   float64\n",
      " 5   primary_cleaner.state.floatbank8_a_air      5290 non-null   float64\n",
      " 6   primary_cleaner.state.floatbank8_a_level    5290 non-null   float64\n",
      " 7   primary_cleaner.state.floatbank8_b_air      5290 non-null   float64\n",
      " 8   primary_cleaner.state.floatbank8_b_level    5290 non-null   float64\n",
      " 9   primary_cleaner.state.floatbank8_c_air      5290 non-null   float64\n",
      " 10  primary_cleaner.state.floatbank8_c_level    5290 non-null   float64\n",
      " 11  primary_cleaner.state.floatbank8_d_air      5290 non-null   float64\n",
      " 12  primary_cleaner.state.floatbank8_d_level    5290 non-null   float64\n",
      " 13  rougher.input.feed_ag                       5290 non-null   float64\n",
      " 14  rougher.input.feed_pb                       5290 non-null   float64\n",
      " 15  rougher.input.feed_rate                     5287 non-null   float64\n",
      " 16  rougher.input.feed_size                     5289 non-null   float64\n",
      " 17  rougher.input.feed_sol                      5269 non-null   float64\n",
      " 18  rougher.input.feed_au                       5290 non-null   float64\n",
      " 19  rougher.input.floatbank10_sulfate           5285 non-null   float64\n",
      " 20  rougher.input.floatbank10_xanthate          5290 non-null   float64\n",
      " 21  rougher.input.floatbank11_sulfate           5282 non-null   float64\n",
      " 22  rougher.input.floatbank11_xanthate          5265 non-null   float64\n",
      " 23  rougher.state.floatbank10_a_air             5290 non-null   float64\n",
      " 24  rougher.state.floatbank10_a_level           5290 non-null   float64\n",
      " 25  rougher.state.floatbank10_b_air             5290 non-null   float64\n",
      " 26  rougher.state.floatbank10_b_level           5290 non-null   float64\n",
      " 27  rougher.state.floatbank10_c_air             5290 non-null   float64\n",
      " 28  rougher.state.floatbank10_c_level           5290 non-null   float64\n",
      " 29  rougher.state.floatbank10_d_air             5290 non-null   float64\n",
      " 30  rougher.state.floatbank10_d_level           5290 non-null   float64\n",
      " 31  rougher.state.floatbank10_e_air             5290 non-null   float64\n",
      " 32  rougher.state.floatbank10_e_level           5290 non-null   float64\n",
      " 33  rougher.state.floatbank10_f_air             5290 non-null   float64\n",
      " 34  rougher.state.floatbank10_f_level           5290 non-null   float64\n",
      " 35  secondary_cleaner.state.floatbank2_a_air    5287 non-null   float64\n",
      " 36  secondary_cleaner.state.floatbank2_a_level  5290 non-null   float64\n",
      " 37  secondary_cleaner.state.floatbank2_b_air    5288 non-null   float64\n",
      " 38  secondary_cleaner.state.floatbank2_b_level  5290 non-null   float64\n",
      " 39  secondary_cleaner.state.floatbank3_a_air    5281 non-null   float64\n",
      " 40  secondary_cleaner.state.floatbank3_a_level  5290 non-null   float64\n",
      " 41  secondary_cleaner.state.floatbank3_b_air    5290 non-null   float64\n",
      " 42  secondary_cleaner.state.floatbank3_b_level  5290 non-null   float64\n",
      " 43  secondary_cleaner.state.floatbank4_a_air    5290 non-null   float64\n",
      " 44  secondary_cleaner.state.floatbank4_a_level  5290 non-null   float64\n",
      " 45  secondary_cleaner.state.floatbank4_b_air    5290 non-null   float64\n",
      " 46  secondary_cleaner.state.floatbank4_b_level  5290 non-null   float64\n",
      " 47  secondary_cleaner.state.floatbank5_a_air    5290 non-null   float64\n",
      " 48  secondary_cleaner.state.floatbank5_a_level  5290 non-null   float64\n",
      " 49  secondary_cleaner.state.floatbank5_b_air    5290 non-null   float64\n",
      " 50  secondary_cleaner.state.floatbank5_b_level  5290 non-null   float64\n",
      " 51  secondary_cleaner.state.floatbank6_a_air    5290 non-null   float64\n",
      " 52  secondary_cleaner.state.floatbank6_a_level  5290 non-null   float64\n",
      "dtypes: float64(52), object(1)\n",
      "memory usage: 2.1+ MB\n"
     ]
    }
   ],
   "source": [
    "for df in df_list:\n",
    "    display(df.head())\n",
    "    df.info()"
   ]
  },
  {
   "cell_type": "markdown",
   "metadata": {},
   "source": [
    "### Описание данных\n",
    "**Технологический процесс**\n",
    "* Rougher feed — исходное сырье\n",
    "* Rougher additions (или reagent additions) — флотационные реагенты: Xanthate, Sulphate, Depressant\n",
    "    * Xanthate **— ксантогенат (промотер, или активатор флотации);\n",
    "    * Sulphate — сульфат (на данном производстве сульфид натрия);\n",
    "    * Depressant — депрессант (силикат натрия).\n",
    "* Rougher process (англ. «грубый процесс») — флотация\n",
    "* Rougher tails — отвальные хвосты\n",
    "* Float banks — флотационная установка\n",
    "* Cleaner process — очистка\n",
    "* Rougher Au — черновой концентрат золота\n",
    "* Final Au — финальный концентрат золота"
   ]
  },
  {
   "cell_type": "markdown",
   "metadata": {},
   "source": [
    "**Параметры этапов**\n",
    "* air amount — объём воздуха\n",
    "* fluid levels — уровень жидкости\n",
    "* feed size — размер гранул сырья\n",
    "* feed rate — скорость подачи"
   ]
  },
  {
   "cell_type": "markdown",
   "metadata": {},
   "source": [
    "**Наименование признаков**\n",
    "\n",
    "Наименование признаков должно быть такое:\n",
    "\n",
    "`[этап]`.`[тип_параметра]`.`[название_параметра]`\n",
    "\n",
    "Пример: *rougher.input.feed_ag*\n",
    "\n",
    "**Возможные значения для блока** `[этап]`:\n",
    "* rougher — флотация\n",
    "* primary_cleaner — первичная очистка\n",
    "* secondary_cleaner — вторичная очистка\n",
    "* final — финальные характеристики\n",
    "\n",
    "**Возможные значения для блока** `[тип_параметра]`:\n",
    "* input — параметры сырья\n",
    "* output — параметры продукта\n",
    "* state — параметры, характеризующие текущее состояние этапа\n",
    "* calculation — расчётные характеристики"
   ]
  },
  {
   "cell_type": "markdown",
   "metadata": {},
   "source": [
    "### Расчет эффективности\n",
    "\n",
    "Проверьте, что эффективность обогащения рассчитана правильно. Вычислите её на обучающей выборке для признака `rougher.output.recovery.` Найдите MAE между вашими расчётами и значением признака. Опишите выводы."
   ]
  },
  {
   "cell_type": "code",
   "execution_count": 4,
   "metadata": {},
   "outputs": [],
   "source": [
    "# создаём функцию\n",
    "\n",
    "def output_recovery(C, F, T):\n",
    "    recovery = (C * (F - T)) / (F * (C - T)) * 100\n",
    "    return recovery"
   ]
  },
  {
   "cell_type": "markdown",
   "metadata": {},
   "source": [
    "где:\n",
    "* C — доля золота в концентрате после флотации/очистки;\n",
    "* F — доля золота в сырье/концентрате до флотации/очистки;\n",
    "* T — доля золота в отвальных хвостах после флотации/очистки"
   ]
  },
  {
   "cell_type": "code",
   "execution_count": 5,
   "metadata": {},
   "outputs": [
    {
     "name": "stderr",
     "output_type": "stream",
     "text": [
      "/tmp/ipykernel_114/1050454956.py:8: SettingWithCopyWarning: \n",
      "A value is trying to be set on a copy of a slice from a DataFrame.\n",
      "Try using .loc[row_indexer,col_indexer] = value instead\n",
      "\n",
      "See the caveats in the documentation: https://pandas.pydata.org/pandas-docs/stable/user_guide/indexing.html#returning-a-view-versus-a-copy\n",
      "  df_test_recovery['check_recovery'] = df_test_recovery.apply(\n"
     ]
    },
    {
     "data": {
      "text/html": [
       "<div>\n",
       "<style scoped>\n",
       "    .dataframe tbody tr th:only-of-type {\n",
       "        vertical-align: middle;\n",
       "    }\n",
       "\n",
       "    .dataframe tbody tr th {\n",
       "        vertical-align: top;\n",
       "    }\n",
       "\n",
       "    .dataframe thead th {\n",
       "        text-align: right;\n",
       "    }\n",
       "</style>\n",
       "<table border=\"1\" class=\"dataframe\">\n",
       "  <thead>\n",
       "    <tr style=\"text-align: right;\">\n",
       "      <th></th>\n",
       "      <th>rougher.output.concentrate_au</th>\n",
       "      <th>rougher.input.feed_au</th>\n",
       "      <th>rougher.output.tail_au</th>\n",
       "      <th>rougher.output.recovery</th>\n",
       "      <th>check_recovery</th>\n",
       "    </tr>\n",
       "  </thead>\n",
       "  <tbody>\n",
       "    <tr>\n",
       "      <th>0</th>\n",
       "      <td>19.793808</td>\n",
       "      <td>6.486150</td>\n",
       "      <td>1.170244</td>\n",
       "      <td>87.107763</td>\n",
       "      <td>87.107763</td>\n",
       "    </tr>\n",
       "    <tr>\n",
       "      <th>1</th>\n",
       "      <td>20.050975</td>\n",
       "      <td>6.478583</td>\n",
       "      <td>1.184827</td>\n",
       "      <td>86.843261</td>\n",
       "      <td>86.843261</td>\n",
       "    </tr>\n",
       "    <tr>\n",
       "      <th>2</th>\n",
       "      <td>19.737170</td>\n",
       "      <td>6.362222</td>\n",
       "      <td>1.162562</td>\n",
       "      <td>86.842308</td>\n",
       "      <td>86.842308</td>\n",
       "    </tr>\n",
       "    <tr>\n",
       "      <th>3</th>\n",
       "      <td>19.320810</td>\n",
       "      <td>6.118189</td>\n",
       "      <td>1.079755</td>\n",
       "      <td>87.226430</td>\n",
       "      <td>87.226430</td>\n",
       "    </tr>\n",
       "    <tr>\n",
       "      <th>4</th>\n",
       "      <td>19.216101</td>\n",
       "      <td>5.663707</td>\n",
       "      <td>1.012642</td>\n",
       "      <td>86.688794</td>\n",
       "      <td>86.688794</td>\n",
       "    </tr>\n",
       "  </tbody>\n",
       "</table>\n",
       "</div>"
      ],
      "text/plain": [
       "   rougher.output.concentrate_au  rougher.input.feed_au  \\\n",
       "0                      19.793808               6.486150   \n",
       "1                      20.050975               6.478583   \n",
       "2                      19.737170               6.362222   \n",
       "3                      19.320810               6.118189   \n",
       "4                      19.216101               5.663707   \n",
       "\n",
       "   rougher.output.tail_au  rougher.output.recovery  check_recovery  \n",
       "0                1.170244                87.107763       87.107763  \n",
       "1                1.184827                86.843261       86.843261  \n",
       "2                1.162562                86.842308       86.842308  \n",
       "3                1.079755                87.226430       87.226430  \n",
       "4                1.012642                86.688794       86.688794  "
      ]
     },
     "execution_count": 5,
     "metadata": {},
     "output_type": "execute_result"
    }
   ],
   "source": [
    "# выведем необходимые расчеты в отдельный датафрейм\n",
    "df_test_recovery = df_train[['rougher.output.concentrate_au', \n",
    "                            'rougher.input.feed_au', \n",
    "                            'rougher.output.tail_au', \n",
    "                            'rougher.output.recovery']]\n",
    "\n",
    "# рассчитаем значение\n",
    "df_test_recovery['check_recovery'] = df_test_recovery.apply(\n",
    "    lambda row: output_recovery(row['rougher.output.concentrate_au'], \n",
    "                                row['rougher.input.feed_au'], \n",
    "                                row['rougher.output.tail_au']), \n",
    "    axis=1)\n",
    "\n",
    "# посмотрим таблицу\n",
    "df_test_recovery.head()"
   ]
  },
  {
   "cell_type": "code",
   "execution_count": 6,
   "metadata": {
    "scrolled": true
   },
   "outputs": [
    {
     "data": {
      "text/plain": [
       "0.0"
      ]
     },
     "execution_count": 6,
     "metadata": {},
     "output_type": "execute_result"
    }
   ],
   "source": [
    "# разделим на предсказания и целевой результат\n",
    "df_test_recovery_target = df_test_recovery['rougher.output.recovery']\n",
    "df_test_recovery_predictions = df_test_recovery['check_recovery']\n",
    "\n",
    "# рассчитаем MAE\n",
    "round(mean_absolute_error(\n",
    "    df_test_recovery_target, \n",
    "    df_test_recovery_predictions\n",
    "), 2)"
   ]
  },
  {
   "cell_type": "markdown",
   "metadata": {},
   "source": [
    "Среднее абсолютное отклонение - указывает на то, что исходный продукт может отличаться от фактического выведенного продукта.\n",
    "\n",
    "Средний MAE вышел 0.0. Значит все рассчитано абсолютно правильно.\n",
    "\n",
    "Рассмотрим далее признаки обогащения полезного ископаемого (далее - ПИ)"
   ]
  },
  {
   "cell_type": "markdown",
   "metadata": {},
   "source": [
    "### Анализ признаков тестовой выборки\n",
    "\n",
    "Проанализируйте признаки, недоступные в тестовой выборке. Что это за параметры? К какому типу относятся?\n",
    "\n",
    "Эти столбцы нужно будет убрать на обучающей выборке, потому следует их сохранить:"
   ]
  },
  {
   "cell_type": "code",
   "execution_count": 7,
   "metadata": {},
   "outputs": [
    {
     "data": {
      "text/plain": [
       "['date',\n",
       " 'final.output.concentrate_ag',\n",
       " 'final.output.concentrate_pb',\n",
       " 'final.output.concentrate_sol',\n",
       " 'final.output.concentrate_au',\n",
       " 'final.output.recovery',\n",
       " 'final.output.tail_ag',\n",
       " 'final.output.tail_pb',\n",
       " 'final.output.tail_sol',\n",
       " 'final.output.tail_au',\n",
       " 'primary_cleaner.output.concentrate_ag',\n",
       " 'primary_cleaner.output.concentrate_pb',\n",
       " 'primary_cleaner.output.concentrate_sol',\n",
       " 'primary_cleaner.output.concentrate_au',\n",
       " 'primary_cleaner.output.tail_ag',\n",
       " 'primary_cleaner.output.tail_pb',\n",
       " 'primary_cleaner.output.tail_sol',\n",
       " 'primary_cleaner.output.tail_au',\n",
       " 'rougher.calculation.sulfate_to_au_concentrate',\n",
       " 'rougher.calculation.floatbank10_sulfate_to_au_feed',\n",
       " 'rougher.calculation.floatbank11_sulfate_to_au_feed',\n",
       " 'rougher.calculation.au_pb_ratio',\n",
       " 'rougher.output.concentrate_ag',\n",
       " 'rougher.output.concentrate_pb',\n",
       " 'rougher.output.concentrate_sol',\n",
       " 'rougher.output.concentrate_au',\n",
       " 'rougher.output.recovery',\n",
       " 'rougher.output.tail_ag',\n",
       " 'rougher.output.tail_pb',\n",
       " 'rougher.output.tail_sol',\n",
       " 'rougher.output.tail_au',\n",
       " 'secondary_cleaner.output.tail_ag',\n",
       " 'secondary_cleaner.output.tail_pb',\n",
       " 'secondary_cleaner.output.tail_sol',\n",
       " 'secondary_cleaner.output.tail_au']"
      ]
     },
     "execution_count": 7,
     "metadata": {},
     "output_type": "execute_result"
    }
   ],
   "source": [
    "# создаём столбец и включаем в него столбец date\n",
    "columns_not_needed = ['date']\n",
    "\n",
    "# смотрит столбцы\n",
    "for col1 in df_full.columns:\n",
    "    if col1 not in df_test.columns:\n",
    "        columns_not_needed.append(col1)\n",
    "        \n",
    "columns_not_needed"
   ]
  },
  {
   "cell_type": "markdown",
   "metadata": {},
   "source": [
    "Рассмотрим недоступные строки:\n",
    "\n",
    "* `final.output.concentrate`, `final.output.recovery`, `final.output.tail` - финальные характеристики ПИ, и эффективность полного цикла обогащения\n",
    "* `primary_cleaner.output.concentrate`, `primary_cleaner.output.tail` - результаты первичной очистки\n",
    "* `rougher.calculation`, `rougher.output.concentrat`, `rougher.output.tail`, `rougher.output.recovery` - расчетные характеристики флотационных установок, концентрат и хвост от флотации, эффективность\n",
    "* `secondary_cleaner.output` - результаты вторичной очистки (количество продукта)\n",
    "\n",
    "Как видно из названий столбцов, их объединяет одно - это результаты обогащения ПИ. Тестовая выборка содержит в себе столбцы, которые являются исходными, то есть до начала обогащения. Именно с помощью этих данных мы должны создать модель, которая будет предсказывать эффективность будущей флотации."
   ]
  },
  {
   "cell_type": "markdown",
   "metadata": {},
   "source": [
    "### Предобработка данных\n",
    "\n",
    "Проведем предобработку данных:"
   ]
  },
  {
   "cell_type": "code",
   "execution_count": 8,
   "metadata": {},
   "outputs": [
    {
     "data": {
      "text/plain": [
       "0"
      ]
     },
     "metadata": {},
     "output_type": "display_data"
    },
    {
     "data": {
      "text/plain": [
       "0"
      ]
     },
     "metadata": {},
     "output_type": "display_data"
    },
    {
     "data": {
      "text/plain": [
       "0"
      ]
     },
     "metadata": {},
     "output_type": "display_data"
    }
   ],
   "source": [
    "for df in df_list:\n",
    "    display(df.duplicated().sum())"
   ]
  },
  {
   "cell_type": "markdown",
   "metadata": {},
   "source": [
    "Дубликатов в столбцах нет."
   ]
  },
  {
   "cell_type": "markdown",
   "metadata": {},
   "source": [
    "Проверим пропуски:"
   ]
  },
  {
   "cell_type": "code",
   "execution_count": 9,
   "metadata": {},
   "outputs": [
    {
     "data": {
      "text/plain": [
       "final.output.concentrate_ag                     1\n",
       "final.output.concentrate_pb                     1\n",
       "final.output.concentrate_sol                  211\n",
       "final.output.tail_ag                            1\n",
       "final.output.tail_pb                          101\n",
       "                                             ... \n",
       "secondary_cleaner.state.floatbank5_a_level      1\n",
       "secondary_cleaner.state.floatbank5_b_air        1\n",
       "secondary_cleaner.state.floatbank5_b_level      1\n",
       "secondary_cleaner.state.floatbank6_a_air        2\n",
       "secondary_cleaner.state.floatbank6_a_level      1\n",
       "Length: 63, dtype: int64"
      ]
     },
     "metadata": {},
     "output_type": "display_data"
    },
    {
     "data": {
      "text/plain": [
       "final.output.concentrate_ag                     1\n",
       "final.output.concentrate_pb                     1\n",
       "final.output.concentrate_sol                  211\n",
       "final.output.tail_pb                          100\n",
       "final.output.tail_sol                           5\n",
       "                                             ... \n",
       "secondary_cleaner.state.floatbank5_a_level      1\n",
       "secondary_cleaner.state.floatbank5_b_air        1\n",
       "secondary_cleaner.state.floatbank5_b_level      1\n",
       "secondary_cleaner.state.floatbank6_a_air        2\n",
       "secondary_cleaner.state.floatbank6_a_level      1\n",
       "Length: 62, dtype: int64"
      ]
     },
     "metadata": {},
     "output_type": "display_data"
    },
    {
     "data": {
      "text/plain": [
       "primary_cleaner.input.sulfate                4\n",
       "primary_cleaner.input.depressant             5\n",
       "primary_cleaner.input.xanthate               4\n",
       "rougher.input.feed_rate                      3\n",
       "rougher.input.feed_size                      1\n",
       "rougher.input.feed_sol                      21\n",
       "rougher.input.floatbank10_sulfate            5\n",
       "rougher.input.floatbank11_sulfate            8\n",
       "rougher.input.floatbank11_xanthate          25\n",
       "secondary_cleaner.state.floatbank2_a_air     3\n",
       "secondary_cleaner.state.floatbank2_b_air     2\n",
       "secondary_cleaner.state.floatbank3_a_air     9\n",
       "dtype: int64"
      ]
     },
     "metadata": {},
     "output_type": "display_data"
    }
   ],
   "source": [
    "for df in df_list:\n",
    "    display(df.isna().sum()[df.isna().sum() > 0])"
   ]
  },
  {
   "cell_type": "markdown",
   "metadata": {},
   "source": [
    "Есть несколько способов заполнить пропуски в данных:\n",
    "\n",
    "* заполнить пропуски рандомным значением по нормальному распределению в столбце или средним значением\n",
    "* как сказано в условии задачи - данные распределены по времени, значит их можно заполнить прошлым или будущим значением столбца\n",
    "* удалить строки с пропусками.\n",
    "\n",
    "Так как данные распределены по времени, при удалении строк - нить обогащения потеряется. Так же потеряется при заполнении их медианным или средним значением.\n",
    "\n",
    "Значит, стоит заполнить пропуски значением в прошлой или следующей строке.\n",
    "\n",
    "Заполним пропуски предыдущим значением, так как, возможно, этот параметр остался с предыдущего:"
   ]
  },
  {
   "cell_type": "markdown",
   "metadata": {},
   "source": [
    "Так как полный датасет содержит в себе остальные данные - заполним пропуски там и дополним датасеты:"
   ]
  },
  {
   "cell_type": "code",
   "execution_count": 10,
   "metadata": {
    "scrolled": true
   },
   "outputs": [
    {
     "data": {
      "text/html": [
       "<div>\n",
       "<style scoped>\n",
       "    .dataframe tbody tr th:only-of-type {\n",
       "        vertical-align: middle;\n",
       "    }\n",
       "\n",
       "    .dataframe tbody tr th {\n",
       "        vertical-align: top;\n",
       "    }\n",
       "\n",
       "    .dataframe thead th {\n",
       "        text-align: right;\n",
       "    }\n",
       "</style>\n",
       "<table border=\"1\" class=\"dataframe\">\n",
       "  <thead>\n",
       "    <tr style=\"text-align: right;\">\n",
       "      <th></th>\n",
       "      <th>date</th>\n",
       "      <th>final.output.concentrate_ag</th>\n",
       "      <th>final.output.concentrate_pb</th>\n",
       "      <th>final.output.concentrate_sol</th>\n",
       "      <th>final.output.concentrate_au</th>\n",
       "      <th>final.output.recovery</th>\n",
       "      <th>final.output.tail_ag</th>\n",
       "      <th>final.output.tail_pb</th>\n",
       "      <th>final.output.tail_sol</th>\n",
       "      <th>final.output.tail_au</th>\n",
       "      <th>primary_cleaner.input.sulfate</th>\n",
       "      <th>primary_cleaner.input.depressant</th>\n",
       "      <th>primary_cleaner.input.feed_size</th>\n",
       "      <th>primary_cleaner.input.xanthate</th>\n",
       "      <th>primary_cleaner.output.concentrate_ag</th>\n",
       "      <th>primary_cleaner.output.concentrate_pb</th>\n",
       "      <th>primary_cleaner.output.concentrate_sol</th>\n",
       "      <th>primary_cleaner.output.concentrate_au</th>\n",
       "      <th>primary_cleaner.output.tail_ag</th>\n",
       "      <th>primary_cleaner.output.tail_pb</th>\n",
       "      <th>primary_cleaner.output.tail_sol</th>\n",
       "      <th>primary_cleaner.output.tail_au</th>\n",
       "      <th>primary_cleaner.state.floatbank8_a_air</th>\n",
       "      <th>primary_cleaner.state.floatbank8_a_level</th>\n",
       "      <th>primary_cleaner.state.floatbank8_b_air</th>\n",
       "      <th>primary_cleaner.state.floatbank8_b_level</th>\n",
       "      <th>primary_cleaner.state.floatbank8_c_air</th>\n",
       "      <th>primary_cleaner.state.floatbank8_c_level</th>\n",
       "      <th>primary_cleaner.state.floatbank8_d_air</th>\n",
       "      <th>primary_cleaner.state.floatbank8_d_level</th>\n",
       "      <th>rougher.calculation.sulfate_to_au_concentrate</th>\n",
       "      <th>rougher.calculation.floatbank10_sulfate_to_au_feed</th>\n",
       "      <th>rougher.calculation.floatbank11_sulfate_to_au_feed</th>\n",
       "      <th>rougher.calculation.au_pb_ratio</th>\n",
       "      <th>rougher.input.feed_ag</th>\n",
       "      <th>rougher.input.feed_pb</th>\n",
       "      <th>rougher.input.feed_rate</th>\n",
       "      <th>rougher.input.feed_size</th>\n",
       "      <th>rougher.input.feed_sol</th>\n",
       "      <th>rougher.input.feed_au</th>\n",
       "      <th>rougher.input.floatbank10_sulfate</th>\n",
       "      <th>rougher.input.floatbank10_xanthate</th>\n",
       "      <th>rougher.input.floatbank11_sulfate</th>\n",
       "      <th>rougher.input.floatbank11_xanthate</th>\n",
       "      <th>rougher.output.concentrate_ag</th>\n",
       "      <th>rougher.output.concentrate_pb</th>\n",
       "      <th>rougher.output.concentrate_sol</th>\n",
       "      <th>rougher.output.concentrate_au</th>\n",
       "      <th>rougher.output.recovery</th>\n",
       "      <th>rougher.output.tail_ag</th>\n",
       "      <th>rougher.output.tail_pb</th>\n",
       "      <th>rougher.output.tail_sol</th>\n",
       "      <th>rougher.output.tail_au</th>\n",
       "      <th>rougher.state.floatbank10_a_air</th>\n",
       "      <th>rougher.state.floatbank10_a_level</th>\n",
       "      <th>rougher.state.floatbank10_b_air</th>\n",
       "      <th>rougher.state.floatbank10_b_level</th>\n",
       "      <th>rougher.state.floatbank10_c_air</th>\n",
       "      <th>rougher.state.floatbank10_c_level</th>\n",
       "      <th>rougher.state.floatbank10_d_air</th>\n",
       "      <th>rougher.state.floatbank10_d_level</th>\n",
       "      <th>rougher.state.floatbank10_e_air</th>\n",
       "      <th>rougher.state.floatbank10_e_level</th>\n",
       "      <th>rougher.state.floatbank10_f_air</th>\n",
       "      <th>rougher.state.floatbank10_f_level</th>\n",
       "      <th>secondary_cleaner.output.tail_ag</th>\n",
       "      <th>secondary_cleaner.output.tail_pb</th>\n",
       "      <th>secondary_cleaner.output.tail_sol</th>\n",
       "      <th>secondary_cleaner.output.tail_au</th>\n",
       "      <th>secondary_cleaner.state.floatbank2_a_air</th>\n",
       "      <th>secondary_cleaner.state.floatbank2_a_level</th>\n",
       "      <th>secondary_cleaner.state.floatbank2_b_air</th>\n",
       "      <th>secondary_cleaner.state.floatbank2_b_level</th>\n",
       "      <th>secondary_cleaner.state.floatbank3_a_air</th>\n",
       "      <th>secondary_cleaner.state.floatbank3_a_level</th>\n",
       "      <th>secondary_cleaner.state.floatbank3_b_air</th>\n",
       "      <th>secondary_cleaner.state.floatbank3_b_level</th>\n",
       "      <th>secondary_cleaner.state.floatbank4_a_air</th>\n",
       "      <th>secondary_cleaner.state.floatbank4_a_level</th>\n",
       "      <th>secondary_cleaner.state.floatbank4_b_air</th>\n",
       "      <th>secondary_cleaner.state.floatbank4_b_level</th>\n",
       "      <th>secondary_cleaner.state.floatbank5_a_air</th>\n",
       "      <th>secondary_cleaner.state.floatbank5_a_level</th>\n",
       "      <th>secondary_cleaner.state.floatbank5_b_air</th>\n",
       "      <th>secondary_cleaner.state.floatbank5_b_level</th>\n",
       "      <th>secondary_cleaner.state.floatbank6_a_air</th>\n",
       "      <th>secondary_cleaner.state.floatbank6_a_level</th>\n",
       "    </tr>\n",
       "  </thead>\n",
       "  <tbody>\n",
       "    <tr>\n",
       "      <th>113</th>\n",
       "      <td>2016-01-21 09:00:00</td>\n",
       "      <td>5.518476</td>\n",
       "      <td>10.996012</td>\n",
       "      <td>9.156174</td>\n",
       "      <td>43.715161</td>\n",
       "      <td>70.768558</td>\n",
       "      <td>11.668317</td>\n",
       "      <td>2.158998</td>\n",
       "      <td>17.314961</td>\n",
       "      <td>3.154588</td>\n",
       "      <td>182.179285</td>\n",
       "      <td>14.984341</td>\n",
       "      <td>7.25</td>\n",
       "      <td>1.199236</td>\n",
       "      <td>10.968054</td>\n",
       "      <td>9.765347</td>\n",
       "      <td>20.195485</td>\n",
       "      <td>31.894047</td>\n",
       "      <td>17.499777</td>\n",
       "      <td>3.994096</td>\n",
       "      <td>8.06215</td>\n",
       "      <td>3.232599</td>\n",
       "      <td>1545.484903</td>\n",
       "      <td>-499.395904</td>\n",
       "      <td>1545.32695</td>\n",
       "      <td>-499.602128</td>\n",
       "      <td>1551.116769</td>\n",
       "      <td>-500.056331</td>\n",
       "      <td>1547.658107</td>\n",
       "      <td>-499.956738</td>\n",
       "      <td>39994.394226</td>\n",
       "      <td>3210.019323</td>\n",
       "      <td>3148.8507</td>\n",
       "      <td>2.354674</td>\n",
       "      <td>10.681307</td>\n",
       "      <td>3.901517</td>\n",
       "      <td>616.370312</td>\n",
       "      <td>65.949832</td>\n",
       "      <td>41.562786</td>\n",
       "      <td>9.1868</td>\n",
       "      <td>18.152634</td>\n",
       "      <td>7.800337</td>\n",
       "      <td>18.120019</td>\n",
       "      <td>7.792649</td>\n",
       "      <td>12.987662</td>\n",
       "      <td>7.942706</td>\n",
       "      <td>28.431386</td>\n",
       "      <td>19.585482</td>\n",
       "      <td>84.83106</td>\n",
       "      <td>5.526595</td>\n",
       "      <td>0.891034</td>\n",
       "      <td>18.961437</td>\n",
       "      <td>2.314505</td>\n",
       "      <td>1000.771121</td>\n",
       "      <td>-499.00561</td>\n",
       "      <td>1599.803057</td>\n",
       "      <td>-500.740363</td>\n",
       "      <td>1599.383672</td>\n",
       "      <td>-500.010667</td>\n",
       "      <td>1401.533662</td>\n",
       "      <td>-500.539394</td>\n",
       "      <td>1200.064892</td>\n",
       "      <td>-500.157329</td>\n",
       "      <td>1099.516965</td>\n",
       "      <td>-500.102858</td>\n",
       "      <td>16.361991</td>\n",
       "      <td>5.66595</td>\n",
       "      <td>12.161492</td>\n",
       "      <td>3.346496</td>\n",
       "      <td>25.013028</td>\n",
       "      <td>-499.510633</td>\n",
       "      <td>23.005987</td>\n",
       "      <td>-498.694189</td>\n",
       "      <td>24.071142</td>\n",
       "      <td>-498.889518</td>\n",
       "      <td>22.973289</td>\n",
       "      <td>-499.782048</td>\n",
       "      <td>13.954643</td>\n",
       "      <td>-564.670807</td>\n",
       "      <td>11.908144</td>\n",
       "      <td>-570.810245</td>\n",
       "      <td>10.004194</td>\n",
       "      <td>-509.665317</td>\n",
       "      <td>8.056656</td>\n",
       "      <td>-500.404815</td>\n",
       "      <td>11.964116</td>\n",
       "      <td>-599.140277</td>\n",
       "    </tr>\n",
       "  </tbody>\n",
       "</table>\n",
       "</div>"
      ],
      "text/plain": [
       "                    date  final.output.concentrate_ag  \\\n",
       "113  2016-01-21 09:00:00                     5.518476   \n",
       "\n",
       "     final.output.concentrate_pb  final.output.concentrate_sol  \\\n",
       "113                    10.996012                      9.156174   \n",
       "\n",
       "     final.output.concentrate_au  final.output.recovery  final.output.tail_ag  \\\n",
       "113                    43.715161              70.768558             11.668317   \n",
       "\n",
       "     final.output.tail_pb  final.output.tail_sol  final.output.tail_au  \\\n",
       "113              2.158998              17.314961              3.154588   \n",
       "\n",
       "     primary_cleaner.input.sulfate  primary_cleaner.input.depressant  \\\n",
       "113                     182.179285                         14.984341   \n",
       "\n",
       "     primary_cleaner.input.feed_size  primary_cleaner.input.xanthate  \\\n",
       "113                             7.25                        1.199236   \n",
       "\n",
       "     primary_cleaner.output.concentrate_ag  \\\n",
       "113                              10.968054   \n",
       "\n",
       "     primary_cleaner.output.concentrate_pb  \\\n",
       "113                               9.765347   \n",
       "\n",
       "     primary_cleaner.output.concentrate_sol  \\\n",
       "113                               20.195485   \n",
       "\n",
       "     primary_cleaner.output.concentrate_au  primary_cleaner.output.tail_ag  \\\n",
       "113                              31.894047                       17.499777   \n",
       "\n",
       "     primary_cleaner.output.tail_pb  primary_cleaner.output.tail_sol  \\\n",
       "113                        3.994096                          8.06215   \n",
       "\n",
       "     primary_cleaner.output.tail_au  primary_cleaner.state.floatbank8_a_air  \\\n",
       "113                        3.232599                             1545.484903   \n",
       "\n",
       "     primary_cleaner.state.floatbank8_a_level  \\\n",
       "113                               -499.395904   \n",
       "\n",
       "     primary_cleaner.state.floatbank8_b_air  \\\n",
       "113                              1545.32695   \n",
       "\n",
       "     primary_cleaner.state.floatbank8_b_level  \\\n",
       "113                               -499.602128   \n",
       "\n",
       "     primary_cleaner.state.floatbank8_c_air  \\\n",
       "113                             1551.116769   \n",
       "\n",
       "     primary_cleaner.state.floatbank8_c_level  \\\n",
       "113                               -500.056331   \n",
       "\n",
       "     primary_cleaner.state.floatbank8_d_air  \\\n",
       "113                             1547.658107   \n",
       "\n",
       "     primary_cleaner.state.floatbank8_d_level  \\\n",
       "113                               -499.956738   \n",
       "\n",
       "     rougher.calculation.sulfate_to_au_concentrate  \\\n",
       "113                                   39994.394226   \n",
       "\n",
       "     rougher.calculation.floatbank10_sulfate_to_au_feed  \\\n",
       "113                                        3210.019323    \n",
       "\n",
       "     rougher.calculation.floatbank11_sulfate_to_au_feed  \\\n",
       "113                                          3148.8507    \n",
       "\n",
       "     rougher.calculation.au_pb_ratio  rougher.input.feed_ag  \\\n",
       "113                         2.354674              10.681307   \n",
       "\n",
       "     rougher.input.feed_pb  rougher.input.feed_rate  rougher.input.feed_size  \\\n",
       "113               3.901517               616.370312                65.949832   \n",
       "\n",
       "     rougher.input.feed_sol  rougher.input.feed_au  \\\n",
       "113               41.562786                 9.1868   \n",
       "\n",
       "     rougher.input.floatbank10_sulfate  rougher.input.floatbank10_xanthate  \\\n",
       "113                          18.152634                            7.800337   \n",
       "\n",
       "     rougher.input.floatbank11_sulfate  rougher.input.floatbank11_xanthate  \\\n",
       "113                          18.120019                            7.792649   \n",
       "\n",
       "     rougher.output.concentrate_ag  rougher.output.concentrate_pb  \\\n",
       "113                      12.987662                       7.942706   \n",
       "\n",
       "     rougher.output.concentrate_sol  rougher.output.concentrate_au  \\\n",
       "113                       28.431386                      19.585482   \n",
       "\n",
       "     rougher.output.recovery  rougher.output.tail_ag  rougher.output.tail_pb  \\\n",
       "113                 84.83106                5.526595                0.891034   \n",
       "\n",
       "     rougher.output.tail_sol  rougher.output.tail_au  \\\n",
       "113                18.961437                2.314505   \n",
       "\n",
       "     rougher.state.floatbank10_a_air  rougher.state.floatbank10_a_level  \\\n",
       "113                      1000.771121                         -499.00561   \n",
       "\n",
       "     rougher.state.floatbank10_b_air  rougher.state.floatbank10_b_level  \\\n",
       "113                      1599.803057                        -500.740363   \n",
       "\n",
       "     rougher.state.floatbank10_c_air  rougher.state.floatbank10_c_level  \\\n",
       "113                      1599.383672                        -500.010667   \n",
       "\n",
       "     rougher.state.floatbank10_d_air  rougher.state.floatbank10_d_level  \\\n",
       "113                      1401.533662                        -500.539394   \n",
       "\n",
       "     rougher.state.floatbank10_e_air  rougher.state.floatbank10_e_level  \\\n",
       "113                      1200.064892                        -500.157329   \n",
       "\n",
       "     rougher.state.floatbank10_f_air  rougher.state.floatbank10_f_level  \\\n",
       "113                      1099.516965                        -500.102858   \n",
       "\n",
       "     secondary_cleaner.output.tail_ag  secondary_cleaner.output.tail_pb  \\\n",
       "113                         16.361991                           5.66595   \n",
       "\n",
       "     secondary_cleaner.output.tail_sol  secondary_cleaner.output.tail_au  \\\n",
       "113                          12.161492                          3.346496   \n",
       "\n",
       "     secondary_cleaner.state.floatbank2_a_air  \\\n",
       "113                                 25.013028   \n",
       "\n",
       "     secondary_cleaner.state.floatbank2_a_level  \\\n",
       "113                                 -499.510633   \n",
       "\n",
       "     secondary_cleaner.state.floatbank2_b_air  \\\n",
       "113                                 23.005987   \n",
       "\n",
       "     secondary_cleaner.state.floatbank2_b_level  \\\n",
       "113                                 -498.694189   \n",
       "\n",
       "     secondary_cleaner.state.floatbank3_a_air  \\\n",
       "113                                 24.071142   \n",
       "\n",
       "     secondary_cleaner.state.floatbank3_a_level  \\\n",
       "113                                 -498.889518   \n",
       "\n",
       "     secondary_cleaner.state.floatbank3_b_air  \\\n",
       "113                                 22.973289   \n",
       "\n",
       "     secondary_cleaner.state.floatbank3_b_level  \\\n",
       "113                                 -499.782048   \n",
       "\n",
       "     secondary_cleaner.state.floatbank4_a_air  \\\n",
       "113                                 13.954643   \n",
       "\n",
       "     secondary_cleaner.state.floatbank4_a_level  \\\n",
       "113                                 -564.670807   \n",
       "\n",
       "     secondary_cleaner.state.floatbank4_b_air  \\\n",
       "113                                 11.908144   \n",
       "\n",
       "     secondary_cleaner.state.floatbank4_b_level  \\\n",
       "113                                 -570.810245   \n",
       "\n",
       "     secondary_cleaner.state.floatbank5_a_air  \\\n",
       "113                                 10.004194   \n",
       "\n",
       "     secondary_cleaner.state.floatbank5_a_level  \\\n",
       "113                                 -509.665317   \n",
       "\n",
       "     secondary_cleaner.state.floatbank5_b_air  \\\n",
       "113                                  8.056656   \n",
       "\n",
       "     secondary_cleaner.state.floatbank5_b_level  \\\n",
       "113                                 -500.404815   \n",
       "\n",
       "     secondary_cleaner.state.floatbank6_a_air  \\\n",
       "113                                 11.964116   \n",
       "\n",
       "     secondary_cleaner.state.floatbank6_a_level  \n",
       "113                                 -599.140277  "
      ]
     },
     "metadata": {},
     "output_type": "display_data"
    },
    {
     "data": {
      "text/html": [
       "<div>\n",
       "<style scoped>\n",
       "    .dataframe tbody tr th:only-of-type {\n",
       "        vertical-align: middle;\n",
       "    }\n",
       "\n",
       "    .dataframe tbody tr th {\n",
       "        vertical-align: top;\n",
       "    }\n",
       "\n",
       "    .dataframe thead th {\n",
       "        text-align: right;\n",
       "    }\n",
       "</style>\n",
       "<table border=\"1\" class=\"dataframe\">\n",
       "  <thead>\n",
       "    <tr style=\"text-align: right;\">\n",
       "      <th></th>\n",
       "      <th>date</th>\n",
       "      <th>final.output.concentrate_ag</th>\n",
       "      <th>final.output.concentrate_pb</th>\n",
       "      <th>final.output.concentrate_sol</th>\n",
       "      <th>final.output.concentrate_au</th>\n",
       "      <th>final.output.recovery</th>\n",
       "      <th>final.output.tail_ag</th>\n",
       "      <th>final.output.tail_pb</th>\n",
       "      <th>final.output.tail_sol</th>\n",
       "      <th>final.output.tail_au</th>\n",
       "      <th>primary_cleaner.input.sulfate</th>\n",
       "      <th>primary_cleaner.input.depressant</th>\n",
       "      <th>primary_cleaner.input.feed_size</th>\n",
       "      <th>primary_cleaner.input.xanthate</th>\n",
       "      <th>primary_cleaner.output.concentrate_ag</th>\n",
       "      <th>primary_cleaner.output.concentrate_pb</th>\n",
       "      <th>primary_cleaner.output.concentrate_sol</th>\n",
       "      <th>primary_cleaner.output.concentrate_au</th>\n",
       "      <th>primary_cleaner.output.tail_ag</th>\n",
       "      <th>primary_cleaner.output.tail_pb</th>\n",
       "      <th>primary_cleaner.output.tail_sol</th>\n",
       "      <th>primary_cleaner.output.tail_au</th>\n",
       "      <th>primary_cleaner.state.floatbank8_a_air</th>\n",
       "      <th>primary_cleaner.state.floatbank8_a_level</th>\n",
       "      <th>primary_cleaner.state.floatbank8_b_air</th>\n",
       "      <th>primary_cleaner.state.floatbank8_b_level</th>\n",
       "      <th>primary_cleaner.state.floatbank8_c_air</th>\n",
       "      <th>primary_cleaner.state.floatbank8_c_level</th>\n",
       "      <th>primary_cleaner.state.floatbank8_d_air</th>\n",
       "      <th>primary_cleaner.state.floatbank8_d_level</th>\n",
       "      <th>rougher.calculation.sulfate_to_au_concentrate</th>\n",
       "      <th>rougher.calculation.floatbank10_sulfate_to_au_feed</th>\n",
       "      <th>rougher.calculation.floatbank11_sulfate_to_au_feed</th>\n",
       "      <th>rougher.calculation.au_pb_ratio</th>\n",
       "      <th>rougher.input.feed_ag</th>\n",
       "      <th>rougher.input.feed_pb</th>\n",
       "      <th>rougher.input.feed_rate</th>\n",
       "      <th>rougher.input.feed_size</th>\n",
       "      <th>rougher.input.feed_sol</th>\n",
       "      <th>rougher.input.feed_au</th>\n",
       "      <th>rougher.input.floatbank10_sulfate</th>\n",
       "      <th>rougher.input.floatbank10_xanthate</th>\n",
       "      <th>rougher.input.floatbank11_sulfate</th>\n",
       "      <th>rougher.input.floatbank11_xanthate</th>\n",
       "      <th>rougher.output.concentrate_ag</th>\n",
       "      <th>rougher.output.concentrate_pb</th>\n",
       "      <th>rougher.output.concentrate_sol</th>\n",
       "      <th>rougher.output.concentrate_au</th>\n",
       "      <th>rougher.output.recovery</th>\n",
       "      <th>rougher.output.tail_ag</th>\n",
       "      <th>rougher.output.tail_pb</th>\n",
       "      <th>rougher.output.tail_sol</th>\n",
       "      <th>rougher.output.tail_au</th>\n",
       "      <th>rougher.state.floatbank10_a_air</th>\n",
       "      <th>rougher.state.floatbank10_a_level</th>\n",
       "      <th>rougher.state.floatbank10_b_air</th>\n",
       "      <th>rougher.state.floatbank10_b_level</th>\n",
       "      <th>rougher.state.floatbank10_c_air</th>\n",
       "      <th>rougher.state.floatbank10_c_level</th>\n",
       "      <th>rougher.state.floatbank10_d_air</th>\n",
       "      <th>rougher.state.floatbank10_d_level</th>\n",
       "      <th>rougher.state.floatbank10_e_air</th>\n",
       "      <th>rougher.state.floatbank10_e_level</th>\n",
       "      <th>rougher.state.floatbank10_f_air</th>\n",
       "      <th>rougher.state.floatbank10_f_level</th>\n",
       "      <th>secondary_cleaner.output.tail_ag</th>\n",
       "      <th>secondary_cleaner.output.tail_pb</th>\n",
       "      <th>secondary_cleaner.output.tail_sol</th>\n",
       "      <th>secondary_cleaner.output.tail_au</th>\n",
       "      <th>secondary_cleaner.state.floatbank2_a_air</th>\n",
       "      <th>secondary_cleaner.state.floatbank2_a_level</th>\n",
       "      <th>secondary_cleaner.state.floatbank2_b_air</th>\n",
       "      <th>secondary_cleaner.state.floatbank2_b_level</th>\n",
       "      <th>secondary_cleaner.state.floatbank3_a_air</th>\n",
       "      <th>secondary_cleaner.state.floatbank3_a_level</th>\n",
       "      <th>secondary_cleaner.state.floatbank3_b_air</th>\n",
       "      <th>secondary_cleaner.state.floatbank3_b_level</th>\n",
       "      <th>secondary_cleaner.state.floatbank4_a_air</th>\n",
       "      <th>secondary_cleaner.state.floatbank4_a_level</th>\n",
       "      <th>secondary_cleaner.state.floatbank4_b_air</th>\n",
       "      <th>secondary_cleaner.state.floatbank4_b_level</th>\n",
       "      <th>secondary_cleaner.state.floatbank5_a_air</th>\n",
       "      <th>secondary_cleaner.state.floatbank5_a_level</th>\n",
       "      <th>secondary_cleaner.state.floatbank5_b_air</th>\n",
       "      <th>secondary_cleaner.state.floatbank5_b_level</th>\n",
       "      <th>secondary_cleaner.state.floatbank6_a_air</th>\n",
       "      <th>secondary_cleaner.state.floatbank6_a_level</th>\n",
       "    </tr>\n",
       "  </thead>\n",
       "  <tbody>\n",
       "    <tr>\n",
       "      <th>114</th>\n",
       "      <td>2016-01-21 10:00:00</td>\n",
       "      <td>5.782224</td>\n",
       "      <td>10.969985</td>\n",
       "      <td>9.30126</td>\n",
       "      <td>43.181003</td>\n",
       "      <td>74.257359</td>\n",
       "      <td>11.95976</td>\n",
       "      <td>2.064173</td>\n",
       "      <td>15.139256</td>\n",
       "      <td>3.091437</td>\n",
       "      <td>NaN</td>\n",
       "      <td>NaN</td>\n",
       "      <td>7.25</td>\n",
       "      <td>NaN</td>\n",
       "      <td>11.345656</td>\n",
       "      <td>9.424562</td>\n",
       "      <td>20.275368</td>\n",
       "      <td>31.333106</td>\n",
       "      <td>17.514891</td>\n",
       "      <td>3.971093</td>\n",
       "      <td>7.845526</td>\n",
       "      <td>3.162975</td>\n",
       "      <td>NaN</td>\n",
       "      <td>NaN</td>\n",
       "      <td>NaN</td>\n",
       "      <td>NaN</td>\n",
       "      <td>NaN</td>\n",
       "      <td>NaN</td>\n",
       "      <td>NaN</td>\n",
       "      <td>NaN</td>\n",
       "      <td>NaN</td>\n",
       "      <td>NaN</td>\n",
       "      <td>NaN</td>\n",
       "      <td>2.367651</td>\n",
       "      <td>12.028591</td>\n",
       "      <td>4.203939</td>\n",
       "      <td>NaN</td>\n",
       "      <td>NaN</td>\n",
       "      <td>41.78257</td>\n",
       "      <td>9.953462</td>\n",
       "      <td>NaN</td>\n",
       "      <td>NaN</td>\n",
       "      <td>NaN</td>\n",
       "      <td>NaN</td>\n",
       "      <td>13.678706</td>\n",
       "      <td>7.790201</td>\n",
       "      <td>28.779023</td>\n",
       "      <td>19.650397</td>\n",
       "      <td>86.217222</td>\n",
       "      <td>6.055658</td>\n",
       "      <td>0.862177</td>\n",
       "      <td>19.770304</td>\n",
       "      <td>2.435464</td>\n",
       "      <td>NaN</td>\n",
       "      <td>NaN</td>\n",
       "      <td>NaN</td>\n",
       "      <td>NaN</td>\n",
       "      <td>NaN</td>\n",
       "      <td>NaN</td>\n",
       "      <td>1393.735867</td>\n",
       "      <td>-501.357678</td>\n",
       "      <td>1196.516363</td>\n",
       "      <td>-505.322143</td>\n",
       "      <td>1097.010735</td>\n",
       "      <td>-499.416892</td>\n",
       "      <td>16.134409</td>\n",
       "      <td>5.427901</td>\n",
       "      <td>12.116604</td>\n",
       "      <td>3.259027</td>\n",
       "      <td>NaN</td>\n",
       "      <td>NaN</td>\n",
       "      <td>NaN</td>\n",
       "      <td>NaN</td>\n",
       "      <td>NaN</td>\n",
       "      <td>NaN</td>\n",
       "      <td>NaN</td>\n",
       "      <td>NaN</td>\n",
       "      <td>NaN</td>\n",
       "      <td>NaN</td>\n",
       "      <td>NaN</td>\n",
       "      <td>NaN</td>\n",
       "      <td>NaN</td>\n",
       "      <td>NaN</td>\n",
       "      <td>NaN</td>\n",
       "      <td>NaN</td>\n",
       "      <td>NaN</td>\n",
       "      <td>NaN</td>\n",
       "    </tr>\n",
       "  </tbody>\n",
       "</table>\n",
       "</div>"
      ],
      "text/plain": [
       "                    date  final.output.concentrate_ag  \\\n",
       "114  2016-01-21 10:00:00                     5.782224   \n",
       "\n",
       "     final.output.concentrate_pb  final.output.concentrate_sol  \\\n",
       "114                    10.969985                       9.30126   \n",
       "\n",
       "     final.output.concentrate_au  final.output.recovery  final.output.tail_ag  \\\n",
       "114                    43.181003              74.257359              11.95976   \n",
       "\n",
       "     final.output.tail_pb  final.output.tail_sol  final.output.tail_au  \\\n",
       "114              2.064173              15.139256              3.091437   \n",
       "\n",
       "     primary_cleaner.input.sulfate  primary_cleaner.input.depressant  \\\n",
       "114                            NaN                               NaN   \n",
       "\n",
       "     primary_cleaner.input.feed_size  primary_cleaner.input.xanthate  \\\n",
       "114                             7.25                             NaN   \n",
       "\n",
       "     primary_cleaner.output.concentrate_ag  \\\n",
       "114                              11.345656   \n",
       "\n",
       "     primary_cleaner.output.concentrate_pb  \\\n",
       "114                               9.424562   \n",
       "\n",
       "     primary_cleaner.output.concentrate_sol  \\\n",
       "114                               20.275368   \n",
       "\n",
       "     primary_cleaner.output.concentrate_au  primary_cleaner.output.tail_ag  \\\n",
       "114                              31.333106                       17.514891   \n",
       "\n",
       "     primary_cleaner.output.tail_pb  primary_cleaner.output.tail_sol  \\\n",
       "114                        3.971093                         7.845526   \n",
       "\n",
       "     primary_cleaner.output.tail_au  primary_cleaner.state.floatbank8_a_air  \\\n",
       "114                        3.162975                                     NaN   \n",
       "\n",
       "     primary_cleaner.state.floatbank8_a_level  \\\n",
       "114                                       NaN   \n",
       "\n",
       "     primary_cleaner.state.floatbank8_b_air  \\\n",
       "114                                     NaN   \n",
       "\n",
       "     primary_cleaner.state.floatbank8_b_level  \\\n",
       "114                                       NaN   \n",
       "\n",
       "     primary_cleaner.state.floatbank8_c_air  \\\n",
       "114                                     NaN   \n",
       "\n",
       "     primary_cleaner.state.floatbank8_c_level  \\\n",
       "114                                       NaN   \n",
       "\n",
       "     primary_cleaner.state.floatbank8_d_air  \\\n",
       "114                                     NaN   \n",
       "\n",
       "     primary_cleaner.state.floatbank8_d_level  \\\n",
       "114                                       NaN   \n",
       "\n",
       "     rougher.calculation.sulfate_to_au_concentrate  \\\n",
       "114                                            NaN   \n",
       "\n",
       "     rougher.calculation.floatbank10_sulfate_to_au_feed  \\\n",
       "114                                                NaN    \n",
       "\n",
       "     rougher.calculation.floatbank11_sulfate_to_au_feed  \\\n",
       "114                                                NaN    \n",
       "\n",
       "     rougher.calculation.au_pb_ratio  rougher.input.feed_ag  \\\n",
       "114                         2.367651              12.028591   \n",
       "\n",
       "     rougher.input.feed_pb  rougher.input.feed_rate  rougher.input.feed_size  \\\n",
       "114               4.203939                      NaN                      NaN   \n",
       "\n",
       "     rougher.input.feed_sol  rougher.input.feed_au  \\\n",
       "114                41.78257               9.953462   \n",
       "\n",
       "     rougher.input.floatbank10_sulfate  rougher.input.floatbank10_xanthate  \\\n",
       "114                                NaN                                 NaN   \n",
       "\n",
       "     rougher.input.floatbank11_sulfate  rougher.input.floatbank11_xanthate  \\\n",
       "114                                NaN                                 NaN   \n",
       "\n",
       "     rougher.output.concentrate_ag  rougher.output.concentrate_pb  \\\n",
       "114                      13.678706                       7.790201   \n",
       "\n",
       "     rougher.output.concentrate_sol  rougher.output.concentrate_au  \\\n",
       "114                       28.779023                      19.650397   \n",
       "\n",
       "     rougher.output.recovery  rougher.output.tail_ag  rougher.output.tail_pb  \\\n",
       "114                86.217222                6.055658                0.862177   \n",
       "\n",
       "     rougher.output.tail_sol  rougher.output.tail_au  \\\n",
       "114                19.770304                2.435464   \n",
       "\n",
       "     rougher.state.floatbank10_a_air  rougher.state.floatbank10_a_level  \\\n",
       "114                              NaN                                NaN   \n",
       "\n",
       "     rougher.state.floatbank10_b_air  rougher.state.floatbank10_b_level  \\\n",
       "114                              NaN                                NaN   \n",
       "\n",
       "     rougher.state.floatbank10_c_air  rougher.state.floatbank10_c_level  \\\n",
       "114                              NaN                                NaN   \n",
       "\n",
       "     rougher.state.floatbank10_d_air  rougher.state.floatbank10_d_level  \\\n",
       "114                      1393.735867                        -501.357678   \n",
       "\n",
       "     rougher.state.floatbank10_e_air  rougher.state.floatbank10_e_level  \\\n",
       "114                      1196.516363                        -505.322143   \n",
       "\n",
       "     rougher.state.floatbank10_f_air  rougher.state.floatbank10_f_level  \\\n",
       "114                      1097.010735                        -499.416892   \n",
       "\n",
       "     secondary_cleaner.output.tail_ag  secondary_cleaner.output.tail_pb  \\\n",
       "114                         16.134409                          5.427901   \n",
       "\n",
       "     secondary_cleaner.output.tail_sol  secondary_cleaner.output.tail_au  \\\n",
       "114                          12.116604                          3.259027   \n",
       "\n",
       "     secondary_cleaner.state.floatbank2_a_air  \\\n",
       "114                                       NaN   \n",
       "\n",
       "     secondary_cleaner.state.floatbank2_a_level  \\\n",
       "114                                         NaN   \n",
       "\n",
       "     secondary_cleaner.state.floatbank2_b_air  \\\n",
       "114                                       NaN   \n",
       "\n",
       "     secondary_cleaner.state.floatbank2_b_level  \\\n",
       "114                                         NaN   \n",
       "\n",
       "     secondary_cleaner.state.floatbank3_a_air  \\\n",
       "114                                       NaN   \n",
       "\n",
       "     secondary_cleaner.state.floatbank3_a_level  \\\n",
       "114                                         NaN   \n",
       "\n",
       "     secondary_cleaner.state.floatbank3_b_air  \\\n",
       "114                                       NaN   \n",
       "\n",
       "     secondary_cleaner.state.floatbank3_b_level  \\\n",
       "114                                         NaN   \n",
       "\n",
       "     secondary_cleaner.state.floatbank4_a_air  \\\n",
       "114                                       NaN   \n",
       "\n",
       "     secondary_cleaner.state.floatbank4_a_level  \\\n",
       "114                                         NaN   \n",
       "\n",
       "     secondary_cleaner.state.floatbank4_b_air  \\\n",
       "114                                       NaN   \n",
       "\n",
       "     secondary_cleaner.state.floatbank4_b_level  \\\n",
       "114                                         NaN   \n",
       "\n",
       "     secondary_cleaner.state.floatbank5_a_air  \\\n",
       "114                                       NaN   \n",
       "\n",
       "     secondary_cleaner.state.floatbank5_a_level  \\\n",
       "114                                         NaN   \n",
       "\n",
       "     secondary_cleaner.state.floatbank5_b_air  \\\n",
       "114                                       NaN   \n",
       "\n",
       "     secondary_cleaner.state.floatbank5_b_level  \\\n",
       "114                                         NaN   \n",
       "\n",
       "     secondary_cleaner.state.floatbank6_a_air  \\\n",
       "114                                       NaN   \n",
       "\n",
       "     secondary_cleaner.state.floatbank6_a_level  \n",
       "114                                         NaN  "
      ]
     },
     "metadata": {},
     "output_type": "display_data"
    },
    {
     "data": {
      "text/html": [
       "<div>\n",
       "<style scoped>\n",
       "    .dataframe tbody tr th:only-of-type {\n",
       "        vertical-align: middle;\n",
       "    }\n",
       "\n",
       "    .dataframe tbody tr th {\n",
       "        vertical-align: top;\n",
       "    }\n",
       "\n",
       "    .dataframe thead th {\n",
       "        text-align: right;\n",
       "    }\n",
       "</style>\n",
       "<table border=\"1\" class=\"dataframe\">\n",
       "  <thead>\n",
       "    <tr style=\"text-align: right;\">\n",
       "      <th></th>\n",
       "      <th>date</th>\n",
       "      <th>final.output.concentrate_ag</th>\n",
       "      <th>final.output.concentrate_pb</th>\n",
       "      <th>final.output.concentrate_sol</th>\n",
       "      <th>final.output.concentrate_au</th>\n",
       "      <th>final.output.recovery</th>\n",
       "      <th>final.output.tail_ag</th>\n",
       "      <th>final.output.tail_pb</th>\n",
       "      <th>final.output.tail_sol</th>\n",
       "      <th>final.output.tail_au</th>\n",
       "      <th>primary_cleaner.input.sulfate</th>\n",
       "      <th>primary_cleaner.input.depressant</th>\n",
       "      <th>primary_cleaner.input.feed_size</th>\n",
       "      <th>primary_cleaner.input.xanthate</th>\n",
       "      <th>primary_cleaner.output.concentrate_ag</th>\n",
       "      <th>primary_cleaner.output.concentrate_pb</th>\n",
       "      <th>primary_cleaner.output.concentrate_sol</th>\n",
       "      <th>primary_cleaner.output.concentrate_au</th>\n",
       "      <th>primary_cleaner.output.tail_ag</th>\n",
       "      <th>primary_cleaner.output.tail_pb</th>\n",
       "      <th>primary_cleaner.output.tail_sol</th>\n",
       "      <th>primary_cleaner.output.tail_au</th>\n",
       "      <th>primary_cleaner.state.floatbank8_a_air</th>\n",
       "      <th>primary_cleaner.state.floatbank8_a_level</th>\n",
       "      <th>primary_cleaner.state.floatbank8_b_air</th>\n",
       "      <th>primary_cleaner.state.floatbank8_b_level</th>\n",
       "      <th>primary_cleaner.state.floatbank8_c_air</th>\n",
       "      <th>primary_cleaner.state.floatbank8_c_level</th>\n",
       "      <th>primary_cleaner.state.floatbank8_d_air</th>\n",
       "      <th>primary_cleaner.state.floatbank8_d_level</th>\n",
       "      <th>rougher.calculation.sulfate_to_au_concentrate</th>\n",
       "      <th>rougher.calculation.floatbank10_sulfate_to_au_feed</th>\n",
       "      <th>rougher.calculation.floatbank11_sulfate_to_au_feed</th>\n",
       "      <th>rougher.calculation.au_pb_ratio</th>\n",
       "      <th>rougher.input.feed_ag</th>\n",
       "      <th>rougher.input.feed_pb</th>\n",
       "      <th>rougher.input.feed_rate</th>\n",
       "      <th>rougher.input.feed_size</th>\n",
       "      <th>rougher.input.feed_sol</th>\n",
       "      <th>rougher.input.feed_au</th>\n",
       "      <th>rougher.input.floatbank10_sulfate</th>\n",
       "      <th>rougher.input.floatbank10_xanthate</th>\n",
       "      <th>rougher.input.floatbank11_sulfate</th>\n",
       "      <th>rougher.input.floatbank11_xanthate</th>\n",
       "      <th>rougher.output.concentrate_ag</th>\n",
       "      <th>rougher.output.concentrate_pb</th>\n",
       "      <th>rougher.output.concentrate_sol</th>\n",
       "      <th>rougher.output.concentrate_au</th>\n",
       "      <th>rougher.output.recovery</th>\n",
       "      <th>rougher.output.tail_ag</th>\n",
       "      <th>rougher.output.tail_pb</th>\n",
       "      <th>rougher.output.tail_sol</th>\n",
       "      <th>rougher.output.tail_au</th>\n",
       "      <th>rougher.state.floatbank10_a_air</th>\n",
       "      <th>rougher.state.floatbank10_a_level</th>\n",
       "      <th>rougher.state.floatbank10_b_air</th>\n",
       "      <th>rougher.state.floatbank10_b_level</th>\n",
       "      <th>rougher.state.floatbank10_c_air</th>\n",
       "      <th>rougher.state.floatbank10_c_level</th>\n",
       "      <th>rougher.state.floatbank10_d_air</th>\n",
       "      <th>rougher.state.floatbank10_d_level</th>\n",
       "      <th>rougher.state.floatbank10_e_air</th>\n",
       "      <th>rougher.state.floatbank10_e_level</th>\n",
       "      <th>rougher.state.floatbank10_f_air</th>\n",
       "      <th>rougher.state.floatbank10_f_level</th>\n",
       "      <th>secondary_cleaner.output.tail_ag</th>\n",
       "      <th>secondary_cleaner.output.tail_pb</th>\n",
       "      <th>secondary_cleaner.output.tail_sol</th>\n",
       "      <th>secondary_cleaner.output.tail_au</th>\n",
       "      <th>secondary_cleaner.state.floatbank2_a_air</th>\n",
       "      <th>secondary_cleaner.state.floatbank2_a_level</th>\n",
       "      <th>secondary_cleaner.state.floatbank2_b_air</th>\n",
       "      <th>secondary_cleaner.state.floatbank2_b_level</th>\n",
       "      <th>secondary_cleaner.state.floatbank3_a_air</th>\n",
       "      <th>secondary_cleaner.state.floatbank3_a_level</th>\n",
       "      <th>secondary_cleaner.state.floatbank3_b_air</th>\n",
       "      <th>secondary_cleaner.state.floatbank3_b_level</th>\n",
       "      <th>secondary_cleaner.state.floatbank4_a_air</th>\n",
       "      <th>secondary_cleaner.state.floatbank4_a_level</th>\n",
       "      <th>secondary_cleaner.state.floatbank4_b_air</th>\n",
       "      <th>secondary_cleaner.state.floatbank4_b_level</th>\n",
       "      <th>secondary_cleaner.state.floatbank5_a_air</th>\n",
       "      <th>secondary_cleaner.state.floatbank5_a_level</th>\n",
       "      <th>secondary_cleaner.state.floatbank5_b_air</th>\n",
       "      <th>secondary_cleaner.state.floatbank5_b_level</th>\n",
       "      <th>secondary_cleaner.state.floatbank6_a_air</th>\n",
       "      <th>secondary_cleaner.state.floatbank6_a_level</th>\n",
       "    </tr>\n",
       "  </thead>\n",
       "  <tbody>\n",
       "    <tr>\n",
       "      <th>115</th>\n",
       "      <td>2016-01-21 11:00:00</td>\n",
       "      <td>6.289592</td>\n",
       "      <td>10.800593</td>\n",
       "      <td>9.86864</td>\n",
       "      <td>42.867375</td>\n",
       "      <td>72.591034</td>\n",
       "      <td>11.979427</td>\n",
       "      <td>1.99416</td>\n",
       "      <td>15.428955</td>\n",
       "      <td>3.306867</td>\n",
       "      <td>226.482598</td>\n",
       "      <td>15.988715</td>\n",
       "      <td>7.25</td>\n",
       "      <td>1.177436</td>\n",
       "      <td>11.823693</td>\n",
       "      <td>9.104889</td>\n",
       "      <td>20.79622</td>\n",
       "      <td>30.591992</td>\n",
       "      <td>17.790026</td>\n",
       "      <td>4.045769</td>\n",
       "      <td>8.07192</td>\n",
       "      <td>3.168791</td>\n",
       "      <td>1551.478928</td>\n",
       "      <td>-500.297355</td>\n",
       "      <td>1552.263619</td>\n",
       "      <td>-500.38531</td>\n",
       "      <td>1551.033618</td>\n",
       "      <td>-501.084621</td>\n",
       "      <td>1548.019363</td>\n",
       "      <td>-498.248448</td>\n",
       "      <td>41926.430282</td>\n",
       "      <td>3214.010084</td>\n",
       "      <td>3203.598599</td>\n",
       "      <td>2.392638</td>\n",
       "      <td>12.157881</td>\n",
       "      <td>4.187072</td>\n",
       "      <td>629.869575</td>\n",
       "      <td>64.640971</td>\n",
       "      <td>42.297118</td>\n",
       "      <td>10.018148</td>\n",
       "      <td>21.212174</td>\n",
       "      <td>7.815061</td>\n",
       "      <td>21.202685</td>\n",
       "      <td>7.783254</td>\n",
       "      <td>13.874464</td>\n",
       "      <td>7.780895</td>\n",
       "      <td>29.02042</td>\n",
       "      <td>19.846317</td>\n",
       "      <td>84.773069</td>\n",
       "      <td>6.55585</td>\n",
       "      <td>0.904985</td>\n",
       "      <td>20.229227</td>\n",
       "      <td>2.666522</td>\n",
       "      <td>1001.881444</td>\n",
       "      <td>-499.979072</td>\n",
       "      <td>1601.857535</td>\n",
       "      <td>-498.607855</td>\n",
       "      <td>1600.150978</td>\n",
       "      <td>-497.100764</td>\n",
       "      <td>1404.006789</td>\n",
       "      <td>-499.828588</td>\n",
       "      <td>1202.257112</td>\n",
       "      <td>-498.304955</td>\n",
       "      <td>1102.077526</td>\n",
       "      <td>-499.363824</td>\n",
       "      <td>16.743933</td>\n",
       "      <td>5.303097</td>\n",
       "      <td>12.320883</td>\n",
       "      <td>3.366731</td>\n",
       "      <td>25.043738</td>\n",
       "      <td>-500.52718</td>\n",
       "      <td>22.9673</td>\n",
       "      <td>-499.16486</td>\n",
       "      <td>24.016298</td>\n",
       "      <td>-496.333432</td>\n",
       "      <td>22.972694</td>\n",
       "      <td>-500.758058</td>\n",
       "      <td>14.080498</td>\n",
       "      <td>-548.457442</td>\n",
       "      <td>11.982429</td>\n",
       "      <td>-549.290032</td>\n",
       "      <td>10.122944</td>\n",
       "      <td>-488.774842</td>\n",
       "      <td>7.968697</td>\n",
       "      <td>-500.079061</td>\n",
       "      <td>12.042943</td>\n",
       "      <td>-598.392513</td>\n",
       "    </tr>\n",
       "  </tbody>\n",
       "</table>\n",
       "</div>"
      ],
      "text/plain": [
       "                    date  final.output.concentrate_ag  \\\n",
       "115  2016-01-21 11:00:00                     6.289592   \n",
       "\n",
       "     final.output.concentrate_pb  final.output.concentrate_sol  \\\n",
       "115                    10.800593                       9.86864   \n",
       "\n",
       "     final.output.concentrate_au  final.output.recovery  final.output.tail_ag  \\\n",
       "115                    42.867375              72.591034             11.979427   \n",
       "\n",
       "     final.output.tail_pb  final.output.tail_sol  final.output.tail_au  \\\n",
       "115               1.99416              15.428955              3.306867   \n",
       "\n",
       "     primary_cleaner.input.sulfate  primary_cleaner.input.depressant  \\\n",
       "115                     226.482598                         15.988715   \n",
       "\n",
       "     primary_cleaner.input.feed_size  primary_cleaner.input.xanthate  \\\n",
       "115                             7.25                        1.177436   \n",
       "\n",
       "     primary_cleaner.output.concentrate_ag  \\\n",
       "115                              11.823693   \n",
       "\n",
       "     primary_cleaner.output.concentrate_pb  \\\n",
       "115                               9.104889   \n",
       "\n",
       "     primary_cleaner.output.concentrate_sol  \\\n",
       "115                                20.79622   \n",
       "\n",
       "     primary_cleaner.output.concentrate_au  primary_cleaner.output.tail_ag  \\\n",
       "115                              30.591992                       17.790026   \n",
       "\n",
       "     primary_cleaner.output.tail_pb  primary_cleaner.output.tail_sol  \\\n",
       "115                        4.045769                          8.07192   \n",
       "\n",
       "     primary_cleaner.output.tail_au  primary_cleaner.state.floatbank8_a_air  \\\n",
       "115                        3.168791                             1551.478928   \n",
       "\n",
       "     primary_cleaner.state.floatbank8_a_level  \\\n",
       "115                               -500.297355   \n",
       "\n",
       "     primary_cleaner.state.floatbank8_b_air  \\\n",
       "115                             1552.263619   \n",
       "\n",
       "     primary_cleaner.state.floatbank8_b_level  \\\n",
       "115                                -500.38531   \n",
       "\n",
       "     primary_cleaner.state.floatbank8_c_air  \\\n",
       "115                             1551.033618   \n",
       "\n",
       "     primary_cleaner.state.floatbank8_c_level  \\\n",
       "115                               -501.084621   \n",
       "\n",
       "     primary_cleaner.state.floatbank8_d_air  \\\n",
       "115                             1548.019363   \n",
       "\n",
       "     primary_cleaner.state.floatbank8_d_level  \\\n",
       "115                               -498.248448   \n",
       "\n",
       "     rougher.calculation.sulfate_to_au_concentrate  \\\n",
       "115                                   41926.430282   \n",
       "\n",
       "     rougher.calculation.floatbank10_sulfate_to_au_feed  \\\n",
       "115                                        3214.010084    \n",
       "\n",
       "     rougher.calculation.floatbank11_sulfate_to_au_feed  \\\n",
       "115                                        3203.598599    \n",
       "\n",
       "     rougher.calculation.au_pb_ratio  rougher.input.feed_ag  \\\n",
       "115                         2.392638              12.157881   \n",
       "\n",
       "     rougher.input.feed_pb  rougher.input.feed_rate  rougher.input.feed_size  \\\n",
       "115               4.187072               629.869575                64.640971   \n",
       "\n",
       "     rougher.input.feed_sol  rougher.input.feed_au  \\\n",
       "115               42.297118              10.018148   \n",
       "\n",
       "     rougher.input.floatbank10_sulfate  rougher.input.floatbank10_xanthate  \\\n",
       "115                          21.212174                            7.815061   \n",
       "\n",
       "     rougher.input.floatbank11_sulfate  rougher.input.floatbank11_xanthate  \\\n",
       "115                          21.202685                            7.783254   \n",
       "\n",
       "     rougher.output.concentrate_ag  rougher.output.concentrate_pb  \\\n",
       "115                      13.874464                       7.780895   \n",
       "\n",
       "     rougher.output.concentrate_sol  rougher.output.concentrate_au  \\\n",
       "115                        29.02042                      19.846317   \n",
       "\n",
       "     rougher.output.recovery  rougher.output.tail_ag  rougher.output.tail_pb  \\\n",
       "115                84.773069                 6.55585                0.904985   \n",
       "\n",
       "     rougher.output.tail_sol  rougher.output.tail_au  \\\n",
       "115                20.229227                2.666522   \n",
       "\n",
       "     rougher.state.floatbank10_a_air  rougher.state.floatbank10_a_level  \\\n",
       "115                      1001.881444                        -499.979072   \n",
       "\n",
       "     rougher.state.floatbank10_b_air  rougher.state.floatbank10_b_level  \\\n",
       "115                      1601.857535                        -498.607855   \n",
       "\n",
       "     rougher.state.floatbank10_c_air  rougher.state.floatbank10_c_level  \\\n",
       "115                      1600.150978                        -497.100764   \n",
       "\n",
       "     rougher.state.floatbank10_d_air  rougher.state.floatbank10_d_level  \\\n",
       "115                      1404.006789                        -499.828588   \n",
       "\n",
       "     rougher.state.floatbank10_e_air  rougher.state.floatbank10_e_level  \\\n",
       "115                      1202.257112                        -498.304955   \n",
       "\n",
       "     rougher.state.floatbank10_f_air  rougher.state.floatbank10_f_level  \\\n",
       "115                      1102.077526                        -499.363824   \n",
       "\n",
       "     secondary_cleaner.output.tail_ag  secondary_cleaner.output.tail_pb  \\\n",
       "115                         16.743933                          5.303097   \n",
       "\n",
       "     secondary_cleaner.output.tail_sol  secondary_cleaner.output.tail_au  \\\n",
       "115                          12.320883                          3.366731   \n",
       "\n",
       "     secondary_cleaner.state.floatbank2_a_air  \\\n",
       "115                                 25.043738   \n",
       "\n",
       "     secondary_cleaner.state.floatbank2_a_level  \\\n",
       "115                                  -500.52718   \n",
       "\n",
       "     secondary_cleaner.state.floatbank2_b_air  \\\n",
       "115                                   22.9673   \n",
       "\n",
       "     secondary_cleaner.state.floatbank2_b_level  \\\n",
       "115                                  -499.16486   \n",
       "\n",
       "     secondary_cleaner.state.floatbank3_a_air  \\\n",
       "115                                 24.016298   \n",
       "\n",
       "     secondary_cleaner.state.floatbank3_a_level  \\\n",
       "115                                 -496.333432   \n",
       "\n",
       "     secondary_cleaner.state.floatbank3_b_air  \\\n",
       "115                                 22.972694   \n",
       "\n",
       "     secondary_cleaner.state.floatbank3_b_level  \\\n",
       "115                                 -500.758058   \n",
       "\n",
       "     secondary_cleaner.state.floatbank4_a_air  \\\n",
       "115                                 14.080498   \n",
       "\n",
       "     secondary_cleaner.state.floatbank4_a_level  \\\n",
       "115                                 -548.457442   \n",
       "\n",
       "     secondary_cleaner.state.floatbank4_b_air  \\\n",
       "115                                 11.982429   \n",
       "\n",
       "     secondary_cleaner.state.floatbank4_b_level  \\\n",
       "115                                 -549.290032   \n",
       "\n",
       "     secondary_cleaner.state.floatbank5_a_air  \\\n",
       "115                                 10.122944   \n",
       "\n",
       "     secondary_cleaner.state.floatbank5_a_level  \\\n",
       "115                                 -488.774842   \n",
       "\n",
       "     secondary_cleaner.state.floatbank5_b_air  \\\n",
       "115                                  7.968697   \n",
       "\n",
       "     secondary_cleaner.state.floatbank5_b_level  \\\n",
       "115                                 -500.079061   \n",
       "\n",
       "     secondary_cleaner.state.floatbank6_a_air  \\\n",
       "115                                 12.042943   \n",
       "\n",
       "     secondary_cleaner.state.floatbank6_a_level  \n",
       "115                                 -598.392513  "
      ]
     },
     "metadata": {},
     "output_type": "display_data"
    }
   ],
   "source": [
    "# проверим, как выглядит пропущенная строка и примем решение\n",
    "display(\n",
    "    df_full.loc[df_full[df_full['secondary_cleaner.state.floatbank5_a_level'].isna()].index - 1], \n",
    "    df_full.loc[df_full[df_full['secondary_cleaner.state.floatbank5_a_level'].isna()].index],\n",
    "    df_full.loc[df_full[df_full['secondary_cleaner.state.floatbank5_a_level'].isna()].index + 1]\n",
    ")"
   ]
  },
  {
   "cell_type": "markdown",
   "metadata": {},
   "source": [
    "Так как значения, обычно, указывают на то, что осталось при обогащении - стоит заполнить пропущенные значения значением из предыдущей строки:"
   ]
  },
  {
   "cell_type": "code",
   "execution_count": 11,
   "metadata": {},
   "outputs": [],
   "source": [
    "for df in df_list:\n",
    "    df.fillna(method='ffill', inplace=True)"
   ]
  },
  {
   "cell_type": "markdown",
   "metadata": {},
   "source": [
    "### Вывод\n",
    "\n",
    "Данные изучены, выполнена предобработка данных, можно приступить к следующим этапам."
   ]
  },
  {
   "cell_type": "markdown",
   "metadata": {},
   "source": [
    "## Анализ данных"
   ]
  },
  {
   "cell_type": "markdown",
   "metadata": {},
   "source": [
    "### Концентрация металлов"
   ]
  },
  {
   "cell_type": "markdown",
   "metadata": {},
   "source": [
    "1. Посмотрите, как меняется концентрация металлов (Au, Ag, Pb) на различных этапах очистки. Опишите выводы."
   ]
  },
  {
   "cell_type": "code",
   "execution_count": 12,
   "metadata": {},
   "outputs": [
    {
     "data": {
      "image/png": "[encoded data removed]",
      "text/plain": [
       "<Figure size 864x648 with 1 Axes>"
      ]
     },
     "metadata": {
      "needs_background": "light"
     },
     "output_type": "display_data"
    },
    {
     "data": {
      "image/png": "[encoded data removed]",
      "text/plain": [
       "<Figure size 864x648 with 1 Axes>"
      ]
     },
     "metadata": {
      "needs_background": "light"
     },
     "output_type": "display_data"
    },
    {
     "data": {
      "image/png": "[encoded data removed]",
      "text/plain": [
       "<Figure size 864x648 with 1 Axes>"
      ]
     },
     "metadata": {
      "needs_background": "light"
     },
     "output_type": "display_data"
    }
   ],
   "source": [
    "# список для цикла\n",
    "sub_list = {'au':'золота', \n",
    "            'ag':'серебра', \n",
    "            'pb':'свинца'}\n",
    "\n",
    "# создаём цикл для вывода необходимых графиков\n",
    "for sub in sub_list:\n",
    "    plt.figure(figsize=(12,9))\n",
    "    \n",
    "    for col in df_full.columns:\n",
    "        if ('concentrate_'+sub) in col:\n",
    "            df_full[col].hist(alpha=0.7, edgecolor='k')\n",
    "\n",
    "    plt.legend(list(filter(lambda col: ('concentrate_'+sub) in col, df_full.columns)))\n",
    "    plt.title(f'Концентрация {sub_list[sub]} на различных этапах флотации', fontsize='xx-large')\n",
    "    plt.show()"
   ]
  },
  {
   "cell_type": "markdown",
   "metadata": {},
   "source": [
    "Из полученных графиков можно сделать вывод:\n",
    "\n",
    "* Концентрация золота постепенно увеличивается с каждой очисткой\n",
    "* Концентрация серебра уменьшается \n",
    "* Концентрация свинца сначала увеличивается, но потом остается на одинаковом уровне."
   ]
  },
  {
   "cell_type": "markdown",
   "metadata": {},
   "source": [
    "### Распределение гранул сырья"
   ]
  },
  {
   "cell_type": "markdown",
   "metadata": {},
   "source": [
    "Сравните распределения размеров гранул сырья на обучающей и тестовой выборках. Если распределения сильно отличаются друг от друга, оценка модели будет неправильной.\n",
    "\n",
    "Построим гистограммы значений:"
   ]
  },
  {
   "cell_type": "code",
   "execution_count": 13,
   "metadata": {},
   "outputs": [
    {
     "data": {
      "image/png": "[encoded data removed]",
      "text/plain": [
       "<Figure size 1080x720 with 1 Axes>"
      ]
     },
     "metadata": {
      "needs_background": "light"
     },
     "output_type": "display_data"
    }
   ],
   "source": [
    "# рассмотрим оба графика на одном\n",
    "\n",
    "plt.figure(figsize = (15,10))\n",
    "plt.xlim(0, 200)\n",
    "ax = sns.histplot(df_train['rougher.input.feed_size'], \n",
    "                  bins=200, \n",
    "                  kde=True, \n",
    "                  alpha=0.7,\n",
    "                  line_kws = {'color': 'red', \"lw\":2})\n",
    "ax.lines[0].set_color('black')\n",
    "ax = sns.histplot(df_test['rougher.input.feed_size'], \n",
    "                  bins=200, \n",
    "                  kde=True, \n",
    "                  color='orange',\n",
    "                  alpha=0.7,\n",
    "                  line_kws = {'color': 'red', \"lw\":2})\n",
    "ax.lines[1].set_color('crimson')\n",
    "plt.title('Распределение значений размера гранул сырья на тестовой и обучающей выборке', fontsize='xx-large')\n",
    "plt.show()"
   ]
  },
  {
   "cell_type": "markdown",
   "metadata": {},
   "source": [
    "Видно, что значения разнятся, попробуем построить график оценки плотности распределения:"
   ]
  },
  {
   "cell_type": "code",
   "execution_count": 14,
   "metadata": {
    "scrolled": false
   },
   "outputs": [
    {
     "data": {
      "text/plain": [
       "Text(0.5, 1.0, '')"
      ]
     },
     "execution_count": 14,
     "metadata": {},
     "output_type": "execute_result"
    },
    {
     "data": {
      "image/png": "[encoded data removed]",
      "text/plain": [
       "<Figure size 1080x720 with 1 Axes>"
      ]
     },
     "metadata": {
      "needs_background": "light"
     },
     "output_type": "display_data"
    }
   ],
   "source": [
    "plt.figure(figsize = (15,10))\n",
    "plt.xlim(0, 200)\n",
    "ax = sns.kdeplot(df_train['rougher.input.feed_size'], color='red')\n",
    "ax = sns.kdeplot(df_test['rougher.input.feed_size'], color='blue')\n",
    "plt.title('Оценка плотности распределения размера гранул сырья на тестовой и обучающей выборке', fontsize='xx-large')\n",
    "plt.title('')"
   ]
  },
  {
   "cell_type": "markdown",
   "metadata": {},
   "source": [
    "Распределения не пересекаются, средние немного смещены. \n",
    "\n",
    "Для моделей машинного обучения такое распределение не повлияет негативно, можно оставить значения без изменений."
   ]
  },
  {
   "cell_type": "markdown",
   "metadata": {},
   "source": [
    "### Суммарная концентрация"
   ]
  },
  {
   "cell_type": "markdown",
   "metadata": {},
   "source": [
    "Исследуйте суммарную концентрацию всех веществ на разных стадиях: в сырье, в черновом и финальном концентратах."
   ]
  },
  {
   "cell_type": "markdown",
   "metadata": {},
   "source": [
    "Нам нужно рассмотреть суммарную концентрацию всех веществ на столбцах (стадиях):\n",
    "\n",
    "* `rougher.input.feed_` - черновой концентрат до флотации в сырье\n",
    "* `rougher.output.concentrate_` - черновой концентрат после флотации \n",
    "* `final.output.concentrate_` - финальный концентрат после всех этапов"
   ]
  },
  {
   "cell_type": "code",
   "execution_count": 15,
   "metadata": {},
   "outputs": [],
   "source": [
    "# создаём списки для заполнения таблицы\n",
    "col_list = ['rougher.input.feed_', 'rougher.output.concentrate_', 'final.output.concentrate_']\n",
    "sub_list = ['au', 'ag', 'pb', 'sol']\n",
    "\n",
    "# новая таблица для заполнения и наглядности\n",
    "df_con = pd.DataFrame()\n",
    "df_con['date'] = df_full['date']\n",
    "\n",
    "# выбираем нужные столбцы\n",
    "for col1 in col_list:\n",
    "    for sub in sub_list:\n",
    "        for col2 in df_full.columns:\n",
    "            if (col1+sub) in col2:\n",
    "                df_con[col2] = df_full[col2]\n",
    "            \n",
    "# посчитаем общую концентрацию по всем веществам\n",
    "df_con['rougher.input.feed'] = (\n",
    "    df_con['rougher.input.feed_au'] +\n",
    "    df_con['rougher.input.feed_ag'] +\n",
    "    df_con['rougher.input.feed_pb'] +\n",
    "    df_con['rougher.input.feed_sol']\n",
    ")\n",
    "\n",
    "df_con['rougher.output.concentrate'] = (\n",
    "    df_con['rougher.output.concentrate_au'] +\n",
    "    df_con['rougher.output.concentrate_ag'] +\n",
    "    df_con['rougher.output.concentrate_pb'] +\n",
    "    df_con['rougher.output.concentrate_sol']\n",
    ")\n",
    "\n",
    "df_con['final.output.concentrate'] = (\n",
    "    df_con['final.output.concentrate_au'] +\n",
    "    df_con['final.output.concentrate_ag'] +\n",
    "    df_con['final.output.concentrate_pb'] +\n",
    "    df_con['final.output.concentrate_sol']\n",
    ")"
   ]
  },
  {
   "cell_type": "code",
   "execution_count": 16,
   "metadata": {},
   "outputs": [
    {
     "data": {
      "image/png": "[encoded data removed]",
      "text/plain": [
       "<Figure size 1080x648 with 1 Axes>"
      ]
     },
     "metadata": {
      "needs_background": "light"
     },
     "output_type": "display_data"
    },
    {
     "data": {
      "image/png": "[encoded data removed]",
      "text/plain": [
       "<Figure size 1080x648 with 1 Axes>"
      ]
     },
     "metadata": {
      "needs_background": "light"
     },
     "output_type": "display_data"
    },
    {
     "data": {
      "image/png": "[encoded data removed]",
      "text/plain": [
       "<Figure size 1080x648 with 1 Axes>"
      ]
     },
     "metadata": {
      "needs_background": "light"
     },
     "output_type": "display_data"
    }
   ],
   "source": [
    "# построим графики по распределению концентраций\n",
    "\n",
    "plt.figure(figsize=(15, 9))\n",
    "df_con['final.output.concentrate'].hist(bins=100, edgecolor='k', color='purple')\n",
    "plt.title('Концентрация в финальном продукте', fontsize='x-large')\n",
    "plt.show()\n",
    "\n",
    "plt.figure(figsize=(15, 9))\n",
    "df_con['rougher.output.concentrate'].hist(bins=100, edgecolor='k', color='orange')\n",
    "plt.title('Концентрация в черновом после флотации', fontsize='x-large')\n",
    "plt.show()\n",
    "\n",
    "plt.figure(figsize=(15, 9))\n",
    "df_con['rougher.input.feed'].hist(bins=100, edgecolor='k', color='blue')\n",
    "plt.title('Концентрация в черновом до флотации', fontsize='x-large')\n",
    "plt.show()"
   ]
  },
  {
   "cell_type": "markdown",
   "metadata": {},
   "source": [
    "Как видно из гистограмм, в некоторых строках есть нулевая концентрация содержания веществ.\n",
    "\n",
    "Такое возможно только если:\n",
    "* ошибка в данных\n",
    "* пустая порода ПИ, которая не имела в себе концентраций необходимых материалов\n",
    "* порода осталась в хвостах после обогащения\n",
    "\n",
    "Так как нулевые значения в концентрациях могут повлиять на модель машинного обучения, стоит такие строки удалить:"
   ]
  },
  {
   "cell_type": "code",
   "execution_count": 17,
   "metadata": {},
   "outputs": [],
   "source": [
    "# соберем в список необходимые строки\n",
    "delete_rows = []\n",
    "\n",
    "# заполняем\n",
    "for row in df_con.index:\n",
    "    if (df_con.loc[row, 'final.output.concentrate'] == 0.0 or\n",
    "        df_con.loc[row, 'rougher.output.concentrate'] == 0.0 or \n",
    "        df_con.loc[row, 'rougher.input.feed'] == 0.0):\n",
    "        delete_rows.append(df_con.loc[row, 'date'])\n",
    "        \n",
    "# удалим строки с нулевой концентрацией во всех выборках\n",
    "df_full.drop(df_full[df_full['date'].isin(delete_rows)].index, inplace=True)\n",
    "df_train.drop(df_train[df_train['date'].isin(delete_rows)].index, inplace=True)\n",
    "df_test.drop(df_test[df_test['date'].isin(delete_rows)].index, inplace=True)"
   ]
  },
  {
   "cell_type": "markdown",
   "metadata": {},
   "source": [
    "Строки с пустым значением концетрации удалены, можно приступать к обучению модели."
   ]
  },
  {
   "cell_type": "markdown",
   "metadata": {},
   "source": [
    "### Вывод"
   ]
  },
  {
   "cell_type": "markdown",
   "metadata": {},
   "source": [
    "Общие выводы:\n",
    "\n",
    "* Концентрация золота постепенно увеличивается с каждой очисткой\n",
    "* Концентрация серебра уменьшается\n",
    "* Концентрация свинца увеличивается, как и концентрация золота\n",
    "* Распределение гранул сырья не повлияет негативно, можно оставить значения без изменений.\n",
    "* Строки с пустым значением концетрации удалены."
   ]
  },
  {
   "cell_type": "markdown",
   "metadata": {},
   "source": [
    "## Модель"
   ]
  },
  {
   "cell_type": "markdown",
   "metadata": {},
   "source": [
    "### Итоговая sMAPE"
   ]
  },
  {
   "cell_type": "markdown",
   "metadata": {},
   "source": [
    "Напишем функцию для итоговой sMAPE:"
   ]
  },
  {
   "cell_type": "code",
   "execution_count": 18,
   "metadata": {},
   "outputs": [],
   "source": [
    "def sMAPE(target, predict):\n",
    "    target = target.to_numpy()\n",
    "    total = 0\n",
    "    for y in range(len(target)):\n",
    "        total += abs(target[y, 0] - predict[y, 0]) / (abs(target[y, 0] + predict[y, 0]) / 2)\n",
    "    sMAPE_1 = total / len(target) * 100\n",
    "    \n",
    "    total = 0\n",
    "    for y in range(len(target)):\n",
    "        total += abs(target[y, 1] - predict[y, 1]) / (abs(target[y, 1] + predict[y, 1]) / 2)\n",
    "    sMAPE_2 = total / len(target) * 100\n",
    "    \n",
    "    return 0.25 * sMAPE_1 + 0.75 * sMAPE_2"
   ]
  },
  {
   "cell_type": "markdown",
   "metadata": {},
   "source": [
    "### Обучение модели"
   ]
  },
  {
   "cell_type": "markdown",
   "metadata": {},
   "source": [
    "Для обучения модели, разделим обучающую выборку на параметры и таргет, отбросив те столбцы, которых нет в тестовой выборке.\n",
    "\n",
    "Так же воспользуемся StandartScaler и отмасштабируем значения (это улучшит качество линейных моделей)"
   ]
  },
  {
   "cell_type": "code",
   "execution_count": 19,
   "metadata": {},
   "outputs": [],
   "source": [
    "features = df_train.drop(columns_not_needed, axis=1)\n",
    "target = df_train[['rougher.output.recovery', 'final.output.recovery']]\n",
    "\n",
    "scaler = StandardScaler()\n",
    "scaler.fit(features) \n",
    "features = scaler.transform(features)"
   ]
  },
  {
   "cell_type": "markdown",
   "metadata": {},
   "source": [
    "Так же сделаем scorer из нашей функции sMAPE:"
   ]
  },
  {
   "cell_type": "code",
   "execution_count": 20,
   "metadata": {},
   "outputs": [],
   "source": [
    "smape_scorer = make_scorer(sMAPE, greater_is_better=False)"
   ]
  },
  {
   "cell_type": "markdown",
   "metadata": {},
   "source": [
    "**Проверим модель линейной регрессии:**"
   ]
  },
  {
   "cell_type": "code",
   "execution_count": 21,
   "metadata": {},
   "outputs": [
    {
     "name": "stdout",
     "output_type": "stream",
     "text": [
      "Средняя оценка качества модели: 10.059602069093598\n"
     ]
    }
   ],
   "source": [
    "model = LinearRegression()\n",
    "\n",
    "scores = -1 * cross_val_score(model, features, target, scoring=smape_scorer, cv=5)\n",
    "final_score = scores.mean()\n",
    "print('Средняя оценка качества модели:', final_score)"
   ]
  },
  {
   "cell_type": "markdown",
   "metadata": {},
   "source": [
    "**Проверим модель дерева решений:**"
   ]
  },
  {
   "cell_type": "code",
   "execution_count": 22,
   "metadata": {},
   "outputs": [
    {
     "name": "stderr",
     "output_type": "stream",
     "text": [
      "100%|██████████| 10/10 [00:23<00:00,  2.35s/it]"
     ]
    },
    {
     "name": "stdout",
     "output_type": "stream",
     "text": [
      "Средняя оценка качества модели: 9.173898877615558\n"
     ]
    },
    {
     "name": "stderr",
     "output_type": "stream",
     "text": [
      "\n"
     ]
    }
   ],
   "source": [
    "best_depth_t = 0\n",
    "final_score_b = 1000\n",
    "\n",
    "for depth in tqdm(range(2, 12)):\n",
    "    model = DecisionTreeRegressor(random_state=12345, max_depth=depth)\n",
    "    scores = -1 * cross_val_score(model, features, target, scoring=smape_scorer, cv=5)\n",
    "    final_score = scores.mean()\n",
    "    if final_score < final_score_b:\n",
    "        final_score_b = final_score\n",
    "        best_depth_t = depth\n",
    "        \n",
    "# сохраним лучшие параметры в словаре\n",
    "tree_best = {'depth':best_depth_t}\n",
    "print('Средняя оценка качества модели:', final_score_b)"
   ]
  },
  {
   "cell_type": "markdown",
   "metadata": {},
   "source": [
    "**Проверим модель случайного леса:**"
   ]
  },
  {
   "cell_type": "code",
   "execution_count": 23,
   "metadata": {},
   "outputs": [
    {
     "name": "stderr",
     "output_type": "stream",
     "text": [
      "100%|██████████| 5/5 [23:16<00:00, 279.30s/it]"
     ]
    },
    {
     "name": "stdout",
     "output_type": "stream",
     "text": [
      "Средняя оценка качества модели: 8.751635585972817\n"
     ]
    },
    {
     "name": "stderr",
     "output_type": "stream",
     "text": [
      "\n"
     ]
    }
   ],
   "source": [
    "best_depth_f = 0\n",
    "best_est_f = 0\n",
    "final_score_b = 1000\n",
    "\n",
    "for est in tqdm(range(10, 51, 10)):\n",
    "    for depth in range (3, 10):\n",
    "        model = RandomForestRegressor(random_state=12345, n_estimators=est, max_depth=depth)\n",
    "        scores = -1 * cross_val_score(model, features, target, scoring=smape_scorer, cv=5)\n",
    "        final_score = scores.mean()\n",
    "        if final_score < final_score_b:\n",
    "            final_score_b = final_score\n",
    "            best_est_f = est\n",
    "            best_depth_f = depth\n",
    "            \n",
    "# сохраняем параметры в словаре\n",
    "forest_best = {'depth':best_depth_f, 'n_estimators':best_est_f}\n",
    "print('Средняя оценка качества модели:', final_score_b)"
   ]
  },
  {
   "cell_type": "code",
   "execution_count": 24,
   "metadata": {},
   "outputs": [
    {
     "data": {
      "text/plain": [
       "{'depth': 4, 'n_estimators': 50}"
      ]
     },
     "execution_count": 24,
     "metadata": {},
     "output_type": "execute_result"
    }
   ],
   "source": [
    "forest_best"
   ]
  },
  {
   "cell_type": "markdown",
   "metadata": {},
   "source": [
    "**Вывод**:\n",
    "\n",
    "Лучшее качество показала модель:\n",
    "* случайный лес с количеством деревьев 50 и глубиной 4\n",
    "\n",
    "\n",
    "Проверим качество на тестовой выборке:"
   ]
  },
  {
   "cell_type": "markdown",
   "metadata": {},
   "source": [
    "### Проверка на тестовой выборке"
   ]
  },
  {
   "cell_type": "markdown",
   "metadata": {},
   "source": [
    "Найдем необходимые значения таргета в полном датасете для тестовой выборке и проверим результаты:"
   ]
  },
  {
   "cell_type": "code",
   "execution_count": 25,
   "metadata": {},
   "outputs": [
    {
     "name": "stdout",
     "output_type": "stream",
     "text": [
      "Итоговый sMAPE на тестовой выборке: 7.175140582779332\n"
     ]
    }
   ],
   "source": [
    "features_train = df_train.drop(columns_not_needed, axis=1)\n",
    "features_train = scaler.transform(features_train)\n",
    "target_train = df_train[['rougher.output.recovery', 'final.output.recovery']]\n",
    "\n",
    "target_test = (\n",
    "    df_full[df_full['date']\n",
    "            .isin(df_test['date'])]\n",
    "    .reset_index(drop=True)\n",
    ")\n",
    "\n",
    "features_test = target_test.drop(columns_not_needed, axis=1)\n",
    "features_test = scaler.transform(features_test)\n",
    "target_test = target_test[['rougher.output.recovery', 'final.output.recovery']]\n",
    "\n",
    "model = RandomForestRegressor(random_state=12345, \n",
    "                              n_estimators=forest_best['n_estimators'], \n",
    "                              max_depth=forest_best['depth'])\n",
    "model.fit(features_train, target_train)\n",
    "predicted = model.predict(features_test)\n",
    "\n",
    "sMAPE_test = sMAPE(target_test, predicted)\n",
    "print('Итоговый sMAPE на тестовой выборке:', sMAPE_test)"
   ]
  },
  {
   "cell_type": "markdown",
   "metadata": {},
   "source": [
    "### Проверка адекватности модели"
   ]
  },
  {
   "cell_type": "code",
   "execution_count": 27,
   "metadata": {},
   "outputs": [
    {
     "name": "stdout",
     "output_type": "stream",
     "text": [
      "Итоговый sMAPE на dummy: 7.766604067388502\n"
     ]
    }
   ],
   "source": [
    "dummy_regr = DummyRegressor(strategy=\"mean\")\n",
    "dummy_regr.fit(features_train, target_train)\n",
    "predicted_dummy = dummy_regr.predict(features_test)\n",
    "\n",
    "sMAPE_dummy = sMAPE(target_test, predicted_dummy)\n",
    "print('Итоговый sMAPE на dummy:', sMAPE_dummy)"
   ]
  },
  {
   "cell_type": "markdown",
   "metadata": {},
   "source": [
    "### Вывод"
   ]
  },
  {
   "cell_type": "markdown",
   "metadata": {},
   "source": [
    "Итоговый sMAPE на тестовой выборке - 7.17\n",
    "Проверка адекватности модели - sMAPE при DummyRegressor - 7.76.\n",
    "\n",
    "Модель на тестовой выборке превосходит константную модель по медиане. Значит такую модель можно использовать."
   ]
  },
  {
   "cell_type": "markdown",
   "metadata": {},
   "source": [
    "## Чек-лист готовности проекта"
   ]
  },
  {
   "cell_type": "markdown",
   "metadata": {},
   "source": [
    "- [x]  Jupyter Notebook открыт\n",
    "- [x]  Весь код выполняется без ошибок\n",
    "- [x]  Ячейки с кодом расположены в порядке выполнения\n",
    "- [x]  Выполнен шаг 1: данные подготовлены\n",
    "    - [x]  Проверена формула вычисления эффективности обогащения\n",
    "    - [x]  Проанализированы признаки, недоступные в тестовой выборке\n",
    "    - [x]  Проведена предобработка данных\n",
    "- [x]  Выполнен шаг 2: данные проанализированы\n",
    "    - [x]  Исследовано изменение концентрации элементов на каждом этапе\n",
    "    - [x]  Проанализированы распределения размеров гранул на обучающей и тестовой выборках\n",
    "    - [x]  Исследованы суммарные концентрации\n",
    "- [x]  Выполнен шаг 3: построена модель прогнозирования\n",
    "    - [x]  Написана функция для вычисления итогового *sMAPE*\n",
    "    - [x]  Обучено и проверено несколько моделей\n",
    "    - [x]  Выбрана лучшая модель, её качество проверено на тестовой выборке"
   ]
  }
 ],
 "metadata": {
  "ExecuteTimeLog": [
   {
    "duration": 18425,
    "start_time": "2022-03-14T18:00:49.310Z"
   },
   {
    "duration": 3811,
    "start_time": "2022-03-14T18:01:07.738Z"
   },
   {
    "duration": 3,
    "start_time": "2022-03-14T18:02:16.696Z"
   },
   {
    "duration": 863,
    "start_time": "2022-03-14T18:04:12.145Z"
   },
   {
    "duration": 35,
    "start_time": "2022-03-14T18:05:13.403Z"
   },
   {
    "duration": 767,
    "start_time": "2022-03-14T18:07:11.473Z"
   },
   {
    "duration": 100,
    "start_time": "2022-03-14T18:07:13.384Z"
   },
   {
    "duration": 60,
    "start_time": "2022-03-14T18:07:34.734Z"
   },
   {
    "duration": 121,
    "start_time": "2022-03-14T18:07:46.746Z"
   },
   {
    "duration": 24,
    "start_time": "2022-03-14T18:08:01.883Z"
   },
   {
    "duration": 17,
    "start_time": "2022-03-14T18:08:17.822Z"
   },
   {
    "duration": 23,
    "start_time": "2022-03-14T18:08:30.800Z"
   },
   {
    "duration": 4,
    "start_time": "2022-03-14T18:35:00.527Z"
   },
   {
    "duration": 4,
    "start_time": "2022-03-14T18:35:29.858Z"
   },
   {
    "duration": 631,
    "start_time": "2022-03-14T18:40:54.942Z"
   },
   {
    "duration": 5,
    "start_time": "2022-03-14T18:41:09.254Z"
   },
   {
    "duration": 8,
    "start_time": "2022-03-14T18:41:11.390Z"
   },
   {
    "duration": 5,
    "start_time": "2022-03-14T18:41:29.935Z"
   },
   {
    "duration": 6,
    "start_time": "2022-03-14T18:41:31.521Z"
   },
   {
    "duration": 3512,
    "start_time": "2022-03-14T18:44:57.043Z"
   },
   {
    "duration": 5,
    "start_time": "2022-03-14T18:45:12.779Z"
   },
   {
    "duration": 17,
    "start_time": "2022-03-14T18:45:17.931Z"
   },
   {
    "duration": 356,
    "start_time": "2022-03-14T18:49:36.622Z"
   },
   {
    "duration": 389,
    "start_time": "2022-03-14T18:49:51.538Z"
   },
   {
    "duration": 376,
    "start_time": "2022-03-14T18:53:18.030Z"
   },
   {
    "duration": 15,
    "start_time": "2022-03-14T18:53:36.349Z"
   },
   {
    "duration": 382,
    "start_time": "2022-03-14T18:54:31.010Z"
   },
   {
    "duration": 13,
    "start_time": "2022-03-14T18:54:33.237Z"
   },
   {
    "duration": 6,
    "start_time": "2022-03-14T18:54:51.337Z"
   },
   {
    "duration": 487,
    "start_time": "2022-03-14T18:55:01.515Z"
   },
   {
    "duration": 355,
    "start_time": "2022-03-14T18:55:43.690Z"
   },
   {
    "duration": 16,
    "start_time": "2022-03-14T18:55:46.018Z"
   },
   {
    "duration": 10,
    "start_time": "2022-03-14T18:56:20.221Z"
   },
   {
    "duration": 7,
    "start_time": "2022-03-14T18:57:54.950Z"
   },
   {
    "duration": 17,
    "start_time": "2022-03-14T18:58:09.919Z"
   },
   {
    "duration": 13,
    "start_time": "2022-03-14T18:59:21.413Z"
   },
   {
    "duration": 231,
    "start_time": "2022-03-15T18:33:00.379Z"
   },
   {
    "duration": 4,
    "start_time": "2022-03-15T18:33:09.156Z"
   },
   {
    "duration": 1811,
    "start_time": "2022-03-15T18:33:09.163Z"
   },
   {
    "duration": 208,
    "start_time": "2022-03-15T18:33:10.770Z"
   },
   {
    "duration": 210,
    "start_time": "2022-03-15T18:33:10.771Z"
   },
   {
    "duration": 209,
    "start_time": "2022-03-15T18:33:10.773Z"
   },
   {
    "duration": 208,
    "start_time": "2022-03-15T18:33:10.776Z"
   },
   {
    "duration": 207,
    "start_time": "2022-03-15T18:33:10.778Z"
   },
   {
    "duration": 206,
    "start_time": "2022-03-15T18:33:10.780Z"
   },
   {
    "duration": 206,
    "start_time": "2022-03-15T18:33:10.781Z"
   },
   {
    "duration": 205,
    "start_time": "2022-03-15T18:33:10.784Z"
   },
   {
    "duration": 205,
    "start_time": "2022-03-15T18:33:10.786Z"
   },
   {
    "duration": 203,
    "start_time": "2022-03-15T18:33:10.789Z"
   },
   {
    "duration": 201,
    "start_time": "2022-03-15T18:33:10.792Z"
   },
   {
    "duration": 202,
    "start_time": "2022-03-15T18:33:10.793Z"
   },
   {
    "duration": 196,
    "start_time": "2022-03-15T18:33:10.800Z"
   },
   {
    "duration": 196,
    "start_time": "2022-03-15T18:33:10.801Z"
   },
   {
    "duration": 197,
    "start_time": "2022-03-15T18:33:10.802Z"
   },
   {
    "duration": 14,
    "start_time": "2022-03-15T18:33:21.538Z"
   },
   {
    "duration": 4,
    "start_time": "2022-03-15T18:33:30.276Z"
   },
   {
    "duration": 1542,
    "start_time": "2022-03-15T18:33:30.287Z"
   },
   {
    "duration": 868,
    "start_time": "2022-03-15T18:33:31.832Z"
   },
   {
    "duration": 27,
    "start_time": "2022-03-15T18:33:32.704Z"
   },
   {
    "duration": 18,
    "start_time": "2022-03-15T18:33:32.735Z"
   },
   {
    "duration": 27,
    "start_time": "2022-03-15T18:33:32.788Z"
   },
   {
    "duration": 120,
    "start_time": "2022-03-15T18:33:32.818Z"
   },
   {
    "duration": 137,
    "start_time": "2022-03-15T18:33:32.942Z"
   },
   {
    "duration": 203,
    "start_time": "2022-03-15T18:33:33.087Z"
   },
   {
    "duration": 7,
    "start_time": "2022-03-15T18:33:33.296Z"
   },
   {
    "duration": 23,
    "start_time": "2022-03-15T18:33:33.307Z"
   },
   {
    "duration": 27,
    "start_time": "2022-03-15T18:33:33.332Z"
   },
   {
    "duration": 623,
    "start_time": "2022-03-15T18:33:33.361Z"
   },
   {
    "duration": 12,
    "start_time": "2022-03-15T18:33:33.988Z"
   },
   {
    "duration": 24,
    "start_time": "2022-03-15T18:33:34.003Z"
   },
   {
    "duration": 55,
    "start_time": "2022-03-15T18:33:34.030Z"
   },
   {
    "duration": 214,
    "start_time": "2022-03-15T18:33:33.874Z"
   },
   {
    "duration": 7,
    "start_time": "2022-03-15T18:33:39.524Z"
   },
   {
    "duration": 53,
    "start_time": "2022-03-15T18:37:56.048Z"
   },
   {
    "duration": 940,
    "start_time": "2022-03-15T18:38:05.555Z"
   },
   {
    "duration": 293,
    "start_time": "2022-03-15T18:38:40.180Z"
   },
   {
    "duration": 4,
    "start_time": "2022-03-15T18:38:46.010Z"
   },
   {
    "duration": 11,
    "start_time": "2022-03-15T18:39:08.022Z"
   },
   {
    "duration": 5,
    "start_time": "2022-03-15T18:42:58.529Z"
   },
   {
    "duration": 11,
    "start_time": "2022-03-15T18:43:03.571Z"
   },
   {
    "duration": 160,
    "start_time": "2022-03-15T18:48:04.611Z"
   },
   {
    "duration": 176,
    "start_time": "2022-03-15T18:48:24.995Z"
   },
   {
    "duration": 172,
    "start_time": "2022-03-15T18:48:54.857Z"
   },
   {
    "duration": 24,
    "start_time": "2022-03-15T18:49:14.343Z"
   },
   {
    "duration": 17,
    "start_time": "2022-03-15T18:49:33.396Z"
   },
   {
    "duration": 15,
    "start_time": "2022-03-15T18:50:15.510Z"
   },
   {
    "duration": 18,
    "start_time": "2022-03-15T18:50:37.050Z"
   },
   {
    "duration": 178,
    "start_time": "2022-03-15T18:51:49.673Z"
   },
   {
    "duration": 18,
    "start_time": "2022-03-15T18:51:56.951Z"
   },
   {
    "duration": 19,
    "start_time": "2022-03-15T18:52:02.213Z"
   },
   {
    "duration": 172,
    "start_time": "2022-03-15T18:52:46.451Z"
   },
   {
    "duration": 158,
    "start_time": "2022-03-15T18:53:23.859Z"
   },
   {
    "duration": 173,
    "start_time": "2022-03-15T18:54:01.740Z"
   },
   {
    "duration": 18,
    "start_time": "2022-03-15T18:54:12.199Z"
   },
   {
    "duration": 18,
    "start_time": "2022-03-15T18:54:22.108Z"
   },
   {
    "duration": 3967,
    "start_time": "2022-03-15T18:54:31.543Z"
   },
   {
    "duration": 195,
    "start_time": "2022-03-15T18:55:34.265Z"
   },
   {
    "duration": 20,
    "start_time": "2022-03-15T18:56:51.809Z"
   },
   {
    "duration": 17,
    "start_time": "2022-03-15T18:57:11.607Z"
   },
   {
    "duration": 162,
    "start_time": "2022-03-15T18:57:25.176Z"
   },
   {
    "duration": 25,
    "start_time": "2022-03-15T18:58:50.968Z"
   },
   {
    "duration": 208,
    "start_time": "2022-03-15T19:26:25.450Z"
   },
   {
    "duration": 149,
    "start_time": "2022-03-15T19:26:40.362Z"
   },
   {
    "duration": 123,
    "start_time": "2022-03-15T19:27:05.630Z"
   },
   {
    "duration": 460,
    "start_time": "2022-03-15T19:27:14.869Z"
   },
   {
    "duration": 124,
    "start_time": "2022-03-15T19:27:24.311Z"
   },
   {
    "duration": 1851,
    "start_time": "2022-03-15T19:27:44.299Z"
   },
   {
    "duration": 154,
    "start_time": "2022-03-15T19:28:12.102Z"
   },
   {
    "duration": 120,
    "start_time": "2022-03-15T19:28:17.405Z"
   },
   {
    "duration": 1722,
    "start_time": "2022-03-15T19:28:23.400Z"
   },
   {
    "duration": 239,
    "start_time": "2022-03-15T19:28:37.943Z"
   },
   {
    "duration": 354,
    "start_time": "2022-03-15T19:28:48.084Z"
   },
   {
    "duration": 156,
    "start_time": "2022-03-15T19:29:20.959Z"
   },
   {
    "duration": 124,
    "start_time": "2022-03-15T19:29:24.216Z"
   },
   {
    "duration": 216,
    "start_time": "2022-03-15T19:30:47.986Z"
   },
   {
    "duration": 196,
    "start_time": "2022-03-15T19:31:11.054Z"
   },
   {
    "duration": 8,
    "start_time": "2022-03-15T19:31:19.108Z"
   },
   {
    "duration": 15,
    "start_time": "2022-03-15T19:31:43.148Z"
   },
   {
    "duration": 9,
    "start_time": "2022-03-15T19:31:53.868Z"
   },
   {
    "duration": 4,
    "start_time": "2022-03-17T17:33:06.536Z"
   },
   {
    "duration": 1714,
    "start_time": "2022-03-17T17:33:06.542Z"
   },
   {
    "duration": 704,
    "start_time": "2022-03-17T17:33:08.258Z"
   },
   {
    "duration": 25,
    "start_time": "2022-03-17T17:33:08.964Z"
   },
   {
    "duration": 13,
    "start_time": "2022-03-17T17:33:08.991Z"
   },
   {
    "duration": 17,
    "start_time": "2022-03-17T17:33:09.005Z"
   },
   {
    "duration": 75,
    "start_time": "2022-03-17T17:33:09.026Z"
   },
   {
    "duration": 33,
    "start_time": "2022-03-17T17:33:09.103Z"
   },
   {
    "duration": 69,
    "start_time": "2022-03-17T17:33:09.138Z"
   },
   {
    "duration": 3,
    "start_time": "2022-03-17T17:33:09.209Z"
   },
   {
    "duration": 6,
    "start_time": "2022-03-17T17:33:09.214Z"
   },
   {
    "duration": 10,
    "start_time": "2022-03-17T17:33:09.222Z"
   },
   {
    "duration": 172,
    "start_time": "2022-03-17T17:33:09.233Z"
   },
   {
    "duration": 9,
    "start_time": "2022-03-17T17:33:09.407Z"
   },
   {
    "duration": 6,
    "start_time": "2022-03-17T17:33:09.418Z"
   },
   {
    "duration": 9,
    "start_time": "2022-03-17T17:33:09.425Z"
   },
   {
    "duration": 14,
    "start_time": "2022-03-17T17:33:09.435Z"
   },
   {
    "duration": 32,
    "start_time": "2022-03-17T17:33:09.450Z"
   },
   {
    "duration": 7,
    "start_time": "2022-03-17T17:34:24.252Z"
   },
   {
    "duration": 6,
    "start_time": "2022-03-17T17:34:36.698Z"
   },
   {
    "duration": 5,
    "start_time": "2022-03-17T17:34:54.885Z"
   },
   {
    "duration": 129,
    "start_time": "2022-03-17T17:35:03.285Z"
   },
   {
    "duration": 12,
    "start_time": "2022-03-17T17:35:20.551Z"
   },
   {
    "duration": 7,
    "start_time": "2022-03-17T17:35:31.138Z"
   },
   {
    "duration": 9,
    "start_time": "2022-03-17T17:35:37.305Z"
   },
   {
    "duration": 11,
    "start_time": "2022-03-17T17:36:50.557Z"
   },
   {
    "duration": 7,
    "start_time": "2022-03-17T17:37:19.748Z"
   },
   {
    "duration": 4,
    "start_time": "2022-03-17T17:37:37.873Z"
   },
   {
    "duration": 5,
    "start_time": "2022-03-17T17:37:44.570Z"
   },
   {
    "duration": 17,
    "start_time": "2022-03-17T17:38:19.147Z"
   },
   {
    "duration": 192,
    "start_time": "2022-03-17T17:38:33.455Z"
   },
   {
    "duration": 2104,
    "start_time": "2022-03-17T17:38:35.455Z"
   },
   {
    "duration": 14,
    "start_time": "2022-03-17T17:39:19.007Z"
   },
   {
    "duration": 75,
    "start_time": "2022-03-17T17:46:52.778Z"
   },
   {
    "duration": 164,
    "start_time": "2022-03-17T17:47:44.562Z"
   },
   {
    "duration": 58,
    "start_time": "2022-03-17T17:49:50.113Z"
   },
   {
    "duration": 5,
    "start_time": "2022-03-17T17:50:55.996Z"
   },
   {
    "duration": 3,
    "start_time": "2022-03-17T17:51:01.832Z"
   },
   {
    "duration": 1606,
    "start_time": "2022-03-17T17:51:01.837Z"
   },
   {
    "duration": 741,
    "start_time": "2022-03-17T17:51:03.444Z"
   },
   {
    "duration": 20,
    "start_time": "2022-03-17T17:51:04.188Z"
   },
   {
    "duration": 12,
    "start_time": "2022-03-17T17:51:04.210Z"
   },
   {
    "duration": 15,
    "start_time": "2022-03-17T17:51:04.223Z"
   },
   {
    "duration": 83,
    "start_time": "2022-03-17T17:51:04.240Z"
   },
   {
    "duration": 34,
    "start_time": "2022-03-17T17:51:04.324Z"
   },
   {
    "duration": 66,
    "start_time": "2022-03-17T17:51:04.360Z"
   },
   {
    "duration": 3,
    "start_time": "2022-03-17T17:51:04.428Z"
   },
   {
    "duration": 6,
    "start_time": "2022-03-17T17:51:04.434Z"
   },
   {
    "duration": 10,
    "start_time": "2022-03-17T17:51:04.441Z"
   },
   {
    "duration": 284,
    "start_time": "2022-03-17T17:51:04.453Z"
   },
   {
    "duration": 0,
    "start_time": "2022-03-17T17:51:04.739Z"
   },
   {
    "duration": 0,
    "start_time": "2022-03-17T17:51:04.741Z"
   },
   {
    "duration": 0,
    "start_time": "2022-03-17T17:51:04.742Z"
   },
   {
    "duration": 0,
    "start_time": "2022-03-17T17:51:04.743Z"
   },
   {
    "duration": 0,
    "start_time": "2022-03-17T17:51:04.744Z"
   },
   {
    "duration": 164,
    "start_time": "2022-03-17T17:51:14.076Z"
   },
   {
    "duration": 9,
    "start_time": "2022-03-17T17:51:16.800Z"
   },
   {
    "duration": 5,
    "start_time": "2022-03-17T17:51:18.054Z"
   },
   {
    "duration": 4,
    "start_time": "2022-03-17T17:51:19.177Z"
   },
   {
    "duration": 13,
    "start_time": "2022-03-17T17:51:20.716Z"
   },
   {
    "duration": 16,
    "start_time": "2022-03-17T17:51:23.122Z"
   },
   {
    "duration": 136,
    "start_time": "2022-03-17T17:53:04.706Z"
   },
   {
    "duration": 29,
    "start_time": "2022-03-17T17:53:10.647Z"
   },
   {
    "duration": 162,
    "start_time": "2022-03-17T17:53:16.449Z"
   },
   {
    "duration": 126,
    "start_time": "2022-03-17T17:53:21.024Z"
   },
   {
    "duration": 738,
    "start_time": "2022-03-17T17:54:12.869Z"
   },
   {
    "duration": 35,
    "start_time": "2022-03-17T17:54:29.194Z"
   },
   {
    "duration": 30,
    "start_time": "2022-03-17T17:54:46.693Z"
   },
   {
    "duration": 30,
    "start_time": "2022-03-17T17:55:09.542Z"
   },
   {
    "duration": 101,
    "start_time": "2022-03-17T17:55:19.069Z"
   },
   {
    "duration": 38,
    "start_time": "2022-03-17T17:55:39.366Z"
   },
   {
    "duration": 174,
    "start_time": "2022-03-17T17:56:03.393Z"
   },
   {
    "duration": 4,
    "start_time": "2022-03-17T17:56:40.253Z"
   },
   {
    "duration": 191,
    "start_time": "2022-03-17T17:57:15.270Z"
   },
   {
    "duration": 243,
    "start_time": "2022-03-17T17:58:06.599Z"
   },
   {
    "duration": 31,
    "start_time": "2022-03-17T17:58:39.755Z"
   },
   {
    "duration": 192,
    "start_time": "2022-03-17T18:00:55.066Z"
   },
   {
    "duration": 84,
    "start_time": "2022-03-17T18:03:05.080Z"
   },
   {
    "duration": 11,
    "start_time": "2022-03-17T18:03:12.500Z"
   },
   {
    "duration": 60,
    "start_time": "2022-03-17T18:03:28.587Z"
   },
   {
    "duration": 73,
    "start_time": "2022-03-17T18:03:54.928Z"
   },
   {
    "duration": 75,
    "start_time": "2022-03-17T18:04:15.539Z"
   },
   {
    "duration": 99,
    "start_time": "2022-03-17T18:04:27.507Z"
   },
   {
    "duration": 69,
    "start_time": "2022-03-17T18:04:51.003Z"
   },
   {
    "duration": 19,
    "start_time": "2022-03-17T18:05:21.015Z"
   },
   {
    "duration": 5,
    "start_time": "2022-03-17T18:05:29.437Z"
   },
   {
    "duration": 167,
    "start_time": "2022-03-17T18:05:35.839Z"
   },
   {
    "duration": 0,
    "start_time": "2022-03-17T18:07:37.908Z"
   },
   {
    "duration": 177,
    "start_time": "2022-03-17T18:07:39.506Z"
   },
   {
    "duration": 228,
    "start_time": "2022-03-17T18:07:51.508Z"
   },
   {
    "duration": 228,
    "start_time": "2022-03-17T18:08:08.991Z"
   },
   {
    "duration": 154,
    "start_time": "2022-03-17T18:08:17.112Z"
   },
   {
    "duration": 136,
    "start_time": "2022-03-17T18:08:23.684Z"
   },
   {
    "duration": 139,
    "start_time": "2022-03-17T18:08:26.302Z"
   },
   {
    "duration": 254,
    "start_time": "2022-03-17T18:08:34.824Z"
   },
   {
    "duration": 369,
    "start_time": "2022-03-17T18:08:49.656Z"
   },
   {
    "duration": 142,
    "start_time": "2022-03-17T18:08:52.809Z"
   },
   {
    "duration": 59,
    "start_time": "2022-03-17T18:18:09.950Z"
   },
   {
    "duration": 5,
    "start_time": "2022-03-17T18:18:54.322Z"
   },
   {
    "duration": 7,
    "start_time": "2022-03-17T18:19:05.197Z"
   },
   {
    "duration": 32,
    "start_time": "2022-03-17T18:19:22.017Z"
   },
   {
    "duration": 33,
    "start_time": "2022-03-17T18:19:39.872Z"
   },
   {
    "duration": 383,
    "start_time": "2022-03-17T18:20:05.026Z"
   },
   {
    "duration": 305,
    "start_time": "2022-03-17T18:20:23.777Z"
   },
   {
    "duration": 198,
    "start_time": "2022-03-17T18:20:29.610Z"
   },
   {
    "duration": 134,
    "start_time": "2022-03-17T18:21:02.902Z"
   },
   {
    "duration": 4,
    "start_time": "2022-03-17T18:22:31.966Z"
   },
   {
    "duration": 4,
    "start_time": "2022-03-17T18:22:46.406Z"
   },
   {
    "duration": 9,
    "start_time": "2022-03-17T18:22:49.571Z"
   },
   {
    "duration": 19,
    "start_time": "2022-03-17T18:23:05.060Z"
   },
   {
    "duration": 18,
    "start_time": "2022-03-17T18:23:26.734Z"
   },
   {
    "duration": 13,
    "start_time": "2022-03-17T18:24:01.481Z"
   },
   {
    "duration": 15,
    "start_time": "2022-03-17T18:24:05.788Z"
   },
   {
    "duration": 11,
    "start_time": "2022-03-17T18:24:09.041Z"
   },
   {
    "duration": 126,
    "start_time": "2022-03-17T18:24:38.436Z"
   },
   {
    "duration": 15,
    "start_time": "2022-03-17T18:25:32.359Z"
   },
   {
    "duration": 11,
    "start_time": "2022-03-17T18:25:56.319Z"
   },
   {
    "duration": 11,
    "start_time": "2022-03-17T18:26:12.380Z"
   },
   {
    "duration": 12,
    "start_time": "2022-03-17T18:26:15.747Z"
   },
   {
    "duration": 3522,
    "start_time": "2022-03-17T18:26:30.526Z"
   },
   {
    "duration": 12,
    "start_time": "2022-03-17T18:26:39.763Z"
   },
   {
    "duration": 3380,
    "start_time": "2022-03-17T18:26:50.242Z"
   },
   {
    "duration": 42,
    "start_time": "2022-03-17T18:27:03.397Z"
   },
   {
    "duration": 49,
    "start_time": "2022-03-17T18:27:07.426Z"
   },
   {
    "duration": 64,
    "start_time": "2022-03-17T18:27:10.870Z"
   },
   {
    "duration": 51,
    "start_time": "2022-03-17T18:27:18.331Z"
   },
   {
    "duration": 3449,
    "start_time": "2022-03-17T18:27:30.630Z"
   },
   {
    "duration": 11,
    "start_time": "2022-03-17T18:29:17.780Z"
   },
   {
    "duration": 9,
    "start_time": "2022-03-17T18:29:29.266Z"
   },
   {
    "duration": 14,
    "start_time": "2022-03-17T18:30:57.575Z"
   },
   {
    "duration": 21,
    "start_time": "2022-03-17T18:32:19.498Z"
   },
   {
    "duration": 136,
    "start_time": "2022-03-17T18:34:14.486Z"
   },
   {
    "duration": 73,
    "start_time": "2022-03-17T18:41:06.594Z"
   },
   {
    "duration": 19,
    "start_time": "2022-03-17T18:41:21.606Z"
   },
   {
    "duration": 17,
    "start_time": "2022-03-17T18:41:32.933Z"
   },
   {
    "duration": 22,
    "start_time": "2022-03-17T18:42:30.460Z"
   },
   {
    "duration": 18,
    "start_time": "2022-03-17T18:42:41.182Z"
   },
   {
    "duration": 17,
    "start_time": "2022-03-17T18:42:57.070Z"
   },
   {
    "duration": 17,
    "start_time": "2022-03-17T18:43:13.029Z"
   },
   {
    "duration": 8,
    "start_time": "2022-03-17T18:45:03.331Z"
   },
   {
    "duration": 10,
    "start_time": "2022-03-17T18:45:11.039Z"
   },
   {
    "duration": 3,
    "start_time": "2022-03-17T18:46:29.452Z"
   },
   {
    "duration": 9,
    "start_time": "2022-03-17T18:48:01.453Z"
   },
   {
    "duration": 6,
    "start_time": "2022-03-17T18:48:17.563Z"
   },
   {
    "duration": 14,
    "start_time": "2022-03-17T18:48:48.860Z"
   },
   {
    "duration": 14,
    "start_time": "2022-03-17T18:49:17.582Z"
   },
   {
    "duration": 14,
    "start_time": "2022-03-17T18:49:23.477Z"
   },
   {
    "duration": 53,
    "start_time": "2022-03-17T18:49:39.730Z"
   },
   {
    "duration": 220,
    "start_time": "2022-03-17T18:50:01.977Z"
   },
   {
    "duration": 257,
    "start_time": "2022-03-17T18:50:14.297Z"
   },
   {
    "duration": 62,
    "start_time": "2022-03-17T18:50:17.789Z"
   },
   {
    "duration": 64,
    "start_time": "2022-03-17T18:50:27.267Z"
   },
   {
    "duration": 94,
    "start_time": "2022-03-17T18:50:40.172Z"
   },
   {
    "duration": 66,
    "start_time": "2022-03-17T18:50:45.556Z"
   },
   {
    "duration": 10,
    "start_time": "2022-03-17T18:50:56.506Z"
   },
   {
    "duration": 17,
    "start_time": "2022-03-17T18:51:20.909Z"
   },
   {
    "duration": 14,
    "start_time": "2022-03-17T18:51:44.205Z"
   },
   {
    "duration": 13,
    "start_time": "2022-03-17T18:51:58.057Z"
   },
   {
    "duration": 13,
    "start_time": "2022-03-17T18:52:16.821Z"
   },
   {
    "duration": 60,
    "start_time": "2022-03-17T18:53:05.645Z"
   },
   {
    "duration": 22,
    "start_time": "2022-03-17T18:53:30.212Z"
   },
   {
    "duration": 27,
    "start_time": "2022-03-17T18:53:48.264Z"
   },
   {
    "duration": 19,
    "start_time": "2022-03-17T18:54:00.367Z"
   },
   {
    "duration": 81,
    "start_time": "2022-03-17T18:54:22.626Z"
   },
   {
    "duration": 6,
    "start_time": "2022-03-17T18:54:32.045Z"
   },
   {
    "duration": 7,
    "start_time": "2022-03-17T18:54:41.199Z"
   },
   {
    "duration": 5,
    "start_time": "2022-03-17T18:54:44.632Z"
   },
   {
    "duration": 8,
    "start_time": "2022-03-17T18:54:59.435Z"
   },
   {
    "duration": 5,
    "start_time": "2022-03-17T18:55:03.261Z"
   },
   {
    "duration": 6,
    "start_time": "2022-03-17T18:55:28.507Z"
   },
   {
    "duration": 6,
    "start_time": "2022-03-17T18:55:34.929Z"
   },
   {
    "duration": 6,
    "start_time": "2022-03-17T18:55:46.070Z"
   },
   {
    "duration": 18,
    "start_time": "2022-03-17T18:56:19.957Z"
   },
   {
    "duration": 13,
    "start_time": "2022-03-17T18:56:29.138Z"
   },
   {
    "duration": 27,
    "start_time": "2022-03-17T18:56:31.908Z"
   },
   {
    "duration": 228,
    "start_time": "2022-03-17T18:56:50.953Z"
   },
   {
    "duration": 204,
    "start_time": "2022-03-17T18:56:59.810Z"
   },
   {
    "duration": 24,
    "start_time": "2022-03-17T18:57:06.938Z"
   },
   {
    "duration": 6,
    "start_time": "2022-03-17T18:58:05.122Z"
   },
   {
    "duration": 5,
    "start_time": "2022-03-17T18:58:15.341Z"
   },
   {
    "duration": 9,
    "start_time": "2022-03-17T18:58:25.538Z"
   },
   {
    "duration": 11,
    "start_time": "2022-03-17T18:58:31.153Z"
   },
   {
    "duration": 4,
    "start_time": "2022-03-17T18:58:38.331Z"
   },
   {
    "duration": 15,
    "start_time": "2022-03-17T18:59:28.101Z"
   },
   {
    "duration": 16,
    "start_time": "2022-03-17T18:59:48.205Z"
   },
   {
    "duration": 14,
    "start_time": "2022-03-17T19:00:08.762Z"
   },
   {
    "duration": 14,
    "start_time": "2022-03-17T19:00:18.902Z"
   },
   {
    "duration": 3856,
    "start_time": "2022-03-17T19:01:05.161Z"
   },
   {
    "duration": 5,
    "start_time": "2022-03-17T19:01:11.455Z"
   },
   {
    "duration": 1808,
    "start_time": "2022-03-17T19:01:20.805Z"
   },
   {
    "duration": 1824,
    "start_time": "2022-03-17T19:01:28.383Z"
   },
   {
    "duration": 13,
    "start_time": "2022-03-17T19:02:02.514Z"
   },
   {
    "duration": 1032,
    "start_time": "2022-03-17T19:02:21.179Z"
   },
   {
    "duration": 22,
    "start_time": "2022-03-17T19:02:46.486Z"
   },
   {
    "duration": 27,
    "start_time": "2022-03-17T19:02:53.138Z"
   },
   {
    "duration": 28,
    "start_time": "2022-03-17T19:03:01.562Z"
   },
   {
    "duration": 21,
    "start_time": "2022-03-17T19:03:10.210Z"
   },
   {
    "duration": 70,
    "start_time": "2022-03-17T19:03:20.002Z"
   },
   {
    "duration": 13,
    "start_time": "2022-03-17T19:03:35.462Z"
   },
   {
    "duration": 80,
    "start_time": "2022-03-17T19:03:49.582Z"
   },
   {
    "duration": 102,
    "start_time": "2022-03-17T19:04:08.896Z"
   },
   {
    "duration": 924,
    "start_time": "2022-03-17T19:04:13.435Z"
   },
   {
    "duration": 4,
    "start_time": "2022-03-17T19:04:25.079Z"
   },
   {
    "duration": 123,
    "start_time": "2022-03-17T19:04:34.765Z"
   },
   {
    "duration": 15,
    "start_time": "2022-03-17T19:05:07.230Z"
   },
   {
    "duration": 5,
    "start_time": "2022-03-17T19:05:23.402Z"
   },
   {
    "duration": 4,
    "start_time": "2022-03-17T19:05:30.436Z"
   },
   {
    "duration": 5,
    "start_time": "2022-03-17T19:05:40.660Z"
   },
   {
    "duration": 5,
    "start_time": "2022-03-17T19:05:55.162Z"
   },
   {
    "duration": 4,
    "start_time": "2022-03-17T19:06:04.010Z"
   },
   {
    "duration": 19,
    "start_time": "2022-03-17T19:06:09.077Z"
   },
   {
    "duration": 11,
    "start_time": "2022-03-17T19:06:26.606Z"
   },
   {
    "duration": 43,
    "start_time": "2022-03-17T19:10:02.880Z"
   },
   {
    "duration": 6,
    "start_time": "2022-03-17T19:10:08.158Z"
   },
   {
    "duration": 48,
    "start_time": "2022-03-17T19:10:11.896Z"
   },
   {
    "duration": 27,
    "start_time": "2022-03-17T19:10:26.004Z"
   },
   {
    "duration": 883,
    "start_time": "2022-03-17T19:10:53.433Z"
   },
   {
    "duration": 73,
    "start_time": "2022-03-17T19:11:01.780Z"
   },
   {
    "duration": 50,
    "start_time": "2022-03-17T19:11:11.767Z"
   },
   {
    "duration": 98,
    "start_time": "2022-03-17T19:11:23.401Z"
   },
   {
    "duration": 62,
    "start_time": "2022-03-17T19:11:36.760Z"
   },
   {
    "duration": 3501,
    "start_time": "2022-03-17T19:12:06.694Z"
   },
   {
    "duration": 21,
    "start_time": "2022-03-17T19:12:16.564Z"
   },
   {
    "duration": 18,
    "start_time": "2022-03-17T19:12:27.878Z"
   },
   {
    "duration": 17,
    "start_time": "2022-03-17T19:12:44.845Z"
   },
   {
    "duration": 95,
    "start_time": "2022-03-17T19:12:53.806Z"
   },
   {
    "duration": 5,
    "start_time": "2022-03-17T19:13:47.718Z"
   },
   {
    "duration": 101,
    "start_time": "2022-03-17T19:13:52.905Z"
   },
   {
    "duration": 19,
    "start_time": "2022-03-17T19:14:01.073Z"
   },
   {
    "duration": 5,
    "start_time": "2022-03-17T19:14:13.706Z"
   },
   {
    "duration": 18,
    "start_time": "2022-03-17T19:14:16.659Z"
   },
   {
    "duration": 87,
    "start_time": "2022-03-17T19:14:38.280Z"
   },
   {
    "duration": 3,
    "start_time": "2022-03-17T19:15:08.202Z"
   },
   {
    "duration": 5,
    "start_time": "2022-03-17T19:15:10.315Z"
   },
   {
    "duration": 110,
    "start_time": "2022-03-17T19:15:12.816Z"
   },
   {
    "duration": 4,
    "start_time": "2022-03-17T19:19:01.038Z"
   },
   {
    "duration": 26,
    "start_time": "2022-03-17T19:19:49.970Z"
   },
   {
    "duration": 4,
    "start_time": "2022-03-17T19:20:23.697Z"
   },
   {
    "duration": 11,
    "start_time": "2022-03-17T19:20:44.375Z"
   },
   {
    "duration": 5,
    "start_time": "2022-03-17T19:20:51.462Z"
   },
   {
    "duration": 16,
    "start_time": "2022-03-17T19:21:24.697Z"
   },
   {
    "duration": 82,
    "start_time": "2022-03-17T19:22:02.271Z"
   },
   {
    "duration": 18,
    "start_time": "2022-03-17T19:22:11.668Z"
   },
   {
    "duration": 109,
    "start_time": "2022-03-17T19:22:20.602Z"
   },
   {
    "duration": 4,
    "start_time": "2022-03-17T19:22:28.020Z"
   },
   {
    "duration": 20,
    "start_time": "2022-03-17T19:22:46.009Z"
   },
   {
    "duration": 101,
    "start_time": "2022-03-17T19:22:53.988Z"
   },
   {
    "duration": 3,
    "start_time": "2022-03-17T19:23:20.826Z"
   },
   {
    "duration": 17,
    "start_time": "2022-03-17T19:23:22.244Z"
   },
   {
    "duration": 54,
    "start_time": "2022-03-17T19:23:23.523Z"
   },
   {
    "duration": 102,
    "start_time": "2022-03-17T19:23:30.945Z"
   },
   {
    "duration": 4,
    "start_time": "2022-03-17T19:23:48.947Z"
   },
   {
    "duration": 15,
    "start_time": "2022-03-17T19:23:49.695Z"
   },
   {
    "duration": 77,
    "start_time": "2022-03-17T19:23:50.525Z"
   },
   {
    "duration": 20,
    "start_time": "2022-03-17T19:24:38.542Z"
   },
   {
    "duration": 10,
    "start_time": "2022-03-17T19:24:54.319Z"
   },
   {
    "duration": 8,
    "start_time": "2022-03-17T19:25:01.783Z"
   },
   {
    "duration": 12,
    "start_time": "2022-03-17T19:27:38.148Z"
   },
   {
    "duration": 4,
    "start_time": "2022-03-17T19:27:43.952Z"
   },
   {
    "duration": 1778,
    "start_time": "2022-03-17T19:27:43.958Z"
   },
   {
    "duration": 928,
    "start_time": "2022-03-17T19:27:45.740Z"
   },
   {
    "duration": 194,
    "start_time": "2022-03-17T19:27:46.670Z"
   },
   {
    "duration": 4,
    "start_time": "2022-03-17T19:27:46.881Z"
   },
   {
    "duration": 8,
    "start_time": "2022-03-17T19:27:46.887Z"
   },
   {
    "duration": 239,
    "start_time": "2022-03-17T19:27:46.897Z"
   },
   {
    "duration": 4,
    "start_time": "2022-03-17T19:27:47.138Z"
   },
   {
    "duration": 14,
    "start_time": "2022-03-17T19:27:47.143Z"
   },
   {
    "duration": 30,
    "start_time": "2022-03-17T19:27:47.160Z"
   },
   {
    "duration": 250,
    "start_time": "2022-03-17T19:27:47.192Z"
   },
   {
    "duration": 44,
    "start_time": "2022-03-17T19:27:47.443Z"
   },
   {
    "duration": 178,
    "start_time": "2022-03-17T19:27:47.489Z"
   },
   {
    "duration": 25,
    "start_time": "2022-03-17T19:27:47.669Z"
   },
   {
    "duration": 204,
    "start_time": "2022-03-17T19:30:19.123Z"
   },
   {
    "duration": 171,
    "start_time": "2022-03-17T19:30:39.214Z"
   },
   {
    "duration": 197,
    "start_time": "2022-03-17T19:30:56.015Z"
   },
   {
    "duration": 151,
    "start_time": "2022-03-17T19:32:25.468Z"
   },
   {
    "duration": 270,
    "start_time": "2022-03-17T19:32:36.356Z"
   },
   {
    "duration": 197,
    "start_time": "2022-03-17T19:33:11.302Z"
   },
   {
    "duration": 4,
    "start_time": "2022-03-17T19:33:57.979Z"
   },
   {
    "duration": 4,
    "start_time": "2022-03-17T19:34:16.827Z"
   },
   {
    "duration": 6,
    "start_time": "2022-03-17T19:34:31.144Z"
   },
   {
    "duration": 4,
    "start_time": "2022-03-17T19:34:45.209Z"
   },
   {
    "duration": 169,
    "start_time": "2022-03-17T19:35:16.047Z"
   },
   {
    "duration": 265,
    "start_time": "2022-03-17T19:36:05.458Z"
   },
   {
    "duration": 245,
    "start_time": "2022-03-17T19:36:13.298Z"
   },
   {
    "duration": 261,
    "start_time": "2022-03-17T19:36:56.959Z"
   },
   {
    "duration": 326,
    "start_time": "2022-03-17T19:37:11.674Z"
   },
   {
    "duration": 177,
    "start_time": "2022-03-17T19:37:21.374Z"
   },
   {
    "duration": 256,
    "start_time": "2022-03-17T19:37:26.961Z"
   },
   {
    "duration": 255,
    "start_time": "2022-03-17T19:37:39.321Z"
   },
   {
    "duration": 201,
    "start_time": "2022-03-17T19:37:50.212Z"
   },
   {
    "duration": 326,
    "start_time": "2022-03-17T19:38:02.399Z"
   },
   {
    "duration": 205,
    "start_time": "2022-03-17T19:38:06.733Z"
   },
   {
    "duration": 239,
    "start_time": "2022-03-17T19:40:02.805Z"
   },
   {
    "duration": 295,
    "start_time": "2022-03-17T19:41:15.422Z"
   },
   {
    "duration": 216,
    "start_time": "2022-03-17T19:41:27.809Z"
   },
   {
    "duration": 213,
    "start_time": "2022-03-17T19:41:37.024Z"
   },
   {
    "duration": 243,
    "start_time": "2022-03-17T19:42:55.304Z"
   },
   {
    "duration": 206,
    "start_time": "2022-03-17T19:43:18.352Z"
   },
   {
    "duration": 199,
    "start_time": "2022-03-17T19:43:25.337Z"
   },
   {
    "duration": 186,
    "start_time": "2022-03-17T19:43:38.731Z"
   },
   {
    "duration": 196,
    "start_time": "2022-03-17T19:47:31.648Z"
   },
   {
    "duration": 158,
    "start_time": "2022-03-17T19:49:54.769Z"
   },
   {
    "duration": 189,
    "start_time": "2022-03-17T19:50:23.917Z"
   },
   {
    "duration": 277,
    "start_time": "2022-03-17T19:52:33.986Z"
   },
   {
    "duration": 209,
    "start_time": "2022-03-17T19:52:41.718Z"
   },
   {
    "duration": 206,
    "start_time": "2022-03-17T19:52:48.201Z"
   },
   {
    "duration": 300,
    "start_time": "2022-03-17T19:53:02.096Z"
   },
   {
    "duration": 195,
    "start_time": "2022-03-17T19:53:04.893Z"
   },
   {
    "duration": 245,
    "start_time": "2022-03-17T19:54:11.103Z"
   },
   {
    "duration": 320,
    "start_time": "2022-03-17T19:54:32.407Z"
   },
   {
    "duration": 8,
    "start_time": "2022-03-17T19:58:52.694Z"
   },
   {
    "duration": 10,
    "start_time": "2022-03-17T19:58:58.091Z"
   },
   {
    "duration": 8,
    "start_time": "2022-03-17T19:59:02.294Z"
   },
   {
    "duration": 4,
    "start_time": "2022-03-17T19:59:14.723Z"
   },
   {
    "duration": 10,
    "start_time": "2022-03-17T20:01:10.438Z"
   },
   {
    "duration": 5,
    "start_time": "2022-03-17T20:01:13.790Z"
   },
   {
    "duration": 8,
    "start_time": "2022-03-17T20:01:33.674Z"
   },
   {
    "duration": 4,
    "start_time": "2022-03-17T20:01:37.521Z"
   },
   {
    "duration": 4,
    "start_time": "2022-03-17T20:01:47.031Z"
   },
   {
    "duration": 9,
    "start_time": "2022-03-17T20:02:01.465Z"
   },
   {
    "duration": 4,
    "start_time": "2022-03-17T20:02:06.330Z"
   },
   {
    "duration": 4,
    "start_time": "2022-03-17T20:02:43.715Z"
   },
   {
    "duration": 662,
    "start_time": "2022-03-17T20:03:53.594Z"
   },
   {
    "duration": 6,
    "start_time": "2022-03-18T18:15:11.046Z"
   },
   {
    "duration": 2240,
    "start_time": "2022-03-18T18:15:11.056Z"
   },
   {
    "duration": 913,
    "start_time": "2022-03-18T18:15:13.298Z"
   },
   {
    "duration": 307,
    "start_time": "2022-03-18T18:15:14.214Z"
   },
   {
    "duration": 5,
    "start_time": "2022-03-18T18:15:14.523Z"
   },
   {
    "duration": 28,
    "start_time": "2022-03-18T18:15:14.530Z"
   },
   {
    "duration": 289,
    "start_time": "2022-03-18T18:15:14.561Z"
   },
   {
    "duration": 7,
    "start_time": "2022-03-18T18:15:14.853Z"
   },
   {
    "duration": 24,
    "start_time": "2022-03-18T18:15:14.862Z"
   },
   {
    "duration": 25,
    "start_time": "2022-03-18T18:15:14.890Z"
   },
   {
    "duration": 419,
    "start_time": "2022-03-18T18:15:14.918Z"
   },
   {
    "duration": 62,
    "start_time": "2022-03-18T18:15:15.339Z"
   },
   {
    "duration": 238,
    "start_time": "2022-03-18T18:15:15.403Z"
   },
   {
    "duration": 17,
    "start_time": "2022-03-18T18:15:15.643Z"
   },
   {
    "duration": 1220,
    "start_time": "2022-03-18T18:15:15.662Z"
   },
   {
    "duration": 314,
    "start_time": "2022-03-18T18:17:40.212Z"
   },
   {
    "duration": 236,
    "start_time": "2022-03-18T18:17:47.321Z"
   },
   {
    "duration": 271,
    "start_time": "2022-03-18T18:18:03.331Z"
   },
   {
    "duration": 463,
    "start_time": "2022-03-18T18:18:09.993Z"
   },
   {
    "duration": 268,
    "start_time": "2022-03-18T18:18:54.707Z"
   },
   {
    "duration": 162,
    "start_time": "2022-03-18T18:19:26.165Z"
   },
   {
    "duration": 174,
    "start_time": "2022-03-18T18:20:49.927Z"
   },
   {
    "duration": 182,
    "start_time": "2022-03-18T18:21:06.183Z"
   },
   {
    "duration": 272,
    "start_time": "2022-03-18T18:21:16.016Z"
   },
   {
    "duration": 12,
    "start_time": "2022-03-18T18:22:23.635Z"
   },
   {
    "duration": 1249,
    "start_time": "2022-03-18T18:22:27.684Z"
   },
   {
    "duration": 793,
    "start_time": "2022-03-18T18:22:34.003Z"
   },
   {
    "duration": 778,
    "start_time": "2022-03-18T18:22:56.107Z"
   },
   {
    "duration": 563,
    "start_time": "2022-03-18T18:23:04.107Z"
   },
   {
    "duration": 729,
    "start_time": "2022-03-18T18:23:15.845Z"
   },
   {
    "duration": 993,
    "start_time": "2022-03-18T18:23:21.696Z"
   },
   {
    "duration": 1122,
    "start_time": "2022-03-18T18:24:57.289Z"
   },
   {
    "duration": 982,
    "start_time": "2022-03-18T18:25:03.551Z"
   },
   {
    "duration": 17,
    "start_time": "2022-03-18T18:26:59.798Z"
   },
   {
    "duration": 1037,
    "start_time": "2022-03-18T18:27:04.158Z"
   },
   {
    "duration": 1013,
    "start_time": "2022-03-18T18:27:09.889Z"
   },
   {
    "duration": 1069,
    "start_time": "2022-03-18T18:27:29.661Z"
   },
   {
    "duration": 865,
    "start_time": "2022-03-18T18:28:05.958Z"
   },
   {
    "duration": 728,
    "start_time": "2022-03-18T18:28:15.882Z"
   },
   {
    "duration": 810,
    "start_time": "2022-03-18T18:29:00.386Z"
   },
   {
    "duration": 869,
    "start_time": "2022-03-18T18:30:02.227Z"
   },
   {
    "duration": 834,
    "start_time": "2022-03-18T18:30:09.687Z"
   },
   {
    "duration": 820,
    "start_time": "2022-03-18T18:30:21.509Z"
   },
   {
    "duration": 380,
    "start_time": "2022-03-18T18:30:29.329Z"
   },
   {
    "duration": 507,
    "start_time": "2022-03-18T18:30:37.080Z"
   },
   {
    "duration": 1145,
    "start_time": "2022-03-18T18:30:41.637Z"
   },
   {
    "duration": 785,
    "start_time": "2022-03-18T18:30:52.191Z"
   },
   {
    "duration": 915,
    "start_time": "2022-03-18T18:31:09.411Z"
   },
   {
    "duration": 894,
    "start_time": "2022-03-18T18:31:13.680Z"
   },
   {
    "duration": 649,
    "start_time": "2022-03-18T18:31:50.252Z"
   },
   {
    "duration": 383,
    "start_time": "2022-03-18T18:31:57.613Z"
   },
   {
    "duration": 632,
    "start_time": "2022-03-18T18:32:54.756Z"
   },
   {
    "duration": 629,
    "start_time": "2022-03-18T18:33:26.809Z"
   },
   {
    "duration": 606,
    "start_time": "2022-03-18T18:33:33.076Z"
   },
   {
    "duration": 150,
    "start_time": "2022-03-18T18:34:41.284Z"
   },
   {
    "duration": 17,
    "start_time": "2022-03-18T18:34:46.942Z"
   },
   {
    "duration": 15,
    "start_time": "2022-03-18T18:35:11.482Z"
   },
   {
    "duration": 712,
    "start_time": "2022-03-18T18:35:17.247Z"
   },
   {
    "duration": 16,
    "start_time": "2022-03-18T18:35:23.206Z"
   },
   {
    "duration": 16,
    "start_time": "2022-03-18T18:35:48.793Z"
   },
   {
    "duration": 633,
    "start_time": "2022-03-18T18:36:10.031Z"
   },
   {
    "duration": 648,
    "start_time": "2022-03-18T18:36:20.331Z"
   },
   {
    "duration": 627,
    "start_time": "2022-03-18T18:36:23.355Z"
   },
   {
    "duration": 659,
    "start_time": "2022-03-18T18:36:58.523Z"
   },
   {
    "duration": 684,
    "start_time": "2022-03-18T18:37:03.474Z"
   },
   {
    "duration": 928,
    "start_time": "2022-03-18T18:37:07.770Z"
   },
   {
    "duration": 724,
    "start_time": "2022-03-18T18:37:19.898Z"
   },
   {
    "duration": 783,
    "start_time": "2022-03-18T18:37:27.904Z"
   },
   {
    "duration": 906,
    "start_time": "2022-03-18T18:37:32.002Z"
   },
   {
    "duration": 906,
    "start_time": "2022-03-18T18:38:10.084Z"
   },
   {
    "duration": 666,
    "start_time": "2022-03-18T18:38:27.539Z"
   },
   {
    "duration": 321,
    "start_time": "2022-03-18T18:38:28.207Z"
   },
   {
    "duration": 153,
    "start_time": "2022-03-18T18:39:13.003Z"
   },
   {
    "duration": 295,
    "start_time": "2022-03-18T18:39:19.723Z"
   },
   {
    "duration": 649,
    "start_time": "2022-03-18T18:40:06.507Z"
   },
   {
    "duration": 838,
    "start_time": "2022-03-18T18:41:09.064Z"
   },
   {
    "duration": 538,
    "start_time": "2022-03-18T18:41:16.980Z"
   },
   {
    "duration": 661,
    "start_time": "2022-03-18T18:41:19.947Z"
   },
   {
    "duration": 612,
    "start_time": "2022-03-18T18:41:34.884Z"
   },
   {
    "duration": 679,
    "start_time": "2022-03-18T18:41:48.018Z"
   },
   {
    "duration": 862,
    "start_time": "2022-03-18T18:41:57.842Z"
   },
   {
    "duration": 859,
    "start_time": "2022-03-18T18:44:02.799Z"
   },
   {
    "duration": 148,
    "start_time": "2022-03-18T18:44:22.152Z"
   },
   {
    "duration": 805,
    "start_time": "2022-03-18T18:44:26.574Z"
   },
   {
    "duration": 1000,
    "start_time": "2022-03-18T18:44:34.253Z"
   },
   {
    "duration": 900,
    "start_time": "2022-03-18T18:44:42.653Z"
   },
   {
    "duration": 883,
    "start_time": "2022-03-18T18:44:54.682Z"
   },
   {
    "duration": 1003,
    "start_time": "2022-03-18T18:45:03.358Z"
   },
   {
    "duration": 792,
    "start_time": "2022-03-18T18:46:27.439Z"
   },
   {
    "duration": 787,
    "start_time": "2022-03-18T18:46:35.306Z"
   },
   {
    "duration": 925,
    "start_time": "2022-03-18T18:46:40.899Z"
   },
   {
    "duration": 1184,
    "start_time": "2022-03-18T18:46:52.408Z"
   },
   {
    "duration": 361,
    "start_time": "2022-03-18T18:49:54.514Z"
   },
   {
    "duration": 708,
    "start_time": "2022-03-18T18:49:59.374Z"
   },
   {
    "duration": 1106,
    "start_time": "2022-03-18T18:50:17.400Z"
   },
   {
    "duration": 1861,
    "start_time": "2022-03-18T18:52:00.968Z"
   },
   {
    "duration": 317,
    "start_time": "2022-03-18T18:52:15.286Z"
   },
   {
    "duration": 1734,
    "start_time": "2022-03-18T18:52:18.310Z"
   },
   {
    "duration": 263,
    "start_time": "2022-03-18T18:53:30.050Z"
   },
   {
    "duration": 1047,
    "start_time": "2022-03-18T18:53:36.992Z"
   },
   {
    "duration": 1487,
    "start_time": "2022-03-18T18:53:47.205Z"
   },
   {
    "duration": 318,
    "start_time": "2022-03-18T18:53:56.356Z"
   },
   {
    "duration": 1690,
    "start_time": "2022-03-18T18:54:27.639Z"
   },
   {
    "duration": 1762,
    "start_time": "2022-03-18T18:57:58.604Z"
   },
   {
    "duration": 1442,
    "start_time": "2022-03-18T18:58:04.802Z"
   },
   {
    "duration": 1306,
    "start_time": "2022-03-18T18:58:32.127Z"
   },
   {
    "duration": 9,
    "start_time": "2022-03-18T18:58:49.899Z"
   },
   {
    "duration": 2158,
    "start_time": "2022-03-18T18:59:43.078Z"
   },
   {
    "duration": 1056,
    "start_time": "2022-03-18T18:59:54.515Z"
   },
   {
    "duration": 1224,
    "start_time": "2022-03-18T19:00:03.190Z"
   },
   {
    "duration": 1585,
    "start_time": "2022-03-18T19:00:59.105Z"
   },
   {
    "duration": 1624,
    "start_time": "2022-03-18T19:01:05.838Z"
   },
   {
    "duration": 1608,
    "start_time": "2022-03-18T19:01:47.016Z"
   },
   {
    "duration": 1532,
    "start_time": "2022-03-18T19:01:57.864Z"
   },
   {
    "duration": 2357,
    "start_time": "2022-03-18T19:02:12.320Z"
   },
   {
    "duration": 2063,
    "start_time": "2022-03-18T19:02:34.693Z"
   },
   {
    "duration": 227,
    "start_time": "2022-03-18T19:03:08.549Z"
   },
   {
    "duration": 212,
    "start_time": "2022-03-18T19:03:19.812Z"
   },
   {
    "duration": 197,
    "start_time": "2022-03-18T19:03:24.373Z"
   },
   {
    "duration": 208,
    "start_time": "2022-03-18T19:03:38.939Z"
   },
   {
    "duration": 188,
    "start_time": "2022-03-18T19:03:43.997Z"
   },
   {
    "duration": 189,
    "start_time": "2022-03-18T19:03:50.798Z"
   },
   {
    "duration": 13,
    "start_time": "2022-03-18T19:04:27.289Z"
   },
   {
    "duration": 414,
    "start_time": "2022-03-18T19:04:37.300Z"
   },
   {
    "duration": 478,
    "start_time": "2022-03-18T19:04:50.552Z"
   },
   {
    "duration": 570,
    "start_time": "2022-03-18T19:05:50.857Z"
   },
   {
    "duration": 665,
    "start_time": "2022-03-18T19:05:59.277Z"
   },
   {
    "duration": 558,
    "start_time": "2022-03-18T19:06:06.677Z"
   },
   {
    "duration": 1424,
    "start_time": "2022-03-18T19:06:18.339Z"
   },
   {
    "duration": 5,
    "start_time": "2022-03-18T19:27:56.416Z"
   },
   {
    "duration": 18,
    "start_time": "2022-03-18T19:30:00.677Z"
   },
   {
    "duration": 29,
    "start_time": "2022-03-18T19:30:23.951Z"
   },
   {
    "duration": 19,
    "start_time": "2022-03-18T19:30:38.384Z"
   },
   {
    "duration": 19,
    "start_time": "2022-03-18T19:30:48.072Z"
   },
   {
    "duration": 14,
    "start_time": "2022-03-18T19:30:51.444Z"
   },
   {
    "duration": 14,
    "start_time": "2022-03-18T19:31:02.856Z"
   },
   {
    "duration": 56,
    "start_time": "2022-03-18T19:31:06.233Z"
   },
   {
    "duration": 28,
    "start_time": "2022-03-18T19:31:34.552Z"
   },
   {
    "duration": 75,
    "start_time": "2022-03-18T19:34:20.413Z"
   },
   {
    "duration": 80,
    "start_time": "2022-03-18T19:34:27.279Z"
   },
   {
    "duration": 25,
    "start_time": "2022-03-18T19:35:11.248Z"
   },
   {
    "duration": 77,
    "start_time": "2022-03-18T19:35:44.058Z"
   },
   {
    "duration": 6,
    "start_time": "2022-03-18T19:35:50.358Z"
   },
   {
    "duration": 2010,
    "start_time": "2022-03-18T19:35:50.366Z"
   },
   {
    "duration": 883,
    "start_time": "2022-03-18T19:35:52.379Z"
   },
   {
    "duration": 327,
    "start_time": "2022-03-18T19:35:53.266Z"
   },
   {
    "duration": 4,
    "start_time": "2022-03-18T19:35:53.595Z"
   },
   {
    "duration": 9,
    "start_time": "2022-03-18T19:35:53.602Z"
   },
   {
    "duration": 308,
    "start_time": "2022-03-18T19:35:53.613Z"
   },
   {
    "duration": 9,
    "start_time": "2022-03-18T19:35:53.924Z"
   },
   {
    "duration": 8,
    "start_time": "2022-03-18T19:35:53.936Z"
   },
   {
    "duration": 23,
    "start_time": "2022-03-18T19:35:53.984Z"
   },
   {
    "duration": 414,
    "start_time": "2022-03-18T19:35:54.009Z"
   },
   {
    "duration": 60,
    "start_time": "2022-03-18T19:35:54.425Z"
   },
   {
    "duration": 245,
    "start_time": "2022-03-18T19:35:54.488Z"
   },
   {
    "duration": 16,
    "start_time": "2022-03-18T19:35:54.735Z"
   },
   {
    "duration": 1229,
    "start_time": "2022-03-18T19:35:54.754Z"
   },
   {
    "duration": 1465,
    "start_time": "2022-03-18T19:35:55.985Z"
   },
   {
    "duration": 579,
    "start_time": "2022-03-18T19:35:57.453Z"
   },
   {
    "duration": 27,
    "start_time": "2022-03-18T19:35:58.034Z"
   },
   {
    "duration": 25,
    "start_time": "2022-03-18T19:36:59.960Z"
   },
   {
    "duration": 25,
    "start_time": "2022-03-18T19:37:47.008Z"
   },
   {
    "duration": 34,
    "start_time": "2022-03-18T19:38:08.616Z"
   },
   {
    "duration": 173,
    "start_time": "2022-03-18T19:38:30.476Z"
   },
   {
    "duration": 23,
    "start_time": "2022-03-18T19:38:48.755Z"
   },
   {
    "duration": 20,
    "start_time": "2022-03-18T19:38:56.970Z"
   },
   {
    "duration": 23,
    "start_time": "2022-03-18T19:39:51.797Z"
   },
   {
    "duration": 35,
    "start_time": "2022-03-18T19:40:16.890Z"
   },
   {
    "duration": 31,
    "start_time": "2022-03-18T19:40:28.526Z"
   },
   {
    "duration": 12,
    "start_time": "2022-03-18T19:41:21.502Z"
   },
   {
    "duration": 22,
    "start_time": "2022-03-18T19:41:23.999Z"
   },
   {
    "duration": 21,
    "start_time": "2022-03-18T19:42:17.461Z"
   },
   {
    "duration": 39,
    "start_time": "2022-03-18T19:42:28.679Z"
   },
   {
    "duration": 131,
    "start_time": "2022-03-18T19:42:35.212Z"
   },
   {
    "duration": 17,
    "start_time": "2022-03-18T19:42:37.427Z"
   },
   {
    "duration": 17,
    "start_time": "2022-03-18T19:42:50.290Z"
   },
   {
    "duration": 38,
    "start_time": "2022-03-18T19:42:55.080Z"
   },
   {
    "duration": 39,
    "start_time": "2022-03-18T19:44:03.609Z"
   },
   {
    "duration": 19,
    "start_time": "2022-03-18T19:44:09.953Z"
   },
   {
    "duration": 21,
    "start_time": "2022-03-18T19:45:21.711Z"
   },
   {
    "duration": 13,
    "start_time": "2022-03-18T19:45:36.674Z"
   },
   {
    "duration": 22,
    "start_time": "2022-03-18T19:45:46.070Z"
   },
   {
    "duration": 42,
    "start_time": "2022-03-18T19:46:50.052Z"
   },
   {
    "duration": 43,
    "start_time": "2022-03-18T19:50:29.960Z"
   },
   {
    "duration": 142,
    "start_time": "2022-03-18T19:51:28.623Z"
   },
   {
    "duration": 40,
    "start_time": "2022-03-18T19:51:35.594Z"
   },
   {
    "duration": 59,
    "start_time": "2022-03-18T19:51:53.099Z"
   },
   {
    "duration": 20,
    "start_time": "2022-03-18T19:54:43.924Z"
   },
   {
    "duration": 155,
    "start_time": "2022-03-18T19:54:50.135Z"
   },
   {
    "duration": 34,
    "start_time": "2022-03-18T19:54:51.610Z"
   },
   {
    "duration": 47,
    "start_time": "2022-03-18T19:55:00.957Z"
   },
   {
    "duration": 24,
    "start_time": "2022-03-18T19:55:59.803Z"
   },
   {
    "duration": 54,
    "start_time": "2022-03-18T19:56:04.614Z"
   },
   {
    "duration": 247,
    "start_time": "2022-03-18T19:57:16.360Z"
   },
   {
    "duration": 238,
    "start_time": "2022-03-18T19:57:31.703Z"
   },
   {
    "duration": 198,
    "start_time": "2022-03-18T19:57:45.627Z"
   },
   {
    "duration": 296,
    "start_time": "2022-03-18T19:58:58.041Z"
   },
   {
    "duration": 739,
    "start_time": "2022-03-18T19:59:05.597Z"
   },
   {
    "duration": 651,
    "start_time": "2022-03-18T19:59:17.450Z"
   },
   {
    "duration": 159,
    "start_time": "2022-03-18T20:00:11.715Z"
   },
   {
    "duration": 655,
    "start_time": "2022-03-18T20:00:18.942Z"
   },
   {
    "duration": 474,
    "start_time": "2022-03-18T20:00:26.372Z"
   },
   {
    "duration": 560,
    "start_time": "2022-03-18T20:00:50.059Z"
   },
   {
    "duration": 857,
    "start_time": "2022-03-18T20:00:56.734Z"
   },
   {
    "duration": 1345,
    "start_time": "2022-03-18T20:01:36.392Z"
   },
   {
    "duration": 1491,
    "start_time": "2022-03-18T20:02:06.494Z"
   },
   {
    "duration": 1587,
    "start_time": "2022-03-18T20:03:02.049Z"
   },
   {
    "duration": 1544,
    "start_time": "2022-03-18T20:03:51.757Z"
   },
   {
    "duration": 170,
    "start_time": "2022-03-18T20:05:21.936Z"
   },
   {
    "duration": 2256,
    "start_time": "2022-03-18T20:05:24.980Z"
   },
   {
    "duration": 27,
    "start_time": "2022-03-18T20:05:38.440Z"
   },
   {
    "duration": 1706,
    "start_time": "2022-03-18T20:05:39.532Z"
   },
   {
    "duration": 28,
    "start_time": "2022-03-18T20:06:09.721Z"
   },
   {
    "duration": 1573,
    "start_time": "2022-03-18T20:06:10.814Z"
   },
   {
    "duration": 3254,
    "start_time": "2022-03-18T20:13:29.760Z"
   },
   {
    "duration": 9,
    "start_time": "2022-03-18T20:13:53.830Z"
   },
   {
    "duration": 2796,
    "start_time": "2022-03-18T20:14:11.034Z"
   },
   {
    "duration": 251,
    "start_time": "2022-03-18T20:16:30.382Z"
   },
   {
    "duration": 12,
    "start_time": "2022-03-18T20:17:24.706Z"
   },
   {
    "duration": 7,
    "start_time": "2022-03-18T20:17:42.344Z"
   },
   {
    "duration": 3466,
    "start_time": "2022-03-18T20:17:51.016Z"
   },
   {
    "duration": 12,
    "start_time": "2022-03-18T20:18:36.024Z"
   },
   {
    "duration": 2746,
    "start_time": "2022-03-18T20:18:58.534Z"
   },
   {
    "duration": 233,
    "start_time": "2022-03-18T20:19:24.123Z"
   },
   {
    "duration": 19,
    "start_time": "2022-03-18T20:19:45.707Z"
   },
   {
    "duration": 211,
    "start_time": "2022-03-18T20:19:50.763Z"
   },
   {
    "duration": 639,
    "start_time": "2022-03-18T20:20:56.091Z"
   },
   {
    "duration": 14,
    "start_time": "2022-03-18T20:21:03.050Z"
   },
   {
    "duration": 10,
    "start_time": "2022-03-18T20:21:11.803Z"
   },
   {
    "duration": 4,
    "start_time": "2022-03-18T20:21:37.470Z"
   },
   {
    "duration": 8,
    "start_time": "2022-03-18T20:21:46.094Z"
   },
   {
    "duration": 6,
    "start_time": "2022-03-18T20:21:52.058Z"
   },
   {
    "duration": 4,
    "start_time": "2022-03-18T20:23:14.592Z"
   },
   {
    "duration": 16,
    "start_time": "2022-03-18T20:23:57.479Z"
   },
   {
    "duration": 19,
    "start_time": "2022-03-18T20:24:15.487Z"
   },
   {
    "duration": 8,
    "start_time": "2022-03-18T20:24:35.056Z"
   },
   {
    "duration": 25,
    "start_time": "2022-03-18T20:28:15.120Z"
   },
   {
    "duration": 22,
    "start_time": "2022-03-18T20:28:21.426Z"
   },
   {
    "duration": 18,
    "start_time": "2022-03-18T20:28:23.640Z"
   },
   {
    "duration": 27,
    "start_time": "2022-03-18T20:28:32.356Z"
   },
   {
    "duration": 115,
    "start_time": "2022-03-18T20:29:43.587Z"
   },
   {
    "duration": 33,
    "start_time": "2022-03-18T20:30:06.402Z"
   },
   {
    "duration": 23,
    "start_time": "2022-03-18T20:30:15.858Z"
   },
   {
    "duration": 117,
    "start_time": "2022-03-18T20:30:45.557Z"
   },
   {
    "duration": 9,
    "start_time": "2022-03-18T20:30:49.310Z"
   },
   {
    "duration": 16,
    "start_time": "2022-03-18T20:31:05.559Z"
   },
   {
    "duration": 123,
    "start_time": "2022-03-18T20:31:12.019Z"
   },
   {
    "duration": 634,
    "start_time": "2022-03-18T20:31:29.863Z"
   },
   {
    "duration": 123,
    "start_time": "2022-03-18T20:31:31.635Z"
   },
   {
    "duration": 637,
    "start_time": "2022-03-18T20:31:44.816Z"
   },
   {
    "duration": 122,
    "start_time": "2022-03-18T20:31:45.907Z"
   },
   {
    "duration": 1383,
    "start_time": "2022-03-18T20:32:34.752Z"
   },
   {
    "duration": 112,
    "start_time": "2022-03-18T20:33:14.943Z"
   },
   {
    "duration": 11,
    "start_time": "2022-03-18T20:33:24.935Z"
   },
   {
    "duration": 7,
    "start_time": "2022-03-18T20:33:26.863Z"
   },
   {
    "duration": 15,
    "start_time": "2022-03-18T20:33:36.578Z"
   },
   {
    "duration": 19,
    "start_time": "2022-03-18T20:33:51.272Z"
   },
   {
    "duration": 11,
    "start_time": "2022-03-18T20:33:58.272Z"
   },
   {
    "duration": 4,
    "start_time": "2022-03-18T20:34:16.969Z"
   },
   {
    "duration": 2033,
    "start_time": "2022-03-18T20:34:16.976Z"
   },
   {
    "duration": 908,
    "start_time": "2022-03-18T20:34:19.011Z"
   },
   {
    "duration": 345,
    "start_time": "2022-03-18T20:34:19.923Z"
   },
   {
    "duration": 14,
    "start_time": "2022-03-18T20:34:20.270Z"
   },
   {
    "duration": 24,
    "start_time": "2022-03-18T20:34:20.288Z"
   },
   {
    "duration": 486,
    "start_time": "2022-03-18T20:34:20.315Z"
   },
   {
    "duration": 9,
    "start_time": "2022-03-18T20:34:20.805Z"
   },
   {
    "duration": 26,
    "start_time": "2022-03-18T20:34:20.816Z"
   },
   {
    "duration": 44,
    "start_time": "2022-03-18T20:34:20.846Z"
   },
   {
    "duration": 492,
    "start_time": "2022-03-18T20:34:20.892Z"
   },
   {
    "duration": 50,
    "start_time": "2022-03-18T20:34:21.387Z"
   },
   {
    "duration": 275,
    "start_time": "2022-03-18T20:34:21.440Z"
   },
   {
    "duration": 15,
    "start_time": "2022-03-18T20:34:21.718Z"
   },
   {
    "duration": 1273,
    "start_time": "2022-03-18T20:34:21.735Z"
   },
   {
    "duration": 2249,
    "start_time": "2022-03-18T20:34:23.011Z"
   },
   {
    "duration": 766,
    "start_time": "2022-03-18T20:34:25.263Z"
   },
   {
    "duration": 50,
    "start_time": "2022-03-18T20:34:26.032Z"
   },
   {
    "duration": 1716,
    "start_time": "2022-03-18T20:34:26.085Z"
   },
   {
    "duration": 779,
    "start_time": "2022-03-18T20:34:27.803Z"
   },
   {
    "duration": 17,
    "start_time": "2022-03-18T20:34:28.585Z"
   },
   {
    "duration": 7,
    "start_time": "2022-03-18T20:34:39.135Z"
   },
   {
    "duration": 11,
    "start_time": "2022-03-18T20:34:40.583Z"
   },
   {
    "duration": 28,
    "start_time": "2022-03-18T20:35:16.810Z"
   },
   {
    "duration": 1428,
    "start_time": "2022-03-18T20:35:25.845Z"
   },
   {
    "duration": 656,
    "start_time": "2022-03-18T20:36:05.764Z"
   },
   {
    "duration": 7686,
    "start_time": "2022-03-18T20:36:37.797Z"
   },
   {
    "duration": 8,
    "start_time": "2022-03-18T20:37:25.252Z"
   },
   {
    "duration": 16,
    "start_time": "2022-03-18T20:37:33.565Z"
   },
   {
    "duration": 16,
    "start_time": "2022-03-18T20:37:39.839Z"
   },
   {
    "duration": 15,
    "start_time": "2022-03-18T20:37:44.931Z"
   },
   {
    "duration": 620,
    "start_time": "2022-03-18T20:38:13.052Z"
   },
   {
    "duration": 16,
    "start_time": "2022-03-18T20:38:14.873Z"
   },
   {
    "duration": 11,
    "start_time": "2022-03-18T20:38:18.526Z"
   },
   {
    "duration": 32,
    "start_time": "2022-03-18T20:38:59.880Z"
   },
   {
    "duration": 7,
    "start_time": "2022-03-18T20:39:17.774Z"
   },
   {
    "duration": 225,
    "start_time": "2022-03-18T20:39:28.354Z"
   },
   {
    "duration": 352,
    "start_time": "2022-03-18T20:39:36.565Z"
   },
   {
    "duration": 231,
    "start_time": "2022-03-18T20:39:44.521Z"
   },
   {
    "duration": 646,
    "start_time": "2022-03-18T20:40:16.492Z"
   },
   {
    "duration": 8,
    "start_time": "2022-03-18T21:12:54.961Z"
   },
   {
    "duration": 94,
    "start_time": "2022-03-18T21:12:59.434Z"
   },
   {
    "duration": 3410,
    "start_time": "2022-03-18T21:14:28.643Z"
   },
   {
    "duration": 10,
    "start_time": "2022-03-18T21:14:38.125Z"
   },
   {
    "duration": 11,
    "start_time": "2022-03-18T21:14:56.700Z"
   },
   {
    "duration": 74,
    "start_time": "2022-03-18T21:15:11.093Z"
   },
   {
    "duration": 1529,
    "start_time": "2022-03-18T21:15:30.644Z"
   },
   {
    "duration": 1658,
    "start_time": "2022-03-18T21:16:26.454Z"
   },
   {
    "duration": 7,
    "start_time": "2022-03-18T21:16:43.840Z"
   },
   {
    "duration": 621,
    "start_time": "2022-03-18T21:16:53.890Z"
   },
   {
    "duration": 493,
    "start_time": "2022-03-18T21:17:16.796Z"
   },
   {
    "duration": 640,
    "start_time": "2022-03-18T21:17:27.059Z"
   },
   {
    "duration": 19,
    "start_time": "2022-03-18T21:19:39.243Z"
   },
   {
    "duration": 8,
    "start_time": "2022-03-18T21:19:46.630Z"
   },
   {
    "duration": 5806,
    "start_time": "2022-03-18T21:23:27.486Z"
   },
   {
    "duration": 2610,
    "start_time": "2022-03-18T21:23:42.920Z"
   },
   {
    "duration": 2262,
    "start_time": "2022-03-18T21:28:15.587Z"
   },
   {
    "duration": 2394,
    "start_time": "2022-03-18T21:28:29.356Z"
   },
   {
    "duration": 9,
    "start_time": "2022-03-18T21:33:41.596Z"
   },
   {
    "duration": 284,
    "start_time": "2022-03-18T21:34:23.416Z"
   },
   {
    "duration": 50,
    "start_time": "2022-03-18T21:34:25.242Z"
   },
   {
    "duration": 6,
    "start_time": "2022-03-18T21:34:51.032Z"
   },
   {
    "duration": 45,
    "start_time": "2022-03-18T21:34:52.121Z"
   },
   {
    "duration": 9,
    "start_time": "2022-03-18T21:40:01.019Z"
   },
   {
    "duration": 7,
    "start_time": "2022-03-18T21:40:06.375Z"
   },
   {
    "duration": 6,
    "start_time": "2022-03-18T21:40:25.111Z"
   },
   {
    "duration": 6,
    "start_time": "2022-03-18T21:40:34.052Z"
   },
   {
    "duration": 2049,
    "start_time": "2022-03-18T21:40:34.061Z"
   },
   {
    "duration": 1374,
    "start_time": "2022-03-18T21:40:36.112Z"
   },
   {
    "duration": 404,
    "start_time": "2022-03-18T21:40:37.489Z"
   },
   {
    "duration": 5,
    "start_time": "2022-03-18T21:40:37.898Z"
   },
   {
    "duration": 12,
    "start_time": "2022-03-18T21:40:37.906Z"
   },
   {
    "duration": 351,
    "start_time": "2022-03-18T21:40:37.921Z"
   },
   {
    "duration": 17,
    "start_time": "2022-03-18T21:40:38.275Z"
   },
   {
    "duration": 19,
    "start_time": "2022-03-18T21:40:38.295Z"
   },
   {
    "duration": 24,
    "start_time": "2022-03-18T21:40:38.317Z"
   },
   {
    "duration": 462,
    "start_time": "2022-03-18T21:40:38.343Z"
   },
   {
    "duration": 51,
    "start_time": "2022-03-18T21:40:38.808Z"
   },
   {
    "duration": 281,
    "start_time": "2022-03-18T21:40:38.861Z"
   },
   {
    "duration": 15,
    "start_time": "2022-03-18T21:40:39.146Z"
   },
   {
    "duration": 1372,
    "start_time": "2022-03-18T21:40:39.164Z"
   },
   {
    "duration": 1532,
    "start_time": "2022-03-18T21:40:40.540Z"
   },
   {
    "duration": 580,
    "start_time": "2022-03-18T21:40:42.074Z"
   },
   {
    "duration": 43,
    "start_time": "2022-03-18T21:40:42.658Z"
   },
   {
    "duration": 1478,
    "start_time": "2022-03-18T21:40:42.704Z"
   },
   {
    "duration": 830,
    "start_time": "2022-03-18T21:40:44.185Z"
   },
   {
    "duration": 7,
    "start_time": "2022-03-18T21:40:45.018Z"
   },
   {
    "duration": 865,
    "start_time": "2022-03-18T21:40:45.027Z"
   },
   {
    "duration": 2599,
    "start_time": "2022-03-18T21:40:45.900Z"
   },
   {
    "duration": 47,
    "start_time": "2022-03-18T21:40:48.504Z"
   },
   {
    "duration": 26,
    "start_time": "2022-03-18T21:44:40.371Z"
   },
   {
    "duration": 329,
    "start_time": "2022-03-18T21:45:02.163Z"
   },
   {
    "duration": 2432,
    "start_time": "2022-03-18T21:45:03.562Z"
   },
   {
    "duration": 46,
    "start_time": "2022-03-18T21:45:06.003Z"
   },
   {
    "duration": 144,
    "start_time": "2022-03-18T21:47:48.530Z"
   },
   {
    "duration": 56,
    "start_time": "2022-03-18T21:48:16.613Z"
   },
   {
    "duration": 15,
    "start_time": "2022-03-18T21:48:29.573Z"
   },
   {
    "duration": 6,
    "start_time": "2022-03-18T21:48:53.754Z"
   },
   {
    "duration": 4,
    "start_time": "2022-03-18T21:48:57.869Z"
   },
   {
    "duration": 13,
    "start_time": "2022-03-18T21:51:36.096Z"
   },
   {
    "duration": 6,
    "start_time": "2022-03-18T21:51:48.396Z"
   },
   {
    "duration": 1987,
    "start_time": "2022-03-18T21:51:52.205Z"
   },
   {
    "duration": 1470,
    "start_time": "2022-03-18T21:52:03.619Z"
   },
   {
    "duration": 5473,
    "start_time": "2022-03-18T21:52:10.323Z"
   },
   {
    "duration": 4,
    "start_time": "2022-03-18T21:52:38.627Z"
   },
   {
    "duration": 2161,
    "start_time": "2022-03-18T21:52:39.128Z"
   },
   {
    "duration": 4,
    "start_time": "2022-03-18T21:52:46.196Z"
   },
   {
    "duration": 2253,
    "start_time": "2022-03-18T21:52:48.463Z"
   },
   {
    "duration": 2624,
    "start_time": "2022-03-18T21:55:18.679Z"
   },
   {
    "duration": 16,
    "start_time": "2022-03-18T21:55:42.968Z"
   },
   {
    "duration": 15,
    "start_time": "2022-03-18T21:55:56.058Z"
   },
   {
    "duration": 2005,
    "start_time": "2022-03-18T21:57:48.683Z"
   },
   {
    "duration": 5589,
    "start_time": "2022-03-18T21:58:16.009Z"
   },
   {
    "duration": 56229,
    "start_time": "2022-03-18T21:58:43.035Z"
   },
   {
    "duration": 15,
    "start_time": "2022-03-18T22:00:40.196Z"
   },
   {
    "duration": 12026,
    "start_time": "2022-03-18T22:01:09.063Z"
   },
   {
    "duration": 55654,
    "start_time": "2022-03-18T22:01:32.404Z"
   },
   {
    "duration": 7853,
    "start_time": "2022-03-18T22:02:37.637Z"
   },
   {
    "duration": 29851,
    "start_time": "2022-03-18T22:02:47.978Z"
   },
   {
    "duration": 0,
    "start_time": "2022-03-18T22:03:17.832Z"
   },
   {
    "duration": 5718,
    "start_time": "2022-03-18T22:03:20.697Z"
   },
   {
    "duration": 5,
    "start_time": "2022-03-18T22:03:45.844Z"
   },
   {
    "duration": 2043,
    "start_time": "2022-03-18T22:03:45.851Z"
   },
   {
    "duration": 873,
    "start_time": "2022-03-18T22:03:47.896Z"
   },
   {
    "duration": 319,
    "start_time": "2022-03-18T22:03:48.772Z"
   },
   {
    "duration": 5,
    "start_time": "2022-03-18T22:03:49.093Z"
   },
   {
    "duration": 10,
    "start_time": "2022-03-18T22:03:49.102Z"
   },
   {
    "duration": 317,
    "start_time": "2022-03-18T22:03:49.114Z"
   },
   {
    "duration": 8,
    "start_time": "2022-03-18T22:03:49.433Z"
   },
   {
    "duration": 7,
    "start_time": "2022-03-18T22:03:49.443Z"
   },
   {
    "duration": 54,
    "start_time": "2022-03-18T22:03:49.454Z"
   },
   {
    "duration": 409,
    "start_time": "2022-03-18T22:03:49.510Z"
   },
   {
    "duration": 64,
    "start_time": "2022-03-18T22:03:49.921Z"
   },
   {
    "duration": 238,
    "start_time": "2022-03-18T22:03:49.988Z"
   },
   {
    "duration": 15,
    "start_time": "2022-03-18T22:03:50.228Z"
   },
   {
    "duration": 1258,
    "start_time": "2022-03-18T22:03:50.246Z"
   },
   {
    "duration": 1499,
    "start_time": "2022-03-18T22:03:51.507Z"
   },
   {
    "duration": 628,
    "start_time": "2022-03-18T22:03:53.009Z"
   },
   {
    "duration": 25,
    "start_time": "2022-03-18T22:03:53.639Z"
   },
   {
    "duration": 1578,
    "start_time": "2022-03-18T22:03:53.666Z"
   },
   {
    "duration": 670,
    "start_time": "2022-03-18T22:03:55.247Z"
   },
   {
    "duration": 7,
    "start_time": "2022-03-18T22:03:55.920Z"
   },
   {
    "duration": 30,
    "start_time": "2022-03-18T22:03:55.929Z"
   },
   {
    "duration": 4,
    "start_time": "2022-03-18T22:03:55.961Z"
   },
   {
    "duration": 2940,
    "start_time": "2022-03-18T22:03:55.966Z"
   },
   {
    "duration": 5774,
    "start_time": "2022-03-18T22:03:58.910Z"
   },
   {
    "duration": 27254,
    "start_time": "2022-03-18T22:04:04.686Z"
   },
   {
    "duration": 20,
    "start_time": "2022-03-18T22:07:21.938Z"
   },
   {
    "duration": 23295,
    "start_time": "2022-03-18T22:07:38.569Z"
   },
   {
    "duration": 6,
    "start_time": "2022-03-18T22:08:16.413Z"
   },
   {
    "duration": 23313,
    "start_time": "2022-03-18T22:08:37.973Z"
   },
   {
    "duration": 120287,
    "start_time": "2022-03-18T22:09:01.289Z"
   },
   {
    "duration": 1751173,
    "start_time": "2022-03-18T22:11:20.663Z"
   },
   {
    "duration": 6,
    "start_time": "2022-03-18T22:40:42.372Z"
   },
   {
    "duration": 5,
    "start_time": "2022-03-18T22:42:12.259Z"
   },
   {
    "duration": 49,
    "start_time": "2022-03-18T22:49:15.520Z"
   },
   {
    "duration": 3171,
    "start_time": "2022-03-18T22:50:02.695Z"
   },
   {
    "duration": 13,
    "start_time": "2022-03-18T22:51:12.803Z"
   },
   {
    "duration": 5,
    "start_time": "2022-03-18T22:51:24.440Z"
   },
   {
    "duration": 13,
    "start_time": "2022-03-18T22:51:53.332Z"
   },
   {
    "duration": 75,
    "start_time": "2022-03-18T22:51:59.145Z"
   },
   {
    "duration": 3155,
    "start_time": "2022-03-18T23:15:56.187Z"
   },
   {
    "duration": 3253,
    "start_time": "2022-03-18T23:17:20.160Z"
   },
   {
    "duration": 11,
    "start_time": "2022-03-18T23:18:12.662Z"
   },
   {
    "duration": 117,
    "start_time": "2022-03-18T23:18:16.843Z"
   },
   {
    "duration": 20,
    "start_time": "2022-03-18T23:18:30.343Z"
   },
   {
    "duration": 21,
    "start_time": "2022-03-18T23:19:07.824Z"
   },
   {
    "duration": 109,
    "start_time": "2022-03-18T23:19:23.349Z"
   },
   {
    "duration": 113,
    "start_time": "2022-03-18T23:19:31.242Z"
   },
   {
    "duration": 320,
    "start_time": "2022-03-18T23:20:42.873Z"
   },
   {
    "duration": 145,
    "start_time": "2022-03-18T23:24:31.086Z"
   },
   {
    "duration": 1317,
    "start_time": "2022-03-18T23:24:48.392Z"
   },
   {
    "duration": 516,
    "start_time": "2022-03-18T23:24:51.105Z"
   },
   {
    "duration": 7,
    "start_time": "2022-03-18T23:25:54.033Z"
   },
   {
    "duration": 859,
    "start_time": "2022-03-18T23:25:54.042Z"
   },
   {
    "duration": 297,
    "start_time": "2022-03-18T23:25:54.903Z"
   },
   {
    "duration": 4,
    "start_time": "2022-03-18T23:25:55.202Z"
   },
   {
    "duration": 300,
    "start_time": "2022-03-18T23:25:55.209Z"
   },
   {
    "duration": 8,
    "start_time": "2022-03-18T23:25:55.511Z"
   },
   {
    "duration": 11,
    "start_time": "2022-03-18T23:25:55.521Z"
   },
   {
    "duration": 404,
    "start_time": "2022-03-18T23:25:55.534Z"
   },
   {
    "duration": 56,
    "start_time": "2022-03-18T23:25:55.941Z"
   },
   {
    "duration": 239,
    "start_time": "2022-03-18T23:25:55.999Z"
   },
   {
    "duration": 18,
    "start_time": "2022-03-18T23:25:56.240Z"
   },
   {
    "duration": 1259,
    "start_time": "2022-03-18T23:25:56.261Z"
   },
   {
    "duration": 1364,
    "start_time": "2022-03-18T23:25:57.525Z"
   },
   {
    "duration": 543,
    "start_time": "2022-03-18T23:25:58.892Z"
   },
   {
    "duration": 24,
    "start_time": "2022-03-18T23:25:59.437Z"
   },
   {
    "duration": 1507,
    "start_time": "2022-03-18T23:25:59.463Z"
   },
   {
    "duration": 634,
    "start_time": "2022-03-18T23:26:00.972Z"
   },
   {
    "duration": 7,
    "start_time": "2022-03-18T23:26:01.608Z"
   },
   {
    "duration": 59,
    "start_time": "2022-03-18T23:26:01.617Z"
   },
   {
    "duration": 5,
    "start_time": "2022-03-18T23:26:01.679Z"
   },
   {
    "duration": 1707,
    "start_time": "2022-03-18T23:26:01.686Z"
   },
   {
    "duration": 5,
    "start_time": "2022-03-18T23:26:12.850Z"
   },
   {
    "duration": 3204,
    "start_time": "2022-03-18T23:26:14.307Z"
   },
   {
    "duration": 3740,
    "start_time": "2022-03-19T19:46:12.226Z"
   },
   {
    "duration": 2316,
    "start_time": "2022-03-19T19:46:15.969Z"
   },
   {
    "duration": 785,
    "start_time": "2022-03-19T19:46:18.289Z"
   },
   {
    "duration": 4,
    "start_time": "2022-03-19T19:46:19.078Z"
   },
   {
    "duration": 876,
    "start_time": "2022-03-19T19:46:19.084Z"
   },
   {
    "duration": 11,
    "start_time": "2022-03-19T19:46:19.963Z"
   },
   {
    "duration": 71,
    "start_time": "2022-03-19T19:46:19.979Z"
   },
   {
    "duration": 902,
    "start_time": "2022-03-19T19:46:20.053Z"
   },
   {
    "duration": 110,
    "start_time": "2022-03-19T19:46:20.957Z"
   },
   {
    "duration": 515,
    "start_time": "2022-03-19T19:46:21.071Z"
   },
   {
    "duration": 19,
    "start_time": "2022-03-19T19:46:21.645Z"
   },
   {
    "duration": 2703,
    "start_time": "2022-03-19T19:46:21.667Z"
   },
   {
    "duration": 3015,
    "start_time": "2022-03-19T19:46:24.372Z"
   },
   {
    "duration": 1122,
    "start_time": "2022-03-19T19:46:27.442Z"
   },
   {
    "duration": 81,
    "start_time": "2022-03-19T19:46:28.568Z"
   },
   {
    "duration": 3312,
    "start_time": "2022-03-19T19:46:28.655Z"
   },
   {
    "duration": 1503,
    "start_time": "2022-03-19T19:46:31.970Z"
   },
   {
    "duration": 6,
    "start_time": "2022-03-19T19:46:33.475Z"
   },
   {
    "duration": 110,
    "start_time": "2022-03-19T19:46:33.484Z"
   },
   {
    "duration": 8,
    "start_time": "2022-03-19T19:46:33.651Z"
   },
   {
    "duration": 3889,
    "start_time": "2022-03-19T19:46:33.661Z"
   },
   {
    "duration": 56612,
    "start_time": "2022-03-19T19:46:37.553Z"
   },
   {
    "duration": 2459,
    "start_time": "2022-03-20T18:23:40.051Z"
   },
   {
    "duration": 933,
    "start_time": "2022-03-20T18:23:42.513Z"
   },
   {
    "duration": 331,
    "start_time": "2022-03-20T18:23:43.448Z"
   },
   {
    "duration": 5,
    "start_time": "2022-03-20T18:23:43.782Z"
   },
   {
    "duration": 443,
    "start_time": "2022-03-20T18:23:43.789Z"
   },
   {
    "duration": 9,
    "start_time": "2022-03-20T18:23:44.242Z"
   },
   {
    "duration": 12,
    "start_time": "2022-03-20T18:23:44.253Z"
   },
   {
    "duration": 444,
    "start_time": "2022-03-20T18:23:44.267Z"
   },
   {
    "duration": 63,
    "start_time": "2022-03-20T18:23:44.714Z"
   },
   {
    "duration": 262,
    "start_time": "2022-03-20T18:23:44.781Z"
   },
   {
    "duration": 16,
    "start_time": "2022-03-20T18:23:45.045Z"
   },
   {
    "duration": 1305,
    "start_time": "2022-03-20T18:23:45.063Z"
   },
   {
    "duration": 1641,
    "start_time": "2022-03-20T18:23:46.371Z"
   },
   {
    "duration": 621,
    "start_time": "2022-03-20T18:23:48.015Z"
   },
   {
    "duration": 29,
    "start_time": "2022-03-20T18:23:48.639Z"
   },
   {
    "duration": 1636,
    "start_time": "2022-03-20T18:23:48.671Z"
   },
   {
    "duration": 720,
    "start_time": "2022-03-20T18:23:50.309Z"
   },
   {
    "duration": 11,
    "start_time": "2022-03-20T18:23:51.032Z"
   },
   {
    "duration": 33,
    "start_time": "2022-03-20T18:23:51.046Z"
   },
   {
    "duration": 4,
    "start_time": "2022-03-20T18:23:51.081Z"
   },
   {
    "duration": 1661,
    "start_time": "2022-03-20T18:23:51.087Z"
   },
   {
    "duration": 24483,
    "start_time": "2022-03-20T18:23:52.751Z"
   },
   {
    "duration": 22,
    "start_time": "2022-03-20T18:25:11.109Z"
   },
   {
    "duration": 22,
    "start_time": "2022-03-20T18:25:19.258Z"
   },
   {
    "duration": 134,
    "start_time": "2022-03-20T18:25:25.397Z"
   },
   {
    "duration": 188,
    "start_time": "2022-03-20T18:27:30.551Z"
   },
   {
    "duration": 1951,
    "start_time": "2022-03-20T18:28:10.841Z"
   },
   {
    "duration": 24,
    "start_time": "2022-03-20T18:28:34.323Z"
   },
   {
    "duration": 36,
    "start_time": "2022-03-20T18:29:06.619Z"
   },
   {
    "duration": 21,
    "start_time": "2022-03-20T18:29:29.353Z"
   },
   {
    "duration": 161,
    "start_time": "2022-03-20T18:30:33.790Z"
   },
   {
    "duration": 308,
    "start_time": "2022-03-20T18:30:40.436Z"
   },
   {
    "duration": 7,
    "start_time": "2022-03-20T18:33:32.407Z"
   },
   {
    "duration": 319,
    "start_time": "2022-03-20T18:36:55.638Z"
   },
   {
    "duration": 6,
    "start_time": "2022-03-20T18:41:44.087Z"
   },
   {
    "duration": 4,
    "start_time": "2022-03-20T18:43:05.917Z"
   },
   {
    "duration": 5,
    "start_time": "2022-03-20T18:43:10.198Z"
   },
   {
    "duration": 25,
    "start_time": "2022-03-20T18:44:40.490Z"
   },
   {
    "duration": 4,
    "start_time": "2022-03-20T18:45:10.677Z"
   },
   {
    "duration": 2964,
    "start_time": "2022-03-20T18:46:16.786Z"
   },
   {
    "duration": 9,
    "start_time": "2022-03-20T18:46:40.753Z"
   },
   {
    "duration": 9,
    "start_time": "2022-03-20T18:46:43.278Z"
   },
   {
    "duration": 33,
    "start_time": "2022-03-20T18:48:43.196Z"
   },
   {
    "duration": 23,
    "start_time": "2022-03-20T18:49:11.678Z"
   },
   {
    "duration": 195,
    "start_time": "2022-03-20T18:51:17.251Z"
   },
   {
    "duration": 614,
    "start_time": "2022-03-20T18:52:46.636Z"
   },
   {
    "duration": 28,
    "start_time": "2022-03-20T18:53:01.030Z"
   },
   {
    "duration": 585,
    "start_time": "2022-03-20T18:53:01.664Z"
   },
   {
    "duration": 76,
    "start_time": "2022-03-20T18:55:36.248Z"
   },
   {
    "duration": 14,
    "start_time": "2022-03-20T18:56:10.215Z"
   },
   {
    "duration": 119,
    "start_time": "2022-03-20T18:56:13.385Z"
   },
   {
    "duration": 14,
    "start_time": "2022-03-20T18:56:39.424Z"
   },
   {
    "duration": 18,
    "start_time": "2022-03-20T19:01:17.612Z"
   },
   {
    "duration": 16,
    "start_time": "2022-03-20T19:01:44.505Z"
   },
   {
    "duration": 22142,
    "start_time": "2022-03-20T19:01:58.131Z"
   },
   {
    "duration": 22748,
    "start_time": "2022-03-20T19:02:39.708Z"
   },
   {
    "duration": 39,
    "start_time": "2022-03-20T19:03:05.423Z"
   },
   {
    "duration": 12425,
    "start_time": "2022-03-20T19:03:17.260Z"
   },
   {
    "duration": 12799,
    "start_time": "2022-03-20T19:04:16.773Z"
   },
   {
    "duration": 1814377,
    "start_time": "2022-03-20T19:05:57.673Z"
   },
   {
    "duration": 7,
    "start_time": "2022-03-20T19:37:05.596Z"
   },
   {
    "duration": 26,
    "start_time": "2022-03-20T19:43:01.273Z"
   },
   {
    "duration": 654762,
    "start_time": "2022-03-20T19:43:50.858Z"
   },
   {
    "duration": 36,
    "start_time": "2022-03-20T19:54:45.624Z"
   },
   {
    "duration": 554308,
    "start_time": "2022-03-20T19:54:45.663Z"
   },
   {
    "duration": 546509,
    "start_time": "2022-03-20T20:04:52.866Z"
   },
   {
    "duration": 6,
    "start_time": "2022-03-20T20:19:07.504Z"
   },
   {
    "duration": 6,
    "start_time": "2022-03-20T20:19:17.820Z"
   },
   {
    "duration": 11750,
    "start_time": "2022-03-20T20:20:00.347Z"
   },
   {
    "duration": 11608,
    "start_time": "2022-03-20T20:22:33.583Z"
   },
   {
    "duration": 36192,
    "start_time": "2022-03-20T20:30:25.052Z"
   },
   {
    "duration": 29844,
    "start_time": "2022-03-20T20:31:20.193Z"
   },
   {
    "duration": 2346,
    "start_time": "2022-03-21T05:19:12.167Z"
   },
   {
    "duration": 868,
    "start_time": "2022-03-21T05:19:14.515Z"
   },
   {
    "duration": 327,
    "start_time": "2022-03-21T05:19:15.386Z"
   },
   {
    "duration": 5,
    "start_time": "2022-03-21T05:19:15.716Z"
   },
   {
    "duration": 313,
    "start_time": "2022-03-21T05:19:15.723Z"
   },
   {
    "duration": 8,
    "start_time": "2022-03-21T05:19:16.040Z"
   },
   {
    "duration": 5,
    "start_time": "2022-03-21T05:19:53.456Z"
   },
   {
    "duration": 8,
    "start_time": "2022-03-21T05:20:26.280Z"
   },
   {
    "duration": 8,
    "start_time": "2022-03-21T05:25:35.023Z"
   },
   {
    "duration": 2241,
    "start_time": "2022-03-21T05:25:51.817Z"
   },
   {
    "duration": 889,
    "start_time": "2022-03-21T05:25:54.060Z"
   },
   {
    "duration": 316,
    "start_time": "2022-03-21T05:25:54.951Z"
   },
   {
    "duration": 14,
    "start_time": "2022-03-21T05:25:55.270Z"
   },
   {
    "duration": 301,
    "start_time": "2022-03-21T05:25:55.286Z"
   },
   {
    "duration": 8,
    "start_time": "2022-03-21T05:25:55.589Z"
   },
   {
    "duration": 8,
    "start_time": "2022-03-21T05:25:55.599Z"
   },
   {
    "duration": 441,
    "start_time": "2022-03-21T05:25:55.609Z"
   },
   {
    "duration": 65,
    "start_time": "2022-03-21T05:25:56.052Z"
   },
   {
    "duration": 252,
    "start_time": "2022-03-21T05:25:56.120Z"
   },
   {
    "duration": 21,
    "start_time": "2022-03-21T05:25:56.374Z"
   },
   {
    "duration": 1266,
    "start_time": "2022-03-21T05:28:44.508Z"
   },
   {
    "duration": 1495,
    "start_time": "2022-03-21T05:28:49.099Z"
   },
   {
    "duration": 604,
    "start_time": "2022-03-21T05:28:50.948Z"
   },
   {
    "duration": 24,
    "start_time": "2022-03-21T05:29:04.026Z"
   },
   {
    "duration": 1571,
    "start_time": "2022-03-21T05:29:09.144Z"
   },
   {
    "duration": 626,
    "start_time": "2022-03-21T05:29:12.961Z"
   },
   {
    "duration": 7,
    "start_time": "2022-03-21T05:29:36.064Z"
   },
   {
    "duration": 32,
    "start_time": "2022-03-21T05:29:38.912Z"
   },
   {
    "duration": 4,
    "start_time": "2022-03-21T05:29:40.584Z"
   },
   {
    "duration": 1586,
    "start_time": "2022-03-21T05:29:42.104Z"
   },
   {
    "duration": 22830,
    "start_time": "2022-03-21T05:48:27.657Z"
   },
   {
    "duration": 1345342,
    "start_time": "2022-03-21T05:49:35.631Z"
   },
   {
    "duration": 5,
    "start_time": "2022-03-21T06:12:00.984Z"
   },
   {
    "duration": 39,
    "start_time": "2022-03-21T06:12:53.736Z"
   },
   {
    "duration": 3279,
    "start_time": "2022-03-21T06:12:56.575Z"
   },
   {
    "duration": 43,
    "start_time": "2022-03-21T06:13:37.557Z"
   },
   {
    "duration": 3356,
    "start_time": "2022-03-21T06:13:47.103Z"
   },
   {
    "duration": 26,
    "start_time": "2022-03-21T06:14:29.381Z"
   },
   {
    "duration": 28,
    "start_time": "2022-03-21T06:14:40.796Z"
   },
   {
    "duration": 3490,
    "start_time": "2022-03-21T06:14:42.428Z"
   },
   {
    "duration": 7,
    "start_time": "2022-03-21T06:15:37.131Z"
   },
   {
    "duration": 10,
    "start_time": "2022-03-21T06:17:03.433Z"
   },
   {
    "duration": 26,
    "start_time": "2022-03-21T06:18:16.445Z"
   },
   {
    "duration": 5,
    "start_time": "2022-03-21T06:18:48.277Z"
   },
   {
    "duration": 4,
    "start_time": "2022-03-21T06:18:48.821Z"
   },
   {
    "duration": 24,
    "start_time": "2022-03-21T06:18:49.549Z"
   },
   {
    "duration": 4,
    "start_time": "2022-03-21T06:18:50.638Z"
   },
   {
    "duration": 2952,
    "start_time": "2022-03-21T06:18:51.037Z"
   },
   {
    "duration": 22,
    "start_time": "2022-03-21T06:18:57.149Z"
   },
   {
    "duration": 529,
    "start_time": "2022-03-21T06:18:59.365Z"
   },
   {
    "duration": 21317,
    "start_time": "2022-03-21T06:19:01.820Z"
   },
   {
    "duration": 11296,
    "start_time": "2022-03-21T06:19:25.508Z"
   },
   {
    "duration": 3224,
    "start_time": "2022-03-21T06:20:32.067Z"
   },
   {
    "duration": 11663,
    "start_time": "2022-03-21T06:21:18.809Z"
   },
   {
    "duration": 11397,
    "start_time": "2022-03-21T06:21:55.504Z"
   },
   {
    "duration": 2103,
    "start_time": "2022-03-21T06:22:23.405Z"
   },
   {
    "duration": 944,
    "start_time": "2022-03-21T06:22:25.511Z"
   },
   {
    "duration": 350,
    "start_time": "2022-03-21T06:22:26.457Z"
   },
   {
    "duration": 4,
    "start_time": "2022-03-21T06:22:26.810Z"
   },
   {
    "duration": 328,
    "start_time": "2022-03-21T06:22:26.816Z"
   },
   {
    "duration": 7,
    "start_time": "2022-03-21T06:22:27.147Z"
   },
   {
    "duration": 29,
    "start_time": "2022-03-21T06:22:27.156Z"
   },
   {
    "duration": 435,
    "start_time": "2022-03-21T06:22:27.189Z"
   },
   {
    "duration": 62,
    "start_time": "2022-03-21T06:22:27.627Z"
   },
   {
    "duration": 251,
    "start_time": "2022-03-21T06:22:27.696Z"
   },
   {
    "duration": 39,
    "start_time": "2022-03-21T06:22:27.950Z"
   },
   {
    "duration": 1307,
    "start_time": "2022-03-21T06:22:27.993Z"
   },
   {
    "duration": 1667,
    "start_time": "2022-03-21T06:22:29.303Z"
   },
   {
    "duration": 603,
    "start_time": "2022-03-21T06:22:30.973Z"
   },
   {
    "duration": 34,
    "start_time": "2022-03-21T06:22:31.579Z"
   },
   {
    "duration": 1673,
    "start_time": "2022-03-21T06:22:31.615Z"
   },
   {
    "duration": 681,
    "start_time": "2022-03-21T06:22:33.293Z"
   },
   {
    "duration": 8,
    "start_time": "2022-03-21T06:22:33.977Z"
   },
   {
    "duration": 40,
    "start_time": "2022-03-21T06:22:33.989Z"
   },
   {
    "duration": 5,
    "start_time": "2022-03-21T06:22:34.031Z"
   },
   {
    "duration": 1750,
    "start_time": "2022-03-21T06:22:34.038Z"
   },
   {
    "duration": 23516,
    "start_time": "2022-03-21T06:22:35.793Z"
   },
   {
    "duration": 1396494,
    "start_time": "2022-03-21T06:22:59.312Z"
   },
   {
    "duration": 7,
    "start_time": "2022-03-21T06:46:15.809Z"
   },
   {
    "duration": 11498,
    "start_time": "2022-03-21T06:46:15.819Z"
   },
   {
    "duration": 23,
    "start_time": "2022-03-21T06:46:27.319Z"
   },
   {
    "duration": 23,
    "start_time": "2022-03-21T06:51:01.705Z"
   }
  ],
  "kernelspec": {
   "display_name": "Python 3 (ipykernel)",
   "language": "python",
   "name": "python3"
  },
  "language_info": {
   "codemirror_mode": {
    "name": "ipython",
    "version": 3
   },
   "file_extension": ".py",
   "mimetype": "text/x-python",
   "name": "python",
   "nbconvert_exporter": "python",
   "pygments_lexer": "ipython3",
   "version": "3.9.5"
  },
  "toc": {
   "base_numbering": 1,
   "nav_menu": {},
   "number_sections": true,
   "sideBar": true,
   "skip_h1_title": true,
   "title_cell": "Содержание",
   "title_sidebar": "Contents",
   "toc_cell": true,
   "toc_position": {},
   "toc_section_display": true,
   "toc_window_display": true
  }
 },
 "nbformat": 4,
 "nbformat_minor": 2
}
