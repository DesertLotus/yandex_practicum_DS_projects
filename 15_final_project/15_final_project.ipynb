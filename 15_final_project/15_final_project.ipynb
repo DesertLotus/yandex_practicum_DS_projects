{
 "cells": [
  {
   "cell_type": "markdown",
   "id": "b1ef8e08",
   "metadata": {
    "id": "b1ef8e08",
    "toc": true
   },
   "source": [
    "<h1>Содержание<span class=\"tocSkip\"></span></h1>\n",
    "<div class=\"toc\"><ul class=\"toc-item\"><li><span><a href=\"#Постановка-задачи-исследования-и-загрузка-данных.\" data-toc-modified-id=\"Постановка-задачи-исследования-и-загрузка-данных.-1\"><span class=\"toc-item-num\">1&nbsp;&nbsp;</span>Постановка задачи исследования и загрузка данных.</a></span></li><li><span><a href=\"#План-проекта\" data-toc-modified-id=\"План-проекта-2\"><span class=\"toc-item-num\">2&nbsp;&nbsp;</span>План проекта</a></span></li><li><span><a href=\"#Исследование-данных\" data-toc-modified-id=\"Исследование-данных-3\"><span class=\"toc-item-num\">3&nbsp;&nbsp;</span>Исследование данных</a></span><ul class=\"toc-item\"><li><span><a href=\"#Общий-вывод:\" data-toc-modified-id=\"Общий-вывод:-3.1\"><span class=\"toc-item-num\">3.1&nbsp;&nbsp;</span>Общий вывод:</a></span></li></ul></li><li><span><a href=\"#Проверка-адекватности-исследования\" data-toc-modified-id=\"Проверка-адекватности-исследования-4\"><span class=\"toc-item-num\">4&nbsp;&nbsp;</span>Проверка адекватности исследования</a></span><ul class=\"toc-item\"><li><span><a href=\"#Вывод\" data-toc-modified-id=\"Вывод-4.1\"><span class=\"toc-item-num\">4.1&nbsp;&nbsp;</span>Вывод</a></span></li></ul></li><li><span><a href=\"#Список-вопросов-заказчику:\" data-toc-modified-id=\"Список-вопросов-заказчику:-5\"><span class=\"toc-item-num\">5&nbsp;&nbsp;</span>Список вопросов заказчику:</a></span></li><li><span><a href=\"#Добавление-дополнительных-параметров-и-объединение-таблиц\" data-toc-modified-id=\"Добавление-дополнительных-параметров-и-объединение-таблиц-6\"><span class=\"toc-item-num\">6&nbsp;&nbsp;</span>Добавление дополнительных параметров и объединение таблиц</a></span></li><li><span><a href=\"#Выбор-оптимальной-модели\" data-toc-modified-id=\"Выбор-оптимальной-модели-7\"><span class=\"toc-item-num\">7&nbsp;&nbsp;</span>Выбор оптимальной модели</a></span></li><li><span><a href=\"#Тестирование-модели:\" data-toc-modified-id=\"Тестирование-модели:-8\"><span class=\"toc-item-num\">8&nbsp;&nbsp;</span>Тестирование модели:</a></span></li><li><span><a href=\"#Отчет-о-проделанной-работе:\" data-toc-modified-id=\"Отчет-о-проделанной-работе:-9\"><span class=\"toc-item-num\">9&nbsp;&nbsp;</span>Отчет о проделанной работе:</a></span></li></ul></div>"
   ]
  },
  {
   "cell_type": "markdown",
   "id": "46b7c5d5",
   "metadata": {
    "id": "46b7c5d5"
   },
   "source": [
    "# Финальный проект. Промышленность."
   ]
  },
  {
   "cell_type": "markdown",
   "id": "c8790d2d",
   "metadata": {
    "id": "c8790d2d"
   },
   "source": [
    "## Постановка задачи исследования и загрузка данных."
   ]
  },
  {
   "cell_type": "markdown",
   "id": "ccb50f4c",
   "metadata": {
    "id": "ccb50f4c"
   },
   "source": [
    "Чтобы оптимизировать производственные расходы, металлургический комбинат ООО «Так закаляем сталь» решил уменьшить потребление электроэнергии на этапе обработки стали. Вам предстоит построить модель, которая предскажет температуру стали."
   ]
  },
  {
   "cell_type": "markdown",
   "id": "053b5a27",
   "metadata": {
    "id": "053b5a27"
   },
   "source": [
    "**Описание этапа обработки**\n",
    "\n",
    "Сталь обрабатывают в металлическом ковше вместимостью около 100 тонн. Чтобы ковш выдерживал высокие температуры, изнутри его облицовывают огнеупорным кирпичом. Расплавленную сталь заливают в ковш и подогревают до нужной температуры графитовыми электродами. Они установлены в крышке ковша. \n",
    "\n",
    "Из сплава выводится сера (десульфурация), добавлением примесей корректируется химический состав и отбираются пробы. Сталь легируют — изменяют её состав — подавая куски сплава из бункера для сыпучих материалов или проволоку через специальный трайб-аппарат (англ. tribe, «масса»).\n",
    "\n",
    "Перед тем как первый раз ввести легирующие добавки, измеряют температуру стали и производят её химический анализ. Потом температуру на несколько минут повышают, добавляют легирующие материалы и продувают сплав инертным газом. Затем его перемешивают и снова проводят измерения. Такой цикл повторяется до достижения целевого химического состава и оптимальной температуры плавки.\n",
    "\n",
    "Тогда расплавленная сталь отправляется на доводку металла или поступает в машину непрерывной разливки. Оттуда готовый продукт выходит в виде заготовок-слябов (англ. *slab*, «плита»)."
   ]
  },
  {
   "cell_type": "markdown",
   "id": "e78aab10",
   "metadata": {
    "id": "e78aab10"
   },
   "source": [
    "Загрузим необходимые библиотеки:"
   ]
  },
  {
   "cell_type": "code",
   "execution_count": 1,
   "id": "5b109a3b",
   "metadata": {
    "executionInfo": {
     "elapsed": 1055,
     "status": "ok",
     "timestamp": 1657015921036,
     "user": {
      "displayName": "Кирилл Ерохин",
      "userId": "09883907194110507041"
     },
     "user_tz": -180
    },
    "id": "5b109a3b"
   },
   "outputs": [],
   "source": [
    "import pandas as pd\n",
    "import matplotlib.pyplot as plt \n",
    "plt.style.use('seaborn-pastel')\n",
    "import seaborn as sns \n",
    "import numpy as np \n",
    "from termcolor import colored\n",
    "\n",
    "pd.options.display.max_columns = None # полностью отображаем столбцы\n",
    "\n",
    "import warnings\n",
    "warnings.filterwarnings('ignore')"
   ]
  },
  {
   "cell_type": "markdown",
   "id": "f7bf170b",
   "metadata": {
    "id": "f7bf170b"
   },
   "source": [
    "Загрузим данные:"
   ]
  },
  {
   "cell_type": "code",
   "execution_count": 3,
   "id": "78d3810b",
   "metadata": {
    "executionInfo": {
     "elapsed": 7,
     "status": "ok",
     "timestamp": 1657015923257,
     "user": {
      "displayName": "Кирилл Ерохин",
      "userId": "09883907194110507041"
     },
     "user_tz": -180
    },
    "id": "78d3810b"
   },
   "outputs": [],
   "source": [
    "try:\n",
    "    df_arc = pd.read_csv('C:/Users/cool-/Desktop/DATA/jupiter_files/FINAL_PROJECT/final_steel/final_steel/data_arc.csv')\n",
    "    df_bulk = pd.read_csv('C:/Users/cool-/Desktop/DATA/jupiter_files/FINAL_PROJECT/final_steel/final_steel/data_bulk.csv')\n",
    "    df_bulk_time = pd.read_csv('C:/Users/cool-/Desktop/DATA/jupiter_files/FINAL_PROJECT/final_steel/final_steel/data_bulk_time.csv')\n",
    "    df_gas = pd.read_csv('C:/Users/cool-/Desktop/DATA/jupiter_files/FINAL_PROJECT/final_steel/final_steel/data_gas.csv')\n",
    "    df_temp = pd.read_csv('C:/Users/cool-/Desktop/DATA/jupiter_files/FINAL_PROJECT/final_steel/final_steel/data_temp.csv')\n",
    "    df_wire = pd.read_csv('C:/Users/cool-/Desktop/DATA/jupiter_files/FINAL_PROJECT/final_steel/final_steel/data_wire.csv')\n",
    "    df_wire_time = pd.read_csv('C:/Users/cool-/Desktop/DATA/jupiter_files/FINAL_PROJECT/final_steel/final_steel/data_wire_time.csv')\n",
    "except:\n",
    "    try:\n",
    "        df_arc = pd.read_csv('/datasets/final_steel/data_arc.csv')\n",
    "        df_bulk = pd.read_csv('/datasets/final_steel/data_bulk.csv')\n",
    "        df_bulk_time = pd.read_csv('/datasets/final_steel/data_bulk_time.csv')\n",
    "        df_gas = pd.read_csv('/datasets/final_steel/data_gas.csv')\n",
    "        df_temp = pd.read_csv('/datasets/final_steel/data_temp.csv')\n",
    "        df_wire = pd.read_csv('/datasets/final_steel/data_wire.csv')\n",
    "        df_wire_time = pd.read_csv('/datasets/final_steel/data_wire_time.csv')\n",
    "    except:\n",
    "        df_arc = pd.read_csv('/content/drive/MyDrive/Colab Notebooks/datasets/final_steel/data_arc.csv')\n",
    "        df_bulk = pd.read_csv('/content/drive/MyDrive/Colab Notebooks/datasets/final_steel/data_bulk.csv')\n",
    "        df_bulk_time = pd.read_csv('/content/drive/MyDrive/Colab Notebooks/datasets/final_steel/data_bulk_time.csv')\n",
    "        df_gas = pd.read_csv('/content/drive/MyDrive/Colab Notebooks/datasets/final_steel/data_gas.csv')\n",
    "        df_temp = pd.read_csv('/content/drive/MyDrive/Colab Notebooks/datasets/final_steel/data_temp.csv')\n",
    "        df_wire = pd.read_csv('/content/drive/MyDrive/Colab Notebooks/datasets/final_steel/data_wire.csv')\n",
    "        df_wire_time = pd.read_csv('/content/drive/MyDrive/Colab Notebooks/datasets/final_steel/data_wire_time.csv')"
   ]
  },
  {
   "cell_type": "markdown",
   "id": "44dc78d8",
   "metadata": {
    "id": "44dc78d8"
   },
   "source": [
    "**Описание данных**\n",
    "\n",
    "Данные состоят из файлов, полученных из разных источников:\n",
    "\n",
    "- `data_arc.csv` — данные об электродах;\n",
    "- `data_bulk.csv` — данные о подаче сыпучих материалов (объём);\n",
    "- `data_bulk_time.csv` *—* данные о подаче сыпучих материалов (время);\n",
    "- `data_gas.csv` — данные о продувке сплава газом;\n",
    "- `data_temp.csv` — результаты измерения температуры;\n",
    "- `data_wire.csv` — данные о проволочных материалах (объём);\n",
    "- `data_wire_time.csv` — данные о проволочных материалах (время).\n",
    "\n",
    "Во всех файлах столбец `key` содержит номер партии. В файлах может быть несколько строк с одинаковым значением `key`: они соответствуют разным итерациям обработки."
   ]
  },
  {
   "cell_type": "markdown",
   "id": "27238d9d",
   "metadata": {
    "id": "27238d9d"
   },
   "source": [
    "## План проекта"
   ]
  },
  {
   "cell_type": "markdown",
   "id": "2980e3d8",
   "metadata": {
    "id": "2980e3d8"
   },
   "source": [
    "Для получения модели с необходимыми метриками, необходимо сделать следующие шаги:\n",
    "\n",
    "1. Провести исследовательский анализ данных таблиц, построить графики, рассмотреть значения, сделать выводы.\n",
    "2. Удалить из таблиц аномальные значения, ошибки. Уточнить, является ли это ошибкой. Рассчитать новые значения.\n",
    "3. Провести проверку адекватности данных.\n",
    "4. Объединить таблицы в итоговую, на основе которой будут использовать модель.\n",
    "5. Исключить из таблицы строки, которые не прошли адекватность.\n",
    "6. Исключить строки, в которых отсутствует целевое значение.\n",
    "7. Заполнить пропуски, где необходимо.\n",
    "8. Разделить выборку на тестовую и тренировочную.\n",
    "9. Обучить модель и рассмотреть полученные метрики."
   ]
  },
  {
   "cell_type": "markdown",
   "id": "005316d1",
   "metadata": {
    "id": "005316d1"
   },
   "source": [
    "## Исследование данных"
   ]
  },
  {
   "cell_type": "markdown",
   "id": "9e905f2d",
   "metadata": {
    "id": "9e905f2d"
   },
   "source": [
    "Проанализируем данные:"
   ]
  },
  {
   "cell_type": "code",
   "execution_count": 4,
   "id": "eb8a4584",
   "metadata": {
    "executionInfo": {
     "elapsed": 6,
     "status": "ok",
     "timestamp": 1657015923257,
     "user": {
      "displayName": "Кирилл Ерохин",
      "userId": "09883907194110507041"
     },
     "user_tz": -180
    },
    "id": "eb8a4584"
   },
   "outputs": [],
   "source": [
    "# создадим словарь с таблицами, чтобы упростить код\n",
    "\n",
    "datasets_dict = {\n",
    "    'Данные об электродах':df_arc, \n",
    "    'Данные о подаче сыпучих материалов (объём)':df_bulk, \n",
    "    'Данные о подаче сыпучих материалов (время)':df_bulk_time,\n",
    "    'Данные о продувке сплава газом':df_gas,\n",
    "    'Результаты измерения температуры':df_temp,\n",
    "    'Данные о проволочных материалах (объём)':df_wire,\n",
    "    'Данные о проволочных материалах (время)':df_wire_time\n",
    "}"
   ]
  },
  {
   "cell_type": "markdown",
   "id": "381702ec",
   "metadata": {
    "id": "381702ec"
   },
   "source": [
    "Рассмотрим данные:"
   ]
  },
  {
   "cell_type": "code",
   "execution_count": 5,
   "id": "4e276e9d",
   "metadata": {
    "colab": {
     "base_uri": "https://localhost:8080/",
     "height": 1000
    },
    "executionInfo": {
     "elapsed": 535,
     "status": "ok",
     "timestamp": 1657015923786,
     "user": {
      "displayName": "Кирилл Ерохин",
      "userId": "09883907194110507041"
     },
     "user_tz": -180
    },
    "id": "4e276e9d",
    "outputId": "07b507b9-cda9-4d5f-ed53-11e3ba54fbc1"
   },
   "outputs": [
    {
     "name": "stdout",
     "output_type": "stream",
     "text": [
      "\u001b[1m\u001b[34mДанные об электродах\u001b[0m\n"
     ]
    },
    {
     "data": {
      "text/html": [
       "<div>\n",
       "<style scoped>\n",
       "    .dataframe tbody tr th:only-of-type {\n",
       "        vertical-align: middle;\n",
       "    }\n",
       "\n",
       "    .dataframe tbody tr th {\n",
       "        vertical-align: top;\n",
       "    }\n",
       "\n",
       "    .dataframe thead th {\n",
       "        text-align: right;\n",
       "    }\n",
       "</style>\n",
       "<table border=\"1\" class=\"dataframe\">\n",
       "  <thead>\n",
       "    <tr style=\"text-align: right;\">\n",
       "      <th></th>\n",
       "      <th>key</th>\n",
       "      <th>Начало нагрева дугой</th>\n",
       "      <th>Конец нагрева дугой</th>\n",
       "      <th>Активная мощность</th>\n",
       "      <th>Реактивная мощность</th>\n",
       "    </tr>\n",
       "  </thead>\n",
       "  <tbody>\n",
       "    <tr>\n",
       "      <th>0</th>\n",
       "      <td>1</td>\n",
       "      <td>2019-05-03 11:02:14</td>\n",
       "      <td>2019-05-03 11:06:02</td>\n",
       "      <td>0.976059</td>\n",
       "      <td>0.687084</td>\n",
       "    </tr>\n",
       "    <tr>\n",
       "      <th>1</th>\n",
       "      <td>1</td>\n",
       "      <td>2019-05-03 11:07:28</td>\n",
       "      <td>2019-05-03 11:10:33</td>\n",
       "      <td>0.805607</td>\n",
       "      <td>0.520285</td>\n",
       "    </tr>\n",
       "    <tr>\n",
       "      <th>2</th>\n",
       "      <td>1</td>\n",
       "      <td>2019-05-03 11:11:44</td>\n",
       "      <td>2019-05-03 11:14:36</td>\n",
       "      <td>0.744363</td>\n",
       "      <td>0.498805</td>\n",
       "    </tr>\n",
       "    <tr>\n",
       "      <th>3</th>\n",
       "      <td>1</td>\n",
       "      <td>2019-05-03 11:18:14</td>\n",
       "      <td>2019-05-03 11:24:19</td>\n",
       "      <td>1.659363</td>\n",
       "      <td>1.062669</td>\n",
       "    </tr>\n",
       "    <tr>\n",
       "      <th>4</th>\n",
       "      <td>1</td>\n",
       "      <td>2019-05-03 11:26:09</td>\n",
       "      <td>2019-05-03 11:28:37</td>\n",
       "      <td>0.692755</td>\n",
       "      <td>0.414397</td>\n",
       "    </tr>\n",
       "    <tr>\n",
       "      <th>5</th>\n",
       "      <td>2</td>\n",
       "      <td>2019-05-03 11:34:14</td>\n",
       "      <td>2019-05-03 11:36:31</td>\n",
       "      <td>0.438063</td>\n",
       "      <td>0.283043</td>\n",
       "    </tr>\n",
       "    <tr>\n",
       "      <th>6</th>\n",
       "      <td>2</td>\n",
       "      <td>2019-05-03 11:38:50</td>\n",
       "      <td>2019-05-03 11:44:28</td>\n",
       "      <td>1.296415</td>\n",
       "      <td>0.892914</td>\n",
       "    </tr>\n",
       "    <tr>\n",
       "      <th>7</th>\n",
       "      <td>2</td>\n",
       "      <td>2019-05-03 11:46:19</td>\n",
       "      <td>2019-05-03 11:48:25</td>\n",
       "      <td>0.490377</td>\n",
       "      <td>0.305281</td>\n",
       "    </tr>\n",
       "    <tr>\n",
       "      <th>8</th>\n",
       "      <td>2</td>\n",
       "      <td>2019-05-03 11:49:48</td>\n",
       "      <td>2019-05-03 11:53:18</td>\n",
       "      <td>0.827743</td>\n",
       "      <td>0.516874</td>\n",
       "    </tr>\n",
       "    <tr>\n",
       "      <th>9</th>\n",
       "      <td>3</td>\n",
       "      <td>2019-05-03 12:06:54</td>\n",
       "      <td>2019-05-03 12:11:34</td>\n",
       "      <td>1.062053</td>\n",
       "      <td>0.671494</td>\n",
       "    </tr>\n",
       "  </tbody>\n",
       "</table>\n",
       "</div>"
      ],
      "text/plain": [
       "   key Начало нагрева дугой  Конец нагрева дугой  Активная мощность  \\\n",
       "0    1  2019-05-03 11:02:14  2019-05-03 11:06:02           0.976059   \n",
       "1    1  2019-05-03 11:07:28  2019-05-03 11:10:33           0.805607   \n",
       "2    1  2019-05-03 11:11:44  2019-05-03 11:14:36           0.744363   \n",
       "3    1  2019-05-03 11:18:14  2019-05-03 11:24:19           1.659363   \n",
       "4    1  2019-05-03 11:26:09  2019-05-03 11:28:37           0.692755   \n",
       "5    2  2019-05-03 11:34:14  2019-05-03 11:36:31           0.438063   \n",
       "6    2  2019-05-03 11:38:50  2019-05-03 11:44:28           1.296415   \n",
       "7    2  2019-05-03 11:46:19  2019-05-03 11:48:25           0.490377   \n",
       "8    2  2019-05-03 11:49:48  2019-05-03 11:53:18           0.827743   \n",
       "9    3  2019-05-03 12:06:54  2019-05-03 12:11:34           1.062053   \n",
       "\n",
       "   Реактивная мощность  \n",
       "0             0.687084  \n",
       "1             0.520285  \n",
       "2             0.498805  \n",
       "3             1.062669  \n",
       "4             0.414397  \n",
       "5             0.283043  \n",
       "6             0.892914  \n",
       "7             0.305281  \n",
       "8             0.516874  \n",
       "9             0.671494  "
      ]
     },
     "metadata": {},
     "output_type": "display_data"
    },
    {
     "name": "stdout",
     "output_type": "stream",
     "text": [
      "<class 'pandas.core.frame.DataFrame'>\n",
      "RangeIndex: 14876 entries, 0 to 14875\n",
      "Data columns (total 5 columns):\n",
      " #   Column                Non-Null Count  Dtype  \n",
      "---  ------                --------------  -----  \n",
      " 0   key                   14876 non-null  int64  \n",
      " 1   Начало нагрева дугой  14876 non-null  object \n",
      " 2   Конец нагрева дугой   14876 non-null  object \n",
      " 3   Активная мощность     14876 non-null  float64\n",
      " 4   Реактивная мощность   14876 non-null  float64\n",
      "dtypes: float64(2), int64(1), object(2)\n",
      "memory usage: 581.2+ KB\n"
     ]
    },
    {
     "data": {
      "text/plain": [
       "None"
      ]
     },
     "metadata": {},
     "output_type": "display_data"
    },
    {
     "name": "stdout",
     "output_type": "stream",
     "text": [
      "---------------------------\n",
      "\u001b[1m\u001b[34mДанные о подаче сыпучих материалов (объём)\u001b[0m\n"
     ]
    },
    {
     "data": {
      "text/html": [
       "<div>\n",
       "<style scoped>\n",
       "    .dataframe tbody tr th:only-of-type {\n",
       "        vertical-align: middle;\n",
       "    }\n",
       "\n",
       "    .dataframe tbody tr th {\n",
       "        vertical-align: top;\n",
       "    }\n",
       "\n",
       "    .dataframe thead th {\n",
       "        text-align: right;\n",
       "    }\n",
       "</style>\n",
       "<table border=\"1\" class=\"dataframe\">\n",
       "  <thead>\n",
       "    <tr style=\"text-align: right;\">\n",
       "      <th></th>\n",
       "      <th>key</th>\n",
       "      <th>Bulk 1</th>\n",
       "      <th>Bulk 2</th>\n",
       "      <th>Bulk 3</th>\n",
       "      <th>Bulk 4</th>\n",
       "      <th>Bulk 5</th>\n",
       "      <th>Bulk 6</th>\n",
       "      <th>Bulk 7</th>\n",
       "      <th>Bulk 8</th>\n",
       "      <th>Bulk 9</th>\n",
       "      <th>Bulk 10</th>\n",
       "      <th>Bulk 11</th>\n",
       "      <th>Bulk 12</th>\n",
       "      <th>Bulk 13</th>\n",
       "      <th>Bulk 14</th>\n",
       "      <th>Bulk 15</th>\n",
       "    </tr>\n",
       "  </thead>\n",
       "  <tbody>\n",
       "    <tr>\n",
       "      <th>0</th>\n",
       "      <td>1</td>\n",
       "      <td>NaN</td>\n",
       "      <td>NaN</td>\n",
       "      <td>NaN</td>\n",
       "      <td>43.0</td>\n",
       "      <td>NaN</td>\n",
       "      <td>NaN</td>\n",
       "      <td>NaN</td>\n",
       "      <td>NaN</td>\n",
       "      <td>NaN</td>\n",
       "      <td>NaN</td>\n",
       "      <td>NaN</td>\n",
       "      <td>206.0</td>\n",
       "      <td>NaN</td>\n",
       "      <td>150.0</td>\n",
       "      <td>154.0</td>\n",
       "    </tr>\n",
       "    <tr>\n",
       "      <th>1</th>\n",
       "      <td>2</td>\n",
       "      <td>NaN</td>\n",
       "      <td>NaN</td>\n",
       "      <td>NaN</td>\n",
       "      <td>73.0</td>\n",
       "      <td>NaN</td>\n",
       "      <td>NaN</td>\n",
       "      <td>NaN</td>\n",
       "      <td>NaN</td>\n",
       "      <td>NaN</td>\n",
       "      <td>NaN</td>\n",
       "      <td>NaN</td>\n",
       "      <td>206.0</td>\n",
       "      <td>NaN</td>\n",
       "      <td>149.0</td>\n",
       "      <td>154.0</td>\n",
       "    </tr>\n",
       "    <tr>\n",
       "      <th>2</th>\n",
       "      <td>3</td>\n",
       "      <td>NaN</td>\n",
       "      <td>NaN</td>\n",
       "      <td>NaN</td>\n",
       "      <td>34.0</td>\n",
       "      <td>NaN</td>\n",
       "      <td>NaN</td>\n",
       "      <td>NaN</td>\n",
       "      <td>NaN</td>\n",
       "      <td>NaN</td>\n",
       "      <td>NaN</td>\n",
       "      <td>NaN</td>\n",
       "      <td>205.0</td>\n",
       "      <td>NaN</td>\n",
       "      <td>152.0</td>\n",
       "      <td>153.0</td>\n",
       "    </tr>\n",
       "    <tr>\n",
       "      <th>3</th>\n",
       "      <td>4</td>\n",
       "      <td>NaN</td>\n",
       "      <td>NaN</td>\n",
       "      <td>NaN</td>\n",
       "      <td>81.0</td>\n",
       "      <td>NaN</td>\n",
       "      <td>NaN</td>\n",
       "      <td>NaN</td>\n",
       "      <td>NaN</td>\n",
       "      <td>NaN</td>\n",
       "      <td>NaN</td>\n",
       "      <td>NaN</td>\n",
       "      <td>207.0</td>\n",
       "      <td>NaN</td>\n",
       "      <td>153.0</td>\n",
       "      <td>154.0</td>\n",
       "    </tr>\n",
       "    <tr>\n",
       "      <th>4</th>\n",
       "      <td>5</td>\n",
       "      <td>NaN</td>\n",
       "      <td>NaN</td>\n",
       "      <td>NaN</td>\n",
       "      <td>78.0</td>\n",
       "      <td>NaN</td>\n",
       "      <td>NaN</td>\n",
       "      <td>NaN</td>\n",
       "      <td>NaN</td>\n",
       "      <td>NaN</td>\n",
       "      <td>NaN</td>\n",
       "      <td>NaN</td>\n",
       "      <td>203.0</td>\n",
       "      <td>NaN</td>\n",
       "      <td>151.0</td>\n",
       "      <td>152.0</td>\n",
       "    </tr>\n",
       "    <tr>\n",
       "      <th>5</th>\n",
       "      <td>6</td>\n",
       "      <td>NaN</td>\n",
       "      <td>NaN</td>\n",
       "      <td>NaN</td>\n",
       "      <td>117.0</td>\n",
       "      <td>NaN</td>\n",
       "      <td>NaN</td>\n",
       "      <td>NaN</td>\n",
       "      <td>NaN</td>\n",
       "      <td>NaN</td>\n",
       "      <td>NaN</td>\n",
       "      <td>NaN</td>\n",
       "      <td>204.0</td>\n",
       "      <td>NaN</td>\n",
       "      <td>201.0</td>\n",
       "      <td>154.0</td>\n",
       "    </tr>\n",
       "    <tr>\n",
       "      <th>6</th>\n",
       "      <td>7</td>\n",
       "      <td>NaN</td>\n",
       "      <td>NaN</td>\n",
       "      <td>NaN</td>\n",
       "      <td>117.0</td>\n",
       "      <td>NaN</td>\n",
       "      <td>NaN</td>\n",
       "      <td>NaN</td>\n",
       "      <td>NaN</td>\n",
       "      <td>NaN</td>\n",
       "      <td>NaN</td>\n",
       "      <td>NaN</td>\n",
       "      <td>204.0</td>\n",
       "      <td>NaN</td>\n",
       "      <td>152.0</td>\n",
       "      <td>154.0</td>\n",
       "    </tr>\n",
       "    <tr>\n",
       "      <th>7</th>\n",
       "      <td>8</td>\n",
       "      <td>NaN</td>\n",
       "      <td>NaN</td>\n",
       "      <td>NaN</td>\n",
       "      <td>99.0</td>\n",
       "      <td>NaN</td>\n",
       "      <td>NaN</td>\n",
       "      <td>NaN</td>\n",
       "      <td>NaN</td>\n",
       "      <td>NaN</td>\n",
       "      <td>NaN</td>\n",
       "      <td>NaN</td>\n",
       "      <td>410.0</td>\n",
       "      <td>NaN</td>\n",
       "      <td>252.0</td>\n",
       "      <td>153.0</td>\n",
       "    </tr>\n",
       "    <tr>\n",
       "      <th>8</th>\n",
       "      <td>9</td>\n",
       "      <td>NaN</td>\n",
       "      <td>NaN</td>\n",
       "      <td>NaN</td>\n",
       "      <td>117.0</td>\n",
       "      <td>NaN</td>\n",
       "      <td>NaN</td>\n",
       "      <td>NaN</td>\n",
       "      <td>NaN</td>\n",
       "      <td>NaN</td>\n",
       "      <td>NaN</td>\n",
       "      <td>NaN</td>\n",
       "      <td>107.0</td>\n",
       "      <td>NaN</td>\n",
       "      <td>99.0</td>\n",
       "      <td>203.0</td>\n",
       "    </tr>\n",
       "    <tr>\n",
       "      <th>9</th>\n",
       "      <td>10</td>\n",
       "      <td>NaN</td>\n",
       "      <td>NaN</td>\n",
       "      <td>NaN</td>\n",
       "      <td>NaN</td>\n",
       "      <td>NaN</td>\n",
       "      <td>NaN</td>\n",
       "      <td>NaN</td>\n",
       "      <td>NaN</td>\n",
       "      <td>NaN</td>\n",
       "      <td>NaN</td>\n",
       "      <td>NaN</td>\n",
       "      <td>203.0</td>\n",
       "      <td>NaN</td>\n",
       "      <td>102.0</td>\n",
       "      <td>204.0</td>\n",
       "    </tr>\n",
       "  </tbody>\n",
       "</table>\n",
       "</div>"
      ],
      "text/plain": [
       "   key  Bulk 1  Bulk 2  Bulk 3  Bulk 4  Bulk 5  Bulk 6  Bulk 7  Bulk 8  \\\n",
       "0    1     NaN     NaN     NaN    43.0     NaN     NaN     NaN     NaN   \n",
       "1    2     NaN     NaN     NaN    73.0     NaN     NaN     NaN     NaN   \n",
       "2    3     NaN     NaN     NaN    34.0     NaN     NaN     NaN     NaN   \n",
       "3    4     NaN     NaN     NaN    81.0     NaN     NaN     NaN     NaN   \n",
       "4    5     NaN     NaN     NaN    78.0     NaN     NaN     NaN     NaN   \n",
       "5    6     NaN     NaN     NaN   117.0     NaN     NaN     NaN     NaN   \n",
       "6    7     NaN     NaN     NaN   117.0     NaN     NaN     NaN     NaN   \n",
       "7    8     NaN     NaN     NaN    99.0     NaN     NaN     NaN     NaN   \n",
       "8    9     NaN     NaN     NaN   117.0     NaN     NaN     NaN     NaN   \n",
       "9   10     NaN     NaN     NaN     NaN     NaN     NaN     NaN     NaN   \n",
       "\n",
       "   Bulk 9  Bulk 10  Bulk 11  Bulk 12  Bulk 13  Bulk 14  Bulk 15  \n",
       "0     NaN      NaN      NaN    206.0      NaN    150.0    154.0  \n",
       "1     NaN      NaN      NaN    206.0      NaN    149.0    154.0  \n",
       "2     NaN      NaN      NaN    205.0      NaN    152.0    153.0  \n",
       "3     NaN      NaN      NaN    207.0      NaN    153.0    154.0  \n",
       "4     NaN      NaN      NaN    203.0      NaN    151.0    152.0  \n",
       "5     NaN      NaN      NaN    204.0      NaN    201.0    154.0  \n",
       "6     NaN      NaN      NaN    204.0      NaN    152.0    154.0  \n",
       "7     NaN      NaN      NaN    410.0      NaN    252.0    153.0  \n",
       "8     NaN      NaN      NaN    107.0      NaN     99.0    203.0  \n",
       "9     NaN      NaN      NaN    203.0      NaN    102.0    204.0  "
      ]
     },
     "metadata": {},
     "output_type": "display_data"
    },
    {
     "name": "stdout",
     "output_type": "stream",
     "text": [
      "<class 'pandas.core.frame.DataFrame'>\n",
      "RangeIndex: 3129 entries, 0 to 3128\n",
      "Data columns (total 16 columns):\n",
      " #   Column   Non-Null Count  Dtype  \n",
      "---  ------   --------------  -----  \n",
      " 0   key      3129 non-null   int64  \n",
      " 1   Bulk 1   252 non-null    float64\n",
      " 2   Bulk 2   22 non-null     float64\n",
      " 3   Bulk 3   1298 non-null   float64\n",
      " 4   Bulk 4   1014 non-null   float64\n",
      " 5   Bulk 5   77 non-null     float64\n",
      " 6   Bulk 6   576 non-null    float64\n",
      " 7   Bulk 7   25 non-null     float64\n",
      " 8   Bulk 8   1 non-null      float64\n",
      " 9   Bulk 9   19 non-null     float64\n",
      " 10  Bulk 10  176 non-null    float64\n",
      " 11  Bulk 11  177 non-null    float64\n",
      " 12  Bulk 12  2450 non-null   float64\n",
      " 13  Bulk 13  18 non-null     float64\n",
      " 14  Bulk 14  2806 non-null   float64\n",
      " 15  Bulk 15  2248 non-null   float64\n",
      "dtypes: float64(15), int64(1)\n",
      "memory usage: 391.2 KB\n"
     ]
    },
    {
     "data": {
      "text/plain": [
       "None"
      ]
     },
     "metadata": {},
     "output_type": "display_data"
    },
    {
     "name": "stdout",
     "output_type": "stream",
     "text": [
      "---------------------------\n",
      "\u001b[1m\u001b[34mДанные о подаче сыпучих материалов (время)\u001b[0m\n"
     ]
    },
    {
     "data": {
      "text/html": [
       "<div>\n",
       "<style scoped>\n",
       "    .dataframe tbody tr th:only-of-type {\n",
       "        vertical-align: middle;\n",
       "    }\n",
       "\n",
       "    .dataframe tbody tr th {\n",
       "        vertical-align: top;\n",
       "    }\n",
       "\n",
       "    .dataframe thead th {\n",
       "        text-align: right;\n",
       "    }\n",
       "</style>\n",
       "<table border=\"1\" class=\"dataframe\">\n",
       "  <thead>\n",
       "    <tr style=\"text-align: right;\">\n",
       "      <th></th>\n",
       "      <th>key</th>\n",
       "      <th>Bulk 1</th>\n",
       "      <th>Bulk 2</th>\n",
       "      <th>Bulk 3</th>\n",
       "      <th>Bulk 4</th>\n",
       "      <th>Bulk 5</th>\n",
       "      <th>Bulk 6</th>\n",
       "      <th>Bulk 7</th>\n",
       "      <th>Bulk 8</th>\n",
       "      <th>Bulk 9</th>\n",
       "      <th>Bulk 10</th>\n",
       "      <th>Bulk 11</th>\n",
       "      <th>Bulk 12</th>\n",
       "      <th>Bulk 13</th>\n",
       "      <th>Bulk 14</th>\n",
       "      <th>Bulk 15</th>\n",
       "    </tr>\n",
       "  </thead>\n",
       "  <tbody>\n",
       "    <tr>\n",
       "      <th>0</th>\n",
       "      <td>1</td>\n",
       "      <td>NaN</td>\n",
       "      <td>NaN</td>\n",
       "      <td>NaN</td>\n",
       "      <td>2019-05-03 11:21:30</td>\n",
       "      <td>NaN</td>\n",
       "      <td>NaN</td>\n",
       "      <td>NaN</td>\n",
       "      <td>NaN</td>\n",
       "      <td>NaN</td>\n",
       "      <td>NaN</td>\n",
       "      <td>NaN</td>\n",
       "      <td>2019-05-03 11:03:52</td>\n",
       "      <td>NaN</td>\n",
       "      <td>2019-05-03 11:03:52</td>\n",
       "      <td>2019-05-03 11:03:52</td>\n",
       "    </tr>\n",
       "    <tr>\n",
       "      <th>1</th>\n",
       "      <td>2</td>\n",
       "      <td>NaN</td>\n",
       "      <td>NaN</td>\n",
       "      <td>NaN</td>\n",
       "      <td>2019-05-03 11:46:38</td>\n",
       "      <td>NaN</td>\n",
       "      <td>NaN</td>\n",
       "      <td>NaN</td>\n",
       "      <td>NaN</td>\n",
       "      <td>NaN</td>\n",
       "      <td>NaN</td>\n",
       "      <td>NaN</td>\n",
       "      <td>2019-05-03 11:40:20</td>\n",
       "      <td>NaN</td>\n",
       "      <td>2019-05-03 11:40:20</td>\n",
       "      <td>2019-05-03 11:40:20</td>\n",
       "    </tr>\n",
       "    <tr>\n",
       "      <th>2</th>\n",
       "      <td>3</td>\n",
       "      <td>NaN</td>\n",
       "      <td>NaN</td>\n",
       "      <td>NaN</td>\n",
       "      <td>2019-05-03 12:31:06</td>\n",
       "      <td>NaN</td>\n",
       "      <td>NaN</td>\n",
       "      <td>NaN</td>\n",
       "      <td>NaN</td>\n",
       "      <td>NaN</td>\n",
       "      <td>NaN</td>\n",
       "      <td>NaN</td>\n",
       "      <td>2019-05-03 12:09:40</td>\n",
       "      <td>NaN</td>\n",
       "      <td>2019-05-03 12:09:40</td>\n",
       "      <td>2019-05-03 12:09:40</td>\n",
       "    </tr>\n",
       "    <tr>\n",
       "      <th>3</th>\n",
       "      <td>4</td>\n",
       "      <td>NaN</td>\n",
       "      <td>NaN</td>\n",
       "      <td>NaN</td>\n",
       "      <td>2019-05-03 12:48:43</td>\n",
       "      <td>NaN</td>\n",
       "      <td>NaN</td>\n",
       "      <td>NaN</td>\n",
       "      <td>NaN</td>\n",
       "      <td>NaN</td>\n",
       "      <td>NaN</td>\n",
       "      <td>NaN</td>\n",
       "      <td>2019-05-03 12:41:24</td>\n",
       "      <td>NaN</td>\n",
       "      <td>2019-05-03 12:41:24</td>\n",
       "      <td>2019-05-03 12:41:24</td>\n",
       "    </tr>\n",
       "    <tr>\n",
       "      <th>4</th>\n",
       "      <td>5</td>\n",
       "      <td>NaN</td>\n",
       "      <td>NaN</td>\n",
       "      <td>NaN</td>\n",
       "      <td>2019-05-03 13:18:50</td>\n",
       "      <td>NaN</td>\n",
       "      <td>NaN</td>\n",
       "      <td>NaN</td>\n",
       "      <td>NaN</td>\n",
       "      <td>NaN</td>\n",
       "      <td>NaN</td>\n",
       "      <td>NaN</td>\n",
       "      <td>2019-05-03 13:12:56</td>\n",
       "      <td>NaN</td>\n",
       "      <td>2019-05-03 13:12:56</td>\n",
       "      <td>2019-05-03 13:12:56</td>\n",
       "    </tr>\n",
       "    <tr>\n",
       "      <th>5</th>\n",
       "      <td>6</td>\n",
       "      <td>NaN</td>\n",
       "      <td>NaN</td>\n",
       "      <td>NaN</td>\n",
       "      <td>2019-05-03 13:59:24</td>\n",
       "      <td>NaN</td>\n",
       "      <td>NaN</td>\n",
       "      <td>NaN</td>\n",
       "      <td>NaN</td>\n",
       "      <td>NaN</td>\n",
       "      <td>NaN</td>\n",
       "      <td>NaN</td>\n",
       "      <td>2019-05-03 13:53:27</td>\n",
       "      <td>NaN</td>\n",
       "      <td>2019-05-03 13:53:27</td>\n",
       "      <td>2019-05-03 13:53:27</td>\n",
       "    </tr>\n",
       "    <tr>\n",
       "      <th>6</th>\n",
       "      <td>7</td>\n",
       "      <td>NaN</td>\n",
       "      <td>NaN</td>\n",
       "      <td>NaN</td>\n",
       "      <td>2019-05-03 14:29:14</td>\n",
       "      <td>NaN</td>\n",
       "      <td>NaN</td>\n",
       "      <td>NaN</td>\n",
       "      <td>NaN</td>\n",
       "      <td>NaN</td>\n",
       "      <td>NaN</td>\n",
       "      <td>NaN</td>\n",
       "      <td>2019-05-03 14:22:19</td>\n",
       "      <td>NaN</td>\n",
       "      <td>2019-05-03 14:22:19</td>\n",
       "      <td>2019-05-03 14:22:19</td>\n",
       "    </tr>\n",
       "    <tr>\n",
       "      <th>7</th>\n",
       "      <td>8</td>\n",
       "      <td>NaN</td>\n",
       "      <td>NaN</td>\n",
       "      <td>NaN</td>\n",
       "      <td>2019-05-03 15:04:05</td>\n",
       "      <td>NaN</td>\n",
       "      <td>NaN</td>\n",
       "      <td>NaN</td>\n",
       "      <td>NaN</td>\n",
       "      <td>NaN</td>\n",
       "      <td>NaN</td>\n",
       "      <td>NaN</td>\n",
       "      <td>2019-05-03 14:55:46</td>\n",
       "      <td>NaN</td>\n",
       "      <td>2019-05-03 14:55:46</td>\n",
       "      <td>2019-05-03 14:55:46</td>\n",
       "    </tr>\n",
       "    <tr>\n",
       "      <th>8</th>\n",
       "      <td>9</td>\n",
       "      <td>NaN</td>\n",
       "      <td>NaN</td>\n",
       "      <td>NaN</td>\n",
       "      <td>2019-05-03 15:47:34</td>\n",
       "      <td>NaN</td>\n",
       "      <td>NaN</td>\n",
       "      <td>NaN</td>\n",
       "      <td>NaN</td>\n",
       "      <td>NaN</td>\n",
       "      <td>NaN</td>\n",
       "      <td>NaN</td>\n",
       "      <td>2019-05-03 15:41:00</td>\n",
       "      <td>NaN</td>\n",
       "      <td>2019-05-03 15:41:00</td>\n",
       "      <td>2019-05-03 15:41:00</td>\n",
       "    </tr>\n",
       "    <tr>\n",
       "      <th>9</th>\n",
       "      <td>10</td>\n",
       "      <td>NaN</td>\n",
       "      <td>NaN</td>\n",
       "      <td>NaN</td>\n",
       "      <td>NaN</td>\n",
       "      <td>NaN</td>\n",
       "      <td>NaN</td>\n",
       "      <td>NaN</td>\n",
       "      <td>NaN</td>\n",
       "      <td>NaN</td>\n",
       "      <td>NaN</td>\n",
       "      <td>NaN</td>\n",
       "      <td>2019-05-03 16:18:52</td>\n",
       "      <td>NaN</td>\n",
       "      <td>2019-05-03 16:18:52</td>\n",
       "      <td>2019-05-03 16:18:52</td>\n",
       "    </tr>\n",
       "  </tbody>\n",
       "</table>\n",
       "</div>"
      ],
      "text/plain": [
       "   key Bulk 1 Bulk 2 Bulk 3               Bulk 4 Bulk 5 Bulk 6 Bulk 7 Bulk 8  \\\n",
       "0    1    NaN    NaN    NaN  2019-05-03 11:21:30    NaN    NaN    NaN    NaN   \n",
       "1    2    NaN    NaN    NaN  2019-05-03 11:46:38    NaN    NaN    NaN    NaN   \n",
       "2    3    NaN    NaN    NaN  2019-05-03 12:31:06    NaN    NaN    NaN    NaN   \n",
       "3    4    NaN    NaN    NaN  2019-05-03 12:48:43    NaN    NaN    NaN    NaN   \n",
       "4    5    NaN    NaN    NaN  2019-05-03 13:18:50    NaN    NaN    NaN    NaN   \n",
       "5    6    NaN    NaN    NaN  2019-05-03 13:59:24    NaN    NaN    NaN    NaN   \n",
       "6    7    NaN    NaN    NaN  2019-05-03 14:29:14    NaN    NaN    NaN    NaN   \n",
       "7    8    NaN    NaN    NaN  2019-05-03 15:04:05    NaN    NaN    NaN    NaN   \n",
       "8    9    NaN    NaN    NaN  2019-05-03 15:47:34    NaN    NaN    NaN    NaN   \n",
       "9   10    NaN    NaN    NaN                  NaN    NaN    NaN    NaN    NaN   \n",
       "\n",
       "  Bulk 9 Bulk 10 Bulk 11              Bulk 12 Bulk 13              Bulk 14  \\\n",
       "0    NaN     NaN     NaN  2019-05-03 11:03:52     NaN  2019-05-03 11:03:52   \n",
       "1    NaN     NaN     NaN  2019-05-03 11:40:20     NaN  2019-05-03 11:40:20   \n",
       "2    NaN     NaN     NaN  2019-05-03 12:09:40     NaN  2019-05-03 12:09:40   \n",
       "3    NaN     NaN     NaN  2019-05-03 12:41:24     NaN  2019-05-03 12:41:24   \n",
       "4    NaN     NaN     NaN  2019-05-03 13:12:56     NaN  2019-05-03 13:12:56   \n",
       "5    NaN     NaN     NaN  2019-05-03 13:53:27     NaN  2019-05-03 13:53:27   \n",
       "6    NaN     NaN     NaN  2019-05-03 14:22:19     NaN  2019-05-03 14:22:19   \n",
       "7    NaN     NaN     NaN  2019-05-03 14:55:46     NaN  2019-05-03 14:55:46   \n",
       "8    NaN     NaN     NaN  2019-05-03 15:41:00     NaN  2019-05-03 15:41:00   \n",
       "9    NaN     NaN     NaN  2019-05-03 16:18:52     NaN  2019-05-03 16:18:52   \n",
       "\n",
       "               Bulk 15  \n",
       "0  2019-05-03 11:03:52  \n",
       "1  2019-05-03 11:40:20  \n",
       "2  2019-05-03 12:09:40  \n",
       "3  2019-05-03 12:41:24  \n",
       "4  2019-05-03 13:12:56  \n",
       "5  2019-05-03 13:53:27  \n",
       "6  2019-05-03 14:22:19  \n",
       "7  2019-05-03 14:55:46  \n",
       "8  2019-05-03 15:41:00  \n",
       "9  2019-05-03 16:18:52  "
      ]
     },
     "metadata": {},
     "output_type": "display_data"
    },
    {
     "name": "stdout",
     "output_type": "stream",
     "text": [
      "<class 'pandas.core.frame.DataFrame'>\n",
      "RangeIndex: 3129 entries, 0 to 3128\n",
      "Data columns (total 16 columns):\n",
      " #   Column   Non-Null Count  Dtype \n",
      "---  ------   --------------  ----- \n",
      " 0   key      3129 non-null   int64 \n",
      " 1   Bulk 1   252 non-null    object\n",
      " 2   Bulk 2   22 non-null     object\n",
      " 3   Bulk 3   1298 non-null   object\n",
      " 4   Bulk 4   1014 non-null   object\n",
      " 5   Bulk 5   77 non-null     object\n",
      " 6   Bulk 6   576 non-null    object\n",
      " 7   Bulk 7   25 non-null     object\n",
      " 8   Bulk 8   1 non-null      object\n",
      " 9   Bulk 9   19 non-null     object\n",
      " 10  Bulk 10  176 non-null    object\n",
      " 11  Bulk 11  177 non-null    object\n",
      " 12  Bulk 12  2450 non-null   object\n",
      " 13  Bulk 13  18 non-null     object\n",
      " 14  Bulk 14  2806 non-null   object\n",
      " 15  Bulk 15  2248 non-null   object\n",
      "dtypes: int64(1), object(15)\n",
      "memory usage: 391.2+ KB\n"
     ]
    },
    {
     "data": {
      "text/plain": [
       "None"
      ]
     },
     "metadata": {},
     "output_type": "display_data"
    },
    {
     "name": "stdout",
     "output_type": "stream",
     "text": [
      "---------------------------\n",
      "\u001b[1m\u001b[34mДанные о продувке сплава газом\u001b[0m\n"
     ]
    },
    {
     "data": {
      "text/html": [
       "<div>\n",
       "<style scoped>\n",
       "    .dataframe tbody tr th:only-of-type {\n",
       "        vertical-align: middle;\n",
       "    }\n",
       "\n",
       "    .dataframe tbody tr th {\n",
       "        vertical-align: top;\n",
       "    }\n",
       "\n",
       "    .dataframe thead th {\n",
       "        text-align: right;\n",
       "    }\n",
       "</style>\n",
       "<table border=\"1\" class=\"dataframe\">\n",
       "  <thead>\n",
       "    <tr style=\"text-align: right;\">\n",
       "      <th></th>\n",
       "      <th>key</th>\n",
       "      <th>Газ 1</th>\n",
       "    </tr>\n",
       "  </thead>\n",
       "  <tbody>\n",
       "    <tr>\n",
       "      <th>0</th>\n",
       "      <td>1</td>\n",
       "      <td>29.749986</td>\n",
       "    </tr>\n",
       "    <tr>\n",
       "      <th>1</th>\n",
       "      <td>2</td>\n",
       "      <td>12.555561</td>\n",
       "    </tr>\n",
       "    <tr>\n",
       "      <th>2</th>\n",
       "      <td>3</td>\n",
       "      <td>28.554793</td>\n",
       "    </tr>\n",
       "    <tr>\n",
       "      <th>3</th>\n",
       "      <td>4</td>\n",
       "      <td>18.841219</td>\n",
       "    </tr>\n",
       "    <tr>\n",
       "      <th>4</th>\n",
       "      <td>5</td>\n",
       "      <td>5.413692</td>\n",
       "    </tr>\n",
       "    <tr>\n",
       "      <th>5</th>\n",
       "      <td>6</td>\n",
       "      <td>11.273392</td>\n",
       "    </tr>\n",
       "    <tr>\n",
       "      <th>6</th>\n",
       "      <td>7</td>\n",
       "      <td>9.836267</td>\n",
       "    </tr>\n",
       "    <tr>\n",
       "      <th>7</th>\n",
       "      <td>8</td>\n",
       "      <td>15.171553</td>\n",
       "    </tr>\n",
       "    <tr>\n",
       "      <th>8</th>\n",
       "      <td>9</td>\n",
       "      <td>8.216623</td>\n",
       "    </tr>\n",
       "    <tr>\n",
       "      <th>9</th>\n",
       "      <td>10</td>\n",
       "      <td>6.529891</td>\n",
       "    </tr>\n",
       "  </tbody>\n",
       "</table>\n",
       "</div>"
      ],
      "text/plain": [
       "   key      Газ 1\n",
       "0    1  29.749986\n",
       "1    2  12.555561\n",
       "2    3  28.554793\n",
       "3    4  18.841219\n",
       "4    5   5.413692\n",
       "5    6  11.273392\n",
       "6    7   9.836267\n",
       "7    8  15.171553\n",
       "8    9   8.216623\n",
       "9   10   6.529891"
      ]
     },
     "metadata": {},
     "output_type": "display_data"
    },
    {
     "name": "stdout",
     "output_type": "stream",
     "text": [
      "<class 'pandas.core.frame.DataFrame'>\n",
      "RangeIndex: 3239 entries, 0 to 3238\n",
      "Data columns (total 2 columns):\n",
      " #   Column  Non-Null Count  Dtype  \n",
      "---  ------  --------------  -----  \n",
      " 0   key     3239 non-null   int64  \n",
      " 1   Газ 1   3239 non-null   float64\n",
      "dtypes: float64(1), int64(1)\n",
      "memory usage: 50.7 KB\n"
     ]
    },
    {
     "data": {
      "text/plain": [
       "None"
      ]
     },
     "metadata": {},
     "output_type": "display_data"
    },
    {
     "name": "stdout",
     "output_type": "stream",
     "text": [
      "---------------------------\n",
      "\u001b[1m\u001b[34mРезультаты измерения температуры\u001b[0m\n"
     ]
    },
    {
     "data": {
      "text/html": [
       "<div>\n",
       "<style scoped>\n",
       "    .dataframe tbody tr th:only-of-type {\n",
       "        vertical-align: middle;\n",
       "    }\n",
       "\n",
       "    .dataframe tbody tr th {\n",
       "        vertical-align: top;\n",
       "    }\n",
       "\n",
       "    .dataframe thead th {\n",
       "        text-align: right;\n",
       "    }\n",
       "</style>\n",
       "<table border=\"1\" class=\"dataframe\">\n",
       "  <thead>\n",
       "    <tr style=\"text-align: right;\">\n",
       "      <th></th>\n",
       "      <th>key</th>\n",
       "      <th>Время замера</th>\n",
       "      <th>Температура</th>\n",
       "    </tr>\n",
       "  </thead>\n",
       "  <tbody>\n",
       "    <tr>\n",
       "      <th>0</th>\n",
       "      <td>1</td>\n",
       "      <td>2019-05-03 11:16:18</td>\n",
       "      <td>1571.0</td>\n",
       "    </tr>\n",
       "    <tr>\n",
       "      <th>1</th>\n",
       "      <td>1</td>\n",
       "      <td>2019-05-03 11:25:53</td>\n",
       "      <td>1604.0</td>\n",
       "    </tr>\n",
       "    <tr>\n",
       "      <th>2</th>\n",
       "      <td>1</td>\n",
       "      <td>2019-05-03 11:29:11</td>\n",
       "      <td>1618.0</td>\n",
       "    </tr>\n",
       "    <tr>\n",
       "      <th>3</th>\n",
       "      <td>1</td>\n",
       "      <td>2019-05-03 11:30:01</td>\n",
       "      <td>1601.0</td>\n",
       "    </tr>\n",
       "    <tr>\n",
       "      <th>4</th>\n",
       "      <td>1</td>\n",
       "      <td>2019-05-03 11:30:39</td>\n",
       "      <td>1613.0</td>\n",
       "    </tr>\n",
       "    <tr>\n",
       "      <th>5</th>\n",
       "      <td>2</td>\n",
       "      <td>2019-05-03 11:37:27</td>\n",
       "      <td>1581.0</td>\n",
       "    </tr>\n",
       "    <tr>\n",
       "      <th>6</th>\n",
       "      <td>2</td>\n",
       "      <td>2019-05-03 11:38:00</td>\n",
       "      <td>1577.0</td>\n",
       "    </tr>\n",
       "    <tr>\n",
       "      <th>7</th>\n",
       "      <td>2</td>\n",
       "      <td>2019-05-03 11:49:38</td>\n",
       "      <td>1589.0</td>\n",
       "    </tr>\n",
       "    <tr>\n",
       "      <th>8</th>\n",
       "      <td>2</td>\n",
       "      <td>2019-05-03 11:55:50</td>\n",
       "      <td>1604.0</td>\n",
       "    </tr>\n",
       "    <tr>\n",
       "      <th>9</th>\n",
       "      <td>2</td>\n",
       "      <td>2019-05-03 11:58:24</td>\n",
       "      <td>1608.0</td>\n",
       "    </tr>\n",
       "  </tbody>\n",
       "</table>\n",
       "</div>"
      ],
      "text/plain": [
       "   key         Время замера  Температура\n",
       "0    1  2019-05-03 11:16:18       1571.0\n",
       "1    1  2019-05-03 11:25:53       1604.0\n",
       "2    1  2019-05-03 11:29:11       1618.0\n",
       "3    1  2019-05-03 11:30:01       1601.0\n",
       "4    1  2019-05-03 11:30:39       1613.0\n",
       "5    2  2019-05-03 11:37:27       1581.0\n",
       "6    2  2019-05-03 11:38:00       1577.0\n",
       "7    2  2019-05-03 11:49:38       1589.0\n",
       "8    2  2019-05-03 11:55:50       1604.0\n",
       "9    2  2019-05-03 11:58:24       1608.0"
      ]
     },
     "metadata": {},
     "output_type": "display_data"
    },
    {
     "name": "stdout",
     "output_type": "stream",
     "text": [
      "<class 'pandas.core.frame.DataFrame'>\n",
      "RangeIndex: 15907 entries, 0 to 15906\n",
      "Data columns (total 3 columns):\n",
      " #   Column        Non-Null Count  Dtype  \n",
      "---  ------        --------------  -----  \n",
      " 0   key           15907 non-null  int64  \n",
      " 1   Время замера  15907 non-null  object \n",
      " 2   Температура   13006 non-null  float64\n",
      "dtypes: float64(1), int64(1), object(1)\n",
      "memory usage: 372.9+ KB\n"
     ]
    },
    {
     "data": {
      "text/plain": [
       "None"
      ]
     },
     "metadata": {},
     "output_type": "display_data"
    },
    {
     "name": "stdout",
     "output_type": "stream",
     "text": [
      "---------------------------\n",
      "\u001b[1m\u001b[34mДанные о проволочных материалах (объём)\u001b[0m\n"
     ]
    },
    {
     "data": {
      "text/html": [
       "<div>\n",
       "<style scoped>\n",
       "    .dataframe tbody tr th:only-of-type {\n",
       "        vertical-align: middle;\n",
       "    }\n",
       "\n",
       "    .dataframe tbody tr th {\n",
       "        vertical-align: top;\n",
       "    }\n",
       "\n",
       "    .dataframe thead th {\n",
       "        text-align: right;\n",
       "    }\n",
       "</style>\n",
       "<table border=\"1\" class=\"dataframe\">\n",
       "  <thead>\n",
       "    <tr style=\"text-align: right;\">\n",
       "      <th></th>\n",
       "      <th>key</th>\n",
       "      <th>Wire 1</th>\n",
       "      <th>Wire 2</th>\n",
       "      <th>Wire 3</th>\n",
       "      <th>Wire 4</th>\n",
       "      <th>Wire 5</th>\n",
       "      <th>Wire 6</th>\n",
       "      <th>Wire 7</th>\n",
       "      <th>Wire 8</th>\n",
       "      <th>Wire 9</th>\n",
       "    </tr>\n",
       "  </thead>\n",
       "  <tbody>\n",
       "    <tr>\n",
       "      <th>0</th>\n",
       "      <td>1</td>\n",
       "      <td>60.059998</td>\n",
       "      <td>NaN</td>\n",
       "      <td>NaN</td>\n",
       "      <td>NaN</td>\n",
       "      <td>NaN</td>\n",
       "      <td>NaN</td>\n",
       "      <td>NaN</td>\n",
       "      <td>NaN</td>\n",
       "      <td>NaN</td>\n",
       "    </tr>\n",
       "    <tr>\n",
       "      <th>1</th>\n",
       "      <td>2</td>\n",
       "      <td>96.052315</td>\n",
       "      <td>NaN</td>\n",
       "      <td>NaN</td>\n",
       "      <td>NaN</td>\n",
       "      <td>NaN</td>\n",
       "      <td>NaN</td>\n",
       "      <td>NaN</td>\n",
       "      <td>NaN</td>\n",
       "      <td>NaN</td>\n",
       "    </tr>\n",
       "    <tr>\n",
       "      <th>2</th>\n",
       "      <td>3</td>\n",
       "      <td>91.160157</td>\n",
       "      <td>NaN</td>\n",
       "      <td>NaN</td>\n",
       "      <td>NaN</td>\n",
       "      <td>NaN</td>\n",
       "      <td>NaN</td>\n",
       "      <td>NaN</td>\n",
       "      <td>NaN</td>\n",
       "      <td>NaN</td>\n",
       "    </tr>\n",
       "    <tr>\n",
       "      <th>3</th>\n",
       "      <td>4</td>\n",
       "      <td>89.063515</td>\n",
       "      <td>NaN</td>\n",
       "      <td>NaN</td>\n",
       "      <td>NaN</td>\n",
       "      <td>NaN</td>\n",
       "      <td>NaN</td>\n",
       "      <td>NaN</td>\n",
       "      <td>NaN</td>\n",
       "      <td>NaN</td>\n",
       "    </tr>\n",
       "    <tr>\n",
       "      <th>4</th>\n",
       "      <td>5</td>\n",
       "      <td>89.238236</td>\n",
       "      <td>9.114560</td>\n",
       "      <td>NaN</td>\n",
       "      <td>NaN</td>\n",
       "      <td>NaN</td>\n",
       "      <td>NaN</td>\n",
       "      <td>NaN</td>\n",
       "      <td>NaN</td>\n",
       "      <td>NaN</td>\n",
       "    </tr>\n",
       "    <tr>\n",
       "      <th>5</th>\n",
       "      <td>6</td>\n",
       "      <td>99.109917</td>\n",
       "      <td>9.114560</td>\n",
       "      <td>NaN</td>\n",
       "      <td>NaN</td>\n",
       "      <td>NaN</td>\n",
       "      <td>NaN</td>\n",
       "      <td>NaN</td>\n",
       "      <td>NaN</td>\n",
       "      <td>NaN</td>\n",
       "    </tr>\n",
       "    <tr>\n",
       "      <th>6</th>\n",
       "      <td>7</td>\n",
       "      <td>98.061600</td>\n",
       "      <td>NaN</td>\n",
       "      <td>NaN</td>\n",
       "      <td>NaN</td>\n",
       "      <td>NaN</td>\n",
       "      <td>NaN</td>\n",
       "      <td>NaN</td>\n",
       "      <td>NaN</td>\n",
       "      <td>NaN</td>\n",
       "    </tr>\n",
       "    <tr>\n",
       "      <th>7</th>\n",
       "      <td>8</td>\n",
       "      <td>155.282394</td>\n",
       "      <td>NaN</td>\n",
       "      <td>NaN</td>\n",
       "      <td>NaN</td>\n",
       "      <td>NaN</td>\n",
       "      <td>NaN</td>\n",
       "      <td>NaN</td>\n",
       "      <td>NaN</td>\n",
       "      <td>NaN</td>\n",
       "    </tr>\n",
       "    <tr>\n",
       "      <th>8</th>\n",
       "      <td>9</td>\n",
       "      <td>113.393279</td>\n",
       "      <td>9.143681</td>\n",
       "      <td>NaN</td>\n",
       "      <td>NaN</td>\n",
       "      <td>NaN</td>\n",
       "      <td>NaN</td>\n",
       "      <td>NaN</td>\n",
       "      <td>NaN</td>\n",
       "      <td>NaN</td>\n",
       "    </tr>\n",
       "    <tr>\n",
       "      <th>9</th>\n",
       "      <td>10</td>\n",
       "      <td>81.244796</td>\n",
       "      <td>12.376000</td>\n",
       "      <td>NaN</td>\n",
       "      <td>NaN</td>\n",
       "      <td>NaN</td>\n",
       "      <td>NaN</td>\n",
       "      <td>NaN</td>\n",
       "      <td>NaN</td>\n",
       "      <td>NaN</td>\n",
       "    </tr>\n",
       "  </tbody>\n",
       "</table>\n",
       "</div>"
      ],
      "text/plain": [
       "   key      Wire 1     Wire 2  Wire 3  Wire 4  Wire 5  Wire 6  Wire 7  Wire 8  \\\n",
       "0    1   60.059998        NaN     NaN     NaN     NaN     NaN     NaN     NaN   \n",
       "1    2   96.052315        NaN     NaN     NaN     NaN     NaN     NaN     NaN   \n",
       "2    3   91.160157        NaN     NaN     NaN     NaN     NaN     NaN     NaN   \n",
       "3    4   89.063515        NaN     NaN     NaN     NaN     NaN     NaN     NaN   \n",
       "4    5   89.238236   9.114560     NaN     NaN     NaN     NaN     NaN     NaN   \n",
       "5    6   99.109917   9.114560     NaN     NaN     NaN     NaN     NaN     NaN   \n",
       "6    7   98.061600        NaN     NaN     NaN     NaN     NaN     NaN     NaN   \n",
       "7    8  155.282394        NaN     NaN     NaN     NaN     NaN     NaN     NaN   \n",
       "8    9  113.393279   9.143681     NaN     NaN     NaN     NaN     NaN     NaN   \n",
       "9   10   81.244796  12.376000     NaN     NaN     NaN     NaN     NaN     NaN   \n",
       "\n",
       "   Wire 9  \n",
       "0     NaN  \n",
       "1     NaN  \n",
       "2     NaN  \n",
       "3     NaN  \n",
       "4     NaN  \n",
       "5     NaN  \n",
       "6     NaN  \n",
       "7     NaN  \n",
       "8     NaN  \n",
       "9     NaN  "
      ]
     },
     "metadata": {},
     "output_type": "display_data"
    },
    {
     "name": "stdout",
     "output_type": "stream",
     "text": [
      "<class 'pandas.core.frame.DataFrame'>\n",
      "RangeIndex: 3081 entries, 0 to 3080\n",
      "Data columns (total 10 columns):\n",
      " #   Column  Non-Null Count  Dtype  \n",
      "---  ------  --------------  -----  \n",
      " 0   key     3081 non-null   int64  \n",
      " 1   Wire 1  3055 non-null   float64\n",
      " 2   Wire 2  1079 non-null   float64\n",
      " 3   Wire 3  63 non-null     float64\n",
      " 4   Wire 4  14 non-null     float64\n",
      " 5   Wire 5  1 non-null      float64\n",
      " 6   Wire 6  73 non-null     float64\n",
      " 7   Wire 7  11 non-null     float64\n",
      " 8   Wire 8  19 non-null     float64\n",
      " 9   Wire 9  29 non-null     float64\n",
      "dtypes: float64(9), int64(1)\n",
      "memory usage: 240.8 KB\n"
     ]
    },
    {
     "data": {
      "text/plain": [
       "None"
      ]
     },
     "metadata": {},
     "output_type": "display_data"
    },
    {
     "name": "stdout",
     "output_type": "stream",
     "text": [
      "---------------------------\n",
      "\u001b[1m\u001b[34mДанные о проволочных материалах (время)\u001b[0m\n"
     ]
    },
    {
     "data": {
      "text/html": [
       "<div>\n",
       "<style scoped>\n",
       "    .dataframe tbody tr th:only-of-type {\n",
       "        vertical-align: middle;\n",
       "    }\n",
       "\n",
       "    .dataframe tbody tr th {\n",
       "        vertical-align: top;\n",
       "    }\n",
       "\n",
       "    .dataframe thead th {\n",
       "        text-align: right;\n",
       "    }\n",
       "</style>\n",
       "<table border=\"1\" class=\"dataframe\">\n",
       "  <thead>\n",
       "    <tr style=\"text-align: right;\">\n",
       "      <th></th>\n",
       "      <th>key</th>\n",
       "      <th>Wire 1</th>\n",
       "      <th>Wire 2</th>\n",
       "      <th>Wire 3</th>\n",
       "      <th>Wire 4</th>\n",
       "      <th>Wire 5</th>\n",
       "      <th>Wire 6</th>\n",
       "      <th>Wire 7</th>\n",
       "      <th>Wire 8</th>\n",
       "      <th>Wire 9</th>\n",
       "    </tr>\n",
       "  </thead>\n",
       "  <tbody>\n",
       "    <tr>\n",
       "      <th>0</th>\n",
       "      <td>1</td>\n",
       "      <td>2019-05-03 11:11:41</td>\n",
       "      <td>NaN</td>\n",
       "      <td>NaN</td>\n",
       "      <td>NaN</td>\n",
       "      <td>NaN</td>\n",
       "      <td>NaN</td>\n",
       "      <td>NaN</td>\n",
       "      <td>NaN</td>\n",
       "      <td>NaN</td>\n",
       "    </tr>\n",
       "    <tr>\n",
       "      <th>1</th>\n",
       "      <td>2</td>\n",
       "      <td>2019-05-03 11:46:10</td>\n",
       "      <td>NaN</td>\n",
       "      <td>NaN</td>\n",
       "      <td>NaN</td>\n",
       "      <td>NaN</td>\n",
       "      <td>NaN</td>\n",
       "      <td>NaN</td>\n",
       "      <td>NaN</td>\n",
       "      <td>NaN</td>\n",
       "    </tr>\n",
       "    <tr>\n",
       "      <th>2</th>\n",
       "      <td>3</td>\n",
       "      <td>2019-05-03 12:13:47</td>\n",
       "      <td>NaN</td>\n",
       "      <td>NaN</td>\n",
       "      <td>NaN</td>\n",
       "      <td>NaN</td>\n",
       "      <td>NaN</td>\n",
       "      <td>NaN</td>\n",
       "      <td>NaN</td>\n",
       "      <td>NaN</td>\n",
       "    </tr>\n",
       "    <tr>\n",
       "      <th>3</th>\n",
       "      <td>4</td>\n",
       "      <td>2019-05-03 12:48:05</td>\n",
       "      <td>NaN</td>\n",
       "      <td>NaN</td>\n",
       "      <td>NaN</td>\n",
       "      <td>NaN</td>\n",
       "      <td>NaN</td>\n",
       "      <td>NaN</td>\n",
       "      <td>NaN</td>\n",
       "      <td>NaN</td>\n",
       "    </tr>\n",
       "    <tr>\n",
       "      <th>4</th>\n",
       "      <td>5</td>\n",
       "      <td>2019-05-03 13:18:15</td>\n",
       "      <td>2019-05-03 13:32:06</td>\n",
       "      <td>NaN</td>\n",
       "      <td>NaN</td>\n",
       "      <td>NaN</td>\n",
       "      <td>NaN</td>\n",
       "      <td>NaN</td>\n",
       "      <td>NaN</td>\n",
       "      <td>NaN</td>\n",
       "    </tr>\n",
       "    <tr>\n",
       "      <th>5</th>\n",
       "      <td>6</td>\n",
       "      <td>2019-05-03 13:59:02</td>\n",
       "      <td>2019-05-03 13:59:54</td>\n",
       "      <td>NaN</td>\n",
       "      <td>NaN</td>\n",
       "      <td>NaN</td>\n",
       "      <td>NaN</td>\n",
       "      <td>NaN</td>\n",
       "      <td>NaN</td>\n",
       "      <td>NaN</td>\n",
       "    </tr>\n",
       "    <tr>\n",
       "      <th>6</th>\n",
       "      <td>7</td>\n",
       "      <td>2019-05-03 14:28:46</td>\n",
       "      <td>NaN</td>\n",
       "      <td>NaN</td>\n",
       "      <td>NaN</td>\n",
       "      <td>NaN</td>\n",
       "      <td>NaN</td>\n",
       "      <td>NaN</td>\n",
       "      <td>NaN</td>\n",
       "      <td>NaN</td>\n",
       "    </tr>\n",
       "    <tr>\n",
       "      <th>7</th>\n",
       "      <td>8</td>\n",
       "      <td>2019-05-03 15:03:42</td>\n",
       "      <td>NaN</td>\n",
       "      <td>NaN</td>\n",
       "      <td>NaN</td>\n",
       "      <td>NaN</td>\n",
       "      <td>NaN</td>\n",
       "      <td>NaN</td>\n",
       "      <td>NaN</td>\n",
       "      <td>NaN</td>\n",
       "    </tr>\n",
       "    <tr>\n",
       "      <th>8</th>\n",
       "      <td>9</td>\n",
       "      <td>2019-05-03 15:42:43</td>\n",
       "      <td>2019-05-03 15:58:12</td>\n",
       "      <td>NaN</td>\n",
       "      <td>NaN</td>\n",
       "      <td>NaN</td>\n",
       "      <td>NaN</td>\n",
       "      <td>NaN</td>\n",
       "      <td>NaN</td>\n",
       "      <td>NaN</td>\n",
       "    </tr>\n",
       "    <tr>\n",
       "      <th>9</th>\n",
       "      <td>10</td>\n",
       "      <td>2019-05-03 16:20:25</td>\n",
       "      <td>2019-05-03 16:21:02</td>\n",
       "      <td>NaN</td>\n",
       "      <td>NaN</td>\n",
       "      <td>NaN</td>\n",
       "      <td>NaN</td>\n",
       "      <td>NaN</td>\n",
       "      <td>NaN</td>\n",
       "      <td>NaN</td>\n",
       "    </tr>\n",
       "  </tbody>\n",
       "</table>\n",
       "</div>"
      ],
      "text/plain": [
       "   key               Wire 1               Wire 2 Wire 3 Wire 4 Wire 5 Wire 6  \\\n",
       "0    1  2019-05-03 11:11:41                  NaN    NaN    NaN    NaN    NaN   \n",
       "1    2  2019-05-03 11:46:10                  NaN    NaN    NaN    NaN    NaN   \n",
       "2    3  2019-05-03 12:13:47                  NaN    NaN    NaN    NaN    NaN   \n",
       "3    4  2019-05-03 12:48:05                  NaN    NaN    NaN    NaN    NaN   \n",
       "4    5  2019-05-03 13:18:15  2019-05-03 13:32:06    NaN    NaN    NaN    NaN   \n",
       "5    6  2019-05-03 13:59:02  2019-05-03 13:59:54    NaN    NaN    NaN    NaN   \n",
       "6    7  2019-05-03 14:28:46                  NaN    NaN    NaN    NaN    NaN   \n",
       "7    8  2019-05-03 15:03:42                  NaN    NaN    NaN    NaN    NaN   \n",
       "8    9  2019-05-03 15:42:43  2019-05-03 15:58:12    NaN    NaN    NaN    NaN   \n",
       "9   10  2019-05-03 16:20:25  2019-05-03 16:21:02    NaN    NaN    NaN    NaN   \n",
       "\n",
       "  Wire 7 Wire 8 Wire 9  \n",
       "0    NaN    NaN    NaN  \n",
       "1    NaN    NaN    NaN  \n",
       "2    NaN    NaN    NaN  \n",
       "3    NaN    NaN    NaN  \n",
       "4    NaN    NaN    NaN  \n",
       "5    NaN    NaN    NaN  \n",
       "6    NaN    NaN    NaN  \n",
       "7    NaN    NaN    NaN  \n",
       "8    NaN    NaN    NaN  \n",
       "9    NaN    NaN    NaN  "
      ]
     },
     "metadata": {},
     "output_type": "display_data"
    },
    {
     "name": "stdout",
     "output_type": "stream",
     "text": [
      "<class 'pandas.core.frame.DataFrame'>\n",
      "RangeIndex: 3081 entries, 0 to 3080\n",
      "Data columns (total 10 columns):\n",
      " #   Column  Non-Null Count  Dtype \n",
      "---  ------  --------------  ----- \n",
      " 0   key     3081 non-null   int64 \n",
      " 1   Wire 1  3055 non-null   object\n",
      " 2   Wire 2  1079 non-null   object\n",
      " 3   Wire 3  63 non-null     object\n",
      " 4   Wire 4  14 non-null     object\n",
      " 5   Wire 5  1 non-null      object\n",
      " 6   Wire 6  73 non-null     object\n",
      " 7   Wire 7  11 non-null     object\n",
      " 8   Wire 8  19 non-null     object\n",
      " 9   Wire 9  29 non-null     object\n",
      "dtypes: int64(1), object(9)\n",
      "memory usage: 240.8+ KB\n"
     ]
    },
    {
     "data": {
      "text/plain": [
       "None"
      ]
     },
     "metadata": {},
     "output_type": "display_data"
    },
    {
     "name": "stdout",
     "output_type": "stream",
     "text": [
      "---------------------------\n"
     ]
    }
   ],
   "source": [
    "for data in datasets_dict:\n",
    "    print(colored(data, \"blue\", attrs=[\"bold\"]))\n",
    "    display(datasets_dict[data].head(10))\n",
    "    display(datasets_dict[data].info())\n",
    "    print('---------------------------')"
   ]
  },
  {
   "cell_type": "markdown",
   "id": "37908ee7",
   "metadata": {
    "id": "37908ee7"
   },
   "source": [
    "**Как видно из данных:**\n",
    "\n",
    "В таблице `data_arc.csv`: \n",
    "* содержатся данные об электродах, то есть нагреве сырья, времени начала нагрева и конце, а также мощностях. Исходя из данных мощностей можно рассчитать полную мощность, а при умножении полной мощности на время нагрева получим **энергию** которая будет дополнительным фичем в модели. Пропусков в таблице нет.\n",
    "\n",
    "В таблицах `data_bulk.csv` и связанной таблице `data_bulk_time.csv`, а так же в `data_wire.csv` и связанной таблице `data_wire_time.csv`:\n",
    "* содержатся данные о подаче примесей для корректировки химического состава - времени подачи, а так же их объём. Как видно из данных - в таких таблицах много пропусков, так как, скорее всего, какая-либо примесь могла просто не добавляться. Такие пропуски можно заполнить нулями.\n",
    "\n",
    "В таблице `data_gas.csv`:\n",
    "* содержатся данные о подаче о продувке сплава газом. Как видно из данных, пропусков нет. Временных промежутков нет, то есть данные только об общем подаче газа на один ковш.\n",
    "\n",
    "В таблице `data_temp.csv`:\n",
    "* содержатся данные о результаты измерения температуры. В данной таблице содержится целевая метрика, необходимая для исследования - конечная температура. В таблице много пропусков целевой метрики, скорее всего такие строки придется отбросить, чтобы не искажать исследование."
   ]
  },
  {
   "cell_type": "markdown",
   "id": "53d1eb1d",
   "metadata": {
    "id": "53d1eb1d"
   },
   "source": [
    "**Исследуем данные:**"
   ]
  },
  {
   "cell_type": "code",
   "execution_count": 6,
   "id": "20124b0e",
   "metadata": {
    "colab": {
     "base_uri": "https://localhost:8080/",
     "height": 1000
    },
    "executionInfo": {
     "elapsed": 282,
     "status": "ok",
     "timestamp": 1657015924063,
     "user": {
      "displayName": "Кирилл Ерохин",
      "userId": "09883907194110507041"
     },
     "user_tz": -180
    },
    "id": "20124b0e",
    "outputId": "dba85ffe-3dc9-47f6-b1a4-f881a1589dba"
   },
   "outputs": [
    {
     "name": "stdout",
     "output_type": "stream",
     "text": [
      "\u001b[1m\u001b[34mДанные об электродах\u001b[0m\n"
     ]
    },
    {
     "data": {
      "text/html": [
       "<style  type=\"text/css\" >\n",
       "#T_1bc2d_row0_col0,#T_1bc2d_row0_col2,#T_1bc2d_row1_col0,#T_1bc2d_row1_col1,#T_1bc2d_row1_col3,#T_1bc2d_row1_col4,#T_1bc2d_row1_col5,#T_1bc2d_row1_col6,#T_1bc2d_row1_col7{\n",
       "            background-color:  #f7fcf0;\n",
       "            color:  #000000;\n",
       "        }#T_1bc2d_row0_col1,#T_1bc2d_row0_col3,#T_1bc2d_row0_col4,#T_1bc2d_row0_col5,#T_1bc2d_row0_col6,#T_1bc2d_row0_col7,#T_1bc2d_row1_col2{\n",
       "            background-color:  #084081;\n",
       "            color:  #f1f1f1;\n",
       "        }</style><table id=\"T_1bc2d_\" ><thead>    <tr>        <th class=\"blank level0\" ></th>        <th class=\"col_heading level0 col0\" >count</th>        <th class=\"col_heading level0 col1\" >mean</th>        <th class=\"col_heading level0 col2\" >std</th>        <th class=\"col_heading level0 col3\" >min</th>        <th class=\"col_heading level0 col4\" >25%</th>        <th class=\"col_heading level0 col5\" >50%</th>        <th class=\"col_heading level0 col6\" >75%</th>        <th class=\"col_heading level0 col7\" >max</th>    </tr></thead><tbody>\n",
       "                <tr>\n",
       "                        <th id=\"T_1bc2d_level0_row0\" class=\"row_heading level0 row0\" >Активная мощность</th>\n",
       "                        <td id=\"T_1bc2d_row0_col0\" class=\"data row0 col0\" >14876.000000</td>\n",
       "                        <td id=\"T_1bc2d_row0_col1\" class=\"data row0 col1\" >0.670441</td>\n",
       "                        <td id=\"T_1bc2d_row0_col2\" class=\"data row0 col2\" >0.408159</td>\n",
       "                        <td id=\"T_1bc2d_row0_col3\" class=\"data row0 col3\" >0.030002</td>\n",
       "                        <td id=\"T_1bc2d_row0_col4\" class=\"data row0 col4\" >0.395297</td>\n",
       "                        <td id=\"T_1bc2d_row0_col5\" class=\"data row0 col5\" >0.555517</td>\n",
       "                        <td id=\"T_1bc2d_row0_col6\" class=\"data row0 col6\" >0.857034</td>\n",
       "                        <td id=\"T_1bc2d_row0_col7\" class=\"data row0 col7\" >3.731596</td>\n",
       "            </tr>\n",
       "            <tr>\n",
       "                        <th id=\"T_1bc2d_level0_row1\" class=\"row_heading level0 row1\" >Реактивная мощность</th>\n",
       "                        <td id=\"T_1bc2d_row1_col0\" class=\"data row1 col0\" >14876.000000</td>\n",
       "                        <td id=\"T_1bc2d_row1_col1\" class=\"data row1 col1\" >0.452592</td>\n",
       "                        <td id=\"T_1bc2d_row1_col2\" class=\"data row1 col2\" >5.878702</td>\n",
       "                        <td id=\"T_1bc2d_row1_col3\" class=\"data row1 col3\" >-715.504924</td>\n",
       "                        <td id=\"T_1bc2d_row1_col4\" class=\"data row1 col4\" >0.290991</td>\n",
       "                        <td id=\"T_1bc2d_row1_col5\" class=\"data row1 col5\" >0.415962</td>\n",
       "                        <td id=\"T_1bc2d_row1_col6\" class=\"data row1 col6\" >0.637371</td>\n",
       "                        <td id=\"T_1bc2d_row1_col7\" class=\"data row1 col7\" >2.676388</td>\n",
       "            </tr>\n",
       "    </tbody></table>"
      ],
      "text/plain": [
       "<pandas.io.formats.style.Styler at 0x7f573cd06ca0>"
      ]
     },
     "metadata": {},
     "output_type": "display_data"
    },
    {
     "name": "stdout",
     "output_type": "stream",
     "text": [
      "---------------------------\n",
      "\u001b[1m\u001b[34mДанные о подаче сыпучих материалов (объём)\u001b[0m\n"
     ]
    },
    {
     "data": {
      "text/html": [
       "<style  type=\"text/css\" >\n",
       "#T_71443_row0_col0{\n",
       "            background-color:  #e7f6e2;\n",
       "            color:  #000000;\n",
       "        }#T_71443_row0_col1,#T_71443_row0_col2,#T_71443_row0_col5,#T_71443_row0_col6,#T_71443_row7_col0,#T_71443_row7_col7,#T_71443_row10_col4,#T_71443_row14_col3{\n",
       "            background-color:  #f7fcf0;\n",
       "            color:  #000000;\n",
       "        }#T_71443_row0_col3{\n",
       "            background-color:  #f0f9e9;\n",
       "            color:  #000000;\n",
       "        }#T_71443_row0_col4,#T_71443_row6_col0,#T_71443_row7_col6{\n",
       "            background-color:  #f6fbef;\n",
       "            color:  #000000;\n",
       "        }#T_71443_row0_col7{\n",
       "            background-color:  #e9f7e3;\n",
       "            color:  #000000;\n",
       "        }#T_71443_row1_col0,#T_71443_row8_col0,#T_71443_row12_col0{\n",
       "            background-color:  #f6fcef;\n",
       "            color:  #000000;\n",
       "        }#T_71443_row1_col1,#T_71443_row14_col0{\n",
       "            background-color:  #1c7cb6;\n",
       "            color:  #000000;\n",
       "        }#T_71443_row1_col2{\n",
       "            background-color:  #f4fbed;\n",
       "            color:  #000000;\n",
       "        }#T_71443_row1_col3,#T_71443_row1_col4,#T_71443_row6_col1,#T_71443_row6_col2,#T_71443_row6_col5,#T_71443_row6_col6,#T_71443_row11_col7,#T_71443_row13_col0{\n",
       "            background-color:  #084081;\n",
       "            color:  #f1f1f1;\n",
       "        }#T_71443_row1_col5,#T_71443_row11_col4{\n",
       "            background-color:  #1576b3;\n",
       "            color:  #f1f1f1;\n",
       "        }#T_71443_row1_col6{\n",
       "            background-color:  #5bbacf;\n",
       "            color:  #000000;\n",
       "        }#T_71443_row1_col7,#T_71443_row9_col6{\n",
       "            background-color:  #dcf1d6;\n",
       "            color:  #000000;\n",
       "        }#T_71443_row2_col0{\n",
       "            background-color:  #88d1c0;\n",
       "            color:  #000000;\n",
       "        }#T_71443_row2_col1{\n",
       "            background-color:  #c4e8c1;\n",
       "            color:  #000000;\n",
       "        }#T_71443_row2_col2{\n",
       "            background-color:  #b5e2bb;\n",
       "            color:  #000000;\n",
       "        }#T_71443_row2_col3,#T_71443_row8_col2{\n",
       "            background-color:  #f3fbed;\n",
       "            color:  #000000;\n",
       "        }#T_71443_row2_col4{\n",
       "            background-color:  #dcf1d7;\n",
       "            color:  #000000;\n",
       "        }#T_71443_row2_col5{\n",
       "            background-color:  #ccebc6;\n",
       "            color:  #000000;\n",
       "        }#T_71443_row2_col6{\n",
       "            background-color:  #bfe6bf;\n",
       "            color:  #000000;\n",
       "        }#T_71443_row2_col7{\n",
       "            background-color:  #d0edca;\n",
       "            color:  #000000;\n",
       "        }#T_71443_row3_col0{\n",
       "            background-color:  #acdfb7;\n",
       "            color:  #000000;\n",
       "        }#T_71443_row3_col1{\n",
       "            background-color:  #cdebc6;\n",
       "            color:  #000000;\n",
       "        }#T_71443_row3_col2{\n",
       "            background-color:  #d8f0d3;\n",
       "            color:  #000000;\n",
       "        }#T_71443_row3_col3{\n",
       "            background-color:  #eef9e8;\n",
       "            color:  #000000;\n",
       "        }#T_71443_row3_col4{\n",
       "            background-color:  #d1edcb;\n",
       "            color:  #000000;\n",
       "        }#T_71443_row3_col5{\n",
       "            background-color:  #c7e9c3;\n",
       "            color:  #000000;\n",
       "        }#T_71443_row3_col6,#T_71443_row4_col6,#T_71443_row10_col2{\n",
       "            background-color:  #ceecc7;\n",
       "            color:  #000000;\n",
       "        }#T_71443_row3_col7{\n",
       "            background-color:  #e0f3db;\n",
       "            color:  #000000;\n",
       "        }#T_71443_row4_col0{\n",
       "            background-color:  #f3faec;\n",
       "            color:  #000000;\n",
       "        }#T_71443_row4_col1{\n",
       "            background-color:  #cbeac4;\n",
       "            color:  #000000;\n",
       "        }#T_71443_row4_col2,#T_71443_row14_col4{\n",
       "            background-color:  #aadeb6;\n",
       "            color:  #000000;\n",
       "        }#T_71443_row4_col3,#T_71443_row9_col2{\n",
       "            background-color:  #eff9e9;\n",
       "            color:  #000000;\n",
       "        }#T_71443_row4_col4,#T_71443_row9_col5{\n",
       "            background-color:  #d3eecc;\n",
       "            color:  #000000;\n",
       "        }#T_71443_row4_col5,#T_71443_row5_col0,#T_71443_row5_col4{\n",
       "            background-color:  #d3eecd;\n",
       "            color:  #000000;\n",
       "        }#T_71443_row4_col7,#T_71443_row5_col6{\n",
       "            background-color:  #bce5be;\n",
       "            color:  #000000;\n",
       "        }#T_71443_row5_col1{\n",
       "            background-color:  #bee6bf;\n",
       "            color:  #000000;\n",
       "        }#T_71443_row5_col2{\n",
       "            background-color:  #bbe4bd;\n",
       "            color:  #000000;\n",
       "        }#T_71443_row5_col3{\n",
       "            background-color:  #eaf7e4;\n",
       "            color:  #000000;\n",
       "        }#T_71443_row5_col5{\n",
       "            background-color:  #c9eac4;\n",
       "            color:  #000000;\n",
       "        }#T_71443_row5_col7{\n",
       "            background-color:  #ccebc5;\n",
       "            color:  #000000;\n",
       "        }#T_71443_row6_col3{\n",
       "            background-color:  #d4eece;\n",
       "            color:  #000000;\n",
       "        }#T_71443_row6_col4{\n",
       "            background-color:  #57b8d0;\n",
       "            color:  #000000;\n",
       "        }#T_71443_row6_col7{\n",
       "            background-color:  #9fdab8;\n",
       "            color:  #000000;\n",
       "        }#T_71443_row7_col1{\n",
       "            background-color:  #f1f9ea;\n",
       "            color:  #000000;\n",
       "        }#T_71443_row7_col2{\n",
       "            background-color:  #000000;\n",
       "            color:  #f1f1f1;\n",
       "        }#T_71443_row7_col3{\n",
       "            background-color:  #d2edcc;\n",
       "            color:  #000000;\n",
       "        }#T_71443_row7_col4{\n",
       "            background-color:  #e3f4de;\n",
       "            color:  #000000;\n",
       "        }#T_71443_row7_col5,#T_71443_row8_col6,#T_71443_row10_col0,#T_71443_row13_col3{\n",
       "            background-color:  #ebf7e5;\n",
       "            color:  #000000;\n",
       "        }#T_71443_row8_col1,#T_71443_row8_col5{\n",
       "            background-color:  #def2d9;\n",
       "            color:  #000000;\n",
       "        }#T_71443_row8_col3{\n",
       "            background-color:  #c6e9c2;\n",
       "            color:  #000000;\n",
       "        }#T_71443_row8_col4{\n",
       "            background-color:  #d6efd0;\n",
       "            color:  #000000;\n",
       "        }#T_71443_row8_col7{\n",
       "            background-color:  #eef8e7;\n",
       "            color:  #000000;\n",
       "        }#T_71443_row9_col0,#T_71443_row9_col7{\n",
       "            background-color:  #ecf8e6;\n",
       "            color:  #000000;\n",
       "        }#T_71443_row9_col1,#T_71443_row10_col6{\n",
       "            background-color:  #daf0d4;\n",
       "            color:  #000000;\n",
       "        }#T_71443_row9_col3{\n",
       "            background-color:  #e5f5e0;\n",
       "            color:  #000000;\n",
       "        }#T_71443_row9_col4{\n",
       "            background-color:  #d7efd1;\n",
       "            color:  #000000;\n",
       "        }#T_71443_row10_col1,#T_71443_row12_col7{\n",
       "            background-color:  #ddf2d8;\n",
       "            color:  #000000;\n",
       "        }#T_71443_row10_col3{\n",
       "            background-color:  #f2faeb;\n",
       "            color:  #000000;\n",
       "        }#T_71443_row10_col5{\n",
       "            background-color:  #e1f3dc;\n",
       "            color:  #000000;\n",
       "        }#T_71443_row10_col7{\n",
       "            background-color:  #ddf2d7;\n",
       "            color:  #000000;\n",
       "        }#T_71443_row11_col0{\n",
       "            background-color:  #0868ac;\n",
       "            color:  #f1f1f1;\n",
       "        }#T_71443_row11_col1{\n",
       "            background-color:  #1475b2;\n",
       "            color:  #f1f1f1;\n",
       "        }#T_71443_row11_col2,#T_71443_row12_col4{\n",
       "            background-color:  #5abacf;\n",
       "            color:  #000000;\n",
       "        }#T_71443_row11_col3{\n",
       "            background-color:  #d0ecc9;\n",
       "            color:  #000000;\n",
       "        }#T_71443_row11_col5,#T_71443_row12_col3{\n",
       "            background-color:  #43a7cd;\n",
       "            color:  #000000;\n",
       "        }#T_71443_row11_col6{\n",
       "            background-color:  #2a8bbe;\n",
       "            color:  #000000;\n",
       "        }#T_71443_row12_col1{\n",
       "            background-color:  #6fc5c8;\n",
       "            color:  #000000;\n",
       "        }#T_71443_row12_col2{\n",
       "            background-color:  #daf1d5;\n",
       "            color:  #000000;\n",
       "        }#T_71443_row12_col5{\n",
       "            background-color:  #87d1c0;\n",
       "            color:  #000000;\n",
       "        }#T_71443_row12_col6{\n",
       "            background-color:  #91d4bd;\n",
       "            color:  #000000;\n",
       "        }#T_71443_row13_col1{\n",
       "            background-color:  #7fcdc3;\n",
       "            color:  #000000;\n",
       "        }#T_71443_row13_col2{\n",
       "            background-color:  #c5e8c2;\n",
       "            color:  #000000;\n",
       "        }#T_71443_row13_col4{\n",
       "            background-color:  #94d5bc;\n",
       "            color:  #000000;\n",
       "        }#T_71443_row13_col5{\n",
       "            background-color:  #8dd3be;\n",
       "            color:  #000000;\n",
       "        }#T_71443_row13_col6,#T_71443_row14_col6{\n",
       "            background-color:  #8fd4bd;\n",
       "            color:  #000000;\n",
       "        }#T_71443_row13_col7{\n",
       "            background-color:  #b6e3bb;\n",
       "            color:  #000000;\n",
       "        }#T_71443_row14_col1{\n",
       "            background-color:  #8bd2bf;\n",
       "            color:  #000000;\n",
       "        }#T_71443_row14_col2{\n",
       "            background-color:  #d5efcf;\n",
       "            color:  #000000;\n",
       "        }#T_71443_row14_col5{\n",
       "            background-color:  #81cec2;\n",
       "            color:  #000000;\n",
       "        }#T_71443_row14_col7{\n",
       "            background-color:  #d5eece;\n",
       "            color:  #000000;\n",
       "        }</style><table id=\"T_71443_\" ><thead>    <tr>        <th class=\"blank level0\" ></th>        <th class=\"col_heading level0 col0\" >count</th>        <th class=\"col_heading level0 col1\" >mean</th>        <th class=\"col_heading level0 col2\" >std</th>        <th class=\"col_heading level0 col3\" >min</th>        <th class=\"col_heading level0 col4\" >25%</th>        <th class=\"col_heading level0 col5\" >50%</th>        <th class=\"col_heading level0 col6\" >75%</th>        <th class=\"col_heading level0 col7\" >max</th>    </tr></thead><tbody>\n",
       "                <tr>\n",
       "                        <th id=\"T_71443_level0_row0\" class=\"row_heading level0 row0\" >Bulk 1</th>\n",
       "                        <td id=\"T_71443_row0_col0\" class=\"data row0 col0\" >252.000000</td>\n",
       "                        <td id=\"T_71443_row0_col1\" class=\"data row0 col1\" >39.242063</td>\n",
       "                        <td id=\"T_71443_row0_col2\" class=\"data row0 col2\" >18.277654</td>\n",
       "                        <td id=\"T_71443_row0_col3\" class=\"data row0 col3\" >10.000000</td>\n",
       "                        <td id=\"T_71443_row0_col4\" class=\"data row0 col4\" >27.000000</td>\n",
       "                        <td id=\"T_71443_row0_col5\" class=\"data row0 col5\" >31.000000</td>\n",
       "                        <td id=\"T_71443_row0_col6\" class=\"data row0 col6\" >46.000000</td>\n",
       "                        <td id=\"T_71443_row0_col7\" class=\"data row0 col7\" >185.000000</td>\n",
       "            </tr>\n",
       "            <tr>\n",
       "                        <th id=\"T_71443_level0_row1\" class=\"row_heading level0 row1\" >Bulk 2</th>\n",
       "                        <td id=\"T_71443_row1_col0\" class=\"data row1 col0\" >22.000000</td>\n",
       "                        <td id=\"T_71443_row1_col1\" class=\"data row1 col1\" >253.045455</td>\n",
       "                        <td id=\"T_71443_row1_col2\" class=\"data row1 col2\" >21.180578</td>\n",
       "                        <td id=\"T_71443_row1_col3\" class=\"data row1 col3\" >228.000000</td>\n",
       "                        <td id=\"T_71443_row1_col4\" class=\"data row1 col4\" >242.000000</td>\n",
       "                        <td id=\"T_71443_row1_col5\" class=\"data row1 col5\" >251.500000</td>\n",
       "                        <td id=\"T_71443_row1_col6\" class=\"data row1 col6\" >257.750000</td>\n",
       "                        <td id=\"T_71443_row1_col7\" class=\"data row1 col7\" >325.000000</td>\n",
       "            </tr>\n",
       "            <tr>\n",
       "                        <th id=\"T_71443_level0_row2\" class=\"row_heading level0 row2\" >Bulk 3</th>\n",
       "                        <td id=\"T_71443_row2_col0\" class=\"data row2 col0\" >1298.000000</td>\n",
       "                        <td id=\"T_71443_row2_col1\" class=\"data row2 col1\" >113.879045</td>\n",
       "                        <td id=\"T_71443_row2_col2\" class=\"data row2 col2\" >75.483494</td>\n",
       "                        <td id=\"T_71443_row2_col3\" class=\"data row2 col3\" >6.000000</td>\n",
       "                        <td id=\"T_71443_row2_col4\" class=\"data row2 col4\" >58.000000</td>\n",
       "                        <td id=\"T_71443_row2_col5\" class=\"data row2 col5\" >97.500000</td>\n",
       "                        <td id=\"T_71443_row2_col6\" class=\"data row2 col6\" >152.000000</td>\n",
       "                        <td id=\"T_71443_row2_col7\" class=\"data row2 col7\" >454.000000</td>\n",
       "            </tr>\n",
       "            <tr>\n",
       "                        <th id=\"T_71443_level0_row3\" class=\"row_heading level0 row3\" >Bulk 4</th>\n",
       "                        <td id=\"T_71443_row3_col0\" class=\"data row3 col0\" >1014.000000</td>\n",
       "                        <td id=\"T_71443_row3_col1\" class=\"data row3 col1\" >104.394477</td>\n",
       "                        <td id=\"T_71443_row3_col2\" class=\"data row3 col2\" >48.184126</td>\n",
       "                        <td id=\"T_71443_row3_col3\" class=\"data row3 col3\" >12.000000</td>\n",
       "                        <td id=\"T_71443_row3_col4\" class=\"data row3 col4\" >72.000000</td>\n",
       "                        <td id=\"T_71443_row3_col5\" class=\"data row3 col5\" >102.000000</td>\n",
       "                        <td id=\"T_71443_row3_col6\" class=\"data row3 col6\" >133.000000</td>\n",
       "                        <td id=\"T_71443_row3_col7\" class=\"data row3 col7\" >281.000000</td>\n",
       "            </tr>\n",
       "            <tr>\n",
       "                        <th id=\"T_71443_level0_row4\" class=\"row_heading level0 row4\" >Bulk 5</th>\n",
       "                        <td id=\"T_71443_row4_col0\" class=\"data row4 col0\" >77.000000</td>\n",
       "                        <td id=\"T_71443_row4_col1\" class=\"data row4 col1\" >107.025974</td>\n",
       "                        <td id=\"T_71443_row4_col2\" class=\"data row4 col2\" >81.790646</td>\n",
       "                        <td id=\"T_71443_row4_col3\" class=\"data row4 col3\" >11.000000</td>\n",
       "                        <td id=\"T_71443_row4_col4\" class=\"data row4 col4\" >70.000000</td>\n",
       "                        <td id=\"T_71443_row4_col5\" class=\"data row4 col5\" >86.000000</td>\n",
       "                        <td id=\"T_71443_row4_col6\" class=\"data row4 col6\" >132.000000</td>\n",
       "                        <td id=\"T_71443_row4_col7\" class=\"data row4 col7\" >603.000000</td>\n",
       "            </tr>\n",
       "            <tr>\n",
       "                        <th id=\"T_71443_level0_row5\" class=\"row_heading level0 row5\" >Bulk 6</th>\n",
       "                        <td id=\"T_71443_row5_col0\" class=\"data row5 col0\" >576.000000</td>\n",
       "                        <td id=\"T_71443_row5_col1\" class=\"data row5 col1\" >118.925347</td>\n",
       "                        <td id=\"T_71443_row5_col2\" class=\"data row5 col2\" >72.057776</td>\n",
       "                        <td id=\"T_71443_row5_col3\" class=\"data row5 col3\" >17.000000</td>\n",
       "                        <td id=\"T_71443_row5_col4\" class=\"data row5 col4\" >69.750000</td>\n",
       "                        <td id=\"T_71443_row5_col5\" class=\"data row5 col5\" >100.000000</td>\n",
       "                        <td id=\"T_71443_row5_col6\" class=\"data row5 col6\" >157.000000</td>\n",
       "                        <td id=\"T_71443_row5_col7\" class=\"data row5 col7\" >503.000000</td>\n",
       "            </tr>\n",
       "            <tr>\n",
       "                        <th id=\"T_71443_level0_row6\" class=\"row_heading level0 row6\" >Bulk 7</th>\n",
       "                        <td id=\"T_71443_row6_col0\" class=\"data row6 col0\" >25.000000</td>\n",
       "                        <td id=\"T_71443_row6_col1\" class=\"data row6 col1\" >305.600000</td>\n",
       "                        <td id=\"T_71443_row6_col2\" class=\"data row6 col2\" >191.022904</td>\n",
       "                        <td id=\"T_71443_row6_col3\" class=\"data row6 col3\" >47.000000</td>\n",
       "                        <td id=\"T_71443_row6_col4\" class=\"data row6 col4\" >155.000000</td>\n",
       "                        <td id=\"T_71443_row6_col5\" class=\"data row6 col5\" >298.000000</td>\n",
       "                        <td id=\"T_71443_row6_col6\" class=\"data row6 col6\" >406.000000</td>\n",
       "                        <td id=\"T_71443_row6_col7\" class=\"data row6 col7\" >772.000000</td>\n",
       "            </tr>\n",
       "            <tr>\n",
       "                        <th id=\"T_71443_level0_row7\" class=\"row_heading level0 row7\" >Bulk 8</th>\n",
       "                        <td id=\"T_71443_row7_col0\" class=\"data row7 col0\" >1.000000</td>\n",
       "                        <td id=\"T_71443_row7_col1\" class=\"data row7 col1\" >49.000000</td>\n",
       "                        <td id=\"T_71443_row7_col2\" class=\"data row7 col2\" >nan</td>\n",
       "                        <td id=\"T_71443_row7_col3\" class=\"data row7 col3\" >49.000000</td>\n",
       "                        <td id=\"T_71443_row7_col4\" class=\"data row7 col4\" >49.000000</td>\n",
       "                        <td id=\"T_71443_row7_col5\" class=\"data row7 col5\" >49.000000</td>\n",
       "                        <td id=\"T_71443_row7_col6\" class=\"data row7 col6\" >49.000000</td>\n",
       "                        <td id=\"T_71443_row7_col7\" class=\"data row7 col7\" >49.000000</td>\n",
       "            </tr>\n",
       "            <tr>\n",
       "                        <th id=\"T_71443_level0_row8\" class=\"row_heading level0 row8\" >Bulk 9</th>\n",
       "                        <td id=\"T_71443_row8_col0\" class=\"data row8 col0\" >19.000000</td>\n",
       "                        <td id=\"T_71443_row8_col1\" class=\"data row8 col1\" >76.315789</td>\n",
       "                        <td id=\"T_71443_row8_col2\" class=\"data row8 col2\" >21.720581</td>\n",
       "                        <td id=\"T_71443_row8_col3\" class=\"data row8 col3\" >63.000000</td>\n",
       "                        <td id=\"T_71443_row8_col4\" class=\"data row8 col4\" >66.000000</td>\n",
       "                        <td id=\"T_71443_row8_col5\" class=\"data row8 col5\" >68.000000</td>\n",
       "                        <td id=\"T_71443_row8_col6\" class=\"data row8 col6\" >70.500000</td>\n",
       "                        <td id=\"T_71443_row8_col7\" class=\"data row8 col7\" >147.000000</td>\n",
       "            </tr>\n",
       "            <tr>\n",
       "                        <th id=\"T_71443_level0_row9\" class=\"row_heading level0 row9\" >Bulk 10</th>\n",
       "                        <td id=\"T_71443_row9_col0\" class=\"data row9 col0\" >176.000000</td>\n",
       "                        <td id=\"T_71443_row9_col1\" class=\"data row9 col1\" >83.284091</td>\n",
       "                        <td id=\"T_71443_row9_col2\" class=\"data row9 col2\" >26.060347</td>\n",
       "                        <td id=\"T_71443_row9_col3\" class=\"data row9 col3\" >24.000000</td>\n",
       "                        <td id=\"T_71443_row9_col4\" class=\"data row9 col4\" >64.000000</td>\n",
       "                        <td id=\"T_71443_row9_col5\" class=\"data row9 col5\" >86.500000</td>\n",
       "                        <td id=\"T_71443_row9_col6\" class=\"data row9 col6\" >102.000000</td>\n",
       "                        <td id=\"T_71443_row9_col7\" class=\"data row9 col7\" >159.000000</td>\n",
       "            </tr>\n",
       "            <tr>\n",
       "                        <th id=\"T_71443_level0_row10\" class=\"row_heading level0 row10\" >Bulk 11</th>\n",
       "                        <td id=\"T_71443_row10_col0\" class=\"data row10 col0\" >177.000000</td>\n",
       "                        <td id=\"T_71443_row10_col1\" class=\"data row10 col1\" >76.819209</td>\n",
       "                        <td id=\"T_71443_row10_col2\" class=\"data row10 col2\" >59.655365</td>\n",
       "                        <td id=\"T_71443_row10_col3\" class=\"data row10 col3\" >8.000000</td>\n",
       "                        <td id=\"T_71443_row10_col4\" class=\"data row10 col4\" >25.000000</td>\n",
       "                        <td id=\"T_71443_row10_col5\" class=\"data row10 col5\" >64.000000</td>\n",
       "                        <td id=\"T_71443_row10_col6\" class=\"data row10 col6\" >106.000000</td>\n",
       "                        <td id=\"T_71443_row10_col7\" class=\"data row10 col7\" >313.000000</td>\n",
       "            </tr>\n",
       "            <tr>\n",
       "                        <th id=\"T_71443_level0_row11\" class=\"row_heading level0 row11\" >Bulk 12</th>\n",
       "                        <td id=\"T_71443_row11_col0\" class=\"data row11 col0\" >2450.000000</td>\n",
       "                        <td id=\"T_71443_row11_col1\" class=\"data row11 col1\" >260.471020</td>\n",
       "                        <td id=\"T_71443_row11_col2\" class=\"data row11 col2\" >120.649269</td>\n",
       "                        <td id=\"T_71443_row11_col3\" class=\"data row11 col3\" >53.000000</td>\n",
       "                        <td id=\"T_71443_row11_col4\" class=\"data row11 col4\" >204.000000</td>\n",
       "                        <td id=\"T_71443_row11_col5\" class=\"data row11 col5\" >208.000000</td>\n",
       "                        <td id=\"T_71443_row11_col6\" class=\"data row11 col6\" >316.000000</td>\n",
       "                        <td id=\"T_71443_row11_col7\" class=\"data row11 col7\" >1849.000000</td>\n",
       "            </tr>\n",
       "            <tr>\n",
       "                        <th id=\"T_71443_level0_row12\" class=\"row_heading level0 row12\" >Bulk 13</th>\n",
       "                        <td id=\"T_71443_row12_col0\" class=\"data row12 col0\" >18.000000</td>\n",
       "                        <td id=\"T_71443_row12_col1\" class=\"data row12 col1\" >181.111111</td>\n",
       "                        <td id=\"T_71443_row12_col2\" class=\"data row12 col2\" >46.088009</td>\n",
       "                        <td id=\"T_71443_row12_col3\" class=\"data row12 col3\" >151.000000</td>\n",
       "                        <td id=\"T_71443_row12_col4\" class=\"data row12 col4\" >153.250000</td>\n",
       "                        <td id=\"T_71443_row12_col5\" class=\"data row12 col5\" >155.500000</td>\n",
       "                        <td id=\"T_71443_row12_col6\" class=\"data row12 col6\" >203.500000</td>\n",
       "                        <td id=\"T_71443_row12_col7\" class=\"data row12 col7\" >305.000000</td>\n",
       "            </tr>\n",
       "            <tr>\n",
       "                        <th id=\"T_71443_level0_row13\" class=\"row_heading level0 row13\" >Bulk 14</th>\n",
       "                        <td id=\"T_71443_row13_col0\" class=\"data row13 col0\" >2806.000000</td>\n",
       "                        <td id=\"T_71443_row13_col1\" class=\"data row13 col1\" >170.284747</td>\n",
       "                        <td id=\"T_71443_row13_col2\" class=\"data row13 col2\" >65.868652</td>\n",
       "                        <td id=\"T_71443_row13_col3\" class=\"data row13 col3\" >16.000000</td>\n",
       "                        <td id=\"T_71443_row13_col4\" class=\"data row13 col4\" >119.000000</td>\n",
       "                        <td id=\"T_71443_row13_col5\" class=\"data row13 col5\" >151.000000</td>\n",
       "                        <td id=\"T_71443_row13_col6\" class=\"data row13 col6\" >205.750000</td>\n",
       "                        <td id=\"T_71443_row13_col7\" class=\"data row13 col7\" >636.000000</td>\n",
       "            </tr>\n",
       "            <tr>\n",
       "                        <th id=\"T_71443_level0_row14\" class=\"row_heading level0 row14\" >Bulk 15</th>\n",
       "                        <td id=\"T_71443_row14_col0\" class=\"data row14 col0\" >2248.000000</td>\n",
       "                        <td id=\"T_71443_row14_col1\" class=\"data row14 col1\" >160.513345</td>\n",
       "                        <td id=\"T_71443_row14_col2\" class=\"data row14 col2\" >51.765319</td>\n",
       "                        <td id=\"T_71443_row14_col3\" class=\"data row14 col3\" >1.000000</td>\n",
       "                        <td id=\"T_71443_row14_col4\" class=\"data row14 col4\" >105.000000</td>\n",
       "                        <td id=\"T_71443_row14_col5\" class=\"data row14 col5\" >160.000000</td>\n",
       "                        <td id=\"T_71443_row14_col6\" class=\"data row14 col6\" >205.000000</td>\n",
       "                        <td id=\"T_71443_row14_col7\" class=\"data row14 col7\" >405.000000</td>\n",
       "            </tr>\n",
       "    </tbody></table>"
      ],
      "text/plain": [
       "<pandas.io.formats.style.Styler at 0x7f573c8dc640>"
      ]
     },
     "metadata": {},
     "output_type": "display_data"
    },
    {
     "name": "stdout",
     "output_type": "stream",
     "text": [
      "---------------------------\n",
      "\u001b[1m\u001b[34mДанные о подаче сыпучих материалов (время)\u001b[0m\n"
     ]
    },
    {
     "data": {
      "text/html": [
       "<style  type=\"text/css\" >\n",
       "</style><table id=\"T_a4016_\" ><thead>    <tr>        <th class=\"blank level0\" ></th>        <th class=\"col_heading level0 col0\" >count</th>        <th class=\"col_heading level0 col1\" >unique</th>        <th class=\"col_heading level0 col2\" >top</th>        <th class=\"col_heading level0 col3\" >freq</th>    </tr></thead><tbody>\n",
       "                <tr>\n",
       "                        <th id=\"T_a4016_level0_row0\" class=\"row_heading level0 row0\" >Bulk 1</th>\n",
       "                        <td id=\"T_a4016_row0_col0\" class=\"data row0 col0\" >252</td>\n",
       "                        <td id=\"T_a4016_row0_col1\" class=\"data row0 col1\" >252</td>\n",
       "                        <td id=\"T_a4016_row0_col2\" class=\"data row0 col2\" >2019-08-18 22:05:13</td>\n",
       "                        <td id=\"T_a4016_row0_col3\" class=\"data row0 col3\" >1</td>\n",
       "            </tr>\n",
       "            <tr>\n",
       "                        <th id=\"T_a4016_level0_row1\" class=\"row_heading level0 row1\" >Bulk 2</th>\n",
       "                        <td id=\"T_a4016_row1_col0\" class=\"data row1 col0\" >22</td>\n",
       "                        <td id=\"T_a4016_row1_col1\" class=\"data row1 col1\" >22</td>\n",
       "                        <td id=\"T_a4016_row1_col2\" class=\"data row1 col2\" >2019-05-07 15:45:34</td>\n",
       "                        <td id=\"T_a4016_row1_col3\" class=\"data row1 col3\" >1</td>\n",
       "            </tr>\n",
       "            <tr>\n",
       "                        <th id=\"T_a4016_level0_row2\" class=\"row_heading level0 row2\" >Bulk 3</th>\n",
       "                        <td id=\"T_a4016_row2_col0\" class=\"data row2 col0\" >1298</td>\n",
       "                        <td id=\"T_a4016_row2_col1\" class=\"data row2 col1\" >1298</td>\n",
       "                        <td id=\"T_a4016_row2_col2\" class=\"data row2 col2\" >2019-05-08 13:11:13</td>\n",
       "                        <td id=\"T_a4016_row2_col3\" class=\"data row2 col3\" >1</td>\n",
       "            </tr>\n",
       "            <tr>\n",
       "                        <th id=\"T_a4016_level0_row3\" class=\"row_heading level0 row3\" >Bulk 4</th>\n",
       "                        <td id=\"T_a4016_row3_col0\" class=\"data row3 col0\" >1014</td>\n",
       "                        <td id=\"T_a4016_row3_col1\" class=\"data row3 col1\" >1014</td>\n",
       "                        <td id=\"T_a4016_row3_col2\" class=\"data row3 col2\" >2019-06-23 16:02:17</td>\n",
       "                        <td id=\"T_a4016_row3_col3\" class=\"data row3 col3\" >1</td>\n",
       "            </tr>\n",
       "            <tr>\n",
       "                        <th id=\"T_a4016_level0_row4\" class=\"row_heading level0 row4\" >Bulk 5</th>\n",
       "                        <td id=\"T_a4016_row4_col0\" class=\"data row4 col0\" >77</td>\n",
       "                        <td id=\"T_a4016_row4_col1\" class=\"data row4 col1\" >77</td>\n",
       "                        <td id=\"T_a4016_row4_col2\" class=\"data row4 col2\" >2019-07-01 23:42:34</td>\n",
       "                        <td id=\"T_a4016_row4_col3\" class=\"data row4 col3\" >1</td>\n",
       "            </tr>\n",
       "            <tr>\n",
       "                        <th id=\"T_a4016_level0_row5\" class=\"row_heading level0 row5\" >Bulk 6</th>\n",
       "                        <td id=\"T_a4016_row5_col0\" class=\"data row5 col0\" >576</td>\n",
       "                        <td id=\"T_a4016_row5_col1\" class=\"data row5 col1\" >576</td>\n",
       "                        <td id=\"T_a4016_row5_col2\" class=\"data row5 col2\" >2019-05-16 08:42:22</td>\n",
       "                        <td id=\"T_a4016_row5_col3\" class=\"data row5 col3\" >1</td>\n",
       "            </tr>\n",
       "            <tr>\n",
       "                        <th id=\"T_a4016_level0_row6\" class=\"row_heading level0 row6\" >Bulk 7</th>\n",
       "                        <td id=\"T_a4016_row6_col0\" class=\"data row6 col0\" >25</td>\n",
       "                        <td id=\"T_a4016_row6_col1\" class=\"data row6 col1\" >25</td>\n",
       "                        <td id=\"T_a4016_row6_col2\" class=\"data row6 col2\" >2019-05-15 09:35:53</td>\n",
       "                        <td id=\"T_a4016_row6_col3\" class=\"data row6 col3\" >1</td>\n",
       "            </tr>\n",
       "            <tr>\n",
       "                        <th id=\"T_a4016_level0_row7\" class=\"row_heading level0 row7\" >Bulk 8</th>\n",
       "                        <td id=\"T_a4016_row7_col0\" class=\"data row7 col0\" >1</td>\n",
       "                        <td id=\"T_a4016_row7_col1\" class=\"data row7 col1\" >1</td>\n",
       "                        <td id=\"T_a4016_row7_col2\" class=\"data row7 col2\" >2019-07-05 17:46:11</td>\n",
       "                        <td id=\"T_a4016_row7_col3\" class=\"data row7 col3\" >1</td>\n",
       "            </tr>\n",
       "            <tr>\n",
       "                        <th id=\"T_a4016_level0_row8\" class=\"row_heading level0 row8\" >Bulk 9</th>\n",
       "                        <td id=\"T_a4016_row8_col0\" class=\"data row8 col0\" >19</td>\n",
       "                        <td id=\"T_a4016_row8_col1\" class=\"data row8 col1\" >19</td>\n",
       "                        <td id=\"T_a4016_row8_col2\" class=\"data row8 col2\" >2019-05-14 03:30:41</td>\n",
       "                        <td id=\"T_a4016_row8_col3\" class=\"data row8 col3\" >1</td>\n",
       "            </tr>\n",
       "            <tr>\n",
       "                        <th id=\"T_a4016_level0_row9\" class=\"row_heading level0 row9\" >Bulk 10</th>\n",
       "                        <td id=\"T_a4016_row9_col0\" class=\"data row9 col0\" >176</td>\n",
       "                        <td id=\"T_a4016_row9_col1\" class=\"data row9 col1\" >176</td>\n",
       "                        <td id=\"T_a4016_row9_col2\" class=\"data row9 col2\" >2019-07-25 07:01:54</td>\n",
       "                        <td id=\"T_a4016_row9_col3\" class=\"data row9 col3\" >1</td>\n",
       "            </tr>\n",
       "            <tr>\n",
       "                        <th id=\"T_a4016_level0_row10\" class=\"row_heading level0 row10\" >Bulk 11</th>\n",
       "                        <td id=\"T_a4016_row10_col0\" class=\"data row10 col0\" >177</td>\n",
       "                        <td id=\"T_a4016_row10_col1\" class=\"data row10 col1\" >177</td>\n",
       "                        <td id=\"T_a4016_row10_col2\" class=\"data row10 col2\" >2019-07-30 04:49:12</td>\n",
       "                        <td id=\"T_a4016_row10_col3\" class=\"data row10 col3\" >1</td>\n",
       "            </tr>\n",
       "            <tr>\n",
       "                        <th id=\"T_a4016_level0_row11\" class=\"row_heading level0 row11\" >Bulk 12</th>\n",
       "                        <td id=\"T_a4016_row11_col0\" class=\"data row11 col0\" >2450</td>\n",
       "                        <td id=\"T_a4016_row11_col1\" class=\"data row11 col1\" >2450</td>\n",
       "                        <td id=\"T_a4016_row11_col2\" class=\"data row11 col2\" >2019-06-18 19:52:14</td>\n",
       "                        <td id=\"T_a4016_row11_col3\" class=\"data row11 col3\" >1</td>\n",
       "            </tr>\n",
       "            <tr>\n",
       "                        <th id=\"T_a4016_level0_row12\" class=\"row_heading level0 row12\" >Bulk 13</th>\n",
       "                        <td id=\"T_a4016_row12_col0\" class=\"data row12 col0\" >18</td>\n",
       "                        <td id=\"T_a4016_row12_col1\" class=\"data row12 col1\" >18</td>\n",
       "                        <td id=\"T_a4016_row12_col2\" class=\"data row12 col2\" >2019-06-28 01:03:50</td>\n",
       "                        <td id=\"T_a4016_row12_col3\" class=\"data row12 col3\" >1</td>\n",
       "            </tr>\n",
       "            <tr>\n",
       "                        <th id=\"T_a4016_level0_row13\" class=\"row_heading level0 row13\" >Bulk 14</th>\n",
       "                        <td id=\"T_a4016_row13_col0\" class=\"data row13 col0\" >2806</td>\n",
       "                        <td id=\"T_a4016_row13_col1\" class=\"data row13 col1\" >2806</td>\n",
       "                        <td id=\"T_a4016_row13_col2\" class=\"data row13 col2\" >2019-06-18 19:52:14</td>\n",
       "                        <td id=\"T_a4016_row13_col3\" class=\"data row13 col3\" >1</td>\n",
       "            </tr>\n",
       "            <tr>\n",
       "                        <th id=\"T_a4016_level0_row14\" class=\"row_heading level0 row14\" >Bulk 15</th>\n",
       "                        <td id=\"T_a4016_row14_col0\" class=\"data row14 col0\" >2248</td>\n",
       "                        <td id=\"T_a4016_row14_col1\" class=\"data row14 col1\" >2248</td>\n",
       "                        <td id=\"T_a4016_row14_col2\" class=\"data row14 col2\" >2019-06-18 19:52:14</td>\n",
       "                        <td id=\"T_a4016_row14_col3\" class=\"data row14 col3\" >1</td>\n",
       "            </tr>\n",
       "    </tbody></table>"
      ],
      "text/plain": [
       "<pandas.io.formats.style.Styler at 0x7f57bc634b50>"
      ]
     },
     "metadata": {},
     "output_type": "display_data"
    },
    {
     "name": "stdout",
     "output_type": "stream",
     "text": [
      "---------------------------\n",
      "\u001b[1m\u001b[34mДанные о продувке сплава газом\u001b[0m\n"
     ]
    },
    {
     "data": {
      "text/html": [
       "<style  type=\"text/css\" >\n",
       "#T_dbf43_row0_col0,#T_dbf43_row0_col1,#T_dbf43_row0_col2,#T_dbf43_row0_col3,#T_dbf43_row0_col4,#T_dbf43_row0_col5,#T_dbf43_row0_col6,#T_dbf43_row0_col7{\n",
       "            background-color:  #f7fcf0;\n",
       "            color:  #000000;\n",
       "        }</style><table id=\"T_dbf43_\" ><thead>    <tr>        <th class=\"blank level0\" ></th>        <th class=\"col_heading level0 col0\" >count</th>        <th class=\"col_heading level0 col1\" >mean</th>        <th class=\"col_heading level0 col2\" >std</th>        <th class=\"col_heading level0 col3\" >min</th>        <th class=\"col_heading level0 col4\" >25%</th>        <th class=\"col_heading level0 col5\" >50%</th>        <th class=\"col_heading level0 col6\" >75%</th>        <th class=\"col_heading level0 col7\" >max</th>    </tr></thead><tbody>\n",
       "                <tr>\n",
       "                        <th id=\"T_dbf43_level0_row0\" class=\"row_heading level0 row0\" >Газ 1</th>\n",
       "                        <td id=\"T_dbf43_row0_col0\" class=\"data row0 col0\" >3239.000000</td>\n",
       "                        <td id=\"T_dbf43_row0_col1\" class=\"data row0 col1\" >11.002062</td>\n",
       "                        <td id=\"T_dbf43_row0_col2\" class=\"data row0 col2\" >6.220327</td>\n",
       "                        <td id=\"T_dbf43_row0_col3\" class=\"data row0 col3\" >0.008399</td>\n",
       "                        <td id=\"T_dbf43_row0_col4\" class=\"data row0 col4\" >7.043089</td>\n",
       "                        <td id=\"T_dbf43_row0_col5\" class=\"data row0 col5\" >9.836267</td>\n",
       "                        <td id=\"T_dbf43_row0_col6\" class=\"data row0 col6\" >13.769915</td>\n",
       "                        <td id=\"T_dbf43_row0_col7\" class=\"data row0 col7\" >77.995040</td>\n",
       "            </tr>\n",
       "    </tbody></table>"
      ],
      "text/plain": [
       "<pandas.io.formats.style.Styler at 0x7f573c7638e0>"
      ]
     },
     "metadata": {},
     "output_type": "display_data"
    },
    {
     "name": "stdout",
     "output_type": "stream",
     "text": [
      "---------------------------\n",
      "\u001b[1m\u001b[34mРезультаты измерения температуры\u001b[0m\n"
     ]
    },
    {
     "data": {
      "text/html": [
       "<style  type=\"text/css\" >\n",
       "#T_f7763_row0_col0,#T_f7763_row0_col1,#T_f7763_row0_col2,#T_f7763_row0_col3,#T_f7763_row0_col4,#T_f7763_row0_col5,#T_f7763_row0_col6,#T_f7763_row0_col7{\n",
       "            background-color:  #f7fcf0;\n",
       "            color:  #000000;\n",
       "        }</style><table id=\"T_f7763_\" ><thead>    <tr>        <th class=\"blank level0\" ></th>        <th class=\"col_heading level0 col0\" >count</th>        <th class=\"col_heading level0 col1\" >mean</th>        <th class=\"col_heading level0 col2\" >std</th>        <th class=\"col_heading level0 col3\" >min</th>        <th class=\"col_heading level0 col4\" >25%</th>        <th class=\"col_heading level0 col5\" >50%</th>        <th class=\"col_heading level0 col6\" >75%</th>        <th class=\"col_heading level0 col7\" >max</th>    </tr></thead><tbody>\n",
       "                <tr>\n",
       "                        <th id=\"T_f7763_level0_row0\" class=\"row_heading level0 row0\" >Температура</th>\n",
       "                        <td id=\"T_f7763_row0_col0\" class=\"data row0 col0\" >13006.000000</td>\n",
       "                        <td id=\"T_f7763_row0_col1\" class=\"data row0 col1\" >1591.840920</td>\n",
       "                        <td id=\"T_f7763_row0_col2\" class=\"data row0 col2\" >21.375851</td>\n",
       "                        <td id=\"T_f7763_row0_col3\" class=\"data row0 col3\" >1191.000000</td>\n",
       "                        <td id=\"T_f7763_row0_col4\" class=\"data row0 col4\" >1581.000000</td>\n",
       "                        <td id=\"T_f7763_row0_col5\" class=\"data row0 col5\" >1591.000000</td>\n",
       "                        <td id=\"T_f7763_row0_col6\" class=\"data row0 col6\" >1601.000000</td>\n",
       "                        <td id=\"T_f7763_row0_col7\" class=\"data row0 col7\" >1705.000000</td>\n",
       "            </tr>\n",
       "    </tbody></table>"
      ],
      "text/plain": [
       "<pandas.io.formats.style.Styler at 0x7f573c7998b0>"
      ]
     },
     "metadata": {},
     "output_type": "display_data"
    },
    {
     "name": "stdout",
     "output_type": "stream",
     "text": [
      "---------------------------\n",
      "\u001b[1m\u001b[34mДанные о проволочных материалах (объём)\u001b[0m\n"
     ]
    },
    {
     "data": {
      "text/html": [
       "<style  type=\"text/css\" >\n",
       "#T_7b23b_row0_col0,#T_7b23b_row2_col1,#T_7b23b_row2_col2,#T_7b23b_row2_col4,#T_7b23b_row2_col5,#T_7b23b_row2_col6,#T_7b23b_row2_col7,#T_7b23b_row7_col3{\n",
       "            background-color:  #084081;\n",
       "            color:  #f1f1f1;\n",
       "        }#T_7b23b_row0_col1{\n",
       "            background-color:  #79cbc5;\n",
       "            color:  #000000;\n",
       "        }#T_7b23b_row0_col2{\n",
       "            background-color:  #aadeb6;\n",
       "            color:  #000000;\n",
       "        }#T_7b23b_row0_col3{\n",
       "            background-color:  #f0f9e9;\n",
       "            color:  #000000;\n",
       "        }#T_7b23b_row0_col4{\n",
       "            background-color:  #2d8fbf;\n",
       "            color:  #000000;\n",
       "        }#T_7b23b_row0_col5{\n",
       "            background-color:  #9ed9b8;\n",
       "            color:  #000000;\n",
       "        }#T_7b23b_row0_col6{\n",
       "            background-color:  #94d5bc;\n",
       "            color:  #000000;\n",
       "        }#T_7b23b_row0_col7{\n",
       "            background-color:  #0e6eaf;\n",
       "            color:  #f1f1f1;\n",
       "        }#T_7b23b_row1_col0{\n",
       "            background-color:  #aedfb8;\n",
       "            color:  #000000;\n",
       "        }#T_7b23b_row1_col1{\n",
       "            background-color:  #d0edca;\n",
       "            color:  #000000;\n",
       "        }#T_7b23b_row1_col2{\n",
       "            background-color:  #b3e1ba;\n",
       "            color:  #000000;\n",
       "        }#T_7b23b_row1_col3,#T_7b23b_row2_col3,#T_7b23b_row4_col0,#T_7b23b_row4_col7,#T_7b23b_row5_col3,#T_7b23b_row6_col0,#T_7b23b_row6_col1,#T_7b23b_row6_col2,#T_7b23b_row6_col4,#T_7b23b_row6_col5,#T_7b23b_row6_col6{\n",
       "            background-color:  #f7fcf0;\n",
       "            color:  #000000;\n",
       "        }#T_7b23b_row1_col4{\n",
       "            background-color:  #dcf1d7;\n",
       "            color:  #000000;\n",
       "        }#T_7b23b_row1_col5,#T_7b23b_row7_col6{\n",
       "            background-color:  #def2d9;\n",
       "            color:  #000000;\n",
       "        }#T_7b23b_row1_col6,#T_7b23b_row3_col2{\n",
       "            background-color:  #d1edca;\n",
       "            color:  #000000;\n",
       "        }#T_7b23b_row1_col7{\n",
       "            background-color:  #3294c2;\n",
       "            color:  #000000;\n",
       "        }#T_7b23b_row2_col0{\n",
       "            background-color:  #f3fbed;\n",
       "            color:  #000000;\n",
       "        }#T_7b23b_row3_col0,#T_7b23b_row6_col3,#T_7b23b_row7_col0{\n",
       "            background-color:  #f6fcef;\n",
       "            color:  #000000;\n",
       "        }#T_7b23b_row3_col1,#T_7b23b_row3_col7{\n",
       "            background-color:  #c8eac3;\n",
       "            color:  #000000;\n",
       "        }#T_7b23b_row3_col3{\n",
       "            background-color:  #6ec5c8;\n",
       "            color:  #000000;\n",
       "        }#T_7b23b_row3_col4{\n",
       "            background-color:  #a5dcb6;\n",
       "            color:  #000000;\n",
       "        }#T_7b23b_row3_col5{\n",
       "            background-color:  #dbf1d5;\n",
       "            color:  #000000;\n",
       "        }#T_7b23b_row3_col6,#T_7b23b_row7_col1{\n",
       "            background-color:  #cdebc6;\n",
       "            color:  #000000;\n",
       "        }#T_7b23b_row4_col1{\n",
       "            background-color:  #f2faeb;\n",
       "            color:  #000000;\n",
       "        }#T_7b23b_row4_col2{\n",
       "            background-color:  #000000;\n",
       "            color:  #f1f1f1;\n",
       "        }#T_7b23b_row4_col3{\n",
       "            background-color:  #b4e2ba;\n",
       "            color:  #000000;\n",
       "        }#T_7b23b_row4_col4{\n",
       "            background-color:  #e6f5e0;\n",
       "            color:  #000000;\n",
       "        }#T_7b23b_row4_col5,#T_7b23b_row5_col0{\n",
       "            background-color:  #f3faec;\n",
       "            color:  #000000;\n",
       "        }#T_7b23b_row4_col6{\n",
       "            background-color:  #f5fbee;\n",
       "            color:  #000000;\n",
       "        }#T_7b23b_row5_col1{\n",
       "            background-color:  #d2edcc;\n",
       "            color:  #000000;\n",
       "        }#T_7b23b_row5_col2{\n",
       "            background-color:  #c4e8c1;\n",
       "            color:  #000000;\n",
       "        }#T_7b23b_row5_col4{\n",
       "            background-color:  #d3eecd;\n",
       "            color:  #000000;\n",
       "        }#T_7b23b_row5_col5{\n",
       "            background-color:  #ddf2d7;\n",
       "            color:  #000000;\n",
       "        }#T_7b23b_row5_col6{\n",
       "            background-color:  #d5eece;\n",
       "            color:  #000000;\n",
       "        }#T_7b23b_row5_col7{\n",
       "            background-color:  #8ed3be;\n",
       "            color:  #000000;\n",
       "        }#T_7b23b_row6_col7{\n",
       "            background-color:  #eef9e8;\n",
       "            color:  #000000;\n",
       "        }#T_7b23b_row7_col2,#T_7b23b_row8_col5{\n",
       "            background-color:  #e6f6e1;\n",
       "            color:  #000000;\n",
       "        }#T_7b23b_row7_col4{\n",
       "            background-color:  #8fd4bd;\n",
       "            color:  #000000;\n",
       "        }#T_7b23b_row7_col5{\n",
       "            background-color:  #daf0d4;\n",
       "            color:  #000000;\n",
       "        }#T_7b23b_row7_col7{\n",
       "            background-color:  #ceecc8;\n",
       "            color:  #000000;\n",
       "        }#T_7b23b_row8_col0{\n",
       "            background-color:  #f6fbef;\n",
       "            color:  #000000;\n",
       "        }#T_7b23b_row8_col1{\n",
       "            background-color:  #dff2da;\n",
       "            color:  #000000;\n",
       "        }#T_7b23b_row8_col2{\n",
       "            background-color:  #e1f3dc;\n",
       "            color:  #000000;\n",
       "        }#T_7b23b_row8_col3{\n",
       "            background-color:  #e4f5df;\n",
       "            color:  #000000;\n",
       "        }#T_7b23b_row8_col4{\n",
       "            background-color:  #d8f0d3;\n",
       "            color:  #000000;\n",
       "        }#T_7b23b_row8_col6{\n",
       "            background-color:  #e1f4dc;\n",
       "            color:  #000000;\n",
       "        }#T_7b23b_row8_col7{\n",
       "            background-color:  #d4eece;\n",
       "            color:  #000000;\n",
       "        }</style><table id=\"T_7b23b_\" ><thead>    <tr>        <th class=\"blank level0\" ></th>        <th class=\"col_heading level0 col0\" >count</th>        <th class=\"col_heading level0 col1\" >mean</th>        <th class=\"col_heading level0 col2\" >std</th>        <th class=\"col_heading level0 col3\" >min</th>        <th class=\"col_heading level0 col4\" >25%</th>        <th class=\"col_heading level0 col5\" >50%</th>        <th class=\"col_heading level0 col6\" >75%</th>        <th class=\"col_heading level0 col7\" >max</th>    </tr></thead><tbody>\n",
       "                <tr>\n",
       "                        <th id=\"T_7b23b_level0_row0\" class=\"row_heading level0 row0\" >Wire 1</th>\n",
       "                        <td id=\"T_7b23b_row0_col0\" class=\"data row0 col0\" >3055.000000</td>\n",
       "                        <td id=\"T_7b23b_row0_col1\" class=\"data row0 col1\" >100.895853</td>\n",
       "                        <td id=\"T_7b23b_row0_col2\" class=\"data row0 col2\" >42.012518</td>\n",
       "                        <td id=\"T_7b23b_row0_col3\" class=\"data row0 col3\" >1.918800</td>\n",
       "                        <td id=\"T_7b23b_row0_col4\" class=\"data row0 col4\" >72.115684</td>\n",
       "                        <td id=\"T_7b23b_row0_col5\" class=\"data row0 col5\" >100.158234</td>\n",
       "                        <td id=\"T_7b23b_row0_col6\" class=\"data row0 col6\" >126.060483</td>\n",
       "                        <td id=\"T_7b23b_row0_col7\" class=\"data row0 col7\" >330.314424</td>\n",
       "            </tr>\n",
       "            <tr>\n",
       "                        <th id=\"T_7b23b_level0_row1\" class=\"row_heading level0 row1\" >Wire 2</th>\n",
       "                        <td id=\"T_7b23b_row1_col0\" class=\"data row1 col0\" >1079.000000</td>\n",
       "                        <td id=\"T_7b23b_row1_col1\" class=\"data row1 col1\" >50.577323</td>\n",
       "                        <td id=\"T_7b23b_row1_col2\" class=\"data row1 col2\" >39.320216</td>\n",
       "                        <td id=\"T_7b23b_row1_col3\" class=\"data row1 col3\" >0.030160</td>\n",
       "                        <td id=\"T_7b23b_row1_col4\" class=\"data row1 col4\" >20.193680</td>\n",
       "                        <td id=\"T_7b23b_row1_col5\" class=\"data row1 col5\" >40.142956</td>\n",
       "                        <td id=\"T_7b23b_row1_col6\" class=\"data row1 col6\" >70.227558</td>\n",
       "                        <td id=\"T_7b23b_row1_col7\" class=\"data row1 col7\" >282.780152</td>\n",
       "            </tr>\n",
       "            <tr>\n",
       "                        <th id=\"T_7b23b_level0_row2\" class=\"row_heading level0 row2\" >Wire 3</th>\n",
       "                        <td id=\"T_7b23b_row2_col0\" class=\"data row2 col0\" >63.000000</td>\n",
       "                        <td id=\"T_7b23b_row2_col1\" class=\"data row2 col1\" >189.482681</td>\n",
       "                        <td id=\"T_7b23b_row2_col2\" class=\"data row2 col2\" >99.513444</td>\n",
       "                        <td id=\"T_7b23b_row2_col3\" class=\"data row2 col3\" >0.144144</td>\n",
       "                        <td id=\"T_7b23b_row2_col4\" class=\"data row2 col4\" >95.135044</td>\n",
       "                        <td id=\"T_7b23b_row2_col5\" class=\"data row2 col5\" >235.194977</td>\n",
       "                        <td id=\"T_7b23b_row2_col6\" class=\"data row2 col6\" >276.252014</td>\n",
       "                        <td id=\"T_7b23b_row2_col7\" class=\"data row2 col7\" >385.008668</td>\n",
       "            </tr>\n",
       "            <tr>\n",
       "                        <th id=\"T_7b23b_level0_row3\" class=\"row_heading level0 row3\" >Wire 4</th>\n",
       "                        <td id=\"T_7b23b_row3_col0\" class=\"data row3 col0\" >14.000000</td>\n",
       "                        <td id=\"T_7b23b_row3_col1\" class=\"data row3 col1\" >57.442841</td>\n",
       "                        <td id=\"T_7b23b_row3_col2\" class=\"data row3 col2\" >28.824667</td>\n",
       "                        <td id=\"T_7b23b_row3_col3\" class=\"data row3 col3\" >24.148801</td>\n",
       "                        <td id=\"T_7b23b_row3_col4\" class=\"data row3 col4\" >40.807002</td>\n",
       "                        <td id=\"T_7b23b_row3_col5\" class=\"data row3 col5\" >45.234282</td>\n",
       "                        <td id=\"T_7b23b_row3_col6\" class=\"data row3 col6\" >76.124619</td>\n",
       "                        <td id=\"T_7b23b_row3_col7\" class=\"data row3 col7\" >113.231044</td>\n",
       "            </tr>\n",
       "            <tr>\n",
       "                        <th id=\"T_7b23b_level0_row4\" class=\"row_heading level0 row4\" >Wire 5</th>\n",
       "                        <td id=\"T_7b23b_row4_col0\" class=\"data row4 col0\" >1.000000</td>\n",
       "                        <td id=\"T_7b23b_row4_col1\" class=\"data row4 col1\" >15.132000</td>\n",
       "                        <td id=\"T_7b23b_row4_col2\" class=\"data row4 col2\" >nan</td>\n",
       "                        <td id=\"T_7b23b_row4_col3\" class=\"data row4 col3\" >15.132000</td>\n",
       "                        <td id=\"T_7b23b_row4_col4\" class=\"data row4 col4\" >15.132000</td>\n",
       "                        <td id=\"T_7b23b_row4_col5\" class=\"data row4 col5\" >15.132000</td>\n",
       "                        <td id=\"T_7b23b_row4_col6\" class=\"data row4 col6\" >15.132000</td>\n",
       "                        <td id=\"T_7b23b_row4_col7\" class=\"data row4 col7\" >15.132000</td>\n",
       "            </tr>\n",
       "            <tr>\n",
       "                        <th id=\"T_7b23b_level0_row5\" class=\"row_heading level0 row5\" >Wire 6</th>\n",
       "                        <td id=\"T_7b23b_row5_col0\" class=\"data row5 col0\" >73.000000</td>\n",
       "                        <td id=\"T_7b23b_row5_col1\" class=\"data row5 col1\" >48.016974</td>\n",
       "                        <td id=\"T_7b23b_row5_col2\" class=\"data row5 col2\" >33.919845</td>\n",
       "                        <td id=\"T_7b23b_row5_col3\" class=\"data row5 col3\" >0.034320</td>\n",
       "                        <td id=\"T_7b23b_row5_col4\" class=\"data row5 col4\" >25.053600</td>\n",
       "                        <td id=\"T_7b23b_row5_col5\" class=\"data row5 col5\" >42.076324</td>\n",
       "                        <td id=\"T_7b23b_row5_col6\" class=\"data row5 col6\" >64.212723</td>\n",
       "                        <td id=\"T_7b23b_row5_col7\" class=\"data row5 col7\" >180.454575</td>\n",
       "            </tr>\n",
       "            <tr>\n",
       "                        <th id=\"T_7b23b_level0_row6\" class=\"row_heading level0 row6\" >Wire 7</th>\n",
       "                        <td id=\"T_7b23b_row6_col0\" class=\"data row6 col0\" >11.000000</td>\n",
       "                        <td id=\"T_7b23b_row6_col1\" class=\"data row6 col1\" >10.039007</td>\n",
       "                        <td id=\"T_7b23b_row6_col2\" class=\"data row6 col2\" >8.610584</td>\n",
       "                        <td id=\"T_7b23b_row6_col3\" class=\"data row6 col3\" >0.234208</td>\n",
       "                        <td id=\"T_7b23b_row6_col4\" class=\"data row6 col4\" >6.762756</td>\n",
       "                        <td id=\"T_7b23b_row6_col5\" class=\"data row6 col5\" >9.017009</td>\n",
       "                        <td id=\"T_7b23b_row6_col6\" class=\"data row6 col6\" >11.886057</td>\n",
       "                        <td id=\"T_7b23b_row6_col7\" class=\"data row6 col7\" >32.847674</td>\n",
       "            </tr>\n",
       "            <tr>\n",
       "                        <th id=\"T_7b23b_level0_row7\" class=\"row_heading level0 row7\" >Wire 8</th>\n",
       "                        <td id=\"T_7b23b_row7_col0\" class=\"data row7 col0\" >19.000000</td>\n",
       "                        <td id=\"T_7b23b_row7_col1\" class=\"data row7 col1\" >53.625193</td>\n",
       "                        <td id=\"T_7b23b_row7_col2\" class=\"data row7 col2\" >16.881728</td>\n",
       "                        <td id=\"T_7b23b_row7_col3\" class=\"data row7 col3\" >45.076721</td>\n",
       "                        <td id=\"T_7b23b_row7_col4\" class=\"data row7 col4\" >46.094879</td>\n",
       "                        <td id=\"T_7b23b_row7_col5\" class=\"data row7 col5\" >46.279999</td>\n",
       "                        <td id=\"T_7b23b_row7_col6\" class=\"data row7 col6\" >48.089603</td>\n",
       "                        <td id=\"T_7b23b_row7_col7\" class=\"data row7 col7\" >102.762401</td>\n",
       "            </tr>\n",
       "            <tr>\n",
       "                        <th id=\"T_7b23b_level0_row8\" class=\"row_heading level0 row8\" >Wire 9</th>\n",
       "                        <td id=\"T_7b23b_row8_col0\" class=\"data row8 col0\" >29.000000</td>\n",
       "                        <td id=\"T_7b23b_row8_col1\" class=\"data row8 col1\" >34.155752</td>\n",
       "                        <td id=\"T_7b23b_row8_col2\" class=\"data row8 col2\" >19.931616</td>\n",
       "                        <td id=\"T_7b23b_row8_col3\" class=\"data row8 col3\" >4.622800</td>\n",
       "                        <td id=\"T_7b23b_row8_col4\" class=\"data row8 col4\" >22.058401</td>\n",
       "                        <td id=\"T_7b23b_row8_col5\" class=\"data row8 col5\" >30.066399</td>\n",
       "                        <td id=\"T_7b23b_row8_col6\" class=\"data row8 col6\" >43.862003</td>\n",
       "                        <td id=\"T_7b23b_row8_col7\" class=\"data row8 col7\" >90.053604</td>\n",
       "            </tr>\n",
       "    </tbody></table>"
      ],
      "text/plain": [
       "<pandas.io.formats.style.Styler at 0x7f573c7638e0>"
      ]
     },
     "metadata": {},
     "output_type": "display_data"
    },
    {
     "name": "stdout",
     "output_type": "stream",
     "text": [
      "---------------------------\n",
      "\u001b[1m\u001b[34mДанные о проволочных материалах (время)\u001b[0m\n"
     ]
    },
    {
     "data": {
      "text/html": [
       "<style  type=\"text/css\" >\n",
       "</style><table id=\"T_d3781_\" ><thead>    <tr>        <th class=\"blank level0\" ></th>        <th class=\"col_heading level0 col0\" >count</th>        <th class=\"col_heading level0 col1\" >unique</th>        <th class=\"col_heading level0 col2\" >top</th>        <th class=\"col_heading level0 col3\" >freq</th>    </tr></thead><tbody>\n",
       "                <tr>\n",
       "                        <th id=\"T_d3781_level0_row0\" class=\"row_heading level0 row0\" >Wire 1</th>\n",
       "                        <td id=\"T_d3781_row0_col0\" class=\"data row0 col0\" >3055</td>\n",
       "                        <td id=\"T_d3781_row0_col1\" class=\"data row0 col1\" >3055</td>\n",
       "                        <td id=\"T_d3781_row0_col2\" class=\"data row0 col2\" >2019-08-20 18:58:54</td>\n",
       "                        <td id=\"T_d3781_row0_col3\" class=\"data row0 col3\" >1</td>\n",
       "            </tr>\n",
       "            <tr>\n",
       "                        <th id=\"T_d3781_level0_row1\" class=\"row_heading level0 row1\" >Wire 2</th>\n",
       "                        <td id=\"T_d3781_row1_col0\" class=\"data row1 col0\" >1079</td>\n",
       "                        <td id=\"T_d3781_row1_col1\" class=\"data row1 col1\" >1079</td>\n",
       "                        <td id=\"T_d3781_row1_col2\" class=\"data row1 col2\" >2019-08-26 20:03:34</td>\n",
       "                        <td id=\"T_d3781_row1_col3\" class=\"data row1 col3\" >1</td>\n",
       "            </tr>\n",
       "            <tr>\n",
       "                        <th id=\"T_d3781_level0_row2\" class=\"row_heading level0 row2\" >Wire 3</th>\n",
       "                        <td id=\"T_d3781_row2_col0\" class=\"data row2 col0\" >63</td>\n",
       "                        <td id=\"T_d3781_row2_col1\" class=\"data row2 col1\" >63</td>\n",
       "                        <td id=\"T_d3781_row2_col2\" class=\"data row2 col2\" >2019-08-08 10:23:01</td>\n",
       "                        <td id=\"T_d3781_row2_col3\" class=\"data row2 col3\" >1</td>\n",
       "            </tr>\n",
       "            <tr>\n",
       "                        <th id=\"T_d3781_level0_row3\" class=\"row_heading level0 row3\" >Wire 4</th>\n",
       "                        <td id=\"T_d3781_row3_col0\" class=\"data row3 col0\" >14</td>\n",
       "                        <td id=\"T_d3781_row3_col1\" class=\"data row3 col1\" >14</td>\n",
       "                        <td id=\"T_d3781_row3_col2\" class=\"data row3 col2\" >2019-05-07 08:48:23</td>\n",
       "                        <td id=\"T_d3781_row3_col3\" class=\"data row3 col3\" >1</td>\n",
       "            </tr>\n",
       "            <tr>\n",
       "                        <th id=\"T_d3781_level0_row4\" class=\"row_heading level0 row4\" >Wire 5</th>\n",
       "                        <td id=\"T_d3781_row4_col0\" class=\"data row4 col0\" >1</td>\n",
       "                        <td id=\"T_d3781_row4_col1\" class=\"data row4 col1\" >1</td>\n",
       "                        <td id=\"T_d3781_row4_col2\" class=\"data row4 col2\" >2019-08-08 16:01:07</td>\n",
       "                        <td id=\"T_d3781_row4_col3\" class=\"data row4 col3\" >1</td>\n",
       "            </tr>\n",
       "            <tr>\n",
       "                        <th id=\"T_d3781_level0_row5\" class=\"row_heading level0 row5\" >Wire 6</th>\n",
       "                        <td id=\"T_d3781_row5_col0\" class=\"data row5 col0\" >73</td>\n",
       "                        <td id=\"T_d3781_row5_col1\" class=\"data row5 col1\" >73</td>\n",
       "                        <td id=\"T_d3781_row5_col2\" class=\"data row5 col2\" >2019-07-24 00:16:25</td>\n",
       "                        <td id=\"T_d3781_row5_col3\" class=\"data row5 col3\" >1</td>\n",
       "            </tr>\n",
       "            <tr>\n",
       "                        <th id=\"T_d3781_level0_row6\" class=\"row_heading level0 row6\" >Wire 7</th>\n",
       "                        <td id=\"T_d3781_row6_col0\" class=\"data row6 col0\" >11</td>\n",
       "                        <td id=\"T_d3781_row6_col1\" class=\"data row6 col1\" >11</td>\n",
       "                        <td id=\"T_d3781_row6_col2\" class=\"data row6 col2\" >2019-08-08 13:05:02</td>\n",
       "                        <td id=\"T_d3781_row6_col3\" class=\"data row6 col3\" >1</td>\n",
       "            </tr>\n",
       "            <tr>\n",
       "                        <th id=\"T_d3781_level0_row7\" class=\"row_heading level0 row7\" >Wire 8</th>\n",
       "                        <td id=\"T_d3781_row7_col0\" class=\"data row7 col0\" >19</td>\n",
       "                        <td id=\"T_d3781_row7_col1\" class=\"data row7 col1\" >19</td>\n",
       "                        <td id=\"T_d3781_row7_col2\" class=\"data row7 col2\" >2019-08-11 12:13:47</td>\n",
       "                        <td id=\"T_d3781_row7_col3\" class=\"data row7 col3\" >1</td>\n",
       "            </tr>\n",
       "            <tr>\n",
       "                        <th id=\"T_d3781_level0_row8\" class=\"row_heading level0 row8\" >Wire 9</th>\n",
       "                        <td id=\"T_d3781_row8_col0\" class=\"data row8 col0\" >29</td>\n",
       "                        <td id=\"T_d3781_row8_col1\" class=\"data row8 col1\" >29</td>\n",
       "                        <td id=\"T_d3781_row8_col2\" class=\"data row8 col2\" >2019-06-07 21:42:24</td>\n",
       "                        <td id=\"T_d3781_row8_col3\" class=\"data row8 col3\" >1</td>\n",
       "            </tr>\n",
       "    </tbody></table>"
      ],
      "text/plain": [
       "<pandas.io.formats.style.Styler at 0x7f573c7ef490>"
      ]
     },
     "metadata": {},
     "output_type": "display_data"
    },
    {
     "name": "stdout",
     "output_type": "stream",
     "text": [
      "---------------------------\n"
     ]
    }
   ],
   "source": [
    "for data in datasets_dict:\n",
    "    print(colored(data, \"blue\", attrs=[\"bold\"]))\n",
    "    display(datasets_dict[data].drop('key', axis=1).describe().T\\\n",
    "            .style.background_gradient(cmap='GnBu'))\n",
    "    print('---------------------------')"
   ]
  },
  {
   "cell_type": "markdown",
   "id": "0101211d",
   "metadata": {
    "id": "0101211d"
   },
   "source": [
    "**Рассмотрим графики:**"
   ]
  },
  {
   "cell_type": "code",
   "execution_count": 7,
   "id": "63a24864",
   "metadata": {
    "colab": {
     "base_uri": "https://localhost:8080/",
     "height": 297
    },
    "executionInfo": {
     "elapsed": 1282,
     "status": "ok",
     "timestamp": 1657015925343,
     "user": {
      "displayName": "Кирилл Ерохин",
      "userId": "09883907194110507041"
     },
     "user_tz": -180
    },
    "id": "63a24864",
    "outputId": "4b57a2dc-6119-4ca3-ab9e-c5d61500f431"
   },
   "outputs": [
    {
     "data": {
      "image/png": "[encoded data removed]",
      "text/plain": [
       "<Figure size 1080x144 with 1 Axes>"
      ]
     },
     "metadata": {
      "needs_background": "light"
     },
     "output_type": "display_data"
    },
    {
     "data": {
      "image/png": "[encoded data removed]",
      "text/plain": [
       "<Figure size 1080x144 with 1 Axes>"
      ]
     },
     "metadata": {
      "needs_background": "light"
     },
     "output_type": "display_data"
    }
   ],
   "source": [
    "plt.figure(figsize=(15, 2))\n",
    "df_arc.boxplot('Активная мощность', vert=False)\n",
    "plt.show()\n",
    "\n",
    "plt.figure(figsize=(15, 2))\n",
    "df_arc.boxplot('Реактивная мощность', vert=False)\n",
    "plt.show()"
   ]
  },
  {
   "cell_type": "markdown",
   "id": "23dbb539",
   "metadata": {
    "id": "23dbb539"
   },
   "source": [
    "Видно сразу, что есть выброс в столбце реактивной мощности. Удалим строку и посмотрим график:"
   ]
  },
  {
   "cell_type": "code",
   "execution_count": 8,
   "id": "e43127cf",
   "metadata": {
    "colab": {
     "base_uri": "https://localhost:8080/",
     "height": 157
    },
    "executionInfo": {
     "elapsed": 4,
     "status": "ok",
     "timestamp": 1657015925343,
     "user": {
      "displayName": "Кирилл Ерохин",
      "userId": "09883907194110507041"
     },
     "user_tz": -180
    },
    "id": "e43127cf",
    "outputId": "53e4bda6-dddc-464b-f512-05b5a58130ac",
    "scrolled": true
   },
   "outputs": [
    {
     "data": {
      "image/png": "[encoded data removed]",
      "text/plain": [
       "<Figure size 1080x144 with 1 Axes>"
      ]
     },
     "metadata": {
      "needs_background": "light"
     },
     "output_type": "display_data"
    }
   ],
   "source": [
    "df_arc = df_arc[df_arc['Реактивная мощность']>=0]\n",
    "\n",
    "plt.figure(figsize=(15, 2))\n",
    "df_arc.boxplot('Реактивная мощность', vert=False)\n",
    "plt.show()"
   ]
  },
  {
   "cell_type": "markdown",
   "id": "1ccc6fa2",
   "metadata": {
    "id": "1ccc6fa2"
   },
   "source": [
    "Рассмотрим плотность распределения:"
   ]
  },
  {
   "cell_type": "code",
   "execution_count": 9,
   "id": "0986678a",
   "metadata": {
    "colab": {
     "base_uri": "https://localhost:8080/",
     "height": 1000
    },
    "executionInfo": {
     "elapsed": 2064,
     "status": "ok",
     "timestamp": 1657015927404,
     "user": {
      "displayName": "Кирилл Ерохин",
      "userId": "09883907194110507041"
     },
     "user_tz": -180
    },
    "id": "0986678a",
    "outputId": "64669521-9884-496b-fcdd-e5cee0eec60b"
   },
   "outputs": [
    {
     "data": {
      "image/png": "[encoded data removed]",
      "text/plain": [
       "<Figure size 1080x720 with 1 Axes>"
      ]
     },
     "metadata": {
      "needs_background": "light"
     },
     "output_type": "display_data"
    },
    {
     "data": {
      "image/png": "[encoded data removed]",
      "text/plain": [
       "<Figure size 1080x720 with 1 Axes>"
      ]
     },
     "metadata": {
      "needs_background": "light"
     },
     "output_type": "display_data"
    }
   ],
   "source": [
    "plt.figure(figsize=(15,10))\n",
    "sns.histplot(df_arc['Активная мощность'], kde=True, line_kws={'linewidth':5})\n",
    "plt.show()\n",
    "\n",
    "plt.figure(figsize=(15,10))\n",
    "sns.histplot(df_arc['Реактивная мощность'], kde=True, line_kws={'linewidth':5})\n",
    "plt.show()"
   ]
  },
  {
   "cell_type": "markdown",
   "id": "8d3650a7",
   "metadata": {
    "id": "8d3650a7"
   },
   "source": [
    "Как видно из графиков, есть значения, которые уходят от нормального распределения. У заказчика необходимо выяснить, являются ли эти значения выбросами или такая подача мощностей была необходима для очистки стали. "
   ]
  },
  {
   "cell_type": "markdown",
   "id": "a6ffe299",
   "metadata": {
    "id": "a6ffe299"
   },
   "source": [
    "**Рассмотрим таблицы подачи материалов при плавке:**"
   ]
  },
  {
   "cell_type": "code",
   "execution_count": 10,
   "id": "e68f2f63",
   "metadata": {
    "colab": {
     "base_uri": "https://localhost:8080/",
     "height": 863
    },
    "executionInfo": {
     "elapsed": 958,
     "status": "ok",
     "timestamp": 1657015928359,
     "user": {
      "displayName": "Кирилл Ерохин",
      "userId": "09883907194110507041"
     },
     "user_tz": -180
    },
    "id": "e68f2f63",
    "outputId": "f6763f55-2748-4408-aac4-96e501833b0e"
   },
   "outputs": [
    {
     "data": {
      "image/png": "[encoded data removed]",
      "text/plain": [
       "<Figure size 1080x1080 with 1 Axes>"
      ]
     },
     "metadata": {
      "needs_background": "light"
     },
     "output_type": "display_data"
    }
   ],
   "source": [
    "plt.figure(figsize=(15, 15))\n",
    "df_bulk.boxplot([col for col in df_bulk.columns if col != 'key'], vert=False)\n",
    "plt.show()"
   ]
  },
  {
   "cell_type": "code",
   "execution_count": 11,
   "id": "6591d713",
   "metadata": {
    "colab": {
     "base_uri": "https://localhost:8080/",
     "height": 863
    },
    "executionInfo": {
     "elapsed": 905,
     "status": "ok",
     "timestamp": 1657015929263,
     "user": {
      "displayName": "Кирилл Ерохин",
      "userId": "09883907194110507041"
     },
     "user_tz": -180
    },
    "id": "6591d713",
    "outputId": "1a4933f5-2759-4498-c0a9-9f9f7f82a776"
   },
   "outputs": [
    {
     "data": {
      "image/png": "[encoded data removed]",
      "text/plain": [
       "<Figure size 1080x1080 with 1 Axes>"
      ]
     },
     "metadata": {
      "needs_background": "light"
     },
     "output_type": "display_data"
    }
   ],
   "source": [
    "plt.figure(figsize=(15, 15))\n",
    "df_wire.boxplot([col for col in df_wire.columns if col != 'key'], vert=False)\n",
    "plt.show()"
   ]
  },
  {
   "cell_type": "markdown",
   "id": "459301a8",
   "metadata": {
    "id": "459301a8"
   },
   "source": [
    "Как видно из ящиков с усами:\n",
    "\n",
    "В таблице `df_bulk`:\n",
    "* Почти все столбцы с небольшимы выбросами (данные за усами)\n",
    "* `Bulk 8`  добавляли лишь единожды. Возможно такими данными можно пренебречь.\n",
    "* `Bulk 12` есть аномально большое значение. Думаю такую строку можно исключить, чтобы не исказить модель.\n",
    "\n",
    "В таблице `df_wire`:\n",
    "* Почти все столбцы с небольшимы выбросами (данные за усами).\n",
    "* в `Wire 1` `Wire 2` есть аномальные значения. Думаю такие строки можно исключить, чтобы не исказить модель.\n",
    "* `Wire 5`  добавляли лишь единожды. Возможно такими данными можно пренебречь.\n",
    "\n",
    "Общий итог:\n",
    "* Есть некоторые материалы, которые добавляли очень редко, нужно рассмотреть, как повлияет исключение таких столбцов на модель.\n",
    "* Нужно выбрать максимальное количество материала, которое добавляют и исключить данные по столбцам, которые будут считаться выбросами. \n",
    "* Пропуска можно заполнить значением `0`\n",
    "* Нужно уточнить - можно ли использовать итоговый объём по столбцам и так же проверить, как повлияет это на итоговую модель."
   ]
  },
  {
   "cell_type": "markdown",
   "id": "42e6c95b",
   "metadata": {
    "id": "42e6c95b"
   },
   "source": [
    "**Рассмотрим подачу газа:**"
   ]
  },
  {
   "cell_type": "code",
   "execution_count": 12,
   "id": "e1d8788d",
   "metadata": {
    "colab": {
     "base_uri": "https://localhost:8080/",
     "height": 157
    },
    "executionInfo": {
     "elapsed": 384,
     "status": "ok",
     "timestamp": 1657015929645,
     "user": {
      "displayName": "Кирилл Ерохин",
      "userId": "09883907194110507041"
     },
     "user_tz": -180
    },
    "id": "e1d8788d",
    "outputId": "a81445c1-cb65-44b0-85ca-879f5fa0d9e2"
   },
   "outputs": [
    {
     "data": {
      "image/png": "[encoded data removed]",
      "text/plain": [
       "<Figure size 1080x144 with 1 Axes>"
      ]
     },
     "metadata": {
      "needs_background": "light"
     },
     "output_type": "display_data"
    }
   ],
   "source": [
    "plt.figure(figsize=(15, 2))\n",
    "df_gas.boxplot('Газ 1', vert=False)\n",
    "plt.show()"
   ]
  },
  {
   "cell_type": "code",
   "execution_count": 13,
   "id": "1c7db92e",
   "metadata": {
    "colab": {
     "base_uri": "https://localhost:8080/",
     "height": 606
    },
    "executionInfo": {
     "elapsed": 1489,
     "status": "ok",
     "timestamp": 1657015931131,
     "user": {
      "displayName": "Кирилл Ерохин",
      "userId": "09883907194110507041"
     },
     "user_tz": -180
    },
    "id": "1c7db92e",
    "outputId": "fcbda14b-a393-49f6-d562-2a4700ad5834"
   },
   "outputs": [
    {
     "data": {
      "image/png": "[encoded data removed]",
      "text/plain": [
       "<Figure size 1080x720 with 1 Axes>"
      ]
     },
     "metadata": {
      "needs_background": "light"
     },
     "output_type": "display_data"
    }
   ],
   "source": [
    "plt.figure(figsize=(15,10))\n",
    "sns.histplot(df_gas['Газ 1'], kde=True, line_kws={'linewidth':5})\n",
    "plt.show()"
   ]
  },
  {
   "cell_type": "markdown",
   "id": "084d6849",
   "metadata": {
    "id": "084d6849"
   },
   "source": [
    "**Исходя из графиков:**\n",
    "\n",
    "В подаче газа есть выбросы, предположительно значения выше 40. Может это реальные данные. Нужно уточнить у заказчика."
   ]
  },
  {
   "cell_type": "markdown",
   "id": "68582c3c",
   "metadata": {
    "id": "68582c3c"
   },
   "source": [
    "**Рассмотрим измерение температуры:**"
   ]
  },
  {
   "cell_type": "code",
   "execution_count": 14,
   "id": "2318b879",
   "metadata": {
    "colab": {
     "base_uri": "https://localhost:8080/",
     "height": 157
    },
    "executionInfo": {
     "elapsed": 4,
     "status": "ok",
     "timestamp": 1657015931132,
     "user": {
      "displayName": "Кирилл Ерохин",
      "userId": "09883907194110507041"
     },
     "user_tz": -180
    },
    "id": "2318b879",
    "outputId": "284af527-7847-45d3-e2e0-5567c944e5cf"
   },
   "outputs": [
    {
     "data": {
      "image/png": "[encoded data removed]",
      "text/plain": [
       "<Figure size 1080x144 with 1 Axes>"
      ]
     },
     "metadata": {
      "needs_background": "light"
     },
     "output_type": "display_data"
    }
   ],
   "source": [
    "plt.figure(figsize=(15, 2))\n",
    "df_temp.boxplot('Температура', vert=False)\n",
    "plt.show()"
   ]
  },
  {
   "cell_type": "code",
   "execution_count": 15,
   "id": "a6238b48",
   "metadata": {
    "colab": {
     "base_uri": "https://localhost:8080/",
     "height": 606
    },
    "executionInfo": {
     "elapsed": 1924,
     "status": "ok",
     "timestamp": 1657015933053,
     "user": {
      "displayName": "Кирилл Ерохин",
      "userId": "09883907194110507041"
     },
     "user_tz": -180
    },
    "id": "a6238b48",
    "outputId": "9f1a0ddd-2528-4104-f2c4-33fde31b3764"
   },
   "outputs": [
    {
     "data": {
      "image/png": "[encoded data removed]",
      "text/plain": [
       "<Figure size 1080x720 with 1 Axes>"
      ]
     },
     "metadata": {
      "needs_background": "light"
     },
     "output_type": "display_data"
    }
   ],
   "source": [
    "plt.figure(figsize=(15,10))\n",
    "sns.histplot(df_temp['Температура'], kde=True, line_kws={'linewidth':5})\n",
    "plt.show()"
   ]
  },
  {
   "cell_type": "markdown",
   "id": "bc859c3c",
   "metadata": {
    "id": "bc859c3c"
   },
   "source": [
    "**Исходя из графиков:**\n",
    "\n",
    "Температура плавления стали от 1350 до 1535, соотвественно, есть значения, которые значительно ниже. Значения выше 1350 можно оставить."
   ]
  },
  {
   "cell_type": "markdown",
   "id": "c228b9d5",
   "metadata": {
    "id": "c228b9d5"
   },
   "source": [
    "### Общий вывод:"
   ]
  },
  {
   "cell_type": "markdown",
   "id": "741f8e17",
   "metadata": {
    "id": "741f8e17"
   },
   "source": [
    "Исходя из исследования выше:\n",
    "\n",
    "* В некоторых таблицах есть данные, которые можно посчитать за выбросы. \n",
    "* В целевом значении есть пустые строки.\n",
    "* Есть некоторые материалы для плавления, которые добавляли очень редко, нужно рассмотреть, как повлияет исключение таких столбцов на модель.\n",
    "* Нужно выбрать максимальное количество материала, которое добавляют и исключить данные по столбцам, которые будут считаться выбросами. \n",
    "* В таблицах добавления материалов пропуска можно заполнить значением `0` \n",
    "* Нужно уточнить - можно ли использовать итоговый объём по материалам и так же проверить, как повлияет это на итоговую модель.\n",
    "* В подаче газа есть выбросы, предположительно значения выше 40. Может это реальные данные. Нужно уточнить у заказчика.\n",
    "* В температуре есть значения сильно ниже плавления стали ими можно пренебречь, как аномальными, значения выше 1350 можно оставить."
   ]
  },
  {
   "cell_type": "markdown",
   "id": "663d4de9",
   "metadata": {
    "id": "663d4de9"
   },
   "source": [
    "## Проверка адекватности исследования"
   ]
  },
  {
   "cell_type": "markdown",
   "id": "dfba393b",
   "metadata": {
    "id": "dfba393b"
   },
   "source": [
    "Прежде, чем приступать к объединению таблиц, необходимо проверить на адекватность данные: в частности, сделать таблицу с итоговым значением температуры (целевое значение) и сравнить время конечного измерения температуры с остальными таблицами в которых так же указано время:\n",
    "\n",
    "* время подачи материала для плавления по двум таблицам\n",
    "* время нагрева\n",
    "\n",
    "Для адекватности нужно точно понимать, что конечное измерение температуры было произведено **ПОСЛЕ** всех этапов нагрева и подачи всех материлов.\n",
    "\n",
    "Начнем проверку:"
   ]
  },
  {
   "cell_type": "markdown",
   "id": "cccebb8d",
   "metadata": {
    "id": "cccebb8d"
   },
   "source": [
    "Таблицу `df_temp` с целевой метрикой преобразуем и найдем целевую - последнее измерение температуры, а так же сохраним данные о первом измерении, как дополнительном параметре:"
   ]
  },
  {
   "cell_type": "code",
   "execution_count": 16,
   "id": "bff42ec7",
   "metadata": {
    "colab": {
     "base_uri": "https://localhost:8080/",
     "height": 424
    },
    "executionInfo": {
     "elapsed": 8,
     "status": "ok",
     "timestamp": 1657015933054,
     "user": {
      "displayName": "Кирилл Ерохин",
      "userId": "09883907194110507041"
     },
     "user_tz": -180
    },
    "id": "bff42ec7",
    "outputId": "6035a25c-43db-422a-8fef-04b3cb16e41a"
   },
   "outputs": [
    {
     "data": {
      "text/html": [
       "<div>\n",
       "<style scoped>\n",
       "    .dataframe tbody tr th:only-of-type {\n",
       "        vertical-align: middle;\n",
       "    }\n",
       "\n",
       "    .dataframe tbody tr th {\n",
       "        vertical-align: top;\n",
       "    }\n",
       "\n",
       "    .dataframe thead th {\n",
       "        text-align: right;\n",
       "    }\n",
       "</style>\n",
       "<table border=\"1\" class=\"dataframe\">\n",
       "  <thead>\n",
       "    <tr style=\"text-align: right;\">\n",
       "      <th></th>\n",
       "      <th>key</th>\n",
       "      <th>time_first</th>\n",
       "      <th>temp_first</th>\n",
       "      <th>time_last</th>\n",
       "      <th>temp_last</th>\n",
       "    </tr>\n",
       "  </thead>\n",
       "  <tbody>\n",
       "    <tr>\n",
       "      <th>0</th>\n",
       "      <td>1</td>\n",
       "      <td>2019-05-03 11:16:18</td>\n",
       "      <td>1571.0</td>\n",
       "      <td>2019-05-03 11:30:39</td>\n",
       "      <td>1613.0</td>\n",
       "    </tr>\n",
       "    <tr>\n",
       "      <th>1</th>\n",
       "      <td>2</td>\n",
       "      <td>2019-05-03 11:37:27</td>\n",
       "      <td>1581.0</td>\n",
       "      <td>2019-05-03 11:59:12</td>\n",
       "      <td>1602.0</td>\n",
       "    </tr>\n",
       "    <tr>\n",
       "      <th>2</th>\n",
       "      <td>3</td>\n",
       "      <td>2019-05-03 12:13:17</td>\n",
       "      <td>1596.0</td>\n",
       "      <td>2019-05-03 12:34:57</td>\n",
       "      <td>1599.0</td>\n",
       "    </tr>\n",
       "    <tr>\n",
       "      <th>3</th>\n",
       "      <td>4</td>\n",
       "      <td>2019-05-03 12:52:57</td>\n",
       "      <td>1601.0</td>\n",
       "      <td>2019-05-03 12:59:25</td>\n",
       "      <td>1625.0</td>\n",
       "    </tr>\n",
       "    <tr>\n",
       "      <th>4</th>\n",
       "      <td>5</td>\n",
       "      <td>2019-05-03 13:23:19</td>\n",
       "      <td>1576.0</td>\n",
       "      <td>2019-05-03 13:36:01</td>\n",
       "      <td>1602.0</td>\n",
       "    </tr>\n",
       "    <tr>\n",
       "      <th>...</th>\n",
       "      <td>...</td>\n",
       "      <td>...</td>\n",
       "      <td>...</td>\n",
       "      <td>...</td>\n",
       "      <td>...</td>\n",
       "    </tr>\n",
       "    <tr>\n",
       "      <th>3211</th>\n",
       "      <td>3237</td>\n",
       "      <td>2019-08-31 22:44:04</td>\n",
       "      <td>1569.0</td>\n",
       "      <td>2019-08-31 23:05:43</td>\n",
       "      <td>NaN</td>\n",
       "    </tr>\n",
       "    <tr>\n",
       "      <th>3212</th>\n",
       "      <td>3238</td>\n",
       "      <td>2019-08-31 23:30:31</td>\n",
       "      <td>1584.0</td>\n",
       "      <td>2019-08-31 23:43:00</td>\n",
       "      <td>NaN</td>\n",
       "    </tr>\n",
       "    <tr>\n",
       "      <th>3213</th>\n",
       "      <td>3239</td>\n",
       "      <td>2019-09-01 01:31:47</td>\n",
       "      <td>1598.0</td>\n",
       "      <td>2019-09-01 02:24:15</td>\n",
       "      <td>NaN</td>\n",
       "    </tr>\n",
       "    <tr>\n",
       "      <th>3214</th>\n",
       "      <td>3240</td>\n",
       "      <td>2019-09-01 02:39:01</td>\n",
       "      <td>1617.0</td>\n",
       "      <td>2019-09-01 03:35:16</td>\n",
       "      <td>NaN</td>\n",
       "    </tr>\n",
       "    <tr>\n",
       "      <th>3215</th>\n",
       "      <td>3241</td>\n",
       "      <td>2019-09-01 04:03:30</td>\n",
       "      <td>1586.0</td>\n",
       "      <td>2019-09-01 04:38:08</td>\n",
       "      <td>NaN</td>\n",
       "    </tr>\n",
       "  </tbody>\n",
       "</table>\n",
       "<p>3216 rows × 5 columns</p>\n",
       "</div>"
      ],
      "text/plain": [
       "       key          time_first  temp_first           time_last  temp_last\n",
       "0        1 2019-05-03 11:16:18      1571.0 2019-05-03 11:30:39     1613.0\n",
       "1        2 2019-05-03 11:37:27      1581.0 2019-05-03 11:59:12     1602.0\n",
       "2        3 2019-05-03 12:13:17      1596.0 2019-05-03 12:34:57     1599.0\n",
       "3        4 2019-05-03 12:52:57      1601.0 2019-05-03 12:59:25     1625.0\n",
       "4        5 2019-05-03 13:23:19      1576.0 2019-05-03 13:36:01     1602.0\n",
       "...    ...                 ...         ...                 ...        ...\n",
       "3211  3237 2019-08-31 22:44:04      1569.0 2019-08-31 23:05:43        NaN\n",
       "3212  3238 2019-08-31 23:30:31      1584.0 2019-08-31 23:43:00        NaN\n",
       "3213  3239 2019-09-01 01:31:47      1598.0 2019-09-01 02:24:15        NaN\n",
       "3214  3240 2019-09-01 02:39:01      1617.0 2019-09-01 03:35:16        NaN\n",
       "3215  3241 2019-09-01 04:03:30      1586.0 2019-09-01 04:38:08        NaN\n",
       "\n",
       "[3216 rows x 5 columns]"
      ]
     },
     "execution_count": 16,
     "metadata": {},
     "output_type": "execute_result"
    }
   ],
   "source": [
    "# преобразовываем в нужный формат\n",
    "df_temp['Время замера'] = pd.to_datetime(df_temp['Время замера'], format='%Y-%m-%d %H:%M:%S')\n",
    "\n",
    "# создаём сводную таблицу с первым измерением, для дальнейшего исследования\n",
    "df_temp_last = df_temp.groupby('key').agg('max')['Время замера']\n",
    "df_temp_last = pd.DataFrame(df_temp_last)\n",
    "df_temp_last = df_temp_last.merge(df_temp, on='Время замера', how='left')\n",
    "df_temp_last.set_axis(['time_last','key','temp_last'], axis = 'columns', inplace = True)\n",
    "\n",
    "# создаём сводную таблицу с последним измерением, целевой метрикой \n",
    "df_temp_first = df_temp.groupby('key').agg('min')['Время замера']\n",
    "df_temp_first = pd.DataFrame(df_temp_first)\n",
    "df_temp_first = df_temp_first.merge(df_temp, on='Время замера', how='left')\n",
    "df_temp_first.set_axis(['time_first','key','temp_first'], axis = 'columns', inplace = True)\n",
    "\n",
    "# объединяем таблицы\n",
    "df = df_temp_first.merge(df_temp_last, on='key', how='left')\\\n",
    "                  .reindex(columns=['key', 'time_first', 'temp_first', 'time_last', 'temp_last'])\n",
    "\n",
    "# сохраним список с пустыми значениями целевой метрики\n",
    "keys_with_na = list(df[df['temp_last'].isna()]['key'])\n",
    "keys_not_na = list(df[~df['temp_last'].isna()]['key'])\n",
    "\n",
    "# посмотрим таблицу\n",
    "df"
   ]
  },
  {
   "cell_type": "code",
   "execution_count": 17,
   "id": "4096426e",
   "metadata": {
    "colab": {
     "base_uri": "https://localhost:8080/"
    },
    "executionInfo": {
     "elapsed": 7,
     "status": "ok",
     "timestamp": 1657015933054,
     "user": {
      "displayName": "Кирилл Ерохин",
      "userId": "09883907194110507041"
     },
     "user_tz": -180
    },
    "id": "4096426e",
    "outputId": "2bdc15a9-5dcb-4772-871c-200787b6eecf"
   },
   "outputs": [
    {
     "data": {
      "text/plain": [
       "739"
      ]
     },
     "execution_count": 17,
     "metadata": {},
     "output_type": "execute_result"
    }
   ],
   "source": [
    "df['temp_last'].isna().sum()"
   ]
  },
  {
   "cell_type": "code",
   "execution_count": 18,
   "id": "bbb83a63",
   "metadata": {
    "executionInfo": {
     "elapsed": 6,
     "status": "ok",
     "timestamp": 1657015933055,
     "user": {
      "displayName": "Кирилл Ерохин",
      "userId": "09883907194110507041"
     },
     "user_tz": -180
    },
    "id": "bbb83a63"
   },
   "outputs": [],
   "source": [
    "df = df.dropna()"
   ]
  },
  {
   "cell_type": "markdown",
   "id": "1e2ba18d",
   "metadata": {
    "id": "1e2ba18d"
   },
   "source": [
    "Как видно из таблицы, у целевой метрики есть пропуски. Неизвестно, можно ли заполнить такие значения. Если нет - такие строки проще удалить.\n",
    "\n",
    "Так же удалим те строки, где первое измерение равно последнему, чтобы не допустить утечки данных."
   ]
  },
  {
   "cell_type": "code",
   "execution_count": 19,
   "id": "d15e68d0",
   "metadata": {},
   "outputs": [],
   "source": [
    "df = df[df['temp_first'] != df['temp_last']]"
   ]
  },
  {
   "cell_type": "markdown",
   "id": "a35c1d79",
   "metadata": {
    "id": "a35c1d79"
   },
   "source": [
    "Создадим функции для проверки адекватности и вывода строк, которые не прошли проверку:"
   ]
  },
  {
   "cell_type": "code",
   "execution_count": 20,
   "id": "a6e10236",
   "metadata": {
    "executionInfo": {
     "elapsed": 6,
     "status": "ok",
     "timestamp": 1657015933055,
     "user": {
      "displayName": "Кирилл Ерохин",
      "userId": "09883907194110507041"
     },
     "user_tz": -180
    },
    "id": "a6e10236"
   },
   "outputs": [],
   "source": [
    "# проверка адекватности построчно\n",
    "\n",
    "def check_time(row):\n",
    "    return row['time_last'] == row['max_time']"
   ]
  },
  {
   "cell_type": "code",
   "execution_count": 21,
   "id": "Em9DAcfwJ2p9",
   "metadata": {
    "executionInfo": {
     "elapsed": 5,
     "status": "ok",
     "timestamp": 1657015933055,
     "user": {
      "displayName": "Кирилл Ерохин",
      "userId": "09883907194110507041"
     },
     "user_tz": -180
    },
    "id": "Em9DAcfwJ2p9"
   },
   "outputs": [],
   "source": [
    "'''\n",
    "Функция для объединения таблиц и проверки адекватности с выводом строк, не соответсвующих значению,\n",
    "так как используются только три оставшиеся таблицы со временем, объединим их всех с таблицей с таблицей\n",
    "где есть целевая метрика и получим список ключей, которые не прошли адекватность\n",
    "'''\n",
    "\n",
    "def list_of_errors(list_of_data):\n",
    "    data = df[['key', 'time_last']].merge(list_of_data[0], on='key', how='left')\n",
    "    for dataset in list_of_data[1:]:\n",
    "        data = data.merge(dataset, on='key', how='left')\n",
    "    data['max_time'] = data.drop('key', axis=1).max(axis=1)\n",
    "    data['check_error'] = data.apply(check_time, axis=1)\n",
    "    keys = list(data[data['check_error'] == 0]['key'])\n",
    "    return keys"
   ]
  },
  {
   "cell_type": "code",
   "execution_count": 22,
   "id": "95af32f3",
   "metadata": {
    "executionInfo": {
     "elapsed": 349,
     "status": "ok",
     "timestamp": 1657015933399,
     "user": {
      "displayName": "Кирилл Ерохин",
      "userId": "09883907194110507041"
     },
     "user_tz": -180
    },
    "id": "95af32f3"
   },
   "outputs": [],
   "source": [
    "# преобразуем данные в datetime\n",
    "df_arc['Конец нагрева дугой'] = pd.to_datetime(df_arc['Конец нагрева дугой'], format='%Y-%m-%d %H:%M:%S')\n",
    "df_arc['Начало нагрева дугой'] = pd.to_datetime(df_arc['Начало нагрева дугой'], format='%Y-%m-%d %H:%M:%S')\n",
    "\n",
    "for col in df_bulk_time:\n",
    "    if col != 'key':\n",
    "        df_bulk_time[col] = pd.to_datetime(df_bulk_time[col], format='%Y-%m-%d %H:%M:%S')\n",
    "        \n",
    "for col in df_wire_time:\n",
    "    if col != 'key':\n",
    "        df_wire_time[col] = pd.to_datetime(df_wire_time[col], format='%Y-%m-%d %H:%M:%S')\n",
    "\n",
    "# создадим сводную таблицу, где есть последнее время нагрева \n",
    "df_arc_maxtime = pd.DataFrame(df_arc.groupby('key').agg('max')['Конец нагрева дугой'])\n",
    "df_arc_maxtime.reset_index(inplace=True)"
   ]
  },
  {
   "cell_type": "code",
   "execution_count": 23,
   "id": "ba947c10",
   "metadata": {
    "colab": {
     "base_uri": "https://localhost:8080/"
    },
    "executionInfo": {
     "elapsed": 637,
     "status": "ok",
     "timestamp": 1657015934035,
     "user": {
      "displayName": "Кирилл Ерохин",
      "userId": "09883907194110507041"
     },
     "user_tz": -180
    },
    "id": "ba947c10",
    "outputId": "1a080157-52fb-45ae-a5de-c71c0deb27d6"
   },
   "outputs": [
    {
     "data": {
      "text/plain": [
       "134"
      ]
     },
     "execution_count": 23,
     "metadata": {},
     "output_type": "execute_result"
    }
   ],
   "source": [
    "df_with_time = [df_arc_maxtime, df_bulk_time, df_wire_time]\n",
    "keys_errors = list_of_errors(df_with_time)\n",
    "\n",
    "len(keys_errors)"
   ]
  },
  {
   "cell_type": "markdown",
   "id": "de76b34a",
   "metadata": {
    "id": "de76b34a"
   },
   "source": [
    "### Вывод\n",
    "\n",
    "На адекватность не прошли 173 строки. Такие строки, можно исключить при дальнейшем объединении и использовании модели."
   ]
  },
  {
   "cell_type": "markdown",
   "id": "07af400b",
   "metadata": {
    "id": "07af400b"
   },
   "source": [
    "## Список вопросов заказчику:"
   ]
  },
  {
   "cell_type": "markdown",
   "id": "3c9d277a",
   "metadata": {
    "id": "3c9d277a"
   },
   "source": [
    "Прежде, чем объединять таблицы и заполнять пропуски/удалять аномалии/добавлять параметры, необходимо уточнить следующие вопросы:\n",
    "\n",
    "1. Являются ли ошибкой выгрузки данных то, что иногда целевая температура замеряется еще до подачи материалов/нагрева? 173 строки не прошли таким образом адекватность, стоит ли их исключить или мне могут предоставить дополнительные данные?\n",
    "2. При добавлении материалов, какие значения можно считать выбросами? Стоит ли исключить те строки, в которых значения уходят за нормальное распределение и ящиков с усами?\n",
    "3. Для добавления дополнительных параметров: стоит рассчитать общую мощность или лучше уже рассчитать энергию (мощность на дельту времени)? Или даже оба параметра оставить?\n",
    "4. Можно ли исключить те материалы, которые добавляли слишком редко? Или лучше взять общее количество материала по отдельности: Bulk и Wire, а может вообще общую сумму по ковшу?\n",
    "5. Если в целевой метрике нет значений - стоит ли их заполнять медианной по ковшу? Просто их приблизительно 700, что сильно уменьшает количество данных. Но, думаю, может произойти утечка данных из-за того, что будем первое измерение оставлять.\n",
    "6. Может, стоит добавить еще дополнительные параметры - количество нагревов, например, или количество различных добавок по столбцам Wire и Bulk? Или стоит просто рассмотреть все способы и уже просто удалять те столбцы, которые будут сильно коррелировать с остальными или выдавать низкую метрику?\n",
    "7. Что еще стоит рассмотреть в таких данных? Что добавить и что удалить?\n",
    "\n",
    "Прошу так же рассмотреть исследование и дать замечания. А так же, по возможности, дополнить выводы."
   ]
  },
  {
   "cell_type": "markdown",
   "id": "62nUIwp0cGSp",
   "metadata": {
    "id": "62nUIwp0cGSp"
   },
   "source": [
    "## Добавление дополнительных параметров и объединение таблиц"
   ]
  },
  {
   "cell_type": "markdown",
   "id": "cf17a1f0",
   "metadata": {
    "id": "cf17a1f0"
   },
   "source": [
    "\n",
    "Исключим те партии, которые не прошли адкватность, во всех таблицах, необходимых в объединении:"
   ]
  },
  {
   "cell_type": "code",
   "execution_count": 24,
   "id": "bf5630f8",
   "metadata": {
    "executionInfo": {
     "elapsed": 3,
     "status": "ok",
     "timestamp": 1657015934035,
     "user": {
      "displayName": "Кирилл Ерохин",
      "userId": "09883907194110507041"
     },
     "user_tz": -180
    },
    "id": "bf5630f8"
   },
   "outputs": [],
   "source": [
    "df = df[~df['key'].isin(keys_errors)]\n",
    "df_wire = df_wire[~df_wire['key'].isin(keys_errors)]\n",
    "df_bulk = df_bulk[~df_bulk['key'].isin(keys_errors)]\n",
    "df_arc = df_arc[~df_arc['key'].isin(keys_errors)]\n",
    "df_gas = df_gas[~df_gas['key'].isin(keys_errors)]"
   ]
  },
  {
   "cell_type": "markdown",
   "id": "8_6YBYwLbI2k",
   "metadata": {
    "id": "8_6YBYwLbI2k"
   },
   "source": [
    "**Прежде, чем объединять таблицы, добавим дополнительные параметры.**\n",
    "\n",
    "А так же удалим те параметры, которые будут коррелировать с остальными на более, чем 0.8 по коэффициенту Пирсона."
   ]
  },
  {
   "cell_type": "markdown",
   "id": "a36f5104",
   "metadata": {
    "id": "a36f5104"
   },
   "source": [
    "Начнем с таблицы `Данные об электродах`:\n",
    "\n",
    "Исходя из физики, полная мощность рассчитывается по формуле:"
   ]
  },
  {
   "cell_type": "markdown",
   "id": "c6ec746d",
   "metadata": {
    "id": "c6ec746d"
   },
   "source": [
    "$$\n",
    "S = \\sqrt{Q^2 + P^2}\n",
    "$$\n",
    "\n",
    "**где:**\n",
    "\n",
    "* S - полная мощность\n",
    "* Q - активная мощность\n",
    "* p - реактивная мощность\n",
    "\n",
    "И дополним расчет полным временем нагрева, а так же посчитаем **энергию** - Время нагрева умноженная на полную мощность."
   ]
  },
  {
   "cell_type": "code",
   "execution_count": 25,
   "id": "bQgEXEf6UZMd",
   "metadata": {
    "colab": {
     "base_uri": "https://localhost:8080/",
     "height": 485
    },
    "executionInfo": {
     "elapsed": 391,
     "status": "ok",
     "timestamp": 1657015934424,
     "user": {
      "displayName": "Кирилл Ерохин",
      "userId": "09883907194110507041"
     },
     "user_tz": -180
    },
    "id": "bQgEXEf6UZMd",
    "outputId": "64902d9d-d280-4ff6-8693-5071716af06a"
   },
   "outputs": [
    {
     "data": {
      "text/html": [
       "<div>\n",
       "<style scoped>\n",
       "    .dataframe tbody tr th:only-of-type {\n",
       "        vertical-align: middle;\n",
       "    }\n",
       "\n",
       "    .dataframe tbody tr th {\n",
       "        vertical-align: top;\n",
       "    }\n",
       "\n",
       "    .dataframe thead th {\n",
       "        text-align: right;\n",
       "    }\n",
       "</style>\n",
       "<table border=\"1\" class=\"dataframe\">\n",
       "  <thead>\n",
       "    <tr style=\"text-align: right;\">\n",
       "      <th></th>\n",
       "      <th>key</th>\n",
       "      <th>Начало нагрева дугой</th>\n",
       "      <th>Конец нагрева дугой</th>\n",
       "      <th>Активная мощность</th>\n",
       "      <th>Реактивная мощность</th>\n",
       "      <th>Полная мощность</th>\n",
       "      <th>Время нагрева</th>\n",
       "      <th>Энергия</th>\n",
       "    </tr>\n",
       "  </thead>\n",
       "  <tbody>\n",
       "    <tr>\n",
       "      <th>0</th>\n",
       "      <td>1</td>\n",
       "      <td>2019-05-03 11:02:14</td>\n",
       "      <td>2019-05-03 11:06:02</td>\n",
       "      <td>0.976059</td>\n",
       "      <td>0.687084</td>\n",
       "      <td>1.193639</td>\n",
       "      <td>228</td>\n",
       "      <td>272.149755</td>\n",
       "    </tr>\n",
       "    <tr>\n",
       "      <th>1</th>\n",
       "      <td>1</td>\n",
       "      <td>2019-05-03 11:07:28</td>\n",
       "      <td>2019-05-03 11:10:33</td>\n",
       "      <td>0.805607</td>\n",
       "      <td>0.520285</td>\n",
       "      <td>0.959010</td>\n",
       "      <td>185</td>\n",
       "      <td>177.416785</td>\n",
       "    </tr>\n",
       "    <tr>\n",
       "      <th>2</th>\n",
       "      <td>1</td>\n",
       "      <td>2019-05-03 11:11:44</td>\n",
       "      <td>2019-05-03 11:14:36</td>\n",
       "      <td>0.744363</td>\n",
       "      <td>0.498805</td>\n",
       "      <td>0.896038</td>\n",
       "      <td>172</td>\n",
       "      <td>154.118502</td>\n",
       "    </tr>\n",
       "    <tr>\n",
       "      <th>3</th>\n",
       "      <td>1</td>\n",
       "      <td>2019-05-03 11:18:14</td>\n",
       "      <td>2019-05-03 11:24:19</td>\n",
       "      <td>1.659363</td>\n",
       "      <td>1.062669</td>\n",
       "      <td>1.970470</td>\n",
       "      <td>365</td>\n",
       "      <td>719.221394</td>\n",
       "    </tr>\n",
       "    <tr>\n",
       "      <th>4</th>\n",
       "      <td>1</td>\n",
       "      <td>2019-05-03 11:26:09</td>\n",
       "      <td>2019-05-03 11:28:37</td>\n",
       "      <td>0.692755</td>\n",
       "      <td>0.414397</td>\n",
       "      <td>0.807239</td>\n",
       "      <td>148</td>\n",
       "      <td>119.471318</td>\n",
       "    </tr>\n",
       "    <tr>\n",
       "      <th>...</th>\n",
       "      <td>...</td>\n",
       "      <td>...</td>\n",
       "      <td>...</td>\n",
       "      <td>...</td>\n",
       "      <td>...</td>\n",
       "      <td>...</td>\n",
       "      <td>...</td>\n",
       "      <td>...</td>\n",
       "    </tr>\n",
       "    <tr>\n",
       "      <th>14871</th>\n",
       "      <td>3241</td>\n",
       "      <td>2019-09-01 03:58:58</td>\n",
       "      <td>2019-09-01 04:01:35</td>\n",
       "      <td>0.533670</td>\n",
       "      <td>0.354439</td>\n",
       "      <td>0.640648</td>\n",
       "      <td>157</td>\n",
       "      <td>100.581755</td>\n",
       "    </tr>\n",
       "    <tr>\n",
       "      <th>14872</th>\n",
       "      <td>3241</td>\n",
       "      <td>2019-09-01 04:05:04</td>\n",
       "      <td>2019-09-01 04:08:04</td>\n",
       "      <td>0.676604</td>\n",
       "      <td>0.523631</td>\n",
       "      <td>0.855559</td>\n",
       "      <td>180</td>\n",
       "      <td>154.000682</td>\n",
       "    </tr>\n",
       "    <tr>\n",
       "      <th>14873</th>\n",
       "      <td>3241</td>\n",
       "      <td>2019-09-01 04:16:41</td>\n",
       "      <td>2019-09-01 04:19:45</td>\n",
       "      <td>0.733899</td>\n",
       "      <td>0.475654</td>\n",
       "      <td>0.874560</td>\n",
       "      <td>184</td>\n",
       "      <td>160.919002</td>\n",
       "    </tr>\n",
       "    <tr>\n",
       "      <th>14874</th>\n",
       "      <td>3241</td>\n",
       "      <td>2019-09-01 04:31:51</td>\n",
       "      <td>2019-09-01 04:32:48</td>\n",
       "      <td>0.220694</td>\n",
       "      <td>0.145768</td>\n",
       "      <td>0.264489</td>\n",
       "      <td>57</td>\n",
       "      <td>15.075853</td>\n",
       "    </tr>\n",
       "    <tr>\n",
       "      <th>14875</th>\n",
       "      <td>3241</td>\n",
       "      <td>2019-09-01 04:34:47</td>\n",
       "      <td>2019-09-01 04:36:08</td>\n",
       "      <td>0.306580</td>\n",
       "      <td>0.196708</td>\n",
       "      <td>0.364260</td>\n",
       "      <td>81</td>\n",
       "      <td>29.505051</td>\n",
       "    </tr>\n",
       "  </tbody>\n",
       "</table>\n",
       "<p>14194 rows × 8 columns</p>\n",
       "</div>"
      ],
      "text/plain": [
       "        key Начало нагрева дугой Конец нагрева дугой  Активная мощность  \\\n",
       "0         1  2019-05-03 11:02:14 2019-05-03 11:06:02           0.976059   \n",
       "1         1  2019-05-03 11:07:28 2019-05-03 11:10:33           0.805607   \n",
       "2         1  2019-05-03 11:11:44 2019-05-03 11:14:36           0.744363   \n",
       "3         1  2019-05-03 11:18:14 2019-05-03 11:24:19           1.659363   \n",
       "4         1  2019-05-03 11:26:09 2019-05-03 11:28:37           0.692755   \n",
       "...     ...                  ...                 ...                ...   \n",
       "14871  3241  2019-09-01 03:58:58 2019-09-01 04:01:35           0.533670   \n",
       "14872  3241  2019-09-01 04:05:04 2019-09-01 04:08:04           0.676604   \n",
       "14873  3241  2019-09-01 04:16:41 2019-09-01 04:19:45           0.733899   \n",
       "14874  3241  2019-09-01 04:31:51 2019-09-01 04:32:48           0.220694   \n",
       "14875  3241  2019-09-01 04:34:47 2019-09-01 04:36:08           0.306580   \n",
       "\n",
       "       Реактивная мощность  Полная мощность  Время нагрева     Энергия  \n",
       "0                 0.687084         1.193639            228  272.149755  \n",
       "1                 0.520285         0.959010            185  177.416785  \n",
       "2                 0.498805         0.896038            172  154.118502  \n",
       "3                 1.062669         1.970470            365  719.221394  \n",
       "4                 0.414397         0.807239            148  119.471318  \n",
       "...                    ...              ...            ...         ...  \n",
       "14871             0.354439         0.640648            157  100.581755  \n",
       "14872             0.523631         0.855559            180  154.000682  \n",
       "14873             0.475654         0.874560            184  160.919002  \n",
       "14874             0.145768         0.264489             57   15.075853  \n",
       "14875             0.196708         0.364260             81   29.505051  \n",
       "\n",
       "[14194 rows x 8 columns]"
      ]
     },
     "execution_count": 25,
     "metadata": {},
     "output_type": "execute_result"
    }
   ],
   "source": [
    "df_arc['Полная мощность'] = (df_arc['Активная мощность'] ** 2 + df_arc['Реактивная мощность'] ** 2) ** (0.5)\n",
    "\n",
    "df_arc['Время нагрева'] = (\n",
    "    df_arc['Конец нагрева дугой'] - df_arc['Начало нагрева дугой']\n",
    ")\n",
    "\n",
    "df_arc['Время нагрева'] = df_arc['Время нагрева'].apply(pd.Timedelta.total_seconds).astype('int')\n",
    "\n",
    "df_arc['Энергия'] = df_arc['Время нагрева'] * df_arc['Полная мощность']\n",
    "\n",
    "df_arc"
   ]
  },
  {
   "cell_type": "markdown",
   "id": "947b59e8",
   "metadata": {
    "id": "947b59e8"
   },
   "source": [
    "Создадим сводную таблицу, в которой будет общая сумма времени нагрева и энергии по всей партии, которая войдет в итоговую таблицу:"
   ]
  },
  {
   "cell_type": "code",
   "execution_count": 26,
   "id": "29d1d512",
   "metadata": {
    "colab": {
     "base_uri": "https://localhost:8080/",
     "height": 424
    },
    "executionInfo": {
     "elapsed": 431,
     "status": "ok",
     "timestamp": 1657015934852,
     "user": {
      "displayName": "Кирилл Ерохин",
      "userId": "09883907194110507041"
     },
     "user_tz": -180
    },
    "id": "29d1d512",
    "outputId": "8e52b31b-748d-4069-acda-e1683adacdfe"
   },
   "outputs": [
    {
     "data": {
      "text/html": [
       "<div>\n",
       "<style scoped>\n",
       "    .dataframe tbody tr th:only-of-type {\n",
       "        vertical-align: middle;\n",
       "    }\n",
       "\n",
       "    .dataframe tbody tr th {\n",
       "        vertical-align: top;\n",
       "    }\n",
       "\n",
       "    .dataframe thead th {\n",
       "        text-align: right;\n",
       "    }\n",
       "</style>\n",
       "<table border=\"1\" class=\"dataframe\">\n",
       "  <thead>\n",
       "    <tr style=\"text-align: right;\">\n",
       "      <th></th>\n",
       "      <th>key</th>\n",
       "      <th>Время нагрева</th>\n",
       "      <th>Энергия</th>\n",
       "      <th>Полная мощность</th>\n",
       "    </tr>\n",
       "  </thead>\n",
       "  <tbody>\n",
       "    <tr>\n",
       "      <th>0</th>\n",
       "      <td>1</td>\n",
       "      <td>1098</td>\n",
       "      <td>1442.377754</td>\n",
       "      <td>5.826395</td>\n",
       "    </tr>\n",
       "    <tr>\n",
       "      <th>1</th>\n",
       "      <td>2</td>\n",
       "      <td>811</td>\n",
       "      <td>881.233565</td>\n",
       "      <td>3.649216</td>\n",
       "    </tr>\n",
       "    <tr>\n",
       "      <th>2</th>\n",
       "      <td>3</td>\n",
       "      <td>655</td>\n",
       "      <td>525.066777</td>\n",
       "      <td>2.989534</td>\n",
       "    </tr>\n",
       "    <tr>\n",
       "      <th>3</th>\n",
       "      <td>4</td>\n",
       "      <td>741</td>\n",
       "      <td>796.911309</td>\n",
       "      <td>3.814962</td>\n",
       "    </tr>\n",
       "    <tr>\n",
       "      <th>4</th>\n",
       "      <td>5</td>\n",
       "      <td>869</td>\n",
       "      <td>1199.137958</td>\n",
       "      <td>4.035758</td>\n",
       "    </tr>\n",
       "    <tr>\n",
       "      <th>...</th>\n",
       "      <td>...</td>\n",
       "      <td>...</td>\n",
       "      <td>...</td>\n",
       "      <td>...</td>\n",
       "    </tr>\n",
       "    <tr>\n",
       "      <th>3075</th>\n",
       "      <td>3237</td>\n",
       "      <td>909</td>\n",
       "      <td>958.336236</td>\n",
       "      <td>4.844982</td>\n",
       "    </tr>\n",
       "    <tr>\n",
       "      <th>3076</th>\n",
       "      <td>3238</td>\n",
       "      <td>546</td>\n",
       "      <td>555.867370</td>\n",
       "      <td>2.696542</td>\n",
       "    </tr>\n",
       "    <tr>\n",
       "      <th>3077</th>\n",
       "      <td>3239</td>\n",
       "      <td>1216</td>\n",
       "      <td>1013.067719</td>\n",
       "      <td>5.611883</td>\n",
       "    </tr>\n",
       "    <tr>\n",
       "      <th>3078</th>\n",
       "      <td>3240</td>\n",
       "      <td>839</td>\n",
       "      <td>729.208940</td>\n",
       "      <td>3.891856</td>\n",
       "    </tr>\n",
       "    <tr>\n",
       "      <th>3079</th>\n",
       "      <td>3241</td>\n",
       "      <td>659</td>\n",
       "      <td>460.082343</td>\n",
       "      <td>2.999516</td>\n",
       "    </tr>\n",
       "  </tbody>\n",
       "</table>\n",
       "<p>3080 rows × 4 columns</p>\n",
       "</div>"
      ],
      "text/plain": [
       "       key  Время нагрева      Энергия  Полная мощность\n",
       "0        1           1098  1442.377754         5.826395\n",
       "1        2            811   881.233565         3.649216\n",
       "2        3            655   525.066777         2.989534\n",
       "3        4            741   796.911309         3.814962\n",
       "4        5            869  1199.137958         4.035758\n",
       "...    ...            ...          ...              ...\n",
       "3075  3237            909   958.336236         4.844982\n",
       "3076  3238            546   555.867370         2.696542\n",
       "3077  3239           1216  1013.067719         5.611883\n",
       "3078  3240            839   729.208940         3.891856\n",
       "3079  3241            659   460.082343         2.999516\n",
       "\n",
       "[3080 rows x 4 columns]"
      ]
     },
     "execution_count": 26,
     "metadata": {},
     "output_type": "execute_result"
    }
   ],
   "source": [
    "df_arc_keys = df_arc.groupby('key').sum()[['Время нагрева', 'Энергия', 'Полная мощность']].reset_index()\n",
    "df_arc_keys"
   ]
  },
  {
   "cell_type": "markdown",
   "id": "166c3f0e",
   "metadata": {
    "id": "166c3f0e"
   },
   "source": [
    "По таблицам материалов, которые добавлялись в партию, заполним пустые значения нулями, и рассмотрим несколько вариантов решений:\n",
    "\n",
    "1. Взять все столбцы и использовать их в модели.\n",
    "2. Рассчитать общую сумму добавления материала `Wire` и `Bulk` и добавить итог в общую таблицу.\n",
    "3. Убрать те материалы, которые добавляли редко и добавить остальные.\n",
    "4. Рассчитать сумму по редким материалам, а те, которые добавляют часто - оставить без изменений.\n",
    "5. Рассчитать сумму по редким материалам, а те, которые добавляют часто - оставить без изменений, а так же добавить параметр, в котором указано количество добавок в данной партии.\n",
    "\n",
    "Для моделирования воспользуемся сначала 5 пунктом и посмотрим на результаты модели:"
   ]
  },
  {
   "cell_type": "code",
   "execution_count": 27,
   "id": "c6b28bea",
   "metadata": {
    "executionInfo": {
     "elapsed": 10,
     "status": "ok",
     "timestamp": 1657015934853,
     "user": {
      "displayName": "Кирилл Ерохин",
      "userId": "09883907194110507041"
     },
     "user_tz": -180
    },
    "id": "c6b28bea"
   },
   "outputs": [],
   "source": [
    "def make_new_df(data, name):\n",
    "    \n",
    "    col_for_sum = []\n",
    "\n",
    "    for col in data:\n",
    "        if data[col].isna().sum() >= (len(data) - 1000):\n",
    "            col_for_sum.append(col)\n",
    "    \n",
    "    data[f'count_{name}'] = data.drop('key', axis=1).count(axis=1)\n",
    "    \n",
    "    data[f'sum_{name}'] = data[col_for_sum].sum(axis=1)\n",
    "    \n",
    "    col_lasted = [col for col in data.columns if col not in col_for_sum]\n",
    "    \n",
    "    data = data[col_lasted].fillna(0)\n",
    "    \n",
    "    return data"
   ]
  },
  {
   "cell_type": "code",
   "execution_count": 28,
   "id": "9e7a47a4",
   "metadata": {
    "executionInfo": {
     "elapsed": 10,
     "status": "ok",
     "timestamp": 1657015934853,
     "user": {
      "displayName": "Кирилл Ерохин",
      "userId": "09883907194110507041"
     },
     "user_tz": -180
    },
    "id": "9e7a47a4"
   },
   "outputs": [],
   "source": [
    "bulk = make_new_df(df_bulk, 'bulk')\n",
    "wire = make_new_df(df_wire, 'wire')"
   ]
  },
  {
   "cell_type": "code",
   "execution_count": 29,
   "id": "8e6538b4",
   "metadata": {},
   "outputs": [
    {
     "name": "stdout",
     "output_type": "stream",
     "text": [
      "<class 'pandas.core.frame.DataFrame'>\n",
      "Int64Index: 3002 entries, 0 to 3128\n",
      "Data columns (total 7 columns):\n",
      " #   Column      Non-Null Count  Dtype  \n",
      "---  ------      --------------  -----  \n",
      " 0   key         3002 non-null   int64  \n",
      " 1   Bulk 3      3002 non-null   float64\n",
      " 2   Bulk 12     3002 non-null   float64\n",
      " 3   Bulk 14     3002 non-null   float64\n",
      " 4   Bulk 15     3002 non-null   float64\n",
      " 5   count_bulk  3002 non-null   int64  \n",
      " 6   sum_bulk    3002 non-null   float64\n",
      "dtypes: float64(5), int64(2)\n",
      "memory usage: 187.6 KB\n"
     ]
    }
   ],
   "source": [
    "bulk.info()"
   ]
  },
  {
   "cell_type": "code",
   "execution_count": 30,
   "id": "2242eea1",
   "metadata": {},
   "outputs": [
    {
     "name": "stdout",
     "output_type": "stream",
     "text": [
      "<class 'pandas.core.frame.DataFrame'>\n",
      "Int64Index: 2956 entries, 0 to 3080\n",
      "Data columns (total 5 columns):\n",
      " #   Column      Non-Null Count  Dtype  \n",
      "---  ------      --------------  -----  \n",
      " 0   key         2956 non-null   int64  \n",
      " 1   Wire 1      2956 non-null   float64\n",
      " 2   Wire 2      2956 non-null   float64\n",
      " 3   count_wire  2956 non-null   int64  \n",
      " 4   sum_wire    2956 non-null   float64\n",
      "dtypes: float64(3), int64(2)\n",
      "memory usage: 138.6 KB\n"
     ]
    }
   ],
   "source": [
    "wire.info()"
   ]
  },
  {
   "cell_type": "markdown",
   "id": "94207966",
   "metadata": {
    "id": "94207966"
   },
   "source": [
    "Создаём итоговую таблицу и сразу удалим те строки, где есть пропуски, так как там у тех партий нет наблюдений в других таблицах:"
   ]
  },
  {
   "cell_type": "code",
   "execution_count": 31,
   "id": "239af491",
   "metadata": {
    "executionInfo": {
     "elapsed": 502,
     "status": "ok",
     "timestamp": 1657015935350,
     "user": {
      "displayName": "Кирилл Ерохин",
      "userId": "09883907194110507041"
     },
     "user_tz": -180
    },
    "id": "239af491"
   },
   "outputs": [
    {
     "name": "stdout",
     "output_type": "stream",
     "text": [
      "<class 'pandas.core.frame.DataFrame'>\n",
      "Int64Index: 2171 entries, 0 to 2298\n",
      "Data columns (total 17 columns):\n",
      " #   Column           Non-Null Count  Dtype  \n",
      "---  ------           --------------  -----  \n",
      " 0   key              2171 non-null   int64  \n",
      " 1   temp_first       2171 non-null   float64\n",
      " 2   temp_last        2171 non-null   float64\n",
      " 3   Bulk 3           2171 non-null   float64\n",
      " 4   Bulk 12          2171 non-null   float64\n",
      " 5   Bulk 14          2171 non-null   float64\n",
      " 6   Bulk 15          2171 non-null   float64\n",
      " 7   count_bulk       2171 non-null   float64\n",
      " 8   sum_bulk         2171 non-null   float64\n",
      " 9   Wire 1           2171 non-null   float64\n",
      " 10  Wire 2           2171 non-null   float64\n",
      " 11  count_wire       2171 non-null   float64\n",
      " 12  sum_wire         2171 non-null   float64\n",
      " 13  Время нагрева    2171 non-null   int32  \n",
      " 14  Энергия          2171 non-null   float64\n",
      " 15  Полная мощность  2171 non-null   float64\n",
      " 16  Газ 1            2171 non-null   float64\n",
      "dtypes: float64(15), int32(1), int64(1)\n",
      "memory usage: 296.8 KB\n"
     ]
    },
    {
     "data": {
      "text/html": [
       "<div>\n",
       "<style scoped>\n",
       "    .dataframe tbody tr th:only-of-type {\n",
       "        vertical-align: middle;\n",
       "    }\n",
       "\n",
       "    .dataframe tbody tr th {\n",
       "        vertical-align: top;\n",
       "    }\n",
       "\n",
       "    .dataframe thead th {\n",
       "        text-align: right;\n",
       "    }\n",
       "</style>\n",
       "<table border=\"1\" class=\"dataframe\">\n",
       "  <thead>\n",
       "    <tr style=\"text-align: right;\">\n",
       "      <th></th>\n",
       "      <th>key</th>\n",
       "      <th>temp_first</th>\n",
       "      <th>temp_last</th>\n",
       "      <th>Bulk 3</th>\n",
       "      <th>Bulk 12</th>\n",
       "      <th>Bulk 14</th>\n",
       "      <th>Bulk 15</th>\n",
       "      <th>count_bulk</th>\n",
       "      <th>sum_bulk</th>\n",
       "      <th>Wire 1</th>\n",
       "      <th>Wire 2</th>\n",
       "      <th>count_wire</th>\n",
       "      <th>sum_wire</th>\n",
       "      <th>Время нагрева</th>\n",
       "      <th>Энергия</th>\n",
       "      <th>Полная мощность</th>\n",
       "      <th>Газ 1</th>\n",
       "    </tr>\n",
       "  </thead>\n",
       "  <tbody>\n",
       "    <tr>\n",
       "      <th>0</th>\n",
       "      <td>1</td>\n",
       "      <td>1571.0</td>\n",
       "      <td>1613.0</td>\n",
       "      <td>0.0</td>\n",
       "      <td>206.0</td>\n",
       "      <td>150.0</td>\n",
       "      <td>154.0</td>\n",
       "      <td>4.0</td>\n",
       "      <td>43.0</td>\n",
       "      <td>60.059998</td>\n",
       "      <td>0.00000</td>\n",
       "      <td>1.0</td>\n",
       "      <td>0.0</td>\n",
       "      <td>1098</td>\n",
       "      <td>1442.377754</td>\n",
       "      <td>5.826395</td>\n",
       "      <td>29.749986</td>\n",
       "    </tr>\n",
       "    <tr>\n",
       "      <th>1</th>\n",
       "      <td>2</td>\n",
       "      <td>1581.0</td>\n",
       "      <td>1602.0</td>\n",
       "      <td>0.0</td>\n",
       "      <td>206.0</td>\n",
       "      <td>149.0</td>\n",
       "      <td>154.0</td>\n",
       "      <td>4.0</td>\n",
       "      <td>73.0</td>\n",
       "      <td>96.052315</td>\n",
       "      <td>0.00000</td>\n",
       "      <td>1.0</td>\n",
       "      <td>0.0</td>\n",
       "      <td>811</td>\n",
       "      <td>881.233565</td>\n",
       "      <td>3.649216</td>\n",
       "      <td>12.555561</td>\n",
       "    </tr>\n",
       "    <tr>\n",
       "      <th>2</th>\n",
       "      <td>3</td>\n",
       "      <td>1596.0</td>\n",
       "      <td>1599.0</td>\n",
       "      <td>0.0</td>\n",
       "      <td>205.0</td>\n",
       "      <td>152.0</td>\n",
       "      <td>153.0</td>\n",
       "      <td>4.0</td>\n",
       "      <td>34.0</td>\n",
       "      <td>91.160157</td>\n",
       "      <td>0.00000</td>\n",
       "      <td>1.0</td>\n",
       "      <td>0.0</td>\n",
       "      <td>655</td>\n",
       "      <td>525.066777</td>\n",
       "      <td>2.989534</td>\n",
       "      <td>28.554793</td>\n",
       "    </tr>\n",
       "    <tr>\n",
       "      <th>3</th>\n",
       "      <td>4</td>\n",
       "      <td>1601.0</td>\n",
       "      <td>1625.0</td>\n",
       "      <td>0.0</td>\n",
       "      <td>207.0</td>\n",
       "      <td>153.0</td>\n",
       "      <td>154.0</td>\n",
       "      <td>4.0</td>\n",
       "      <td>81.0</td>\n",
       "      <td>89.063515</td>\n",
       "      <td>0.00000</td>\n",
       "      <td>1.0</td>\n",
       "      <td>0.0</td>\n",
       "      <td>741</td>\n",
       "      <td>796.911309</td>\n",
       "      <td>3.814962</td>\n",
       "      <td>18.841219</td>\n",
       "    </tr>\n",
       "    <tr>\n",
       "      <th>4</th>\n",
       "      <td>5</td>\n",
       "      <td>1576.0</td>\n",
       "      <td>1602.0</td>\n",
       "      <td>0.0</td>\n",
       "      <td>203.0</td>\n",
       "      <td>151.0</td>\n",
       "      <td>152.0</td>\n",
       "      <td>4.0</td>\n",
       "      <td>78.0</td>\n",
       "      <td>89.238236</td>\n",
       "      <td>9.11456</td>\n",
       "      <td>2.0</td>\n",
       "      <td>0.0</td>\n",
       "      <td>869</td>\n",
       "      <td>1199.137958</td>\n",
       "      <td>4.035758</td>\n",
       "      <td>5.413692</td>\n",
       "    </tr>\n",
       "    <tr>\n",
       "      <th>...</th>\n",
       "      <td>...</td>\n",
       "      <td>...</td>\n",
       "      <td>...</td>\n",
       "      <td>...</td>\n",
       "      <td>...</td>\n",
       "      <td>...</td>\n",
       "      <td>...</td>\n",
       "      <td>...</td>\n",
       "      <td>...</td>\n",
       "      <td>...</td>\n",
       "      <td>...</td>\n",
       "      <td>...</td>\n",
       "      <td>...</td>\n",
       "      <td>...</td>\n",
       "      <td>...</td>\n",
       "      <td>...</td>\n",
       "      <td>...</td>\n",
       "    </tr>\n",
       "    <tr>\n",
       "      <th>2294</th>\n",
       "      <td>2495</td>\n",
       "      <td>1570.0</td>\n",
       "      <td>1591.0</td>\n",
       "      <td>21.0</td>\n",
       "      <td>256.0</td>\n",
       "      <td>129.0</td>\n",
       "      <td>223.0</td>\n",
       "      <td>5.0</td>\n",
       "      <td>90.0</td>\n",
       "      <td>89.150879</td>\n",
       "      <td>0.00000</td>\n",
       "      <td>1.0</td>\n",
       "      <td>0.0</td>\n",
       "      <td>723</td>\n",
       "      <td>778.818234</td>\n",
       "      <td>3.986869</td>\n",
       "      <td>7.125735</td>\n",
       "    </tr>\n",
       "    <tr>\n",
       "      <th>2295</th>\n",
       "      <td>2496</td>\n",
       "      <td>1554.0</td>\n",
       "      <td>1591.0</td>\n",
       "      <td>0.0</td>\n",
       "      <td>256.0</td>\n",
       "      <td>129.0</td>\n",
       "      <td>226.0</td>\n",
       "      <td>5.0</td>\n",
       "      <td>185.0</td>\n",
       "      <td>114.179527</td>\n",
       "      <td>0.00000</td>\n",
       "      <td>1.0</td>\n",
       "      <td>0.0</td>\n",
       "      <td>940</td>\n",
       "      <td>875.261419</td>\n",
       "      <td>5.057033</td>\n",
       "      <td>9.412616</td>\n",
       "    </tr>\n",
       "    <tr>\n",
       "      <th>2296</th>\n",
       "      <td>2497</td>\n",
       "      <td>1571.0</td>\n",
       "      <td>1589.0</td>\n",
       "      <td>0.0</td>\n",
       "      <td>230.0</td>\n",
       "      <td>124.0</td>\n",
       "      <td>226.0</td>\n",
       "      <td>4.0</td>\n",
       "      <td>85.0</td>\n",
       "      <td>94.086723</td>\n",
       "      <td>9.04800</td>\n",
       "      <td>2.0</td>\n",
       "      <td>0.0</td>\n",
       "      <td>569</td>\n",
       "      <td>556.930349</td>\n",
       "      <td>2.885017</td>\n",
       "      <td>6.271699</td>\n",
       "    </tr>\n",
       "    <tr>\n",
       "      <th>2297</th>\n",
       "      <td>2498</td>\n",
       "      <td>1591.0</td>\n",
       "      <td>1594.0</td>\n",
       "      <td>90.0</td>\n",
       "      <td>206.0</td>\n",
       "      <td>129.0</td>\n",
       "      <td>207.0</td>\n",
       "      <td>5.0</td>\n",
       "      <td>101.0</td>\n",
       "      <td>118.110717</td>\n",
       "      <td>0.00000</td>\n",
       "      <td>1.0</td>\n",
       "      <td>0.0</td>\n",
       "      <td>750</td>\n",
       "      <td>767.817794</td>\n",
       "      <td>4.143749</td>\n",
       "      <td>14.953657</td>\n",
       "    </tr>\n",
       "    <tr>\n",
       "      <th>2298</th>\n",
       "      <td>2499</td>\n",
       "      <td>1569.0</td>\n",
       "      <td>1603.0</td>\n",
       "      <td>47.0</td>\n",
       "      <td>233.0</td>\n",
       "      <td>126.0</td>\n",
       "      <td>227.0</td>\n",
       "      <td>4.0</td>\n",
       "      <td>0.0</td>\n",
       "      <td>110.160958</td>\n",
       "      <td>50.00528</td>\n",
       "      <td>2.0</td>\n",
       "      <td>0.0</td>\n",
       "      <td>883</td>\n",
       "      <td>1301.828445</td>\n",
       "      <td>4.953010</td>\n",
       "      <td>11.336151</td>\n",
       "    </tr>\n",
       "  </tbody>\n",
       "</table>\n",
       "<p>2171 rows × 17 columns</p>\n",
       "</div>"
      ],
      "text/plain": [
       "       key  temp_first  temp_last  Bulk 3  Bulk 12  Bulk 14  Bulk 15  \\\n",
       "0        1      1571.0     1613.0     0.0    206.0    150.0    154.0   \n",
       "1        2      1581.0     1602.0     0.0    206.0    149.0    154.0   \n",
       "2        3      1596.0     1599.0     0.0    205.0    152.0    153.0   \n",
       "3        4      1601.0     1625.0     0.0    207.0    153.0    154.0   \n",
       "4        5      1576.0     1602.0     0.0    203.0    151.0    152.0   \n",
       "...    ...         ...        ...     ...      ...      ...      ...   \n",
       "2294  2495      1570.0     1591.0    21.0    256.0    129.0    223.0   \n",
       "2295  2496      1554.0     1591.0     0.0    256.0    129.0    226.0   \n",
       "2296  2497      1571.0     1589.0     0.0    230.0    124.0    226.0   \n",
       "2297  2498      1591.0     1594.0    90.0    206.0    129.0    207.0   \n",
       "2298  2499      1569.0     1603.0    47.0    233.0    126.0    227.0   \n",
       "\n",
       "      count_bulk  sum_bulk      Wire 1    Wire 2  count_wire  sum_wire  \\\n",
       "0            4.0      43.0   60.059998   0.00000         1.0       0.0   \n",
       "1            4.0      73.0   96.052315   0.00000         1.0       0.0   \n",
       "2            4.0      34.0   91.160157   0.00000         1.0       0.0   \n",
       "3            4.0      81.0   89.063515   0.00000         1.0       0.0   \n",
       "4            4.0      78.0   89.238236   9.11456         2.0       0.0   \n",
       "...          ...       ...         ...       ...         ...       ...   \n",
       "2294         5.0      90.0   89.150879   0.00000         1.0       0.0   \n",
       "2295         5.0     185.0  114.179527   0.00000         1.0       0.0   \n",
       "2296         4.0      85.0   94.086723   9.04800         2.0       0.0   \n",
       "2297         5.0     101.0  118.110717   0.00000         1.0       0.0   \n",
       "2298         4.0       0.0  110.160958  50.00528         2.0       0.0   \n",
       "\n",
       "      Время нагрева      Энергия  Полная мощность      Газ 1  \n",
       "0              1098  1442.377754         5.826395  29.749986  \n",
       "1               811   881.233565         3.649216  12.555561  \n",
       "2               655   525.066777         2.989534  28.554793  \n",
       "3               741   796.911309         3.814962  18.841219  \n",
       "4               869  1199.137958         4.035758   5.413692  \n",
       "...             ...          ...              ...        ...  \n",
       "2294            723   778.818234         3.986869   7.125735  \n",
       "2295            940   875.261419         5.057033   9.412616  \n",
       "2296            569   556.930349         2.885017   6.271699  \n",
       "2297            750   767.817794         4.143749  14.953657  \n",
       "2298            883  1301.828445         4.953010  11.336151  \n",
       "\n",
       "[2171 rows x 17 columns]"
      ]
     },
     "execution_count": 31,
     "metadata": {},
     "output_type": "execute_result"
    }
   ],
   "source": [
    "df = df.drop(['time_first', 'time_last'], axis=1)\n",
    "df = df.merge(bulk, on='key', how='left')\n",
    "df = df.merge(wire, on='key', how='left')\n",
    "df = df.merge(df_arc_keys[['key', 'Время нагрева', 'Энергия', 'Полная мощность']], on='key', how='left')\n",
    "df = df.merge(df_gas, on='key', how='left')\n",
    "df = df.dropna()\n",
    "\n",
    "df.info()\n",
    "df"
   ]
  },
  {
   "cell_type": "markdown",
   "id": "2e12d32c",
   "metadata": {},
   "source": [
    "Рассмотрим корреляцию параметров:"
   ]
  },
  {
   "cell_type": "code",
   "execution_count": 32,
   "id": "c516a643",
   "metadata": {
    "colab": {
     "base_uri": "https://localhost:8080/",
     "height": 692
    },
    "executionInfo": {
     "elapsed": 2892,
     "status": "ok",
     "timestamp": 1657015938240,
     "user": {
      "displayName": "Кирилл Ерохин",
      "userId": "09883907194110507041"
     },
     "user_tz": -180
    },
    "id": "c516a643",
    "outputId": "1e933c1b-650a-4bb8-df88-3409333970ea"
   },
   "outputs": [
    {
     "data": {
      "image/png": "[encoded data removed]",
      "text/plain": [
       "<Figure size 1080x720 with 2 Axes>"
      ]
     },
     "metadata": {
      "needs_background": "light"
     },
     "output_type": "display_data"
    }
   ],
   "source": [
    "plt.figure(figsize=(15, 10))\n",
    "plt.title('Матрица корреляций зависимости фичей')\n",
    "\n",
    "sns.heatmap(df.corr(), annot = True, cmap=\"YlGnBu\")\n",
    "\n",
    "plt.show()"
   ]
  },
  {
   "cell_type": "markdown",
   "id": "da898bd8",
   "metadata": {},
   "source": [
    "Как видно из матрицы коррелляции, есть три параметра, которые мультиколлинеарны:\n",
    "\n",
    "* Время нагрева\n",
    "* Полная мощность\n",
    "* Энергия\n",
    "\n",
    "Так как из этих параметров мы делали расчет. Перед делением на тренировочную и тестовую, стоит такие параметры удалить.\n",
    "\n",
    "Остальные параметры можно оставить, так как они не коррелируют между собой на более, чем `0.8` по коэффициенту Пирсона."
   ]
  },
  {
   "cell_type": "markdown",
   "id": "76111900",
   "metadata": {},
   "source": [
    "## Выбор оптимальной модели"
   ]
  },
  {
   "cell_type": "markdown",
   "id": "c005647b",
   "metadata": {},
   "source": [
    "Для моделирования, рассмотрим несколько деревянных моделей и бустинговые модели, основанные на дереве решений:\n",
    "\n",
    "* Дерево решений\n",
    "* Случайный лес\n",
    "* LightGBM\n",
    "* XGBoost\n",
    "* CatBoost\n",
    "\n",
    "Подгрузим необходимые библиотеки:"
   ]
  },
  {
   "cell_type": "code",
   "execution_count": 33,
   "id": "d25599d5",
   "metadata": {
    "executionInfo": {
     "elapsed": 245,
     "status": "ok",
     "timestamp": 1657017126552,
     "user": {
      "displayName": "Кирилл Ерохин",
      "userId": "09883907194110507041"
     },
     "user_tz": -180
    },
    "id": "d25599d5"
   },
   "outputs": [],
   "source": [
    "from sklearn.model_selection import train_test_split, GridSearchCV\n",
    "from sklearn.metrics import mean_absolute_error\n",
    "\n",
    "from sklearn.ensemble import RandomForestRegressor\n",
    "from sklearn.tree import DecisionTreeRegressor\n",
    "import lightgbm as lgb\n",
    "import xgboost as xgb\n",
    "from catboost import CatBoostRegressor\n",
    "\n",
    "from time import time\n",
    "\n",
    "from sklearn.utils import shuffle\n",
    "\n",
    "RANDOM_STATE = 42"
   ]
  },
  {
   "cell_type": "markdown",
   "id": "3c187fd5",
   "metadata": {},
   "source": [
    "Разделим датасет на тренировочную и тестовую в соотношении 5 к 1, а так же предварительно перемешаем дополнительно наблюдения, так как в изначальном датасете все данные были распределены по времени:"
   ]
  },
  {
   "cell_type": "code",
   "execution_count": 34,
   "id": "6wOoFYCgxs22",
   "metadata": {
    "colab": {
     "base_uri": "https://localhost:8080/"
    },
    "executionInfo": {
     "elapsed": 303,
     "status": "ok",
     "timestamp": 1657021133398,
     "user": {
      "displayName": "Кирилл Ерохин",
      "userId": "09883907194110507041"
     },
     "user_tz": -180
    },
    "id": "6wOoFYCgxs22",
    "outputId": "7a446f6c-f329-4375-af9a-2a55aae281df"
   },
   "outputs": [
    {
     "name": "stdout",
     "output_type": "stream",
     "text": [
      "<class 'pandas.core.frame.DataFrame'>\n",
      "Int64Index: 2171 entries, 1743 to 917\n",
      "Data columns (total 17 columns):\n",
      " #   Column           Non-Null Count  Dtype  \n",
      "---  ------           --------------  -----  \n",
      " 0   key              2171 non-null   int64  \n",
      " 1   temp_first       2171 non-null   float64\n",
      " 2   temp_last        2171 non-null   float64\n",
      " 3   Bulk 3           2171 non-null   float64\n",
      " 4   Bulk 12          2171 non-null   float64\n",
      " 5   Bulk 14          2171 non-null   float64\n",
      " 6   Bulk 15          2171 non-null   float64\n",
      " 7   count_bulk       2171 non-null   float64\n",
      " 8   sum_bulk         2171 non-null   float64\n",
      " 9   Wire 1           2171 non-null   float64\n",
      " 10  Wire 2           2171 non-null   float64\n",
      " 11  count_wire       2171 non-null   float64\n",
      " 12  sum_wire         2171 non-null   float64\n",
      " 13  Время нагрева    2171 non-null   int32  \n",
      " 14  Энергия          2171 non-null   float64\n",
      " 15  Полная мощность  2171 non-null   float64\n",
      " 16  Газ 1            2171 non-null   float64\n",
      "dtypes: float64(15), int32(1), int64(1)\n",
      "memory usage: 296.8 KB\n"
     ]
    }
   ],
   "source": [
    "df_shuffled = shuffle(df, random_state=RANDOM_STATE)\n",
    "\n",
    "df_shuffled.info()\n",
    "\n",
    "df_features = df_shuffled.drop(['key', 'temp_last', 'Время нагрева', 'Полная мощность'], axis=1)\n",
    "df_target = df_shuffled['temp_last']\n",
    "\n",
    "train_features, test_features, train_target, test_target = train_test_split(df_features, \n",
    "                                                                            df_target,\n",
    "                                                                            test_size=0.20,\n",
    "                                                                            random_state=RANDOM_STATE)"
   ]
  },
  {
   "cell_type": "markdown",
   "id": "9e6a2ef2",
   "metadata": {},
   "source": [
    "Создадим функцию для подбора параметров методом GridSearchCV и создадим таблицу, по которой выберем оптимальную модель."
   ]
  },
  {
   "cell_type": "code",
   "execution_count": 35,
   "id": "eb4a5b9b",
   "metadata": {},
   "outputs": [],
   "source": [
    "# создаём таблицу для анализа\n",
    "analisys = pd.DataFrame({'model':[], 'MAE_model':[], 'MAE_on_train':[]})\n",
    "all_models = []\n",
    "\n",
    "# создаём функцию для подбора параметров\n",
    "def train_model(model, parameters):\n",
    "    \n",
    "    model_random = GridSearchCV(estimator=model,\n",
    "                                param_grid=parameters, # используем параметры\n",
    "                                scoring='neg_mean_absolute_error', # используем необходимую метрику\n",
    "                                cv=2, \n",
    "                                verbose=1)\n",
    "\n",
    "    # посмотрим время обучения \n",
    "    start = time()\n",
    "    model_random.fit(train_features, train_target)\n",
    "    print('GridSearchCV подбирал параметры %.2f секунд' %(time() - start))\n",
    "    \n",
    "    # высчитаем метрики\n",
    "    rmse = model_random.best_score_ * -1\n",
    "    rmse_on_train = mean_absolute_error(train_target, model_random.predict(train_features))\n",
    "    \n",
    "    print('Лучшие параметры:', model_random.best_params_)\n",
    "    print('MAE обученной модели:', rmse)\n",
    "    print('MAE на тренировочной выборке:', rmse_on_train)\n",
    "    \n",
    "    # заполним все таблицы    \n",
    "    all_models.append(model_random)\n",
    "    row = []\n",
    "    row.extend([model, rmse, rmse_on_train])\n",
    "    analisys.loc[len(analisys.index)] = row\n",
    "    \n",
    "    return model_random"
   ]
  },
  {
   "cell_type": "markdown",
   "id": "55700040",
   "metadata": {},
   "source": [
    "**Рассмотрим модели:**"
   ]
  },
  {
   "cell_type": "code",
   "execution_count": 36,
   "id": "3346bb50",
   "metadata": {},
   "outputs": [
    {
     "name": "stdout",
     "output_type": "stream",
     "text": [
      "Fitting 2 folds for each of 9 candidates, totalling 18 fits\n",
      "GridSearchCV подбирал параметры 0.10 секунд\n",
      "Лучшие параметры: {'max_depth': 5}\n",
      "MAE обученной модели: 7.595592725895951\n",
      "MAE на тренировочной выборке: 6.497883752883192\n"
     ]
    }
   ],
   "source": [
    "ran_grid_tree = {\"max_depth\": list(range(3, 12))}\n",
    "\n",
    "dtr = DecisionTreeRegressor()\n",
    "\n",
    "dtr_random = train_model(dtr, ran_grid_tree)"
   ]
  },
  {
   "cell_type": "code",
   "execution_count": 37,
   "id": "a13e42f9",
   "metadata": {},
   "outputs": [
    {
     "name": "stdout",
     "output_type": "stream",
     "text": [
      "Fitting 2 folds for each of 28 candidates, totalling 56 fits\n",
      "GridSearchCV подбирал параметры 10.05 секунд\n",
      "Лучшие параметры: {'max_depth': 8, 'n_estimators': 200}\n",
      "MAE обученной модели: 6.56279348409867\n",
      "MAE на тренировочной выборке: 4.637786437245034\n"
     ]
    }
   ],
   "source": [
    "ran_grid_forest = {\n",
    "    'max_depth': list(range(2, 9)),\n",
    "    'n_estimators': [50, 100, 200, 300]\n",
    "}\n",
    "\n",
    "rfr = RandomForestRegressor(n_jobs=-1)\n",
    "\n",
    "rfr_random = train_model(rfr, ran_grid_forest)"
   ]
  },
  {
   "cell_type": "code",
   "execution_count": 38,
   "id": "a91d4167",
   "metadata": {},
   "outputs": [
    {
     "name": "stdout",
     "output_type": "stream",
     "text": [
      "Fitting 2 folds for each of 15 candidates, totalling 30 fits\n",
      "GridSearchCV подбирал параметры 1.77 секунд\n",
      "Лучшие параметры: {'learning_rate': 0.1, 'max_depth': 5}\n",
      "MAE обученной модели: 6.7770420847831625\n",
      "MAE на тренировочной выборке: 4.512944058422291\n"
     ]
    }
   ],
   "source": [
    "rand_lgbm_param = {\n",
    "    'max_depth': [5, 10, 15, 25, 35],\n",
    "    'learning_rate': [0.01, 0.1, 0.15]\n",
    "}\n",
    "\n",
    "gbm = lgb.LGBMRegressor(boosting_type='gbdt',\n",
    "                         objective = 'regression',\n",
    "                         metric = 'RMSE')\n",
    "\n",
    "gbm_random = train_model(gbm, rand_lgbm_param)"
   ]
  },
  {
   "cell_type": "code",
   "execution_count": 39,
   "id": "ecd15ac0",
   "metadata": {},
   "outputs": [
    {
     "name": "stdout",
     "output_type": "stream",
     "text": [
      "Fitting 2 folds for each of 24 candidates, totalling 48 fits\n",
      "GridSearchCV подбирал параметры 2.86 секунд\n",
      "Лучшие параметры: {'learning_rate': 0.3, 'max_depth': 1}\n",
      "MAE обученной модели: 6.516410792478219\n",
      "MAE на тренировочной выборке: 6.016994071995608\n"
     ]
    }
   ],
   "source": [
    "rand_xgb_param = {\n",
    "    'max_depth': [1, 2, 3, 4, 5, 6, 7, 8],\n",
    "    'learning_rate': [0.1, 0.15, 0.3]\n",
    "}\n",
    "\n",
    "xb = xgb.XGBRegressor(booster='gbtree', \n",
    "                      eval_metric='rmse', \n",
    "                      use_rmm=True,\n",
    "                     verbosity=0)\n",
    "\n",
    "xb_random = train_model(xb, rand_xgb_param)"
   ]
  },
  {
   "cell_type": "code",
   "execution_count": 40,
   "id": "211d32cb",
   "metadata": {},
   "outputs": [
    {
     "name": "stdout",
     "output_type": "stream",
     "text": [
      "Fitting 2 folds for each of 12 candidates, totalling 24 fits\n",
      "GridSearchCV подбирал параметры 29.62 секунд\n",
      "Лучшие параметры: {'learning_rate': 0.01, 'max_depth': 6}\n",
      "MAE обученной модели: 6.474963882736992\n",
      "MAE на тренировочной выборке: 5.283260899949053\n"
     ]
    }
   ],
   "source": [
    "rand_cat_param = {\n",
    "    'max_depth': [3, 4, 5, 6, 7, 8],\n",
    "    'learning_rate': [0.01, 0.1]\n",
    "}\n",
    "\n",
    "cat = CatBoostRegressor(verbose=False) \n",
    "\n",
    "cat_random = train_model(cat, rand_cat_param)"
   ]
  },
  {
   "cell_type": "markdown",
   "id": "3fa1c8a5",
   "metadata": {},
   "source": [
    "**Рассмотрим метрики на графиках:**"
   ]
  },
  {
   "cell_type": "code",
   "execution_count": 41,
   "id": "6815394c",
   "metadata": {},
   "outputs": [
    {
     "data": {
      "text/html": [
       "<div>\n",
       "<style scoped>\n",
       "    .dataframe tbody tr th:only-of-type {\n",
       "        vertical-align: middle;\n",
       "    }\n",
       "\n",
       "    .dataframe tbody tr th {\n",
       "        vertical-align: top;\n",
       "    }\n",
       "\n",
       "    .dataframe thead th {\n",
       "        text-align: right;\n",
       "    }\n",
       "</style>\n",
       "<table border=\"1\" class=\"dataframe\">\n",
       "  <thead>\n",
       "    <tr style=\"text-align: right;\">\n",
       "      <th></th>\n",
       "      <th>model</th>\n",
       "      <th>MAE_model</th>\n",
       "      <th>MAE_on_train</th>\n",
       "      <th>names</th>\n",
       "    </tr>\n",
       "  </thead>\n",
       "  <tbody>\n",
       "    <tr>\n",
       "      <th>0</th>\n",
       "      <td>DecisionTreeRegressor()</td>\n",
       "      <td>7.595593</td>\n",
       "      <td>6.497884</td>\n",
       "      <td>DecisionTree</td>\n",
       "    </tr>\n",
       "    <tr>\n",
       "      <th>1</th>\n",
       "      <td>RandomForestRegressor(n_jobs=-1)</td>\n",
       "      <td>6.562793</td>\n",
       "      <td>4.637786</td>\n",
       "      <td>RandomForest</td>\n",
       "    </tr>\n",
       "    <tr>\n",
       "      <th>2</th>\n",
       "      <td>LGBMRegressor(metric='RMSE', objective='regres...</td>\n",
       "      <td>6.777042</td>\n",
       "      <td>4.512944</td>\n",
       "      <td>LightGBM</td>\n",
       "    </tr>\n",
       "    <tr>\n",
       "      <th>3</th>\n",
       "      <td>XGBRegressor(base_score=None, booster='gbtree'...</td>\n",
       "      <td>6.516411</td>\n",
       "      <td>6.016994</td>\n",
       "      <td>XGBoost</td>\n",
       "    </tr>\n",
       "    <tr>\n",
       "      <th>4</th>\n",
       "      <td>&lt;catboost.core.CatBoostRegressor object at 0x0...</td>\n",
       "      <td>6.474964</td>\n",
       "      <td>5.283261</td>\n",
       "      <td>CatBoost</td>\n",
       "    </tr>\n",
       "  </tbody>\n",
       "</table>\n",
       "</div>"
      ],
      "text/plain": [
       "                                               model  MAE_model  MAE_on_train  \\\n",
       "0                            DecisionTreeRegressor()   7.595593      6.497884   \n",
       "1                   RandomForestRegressor(n_jobs=-1)   6.562793      4.637786   \n",
       "2  LGBMRegressor(metric='RMSE', objective='regres...   6.777042      4.512944   \n",
       "3  XGBRegressor(base_score=None, booster='gbtree'...   6.516411      6.016994   \n",
       "4  <catboost.core.CatBoostRegressor object at 0x0...   6.474964      5.283261   \n",
       "\n",
       "          names  \n",
       "0  DecisionTree  \n",
       "1  RandomForest  \n",
       "2      LightGBM  \n",
       "3       XGBoost  \n",
       "4      CatBoost  "
      ]
     },
     "metadata": {},
     "output_type": "display_data"
    },
    {
     "data": {
      "image/png": "[encoded data removed]",
      "text/plain": [
       "<Figure size 1080x504 with 1 Axes>"
      ]
     },
     "metadata": {
      "needs_background": "light"
     },
     "output_type": "display_data"
    },
    {
     "data": {
      "image/png": "[encoded data removed]",
      "text/plain": [
       "<Figure size 1080x504 with 1 Axes>"
      ]
     },
     "metadata": {
      "needs_background": "light"
     },
     "output_type": "display_data"
    }
   ],
   "source": [
    "all_names = pd.DataFrame({'names':['DecisionTree', 'RandomForest', 'LightGBM', 'XGBoost', 'CatBoost']})\n",
    "analisys = pd.concat([analisys, all_names], axis=1, join='inner')\n",
    "display(analisys)\n",
    "\n",
    "analisys.plot.bar(y='MAE_model', x='names', rot=45, figsize=(15,7), color='orange')\n",
    "plt.title('Сравнение метрик моделей', fontsize='x-large')\n",
    "plt.xlabel('Модель')\n",
    "plt.show()\n",
    "\n",
    "analisys.plot.bar(y='MAE_on_train', x='names', rot=45, figsize=(15,7), color='green')\n",
    "plt.title('Сравнение метрик на обучающей выборке', fontsize='x-large')\n",
    "plt.xlabel('Модель')\n",
    "plt.show()"
   ]
  },
  {
   "cell_type": "markdown",
   "id": "bcb62eb7",
   "metadata": {},
   "source": [
    "**Вывод:**\n",
    "\n",
    "Из полученных моделей наилучше всего показала себя модель `CatBoost` с параметрами `learning_rate`: `0.01`, `max_depth`: `6`.\n",
    "\n",
    "Данную модель можно использовать в тестировании."
   ]
  },
  {
   "cell_type": "markdown",
   "id": "1bef277e",
   "metadata": {},
   "source": [
    "## Тестирование модели:"
   ]
  },
  {
   "cell_type": "markdown",
   "id": "14819d36",
   "metadata": {},
   "source": [
    "Воспользуемся обученной моделью и посмотрим метрики на тестовой выборке:"
   ]
  },
  {
   "cell_type": "code",
   "execution_count": 42,
   "id": "6f68016e",
   "metadata": {},
   "outputs": [
    {
     "name": "stdout",
     "output_type": "stream",
     "text": [
      "MAE на тестовой выборке при использовании GridSearchCV: 5.809316838391245\n"
     ]
    }
   ],
   "source": [
    "predicted = cat_random.predict(test_features)\n",
    "mae_on_test = mean_absolute_error(test_target, predicted)\n",
    "print('MAE на тестовой выборке при использовании GridSearchCV:', mae_on_test)"
   ]
  },
  {
   "cell_type": "markdown",
   "id": "79d5c8c8",
   "metadata": {},
   "source": [
    "Итоговая метрика ниже `6.00`. Модель можно использовать."
   ]
  },
  {
   "cell_type": "markdown",
   "id": "fe29bcd4",
   "metadata": {},
   "source": [
    "**Рассмотрим важность параметров:**"
   ]
  },
  {
   "cell_type": "code",
   "execution_count": 43,
   "id": "eam7lbqHCsM-",
   "metadata": {
    "colab": {
     "base_uri": "https://localhost:8080/",
     "height": 404
    },
    "executionInfo": {
     "elapsed": 442,
     "status": "ok",
     "timestamp": 1657021205065,
     "user": {
      "displayName": "Кирилл Ерохин",
      "userId": "09883907194110507041"
     },
     "user_tz": -180
    },
    "id": "eam7lbqHCsM-",
    "outputId": "26e2d95d-2b60-4149-8f20-0c9ec7bfec63"
   },
   "outputs": [
    {
     "data": {
      "image/png": "[encoded data removed]",
      "text/plain": [
       "<Figure size 1080x360 with 1 Axes>"
      ]
     },
     "metadata": {
      "needs_background": "light"
     },
     "output_type": "display_data"
    }
   ],
   "source": [
    "features = pd.Series(cat_random.best_estimator_.feature_importances_, index=train_features.columns)\n",
    "\n",
    "plt.figure(figsize=(15,5))\n",
    "features.plot.bar()\n",
    "plt.show()"
   ]
  },
  {
   "cell_type": "markdown",
   "id": "172038ab",
   "metadata": {},
   "source": [
    "Как видно из графика, для итоговой метрики наиболее важны параметры:\n",
    "\n",
    "* **Энергии, потребляемой при нагреве**, то есть времени нагрева и реактивной и полной мощностей.\n",
    "* И первом измерении температуры\n",
    "\n",
    "Заказчику стоит обратить внимание на данные параметры, добавить их в следующие наблюдения, так как они наиболее сильно влияют на **итоговую конечную температуру**."
   ]
  },
  {
   "cell_type": "markdown",
   "id": "63e6a0c5",
   "metadata": {},
   "source": [
    "## Отчет о проделанной работе:"
   ]
  },
  {
   "cell_type": "markdown",
   "id": "0207dc92",
   "metadata": {},
   "source": [
    "**В отчёте ответьте на вопросы:**\n",
    "\n",
    "**1. Какие пункты плана были выполнены, а какие — нет (поясните почему)?**\n",
    "\n",
    "Все пункты плана были выполнены. Работа проделана без серьезных ошибок и проблем.\n",
    "\n",
    "**2. Какие трудности возникли и как вы их преодолели?**\n",
    "\n",
    "Основная трудность - выбросы и малое количество наблюдений. Скорее всего данная модель сильно переобучена на тренировочной выборке, что может сказаться на итоговой метрике после использования модели. Но без последующих наблюдений такое сказать трудно. Так же недостаточность параметров: при таком малом количестве наблюдений стоит так же запрашивать у заказчика дополнительные данные, чтобы еще лучше предсказывать метрику.\n",
    "\n",
    "**3. Какие ключевые шаги в решении задачи выделили?**\n",
    "\n",
    "Ключевые шаги: предобработка данных, сбор всех данных воедино, расчет новых параметров, и выделение итоговой модели.\n",
    "\n",
    "**4. Какая ваша итоговая модель и какое у неё качество?**\n",
    "\n",
    "Итоговая модель - `CatBoost` с параметрами `learning_rate`: `0.01`, `max_depth`: `6`. Итоговая метрика модели `MAE`: `5.809`."
   ]
  }
 ],
 "metadata": {
  "ExecuteTimeLog": [
   {
    "duration": 1204,
    "start_time": "2022-07-08T08:37:18.110Z"
   },
   {
    "duration": 2,
    "start_time": "2022-07-08T08:37:19.316Z"
   },
   {
    "duration": 169,
    "start_time": "2022-07-08T08:37:19.323Z"
   },
   {
    "duration": 3,
    "start_time": "2022-07-08T08:37:21.472Z"
   },
   {
    "duration": 171,
    "start_time": "2022-07-08T08:37:22.301Z"
   },
   {
    "duration": 308,
    "start_time": "2022-07-08T08:37:23.320Z"
   },
   {
    "duration": 245,
    "start_time": "2022-07-08T08:37:24.243Z"
   },
   {
    "duration": 100,
    "start_time": "2022-07-08T08:37:25.087Z"
   },
   {
    "duration": 1196,
    "start_time": "2022-07-08T08:37:25.419Z"
   },
   {
    "duration": 403,
    "start_time": "2022-07-08T08:37:26.624Z"
   },
   {
    "duration": 284,
    "start_time": "2022-07-08T08:37:27.029Z"
   },
   {
    "duration": 153,
    "start_time": "2022-07-08T08:37:27.315Z"
   },
   {
    "duration": 300,
    "start_time": "2022-07-08T08:37:27.471Z"
   },
   {
    "duration": 111,
    "start_time": "2022-07-08T08:37:27.773Z"
   },
   {
    "duration": 863,
    "start_time": "2022-07-08T08:37:27.885Z"
   },
   {
    "duration": 44,
    "start_time": "2022-07-08T08:37:30.409Z"
   },
   {
    "duration": 4,
    "start_time": "2022-07-08T08:37:30.582Z"
   },
   {
    "duration": 5,
    "start_time": "2022-07-08T08:37:30.752Z"
   },
   {
    "duration": 5,
    "start_time": "2022-07-08T08:37:31.083Z"
   },
   {
    "duration": 3,
    "start_time": "2022-07-08T08:37:51.971Z"
   },
   {
    "duration": 4,
    "start_time": "2022-07-08T08:37:52.626Z"
   },
   {
    "duration": 54,
    "start_time": "2022-07-08T08:37:53.272Z"
   },
   {
    "duration": 162,
    "start_time": "2022-07-08T08:37:54.494Z"
   }
  ],
  "colab": {
   "collapsed_sections": [],
   "name": "Final_EDA_reviewed_testing.ipynb",
   "provenance": [
    {
     "file_id": "1JCsnHdF7Nwi_fmz6XpeV9UN5USAcxgco",
     "timestamp": 1657000502561
    }
   ],
   "toc_visible": true
  },
  "kernelspec": {
   "display_name": "Python 3 (ipykernel)",
   "language": "python",
   "name": "python3"
  },
  "language_info": {
   "codemirror_mode": {
    "name": "ipython",
    "version": 3
   },
   "file_extension": ".py",
   "mimetype": "text/x-python",
   "name": "python",
   "nbconvert_exporter": "python",
   "pygments_lexer": "ipython3",
   "version": "3.9.13"
  },
  "toc": {
   "base_numbering": 1,
   "nav_menu": {},
   "number_sections": true,
   "sideBar": true,
   "skip_h1_title": true,
   "title_cell": "Содержание",
   "title_sidebar": "Contents",
   "toc_cell": true,
   "toc_position": {
    "height": "calc(100% - 180px)",
    "left": "10px",
    "top": "150px",
    "width": "384px"
   },
   "toc_section_display": true,
   "toc_window_display": false
  }
 },
 "nbformat": 4,
 "nbformat_minor": 5
}
