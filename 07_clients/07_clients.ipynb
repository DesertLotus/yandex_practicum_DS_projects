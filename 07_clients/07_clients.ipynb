{
 "cells": [
  {
   "cell_type": "markdown",
   "metadata": {
    "toc": true
   },
   "source": [
    "<h1>Содержание<span class=\"tocSkip\"></span></h1>\n",
    "<div class=\"toc\"><ul class=\"toc-item\"><li><span><a href=\"#Подготовка-данных\" data-toc-modified-id=\"Подготовка-данных-1\"><span class=\"toc-item-num\">1&nbsp;&nbsp;</span>Подготовка данных</a></span><ul class=\"toc-item\"><li><span><a href=\"#Вывод\" data-toc-modified-id=\"Вывод-1.1\"><span class=\"toc-item-num\">1.1&nbsp;&nbsp;</span>Вывод</a></span></li></ul></li><li><span><a href=\"#Исследование-задачи\" data-toc-modified-id=\"Исследование-задачи-2\"><span class=\"toc-item-num\">2&nbsp;&nbsp;</span>Исследование задачи</a></span><ul class=\"toc-item\"><li><span><a href=\"#Дерево-решений\" data-toc-modified-id=\"Дерево-решений-2.1\"><span class=\"toc-item-num\">2.1&nbsp;&nbsp;</span>Дерево решений</a></span></li><li><span><a href=\"#Случайный-лес\" data-toc-modified-id=\"Случайный-лес-2.2\"><span class=\"toc-item-num\">2.2&nbsp;&nbsp;</span>Случайный лес</a></span></li><li><span><a href=\"#Логистическая-регрессия\" data-toc-modified-id=\"Логистическая-регрессия-2.3\"><span class=\"toc-item-num\">2.3&nbsp;&nbsp;</span>Логистическая регрессия</a></span></li><li><span><a href=\"#Вывод\" data-toc-modified-id=\"Вывод-2.4\"><span class=\"toc-item-num\">2.4&nbsp;&nbsp;</span>Вывод</a></span></li></ul></li><li><span><a href=\"#Борьба-с-дисбалансом\" data-toc-modified-id=\"Борьба-с-дисбалансом-3\"><span class=\"toc-item-num\">3&nbsp;&nbsp;</span>Борьба с дисбалансом</a></span><ul class=\"toc-item\"><li><span><a href=\"#Взвешивание-классов\" data-toc-modified-id=\"Взвешивание-классов-3.1\"><span class=\"toc-item-num\">3.1&nbsp;&nbsp;</span>Взвешивание классов</a></span></li><li><span><a href=\"#Увеличение-выборки\" data-toc-modified-id=\"Увеличение-выборки-3.2\"><span class=\"toc-item-num\">3.2&nbsp;&nbsp;</span>Увеличение выборки</a></span><ul class=\"toc-item\"><li><span><a href=\"#Дерево-решений\" data-toc-modified-id=\"Дерево-решений-3.2.1\"><span class=\"toc-item-num\">3.2.1&nbsp;&nbsp;</span>Дерево решений</a></span></li><li><span><a href=\"#Случаный-лес\" data-toc-modified-id=\"Случаный-лес-3.2.2\"><span class=\"toc-item-num\">3.2.2&nbsp;&nbsp;</span>Случаный лес</a></span></li><li><span><a href=\"#Логистическая-регрессия\" data-toc-modified-id=\"Логистическая-регрессия-3.2.3\"><span class=\"toc-item-num\">3.2.3&nbsp;&nbsp;</span>Логистическая регрессия</a></span></li><li><span><a href=\"#Вывод\" data-toc-modified-id=\"Вывод-3.2.4\"><span class=\"toc-item-num\">3.2.4&nbsp;&nbsp;</span>Вывод</a></span></li></ul></li><li><span><a href=\"#Уменьшение-выборки\" data-toc-modified-id=\"Уменьшение-выборки-3.3\"><span class=\"toc-item-num\">3.3&nbsp;&nbsp;</span>Уменьшение выборки</a></span><ul class=\"toc-item\"><li><span><a href=\"#Дерево-решений\" data-toc-modified-id=\"Дерево-решений-3.3.1\"><span class=\"toc-item-num\">3.3.1&nbsp;&nbsp;</span>Дерево решений</a></span></li><li><span><a href=\"#Случаный-лес\" data-toc-modified-id=\"Случаный-лес-3.3.2\"><span class=\"toc-item-num\">3.3.2&nbsp;&nbsp;</span>Случаный лес</a></span></li><li><span><a href=\"#Логистическая-регрессия\" data-toc-modified-id=\"Логистическая-регрессия-3.3.3\"><span class=\"toc-item-num\">3.3.3&nbsp;&nbsp;</span>Логистическая регрессия</a></span></li><li><span><a href=\"#Вывод\" data-toc-modified-id=\"Вывод-3.3.4\"><span class=\"toc-item-num\">3.3.4&nbsp;&nbsp;</span>Вывод</a></span></li></ul></li><li><span><a href=\"#Изменение-порога\" data-toc-modified-id=\"Изменение-порога-3.4\"><span class=\"toc-item-num\">3.4&nbsp;&nbsp;</span>Изменение порога</a></span><ul class=\"toc-item\"><li><span><a href=\"#Дерево-решений\" data-toc-modified-id=\"Дерево-решений-3.4.1\"><span class=\"toc-item-num\">3.4.1&nbsp;&nbsp;</span>Дерево решений</a></span></li><li><span><a href=\"#Случайный-лес\" data-toc-modified-id=\"Случайный-лес-3.4.2\"><span class=\"toc-item-num\">3.4.2&nbsp;&nbsp;</span>Случайный лес</a></span></li><li><span><a href=\"#Логистическая-регрессия\" data-toc-modified-id=\"Логистическая-регрессия-3.4.3\"><span class=\"toc-item-num\">3.4.3&nbsp;&nbsp;</span>Логистическая регрессия</a></span></li><li><span><a href=\"#Вывод\" data-toc-modified-id=\"Вывод-3.4.4\"><span class=\"toc-item-num\">3.4.4&nbsp;&nbsp;</span>Вывод</a></span></li></ul></li><li><span><a href=\"#Объединение-способов\" data-toc-modified-id=\"Объединение-способов-3.5\"><span class=\"toc-item-num\">3.5&nbsp;&nbsp;</span>Объединение способов</a></span><ul class=\"toc-item\"><li><span><a href=\"#Вывод\" data-toc-modified-id=\"Вывод-3.5.1\"><span class=\"toc-item-num\">3.5.1&nbsp;&nbsp;</span>Вывод</a></span></li></ul></li></ul></li><li><span><a href=\"#Тестирование-модели\" data-toc-modified-id=\"Тестирование-модели-4\"><span class=\"toc-item-num\">4&nbsp;&nbsp;</span>Тестирование модели</a></span><ul class=\"toc-item\"><li><span><a href=\"#Доп.-задание.-Feature-importence\" data-toc-modified-id=\"Доп.-задание.-Feature-importence-4.1\"><span class=\"toc-item-num\">4.1&nbsp;&nbsp;</span>Доп. задание. Feature importence</a></span></li></ul></li><li><span><a href=\"#Общий-вывод\" data-toc-modified-id=\"Общий-вывод-5\"><span class=\"toc-item-num\">5&nbsp;&nbsp;</span>Общий вывод</a></span><ul class=\"toc-item\"><li><span><a href=\"#Вопросы-от-студента\" data-toc-modified-id=\"Вопросы-от-студента-5.1\"><span class=\"toc-item-num\">5.1&nbsp;&nbsp;</span>Вопросы от студента</a></span></li></ul></li><li><span><a href=\"#Чек-лист-готовности-проекта\" data-toc-modified-id=\"Чек-лист-готовности-проекта-6\"><span class=\"toc-item-num\">6&nbsp;&nbsp;</span>Чек-лист готовности проекта</a></span></li></ul></div>"
   ]
  },
  {
   "cell_type": "markdown",
   "metadata": {},
   "source": [
    "# Отток клиентов"
   ]
  },
  {
   "cell_type": "markdown",
   "metadata": {},
   "source": [
    "Из «Бета-Банка» стали уходить клиенты. Каждый месяц. Немного, но заметно. Банковские маркетологи посчитали: сохранять текущих клиентов дешевле, чем привлекать новых.\n",
    "\n",
    "Нужно спрогнозировать, уйдёт клиент из банка в ближайшее время или нет. Вам предоставлены исторические данные о поведении клиентов и расторжении договоров с банком. \n",
    "\n",
    "Постройте модель с предельно большим значением *F1*-меры. Чтобы сдать проект успешно, нужно довести метрику до 0.59. Проверьте *F1*-меру на тестовой выборке самостоятельно.\n",
    "\n",
    "Дополнительно измеряйте *AUC-ROC*, сравнивайте её значение с *F1*-мерой.\n",
    "\n",
    "Источник данных: [https://www.kaggle.com/barelydedicated/bank-customer-churn-modeling](https://www.kaggle.com/barelydedicated/bank-customer-churn-modeling)"
   ]
  },
  {
   "cell_type": "markdown",
   "metadata": {},
   "source": [
    "## Подготовка данных"
   ]
  },
  {
   "cell_type": "markdown",
   "metadata": {},
   "source": [
    "Подгрузим необходимые библиотеки:"
   ]
  },
  {
   "cell_type": "code",
   "execution_count": 1,
   "metadata": {},
   "outputs": [],
   "source": [
    "import pandas as pd # импорт библиотеки pandas \n",
    "import matplotlib.pyplot as plt # импорт библиотеки matplotlib\n",
    "plt.style.use('seaborn-pastel')\n",
    "import seaborn as sns # импорт библиотеки seaborn\n",
    "import numpy as np # импорт библиотеки nump\n",
    "from scipy import stats as st # импорт библиотеки scipy\n",
    "import random\n",
    "\n",
    "from sklearn.metrics import accuracy_score # импорт метрики из библиотеки sklearn \n",
    "from sklearn.model_selection import train_test_split # импорт разделителя\n",
    "from sklearn.tree import DecisionTreeClassifier # импорт дерева решений\n",
    "from sklearn.ensemble import RandomForestClassifier # импорт классификатора случайного леса\n",
    "from sklearn.linear_model import LogisticRegression # импорт линейной регрессии \n",
    "from sklearn.preprocessing import StandardScaler # стандартизация\n",
    "from sklearn.metrics import precision_recall_curve, classification_report # импорт метрик\n",
    "from sklearn.metrics import precision_score, recall_score, f1_score, roc_auc_score, roc_curve # импорт метрик\n",
    "from sklearn.utils import shuffle # импорт шаффла для перемешивания\n",
    "\n",
    "import time\n",
    "from tqdm import tqdm # импорт библиотеки tqdm для просмотра прогресса обучения модели"
   ]
  },
  {
   "cell_type": "markdown",
   "metadata": {},
   "source": [
    "Подгрузим и изучим датасет:"
   ]
  },
  {
   "cell_type": "code",
   "execution_count": 2,
   "metadata": {},
   "outputs": [],
   "source": [
    "df = pd.read_csv('/datasets/Churn.csv')"
   ]
  },
  {
   "cell_type": "code",
   "execution_count": 3,
   "metadata": {},
   "outputs": [
    {
     "name": "stdout",
     "output_type": "stream",
     "text": [
      "<class 'pandas.core.frame.DataFrame'>\n",
      "RangeIndex: 10000 entries, 0 to 9999\n",
      "Data columns (total 14 columns):\n",
      "RowNumber          10000 non-null int64\n",
      "CustomerId         10000 non-null int64\n",
      "Surname            10000 non-null object\n",
      "CreditScore        10000 non-null int64\n",
      "Geography          10000 non-null object\n",
      "Gender             10000 non-null object\n",
      "Age                10000 non-null int64\n",
      "Tenure             9091 non-null float64\n",
      "Balance            10000 non-null float64\n",
      "NumOfProducts      10000 non-null int64\n",
      "HasCrCard          10000 non-null int64\n",
      "IsActiveMember     10000 non-null int64\n",
      "EstimatedSalary    10000 non-null float64\n",
      "Exited             10000 non-null int64\n",
      "dtypes: float64(3), int64(8), object(3)\n",
      "memory usage: 1.1+ MB\n"
     ]
    }
   ],
   "source": [
    "df.info()"
   ]
  },
  {
   "cell_type": "code",
   "execution_count": 4,
   "metadata": {
    "scrolled": true
   },
   "outputs": [
    {
     "data": {
      "text/html": [
       "<div>\n",
       "<style scoped>\n",
       "    .dataframe tbody tr th:only-of-type {\n",
       "        vertical-align: middle;\n",
       "    }\n",
       "\n",
       "    .dataframe tbody tr th {\n",
       "        vertical-align: top;\n",
       "    }\n",
       "\n",
       "    .dataframe thead th {\n",
       "        text-align: right;\n",
       "    }\n",
       "</style>\n",
       "<table border=\"1\" class=\"dataframe\">\n",
       "  <thead>\n",
       "    <tr style=\"text-align: right;\">\n",
       "      <th></th>\n",
       "      <th>RowNumber</th>\n",
       "      <th>CustomerId</th>\n",
       "      <th>Surname</th>\n",
       "      <th>CreditScore</th>\n",
       "      <th>Geography</th>\n",
       "      <th>Gender</th>\n",
       "      <th>Age</th>\n",
       "      <th>Tenure</th>\n",
       "      <th>Balance</th>\n",
       "      <th>NumOfProducts</th>\n",
       "      <th>HasCrCard</th>\n",
       "      <th>IsActiveMember</th>\n",
       "      <th>EstimatedSalary</th>\n",
       "      <th>Exited</th>\n",
       "    </tr>\n",
       "  </thead>\n",
       "  <tbody>\n",
       "    <tr>\n",
       "      <th>0</th>\n",
       "      <td>1</td>\n",
       "      <td>15634602</td>\n",
       "      <td>Hargrave</td>\n",
       "      <td>619</td>\n",
       "      <td>France</td>\n",
       "      <td>Female</td>\n",
       "      <td>42</td>\n",
       "      <td>2.0</td>\n",
       "      <td>0.00</td>\n",
       "      <td>1</td>\n",
       "      <td>1</td>\n",
       "      <td>1</td>\n",
       "      <td>101348.88</td>\n",
       "      <td>1</td>\n",
       "    </tr>\n",
       "    <tr>\n",
       "      <th>1</th>\n",
       "      <td>2</td>\n",
       "      <td>15647311</td>\n",
       "      <td>Hill</td>\n",
       "      <td>608</td>\n",
       "      <td>Spain</td>\n",
       "      <td>Female</td>\n",
       "      <td>41</td>\n",
       "      <td>1.0</td>\n",
       "      <td>83807.86</td>\n",
       "      <td>1</td>\n",
       "      <td>0</td>\n",
       "      <td>1</td>\n",
       "      <td>112542.58</td>\n",
       "      <td>0</td>\n",
       "    </tr>\n",
       "    <tr>\n",
       "      <th>2</th>\n",
       "      <td>3</td>\n",
       "      <td>15619304</td>\n",
       "      <td>Onio</td>\n",
       "      <td>502</td>\n",
       "      <td>France</td>\n",
       "      <td>Female</td>\n",
       "      <td>42</td>\n",
       "      <td>8.0</td>\n",
       "      <td>159660.80</td>\n",
       "      <td>3</td>\n",
       "      <td>1</td>\n",
       "      <td>0</td>\n",
       "      <td>113931.57</td>\n",
       "      <td>1</td>\n",
       "    </tr>\n",
       "    <tr>\n",
       "      <th>3</th>\n",
       "      <td>4</td>\n",
       "      <td>15701354</td>\n",
       "      <td>Boni</td>\n",
       "      <td>699</td>\n",
       "      <td>France</td>\n",
       "      <td>Female</td>\n",
       "      <td>39</td>\n",
       "      <td>1.0</td>\n",
       "      <td>0.00</td>\n",
       "      <td>2</td>\n",
       "      <td>0</td>\n",
       "      <td>0</td>\n",
       "      <td>93826.63</td>\n",
       "      <td>0</td>\n",
       "    </tr>\n",
       "    <tr>\n",
       "      <th>4</th>\n",
       "      <td>5</td>\n",
       "      <td>15737888</td>\n",
       "      <td>Mitchell</td>\n",
       "      <td>850</td>\n",
       "      <td>Spain</td>\n",
       "      <td>Female</td>\n",
       "      <td>43</td>\n",
       "      <td>2.0</td>\n",
       "      <td>125510.82</td>\n",
       "      <td>1</td>\n",
       "      <td>1</td>\n",
       "      <td>1</td>\n",
       "      <td>79084.10</td>\n",
       "      <td>0</td>\n",
       "    </tr>\n",
       "    <tr>\n",
       "      <th>5</th>\n",
       "      <td>6</td>\n",
       "      <td>15574012</td>\n",
       "      <td>Chu</td>\n",
       "      <td>645</td>\n",
       "      <td>Spain</td>\n",
       "      <td>Male</td>\n",
       "      <td>44</td>\n",
       "      <td>8.0</td>\n",
       "      <td>113755.78</td>\n",
       "      <td>2</td>\n",
       "      <td>1</td>\n",
       "      <td>0</td>\n",
       "      <td>149756.71</td>\n",
       "      <td>1</td>\n",
       "    </tr>\n",
       "    <tr>\n",
       "      <th>6</th>\n",
       "      <td>7</td>\n",
       "      <td>15592531</td>\n",
       "      <td>Bartlett</td>\n",
       "      <td>822</td>\n",
       "      <td>France</td>\n",
       "      <td>Male</td>\n",
       "      <td>50</td>\n",
       "      <td>7.0</td>\n",
       "      <td>0.00</td>\n",
       "      <td>2</td>\n",
       "      <td>1</td>\n",
       "      <td>1</td>\n",
       "      <td>10062.80</td>\n",
       "      <td>0</td>\n",
       "    </tr>\n",
       "    <tr>\n",
       "      <th>7</th>\n",
       "      <td>8</td>\n",
       "      <td>15656148</td>\n",
       "      <td>Obinna</td>\n",
       "      <td>376</td>\n",
       "      <td>Germany</td>\n",
       "      <td>Female</td>\n",
       "      <td>29</td>\n",
       "      <td>4.0</td>\n",
       "      <td>115046.74</td>\n",
       "      <td>4</td>\n",
       "      <td>1</td>\n",
       "      <td>0</td>\n",
       "      <td>119346.88</td>\n",
       "      <td>1</td>\n",
       "    </tr>\n",
       "    <tr>\n",
       "      <th>8</th>\n",
       "      <td>9</td>\n",
       "      <td>15792365</td>\n",
       "      <td>He</td>\n",
       "      <td>501</td>\n",
       "      <td>France</td>\n",
       "      <td>Male</td>\n",
       "      <td>44</td>\n",
       "      <td>4.0</td>\n",
       "      <td>142051.07</td>\n",
       "      <td>2</td>\n",
       "      <td>0</td>\n",
       "      <td>1</td>\n",
       "      <td>74940.50</td>\n",
       "      <td>0</td>\n",
       "    </tr>\n",
       "    <tr>\n",
       "      <th>9</th>\n",
       "      <td>10</td>\n",
       "      <td>15592389</td>\n",
       "      <td>H?</td>\n",
       "      <td>684</td>\n",
       "      <td>France</td>\n",
       "      <td>Male</td>\n",
       "      <td>27</td>\n",
       "      <td>2.0</td>\n",
       "      <td>134603.88</td>\n",
       "      <td>1</td>\n",
       "      <td>1</td>\n",
       "      <td>1</td>\n",
       "      <td>71725.73</td>\n",
       "      <td>0</td>\n",
       "    </tr>\n",
       "  </tbody>\n",
       "</table>\n",
       "</div>"
      ],
      "text/plain": [
       "   RowNumber  CustomerId   Surname  CreditScore Geography  Gender  Age  \\\n",
       "0          1    15634602  Hargrave          619    France  Female   42   \n",
       "1          2    15647311      Hill          608     Spain  Female   41   \n",
       "2          3    15619304      Onio          502    France  Female   42   \n",
       "3          4    15701354      Boni          699    France  Female   39   \n",
       "4          5    15737888  Mitchell          850     Spain  Female   43   \n",
       "5          6    15574012       Chu          645     Spain    Male   44   \n",
       "6          7    15592531  Bartlett          822    France    Male   50   \n",
       "7          8    15656148    Obinna          376   Germany  Female   29   \n",
       "8          9    15792365        He          501    France    Male   44   \n",
       "9         10    15592389        H?          684    France    Male   27   \n",
       "\n",
       "   Tenure    Balance  NumOfProducts  HasCrCard  IsActiveMember  \\\n",
       "0     2.0       0.00              1          1               1   \n",
       "1     1.0   83807.86              1          0               1   \n",
       "2     8.0  159660.80              3          1               0   \n",
       "3     1.0       0.00              2          0               0   \n",
       "4     2.0  125510.82              1          1               1   \n",
       "5     8.0  113755.78              2          1               0   \n",
       "6     7.0       0.00              2          1               1   \n",
       "7     4.0  115046.74              4          1               0   \n",
       "8     4.0  142051.07              2          0               1   \n",
       "9     2.0  134603.88              1          1               1   \n",
       "\n",
       "   EstimatedSalary  Exited  \n",
       "0        101348.88       1  \n",
       "1        112542.58       0  \n",
       "2        113931.57       1  \n",
       "3         93826.63       0  \n",
       "4         79084.10       0  \n",
       "5        149756.71       1  \n",
       "6         10062.80       0  \n",
       "7        119346.88       1  \n",
       "8         74940.50       0  \n",
       "9         71725.73       0  "
      ]
     },
     "execution_count": 4,
     "metadata": {},
     "output_type": "execute_result"
    }
   ],
   "source": [
    "df.head(10)"
   ]
  },
  {
   "cell_type": "markdown",
   "metadata": {},
   "source": [
    "Из исходных данных изветсно:\n",
    "\n",
    "* RowNumber — индекс строки в данных\n",
    "* CustomerId — уникальный идентификатор клиента\n",
    "* Surname — фамилия\n",
    "* CreditScore — кредитный рейтинг\n",
    "* Geography — страна проживания\n",
    "* Gender — пол\n",
    "* Age — возраст\n",
    "* Tenure — сколько лет человек является клиентом банка\n",
    "* Balance — баланс на счёте\n",
    "* NumOfProducts — количество продуктов банка, используемых клиентом\n",
    "* HasCrCard — наличие кредитной карты\n",
    "* IsActiveMember — активность клиента\n",
    "* EstimatedSalary — предполагаемая зарплата\n",
    "* Exited — факт ухода клиента"
   ]
  },
  {
   "cell_type": "markdown",
   "metadata": {},
   "source": [
    "Обработаем данные:\n",
    "\n",
    "Изменим название колонок - отформатируем в стандартный формат:"
   ]
  },
  {
   "cell_type": "code",
   "execution_count": 5,
   "metadata": {},
   "outputs": [],
   "source": [
    "df.columns = df.columns.str.lower()"
   ]
  },
  {
   "cell_type": "code",
   "execution_count": 6,
   "metadata": {},
   "outputs": [],
   "source": [
    "df = df.rename(columns={'rownumber':'row_number', \n",
    "                        'customerid':'customer_id',  \n",
    "                        'creditscore':'credit_score', \n",
    "                        'numofproducts':'num_of_products', \n",
    "                        'hascrcard':'has_crcard',\n",
    "                        'isactivemember':'is_active_member', \n",
    "                        'estimatedsalary':'estimated_salary', \n",
    "                       })"
   ]
  },
  {
   "cell_type": "code",
   "execution_count": 7,
   "metadata": {
    "scrolled": true
   },
   "outputs": [
    {
     "data": {
      "text/html": [
       "<div>\n",
       "<style scoped>\n",
       "    .dataframe tbody tr th:only-of-type {\n",
       "        vertical-align: middle;\n",
       "    }\n",
       "\n",
       "    .dataframe tbody tr th {\n",
       "        vertical-align: top;\n",
       "    }\n",
       "\n",
       "    .dataframe thead th {\n",
       "        text-align: right;\n",
       "    }\n",
       "</style>\n",
       "<table border=\"1\" class=\"dataframe\">\n",
       "  <thead>\n",
       "    <tr style=\"text-align: right;\">\n",
       "      <th></th>\n",
       "      <th>row_number</th>\n",
       "      <th>customer_id</th>\n",
       "      <th>surname</th>\n",
       "      <th>credit_score</th>\n",
       "      <th>geography</th>\n",
       "      <th>gender</th>\n",
       "      <th>age</th>\n",
       "      <th>tenure</th>\n",
       "      <th>balance</th>\n",
       "      <th>num_of_products</th>\n",
       "      <th>has_crcard</th>\n",
       "      <th>is_active_member</th>\n",
       "      <th>estimated_salary</th>\n",
       "      <th>exited</th>\n",
       "    </tr>\n",
       "  </thead>\n",
       "  <tbody>\n",
       "    <tr>\n",
       "      <th>0</th>\n",
       "      <td>1</td>\n",
       "      <td>15634602</td>\n",
       "      <td>Hargrave</td>\n",
       "      <td>619</td>\n",
       "      <td>France</td>\n",
       "      <td>Female</td>\n",
       "      <td>42</td>\n",
       "      <td>2.0</td>\n",
       "      <td>0.00</td>\n",
       "      <td>1</td>\n",
       "      <td>1</td>\n",
       "      <td>1</td>\n",
       "      <td>101348.88</td>\n",
       "      <td>1</td>\n",
       "    </tr>\n",
       "    <tr>\n",
       "      <th>1</th>\n",
       "      <td>2</td>\n",
       "      <td>15647311</td>\n",
       "      <td>Hill</td>\n",
       "      <td>608</td>\n",
       "      <td>Spain</td>\n",
       "      <td>Female</td>\n",
       "      <td>41</td>\n",
       "      <td>1.0</td>\n",
       "      <td>83807.86</td>\n",
       "      <td>1</td>\n",
       "      <td>0</td>\n",
       "      <td>1</td>\n",
       "      <td>112542.58</td>\n",
       "      <td>0</td>\n",
       "    </tr>\n",
       "    <tr>\n",
       "      <th>2</th>\n",
       "      <td>3</td>\n",
       "      <td>15619304</td>\n",
       "      <td>Onio</td>\n",
       "      <td>502</td>\n",
       "      <td>France</td>\n",
       "      <td>Female</td>\n",
       "      <td>42</td>\n",
       "      <td>8.0</td>\n",
       "      <td>159660.80</td>\n",
       "      <td>3</td>\n",
       "      <td>1</td>\n",
       "      <td>0</td>\n",
       "      <td>113931.57</td>\n",
       "      <td>1</td>\n",
       "    </tr>\n",
       "    <tr>\n",
       "      <th>3</th>\n",
       "      <td>4</td>\n",
       "      <td>15701354</td>\n",
       "      <td>Boni</td>\n",
       "      <td>699</td>\n",
       "      <td>France</td>\n",
       "      <td>Female</td>\n",
       "      <td>39</td>\n",
       "      <td>1.0</td>\n",
       "      <td>0.00</td>\n",
       "      <td>2</td>\n",
       "      <td>0</td>\n",
       "      <td>0</td>\n",
       "      <td>93826.63</td>\n",
       "      <td>0</td>\n",
       "    </tr>\n",
       "    <tr>\n",
       "      <th>4</th>\n",
       "      <td>5</td>\n",
       "      <td>15737888</td>\n",
       "      <td>Mitchell</td>\n",
       "      <td>850</td>\n",
       "      <td>Spain</td>\n",
       "      <td>Female</td>\n",
       "      <td>43</td>\n",
       "      <td>2.0</td>\n",
       "      <td>125510.82</td>\n",
       "      <td>1</td>\n",
       "      <td>1</td>\n",
       "      <td>1</td>\n",
       "      <td>79084.10</td>\n",
       "      <td>0</td>\n",
       "    </tr>\n",
       "  </tbody>\n",
       "</table>\n",
       "</div>"
      ],
      "text/plain": [
       "   row_number  customer_id   surname  credit_score geography  gender  age  \\\n",
       "0           1     15634602  Hargrave           619    France  Female   42   \n",
       "1           2     15647311      Hill           608     Spain  Female   41   \n",
       "2           3     15619304      Onio           502    France  Female   42   \n",
       "3           4     15701354      Boni           699    France  Female   39   \n",
       "4           5     15737888  Mitchell           850     Spain  Female   43   \n",
       "\n",
       "   tenure    balance  num_of_products  has_crcard  is_active_member  \\\n",
       "0     2.0       0.00                1           1                 1   \n",
       "1     1.0   83807.86                1           0                 1   \n",
       "2     8.0  159660.80                3           1                 0   \n",
       "3     1.0       0.00                2           0                 0   \n",
       "4     2.0  125510.82                1           1                 1   \n",
       "\n",
       "   estimated_salary  exited  \n",
       "0         101348.88       1  \n",
       "1         112542.58       0  \n",
       "2         113931.57       1  \n",
       "3          93826.63       0  \n",
       "4          79084.10       0  "
      ]
     },
     "execution_count": 7,
     "metadata": {},
     "output_type": "execute_result"
    }
   ],
   "source": [
    "df.head()"
   ]
  },
  {
   "cell_type": "markdown",
   "metadata": {},
   "source": [
    "Проверим наличие дубликатов:"
   ]
  },
  {
   "cell_type": "code",
   "execution_count": 8,
   "metadata": {},
   "outputs": [
    {
     "data": {
      "text/plain": [
       "0"
      ]
     },
     "execution_count": 8,
     "metadata": {},
     "output_type": "execute_result"
    }
   ],
   "source": [
    "df.duplicated().sum()"
   ]
  },
  {
   "cell_type": "markdown",
   "metadata": {},
   "source": [
    "Проверим пустые значения:"
   ]
  },
  {
   "cell_type": "code",
   "execution_count": 9,
   "metadata": {},
   "outputs": [
    {
     "data": {
      "text/plain": [
       "row_number            0\n",
       "customer_id           0\n",
       "surname               0\n",
       "credit_score          0\n",
       "geography             0\n",
       "gender                0\n",
       "age                   0\n",
       "tenure              909\n",
       "balance               0\n",
       "num_of_products       0\n",
       "has_crcard            0\n",
       "is_active_member      0\n",
       "estimated_salary      0\n",
       "exited                0\n",
       "dtype: int64"
      ]
     },
     "execution_count": 9,
     "metadata": {},
     "output_type": "execute_result"
    }
   ],
   "source": [
    "df.isna().sum()"
   ]
  },
  {
   "cell_type": "markdown",
   "metadata": {},
   "source": [
    "Отсутствует 909 значений в столбце `tenure`, прежде, чем обучать модель, необходимо заполнить пропуски или удалить строки без значений.\n",
    "\n",
    "Проверим взаимосвязь наличия пропусков:"
   ]
  },
  {
   "cell_type": "code",
   "execution_count": 10,
   "metadata": {
    "scrolled": false
   },
   "outputs": [
    {
     "data": {
      "text/html": [
       "<div>\n",
       "<style scoped>\n",
       "    .dataframe tbody tr th:only-of-type {\n",
       "        vertical-align: middle;\n",
       "    }\n",
       "\n",
       "    .dataframe tbody tr th {\n",
       "        vertical-align: top;\n",
       "    }\n",
       "\n",
       "    .dataframe thead th {\n",
       "        text-align: right;\n",
       "    }\n",
       "</style>\n",
       "<table border=\"1\" class=\"dataframe\">\n",
       "  <thead>\n",
       "    <tr style=\"text-align: right;\">\n",
       "      <th></th>\n",
       "      <th>row_number</th>\n",
       "      <th>customer_id</th>\n",
       "      <th>surname</th>\n",
       "      <th>credit_score</th>\n",
       "      <th>geography</th>\n",
       "      <th>gender</th>\n",
       "      <th>age</th>\n",
       "      <th>tenure</th>\n",
       "      <th>balance</th>\n",
       "      <th>num_of_products</th>\n",
       "      <th>has_crcard</th>\n",
       "      <th>is_active_member</th>\n",
       "      <th>estimated_salary</th>\n",
       "      <th>exited</th>\n",
       "    </tr>\n",
       "  </thead>\n",
       "  <tbody>\n",
       "    <tr>\n",
       "      <th>30</th>\n",
       "      <td>31</td>\n",
       "      <td>15589475</td>\n",
       "      <td>Azikiwe</td>\n",
       "      <td>591</td>\n",
       "      <td>Spain</td>\n",
       "      <td>Female</td>\n",
       "      <td>39</td>\n",
       "      <td>NaN</td>\n",
       "      <td>0.00</td>\n",
       "      <td>3</td>\n",
       "      <td>1</td>\n",
       "      <td>0</td>\n",
       "      <td>140469.38</td>\n",
       "      <td>1</td>\n",
       "    </tr>\n",
       "    <tr>\n",
       "      <th>48</th>\n",
       "      <td>49</td>\n",
       "      <td>15766205</td>\n",
       "      <td>Yin</td>\n",
       "      <td>550</td>\n",
       "      <td>Germany</td>\n",
       "      <td>Male</td>\n",
       "      <td>38</td>\n",
       "      <td>NaN</td>\n",
       "      <td>103391.38</td>\n",
       "      <td>1</td>\n",
       "      <td>0</td>\n",
       "      <td>1</td>\n",
       "      <td>90878.13</td>\n",
       "      <td>0</td>\n",
       "    </tr>\n",
       "    <tr>\n",
       "      <th>51</th>\n",
       "      <td>52</td>\n",
       "      <td>15768193</td>\n",
       "      <td>Trevisani</td>\n",
       "      <td>585</td>\n",
       "      <td>Germany</td>\n",
       "      <td>Male</td>\n",
       "      <td>36</td>\n",
       "      <td>NaN</td>\n",
       "      <td>146050.97</td>\n",
       "      <td>2</td>\n",
       "      <td>0</td>\n",
       "      <td>0</td>\n",
       "      <td>86424.57</td>\n",
       "      <td>0</td>\n",
       "    </tr>\n",
       "    <tr>\n",
       "      <th>53</th>\n",
       "      <td>54</td>\n",
       "      <td>15702298</td>\n",
       "      <td>Parkhill</td>\n",
       "      <td>655</td>\n",
       "      <td>Germany</td>\n",
       "      <td>Male</td>\n",
       "      <td>41</td>\n",
       "      <td>NaN</td>\n",
       "      <td>125561.97</td>\n",
       "      <td>1</td>\n",
       "      <td>0</td>\n",
       "      <td>0</td>\n",
       "      <td>164040.94</td>\n",
       "      <td>1</td>\n",
       "    </tr>\n",
       "    <tr>\n",
       "      <th>60</th>\n",
       "      <td>61</td>\n",
       "      <td>15651280</td>\n",
       "      <td>Hunter</td>\n",
       "      <td>742</td>\n",
       "      <td>Germany</td>\n",
       "      <td>Male</td>\n",
       "      <td>35</td>\n",
       "      <td>NaN</td>\n",
       "      <td>136857.00</td>\n",
       "      <td>1</td>\n",
       "      <td>0</td>\n",
       "      <td>0</td>\n",
       "      <td>84509.57</td>\n",
       "      <td>0</td>\n",
       "    </tr>\n",
       "    <tr>\n",
       "      <th>...</th>\n",
       "      <td>...</td>\n",
       "      <td>...</td>\n",
       "      <td>...</td>\n",
       "      <td>...</td>\n",
       "      <td>...</td>\n",
       "      <td>...</td>\n",
       "      <td>...</td>\n",
       "      <td>...</td>\n",
       "      <td>...</td>\n",
       "      <td>...</td>\n",
       "      <td>...</td>\n",
       "      <td>...</td>\n",
       "      <td>...</td>\n",
       "      <td>...</td>\n",
       "    </tr>\n",
       "    <tr>\n",
       "      <th>9944</th>\n",
       "      <td>9945</td>\n",
       "      <td>15703923</td>\n",
       "      <td>Cameron</td>\n",
       "      <td>744</td>\n",
       "      <td>Germany</td>\n",
       "      <td>Male</td>\n",
       "      <td>41</td>\n",
       "      <td>NaN</td>\n",
       "      <td>190409.34</td>\n",
       "      <td>2</td>\n",
       "      <td>1</td>\n",
       "      <td>1</td>\n",
       "      <td>138361.48</td>\n",
       "      <td>0</td>\n",
       "    </tr>\n",
       "    <tr>\n",
       "      <th>9956</th>\n",
       "      <td>9957</td>\n",
       "      <td>15707861</td>\n",
       "      <td>Nucci</td>\n",
       "      <td>520</td>\n",
       "      <td>France</td>\n",
       "      <td>Female</td>\n",
       "      <td>46</td>\n",
       "      <td>NaN</td>\n",
       "      <td>85216.61</td>\n",
       "      <td>1</td>\n",
       "      <td>1</td>\n",
       "      <td>0</td>\n",
       "      <td>117369.52</td>\n",
       "      <td>1</td>\n",
       "    </tr>\n",
       "    <tr>\n",
       "      <th>9964</th>\n",
       "      <td>9965</td>\n",
       "      <td>15642785</td>\n",
       "      <td>Douglas</td>\n",
       "      <td>479</td>\n",
       "      <td>France</td>\n",
       "      <td>Male</td>\n",
       "      <td>34</td>\n",
       "      <td>NaN</td>\n",
       "      <td>117593.48</td>\n",
       "      <td>2</td>\n",
       "      <td>0</td>\n",
       "      <td>0</td>\n",
       "      <td>113308.29</td>\n",
       "      <td>0</td>\n",
       "    </tr>\n",
       "    <tr>\n",
       "      <th>9985</th>\n",
       "      <td>9986</td>\n",
       "      <td>15586914</td>\n",
       "      <td>Nepean</td>\n",
       "      <td>659</td>\n",
       "      <td>France</td>\n",
       "      <td>Male</td>\n",
       "      <td>36</td>\n",
       "      <td>NaN</td>\n",
       "      <td>123841.49</td>\n",
       "      <td>2</td>\n",
       "      <td>1</td>\n",
       "      <td>0</td>\n",
       "      <td>96833.00</td>\n",
       "      <td>0</td>\n",
       "    </tr>\n",
       "    <tr>\n",
       "      <th>9999</th>\n",
       "      <td>10000</td>\n",
       "      <td>15628319</td>\n",
       "      <td>Walker</td>\n",
       "      <td>792</td>\n",
       "      <td>France</td>\n",
       "      <td>Female</td>\n",
       "      <td>28</td>\n",
       "      <td>NaN</td>\n",
       "      <td>130142.79</td>\n",
       "      <td>1</td>\n",
       "      <td>1</td>\n",
       "      <td>0</td>\n",
       "      <td>38190.78</td>\n",
       "      <td>0</td>\n",
       "    </tr>\n",
       "  </tbody>\n",
       "</table>\n",
       "<p>909 rows × 14 columns</p>\n",
       "</div>"
      ],
      "text/plain": [
       "      row_number  customer_id    surname  credit_score geography  gender  age  \\\n",
       "30            31     15589475    Azikiwe           591     Spain  Female   39   \n",
       "48            49     15766205        Yin           550   Germany    Male   38   \n",
       "51            52     15768193  Trevisani           585   Germany    Male   36   \n",
       "53            54     15702298   Parkhill           655   Germany    Male   41   \n",
       "60            61     15651280     Hunter           742   Germany    Male   35   \n",
       "...          ...          ...        ...           ...       ...     ...  ...   \n",
       "9944        9945     15703923    Cameron           744   Germany    Male   41   \n",
       "9956        9957     15707861      Nucci           520    France  Female   46   \n",
       "9964        9965     15642785    Douglas           479    France    Male   34   \n",
       "9985        9986     15586914     Nepean           659    France    Male   36   \n",
       "9999       10000     15628319     Walker           792    France  Female   28   \n",
       "\n",
       "      tenure    balance  num_of_products  has_crcard  is_active_member  \\\n",
       "30       NaN       0.00                3           1                 0   \n",
       "48       NaN  103391.38                1           0                 1   \n",
       "51       NaN  146050.97                2           0                 0   \n",
       "53       NaN  125561.97                1           0                 0   \n",
       "60       NaN  136857.00                1           0                 0   \n",
       "...      ...        ...              ...         ...               ...   \n",
       "9944     NaN  190409.34                2           1                 1   \n",
       "9956     NaN   85216.61                1           1                 0   \n",
       "9964     NaN  117593.48                2           0                 0   \n",
       "9985     NaN  123841.49                2           1                 0   \n",
       "9999     NaN  130142.79                1           1                 0   \n",
       "\n",
       "      estimated_salary  exited  \n",
       "30           140469.38       1  \n",
       "48            90878.13       0  \n",
       "51            86424.57       0  \n",
       "53           164040.94       1  \n",
       "60            84509.57       0  \n",
       "...                ...     ...  \n",
       "9944         138361.48       0  \n",
       "9956         117369.52       1  \n",
       "9964         113308.29       0  \n",
       "9985          96833.00       0  \n",
       "9999          38190.78       0  \n",
       "\n",
       "[909 rows x 14 columns]"
      ]
     },
     "execution_count": 10,
     "metadata": {},
     "output_type": "execute_result"
    }
   ],
   "source": [
    "df[df['tenure'].isna()]"
   ]
  },
  {
   "cell_type": "code",
   "execution_count": 11,
   "metadata": {},
   "outputs": [
    {
     "data": {
      "text/plain": [
       "1.0     952\n",
       "2.0     950\n",
       "8.0     933\n",
       "3.0     928\n",
       "5.0     927\n",
       "7.0     925\n",
       "4.0     885\n",
       "9.0     882\n",
       "6.0     881\n",
       "10.0    446\n",
       "0.0     382\n",
       "Name: tenure, dtype: int64"
      ]
     },
     "execution_count": 11,
     "metadata": {},
     "output_type": "execute_result"
    }
   ],
   "source": [
    "df['tenure'].value_counts().sort_values(ascending=False)"
   ]
  },
  {
   "cell_type": "code",
   "execution_count": 12,
   "metadata": {},
   "outputs": [
    {
     "data": {
      "text/plain": [
       "0    726\n",
       "1    183\n",
       "Name: exited, dtype: int64"
      ]
     },
     "execution_count": 12,
     "metadata": {},
     "output_type": "execute_result"
    }
   ],
   "source": [
    "df[df['tenure'].isna()]['exited'].value_counts().sort_values(ascending=False)"
   ]
  },
  {
   "cell_type": "markdown",
   "metadata": {},
   "source": [
    "Выявлено, клиентов, которые пользуются банком либо 10 лет, либо 0 лет, меньше, возможно, пропущенные значения - в основном у таких клиентов.\n",
    "\n",
    "Прежде, чем заполнять или удалять строки, проверим взаимосвязь данных:"
   ]
  },
  {
   "cell_type": "code",
   "execution_count": 13,
   "metadata": {
    "scrolled": false
   },
   "outputs": [
    {
     "data": {
      "image/png": "[encoded data removed]",
      "text/plain": [
       "<Figure size 720x576 with 1 Axes>"
      ]
     },
     "metadata": {
      "needs_background": "light"
     },
     "output_type": "display_data"
    }
   ],
   "source": [
    "# Построим график с количеством людей, ушедших из банка и оставшихся\n",
    "\n",
    "plt.figure()\n",
    "df['exited'].hist(figsize=(10,8), edgecolor='k')\n",
    "plt.title('Отношение ушедших клиентов к оставшимся', fontsize='x-large')\n",
    "plt.xlabel('Факт ухода клиента', fontsize='x-large')\n",
    "plt.ylabel('Количество клиентов', fontsize='x-large')\n",
    "plt.show()"
   ]
  },
  {
   "cell_type": "markdown",
   "metadata": {},
   "source": [
    "Выборка несбалансирована, примерно только 20% клиентов уходят из банка."
   ]
  },
  {
   "cell_type": "markdown",
   "metadata": {},
   "source": [
    "Проверим корреляцию Пирсона между параметрами:"
   ]
  },
  {
   "cell_type": "code",
   "execution_count": 14,
   "metadata": {},
   "outputs": [
    {
     "data": {
      "image/png": "[encoded data removed]",
      "text/plain": [
       "<Figure size 1080x360 with 2 Axes>"
      ]
     },
     "metadata": {
      "needs_background": "light"
     },
     "output_type": "display_data"
    }
   ],
   "source": [
    "plt.figure(figsize=(15, 5))\n",
    "plt.title('Матрица корреляций зависимости фичей')\n",
    "\n",
    "sns.heatmap(df.corr(), annot = True)\n",
    "\n",
    "plt.show()"
   ]
  },
  {
   "cell_type": "markdown",
   "metadata": {},
   "source": [
    "Больше всего коррелирует между собой параметры `age` и `exited`, но не так сильно, всего на `0,29`. Параметр возраста сильнее всего влияет на уход клиента из банка. "
   ]
  },
  {
   "cell_type": "markdown",
   "metadata": {},
   "source": [
    "Отбросим те столбцы, которые никак не связаны с расчетом модели машинного обучения (являются либо персональными данными пользователя, либо идентификаторами):\n",
    "\n",
    "* row_number — индекс строки в данных\n",
    "* customer_id — уникальный идентификатор клиента\n",
    "* surname — фамилия"
   ]
  },
  {
   "cell_type": "code",
   "execution_count": 15,
   "metadata": {},
   "outputs": [],
   "source": [
    "df = df.drop(['surname', 'row_number', 'customer_id'], axis=1)"
   ]
  },
  {
   "cell_type": "markdown",
   "metadata": {},
   "source": [
    "Так как, чем больше значений, тем модель лучше всего себя показывает (больше данных для обучения), стоит не удалять строки, и заполнить их значениями. \n",
    "\n",
    "Особой корреляции между остальнымит параметрами и `tenure` нет (менее 0,1), то попробуем заполнить данные медианным значением и проверим полученную корреляцию с остальными параметрами снова:"
   ]
  },
  {
   "cell_type": "code",
   "execution_count": 16,
   "metadata": {},
   "outputs": [],
   "source": [
    "# создаём новый датасет и заполняем его значениями\n",
    "\n",
    "df_filled = df\n",
    "df_filled['tenure'] = df_filled['tenure'].fillna(df_filled['tenure'].median())"
   ]
  },
  {
   "cell_type": "code",
   "execution_count": 17,
   "metadata": {},
   "outputs": [
    {
     "data": {
      "text/plain": [
       "5.0     1836\n",
       "1.0      952\n",
       "2.0      950\n",
       "8.0      933\n",
       "3.0      928\n",
       "7.0      925\n",
       "4.0      885\n",
       "9.0      882\n",
       "6.0      881\n",
       "10.0     446\n",
       "0.0      382\n",
       "Name: tenure, dtype: int64"
      ]
     },
     "execution_count": 17,
     "metadata": {},
     "output_type": "execute_result"
    }
   ],
   "source": [
    "# проверяем количество значений\n",
    "\n",
    "df_filled['tenure'].value_counts().sort_values(ascending=False)"
   ]
  },
  {
   "cell_type": "markdown",
   "metadata": {},
   "source": [
    "Построим хитмэп коррелляции:"
   ]
  },
  {
   "cell_type": "code",
   "execution_count": 18,
   "metadata": {},
   "outputs": [
    {
     "data": {
      "image/png": "[encoded data removed]",
      "text/plain": [
       "<Figure size 72x360 with 2 Axes>"
      ]
     },
     "metadata": {
      "needs_background": "light"
     },
     "output_type": "display_data"
    }
   ],
   "source": [
    "plt.figure(figsize=(1, 5))\n",
    "plt.title('Матрица корреляций зависимости фичей')\n",
    "\n",
    "sns.heatmap(df_filled.corr()[['tenure']], annot = True)\n",
    "\n",
    "plt.show()"
   ]
  },
  {
   "cell_type": "markdown",
   "metadata": {},
   "source": [
    "Значения коэффициента Пирсона значительно не изменились, можно заменить датасет на новый:"
   ]
  },
  {
   "cell_type": "code",
   "execution_count": 19,
   "metadata": {},
   "outputs": [],
   "source": [
    "df = df_filled"
   ]
  },
  {
   "cell_type": "markdown",
   "metadata": {},
   "source": [
    "Прежде, чем обучать модель, подготовим данные для обработки:\n",
    "\n",
    "Применим стандартизацию и OHE, чтобы применить несколько моделей машинного обучения (и не создавать множество датасетов)."
   ]
  },
  {
   "cell_type": "code",
   "execution_count": 20,
   "metadata": {
    "scrolled": false
   },
   "outputs": [
    {
     "data": {
      "text/html": [
       "<div>\n",
       "<style scoped>\n",
       "    .dataframe tbody tr th:only-of-type {\n",
       "        vertical-align: middle;\n",
       "    }\n",
       "\n",
       "    .dataframe tbody tr th {\n",
       "        vertical-align: top;\n",
       "    }\n",
       "\n",
       "    .dataframe thead th {\n",
       "        text-align: right;\n",
       "    }\n",
       "</style>\n",
       "<table border=\"1\" class=\"dataframe\">\n",
       "  <thead>\n",
       "    <tr style=\"text-align: right;\">\n",
       "      <th></th>\n",
       "      <th>credit_score</th>\n",
       "      <th>age</th>\n",
       "      <th>tenure</th>\n",
       "      <th>balance</th>\n",
       "      <th>num_of_products</th>\n",
       "      <th>has_crcard</th>\n",
       "      <th>is_active_member</th>\n",
       "      <th>estimated_salary</th>\n",
       "      <th>exited</th>\n",
       "      <th>geography_Germany</th>\n",
       "      <th>geography_Spain</th>\n",
       "      <th>gender_Male</th>\n",
       "    </tr>\n",
       "  </thead>\n",
       "  <tbody>\n",
       "    <tr>\n",
       "      <th>0</th>\n",
       "      <td>619</td>\n",
       "      <td>42</td>\n",
       "      <td>2.0</td>\n",
       "      <td>0.00</td>\n",
       "      <td>1</td>\n",
       "      <td>1</td>\n",
       "      <td>1</td>\n",
       "      <td>101348.88</td>\n",
       "      <td>1</td>\n",
       "      <td>0</td>\n",
       "      <td>0</td>\n",
       "      <td>0</td>\n",
       "    </tr>\n",
       "    <tr>\n",
       "      <th>1</th>\n",
       "      <td>608</td>\n",
       "      <td>41</td>\n",
       "      <td>1.0</td>\n",
       "      <td>83807.86</td>\n",
       "      <td>1</td>\n",
       "      <td>0</td>\n",
       "      <td>1</td>\n",
       "      <td>112542.58</td>\n",
       "      <td>0</td>\n",
       "      <td>0</td>\n",
       "      <td>1</td>\n",
       "      <td>0</td>\n",
       "    </tr>\n",
       "    <tr>\n",
       "      <th>2</th>\n",
       "      <td>502</td>\n",
       "      <td>42</td>\n",
       "      <td>8.0</td>\n",
       "      <td>159660.80</td>\n",
       "      <td>3</td>\n",
       "      <td>1</td>\n",
       "      <td>0</td>\n",
       "      <td>113931.57</td>\n",
       "      <td>1</td>\n",
       "      <td>0</td>\n",
       "      <td>0</td>\n",
       "      <td>0</td>\n",
       "    </tr>\n",
       "    <tr>\n",
       "      <th>3</th>\n",
       "      <td>699</td>\n",
       "      <td>39</td>\n",
       "      <td>1.0</td>\n",
       "      <td>0.00</td>\n",
       "      <td>2</td>\n",
       "      <td>0</td>\n",
       "      <td>0</td>\n",
       "      <td>93826.63</td>\n",
       "      <td>0</td>\n",
       "      <td>0</td>\n",
       "      <td>0</td>\n",
       "      <td>0</td>\n",
       "    </tr>\n",
       "    <tr>\n",
       "      <th>4</th>\n",
       "      <td>850</td>\n",
       "      <td>43</td>\n",
       "      <td>2.0</td>\n",
       "      <td>125510.82</td>\n",
       "      <td>1</td>\n",
       "      <td>1</td>\n",
       "      <td>1</td>\n",
       "      <td>79084.10</td>\n",
       "      <td>0</td>\n",
       "      <td>0</td>\n",
       "      <td>1</td>\n",
       "      <td>0</td>\n",
       "    </tr>\n",
       "    <tr>\n",
       "      <th>...</th>\n",
       "      <td>...</td>\n",
       "      <td>...</td>\n",
       "      <td>...</td>\n",
       "      <td>...</td>\n",
       "      <td>...</td>\n",
       "      <td>...</td>\n",
       "      <td>...</td>\n",
       "      <td>...</td>\n",
       "      <td>...</td>\n",
       "      <td>...</td>\n",
       "      <td>...</td>\n",
       "      <td>...</td>\n",
       "    </tr>\n",
       "    <tr>\n",
       "      <th>9995</th>\n",
       "      <td>771</td>\n",
       "      <td>39</td>\n",
       "      <td>5.0</td>\n",
       "      <td>0.00</td>\n",
       "      <td>2</td>\n",
       "      <td>1</td>\n",
       "      <td>0</td>\n",
       "      <td>96270.64</td>\n",
       "      <td>0</td>\n",
       "      <td>0</td>\n",
       "      <td>0</td>\n",
       "      <td>1</td>\n",
       "    </tr>\n",
       "    <tr>\n",
       "      <th>9996</th>\n",
       "      <td>516</td>\n",
       "      <td>35</td>\n",
       "      <td>10.0</td>\n",
       "      <td>57369.61</td>\n",
       "      <td>1</td>\n",
       "      <td>1</td>\n",
       "      <td>1</td>\n",
       "      <td>101699.77</td>\n",
       "      <td>0</td>\n",
       "      <td>0</td>\n",
       "      <td>0</td>\n",
       "      <td>1</td>\n",
       "    </tr>\n",
       "    <tr>\n",
       "      <th>9997</th>\n",
       "      <td>709</td>\n",
       "      <td>36</td>\n",
       "      <td>7.0</td>\n",
       "      <td>0.00</td>\n",
       "      <td>1</td>\n",
       "      <td>0</td>\n",
       "      <td>1</td>\n",
       "      <td>42085.58</td>\n",
       "      <td>1</td>\n",
       "      <td>0</td>\n",
       "      <td>0</td>\n",
       "      <td>0</td>\n",
       "    </tr>\n",
       "    <tr>\n",
       "      <th>9998</th>\n",
       "      <td>772</td>\n",
       "      <td>42</td>\n",
       "      <td>3.0</td>\n",
       "      <td>75075.31</td>\n",
       "      <td>2</td>\n",
       "      <td>1</td>\n",
       "      <td>0</td>\n",
       "      <td>92888.52</td>\n",
       "      <td>1</td>\n",
       "      <td>1</td>\n",
       "      <td>0</td>\n",
       "      <td>1</td>\n",
       "    </tr>\n",
       "    <tr>\n",
       "      <th>9999</th>\n",
       "      <td>792</td>\n",
       "      <td>28</td>\n",
       "      <td>5.0</td>\n",
       "      <td>130142.79</td>\n",
       "      <td>1</td>\n",
       "      <td>1</td>\n",
       "      <td>0</td>\n",
       "      <td>38190.78</td>\n",
       "      <td>0</td>\n",
       "      <td>0</td>\n",
       "      <td>0</td>\n",
       "      <td>0</td>\n",
       "    </tr>\n",
       "  </tbody>\n",
       "</table>\n",
       "<p>10000 rows × 12 columns</p>\n",
       "</div>"
      ],
      "text/plain": [
       "      credit_score  age  tenure    balance  num_of_products  has_crcard  \\\n",
       "0              619   42     2.0       0.00                1           1   \n",
       "1              608   41     1.0   83807.86                1           0   \n",
       "2              502   42     8.0  159660.80                3           1   \n",
       "3              699   39     1.0       0.00                2           0   \n",
       "4              850   43     2.0  125510.82                1           1   \n",
       "...            ...  ...     ...        ...              ...         ...   \n",
       "9995           771   39     5.0       0.00                2           1   \n",
       "9996           516   35    10.0   57369.61                1           1   \n",
       "9997           709   36     7.0       0.00                1           0   \n",
       "9998           772   42     3.0   75075.31                2           1   \n",
       "9999           792   28     5.0  130142.79                1           1   \n",
       "\n",
       "      is_active_member  estimated_salary  exited  geography_Germany  \\\n",
       "0                    1         101348.88       1                  0   \n",
       "1                    1         112542.58       0                  0   \n",
       "2                    0         113931.57       1                  0   \n",
       "3                    0          93826.63       0                  0   \n",
       "4                    1          79084.10       0                  0   \n",
       "...                ...               ...     ...                ...   \n",
       "9995                 0          96270.64       0                  0   \n",
       "9996                 1         101699.77       0                  0   \n",
       "9997                 1          42085.58       1                  0   \n",
       "9998                 0          92888.52       1                  1   \n",
       "9999                 0          38190.78       0                  0   \n",
       "\n",
       "      geography_Spain  gender_Male  \n",
       "0                   0            0  \n",
       "1                   1            0  \n",
       "2                   0            0  \n",
       "3                   0            0  \n",
       "4                   1            0  \n",
       "...               ...          ...  \n",
       "9995                0            1  \n",
       "9996                0            1  \n",
       "9997                0            0  \n",
       "9998                0            1  \n",
       "9999                0            0  \n",
       "\n",
       "[10000 rows x 12 columns]"
      ]
     },
     "execution_count": 20,
     "metadata": {},
     "output_type": "execute_result"
    }
   ],
   "source": [
    "df = pd.get_dummies(df, drop_first=True)\n",
    "df"
   ]
  },
  {
   "cell_type": "markdown",
   "metadata": {},
   "source": [
    "Прежде, чем масштабировать признаки, необходимо разделить выборки на тестовую, валидационную и тренировочную, и обучить на этих данных стандартизацию:"
   ]
  },
  {
   "cell_type": "code",
   "execution_count": 21,
   "metadata": {},
   "outputs": [],
   "source": [
    "df_features = df.drop('exited', axis=1)\n",
    "df_target = df['exited']"
   ]
  },
  {
   "cell_type": "markdown",
   "metadata": {},
   "source": [
    "Разделим выборки:\n",
    "\n",
    "> По ранее полученным графикам видно, что количество людей сильно отличается, значит, воспользуемся стратификацией, для более точных предсказаний\n",
    "\n",
    "Какую часть данных отвести под валидационную выборку, решают в зависимости от количества объектов, признаков и вариативности\n",
    "данных. Вот два самых распространённых сценария:\n",
    "\n",
    "1. Доступен исходный датасет, а тестовая выборка спрятана. Тогда рекомендуется 75% данных отвести под обучающую, а 25% — под валидационную. Соотношение 3:1.\n",
    "2. Спрятанной тестовой выборки нет. Значит, данные нужно разбить на три части: обучающую, валидационную и тестовую. Размеры тестового и валидационного наборов обычно равны. Исходные данные разбивают в соотношении 3:1:1.\n",
    "\n",
    "Воспользуемся вторым методом, так как тестовой выборки нет."
   ]
  },
  {
   "cell_type": "code",
   "execution_count": 22,
   "metadata": {},
   "outputs": [],
   "source": [
    "# воспользуемся train_test_split с стратификацией по target\n",
    "\n",
    "df_f_train, df_f_test, df_t_train, df_t_test = train_test_split(df_features,\n",
    "                                                                df_target,\n",
    "                                                                test_size=0.2,\n",
    "                                                                random_state=12345, \n",
    "                                                                stratify=df_target)"
   ]
  },
  {
   "cell_type": "code",
   "execution_count": 23,
   "metadata": {},
   "outputs": [],
   "source": [
    "# воспользуемся train_test_split с стратификацией по target\n",
    "\n",
    "df_f_train, df_f_valid, df_t_train, df_t_valid = train_test_split(df_f_train,\n",
    "                                                                df_t_train,\n",
    "                                                                test_size=0.25,\n",
    "                                                                random_state=12345, \n",
    "                                                                stratify=df_t_train)"
   ]
  },
  {
   "cell_type": "markdown",
   "metadata": {},
   "source": [
    "Стандартизуем параметры:"
   ]
  },
  {
   "cell_type": "code",
   "execution_count": 24,
   "metadata": {},
   "outputs": [],
   "source": [
    "# необходимые параметры для стандартизации\n",
    "numeric = ['credit_score', 'age', 'tenure', 'balance', 'num_of_products', 'estimated_salary']\n",
    "\n",
    "# обучаем стандартизацию\n",
    "scaler = StandardScaler()\n",
    "scaler.fit(df_f_train[numeric]) \n",
    "df_f_train[numeric] = scaler.transform(df_f_train[numeric])\n",
    "df_f_valid[numeric] = scaler.transform(df_f_valid[numeric])"
   ]
  },
  {
   "cell_type": "markdown",
   "metadata": {},
   "source": [
    "### Вывод"
   ]
  },
  {
   "cell_type": "markdown",
   "metadata": {},
   "source": [
    "Датасет состоит из 10000 строк, часть пропущенных значений заполнена.\n",
    "\n",
    "Выборка несбалансирована, примерно только 20% клиентов уходят из банка.\n",
    "\n",
    "Данные предобратоны, заполнены пропущенные значения и предварительно обучена модель для стандартизации данных и дальнейшего обучения модели, приступим к исследованию моделей машинного обучения:"
   ]
  },
  {
   "cell_type": "markdown",
   "metadata": {},
   "source": [
    "## Исследование задачи"
   ]
  },
  {
   "cell_type": "markdown",
   "metadata": {},
   "source": [
    "Обучим модель без учёта дисбаланса.\n",
    "\n",
    "Прежде, чем обучать модель, создадим функцию, которая создаёт кривую и выводит значение AUC-ROC"
   ]
  },
  {
   "cell_type": "code",
   "execution_count": 25,
   "metadata": {},
   "outputs": [],
   "source": [
    "# создаём функцию с построением графика AUC-ROC и расчета площади под кривой\n",
    "\n",
    "def roc_auc_fig(model, features_valid=df_f_valid, target_valid=df_t_valid):\n",
    "    probabilities_valid = model.predict_proba(features_valid)\n",
    "    probabilities_one_valid = probabilities_valid[:, 1]\n",
    "    print('Площадь под кривой ROC: {:.4f}'.format(roc_auc_score(target_valid, probabilities_one_valid)))\n",
    "    fpr, tpr, thresholds = roc_curve(target_valid, probabilities_one_valid) \n",
    "    plt.figure(figsize=(10,10))\n",
    "    plt.plot(fpr, tpr)\n",
    "    plt.plot([0, 1], [0, 1], linestyle='--')\n",
    "    plt.xlim([0.0, 1.0])\n",
    "    plt.ylim([0.0, 1.0])\n",
    "    plt.xlabel('False Positive Rate')\n",
    "    plt.ylabel('True Positive Rate')\n",
    "    plt.title('ROC-кривая')\n",
    "    plt.show()"
   ]
  },
  {
   "cell_type": "markdown",
   "metadata": {},
   "source": [
    "Для машинного обучения на тренировочной выборке воспользуемся ранее изученными способами классификации:\n",
    "\n",
    "1. Дерево решений\n",
    "2. Случайный лес\n",
    "3. Линейная регрессия\n",
    "\n",
    "И так же подберём гиперпараметры на валидацонной выборке.\n",
    "\n",
    "Для метрики качества воспользуемся функцией `classification_report`, которая выведет все необходимые метрики классификации.\n",
    "\n",
    "> При использовании автоматических подборов параметров `GridSearchCV` модели очень долго обучались, от 20 минут до часа времени. Для ускорения процесса, использовался ручной подбор параметров"
   ]
  },
  {
   "cell_type": "markdown",
   "metadata": {},
   "source": [
    "### Дерево решений"
   ]
  },
  {
   "cell_type": "markdown",
   "metadata": {},
   "source": [
    "Рассмотрим одну популярную модель — решающее дерево. Оно может описывать процесс принятия решения почти в любой ситуации. На основе значений признаков формулируются ответы, а затем выстраивается дерево с ответами «Да»/«Нет» и различными вариантами действий:\n",
    "\n",
    "Сразу подберём лучшие параметры для несбалансированной выборки:"
   ]
  },
  {
   "cell_type": "code",
   "execution_count": 26,
   "metadata": {},
   "outputs": [
    {
     "name": "stderr",
     "output_type": "stream",
     "text": [
      "100%|██████████| 18/18 [00:00<00:00, 43.84it/s]\n"
     ]
    }
   ],
   "source": [
    "best_depth_t = 0\n",
    "f1_best_t = 0\n",
    "\n",
    "for depth in tqdm(range(2, 20)):\n",
    "    model = DecisionTreeClassifier(random_state=12345, max_depth=depth)\n",
    "    model.fit(df_f_train, df_t_train)\n",
    "    predictions_valid = model.predict(df_f_valid)\n",
    "    f1 = f1_score(df_t_valid, predictions_valid)\n",
    "    if f1 > f1_best_t:\n",
    "        best_depth_t = depth\n",
    "        f1_best_t = f1\n",
    "        \n",
    "# сохраним лучшие параметры в словаре\n",
    "tree_best = {'depth':best_depth_t}"
   ]
  },
  {
   "cell_type": "markdown",
   "metadata": {},
   "source": [
    "Модель обучена, лучше параметры сохранены, проверим метрики качества:"
   ]
  },
  {
   "cell_type": "code",
   "execution_count": 27,
   "metadata": {},
   "outputs": [
    {
     "data": {
      "text/html": [
       "<div>\n",
       "<style scoped>\n",
       "    .dataframe tbody tr th:only-of-type {\n",
       "        vertical-align: middle;\n",
       "    }\n",
       "\n",
       "    .dataframe tbody tr th {\n",
       "        vertical-align: top;\n",
       "    }\n",
       "\n",
       "    .dataframe thead th {\n",
       "        text-align: right;\n",
       "    }\n",
       "</style>\n",
       "<table border=\"1\" class=\"dataframe\">\n",
       "  <thead>\n",
       "    <tr style=\"text-align: right;\">\n",
       "      <th></th>\n",
       "      <th>precision</th>\n",
       "      <th>recall</th>\n",
       "      <th>f1-score</th>\n",
       "      <th>support</th>\n",
       "    </tr>\n",
       "  </thead>\n",
       "  <tbody>\n",
       "    <tr>\n",
       "      <th>Non-exited</th>\n",
       "      <td>0.880632</td>\n",
       "      <td>0.944758</td>\n",
       "      <td>0.911569</td>\n",
       "      <td>1593.000</td>\n",
       "    </tr>\n",
       "    <tr>\n",
       "      <th>exited</th>\n",
       "      <td>0.697595</td>\n",
       "      <td>0.498771</td>\n",
       "      <td>0.581662</td>\n",
       "      <td>407.000</td>\n",
       "    </tr>\n",
       "    <tr>\n",
       "      <th>accuracy</th>\n",
       "      <td>0.854000</td>\n",
       "      <td>0.854000</td>\n",
       "      <td>0.854000</td>\n",
       "      <td>0.854</td>\n",
       "    </tr>\n",
       "    <tr>\n",
       "      <th>macro avg</th>\n",
       "      <td>0.789113</td>\n",
       "      <td>0.721765</td>\n",
       "      <td>0.746615</td>\n",
       "      <td>2000.000</td>\n",
       "    </tr>\n",
       "    <tr>\n",
       "      <th>weighted avg</th>\n",
       "      <td>0.843384</td>\n",
       "      <td>0.854000</td>\n",
       "      <td>0.844433</td>\n",
       "      <td>2000.000</td>\n",
       "    </tr>\n",
       "  </tbody>\n",
       "</table>\n",
       "</div>"
      ],
      "text/plain": [
       "              precision    recall  f1-score   support\n",
       "Non-exited     0.880632  0.944758  0.911569  1593.000\n",
       "exited         0.697595  0.498771  0.581662   407.000\n",
       "accuracy       0.854000  0.854000  0.854000     0.854\n",
       "macro avg      0.789113  0.721765  0.746615  2000.000\n",
       "weighted avg   0.843384  0.854000  0.844433  2000.000"
      ]
     },
     "execution_count": 27,
     "metadata": {},
     "output_type": "execute_result"
    }
   ],
   "source": [
    "model = DecisionTreeClassifier(random_state=12345,\n",
    "                               max_depth=best_depth_t)\n",
    "model.fit(df_f_train, df_t_train)\n",
    "predictions_valid = model.predict(df_f_valid)\n",
    "report = classification_report(df_t_valid, predictions_valid, target_names=['Non-exited', 'exited'], output_dict=True)\n",
    "report = pd.DataFrame(report).transpose()\n",
    "report"
   ]
  },
  {
   "cell_type": "code",
   "execution_count": 28,
   "metadata": {},
   "outputs": [
    {
     "name": "stdout",
     "output_type": "stream",
     "text": [
      "Площадь под кривой ROC: 0.8097\n"
     ]
    },
    {
     "data": {
      "image/png": "[encoded data removed]",
      "text/plain": [
       "<Figure size 720x720 with 1 Axes>"
      ]
     },
     "metadata": {
      "needs_background": "light"
     },
     "output_type": "display_data"
    }
   ],
   "source": [
    "roc_auc_fig(model)"
   ]
  },
  {
   "cell_type": "markdown",
   "metadata": {},
   "source": [
    "**Вывод:**\n",
    "\n",
    "* Значения F1-меры меньше, чем `0.59` - `0.581662`\n",
    "* Площадь под кривой ROC - `0.8097`\n",
    "\n",
    "Метрики качетсва не соответсвуют необходим."
   ]
  },
  {
   "cell_type": "markdown",
   "metadata": {},
   "source": [
    "### Случайный лес"
   ]
  },
  {
   "cell_type": "markdown",
   "metadata": {},
   "source": [
    "Один из алгоритмов классификации — случайный лес (random forest). Алгоритм обучает большое количество независимых друг от друга деревьев, а потом принимает решение на основе голосования.\n",
    "\n",
    "Сразу подберём лучшие параметры для несбалансированной выборки:"
   ]
  },
  {
   "cell_type": "code",
   "execution_count": 29,
   "metadata": {},
   "outputs": [
    {
     "name": "stderr",
     "output_type": "stream",
     "text": [
      "100%|██████████| 5/5 [00:05<00:00,  1.08s/it]\n"
     ]
    }
   ],
   "source": [
    "best_depth_f = 0\n",
    "best_est_f = 0\n",
    "f1_best_f = 0\n",
    "\n",
    "for est in tqdm(range(10, 51, 10)):\n",
    "    for depth in range (2, 11):\n",
    "        model = RandomForestClassifier(random_state=12345, n_estimators=est, max_depth=depth)\n",
    "        model.fit(df_f_train, df_t_train)\n",
    "        predictions_valid = model.predict(df_f_valid)\n",
    "        f1 = f1_score(df_t_valid, predictions_valid)\n",
    "        if f1 > f1_best_f:\n",
    "            best_depth_f = depth\n",
    "            best_est_f = est\n",
    "            f1_best_f = f1\n",
    "            \n",
    "# сохраняем параметры в словаре\n",
    "forest_best = {'depth':best_depth_f, 'n_estimators':best_est_f}"
   ]
  },
  {
   "cell_type": "code",
   "execution_count": 30,
   "metadata": {},
   "outputs": [
    {
     "data": {
      "text/html": [
       "<div>\n",
       "<style scoped>\n",
       "    .dataframe tbody tr th:only-of-type {\n",
       "        vertical-align: middle;\n",
       "    }\n",
       "\n",
       "    .dataframe tbody tr th {\n",
       "        vertical-align: top;\n",
       "    }\n",
       "\n",
       "    .dataframe thead th {\n",
       "        text-align: right;\n",
       "    }\n",
       "</style>\n",
       "<table border=\"1\" class=\"dataframe\">\n",
       "  <thead>\n",
       "    <tr style=\"text-align: right;\">\n",
       "      <th></th>\n",
       "      <th>precision</th>\n",
       "      <th>recall</th>\n",
       "      <th>f1-score</th>\n",
       "      <th>support</th>\n",
       "    </tr>\n",
       "  </thead>\n",
       "  <tbody>\n",
       "    <tr>\n",
       "      <th>Non-exited</th>\n",
       "      <td>0.869905</td>\n",
       "      <td>0.978029</td>\n",
       "      <td>0.920804</td>\n",
       "      <td>1593.000</td>\n",
       "    </tr>\n",
       "    <tr>\n",
       "      <th>exited</th>\n",
       "      <td>0.832536</td>\n",
       "      <td>0.427518</td>\n",
       "      <td>0.564935</td>\n",
       "      <td>407.000</td>\n",
       "    </tr>\n",
       "    <tr>\n",
       "      <th>accuracy</th>\n",
       "      <td>0.866000</td>\n",
       "      <td>0.866000</td>\n",
       "      <td>0.866000</td>\n",
       "      <td>0.866</td>\n",
       "    </tr>\n",
       "    <tr>\n",
       "      <th>macro avg</th>\n",
       "      <td>0.851220</td>\n",
       "      <td>0.702774</td>\n",
       "      <td>0.742869</td>\n",
       "      <td>2000.000</td>\n",
       "    </tr>\n",
       "    <tr>\n",
       "      <th>weighted avg</th>\n",
       "      <td>0.862300</td>\n",
       "      <td>0.866000</td>\n",
       "      <td>0.848384</td>\n",
       "      <td>2000.000</td>\n",
       "    </tr>\n",
       "  </tbody>\n",
       "</table>\n",
       "</div>"
      ],
      "text/plain": [
       "              precision    recall  f1-score   support\n",
       "Non-exited     0.869905  0.978029  0.920804  1593.000\n",
       "exited         0.832536  0.427518  0.564935   407.000\n",
       "accuracy       0.866000  0.866000  0.866000     0.866\n",
       "macro avg      0.851220  0.702774  0.742869  2000.000\n",
       "weighted avg   0.862300  0.866000  0.848384  2000.000"
      ]
     },
     "execution_count": 30,
     "metadata": {},
     "output_type": "execute_result"
    }
   ],
   "source": [
    "model = RandomForestClassifier(random_state=12345,\n",
    "                               n_estimators=best_est_f,\n",
    "                               max_depth=best_depth_f)\n",
    "model.fit(df_f_train, df_t_train)\n",
    "predictions_valid = model.predict(df_f_valid)\n",
    "report = classification_report(df_t_valid, predictions_valid, target_names=['Non-exited', 'exited'], output_dict=True)\n",
    "report = pd.DataFrame(report).transpose()\n",
    "report"
   ]
  },
  {
   "cell_type": "code",
   "execution_count": 31,
   "metadata": {},
   "outputs": [
    {
     "name": "stdout",
     "output_type": "stream",
     "text": [
      "Площадь под кривой ROC: 0.8659\n"
     ]
    },
    {
     "data": {
      "image/png": "[encoded data removed]",
      "text/plain": [
       "<Figure size 720x720 with 1 Axes>"
      ]
     },
     "metadata": {
      "needs_background": "light"
     },
     "output_type": "display_data"
    }
   ],
   "source": [
    "roc_auc_fig(model)"
   ]
  },
  {
   "cell_type": "markdown",
   "metadata": {},
   "source": [
    "**Вывод:**\n",
    "\n",
    "Значения F1-меры меньше, чем `0.59` - `0.564935`\n",
    "Площадь под кривой ROC - `0.8659`\n",
    "\n",
    "Метрики качетсва не соответсвуют необходим."
   ]
  },
  {
   "cell_type": "markdown",
   "metadata": {},
   "source": [
    "### Логистическая регрессия"
   ]
  },
  {
   "cell_type": "markdown",
   "metadata": {},
   "source": [
    "Ещё один алгоритм машинного обучения — логистическая регрессия.\n",
    "\n",
    "Если название и «мимикрирует» под задачу регрессии, всё-таки это алгоритм классификации. Логистическая регрессия:\n",
    "* Сначала считает, к какому классу близок объект\n",
    "* В зависимости от ответа выбирает нужный класс: если результат вычисления положительный, то — «1»; отрицательный — «0».\n",
    "\n",
    "В логистической регрессии параметров мало. Что-либо вызубрить по признакам в формуле не выйдет, поэтому и вероятность переобучения невелика.\n",
    "\n",
    "Проверим модель:"
   ]
  },
  {
   "cell_type": "code",
   "execution_count": 32,
   "metadata": {},
   "outputs": [
    {
     "name": "stderr",
     "output_type": "stream",
     "text": [
      "/opt/conda/lib/python3.7/site-packages/sklearn/linear_model/logistic.py:432: FutureWarning: Default solver will be changed to 'lbfgs' in 0.22. Specify a solver to silence this warning.\n",
      "  FutureWarning)\n"
     ]
    },
    {
     "data": {
      "text/html": [
       "<div>\n",
       "<style scoped>\n",
       "    .dataframe tbody tr th:only-of-type {\n",
       "        vertical-align: middle;\n",
       "    }\n",
       "\n",
       "    .dataframe tbody tr th {\n",
       "        vertical-align: top;\n",
       "    }\n",
       "\n",
       "    .dataframe thead th {\n",
       "        text-align: right;\n",
       "    }\n",
       "</style>\n",
       "<table border=\"1\" class=\"dataframe\">\n",
       "  <thead>\n",
       "    <tr style=\"text-align: right;\">\n",
       "      <th></th>\n",
       "      <th>precision</th>\n",
       "      <th>recall</th>\n",
       "      <th>f1-score</th>\n",
       "      <th>support</th>\n",
       "    </tr>\n",
       "  </thead>\n",
       "  <tbody>\n",
       "    <tr>\n",
       "      <th>Non-exited</th>\n",
       "      <td>0.828526</td>\n",
       "      <td>0.973635</td>\n",
       "      <td>0.895238</td>\n",
       "      <td>1593.0000</td>\n",
       "    </tr>\n",
       "    <tr>\n",
       "      <th>exited</th>\n",
       "      <td>0.671875</td>\n",
       "      <td>0.211302</td>\n",
       "      <td>0.321495</td>\n",
       "      <td>407.0000</td>\n",
       "    </tr>\n",
       "    <tr>\n",
       "      <th>accuracy</th>\n",
       "      <td>0.818500</td>\n",
       "      <td>0.818500</td>\n",
       "      <td>0.818500</td>\n",
       "      <td>0.8185</td>\n",
       "    </tr>\n",
       "    <tr>\n",
       "      <th>macro avg</th>\n",
       "      <td>0.750200</td>\n",
       "      <td>0.592468</td>\n",
       "      <td>0.608367</td>\n",
       "      <td>2000.0000</td>\n",
       "    </tr>\n",
       "    <tr>\n",
       "      <th>weighted avg</th>\n",
       "      <td>0.796647</td>\n",
       "      <td>0.818500</td>\n",
       "      <td>0.778481</td>\n",
       "      <td>2000.0000</td>\n",
       "    </tr>\n",
       "  </tbody>\n",
       "</table>\n",
       "</div>"
      ],
      "text/plain": [
       "              precision    recall  f1-score    support\n",
       "Non-exited     0.828526  0.973635  0.895238  1593.0000\n",
       "exited         0.671875  0.211302  0.321495   407.0000\n",
       "accuracy       0.818500  0.818500  0.818500     0.8185\n",
       "macro avg      0.750200  0.592468  0.608367  2000.0000\n",
       "weighted avg   0.796647  0.818500  0.778481  2000.0000"
      ]
     },
     "execution_count": 32,
     "metadata": {},
     "output_type": "execute_result"
    }
   ],
   "source": [
    "model = LogisticRegression(random_state=12345)\n",
    "model.fit(df_f_train, df_t_train)\n",
    "predictions_valid = model.predict(df_f_valid)\n",
    "\n",
    "report = classification_report(df_t_valid, predictions_valid, target_names=['Non-exited', 'exited'], output_dict=True)\n",
    "report = pd.DataFrame(report).transpose()\n",
    "report"
   ]
  },
  {
   "cell_type": "code",
   "execution_count": 33,
   "metadata": {},
   "outputs": [
    {
     "name": "stdout",
     "output_type": "stream",
     "text": [
      "Площадь под кривой ROC: 0.7876\n"
     ]
    },
    {
     "data": {
      "image/png": "[encoded data removed]",
      "text/plain": [
       "<Figure size 720x720 with 1 Axes>"
      ]
     },
     "metadata": {
      "needs_background": "light"
     },
     "output_type": "display_data"
    }
   ],
   "source": [
    "roc_auc_fig(model)"
   ]
  },
  {
   "cell_type": "markdown",
   "metadata": {},
   "source": [
    "**Вывод:**\n",
    "\n",
    "* Значения F1-меры меньше, чем `0.59` - `0.321495`\n",
    "* Площадь под кривой ROC - `0.7876`\n",
    "\n",
    "Метрики качетсва не соответсвуют необходим."
   ]
  },
  {
   "cell_type": "markdown",
   "metadata": {},
   "source": [
    "### Вывод"
   ]
  },
  {
   "cell_type": "markdown",
   "metadata": {},
   "source": [
    "Создадим таблицу и посмотрим значения метрик F1-меры:"
   ]
  },
  {
   "cell_type": "code",
   "execution_count": 34,
   "metadata": {},
   "outputs": [
    {
     "data": {
      "text/html": [
       "<div>\n",
       "<style scoped>\n",
       "    .dataframe tbody tr th:only-of-type {\n",
       "        vertical-align: middle;\n",
       "    }\n",
       "\n",
       "    .dataframe tbody tr th {\n",
       "        vertical-align: top;\n",
       "    }\n",
       "\n",
       "    .dataframe thead th {\n",
       "        text-align: right;\n",
       "    }\n",
       "</style>\n",
       "<table border=\"1\" class=\"dataframe\">\n",
       "  <thead>\n",
       "    <tr style=\"text-align: right;\">\n",
       "      <th></th>\n",
       "      <th>model</th>\n",
       "      <th>f1_score</th>\n",
       "    </tr>\n",
       "  </thead>\n",
       "  <tbody>\n",
       "    <tr>\n",
       "      <th>0</th>\n",
       "      <td>tree</td>\n",
       "      <td>0.581662</td>\n",
       "    </tr>\n",
       "    <tr>\n",
       "      <th>1</th>\n",
       "      <td>forest</td>\n",
       "      <td>0.564935</td>\n",
       "    </tr>\n",
       "    <tr>\n",
       "      <th>2</th>\n",
       "      <td>lgr</td>\n",
       "      <td>0.321495</td>\n",
       "    </tr>\n",
       "  </tbody>\n",
       "</table>\n",
       "</div>"
      ],
      "text/plain": [
       "    model  f1_score\n",
       "0    tree  0.581662\n",
       "1  forest  0.564935\n",
       "2     lgr  0.321495"
      ]
     },
     "execution_count": 34,
     "metadata": {},
     "output_type": "execute_result"
    }
   ],
   "source": [
    "f1_lgr = report.loc['exited', 'f1-score']\n",
    "f1_lgr\n",
    "\n",
    "models = ['tree', 'forest', 'lgr']\n",
    "f1_scores = [f1_best_t, f1_best_f, f1_lgr]\n",
    "\n",
    "best_param_model = pd.DataFrame({'model':models, 'f1_score':f1_scores})\n",
    "best_param_model"
   ]
  },
  {
   "cell_type": "code",
   "execution_count": 35,
   "metadata": {},
   "outputs": [
    {
     "data": {
      "image/png": "[encoded data removed]",
      "text/plain": [
       "<Figure size 576x576 with 1 Axes>"
      ]
     },
     "metadata": {
      "needs_background": "light"
     },
     "output_type": "display_data"
    }
   ],
   "source": [
    "best_param_model.plot.bar(x='model', figsize=(8,8), rot=0, fontsize='large')\n",
    "plt.title('Сравнение F1-меры на тестовой выборке', fontsize='x-large')\n",
    "plt.xlabel('Модель', fontsize='x-large')\n",
    "plt.ylabel('F1-мера', fontsize='x-large')\n",
    "plt.show()"
   ]
  },
  {
   "cell_type": "markdown",
   "metadata": {},
   "source": [
    "Самые лучшие значения метрик на несбалансированной выборке получились у модели случайного леса:\n",
    "\n",
    "* F1-мера - 0.564935 \n",
    "* Площадь под кривой ROC - 0.8659\n",
    "\n",
    "Но значение F1-меры меньше, чем 0.59, соответсвенно, нужно провести борьбу с дисбалансом."
   ]
  },
  {
   "cell_type": "markdown",
   "metadata": {},
   "source": [
    "## Борьба с дисбалансом"
   ]
  },
  {
   "cell_type": "markdown",
   "metadata": {},
   "source": [
    "Проведем борьбу с дисбалансом классов с помощью нескольких популярных способов:\n",
    "\n",
    "1. Увеличение выборки\n",
    "2. Уменьшение выборки\n",
    "3. Взвешивание классов\n",
    "4. Изменение порога классификации"
   ]
  },
  {
   "cell_type": "markdown",
   "metadata": {},
   "source": [
    "### Взвешивание классов"
   ]
  },
  {
   "cell_type": "markdown",
   "metadata": {},
   "source": [
    "Проверим параметр `class_weight` на логистической регрессии:"
   ]
  },
  {
   "cell_type": "code",
   "execution_count": 36,
   "metadata": {},
   "outputs": [
    {
     "data": {
      "text/html": [
       "<div>\n",
       "<style scoped>\n",
       "    .dataframe tbody tr th:only-of-type {\n",
       "        vertical-align: middle;\n",
       "    }\n",
       "\n",
       "    .dataframe tbody tr th {\n",
       "        vertical-align: top;\n",
       "    }\n",
       "\n",
       "    .dataframe thead th {\n",
       "        text-align: right;\n",
       "    }\n",
       "</style>\n",
       "<table border=\"1\" class=\"dataframe\">\n",
       "  <thead>\n",
       "    <tr style=\"text-align: right;\">\n",
       "      <th></th>\n",
       "      <th>precision</th>\n",
       "      <th>recall</th>\n",
       "      <th>f1-score</th>\n",
       "      <th>support</th>\n",
       "    </tr>\n",
       "  </thead>\n",
       "  <tbody>\n",
       "    <tr>\n",
       "      <th>Non-exited</th>\n",
       "      <td>0.910103</td>\n",
       "      <td>0.718142</td>\n",
       "      <td>0.802807</td>\n",
       "      <td>1593.000</td>\n",
       "    </tr>\n",
       "    <tr>\n",
       "      <th>exited</th>\n",
       "      <td>0.395693</td>\n",
       "      <td>0.722359</td>\n",
       "      <td>0.511304</td>\n",
       "      <td>407.000</td>\n",
       "    </tr>\n",
       "    <tr>\n",
       "      <th>accuracy</th>\n",
       "      <td>0.719000</td>\n",
       "      <td>0.719000</td>\n",
       "      <td>0.719000</td>\n",
       "      <td>0.719</td>\n",
       "    </tr>\n",
       "    <tr>\n",
       "      <th>macro avg</th>\n",
       "      <td>0.652898</td>\n",
       "      <td>0.720250</td>\n",
       "      <td>0.657056</td>\n",
       "      <td>2000.000</td>\n",
       "    </tr>\n",
       "    <tr>\n",
       "      <th>weighted avg</th>\n",
       "      <td>0.805421</td>\n",
       "      <td>0.719000</td>\n",
       "      <td>0.743486</td>\n",
       "      <td>2000.000</td>\n",
       "    </tr>\n",
       "  </tbody>\n",
       "</table>\n",
       "</div>"
      ],
      "text/plain": [
       "              precision    recall  f1-score   support\n",
       "Non-exited     0.910103  0.718142  0.802807  1593.000\n",
       "exited         0.395693  0.722359  0.511304   407.000\n",
       "accuracy       0.719000  0.719000  0.719000     0.719\n",
       "macro avg      0.652898  0.720250  0.657056  2000.000\n",
       "weighted avg   0.805421  0.719000  0.743486  2000.000"
      ]
     },
     "execution_count": 36,
     "metadata": {},
     "output_type": "execute_result"
    }
   ],
   "source": [
    "model = LogisticRegression(random_state=12345, solver='liblinear', class_weight='balanced')\n",
    "model.fit(df_f_train, df_t_train)\n",
    "predictions_valid = model.predict(df_f_valid)\n",
    "\n",
    "report = classification_report(df_t_valid, predictions_valid, target_names=['Non-exited', 'exited'], output_dict=True)\n",
    "report = pd.DataFrame(report).transpose()\n",
    "report"
   ]
  },
  {
   "cell_type": "code",
   "execution_count": 37,
   "metadata": {
    "scrolled": false
   },
   "outputs": [
    {
     "name": "stdout",
     "output_type": "stream",
     "text": [
      "Площадь под кривой ROC: 0.7918\n"
     ]
    },
    {
     "data": {
      "image/png": "[encoded data removed]",
      "text/plain": [
       "<Figure size 720x720 with 1 Axes>"
      ]
     },
     "metadata": {
      "needs_background": "light"
     },
     "output_type": "display_data"
    }
   ],
   "source": [
    "roc_auc_fig(model)"
   ]
  },
  {
   "cell_type": "markdown",
   "metadata": {},
   "source": [
    "**Вывод:**\n",
    "\n",
    "* Значения F1-меры меньше, чем `0.59` - `0.511304`\n",
    "* Площадь под кривой ROC - `0.7918`\n",
    "\n",
    "Метрики качетсва не соответсвуют необходим, хотя и увеличились, по сравнению с предыдущим исследованием."
   ]
  },
  {
   "cell_type": "markdown",
   "metadata": {},
   "source": [
    "### Увеличение выборки"
   ]
  },
  {
   "cell_type": "markdown",
   "metadata": {},
   "source": [
    "Для улучшения качества модели, увеличим обучающую выборку, обучим модель и проверим полученные метрики:"
   ]
  },
  {
   "cell_type": "code",
   "execution_count": 38,
   "metadata": {},
   "outputs": [],
   "source": [
    "# Создаём функцию, которая увеличивает обучающую выборку и перемешивает ее\n",
    "\n",
    "def upsample(features, target, repeat):\n",
    "    features_zeros = features[target == 0]\n",
    "    features_ones = features[target == 1]\n",
    "    target_zeros = target[target == 0]\n",
    "    target_ones = target[target == 1]\n",
    "    \n",
    "    features_upsampled = pd.concat([features_zeros] + [features_ones] * repeat)\n",
    "    target_upsampled = pd.concat([target_zeros] + [target_ones] * repeat)\n",
    "    \n",
    "    features_upsampled, target_upsampled = shuffle(\n",
    "        features_upsampled, target_upsampled, random_state=12345)\n",
    "    \n",
    "    return features_upsampled, target_upsampled"
   ]
  },
  {
   "cell_type": "markdown",
   "metadata": {},
   "source": [
    "Увеличим выборку в 4 раза, так как 20% клиентов уходят из банка (чтобы значения были приблизительно равны):"
   ]
  },
  {
   "cell_type": "code",
   "execution_count": 39,
   "metadata": {},
   "outputs": [],
   "source": [
    "df_f_upsampled, df_t_upsampled = upsample(df_f_train, df_t_train, 4)"
   ]
  },
  {
   "cell_type": "markdown",
   "metadata": {},
   "source": [
    "#### Дерево решений"
   ]
  },
  {
   "cell_type": "markdown",
   "metadata": {},
   "source": [
    "Проверим качество модели на увеличенной обучающей выборке:"
   ]
  },
  {
   "cell_type": "code",
   "execution_count": 40,
   "metadata": {},
   "outputs": [
    {
     "name": "stderr",
     "output_type": "stream",
     "text": [
      "100%|██████████| 18/18 [00:00<00:00, 33.44it/s]\n"
     ]
    }
   ],
   "source": [
    "best_depth_t = 0\n",
    "f1_best_t = 0\n",
    "\n",
    "for depth in tqdm(range(2, 20)):\n",
    "    model = DecisionTreeClassifier(random_state=12345, max_depth=depth)\n",
    "    model.fit(df_f_upsampled, df_t_upsampled)\n",
    "    predictions_valid = model.predict(df_f_valid)\n",
    "    f1 = f1_score(df_t_valid, predictions_valid)\n",
    "    if f1 > f1_best_t:\n",
    "        best_depth_t = depth\n",
    "        f1_best_t = f1"
   ]
  },
  {
   "cell_type": "code",
   "execution_count": 41,
   "metadata": {},
   "outputs": [
    {
     "data": {
      "text/html": [
       "<div>\n",
       "<style scoped>\n",
       "    .dataframe tbody tr th:only-of-type {\n",
       "        vertical-align: middle;\n",
       "    }\n",
       "\n",
       "    .dataframe tbody tr th {\n",
       "        vertical-align: top;\n",
       "    }\n",
       "\n",
       "    .dataframe thead th {\n",
       "        text-align: right;\n",
       "    }\n",
       "</style>\n",
       "<table border=\"1\" class=\"dataframe\">\n",
       "  <thead>\n",
       "    <tr style=\"text-align: right;\">\n",
       "      <th></th>\n",
       "      <th>precision</th>\n",
       "      <th>recall</th>\n",
       "      <th>f1-score</th>\n",
       "      <th>support</th>\n",
       "    </tr>\n",
       "  </thead>\n",
       "  <tbody>\n",
       "    <tr>\n",
       "      <th>Non-exited</th>\n",
       "      <td>0.934109</td>\n",
       "      <td>0.756434</td>\n",
       "      <td>0.835935</td>\n",
       "      <td>1593.0000</td>\n",
       "    </tr>\n",
       "    <tr>\n",
       "      <th>exited</th>\n",
       "      <td>0.453521</td>\n",
       "      <td>0.791155</td>\n",
       "      <td>0.576544</td>\n",
       "      <td>407.0000</td>\n",
       "    </tr>\n",
       "    <tr>\n",
       "      <th>accuracy</th>\n",
       "      <td>0.763500</td>\n",
       "      <td>0.763500</td>\n",
       "      <td>0.763500</td>\n",
       "      <td>0.7635</td>\n",
       "    </tr>\n",
       "    <tr>\n",
       "      <th>macro avg</th>\n",
       "      <td>0.693815</td>\n",
       "      <td>0.773795</td>\n",
       "      <td>0.706240</td>\n",
       "      <td>2000.0000</td>\n",
       "    </tr>\n",
       "    <tr>\n",
       "      <th>weighted avg</th>\n",
       "      <td>0.836309</td>\n",
       "      <td>0.763500</td>\n",
       "      <td>0.783149</td>\n",
       "      <td>2000.0000</td>\n",
       "    </tr>\n",
       "  </tbody>\n",
       "</table>\n",
       "</div>"
      ],
      "text/plain": [
       "              precision    recall  f1-score    support\n",
       "Non-exited     0.934109  0.756434  0.835935  1593.0000\n",
       "exited         0.453521  0.791155  0.576544   407.0000\n",
       "accuracy       0.763500  0.763500  0.763500     0.7635\n",
       "macro avg      0.693815  0.773795  0.706240  2000.0000\n",
       "weighted avg   0.836309  0.763500  0.783149  2000.0000"
      ]
     },
     "execution_count": 41,
     "metadata": {},
     "output_type": "execute_result"
    }
   ],
   "source": [
    "model = DecisionTreeClassifier(random_state=12345,\n",
    "                               max_depth=best_depth_t)\n",
    "model.fit(df_f_upsampled, df_t_upsampled)\n",
    "predictions_valid = model.predict(df_f_valid)\n",
    "report = classification_report(df_t_valid, predictions_valid, target_names=['Non-exited', 'exited'], output_dict=True)\n",
    "report = pd.DataFrame(report).transpose()\n",
    "report"
   ]
  },
  {
   "cell_type": "code",
   "execution_count": 42,
   "metadata": {
    "scrolled": false
   },
   "outputs": [
    {
     "name": "stdout",
     "output_type": "stream",
     "text": [
      "Площадь под кривой ROC: 0.8364\n"
     ]
    },
    {
     "data": {
      "image/png": "[encoded data removed]",
      "text/plain": [
       "<Figure size 720x720 with 1 Axes>"
      ]
     },
     "metadata": {
      "needs_background": "light"
     },
     "output_type": "display_data"
    }
   ],
   "source": [
    "roc_auc_fig(model)"
   ]
  },
  {
   "cell_type": "markdown",
   "metadata": {},
   "source": [
    "**Вывод:**\n",
    "\n",
    "* Значения F1-меры меньше, чем `0.59` - `0.576544`\n",
    "* Площадь под кривой ROC - `0.8364`\n",
    "\n",
    "Метрики качества не соответствуют необходим, но метрики увеличились."
   ]
  },
  {
   "cell_type": "markdown",
   "metadata": {},
   "source": [
    "#### Случаный лес"
   ]
  },
  {
   "cell_type": "markdown",
   "metadata": {},
   "source": [
    "Проверим качество модели на увеличенной обучающей выборке:"
   ]
  },
  {
   "cell_type": "code",
   "execution_count": 43,
   "metadata": {
    "scrolled": true
   },
   "outputs": [
    {
     "name": "stderr",
     "output_type": "stream",
     "text": [
      "100%|██████████| 5/5 [00:07<00:00,  1.57s/it]\n"
     ]
    }
   ],
   "source": [
    "best_depth_f = 0\n",
    "best_est_f = 0\n",
    "f1_best_f = 0\n",
    "\n",
    "for est in tqdm(range(10, 51, 10)):\n",
    "    for depth in range (2, 11):\n",
    "        model = RandomForestClassifier(random_state=12345, n_estimators=est, max_depth=depth)\n",
    "        model.fit(df_f_upsampled, df_t_upsampled)\n",
    "        predictions_valid = model.predict(df_f_valid)\n",
    "        f1 = f1_score(df_t_valid, predictions_valid)\n",
    "        if f1 > f1_best_f:\n",
    "            best_depth_f = depth\n",
    "            best_est_f = est\n",
    "            f1_best_f = f1"
   ]
  },
  {
   "cell_type": "code",
   "execution_count": 44,
   "metadata": {},
   "outputs": [
    {
     "data": {
      "text/html": [
       "<div>\n",
       "<style scoped>\n",
       "    .dataframe tbody tr th:only-of-type {\n",
       "        vertical-align: middle;\n",
       "    }\n",
       "\n",
       "    .dataframe tbody tr th {\n",
       "        vertical-align: top;\n",
       "    }\n",
       "\n",
       "    .dataframe thead th {\n",
       "        text-align: right;\n",
       "    }\n",
       "</style>\n",
       "<table border=\"1\" class=\"dataframe\">\n",
       "  <thead>\n",
       "    <tr style=\"text-align: right;\">\n",
       "      <th></th>\n",
       "      <th>precision</th>\n",
       "      <th>recall</th>\n",
       "      <th>f1-score</th>\n",
       "      <th>support</th>\n",
       "    </tr>\n",
       "  </thead>\n",
       "  <tbody>\n",
       "    <tr>\n",
       "      <th>Non-exited</th>\n",
       "      <td>0.927148</td>\n",
       "      <td>0.846830</td>\n",
       "      <td>0.885171</td>\n",
       "      <td>1593.000</td>\n",
       "    </tr>\n",
       "    <tr>\n",
       "      <th>exited</th>\n",
       "      <td>0.552294</td>\n",
       "      <td>0.739558</td>\n",
       "      <td>0.632353</td>\n",
       "      <td>407.000</td>\n",
       "    </tr>\n",
       "    <tr>\n",
       "      <th>accuracy</th>\n",
       "      <td>0.825000</td>\n",
       "      <td>0.825000</td>\n",
       "      <td>0.825000</td>\n",
       "      <td>0.825</td>\n",
       "    </tr>\n",
       "    <tr>\n",
       "      <th>macro avg</th>\n",
       "      <td>0.739721</td>\n",
       "      <td>0.793194</td>\n",
       "      <td>0.758762</td>\n",
       "      <td>2000.000</td>\n",
       "    </tr>\n",
       "    <tr>\n",
       "      <th>weighted avg</th>\n",
       "      <td>0.850865</td>\n",
       "      <td>0.825000</td>\n",
       "      <td>0.833722</td>\n",
       "      <td>2000.000</td>\n",
       "    </tr>\n",
       "  </tbody>\n",
       "</table>\n",
       "</div>"
      ],
      "text/plain": [
       "              precision    recall  f1-score   support\n",
       "Non-exited     0.927148  0.846830  0.885171  1593.000\n",
       "exited         0.552294  0.739558  0.632353   407.000\n",
       "accuracy       0.825000  0.825000  0.825000     0.825\n",
       "macro avg      0.739721  0.793194  0.758762  2000.000\n",
       "weighted avg   0.850865  0.825000  0.833722  2000.000"
      ]
     },
     "execution_count": 44,
     "metadata": {},
     "output_type": "execute_result"
    }
   ],
   "source": [
    "model = RandomForestClassifier(random_state=12345,\n",
    "                               n_estimators=best_est_f,\n",
    "                               max_depth=best_depth_f)\n",
    "model.fit(df_f_upsampled, df_t_upsampled)\n",
    "predictions_valid = model.predict(df_f_valid)\n",
    "report = classification_report(df_t_valid, predictions_valid, target_names=['Non-exited', 'exited'], output_dict=True)\n",
    "report = pd.DataFrame(report).transpose()\n",
    "report"
   ]
  },
  {
   "cell_type": "code",
   "execution_count": 45,
   "metadata": {},
   "outputs": [
    {
     "name": "stdout",
     "output_type": "stream",
     "text": [
      "Площадь под кривой ROC: 0.8679\n"
     ]
    },
    {
     "data": {
      "image/png": "[encoded data removed]",
      "text/plain": [
       "<Figure size 720x720 with 1 Axes>"
      ]
     },
     "metadata": {
      "needs_background": "light"
     },
     "output_type": "display_data"
    }
   ],
   "source": [
    "roc_auc_fig(model)"
   ]
  },
  {
   "cell_type": "markdown",
   "metadata": {},
   "source": [
    "**Вывод:**\n",
    "\n",
    "* Значения F1-меры стало больше, чем `0.59` - `0.632353`\n",
    "* Площадь под кривой ROC - `0.8679`\n",
    "\n",
    "Метрики качества теперь соответствуют необходимым, такую модель можно использовать дальше."
   ]
  },
  {
   "cell_type": "markdown",
   "metadata": {},
   "source": [
    "#### Логистическая регрессия"
   ]
  },
  {
   "cell_type": "markdown",
   "metadata": {},
   "source": [
    "Проверим качество модели на увеличенной обучающей выборке:"
   ]
  },
  {
   "cell_type": "code",
   "execution_count": 46,
   "metadata": {},
   "outputs": [
    {
     "name": "stderr",
     "output_type": "stream",
     "text": [
      "/opt/conda/lib/python3.7/site-packages/sklearn/linear_model/logistic.py:432: FutureWarning: Default solver will be changed to 'lbfgs' in 0.22. Specify a solver to silence this warning.\n",
      "  FutureWarning)\n"
     ]
    },
    {
     "data": {
      "text/html": [
       "<div>\n",
       "<style scoped>\n",
       "    .dataframe tbody tr th:only-of-type {\n",
       "        vertical-align: middle;\n",
       "    }\n",
       "\n",
       "    .dataframe tbody tr th {\n",
       "        vertical-align: top;\n",
       "    }\n",
       "\n",
       "    .dataframe thead th {\n",
       "        text-align: right;\n",
       "    }\n",
       "</style>\n",
       "<table border=\"1\" class=\"dataframe\">\n",
       "  <thead>\n",
       "    <tr style=\"text-align: right;\">\n",
       "      <th></th>\n",
       "      <th>precision</th>\n",
       "      <th>recall</th>\n",
       "      <th>f1-score</th>\n",
       "      <th>support</th>\n",
       "    </tr>\n",
       "  </thead>\n",
       "  <tbody>\n",
       "    <tr>\n",
       "      <th>Non-exited</th>\n",
       "      <td>0.910628</td>\n",
       "      <td>0.709981</td>\n",
       "      <td>0.797884</td>\n",
       "      <td>1593.0000</td>\n",
       "    </tr>\n",
       "    <tr>\n",
       "      <th>exited</th>\n",
       "      <td>0.390501</td>\n",
       "      <td>0.727273</td>\n",
       "      <td>0.508155</td>\n",
       "      <td>407.0000</td>\n",
       "    </tr>\n",
       "    <tr>\n",
       "      <th>accuracy</th>\n",
       "      <td>0.713500</td>\n",
       "      <td>0.713500</td>\n",
       "      <td>0.713500</td>\n",
       "      <td>0.7135</td>\n",
       "    </tr>\n",
       "    <tr>\n",
       "      <th>macro avg</th>\n",
       "      <td>0.650565</td>\n",
       "      <td>0.718627</td>\n",
       "      <td>0.653019</td>\n",
       "      <td>2000.0000</td>\n",
       "    </tr>\n",
       "    <tr>\n",
       "      <th>weighted avg</th>\n",
       "      <td>0.804782</td>\n",
       "      <td>0.713500</td>\n",
       "      <td>0.738924</td>\n",
       "      <td>2000.0000</td>\n",
       "    </tr>\n",
       "  </tbody>\n",
       "</table>\n",
       "</div>"
      ],
      "text/plain": [
       "              precision    recall  f1-score    support\n",
       "Non-exited     0.910628  0.709981  0.797884  1593.0000\n",
       "exited         0.390501  0.727273  0.508155   407.0000\n",
       "accuracy       0.713500  0.713500  0.713500     0.7135\n",
       "macro avg      0.650565  0.718627  0.653019  2000.0000\n",
       "weighted avg   0.804782  0.713500  0.738924  2000.0000"
      ]
     },
     "execution_count": 46,
     "metadata": {},
     "output_type": "execute_result"
    }
   ],
   "source": [
    "model = LogisticRegression(random_state=12345)\n",
    "model.fit(df_f_upsampled, df_t_upsampled)\n",
    "predictions_valid = model.predict(df_f_valid)\n",
    "\n",
    "report = classification_report(df_t_valid, predictions_valid, target_names=['Non-exited', 'exited'], output_dict=True)\n",
    "report = pd.DataFrame(report).transpose()\n",
    "report"
   ]
  },
  {
   "cell_type": "code",
   "execution_count": 47,
   "metadata": {},
   "outputs": [
    {
     "name": "stdout",
     "output_type": "stream",
     "text": [
      "Площадь под кривой ROC: 0.7919\n"
     ]
    },
    {
     "data": {
      "image/png": "[encoded data removed]",
      "text/plain": [
       "<Figure size 720x720 with 1 Axes>"
      ]
     },
     "metadata": {
      "needs_background": "light"
     },
     "output_type": "display_data"
    }
   ],
   "source": [
    "roc_auc_fig(model)"
   ]
  },
  {
   "cell_type": "markdown",
   "metadata": {},
   "source": [
    "**Вывод:**\n",
    "\n",
    "* Значения F1-меры меньше, чем `0.59` - `0.508155`\n",
    "* Площадь под кривой ROC - `0.7919`\n",
    "\n",
    "Метрики качества не соответствуют необходим, но увеличились."
   ]
  },
  {
   "cell_type": "markdown",
   "metadata": {},
   "source": [
    "#### Вывод"
   ]
  },
  {
   "cell_type": "markdown",
   "metadata": {},
   "source": [
    "По 2-м моделям машинного обучения необходимое качество модели не достигнуто.\n",
    "\n",
    "Только модель случайного леса смогла достичь метрики F1-меры до необходимых значений, проверим дальнейшие способы борьбы с несбалансированными классами"
   ]
  },
  {
   "cell_type": "markdown",
   "metadata": {},
   "source": [
    "### Уменьшение выборки"
   ]
  },
  {
   "cell_type": "markdown",
   "metadata": {},
   "source": [
    "Для улучшения качества модели, уменьшим обучающую выборку, обучим модель и проверим полученные метрики:"
   ]
  },
  {
   "cell_type": "code",
   "execution_count": 48,
   "metadata": {},
   "outputs": [],
   "source": [
    "# Создаём функцию, которая уменьшает обучающую выборку и перемешивает ее\n",
    "\n",
    "def downsample(features, target, fraction):\n",
    "    features_zeros = features[target == 0]\n",
    "    features_ones = features[target == 1]\n",
    "    target_zeros = target[target == 0]\n",
    "    target_ones = target[target == 1]\n",
    "\n",
    "    features_downsampled = pd.concat(\n",
    "        [features_zeros.sample(frac=fraction, random_state=12345)] + [features_ones])\n",
    "    target_downsampled = pd.concat(\n",
    "        [target_zeros.sample(frac=fraction, random_state=12345)] + [target_ones])\n",
    "    \n",
    "    features_downsampled, target_downsampled = shuffle(\n",
    "        features_downsampled, target_downsampled, random_state=12345)\n",
    "    \n",
    "    return features_downsampled, target_downsampled"
   ]
  },
  {
   "cell_type": "markdown",
   "metadata": {},
   "source": [
    "Уменьшаем выборку в 4 раза, так как 20% клиентов уходят из банка (чтобы значения были приблизительно равны):"
   ]
  },
  {
   "cell_type": "code",
   "execution_count": 49,
   "metadata": {},
   "outputs": [],
   "source": [
    "df_f_downsampled, df_t_downsampled = downsample(df_f_train, df_t_train, 0.25)"
   ]
  },
  {
   "cell_type": "markdown",
   "metadata": {},
   "source": [
    "#### Дерево решений"
   ]
  },
  {
   "cell_type": "markdown",
   "metadata": {},
   "source": [
    "Проверим качество модели на уменьшенной обучающей выборке:"
   ]
  },
  {
   "cell_type": "code",
   "execution_count": 50,
   "metadata": {},
   "outputs": [
    {
     "name": "stderr",
     "output_type": "stream",
     "text": [
      "100%|██████████| 18/18 [00:00<00:00, 96.92it/s] \n"
     ]
    }
   ],
   "source": [
    "best_depth_t = 0\n",
    "f1_best_t = 0\n",
    "\n",
    "for depth in tqdm(range(2, 20)):\n",
    "    model = DecisionTreeClassifier(random_state=12345, max_depth=depth)\n",
    "    model.fit(df_f_downsampled, df_t_downsampled)\n",
    "    predictions_valid = model.predict(df_f_valid)\n",
    "    f1 = f1_score(df_t_valid, predictions_valid)\n",
    "    if f1 > f1_best_t:\n",
    "        best_depth_t = depth\n",
    "        f1_best_t = f1"
   ]
  },
  {
   "cell_type": "code",
   "execution_count": 51,
   "metadata": {},
   "outputs": [
    {
     "data": {
      "text/html": [
       "<div>\n",
       "<style scoped>\n",
       "    .dataframe tbody tr th:only-of-type {\n",
       "        vertical-align: middle;\n",
       "    }\n",
       "\n",
       "    .dataframe tbody tr th {\n",
       "        vertical-align: top;\n",
       "    }\n",
       "\n",
       "    .dataframe thead th {\n",
       "        text-align: right;\n",
       "    }\n",
       "</style>\n",
       "<table border=\"1\" class=\"dataframe\">\n",
       "  <thead>\n",
       "    <tr style=\"text-align: right;\">\n",
       "      <th></th>\n",
       "      <th>precision</th>\n",
       "      <th>recall</th>\n",
       "      <th>f1-score</th>\n",
       "      <th>support</th>\n",
       "    </tr>\n",
       "  </thead>\n",
       "  <tbody>\n",
       "    <tr>\n",
       "      <th>Non-exited</th>\n",
       "      <td>0.920198</td>\n",
       "      <td>0.817954</td>\n",
       "      <td>0.866068</td>\n",
       "      <td>1593.0000</td>\n",
       "    </tr>\n",
       "    <tr>\n",
       "      <th>exited</th>\n",
       "      <td>0.503425</td>\n",
       "      <td>0.722359</td>\n",
       "      <td>0.593340</td>\n",
       "      <td>407.0000</td>\n",
       "    </tr>\n",
       "    <tr>\n",
       "      <th>accuracy</th>\n",
       "      <td>0.798500</td>\n",
       "      <td>0.798500</td>\n",
       "      <td>0.798500</td>\n",
       "      <td>0.7985</td>\n",
       "    </tr>\n",
       "    <tr>\n",
       "      <th>macro avg</th>\n",
       "      <td>0.711811</td>\n",
       "      <td>0.770156</td>\n",
       "      <td>0.729704</td>\n",
       "      <td>2000.0000</td>\n",
       "    </tr>\n",
       "    <tr>\n",
       "      <th>weighted avg</th>\n",
       "      <td>0.835384</td>\n",
       "      <td>0.798500</td>\n",
       "      <td>0.810568</td>\n",
       "      <td>2000.0000</td>\n",
       "    </tr>\n",
       "  </tbody>\n",
       "</table>\n",
       "</div>"
      ],
      "text/plain": [
       "              precision    recall  f1-score    support\n",
       "Non-exited     0.920198  0.817954  0.866068  1593.0000\n",
       "exited         0.503425  0.722359  0.593340   407.0000\n",
       "accuracy       0.798500  0.798500  0.798500     0.7985\n",
       "macro avg      0.711811  0.770156  0.729704  2000.0000\n",
       "weighted avg   0.835384  0.798500  0.810568  2000.0000"
      ]
     },
     "execution_count": 51,
     "metadata": {},
     "output_type": "execute_result"
    }
   ],
   "source": [
    "model = DecisionTreeClassifier(random_state=12345,\n",
    "                               max_depth=best_depth_t)\n",
    "model.fit(df_f_downsampled, df_t_downsampled)\n",
    "predictions_valid = model.predict(df_f_valid)\n",
    "report = classification_report(df_t_valid, predictions_valid, target_names=['Non-exited', 'exited'], output_dict=True)\n",
    "report = pd.DataFrame(report).transpose()\n",
    "report"
   ]
  },
  {
   "cell_type": "code",
   "execution_count": 52,
   "metadata": {
    "scrolled": false
   },
   "outputs": [
    {
     "name": "stdout",
     "output_type": "stream",
     "text": [
      "Площадь под кривой ROC: 0.8435\n"
     ]
    },
    {
     "data": {
      "image/png": "[encoded data removed]",
      "text/plain": [
       "<Figure size 720x720 with 1 Axes>"
      ]
     },
     "metadata": {
      "needs_background": "light"
     },
     "output_type": "display_data"
    }
   ],
   "source": [
    "roc_auc_fig(model)"
   ]
  },
  {
   "cell_type": "markdown",
   "metadata": {},
   "source": [
    "**Вывод:**\n",
    "\n",
    "* Значения F1-меры чуть больше, чем `0.59` - `0.593340`\n",
    "* Площадь под кривой ROC - `0.8435`\n",
    "\n",
    "Метрики качества соответствуют необходим, но метрики увеличились незначительно."
   ]
  },
  {
   "cell_type": "markdown",
   "metadata": {},
   "source": [
    "#### Случаный лес"
   ]
  },
  {
   "cell_type": "markdown",
   "metadata": {},
   "source": [
    "Проверим качество модели на уменьшенной обучающей выборке:"
   ]
  },
  {
   "cell_type": "code",
   "execution_count": 53,
   "metadata": {},
   "outputs": [
    {
     "name": "stderr",
     "output_type": "stream",
     "text": [
      "100%|██████████| 5/5 [00:03<00:00,  1.42it/s]\n"
     ]
    }
   ],
   "source": [
    "best_depth_f = 0\n",
    "best_est_f = 0\n",
    "f1_best_f = 0\n",
    "\n",
    "for est in tqdm(range(10, 51, 10)):\n",
    "    for depth in range (2, 11):\n",
    "        model = RandomForestClassifier(random_state=12345, n_estimators=est, max_depth=depth)\n",
    "        model.fit(df_f_downsampled, df_t_downsampled)\n",
    "        predictions_valid = model.predict(df_f_valid)\n",
    "        f1 = f1_score(df_t_valid, predictions_valid)\n",
    "        if f1 > f1_best_f:\n",
    "            best_depth_f = depth\n",
    "            best_est_f = est\n",
    "            f1_best_f = f1"
   ]
  },
  {
   "cell_type": "code",
   "execution_count": 54,
   "metadata": {},
   "outputs": [
    {
     "data": {
      "text/html": [
       "<div>\n",
       "<style scoped>\n",
       "    .dataframe tbody tr th:only-of-type {\n",
       "        vertical-align: middle;\n",
       "    }\n",
       "\n",
       "    .dataframe tbody tr th {\n",
       "        vertical-align: top;\n",
       "    }\n",
       "\n",
       "    .dataframe thead th {\n",
       "        text-align: right;\n",
       "    }\n",
       "</style>\n",
       "<table border=\"1\" class=\"dataframe\">\n",
       "  <thead>\n",
       "    <tr style=\"text-align: right;\">\n",
       "      <th></th>\n",
       "      <th>precision</th>\n",
       "      <th>recall</th>\n",
       "      <th>f1-score</th>\n",
       "      <th>support</th>\n",
       "    </tr>\n",
       "  </thead>\n",
       "  <tbody>\n",
       "    <tr>\n",
       "      <th>Non-exited</th>\n",
       "      <td>0.931408</td>\n",
       "      <td>0.809793</td>\n",
       "      <td>0.866353</td>\n",
       "      <td>1593.000</td>\n",
       "    </tr>\n",
       "    <tr>\n",
       "      <th>exited</th>\n",
       "      <td>0.507317</td>\n",
       "      <td>0.766585</td>\n",
       "      <td>0.610568</td>\n",
       "      <td>407.000</td>\n",
       "    </tr>\n",
       "    <tr>\n",
       "      <th>accuracy</th>\n",
       "      <td>0.801000</td>\n",
       "      <td>0.801000</td>\n",
       "      <td>0.801000</td>\n",
       "      <td>0.801</td>\n",
       "    </tr>\n",
       "    <tr>\n",
       "      <th>macro avg</th>\n",
       "      <td>0.719363</td>\n",
       "      <td>0.788189</td>\n",
       "      <td>0.738460</td>\n",
       "      <td>2000.000</td>\n",
       "    </tr>\n",
       "    <tr>\n",
       "      <th>weighted avg</th>\n",
       "      <td>0.845105</td>\n",
       "      <td>0.801000</td>\n",
       "      <td>0.814301</td>\n",
       "      <td>2000.000</td>\n",
       "    </tr>\n",
       "  </tbody>\n",
       "</table>\n",
       "</div>"
      ],
      "text/plain": [
       "              precision    recall  f1-score   support\n",
       "Non-exited     0.931408  0.809793  0.866353  1593.000\n",
       "exited         0.507317  0.766585  0.610568   407.000\n",
       "accuracy       0.801000  0.801000  0.801000     0.801\n",
       "macro avg      0.719363  0.788189  0.738460  2000.000\n",
       "weighted avg   0.845105  0.801000  0.814301  2000.000"
      ]
     },
     "execution_count": 54,
     "metadata": {},
     "output_type": "execute_result"
    }
   ],
   "source": [
    "model = RandomForestClassifier(random_state=12345,\n",
    "                               n_estimators=best_est_f,\n",
    "                               max_depth=best_depth_f)\n",
    "model.fit(df_f_downsampled, df_t_downsampled)\n",
    "predictions_valid = model.predict(df_f_valid)\n",
    "report = classification_report(df_t_valid, predictions_valid, target_names=['Non-exited', 'exited'], output_dict=True)\n",
    "report = pd.DataFrame(report).transpose()\n",
    "report"
   ]
  },
  {
   "cell_type": "code",
   "execution_count": 55,
   "metadata": {
    "scrolled": false
   },
   "outputs": [
    {
     "name": "stdout",
     "output_type": "stream",
     "text": [
      "Площадь под кривой ROC: 0.8722\n"
     ]
    },
    {
     "data": {
      "image/png": "[encoded data removed]",
      "text/plain": [
       "<Figure size 720x720 with 1 Axes>"
      ]
     },
     "metadata": {
      "needs_background": "light"
     },
     "output_type": "display_data"
    }
   ],
   "source": [
    "roc_auc_fig(model)"
   ]
  },
  {
   "cell_type": "markdown",
   "metadata": {},
   "source": [
    "**Вывод:**\n",
    "\n",
    "* Значения F1-меры больше, чем `0.59` - `0.610568`\n",
    "* Площадь под кривой ROC - `0.8722`\n",
    "\n",
    "Метрики качества соответствуют необходим, такой способ можно использовать для увеличения качества модели."
   ]
  },
  {
   "cell_type": "markdown",
   "metadata": {},
   "source": [
    "#### Логистическая регрессия"
   ]
  },
  {
   "cell_type": "markdown",
   "metadata": {},
   "source": [
    "Проверим качество модели на уменьшенной обучающей выборке:"
   ]
  },
  {
   "cell_type": "code",
   "execution_count": 56,
   "metadata": {
    "scrolled": true
   },
   "outputs": [
    {
     "name": "stderr",
     "output_type": "stream",
     "text": [
      "/opt/conda/lib/python3.7/site-packages/sklearn/linear_model/logistic.py:432: FutureWarning: Default solver will be changed to 'lbfgs' in 0.22. Specify a solver to silence this warning.\n",
      "  FutureWarning)\n"
     ]
    },
    {
     "data": {
      "text/html": [
       "<div>\n",
       "<style scoped>\n",
       "    .dataframe tbody tr th:only-of-type {\n",
       "        vertical-align: middle;\n",
       "    }\n",
       "\n",
       "    .dataframe tbody tr th {\n",
       "        vertical-align: top;\n",
       "    }\n",
       "\n",
       "    .dataframe thead th {\n",
       "        text-align: right;\n",
       "    }\n",
       "</style>\n",
       "<table border=\"1\" class=\"dataframe\">\n",
       "  <thead>\n",
       "    <tr style=\"text-align: right;\">\n",
       "      <th></th>\n",
       "      <th>precision</th>\n",
       "      <th>recall</th>\n",
       "      <th>f1-score</th>\n",
       "      <th>support</th>\n",
       "    </tr>\n",
       "  </thead>\n",
       "  <tbody>\n",
       "    <tr>\n",
       "      <th>Non-exited</th>\n",
       "      <td>0.909018</td>\n",
       "      <td>0.708726</td>\n",
       "      <td>0.796473</td>\n",
       "      <td>1593.0000</td>\n",
       "    </tr>\n",
       "    <tr>\n",
       "      <th>exited</th>\n",
       "      <td>0.387863</td>\n",
       "      <td>0.722359</td>\n",
       "      <td>0.504721</td>\n",
       "      <td>407.0000</td>\n",
       "    </tr>\n",
       "    <tr>\n",
       "      <th>accuracy</th>\n",
       "      <td>0.711500</td>\n",
       "      <td>0.711500</td>\n",
       "      <td>0.711500</td>\n",
       "      <td>0.7115</td>\n",
       "    </tr>\n",
       "    <tr>\n",
       "      <th>macro avg</th>\n",
       "      <td>0.648440</td>\n",
       "      <td>0.715542</td>\n",
       "      <td>0.650597</td>\n",
       "      <td>2000.0000</td>\n",
       "    </tr>\n",
       "    <tr>\n",
       "      <th>weighted avg</th>\n",
       "      <td>0.802963</td>\n",
       "      <td>0.711500</td>\n",
       "      <td>0.737101</td>\n",
       "      <td>2000.0000</td>\n",
       "    </tr>\n",
       "  </tbody>\n",
       "</table>\n",
       "</div>"
      ],
      "text/plain": [
       "              precision    recall  f1-score    support\n",
       "Non-exited     0.909018  0.708726  0.796473  1593.0000\n",
       "exited         0.387863  0.722359  0.504721   407.0000\n",
       "accuracy       0.711500  0.711500  0.711500     0.7115\n",
       "macro avg      0.648440  0.715542  0.650597  2000.0000\n",
       "weighted avg   0.802963  0.711500  0.737101  2000.0000"
      ]
     },
     "execution_count": 56,
     "metadata": {},
     "output_type": "execute_result"
    }
   ],
   "source": [
    "model = LogisticRegression(random_state=12345)\n",
    "model.fit(df_f_downsampled, df_t_downsampled)\n",
    "predictions_valid = model.predict(df_f_valid)\n",
    "\n",
    "report = classification_report(df_t_valid, predictions_valid, target_names=['Non-exited', 'exited'], output_dict=True)\n",
    "report = pd.DataFrame(report).transpose()\n",
    "report"
   ]
  },
  {
   "cell_type": "code",
   "execution_count": 57,
   "metadata": {},
   "outputs": [
    {
     "name": "stdout",
     "output_type": "stream",
     "text": [
      "Площадь под кривой ROC: 0.7913\n"
     ]
    },
    {
     "data": {
      "image/png": "[encoded data removed]",
      "text/plain": [
       "<Figure size 720x720 with 1 Axes>"
      ]
     },
     "metadata": {
      "needs_background": "light"
     },
     "output_type": "display_data"
    }
   ],
   "source": [
    "roc_auc_fig(model)"
   ]
  },
  {
   "cell_type": "markdown",
   "metadata": {},
   "source": [
    "**Вывод:**\n",
    "\n",
    "* Значения F1-меры меньше, чем `0.59` - `0.504721`\n",
    "* Площадь под кривой ROC - `0.7913`\n",
    "\n",
    "Метрики качества не соответствуют необходим, но метрики увеличились."
   ]
  },
  {
   "cell_type": "markdown",
   "metadata": {},
   "source": [
    "#### Вывод"
   ]
  },
  {
   "cell_type": "markdown",
   "metadata": {},
   "source": [
    "По 1-ой модели машинного обучения необходимое качество модели не достигнуто.\n",
    "\n",
    "Модель дерева решений и случайного леса смогли достичь метрики F1-меры до необходимых значений, причем модель случайного леса показала большее значение. Проверим другие способы борьбы."
   ]
  },
  {
   "cell_type": "markdown",
   "metadata": {},
   "source": [
    "### Изменение порога"
   ]
  },
  {
   "cell_type": "markdown",
   "metadata": {},
   "source": [
    "Чтобы определить ответ, модель вычисляет, к какому классу близок объект, затем сравнивает результат с нулём. Для удобства близость к классам переведём в вероятность классов: модель пытается оценить, насколько вероятен тот или иной класс. У нас всего два класса (ноль и единица). Нам достаточно вероятности класса «1». Число будет от нуля до единицы: если больше 0.5 — объект положительный, меньше — отрицательный.\n",
    "\n",
    "Поменяем значения вероятности класса и проверим, как это повлияет на метрики качества моделей:"
   ]
  },
  {
   "cell_type": "markdown",
   "metadata": {},
   "source": [
    "#### Дерево решений"
   ]
  },
  {
   "cell_type": "markdown",
   "metadata": {},
   "source": [
    "Проверим качество модели на подборе порога значений классификации:"
   ]
  },
  {
   "cell_type": "code",
   "execution_count": 58,
   "metadata": {
    "scrolled": true
   },
   "outputs": [
    {
     "name": "stderr",
     "output_type": "stream",
     "text": [
      "/opt/conda/lib/python3.7/site-packages/sklearn/metrics/classification.py:1437: UndefinedMetricWarning: F-score is ill-defined and being set to 0.0 due to no predicted samples.\n",
      "  'precision', 'predicted', average, warn_for)\n"
     ]
    }
   ],
   "source": [
    "model = DecisionTreeClassifier(random_state=12345, max_depth=tree_best['depth'])\n",
    "model.fit(df_f_train, df_t_train)\n",
    "probabilities_valid = model.predict_proba(df_f_valid)\n",
    "probabilities_one_valid = probabilities_valid[:, 1]\n",
    "\n",
    "f1_best = 0\n",
    "predicted_best = []\n",
    "for threshold in np.arange(0, 1.1, 0.02):\n",
    "    predicted_valid = probabilities_one_valid > threshold\n",
    "    f1 = f1_score(df_t_valid, predicted_valid)\n",
    "    if f1 > f1_best:\n",
    "        f1_best = f1\n",
    "        predicted_best = predicted_valid"
   ]
  },
  {
   "cell_type": "code",
   "execution_count": 59,
   "metadata": {},
   "outputs": [
    {
     "data": {
      "text/html": [
       "<div>\n",
       "<style scoped>\n",
       "    .dataframe tbody tr th:only-of-type {\n",
       "        vertical-align: middle;\n",
       "    }\n",
       "\n",
       "    .dataframe tbody tr th {\n",
       "        vertical-align: top;\n",
       "    }\n",
       "\n",
       "    .dataframe thead th {\n",
       "        text-align: right;\n",
       "    }\n",
       "</style>\n",
       "<table border=\"1\" class=\"dataframe\">\n",
       "  <thead>\n",
       "    <tr style=\"text-align: right;\">\n",
       "      <th></th>\n",
       "      <th>precision</th>\n",
       "      <th>recall</th>\n",
       "      <th>f1-score</th>\n",
       "      <th>support</th>\n",
       "    </tr>\n",
       "  </thead>\n",
       "  <tbody>\n",
       "    <tr>\n",
       "      <th>Non-exited</th>\n",
       "      <td>0.893210</td>\n",
       "      <td>0.908349</td>\n",
       "      <td>0.900716</td>\n",
       "      <td>1593.0000</td>\n",
       "    </tr>\n",
       "    <tr>\n",
       "      <th>exited</th>\n",
       "      <td>0.615789</td>\n",
       "      <td>0.574939</td>\n",
       "      <td>0.594663</td>\n",
       "      <td>407.0000</td>\n",
       "    </tr>\n",
       "    <tr>\n",
       "      <th>accuracy</th>\n",
       "      <td>0.840500</td>\n",
       "      <td>0.840500</td>\n",
       "      <td>0.840500</td>\n",
       "      <td>0.8405</td>\n",
       "    </tr>\n",
       "    <tr>\n",
       "      <th>macro avg</th>\n",
       "      <td>0.754500</td>\n",
       "      <td>0.741644</td>\n",
       "      <td>0.747690</td>\n",
       "      <td>2000.0000</td>\n",
       "    </tr>\n",
       "    <tr>\n",
       "      <th>weighted avg</th>\n",
       "      <td>0.836755</td>\n",
       "      <td>0.840500</td>\n",
       "      <td>0.838434</td>\n",
       "      <td>2000.0000</td>\n",
       "    </tr>\n",
       "  </tbody>\n",
       "</table>\n",
       "</div>"
      ],
      "text/plain": [
       "              precision    recall  f1-score    support\n",
       "Non-exited     0.893210  0.908349  0.900716  1593.0000\n",
       "exited         0.615789  0.574939  0.594663   407.0000\n",
       "accuracy       0.840500  0.840500  0.840500     0.8405\n",
       "macro avg      0.754500  0.741644  0.747690  2000.0000\n",
       "weighted avg   0.836755  0.840500  0.838434  2000.0000"
      ]
     },
     "execution_count": 59,
     "metadata": {},
     "output_type": "execute_result"
    }
   ],
   "source": [
    "report = classification_report(df_t_valid, predicted_best, target_names=['Non-exited', 'exited'], output_dict=True)\n",
    "report = pd.DataFrame(report).transpose()\n",
    "report"
   ]
  },
  {
   "cell_type": "code",
   "execution_count": 60,
   "metadata": {},
   "outputs": [
    {
     "name": "stdout",
     "output_type": "stream",
     "text": [
      "Площадь под кривой ROC: 0.8097\n"
     ]
    },
    {
     "data": {
      "image/png": "[encoded data removed]",
      "text/plain": [
       "<Figure size 720x720 with 1 Axes>"
      ]
     },
     "metadata": {
      "needs_background": "light"
     },
     "output_type": "display_data"
    }
   ],
   "source": [
    "roc_auc_fig(model)"
   ]
  },
  {
   "cell_type": "markdown",
   "metadata": {},
   "source": [
    "**Вывод:**\n",
    "\n",
    "* Значения F1-меры чуть больше, чем `0.59` - `0.594663`\n",
    "* Площадь под кривой ROC - `0.8097`\n",
    "\n",
    "Метрики качества соответствуют необходим, но метрики увеличились незначительно."
   ]
  },
  {
   "cell_type": "markdown",
   "metadata": {},
   "source": [
    "#### Случайный лес"
   ]
  },
  {
   "cell_type": "markdown",
   "metadata": {},
   "source": [
    "Проверим качество модели на подборе порога значений классификации:"
   ]
  },
  {
   "cell_type": "code",
   "execution_count": 61,
   "metadata": {},
   "outputs": [
    {
     "name": "stderr",
     "output_type": "stream",
     "text": [
      "/opt/conda/lib/python3.7/site-packages/sklearn/metrics/classification.py:1437: UndefinedMetricWarning: F-score is ill-defined and being set to 0.0 due to no predicted samples.\n",
      "  'precision', 'predicted', average, warn_for)\n"
     ]
    }
   ],
   "source": [
    "model = RandomForestClassifier(random_state=12345, \n",
    "                               max_depth=forest_best['depth'], \n",
    "                               n_estimators=forest_best['n_estimators'])\n",
    "model.fit(df_f_train, df_t_train)\n",
    "probabilities_valid = model.predict_proba(df_f_valid)\n",
    "probabilities_one_valid = probabilities_valid[:, 1]\n",
    "\n",
    "f1_best = 0\n",
    "for threshold in np.arange(0, 1.1, 0.02):\n",
    "    predicted_valid = probabilities_one_valid > threshold\n",
    "    f1 = f1_score(df_t_valid, predicted_valid)\n",
    "    if f1 > f1_best:\n",
    "        f1_best = f1\n",
    "        predicted_best = predicted_valid"
   ]
  },
  {
   "cell_type": "code",
   "execution_count": 62,
   "metadata": {},
   "outputs": [
    {
     "data": {
      "text/html": [
       "<div>\n",
       "<style scoped>\n",
       "    .dataframe tbody tr th:only-of-type {\n",
       "        vertical-align: middle;\n",
       "    }\n",
       "\n",
       "    .dataframe tbody tr th {\n",
       "        vertical-align: top;\n",
       "    }\n",
       "\n",
       "    .dataframe thead th {\n",
       "        text-align: right;\n",
       "    }\n",
       "</style>\n",
       "<table border=\"1\" class=\"dataframe\">\n",
       "  <thead>\n",
       "    <tr style=\"text-align: right;\">\n",
       "      <th></th>\n",
       "      <th>precision</th>\n",
       "      <th>recall</th>\n",
       "      <th>f1-score</th>\n",
       "      <th>support</th>\n",
       "    </tr>\n",
       "  </thead>\n",
       "  <tbody>\n",
       "    <tr>\n",
       "      <th>Non-exited</th>\n",
       "      <td>0.913015</td>\n",
       "      <td>0.889517</td>\n",
       "      <td>0.901113</td>\n",
       "      <td>1593.0000</td>\n",
       "    </tr>\n",
       "    <tr>\n",
       "      <th>exited</th>\n",
       "      <td>0.607143</td>\n",
       "      <td>0.668305</td>\n",
       "      <td>0.636257</td>\n",
       "      <td>407.0000</td>\n",
       "    </tr>\n",
       "    <tr>\n",
       "      <th>accuracy</th>\n",
       "      <td>0.844500</td>\n",
       "      <td>0.844500</td>\n",
       "      <td>0.844500</td>\n",
       "      <td>0.8445</td>\n",
       "    </tr>\n",
       "    <tr>\n",
       "      <th>macro avg</th>\n",
       "      <td>0.760079</td>\n",
       "      <td>0.778911</td>\n",
       "      <td>0.768685</td>\n",
       "      <td>2000.0000</td>\n",
       "    </tr>\n",
       "    <tr>\n",
       "      <th>weighted avg</th>\n",
       "      <td>0.850770</td>\n",
       "      <td>0.844500</td>\n",
       "      <td>0.847215</td>\n",
       "      <td>2000.0000</td>\n",
       "    </tr>\n",
       "  </tbody>\n",
       "</table>\n",
       "</div>"
      ],
      "text/plain": [
       "              precision    recall  f1-score    support\n",
       "Non-exited     0.913015  0.889517  0.901113  1593.0000\n",
       "exited         0.607143  0.668305  0.636257   407.0000\n",
       "accuracy       0.844500  0.844500  0.844500     0.8445\n",
       "macro avg      0.760079  0.778911  0.768685  2000.0000\n",
       "weighted avg   0.850770  0.844500  0.847215  2000.0000"
      ]
     },
     "execution_count": 62,
     "metadata": {},
     "output_type": "execute_result"
    }
   ],
   "source": [
    "report = classification_report(df_t_valid, predicted_best, target_names=['Non-exited', 'exited'], output_dict=True)\n",
    "report = pd.DataFrame(report).transpose()\n",
    "report"
   ]
  },
  {
   "cell_type": "code",
   "execution_count": 63,
   "metadata": {},
   "outputs": [
    {
     "name": "stdout",
     "output_type": "stream",
     "text": [
      "Площадь под кривой ROC: 0.8659\n"
     ]
    },
    {
     "data": {
      "image/png": "[encoded data removed]",
      "text/plain": [
       "<Figure size 720x720 with 1 Axes>"
      ]
     },
     "metadata": {
      "needs_background": "light"
     },
     "output_type": "display_data"
    }
   ],
   "source": [
    "roc_auc_fig(model)"
   ]
  },
  {
   "cell_type": "markdown",
   "metadata": {},
   "source": [
    "**Вывод:**\n",
    "\n",
    "* Значения F1-меры стало больше, чем `0.59` - `0.636257`\n",
    "* Площадь под кривой ROC - `0.8659`\n",
    "\n",
    "Метрики качества теперь соответствуют необходимым, такую модель можно использовать дальше."
   ]
  },
  {
   "cell_type": "markdown",
   "metadata": {},
   "source": [
    "#### Логистическая регрессия"
   ]
  },
  {
   "cell_type": "markdown",
   "metadata": {},
   "source": [
    "Проверим качество модели на подборе порога значений классификации:"
   ]
  },
  {
   "cell_type": "code",
   "execution_count": 64,
   "metadata": {},
   "outputs": [
    {
     "name": "stderr",
     "output_type": "stream",
     "text": [
      "/opt/conda/lib/python3.7/site-packages/sklearn/linear_model/logistic.py:432: FutureWarning: Default solver will be changed to 'lbfgs' in 0.22. Specify a solver to silence this warning.\n",
      "  FutureWarning)\n",
      "/opt/conda/lib/python3.7/site-packages/sklearn/metrics/classification.py:1437: UndefinedMetricWarning: F-score is ill-defined and being set to 0.0 due to no predicted samples.\n",
      "  'precision', 'predicted', average, warn_for)\n"
     ]
    }
   ],
   "source": [
    "model = LogisticRegression(random_state=12345)\n",
    "model.fit(df_f_train, df_t_train)\n",
    "probabilities_valid = model.predict_proba(df_f_valid)\n",
    "probabilities_one_valid = probabilities_valid[:, 1]\n",
    "\n",
    "f1_best = 0\n",
    "for threshold in np.arange(0, 1.1, 0.02):\n",
    "    predicted_valid = probabilities_one_valid > threshold\n",
    "    f1 = f1_score(df_t_valid, predicted_valid)\n",
    "    if f1 > f1_best:\n",
    "        f1_best = f1\n",
    "        predicted_best = predicted_valid"
   ]
  },
  {
   "cell_type": "code",
   "execution_count": 65,
   "metadata": {},
   "outputs": [
    {
     "data": {
      "text/html": [
       "<div>\n",
       "<style scoped>\n",
       "    .dataframe tbody tr th:only-of-type {\n",
       "        vertical-align: middle;\n",
       "    }\n",
       "\n",
       "    .dataframe tbody tr th {\n",
       "        vertical-align: top;\n",
       "    }\n",
       "\n",
       "    .dataframe thead th {\n",
       "        text-align: right;\n",
       "    }\n",
       "</style>\n",
       "<table border=\"1\" class=\"dataframe\">\n",
       "  <thead>\n",
       "    <tr style=\"text-align: right;\">\n",
       "      <th></th>\n",
       "      <th>precision</th>\n",
       "      <th>recall</th>\n",
       "      <th>f1-score</th>\n",
       "      <th>support</th>\n",
       "    </tr>\n",
       "  </thead>\n",
       "  <tbody>\n",
       "    <tr>\n",
       "      <th>Non-exited</th>\n",
       "      <td>0.893676</td>\n",
       "      <td>0.807282</td>\n",
       "      <td>0.848285</td>\n",
       "      <td>1593.00</td>\n",
       "    </tr>\n",
       "    <tr>\n",
       "      <th>exited</th>\n",
       "      <td>0.452763</td>\n",
       "      <td>0.624079</td>\n",
       "      <td>0.524793</td>\n",
       "      <td>407.00</td>\n",
       "    </tr>\n",
       "    <tr>\n",
       "      <th>accuracy</th>\n",
       "      <td>0.770000</td>\n",
       "      <td>0.770000</td>\n",
       "      <td>0.770000</td>\n",
       "      <td>0.77</td>\n",
       "    </tr>\n",
       "    <tr>\n",
       "      <th>macro avg</th>\n",
       "      <td>0.673220</td>\n",
       "      <td>0.715680</td>\n",
       "      <td>0.686539</td>\n",
       "      <td>2000.00</td>\n",
       "    </tr>\n",
       "    <tr>\n",
       "      <th>weighted avg</th>\n",
       "      <td>0.803950</td>\n",
       "      <td>0.770000</td>\n",
       "      <td>0.782454</td>\n",
       "      <td>2000.00</td>\n",
       "    </tr>\n",
       "  </tbody>\n",
       "</table>\n",
       "</div>"
      ],
      "text/plain": [
       "              precision    recall  f1-score  support\n",
       "Non-exited     0.893676  0.807282  0.848285  1593.00\n",
       "exited         0.452763  0.624079  0.524793   407.00\n",
       "accuracy       0.770000  0.770000  0.770000     0.77\n",
       "macro avg      0.673220  0.715680  0.686539  2000.00\n",
       "weighted avg   0.803950  0.770000  0.782454  2000.00"
      ]
     },
     "execution_count": 65,
     "metadata": {},
     "output_type": "execute_result"
    }
   ],
   "source": [
    "report = classification_report(df_t_valid, predicted_best, target_names=['Non-exited', 'exited'], output_dict=True)\n",
    "report = pd.DataFrame(report).transpose()\n",
    "report"
   ]
  },
  {
   "cell_type": "code",
   "execution_count": 66,
   "metadata": {},
   "outputs": [
    {
     "name": "stdout",
     "output_type": "stream",
     "text": [
      "Площадь под кривой ROC: 0.7876\n"
     ]
    },
    {
     "data": {
      "image/png": "[encoded data removed]",
      "text/plain": [
       "<Figure size 720x720 with 1 Axes>"
      ]
     },
     "metadata": {
      "needs_background": "light"
     },
     "output_type": "display_data"
    }
   ],
   "source": [
    "roc_auc_fig(model)"
   ]
  },
  {
   "cell_type": "markdown",
   "metadata": {},
   "source": [
    "**Вывод:**\n",
    "\n",
    "* Значения F1-меры меньше, чем `0.59` - `0.524793`\n",
    "* Площадь под кривой ROC - `0.7876`\n",
    "\n",
    "Метрики качества не соответствуют необходим, но метрики увеличились."
   ]
  },
  {
   "cell_type": "markdown",
   "metadata": {},
   "source": [
    "#### Вывод"
   ]
  },
  {
   "cell_type": "markdown",
   "metadata": {},
   "source": [
    "По 1-ой модели машинного обучения необходимое качество модели не достигнуто.\n",
    "\n",
    "Модель дерева решений и случайного леса смогли достичь метрики F1-меры до необходимых значений, причем модель случайного леса показала большее значение. Воспользуемся моделью случайного леса."
   ]
  },
  {
   "cell_type": "markdown",
   "metadata": {},
   "source": [
    "### Объединение способов"
   ]
  },
  {
   "cell_type": "markdown",
   "metadata": {},
   "source": [
    "Для дальнейшего тестирования модели, попробуем объединить два способа борьбы с дисбалансом, которые выдали наибольшие значения метрик F1-меры:\n",
    "\n",
    "1. Увеличение выборки\n",
    "2. Подбор вероятности порога классификации\n",
    "\n",
    "Проверим качество модели при объединении двух способов. Если метрика будет выше - можно тестировать модель."
   ]
  },
  {
   "cell_type": "code",
   "execution_count": 67,
   "metadata": {},
   "outputs": [
    {
     "name": "stderr",
     "output_type": "stream",
     "text": [
      "100%|██████████| 5/5 [00:07<00:00,  1.52s/it]\n"
     ]
    }
   ],
   "source": [
    "# подбираем гиперпараметры на увеличенной выборке\n",
    "\n",
    "best_depth_f = 0\n",
    "best_est_f = 0\n",
    "f1_best_f = 0\n",
    "\n",
    "for est in tqdm(range(10, 51, 10)):\n",
    "    for depth in range (2, 11):\n",
    "        model = RandomForestClassifier(random_state=12345, n_estimators=est, max_depth=depth)\n",
    "        model.fit(df_f_upsampled, df_t_upsampled)\n",
    "        predictions_valid = model.predict(df_f_valid)\n",
    "        f1 = f1_score(df_t_valid, predictions_valid)\n",
    "        if f1 > f1_best_f:\n",
    "            best_depth_f = depth\n",
    "            best_est_f = est\n",
    "            f1_best_f = f1"
   ]
  },
  {
   "cell_type": "code",
   "execution_count": 68,
   "metadata": {
    "scrolled": true
   },
   "outputs": [
    {
     "name": "stderr",
     "output_type": "stream",
     "text": [
      "/opt/conda/lib/python3.7/site-packages/sklearn/metrics/classification.py:1437: UndefinedMetricWarning: F-score is ill-defined and being set to 0.0 due to no predicted samples.\n",
      "  'precision', 'predicted', average, warn_for)\n"
     ]
    }
   ],
   "source": [
    "# подбираем порог классификации для обученной модели\n",
    "\n",
    "model = RandomForestClassifier(random_state=12345,\n",
    "                               n_estimators=best_est_f,\n",
    "                               max_depth=best_depth_f)\n",
    "model.fit(df_f_upsampled, df_t_upsampled)\n",
    "probabilities_valid = model.predict_proba(df_f_valid)\n",
    "probabilities_one_valid = probabilities_valid[:, 1]\n",
    "\n",
    "f1_best = 0\n",
    "for threshold in np.arange(0, 1.1, 0.02):\n",
    "    predicted_valid = probabilities_one_valid > threshold\n",
    "    f1 = f1_score(df_t_valid, predicted_valid)\n",
    "    if f1 > f1_best:\n",
    "        f1_best = f1\n",
    "        predicted_best = predicted_valid"
   ]
  },
  {
   "cell_type": "code",
   "execution_count": 69,
   "metadata": {},
   "outputs": [
    {
     "data": {
      "text/html": [
       "<div>\n",
       "<style scoped>\n",
       "    .dataframe tbody tr th:only-of-type {\n",
       "        vertical-align: middle;\n",
       "    }\n",
       "\n",
       "    .dataframe tbody tr th {\n",
       "        vertical-align: top;\n",
       "    }\n",
       "\n",
       "    .dataframe thead th {\n",
       "        text-align: right;\n",
       "    }\n",
       "</style>\n",
       "<table border=\"1\" class=\"dataframe\">\n",
       "  <thead>\n",
       "    <tr style=\"text-align: right;\">\n",
       "      <th></th>\n",
       "      <th>precision</th>\n",
       "      <th>recall</th>\n",
       "      <th>f1-score</th>\n",
       "      <th>support</th>\n",
       "    </tr>\n",
       "  </thead>\n",
       "  <tbody>\n",
       "    <tr>\n",
       "      <th>Non-exited</th>\n",
       "      <td>0.923387</td>\n",
       "      <td>0.862524</td>\n",
       "      <td>0.891918</td>\n",
       "      <td>1593.0000</td>\n",
       "    </tr>\n",
       "    <tr>\n",
       "      <th>exited</th>\n",
       "      <td>0.572266</td>\n",
       "      <td>0.719902</td>\n",
       "      <td>0.637650</td>\n",
       "      <td>407.0000</td>\n",
       "    </tr>\n",
       "    <tr>\n",
       "      <th>accuracy</th>\n",
       "      <td>0.833500</td>\n",
       "      <td>0.833500</td>\n",
       "      <td>0.833500</td>\n",
       "      <td>0.8335</td>\n",
       "    </tr>\n",
       "    <tr>\n",
       "      <th>macro avg</th>\n",
       "      <td>0.747826</td>\n",
       "      <td>0.791213</td>\n",
       "      <td>0.764784</td>\n",
       "      <td>2000.0000</td>\n",
       "    </tr>\n",
       "    <tr>\n",
       "      <th>weighted avg</th>\n",
       "      <td>0.851934</td>\n",
       "      <td>0.833500</td>\n",
       "      <td>0.840175</td>\n",
       "      <td>2000.0000</td>\n",
       "    </tr>\n",
       "  </tbody>\n",
       "</table>\n",
       "</div>"
      ],
      "text/plain": [
       "              precision    recall  f1-score    support\n",
       "Non-exited     0.923387  0.862524  0.891918  1593.0000\n",
       "exited         0.572266  0.719902  0.637650   407.0000\n",
       "accuracy       0.833500  0.833500  0.833500     0.8335\n",
       "macro avg      0.747826  0.791213  0.764784  2000.0000\n",
       "weighted avg   0.851934  0.833500  0.840175  2000.0000"
      ]
     },
     "execution_count": 69,
     "metadata": {},
     "output_type": "execute_result"
    }
   ],
   "source": [
    "report = classification_report(df_t_valid, predicted_best, target_names=['Non-exited', 'exited'], output_dict=True)\n",
    "report = pd.DataFrame(report).transpose()\n",
    "report"
   ]
  },
  {
   "cell_type": "code",
   "execution_count": 70,
   "metadata": {},
   "outputs": [
    {
     "name": "stdout",
     "output_type": "stream",
     "text": [
      "Площадь под кривой ROC: 0.8679\n"
     ]
    },
    {
     "data": {
      "image/png": "[encoded data removed]",
      "text/plain": [
       "<Figure size 720x720 with 1 Axes>"
      ]
     },
     "metadata": {
      "needs_background": "light"
     },
     "output_type": "display_data"
    }
   ],
   "source": [
    "roc_auc_fig(model)"
   ]
  },
  {
   "cell_type": "markdown",
   "metadata": {},
   "source": [
    "#### Вывод"
   ]
  },
  {
   "cell_type": "markdown",
   "metadata": {},
   "source": [
    "Метрики модели выросли:\n",
    "\n",
    "* Значения F1-меры больше, чем `0.59` и больше полученных ранее способов - `0.637650`\n",
    "* Площадь под кривой ROC - `0.8679`\n",
    "\n",
    "Данный способ можно тестировать."
   ]
  },
  {
   "cell_type": "markdown",
   "metadata": {},
   "source": [
    "## Тестирование модели"
   ]
  },
  {
   "cell_type": "markdown",
   "metadata": {},
   "source": [
    "Проведем тестирование модели на тестовой выборке с помощью:\n",
    "\n",
    "1. Модели случайного леса\n",
    "2. Увеличения выборки\n",
    "3. Подбора порога классификации\n",
    "\n",
    "Так как данный способ показал наивысшую метрику качества F1-меры - `0.637650`"
   ]
  },
  {
   "cell_type": "markdown",
   "metadata": {},
   "source": [
    "**Прежде, чем проверять метрики лучшей модели и способа борьбы с дисбалансом, необходимо:**\n",
    "\n",
    "* стандартизировать данные в тестовой выборке с помоoью ранее обученной модели стандартизации\n",
    "* объединить обучающую и валидационную выборку и увеличить"
   ]
  },
  {
   "cell_type": "code",
   "execution_count": 71,
   "metadata": {
    "scrolled": true
   },
   "outputs": [
    {
     "name": "stderr",
     "output_type": "stream",
     "text": [
      "/opt/conda/lib/python3.7/site-packages/ipykernel_launcher.py:3: SettingWithCopyWarning: \n",
      "A value is trying to be set on a copy of a slice from a DataFrame.\n",
      "Try using .loc[row_indexer,col_indexer] = value instead\n",
      "\n",
      "See the caveats in the documentation: http://pandas.pydata.org/pandas-docs/stable/user_guide/indexing.html#returning-a-view-versus-a-copy\n",
      "  This is separate from the ipykernel package so we can avoid doing imports until\n",
      "/home/jovyan/.local/lib/python3.7/site-packages/pandas/core/indexing.py:494: SettingWithCopyWarning: \n",
      "A value is trying to be set on a copy of a slice from a DataFrame.\n",
      "Try using .loc[row_indexer,col_indexer] = value instead\n",
      "\n",
      "See the caveats in the documentation: http://pandas.pydata.org/pandas-docs/stable/user_guide/indexing.html#returning-a-view-versus-a-copy\n",
      "  self.obj[item] = s\n"
     ]
    }
   ],
   "source": [
    "# стандартизируем\n",
    "\n",
    "df_f_test[numeric] = scaler.transform(df_f_test[numeric])"
   ]
  },
  {
   "cell_type": "code",
   "execution_count": 72,
   "metadata": {},
   "outputs": [],
   "source": [
    "# объединяем финальные обучающие выборки\n",
    "\n",
    "final_f = pd.concat([df_f_train, df_f_valid])\n",
    "final_t = pd.concat([df_t_train, df_t_valid])"
   ]
  },
  {
   "cell_type": "markdown",
   "metadata": {},
   "source": [
    "Проверим дисбаланс классов:"
   ]
  },
  {
   "cell_type": "code",
   "execution_count": 73,
   "metadata": {},
   "outputs": [
    {
     "data": {
      "text/plain": [
       "1630"
      ]
     },
     "metadata": {},
     "output_type": "display_data"
    },
    {
     "data": {
      "text/plain": [
       "8000"
      ]
     },
     "metadata": {},
     "output_type": "display_data"
    }
   ],
   "source": [
    "display(final_t.sum(), final_t.count())"
   ]
  },
  {
   "cell_type": "markdown",
   "metadata": {},
   "source": [
    "Разница чуть больше, чуть меньше, чем в 5 раз.\n",
    "\n",
    "Увеличим выборку примерно в 4 раза и посмотрим результат."
   ]
  },
  {
   "cell_type": "code",
   "execution_count": 74,
   "metadata": {},
   "outputs": [],
   "source": [
    "# увеличиваем выборку\n",
    "\n",
    "final_f, final_t = upsample(final_f, final_t, 4)"
   ]
  },
  {
   "cell_type": "code",
   "execution_count": 75,
   "metadata": {},
   "outputs": [
    {
     "name": "stderr",
     "output_type": "stream",
     "text": [
      "/opt/conda/lib/python3.7/site-packages/sklearn/metrics/classification.py:1437: UndefinedMetricWarning: F-score is ill-defined and being set to 0.0 due to no predicted samples.\n",
      "  'precision', 'predicted', average, warn_for)\n"
     ]
    }
   ],
   "source": [
    "model = RandomForestClassifier(random_state=12345,\n",
    "                               n_estimators=best_est_f,\n",
    "                               max_depth=best_depth_f)\n",
    "model.fit(final_f, final_t)\n",
    "probabilities = model.predict_proba(df_f_test)\n",
    "probabilities_one = probabilities[:, 1]\n",
    "\n",
    "predicted_best = []\n",
    "f1_best = 0\n",
    "for threshold in np.arange(0, 1.1, 0.02):\n",
    "    predicted = probabilities_one > threshold\n",
    "    f1 = f1_score(df_t_test, predicted)\n",
    "    if f1 > f1_best:\n",
    "        f1_best = f1\n",
    "        predicted_best = predicted"
   ]
  },
  {
   "cell_type": "code",
   "execution_count": 76,
   "metadata": {},
   "outputs": [
    {
     "data": {
      "text/html": [
       "<div>\n",
       "<style scoped>\n",
       "    .dataframe tbody tr th:only-of-type {\n",
       "        vertical-align: middle;\n",
       "    }\n",
       "\n",
       "    .dataframe tbody tr th {\n",
       "        vertical-align: top;\n",
       "    }\n",
       "\n",
       "    .dataframe thead th {\n",
       "        text-align: right;\n",
       "    }\n",
       "</style>\n",
       "<table border=\"1\" class=\"dataframe\">\n",
       "  <thead>\n",
       "    <tr style=\"text-align: right;\">\n",
       "      <th></th>\n",
       "      <th>precision</th>\n",
       "      <th>recall</th>\n",
       "      <th>f1-score</th>\n",
       "      <th>support</th>\n",
       "    </tr>\n",
       "  </thead>\n",
       "  <tbody>\n",
       "    <tr>\n",
       "      <th>Non-exited</th>\n",
       "      <td>0.918758</td>\n",
       "      <td>0.873195</td>\n",
       "      <td>0.895397</td>\n",
       "      <td>1593.0000</td>\n",
       "    </tr>\n",
       "    <tr>\n",
       "      <th>exited</th>\n",
       "      <td>0.584362</td>\n",
       "      <td>0.697789</td>\n",
       "      <td>0.636058</td>\n",
       "      <td>407.0000</td>\n",
       "    </tr>\n",
       "    <tr>\n",
       "      <th>accuracy</th>\n",
       "      <td>0.837500</td>\n",
       "      <td>0.837500</td>\n",
       "      <td>0.837500</td>\n",
       "      <td>0.8375</td>\n",
       "    </tr>\n",
       "    <tr>\n",
       "      <th>macro avg</th>\n",
       "      <td>0.751560</td>\n",
       "      <td>0.785492</td>\n",
       "      <td>0.765728</td>\n",
       "      <td>2000.0000</td>\n",
       "    </tr>\n",
       "    <tr>\n",
       "      <th>weighted avg</th>\n",
       "      <td>0.850709</td>\n",
       "      <td>0.837500</td>\n",
       "      <td>0.842622</td>\n",
       "      <td>2000.0000</td>\n",
       "    </tr>\n",
       "  </tbody>\n",
       "</table>\n",
       "</div>"
      ],
      "text/plain": [
       "              precision    recall  f1-score    support\n",
       "Non-exited     0.918758  0.873195  0.895397  1593.0000\n",
       "exited         0.584362  0.697789  0.636058   407.0000\n",
       "accuracy       0.837500  0.837500  0.837500     0.8375\n",
       "macro avg      0.751560  0.785492  0.765728  2000.0000\n",
       "weighted avg   0.850709  0.837500  0.842622  2000.0000"
      ]
     },
     "execution_count": 76,
     "metadata": {},
     "output_type": "execute_result"
    }
   ],
   "source": [
    "report = classification_report(df_t_test, predicted_best, target_names=['Non-exited', 'exited'], output_dict=True)\n",
    "report = pd.DataFrame(report).transpose()\n",
    "report"
   ]
  },
  {
   "cell_type": "code",
   "execution_count": 77,
   "metadata": {},
   "outputs": [
    {
     "name": "stdout",
     "output_type": "stream",
     "text": [
      "Площадь под кривой ROC: 0.8617\n"
     ]
    },
    {
     "data": {
      "image/png": "[encoded data removed]",
      "text/plain": [
       "<Figure size 720x720 with 1 Axes>"
      ]
     },
     "metadata": {
      "needs_background": "light"
     },
     "output_type": "display_data"
    }
   ],
   "source": [
    "roc_auc_fig(model, df_f_test, df_t_test)"
   ]
  },
  {
   "cell_type": "markdown",
   "metadata": {},
   "source": [
    "* Значения F1-меры - `0.636058`\n",
    "* Площадь под кривой ROC - `0.8617`\n",
    "\n",
    "Необходимые метрики достигнуты."
   ]
  },
  {
   "cell_type": "markdown",
   "metadata": {},
   "source": [
    "### Доп. задание. Feature importence"
   ]
  },
  {
   "cell_type": "code",
   "execution_count": 78,
   "metadata": {},
   "outputs": [
    {
     "data": {
      "image/png": "[encoded data removed]",
      "text/plain": [
       "<Figure size 1080x504 with 1 Axes>"
      ]
     },
     "metadata": {
      "needs_background": "light"
     },
     "output_type": "display_data"
    }
   ],
   "source": [
    "importances = model.feature_importances_\n",
    "\n",
    "forest_importances = pd.Series(importances, index=final_f.columns)\n",
    "std = np.std([tree.feature_importances_ for tree in model.estimators_], axis=0)\n",
    "\n",
    "forest_importances.plot.bar(yerr=std, figsize=(15,7), rot=45)\n",
    "plt.title(\"Важность признаков по критерию Gini\")\n",
    "plt.ylabel(\"Cреднее уменьшение неопределенности\")\n",
    "plt.show()"
   ]
  },
  {
   "cell_type": "markdown",
   "metadata": {},
   "source": [
    "**Вывод:**\n",
    "\n",
    "Самыми важными критериями в данных показатели:\n",
    "\n",
    "* возраст\n",
    "* количество продуктов банка, используемых клиентом\n",
    "* баланс (но не так значительно)"
   ]
  },
  {
   "cell_type": "markdown",
   "metadata": {},
   "source": [
    "## Общий вывод"
   ]
  },
  {
   "cell_type": "markdown",
   "metadata": {},
   "source": [
    "Для полученных данных, чтобы получить наибольшие и необходимые значения F1-меры, необходимо использовать:\n",
    "\n",
    "1. Модель случайного леса\n",
    "2. Увеличение обучающей выборки\n",
    "3. Подбор порога вероятности положительного класса\n",
    "\n",
    "В таком случае метрики на протестированной модели получили данные значения:\n",
    "\n",
    "* F1-мера - `0.636058`\n",
    "* Площадь под кривой ROC - `0.8617`\n",
    "* Полнота - `0.697789`\n",
    "* Точность - `0.584362`"
   ]
  },
  {
   "cell_type": "markdown",
   "metadata": {},
   "source": [
    "## Чек-лист готовности проекта"
   ]
  },
  {
   "cell_type": "markdown",
   "metadata": {},
   "source": [
    "Поставьте 'x' в выполненных пунктах. Далее нажмите Shift+Enter."
   ]
  },
  {
   "cell_type": "markdown",
   "metadata": {},
   "source": [
    "- [x]  Jupyter Notebook открыт\n",
    "- [x]  Весь код выполняется без ошибок\n",
    "- [x]  Ячейки с кодом расположены в порядке исполнения\n",
    "- [x]  Выполнен шаг 1: данные подготовлены\n",
    "- [x]  Выполнен шаг 2: задача исследована\n",
    "    - [x]  Исследован баланс классов\n",
    "    - [x]  Изучены модели без учёта дисбаланса\n",
    "    - [x]  Написаны выводы по результатам исследования\n",
    "- [x]  Выполнен шаг 3: учтён дисбаланс\n",
    "    - [x]  Применено несколько способов борьбы с дисбалансом\n",
    "    - [x]  Написаны выводы по результатам исследования\n",
    "- [x]  Выполнен шаг 4: проведено тестирование\n",
    "- [x]  Удалось достичь *F1*-меры не менее 0.59\n",
    "- [x]  Исследована метрика *AUC-ROC*"
   ]
  }
 ],
 "metadata": {
  "ExecuteTimeLog": [
   {
    "duration": 536,
    "start_time": "2022-02-15T10:00:21.568Z"
   },
   {
    "duration": 9,
    "start_time": "2022-02-15T10:00:27.233Z"
   },
   {
    "duration": 4,
    "start_time": "2022-02-15T10:02:12.959Z"
   },
   {
    "duration": 1090,
    "start_time": "2022-02-16T06:27:51.777Z"
   },
   {
    "duration": 29,
    "start_time": "2022-02-16T06:28:23.804Z"
   },
   {
    "duration": 10,
    "start_time": "2022-02-16T06:28:33.347Z"
   },
   {
    "duration": 16,
    "start_time": "2022-02-16T06:28:41.619Z"
   },
   {
    "duration": 3,
    "start_time": "2022-02-16T07:22:40.515Z"
   },
   {
    "duration": 4,
    "start_time": "2022-02-16T07:23:05.751Z"
   },
   {
    "duration": 63,
    "start_time": "2022-02-16T07:24:50.148Z"
   },
   {
    "duration": 6,
    "start_time": "2022-02-16T07:29:17.946Z"
   },
   {
    "duration": 11,
    "start_time": "2022-02-16T07:29:28.356Z"
   },
   {
    "duration": 4,
    "start_time": "2022-02-16T12:12:20.119Z"
   },
   {
    "duration": 4,
    "start_time": "2022-02-16T12:12:32.720Z"
   },
   {
    "duration": 6,
    "start_time": "2022-02-16T12:18:52.127Z"
   },
   {
    "duration": 13,
    "start_time": "2022-02-16T12:19:24.885Z"
   },
   {
    "duration": 20,
    "start_time": "2022-02-16T12:19:53.124Z"
   },
   {
    "duration": 7,
    "start_time": "2022-02-16T12:20:32.563Z"
   },
   {
    "duration": 1245,
    "start_time": "2022-02-16T12:20:45.923Z"
   },
   {
    "duration": 186,
    "start_time": "2022-02-16T12:21:04.921Z"
   },
   {
    "duration": 7,
    "start_time": "2022-02-16T12:43:28.627Z"
   },
   {
    "duration": 1227,
    "start_time": "2022-02-21T05:57:03.208Z"
   },
   {
    "duration": 28,
    "start_time": "2022-02-21T05:57:04.436Z"
   },
   {
    "duration": 9,
    "start_time": "2022-02-21T05:57:04.465Z"
   },
   {
    "duration": 14,
    "start_time": "2022-02-21T05:57:04.476Z"
   },
   {
    "duration": 2,
    "start_time": "2022-02-21T05:57:04.492Z"
   },
   {
    "duration": 5,
    "start_time": "2022-02-21T05:57:04.496Z"
   },
   {
    "duration": 10,
    "start_time": "2022-02-21T05:57:04.503Z"
   },
   {
    "duration": 6,
    "start_time": "2022-02-21T05:57:04.531Z"
   },
   {
    "duration": 11,
    "start_time": "2022-02-21T05:57:04.539Z"
   },
   {
    "duration": 20,
    "start_time": "2022-02-21T05:57:04.552Z"
   },
   {
    "duration": 6,
    "start_time": "2022-02-21T05:57:04.573Z"
   },
   {
    "duration": 198,
    "start_time": "2022-02-21T05:57:04.580Z"
   },
   {
    "duration": 173,
    "start_time": "2022-02-21T05:58:28.625Z"
   },
   {
    "duration": 165,
    "start_time": "2022-02-21T05:58:33.810Z"
   },
   {
    "duration": 156,
    "start_time": "2022-02-21T05:58:40.953Z"
   },
   {
    "duration": 232,
    "start_time": "2022-02-21T05:59:01.464Z"
   },
   {
    "duration": 185,
    "start_time": "2022-02-21T05:59:06.568Z"
   },
   {
    "duration": 218,
    "start_time": "2022-02-21T07:02:01.507Z"
   },
   {
    "duration": 213,
    "start_time": "2022-02-21T07:02:13.219Z"
   },
   {
    "duration": 219,
    "start_time": "2022-02-21T07:25:01.218Z"
   },
   {
    "duration": 946,
    "start_time": "2022-02-21T07:25:20.244Z"
   },
   {
    "duration": 230,
    "start_time": "2022-02-21T07:25:34.467Z"
   },
   {
    "duration": 239,
    "start_time": "2022-02-21T07:25:42.771Z"
   },
   {
    "duration": 1960,
    "start_time": "2022-02-21T07:25:56.571Z"
   },
   {
    "duration": 235,
    "start_time": "2022-02-21T07:26:23.986Z"
   },
   {
    "duration": 235,
    "start_time": "2022-02-21T07:26:27.489Z"
   },
   {
    "duration": -219,
    "start_time": "2022-02-21T07:28:26.778Z"
   },
   {
    "duration": 476,
    "start_time": "2022-02-21T07:28:28.254Z"
   },
   {
    "duration": 331,
    "start_time": "2022-02-21T07:29:31.996Z"
   },
   {
    "duration": 16,
    "start_time": "2022-02-21T07:29:48.780Z"
   },
   {
    "duration": 191,
    "start_time": "2022-02-21T07:30:24.027Z"
   },
   {
    "duration": 13,
    "start_time": "2022-02-21T07:31:34.544Z"
   },
   {
    "duration": 230,
    "start_time": "2022-02-21T07:32:07.904Z"
   },
   {
    "duration": 593,
    "start_time": "2022-02-21T08:29:50.276Z"
   },
   {
    "duration": 5,
    "start_time": "2022-02-21T08:30:12.443Z"
   },
   {
    "duration": 827,
    "start_time": "2022-02-21T10:15:50.269Z"
   },
   {
    "duration": 850,
    "start_time": "2022-02-21T10:15:59.591Z"
   },
   {
    "duration": 909,
    "start_time": "2022-02-21T10:16:46.022Z"
   },
   {
    "duration": 897,
    "start_time": "2022-02-21T10:17:02.860Z"
   },
   {
    "duration": 874,
    "start_time": "2022-02-21T10:17:22.340Z"
   },
   {
    "duration": 678,
    "start_time": "2022-02-21T10:18:57.370Z"
   },
   {
    "duration": 1089,
    "start_time": "2022-02-21T10:19:00.705Z"
   },
   {
    "duration": 835,
    "start_time": "2022-02-21T10:19:16.865Z"
   },
   {
    "duration": 789,
    "start_time": "2022-02-21T10:19:23.056Z"
   },
   {
    "duration": 329,
    "start_time": "2022-02-21T11:24:11.712Z"
   },
   {
    "duration": 319,
    "start_time": "2022-02-21T11:24:18.609Z"
   },
   {
    "duration": 382,
    "start_time": "2022-02-21T11:26:06.070Z"
   },
   {
    "duration": 185,
    "start_time": "2022-02-21T11:27:12.533Z"
   },
   {
    "duration": 191,
    "start_time": "2022-02-21T11:27:21.212Z"
   },
   {
    "duration": 212,
    "start_time": "2022-02-21T11:27:27.627Z"
   },
   {
    "duration": 268,
    "start_time": "2022-02-21T11:27:45.467Z"
   },
   {
    "duration": 266,
    "start_time": "2022-02-21T11:28:14.395Z"
   },
   {
    "duration": 273,
    "start_time": "2022-02-21T11:28:24.513Z"
   },
   {
    "duration": 5,
    "start_time": "2022-02-21T11:28:33.657Z"
   },
   {
    "duration": 313,
    "start_time": "2022-02-21T11:28:42.026Z"
   },
   {
    "duration": 7,
    "start_time": "2022-02-21T11:28:50.305Z"
   },
   {
    "duration": 263,
    "start_time": "2022-02-21T11:29:45.983Z"
   },
   {
    "duration": 266,
    "start_time": "2022-02-21T11:29:52.240Z"
   },
   {
    "duration": 238,
    "start_time": "2022-02-21T11:31:26.116Z"
   },
   {
    "duration": 3252,
    "start_time": "2022-02-21T11:31:57.820Z"
   },
   {
    "duration": 11,
    "start_time": "2022-02-21T11:32:08.123Z"
   },
   {
    "duration": 11,
    "start_time": "2022-02-21T11:32:12.428Z"
   },
   {
    "duration": 489,
    "start_time": "2022-02-21T11:32:17.459Z"
   },
   {
    "duration": 514,
    "start_time": "2022-02-21T11:32:25.427Z"
   },
   {
    "duration": 2286,
    "start_time": "2022-02-21T11:32:42.341Z"
   },
   {
    "duration": 243,
    "start_time": "2022-02-21T11:33:11.602Z"
   },
   {
    "duration": 4,
    "start_time": "2022-02-21T11:33:33.009Z"
   },
   {
    "duration": 6,
    "start_time": "2022-02-21T11:33:44.753Z"
   },
   {
    "duration": 224,
    "start_time": "2022-02-21T11:35:47.053Z"
   },
   {
    "duration": 308,
    "start_time": "2022-02-21T11:45:29.580Z"
   },
   {
    "duration": 454,
    "start_time": "2022-02-21T11:45:47.756Z"
   },
   {
    "duration": 28,
    "start_time": "2022-02-21T11:45:57.155Z"
   },
   {
    "duration": 134,
    "start_time": "2022-02-21T11:46:45.056Z"
   },
   {
    "duration": 141,
    "start_time": "2022-02-21T11:48:22.983Z"
   },
   {
    "duration": 13,
    "start_time": "2022-02-21T11:49:33.101Z"
   },
   {
    "duration": 143,
    "start_time": "2022-02-21T11:49:49.548Z"
   },
   {
    "duration": 12,
    "start_time": "2022-02-21T11:52:07.137Z"
   },
   {
    "duration": 19,
    "start_time": "2022-02-21T11:52:20.280Z"
   },
   {
    "duration": 120,
    "start_time": "2022-02-21T11:52:31.120Z"
   },
   {
    "duration": 17,
    "start_time": "2022-02-21T11:52:34.032Z"
   },
   {
    "duration": 155,
    "start_time": "2022-02-21T11:53:00.543Z"
   },
   {
    "duration": 151,
    "start_time": "2022-02-21T11:56:02.515Z"
   },
   {
    "duration": 155,
    "start_time": "2022-02-21T11:57:06.897Z"
   },
   {
    "duration": 153,
    "start_time": "2022-02-21T11:57:19.185Z"
   },
   {
    "duration": 161,
    "start_time": "2022-02-21T11:57:35.696Z"
   },
   {
    "duration": 158,
    "start_time": "2022-02-21T11:58:08.576Z"
   },
   {
    "duration": 6,
    "start_time": "2022-02-21T12:18:09.349Z"
   },
   {
    "duration": 7,
    "start_time": "2022-02-21T12:18:22.484Z"
   },
   {
    "duration": 2,
    "start_time": "2022-02-21T12:28:06.524Z"
   },
   {
    "duration": 5,
    "start_time": "2022-02-21T12:30:38.456Z"
   },
   {
    "duration": 8,
    "start_time": "2022-02-21T12:30:44.967Z"
   },
   {
    "duration": 7,
    "start_time": "2022-02-21T12:31:01.479Z"
   },
   {
    "duration": 4,
    "start_time": "2022-02-21T12:31:11.007Z"
   },
   {
    "duration": 6,
    "start_time": "2022-02-21T12:31:12.255Z"
   },
   {
    "duration": 5,
    "start_time": "2022-02-21T12:31:18.328Z"
   },
   {
    "duration": 8,
    "start_time": "2022-02-21T12:31:18.879Z"
   },
   {
    "duration": 769,
    "start_time": "2022-02-21T12:31:43.925Z"
   },
   {
    "duration": 297,
    "start_time": "2022-02-22T05:42:15.738Z"
   },
   {
    "duration": 1281,
    "start_time": "2022-02-22T05:42:22.108Z"
   },
   {
    "duration": 31,
    "start_time": "2022-02-22T05:42:23.391Z"
   },
   {
    "duration": 10,
    "start_time": "2022-02-22T05:42:23.424Z"
   },
   {
    "duration": 17,
    "start_time": "2022-02-22T05:42:23.437Z"
   },
   {
    "duration": 5,
    "start_time": "2022-02-22T05:42:23.456Z"
   },
   {
    "duration": 8,
    "start_time": "2022-02-22T05:42:23.463Z"
   },
   {
    "duration": 12,
    "start_time": "2022-02-22T05:42:23.473Z"
   },
   {
    "duration": 35,
    "start_time": "2022-02-22T05:42:23.487Z"
   },
   {
    "duration": 20,
    "start_time": "2022-02-22T05:42:23.524Z"
   },
   {
    "duration": 21,
    "start_time": "2022-02-22T05:42:23.546Z"
   },
   {
    "duration": 6,
    "start_time": "2022-02-22T05:42:23.569Z"
   },
   {
    "duration": 288,
    "start_time": "2022-02-22T05:42:23.577Z"
   },
   {
    "duration": 898,
    "start_time": "2022-02-22T05:42:23.867Z"
   },
   {
    "duration": 3,
    "start_time": "2022-02-22T05:42:24.766Z"
   },
   {
    "duration": 421,
    "start_time": "2022-02-22T05:42:24.771Z"
   },
   {
    "duration": -277,
    "start_time": "2022-02-22T05:42:25.471Z"
   },
   {
    "duration": -277,
    "start_time": "2022-02-22T05:42:25.472Z"
   },
   {
    "duration": -279,
    "start_time": "2022-02-22T05:42:25.475Z"
   },
   {
    "duration": 264,
    "start_time": "2022-02-22T05:42:52.502Z"
   },
   {
    "duration": 5,
    "start_time": "2022-02-22T06:23:32.136Z"
   },
   {
    "duration": 5,
    "start_time": "2022-02-22T06:23:37.735Z"
   },
   {
    "duration": 5,
    "start_time": "2022-02-22T06:23:39.935Z"
   },
   {
    "duration": 5,
    "start_time": "2022-02-22T06:23:49.944Z"
   },
   {
    "duration": 6,
    "start_time": "2022-02-22T06:23:59.358Z"
   },
   {
    "duration": 5,
    "start_time": "2022-02-22T06:24:17.398Z"
   },
   {
    "duration": 7,
    "start_time": "2022-02-22T06:24:19.638Z"
   },
   {
    "duration": 960,
    "start_time": "2022-02-22T06:24:21.375Z"
   },
   {
    "duration": 6,
    "start_time": "2022-02-22T06:24:24.462Z"
   },
   {
    "duration": 1373,
    "start_time": "2022-02-22T06:25:51.399Z"
   },
   {
    "duration": 26,
    "start_time": "2022-02-22T06:25:52.774Z"
   },
   {
    "duration": 16,
    "start_time": "2022-02-22T06:25:52.802Z"
   },
   {
    "duration": 18,
    "start_time": "2022-02-22T06:25:52.820Z"
   },
   {
    "duration": 6,
    "start_time": "2022-02-22T06:25:52.840Z"
   },
   {
    "duration": 9,
    "start_time": "2022-02-22T06:25:52.847Z"
   },
   {
    "duration": 14,
    "start_time": "2022-02-22T06:25:52.858Z"
   },
   {
    "duration": 9,
    "start_time": "2022-02-22T06:25:52.874Z"
   },
   {
    "duration": 42,
    "start_time": "2022-02-22T06:25:52.885Z"
   },
   {
    "duration": 23,
    "start_time": "2022-02-22T06:25:52.928Z"
   },
   {
    "duration": 7,
    "start_time": "2022-02-22T06:25:52.953Z"
   },
   {
    "duration": 311,
    "start_time": "2022-02-22T06:25:52.962Z"
   },
   {
    "duration": 948,
    "start_time": "2022-02-22T06:25:53.275Z"
   },
   {
    "duration": 5,
    "start_time": "2022-02-22T06:25:54.225Z"
   },
   {
    "duration": 13,
    "start_time": "2022-02-22T06:25:54.231Z"
   },
   {
    "duration": 9,
    "start_time": "2022-02-22T06:25:54.246Z"
   },
   {
    "duration": 9,
    "start_time": "2022-02-22T06:25:54.258Z"
   },
   {
    "duration": 798,
    "start_time": "2022-02-22T06:25:54.269Z"
   },
   {
    "duration": 518,
    "start_time": "2022-02-22T06:25:55.070Z"
   },
   {
    "duration": 265,
    "start_time": "2022-02-22T07:12:48.813Z"
   },
   {
    "duration": 299,
    "start_time": "2022-02-22T07:12:55.901Z"
   },
   {
    "duration": 19439,
    "start_time": "2022-02-22T07:12:59.492Z"
   },
   {
    "duration": 8360,
    "start_time": "2022-02-22T07:15:04.401Z"
   },
   {
    "duration": 4885,
    "start_time": "2022-02-22T07:15:20.305Z"
   },
   {
    "duration": 18,
    "start_time": "2022-02-22T07:15:37.833Z"
   },
   {
    "duration": 8032,
    "start_time": "2022-02-22T07:15:41.891Z"
   },
   {
    "duration": 6,
    "start_time": "2022-02-22T07:15:53.407Z"
   },
   {
    "duration": 15,
    "start_time": "2022-02-22T07:15:57.895Z"
   },
   {
    "duration": 5381,
    "start_time": "2022-02-22T07:21:22.159Z"
   },
   {
    "duration": 5196,
    "start_time": "2022-02-22T07:21:35.692Z"
   },
   {
    "duration": 5856,
    "start_time": "2022-02-22T07:21:49.389Z"
   },
   {
    "duration": 5963,
    "start_time": "2022-02-22T07:22:26.589Z"
   },
   {
    "duration": 3,
    "start_time": "2022-02-22T07:25:11.543Z"
   },
   {
    "duration": 33,
    "start_time": "2022-02-22T07:38:00.018Z"
   },
   {
    "duration": 30,
    "start_time": "2022-02-22T07:39:23.704Z"
   },
   {
    "duration": 30,
    "start_time": "2022-02-22T07:39:39.472Z"
   },
   {
    "duration": 5,
    "start_time": "2022-02-22T07:42:48.186Z"
   },
   {
    "duration": 1424,
    "start_time": "2022-02-22T09:08:32.957Z"
   },
   {
    "duration": 23,
    "start_time": "2022-02-22T09:08:34.383Z"
   },
   {
    "duration": 11,
    "start_time": "2022-02-22T09:08:34.408Z"
   },
   {
    "duration": 18,
    "start_time": "2022-02-22T09:08:34.421Z"
   },
   {
    "duration": 8,
    "start_time": "2022-02-22T09:08:34.441Z"
   },
   {
    "duration": 11,
    "start_time": "2022-02-22T09:08:34.451Z"
   },
   {
    "duration": 23,
    "start_time": "2022-02-22T09:08:34.464Z"
   },
   {
    "duration": 31,
    "start_time": "2022-02-22T09:08:34.491Z"
   },
   {
    "duration": 13,
    "start_time": "2022-02-22T09:08:34.524Z"
   },
   {
    "duration": 27,
    "start_time": "2022-02-22T09:08:34.539Z"
   },
   {
    "duration": 6,
    "start_time": "2022-02-22T09:08:34.568Z"
   },
   {
    "duration": 299,
    "start_time": "2022-02-22T09:08:34.576Z"
   },
   {
    "duration": 997,
    "start_time": "2022-02-22T09:08:34.878Z"
   },
   {
    "duration": 6,
    "start_time": "2022-02-22T09:08:35.877Z"
   },
   {
    "duration": 8,
    "start_time": "2022-02-22T09:08:35.885Z"
   },
   {
    "duration": 9,
    "start_time": "2022-02-22T09:08:35.895Z"
   },
   {
    "duration": 18,
    "start_time": "2022-02-22T09:08:35.905Z"
   },
   {
    "duration": 694,
    "start_time": "2022-02-22T09:08:35.924Z"
   },
   {
    "duration": 2,
    "start_time": "2022-02-22T09:08:36.620Z"
   },
   {
    "duration": 31,
    "start_time": "2022-02-22T09:08:36.624Z"
   },
   {
    "duration": 5,
    "start_time": "2022-02-22T09:08:36.657Z"
   },
   {
    "duration": 11,
    "start_time": "2022-02-22T09:37:57.960Z"
   },
   {
    "duration": 9,
    "start_time": "2022-02-22T09:37:58.529Z"
   },
   {
    "duration": 19,
    "start_time": "2022-02-22T10:58:43.351Z"
   },
   {
    "duration": 18,
    "start_time": "2022-02-22T10:58:50.033Z"
   },
   {
    "duration": 5,
    "start_time": "2022-02-22T10:59:11.833Z"
   },
   {
    "duration": 12,
    "start_time": "2022-02-22T10:59:12.488Z"
   },
   {
    "duration": 87,
    "start_time": "2022-02-22T10:59:13.111Z"
   },
   {
    "duration": 19,
    "start_time": "2022-02-22T10:59:35.615Z"
   },
   {
    "duration": 18,
    "start_time": "2022-02-22T10:59:37.143Z"
   },
   {
    "duration": 19,
    "start_time": "2022-02-22T11:04:14.319Z"
   },
   {
    "duration": 609,
    "start_time": "2022-02-22T11:28:54.534Z"
   },
   {
    "duration": 496,
    "start_time": "2022-02-22T11:29:57.988Z"
   },
   {
    "duration": 1496,
    "start_time": "2022-02-23T07:40:15.160Z"
   },
   {
    "duration": 39,
    "start_time": "2022-02-23T07:40:16.658Z"
   },
   {
    "duration": 32,
    "start_time": "2022-02-23T07:40:16.700Z"
   },
   {
    "duration": 40,
    "start_time": "2022-02-23T07:40:16.734Z"
   },
   {
    "duration": 16,
    "start_time": "2022-02-23T07:40:16.776Z"
   },
   {
    "duration": 29,
    "start_time": "2022-02-23T07:40:16.794Z"
   },
   {
    "duration": 30,
    "start_time": "2022-02-23T07:40:16.825Z"
   },
   {
    "duration": 13,
    "start_time": "2022-02-23T07:40:16.857Z"
   },
   {
    "duration": 31,
    "start_time": "2022-02-23T07:40:16.873Z"
   },
   {
    "duration": 24,
    "start_time": "2022-02-23T07:40:16.906Z"
   },
   {
    "duration": 7,
    "start_time": "2022-02-23T07:40:16.932Z"
   },
   {
    "duration": 2031,
    "start_time": "2022-02-23T07:40:16.940Z"
   },
   {
    "duration": -40,
    "start_time": "2022-02-23T07:40:19.013Z"
   },
   {
    "duration": -39,
    "start_time": "2022-02-23T07:40:19.014Z"
   },
   {
    "duration": -39,
    "start_time": "2022-02-23T07:40:19.015Z"
   },
   {
    "duration": -38,
    "start_time": "2022-02-23T07:40:19.015Z"
   },
   {
    "duration": -38,
    "start_time": "2022-02-23T07:40:19.016Z"
   },
   {
    "duration": -45,
    "start_time": "2022-02-23T07:40:19.024Z"
   },
   {
    "duration": -46,
    "start_time": "2022-02-23T07:40:19.026Z"
   },
   {
    "duration": -45,
    "start_time": "2022-02-23T07:40:19.027Z"
   },
   {
    "duration": -45,
    "start_time": "2022-02-23T07:40:19.028Z"
   },
   {
    "duration": -45,
    "start_time": "2022-02-23T07:40:19.029Z"
   },
   {
    "duration": -43,
    "start_time": "2022-02-23T07:40:19.029Z"
   },
   {
    "duration": -43,
    "start_time": "2022-02-23T07:40:19.030Z"
   },
   {
    "duration": 1272,
    "start_time": "2022-02-23T07:40:43.270Z"
   },
   {
    "duration": 32,
    "start_time": "2022-02-23T07:40:44.544Z"
   },
   {
    "duration": 12,
    "start_time": "2022-02-23T07:40:44.578Z"
   },
   {
    "duration": 18,
    "start_time": "2022-02-23T07:40:44.592Z"
   },
   {
    "duration": 4,
    "start_time": "2022-02-23T07:40:44.613Z"
   },
   {
    "duration": 7,
    "start_time": "2022-02-23T07:40:44.619Z"
   },
   {
    "duration": 45,
    "start_time": "2022-02-23T07:40:44.628Z"
   },
   {
    "duration": 12,
    "start_time": "2022-02-23T07:40:44.674Z"
   },
   {
    "duration": 12,
    "start_time": "2022-02-23T07:40:44.689Z"
   },
   {
    "duration": 24,
    "start_time": "2022-02-23T07:40:44.703Z"
   },
   {
    "duration": 7,
    "start_time": "2022-02-23T07:40:44.729Z"
   },
   {
    "duration": 322,
    "start_time": "2022-02-23T07:40:44.770Z"
   },
   {
    "duration": 982,
    "start_time": "2022-02-23T07:40:45.094Z"
   },
   {
    "duration": 5,
    "start_time": "2022-02-23T07:40:46.078Z"
   },
   {
    "duration": 7,
    "start_time": "2022-02-23T07:40:46.085Z"
   },
   {
    "duration": 7,
    "start_time": "2022-02-23T07:40:46.094Z"
   },
   {
    "duration": 9,
    "start_time": "2022-02-23T07:40:46.102Z"
   },
   {
    "duration": 889,
    "start_time": "2022-02-23T07:40:46.113Z"
   },
   {
    "duration": 4,
    "start_time": "2022-02-23T07:40:47.004Z"
   },
   {
    "duration": 32,
    "start_time": "2022-02-23T07:40:47.010Z"
   },
   {
    "duration": 6,
    "start_time": "2022-02-23T07:40:47.045Z"
   },
   {
    "duration": 30,
    "start_time": "2022-02-23T07:40:47.052Z"
   },
   {
    "duration": 93,
    "start_time": "2022-02-23T07:40:47.083Z"
   },
   {
    "duration": 21,
    "start_time": "2022-02-23T07:40:47.178Z"
   },
   {
    "duration": 364,
    "start_time": "2022-02-23T09:14:42.867Z"
   },
   {
    "duration": 4,
    "start_time": "2022-02-23T09:14:44.788Z"
   },
   {
    "duration": 180,
    "start_time": "2022-02-23T09:14:46.412Z"
   },
   {
    "duration": 8,
    "start_time": "2022-02-23T09:14:54.391Z"
   },
   {
    "duration": 5,
    "start_time": "2022-02-23T09:15:57.148Z"
   },
   {
    "duration": 6,
    "start_time": "2022-02-23T09:19:08.918Z"
   },
   {
    "duration": 3,
    "start_time": "2022-02-23T09:20:19.620Z"
   },
   {
    "duration": 3,
    "start_time": "2022-02-23T09:21:44.418Z"
   },
   {
    "duration": 1873,
    "start_time": "2022-02-23T09:21:51.356Z"
   },
   {
    "duration": 239,
    "start_time": "2022-02-23T09:22:18.992Z"
   },
   {
    "duration": 4,
    "start_time": "2022-02-23T09:23:14.773Z"
   },
   {
    "duration": 3,
    "start_time": "2022-02-23T09:24:49.875Z"
   },
   {
    "duration": 51109,
    "start_time": "2022-02-23T09:24:50.668Z"
   },
   {
    "duration": 4,
    "start_time": "2022-02-23T09:25:44.121Z"
   },
   {
    "duration": 3,
    "start_time": "2022-02-23T09:26:13.807Z"
   },
   {
    "duration": 619,
    "start_time": "2022-02-23T09:26:18.787Z"
   },
   {
    "duration": 4,
    "start_time": "2022-02-23T09:26:44.306Z"
   },
   {
    "duration": 243,
    "start_time": "2022-02-23T09:27:18.076Z"
   },
   {
    "duration": 4,
    "start_time": "2022-02-23T09:27:26.294Z"
   },
   {
    "duration": 4,
    "start_time": "2022-02-23T09:27:50.887Z"
   },
   {
    "duration": 4,
    "start_time": "2022-02-23T09:28:26.009Z"
   },
   {
    "duration": 4,
    "start_time": "2022-02-23T09:29:19.379Z"
   },
   {
    "duration": 4,
    "start_time": "2022-02-23T09:34:06.462Z"
   },
   {
    "duration": 52257,
    "start_time": "2022-02-23T09:34:10.335Z"
   },
   {
    "duration": 3,
    "start_time": "2022-02-23T09:35:33.903Z"
   },
   {
    "duration": 18419,
    "start_time": "2022-02-23T09:35:34.350Z"
   },
   {
    "duration": 18076,
    "start_time": "2022-02-23T09:36:05.432Z"
   },
   {
    "duration": 88,
    "start_time": "2022-02-23T09:38:46.111Z"
   },
   {
    "duration": 268,
    "start_time": "2022-02-23T09:38:49.451Z"
   },
   {
    "duration": 24,
    "start_time": "2022-02-23T09:39:10.512Z"
   },
   {
    "duration": 27,
    "start_time": "2022-02-23T09:40:29.940Z"
   },
   {
    "duration": 26,
    "start_time": "2022-02-23T09:40:42.017Z"
   },
   {
    "duration": 26,
    "start_time": "2022-02-23T09:41:09.445Z"
   },
   {
    "duration": 26,
    "start_time": "2022-02-23T09:41:52.961Z"
   },
   {
    "duration": 27,
    "start_time": "2022-02-23T09:45:24.896Z"
   },
   {
    "duration": 264,
    "start_time": "2022-02-23T09:45:44.309Z"
   },
   {
    "duration": 25,
    "start_time": "2022-02-23T09:45:49.434Z"
   },
   {
    "duration": 32,
    "start_time": "2022-02-23T09:45:53.395Z"
   },
   {
    "duration": 308,
    "start_time": "2022-02-23T09:54:06.586Z"
   },
   {
    "duration": 10,
    "start_time": "2022-02-23T09:54:11.372Z"
   },
   {
    "duration": 8,
    "start_time": "2022-02-23T09:54:16.692Z"
   },
   {
    "duration": 6,
    "start_time": "2022-02-23T09:54:37.166Z"
   },
   {
    "duration": 6,
    "start_time": "2022-02-23T09:55:01.425Z"
   },
   {
    "duration": 4,
    "start_time": "2022-02-23T09:58:56.751Z"
   },
   {
    "duration": 811432,
    "start_time": "2022-02-23T09:59:00.073Z"
   },
   {
    "duration": 84,
    "start_time": "2022-02-23T10:12:31.507Z"
   },
   {
    "duration": 278,
    "start_time": "2022-02-23T10:14:05.373Z"
   },
   {
    "duration": 6,
    "start_time": "2022-02-23T10:19:58.963Z"
   },
   {
    "duration": 2956,
    "start_time": "2022-02-23T10:20:04.966Z"
   },
   {
    "duration": 211,
    "start_time": "2022-02-23T10:20:17.774Z"
   },
   {
    "duration": 299,
    "start_time": "2022-02-23T10:21:23.027Z"
   },
   {
    "duration": 292,
    "start_time": "2022-02-23T10:22:46.681Z"
   },
   {
    "duration": 198,
    "start_time": "2022-02-23T10:29:32.871Z"
   },
   {
    "duration": 438,
    "start_time": "2022-02-23T10:29:52.484Z"
   },
   {
    "duration": 171,
    "start_time": "2022-02-23T10:30:14.699Z"
   },
   {
    "duration": 442,
    "start_time": "2022-02-23T10:30:18.088Z"
   },
   {
    "duration": 89,
    "start_time": "2022-02-23T10:33:13.341Z"
   },
   {
    "duration": 4,
    "start_time": "2022-02-23T10:33:21.013Z"
   },
   {
    "duration": 46286,
    "start_time": "2022-02-23T10:33:21.987Z"
   },
   {
    "duration": 3,
    "start_time": "2022-02-23T10:34:20.271Z"
   },
   {
    "duration": 4,
    "start_time": "2022-02-23T10:34:21.505Z"
   },
   {
    "duration": 3,
    "start_time": "2022-02-23T10:34:22.133Z"
   },
   {
    "duration": 77252,
    "start_time": "2022-02-23T10:34:22.851Z"
   },
   {
    "duration": 4,
    "start_time": "2022-02-23T10:36:01.241Z"
   },
   {
    "duration": 81,
    "start_time": "2022-02-23T10:36:23.886Z"
   },
   {
    "duration": 3,
    "start_time": "2022-02-23T10:36:27.560Z"
   },
   {
    "duration": 142309,
    "start_time": "2022-02-23T10:36:29.737Z"
   },
   {
    "duration": 4,
    "start_time": "2022-02-23T10:38:52.048Z"
   },
   {
    "duration": 1319,
    "start_time": "2022-02-23T10:39:10.613Z"
   },
   {
    "duration": 42,
    "start_time": "2022-02-23T10:39:11.934Z"
   },
   {
    "duration": 12,
    "start_time": "2022-02-23T10:39:11.979Z"
   },
   {
    "duration": 20,
    "start_time": "2022-02-23T10:39:11.993Z"
   },
   {
    "duration": 3,
    "start_time": "2022-02-23T10:39:12.015Z"
   },
   {
    "duration": 10,
    "start_time": "2022-02-23T10:39:12.020Z"
   },
   {
    "duration": 38,
    "start_time": "2022-02-23T10:39:12.033Z"
   },
   {
    "duration": 10,
    "start_time": "2022-02-23T10:39:12.073Z"
   },
   {
    "duration": 14,
    "start_time": "2022-02-23T10:39:12.087Z"
   },
   {
    "duration": 25,
    "start_time": "2022-02-23T10:39:12.104Z"
   },
   {
    "duration": 41,
    "start_time": "2022-02-23T10:39:12.131Z"
   },
   {
    "duration": 329,
    "start_time": "2022-02-23T10:39:12.174Z"
   },
   {
    "duration": 1018,
    "start_time": "2022-02-23T10:39:12.504Z"
   },
   {
    "duration": 5,
    "start_time": "2022-02-23T10:39:13.524Z"
   },
   {
    "duration": 6,
    "start_time": "2022-02-23T10:39:13.531Z"
   },
   {
    "duration": 9,
    "start_time": "2022-02-23T10:39:13.539Z"
   },
   {
    "duration": 20,
    "start_time": "2022-02-23T10:39:13.550Z"
   },
   {
    "duration": 828,
    "start_time": "2022-02-23T10:39:13.572Z"
   },
   {
    "duration": 3,
    "start_time": "2022-02-23T10:39:14.402Z"
   },
   {
    "duration": 36,
    "start_time": "2022-02-23T10:39:14.406Z"
   },
   {
    "duration": 6,
    "start_time": "2022-02-23T10:39:14.444Z"
   },
   {
    "duration": 28,
    "start_time": "2022-02-23T10:39:14.452Z"
   },
   {
    "duration": 95,
    "start_time": "2022-02-23T10:39:14.482Z"
   },
   {
    "duration": 21,
    "start_time": "2022-02-23T10:39:14.579Z"
   },
   {
    "duration": 5,
    "start_time": "2022-02-23T10:39:14.602Z"
   },
   {
    "duration": 8,
    "start_time": "2022-02-23T10:39:14.609Z"
   },
   {
    "duration": 2124937,
    "start_time": "2022-02-23T10:40:32.677Z"
   },
   {
    "duration": 311,
    "start_time": "2022-02-23T11:15:57.393Z"
   },
   {
    "duration": 311,
    "start_time": "2022-02-23T11:15:57.394Z"
   },
   {
    "duration": 312,
    "start_time": "2022-02-23T11:15:57.395Z"
   },
   {
    "duration": 35,
    "start_time": "2022-02-23T11:17:21.176Z"
   },
   {
    "duration": 285,
    "start_time": "2022-02-23T11:17:22.713Z"
   },
   {
    "duration": 1761,
    "start_time": "2022-02-23T11:18:47.793Z"
   },
   {
    "duration": 10,
    "start_time": "2022-02-23T11:19:00.629Z"
   },
   {
    "duration": 196,
    "start_time": "2022-02-23T11:19:31.901Z"
   },
   {
    "duration": 8,
    "start_time": "2022-02-23T11:19:38.314Z"
   },
   {
    "duration": 15,
    "start_time": "2022-02-23T11:21:48.547Z"
   },
   {
    "duration": 9,
    "start_time": "2022-02-23T11:21:55.593Z"
   },
   {
    "duration": 410,
    "start_time": "2022-02-23T11:23:44.063Z"
   },
   {
    "duration": 262,
    "start_time": "2022-02-23T11:24:20.887Z"
   },
   {
    "duration": 228,
    "start_time": "2022-02-23T11:24:24.228Z"
   },
   {
    "duration": 10,
    "start_time": "2022-02-23T11:24:26.153Z"
   },
   {
    "duration": 4,
    "start_time": "2022-02-23T11:26:09.661Z"
   },
   {
    "duration": 2867594,
    "start_time": "2022-02-23T11:26:11.533Z"
   },
   {
    "duration": 320,
    "start_time": "2022-02-23T12:13:59.129Z"
   },
   {
    "duration": 311,
    "start_time": "2022-02-23T12:13:59.452Z"
   },
   {
    "duration": 112,
    "start_time": "2022-02-23T12:13:59.769Z"
   },
   {
    "duration": 558,
    "start_time": "2022-02-23T12:13:59.883Z"
   },
   {
    "duration": 133,
    "start_time": "2022-02-23T12:14:00.443Z"
   },
   {
    "duration": 518,
    "start_time": "2022-02-23T12:14:00.579Z"
   },
   {
    "duration": 7320,
    "start_time": "2022-02-23T12:29:14.710Z"
   },
   {
    "duration": 6256,
    "start_time": "2022-02-23T12:30:15.283Z"
   },
   {
    "duration": 267,
    "start_time": "2022-02-23T12:30:55.433Z"
   },
   {
    "duration": 4,
    "start_time": "2022-02-23T12:31:30.752Z"
   },
   {
    "duration": 5,
    "start_time": "2022-02-23T12:31:34.108Z"
   },
   {
    "duration": 304,
    "start_time": "2022-02-23T12:33:17.141Z"
   },
   {
    "duration": 211,
    "start_time": "2022-02-23T12:34:27.555Z"
   },
   {
    "duration": 10,
    "start_time": "2022-02-23T12:34:30.157Z"
   },
   {
    "duration": 278,
    "start_time": "2022-02-23T12:34:36.081Z"
   },
   {
    "duration": 479,
    "start_time": "2022-02-23T12:36:36.367Z"
   },
   {
    "duration": 40,
    "start_time": "2022-02-23T12:37:03.663Z"
   },
   {
    "duration": 351,
    "start_time": "2022-02-23T12:37:09.887Z"
   },
   {
    "duration": 6222,
    "start_time": "2022-02-23T12:37:45.553Z"
   },
   {
    "duration": 253,
    "start_time": "2022-02-23T12:37:52.746Z"
   },
   {
    "duration": 321,
    "start_time": "2022-02-23T12:37:55.113Z"
   },
   {
    "duration": 3,
    "start_time": "2022-02-23T12:43:22.733Z"
   },
   {
    "duration": 4,
    "start_time": "2022-02-23T12:43:28.476Z"
   },
   {
    "duration": 95,
    "start_time": "2022-02-23T12:43:51.882Z"
   },
   {
    "duration": 5,
    "start_time": "2022-02-23T12:43:52.979Z"
   },
   {
    "duration": 473,
    "start_time": "2022-02-23T12:43:54.795Z"
   },
   {
    "duration": 162,
    "start_time": "2022-02-23T12:44:12.208Z"
   },
   {
    "duration": 4,
    "start_time": "2022-02-23T12:44:13.240Z"
   },
   {
    "duration": 409,
    "start_time": "2022-02-23T12:44:14.341Z"
   },
   {
    "duration": 8,
    "start_time": "2022-02-23T12:45:55.222Z"
   },
   {
    "duration": 9,
    "start_time": "2022-02-23T12:46:13.000Z"
   },
   {
    "duration": 1229,
    "start_time": "2022-02-23T12:47:26.896Z"
   },
   {
    "duration": 31,
    "start_time": "2022-02-23T12:47:28.127Z"
   },
   {
    "duration": 10,
    "start_time": "2022-02-23T12:47:28.160Z"
   },
   {
    "duration": 20,
    "start_time": "2022-02-23T12:47:28.172Z"
   },
   {
    "duration": 4,
    "start_time": "2022-02-23T12:47:28.194Z"
   },
   {
    "duration": 10,
    "start_time": "2022-02-23T12:47:28.199Z"
   },
   {
    "duration": 18,
    "start_time": "2022-02-23T12:47:28.211Z"
   },
   {
    "duration": 9,
    "start_time": "2022-02-23T12:47:28.231Z"
   },
   {
    "duration": 35,
    "start_time": "2022-02-23T12:47:28.243Z"
   },
   {
    "duration": 23,
    "start_time": "2022-02-23T12:47:28.280Z"
   },
   {
    "duration": 7,
    "start_time": "2022-02-23T12:47:28.305Z"
   },
   {
    "duration": 325,
    "start_time": "2022-02-23T12:47:28.313Z"
   },
   {
    "duration": 1013,
    "start_time": "2022-02-23T12:47:28.639Z"
   },
   {
    "duration": 5,
    "start_time": "2022-02-23T12:47:29.654Z"
   },
   {
    "duration": 20,
    "start_time": "2022-02-23T12:47:29.661Z"
   },
   {
    "duration": 11,
    "start_time": "2022-02-23T12:47:29.683Z"
   },
   {
    "duration": 8,
    "start_time": "2022-02-23T12:47:29.696Z"
   },
   {
    "duration": 798,
    "start_time": "2022-02-23T12:47:29.706Z"
   },
   {
    "duration": 3,
    "start_time": "2022-02-23T12:47:30.506Z"
   },
   {
    "duration": 39,
    "start_time": "2022-02-23T12:47:30.511Z"
   },
   {
    "duration": 17,
    "start_time": "2022-02-23T12:47:30.552Z"
   },
   {
    "duration": 13,
    "start_time": "2022-02-23T12:47:30.571Z"
   },
   {
    "duration": 99,
    "start_time": "2022-02-23T12:47:30.586Z"
   },
   {
    "duration": 27,
    "start_time": "2022-02-23T12:47:30.687Z"
   },
   {
    "duration": 4,
    "start_time": "2022-02-23T12:47:30.716Z"
   },
   {
    "duration": 485,
    "start_time": "2022-02-23T12:47:30.722Z"
   },
   {
    "duration": 38,
    "start_time": "2022-02-23T12:47:31.211Z"
   },
   {
    "duration": 313,
    "start_time": "2022-02-23T12:47:31.251Z"
   },
   {
    "duration": 6302,
    "start_time": "2022-02-23T12:47:31.569Z"
   },
   {
    "duration": 276,
    "start_time": "2022-02-23T12:47:37.873Z"
   },
   {
    "duration": 294,
    "start_time": "2022-02-23T12:47:38.151Z"
   },
   {
    "duration": 222,
    "start_time": "2022-02-23T12:47:38.447Z"
   },
   {
    "duration": 4,
    "start_time": "2022-02-23T12:47:38.672Z"
   },
   {
    "duration": 455,
    "start_time": "2022-02-23T12:47:38.678Z"
   },
   {
    "duration": 135,
    "start_time": "2022-02-23T12:47:39.136Z"
   },
   {
    "duration": 95,
    "start_time": "2022-02-23T12:47:39.274Z"
   },
   {
    "duration": 470,
    "start_time": "2022-02-23T12:47:39.371Z"
   },
   {
    "duration": 9,
    "start_time": "2022-02-23T12:47:39.843Z"
   },
   {
    "duration": 1287,
    "start_time": "2022-02-23T12:49:40.740Z"
   },
   {
    "duration": 30,
    "start_time": "2022-02-23T12:49:42.029Z"
   },
   {
    "duration": 11,
    "start_time": "2022-02-23T12:49:42.061Z"
   },
   {
    "duration": 27,
    "start_time": "2022-02-23T12:49:42.074Z"
   },
   {
    "duration": 3,
    "start_time": "2022-02-23T12:49:42.104Z"
   },
   {
    "duration": 16,
    "start_time": "2022-02-23T12:49:42.108Z"
   },
   {
    "duration": 25,
    "start_time": "2022-02-23T12:49:42.125Z"
   },
   {
    "duration": 18,
    "start_time": "2022-02-23T12:49:42.152Z"
   },
   {
    "duration": 26,
    "start_time": "2022-02-23T12:49:42.174Z"
   },
   {
    "duration": 25,
    "start_time": "2022-02-23T12:49:42.202Z"
   },
   {
    "duration": 6,
    "start_time": "2022-02-23T12:49:42.229Z"
   },
   {
    "duration": 316,
    "start_time": "2022-02-23T12:49:42.237Z"
   },
   {
    "duration": 1014,
    "start_time": "2022-02-23T12:49:42.555Z"
   },
   {
    "duration": 5,
    "start_time": "2022-02-23T12:49:43.570Z"
   },
   {
    "duration": 17,
    "start_time": "2022-02-23T12:49:43.577Z"
   },
   {
    "duration": 8,
    "start_time": "2022-02-23T12:49:43.595Z"
   },
   {
    "duration": 9,
    "start_time": "2022-02-23T12:49:43.605Z"
   },
   {
    "duration": 847,
    "start_time": "2022-02-23T12:49:43.615Z"
   },
   {
    "duration": 3,
    "start_time": "2022-02-23T12:49:44.468Z"
   },
   {
    "duration": 36,
    "start_time": "2022-02-23T12:49:44.473Z"
   },
   {
    "duration": 6,
    "start_time": "2022-02-23T12:49:44.511Z"
   },
   {
    "duration": 12,
    "start_time": "2022-02-23T12:49:44.518Z"
   },
   {
    "duration": 96,
    "start_time": "2022-02-23T12:49:44.532Z"
   },
   {
    "duration": 20,
    "start_time": "2022-02-23T12:49:44.630Z"
   },
   {
    "duration": 5,
    "start_time": "2022-02-23T12:49:44.669Z"
   },
   {
    "duration": 476,
    "start_time": "2022-02-23T12:49:44.676Z"
   },
   {
    "duration": 48,
    "start_time": "2022-02-23T12:49:45.157Z"
   },
   {
    "duration": 298,
    "start_time": "2022-02-23T12:49:45.207Z"
   },
   {
    "duration": 6137,
    "start_time": "2022-02-23T12:49:45.507Z"
   },
   {
    "duration": 269,
    "start_time": "2022-02-23T12:49:51.646Z"
   },
   {
    "duration": 308,
    "start_time": "2022-02-23T12:49:51.916Z"
   },
   {
    "duration": 149,
    "start_time": "2022-02-23T12:49:52.226Z"
   },
   {
    "duration": 4,
    "start_time": "2022-02-23T12:49:52.377Z"
   },
   {
    "duration": 466,
    "start_time": "2022-02-23T12:49:52.383Z"
   },
   {
    "duration": 8,
    "start_time": "2022-02-23T12:49:52.850Z"
   },
   {
    "duration": 210,
    "start_time": "2022-02-23T12:49:52.860Z"
   },
   {
    "duration": 460,
    "start_time": "2022-02-23T12:49:53.072Z"
   },
   {
    "duration": 3,
    "start_time": "2022-02-23T12:51:08.485Z"
   },
   {
    "duration": 4,
    "start_time": "2022-02-23T12:55:31.991Z"
   },
   {
    "duration": 718,
    "start_time": "2022-02-23T12:56:03.663Z"
   },
   {
    "duration": 7,
    "start_time": "2022-02-23T12:56:09.818Z"
   },
   {
    "duration": 16,
    "start_time": "2022-02-23T12:56:14.702Z"
   },
   {
    "duration": 239,
    "start_time": "2022-02-23T12:56:30.066Z"
   },
   {
    "duration": 270,
    "start_time": "2022-02-23T12:56:34.127Z"
   },
   {
    "duration": 4,
    "start_time": "2022-02-23T12:56:36.589Z"
   },
   {
    "duration": 5,
    "start_time": "2022-02-23T12:56:51.947Z"
   },
   {
    "duration": 4,
    "start_time": "2022-02-23T12:56:59.785Z"
   },
   {
    "duration": 13,
    "start_time": "2022-02-23T12:57:43.919Z"
   },
   {
    "duration": 4,
    "start_time": "2022-02-23T12:57:44.767Z"
   },
   {
    "duration": 276,
    "start_time": "2022-02-23T12:58:18.121Z"
   },
   {
    "duration": 47,
    "start_time": "2022-02-23T12:58:57.934Z"
   },
   {
    "duration": 297,
    "start_time": "2022-02-23T12:59:23.009Z"
   },
   {
    "duration": 384,
    "start_time": "2022-02-23T13:00:04.012Z"
   },
   {
    "duration": 308,
    "start_time": "2022-02-23T13:00:31.475Z"
   },
   {
    "duration": 8871,
    "start_time": "2022-02-23T13:00:43.668Z"
   },
   {
    "duration": 191,
    "start_time": "2022-02-23T13:00:56.312Z"
   },
   {
    "duration": 287,
    "start_time": "2022-02-23T13:01:04.257Z"
   },
   {
    "duration": 1298,
    "start_time": "2022-02-23T13:04:20.492Z"
   },
   {
    "duration": 31,
    "start_time": "2022-02-23T13:04:21.792Z"
   },
   {
    "duration": 11,
    "start_time": "2022-02-23T13:04:21.828Z"
   },
   {
    "duration": 29,
    "start_time": "2022-02-23T13:04:21.841Z"
   },
   {
    "duration": 6,
    "start_time": "2022-02-23T13:04:21.872Z"
   },
   {
    "duration": 7,
    "start_time": "2022-02-23T13:04:21.880Z"
   },
   {
    "duration": 16,
    "start_time": "2022-02-23T13:04:21.889Z"
   },
   {
    "duration": 9,
    "start_time": "2022-02-23T13:04:21.908Z"
   },
   {
    "duration": 14,
    "start_time": "2022-02-23T13:04:21.920Z"
   },
   {
    "duration": 54,
    "start_time": "2022-02-23T13:04:21.936Z"
   },
   {
    "duration": 7,
    "start_time": "2022-02-23T13:04:21.992Z"
   },
   {
    "duration": 331,
    "start_time": "2022-02-23T13:04:22.001Z"
   },
   {
    "duration": 1036,
    "start_time": "2022-02-23T13:04:22.334Z"
   },
   {
    "duration": 5,
    "start_time": "2022-02-23T13:04:23.371Z"
   },
   {
    "duration": 9,
    "start_time": "2022-02-23T13:04:23.378Z"
   },
   {
    "duration": 7,
    "start_time": "2022-02-23T13:04:23.388Z"
   },
   {
    "duration": 8,
    "start_time": "2022-02-23T13:04:23.397Z"
   },
   {
    "duration": 941,
    "start_time": "2022-02-23T13:04:23.407Z"
   },
   {
    "duration": 2,
    "start_time": "2022-02-23T13:04:24.350Z"
   },
   {
    "duration": 42,
    "start_time": "2022-02-23T13:04:24.355Z"
   },
   {
    "duration": 7,
    "start_time": "2022-02-23T13:04:24.399Z"
   },
   {
    "duration": 15,
    "start_time": "2022-02-23T13:04:24.408Z"
   },
   {
    "duration": 12,
    "start_time": "2022-02-23T13:04:24.426Z"
   },
   {
    "duration": 45,
    "start_time": "2022-02-23T13:04:24.440Z"
   },
   {
    "duration": 5,
    "start_time": "2022-02-23T13:04:24.487Z"
   },
   {
    "duration": 483,
    "start_time": "2022-02-23T13:04:24.495Z"
   },
   {
    "duration": 39,
    "start_time": "2022-02-23T13:04:24.981Z"
   },
   {
    "duration": 342,
    "start_time": "2022-02-23T13:04:25.023Z"
   },
   {
    "duration": 6243,
    "start_time": "2022-02-23T13:04:25.367Z"
   },
   {
    "duration": 277,
    "start_time": "2022-02-23T13:04:31.612Z"
   },
   {
    "duration": 290,
    "start_time": "2022-02-23T13:04:31.891Z"
   },
   {
    "duration": 190,
    "start_time": "2022-02-23T13:04:32.183Z"
   },
   {
    "duration": 5,
    "start_time": "2022-02-23T13:04:32.375Z"
   },
   {
    "duration": 456,
    "start_time": "2022-02-23T13:04:32.382Z"
   },
   {
    "duration": 10,
    "start_time": "2022-02-23T13:04:32.840Z"
   },
   {
    "duration": 216,
    "start_time": "2022-02-23T13:04:32.852Z"
   },
   {
    "duration": 455,
    "start_time": "2022-02-23T13:04:33.071Z"
   },
   {
    "duration": 4,
    "start_time": "2022-02-23T13:04:33.528Z"
   },
   {
    "duration": 40,
    "start_time": "2022-02-23T13:04:33.534Z"
   },
   {
    "duration": 68,
    "start_time": "2022-02-23T13:04:33.576Z"
   },
   {
    "duration": 284,
    "start_time": "2022-02-23T13:04:33.646Z"
   },
   {
    "duration": 376,
    "start_time": "2022-02-23T13:04:33.932Z"
   },
   {
    "duration": 307,
    "start_time": "2022-02-23T13:04:34.310Z"
   },
   {
    "duration": 8670,
    "start_time": "2022-02-23T13:04:34.619Z"
   },
   {
    "duration": 188,
    "start_time": "2022-02-23T13:04:43.291Z"
   },
   {
    "duration": 288,
    "start_time": "2022-02-23T13:04:43.481Z"
   },
   {
    "duration": 199,
    "start_time": "2022-02-23T13:04:43.771Z"
   },
   {
    "duration": 466,
    "start_time": "2022-02-23T13:04:43.971Z"
   },
   {
    "duration": 154,
    "start_time": "2022-02-23T13:05:25.822Z"
   },
   {
    "duration": 5,
    "start_time": "2022-02-23T13:06:35.961Z"
   },
   {
    "duration": 5,
    "start_time": "2022-02-23T13:07:31.065Z"
   },
   {
    "duration": 341,
    "start_time": "2022-02-23T13:07:34.902Z"
   },
   {
    "duration": 11,
    "start_time": "2022-02-23T13:07:46.942Z"
   },
   {
    "duration": 26,
    "start_time": "2022-02-23T13:08:09.925Z"
   },
   {
    "duration": 288,
    "start_time": "2022-02-23T13:08:18.364Z"
   },
   {
    "duration": 75,
    "start_time": "2022-02-23T13:08:45.392Z"
   },
   {
    "duration": 8767,
    "start_time": "2022-02-23T13:09:19.281Z"
   },
   {
    "duration": 74,
    "start_time": "2022-02-23T13:09:29.349Z"
   },
   {
    "duration": 305,
    "start_time": "2022-02-23T13:10:00.008Z"
   },
   {
    "duration": 254,
    "start_time": "2022-02-23T13:10:39.185Z"
   },
   {
    "duration": 4,
    "start_time": "2022-02-23T13:10:48.009Z"
   },
   {
    "duration": 3293,
    "start_time": "2022-02-23T13:11:09.456Z"
   },
   {
    "duration": 104,
    "start_time": "2022-02-23T13:11:13.614Z"
   },
   {
    "duration": 289,
    "start_time": "2022-02-23T13:11:15.413Z"
   },
   {
    "duration": 4,
    "start_time": "2022-02-23T13:11:17.077Z"
   },
   {
    "duration": 164,
    "start_time": "2022-02-23T13:12:01.010Z"
   },
   {
    "duration": 419,
    "start_time": "2022-02-23T13:19:05.329Z"
   },
   {
    "duration": 3,
    "start_time": "2022-02-23T13:19:25.233Z"
   },
   {
    "duration": 1285,
    "start_time": "2022-02-23T13:21:23.577Z"
   },
   {
    "duration": 30,
    "start_time": "2022-02-23T13:21:24.864Z"
   },
   {
    "duration": 10,
    "start_time": "2022-02-23T13:21:24.897Z"
   },
   {
    "duration": 19,
    "start_time": "2022-02-23T13:21:24.910Z"
   },
   {
    "duration": 3,
    "start_time": "2022-02-23T13:21:24.931Z"
   },
   {
    "duration": 9,
    "start_time": "2022-02-23T13:21:24.935Z"
   },
   {
    "duration": 35,
    "start_time": "2022-02-23T13:21:24.946Z"
   },
   {
    "duration": 10,
    "start_time": "2022-02-23T13:21:24.983Z"
   },
   {
    "duration": 14,
    "start_time": "2022-02-23T13:21:24.996Z"
   },
   {
    "duration": 25,
    "start_time": "2022-02-23T13:21:25.013Z"
   },
   {
    "duration": 34,
    "start_time": "2022-02-23T13:21:25.040Z"
   },
   {
    "duration": 346,
    "start_time": "2022-02-23T13:21:25.076Z"
   },
   {
    "duration": 1030,
    "start_time": "2022-02-23T13:21:25.424Z"
   },
   {
    "duration": 15,
    "start_time": "2022-02-23T13:21:26.456Z"
   },
   {
    "duration": 8,
    "start_time": "2022-02-23T13:21:26.473Z"
   },
   {
    "duration": 7,
    "start_time": "2022-02-23T13:21:26.483Z"
   },
   {
    "duration": 10,
    "start_time": "2022-02-23T13:21:26.492Z"
   },
   {
    "duration": 808,
    "start_time": "2022-02-23T13:21:26.504Z"
   },
   {
    "duration": 4,
    "start_time": "2022-02-23T13:21:27.314Z"
   },
   {
    "duration": 33,
    "start_time": "2022-02-23T13:21:27.320Z"
   },
   {
    "duration": 18,
    "start_time": "2022-02-23T13:21:27.355Z"
   },
   {
    "duration": 11,
    "start_time": "2022-02-23T13:21:27.375Z"
   },
   {
    "duration": 96,
    "start_time": "2022-02-23T13:21:27.388Z"
   },
   {
    "duration": 20,
    "start_time": "2022-02-23T13:21:27.486Z"
   },
   {
    "duration": 4,
    "start_time": "2022-02-23T13:21:27.508Z"
   },
   {
    "duration": 492,
    "start_time": "2022-02-23T13:21:27.514Z"
   },
   {
    "duration": 39,
    "start_time": "2022-02-23T13:21:28.010Z"
   },
   {
    "duration": 310,
    "start_time": "2022-02-23T13:21:28.052Z"
   },
   {
    "duration": 6368,
    "start_time": "2022-02-23T13:21:28.369Z"
   },
   {
    "duration": 286,
    "start_time": "2022-02-23T13:21:34.739Z"
   },
   {
    "duration": 300,
    "start_time": "2022-02-23T13:21:35.028Z"
   },
   {
    "duration": 142,
    "start_time": "2022-02-23T13:21:35.330Z"
   },
   {
    "duration": 6,
    "start_time": "2022-02-23T13:21:35.475Z"
   },
   {
    "duration": 464,
    "start_time": "2022-02-23T13:21:35.483Z"
   },
   {
    "duration": 8,
    "start_time": "2022-02-23T13:21:35.949Z"
   },
   {
    "duration": 211,
    "start_time": "2022-02-23T13:21:35.959Z"
   },
   {
    "duration": 739,
    "start_time": "2022-02-23T13:21:36.172Z"
   },
   {
    "duration": 5,
    "start_time": "2022-02-23T13:21:36.913Z"
   },
   {
    "duration": 17,
    "start_time": "2022-02-23T13:21:36.919Z"
   },
   {
    "duration": 74,
    "start_time": "2022-02-23T13:21:36.938Z"
   },
   {
    "duration": 278,
    "start_time": "2022-02-23T13:21:37.014Z"
   },
   {
    "duration": 366,
    "start_time": "2022-02-23T13:21:37.294Z"
   },
   {
    "duration": 298,
    "start_time": "2022-02-23T13:21:37.661Z"
   },
   {
    "duration": 9141,
    "start_time": "2022-02-23T13:21:37.961Z"
   },
   {
    "duration": 188,
    "start_time": "2022-02-23T13:21:47.103Z"
   },
   {
    "duration": 278,
    "start_time": "2022-02-23T13:21:47.293Z"
   },
   {
    "duration": 201,
    "start_time": "2022-02-23T13:21:47.573Z"
   },
   {
    "duration": 460,
    "start_time": "2022-02-23T13:21:47.776Z"
   },
   {
    "duration": 5,
    "start_time": "2022-02-23T13:21:48.237Z"
   },
   {
    "duration": 16,
    "start_time": "2022-02-23T13:21:48.243Z"
   },
   {
    "duration": 211,
    "start_time": "2022-02-23T13:21:48.260Z"
   },
   {
    "duration": 25,
    "start_time": "2022-02-23T13:21:48.473Z"
   },
   {
    "duration": 288,
    "start_time": "2022-02-23T13:21:48.499Z"
   },
   {
    "duration": 80,
    "start_time": "2022-02-23T13:21:48.789Z"
   },
   {
    "duration": 3325,
    "start_time": "2022-02-23T13:21:48.871Z"
   },
   {
    "duration": 114,
    "start_time": "2022-02-23T13:21:52.198Z"
   },
   {
    "duration": 292,
    "start_time": "2022-02-23T13:21:52.314Z"
   },
   {
    "duration": 167,
    "start_time": "2022-02-23T13:21:52.608Z"
   },
   {
    "duration": 460,
    "start_time": "2022-02-23T13:21:52.777Z"
   },
   {
    "duration": 4,
    "start_time": "2022-02-23T13:21:53.238Z"
   },
   {
    "duration": 6,
    "start_time": "2022-02-23T13:29:22.791Z"
   },
   {
    "duration": 9236,
    "start_time": "2022-02-23T13:30:05.334Z"
   },
   {
    "duration": 5,
    "start_time": "2022-02-23T13:30:44.397Z"
   },
   {
    "duration": 939,
    "start_time": "2022-02-23T13:30:45.731Z"
   },
   {
    "duration": 5,
    "start_time": "2022-02-23T13:32:09.560Z"
   },
   {
    "duration": 966,
    "start_time": "2022-02-23T13:32:11.065Z"
   },
   {
    "duration": 4,
    "start_time": "2022-02-23T13:32:53.220Z"
   },
   {
    "duration": 1268,
    "start_time": "2022-02-23T13:33:13.580Z"
   },
   {
    "duration": 43,
    "start_time": "2022-02-23T13:33:14.850Z"
   },
   {
    "duration": 11,
    "start_time": "2022-02-23T13:33:14.895Z"
   },
   {
    "duration": 56,
    "start_time": "2022-02-23T13:33:14.908Z"
   },
   {
    "duration": 6,
    "start_time": "2022-02-23T13:33:14.966Z"
   },
   {
    "duration": 10,
    "start_time": "2022-02-23T13:33:14.974Z"
   },
   {
    "duration": 21,
    "start_time": "2022-02-23T13:33:14.986Z"
   },
   {
    "duration": 18,
    "start_time": "2022-02-23T13:33:15.009Z"
   },
   {
    "duration": 20,
    "start_time": "2022-02-23T13:33:15.032Z"
   },
   {
    "duration": 33,
    "start_time": "2022-02-23T13:33:15.055Z"
   },
   {
    "duration": 7,
    "start_time": "2022-02-23T13:33:15.090Z"
   },
   {
    "duration": 335,
    "start_time": "2022-02-23T13:33:15.100Z"
   },
   {
    "duration": 1079,
    "start_time": "2022-02-23T13:33:15.437Z"
   },
   {
    "duration": 4,
    "start_time": "2022-02-23T13:33:16.518Z"
   },
   {
    "duration": 12,
    "start_time": "2022-02-23T13:33:16.525Z"
   },
   {
    "duration": 14,
    "start_time": "2022-02-23T13:33:16.539Z"
   },
   {
    "duration": 7,
    "start_time": "2022-02-23T13:33:16.555Z"
   },
   {
    "duration": 846,
    "start_time": "2022-02-23T13:33:16.570Z"
   },
   {
    "duration": 3,
    "start_time": "2022-02-23T13:33:17.418Z"
   },
   {
    "duration": 48,
    "start_time": "2022-02-23T13:33:17.424Z"
   },
   {
    "duration": 8,
    "start_time": "2022-02-23T13:33:17.474Z"
   },
   {
    "duration": 12,
    "start_time": "2022-02-23T13:33:17.484Z"
   },
   {
    "duration": 98,
    "start_time": "2022-02-23T13:33:17.498Z"
   },
   {
    "duration": 20,
    "start_time": "2022-02-23T13:33:17.598Z"
   },
   {
    "duration": 5,
    "start_time": "2022-02-23T13:33:17.621Z"
   },
   {
    "duration": 7,
    "start_time": "2022-02-23T13:33:17.629Z"
   },
   {
    "duration": 1806,
    "start_time": "2022-02-23T13:33:17.669Z"
   },
   {
    "duration": 490,
    "start_time": "2022-02-23T13:33:18.987Z"
   },
   {
    "duration": 1464,
    "start_time": "2022-02-23T13:34:17.766Z"
   },
   {
    "duration": 241,
    "start_time": "2022-02-23T13:34:26.482Z"
   },
   {
    "duration": 6,
    "start_time": "2022-02-23T13:37:12.192Z"
   },
   {
    "duration": 489,
    "start_time": "2022-02-23T13:37:14.193Z"
   },
   {
    "duration": 482,
    "start_time": "2022-02-23T13:37:19.193Z"
   },
   {
    "duration": 5,
    "start_time": "2022-02-23T13:37:44.886Z"
   },
   {
    "duration": 1285,
    "start_time": "2022-02-23T13:37:45.549Z"
   },
   {
    "duration": 285,
    "start_time": "2022-02-23T13:38:09.392Z"
   },
   {
    "duration": 6,
    "start_time": "2022-02-23T13:38:28.886Z"
   },
   {
    "duration": 5,
    "start_time": "2022-02-23T13:38:42.553Z"
   },
   {
    "duration": 8,
    "start_time": "2022-02-23T13:40:06.611Z"
   },
   {
    "duration": 767,
    "start_time": "2022-02-23T13:40:08.628Z"
   },
   {
    "duration": 7,
    "start_time": "2022-02-23T13:40:26.823Z"
   },
   {
    "duration": 790,
    "start_time": "2022-02-23T13:40:28.372Z"
   },
   {
    "duration": 7,
    "start_time": "2022-02-23T13:40:55.567Z"
   },
   {
    "duration": 762,
    "start_time": "2022-02-23T13:40:56.730Z"
   },
   {
    "duration": 5,
    "start_time": "2022-02-23T13:42:20.175Z"
   },
   {
    "duration": 6,
    "start_time": "2022-02-23T13:42:56.135Z"
   },
   {
    "duration": 802,
    "start_time": "2022-02-23T13:42:57.652Z"
   },
   {
    "duration": 5,
    "start_time": "2022-02-23T13:43:48.579Z"
   },
   {
    "duration": 5,
    "start_time": "2022-02-23T13:43:49.765Z"
   },
   {
    "duration": 777,
    "start_time": "2022-02-23T13:43:51.585Z"
   },
   {
    "duration": 476,
    "start_time": "2022-02-23T13:44:32.256Z"
   },
   {
    "duration": 39,
    "start_time": "2022-02-23T13:44:33.491Z"
   },
   {
    "duration": 286,
    "start_time": "2022-02-23T13:44:34.671Z"
   },
   {
    "duration": 6402,
    "start_time": "2022-02-23T13:44:44.813Z"
   },
   {
    "duration": 267,
    "start_time": "2022-02-23T13:44:52.252Z"
   },
   {
    "duration": 299,
    "start_time": "2022-02-23T13:44:53.918Z"
   },
   {
    "duration": 104,
    "start_time": "2022-02-23T13:45:05.676Z"
   },
   {
    "duration": 6,
    "start_time": "2022-02-23T13:45:07.129Z"
   },
   {
    "duration": 460,
    "start_time": "2022-02-23T13:45:09.920Z"
   },
   {
    "duration": 9,
    "start_time": "2022-02-23T13:45:14.634Z"
   },
   {
    "duration": 5,
    "start_time": "2022-02-23T13:47:59.693Z"
   },
   {
    "duration": 13,
    "start_time": "2022-02-23T13:48:01.644Z"
   },
   {
    "duration": 46,
    "start_time": "2022-02-23T13:48:03.498Z"
   },
   {
    "duration": 281,
    "start_time": "2022-02-23T13:48:06.730Z"
   },
   {
    "duration": 359,
    "start_time": "2022-02-23T13:48:25.379Z"
   },
   {
    "duration": 462,
    "start_time": "2022-02-23T13:48:28.988Z"
   },
   {
    "duration": 294,
    "start_time": "2022-02-23T13:48:33.283Z"
   },
   {
    "duration": 8497,
    "start_time": "2022-02-23T13:48:36.924Z"
   },
   {
    "duration": 179,
    "start_time": "2022-02-23T13:48:46.261Z"
   },
   {
    "duration": 286,
    "start_time": "2022-02-23T13:48:50.032Z"
   },
   {
    "duration": 6,
    "start_time": "2022-02-23T13:51:05.434Z"
   },
   {
    "duration": 801,
    "start_time": "2022-02-23T13:51:07.117Z"
   },
   {
    "duration": 943,
    "start_time": "2022-02-23T13:51:33.416Z"
   },
   {
    "duration": 611,
    "start_time": "2022-02-23T13:52:39.607Z"
   },
   {
    "duration": 34,
    "start_time": "2022-02-23T13:53:12.566Z"
   },
   {
    "duration": 40,
    "start_time": "2022-02-23T13:53:23.548Z"
   },
   {
    "duration": 171,
    "start_time": "2022-02-23T13:59:08.606Z"
   },
   {
    "duration": 5,
    "start_time": "2022-02-23T13:59:14.807Z"
   },
   {
    "duration": 6675,
    "start_time": "2022-02-23T13:59:38.720Z"
   },
   {
    "duration": 5,
    "start_time": "2022-02-23T15:43:36.533Z"
   },
   {
    "duration": 7233,
    "start_time": "2022-02-23T15:43:38.605Z"
   },
   {
    "duration": 6,
    "start_time": "2022-02-23T15:44:48.515Z"
   },
   {
    "duration": 549,
    "start_time": "2022-02-23T15:44:50.178Z"
   },
   {
    "duration": 6,
    "start_time": "2022-02-23T15:45:16.503Z"
   },
   {
    "duration": 585,
    "start_time": "2022-02-23T15:45:17.326Z"
   },
   {
    "duration": 12,
    "start_time": "2022-02-23T15:45:42.069Z"
   },
   {
    "duration": 591,
    "start_time": "2022-02-23T15:45:42.941Z"
   },
   {
    "duration": 6,
    "start_time": "2022-02-23T15:45:54.359Z"
   },
   {
    "duration": 7172,
    "start_time": "2022-02-23T15:45:55.650Z"
   },
   {
    "duration": 3,
    "start_time": "2022-02-23T15:46:09.080Z"
   },
   {
    "duration": 305,
    "start_time": "2022-02-23T15:49:03.787Z"
   },
   {
    "duration": 6601,
    "start_time": "2022-02-23T15:49:10.196Z"
   },
   {
    "duration": 295,
    "start_time": "2022-02-23T15:49:16.800Z"
   },
   {
    "duration": 314,
    "start_time": "2022-02-23T15:49:20.367Z"
   },
   {
    "duration": 7,
    "start_time": "2022-02-23T15:50:10.687Z"
   },
   {
    "duration": 7074,
    "start_time": "2022-02-23T15:50:12.332Z"
   },
   {
    "duration": 4,
    "start_time": "2022-02-23T15:50:46.058Z"
   },
   {
    "duration": 6,
    "start_time": "2022-02-23T15:51:15.605Z"
   },
   {
    "duration": 6823,
    "start_time": "2022-02-23T15:51:17.767Z"
   },
   {
    "duration": 7,
    "start_time": "2022-02-23T15:53:02.435Z"
   },
   {
    "duration": 6906,
    "start_time": "2022-02-23T15:53:03.743Z"
   },
   {
    "duration": 2157,
    "start_time": "2022-02-23T15:53:38.273Z"
   },
   {
    "duration": 33,
    "start_time": "2022-02-23T15:53:40.432Z"
   },
   {
    "duration": 11,
    "start_time": "2022-02-23T15:53:40.468Z"
   },
   {
    "duration": 24,
    "start_time": "2022-02-23T15:53:40.482Z"
   },
   {
    "duration": 3,
    "start_time": "2022-02-23T15:53:40.508Z"
   },
   {
    "duration": 11,
    "start_time": "2022-02-23T15:53:40.512Z"
   },
   {
    "duration": 17,
    "start_time": "2022-02-23T15:53:40.525Z"
   },
   {
    "duration": 28,
    "start_time": "2022-02-23T15:53:40.544Z"
   },
   {
    "duration": 15,
    "start_time": "2022-02-23T15:53:40.575Z"
   },
   {
    "duration": 23,
    "start_time": "2022-02-23T15:53:40.592Z"
   },
   {
    "duration": 6,
    "start_time": "2022-02-23T15:53:40.617Z"
   },
   {
    "duration": 356,
    "start_time": "2022-02-23T15:53:40.625Z"
   },
   {
    "duration": 1046,
    "start_time": "2022-02-23T15:53:40.983Z"
   },
   {
    "duration": 6,
    "start_time": "2022-02-23T15:53:42.031Z"
   },
   {
    "duration": 6,
    "start_time": "2022-02-23T15:53:42.039Z"
   },
   {
    "duration": 22,
    "start_time": "2022-02-23T15:53:42.047Z"
   },
   {
    "duration": 8,
    "start_time": "2022-02-23T15:53:42.072Z"
   },
   {
    "duration": 821,
    "start_time": "2022-02-23T15:53:42.082Z"
   },
   {
    "duration": 2,
    "start_time": "2022-02-23T15:53:42.905Z"
   },
   {
    "duration": 35,
    "start_time": "2022-02-23T15:53:42.909Z"
   },
   {
    "duration": 7,
    "start_time": "2022-02-23T15:53:42.946Z"
   },
   {
    "duration": 16,
    "start_time": "2022-02-23T15:53:42.970Z"
   },
   {
    "duration": 104,
    "start_time": "2022-02-23T15:53:42.988Z"
   },
   {
    "duration": 21,
    "start_time": "2022-02-23T15:53:43.094Z"
   },
   {
    "duration": 5,
    "start_time": "2022-02-23T15:53:43.117Z"
   },
   {
    "duration": 12,
    "start_time": "2022-02-23T15:53:43.124Z"
   },
   {
    "duration": 832,
    "start_time": "2022-02-23T15:53:43.139Z"
   },
   {
    "duration": 491,
    "start_time": "2022-02-23T15:53:43.973Z"
   },
   {
    "duration": 38,
    "start_time": "2022-02-23T15:53:44.469Z"
   },
   {
    "duration": 311,
    "start_time": "2022-02-23T15:53:44.509Z"
   },
   {
    "duration": 1305,
    "start_time": "2022-02-23T15:54:13.527Z"
   },
   {
    "duration": 42,
    "start_time": "2022-02-23T15:54:14.834Z"
   },
   {
    "duration": 12,
    "start_time": "2022-02-23T15:54:14.878Z"
   },
   {
    "duration": 17,
    "start_time": "2022-02-23T15:54:14.893Z"
   },
   {
    "duration": 8,
    "start_time": "2022-02-23T15:54:14.913Z"
   },
   {
    "duration": 9,
    "start_time": "2022-02-23T15:54:14.923Z"
   },
   {
    "duration": 36,
    "start_time": "2022-02-23T15:54:14.934Z"
   },
   {
    "duration": 10,
    "start_time": "2022-02-23T15:54:14.973Z"
   },
   {
    "duration": 14,
    "start_time": "2022-02-23T15:54:14.986Z"
   },
   {
    "duration": 27,
    "start_time": "2022-02-23T15:54:15.003Z"
   },
   {
    "duration": 8,
    "start_time": "2022-02-23T15:54:15.032Z"
   },
   {
    "duration": 338,
    "start_time": "2022-02-23T15:54:15.070Z"
   },
   {
    "duration": 1069,
    "start_time": "2022-02-23T15:54:15.410Z"
   },
   {
    "duration": 7,
    "start_time": "2022-02-23T15:54:16.481Z"
   },
   {
    "duration": 12,
    "start_time": "2022-02-23T15:54:16.491Z"
   },
   {
    "duration": 7,
    "start_time": "2022-02-23T15:54:16.505Z"
   },
   {
    "duration": 10,
    "start_time": "2022-02-23T15:54:16.514Z"
   },
   {
    "duration": 859,
    "start_time": "2022-02-23T15:54:16.526Z"
   },
   {
    "duration": 3,
    "start_time": "2022-02-23T15:54:17.387Z"
   },
   {
    "duration": 33,
    "start_time": "2022-02-23T15:54:17.392Z"
   },
   {
    "duration": 6,
    "start_time": "2022-02-23T15:54:17.427Z"
   },
   {
    "duration": 38,
    "start_time": "2022-02-23T15:54:17.435Z"
   },
   {
    "duration": 96,
    "start_time": "2022-02-23T15:54:17.475Z"
   },
   {
    "duration": 22,
    "start_time": "2022-02-23T15:54:17.573Z"
   },
   {
    "duration": 5,
    "start_time": "2022-02-23T15:54:17.597Z"
   },
   {
    "duration": 5,
    "start_time": "2022-02-23T15:58:25.669Z"
   },
   {
    "duration": 784,
    "start_time": "2022-02-23T15:58:27.303Z"
   },
   {
    "duration": 471,
    "start_time": "2022-02-23T15:58:43.964Z"
   },
   {
    "duration": 39,
    "start_time": "2022-02-23T15:58:48.220Z"
   },
   {
    "duration": 303,
    "start_time": "2022-02-23T15:58:50.132Z"
   },
   {
    "duration": 1351,
    "start_time": "2022-02-23T15:59:03.502Z"
   },
   {
    "duration": 31,
    "start_time": "2022-02-23T15:59:04.856Z"
   },
   {
    "duration": 11,
    "start_time": "2022-02-23T15:59:04.889Z"
   },
   {
    "duration": 51,
    "start_time": "2022-02-23T15:59:04.902Z"
   },
   {
    "duration": 15,
    "start_time": "2022-02-23T15:59:04.956Z"
   },
   {
    "duration": 16,
    "start_time": "2022-02-23T15:59:04.973Z"
   },
   {
    "duration": 47,
    "start_time": "2022-02-23T15:59:04.990Z"
   },
   {
    "duration": 19,
    "start_time": "2022-02-23T15:59:05.039Z"
   },
   {
    "duration": 24,
    "start_time": "2022-02-23T15:59:05.062Z"
   },
   {
    "duration": 33,
    "start_time": "2022-02-23T15:59:05.089Z"
   },
   {
    "duration": 9,
    "start_time": "2022-02-23T15:59:05.124Z"
   },
   {
    "duration": 349,
    "start_time": "2022-02-23T15:59:05.135Z"
   },
   {
    "duration": 1017,
    "start_time": "2022-02-23T15:59:05.486Z"
   },
   {
    "duration": 6,
    "start_time": "2022-02-23T15:59:06.506Z"
   },
   {
    "duration": 48,
    "start_time": "2022-02-23T15:59:06.514Z"
   },
   {
    "duration": 30,
    "start_time": "2022-02-23T15:59:06.565Z"
   },
   {
    "duration": 21,
    "start_time": "2022-02-23T15:59:06.597Z"
   },
   {
    "duration": 895,
    "start_time": "2022-02-23T15:59:06.620Z"
   },
   {
    "duration": 3,
    "start_time": "2022-02-23T15:59:07.516Z"
   },
   {
    "duration": 53,
    "start_time": "2022-02-23T15:59:07.521Z"
   },
   {
    "duration": 9,
    "start_time": "2022-02-23T15:59:07.576Z"
   },
   {
    "duration": 19,
    "start_time": "2022-02-23T15:59:07.587Z"
   },
   {
    "duration": 93,
    "start_time": "2022-02-23T15:59:07.608Z"
   },
   {
    "duration": 30,
    "start_time": "2022-02-23T15:59:07.703Z"
   },
   {
    "duration": 5,
    "start_time": "2022-02-23T15:59:07.735Z"
   },
   {
    "duration": 6,
    "start_time": "2022-02-23T15:59:13.609Z"
   },
   {
    "duration": 844,
    "start_time": "2022-02-23T15:59:15.710Z"
   },
   {
    "duration": 382,
    "start_time": "2022-02-23T15:59:20.954Z"
   },
   {
    "duration": 491,
    "start_time": "2022-02-23T16:01:37.026Z"
   },
   {
    "duration": 39,
    "start_time": "2022-02-23T16:01:40.846Z"
   },
   {
    "duration": 275,
    "start_time": "2022-02-23T16:01:42.388Z"
   },
   {
    "duration": 6408,
    "start_time": "2022-02-23T16:01:49.034Z"
   },
   {
    "duration": 283,
    "start_time": "2022-02-23T16:01:57.396Z"
   },
   {
    "duration": 309,
    "start_time": "2022-02-23T16:01:59.007Z"
   },
   {
    "duration": 128,
    "start_time": "2022-02-23T16:02:01.944Z"
   },
   {
    "duration": 4,
    "start_time": "2022-02-23T16:02:04.061Z"
   },
   {
    "duration": 475,
    "start_time": "2022-02-23T16:02:04.784Z"
   },
   {
    "duration": 9,
    "start_time": "2022-02-23T16:02:05.379Z"
   },
   {
    "duration": 222,
    "start_time": "2022-02-23T16:02:08.546Z"
   },
   {
    "duration": 534,
    "start_time": "2022-02-23T16:02:09.875Z"
   },
   {
    "duration": 6,
    "start_time": "2022-02-23T16:02:12.721Z"
   },
   {
    "duration": 12,
    "start_time": "2022-02-23T16:02:15.596Z"
   },
   {
    "duration": 45,
    "start_time": "2022-02-23T16:02:46.242Z"
   },
   {
    "duration": 271,
    "start_time": "2022-02-23T16:02:49.341Z"
   },
   {
    "duration": 927,
    "start_time": "2022-02-23T16:02:51.682Z"
   },
   {
    "duration": 585,
    "start_time": "2022-02-23T16:03:47.043Z"
   },
   {
    "duration": 40,
    "start_time": "2022-02-23T16:03:49.054Z"
   },
   {
    "duration": 290,
    "start_time": "2022-02-23T16:03:50.485Z"
   },
   {
    "duration": 8565,
    "start_time": "2022-02-23T16:04:04.728Z"
   },
   {
    "duration": 173,
    "start_time": "2022-02-23T16:04:14.795Z"
   },
   {
    "duration": 301,
    "start_time": "2022-02-23T16:04:17.185Z"
   },
   {
    "duration": 158,
    "start_time": "2022-02-23T16:04:20.513Z"
   },
   {
    "duration": 417,
    "start_time": "2022-02-23T16:04:22.115Z"
   },
   {
    "duration": 5,
    "start_time": "2022-02-23T16:04:27.791Z"
   },
   {
    "duration": 13,
    "start_time": "2022-02-23T16:04:29.220Z"
   },
   {
    "duration": 175,
    "start_time": "2022-02-23T16:05:14.630Z"
   },
   {
    "duration": 27,
    "start_time": "2022-02-23T16:05:16.060Z"
   },
   {
    "duration": 274,
    "start_time": "2022-02-23T16:05:18.102Z"
   },
   {
    "duration": 3128,
    "start_time": "2022-02-23T16:05:51.073Z"
   },
   {
    "duration": 118,
    "start_time": "2022-02-23T16:05:55.105Z"
   },
   {
    "duration": 293,
    "start_time": "2022-02-23T16:05:57.909Z"
   },
   {
    "duration": 210,
    "start_time": "2022-02-23T16:06:04.161Z"
   },
   {
    "duration": 469,
    "start_time": "2022-02-23T16:06:10.767Z"
   },
   {
    "duration": 489,
    "start_time": "2022-02-23T16:20:54.045Z"
   },
   {
    "duration": 490,
    "start_time": "2022-02-23T16:21:57.231Z"
   },
   {
    "duration": 6337,
    "start_time": "2022-02-23T16:21:58.732Z"
   },
   {
    "duration": 287,
    "start_time": "2022-02-23T16:23:00.053Z"
   },
   {
    "duration": 279,
    "start_time": "2022-02-23T16:24:04.920Z"
   },
   {
    "duration": 317,
    "start_time": "2022-02-23T16:25:08.636Z"
   },
   {
    "duration": 79,
    "start_time": "2022-02-23T16:25:15.786Z"
   },
   {
    "duration": 109,
    "start_time": "2022-02-23T16:25:45.045Z"
   },
   {
    "duration": 172,
    "start_time": "2022-02-23T16:25:51.382Z"
   },
   {
    "duration": 197,
    "start_time": "2022-02-23T16:27:24.082Z"
   },
   {
    "duration": 218,
    "start_time": "2022-02-23T16:27:30.974Z"
   },
   {
    "duration": 292,
    "start_time": "2022-02-23T16:29:01.199Z"
   },
   {
    "duration": 135,
    "start_time": "2022-02-23T16:29:09.767Z"
   },
   {
    "duration": 106,
    "start_time": "2022-02-23T16:31:03.226Z"
   },
   {
    "duration": 266,
    "start_time": "2022-02-23T16:31:53.463Z"
   },
   {
    "duration": 332,
    "start_time": "2022-02-23T16:32:30.302Z"
   },
   {
    "duration": 224,
    "start_time": "2022-02-23T16:34:11.015Z"
   },
   {
    "duration": 226,
    "start_time": "2022-02-23T16:34:29.212Z"
   },
   {
    "duration": 259,
    "start_time": "2022-02-23T16:34:49.727Z"
   },
   {
    "duration": 280,
    "start_time": "2022-02-23T16:34:58.752Z"
   },
   {
    "duration": 243,
    "start_time": "2022-02-23T16:35:01.100Z"
   },
   {
    "duration": 1429,
    "start_time": "2022-02-23T16:35:30.107Z"
   },
   {
    "duration": 33,
    "start_time": "2022-02-23T16:35:31.538Z"
   },
   {
    "duration": 11,
    "start_time": "2022-02-23T16:35:31.573Z"
   },
   {
    "duration": 20,
    "start_time": "2022-02-23T16:35:31.587Z"
   },
   {
    "duration": 3,
    "start_time": "2022-02-23T16:35:31.609Z"
   },
   {
    "duration": 21,
    "start_time": "2022-02-23T16:35:31.614Z"
   },
   {
    "duration": 21,
    "start_time": "2022-02-23T16:35:31.637Z"
   },
   {
    "duration": 11,
    "start_time": "2022-02-23T16:35:31.670Z"
   },
   {
    "duration": 20,
    "start_time": "2022-02-23T16:35:31.683Z"
   },
   {
    "duration": 25,
    "start_time": "2022-02-23T16:35:31.705Z"
   },
   {
    "duration": 7,
    "start_time": "2022-02-23T16:35:31.732Z"
   },
   {
    "duration": 344,
    "start_time": "2022-02-23T16:35:31.742Z"
   },
   {
    "duration": 1007,
    "start_time": "2022-02-23T16:35:32.088Z"
   },
   {
    "duration": 5,
    "start_time": "2022-02-23T16:35:33.097Z"
   },
   {
    "duration": 9,
    "start_time": "2022-02-23T16:35:33.104Z"
   },
   {
    "duration": 18,
    "start_time": "2022-02-23T16:35:33.115Z"
   },
   {
    "duration": 11,
    "start_time": "2022-02-23T16:35:33.135Z"
   },
   {
    "duration": 838,
    "start_time": "2022-02-23T16:35:33.148Z"
   },
   {
    "duration": 3,
    "start_time": "2022-02-23T16:35:33.988Z"
   },
   {
    "duration": 40,
    "start_time": "2022-02-23T16:35:33.993Z"
   },
   {
    "duration": 7,
    "start_time": "2022-02-23T16:35:34.035Z"
   },
   {
    "duration": 26,
    "start_time": "2022-02-23T16:35:34.044Z"
   },
   {
    "duration": 11,
    "start_time": "2022-02-23T16:35:34.145Z"
   },
   {
    "duration": 23,
    "start_time": "2022-02-23T16:35:34.171Z"
   },
   {
    "duration": 5,
    "start_time": "2022-02-23T16:35:34.196Z"
   },
   {
    "duration": 481,
    "start_time": "2022-02-23T16:35:34.204Z"
   },
   {
    "duration": 39,
    "start_time": "2022-02-23T16:35:34.687Z"
   },
   {
    "duration": 299,
    "start_time": "2022-02-23T16:35:34.728Z"
   },
   {
    "duration": 6134,
    "start_time": "2022-02-23T16:35:35.029Z"
   },
   {
    "duration": 275,
    "start_time": "2022-02-23T16:35:41.169Z"
   },
   {
    "duration": 297,
    "start_time": "2022-02-23T16:35:41.446Z"
   },
   {
    "duration": 226,
    "start_time": "2022-02-23T16:35:41.745Z"
   },
   {
    "duration": 5,
    "start_time": "2022-02-23T16:35:41.973Z"
   },
   {
    "duration": 463,
    "start_time": "2022-02-23T16:35:41.980Z"
   },
   {
    "duration": 9,
    "start_time": "2022-02-23T16:35:42.445Z"
   },
   {
    "duration": 214,
    "start_time": "2022-02-23T16:35:42.456Z"
   },
   {
    "duration": 451,
    "start_time": "2022-02-23T16:35:42.672Z"
   },
   {
    "duration": 5,
    "start_time": "2022-02-23T16:35:43.125Z"
   },
   {
    "duration": 23,
    "start_time": "2022-02-23T16:35:43.132Z"
   },
   {
    "duration": 628,
    "start_time": "2022-02-23T16:35:43.157Z"
   },
   {
    "duration": 42,
    "start_time": "2022-02-23T16:35:43.787Z"
   },
   {
    "duration": 307,
    "start_time": "2022-02-23T16:35:43.831Z"
   },
   {
    "duration": 8812,
    "start_time": "2022-02-23T16:35:44.140Z"
   },
   {
    "duration": 196,
    "start_time": "2022-02-23T16:35:52.954Z"
   },
   {
    "duration": 300,
    "start_time": "2022-02-23T16:35:53.152Z"
   },
   {
    "duration": 215,
    "start_time": "2022-02-23T16:35:53.454Z"
   },
   {
    "duration": 473,
    "start_time": "2022-02-23T16:35:53.671Z"
   },
   {
    "duration": 4,
    "start_time": "2022-02-23T16:35:54.146Z"
   },
   {
    "duration": 23,
    "start_time": "2022-02-23T16:35:54.151Z"
   },
   {
    "duration": 172,
    "start_time": "2022-02-23T16:35:54.176Z"
   },
   {
    "duration": 31,
    "start_time": "2022-02-23T16:35:54.350Z"
   },
   {
    "duration": 293,
    "start_time": "2022-02-23T16:35:54.382Z"
   },
   {
    "duration": 3458,
    "start_time": "2022-02-23T16:35:54.677Z"
   },
   {
    "duration": 113,
    "start_time": "2022-02-23T16:35:58.137Z"
   },
   {
    "duration": 318,
    "start_time": "2022-02-23T16:35:58.252Z"
   },
   {
    "duration": 198,
    "start_time": "2022-02-23T16:35:58.573Z"
   },
   {
    "duration": 461,
    "start_time": "2022-02-23T16:35:58.773Z"
   },
   {
    "duration": 111,
    "start_time": "2022-02-23T16:35:59.236Z"
   },
   {
    "duration": 328,
    "start_time": "2022-02-23T16:35:59.349Z"
   },
   {
    "duration": 255,
    "start_time": "2022-02-23T16:35:59.680Z"
   },
   {
    "duration": 4,
    "start_time": "2022-02-23T16:35:59.937Z"
   },
   {
    "duration": 339,
    "start_time": "2022-02-23T16:36:23.616Z"
   },
   {
    "duration": 322,
    "start_time": "2022-02-23T16:36:29.401Z"
   },
   {
    "duration": 9406,
    "start_time": "2022-02-23T16:39:03.905Z"
   },
   {
    "duration": 8875,
    "start_time": "2022-02-23T16:39:37.126Z"
   },
   {
    "duration": 278,
    "start_time": "2022-02-23T16:39:52.799Z"
   },
   {
    "duration": 1143,
    "start_time": "2022-02-23T16:40:32.061Z"
   },
   {
    "duration": 256,
    "start_time": "2022-02-23T16:41:12.235Z"
   },
   {
    "duration": 3,
    "start_time": "2022-02-23T16:42:26.775Z"
   },
   {
    "duration": 24,
    "start_time": "2022-02-23T16:43:36.015Z"
   },
   {
    "duration": 181,
    "start_time": "2022-02-23T16:44:36.317Z"
   },
   {
    "duration": 7,
    "start_time": "2022-02-23T16:45:31.324Z"
   },
   {
    "duration": 271,
    "start_time": "2022-02-23T16:46:57.757Z"
   },
   {
    "duration": 15,
    "start_time": "2022-02-23T16:50:48.787Z"
   },
   {
    "duration": 1320,
    "start_time": "2022-02-23T16:51:10.333Z"
   },
   {
    "duration": 41,
    "start_time": "2022-02-23T16:51:11.655Z"
   },
   {
    "duration": 10,
    "start_time": "2022-02-23T16:51:11.699Z"
   },
   {
    "duration": 19,
    "start_time": "2022-02-23T16:51:11.712Z"
   },
   {
    "duration": 4,
    "start_time": "2022-02-23T16:51:11.733Z"
   },
   {
    "duration": 8,
    "start_time": "2022-02-23T16:51:11.739Z"
   },
   {
    "duration": 30,
    "start_time": "2022-02-23T16:51:11.749Z"
   },
   {
    "duration": 9,
    "start_time": "2022-02-23T16:51:11.781Z"
   },
   {
    "duration": 12,
    "start_time": "2022-02-23T16:51:11.793Z"
   },
   {
    "duration": 21,
    "start_time": "2022-02-23T16:51:11.808Z"
   },
   {
    "duration": 7,
    "start_time": "2022-02-23T16:51:11.831Z"
   },
   {
    "duration": 337,
    "start_time": "2022-02-23T16:51:11.870Z"
   },
   {
    "duration": 1032,
    "start_time": "2022-02-23T16:51:12.209Z"
   },
   {
    "duration": 5,
    "start_time": "2022-02-23T16:51:13.242Z"
   },
   {
    "duration": 9,
    "start_time": "2022-02-23T16:51:13.248Z"
   },
   {
    "duration": 12,
    "start_time": "2022-02-23T16:51:13.259Z"
   },
   {
    "duration": 8,
    "start_time": "2022-02-23T16:51:13.273Z"
   },
   {
    "duration": 853,
    "start_time": "2022-02-23T16:51:13.283Z"
   },
   {
    "duration": 3,
    "start_time": "2022-02-23T16:51:14.138Z"
   },
   {
    "duration": 53,
    "start_time": "2022-02-23T16:51:14.143Z"
   },
   {
    "duration": 7,
    "start_time": "2022-02-23T16:51:14.199Z"
   },
   {
    "duration": 12,
    "start_time": "2022-02-23T16:51:14.208Z"
   },
   {
    "duration": 96,
    "start_time": "2022-02-23T16:51:14.222Z"
   },
   {
    "duration": 21,
    "start_time": "2022-02-23T16:51:14.320Z"
   },
   {
    "duration": 5,
    "start_time": "2022-02-23T16:51:14.342Z"
   },
   {
    "duration": 476,
    "start_time": "2022-02-23T16:51:14.369Z"
   },
   {
    "duration": 48,
    "start_time": "2022-02-23T16:51:14.849Z"
   },
   {
    "duration": 304,
    "start_time": "2022-02-23T16:51:14.899Z"
   },
   {
    "duration": 6254,
    "start_time": "2022-02-23T16:51:15.205Z"
   },
   {
    "duration": 281,
    "start_time": "2022-02-23T16:51:21.460Z"
   },
   {
    "duration": 289,
    "start_time": "2022-02-23T16:51:21.743Z"
   },
   {
    "duration": 143,
    "start_time": "2022-02-23T16:51:22.034Z"
   },
   {
    "duration": 87,
    "start_time": "2022-02-23T16:51:22.185Z"
   },
   {
    "duration": 434,
    "start_time": "2022-02-23T16:51:22.275Z"
   },
   {
    "duration": 9,
    "start_time": "2022-02-23T16:51:22.711Z"
   },
   {
    "duration": 152,
    "start_time": "2022-02-23T16:51:22.722Z"
   },
   {
    "duration": 447,
    "start_time": "2022-02-23T16:51:22.876Z"
   },
   {
    "duration": 5,
    "start_time": "2022-02-23T16:51:23.326Z"
   },
   {
    "duration": 17,
    "start_time": "2022-02-23T16:51:23.333Z"
   },
   {
    "duration": 597,
    "start_time": "2022-02-23T16:51:23.352Z"
   },
   {
    "duration": 47,
    "start_time": "2022-02-23T16:51:23.951Z"
   },
   {
    "duration": 297,
    "start_time": "2022-02-23T16:51:24.000Z"
   },
   {
    "duration": 8948,
    "start_time": "2022-02-23T16:51:24.299Z"
   },
   {
    "duration": 198,
    "start_time": "2022-02-23T16:51:33.248Z"
   },
   {
    "duration": 305,
    "start_time": "2022-02-23T16:51:33.447Z"
   },
   {
    "duration": 215,
    "start_time": "2022-02-23T16:51:33.754Z"
   },
   {
    "duration": 465,
    "start_time": "2022-02-23T16:51:33.971Z"
   },
   {
    "duration": 6,
    "start_time": "2022-02-23T16:51:34.438Z"
   },
   {
    "duration": 25,
    "start_time": "2022-02-23T16:51:34.446Z"
   },
   {
    "duration": 176,
    "start_time": "2022-02-23T16:51:34.473Z"
   },
   {
    "duration": 37,
    "start_time": "2022-02-23T16:51:34.651Z"
   },
   {
    "duration": 306,
    "start_time": "2022-02-23T16:51:34.690Z"
   },
   {
    "duration": 3464,
    "start_time": "2022-02-23T16:51:34.998Z"
   },
   {
    "duration": 114,
    "start_time": "2022-02-23T16:51:38.464Z"
   },
   {
    "duration": 314,
    "start_time": "2022-02-23T16:51:38.580Z"
   },
   {
    "duration": 173,
    "start_time": "2022-02-23T16:51:38.896Z"
   },
   {
    "duration": 468,
    "start_time": "2022-02-23T16:51:39.071Z"
   },
   {
    "duration": 120,
    "start_time": "2022-02-23T16:51:39.542Z"
   },
   {
    "duration": 354,
    "start_time": "2022-02-23T16:51:39.664Z"
   },
   {
    "duration": 229,
    "start_time": "2022-02-23T16:51:40.020Z"
   },
   {
    "duration": 8671,
    "start_time": "2022-02-23T16:51:40.251Z"
   },
   {
    "duration": 346,
    "start_time": "2022-02-23T16:51:48.924Z"
   },
   {
    "duration": 2,
    "start_time": "2022-02-23T16:51:49.272Z"
   },
   {
    "duration": 14,
    "start_time": "2022-02-23T16:51:49.276Z"
   },
   {
    "duration": 290,
    "start_time": "2022-02-23T16:51:49.291Z"
   },
   {
    "duration": 19,
    "start_time": "2022-02-23T16:52:01.065Z"
   },
   {
    "duration": 251,
    "start_time": "2022-02-23T16:52:09.398Z"
   },
   {
    "duration": 6,
    "start_time": "2022-02-23T16:55:59.122Z"
   },
   {
    "duration": 298,
    "start_time": "2022-02-23T16:56:10.427Z"
   },
   {
    "duration": 300,
    "start_time": "2022-02-23T16:56:35.925Z"
   },
   {
    "duration": 287,
    "start_time": "2022-02-23T16:56:44.061Z"
   },
   {
    "duration": 17,
    "start_time": "2022-02-23T16:58:24.849Z"
   },
   {
    "duration": 294,
    "start_time": "2022-02-23T16:59:30.180Z"
   },
   {
    "duration": 18,
    "start_time": "2022-02-23T16:59:31.628Z"
   },
   {
    "duration": 276,
    "start_time": "2022-02-23T16:59:54.737Z"
   },
   {
    "duration": 289,
    "start_time": "2022-02-23T17:00:51.204Z"
   },
   {
    "duration": 283,
    "start_time": "2022-02-23T17:03:13.839Z"
   },
   {
    "duration": 284,
    "start_time": "2022-02-23T17:03:29.446Z"
   },
   {
    "duration": 297,
    "start_time": "2022-02-23T17:03:45.532Z"
   },
   {
    "duration": 17,
    "start_time": "2022-02-23T17:03:50.733Z"
   },
   {
    "duration": 400,
    "start_time": "2022-02-23T17:04:23.552Z"
   },
   {
    "duration": 300,
    "start_time": "2022-02-23T17:04:27.309Z"
   },
   {
    "duration": 1384,
    "start_time": "2022-02-23T19:36:35.969Z"
   },
   {
    "duration": 31,
    "start_time": "2022-02-23T19:36:37.354Z"
   },
   {
    "duration": 10,
    "start_time": "2022-02-23T19:36:37.387Z"
   },
   {
    "duration": 17,
    "start_time": "2022-02-23T19:36:37.399Z"
   },
   {
    "duration": 13,
    "start_time": "2022-02-23T19:36:37.418Z"
   },
   {
    "duration": 18,
    "start_time": "2022-02-23T19:36:37.433Z"
   },
   {
    "duration": 31,
    "start_time": "2022-02-23T19:36:37.453Z"
   },
   {
    "duration": 14,
    "start_time": "2022-02-23T19:36:37.486Z"
   },
   {
    "duration": 25,
    "start_time": "2022-02-23T19:36:37.503Z"
   },
   {
    "duration": 23,
    "start_time": "2022-02-23T19:36:37.530Z"
   },
   {
    "duration": 15,
    "start_time": "2022-02-23T19:36:37.555Z"
   },
   {
    "duration": 315,
    "start_time": "2022-02-23T19:36:37.572Z"
   },
   {
    "duration": 1004,
    "start_time": "2022-02-23T19:36:37.889Z"
   },
   {
    "duration": 5,
    "start_time": "2022-02-23T19:36:38.895Z"
   },
   {
    "duration": 6,
    "start_time": "2022-02-23T19:36:38.902Z"
   },
   {
    "duration": 18,
    "start_time": "2022-02-23T19:36:38.910Z"
   },
   {
    "duration": 13,
    "start_time": "2022-02-23T19:36:38.930Z"
   },
   {
    "duration": 826,
    "start_time": "2022-02-23T19:36:38.945Z"
   },
   {
    "duration": 2,
    "start_time": "2022-02-23T19:36:39.773Z"
   },
   {
    "duration": 35,
    "start_time": "2022-02-23T19:36:39.777Z"
   },
   {
    "duration": 5,
    "start_time": "2022-02-23T19:36:39.814Z"
   },
   {
    "duration": 11,
    "start_time": "2022-02-23T19:36:39.821Z"
   },
   {
    "duration": 103,
    "start_time": "2022-02-23T19:36:39.834Z"
   },
   {
    "duration": 33,
    "start_time": "2022-02-23T19:36:39.939Z"
   },
   {
    "duration": 5,
    "start_time": "2022-02-23T19:36:39.974Z"
   },
   {
    "duration": 502,
    "start_time": "2022-02-23T19:36:39.980Z"
   },
   {
    "duration": 39,
    "start_time": "2022-02-23T19:36:40.487Z"
   },
   {
    "duration": 301,
    "start_time": "2022-02-23T19:36:40.528Z"
   },
   {
    "duration": 6152,
    "start_time": "2022-02-23T19:36:40.831Z"
   },
   {
    "duration": 277,
    "start_time": "2022-02-23T19:36:46.985Z"
   },
   {
    "duration": 302,
    "start_time": "2022-02-23T19:36:47.264Z"
   },
   {
    "duration": 103,
    "start_time": "2022-02-23T19:36:47.568Z"
   },
   {
    "duration": 94,
    "start_time": "2022-02-23T19:36:47.676Z"
   },
   {
    "duration": 474,
    "start_time": "2022-02-23T19:36:47.772Z"
   },
   {
    "duration": 9,
    "start_time": "2022-02-23T19:36:48.248Z"
   },
   {
    "duration": 115,
    "start_time": "2022-02-23T19:36:48.259Z"
   },
   {
    "duration": 526,
    "start_time": "2022-02-23T19:36:48.377Z"
   },
   {
    "duration": 4,
    "start_time": "2022-02-23T19:36:48.904Z"
   },
   {
    "duration": 17,
    "start_time": "2022-02-23T19:36:48.910Z"
   },
   {
    "duration": 603,
    "start_time": "2022-02-23T19:36:48.929Z"
   },
   {
    "duration": 49,
    "start_time": "2022-02-23T19:36:49.534Z"
   },
   {
    "duration": 297,
    "start_time": "2022-02-23T19:36:49.585Z"
   },
   {
    "duration": 8567,
    "start_time": "2022-02-23T19:36:49.884Z"
   },
   {
    "duration": 188,
    "start_time": "2022-02-23T19:36:58.453Z"
   },
   {
    "duration": 286,
    "start_time": "2022-02-23T19:36:58.643Z"
   },
   {
    "duration": 238,
    "start_time": "2022-02-23T19:36:58.931Z"
   },
   {
    "duration": 456,
    "start_time": "2022-02-23T19:36:59.171Z"
   },
   {
    "duration": 6,
    "start_time": "2022-02-23T19:36:59.629Z"
   },
   {
    "duration": 13,
    "start_time": "2022-02-23T19:36:59.637Z"
   },
   {
    "duration": 193,
    "start_time": "2022-02-23T19:36:59.652Z"
   },
   {
    "duration": 36,
    "start_time": "2022-02-23T19:36:59.847Z"
   },
   {
    "duration": 289,
    "start_time": "2022-02-23T19:36:59.885Z"
   },
   {
    "duration": 3199,
    "start_time": "2022-02-23T19:37:00.176Z"
   },
   {
    "duration": 111,
    "start_time": "2022-02-23T19:37:03.378Z"
   },
   {
    "duration": 303,
    "start_time": "2022-02-23T19:37:03.491Z"
   },
   {
    "duration": 176,
    "start_time": "2022-02-23T19:37:03.796Z"
   },
   {
    "duration": 460,
    "start_time": "2022-02-23T19:37:03.974Z"
   },
   {
    "duration": 118,
    "start_time": "2022-02-23T19:37:04.437Z"
   },
   {
    "duration": 347,
    "start_time": "2022-02-23T19:37:04.557Z"
   },
   {
    "duration": 238,
    "start_time": "2022-02-23T19:37:04.906Z"
   },
   {
    "duration": 8633,
    "start_time": "2022-02-23T19:37:05.146Z"
   },
   {
    "duration": 267,
    "start_time": "2022-02-23T19:37:13.781Z"
   },
   {
    "duration": 2,
    "start_time": "2022-02-23T19:37:14.050Z"
   },
   {
    "duration": 28,
    "start_time": "2022-02-23T19:37:14.054Z"
   },
   {
    "duration": 12,
    "start_time": "2022-02-23T19:37:14.084Z"
   },
   {
    "duration": 296,
    "start_time": "2022-02-23T19:37:14.097Z"
   },
   {
    "duration": 16,
    "start_time": "2022-02-23T19:37:14.395Z"
   },
   {
    "duration": 309,
    "start_time": "2022-02-23T19:37:14.413Z"
   },
   {
    "duration": 128,
    "start_time": "2022-02-24T07:03:42.723Z"
   },
   {
    "duration": -579,
    "start_time": "2022-02-24T07:03:43.433Z"
   },
   {
    "duration": 1530,
    "start_time": "2022-02-24T07:06:02.304Z"
   },
   {
    "duration": 37,
    "start_time": "2022-02-24T07:06:03.950Z"
   },
   {
    "duration": 1562,
    "start_time": "2022-02-24T07:15:11.148Z"
   },
   {
    "duration": 36,
    "start_time": "2022-02-24T07:15:12.713Z"
   },
   {
    "duration": 13,
    "start_time": "2022-02-24T07:15:12.752Z"
   },
   {
    "duration": 27,
    "start_time": "2022-02-24T07:15:12.768Z"
   },
   {
    "duration": 4,
    "start_time": "2022-02-24T07:15:12.797Z"
   },
   {
    "duration": 9,
    "start_time": "2022-02-24T07:15:12.803Z"
   },
   {
    "duration": 57,
    "start_time": "2022-02-24T07:15:12.814Z"
   },
   {
    "duration": 17,
    "start_time": "2022-02-24T07:15:12.874Z"
   },
   {
    "duration": 9,
    "start_time": "2022-02-24T07:15:12.894Z"
   },
   {
    "duration": 70,
    "start_time": "2022-02-24T07:15:12.905Z"
   },
   {
    "duration": 10,
    "start_time": "2022-02-24T07:15:12.977Z"
   },
   {
    "duration": 11,
    "start_time": "2022-02-24T07:15:12.991Z"
   },
   {
    "duration": 456,
    "start_time": "2022-02-24T07:15:13.005Z"
   },
   {
    "duration": 1224,
    "start_time": "2022-02-24T07:15:13.463Z"
   },
   {
    "duration": 8,
    "start_time": "2022-02-24T07:15:14.690Z"
   },
   {
    "duration": 10,
    "start_time": "2022-02-24T07:15:14.701Z"
   },
   {
    "duration": 13,
    "start_time": "2022-02-24T07:15:14.713Z"
   },
   {
    "duration": 34,
    "start_time": "2022-02-24T07:15:14.729Z"
   },
   {
    "duration": 1074,
    "start_time": "2022-02-24T07:15:14.766Z"
   },
   {
    "duration": 3,
    "start_time": "2022-02-24T07:15:15.843Z"
   },
   {
    "duration": 51,
    "start_time": "2022-02-24T07:15:15.849Z"
   },
   {
    "duration": 7,
    "start_time": "2022-02-24T07:15:15.902Z"
   },
   {
    "duration": 13,
    "start_time": "2022-02-24T07:15:16.006Z"
   },
   {
    "duration": 11,
    "start_time": "2022-02-24T07:15:16.022Z"
   },
   {
    "duration": 43,
    "start_time": "2022-02-24T07:15:16.036Z"
   },
   {
    "duration": 6,
    "start_time": "2022-02-24T07:15:16.081Z"
   },
   {
    "duration": 572,
    "start_time": "2022-02-24T07:15:16.090Z"
   },
   {
    "duration": 48,
    "start_time": "2022-02-24T07:15:16.664Z"
   },
   {
    "duration": 392,
    "start_time": "2022-02-24T07:15:16.714Z"
   },
   {
    "duration": 8328,
    "start_time": "2022-02-24T07:15:17.109Z"
   },
   {
    "duration": 349,
    "start_time": "2022-02-24T07:15:25.440Z"
   },
   {
    "duration": 399,
    "start_time": "2022-02-24T07:15:25.791Z"
   },
   {
    "duration": 175,
    "start_time": "2022-02-24T07:15:26.193Z"
   },
   {
    "duration": 5,
    "start_time": "2022-02-24T07:15:26.371Z"
   },
   {
    "duration": 591,
    "start_time": "2022-02-24T07:15:26.378Z"
   },
   {
    "duration": 12,
    "start_time": "2022-02-24T07:15:26.971Z"
   },
   {
    "duration": 184,
    "start_time": "2022-02-24T07:15:26.985Z"
   },
   {
    "duration": 541,
    "start_time": "2022-02-24T07:15:27.171Z"
   },
   {
    "duration": 6,
    "start_time": "2022-02-24T07:15:27.715Z"
   },
   {
    "duration": 18,
    "start_time": "2022-02-24T07:15:27.723Z"
   },
   {
    "duration": 760,
    "start_time": "2022-02-24T07:15:27.761Z"
   },
   {
    "duration": 68,
    "start_time": "2022-02-24T07:15:28.523Z"
   },
   {
    "duration": 381,
    "start_time": "2022-02-24T07:15:28.594Z"
   },
   {
    "duration": 12458,
    "start_time": "2022-02-24T07:15:28.977Z"
   },
   {
    "duration": 275,
    "start_time": "2022-02-24T07:15:41.438Z"
   },
   {
    "duration": 445,
    "start_time": "2022-02-24T07:15:41.716Z"
   },
   {
    "duration": 209,
    "start_time": "2022-02-24T07:15:42.163Z"
   },
   {
    "duration": 555,
    "start_time": "2022-02-24T07:15:42.374Z"
   },
   {
    "duration": 6,
    "start_time": "2022-02-24T07:15:42.932Z"
   },
   {
    "duration": 30,
    "start_time": "2022-02-24T07:15:42.941Z"
   },
   {
    "duration": 265,
    "start_time": "2022-02-24T07:15:42.975Z"
   },
   {
    "duration": 43,
    "start_time": "2022-02-24T07:15:43.243Z"
   },
   {
    "duration": 466,
    "start_time": "2022-02-24T07:15:43.289Z"
   },
   {
    "duration": 4725,
    "start_time": "2022-02-24T07:15:43.761Z"
   },
   {
    "duration": 158,
    "start_time": "2022-02-24T07:15:48.489Z"
   },
   {
    "duration": 426,
    "start_time": "2022-02-24T07:15:48.650Z"
   },
   {
    "duration": 93,
    "start_time": "2022-02-24T07:15:49.079Z"
   },
   {
    "duration": 664,
    "start_time": "2022-02-24T07:15:49.175Z"
   },
   {
    "duration": 168,
    "start_time": "2022-02-24T07:15:49.843Z"
   },
   {
    "duration": 466,
    "start_time": "2022-02-24T07:15:50.013Z"
   },
   {
    "duration": 288,
    "start_time": "2022-02-24T07:15:50.481Z"
   },
   {
    "duration": 11821,
    "start_time": "2022-02-24T07:15:50.771Z"
   },
   {
    "duration": 368,
    "start_time": "2022-02-24T07:16:02.594Z"
   },
   {
    "duration": 3,
    "start_time": "2022-02-24T07:16:02.964Z"
   },
   {
    "duration": 19,
    "start_time": "2022-02-24T07:16:02.970Z"
   },
   {
    "duration": 7,
    "start_time": "2022-02-24T07:16:02.991Z"
   },
   {
    "duration": 428,
    "start_time": "2022-02-24T07:16:03.000Z"
   },
   {
    "duration": 37,
    "start_time": "2022-02-24T07:16:03.435Z"
   },
   {
    "duration": 380,
    "start_time": "2022-02-24T07:16:03.474Z"
   },
   {
    "duration": 10,
    "start_time": "2022-02-24T07:16:38.262Z"
   },
   {
    "duration": 1523,
    "start_time": "2022-02-24T07:16:54.902Z"
   },
   {
    "duration": 34,
    "start_time": "2022-02-24T07:16:56.428Z"
   },
   {
    "duration": 12,
    "start_time": "2022-02-24T07:16:56.465Z"
   },
   {
    "duration": 36,
    "start_time": "2022-02-24T07:16:56.480Z"
   },
   {
    "duration": 5,
    "start_time": "2022-02-24T07:16:56.519Z"
   },
   {
    "duration": 29,
    "start_time": "2022-02-24T07:16:56.526Z"
   },
   {
    "duration": 23,
    "start_time": "2022-02-24T07:16:56.560Z"
   },
   {
    "duration": 30,
    "start_time": "2022-02-24T07:16:56.589Z"
   },
   {
    "duration": 9,
    "start_time": "2022-02-24T07:16:56.621Z"
   },
   {
    "duration": 48,
    "start_time": "2022-02-24T07:16:56.632Z"
   },
   {
    "duration": 9,
    "start_time": "2022-02-24T07:16:56.682Z"
   },
   {
    "duration": 11,
    "start_time": "2022-02-24T07:16:56.694Z"
   },
   {
    "duration": 425,
    "start_time": "2022-02-24T07:22:56.175Z"
   },
   {
    "duration": 420,
    "start_time": "2022-02-24T07:23:53.125Z"
   },
   {
    "duration": 1237,
    "start_time": "2022-02-24T07:24:14.836Z"
   },
   {
    "duration": 6,
    "start_time": "2022-02-24T07:32:49.939Z"
   },
   {
    "duration": 6,
    "start_time": "2022-02-24T07:34:06.130Z"
   },
   {
    "duration": 6,
    "start_time": "2022-02-24T07:35:06.481Z"
   },
   {
    "duration": 10,
    "start_time": "2022-02-24T07:35:07.457Z"
   },
   {
    "duration": 1071,
    "start_time": "2022-02-24T07:35:08.841Z"
   },
   {
    "duration": 5,
    "start_time": "2022-02-24T07:35:58.816Z"
   },
   {
    "duration": 12,
    "start_time": "2022-02-24T07:36:14.680Z"
   },
   {
    "duration": 695,
    "start_time": "2022-02-24T07:47:02.327Z"
   },
   {
    "duration": 391,
    "start_time": "2022-02-24T07:48:15.219Z"
   },
   {
    "duration": 453,
    "start_time": "2022-02-24T07:48:20.258Z"
   },
   {
    "duration": 4,
    "start_time": "2022-02-24T07:50:06.911Z"
   },
   {
    "duration": 45,
    "start_time": "2022-02-24T07:50:08.158Z"
   },
   {
    "duration": 7,
    "start_time": "2022-02-24T07:50:37.943Z"
   },
   {
    "duration": 14,
    "start_time": "2022-02-24T07:50:51.702Z"
   },
   {
    "duration": 13,
    "start_time": "2022-02-24T07:50:53.078Z"
   },
   {
    "duration": 33,
    "start_time": "2022-02-24T07:51:37.029Z"
   },
   {
    "duration": 7,
    "start_time": "2022-02-24T08:06:01.082Z"
   },
   {
    "duration": 596,
    "start_time": "2022-02-24T08:06:02.716Z"
   },
   {
    "duration": 50,
    "start_time": "2022-02-24T08:06:04.558Z"
   },
   {
    "duration": 667,
    "start_time": "2022-02-24T08:06:06.357Z"
   },
   {
    "duration": 7,
    "start_time": "2022-02-24T08:06:38.750Z"
   },
   {
    "duration": 7,
    "start_time": "2022-02-24T08:06:46.141Z"
   },
   {
    "duration": 411,
    "start_time": "2022-02-24T08:06:48.836Z"
   },
   {
    "duration": 8418,
    "start_time": "2022-02-24T08:06:54.943Z"
   },
   {
    "duration": 367,
    "start_time": "2022-02-24T08:07:03.364Z"
   },
   {
    "duration": 420,
    "start_time": "2022-02-24T08:07:03.734Z"
   },
   {
    "duration": 8,
    "start_time": "2022-02-24T08:08:52.137Z"
   },
   {
    "duration": 650,
    "start_time": "2022-02-24T08:08:54.848Z"
   },
   {
    "duration": 53,
    "start_time": "2022-02-24T08:08:56.111Z"
   },
   {
    "duration": 409,
    "start_time": "2022-02-24T08:08:58.783Z"
   },
   {
    "duration": 7,
    "start_time": "2022-02-24T08:09:13.975Z"
   },
   {
    "duration": 405,
    "start_time": "2022-02-24T08:09:16.158Z"
   },
   {
    "duration": 6,
    "start_time": "2022-02-24T08:13:07.753Z"
   },
   {
    "duration": 611,
    "start_time": "2022-02-24T08:17:31.760Z"
   },
   {
    "duration": 49,
    "start_time": "2022-02-24T08:17:35.576Z"
   },
   {
    "duration": 420,
    "start_time": "2022-02-24T08:17:43.425Z"
   },
   {
    "duration": 8374,
    "start_time": "2022-02-24T08:20:15.011Z"
   },
   {
    "duration": 374,
    "start_time": "2022-02-24T08:20:34.931Z"
   },
   {
    "duration": 431,
    "start_time": "2022-02-24T08:20:36.995Z"
   },
   {
    "duration": 224,
    "start_time": "2022-02-24T08:21:46.241Z"
   },
   {
    "duration": 7,
    "start_time": "2022-02-24T08:21:48.257Z"
   },
   {
    "duration": 549,
    "start_time": "2022-02-24T08:21:59.721Z"
   },
   {
    "duration": 12,
    "start_time": "2022-02-24T08:22:01.920Z"
   },
   {
    "duration": 14,
    "start_time": "2022-02-24T08:22:31.315Z"
   },
   {
    "duration": 7,
    "start_time": "2022-02-24T08:39:44.458Z"
   },
   {
    "duration": 627,
    "start_time": "2022-02-24T08:39:47.425Z"
   },
   {
    "duration": 7,
    "start_time": "2022-02-24T08:44:21.657Z"
   },
   {
    "duration": 553,
    "start_time": "2022-02-24T08:44:24.602Z"
   },
   {
    "duration": 7,
    "start_time": "2022-02-24T08:44:31.367Z"
   },
   {
    "duration": 590,
    "start_time": "2022-02-24T08:44:36.455Z"
   },
   {
    "duration": 50,
    "start_time": "2022-02-24T08:44:37.650Z"
   },
   {
    "duration": 413,
    "start_time": "2022-02-24T08:44:39.066Z"
   },
   {
    "duration": 9234,
    "start_time": "2022-02-24T08:44:49.378Z"
   },
   {
    "duration": 440,
    "start_time": "2022-02-24T08:44:58.615Z"
   },
   {
    "duration": 443,
    "start_time": "2022-02-24T08:44:59.058Z"
   },
   {
    "duration": 177,
    "start_time": "2022-02-24T08:45:11.699Z"
   },
   {
    "duration": 602,
    "start_time": "2022-02-24T08:45:13.562Z"
   },
   {
    "duration": 13,
    "start_time": "2022-02-24T08:49:05.690Z"
   },
   {
    "duration": 245,
    "start_time": "2022-02-24T08:49:36.826Z"
   },
   {
    "duration": 228,
    "start_time": "2022-02-24T08:49:46.721Z"
   },
   {
    "duration": 398,
    "start_time": "2022-02-24T08:50:25.536Z"
   },
   {
    "duration": 396,
    "start_time": "2022-02-24T08:50:31.385Z"
   },
   {
    "duration": 681,
    "start_time": "2022-02-24T08:51:03.750Z"
   },
   {
    "duration": 338,
    "start_time": "2022-02-24T08:51:14.407Z"
   },
   {
    "duration": 346,
    "start_time": "2022-02-24T08:51:21.638Z"
   },
   {
    "duration": 342,
    "start_time": "2022-02-24T08:51:31.847Z"
   },
   {
    "duration": 340,
    "start_time": "2022-02-24T08:51:40.247Z"
   },
   {
    "duration": 365,
    "start_time": "2022-02-24T08:51:45.365Z"
   },
   {
    "duration": 399,
    "start_time": "2022-02-24T08:51:52.958Z"
   },
   {
    "duration": 335,
    "start_time": "2022-02-24T08:51:58.575Z"
   },
   {
    "duration": 336,
    "start_time": "2022-02-24T08:52:09.853Z"
   },
   {
    "duration": 343,
    "start_time": "2022-02-24T08:52:22.086Z"
   },
   {
    "duration": 604,
    "start_time": "2022-02-24T09:29:09.821Z"
   },
   {
    "duration": 52,
    "start_time": "2022-02-24T09:29:48.851Z"
   },
   {
    "duration": 201,
    "start_time": "2022-02-24T09:33:29.565Z"
   },
   {
    "duration": 536,
    "start_time": "2022-02-24T09:33:31.597Z"
   },
   {
    "duration": 6,
    "start_time": "2022-02-24T09:45:56.441Z"
   },
   {
    "duration": 16,
    "start_time": "2022-02-24T09:45:57.560Z"
   },
   {
    "duration": 798,
    "start_time": "2022-02-24T09:46:34.991Z"
   },
   {
    "duration": 56,
    "start_time": "2022-02-24T09:46:39.743Z"
   },
   {
    "duration": 510,
    "start_time": "2022-02-24T09:46:44.486Z"
   },
   {
    "duration": 11874,
    "start_time": "2022-02-24T09:51:28.567Z"
   },
   {
    "duration": 273,
    "start_time": "2022-02-24T09:51:40.443Z"
   },
   {
    "duration": 434,
    "start_time": "2022-02-24T09:51:40.720Z"
   },
   {
    "duration": 155,
    "start_time": "2022-02-24T09:56:24.614Z"
   },
   {
    "duration": 572,
    "start_time": "2022-02-24T09:56:28.334Z"
   },
   {
    "duration": 6,
    "start_time": "2022-02-24T10:40:35.818Z"
   },
   {
    "duration": 16,
    "start_time": "2022-02-24T10:40:37.578Z"
   },
   {
    "duration": 208,
    "start_time": "2022-02-24T11:00:54.575Z"
   },
   {
    "duration": 31,
    "start_time": "2022-02-24T11:00:59.302Z"
   },
   {
    "duration": 437,
    "start_time": "2022-02-24T11:01:03.263Z"
   },
   {
    "duration": 194,
    "start_time": "2022-02-24T11:01:14.782Z"
   },
   {
    "duration": 563,
    "start_time": "2022-02-24T11:01:16.179Z"
   },
   {
    "duration": 156,
    "start_time": "2022-02-24T11:01:24.766Z"
   },
   {
    "duration": 527,
    "start_time": "2022-02-24T11:01:29.718Z"
   },
   {
    "duration": 325,
    "start_time": "2022-02-24T11:01:36.357Z"
   },
   {
    "duration": 11974,
    "start_time": "2022-02-24T11:01:42.446Z"
   },
   {
    "duration": 358,
    "start_time": "2022-02-24T11:01:56.965Z"
   },
   {
    "duration": 4412,
    "start_time": "2022-02-24T11:02:06.149Z"
   },
   {
    "duration": 150,
    "start_time": "2022-02-24T11:02:10.564Z"
   },
   {
    "duration": 408,
    "start_time": "2022-02-24T11:02:10.717Z"
   },
   {
    "duration": 4,
    "start_time": "2022-02-24T11:02:58.507Z"
   },
   {
    "duration": 16,
    "start_time": "2022-02-24T11:04:46.809Z"
   },
   {
    "duration": 8,
    "start_time": "2022-02-24T11:04:48.472Z"
   },
   {
    "duration": 562,
    "start_time": "2022-02-24T11:04:57.205Z"
   },
   {
    "duration": 23,
    "start_time": "2022-02-24T11:05:12.599Z"
   },
   {
    "duration": 416,
    "start_time": "2022-02-24T11:05:17.688Z"
   },
   {
    "duration": 141,
    "start_time": "2022-02-24T11:48:58.097Z"
   },
   {
    "duration": 23,
    "start_time": "2022-02-24T11:49:02.769Z"
   },
   {
    "duration": 147,
    "start_time": "2022-02-24T11:49:37.960Z"
   },
   {
    "duration": 25,
    "start_time": "2022-02-24T11:49:40.799Z"
   },
   {
    "duration": 1627,
    "start_time": "2022-02-24T11:50:03.788Z"
   },
   {
    "duration": 39,
    "start_time": "2022-02-24T11:50:05.418Z"
   },
   {
    "duration": 12,
    "start_time": "2022-02-24T11:50:05.460Z"
   },
   {
    "duration": 50,
    "start_time": "2022-02-24T11:50:05.475Z"
   },
   {
    "duration": 7,
    "start_time": "2022-02-24T11:50:05.528Z"
   },
   {
    "duration": 10,
    "start_time": "2022-02-24T11:50:05.538Z"
   },
   {
    "duration": 39,
    "start_time": "2022-02-24T11:50:05.550Z"
   },
   {
    "duration": 20,
    "start_time": "2022-02-24T11:50:05.592Z"
   },
   {
    "duration": 10,
    "start_time": "2022-02-24T11:50:05.618Z"
   },
   {
    "duration": 39,
    "start_time": "2022-02-24T11:50:05.661Z"
   },
   {
    "duration": 10,
    "start_time": "2022-02-24T11:50:05.702Z"
   },
   {
    "duration": 11,
    "start_time": "2022-02-24T11:50:05.714Z"
   },
   {
    "duration": 443,
    "start_time": "2022-02-24T11:50:05.762Z"
   },
   {
    "duration": 1331,
    "start_time": "2022-02-24T11:50:06.207Z"
   },
   {
    "duration": 6,
    "start_time": "2022-02-24T11:50:07.541Z"
   },
   {
    "duration": 6,
    "start_time": "2022-02-24T11:50:07.561Z"
   },
   {
    "duration": 10,
    "start_time": "2022-02-24T11:50:07.570Z"
   },
   {
    "duration": 482,
    "start_time": "2022-02-24T11:50:07.583Z"
   },
   {
    "duration": 4,
    "start_time": "2022-02-24T11:50:08.068Z"
   },
   {
    "duration": 49,
    "start_time": "2022-02-24T11:50:08.074Z"
   },
   {
    "duration": 7,
    "start_time": "2022-02-24T11:50:08.126Z"
   },
   {
    "duration": 35,
    "start_time": "2022-02-24T11:50:08.136Z"
   },
   {
    "duration": 10,
    "start_time": "2022-02-24T11:50:08.174Z"
   },
   {
    "duration": 30,
    "start_time": "2022-02-24T11:50:08.187Z"
   },
   {
    "duration": 6,
    "start_time": "2022-02-24T11:50:08.219Z"
   },
   {
    "duration": 636,
    "start_time": "2022-02-24T11:50:08.262Z"
   },
   {
    "duration": 74,
    "start_time": "2022-02-24T11:50:08.906Z"
   },
   {
    "duration": 431,
    "start_time": "2022-02-24T11:50:08.985Z"
   },
   {
    "duration": 8509,
    "start_time": "2022-02-24T11:50:09.419Z"
   },
   {
    "duration": 396,
    "start_time": "2022-02-24T11:50:17.930Z"
   },
   {
    "duration": 448,
    "start_time": "2022-02-24T11:50:18.329Z"
   },
   {
    "duration": 190,
    "start_time": "2022-02-24T11:50:18.779Z"
   },
   {
    "duration": 594,
    "start_time": "2022-02-24T11:50:18.972Z"
   },
   {
    "duration": 12,
    "start_time": "2022-02-24T11:50:19.568Z"
   },
   {
    "duration": 385,
    "start_time": "2022-02-24T11:50:19.583Z"
   },
   {
    "duration": 193,
    "start_time": "2022-02-24T11:50:19.970Z"
   },
   {
    "duration": 744,
    "start_time": "2022-02-24T11:50:20.165Z"
   },
   {
    "duration": 8,
    "start_time": "2022-02-24T11:50:20.912Z"
   },
   {
    "duration": 42,
    "start_time": "2022-02-24T11:50:20.923Z"
   },
   {
    "duration": 836,
    "start_time": "2022-02-24T11:50:20.967Z"
   },
   {
    "duration": 72,
    "start_time": "2022-02-24T11:50:21.806Z"
   },
   {
    "duration": 413,
    "start_time": "2022-02-24T11:50:21.880Z"
   },
   {
    "duration": 11998,
    "start_time": "2022-02-24T11:50:22.296Z"
   },
   {
    "duration": 252,
    "start_time": "2022-02-24T11:50:34.296Z"
   },
   {
    "duration": 419,
    "start_time": "2022-02-24T11:50:34.551Z"
   },
   {
    "duration": 197,
    "start_time": "2022-02-24T11:50:34.972Z"
   },
   {
    "duration": 593,
    "start_time": "2022-02-24T11:50:35.172Z"
   },
   {
    "duration": 6,
    "start_time": "2022-02-24T11:50:35.768Z"
   },
   {
    "duration": 24,
    "start_time": "2022-02-24T11:50:35.777Z"
   },
   {
    "duration": 248,
    "start_time": "2022-02-24T11:50:35.803Z"
   },
   {
    "duration": 30,
    "start_time": "2022-02-24T11:50:36.061Z"
   },
   {
    "duration": 439,
    "start_time": "2022-02-24T11:50:36.094Z"
   },
   {
    "duration": 4797,
    "start_time": "2022-02-24T11:50:36.536Z"
   },
   {
    "duration": 155,
    "start_time": "2022-02-24T11:50:41.336Z"
   },
   {
    "duration": 470,
    "start_time": "2022-02-24T11:50:41.494Z"
   },
   {
    "duration": 201,
    "start_time": "2022-02-24T11:50:41.966Z"
   },
   {
    "duration": 580,
    "start_time": "2022-02-24T11:50:42.170Z"
   },
   {
    "duration": 583,
    "start_time": "2022-02-24T11:50:42.753Z"
   },
   {
    "duration": -2632,
    "start_time": "2022-02-24T11:50:45.970Z"
   },
   {
    "duration": -2633,
    "start_time": "2022-02-24T11:50:45.973Z"
   },
   {
    "duration": -2633,
    "start_time": "2022-02-24T11:50:45.975Z"
   },
   {
    "duration": -2771,
    "start_time": "2022-02-24T11:50:46.114Z"
   },
   {
    "duration": -2772,
    "start_time": "2022-02-24T11:50:46.117Z"
   },
   {
    "duration": -2772,
    "start_time": "2022-02-24T11:50:46.119Z"
   },
   {
    "duration": -2981,
    "start_time": "2022-02-24T11:50:46.329Z"
   },
   {
    "duration": -2982,
    "start_time": "2022-02-24T11:50:46.332Z"
   },
   {
    "duration": -2982,
    "start_time": "2022-02-24T11:50:46.334Z"
   },
   {
    "duration": -2983,
    "start_time": "2022-02-24T11:50:46.336Z"
   },
   {
    "duration": -2984,
    "start_time": "2022-02-24T11:50:46.339Z"
   },
   {
    "duration": 186,
    "start_time": "2022-02-24T11:51:07.437Z"
   },
   {
    "duration": 22,
    "start_time": "2022-02-24T11:51:08.813Z"
   },
   {
    "duration": 417,
    "start_time": "2022-02-24T11:51:21.621Z"
   },
   {
    "duration": 445,
    "start_time": "2022-02-24T11:51:55.996Z"
   },
   {
    "duration": 25,
    "start_time": "2022-02-24T11:51:58.051Z"
   },
   {
    "duration": 424,
    "start_time": "2022-02-24T11:51:59.812Z"
   },
   {
    "duration": 323,
    "start_time": "2022-02-24T11:52:21.027Z"
   },
   {
    "duration": 23,
    "start_time": "2022-02-24T11:52:32.706Z"
   },
   {
    "duration": 542,
    "start_time": "2022-02-24T11:52:44.722Z"
   },
   {
    "duration": 12065,
    "start_time": "2022-02-24T11:53:02.210Z"
   },
   {
    "duration": 346,
    "start_time": "2022-02-24T11:53:20.481Z"
   },
   {
    "duration": 411,
    "start_time": "2022-02-24T11:53:36.673Z"
   },
   {
    "duration": 12433,
    "start_time": "2022-02-24T12:08:43.664Z"
   },
   {
    "duration": 363,
    "start_time": "2022-02-24T12:08:56.099Z"
   },
   {
    "duration": 22,
    "start_time": "2022-02-24T12:09:12.894Z"
   },
   {
    "duration": 415,
    "start_time": "2022-02-24T12:09:17.662Z"
   },
   {
    "duration": 107,
    "start_time": "2022-02-24T12:13:59.375Z"
   },
   {
    "duration": 558,
    "start_time": "2022-02-24T12:18:12.384Z"
   },
   {
    "duration": 20,
    "start_time": "2022-02-24T12:18:14.912Z"
   },
   {
    "duration": 433,
    "start_time": "2022-02-24T12:18:17.599Z"
   },
   {
    "duration": 12044,
    "start_time": "2022-02-24T12:33:30.679Z"
   },
   {
    "duration": 376,
    "start_time": "2022-02-24T12:34:33.234Z"
   },
   {
    "duration": 29,
    "start_time": "2022-02-24T12:34:36.842Z"
   },
   {
    "duration": 469,
    "start_time": "2022-02-24T12:34:39.780Z"
   },
   {
    "duration": 20,
    "start_time": "2022-02-24T12:41:40.424Z"
   },
   {
    "duration": 10,
    "start_time": "2022-02-24T12:41:42.167Z"
   },
   {
    "duration": 613,
    "start_time": "2022-02-24T12:41:45.303Z"
   },
   {
    "duration": 405,
    "start_time": "2022-02-24T12:41:51.670Z"
   },
   {
    "duration": 24,
    "start_time": "2022-02-24T12:41:53.069Z"
   },
   {
    "duration": 434,
    "start_time": "2022-02-24T12:41:55.214Z"
   },
   {
    "duration": 1681,
    "start_time": "2022-02-24T12:43:17.151Z"
   },
   {
    "duration": 37,
    "start_time": "2022-02-24T12:43:18.834Z"
   },
   {
    "duration": 14,
    "start_time": "2022-02-24T12:43:18.874Z"
   },
   {
    "duration": 25,
    "start_time": "2022-02-24T12:43:18.891Z"
   },
   {
    "duration": 5,
    "start_time": "2022-02-24T12:43:18.919Z"
   },
   {
    "duration": 47,
    "start_time": "2022-02-24T12:43:18.926Z"
   },
   {
    "duration": 19,
    "start_time": "2022-02-24T12:43:18.976Z"
   },
   {
    "duration": 20,
    "start_time": "2022-02-24T12:43:18.997Z"
   },
   {
    "duration": 43,
    "start_time": "2022-02-24T12:43:19.021Z"
   },
   {
    "duration": 37,
    "start_time": "2022-02-24T12:43:19.068Z"
   },
   {
    "duration": 13,
    "start_time": "2022-02-24T12:43:19.109Z"
   },
   {
    "duration": 47,
    "start_time": "2022-02-24T12:43:19.125Z"
   },
   {
    "duration": 666,
    "start_time": "2022-02-24T12:43:19.175Z"
   },
   {
    "duration": 1460,
    "start_time": "2022-02-24T12:43:19.844Z"
   },
   {
    "duration": 7,
    "start_time": "2022-02-24T12:43:21.307Z"
   },
   {
    "duration": 14,
    "start_time": "2022-02-24T12:43:21.317Z"
   },
   {
    "duration": 38,
    "start_time": "2022-02-24T12:43:21.334Z"
   },
   {
    "duration": 398,
    "start_time": "2022-02-24T12:43:21.375Z"
   },
   {
    "duration": 4,
    "start_time": "2022-02-24T12:43:21.775Z"
   },
   {
    "duration": 48,
    "start_time": "2022-02-24T12:43:21.781Z"
   },
   {
    "duration": 32,
    "start_time": "2022-02-24T12:43:21.833Z"
   },
   {
    "duration": 16,
    "start_time": "2022-02-24T12:43:21.867Z"
   },
   {
    "duration": 24,
    "start_time": "2022-02-24T12:43:21.886Z"
   },
   {
    "duration": 51,
    "start_time": "2022-02-24T12:43:21.913Z"
   },
   {
    "duration": 8,
    "start_time": "2022-02-24T12:43:21.966Z"
   },
   {
    "duration": 645,
    "start_time": "2022-02-24T12:43:21.977Z"
   },
   {
    "duration": 73,
    "start_time": "2022-02-24T12:43:22.629Z"
   },
   {
    "duration": 451,
    "start_time": "2022-02-24T12:43:22.705Z"
   },
   {
    "duration": 9175,
    "start_time": "2022-02-24T12:43:23.161Z"
   },
   {
    "duration": 408,
    "start_time": "2022-02-24T12:43:32.338Z"
   },
   {
    "duration": 451,
    "start_time": "2022-02-24T12:43:32.749Z"
   },
   {
    "duration": 169,
    "start_time": "2022-02-24T12:43:33.203Z"
   },
   {
    "duration": 589,
    "start_time": "2022-02-24T12:43:33.375Z"
   },
   {
    "duration": 15,
    "start_time": "2022-02-24T12:43:33.967Z"
   },
   {
    "duration": 399,
    "start_time": "2022-02-24T12:43:33.985Z"
   },
   {
    "duration": 185,
    "start_time": "2022-02-24T12:43:34.387Z"
   },
   {
    "duration": 581,
    "start_time": "2022-02-24T12:43:34.575Z"
   },
   {
    "duration": 7,
    "start_time": "2022-02-24T12:43:35.162Z"
   },
   {
    "duration": 22,
    "start_time": "2022-02-24T12:43:35.172Z"
   },
   {
    "duration": 855,
    "start_time": "2022-02-24T12:43:35.197Z"
   },
   {
    "duration": 56,
    "start_time": "2022-02-24T12:43:36.062Z"
   },
   {
    "duration": 441,
    "start_time": "2022-02-24T12:43:36.120Z"
   },
   {
    "duration": 12967,
    "start_time": "2022-02-24T12:43:36.563Z"
   },
   {
    "duration": 276,
    "start_time": "2022-02-24T12:43:49.533Z"
   },
   {
    "duration": 440,
    "start_time": "2022-02-24T12:43:49.812Z"
   },
   {
    "duration": 207,
    "start_time": "2022-02-24T12:43:50.255Z"
   },
   {
    "duration": 728,
    "start_time": "2022-02-24T12:43:50.464Z"
   },
   {
    "duration": 6,
    "start_time": "2022-02-24T12:43:51.194Z"
   },
   {
    "duration": 19,
    "start_time": "2022-02-24T12:43:51.203Z"
   },
   {
    "duration": 261,
    "start_time": "2022-02-24T12:43:51.224Z"
   },
   {
    "duration": 32,
    "start_time": "2022-02-24T12:43:51.489Z"
   },
   {
    "duration": 479,
    "start_time": "2022-02-24T12:43:51.523Z"
   },
   {
    "duration": 4476,
    "start_time": "2022-02-24T12:43:52.004Z"
   },
   {
    "duration": 157,
    "start_time": "2022-02-24T12:43:56.482Z"
   },
   {
    "duration": 435,
    "start_time": "2022-02-24T12:43:56.642Z"
   },
   {
    "duration": 184,
    "start_time": "2022-02-24T12:43:57.079Z"
   },
   {
    "duration": 595,
    "start_time": "2022-02-24T12:43:57.266Z"
   },
   {
    "duration": 163,
    "start_time": "2022-02-24T12:43:57.863Z"
   },
   {
    "duration": 36,
    "start_time": "2022-02-24T12:43:58.028Z"
   },
   {
    "duration": 598,
    "start_time": "2022-02-24T12:43:58.067Z"
   },
   {
    "duration": 693,
    "start_time": "2022-02-24T12:43:58.668Z"
   },
   {
    "duration": 22,
    "start_time": "2022-02-24T12:43:59.364Z"
   },
   {
    "duration": 478,
    "start_time": "2022-02-24T12:43:59.389Z"
   },
   {
    "duration": 364,
    "start_time": "2022-02-24T12:43:59.870Z"
   },
   {
    "duration": 46,
    "start_time": "2022-02-24T12:44:00.237Z"
   },
   {
    "duration": 722,
    "start_time": "2022-02-24T12:44:00.286Z"
   },
   {
    "duration": 16228,
    "start_time": "2022-02-24T12:44:01.012Z"
   },
   {
    "duration": 370,
    "start_time": "2022-02-24T12:44:17.243Z"
   },
   {
    "duration": 21,
    "start_time": "2022-02-24T12:44:17.615Z"
   },
   {
    "duration": 435,
    "start_time": "2022-02-24T12:44:17.639Z"
   },
   {
    "duration": 15,
    "start_time": "2022-02-24T12:44:18.076Z"
   },
   {
    "duration": 6,
    "start_time": "2022-02-24T12:44:18.095Z"
   },
   {
    "duration": 447,
    "start_time": "2022-02-24T12:44:18.104Z"
   },
   {
    "duration": 29,
    "start_time": "2022-02-24T12:44:18.554Z"
   },
   {
    "duration": 455,
    "start_time": "2022-02-24T12:44:18.586Z"
   },
   {
    "duration": 18,
    "start_time": "2022-02-24T12:48:14.933Z"
   },
   {
    "duration": 280,
    "start_time": "2022-02-24T12:48:16.317Z"
   },
   {
    "duration": 35,
    "start_time": "2022-02-24T12:48:17.485Z"
   },
   {
    "duration": 402,
    "start_time": "2022-02-24T12:48:21.021Z"
   },
   {
    "duration": 5160,
    "start_time": "2022-02-24T12:48:26.789Z"
   },
   {
    "duration": 231,
    "start_time": "2022-02-24T12:48:32.933Z"
   },
   {
    "duration": 434,
    "start_time": "2022-02-24T12:48:35.214Z"
   },
   {
    "duration": 92,
    "start_time": "2022-02-24T12:48:38.381Z"
   },
   {
    "duration": 627,
    "start_time": "2022-02-24T12:48:44.156Z"
   },
   {
    "duration": 7,
    "start_time": "2022-02-24T12:52:39.783Z"
   },
   {
    "duration": 5310,
    "start_time": "2022-02-24T12:53:12.181Z"
   },
   {
    "duration": 4730,
    "start_time": "2022-02-24T12:53:32.726Z"
   },
   {
    "duration": 618,
    "start_time": "2022-02-24T12:54:02.356Z"
   },
   {
    "duration": 290,
    "start_time": "2022-02-24T12:55:35.961Z"
   },
   {
    "duration": -698,
    "start_time": "2022-02-24T12:55:52.328Z"
   },
   {
    "duration": 6554,
    "start_time": "2022-02-24T12:55:52.984Z"
   },
   {
    "duration": 4634,
    "start_time": "2022-02-24T12:56:01.617Z"
   },
   {
    "duration": 8,
    "start_time": "2022-02-24T12:56:13.264Z"
   },
   {
    "duration": 7,
    "start_time": "2022-02-24T12:56:24.047Z"
   },
   {
    "duration": 7,
    "start_time": "2022-02-24T12:56:36.223Z"
   },
   {
    "duration": 6,
    "start_time": "2022-02-24T12:56:49.399Z"
   },
   {
    "duration": 341,
    "start_time": "2022-02-24T12:58:19.556Z"
   },
   {
    "duration": 6,
    "start_time": "2022-02-24T12:58:24.420Z"
   },
   {
    "duration": 6,
    "start_time": "2022-02-24T12:58:37.124Z"
   },
   {
    "duration": 6,
    "start_time": "2022-02-24T12:58:45.060Z"
   },
   {
    "duration": 5,
    "start_time": "2022-02-24T12:58:49.972Z"
   },
   {
    "duration": 11,
    "start_time": "2022-02-24T12:59:17.524Z"
   },
   {
    "duration": 277,
    "start_time": "2022-02-24T12:59:18.107Z"
   },
   {
    "duration": 291,
    "start_time": "2022-02-24T12:59:37.931Z"
   },
   {
    "duration": 8,
    "start_time": "2022-02-24T13:00:21.905Z"
   },
   {
    "duration": 19,
    "start_time": "2022-02-24T13:01:21.983Z"
   },
   {
    "duration": 822,
    "start_time": "2022-02-24T13:01:30.032Z"
   },
   {
    "duration": 22,
    "start_time": "2022-02-24T13:01:33.450Z"
   },
   {
    "duration": 429,
    "start_time": "2022-02-24T13:01:36.439Z"
   },
   {
    "duration": 7,
    "start_time": "2022-02-24T13:07:35.717Z"
   },
   {
    "duration": 8,
    "start_time": "2022-02-24T13:08:09.307Z"
   },
   {
    "duration": 8,
    "start_time": "2022-02-24T13:08:10.828Z"
   },
   {
    "duration": 751,
    "start_time": "2022-02-24T13:08:11.699Z"
   },
   {
    "duration": 6,
    "start_time": "2022-02-24T13:08:25.107Z"
   },
   {
    "duration": 17,
    "start_time": "2022-02-24T13:08:42.827Z"
   },
   {
    "duration": 953,
    "start_time": "2022-02-24T13:08:45.939Z"
   },
   {
    "duration": 24,
    "start_time": "2022-02-24T13:08:47.771Z"
   },
   {
    "duration": 457,
    "start_time": "2022-02-24T13:08:50.676Z"
   },
   {
    "duration": 6,
    "start_time": "2022-02-24T13:08:57.250Z"
   },
   {
    "duration": 5,
    "start_time": "2022-02-24T13:09:10.130Z"
   },
   {
    "duration": 32,
    "start_time": "2022-02-24T13:09:15.546Z"
   },
   {
    "duration": 8,
    "start_time": "2022-02-24T13:09:17.146Z"
   },
   {
    "duration": 10,
    "start_time": "2022-02-24T13:09:19.362Z"
   },
   {
    "duration": 9,
    "start_time": "2022-02-24T13:09:20.153Z"
   },
   {
    "duration": 17,
    "start_time": "2022-02-24T13:09:21.018Z"
   },
   {
    "duration": 940,
    "start_time": "2022-02-24T13:09:21.649Z"
   },
   {
    "duration": 22,
    "start_time": "2022-02-24T13:09:23.625Z"
   },
   {
    "duration": 462,
    "start_time": "2022-02-24T13:09:25.841Z"
   },
   {
    "duration": 1653,
    "start_time": "2022-02-24T13:11:42.878Z"
   },
   {
    "duration": 41,
    "start_time": "2022-02-24T13:11:44.534Z"
   },
   {
    "duration": 12,
    "start_time": "2022-02-24T13:11:44.579Z"
   },
   {
    "duration": 30,
    "start_time": "2022-02-24T13:11:44.594Z"
   },
   {
    "duration": 47,
    "start_time": "2022-02-24T13:11:44.627Z"
   },
   {
    "duration": 12,
    "start_time": "2022-02-24T13:11:44.678Z"
   },
   {
    "duration": 22,
    "start_time": "2022-02-24T13:11:44.693Z"
   },
   {
    "duration": 42,
    "start_time": "2022-02-24T13:11:44.719Z"
   },
   {
    "duration": 15,
    "start_time": "2022-02-24T13:11:44.765Z"
   },
   {
    "duration": 38,
    "start_time": "2022-02-24T13:11:44.783Z"
   },
   {
    "duration": 45,
    "start_time": "2022-02-24T13:11:44.823Z"
   },
   {
    "duration": 15,
    "start_time": "2022-02-24T13:11:44.872Z"
   },
   {
    "duration": 467,
    "start_time": "2022-02-24T13:11:44.890Z"
   },
   {
    "duration": 1292,
    "start_time": "2022-02-24T13:11:45.362Z"
   },
   {
    "duration": 11,
    "start_time": "2022-02-24T13:11:46.660Z"
   },
   {
    "duration": 8,
    "start_time": "2022-02-24T13:11:46.675Z"
   },
   {
    "duration": 10,
    "start_time": "2022-02-24T13:11:46.685Z"
   },
   {
    "duration": 470,
    "start_time": "2022-02-24T13:11:46.697Z"
   },
   {
    "duration": 4,
    "start_time": "2022-02-24T13:11:47.171Z"
   },
   {
    "duration": 47,
    "start_time": "2022-02-24T13:11:47.178Z"
   },
   {
    "duration": 39,
    "start_time": "2022-02-24T13:11:47.228Z"
   },
   {
    "duration": 19,
    "start_time": "2022-02-24T13:11:47.270Z"
   },
   {
    "duration": 11,
    "start_time": "2022-02-24T13:11:47.297Z"
   },
   {
    "duration": 49,
    "start_time": "2022-02-24T13:11:47.312Z"
   },
   {
    "duration": 11,
    "start_time": "2022-02-24T13:11:47.365Z"
   },
   {
    "duration": 637,
    "start_time": "2022-02-24T13:11:47.379Z"
   },
   {
    "duration": 72,
    "start_time": "2022-02-24T13:11:48.018Z"
   },
   {
    "duration": 450,
    "start_time": "2022-02-24T13:11:48.092Z"
   },
   {
    "duration": 9067,
    "start_time": "2022-02-24T13:11:48.544Z"
   },
   {
    "duration": 375,
    "start_time": "2022-02-24T13:11:57.614Z"
   },
   {
    "duration": 434,
    "start_time": "2022-02-24T13:11:57.991Z"
   },
   {
    "duration": 234,
    "start_time": "2022-02-24T13:11:58.427Z"
   },
   {
    "duration": 618,
    "start_time": "2022-02-24T13:11:58.665Z"
   },
   {
    "duration": 15,
    "start_time": "2022-02-24T13:11:59.286Z"
   },
   {
    "duration": 388,
    "start_time": "2022-02-24T13:11:59.304Z"
   },
   {
    "duration": 168,
    "start_time": "2022-02-24T13:11:59.695Z"
   },
   {
    "duration": 614,
    "start_time": "2022-02-24T13:11:59.866Z"
   },
   {
    "duration": 8,
    "start_time": "2022-02-24T13:12:00.483Z"
   },
   {
    "duration": 33,
    "start_time": "2022-02-24T13:12:00.494Z"
   },
   {
    "duration": 869,
    "start_time": "2022-02-24T13:12:00.530Z"
   },
   {
    "duration": 68,
    "start_time": "2022-02-24T13:12:01.402Z"
   },
   {
    "duration": 447,
    "start_time": "2022-02-24T13:12:01.473Z"
   },
   {
    "duration": 12770,
    "start_time": "2022-02-24T13:12:01.923Z"
   },
   {
    "duration": 310,
    "start_time": "2022-02-24T13:12:14.695Z"
   },
   {
    "duration": 474,
    "start_time": "2022-02-24T13:12:15.008Z"
   },
   {
    "duration": 181,
    "start_time": "2022-02-24T13:12:15.485Z"
   },
   {
    "duration": 602,
    "start_time": "2022-02-24T13:12:15.670Z"
   },
   {
    "duration": 8,
    "start_time": "2022-02-24T13:12:16.275Z"
   },
   {
    "duration": 19,
    "start_time": "2022-02-24T13:12:16.286Z"
   },
   {
    "duration": 304,
    "start_time": "2022-02-24T13:12:16.308Z"
   },
   {
    "duration": 50,
    "start_time": "2022-02-24T13:12:16.615Z"
   },
   {
    "duration": 414,
    "start_time": "2022-02-24T13:12:16.668Z"
   },
   {
    "duration": 5479,
    "start_time": "2022-02-24T13:12:17.085Z"
   },
   {
    "duration": 278,
    "start_time": "2022-02-24T13:12:22.568Z"
   },
   {
    "duration": 472,
    "start_time": "2022-02-24T13:12:22.849Z"
   },
   {
    "duration": 141,
    "start_time": "2022-02-24T13:12:23.323Z"
   },
   {
    "duration": 614,
    "start_time": "2022-02-24T13:12:23.467Z"
   },
   {
    "duration": 166,
    "start_time": "2022-02-24T13:12:24.084Z"
   },
   {
    "duration": 35,
    "start_time": "2022-02-24T13:12:24.253Z"
   },
   {
    "duration": 457,
    "start_time": "2022-02-24T13:12:24.290Z"
   },
   {
    "duration": 498,
    "start_time": "2022-02-24T13:12:24.750Z"
   },
   {
    "duration": 34,
    "start_time": "2022-02-24T13:12:25.251Z"
   },
   {
    "duration": 478,
    "start_time": "2022-02-24T13:12:25.288Z"
   },
   {
    "duration": 305,
    "start_time": "2022-02-24T13:12:25.770Z"
   },
   {
    "duration": 21,
    "start_time": "2022-02-24T13:12:26.078Z"
   },
   {
    "duration": 588,
    "start_time": "2022-02-24T13:12:26.101Z"
   },
   {
    "duration": 12636,
    "start_time": "2022-02-24T13:12:26.691Z"
   },
   {
    "duration": 398,
    "start_time": "2022-02-24T13:12:39.334Z"
   },
   {
    "duration": 41,
    "start_time": "2022-02-24T13:12:39.735Z"
   },
   {
    "duration": 441,
    "start_time": "2022-02-24T13:12:39.779Z"
   },
   {
    "duration": 15,
    "start_time": "2022-02-24T13:12:40.222Z"
   },
   {
    "duration": 30,
    "start_time": "2022-02-24T13:12:40.240Z"
   },
   {
    "duration": 21,
    "start_time": "2022-02-24T13:12:40.274Z"
   },
   {
    "duration": 33,
    "start_time": "2022-02-24T13:12:40.297Z"
   },
   {
    "duration": 460,
    "start_time": "2022-02-24T13:12:40.333Z"
   },
   {
    "duration": 24,
    "start_time": "2022-02-24T13:12:40.797Z"
   },
   {
    "duration": 474,
    "start_time": "2022-02-24T13:12:40.824Z"
   },
   {
    "duration": 1758,
    "start_time": "2022-02-24T13:21:30.557Z"
   },
   {
    "duration": 33,
    "start_time": "2022-02-24T13:21:32.318Z"
   },
   {
    "duration": 20,
    "start_time": "2022-02-24T13:21:32.354Z"
   },
   {
    "duration": 30,
    "start_time": "2022-02-24T13:21:32.378Z"
   },
   {
    "duration": 4,
    "start_time": "2022-02-24T13:21:32.411Z"
   },
   {
    "duration": 10,
    "start_time": "2022-02-24T13:21:32.418Z"
   },
   {
    "duration": 23,
    "start_time": "2022-02-24T13:21:32.467Z"
   },
   {
    "duration": 20,
    "start_time": "2022-02-24T13:21:32.494Z"
   },
   {
    "duration": 10,
    "start_time": "2022-02-24T13:21:32.517Z"
   },
   {
    "duration": 69,
    "start_time": "2022-02-24T13:21:32.529Z"
   },
   {
    "duration": 11,
    "start_time": "2022-02-24T13:21:32.601Z"
   },
   {
    "duration": 50,
    "start_time": "2022-02-24T13:21:32.614Z"
   },
   {
    "duration": 476,
    "start_time": "2022-02-24T13:21:32.667Z"
   },
   {
    "duration": 1598,
    "start_time": "2022-02-24T13:21:33.146Z"
   },
   {
    "duration": 17,
    "start_time": "2022-02-24T13:21:34.746Z"
   },
   {
    "duration": 8,
    "start_time": "2022-02-24T13:21:34.766Z"
   },
   {
    "duration": 16,
    "start_time": "2022-02-24T13:21:34.780Z"
   },
   {
    "duration": 496,
    "start_time": "2022-02-24T13:21:34.799Z"
   },
   {
    "duration": 3,
    "start_time": "2022-02-24T13:21:35.298Z"
   },
   {
    "duration": 72,
    "start_time": "2022-02-24T13:21:35.304Z"
   },
   {
    "duration": 8,
    "start_time": "2022-02-24T13:21:35.380Z"
   },
   {
    "duration": 14,
    "start_time": "2022-02-24T13:21:35.391Z"
   },
   {
    "duration": 50,
    "start_time": "2022-02-24T13:21:35.411Z"
   },
   {
    "duration": 34,
    "start_time": "2022-02-24T13:21:35.468Z"
   },
   {
    "duration": 7,
    "start_time": "2022-02-24T13:21:35.505Z"
   },
   {
    "duration": 771,
    "start_time": "2022-02-24T13:21:35.515Z"
   },
   {
    "duration": 76,
    "start_time": "2022-02-24T13:21:36.289Z"
   },
   {
    "duration": 474,
    "start_time": "2022-02-24T13:21:36.368Z"
   },
   {
    "duration": 9975,
    "start_time": "2022-02-24T13:21:36.844Z"
   },
   {
    "duration": 406,
    "start_time": "2022-02-24T13:21:46.821Z"
   },
   {
    "duration": 488,
    "start_time": "2022-02-24T13:21:47.230Z"
   },
   {
    "duration": 149,
    "start_time": "2022-02-24T13:21:47.721Z"
   },
   {
    "duration": 651,
    "start_time": "2022-02-24T13:21:47.874Z"
   },
   {
    "duration": 12,
    "start_time": "2022-02-24T13:21:48.527Z"
   },
   {
    "duration": 446,
    "start_time": "2022-02-24T13:21:48.542Z"
   },
   {
    "duration": 174,
    "start_time": "2022-02-24T13:21:48.991Z"
   },
   {
    "duration": 610,
    "start_time": "2022-02-24T13:21:49.168Z"
   },
   {
    "duration": 7,
    "start_time": "2022-02-24T13:21:49.781Z"
   },
   {
    "duration": 21,
    "start_time": "2022-02-24T13:21:49.790Z"
   },
   {
    "duration": 906,
    "start_time": "2022-02-24T13:21:49.813Z"
   },
   {
    "duration": 72,
    "start_time": "2022-02-24T13:21:50.722Z"
   },
   {
    "duration": 468,
    "start_time": "2022-02-24T13:21:50.797Z"
   },
   {
    "duration": 12951,
    "start_time": "2022-02-24T13:21:51.269Z"
   },
   {
    "duration": 287,
    "start_time": "2022-02-24T13:22:04.222Z"
   },
   {
    "duration": 463,
    "start_time": "2022-02-24T13:22:04.511Z"
   },
   {
    "duration": 188,
    "start_time": "2022-02-24T13:22:04.977Z"
   },
   {
    "duration": 626,
    "start_time": "2022-02-24T13:22:05.168Z"
   },
   {
    "duration": 5,
    "start_time": "2022-02-24T13:22:05.797Z"
   },
   {
    "duration": 23,
    "start_time": "2022-02-24T13:22:05.805Z"
   },
   {
    "duration": 332,
    "start_time": "2022-02-24T13:22:05.831Z"
   },
   {
    "duration": 37,
    "start_time": "2022-02-24T13:22:06.166Z"
   },
   {
    "duration": 475,
    "start_time": "2022-02-24T13:22:06.205Z"
   },
   {
    "duration": 5661,
    "start_time": "2022-02-24T13:22:06.682Z"
   },
   {
    "duration": 356,
    "start_time": "2022-02-24T13:22:12.346Z"
   },
   {
    "duration": 485,
    "start_time": "2022-02-24T13:22:12.705Z"
   },
   {
    "duration": 172,
    "start_time": "2022-02-24T13:22:13.193Z"
   },
   {
    "duration": 606,
    "start_time": "2022-02-24T13:22:13.372Z"
   },
   {
    "duration": 177,
    "start_time": "2022-02-24T13:22:13.982Z"
   },
   {
    "duration": 27,
    "start_time": "2022-02-24T13:22:14.163Z"
   },
   {
    "duration": 469,
    "start_time": "2022-02-24T13:22:14.192Z"
   },
   {
    "duration": 560,
    "start_time": "2022-02-24T13:22:14.666Z"
   },
   {
    "duration": 40,
    "start_time": "2022-02-24T13:22:15.229Z"
   },
   {
    "duration": 476,
    "start_time": "2022-02-24T13:22:15.271Z"
   },
   {
    "duration": 332,
    "start_time": "2022-02-24T13:22:15.750Z"
   },
   {
    "duration": 21,
    "start_time": "2022-02-24T13:22:16.085Z"
   },
   {
    "duration": 588,
    "start_time": "2022-02-24T13:22:16.108Z"
   },
   {
    "duration": 13740,
    "start_time": "2022-02-24T13:22:16.699Z"
   },
   {
    "duration": 385,
    "start_time": "2022-02-24T13:22:30.461Z"
   },
   {
    "duration": 37,
    "start_time": "2022-02-24T13:22:30.849Z"
   },
   {
    "duration": 485,
    "start_time": "2022-02-24T13:22:30.889Z"
   },
   {
    "duration": 16,
    "start_time": "2022-02-24T13:22:31.377Z"
   },
   {
    "duration": 9,
    "start_time": "2022-02-24T13:22:31.395Z"
   },
   {
    "duration": 25,
    "start_time": "2022-02-24T13:22:31.406Z"
   },
   {
    "duration": 23,
    "start_time": "2022-02-24T13:22:31.463Z"
   },
   {
    "duration": 467,
    "start_time": "2022-02-24T13:22:31.489Z"
   },
   {
    "duration": 28,
    "start_time": "2022-02-24T13:22:31.962Z"
   },
   {
    "duration": 463,
    "start_time": "2022-02-24T13:22:31.993Z"
   },
   {
    "duration": 8,
    "start_time": "2022-02-24T13:22:41.922Z"
   },
   {
    "duration": 8,
    "start_time": "2022-02-24T13:22:42.876Z"
   },
   {
    "duration": 24,
    "start_time": "2022-02-24T13:22:44.754Z"
   },
   {
    "duration": 491,
    "start_time": "2022-02-24T13:22:45.794Z"
   },
   {
    "duration": 22,
    "start_time": "2022-02-24T13:22:47.074Z"
   },
   {
    "duration": 440,
    "start_time": "2022-02-24T13:22:48.482Z"
   },
   {
    "duration": 31,
    "start_time": "2022-02-24T13:22:56.762Z"
   },
   {
    "duration": 8,
    "start_time": "2022-02-24T13:22:58.017Z"
   },
   {
    "duration": 8,
    "start_time": "2022-02-24T13:22:59.177Z"
   },
   {
    "duration": 9,
    "start_time": "2022-02-24T13:22:59.905Z"
   },
   {
    "duration": 17,
    "start_time": "2022-02-24T13:23:00.673Z"
   },
   {
    "duration": 472,
    "start_time": "2022-02-24T13:23:01.337Z"
   },
   {
    "duration": 23,
    "start_time": "2022-02-24T13:23:02.721Z"
   },
   {
    "duration": 443,
    "start_time": "2022-02-24T13:23:04.362Z"
   },
   {
    "duration": 1714,
    "start_time": "2022-02-24T13:23:09.521Z"
   },
   {
    "duration": 42,
    "start_time": "2022-02-24T13:23:11.238Z"
   },
   {
    "duration": 13,
    "start_time": "2022-02-24T13:23:11.283Z"
   },
   {
    "duration": 25,
    "start_time": "2022-02-24T13:23:11.298Z"
   },
   {
    "duration": 6,
    "start_time": "2022-02-24T13:23:11.325Z"
   },
   {
    "duration": 11,
    "start_time": "2022-02-24T13:23:11.362Z"
   },
   {
    "duration": 30,
    "start_time": "2022-02-24T13:23:11.376Z"
   },
   {
    "duration": 23,
    "start_time": "2022-02-24T13:23:11.409Z"
   },
   {
    "duration": 31,
    "start_time": "2022-02-24T13:23:11.436Z"
   },
   {
    "duration": 48,
    "start_time": "2022-02-24T13:23:11.472Z"
   },
   {
    "duration": 9,
    "start_time": "2022-02-24T13:23:11.522Z"
   },
   {
    "duration": 39,
    "start_time": "2022-02-24T13:23:11.533Z"
   },
   {
    "duration": 510,
    "start_time": "2022-02-24T13:23:11.576Z"
   },
   {
    "duration": 1398,
    "start_time": "2022-02-24T13:23:12.089Z"
   },
   {
    "duration": 6,
    "start_time": "2022-02-24T13:23:13.490Z"
   },
   {
    "duration": 9,
    "start_time": "2022-02-24T13:23:13.498Z"
   },
   {
    "duration": 10,
    "start_time": "2022-02-24T13:23:13.510Z"
   },
   {
    "duration": 462,
    "start_time": "2022-02-24T13:23:13.523Z"
   },
   {
    "duration": 3,
    "start_time": "2022-02-24T13:23:13.988Z"
   },
   {
    "duration": 59,
    "start_time": "2022-02-24T13:23:13.993Z"
   },
   {
    "duration": 15,
    "start_time": "2022-02-24T13:23:14.055Z"
   },
   {
    "duration": 29,
    "start_time": "2022-02-24T13:23:14.074Z"
   },
   {
    "duration": 24,
    "start_time": "2022-02-24T13:23:14.105Z"
   },
   {
    "duration": 46,
    "start_time": "2022-02-24T13:23:14.132Z"
   },
   {
    "duration": 7,
    "start_time": "2022-02-24T13:23:14.181Z"
   },
   {
    "duration": 703,
    "start_time": "2022-02-24T13:23:14.190Z"
   },
   {
    "duration": 62,
    "start_time": "2022-02-24T13:23:14.901Z"
   },
   {
    "duration": 472,
    "start_time": "2022-02-24T13:23:14.969Z"
   },
   {
    "duration": 9088,
    "start_time": "2022-02-24T13:23:15.444Z"
   },
   {
    "duration": 385,
    "start_time": "2022-02-24T13:23:24.534Z"
   },
   {
    "duration": 454,
    "start_time": "2022-02-24T13:23:24.921Z"
   },
   {
    "duration": 197,
    "start_time": "2022-02-24T13:23:25.379Z"
   },
   {
    "duration": 621,
    "start_time": "2022-02-24T13:23:25.578Z"
   },
   {
    "duration": 12,
    "start_time": "2022-02-24T13:23:26.202Z"
   },
   {
    "duration": 407,
    "start_time": "2022-02-24T13:23:26.217Z"
   },
   {
    "duration": 235,
    "start_time": "2022-02-24T13:23:26.628Z"
   },
   {
    "duration": 609,
    "start_time": "2022-02-24T13:23:26.866Z"
   },
   {
    "duration": 5,
    "start_time": "2022-02-24T13:23:27.478Z"
   },
   {
    "duration": 19,
    "start_time": "2022-02-24T13:23:27.485Z"
   },
   {
    "duration": 864,
    "start_time": "2022-02-24T13:23:27.506Z"
   },
   {
    "duration": 56,
    "start_time": "2022-02-24T13:23:28.374Z"
   },
   {
    "duration": 565,
    "start_time": "2022-02-24T13:23:28.432Z"
   },
   {
    "duration": 13216,
    "start_time": "2022-02-24T13:23:28.999Z"
   },
   {
    "duration": 301,
    "start_time": "2022-02-24T13:23:42.217Z"
   },
   {
    "duration": 463,
    "start_time": "2022-02-24T13:23:42.520Z"
   },
   {
    "duration": 176,
    "start_time": "2022-02-24T13:23:42.985Z"
   },
   {
    "duration": 615,
    "start_time": "2022-02-24T13:23:43.165Z"
   },
   {
    "duration": 6,
    "start_time": "2022-02-24T13:23:43.783Z"
   },
   {
    "duration": 23,
    "start_time": "2022-02-24T13:23:43.792Z"
   },
   {
    "duration": 313,
    "start_time": "2022-02-24T13:23:43.817Z"
   },
   {
    "duration": 51,
    "start_time": "2022-02-24T13:23:44.132Z"
   },
   {
    "duration": 438,
    "start_time": "2022-02-24T13:23:44.185Z"
   },
   {
    "duration": 5640,
    "start_time": "2022-02-24T13:23:44.625Z"
   },
   {
    "duration": 263,
    "start_time": "2022-02-24T13:23:50.268Z"
   },
   {
    "duration": 455,
    "start_time": "2022-02-24T13:23:50.534Z"
   },
   {
    "duration": 175,
    "start_time": "2022-02-24T13:23:50.992Z"
   },
   {
    "duration": 611,
    "start_time": "2022-02-24T13:23:51.170Z"
   },
   {
    "duration": 172,
    "start_time": "2022-02-24T13:23:51.783Z"
   },
   {
    "duration": 29,
    "start_time": "2022-02-24T13:23:51.958Z"
   },
   {
    "duration": 448,
    "start_time": "2022-02-24T13:23:51.989Z"
   },
   {
    "duration": 488,
    "start_time": "2022-02-24T13:23:52.439Z"
   },
   {
    "duration": 32,
    "start_time": "2022-02-24T13:23:52.929Z"
   },
   {
    "duration": 461,
    "start_time": "2022-02-24T13:23:52.964Z"
   },
   {
    "duration": 349,
    "start_time": "2022-02-24T13:23:53.427Z"
   },
   {
    "duration": 22,
    "start_time": "2022-02-24T13:23:53.779Z"
   },
   {
    "duration": 574,
    "start_time": "2022-02-24T13:23:53.803Z"
   },
   {
    "duration": 12846,
    "start_time": "2022-02-24T13:23:54.380Z"
   },
   {
    "duration": 377,
    "start_time": "2022-02-24T13:24:07.228Z"
   },
   {
    "duration": 22,
    "start_time": "2022-02-24T13:24:07.608Z"
   },
   {
    "duration": 461,
    "start_time": "2022-02-24T13:24:07.632Z"
   },
   {
    "duration": 14,
    "start_time": "2022-02-24T13:24:08.095Z"
   },
   {
    "duration": 7,
    "start_time": "2022-02-24T13:24:08.111Z"
   },
   {
    "duration": 9,
    "start_time": "2022-02-24T13:24:08.120Z"
   },
   {
    "duration": 22,
    "start_time": "2022-02-24T13:24:08.163Z"
   },
   {
    "duration": 461,
    "start_time": "2022-02-24T13:24:08.187Z"
   },
   {
    "duration": 36,
    "start_time": "2022-02-24T13:24:08.651Z"
   },
   {
    "duration": 458,
    "start_time": "2022-02-24T13:24:08.690Z"
   },
   {
    "duration": 1527,
    "start_time": "2022-02-24T13:31:52.277Z"
   },
   {
    "duration": 30,
    "start_time": "2022-02-24T13:31:53.807Z"
   },
   {
    "duration": 25,
    "start_time": "2022-02-24T13:31:53.840Z"
   },
   {
    "duration": 25,
    "start_time": "2022-02-24T13:31:53.868Z"
   },
   {
    "duration": 5,
    "start_time": "2022-02-24T13:31:53.896Z"
   },
   {
    "duration": 9,
    "start_time": "2022-02-24T13:31:53.903Z"
   },
   {
    "duration": 52,
    "start_time": "2022-02-24T13:31:53.914Z"
   },
   {
    "duration": 18,
    "start_time": "2022-02-24T13:31:53.971Z"
   },
   {
    "duration": 9,
    "start_time": "2022-02-24T13:31:53.993Z"
   },
   {
    "duration": 78,
    "start_time": "2022-02-24T13:31:54.005Z"
   },
   {
    "duration": 9,
    "start_time": "2022-02-24T13:31:54.086Z"
   },
   {
    "duration": 10,
    "start_time": "2022-02-24T13:31:54.098Z"
   },
   {
    "duration": 459,
    "start_time": "2022-02-24T13:31:54.111Z"
   },
   {
    "duration": 1294,
    "start_time": "2022-02-24T13:31:54.572Z"
   },
   {
    "duration": 6,
    "start_time": "2022-02-24T13:31:55.868Z"
   },
   {
    "duration": 7,
    "start_time": "2022-02-24T13:31:55.877Z"
   },
   {
    "duration": 9,
    "start_time": "2022-02-24T13:31:55.886Z"
   },
   {
    "duration": 464,
    "start_time": "2022-02-24T13:31:55.897Z"
   },
   {
    "duration": 3,
    "start_time": "2022-02-24T13:31:56.363Z"
   },
   {
    "duration": 45,
    "start_time": "2022-02-24T13:31:56.369Z"
   },
   {
    "duration": 7,
    "start_time": "2022-02-24T13:31:56.417Z"
   },
   {
    "duration": 48,
    "start_time": "2022-02-24T13:31:56.427Z"
   },
   {
    "duration": 19,
    "start_time": "2022-02-24T13:31:56.481Z"
   },
   {
    "duration": 36,
    "start_time": "2022-02-24T13:31:56.503Z"
   },
   {
    "duration": 6,
    "start_time": "2022-02-24T13:31:56.541Z"
   },
   {
    "duration": 703,
    "start_time": "2022-02-24T13:31:56.560Z"
   },
   {
    "duration": 47,
    "start_time": "2022-02-24T13:31:57.266Z"
   },
   {
    "duration": 428,
    "start_time": "2022-02-24T13:31:57.315Z"
   },
   {
    "duration": 8535,
    "start_time": "2022-02-24T13:31:57.745Z"
   },
   {
    "duration": 373,
    "start_time": "2022-02-24T13:32:06.284Z"
   },
   {
    "duration": 425,
    "start_time": "2022-02-24T13:32:06.662Z"
   },
   {
    "duration": 173,
    "start_time": "2022-02-24T13:32:07.090Z"
   },
   {
    "duration": 567,
    "start_time": "2022-02-24T13:32:07.266Z"
   },
   {
    "duration": 12,
    "start_time": "2022-02-24T13:32:07.836Z"
   },
   {
    "duration": 336,
    "start_time": "2022-02-24T13:32:07.861Z"
   },
   {
    "duration": 172,
    "start_time": "2022-02-24T13:32:08.199Z"
   },
   {
    "duration": 602,
    "start_time": "2022-02-24T13:32:08.373Z"
   },
   {
    "duration": 5,
    "start_time": "2022-02-24T13:32:08.978Z"
   },
   {
    "duration": 20,
    "start_time": "2022-02-24T13:32:08.986Z"
   },
   {
    "duration": 804,
    "start_time": "2022-02-24T13:32:09.008Z"
   },
   {
    "duration": 74,
    "start_time": "2022-02-24T13:32:09.815Z"
   },
   {
    "duration": 413,
    "start_time": "2022-02-24T13:32:09.891Z"
   },
   {
    "duration": 12162,
    "start_time": "2022-02-24T13:32:10.307Z"
   },
   {
    "duration": 280,
    "start_time": "2022-02-24T13:32:22.472Z"
   },
   {
    "duration": 428,
    "start_time": "2022-02-24T13:32:22.754Z"
   },
   {
    "duration": 187,
    "start_time": "2022-02-24T13:32:23.184Z"
   },
   {
    "duration": 566,
    "start_time": "2022-02-24T13:32:23.373Z"
   },
   {
    "duration": 6,
    "start_time": "2022-02-24T13:32:23.942Z"
   },
   {
    "duration": 17,
    "start_time": "2022-02-24T13:32:23.962Z"
   },
   {
    "duration": 306,
    "start_time": "2022-02-24T13:32:23.982Z"
   },
   {
    "duration": 32,
    "start_time": "2022-02-24T13:32:24.291Z"
   },
   {
    "duration": 431,
    "start_time": "2022-02-24T13:32:24.325Z"
   },
   {
    "duration": 5144,
    "start_time": "2022-02-24T13:32:24.759Z"
   },
   {
    "duration": 257,
    "start_time": "2022-02-24T13:32:29.905Z"
   },
   {
    "duration": 555,
    "start_time": "2022-02-24T13:32:30.164Z"
   },
   {
    "duration": 140,
    "start_time": "2022-02-24T13:32:30.721Z"
   },
   {
    "duration": 588,
    "start_time": "2022-02-24T13:32:30.864Z"
   },
   {
    "duration": 148,
    "start_time": "2022-02-24T13:32:31.454Z"
   },
   {
    "duration": 20,
    "start_time": "2022-02-24T13:32:31.604Z"
   },
   {
    "duration": 433,
    "start_time": "2022-02-24T13:32:31.627Z"
   },
   {
    "duration": 458,
    "start_time": "2022-02-24T13:32:32.062Z"
   },
   {
    "duration": 22,
    "start_time": "2022-02-24T13:32:32.523Z"
   },
   {
    "duration": 434,
    "start_time": "2022-02-24T13:32:32.562Z"
   },
   {
    "duration": 300,
    "start_time": "2022-02-24T13:32:32.999Z"
   },
   {
    "duration": 24,
    "start_time": "2022-02-24T13:32:33.303Z"
   },
   {
    "duration": 574,
    "start_time": "2022-02-24T13:32:33.330Z"
   },
   {
    "duration": 12556,
    "start_time": "2022-02-24T13:32:33.907Z"
   },
   {
    "duration": 351,
    "start_time": "2022-02-24T13:32:46.470Z"
   },
   {
    "duration": 21,
    "start_time": "2022-02-24T13:32:46.823Z"
   },
   {
    "duration": 425,
    "start_time": "2022-02-24T13:32:46.847Z"
   },
   {
    "duration": 15,
    "start_time": "2022-02-24T13:32:47.275Z"
   },
   {
    "duration": 7,
    "start_time": "2022-02-24T13:32:47.292Z"
   },
   {
    "duration": 9,
    "start_time": "2022-02-24T13:32:47.301Z"
   },
   {
    "duration": 58,
    "start_time": "2022-02-24T13:32:47.312Z"
   },
   {
    "duration": 521,
    "start_time": "2022-02-24T13:32:47.373Z"
   },
   {
    "duration": 22,
    "start_time": "2022-02-24T13:32:47.896Z"
   },
   {
    "duration": 436,
    "start_time": "2022-02-24T13:32:47.921Z"
   },
   {
    "duration": 1602,
    "start_time": "2022-02-24T13:37:05.389Z"
   },
   {
    "duration": 32,
    "start_time": "2022-02-24T13:37:06.994Z"
   },
   {
    "duration": 12,
    "start_time": "2022-02-24T13:37:07.029Z"
   },
   {
    "duration": 42,
    "start_time": "2022-02-24T13:37:07.044Z"
   },
   {
    "duration": 4,
    "start_time": "2022-02-24T13:37:07.088Z"
   },
   {
    "duration": 9,
    "start_time": "2022-02-24T13:37:07.096Z"
   },
   {
    "duration": 52,
    "start_time": "2022-02-24T13:37:07.108Z"
   },
   {
    "duration": 17,
    "start_time": "2022-02-24T13:37:07.163Z"
   },
   {
    "duration": 9,
    "start_time": "2022-02-24T13:37:07.183Z"
   },
   {
    "duration": 66,
    "start_time": "2022-02-24T13:37:07.195Z"
   },
   {
    "duration": 9,
    "start_time": "2022-02-24T13:37:07.264Z"
   },
   {
    "duration": 10,
    "start_time": "2022-02-24T13:37:07.275Z"
   },
   {
    "duration": 462,
    "start_time": "2022-02-24T13:37:07.287Z"
   },
   {
    "duration": 1371,
    "start_time": "2022-02-24T13:37:07.760Z"
   },
   {
    "duration": 7,
    "start_time": "2022-02-24T13:37:09.134Z"
   },
   {
    "duration": 20,
    "start_time": "2022-02-24T13:37:09.144Z"
   },
   {
    "duration": 9,
    "start_time": "2022-02-24T13:37:09.167Z"
   },
   {
    "duration": 461,
    "start_time": "2022-02-24T13:37:09.179Z"
   },
   {
    "duration": 3,
    "start_time": "2022-02-24T13:37:09.642Z"
   },
   {
    "duration": 58,
    "start_time": "2022-02-24T13:37:09.647Z"
   },
   {
    "duration": 8,
    "start_time": "2022-02-24T13:37:09.707Z"
   },
   {
    "duration": 16,
    "start_time": "2022-02-24T13:37:09.717Z"
   },
   {
    "duration": 37,
    "start_time": "2022-02-24T13:37:09.735Z"
   },
   {
    "duration": 29,
    "start_time": "2022-02-24T13:37:09.774Z"
   },
   {
    "duration": 6,
    "start_time": "2022-02-24T13:37:09.805Z"
   },
   {
    "duration": 599,
    "start_time": "2022-02-24T13:37:09.813Z"
   },
   {
    "duration": 65,
    "start_time": "2022-02-24T13:37:10.418Z"
   },
   {
    "duration": 411,
    "start_time": "2022-02-24T13:37:10.487Z"
   },
   {
    "duration": 8447,
    "start_time": "2022-02-24T13:37:10.900Z"
   },
   {
    "duration": 374,
    "start_time": "2022-02-24T13:37:19.350Z"
   },
   {
    "duration": 435,
    "start_time": "2022-02-24T13:37:19.727Z"
   },
   {
    "duration": 199,
    "start_time": "2022-02-24T13:37:20.164Z"
   },
   {
    "duration": 578,
    "start_time": "2022-02-24T13:37:20.366Z"
   },
   {
    "duration": 21,
    "start_time": "2022-02-24T13:37:20.947Z"
   },
   {
    "duration": 339,
    "start_time": "2022-02-24T13:37:20.971Z"
   },
   {
    "duration": 251,
    "start_time": "2022-02-24T13:37:21.313Z"
   },
   {
    "duration": 580,
    "start_time": "2022-02-24T13:37:21.567Z"
   },
   {
    "duration": 14,
    "start_time": "2022-02-24T13:37:22.149Z"
   },
   {
    "duration": 20,
    "start_time": "2022-02-24T13:37:22.166Z"
   },
   {
    "duration": 799,
    "start_time": "2022-02-24T13:37:22.189Z"
   },
   {
    "duration": 74,
    "start_time": "2022-02-24T13:37:22.991Z"
   },
   {
    "duration": 416,
    "start_time": "2022-02-24T13:37:23.068Z"
   },
   {
    "duration": 12260,
    "start_time": "2022-02-24T13:37:23.487Z"
   },
   {
    "duration": 267,
    "start_time": "2022-02-24T13:37:35.749Z"
   },
   {
    "duration": 416,
    "start_time": "2022-02-24T13:37:36.019Z"
   },
   {
    "duration": 226,
    "start_time": "2022-02-24T13:37:36.438Z"
   },
   {
    "duration": 595,
    "start_time": "2022-02-24T13:37:36.666Z"
   },
   {
    "duration": 6,
    "start_time": "2022-02-24T13:37:37.263Z"
   },
   {
    "duration": 21,
    "start_time": "2022-02-24T13:37:37.272Z"
   },
   {
    "duration": 299,
    "start_time": "2022-02-24T13:37:37.295Z"
   },
   {
    "duration": 32,
    "start_time": "2022-02-24T13:37:37.596Z"
   },
   {
    "duration": 434,
    "start_time": "2022-02-24T13:37:37.630Z"
   },
   {
    "duration": 5115,
    "start_time": "2022-02-24T13:37:38.066Z"
   },
   {
    "duration": 241,
    "start_time": "2022-02-24T13:37:43.184Z"
   },
   {
    "duration": 440,
    "start_time": "2022-02-24T13:37:43.427Z"
   },
   {
    "duration": 195,
    "start_time": "2022-02-24T13:37:43.869Z"
   },
   {
    "duration": 575,
    "start_time": "2022-02-24T13:37:44.067Z"
   },
   {
    "duration": 197,
    "start_time": "2022-02-24T13:37:44.646Z"
   },
   {
    "duration": 33,
    "start_time": "2022-02-24T13:37:44.846Z"
   },
   {
    "duration": 426,
    "start_time": "2022-02-24T13:37:44.882Z"
   },
   {
    "duration": 476,
    "start_time": "2022-02-24T13:37:45.311Z"
   },
   {
    "duration": 25,
    "start_time": "2022-02-24T13:37:45.790Z"
   },
   {
    "duration": 459,
    "start_time": "2022-02-24T13:37:45.818Z"
   },
   {
    "duration": 301,
    "start_time": "2022-02-24T13:37:46.280Z"
   },
   {
    "duration": 23,
    "start_time": "2022-02-24T13:37:46.583Z"
   },
   {
    "duration": 563,
    "start_time": "2022-02-24T13:37:46.609Z"
   },
   {
    "duration": 12007,
    "start_time": "2022-02-24T13:37:47.174Z"
   },
   {
    "duration": 367,
    "start_time": "2022-02-24T13:37:59.183Z"
   },
   {
    "duration": 28,
    "start_time": "2022-02-24T13:37:59.552Z"
   },
   {
    "duration": 470,
    "start_time": "2022-02-24T13:37:59.582Z"
   },
   {
    "duration": 14,
    "start_time": "2022-02-24T13:38:00.062Z"
   },
   {
    "duration": 7,
    "start_time": "2022-02-24T13:38:00.078Z"
   },
   {
    "duration": 14,
    "start_time": "2022-02-24T13:38:00.088Z"
   },
   {
    "duration": 56,
    "start_time": "2022-02-24T13:38:00.105Z"
   },
   {
    "duration": 427,
    "start_time": "2022-02-24T13:38:00.164Z"
   },
   {
    "duration": 22,
    "start_time": "2022-02-24T13:38:00.593Z"
   },
   {
    "duration": 436,
    "start_time": "2022-02-24T13:38:00.618Z"
   },
   {
    "duration": 1983,
    "start_time": "2022-02-24T18:10:57.240Z"
   },
   {
    "duration": 202000,
    "start_time": "2022-02-24T18:11:34.052Z"
   },
   {
    "duration": 177,
    "start_time": "2022-02-24T18:19:00.207Z"
   },
   {
    "duration": 1576,
    "start_time": "2022-02-24T18:19:04.780Z"
   },
   {
    "duration": 25,
    "start_time": "2022-02-24T18:19:06.359Z"
   },
   {
    "duration": 8,
    "start_time": "2022-02-24T18:19:06.386Z"
   },
   {
    "duration": 16,
    "start_time": "2022-02-24T18:19:06.397Z"
   },
   {
    "duration": 16,
    "start_time": "2022-02-24T18:19:06.415Z"
   },
   {
    "duration": 8,
    "start_time": "2022-02-24T18:19:06.433Z"
   },
   {
    "duration": 18,
    "start_time": "2022-02-24T18:19:06.443Z"
   },
   {
    "duration": 16,
    "start_time": "2022-02-24T18:19:06.464Z"
   },
   {
    "duration": 8,
    "start_time": "2022-02-24T18:19:06.482Z"
   },
   {
    "duration": 42,
    "start_time": "2022-02-24T18:19:06.492Z"
   },
   {
    "duration": 7,
    "start_time": "2022-02-24T18:19:06.536Z"
   },
   {
    "duration": 9,
    "start_time": "2022-02-24T18:19:06.545Z"
   },
   {
    "duration": 262,
    "start_time": "2022-02-24T18:19:06.555Z"
   },
   {
    "duration": 820,
    "start_time": "2022-02-24T18:19:06.819Z"
   },
   {
    "duration": 4,
    "start_time": "2022-02-24T18:19:07.641Z"
   },
   {
    "duration": 7,
    "start_time": "2022-02-24T18:19:07.647Z"
   },
   {
    "duration": 7,
    "start_time": "2022-02-24T18:19:07.655Z"
   },
   {
    "duration": 278,
    "start_time": "2022-02-24T18:19:07.664Z"
   },
   {
    "duration": 2,
    "start_time": "2022-02-24T18:19:07.944Z"
   },
   {
    "duration": 30,
    "start_time": "2022-02-24T18:19:07.947Z"
   },
   {
    "duration": 5,
    "start_time": "2022-02-24T18:19:07.978Z"
   },
   {
    "duration": 10,
    "start_time": "2022-02-24T18:19:07.984Z"
   },
   {
    "duration": 9,
    "start_time": "2022-02-24T18:19:07.997Z"
   },
   {
    "duration": 19,
    "start_time": "2022-02-24T18:19:08.031Z"
   },
   {
    "duration": 4,
    "start_time": "2022-02-24T18:19:08.052Z"
   },
   {
    "duration": 414,
    "start_time": "2022-02-24T18:19:08.058Z"
   },
   {
    "duration": 31,
    "start_time": "2022-02-24T18:19:08.474Z"
   },
   {
    "duration": 294,
    "start_time": "2022-02-24T18:19:08.507Z"
   },
   {
    "duration": 5400,
    "start_time": "2022-02-24T18:19:08.803Z"
   },
   {
    "duration": 233,
    "start_time": "2022-02-24T18:19:14.205Z"
   },
   {
    "duration": 261,
    "start_time": "2022-02-24T18:19:14.439Z"
   },
   {
    "duration": 136,
    "start_time": "2022-02-24T18:19:14.702Z"
   },
   {
    "duration": 525,
    "start_time": "2022-02-24T18:19:14.841Z"
   },
   {
    "duration": 8,
    "start_time": "2022-02-24T18:19:15.368Z"
   },
   {
    "duration": 206,
    "start_time": "2022-02-24T18:19:15.378Z"
   },
   {
    "duration": 53,
    "start_time": "2022-02-24T18:19:15.586Z"
   },
   {
    "duration": 374,
    "start_time": "2022-02-24T18:19:15.731Z"
   },
   {
    "duration": 4,
    "start_time": "2022-02-24T18:19:16.107Z"
   },
   {
    "duration": 23,
    "start_time": "2022-02-24T18:19:16.112Z"
   },
   {
    "duration": 525,
    "start_time": "2022-02-24T18:19:16.137Z"
   },
   {
    "duration": 34,
    "start_time": "2022-02-24T18:19:16.664Z"
   },
   {
    "duration": 265,
    "start_time": "2022-02-24T18:19:16.700Z"
   },
   {
    "duration": 7522,
    "start_time": "2022-02-24T18:19:16.967Z"
   },
   {
    "duration": 161,
    "start_time": "2022-02-24T18:19:24.490Z"
   },
   {
    "duration": 249,
    "start_time": "2022-02-24T18:19:24.653Z"
   },
   {
    "duration": 133,
    "start_time": "2022-02-24T18:19:24.903Z"
   },
   {
    "duration": 456,
    "start_time": "2022-02-24T18:19:25.039Z"
   },
   {
    "duration": 4,
    "start_time": "2022-02-24T18:19:25.497Z"
   },
   {
    "duration": 16,
    "start_time": "2022-02-24T18:19:25.503Z"
   },
   {
    "duration": 195,
    "start_time": "2022-02-24T18:19:25.520Z"
   },
   {
    "duration": 27,
    "start_time": "2022-02-24T18:19:25.717Z"
   },
   {
    "duration": 242,
    "start_time": "2022-02-24T18:19:25.745Z"
   },
   {
    "duration": 3283,
    "start_time": "2022-02-24T18:19:25.989Z"
   },
   {
    "duration": 158,
    "start_time": "2022-02-24T18:19:29.273Z"
   },
   {
    "duration": 244,
    "start_time": "2022-02-24T18:19:29.432Z"
   },
   {
    "duration": 154,
    "start_time": "2022-02-24T18:19:29.678Z"
   },
   {
    "duration": 515,
    "start_time": "2022-02-24T18:19:29.833Z"
   },
   {
    "duration": 99,
    "start_time": "2022-02-24T18:19:30.349Z"
   },
   {
    "duration": 14,
    "start_time": "2022-02-24T18:19:30.450Z"
   },
   {
    "duration": 217,
    "start_time": "2022-02-24T18:19:30.465Z"
   },
   {
    "duration": 300,
    "start_time": "2022-02-24T18:19:30.684Z"
   },
   {
    "duration": 14,
    "start_time": "2022-02-24T18:19:30.985Z"
   },
   {
    "duration": 275,
    "start_time": "2022-02-24T18:19:31.001Z"
   },
   {
    "duration": 214,
    "start_time": "2022-02-24T18:19:31.278Z"
   },
   {
    "duration": 15,
    "start_time": "2022-02-24T18:19:31.494Z"
   },
   {
    "duration": 460,
    "start_time": "2022-02-24T18:19:31.511Z"
   },
   {
    "duration": 7711,
    "start_time": "2022-02-24T18:19:31.973Z"
   },
   {
    "duration": 232,
    "start_time": "2022-02-24T18:19:39.689Z"
   },
   {
    "duration": 14,
    "start_time": "2022-02-24T18:19:39.923Z"
   },
   {
    "duration": 264,
    "start_time": "2022-02-24T18:19:39.939Z"
   },
   {
    "duration": 27,
    "start_time": "2022-02-24T18:19:40.205Z"
   },
   {
    "duration": 4,
    "start_time": "2022-02-24T18:19:40.234Z"
   },
   {
    "duration": 5,
    "start_time": "2022-02-24T18:19:40.240Z"
   },
   {
    "duration": 12,
    "start_time": "2022-02-24T18:19:40.247Z"
   },
   {
    "duration": 278,
    "start_time": "2022-02-24T18:19:40.261Z"
   },
   {
    "duration": 14,
    "start_time": "2022-02-24T18:19:40.540Z"
   },
   {
    "duration": 231,
    "start_time": "2022-02-24T18:19:40.556Z"
   },
   {
    "duration": 285,
    "start_time": "2022-02-24T18:20:14.990Z"
   },
   {
    "duration": 122,
    "start_time": "2022-02-24T18:23:17.615Z"
   },
   {
    "duration": 219,
    "start_time": "2022-02-24T18:23:20.710Z"
   },
   {
    "duration": 175,
    "start_time": "2022-02-24T18:24:21.195Z"
   },
   {
    "duration": 390,
    "start_time": "2022-02-24T18:24:30.947Z"
   },
   {
    "duration": 266,
    "start_time": "2022-02-24T18:26:33.506Z"
   },
   {
    "duration": 14,
    "start_time": "2022-02-24T18:26:35.760Z"
   },
   {
    "duration": 201,
    "start_time": "2022-02-24T18:26:37.076Z"
   },
   {
    "duration": 173,
    "start_time": "2022-02-24T18:26:56.144Z"
   },
   {
    "duration": 173,
    "start_time": "2022-02-24T18:27:05.239Z"
   },
   {
    "duration": 184,
    "start_time": "2022-02-24T18:27:15.083Z"
   },
   {
    "duration": 6,
    "start_time": "2022-02-24T18:27:19.109Z"
   },
   {
    "duration": 183,
    "start_time": "2022-02-24T18:27:27.596Z"
   },
   {
    "duration": 215,
    "start_time": "2022-02-24T18:28:08.724Z"
   },
   {
    "duration": 179,
    "start_time": "2022-02-24T18:28:15.240Z"
   },
   {
    "duration": 359,
    "start_time": "2022-02-24T18:28:27.734Z"
   },
   {
    "duration": 391,
    "start_time": "2022-02-24T18:28:39.388Z"
   },
   {
    "duration": 4,
    "start_time": "2022-02-24T18:29:07.720Z"
   },
   {
    "duration": 171,
    "start_time": "2022-02-24T18:29:32.979Z"
   },
   {
    "duration": 8,
    "start_time": "2022-02-24T18:29:37.521Z"
   },
   {
    "duration": 3,
    "start_time": "2022-02-24T18:29:44.259Z"
   },
   {
    "duration": 343,
    "start_time": "2022-02-24T18:30:02.327Z"
   },
   {
    "duration": 508,
    "start_time": "2022-02-24T18:30:19.877Z"
   },
   {
    "duration": 461,
    "start_time": "2022-02-24T18:30:27.405Z"
   },
   {
    "duration": 339,
    "start_time": "2022-02-24T18:30:43.247Z"
   },
   {
    "duration": 353,
    "start_time": "2022-02-24T18:30:49.241Z"
   },
   {
    "duration": 453,
    "start_time": "2022-02-24T18:30:55.051Z"
   },
   {
    "duration": 486,
    "start_time": "2022-02-24T18:30:59.127Z"
   },
   {
    "duration": 477,
    "start_time": "2022-02-24T18:31:02.328Z"
   },
   {
    "duration": 293,
    "start_time": "2022-02-24T18:34:20.024Z"
   },
   {
    "duration": 454,
    "start_time": "2022-02-24T18:34:32.455Z"
   },
   {
    "duration": 331,
    "start_time": "2022-02-24T18:36:05.064Z"
   },
   {
    "duration": 341,
    "start_time": "2022-02-24T18:36:10.250Z"
   },
   {
    "duration": 659,
    "start_time": "2022-02-24T18:36:14.115Z"
   },
   {
    "duration": 427,
    "start_time": "2022-02-24T18:36:19.445Z"
   },
   {
    "duration": 423,
    "start_time": "2022-02-24T18:36:28.509Z"
   },
   {
    "duration": 296,
    "start_time": "2022-02-24T18:36:41.545Z"
   },
   {
    "duration": 330,
    "start_time": "2022-02-24T18:36:45.802Z"
   },
   {
    "duration": 289,
    "start_time": "2022-02-24T18:37:00.151Z"
   },
   {
    "duration": 1631,
    "start_time": "2022-02-24T18:47:30.010Z"
   },
   {
    "duration": 25,
    "start_time": "2022-02-24T18:47:31.642Z"
   },
   {
    "duration": 8,
    "start_time": "2022-02-24T18:47:31.668Z"
   },
   {
    "duration": 16,
    "start_time": "2022-02-24T18:47:31.678Z"
   },
   {
    "duration": 2,
    "start_time": "2022-02-24T18:47:31.696Z"
   },
   {
    "duration": 8,
    "start_time": "2022-02-24T18:47:31.700Z"
   },
   {
    "duration": 12,
    "start_time": "2022-02-24T18:47:31.729Z"
   },
   {
    "duration": 12,
    "start_time": "2022-02-24T18:47:31.744Z"
   },
   {
    "duration": 7,
    "start_time": "2022-02-24T18:47:31.757Z"
   },
   {
    "duration": 25,
    "start_time": "2022-02-24T18:47:31.765Z"
   },
   {
    "duration": 6,
    "start_time": "2022-02-24T18:47:31.792Z"
   },
   {
    "duration": 41,
    "start_time": "2022-02-24T18:47:31.799Z"
   },
   {
    "duration": 261,
    "start_time": "2022-02-24T18:47:31.842Z"
   },
   {
    "duration": 824,
    "start_time": "2022-02-24T18:47:32.104Z"
   },
   {
    "duration": 4,
    "start_time": "2022-02-24T18:47:32.930Z"
   },
   {
    "duration": 6,
    "start_time": "2022-02-24T18:47:32.935Z"
   },
   {
    "duration": 7,
    "start_time": "2022-02-24T18:47:32.943Z"
   },
   {
    "duration": 270,
    "start_time": "2022-02-24T18:47:32.952Z"
   },
   {
    "duration": 7,
    "start_time": "2022-02-24T18:47:33.224Z"
   },
   {
    "duration": 28,
    "start_time": "2022-02-24T18:47:33.233Z"
   },
   {
    "duration": 5,
    "start_time": "2022-02-24T18:47:33.263Z"
   },
   {
    "duration": 8,
    "start_time": "2022-02-24T18:47:33.270Z"
   },
   {
    "duration": 9,
    "start_time": "2022-02-24T18:47:33.282Z"
   },
   {
    "duration": 46,
    "start_time": "2022-02-24T18:47:33.293Z"
   },
   {
    "duration": 4,
    "start_time": "2022-02-24T18:47:33.341Z"
   },
   {
    "duration": 411,
    "start_time": "2022-02-24T18:47:33.347Z"
   },
   {
    "duration": 33,
    "start_time": "2022-02-24T18:47:33.760Z"
   },
   {
    "duration": 266,
    "start_time": "2022-02-24T18:47:33.794Z"
   },
   {
    "duration": 5391,
    "start_time": "2022-02-24T18:47:34.061Z"
   },
   {
    "duration": 244,
    "start_time": "2022-02-24T18:47:39.454Z"
   },
   {
    "duration": 300,
    "start_time": "2022-02-24T18:47:39.700Z"
   },
   {
    "duration": 136,
    "start_time": "2022-02-24T18:47:40.002Z"
   },
   {
    "duration": 458,
    "start_time": "2022-02-24T18:47:40.140Z"
   },
   {
    "duration": 9,
    "start_time": "2022-02-24T18:47:40.599Z"
   },
   {
    "duration": 262,
    "start_time": "2022-02-24T18:47:40.610Z"
   },
   {
    "duration": 157,
    "start_time": "2022-02-24T18:47:40.874Z"
   },
   {
    "duration": 441,
    "start_time": "2022-02-24T18:47:41.033Z"
   },
   {
    "duration": 4,
    "start_time": "2022-02-24T18:47:41.476Z"
   },
   {
    "duration": 13,
    "start_time": "2022-02-24T18:47:41.482Z"
   },
   {
    "duration": 538,
    "start_time": "2022-02-24T18:47:41.496Z"
   },
   {
    "duration": 37,
    "start_time": "2022-02-24T18:47:42.036Z"
   },
   {
    "duration": 225,
    "start_time": "2022-02-24T18:47:42.075Z"
   },
   {
    "duration": 7540,
    "start_time": "2022-02-24T18:47:42.303Z"
   },
   {
    "duration": 178,
    "start_time": "2022-02-24T18:47:49.844Z"
   },
   {
    "duration": 272,
    "start_time": "2022-02-24T18:47:50.024Z"
   },
   {
    "duration": 142,
    "start_time": "2022-02-24T18:47:50.297Z"
   },
   {
    "duration": 561,
    "start_time": "2022-02-24T18:47:50.442Z"
   },
   {
    "duration": 5,
    "start_time": "2022-02-24T18:47:51.005Z"
   },
   {
    "duration": 34,
    "start_time": "2022-02-24T18:47:51.012Z"
   },
   {
    "duration": 221,
    "start_time": "2022-02-24T18:47:51.049Z"
   },
   {
    "duration": 24,
    "start_time": "2022-02-24T18:47:51.272Z"
   },
   {
    "duration": 282,
    "start_time": "2022-02-24T18:47:51.298Z"
   },
   {
    "duration": 3590,
    "start_time": "2022-02-24T18:47:51.581Z"
   },
   {
    "duration": 206,
    "start_time": "2022-02-24T18:47:55.174Z"
   },
   {
    "duration": 354,
    "start_time": "2022-02-24T18:47:55.381Z"
   },
   {
    "duration": 194,
    "start_time": "2022-02-24T18:47:55.737Z"
   },
   {
    "duration": 530,
    "start_time": "2022-02-24T18:47:55.933Z"
   },
   {
    "duration": 101,
    "start_time": "2022-02-24T18:47:56.465Z"
   },
   {
    "duration": 15,
    "start_time": "2022-02-24T18:47:56.569Z"
   },
   {
    "duration": 204,
    "start_time": "2022-02-24T18:47:56.586Z"
   },
   {
    "duration": 331,
    "start_time": "2022-02-24T18:47:56.791Z"
   },
   {
    "duration": 19,
    "start_time": "2022-02-24T18:47:57.124Z"
   },
   {
    "duration": 256,
    "start_time": "2022-02-24T18:47:57.144Z"
   },
   {
    "duration": 285,
    "start_time": "2022-02-24T18:47:57.401Z"
   },
   {
    "duration": 16,
    "start_time": "2022-02-24T18:47:57.687Z"
   },
   {
    "duration": 401,
    "start_time": "2022-02-24T18:47:57.705Z"
   },
   {
    "duration": 7771,
    "start_time": "2022-02-24T18:47:58.109Z"
   },
   {
    "duration": 242,
    "start_time": "2022-02-24T18:48:05.885Z"
   },
   {
    "duration": 14,
    "start_time": "2022-02-24T18:48:06.131Z"
   },
   {
    "duration": 252,
    "start_time": "2022-02-24T18:48:06.147Z"
   },
   {
    "duration": 9,
    "start_time": "2022-02-24T18:48:06.401Z"
   },
   {
    "duration": 22,
    "start_time": "2022-02-24T18:48:06.411Z"
   },
   {
    "duration": 6,
    "start_time": "2022-02-24T18:48:06.434Z"
   },
   {
    "duration": 12,
    "start_time": "2022-02-24T18:48:06.441Z"
   },
   {
    "duration": 270,
    "start_time": "2022-02-24T18:48:06.454Z"
   },
   {
    "duration": 16,
    "start_time": "2022-02-24T18:48:06.730Z"
   },
   {
    "duration": 256,
    "start_time": "2022-02-24T18:48:06.748Z"
   },
   {
    "duration": 280,
    "start_time": "2022-02-24T18:48:07.007Z"
   },
   {
    "duration": 256,
    "start_time": "2022-02-24T18:48:25.262Z"
   },
   {
    "duration": 251,
    "start_time": "2022-02-24T18:48:47.062Z"
   },
   {
    "duration": 303,
    "start_time": "2022-02-24T18:49:32.570Z"
   },
   {
    "duration": 258,
    "start_time": "2022-02-24T18:49:36.351Z"
   },
   {
    "duration": 1520,
    "start_time": "2022-02-24T18:49:41.985Z"
   },
   {
    "duration": 27,
    "start_time": "2022-02-24T18:49:43.507Z"
   },
   {
    "duration": 9,
    "start_time": "2022-02-24T18:49:43.539Z"
   },
   {
    "duration": 16,
    "start_time": "2022-02-24T18:49:43.549Z"
   },
   {
    "duration": 5,
    "start_time": "2022-02-24T18:49:43.567Z"
   },
   {
    "duration": 7,
    "start_time": "2022-02-24T18:49:43.573Z"
   },
   {
    "duration": 11,
    "start_time": "2022-02-24T18:49:43.582Z"
   },
   {
    "duration": 40,
    "start_time": "2022-02-24T18:49:43.595Z"
   },
   {
    "duration": 6,
    "start_time": "2022-02-24T18:49:43.637Z"
   },
   {
    "duration": 20,
    "start_time": "2022-02-24T18:49:43.645Z"
   },
   {
    "duration": 5,
    "start_time": "2022-02-24T18:49:43.667Z"
   },
   {
    "duration": 7,
    "start_time": "2022-02-24T18:49:43.673Z"
   },
   {
    "duration": 314,
    "start_time": "2022-02-24T18:49:43.682Z"
   },
   {
    "duration": 801,
    "start_time": "2022-02-24T18:49:43.998Z"
   },
   {
    "duration": 4,
    "start_time": "2022-02-24T18:49:44.801Z"
   },
   {
    "duration": 7,
    "start_time": "2022-02-24T18:49:44.807Z"
   },
   {
    "duration": 15,
    "start_time": "2022-02-24T18:49:44.816Z"
   },
   {
    "duration": 312,
    "start_time": "2022-02-24T18:49:44.832Z"
   },
   {
    "duration": 2,
    "start_time": "2022-02-24T18:49:45.145Z"
   },
   {
    "duration": 29,
    "start_time": "2022-02-24T18:49:45.149Z"
   },
   {
    "duration": 5,
    "start_time": "2022-02-24T18:49:45.179Z"
   },
   {
    "duration": 9,
    "start_time": "2022-02-24T18:49:45.188Z"
   },
   {
    "duration": 32,
    "start_time": "2022-02-24T18:49:45.200Z"
   },
   {
    "duration": 16,
    "start_time": "2022-02-24T18:49:45.234Z"
   },
   {
    "duration": 4,
    "start_time": "2022-02-24T18:49:45.252Z"
   },
   {
    "duration": 420,
    "start_time": "2022-02-24T18:49:45.258Z"
   },
   {
    "duration": 35,
    "start_time": "2022-02-24T18:49:45.680Z"
   },
   {
    "duration": 258,
    "start_time": "2022-02-24T18:49:45.716Z"
   },
   {
    "duration": 5384,
    "start_time": "2022-02-24T18:49:45.975Z"
   },
   {
    "duration": 239,
    "start_time": "2022-02-24T18:49:51.361Z"
   },
   {
    "duration": 270,
    "start_time": "2022-02-24T18:49:51.602Z"
   },
   {
    "duration": 156,
    "start_time": "2022-02-24T18:49:51.874Z"
   },
   {
    "duration": 435,
    "start_time": "2022-02-24T18:49:52.032Z"
   },
   {
    "duration": 7,
    "start_time": "2022-02-24T18:49:52.469Z"
   },
   {
    "duration": 206,
    "start_time": "2022-02-24T18:49:52.478Z"
   },
   {
    "duration": 155,
    "start_time": "2022-02-24T18:49:52.685Z"
   },
   {
    "duration": 440,
    "start_time": "2022-02-24T18:49:52.931Z"
   },
   {
    "duration": 4,
    "start_time": "2022-02-24T18:49:53.372Z"
   },
   {
    "duration": 16,
    "start_time": "2022-02-24T18:49:53.378Z"
   },
   {
    "duration": 544,
    "start_time": "2022-02-24T18:49:53.395Z"
   },
   {
    "duration": 34,
    "start_time": "2022-02-24T18:49:53.941Z"
   },
   {
    "duration": 217,
    "start_time": "2022-02-24T18:49:53.976Z"
   },
   {
    "duration": 7835,
    "start_time": "2022-02-24T18:49:54.195Z"
   },
   {
    "duration": 166,
    "start_time": "2022-02-24T18:50:02.032Z"
   },
   {
    "duration": 265,
    "start_time": "2022-02-24T18:50:02.200Z"
   },
   {
    "duration": 164,
    "start_time": "2022-02-24T18:50:02.467Z"
   },
   {
    "duration": 457,
    "start_time": "2022-02-24T18:50:02.633Z"
   },
   {
    "duration": 4,
    "start_time": "2022-02-24T18:50:03.092Z"
   },
   {
    "duration": 20,
    "start_time": "2022-02-24T18:50:03.098Z"
   },
   {
    "duration": 196,
    "start_time": "2022-02-24T18:50:03.121Z"
   },
   {
    "duration": 31,
    "start_time": "2022-02-24T18:50:03.319Z"
   },
   {
    "duration": 237,
    "start_time": "2022-02-24T18:50:03.352Z"
   },
   {
    "duration": 3518,
    "start_time": "2022-02-24T18:50:03.591Z"
   },
   {
    "duration": 161,
    "start_time": "2022-02-24T18:50:07.111Z"
   },
   {
    "duration": 234,
    "start_time": "2022-02-24T18:50:07.274Z"
   },
   {
    "duration": 125,
    "start_time": "2022-02-24T18:50:07.509Z"
   },
   {
    "duration": 562,
    "start_time": "2022-02-24T18:50:07.637Z"
   },
   {
    "duration": 104,
    "start_time": "2022-02-24T18:50:08.201Z"
   },
   {
    "duration": 29,
    "start_time": "2022-02-24T18:50:08.307Z"
   },
   {
    "duration": 240,
    "start_time": "2022-02-24T18:50:08.338Z"
   },
   {
    "duration": 321,
    "start_time": "2022-02-24T18:50:08.580Z"
   },
   {
    "duration": 15,
    "start_time": "2022-02-24T18:50:08.903Z"
   },
   {
    "duration": 256,
    "start_time": "2022-02-24T18:50:08.920Z"
   },
   {
    "duration": 215,
    "start_time": "2022-02-24T18:50:09.177Z"
   },
   {
    "duration": 15,
    "start_time": "2022-02-24T18:50:09.394Z"
   },
   {
    "duration": 484,
    "start_time": "2022-02-24T18:50:09.411Z"
   },
   {
    "duration": 7595,
    "start_time": "2022-02-24T18:50:09.900Z"
   },
   {
    "duration": 224,
    "start_time": "2022-02-24T18:50:17.497Z"
   },
   {
    "duration": 19,
    "start_time": "2022-02-24T18:50:17.723Z"
   },
   {
    "duration": 237,
    "start_time": "2022-02-24T18:50:17.743Z"
   },
   {
    "duration": 11,
    "start_time": "2022-02-24T18:50:17.982Z"
   },
   {
    "duration": 5,
    "start_time": "2022-02-24T18:50:17.995Z"
   },
   {
    "duration": 31,
    "start_time": "2022-02-24T18:50:18.002Z"
   },
   {
    "duration": 13,
    "start_time": "2022-02-24T18:50:18.035Z"
   },
   {
    "duration": 285,
    "start_time": "2022-02-24T18:50:18.050Z"
   },
   {
    "duration": 13,
    "start_time": "2022-02-24T18:50:18.337Z"
   },
   {
    "duration": 257,
    "start_time": "2022-02-24T18:50:18.352Z"
   },
   {
    "duration": 330,
    "start_time": "2022-02-24T18:50:18.611Z"
   },
   {
    "duration": 406550,
    "start_time": "2022-02-24T21:18:33.974Z"
   }
  ],
  "kernelspec": {
   "display_name": "Python 3 (ipykernel)",
   "language": "python",
   "name": "python3"
  },
  "language_info": {
   "codemirror_mode": {
    "name": "ipython",
    "version": 3
   },
   "file_extension": ".py",
   "mimetype": "text/x-python",
   "name": "python",
   "nbconvert_exporter": "python",
   "pygments_lexer": "ipython3",
   "version": "3.9.5"
  },
  "toc": {
   "base_numbering": 1,
   "nav_menu": {},
   "number_sections": true,
   "sideBar": true,
   "skip_h1_title": true,
   "title_cell": "Содержание",
   "title_sidebar": "Contents",
   "toc_cell": true,
   "toc_position": {
    "height": "calc(100% - 180px)",
    "left": "10px",
    "top": "150px",
    "width": "202.875px"
   },
   "toc_section_display": true,
   "toc_window_display": true
  }
 },
 "nbformat": 4,
 "nbformat_minor": 2
}
