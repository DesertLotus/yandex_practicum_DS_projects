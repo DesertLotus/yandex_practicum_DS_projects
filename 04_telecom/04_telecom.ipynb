{
 "cells": [
  {
   "cell_type": "markdown",
   "metadata": {},
   "source": [
    "# Определение перспективного тарифа для телеком-компании"
   ]
  },
  {
   "cell_type": "markdown",
   "metadata": {},
   "source": [
    "**Описание проекта**\n",
    "\n",
    "Вы аналитик компании «Мегалайн» — федерального оператора сотовой связи. Клиентам предлагают два тарифных плана: «Смарт» и «Ультра». Чтобы скорректировать рекламный бюджет, коммерческий департамент хочет понять, какой тариф приносит больше денег.\n",
    "\n",
    "Вам предстоит сделать предварительный анализ тарифов на небольшой выборке клиентов. В вашем распоряжении данные 500 пользователей «Мегалайна»: кто они, откуда, каким тарифом пользуются, сколько звонков и сообщений каждый отправил за 2018 год. Нужно проанализировать поведение клиентов и сделать вывод — какой тариф лучше."
   ]
  },
  {
   "cell_type": "markdown",
   "metadata": {},
   "source": [
    "**Тариф «Смарт»**\n",
    "* Ежемесячная плата: 550 рублей\n",
    "* Включено 500 минут разговора, 50 сообщений и 15 Гб интернет-трафика\n",
    "* Стоимость услуг сверх тарифного пакета: минута разговора: 3 рубля («Мегалайн» всегда округляет вверх значения минут и мегабайтов. Если пользователь проговорил всего 1 секунду, в тарифе засчитывается целая минута); сообщение: 3 рубля; 1 Гб интернет-трафика: 200 рублей.\n",
    "\n",
    "**Тариф «Ультра»**\n",
    "* Ежемесячная плата: 1950 рублей\n",
    "* Включено 3000 минут разговора, 1000 сообщений и 30 Гб интернет-трафика\n",
    "* Стоимость услуг сверх тарифного пакета: минута разговора: 1 рубль; сообщение: 1 рубль; 1 Гб интернет-трафика: 150 рублей."
   ]
  },
  {
   "cell_type": "markdown",
   "metadata": {},
   "source": [
    "<div style=\"border-radius: 15px; border: 3px solid black; padding: 15px;\">\n",
    "\n",
    "   **Примечание:**\n",
    "\n",
    "«Мегалайн» всегда округляет секунды до минут, а мегабайты — до гигабайт. Каждый звонок округляется отдельно: даже если он длился всего 1 секунду, будет засчитан как 1 минута.\n",
    "Для веб-трафика отдельные сессии не считаются. Вместо этого общая сумма за месяц округляется в бо́льшую сторону. Если абонент использует 1025 мегабайт в этом месяце, с него возьмут плату за 2 гигабайта.\n",
    "    \n",
    "</div>"
   ]
  },
  {
   "cell_type": "markdown",
   "metadata": {},
   "source": [
    "##  Изучение данных из файла"
   ]
  },
  {
   "cell_type": "markdown",
   "metadata": {},
   "source": [
    "Импортируем необходимые библиотеки и сохраним данные в переменных:"
   ]
  },
  {
   "cell_type": "code",
   "execution_count": 1,
   "metadata": {},
   "outputs": [],
   "source": [
    "import pandas as pd # импорт библиотеки pandas \n",
    "import matplotlib.pyplot as plt # импорт библиотеки matplotlib\n",
    "import numpy as np # импорт библиотеки numpy\n",
    "from scipy import stats as st # импорт библиотеки scipy\n",
    "import math as m # импорт библиотеки math"
   ]
  },
  {
   "cell_type": "code",
   "execution_count": 2,
   "metadata": {},
   "outputs": [],
   "source": [
    "calls = pd.read_csv('/datasets/calls.csv', sep=',')\n",
    "internet = pd.read_csv('/datasets/internet.csv', sep=',', index_col=0) # убираем столбец Unnamed\n",
    "messages = pd.read_csv('//datasets/messages.csv', sep=',')\n",
    "tariffs = pd.read_csv('/datasets/tariffs.csv', sep=',')\n",
    "users = pd.read_csv('/datasets/users.csv', sep=',')\n",
    "\n",
    "pd.options.display.max_columns = None # полностью отображаем столбцы"
   ]
  },
  {
   "cell_type": "markdown",
   "metadata": {},
   "source": [
    "Выведем общую информацию о данных:"
   ]
  },
  {
   "cell_type": "code",
   "execution_count": 3,
   "metadata": {},
   "outputs": [
    {
     "name": "stdout",
     "output_type": "stream",
     "text": [
      "<class 'pandas.core.frame.DataFrame'>\n",
      "RangeIndex: 202607 entries, 0 to 202606\n",
      "Data columns (total 4 columns):\n",
      "id           202607 non-null object\n",
      "call_date    202607 non-null object\n",
      "duration     202607 non-null float64\n",
      "user_id      202607 non-null int64\n",
      "dtypes: float64(1), int64(1), object(2)\n",
      "memory usage: 6.2+ MB\n"
     ]
    }
   ],
   "source": [
    "calls.info()"
   ]
  },
  {
   "cell_type": "code",
   "execution_count": 4,
   "metadata": {},
   "outputs": [
    {
     "data": {
      "text/html": [
       "<div>\n",
       "<style scoped>\n",
       "    .dataframe tbody tr th:only-of-type {\n",
       "        vertical-align: middle;\n",
       "    }\n",
       "\n",
       "    .dataframe tbody tr th {\n",
       "        vertical-align: top;\n",
       "    }\n",
       "\n",
       "    .dataframe thead th {\n",
       "        text-align: right;\n",
       "    }\n",
       "</style>\n",
       "<table border=\"1\" class=\"dataframe\">\n",
       "  <thead>\n",
       "    <tr style=\"text-align: right;\">\n",
       "      <th></th>\n",
       "      <th>id</th>\n",
       "      <th>call_date</th>\n",
       "      <th>duration</th>\n",
       "      <th>user_id</th>\n",
       "    </tr>\n",
       "  </thead>\n",
       "  <tbody>\n",
       "    <tr>\n",
       "      <td>0</td>\n",
       "      <td>1000_0</td>\n",
       "      <td>2018-07-25</td>\n",
       "      <td>0.00</td>\n",
       "      <td>1000</td>\n",
       "    </tr>\n",
       "    <tr>\n",
       "      <td>1</td>\n",
       "      <td>1000_1</td>\n",
       "      <td>2018-08-17</td>\n",
       "      <td>0.00</td>\n",
       "      <td>1000</td>\n",
       "    </tr>\n",
       "    <tr>\n",
       "      <td>2</td>\n",
       "      <td>1000_2</td>\n",
       "      <td>2018-06-11</td>\n",
       "      <td>2.85</td>\n",
       "      <td>1000</td>\n",
       "    </tr>\n",
       "    <tr>\n",
       "      <td>3</td>\n",
       "      <td>1000_3</td>\n",
       "      <td>2018-09-21</td>\n",
       "      <td>13.80</td>\n",
       "      <td>1000</td>\n",
       "    </tr>\n",
       "    <tr>\n",
       "      <td>4</td>\n",
       "      <td>1000_4</td>\n",
       "      <td>2018-12-15</td>\n",
       "      <td>5.18</td>\n",
       "      <td>1000</td>\n",
       "    </tr>\n",
       "  </tbody>\n",
       "</table>\n",
       "</div>"
      ],
      "text/plain": [
       "       id   call_date  duration  user_id\n",
       "0  1000_0  2018-07-25      0.00     1000\n",
       "1  1000_1  2018-08-17      0.00     1000\n",
       "2  1000_2  2018-06-11      2.85     1000\n",
       "3  1000_3  2018-09-21     13.80     1000\n",
       "4  1000_4  2018-12-15      5.18     1000"
      ]
     },
     "execution_count": 4,
     "metadata": {},
     "output_type": "execute_result"
    }
   ],
   "source": [
    "calls.head()"
   ]
  },
  {
   "cell_type": "markdown",
   "metadata": {},
   "source": [
    "**Таблица `calls` (информация о звонках):**\n",
    "* id — уникальный номер звонка\n",
    "* call_date — дата звонка\n",
    "* duration — длительность звонка в минутах\n",
    "* user_id — идентификатор пользователя, сделавшего звонок"
   ]
  },
  {
   "cell_type": "markdown",
   "metadata": {},
   "source": [
    "<div style=\"border-radius: 15px; border: 3px solid black; padding: 15px;\">\n",
    "\n",
    "   **Примечание:**\n",
    "\n",
    "Звонки с нулевой продолжительностью. Это не ошибка: нулями обозначены пропущенные звонки, поэтому их не нужно удалять.\n",
    "    \n",
    "</div>"
   ]
  },
  {
   "cell_type": "code",
   "execution_count": 5,
   "metadata": {},
   "outputs": [
    {
     "name": "stdout",
     "output_type": "stream",
     "text": [
      "<class 'pandas.core.frame.DataFrame'>\n",
      "Int64Index: 149396 entries, 0 to 149395\n",
      "Data columns (total 4 columns):\n",
      "id              149396 non-null object\n",
      "mb_used         149396 non-null float64\n",
      "session_date    149396 non-null object\n",
      "user_id         149396 non-null int64\n",
      "dtypes: float64(1), int64(1), object(2)\n",
      "memory usage: 5.7+ MB\n"
     ]
    }
   ],
   "source": [
    "internet.info()"
   ]
  },
  {
   "cell_type": "code",
   "execution_count": 6,
   "metadata": {},
   "outputs": [
    {
     "data": {
      "text/html": [
       "<div>\n",
       "<style scoped>\n",
       "    .dataframe tbody tr th:only-of-type {\n",
       "        vertical-align: middle;\n",
       "    }\n",
       "\n",
       "    .dataframe tbody tr th {\n",
       "        vertical-align: top;\n",
       "    }\n",
       "\n",
       "    .dataframe thead th {\n",
       "        text-align: right;\n",
       "    }\n",
       "</style>\n",
       "<table border=\"1\" class=\"dataframe\">\n",
       "  <thead>\n",
       "    <tr style=\"text-align: right;\">\n",
       "      <th></th>\n",
       "      <th>id</th>\n",
       "      <th>mb_used</th>\n",
       "      <th>session_date</th>\n",
       "      <th>user_id</th>\n",
       "    </tr>\n",
       "  </thead>\n",
       "  <tbody>\n",
       "    <tr>\n",
       "      <td>0</td>\n",
       "      <td>1000_0</td>\n",
       "      <td>112.95</td>\n",
       "      <td>2018-11-25</td>\n",
       "      <td>1000</td>\n",
       "    </tr>\n",
       "    <tr>\n",
       "      <td>1</td>\n",
       "      <td>1000_1</td>\n",
       "      <td>1052.81</td>\n",
       "      <td>2018-09-07</td>\n",
       "      <td>1000</td>\n",
       "    </tr>\n",
       "    <tr>\n",
       "      <td>2</td>\n",
       "      <td>1000_2</td>\n",
       "      <td>1197.26</td>\n",
       "      <td>2018-06-25</td>\n",
       "      <td>1000</td>\n",
       "    </tr>\n",
       "    <tr>\n",
       "      <td>3</td>\n",
       "      <td>1000_3</td>\n",
       "      <td>550.27</td>\n",
       "      <td>2018-08-22</td>\n",
       "      <td>1000</td>\n",
       "    </tr>\n",
       "    <tr>\n",
       "      <td>4</td>\n",
       "      <td>1000_4</td>\n",
       "      <td>302.56</td>\n",
       "      <td>2018-09-24</td>\n",
       "      <td>1000</td>\n",
       "    </tr>\n",
       "  </tbody>\n",
       "</table>\n",
       "</div>"
      ],
      "text/plain": [
       "       id  mb_used session_date  user_id\n",
       "0  1000_0   112.95   2018-11-25     1000\n",
       "1  1000_1  1052.81   2018-09-07     1000\n",
       "2  1000_2  1197.26   2018-06-25     1000\n",
       "3  1000_3   550.27   2018-08-22     1000\n",
       "4  1000_4   302.56   2018-09-24     1000"
      ]
     },
     "execution_count": 6,
     "metadata": {},
     "output_type": "execute_result"
    }
   ],
   "source": [
    "internet.head()"
   ]
  },
  {
   "cell_type": "markdown",
   "metadata": {},
   "source": [
    "**Таблица `internet` (информация об интернет-сессиях):**\n",
    "* id — уникальный номер сессии\n",
    "* mb_used — объём потраченного за сессию интернет-трафика (в мегабайтах)\n",
    "* session_date — дата интернет-сессии\n",
    "* user_id — идентификатор пользователя"
   ]
  },
  {
   "cell_type": "code",
   "execution_count": 7,
   "metadata": {},
   "outputs": [
    {
     "name": "stdout",
     "output_type": "stream",
     "text": [
      "<class 'pandas.core.frame.DataFrame'>\n",
      "RangeIndex: 123036 entries, 0 to 123035\n",
      "Data columns (total 3 columns):\n",
      "id              123036 non-null object\n",
      "message_date    123036 non-null object\n",
      "user_id         123036 non-null int64\n",
      "dtypes: int64(1), object(2)\n",
      "memory usage: 2.8+ MB\n"
     ]
    }
   ],
   "source": [
    "messages.info()"
   ]
  },
  {
   "cell_type": "code",
   "execution_count": 8,
   "metadata": {},
   "outputs": [
    {
     "data": {
      "text/html": [
       "<div>\n",
       "<style scoped>\n",
       "    .dataframe tbody tr th:only-of-type {\n",
       "        vertical-align: middle;\n",
       "    }\n",
       "\n",
       "    .dataframe tbody tr th {\n",
       "        vertical-align: top;\n",
       "    }\n",
       "\n",
       "    .dataframe thead th {\n",
       "        text-align: right;\n",
       "    }\n",
       "</style>\n",
       "<table border=\"1\" class=\"dataframe\">\n",
       "  <thead>\n",
       "    <tr style=\"text-align: right;\">\n",
       "      <th></th>\n",
       "      <th>id</th>\n",
       "      <th>message_date</th>\n",
       "      <th>user_id</th>\n",
       "    </tr>\n",
       "  </thead>\n",
       "  <tbody>\n",
       "    <tr>\n",
       "      <td>0</td>\n",
       "      <td>1000_0</td>\n",
       "      <td>2018-06-27</td>\n",
       "      <td>1000</td>\n",
       "    </tr>\n",
       "    <tr>\n",
       "      <td>1</td>\n",
       "      <td>1000_1</td>\n",
       "      <td>2018-10-08</td>\n",
       "      <td>1000</td>\n",
       "    </tr>\n",
       "    <tr>\n",
       "      <td>2</td>\n",
       "      <td>1000_2</td>\n",
       "      <td>2018-08-04</td>\n",
       "      <td>1000</td>\n",
       "    </tr>\n",
       "    <tr>\n",
       "      <td>3</td>\n",
       "      <td>1000_3</td>\n",
       "      <td>2018-06-16</td>\n",
       "      <td>1000</td>\n",
       "    </tr>\n",
       "    <tr>\n",
       "      <td>4</td>\n",
       "      <td>1000_4</td>\n",
       "      <td>2018-12-05</td>\n",
       "      <td>1000</td>\n",
       "    </tr>\n",
       "  </tbody>\n",
       "</table>\n",
       "</div>"
      ],
      "text/plain": [
       "       id message_date  user_id\n",
       "0  1000_0   2018-06-27     1000\n",
       "1  1000_1   2018-10-08     1000\n",
       "2  1000_2   2018-08-04     1000\n",
       "3  1000_3   2018-06-16     1000\n",
       "4  1000_4   2018-12-05     1000"
      ]
     },
     "execution_count": 8,
     "metadata": {},
     "output_type": "execute_result"
    }
   ],
   "source": [
    "messages.head()"
   ]
  },
  {
   "cell_type": "markdown",
   "metadata": {},
   "source": [
    "**Таблица `messages` (информация о сообщениях):**\n",
    "* id — уникальный номер сообщения\n",
    "* message_date — дата сообщения\n",
    "* user_id — идентификатор пользователя, отправившего сообщени"
   ]
  },
  {
   "cell_type": "code",
   "execution_count": 9,
   "metadata": {},
   "outputs": [
    {
     "name": "stdout",
     "output_type": "stream",
     "text": [
      "<class 'pandas.core.frame.DataFrame'>\n",
      "RangeIndex: 2 entries, 0 to 1\n",
      "Data columns (total 8 columns):\n",
      "messages_included        2 non-null int64\n",
      "mb_per_month_included    2 non-null int64\n",
      "minutes_included         2 non-null int64\n",
      "rub_monthly_fee          2 non-null int64\n",
      "rub_per_gb               2 non-null int64\n",
      "rub_per_message          2 non-null int64\n",
      "rub_per_minute           2 non-null int64\n",
      "tariff_name              2 non-null object\n",
      "dtypes: int64(7), object(1)\n",
      "memory usage: 256.0+ bytes\n"
     ]
    }
   ],
   "source": [
    "tariffs.info()"
   ]
  },
  {
   "cell_type": "code",
   "execution_count": 10,
   "metadata": {},
   "outputs": [
    {
     "data": {
      "text/html": [
       "<div>\n",
       "<style scoped>\n",
       "    .dataframe tbody tr th:only-of-type {\n",
       "        vertical-align: middle;\n",
       "    }\n",
       "\n",
       "    .dataframe tbody tr th {\n",
       "        vertical-align: top;\n",
       "    }\n",
       "\n",
       "    .dataframe thead th {\n",
       "        text-align: right;\n",
       "    }\n",
       "</style>\n",
       "<table border=\"1\" class=\"dataframe\">\n",
       "  <thead>\n",
       "    <tr style=\"text-align: right;\">\n",
       "      <th></th>\n",
       "      <th>messages_included</th>\n",
       "      <th>mb_per_month_included</th>\n",
       "      <th>minutes_included</th>\n",
       "      <th>rub_monthly_fee</th>\n",
       "      <th>rub_per_gb</th>\n",
       "      <th>rub_per_message</th>\n",
       "      <th>rub_per_minute</th>\n",
       "      <th>tariff_name</th>\n",
       "    </tr>\n",
       "  </thead>\n",
       "  <tbody>\n",
       "    <tr>\n",
       "      <td>0</td>\n",
       "      <td>50</td>\n",
       "      <td>15360</td>\n",
       "      <td>500</td>\n",
       "      <td>550</td>\n",
       "      <td>200</td>\n",
       "      <td>3</td>\n",
       "      <td>3</td>\n",
       "      <td>smart</td>\n",
       "    </tr>\n",
       "    <tr>\n",
       "      <td>1</td>\n",
       "      <td>1000</td>\n",
       "      <td>30720</td>\n",
       "      <td>3000</td>\n",
       "      <td>1950</td>\n",
       "      <td>150</td>\n",
       "      <td>1</td>\n",
       "      <td>1</td>\n",
       "      <td>ultra</td>\n",
       "    </tr>\n",
       "  </tbody>\n",
       "</table>\n",
       "</div>"
      ],
      "text/plain": [
       "   messages_included  mb_per_month_included  minutes_included  \\\n",
       "0                 50                  15360               500   \n",
       "1               1000                  30720              3000   \n",
       "\n",
       "   rub_monthly_fee  rub_per_gb  rub_per_message  rub_per_minute tariff_name  \n",
       "0              550         200                3               3       smart  \n",
       "1             1950         150                1               1       ultra  "
      ]
     },
     "execution_count": 10,
     "metadata": {},
     "output_type": "execute_result"
    }
   ],
   "source": [
    "tariffs.head()"
   ]
  },
  {
   "cell_type": "markdown",
   "metadata": {},
   "source": [
    "**Таблица `tariffs` (информация о тарифах):**\n",
    "\n",
    "* tariff_name — название тарифа\n",
    "* rub_monthly_fee — ежемесячная абонентская плата в рублях\n",
    "* minutes_included — количество минут разговора в месяц, включённых в абонентскую плату\n",
    "* messages_included — количество сообщений в месяц, включённых в абонентскую плату\n",
    "* mb_per_month_included — объём интернет-трафика, включённого в абонентскую плату (в мегабайтах)\n",
    "* rub_per_minute — стоимость минуты разговора сверх тарифного пакета (например, если в тарифе 100 минут разговора в месяц, то со * 101 минуты будет взиматься плата)\n",
    "* rub_per_message — стоимость отправки сообщения сверх тарифного пакета\n",
    "* rub_per_gb — стоимость дополнительного гигабайта интернет-трафика сверх тарифного пакета (1 гигабайт = 1024 мегабайта)"
   ]
  },
  {
   "cell_type": "code",
   "execution_count": 11,
   "metadata": {},
   "outputs": [
    {
     "name": "stdout",
     "output_type": "stream",
     "text": [
      "<class 'pandas.core.frame.DataFrame'>\n",
      "RangeIndex: 500 entries, 0 to 499\n",
      "Data columns (total 8 columns):\n",
      "user_id       500 non-null int64\n",
      "age           500 non-null int64\n",
      "churn_date    38 non-null object\n",
      "city          500 non-null object\n",
      "first_name    500 non-null object\n",
      "last_name     500 non-null object\n",
      "reg_date      500 non-null object\n",
      "tariff        500 non-null object\n",
      "dtypes: int64(2), object(6)\n",
      "memory usage: 31.4+ KB\n"
     ]
    }
   ],
   "source": [
    "users.info()"
   ]
  },
  {
   "cell_type": "code",
   "execution_count": 12,
   "metadata": {},
   "outputs": [
    {
     "data": {
      "text/html": [
       "<div>\n",
       "<style scoped>\n",
       "    .dataframe tbody tr th:only-of-type {\n",
       "        vertical-align: middle;\n",
       "    }\n",
       "\n",
       "    .dataframe tbody tr th {\n",
       "        vertical-align: top;\n",
       "    }\n",
       "\n",
       "    .dataframe thead th {\n",
       "        text-align: right;\n",
       "    }\n",
       "</style>\n",
       "<table border=\"1\" class=\"dataframe\">\n",
       "  <thead>\n",
       "    <tr style=\"text-align: right;\">\n",
       "      <th></th>\n",
       "      <th>user_id</th>\n",
       "      <th>age</th>\n",
       "      <th>churn_date</th>\n",
       "      <th>city</th>\n",
       "      <th>first_name</th>\n",
       "      <th>last_name</th>\n",
       "      <th>reg_date</th>\n",
       "      <th>tariff</th>\n",
       "    </tr>\n",
       "  </thead>\n",
       "  <tbody>\n",
       "    <tr>\n",
       "      <td>0</td>\n",
       "      <td>1000</td>\n",
       "      <td>52</td>\n",
       "      <td>NaN</td>\n",
       "      <td>Краснодар</td>\n",
       "      <td>Рафаил</td>\n",
       "      <td>Верещагин</td>\n",
       "      <td>2018-05-25</td>\n",
       "      <td>ultra</td>\n",
       "    </tr>\n",
       "    <tr>\n",
       "      <td>1</td>\n",
       "      <td>1001</td>\n",
       "      <td>41</td>\n",
       "      <td>NaN</td>\n",
       "      <td>Москва</td>\n",
       "      <td>Иван</td>\n",
       "      <td>Ежов</td>\n",
       "      <td>2018-11-01</td>\n",
       "      <td>smart</td>\n",
       "    </tr>\n",
       "    <tr>\n",
       "      <td>2</td>\n",
       "      <td>1002</td>\n",
       "      <td>59</td>\n",
       "      <td>NaN</td>\n",
       "      <td>Стерлитамак</td>\n",
       "      <td>Евгений</td>\n",
       "      <td>Абрамович</td>\n",
       "      <td>2018-06-17</td>\n",
       "      <td>smart</td>\n",
       "    </tr>\n",
       "    <tr>\n",
       "      <td>3</td>\n",
       "      <td>1003</td>\n",
       "      <td>23</td>\n",
       "      <td>NaN</td>\n",
       "      <td>Москва</td>\n",
       "      <td>Белла</td>\n",
       "      <td>Белякова</td>\n",
       "      <td>2018-08-17</td>\n",
       "      <td>ultra</td>\n",
       "    </tr>\n",
       "    <tr>\n",
       "      <td>4</td>\n",
       "      <td>1004</td>\n",
       "      <td>68</td>\n",
       "      <td>NaN</td>\n",
       "      <td>Новокузнецк</td>\n",
       "      <td>Татьяна</td>\n",
       "      <td>Авдеенко</td>\n",
       "      <td>2018-05-14</td>\n",
       "      <td>ultra</td>\n",
       "    </tr>\n",
       "  </tbody>\n",
       "</table>\n",
       "</div>"
      ],
      "text/plain": [
       "   user_id  age churn_date         city first_name  last_name    reg_date  \\\n",
       "0     1000   52        NaN    Краснодар     Рафаил  Верещагин  2018-05-25   \n",
       "1     1001   41        NaN       Москва       Иван       Ежов  2018-11-01   \n",
       "2     1002   59        NaN  Стерлитамак    Евгений  Абрамович  2018-06-17   \n",
       "3     1003   23        NaN       Москва      Белла   Белякова  2018-08-17   \n",
       "4     1004   68        NaN  Новокузнецк    Татьяна   Авдеенко  2018-05-14   \n",
       "\n",
       "  tariff  \n",
       "0  ultra  \n",
       "1  smart  \n",
       "2  smart  \n",
       "3  ultra  \n",
       "4  ultra  "
      ]
     },
     "execution_count": 12,
     "metadata": {},
     "output_type": "execute_result"
    }
   ],
   "source": [
    "users.head()"
   ]
  },
  {
   "cell_type": "markdown",
   "metadata": {},
   "source": [
    "**Таблица users (информация о пользователях):**\n",
    "\n",
    "* user_id — уникальный идентификатор пользователя\n",
    "* first_name — имя пользователя\n",
    "* last_name — фамилия пользователя\n",
    "* age — возраст пользователя (годы)\n",
    "* reg_date — дата подключения тарифа (день, месяц, год)\n",
    "* churn_date — дата прекращения пользования тарифом (если значение пропущено, то тариф ещё действовал на момент выгрузки данных)\n",
    "* city — город проживания пользователя\n",
    "* tarif — название тарифного плана"
   ]
  },
  {
   "cell_type": "markdown",
   "metadata": {},
   "source": [
    "### Вывод"
   ]
  },
  {
   "cell_type": "markdown",
   "metadata": {},
   "source": [
    "Общий стиль названий таблиц выдержан.\n",
    "\n",
    "Лишь в таблице `users` отсутсвуют значения в дате прекращения пользования тарифом потому, что тариф еще использовался абонентом.\n",
    "\n",
    "В таблице `tariffs` содержится общая информация о тарифах.\n",
    "\n",
    "Приступим к предобработке данных:"
   ]
  },
  {
   "cell_type": "markdown",
   "metadata": {},
   "source": [
    "## Предобработка данных"
   ]
  },
  {
   "cell_type": "markdown",
   "metadata": {},
   "source": [
    "Перед тем, как провести анализ данных, проведем предобработку:\n",
    "\n",
    "* проверим дубликаты\n",
    "* проверим возможные ошибки и исправим их\n",
    "* объединим таблицы для анализа данных помесячно.\n"
   ]
  },
  {
   "cell_type": "markdown",
   "metadata": {},
   "source": [
    "Проверим дубликаты в таблицах:"
   ]
  },
  {
   "cell_type": "code",
   "execution_count": 13,
   "metadata": {},
   "outputs": [
    {
     "data": {
      "text/plain": [
       "0"
      ]
     },
     "metadata": {},
     "output_type": "display_data"
    },
    {
     "data": {
      "text/plain": [
       "0"
      ]
     },
     "metadata": {},
     "output_type": "display_data"
    },
    {
     "data": {
      "text/plain": [
       "0"
      ]
     },
     "metadata": {},
     "output_type": "display_data"
    },
    {
     "data": {
      "text/plain": [
       "0"
      ]
     },
     "metadata": {},
     "output_type": "display_data"
    }
   ],
   "source": [
    "display(\n",
    "    calls.duplicated().sum(),\n",
    "    internet.duplicated().sum(),\n",
    "    messages.duplicated().sum(),\n",
    "    users.duplicated().sum(),\n",
    ")"
   ]
  },
  {
   "cell_type": "markdown",
   "metadata": {},
   "source": [
    "Дубликаты отсутствуют"
   ]
  },
  {
   "cell_type": "markdown",
   "metadata": {},
   "source": [
    "Изменим формат времени и добавим в таблицы год и месяц, чтобы создать единый помесячный датасет:"
   ]
  },
  {
   "cell_type": "code",
   "execution_count": 14,
   "metadata": {},
   "outputs": [
    {
     "data": {
      "text/html": [
       "<div>\n",
       "<style scoped>\n",
       "    .dataframe tbody tr th:only-of-type {\n",
       "        vertical-align: middle;\n",
       "    }\n",
       "\n",
       "    .dataframe tbody tr th {\n",
       "        vertical-align: top;\n",
       "    }\n",
       "\n",
       "    .dataframe thead th {\n",
       "        text-align: right;\n",
       "    }\n",
       "</style>\n",
       "<table border=\"1\" class=\"dataframe\">\n",
       "  <thead>\n",
       "    <tr style=\"text-align: right;\">\n",
       "      <th></th>\n",
       "      <th>id</th>\n",
       "      <th>call_date</th>\n",
       "      <th>duration</th>\n",
       "      <th>user_id</th>\n",
       "      <th>month</th>\n",
       "    </tr>\n",
       "  </thead>\n",
       "  <tbody>\n",
       "    <tr>\n",
       "      <td>0</td>\n",
       "      <td>1000_0</td>\n",
       "      <td>2018-07-25</td>\n",
       "      <td>0.00</td>\n",
       "      <td>1000</td>\n",
       "      <td>2018-07</td>\n",
       "    </tr>\n",
       "    <tr>\n",
       "      <td>1</td>\n",
       "      <td>1000_1</td>\n",
       "      <td>2018-08-17</td>\n",
       "      <td>0.00</td>\n",
       "      <td>1000</td>\n",
       "      <td>2018-08</td>\n",
       "    </tr>\n",
       "    <tr>\n",
       "      <td>2</td>\n",
       "      <td>1000_2</td>\n",
       "      <td>2018-06-11</td>\n",
       "      <td>2.85</td>\n",
       "      <td>1000</td>\n",
       "      <td>2018-06</td>\n",
       "    </tr>\n",
       "    <tr>\n",
       "      <td>3</td>\n",
       "      <td>1000_3</td>\n",
       "      <td>2018-09-21</td>\n",
       "      <td>13.80</td>\n",
       "      <td>1000</td>\n",
       "      <td>2018-09</td>\n",
       "    </tr>\n",
       "    <tr>\n",
       "      <td>4</td>\n",
       "      <td>1000_4</td>\n",
       "      <td>2018-12-15</td>\n",
       "      <td>5.18</td>\n",
       "      <td>1000</td>\n",
       "      <td>2018-12</td>\n",
       "    </tr>\n",
       "  </tbody>\n",
       "</table>\n",
       "</div>"
      ],
      "text/plain": [
       "       id  call_date  duration  user_id    month\n",
       "0  1000_0 2018-07-25      0.00     1000  2018-07\n",
       "1  1000_1 2018-08-17      0.00     1000  2018-08\n",
       "2  1000_2 2018-06-11      2.85     1000  2018-06\n",
       "3  1000_3 2018-09-21     13.80     1000  2018-09\n",
       "4  1000_4 2018-12-15      5.18     1000  2018-12"
      ]
     },
     "execution_count": 14,
     "metadata": {},
     "output_type": "execute_result"
    }
   ],
   "source": [
    "# переводим в формат DateTime\n",
    "calls['call_date'] = pd.to_datetime(calls['call_date'], format='%Y-%m-%d')\n",
    "\n",
    "# добавляем столбец с годом / месяцем\n",
    "calls['month'] = pd.DatetimeIndex(calls['call_date']).map(lambda x: x.strftime('%Y-%m'))\n",
    "\n",
    "calls.head()"
   ]
  },
  {
   "cell_type": "code",
   "execution_count": 15,
   "metadata": {},
   "outputs": [
    {
     "data": {
      "text/html": [
       "<div>\n",
       "<style scoped>\n",
       "    .dataframe tbody tr th:only-of-type {\n",
       "        vertical-align: middle;\n",
       "    }\n",
       "\n",
       "    .dataframe tbody tr th {\n",
       "        vertical-align: top;\n",
       "    }\n",
       "\n",
       "    .dataframe thead th {\n",
       "        text-align: right;\n",
       "    }\n",
       "</style>\n",
       "<table border=\"1\" class=\"dataframe\">\n",
       "  <thead>\n",
       "    <tr style=\"text-align: right;\">\n",
       "      <th></th>\n",
       "      <th>id</th>\n",
       "      <th>mb_used</th>\n",
       "      <th>session_date</th>\n",
       "      <th>user_id</th>\n",
       "      <th>month</th>\n",
       "    </tr>\n",
       "  </thead>\n",
       "  <tbody>\n",
       "    <tr>\n",
       "      <td>0</td>\n",
       "      <td>1000_0</td>\n",
       "      <td>112.95</td>\n",
       "      <td>2018-11-25</td>\n",
       "      <td>1000</td>\n",
       "      <td>2018-11</td>\n",
       "    </tr>\n",
       "    <tr>\n",
       "      <td>1</td>\n",
       "      <td>1000_1</td>\n",
       "      <td>1052.81</td>\n",
       "      <td>2018-09-07</td>\n",
       "      <td>1000</td>\n",
       "      <td>2018-09</td>\n",
       "    </tr>\n",
       "    <tr>\n",
       "      <td>2</td>\n",
       "      <td>1000_2</td>\n",
       "      <td>1197.26</td>\n",
       "      <td>2018-06-25</td>\n",
       "      <td>1000</td>\n",
       "      <td>2018-06</td>\n",
       "    </tr>\n",
       "    <tr>\n",
       "      <td>3</td>\n",
       "      <td>1000_3</td>\n",
       "      <td>550.27</td>\n",
       "      <td>2018-08-22</td>\n",
       "      <td>1000</td>\n",
       "      <td>2018-08</td>\n",
       "    </tr>\n",
       "    <tr>\n",
       "      <td>4</td>\n",
       "      <td>1000_4</td>\n",
       "      <td>302.56</td>\n",
       "      <td>2018-09-24</td>\n",
       "      <td>1000</td>\n",
       "      <td>2018-09</td>\n",
       "    </tr>\n",
       "  </tbody>\n",
       "</table>\n",
       "</div>"
      ],
      "text/plain": [
       "       id  mb_used session_date  user_id    month\n",
       "0  1000_0   112.95   2018-11-25     1000  2018-11\n",
       "1  1000_1  1052.81   2018-09-07     1000  2018-09\n",
       "2  1000_2  1197.26   2018-06-25     1000  2018-06\n",
       "3  1000_3   550.27   2018-08-22     1000  2018-08\n",
       "4  1000_4   302.56   2018-09-24     1000  2018-09"
      ]
     },
     "execution_count": 15,
     "metadata": {},
     "output_type": "execute_result"
    }
   ],
   "source": [
    "# переводим в формат DateTime\n",
    "internet['session_date'] = pd.to_datetime(internet['session_date'], format='%Y-%m-%dT')\n",
    "\n",
    "# добавляем столбец с годом / месяцем\n",
    "internet['month'] = pd.DatetimeIndex(internet['session_date']).map(lambda x: x.strftime('%Y-%m'))\n",
    "\n",
    "internet.head()"
   ]
  },
  {
   "cell_type": "code",
   "execution_count": 16,
   "metadata": {},
   "outputs": [
    {
     "data": {
      "text/html": [
       "<div>\n",
       "<style scoped>\n",
       "    .dataframe tbody tr th:only-of-type {\n",
       "        vertical-align: middle;\n",
       "    }\n",
       "\n",
       "    .dataframe tbody tr th {\n",
       "        vertical-align: top;\n",
       "    }\n",
       "\n",
       "    .dataframe thead th {\n",
       "        text-align: right;\n",
       "    }\n",
       "</style>\n",
       "<table border=\"1\" class=\"dataframe\">\n",
       "  <thead>\n",
       "    <tr style=\"text-align: right;\">\n",
       "      <th></th>\n",
       "      <th>id</th>\n",
       "      <th>message_date</th>\n",
       "      <th>user_id</th>\n",
       "      <th>month</th>\n",
       "    </tr>\n",
       "  </thead>\n",
       "  <tbody>\n",
       "    <tr>\n",
       "      <td>0</td>\n",
       "      <td>1000_0</td>\n",
       "      <td>2018-06-27</td>\n",
       "      <td>1000</td>\n",
       "      <td>2018-06</td>\n",
       "    </tr>\n",
       "    <tr>\n",
       "      <td>1</td>\n",
       "      <td>1000_1</td>\n",
       "      <td>2018-10-08</td>\n",
       "      <td>1000</td>\n",
       "      <td>2018-10</td>\n",
       "    </tr>\n",
       "    <tr>\n",
       "      <td>2</td>\n",
       "      <td>1000_2</td>\n",
       "      <td>2018-08-04</td>\n",
       "      <td>1000</td>\n",
       "      <td>2018-08</td>\n",
       "    </tr>\n",
       "    <tr>\n",
       "      <td>3</td>\n",
       "      <td>1000_3</td>\n",
       "      <td>2018-06-16</td>\n",
       "      <td>1000</td>\n",
       "      <td>2018-06</td>\n",
       "    </tr>\n",
       "    <tr>\n",
       "      <td>4</td>\n",
       "      <td>1000_4</td>\n",
       "      <td>2018-12-05</td>\n",
       "      <td>1000</td>\n",
       "      <td>2018-12</td>\n",
       "    </tr>\n",
       "  </tbody>\n",
       "</table>\n",
       "</div>"
      ],
      "text/plain": [
       "       id message_date  user_id    month\n",
       "0  1000_0   2018-06-27     1000  2018-06\n",
       "1  1000_1   2018-10-08     1000  2018-10\n",
       "2  1000_2   2018-08-04     1000  2018-08\n",
       "3  1000_3   2018-06-16     1000  2018-06\n",
       "4  1000_4   2018-12-05     1000  2018-12"
      ]
     },
     "execution_count": 16,
     "metadata": {},
     "output_type": "execute_result"
    }
   ],
   "source": [
    "# переводим в формат DateTime\n",
    "messages['message_date'] = pd.to_datetime(messages['message_date'], format='%Y-%m-%dT')\n",
    "\n",
    "# добавляем столбец с годом / месяцем\n",
    "messages['month'] = pd.DatetimeIndex(messages['message_date']).map(lambda x: x.strftime('%Y-%m'))\n",
    "\n",
    "messages.head()"
   ]
  },
  {
   "cell_type": "markdown",
   "metadata": {},
   "source": [
    "Добавим в таблицу calls общие минуты каждого звонка (звонки округляются до минут):"
   ]
  },
  {
   "cell_type": "code",
   "execution_count": 17,
   "metadata": {},
   "outputs": [
    {
     "data": {
      "text/html": [
       "<div>\n",
       "<style scoped>\n",
       "    .dataframe tbody tr th:only-of-type {\n",
       "        vertical-align: middle;\n",
       "    }\n",
       "\n",
       "    .dataframe tbody tr th {\n",
       "        vertical-align: top;\n",
       "    }\n",
       "\n",
       "    .dataframe thead th {\n",
       "        text-align: right;\n",
       "    }\n",
       "</style>\n",
       "<table border=\"1\" class=\"dataframe\">\n",
       "  <thead>\n",
       "    <tr style=\"text-align: right;\">\n",
       "      <th></th>\n",
       "      <th>id</th>\n",
       "      <th>call_date</th>\n",
       "      <th>duration</th>\n",
       "      <th>user_id</th>\n",
       "      <th>month</th>\n",
       "      <th>minutes</th>\n",
       "    </tr>\n",
       "  </thead>\n",
       "  <tbody>\n",
       "    <tr>\n",
       "      <td>0</td>\n",
       "      <td>1000_0</td>\n",
       "      <td>2018-07-25</td>\n",
       "      <td>0.00</td>\n",
       "      <td>1000</td>\n",
       "      <td>2018-07</td>\n",
       "      <td>0</td>\n",
       "    </tr>\n",
       "    <tr>\n",
       "      <td>1</td>\n",
       "      <td>1000_1</td>\n",
       "      <td>2018-08-17</td>\n",
       "      <td>0.00</td>\n",
       "      <td>1000</td>\n",
       "      <td>2018-08</td>\n",
       "      <td>0</td>\n",
       "    </tr>\n",
       "    <tr>\n",
       "      <td>2</td>\n",
       "      <td>1000_2</td>\n",
       "      <td>2018-06-11</td>\n",
       "      <td>2.85</td>\n",
       "      <td>1000</td>\n",
       "      <td>2018-06</td>\n",
       "      <td>3</td>\n",
       "    </tr>\n",
       "    <tr>\n",
       "      <td>3</td>\n",
       "      <td>1000_3</td>\n",
       "      <td>2018-09-21</td>\n",
       "      <td>13.80</td>\n",
       "      <td>1000</td>\n",
       "      <td>2018-09</td>\n",
       "      <td>14</td>\n",
       "    </tr>\n",
       "    <tr>\n",
       "      <td>4</td>\n",
       "      <td>1000_4</td>\n",
       "      <td>2018-12-15</td>\n",
       "      <td>5.18</td>\n",
       "      <td>1000</td>\n",
       "      <td>2018-12</td>\n",
       "      <td>6</td>\n",
       "    </tr>\n",
       "  </tbody>\n",
       "</table>\n",
       "</div>"
      ],
      "text/plain": [
       "       id  call_date  duration  user_id    month  minutes\n",
       "0  1000_0 2018-07-25      0.00     1000  2018-07        0\n",
       "1  1000_1 2018-08-17      0.00     1000  2018-08        0\n",
       "2  1000_2 2018-06-11      2.85     1000  2018-06        3\n",
       "3  1000_3 2018-09-21     13.80     1000  2018-09       14\n",
       "4  1000_4 2018-12-15      5.18     1000  2018-12        6"
      ]
     },
     "execution_count": 17,
     "metadata": {},
     "output_type": "execute_result"
    }
   ],
   "source": [
    "# округляем в большую сторону с помощью библиотеки math\n",
    "calls['minutes'] = calls['duration'].apply(m.ceil)\n",
    "\n",
    "calls.head()"
   ]
  },
  {
   "cell_type": "markdown",
   "metadata": {},
   "source": [
    "### Проверка ошибок данных"
   ]
  },
  {
   "cell_type": "markdown",
   "metadata": {},
   "source": [
    "Построим гистограммы по количественным данным в таблицах и проверим, есть ошибки в данных."
   ]
  },
  {
   "cell_type": "code",
   "execution_count": 18,
   "metadata": {},
   "outputs": [
    {
     "data": {
      "text/plain": [
       "Text(0.5, 1.0, 'Продолжительность звонков')"
      ]
     },
     "execution_count": 18,
     "metadata": {},
     "output_type": "execute_result"
    },
    {
     "data": {
      "image/png": "[encoded data removed]",
      "text/plain": [
       "<Figure size 576x576 with 1 Axes>"
      ]
     },
     "metadata": {
      "needs_background": "light"
     },
     "output_type": "display_data"
    }
   ],
   "source": [
    "calls.hist('duration', bins=50, ec='black', figsize=(8,8))\n",
    "plt.title('Продолжительность звонков')"
   ]
  },
  {
   "cell_type": "code",
   "execution_count": 19,
   "metadata": {},
   "outputs": [
    {
     "data": {
      "text/plain": [
       "Text(0.5, 1.0, 'Количество сообщений')"
      ]
     },
     "execution_count": 19,
     "metadata": {},
     "output_type": "execute_result"
    },
    {
     "data": {
      "image/png": "[encoded data removed]",
      "text/plain": [
       "<Figure size 576x576 with 1 Axes>"
      ]
     },
     "metadata": {
      "needs_background": "light"
     },
     "output_type": "display_data"
    }
   ],
   "source": [
    "messages.pivot_table(index='user_id', values='id', aggfunc='count').hist(bins=50, ec='black', figsize=(8,8))\n",
    "plt.title('Количество сообщений')"
   ]
  },
  {
   "cell_type": "code",
   "execution_count": 20,
   "metadata": {},
   "outputs": [
    {
     "data": {
      "text/plain": [
       "Text(0.5, 1.0, 'Количество использованных мегабайт')"
      ]
     },
     "execution_count": 20,
     "metadata": {},
     "output_type": "execute_result"
    },
    {
     "data": {
      "image/png": "[encoded data removed]",
      "text/plain": [
       "<Figure size 576x576 with 1 Axes>"
      ]
     },
     "metadata": {
      "needs_background": "light"
     },
     "output_type": "display_data"
    }
   ],
   "source": [
    "internet.pivot_table(index='user_id', values='mb_used', aggfunc='sum').hist(bins=50, ec='black', figsize=(8,8))\n",
    "plt.title('Количество использованных мегабайт')"
   ]
  },
  {
   "cell_type": "markdown",
   "metadata": {},
   "source": [
    "**Вывод:**\n",
    "\n",
    "* В продолжительности звонков самые большие показатели в `0` потому, что есть большое количество \"дозвонов\". Выбросов и ошибок нет.\n",
    "* В количестве сообщений тоже не имеется ошибок. Их много у `0` и максимум сообщений близкий к 1500. Цифры за месяц вполне реалистичные. \n",
    "* Использованный траффик - тоже близкое к реальности. Но людей, которые не используют интернет очень мало, по сравнению с другими таблицами.\n",
    "\n",
    "В таблицах не замечено критических ошибок и замечаний, нет больших выбросов. Нет необходимости в корректировки ошибок."
   ]
  },
  {
   "cell_type": "markdown",
   "metadata": {},
   "source": [
    "### Объединение таблиц"
   ]
  },
  {
   "cell_type": "markdown",
   "metadata": {},
   "source": [
    "Создаем сводные таблицы по месяцам для каждого абонента каждой таблицы:"
   ]
  },
  {
   "cell_type": "code",
   "execution_count": 21,
   "metadata": {},
   "outputs": [
    {
     "data": {
      "text/html": [
       "<div>\n",
       "<style scoped>\n",
       "    .dataframe tbody tr th:only-of-type {\n",
       "        vertical-align: middle;\n",
       "    }\n",
       "\n",
       "    .dataframe tbody tr th {\n",
       "        vertical-align: top;\n",
       "    }\n",
       "\n",
       "    .dataframe thead th {\n",
       "        text-align: right;\n",
       "    }\n",
       "</style>\n",
       "<table border=\"1\" class=\"dataframe\">\n",
       "  <thead>\n",
       "    <tr style=\"text-align: right;\">\n",
       "      <th></th>\n",
       "      <th></th>\n",
       "      <th>calls_count</th>\n",
       "      <th>calls_minutes</th>\n",
       "    </tr>\n",
       "    <tr>\n",
       "      <th>user_id</th>\n",
       "      <th>month</th>\n",
       "      <th></th>\n",
       "      <th></th>\n",
       "    </tr>\n",
       "  </thead>\n",
       "  <tbody>\n",
       "    <tr>\n",
       "      <td rowspan=\"5\" valign=\"top\">1000</td>\n",
       "      <td>2018-05</td>\n",
       "      <td>22</td>\n",
       "      <td>159</td>\n",
       "    </tr>\n",
       "    <tr>\n",
       "      <td>2018-06</td>\n",
       "      <td>43</td>\n",
       "      <td>172</td>\n",
       "    </tr>\n",
       "    <tr>\n",
       "      <td>2018-07</td>\n",
       "      <td>47</td>\n",
       "      <td>340</td>\n",
       "    </tr>\n",
       "    <tr>\n",
       "      <td>2018-08</td>\n",
       "      <td>52</td>\n",
       "      <td>408</td>\n",
       "    </tr>\n",
       "    <tr>\n",
       "      <td>2018-09</td>\n",
       "      <td>58</td>\n",
       "      <td>466</td>\n",
       "    </tr>\n",
       "    <tr>\n",
       "      <td>...</td>\n",
       "      <td>...</td>\n",
       "      <td>...</td>\n",
       "      <td>...</td>\n",
       "    </tr>\n",
       "    <tr>\n",
       "      <td>1498</td>\n",
       "      <td>2018-10</td>\n",
       "      <td>41</td>\n",
       "      <td>247</td>\n",
       "    </tr>\n",
       "    <tr>\n",
       "      <td rowspan=\"4\" valign=\"top\">1499</td>\n",
       "      <td>2018-09</td>\n",
       "      <td>9</td>\n",
       "      <td>70</td>\n",
       "    </tr>\n",
       "    <tr>\n",
       "      <td>2018-10</td>\n",
       "      <td>68</td>\n",
       "      <td>449</td>\n",
       "    </tr>\n",
       "    <tr>\n",
       "      <td>2018-11</td>\n",
       "      <td>74</td>\n",
       "      <td>612</td>\n",
       "    </tr>\n",
       "    <tr>\n",
       "      <td>2018-12</td>\n",
       "      <td>69</td>\n",
       "      <td>492</td>\n",
       "    </tr>\n",
       "  </tbody>\n",
       "</table>\n",
       "<p>3174 rows × 2 columns</p>\n",
       "</div>"
      ],
      "text/plain": [
       "                 calls_count  calls_minutes\n",
       "user_id month                              \n",
       "1000    2018-05           22            159\n",
       "        2018-06           43            172\n",
       "        2018-07           47            340\n",
       "        2018-08           52            408\n",
       "        2018-09           58            466\n",
       "...                      ...            ...\n",
       "1498    2018-10           41            247\n",
       "1499    2018-09            9             70\n",
       "        2018-10           68            449\n",
       "        2018-11           74            612\n",
       "        2018-12           69            492\n",
       "\n",
       "[3174 rows x 2 columns]"
      ]
     },
     "execution_count": 21,
     "metadata": {},
     "output_type": "execute_result"
    }
   ],
   "source": [
    "# сводная таблица по звонкам в месяц. Создаём две таблицы с количеством звонков и временем звонка и объединяем\n",
    "\n",
    "calls_month = calls.pivot_table(index=['user_id', 'month'], \n",
    "                                    values='minutes', \n",
    "                                    aggfunc=('sum', 'count'))\n",
    "calls_month = calls_month.rename(columns={'sum':'calls_minutes', 'count':'calls_count'})\n",
    "\n",
    "calls_month"
   ]
  },
  {
   "cell_type": "code",
   "execution_count": 22,
   "metadata": {},
   "outputs": [
    {
     "data": {
      "text/html": [
       "<div>\n",
       "<style scoped>\n",
       "    .dataframe tbody tr th:only-of-type {\n",
       "        vertical-align: middle;\n",
       "    }\n",
       "\n",
       "    .dataframe tbody tr th {\n",
       "        vertical-align: top;\n",
       "    }\n",
       "\n",
       "    .dataframe thead th {\n",
       "        text-align: right;\n",
       "    }\n",
       "</style>\n",
       "<table border=\"1\" class=\"dataframe\">\n",
       "  <thead>\n",
       "    <tr style=\"text-align: right;\">\n",
       "      <th></th>\n",
       "      <th></th>\n",
       "      <th>mb_used</th>\n",
       "      <th>gb_used</th>\n",
       "    </tr>\n",
       "    <tr>\n",
       "      <th>user_id</th>\n",
       "      <th>month</th>\n",
       "      <th></th>\n",
       "      <th></th>\n",
       "    </tr>\n",
       "  </thead>\n",
       "  <tbody>\n",
       "    <tr>\n",
       "      <td rowspan=\"5\" valign=\"top\">1000</td>\n",
       "      <td>2018-05</td>\n",
       "      <td>2253.49</td>\n",
       "      <td>3</td>\n",
       "    </tr>\n",
       "    <tr>\n",
       "      <td>2018-06</td>\n",
       "      <td>23233.77</td>\n",
       "      <td>23</td>\n",
       "    </tr>\n",
       "    <tr>\n",
       "      <td>2018-07</td>\n",
       "      <td>14003.64</td>\n",
       "      <td>14</td>\n",
       "    </tr>\n",
       "    <tr>\n",
       "      <td>2018-08</td>\n",
       "      <td>14055.93</td>\n",
       "      <td>14</td>\n",
       "    </tr>\n",
       "    <tr>\n",
       "      <td>2018-09</td>\n",
       "      <td>14568.91</td>\n",
       "      <td>15</td>\n",
       "    </tr>\n",
       "    <tr>\n",
       "      <td>...</td>\n",
       "      <td>...</td>\n",
       "      <td>...</td>\n",
       "      <td>...</td>\n",
       "    </tr>\n",
       "    <tr>\n",
       "      <td>1498</td>\n",
       "      <td>2018-10</td>\n",
       "      <td>20579.36</td>\n",
       "      <td>21</td>\n",
       "    </tr>\n",
       "    <tr>\n",
       "      <td rowspan=\"4\" valign=\"top\">1499</td>\n",
       "      <td>2018-09</td>\n",
       "      <td>1845.75</td>\n",
       "      <td>2</td>\n",
       "    </tr>\n",
       "    <tr>\n",
       "      <td>2018-10</td>\n",
       "      <td>17788.51</td>\n",
       "      <td>18</td>\n",
       "    </tr>\n",
       "    <tr>\n",
       "      <td>2018-11</td>\n",
       "      <td>17963.31</td>\n",
       "      <td>18</td>\n",
       "    </tr>\n",
       "    <tr>\n",
       "      <td>2018-12</td>\n",
       "      <td>13055.58</td>\n",
       "      <td>13</td>\n",
       "    </tr>\n",
       "  </tbody>\n",
       "</table>\n",
       "<p>3203 rows × 2 columns</p>\n",
       "</div>"
      ],
      "text/plain": [
       "                  mb_used  gb_used\n",
       "user_id month                     \n",
       "1000    2018-05   2253.49        3\n",
       "        2018-06  23233.77       23\n",
       "        2018-07  14003.64       14\n",
       "        2018-08  14055.93       14\n",
       "        2018-09  14568.91       15\n",
       "...                   ...      ...\n",
       "1498    2018-10  20579.36       21\n",
       "1499    2018-09   1845.75        2\n",
       "        2018-10  17788.51       18\n",
       "        2018-11  17963.31       18\n",
       "        2018-12  13055.58       13\n",
       "\n",
       "[3203 rows x 2 columns]"
      ]
     },
     "execution_count": 22,
     "metadata": {},
     "output_type": "execute_result"
    }
   ],
   "source": [
    "# сводная таблица по траффику в месяц\n",
    "\n",
    "internet_month = internet.pivot_table(index=['user_id', 'month'], values='mb_used', aggfunc='sum')\n",
    "\n",
    "# делим на 1024 для перевода в гб и округляем\n",
    "internet_month['gb_used'] = (internet_month['mb_used'] / 1024).apply(m.ceil)\n",
    "\n",
    "internet_month"
   ]
  },
  {
   "cell_type": "code",
   "execution_count": 23,
   "metadata": {},
   "outputs": [
    {
     "data": {
      "text/html": [
       "<div>\n",
       "<style scoped>\n",
       "    .dataframe tbody tr th:only-of-type {\n",
       "        vertical-align: middle;\n",
       "    }\n",
       "\n",
       "    .dataframe tbody tr th {\n",
       "        vertical-align: top;\n",
       "    }\n",
       "\n",
       "    .dataframe thead th {\n",
       "        text-align: right;\n",
       "    }\n",
       "</style>\n",
       "<table border=\"1\" class=\"dataframe\">\n",
       "  <thead>\n",
       "    <tr style=\"text-align: right;\">\n",
       "      <th></th>\n",
       "      <th></th>\n",
       "      <th>messages</th>\n",
       "    </tr>\n",
       "    <tr>\n",
       "      <th>user_id</th>\n",
       "      <th>month</th>\n",
       "      <th></th>\n",
       "    </tr>\n",
       "  </thead>\n",
       "  <tbody>\n",
       "    <tr>\n",
       "      <td rowspan=\"5\" valign=\"top\">1000</td>\n",
       "      <td>2018-05</td>\n",
       "      <td>22</td>\n",
       "    </tr>\n",
       "    <tr>\n",
       "      <td>2018-06</td>\n",
       "      <td>60</td>\n",
       "    </tr>\n",
       "    <tr>\n",
       "      <td>2018-07</td>\n",
       "      <td>75</td>\n",
       "    </tr>\n",
       "    <tr>\n",
       "      <td>2018-08</td>\n",
       "      <td>81</td>\n",
       "    </tr>\n",
       "    <tr>\n",
       "      <td>2018-09</td>\n",
       "      <td>57</td>\n",
       "    </tr>\n",
       "    <tr>\n",
       "      <td>...</td>\n",
       "      <td>...</td>\n",
       "      <td>...</td>\n",
       "    </tr>\n",
       "    <tr>\n",
       "      <td>1498</td>\n",
       "      <td>2018-10</td>\n",
       "      <td>42</td>\n",
       "    </tr>\n",
       "    <tr>\n",
       "      <td rowspan=\"4\" valign=\"top\">1499</td>\n",
       "      <td>2018-09</td>\n",
       "      <td>11</td>\n",
       "    </tr>\n",
       "    <tr>\n",
       "      <td>2018-10</td>\n",
       "      <td>48</td>\n",
       "    </tr>\n",
       "    <tr>\n",
       "      <td>2018-11</td>\n",
       "      <td>59</td>\n",
       "    </tr>\n",
       "    <tr>\n",
       "      <td>2018-12</td>\n",
       "      <td>66</td>\n",
       "    </tr>\n",
       "  </tbody>\n",
       "</table>\n",
       "<p>2717 rows × 1 columns</p>\n",
       "</div>"
      ],
      "text/plain": [
       "                 messages\n",
       "user_id month            \n",
       "1000    2018-05        22\n",
       "        2018-06        60\n",
       "        2018-07        75\n",
       "        2018-08        81\n",
       "        2018-09        57\n",
       "...                   ...\n",
       "1498    2018-10        42\n",
       "1499    2018-09        11\n",
       "        2018-10        48\n",
       "        2018-11        59\n",
       "        2018-12        66\n",
       "\n",
       "[2717 rows x 1 columns]"
      ]
     },
     "execution_count": 23,
     "metadata": {},
     "output_type": "execute_result"
    }
   ],
   "source": [
    "# сводная таблица по сообщениям в месяц\n",
    "\n",
    "messages_month = messages.pivot_table(index=['user_id', 'month'], values='id', aggfunc='count')\n",
    "messages_month = messages_month.rename(columns={'id':'messages'})\n",
    "\n",
    "messages_month"
   ]
  },
  {
   "cell_type": "code",
   "execution_count": 24,
   "metadata": {},
   "outputs": [
    {
     "data": {
      "text/html": [
       "<div>\n",
       "<style scoped>\n",
       "    .dataframe tbody tr th:only-of-type {\n",
       "        vertical-align: middle;\n",
       "    }\n",
       "\n",
       "    .dataframe tbody tr th {\n",
       "        vertical-align: top;\n",
       "    }\n",
       "\n",
       "    .dataframe thead th {\n",
       "        text-align: right;\n",
       "    }\n",
       "</style>\n",
       "<table border=\"1\" class=\"dataframe\">\n",
       "  <thead>\n",
       "    <tr style=\"text-align: right;\">\n",
       "      <th></th>\n",
       "      <th>month</th>\n",
       "      <th>calls_count</th>\n",
       "      <th>calls_minutes</th>\n",
       "      <th>mb_used</th>\n",
       "      <th>gb_used</th>\n",
       "      <th>messages</th>\n",
       "    </tr>\n",
       "    <tr>\n",
       "      <th>user_id</th>\n",
       "      <th></th>\n",
       "      <th></th>\n",
       "      <th></th>\n",
       "      <th></th>\n",
       "      <th></th>\n",
       "      <th></th>\n",
       "    </tr>\n",
       "  </thead>\n",
       "  <tbody>\n",
       "    <tr>\n",
       "      <td>1000</td>\n",
       "      <td>2018-05</td>\n",
       "      <td>22.0</td>\n",
       "      <td>159.0</td>\n",
       "      <td>2253.49</td>\n",
       "      <td>3.0</td>\n",
       "      <td>22.0</td>\n",
       "    </tr>\n",
       "    <tr>\n",
       "      <td>1000</td>\n",
       "      <td>2018-06</td>\n",
       "      <td>43.0</td>\n",
       "      <td>172.0</td>\n",
       "      <td>23233.77</td>\n",
       "      <td>23.0</td>\n",
       "      <td>60.0</td>\n",
       "    </tr>\n",
       "    <tr>\n",
       "      <td>1000</td>\n",
       "      <td>2018-07</td>\n",
       "      <td>47.0</td>\n",
       "      <td>340.0</td>\n",
       "      <td>14003.64</td>\n",
       "      <td>14.0</td>\n",
       "      <td>75.0</td>\n",
       "    </tr>\n",
       "    <tr>\n",
       "      <td>1000</td>\n",
       "      <td>2018-08</td>\n",
       "      <td>52.0</td>\n",
       "      <td>408.0</td>\n",
       "      <td>14055.93</td>\n",
       "      <td>14.0</td>\n",
       "      <td>81.0</td>\n",
       "    </tr>\n",
       "    <tr>\n",
       "      <td>1000</td>\n",
       "      <td>2018-09</td>\n",
       "      <td>58.0</td>\n",
       "      <td>466.0</td>\n",
       "      <td>14568.91</td>\n",
       "      <td>15.0</td>\n",
       "      <td>57.0</td>\n",
       "    </tr>\n",
       "    <tr>\n",
       "      <td>...</td>\n",
       "      <td>...</td>\n",
       "      <td>...</td>\n",
       "      <td>...</td>\n",
       "      <td>...</td>\n",
       "      <td>...</td>\n",
       "      <td>...</td>\n",
       "    </tr>\n",
       "    <tr>\n",
       "      <td>1489</td>\n",
       "      <td>2018-08</td>\n",
       "      <td>NaN</td>\n",
       "      <td>NaN</td>\n",
       "      <td>11050.56</td>\n",
       "      <td>11.0</td>\n",
       "      <td>17.0</td>\n",
       "    </tr>\n",
       "    <tr>\n",
       "      <td>1489</td>\n",
       "      <td>2018-09</td>\n",
       "      <td>NaN</td>\n",
       "      <td>NaN</td>\n",
       "      <td>17206.30</td>\n",
       "      <td>17.0</td>\n",
       "      <td>32.0</td>\n",
       "    </tr>\n",
       "    <tr>\n",
       "      <td>1489</td>\n",
       "      <td>2018-10</td>\n",
       "      <td>NaN</td>\n",
       "      <td>NaN</td>\n",
       "      <td>19559.44</td>\n",
       "      <td>20.0</td>\n",
       "      <td>21.0</td>\n",
       "    </tr>\n",
       "    <tr>\n",
       "      <td>1489</td>\n",
       "      <td>2018-11</td>\n",
       "      <td>NaN</td>\n",
       "      <td>NaN</td>\n",
       "      <td>17491.56</td>\n",
       "      <td>18.0</td>\n",
       "      <td>20.0</td>\n",
       "    </tr>\n",
       "    <tr>\n",
       "      <td>1489</td>\n",
       "      <td>2018-12</td>\n",
       "      <td>NaN</td>\n",
       "      <td>NaN</td>\n",
       "      <td>17322.51</td>\n",
       "      <td>17.0</td>\n",
       "      <td>35.0</td>\n",
       "    </tr>\n",
       "  </tbody>\n",
       "</table>\n",
       "<p>3214 rows × 6 columns</p>\n",
       "</div>"
      ],
      "text/plain": [
       "           month  calls_count  calls_minutes   mb_used  gb_used  messages\n",
       "user_id                                                                  \n",
       "1000     2018-05         22.0          159.0   2253.49      3.0      22.0\n",
       "1000     2018-06         43.0          172.0  23233.77     23.0      60.0\n",
       "1000     2018-07         47.0          340.0  14003.64     14.0      75.0\n",
       "1000     2018-08         52.0          408.0  14055.93     14.0      81.0\n",
       "1000     2018-09         58.0          466.0  14568.91     15.0      57.0\n",
       "...          ...          ...            ...       ...      ...       ...\n",
       "1489     2018-08          NaN            NaN  11050.56     11.0      17.0\n",
       "1489     2018-09          NaN            NaN  17206.30     17.0      32.0\n",
       "1489     2018-10          NaN            NaN  19559.44     20.0      21.0\n",
       "1489     2018-11          NaN            NaN  17491.56     18.0      20.0\n",
       "1489     2018-12          NaN            NaN  17322.51     17.0      35.0\n",
       "\n",
       "[3214 rows x 6 columns]"
      ]
     },
     "execution_count": 24,
     "metadata": {},
     "output_type": "execute_result"
    }
   ],
   "source": [
    "# общая сводная таблица\n",
    "\n",
    "main_pivot = calls_month.merge(internet_month, on=['user_id','month'], how='outer')\n",
    "main_pivot = main_pivot.merge(messages_month, on=['user_id','month'], how='outer')\n",
    "main_pivot = main_pivot.reset_index(level = 'month')\n",
    "\n",
    "main_pivot"
   ]
  },
  {
   "cell_type": "markdown",
   "metadata": {},
   "source": [
    "Проверим, есть ли пользователи, которые меняли тариф и стали с новым `id`:"
   ]
  },
  {
   "cell_type": "code",
   "execution_count": 25,
   "metadata": {},
   "outputs": [
    {
     "data": {
      "text/plain": [
       "array([1])"
      ]
     },
     "execution_count": 25,
     "metadata": {},
     "output_type": "execute_result"
    }
   ],
   "source": [
    "users['full_name'] = users['first_name'] + ' ' + users['last_name']\n",
    "\n",
    "users['full_name'].value_counts().unique()"
   ]
  },
  {
   "cell_type": "markdown",
   "metadata": {},
   "source": [
    "Пользователи не повторяются."
   ]
  },
  {
   "cell_type": "code",
   "execution_count": 26,
   "metadata": {},
   "outputs": [
    {
     "data": {
      "text/plain": [
       "0"
      ]
     },
     "execution_count": 26,
     "metadata": {},
     "output_type": "execute_result"
    }
   ],
   "source": [
    "users['full_name'].duplicated().sum()"
   ]
  },
  {
   "cell_type": "markdown",
   "metadata": {},
   "source": [
    "Добавим информацию в сводную таблицу о пользователе и тарифе:"
   ]
  },
  {
   "cell_type": "code",
   "execution_count": 27,
   "metadata": {},
   "outputs": [
    {
     "data": {
      "text/html": [
       "<div>\n",
       "<style scoped>\n",
       "    .dataframe tbody tr th:only-of-type {\n",
       "        vertical-align: middle;\n",
       "    }\n",
       "\n",
       "    .dataframe tbody tr th {\n",
       "        vertical-align: top;\n",
       "    }\n",
       "\n",
       "    .dataframe thead th {\n",
       "        text-align: right;\n",
       "    }\n",
       "</style>\n",
       "<table border=\"1\" class=\"dataframe\">\n",
       "  <thead>\n",
       "    <tr style=\"text-align: right;\">\n",
       "      <th></th>\n",
       "      <th>user_id</th>\n",
       "      <th>month</th>\n",
       "      <th>calls_count</th>\n",
       "      <th>calls_minutes</th>\n",
       "      <th>mb_used</th>\n",
       "      <th>gb_used</th>\n",
       "      <th>messages</th>\n",
       "      <th>tariff</th>\n",
       "      <th>messages_included</th>\n",
       "      <th>mb_per_month_included</th>\n",
       "      <th>minutes_included</th>\n",
       "      <th>rub_monthly_fee</th>\n",
       "      <th>rub_per_gb</th>\n",
       "      <th>rub_per_message</th>\n",
       "      <th>rub_per_minute</th>\n",
       "    </tr>\n",
       "  </thead>\n",
       "  <tbody>\n",
       "    <tr>\n",
       "      <td>0</td>\n",
       "      <td>1000</td>\n",
       "      <td>2018-05</td>\n",
       "      <td>22.0</td>\n",
       "      <td>159.0</td>\n",
       "      <td>2253.49</td>\n",
       "      <td>3.0</td>\n",
       "      <td>22.0</td>\n",
       "      <td>ultra</td>\n",
       "      <td>1000</td>\n",
       "      <td>30720</td>\n",
       "      <td>3000</td>\n",
       "      <td>1950</td>\n",
       "      <td>150</td>\n",
       "      <td>1</td>\n",
       "      <td>1</td>\n",
       "    </tr>\n",
       "    <tr>\n",
       "      <td>1</td>\n",
       "      <td>1000</td>\n",
       "      <td>2018-06</td>\n",
       "      <td>43.0</td>\n",
       "      <td>172.0</td>\n",
       "      <td>23233.77</td>\n",
       "      <td>23.0</td>\n",
       "      <td>60.0</td>\n",
       "      <td>ultra</td>\n",
       "      <td>1000</td>\n",
       "      <td>30720</td>\n",
       "      <td>3000</td>\n",
       "      <td>1950</td>\n",
       "      <td>150</td>\n",
       "      <td>1</td>\n",
       "      <td>1</td>\n",
       "    </tr>\n",
       "    <tr>\n",
       "      <td>2</td>\n",
       "      <td>1000</td>\n",
       "      <td>2018-07</td>\n",
       "      <td>47.0</td>\n",
       "      <td>340.0</td>\n",
       "      <td>14003.64</td>\n",
       "      <td>14.0</td>\n",
       "      <td>75.0</td>\n",
       "      <td>ultra</td>\n",
       "      <td>1000</td>\n",
       "      <td>30720</td>\n",
       "      <td>3000</td>\n",
       "      <td>1950</td>\n",
       "      <td>150</td>\n",
       "      <td>1</td>\n",
       "      <td>1</td>\n",
       "    </tr>\n",
       "    <tr>\n",
       "      <td>3</td>\n",
       "      <td>1000</td>\n",
       "      <td>2018-08</td>\n",
       "      <td>52.0</td>\n",
       "      <td>408.0</td>\n",
       "      <td>14055.93</td>\n",
       "      <td>14.0</td>\n",
       "      <td>81.0</td>\n",
       "      <td>ultra</td>\n",
       "      <td>1000</td>\n",
       "      <td>30720</td>\n",
       "      <td>3000</td>\n",
       "      <td>1950</td>\n",
       "      <td>150</td>\n",
       "      <td>1</td>\n",
       "      <td>1</td>\n",
       "    </tr>\n",
       "    <tr>\n",
       "      <td>4</td>\n",
       "      <td>1000</td>\n",
       "      <td>2018-09</td>\n",
       "      <td>58.0</td>\n",
       "      <td>466.0</td>\n",
       "      <td>14568.91</td>\n",
       "      <td>15.0</td>\n",
       "      <td>57.0</td>\n",
       "      <td>ultra</td>\n",
       "      <td>1000</td>\n",
       "      <td>30720</td>\n",
       "      <td>3000</td>\n",
       "      <td>1950</td>\n",
       "      <td>150</td>\n",
       "      <td>1</td>\n",
       "      <td>1</td>\n",
       "    </tr>\n",
       "    <tr>\n",
       "      <td>...</td>\n",
       "      <td>...</td>\n",
       "      <td>...</td>\n",
       "      <td>...</td>\n",
       "      <td>...</td>\n",
       "      <td>...</td>\n",
       "      <td>...</td>\n",
       "      <td>...</td>\n",
       "      <td>...</td>\n",
       "      <td>...</td>\n",
       "      <td>...</td>\n",
       "      <td>...</td>\n",
       "      <td>...</td>\n",
       "      <td>...</td>\n",
       "      <td>...</td>\n",
       "      <td>...</td>\n",
       "    </tr>\n",
       "    <tr>\n",
       "      <td>3209</td>\n",
       "      <td>1489</td>\n",
       "      <td>2018-08</td>\n",
       "      <td>NaN</td>\n",
       "      <td>NaN</td>\n",
       "      <td>11050.56</td>\n",
       "      <td>11.0</td>\n",
       "      <td>17.0</td>\n",
       "      <td>smart</td>\n",
       "      <td>50</td>\n",
       "      <td>15360</td>\n",
       "      <td>500</td>\n",
       "      <td>550</td>\n",
       "      <td>200</td>\n",
       "      <td>3</td>\n",
       "      <td>3</td>\n",
       "    </tr>\n",
       "    <tr>\n",
       "      <td>3210</td>\n",
       "      <td>1489</td>\n",
       "      <td>2018-09</td>\n",
       "      <td>NaN</td>\n",
       "      <td>NaN</td>\n",
       "      <td>17206.30</td>\n",
       "      <td>17.0</td>\n",
       "      <td>32.0</td>\n",
       "      <td>smart</td>\n",
       "      <td>50</td>\n",
       "      <td>15360</td>\n",
       "      <td>500</td>\n",
       "      <td>550</td>\n",
       "      <td>200</td>\n",
       "      <td>3</td>\n",
       "      <td>3</td>\n",
       "    </tr>\n",
       "    <tr>\n",
       "      <td>3211</td>\n",
       "      <td>1489</td>\n",
       "      <td>2018-10</td>\n",
       "      <td>NaN</td>\n",
       "      <td>NaN</td>\n",
       "      <td>19559.44</td>\n",
       "      <td>20.0</td>\n",
       "      <td>21.0</td>\n",
       "      <td>smart</td>\n",
       "      <td>50</td>\n",
       "      <td>15360</td>\n",
       "      <td>500</td>\n",
       "      <td>550</td>\n",
       "      <td>200</td>\n",
       "      <td>3</td>\n",
       "      <td>3</td>\n",
       "    </tr>\n",
       "    <tr>\n",
       "      <td>3212</td>\n",
       "      <td>1489</td>\n",
       "      <td>2018-11</td>\n",
       "      <td>NaN</td>\n",
       "      <td>NaN</td>\n",
       "      <td>17491.56</td>\n",
       "      <td>18.0</td>\n",
       "      <td>20.0</td>\n",
       "      <td>smart</td>\n",
       "      <td>50</td>\n",
       "      <td>15360</td>\n",
       "      <td>500</td>\n",
       "      <td>550</td>\n",
       "      <td>200</td>\n",
       "      <td>3</td>\n",
       "      <td>3</td>\n",
       "    </tr>\n",
       "    <tr>\n",
       "      <td>3213</td>\n",
       "      <td>1489</td>\n",
       "      <td>2018-12</td>\n",
       "      <td>NaN</td>\n",
       "      <td>NaN</td>\n",
       "      <td>17322.51</td>\n",
       "      <td>17.0</td>\n",
       "      <td>35.0</td>\n",
       "      <td>smart</td>\n",
       "      <td>50</td>\n",
       "      <td>15360</td>\n",
       "      <td>500</td>\n",
       "      <td>550</td>\n",
       "      <td>200</td>\n",
       "      <td>3</td>\n",
       "      <td>3</td>\n",
       "    </tr>\n",
       "  </tbody>\n",
       "</table>\n",
       "<p>3214 rows × 15 columns</p>\n",
       "</div>"
      ],
      "text/plain": [
       "      user_id    month  calls_count  calls_minutes   mb_used  gb_used  \\\n",
       "0        1000  2018-05         22.0          159.0   2253.49      3.0   \n",
       "1        1000  2018-06         43.0          172.0  23233.77     23.0   \n",
       "2        1000  2018-07         47.0          340.0  14003.64     14.0   \n",
       "3        1000  2018-08         52.0          408.0  14055.93     14.0   \n",
       "4        1000  2018-09         58.0          466.0  14568.91     15.0   \n",
       "...       ...      ...          ...            ...       ...      ...   \n",
       "3209     1489  2018-08          NaN            NaN  11050.56     11.0   \n",
       "3210     1489  2018-09          NaN            NaN  17206.30     17.0   \n",
       "3211     1489  2018-10          NaN            NaN  19559.44     20.0   \n",
       "3212     1489  2018-11          NaN            NaN  17491.56     18.0   \n",
       "3213     1489  2018-12          NaN            NaN  17322.51     17.0   \n",
       "\n",
       "      messages tariff  messages_included  mb_per_month_included  \\\n",
       "0         22.0  ultra               1000                  30720   \n",
       "1         60.0  ultra               1000                  30720   \n",
       "2         75.0  ultra               1000                  30720   \n",
       "3         81.0  ultra               1000                  30720   \n",
       "4         57.0  ultra               1000                  30720   \n",
       "...        ...    ...                ...                    ...   \n",
       "3209      17.0  smart                 50                  15360   \n",
       "3210      32.0  smart                 50                  15360   \n",
       "3211      21.0  smart                 50                  15360   \n",
       "3212      20.0  smart                 50                  15360   \n",
       "3213      35.0  smart                 50                  15360   \n",
       "\n",
       "      minutes_included  rub_monthly_fee  rub_per_gb  rub_per_message  \\\n",
       "0                 3000             1950         150                1   \n",
       "1                 3000             1950         150                1   \n",
       "2                 3000             1950         150                1   \n",
       "3                 3000             1950         150                1   \n",
       "4                 3000             1950         150                1   \n",
       "...                ...              ...         ...              ...   \n",
       "3209               500              550         200                3   \n",
       "3210               500              550         200                3   \n",
       "3211               500              550         200                3   \n",
       "3212               500              550         200                3   \n",
       "3213               500              550         200                3   \n",
       "\n",
       "      rub_per_minute  \n",
       "0                  1  \n",
       "1                  1  \n",
       "2                  1  \n",
       "3                  1  \n",
       "4                  1  \n",
       "...              ...  \n",
       "3209               3  \n",
       "3210               3  \n",
       "3211               3  \n",
       "3212               3  \n",
       "3213               3  \n",
       "\n",
       "[3214 rows x 15 columns]"
      ]
     },
     "execution_count": 27,
     "metadata": {},
     "output_type": "execute_result"
    }
   ],
   "source": [
    "main_pivot = main_pivot.merge(users[['user_id', 'tariff']], on='user_id')\n",
    "main_pivot = main_pivot.merge(tariffs, left_on='tariff', right_on ='tariff_name')\n",
    "main_pivot = main_pivot.drop('tariff_name', axis='columns')\n",
    "\n",
    "main_pivot"
   ]
  },
  {
   "cell_type": "markdown",
   "metadata": {},
   "source": [
    "Заполним пропуски в таблице и преобразуем значения в столбцах:"
   ]
  },
  {
   "cell_type": "code",
   "execution_count": 28,
   "metadata": {},
   "outputs": [
    {
     "data": {
      "text/html": [
       "<div>\n",
       "<style scoped>\n",
       "    .dataframe tbody tr th:only-of-type {\n",
       "        vertical-align: middle;\n",
       "    }\n",
       "\n",
       "    .dataframe tbody tr th {\n",
       "        vertical-align: top;\n",
       "    }\n",
       "\n",
       "    .dataframe thead th {\n",
       "        text-align: right;\n",
       "    }\n",
       "</style>\n",
       "<table border=\"1\" class=\"dataframe\">\n",
       "  <thead>\n",
       "    <tr style=\"text-align: right;\">\n",
       "      <th></th>\n",
       "      <th>user_id</th>\n",
       "      <th>month</th>\n",
       "      <th>calls_count</th>\n",
       "      <th>calls_minutes</th>\n",
       "      <th>mb_used</th>\n",
       "      <th>gb_used</th>\n",
       "      <th>messages</th>\n",
       "      <th>tariff</th>\n",
       "      <th>messages_included</th>\n",
       "      <th>mb_per_month_included</th>\n",
       "      <th>minutes_included</th>\n",
       "      <th>rub_monthly_fee</th>\n",
       "      <th>rub_per_gb</th>\n",
       "      <th>rub_per_message</th>\n",
       "      <th>rub_per_minute</th>\n",
       "      <th>gb_per_month_included</th>\n",
       "    </tr>\n",
       "  </thead>\n",
       "  <tbody>\n",
       "    <tr>\n",
       "      <td>0</td>\n",
       "      <td>1000</td>\n",
       "      <td>2018-05</td>\n",
       "      <td>22</td>\n",
       "      <td>159</td>\n",
       "      <td>2253.49</td>\n",
       "      <td>3</td>\n",
       "      <td>22</td>\n",
       "      <td>ultra</td>\n",
       "      <td>1000</td>\n",
       "      <td>30720</td>\n",
       "      <td>3000</td>\n",
       "      <td>1950</td>\n",
       "      <td>150</td>\n",
       "      <td>1</td>\n",
       "      <td>1</td>\n",
       "      <td>30</td>\n",
       "    </tr>\n",
       "    <tr>\n",
       "      <td>1</td>\n",
       "      <td>1000</td>\n",
       "      <td>2018-06</td>\n",
       "      <td>43</td>\n",
       "      <td>172</td>\n",
       "      <td>23233.77</td>\n",
       "      <td>23</td>\n",
       "      <td>60</td>\n",
       "      <td>ultra</td>\n",
       "      <td>1000</td>\n",
       "      <td>30720</td>\n",
       "      <td>3000</td>\n",
       "      <td>1950</td>\n",
       "      <td>150</td>\n",
       "      <td>1</td>\n",
       "      <td>1</td>\n",
       "      <td>30</td>\n",
       "    </tr>\n",
       "    <tr>\n",
       "      <td>2</td>\n",
       "      <td>1000</td>\n",
       "      <td>2018-07</td>\n",
       "      <td>47</td>\n",
       "      <td>340</td>\n",
       "      <td>14003.64</td>\n",
       "      <td>14</td>\n",
       "      <td>75</td>\n",
       "      <td>ultra</td>\n",
       "      <td>1000</td>\n",
       "      <td>30720</td>\n",
       "      <td>3000</td>\n",
       "      <td>1950</td>\n",
       "      <td>150</td>\n",
       "      <td>1</td>\n",
       "      <td>1</td>\n",
       "      <td>30</td>\n",
       "    </tr>\n",
       "    <tr>\n",
       "      <td>3</td>\n",
       "      <td>1000</td>\n",
       "      <td>2018-08</td>\n",
       "      <td>52</td>\n",
       "      <td>408</td>\n",
       "      <td>14055.93</td>\n",
       "      <td>14</td>\n",
       "      <td>81</td>\n",
       "      <td>ultra</td>\n",
       "      <td>1000</td>\n",
       "      <td>30720</td>\n",
       "      <td>3000</td>\n",
       "      <td>1950</td>\n",
       "      <td>150</td>\n",
       "      <td>1</td>\n",
       "      <td>1</td>\n",
       "      <td>30</td>\n",
       "    </tr>\n",
       "    <tr>\n",
       "      <td>4</td>\n",
       "      <td>1000</td>\n",
       "      <td>2018-09</td>\n",
       "      <td>58</td>\n",
       "      <td>466</td>\n",
       "      <td>14568.91</td>\n",
       "      <td>15</td>\n",
       "      <td>57</td>\n",
       "      <td>ultra</td>\n",
       "      <td>1000</td>\n",
       "      <td>30720</td>\n",
       "      <td>3000</td>\n",
       "      <td>1950</td>\n",
       "      <td>150</td>\n",
       "      <td>1</td>\n",
       "      <td>1</td>\n",
       "      <td>30</td>\n",
       "    </tr>\n",
       "    <tr>\n",
       "      <td>...</td>\n",
       "      <td>...</td>\n",
       "      <td>...</td>\n",
       "      <td>...</td>\n",
       "      <td>...</td>\n",
       "      <td>...</td>\n",
       "      <td>...</td>\n",
       "      <td>...</td>\n",
       "      <td>...</td>\n",
       "      <td>...</td>\n",
       "      <td>...</td>\n",
       "      <td>...</td>\n",
       "      <td>...</td>\n",
       "      <td>...</td>\n",
       "      <td>...</td>\n",
       "      <td>...</td>\n",
       "      <td>...</td>\n",
       "    </tr>\n",
       "    <tr>\n",
       "      <td>3209</td>\n",
       "      <td>1489</td>\n",
       "      <td>2018-08</td>\n",
       "      <td>0</td>\n",
       "      <td>0</td>\n",
       "      <td>11050.56</td>\n",
       "      <td>11</td>\n",
       "      <td>17</td>\n",
       "      <td>smart</td>\n",
       "      <td>50</td>\n",
       "      <td>15360</td>\n",
       "      <td>500</td>\n",
       "      <td>550</td>\n",
       "      <td>200</td>\n",
       "      <td>3</td>\n",
       "      <td>3</td>\n",
       "      <td>15</td>\n",
       "    </tr>\n",
       "    <tr>\n",
       "      <td>3210</td>\n",
       "      <td>1489</td>\n",
       "      <td>2018-09</td>\n",
       "      <td>0</td>\n",
       "      <td>0</td>\n",
       "      <td>17206.30</td>\n",
       "      <td>17</td>\n",
       "      <td>32</td>\n",
       "      <td>smart</td>\n",
       "      <td>50</td>\n",
       "      <td>15360</td>\n",
       "      <td>500</td>\n",
       "      <td>550</td>\n",
       "      <td>200</td>\n",
       "      <td>3</td>\n",
       "      <td>3</td>\n",
       "      <td>15</td>\n",
       "    </tr>\n",
       "    <tr>\n",
       "      <td>3211</td>\n",
       "      <td>1489</td>\n",
       "      <td>2018-10</td>\n",
       "      <td>0</td>\n",
       "      <td>0</td>\n",
       "      <td>19559.44</td>\n",
       "      <td>20</td>\n",
       "      <td>21</td>\n",
       "      <td>smart</td>\n",
       "      <td>50</td>\n",
       "      <td>15360</td>\n",
       "      <td>500</td>\n",
       "      <td>550</td>\n",
       "      <td>200</td>\n",
       "      <td>3</td>\n",
       "      <td>3</td>\n",
       "      <td>15</td>\n",
       "    </tr>\n",
       "    <tr>\n",
       "      <td>3212</td>\n",
       "      <td>1489</td>\n",
       "      <td>2018-11</td>\n",
       "      <td>0</td>\n",
       "      <td>0</td>\n",
       "      <td>17491.56</td>\n",
       "      <td>18</td>\n",
       "      <td>20</td>\n",
       "      <td>smart</td>\n",
       "      <td>50</td>\n",
       "      <td>15360</td>\n",
       "      <td>500</td>\n",
       "      <td>550</td>\n",
       "      <td>200</td>\n",
       "      <td>3</td>\n",
       "      <td>3</td>\n",
       "      <td>15</td>\n",
       "    </tr>\n",
       "    <tr>\n",
       "      <td>3213</td>\n",
       "      <td>1489</td>\n",
       "      <td>2018-12</td>\n",
       "      <td>0</td>\n",
       "      <td>0</td>\n",
       "      <td>17322.51</td>\n",
       "      <td>17</td>\n",
       "      <td>35</td>\n",
       "      <td>smart</td>\n",
       "      <td>50</td>\n",
       "      <td>15360</td>\n",
       "      <td>500</td>\n",
       "      <td>550</td>\n",
       "      <td>200</td>\n",
       "      <td>3</td>\n",
       "      <td>3</td>\n",
       "      <td>15</td>\n",
       "    </tr>\n",
       "  </tbody>\n",
       "</table>\n",
       "<p>3214 rows × 16 columns</p>\n",
       "</div>"
      ],
      "text/plain": [
       "      user_id    month  calls_count  calls_minutes   mb_used  gb_used  \\\n",
       "0        1000  2018-05           22            159   2253.49        3   \n",
       "1        1000  2018-06           43            172  23233.77       23   \n",
       "2        1000  2018-07           47            340  14003.64       14   \n",
       "3        1000  2018-08           52            408  14055.93       14   \n",
       "4        1000  2018-09           58            466  14568.91       15   \n",
       "...       ...      ...          ...            ...       ...      ...   \n",
       "3209     1489  2018-08            0              0  11050.56       11   \n",
       "3210     1489  2018-09            0              0  17206.30       17   \n",
       "3211     1489  2018-10            0              0  19559.44       20   \n",
       "3212     1489  2018-11            0              0  17491.56       18   \n",
       "3213     1489  2018-12            0              0  17322.51       17   \n",
       "\n",
       "      messages tariff  messages_included  mb_per_month_included  \\\n",
       "0           22  ultra               1000                  30720   \n",
       "1           60  ultra               1000                  30720   \n",
       "2           75  ultra               1000                  30720   \n",
       "3           81  ultra               1000                  30720   \n",
       "4           57  ultra               1000                  30720   \n",
       "...        ...    ...                ...                    ...   \n",
       "3209        17  smart                 50                  15360   \n",
       "3210        32  smart                 50                  15360   \n",
       "3211        21  smart                 50                  15360   \n",
       "3212        20  smart                 50                  15360   \n",
       "3213        35  smart                 50                  15360   \n",
       "\n",
       "      minutes_included  rub_monthly_fee  rub_per_gb  rub_per_message  \\\n",
       "0                 3000             1950         150                1   \n",
       "1                 3000             1950         150                1   \n",
       "2                 3000             1950         150                1   \n",
       "3                 3000             1950         150                1   \n",
       "4                 3000             1950         150                1   \n",
       "...                ...              ...         ...              ...   \n",
       "3209               500              550         200                3   \n",
       "3210               500              550         200                3   \n",
       "3211               500              550         200                3   \n",
       "3212               500              550         200                3   \n",
       "3213               500              550         200                3   \n",
       "\n",
       "      rub_per_minute  gb_per_month_included  \n",
       "0                  1                     30  \n",
       "1                  1                     30  \n",
       "2                  1                     30  \n",
       "3                  1                     30  \n",
       "4                  1                     30  \n",
       "...              ...                    ...  \n",
       "3209               3                     15  \n",
       "3210               3                     15  \n",
       "3211               3                     15  \n",
       "3212               3                     15  \n",
       "3213               3                     15  \n",
       "\n",
       "[3214 rows x 16 columns]"
      ]
     },
     "execution_count": 28,
     "metadata": {},
     "output_type": "execute_result"
    }
   ],
   "source": [
    "# заполняем пропущенные значения 0, так как абонент просто не пользовался услугой\n",
    "\n",
    "main_pivot['calls_minutes'] = main_pivot['calls_minutes'].fillna(0).astype('int')\n",
    "main_pivot['calls_count'] = main_pivot['calls_count'].fillna(0).astype('int')\n",
    "main_pivot['gb_used'] = main_pivot['gb_used'].fillna(0).astype('int')\n",
    "main_pivot['messages'] = main_pivot['messages'].fillna(0).astype('int')\n",
    "\n",
    "# добавляем столбец с количеством гигабайт\n",
    "main_pivot['gb_per_month_included'] = (main_pivot['mb_per_month_included'] / 1024).astype('int')\n",
    "\n",
    "main_pivot"
   ]
  },
  {
   "cell_type": "markdown",
   "metadata": {},
   "source": [
    "### Расчет необходимых значений"
   ]
  },
  {
   "cell_type": "markdown",
   "metadata": {},
   "source": [
    "**Посчитаем для каждого пользователя:**\n",
    "\n",
    "* количество сделанных звонков и израсходованных минут разговора по месяцам;\n",
    "* количество отправленных сообщений по месяцам;\n",
    "* объем израсходованного интернет-трафика по месяцам;\n",
    "* помесячную выручку с каждого пользователя (вычтите бесплатный лимит из суммарного количества звонков, сообщений и интернет-трафика; остаток умножьте на значение из тарифного плана; прибавьте абонентскую плату, соответствующую тарифному плану)."
   ]
  },
  {
   "cell_type": "markdown",
   "metadata": {},
   "source": [
    "Для каждого пользователя первые значения уже имеются их общих таблиц, соотвественно, рассчитаем помесячную выручку с каждого пользователя:"
   ]
  },
  {
   "cell_type": "code",
   "execution_count": 29,
   "metadata": {},
   "outputs": [
    {
     "data": {
      "text/html": [
       "<div>\n",
       "<style scoped>\n",
       "    .dataframe tbody tr th:only-of-type {\n",
       "        vertical-align: middle;\n",
       "    }\n",
       "\n",
       "    .dataframe tbody tr th {\n",
       "        vertical-align: top;\n",
       "    }\n",
       "\n",
       "    .dataframe thead th {\n",
       "        text-align: right;\n",
       "    }\n",
       "</style>\n",
       "<table border=\"1\" class=\"dataframe\">\n",
       "  <thead>\n",
       "    <tr style=\"text-align: right;\">\n",
       "      <th></th>\n",
       "      <th>user_id</th>\n",
       "      <th>month</th>\n",
       "      <th>calls_count</th>\n",
       "      <th>calls_minutes</th>\n",
       "      <th>mb_used</th>\n",
       "      <th>gb_used</th>\n",
       "      <th>messages</th>\n",
       "      <th>tariff</th>\n",
       "      <th>messages_included</th>\n",
       "      <th>mb_per_month_included</th>\n",
       "      <th>minutes_included</th>\n",
       "      <th>rub_monthly_fee</th>\n",
       "      <th>rub_per_gb</th>\n",
       "      <th>rub_per_message</th>\n",
       "      <th>rub_per_minute</th>\n",
       "      <th>gb_per_month_included</th>\n",
       "      <th>fee_final</th>\n",
       "    </tr>\n",
       "  </thead>\n",
       "  <tbody>\n",
       "    <tr>\n",
       "      <td>0</td>\n",
       "      <td>1000</td>\n",
       "      <td>2018-05</td>\n",
       "      <td>22</td>\n",
       "      <td>159</td>\n",
       "      <td>2253.49</td>\n",
       "      <td>3</td>\n",
       "      <td>22</td>\n",
       "      <td>ultra</td>\n",
       "      <td>1000</td>\n",
       "      <td>30720</td>\n",
       "      <td>3000</td>\n",
       "      <td>1950</td>\n",
       "      <td>150</td>\n",
       "      <td>1</td>\n",
       "      <td>1</td>\n",
       "      <td>30</td>\n",
       "      <td>1950</td>\n",
       "    </tr>\n",
       "    <tr>\n",
       "      <td>1</td>\n",
       "      <td>1000</td>\n",
       "      <td>2018-06</td>\n",
       "      <td>43</td>\n",
       "      <td>172</td>\n",
       "      <td>23233.77</td>\n",
       "      <td>23</td>\n",
       "      <td>60</td>\n",
       "      <td>ultra</td>\n",
       "      <td>1000</td>\n",
       "      <td>30720</td>\n",
       "      <td>3000</td>\n",
       "      <td>1950</td>\n",
       "      <td>150</td>\n",
       "      <td>1</td>\n",
       "      <td>1</td>\n",
       "      <td>30</td>\n",
       "      <td>1950</td>\n",
       "    </tr>\n",
       "    <tr>\n",
       "      <td>2</td>\n",
       "      <td>1000</td>\n",
       "      <td>2018-07</td>\n",
       "      <td>47</td>\n",
       "      <td>340</td>\n",
       "      <td>14003.64</td>\n",
       "      <td>14</td>\n",
       "      <td>75</td>\n",
       "      <td>ultra</td>\n",
       "      <td>1000</td>\n",
       "      <td>30720</td>\n",
       "      <td>3000</td>\n",
       "      <td>1950</td>\n",
       "      <td>150</td>\n",
       "      <td>1</td>\n",
       "      <td>1</td>\n",
       "      <td>30</td>\n",
       "      <td>1950</td>\n",
       "    </tr>\n",
       "    <tr>\n",
       "      <td>3</td>\n",
       "      <td>1000</td>\n",
       "      <td>2018-08</td>\n",
       "      <td>52</td>\n",
       "      <td>408</td>\n",
       "      <td>14055.93</td>\n",
       "      <td>14</td>\n",
       "      <td>81</td>\n",
       "      <td>ultra</td>\n",
       "      <td>1000</td>\n",
       "      <td>30720</td>\n",
       "      <td>3000</td>\n",
       "      <td>1950</td>\n",
       "      <td>150</td>\n",
       "      <td>1</td>\n",
       "      <td>1</td>\n",
       "      <td>30</td>\n",
       "      <td>1950</td>\n",
       "    </tr>\n",
       "    <tr>\n",
       "      <td>4</td>\n",
       "      <td>1000</td>\n",
       "      <td>2018-09</td>\n",
       "      <td>58</td>\n",
       "      <td>466</td>\n",
       "      <td>14568.91</td>\n",
       "      <td>15</td>\n",
       "      <td>57</td>\n",
       "      <td>ultra</td>\n",
       "      <td>1000</td>\n",
       "      <td>30720</td>\n",
       "      <td>3000</td>\n",
       "      <td>1950</td>\n",
       "      <td>150</td>\n",
       "      <td>1</td>\n",
       "      <td>1</td>\n",
       "      <td>30</td>\n",
       "      <td>1950</td>\n",
       "    </tr>\n",
       "    <tr>\n",
       "      <td>...</td>\n",
       "      <td>...</td>\n",
       "      <td>...</td>\n",
       "      <td>...</td>\n",
       "      <td>...</td>\n",
       "      <td>...</td>\n",
       "      <td>...</td>\n",
       "      <td>...</td>\n",
       "      <td>...</td>\n",
       "      <td>...</td>\n",
       "      <td>...</td>\n",
       "      <td>...</td>\n",
       "      <td>...</td>\n",
       "      <td>...</td>\n",
       "      <td>...</td>\n",
       "      <td>...</td>\n",
       "      <td>...</td>\n",
       "      <td>...</td>\n",
       "    </tr>\n",
       "    <tr>\n",
       "      <td>3209</td>\n",
       "      <td>1489</td>\n",
       "      <td>2018-08</td>\n",
       "      <td>0</td>\n",
       "      <td>0</td>\n",
       "      <td>11050.56</td>\n",
       "      <td>11</td>\n",
       "      <td>17</td>\n",
       "      <td>smart</td>\n",
       "      <td>50</td>\n",
       "      <td>15360</td>\n",
       "      <td>500</td>\n",
       "      <td>550</td>\n",
       "      <td>200</td>\n",
       "      <td>3</td>\n",
       "      <td>3</td>\n",
       "      <td>15</td>\n",
       "      <td>550</td>\n",
       "    </tr>\n",
       "    <tr>\n",
       "      <td>3210</td>\n",
       "      <td>1489</td>\n",
       "      <td>2018-09</td>\n",
       "      <td>0</td>\n",
       "      <td>0</td>\n",
       "      <td>17206.30</td>\n",
       "      <td>17</td>\n",
       "      <td>32</td>\n",
       "      <td>smart</td>\n",
       "      <td>50</td>\n",
       "      <td>15360</td>\n",
       "      <td>500</td>\n",
       "      <td>550</td>\n",
       "      <td>200</td>\n",
       "      <td>3</td>\n",
       "      <td>3</td>\n",
       "      <td>15</td>\n",
       "      <td>950</td>\n",
       "    </tr>\n",
       "    <tr>\n",
       "      <td>3211</td>\n",
       "      <td>1489</td>\n",
       "      <td>2018-10</td>\n",
       "      <td>0</td>\n",
       "      <td>0</td>\n",
       "      <td>19559.44</td>\n",
       "      <td>20</td>\n",
       "      <td>21</td>\n",
       "      <td>smart</td>\n",
       "      <td>50</td>\n",
       "      <td>15360</td>\n",
       "      <td>500</td>\n",
       "      <td>550</td>\n",
       "      <td>200</td>\n",
       "      <td>3</td>\n",
       "      <td>3</td>\n",
       "      <td>15</td>\n",
       "      <td>1550</td>\n",
       "    </tr>\n",
       "    <tr>\n",
       "      <td>3212</td>\n",
       "      <td>1489</td>\n",
       "      <td>2018-11</td>\n",
       "      <td>0</td>\n",
       "      <td>0</td>\n",
       "      <td>17491.56</td>\n",
       "      <td>18</td>\n",
       "      <td>20</td>\n",
       "      <td>smart</td>\n",
       "      <td>50</td>\n",
       "      <td>15360</td>\n",
       "      <td>500</td>\n",
       "      <td>550</td>\n",
       "      <td>200</td>\n",
       "      <td>3</td>\n",
       "      <td>3</td>\n",
       "      <td>15</td>\n",
       "      <td>1150</td>\n",
       "    </tr>\n",
       "    <tr>\n",
       "      <td>3213</td>\n",
       "      <td>1489</td>\n",
       "      <td>2018-12</td>\n",
       "      <td>0</td>\n",
       "      <td>0</td>\n",
       "      <td>17322.51</td>\n",
       "      <td>17</td>\n",
       "      <td>35</td>\n",
       "      <td>smart</td>\n",
       "      <td>50</td>\n",
       "      <td>15360</td>\n",
       "      <td>500</td>\n",
       "      <td>550</td>\n",
       "      <td>200</td>\n",
       "      <td>3</td>\n",
       "      <td>3</td>\n",
       "      <td>15</td>\n",
       "      <td>950</td>\n",
       "    </tr>\n",
       "  </tbody>\n",
       "</table>\n",
       "<p>3214 rows × 17 columns</p>\n",
       "</div>"
      ],
      "text/plain": [
       "      user_id    month  calls_count  calls_minutes   mb_used  gb_used  \\\n",
       "0        1000  2018-05           22            159   2253.49        3   \n",
       "1        1000  2018-06           43            172  23233.77       23   \n",
       "2        1000  2018-07           47            340  14003.64       14   \n",
       "3        1000  2018-08           52            408  14055.93       14   \n",
       "4        1000  2018-09           58            466  14568.91       15   \n",
       "...       ...      ...          ...            ...       ...      ...   \n",
       "3209     1489  2018-08            0              0  11050.56       11   \n",
       "3210     1489  2018-09            0              0  17206.30       17   \n",
       "3211     1489  2018-10            0              0  19559.44       20   \n",
       "3212     1489  2018-11            0              0  17491.56       18   \n",
       "3213     1489  2018-12            0              0  17322.51       17   \n",
       "\n",
       "      messages tariff  messages_included  mb_per_month_included  \\\n",
       "0           22  ultra               1000                  30720   \n",
       "1           60  ultra               1000                  30720   \n",
       "2           75  ultra               1000                  30720   \n",
       "3           81  ultra               1000                  30720   \n",
       "4           57  ultra               1000                  30720   \n",
       "...        ...    ...                ...                    ...   \n",
       "3209        17  smart                 50                  15360   \n",
       "3210        32  smart                 50                  15360   \n",
       "3211        21  smart                 50                  15360   \n",
       "3212        20  smart                 50                  15360   \n",
       "3213        35  smart                 50                  15360   \n",
       "\n",
       "      minutes_included  rub_monthly_fee  rub_per_gb  rub_per_message  \\\n",
       "0                 3000             1950         150                1   \n",
       "1                 3000             1950         150                1   \n",
       "2                 3000             1950         150                1   \n",
       "3                 3000             1950         150                1   \n",
       "4                 3000             1950         150                1   \n",
       "...                ...              ...         ...              ...   \n",
       "3209               500              550         200                3   \n",
       "3210               500              550         200                3   \n",
       "3211               500              550         200                3   \n",
       "3212               500              550         200                3   \n",
       "3213               500              550         200                3   \n",
       "\n",
       "      rub_per_minute  gb_per_month_included  fee_final  \n",
       "0                  1                     30       1950  \n",
       "1                  1                     30       1950  \n",
       "2                  1                     30       1950  \n",
       "3                  1                     30       1950  \n",
       "4                  1                     30       1950  \n",
       "...              ...                    ...        ...  \n",
       "3209               3                     15        550  \n",
       "3210               3                     15        950  \n",
       "3211               3                     15       1550  \n",
       "3212               3                     15       1150  \n",
       "3213               3                     15        950  \n",
       "\n",
       "[3214 rows x 17 columns]"
      ]
     },
     "execution_count": 29,
     "metadata": {},
     "output_type": "execute_result"
    }
   ],
   "source": [
    "# составим функцию, которая посчитает итог для каждого тарифа. Находим превышения по лимитам\n",
    "# и прибавляем к тарифной ставке\n",
    "\n",
    "def count_fee(row):\n",
    "    for_min = 0\n",
    "    for_mes = 0\n",
    "    for_gb = 0\n",
    "    if row['calls_minutes'] > row['minutes_included']:\n",
    "        for_min = (row['calls_minutes'] - row['minutes_included']) * row['rub_per_minute']\n",
    "    if row['messages'] > row['messages_included']:\n",
    "        for_mes = (row['messages'] - row['messages_included']) * row['rub_per_message']\n",
    "    if row['gb_used'] > row['gb_per_month_included']:\n",
    "        for_gb = (row['gb_used'] - row['gb_per_month_included']) * row['rub_per_gb']\n",
    "    return row['rub_monthly_fee'] + for_min + for_mes + for_gb\n",
    "    \n",
    "main_pivot['fee_final'] = main_pivot.apply(count_fee, axis=1)\n",
    "\n",
    "main_pivot"
   ]
  },
  {
   "cell_type": "markdown",
   "metadata": {},
   "source": [
    "### Вывод"
   ]
  },
  {
   "cell_type": "markdown",
   "metadata": {},
   "source": [
    "Выведен общий датасет с необходимыми столбцами для дальнейшего анализа данных.\n",
    "\n",
    "Итого строк: `3214`"
   ]
  },
  {
   "cell_type": "markdown",
   "metadata": {},
   "source": [
    "## Анализ полученных данных"
   ]
  },
  {
   "cell_type": "markdown",
   "metadata": {},
   "source": [
    "Опишем поведение клиентов оператора, исходя из выборки. Сколько минут разговора, сколько сообщений и какой объём интернет-трафика требуется пользователям каждого тарифа в месяц.\n",
    "\n",
    "Посчитаем среднее количество, дисперсию и стандартное отклонение. Построим гистограммы и опишем распределения."
   ]
  },
  {
   "cell_type": "markdown",
   "metadata": {},
   "source": [
    "### Необходимый объём пользователя по месяцам"
   ]
  },
  {
   "cell_type": "markdown",
   "metadata": {},
   "source": [
    "Рассмотрим, сколько минут разговора, сколько сообщений и какой объём интернет-трафика требуется пользователям каждого тарифа в месяц:\n",
    "\n",
    "Построим сводную таблицу средних значений по месяцам для каждого тарифа:"
   ]
  },
  {
   "cell_type": "code",
   "execution_count": 30,
   "metadata": {},
   "outputs": [
    {
     "data": {
      "text/html": [
       "<div>\n",
       "<style scoped>\n",
       "    .dataframe tbody tr th:only-of-type {\n",
       "        vertical-align: middle;\n",
       "    }\n",
       "\n",
       "    .dataframe tbody tr th {\n",
       "        vertical-align: top;\n",
       "    }\n",
       "\n",
       "    .dataframe thead tr th {\n",
       "        text-align: left;\n",
       "    }\n",
       "\n",
       "    .dataframe thead tr:last-of-type th {\n",
       "        text-align: right;\n",
       "    }\n",
       "</style>\n",
       "<table border=\"1\" class=\"dataframe\">\n",
       "  <thead>\n",
       "    <tr>\n",
       "      <th></th>\n",
       "      <th colspan=\"2\" halign=\"left\">calls_minutes</th>\n",
       "      <th colspan=\"2\" halign=\"left\">fee_final</th>\n",
       "      <th colspan=\"2\" halign=\"left\">gb_used</th>\n",
       "      <th colspan=\"2\" halign=\"left\">messages</th>\n",
       "    </tr>\n",
       "    <tr>\n",
       "      <th>tariff</th>\n",
       "      <th>smart</th>\n",
       "      <th>ultra</th>\n",
       "      <th>smart</th>\n",
       "      <th>ultra</th>\n",
       "      <th>smart</th>\n",
       "      <th>ultra</th>\n",
       "      <th>smart</th>\n",
       "      <th>ultra</th>\n",
       "    </tr>\n",
       "    <tr>\n",
       "      <th>month</th>\n",
       "      <th></th>\n",
       "      <th></th>\n",
       "      <th></th>\n",
       "      <th></th>\n",
       "      <th></th>\n",
       "      <th></th>\n",
       "      <th></th>\n",
       "      <th></th>\n",
       "    </tr>\n",
       "  </thead>\n",
       "  <tbody>\n",
       "    <tr>\n",
       "      <td>2018-01</td>\n",
       "      <td>203.85</td>\n",
       "      <td>428.11</td>\n",
       "      <td>721.32</td>\n",
       "      <td>1950.00</td>\n",
       "      <td>8.74</td>\n",
       "      <td>13.22</td>\n",
       "      <td>18.24</td>\n",
       "      <td>33.78</td>\n",
       "    </tr>\n",
       "    <tr>\n",
       "      <td>2018-02</td>\n",
       "      <td>298.69</td>\n",
       "      <td>297.12</td>\n",
       "      <td>827.60</td>\n",
       "      <td>1975.00</td>\n",
       "      <td>11.84</td>\n",
       "      <td>12.00</td>\n",
       "      <td>24.09</td>\n",
       "      <td>21.96</td>\n",
       "    </tr>\n",
       "    <tr>\n",
       "      <td>2018-03</td>\n",
       "      <td>390.05</td>\n",
       "      <td>489.65</td>\n",
       "      <td>1164.62</td>\n",
       "      <td>2014.86</td>\n",
       "      <td>15.23</td>\n",
       "      <td>17.65</td>\n",
       "      <td>31.86</td>\n",
       "      <td>32.30</td>\n",
       "    </tr>\n",
       "    <tr>\n",
       "      <td>2018-04</td>\n",
       "      <td>367.13</td>\n",
       "      <td>458.02</td>\n",
       "      <td>963.09</td>\n",
       "      <td>2001.82</td>\n",
       "      <td>13.62</td>\n",
       "      <td>16.96</td>\n",
       "      <td>30.74</td>\n",
       "      <td>31.56</td>\n",
       "    </tr>\n",
       "    <tr>\n",
       "      <td>2018-05</td>\n",
       "      <td>387.36</td>\n",
       "      <td>510.33</td>\n",
       "      <td>1197.51</td>\n",
       "      <td>2059.70</td>\n",
       "      <td>15.91</td>\n",
       "      <td>19.37</td>\n",
       "      <td>33.77</td>\n",
       "      <td>37.85</td>\n",
       "    </tr>\n",
       "    <tr>\n",
       "      <td>2018-06</td>\n",
       "      <td>395.64</td>\n",
       "      <td>479.70</td>\n",
       "      <td>1204.02</td>\n",
       "      <td>2039.29</td>\n",
       "      <td>15.95</td>\n",
       "      <td>18.94</td>\n",
       "      <td>33.40</td>\n",
       "      <td>41.73</td>\n",
       "    </tr>\n",
       "    <tr>\n",
       "      <td>2018-07</td>\n",
       "      <td>408.35</td>\n",
       "      <td>545.79</td>\n",
       "      <td>1223.95</td>\n",
       "      <td>2118.13</td>\n",
       "      <td>15.88</td>\n",
       "      <td>20.51</td>\n",
       "      <td>33.75</td>\n",
       "      <td>49.85</td>\n",
       "    </tr>\n",
       "    <tr>\n",
       "      <td>2018-08</td>\n",
       "      <td>421.47</td>\n",
       "      <td>510.78</td>\n",
       "      <td>1320.60</td>\n",
       "      <td>2083.18</td>\n",
       "      <td>16.74</td>\n",
       "      <td>19.60</td>\n",
       "      <td>33.64</td>\n",
       "      <td>48.44</td>\n",
       "    </tr>\n",
       "    <tr>\n",
       "      <td>2018-09</td>\n",
       "      <td>428.61</td>\n",
       "      <td>539.44</td>\n",
       "      <td>1249.95</td>\n",
       "      <td>2024.35</td>\n",
       "      <td>16.39</td>\n",
       "      <td>19.24</td>\n",
       "      <td>33.64</td>\n",
       "      <td>52.29</td>\n",
       "    </tr>\n",
       "    <tr>\n",
       "      <td>2018-10</td>\n",
       "      <td>426.14</td>\n",
       "      <td>558.08</td>\n",
       "      <td>1364.85</td>\n",
       "      <td>2065.85</td>\n",
       "      <td>16.88</td>\n",
       "      <td>20.07</td>\n",
       "      <td>33.77</td>\n",
       "      <td>58.43</td>\n",
       "    </tr>\n",
       "    <tr>\n",
       "      <td>2018-11</td>\n",
       "      <td>435.27</td>\n",
       "      <td>541.38</td>\n",
       "      <td>1343.05</td>\n",
       "      <td>2092.16</td>\n",
       "      <td>17.00</td>\n",
       "      <td>19.81</td>\n",
       "      <td>34.08</td>\n",
       "      <td>55.79</td>\n",
       "    </tr>\n",
       "    <tr>\n",
       "      <td>2018-12</td>\n",
       "      <td>478.56</td>\n",
       "      <td>592.81</td>\n",
       "      <td>1578.53</td>\n",
       "      <td>2138.85</td>\n",
       "      <td>18.20</td>\n",
       "      <td>21.74</td>\n",
       "      <td>35.99</td>\n",
       "      <td>60.61</td>\n",
       "    </tr>\n",
       "  </tbody>\n",
       "</table>\n",
       "</div>"
      ],
      "text/plain": [
       "        calls_minutes        fee_final         gb_used       messages      \n",
       "tariff          smart  ultra     smart   ultra   smart ultra    smart ultra\n",
       "month                                                                      \n",
       "2018-01        203.85 428.11    721.32 1950.00    8.74 13.22    18.24 33.78\n",
       "2018-02        298.69 297.12    827.60 1975.00   11.84 12.00    24.09 21.96\n",
       "2018-03        390.05 489.65   1164.62 2014.86   15.23 17.65    31.86 32.30\n",
       "2018-04        367.13 458.02    963.09 2001.82   13.62 16.96    30.74 31.56\n",
       "2018-05        387.36 510.33   1197.51 2059.70   15.91 19.37    33.77 37.85\n",
       "2018-06        395.64 479.70   1204.02 2039.29   15.95 18.94    33.40 41.73\n",
       "2018-07        408.35 545.79   1223.95 2118.13   15.88 20.51    33.75 49.85\n",
       "2018-08        421.47 510.78   1320.60 2083.18   16.74 19.60    33.64 48.44\n",
       "2018-09        428.61 539.44   1249.95 2024.35   16.39 19.24    33.64 52.29\n",
       "2018-10        426.14 558.08   1364.85 2065.85   16.88 20.07    33.77 58.43\n",
       "2018-11        435.27 541.38   1343.05 2092.16   17.00 19.81    34.08 55.79\n",
       "2018-12        478.56 592.81   1578.53 2138.85   18.20 21.74    35.99 60.61"
      ]
     },
     "execution_count": 30,
     "metadata": {},
     "output_type": "execute_result"
    }
   ],
   "source": [
    "pd.options.display.float_format = '{:.2f}'.format\n",
    "main_pivot_mean = main_pivot.pivot_table(index='month', \n",
    "                                         columns='tariff', \n",
    "                                         values=['calls_minutes', 'gb_used', 'messages', 'fee_final'], \n",
    "                                         aggfunc='mean')\n",
    "\n",
    "main_pivot_mean"
   ]
  },
  {
   "cell_type": "markdown",
   "metadata": {},
   "source": [
    "Используя таблицу, построим столбчатые диаграммы по использованным объёмам и тарифам:"
   ]
  },
  {
   "cell_type": "code",
   "execution_count": 31,
   "metadata": {},
   "outputs": [
    {
     "data": {
      "text/plain": [
       "<matplotlib.axes._subplots.AxesSubplot at 0x7fb7733897d0>"
      ]
     },
     "execution_count": 31,
     "metadata": {},
     "output_type": "execute_result"
    },
    {
     "data": {
      "image/png": "[encoded data removed]",
      "text/plain": [
       "<Figure size 864x576 with 1 Axes>"
      ]
     },
     "metadata": {
      "needs_background": "light"
     },
     "output_type": "display_data"
    },
    {
     "data": {
      "image/png": "[encoded data removed]",
      "text/plain": [
       "<Figure size 864x576 with 1 Axes>"
      ]
     },
     "metadata": {
      "needs_background": "light"
     },
     "output_type": "display_data"
    },
    {
     "data": {
      "image/png": "[encoded data removed]",
      "text/plain": [
       "<Figure size 864x576 with 1 Axes>"
      ]
     },
     "metadata": {
      "needs_background": "light"
     },
     "output_type": "display_data"
    },
    {
     "data": {
      "image/png": "[encoded data removed]",
      "text/plain": [
       "<Figure size 864x576 with 1 Axes>"
      ]
     },
     "metadata": {
      "needs_background": "light"
     },
     "output_type": "display_data"
    }
   ],
   "source": [
    "main_pivot_mean.plot(title='Звонки в минутах в месяц', \n",
    "                     y='calls_minutes', \n",
    "                     grid=True, figsize=(12, 8), kind='bar')\n",
    "\n",
    "main_pivot_mean.plot(title='Количество сообщений в месяц', \n",
    "                     y='messages', \n",
    "                     grid=True, figsize=(12, 8), kind='bar')\n",
    "\n",
    "main_pivot_mean.plot(title='Использовано траффика интернета в месяц, гб', \n",
    "                     y='gb_used', \n",
    "                     grid=True, figsize=(12, 8), kind='bar')\n",
    "\n",
    "main_pivot_mean.plot(title='Выплата за тариф в месяц', \n",
    "                     y='fee_final', \n",
    "                     grid=True, figsize=(12, 8), kind='bar')"
   ]
  },
  {
   "cell_type": "markdown",
   "metadata": {},
   "source": [
    "Исходя из полученных значений, можно сделать вывод:\n",
    "\n",
    "* Пользователи тарифа `ultra` наиболее активные пользователи. Они пользуются услугами оператора больше, чем пользователи тарифа `smart`.\n",
    "* Пользователи тарифа `smart` в среднем всегда платят выше тарифа, а пользователи иного тарифа почти всегда платят тарифную ставку.\n",
    "* В тарифе `ultra` сообщений всегда использовано больше, кроме как в период с февраля по апрель.\n",
    "* Тенденция в течении года по использованным объёмам идёт на повышение, потребности пользователей в течении года растут. В декабре больше всего абоненты используют тариф. \n",
    "* Пользователи тарифа `ultra` приносят компании *Мегалайн* больше прибыли, чем абоненты `smart`. Даже маленький лимит по выданным минутам/гигабайтам/сообщениям в тарифе `smart` помесячно в сумме не превышает `ultra`.\n",
    "* Менее всего пользователи активны в феврале."
   ]
  },
  {
   "cell_type": "markdown",
   "metadata": {},
   "source": [
    "### Рассчёт среднего количество, дисперсии и стандартного отклонения."
   ]
  },
  {
   "cell_type": "markdown",
   "metadata": {},
   "source": [
    "**Рассчитаем среднее и стандартное отклонение:**\n",
    "\n",
    "**Для тарифа `smart`:**"
   ]
  },
  {
   "cell_type": "code",
   "execution_count": 32,
   "metadata": {},
   "outputs": [
    {
     "data": {
      "text/html": [
       "<div>\n",
       "<style scoped>\n",
       "    .dataframe tbody tr th:only-of-type {\n",
       "        vertical-align: middle;\n",
       "    }\n",
       "\n",
       "    .dataframe tbody tr th {\n",
       "        vertical-align: top;\n",
       "    }\n",
       "\n",
       "    .dataframe thead th {\n",
       "        text-align: right;\n",
       "    }\n",
       "</style>\n",
       "<table border=\"1\" class=\"dataframe\">\n",
       "  <thead>\n",
       "    <tr style=\"text-align: right;\">\n",
       "      <th></th>\n",
       "      <th>calls_minutes</th>\n",
       "      <th>gb_used</th>\n",
       "      <th>messages</th>\n",
       "      <th>fee_final</th>\n",
       "    </tr>\n",
       "  </thead>\n",
       "  <tbody>\n",
       "    <tr>\n",
       "      <td>count</td>\n",
       "      <td>2229.00</td>\n",
       "      <td>2229.00</td>\n",
       "      <td>2229.00</td>\n",
       "      <td>2229.00</td>\n",
       "    </tr>\n",
       "    <tr>\n",
       "      <td>mean</td>\n",
       "      <td>417.93</td>\n",
       "      <td>16.33</td>\n",
       "      <td>33.38</td>\n",
       "      <td>1289.97</td>\n",
       "    </tr>\n",
       "    <tr>\n",
       "      <td>std</td>\n",
       "      <td>190.31</td>\n",
       "      <td>5.75</td>\n",
       "      <td>28.23</td>\n",
       "      <td>818.40</td>\n",
       "    </tr>\n",
       "    <tr>\n",
       "      <td>min</td>\n",
       "      <td>0.00</td>\n",
       "      <td>0.00</td>\n",
       "      <td>0.00</td>\n",
       "      <td>550.00</td>\n",
       "    </tr>\n",
       "    <tr>\n",
       "      <td>25%</td>\n",
       "      <td>282.00</td>\n",
       "      <td>13.00</td>\n",
       "      <td>10.00</td>\n",
       "      <td>550.00</td>\n",
       "    </tr>\n",
       "    <tr>\n",
       "      <td>50%</td>\n",
       "      <td>422.00</td>\n",
       "      <td>17.00</td>\n",
       "      <td>28.00</td>\n",
       "      <td>1023.00</td>\n",
       "    </tr>\n",
       "    <tr>\n",
       "      <td>75%</td>\n",
       "      <td>545.00</td>\n",
       "      <td>20.00</td>\n",
       "      <td>51.00</td>\n",
       "      <td>1750.00</td>\n",
       "    </tr>\n",
       "    <tr>\n",
       "      <td>max</td>\n",
       "      <td>1435.00</td>\n",
       "      <td>38.00</td>\n",
       "      <td>143.00</td>\n",
       "      <td>6770.00</td>\n",
       "    </tr>\n",
       "  </tbody>\n",
       "</table>\n",
       "</div>"
      ],
      "text/plain": [
       "       calls_minutes  gb_used  messages  fee_final\n",
       "count        2229.00  2229.00   2229.00    2229.00\n",
       "mean          417.93    16.33     33.38    1289.97\n",
       "std           190.31     5.75     28.23     818.40\n",
       "min             0.00     0.00      0.00     550.00\n",
       "25%           282.00    13.00     10.00     550.00\n",
       "50%           422.00    17.00     28.00    1023.00\n",
       "75%           545.00    20.00     51.00    1750.00\n",
       "max          1435.00    38.00    143.00    6770.00"
      ]
     },
     "execution_count": 32,
     "metadata": {},
     "output_type": "execute_result"
    }
   ],
   "source": [
    "# сводная таблица по тарифу smart\n",
    "\n",
    "main_pivot_smart = main_pivot.query('tariff == \"smart\"')[['calls_minutes', 'gb_used', 'messages', 'fee_final']]\n",
    "\n",
    "main_pivot_smart.describe()"
   ]
  },
  {
   "cell_type": "markdown",
   "metadata": {},
   "source": [
    "Построим ящики с усами для интерпретации результатов:"
   ]
  },
  {
   "cell_type": "code",
   "execution_count": 33,
   "metadata": {},
   "outputs": [
    {
     "data": {
      "image/png": "[encoded data removed]",
      "text/plain": [
       "<Figure size 1080x216 with 1 Axes>"
      ]
     },
     "metadata": {
      "needs_background": "light"
     },
     "output_type": "display_data"
    },
    {
     "data": {
      "image/png": "[encoded data removed]",
      "text/plain": [
       "<Figure size 1080x216 with 1 Axes>"
      ]
     },
     "metadata": {
      "needs_background": "light"
     },
     "output_type": "display_data"
    },
    {
     "data": {
      "image/png": "[encoded data removed]",
      "text/plain": [
       "<Figure size 1080x216 with 1 Axes>"
      ]
     },
     "metadata": {
      "needs_background": "light"
     },
     "output_type": "display_data"
    },
    {
     "data": {
      "image/png": "[encoded data removed]",
      "text/plain": [
       "<Figure size 1080x216 with 1 Axes>"
      ]
     },
     "metadata": {
      "needs_background": "light"
     },
     "output_type": "display_data"
    }
   ],
   "source": [
    "main_pivot_smart.boxplot('calls_minutes', vert=False, figsize=(15,3))\n",
    "plt.show()\n",
    "\n",
    "main_pivot_smart.boxplot('gb_used', vert=False, figsize=(15,3))\n",
    "plt.show()\n",
    "\n",
    "main_pivot_smart.boxplot('messages', vert=False, figsize=(15,3))\n",
    "plt.show()\n",
    "\n",
    "main_pivot_smart.boxplot('fee_final', vert=False, figsize=(15,3))\n",
    "plt.show()"
   ]
  },
  {
   "cell_type": "markdown",
   "metadata": {},
   "source": [
    "**Для тарифа `ultra`:**"
   ]
  },
  {
   "cell_type": "code",
   "execution_count": 34,
   "metadata": {},
   "outputs": [
    {
     "data": {
      "text/html": [
       "<div>\n",
       "<style scoped>\n",
       "    .dataframe tbody tr th:only-of-type {\n",
       "        vertical-align: middle;\n",
       "    }\n",
       "\n",
       "    .dataframe tbody tr th {\n",
       "        vertical-align: top;\n",
       "    }\n",
       "\n",
       "    .dataframe thead th {\n",
       "        text-align: right;\n",
       "    }\n",
       "</style>\n",
       "<table border=\"1\" class=\"dataframe\">\n",
       "  <thead>\n",
       "    <tr style=\"text-align: right;\">\n",
       "      <th></th>\n",
       "      <th>calls_minutes</th>\n",
       "      <th>gb_used</th>\n",
       "      <th>messages</th>\n",
       "      <th>fee_final</th>\n",
       "    </tr>\n",
       "  </thead>\n",
       "  <tbody>\n",
       "    <tr>\n",
       "      <td>count</td>\n",
       "      <td>985.00</td>\n",
       "      <td>985.00</td>\n",
       "      <td>985.00</td>\n",
       "      <td>985.00</td>\n",
       "    </tr>\n",
       "    <tr>\n",
       "      <td>mean</td>\n",
       "      <td>526.62</td>\n",
       "      <td>19.49</td>\n",
       "      <td>49.36</td>\n",
       "      <td>2070.15</td>\n",
       "    </tr>\n",
       "    <tr>\n",
       "      <td>std</td>\n",
       "      <td>317.61</td>\n",
       "      <td>9.85</td>\n",
       "      <td>47.80</td>\n",
       "      <td>376.19</td>\n",
       "    </tr>\n",
       "    <tr>\n",
       "      <td>min</td>\n",
       "      <td>0.00</td>\n",
       "      <td>0.00</td>\n",
       "      <td>0.00</td>\n",
       "      <td>1950.00</td>\n",
       "    </tr>\n",
       "    <tr>\n",
       "      <td>25%</td>\n",
       "      <td>284.00</td>\n",
       "      <td>12.00</td>\n",
       "      <td>6.00</td>\n",
       "      <td>1950.00</td>\n",
       "    </tr>\n",
       "    <tr>\n",
       "      <td>50%</td>\n",
       "      <td>518.00</td>\n",
       "      <td>19.00</td>\n",
       "      <td>38.00</td>\n",
       "      <td>1950.00</td>\n",
       "    </tr>\n",
       "    <tr>\n",
       "      <td>75%</td>\n",
       "      <td>752.00</td>\n",
       "      <td>27.00</td>\n",
       "      <td>79.00</td>\n",
       "      <td>1950.00</td>\n",
       "    </tr>\n",
       "    <tr>\n",
       "      <td>max</td>\n",
       "      <td>1673.00</td>\n",
       "      <td>49.00</td>\n",
       "      <td>224.00</td>\n",
       "      <td>4800.00</td>\n",
       "    </tr>\n",
       "  </tbody>\n",
       "</table>\n",
       "</div>"
      ],
      "text/plain": [
       "       calls_minutes  gb_used  messages  fee_final\n",
       "count         985.00   985.00    985.00     985.00\n",
       "mean          526.62    19.49     49.36    2070.15\n",
       "std           317.61     9.85     47.80     376.19\n",
       "min             0.00     0.00      0.00    1950.00\n",
       "25%           284.00    12.00      6.00    1950.00\n",
       "50%           518.00    19.00     38.00    1950.00\n",
       "75%           752.00    27.00     79.00    1950.00\n",
       "max          1673.00    49.00    224.00    4800.00"
      ]
     },
     "execution_count": 34,
     "metadata": {},
     "output_type": "execute_result"
    }
   ],
   "source": [
    "# сводная таблица по тарифу ultra\n",
    "\n",
    "main_pivot_ultra = main_pivot.query('tariff == \"ultra\"')[['calls_minutes', 'gb_used', 'messages', 'fee_final']]\n",
    "\n",
    "main_pivot_ultra.describe()"
   ]
  },
  {
   "cell_type": "markdown",
   "metadata": {},
   "source": [
    "Построим ящики с усами для интерпретации результатов:"
   ]
  },
  {
   "cell_type": "code",
   "execution_count": 35,
   "metadata": {},
   "outputs": [
    {
     "data": {
      "image/png": "[encoded data removed]",
      "text/plain": [
       "<Figure size 1080x216 with 1 Axes>"
      ]
     },
     "metadata": {
      "needs_background": "light"
     },
     "output_type": "display_data"
    },
    {
     "data": {
      "image/png": "[encoded data removed]",
      "text/plain": [
       "<Figure size 1080x216 with 1 Axes>"
      ]
     },
     "metadata": {
      "needs_background": "light"
     },
     "output_type": "display_data"
    },
    {
     "data": {
      "image/png": "[encoded data removed]",
      "text/plain": [
       "<Figure size 1080x216 with 1 Axes>"
      ]
     },
     "metadata": {
      "needs_background": "light"
     },
     "output_type": "display_data"
    },
    {
     "data": {
      "image/png": "[encoded data removed]",
      "text/plain": [
       "<Figure size 1080x216 with 1 Axes>"
      ]
     },
     "metadata": {
      "needs_background": "light"
     },
     "output_type": "display_data"
    }
   ],
   "source": [
    "main_pivot_ultra.boxplot('calls_minutes', vert=False, figsize=(15,3))\n",
    "plt.show()\n",
    "\n",
    "main_pivot_ultra.boxplot('gb_used', vert=False, figsize=(15,3))\n",
    "plt.show()\n",
    "\n",
    "main_pivot_ultra.boxplot('messages', vert=False, figsize=(15,3))\n",
    "plt.show()\n",
    "\n",
    "main_pivot_ultra.boxplot('fee_final', vert=False, figsize=(15,3))\n",
    "plt.show()"
   ]
  },
  {
   "cell_type": "markdown",
   "metadata": {},
   "source": [
    "**Рассчитаем дисперсию**"
   ]
  },
  {
   "cell_type": "code",
   "execution_count": 36,
   "metadata": {},
   "outputs": [
    {
     "data": {
      "text/plain": [
       "calls_minutes    36219.32\n",
       "gb_used             33.03\n",
       "messages           796.81\n",
       "fee_final       669785.71\n",
       "dtype: float64"
      ]
     },
     "execution_count": 36,
     "metadata": {},
     "output_type": "execute_result"
    }
   ],
   "source": [
    "# воспользуемся библиотекой numpy\n",
    "\n",
    "var_smart = np.var(main_pivot_smart, ddof=1)\n",
    "var_smart"
   ]
  },
  {
   "cell_type": "code",
   "execution_count": 37,
   "metadata": {},
   "outputs": [
    {
     "data": {
      "text/plain": [
       "calls_minutes   100873.63\n",
       "gb_used             97.09\n",
       "messages          2285.27\n",
       "fee_final       141516.75\n",
       "dtype: float64"
      ]
     },
     "execution_count": 37,
     "metadata": {},
     "output_type": "execute_result"
    }
   ],
   "source": [
    "var_ultra = np.var(main_pivot_ultra, ddof=1)\n",
    "var_ultra"
   ]
  },
  {
   "cell_type": "markdown",
   "metadata": {},
   "source": [
    "Дисперсии по итоговой выплате сильно отличаются, стоит это учесть при проверке гипотез."
   ]
  },
  {
   "cell_type": "markdown",
   "metadata": {},
   "source": [
    "**Построем гистограммы**"
   ]
  },
  {
   "cell_type": "code",
   "execution_count": 38,
   "metadata": {},
   "outputs": [
    {
     "data": {
      "image/png": "[encoded data removed]",
      "text/plain": [
       "<Figure size 1152x1152 with 6 Axes>"
      ]
     },
     "metadata": {
      "needs_background": "light"
     },
     "output_type": "display_data"
    }
   ],
   "source": [
    "fig, axs = plt.subplots(nrows=3, ncols=2, figsize=(16,16))\n",
    "\n",
    "axs[0,0].hist(data=main_pivot_smart, x='calls_minutes', bins=50, ec='black')\n",
    "axs[0,1].hist(data=main_pivot_ultra, x='calls_minutes', bins=50, ec='black')\n",
    "axs[1,0].hist(data=main_pivot_smart, x='gb_used', bins=50, ec='black')\n",
    "axs[1,1].hist(data=main_pivot_ultra, x='gb_used', bins=50, ec='black')\n",
    "axs[2,0].hist(data=main_pivot_smart, x='messages', bins=50, ec='black')\n",
    "axs[2,1].hist(data=main_pivot_ultra, x='messages', bins=50, ec='black')\n",
    "\n",
    "axs[0,0].set_title('Тариф Smart. Минут разговора.')\n",
    "axs[0,1].set_title('Тариф Ultra. Минут разговора.')\n",
    "axs[1,0].set_title('Тариф Smart. Использовано траффика')\n",
    "axs[1,1].set_title('Тариф Ultra. Использовано траффика')\n",
    "axs[2,0].set_title('Тариф Smart. Количество сообщений.')\n",
    "axs[2,1].set_title('Тариф Ultra. Количество сообщений.')\n",
    "\n",
    "plt.show()"
   ]
  },
  {
   "cell_type": "code",
   "execution_count": 39,
   "metadata": {},
   "outputs": [
    {
     "data": {
      "image/png": "[encoded data removed]",
      "text/plain": [
       "<Figure size 576x576 with 1 Axes>"
      ]
     },
     "metadata": {
      "needs_background": "light"
     },
     "output_type": "display_data"
    },
    {
     "data": {
      "image/png": "[encoded data removed]",
      "text/plain": [
       "<Figure size 576x576 with 1 Axes>"
      ]
     },
     "metadata": {
      "needs_background": "light"
     },
     "output_type": "display_data"
    },
    {
     "data": {
      "image/png": "[encoded data removed]",
      "text/plain": [
       "<Figure size 576x576 with 1 Axes>"
      ]
     },
     "metadata": {
      "needs_background": "light"
     },
     "output_type": "display_data"
    }
   ],
   "source": [
    "plt.figure(figsize=(8,8))\n",
    "plt.hist(data=main_pivot_smart, x='calls_minutes', bins=50, ec='black', alpha=0.5, label='Smart')\n",
    "plt.hist(data=main_pivot_ultra, x='calls_minutes', bins=50, ec='black', alpha=0.5, label='Ultra')\n",
    "plt.legend(loc='upper right')\n",
    "plt.title('Минут разговора')\n",
    "plt.show()\n",
    "\n",
    "plt.figure(figsize=(8,8))\n",
    "plt.hist(data=main_pivot_smart, x='gb_used', bins=50, ec='black', alpha=0.5, label='Smart')\n",
    "plt.hist(data=main_pivot_ultra, x='gb_used', bins=50, ec='black', alpha=0.5, label='Ultra')\n",
    "plt.legend(loc='upper right')\n",
    "plt.title('Использовано траффика')\n",
    "plt.show()\n",
    "\n",
    "plt.figure(figsize=(8,8))\n",
    "plt.hist(data=main_pivot_smart, x='messages', bins=50, ec='black', alpha=0.5, label='Smart')\n",
    "plt.hist(data=main_pivot_ultra, x='messages', bins=50, ec='black', alpha=0.5, label='Ultra')\n",
    "plt.legend(loc='upper right')\n",
    "plt.title('Сообщений отправлено')\n",
    "plt.show()"
   ]
  },
  {
   "cell_type": "markdown",
   "metadata": {},
   "source": [
    "### Вывод"
   ]
  },
  {
   "cell_type": "markdown",
   "metadata": {},
   "source": [
    "Исходя из полученных данных из всех графиков и полученных данных сделаем выводы:\n",
    "\n",
    "* Количество пользователей `smart` меньше, чем `ultra`\n",
    "* В тарифе `ultra` больше всего абонентов, которые даже не пользуются звонками, либо просто делают \"дозвон\". И никто из пользователей не достиг лимита по звонкам.\n",
    "* Исходя из стандартного отклонения, абоненты тарифа `smart` чаще превышают лимит по звонкам и переплачивают за время.\n",
    "* Исходя из стандартного отклонения по итоговой выплате, абоненты тарифа `smart` в среднем переплачивают.\n",
    "* Большинство абонентов тарифа `smart` превышают лимит по гигабайтам. В тарифе `ultra` таких пользователей меньше.\n",
    "* Никто из пользователей обоих тарифов не достиг лимита по сообщениям."
   ]
  },
  {
   "cell_type": "markdown",
   "metadata": {},
   "source": [
    "## Проверка гипотез"
   ]
  },
  {
   "cell_type": "markdown",
   "metadata": {},
   "source": [
    "### Средняя выручка пользователей тарифов «Ультра» и «Смарт» различаются"
   ]
  },
  {
   "cell_type": "markdown",
   "metadata": {},
   "source": [
    "Составим нулевую гипотезу:\n",
    "* средняя выручка пользователей тарифов Smart и Ultra не различается.\n",
    "\n",
    "И альтернативная гипотеза будет:\n",
    "* средняя выручка пользователей тарифов Smart и Ultra различается.\n",
    "\n",
    "Гипотеза о равенстве средних двух генеральных совокупностей.\n",
    "Применяем двусторонний критерий, так как разница в выручке по тарифу `smart` и `ultra` может быть как в положительную сторону, так и в отрицательную."
   ]
  },
  {
   "cell_type": "code",
   "execution_count": 40,
   "metadata": {},
   "outputs": [
    {
     "name": "stdout",
     "output_type": "stream",
     "text": [
      "p-значение: 4.2606313931076085e-250\n",
      "Отвергаем нулевую гипотезу\n"
     ]
    }
   ],
   "source": [
    "# совокупности по выплате по тарифам\n",
    "smart_fee = main_pivot_smart['fee_final']\n",
    "ultra_fee = main_pivot_ultra['fee_final']\n",
    "\n",
    "alpha = .05\n",
    "\n",
    "# дисперсии отличаются, значит задаем параметр equal_var=False\n",
    "results = st.ttest_ind(\n",
    "    smart_fee, \n",
    "    ultra_fee, \n",
    "    equal_var=False)\n",
    "    \n",
    "print('p-значение:', results.pvalue)\n",
    "    \n",
    "if (results.pvalue < alpha):\n",
    "    print(\"Отвергаем нулевую гипотезу\")\n",
    "else:\n",
    "    print(\"Не получилось отвергнуть нулевую гипотезу\")"
   ]
  },
  {
   "cell_type": "markdown",
   "metadata": {},
   "source": [
    "Есть предположение, что гипотезу можно отвергнуть, значит, в среднем, вероятно, пользователи тарифа `ultra` платят больше."
   ]
  },
  {
   "cell_type": "markdown",
   "metadata": {},
   "source": [
    "### Средняя выручка пользователей из Москвы отличается от выручки пользователей из других регионов."
   ]
  },
  {
   "cell_type": "markdown",
   "metadata": {},
   "source": [
    "Прежде, чем построить нулевую и альтернативную гипотезу, объединим таблицы:"
   ]
  },
  {
   "cell_type": "code",
   "execution_count": 41,
   "metadata": {},
   "outputs": [],
   "source": [
    "main_pivot = main_pivot.merge(users, on='user_id')"
   ]
  },
  {
   "cell_type": "code",
   "execution_count": 42,
   "metadata": {},
   "outputs": [
    {
     "data": {
      "text/html": [
       "<div>\n",
       "<style scoped>\n",
       "    .dataframe tbody tr th:only-of-type {\n",
       "        vertical-align: middle;\n",
       "    }\n",
       "\n",
       "    .dataframe tbody tr th {\n",
       "        vertical-align: top;\n",
       "    }\n",
       "\n",
       "    .dataframe thead th {\n",
       "        text-align: right;\n",
       "    }\n",
       "</style>\n",
       "<table border=\"1\" class=\"dataframe\">\n",
       "  <thead>\n",
       "    <tr style=\"text-align: right;\">\n",
       "      <th></th>\n",
       "      <th>user_id</th>\n",
       "      <th>month</th>\n",
       "      <th>calls_count</th>\n",
       "      <th>calls_minutes</th>\n",
       "      <th>mb_used</th>\n",
       "      <th>gb_used</th>\n",
       "      <th>messages</th>\n",
       "      <th>tariff_x</th>\n",
       "      <th>messages_included</th>\n",
       "      <th>mb_per_month_included</th>\n",
       "      <th>minutes_included</th>\n",
       "      <th>rub_monthly_fee</th>\n",
       "      <th>rub_per_gb</th>\n",
       "      <th>rub_per_message</th>\n",
       "      <th>rub_per_minute</th>\n",
       "      <th>gb_per_month_included</th>\n",
       "      <th>fee_final</th>\n",
       "      <th>age</th>\n",
       "      <th>churn_date</th>\n",
       "      <th>city</th>\n",
       "      <th>first_name</th>\n",
       "      <th>last_name</th>\n",
       "      <th>reg_date</th>\n",
       "      <th>tariff_y</th>\n",
       "      <th>full_name</th>\n",
       "    </tr>\n",
       "  </thead>\n",
       "  <tbody>\n",
       "    <tr>\n",
       "      <td>0</td>\n",
       "      <td>1000</td>\n",
       "      <td>2018-05</td>\n",
       "      <td>22</td>\n",
       "      <td>159</td>\n",
       "      <td>2253.49</td>\n",
       "      <td>3</td>\n",
       "      <td>22</td>\n",
       "      <td>ultra</td>\n",
       "      <td>1000</td>\n",
       "      <td>30720</td>\n",
       "      <td>3000</td>\n",
       "      <td>1950</td>\n",
       "      <td>150</td>\n",
       "      <td>1</td>\n",
       "      <td>1</td>\n",
       "      <td>30</td>\n",
       "      <td>1950</td>\n",
       "      <td>52</td>\n",
       "      <td>NaN</td>\n",
       "      <td>Краснодар</td>\n",
       "      <td>Рафаил</td>\n",
       "      <td>Верещагин</td>\n",
       "      <td>2018-05-25</td>\n",
       "      <td>ultra</td>\n",
       "      <td>Рафаил Верещагин</td>\n",
       "    </tr>\n",
       "    <tr>\n",
       "      <td>1</td>\n",
       "      <td>1000</td>\n",
       "      <td>2018-06</td>\n",
       "      <td>43</td>\n",
       "      <td>172</td>\n",
       "      <td>23233.77</td>\n",
       "      <td>23</td>\n",
       "      <td>60</td>\n",
       "      <td>ultra</td>\n",
       "      <td>1000</td>\n",
       "      <td>30720</td>\n",
       "      <td>3000</td>\n",
       "      <td>1950</td>\n",
       "      <td>150</td>\n",
       "      <td>1</td>\n",
       "      <td>1</td>\n",
       "      <td>30</td>\n",
       "      <td>1950</td>\n",
       "      <td>52</td>\n",
       "      <td>NaN</td>\n",
       "      <td>Краснодар</td>\n",
       "      <td>Рафаил</td>\n",
       "      <td>Верещагин</td>\n",
       "      <td>2018-05-25</td>\n",
       "      <td>ultra</td>\n",
       "      <td>Рафаил Верещагин</td>\n",
       "    </tr>\n",
       "    <tr>\n",
       "      <td>2</td>\n",
       "      <td>1000</td>\n",
       "      <td>2018-07</td>\n",
       "      <td>47</td>\n",
       "      <td>340</td>\n",
       "      <td>14003.64</td>\n",
       "      <td>14</td>\n",
       "      <td>75</td>\n",
       "      <td>ultra</td>\n",
       "      <td>1000</td>\n",
       "      <td>30720</td>\n",
       "      <td>3000</td>\n",
       "      <td>1950</td>\n",
       "      <td>150</td>\n",
       "      <td>1</td>\n",
       "      <td>1</td>\n",
       "      <td>30</td>\n",
       "      <td>1950</td>\n",
       "      <td>52</td>\n",
       "      <td>NaN</td>\n",
       "      <td>Краснодар</td>\n",
       "      <td>Рафаил</td>\n",
       "      <td>Верещагин</td>\n",
       "      <td>2018-05-25</td>\n",
       "      <td>ultra</td>\n",
       "      <td>Рафаил Верещагин</td>\n",
       "    </tr>\n",
       "    <tr>\n",
       "      <td>3</td>\n",
       "      <td>1000</td>\n",
       "      <td>2018-08</td>\n",
       "      <td>52</td>\n",
       "      <td>408</td>\n",
       "      <td>14055.93</td>\n",
       "      <td>14</td>\n",
       "      <td>81</td>\n",
       "      <td>ultra</td>\n",
       "      <td>1000</td>\n",
       "      <td>30720</td>\n",
       "      <td>3000</td>\n",
       "      <td>1950</td>\n",
       "      <td>150</td>\n",
       "      <td>1</td>\n",
       "      <td>1</td>\n",
       "      <td>30</td>\n",
       "      <td>1950</td>\n",
       "      <td>52</td>\n",
       "      <td>NaN</td>\n",
       "      <td>Краснодар</td>\n",
       "      <td>Рафаил</td>\n",
       "      <td>Верещагин</td>\n",
       "      <td>2018-05-25</td>\n",
       "      <td>ultra</td>\n",
       "      <td>Рафаил Верещагин</td>\n",
       "    </tr>\n",
       "    <tr>\n",
       "      <td>4</td>\n",
       "      <td>1000</td>\n",
       "      <td>2018-09</td>\n",
       "      <td>58</td>\n",
       "      <td>466</td>\n",
       "      <td>14568.91</td>\n",
       "      <td>15</td>\n",
       "      <td>57</td>\n",
       "      <td>ultra</td>\n",
       "      <td>1000</td>\n",
       "      <td>30720</td>\n",
       "      <td>3000</td>\n",
       "      <td>1950</td>\n",
       "      <td>150</td>\n",
       "      <td>1</td>\n",
       "      <td>1</td>\n",
       "      <td>30</td>\n",
       "      <td>1950</td>\n",
       "      <td>52</td>\n",
       "      <td>NaN</td>\n",
       "      <td>Краснодар</td>\n",
       "      <td>Рафаил</td>\n",
       "      <td>Верещагин</td>\n",
       "      <td>2018-05-25</td>\n",
       "      <td>ultra</td>\n",
       "      <td>Рафаил Верещагин</td>\n",
       "    </tr>\n",
       "    <tr>\n",
       "      <td>...</td>\n",
       "      <td>...</td>\n",
       "      <td>...</td>\n",
       "      <td>...</td>\n",
       "      <td>...</td>\n",
       "      <td>...</td>\n",
       "      <td>...</td>\n",
       "      <td>...</td>\n",
       "      <td>...</td>\n",
       "      <td>...</td>\n",
       "      <td>...</td>\n",
       "      <td>...</td>\n",
       "      <td>...</td>\n",
       "      <td>...</td>\n",
       "      <td>...</td>\n",
       "      <td>...</td>\n",
       "      <td>...</td>\n",
       "      <td>...</td>\n",
       "      <td>...</td>\n",
       "      <td>...</td>\n",
       "      <td>...</td>\n",
       "      <td>...</td>\n",
       "      <td>...</td>\n",
       "      <td>...</td>\n",
       "      <td>...</td>\n",
       "      <td>...</td>\n",
       "    </tr>\n",
       "    <tr>\n",
       "      <td>3209</td>\n",
       "      <td>1489</td>\n",
       "      <td>2018-08</td>\n",
       "      <td>0</td>\n",
       "      <td>0</td>\n",
       "      <td>11050.56</td>\n",
       "      <td>11</td>\n",
       "      <td>17</td>\n",
       "      <td>smart</td>\n",
       "      <td>50</td>\n",
       "      <td>15360</td>\n",
       "      <td>500</td>\n",
       "      <td>550</td>\n",
       "      <td>200</td>\n",
       "      <td>3</td>\n",
       "      <td>3</td>\n",
       "      <td>15</td>\n",
       "      <td>550</td>\n",
       "      <td>35</td>\n",
       "      <td>NaN</td>\n",
       "      <td>Санкт-Петербург</td>\n",
       "      <td>Павел</td>\n",
       "      <td>Гончаров</td>\n",
       "      <td>2018-08-15</td>\n",
       "      <td>smart</td>\n",
       "      <td>Павел Гончаров</td>\n",
       "    </tr>\n",
       "    <tr>\n",
       "      <td>3210</td>\n",
       "      <td>1489</td>\n",
       "      <td>2018-09</td>\n",
       "      <td>0</td>\n",
       "      <td>0</td>\n",
       "      <td>17206.30</td>\n",
       "      <td>17</td>\n",
       "      <td>32</td>\n",
       "      <td>smart</td>\n",
       "      <td>50</td>\n",
       "      <td>15360</td>\n",
       "      <td>500</td>\n",
       "      <td>550</td>\n",
       "      <td>200</td>\n",
       "      <td>3</td>\n",
       "      <td>3</td>\n",
       "      <td>15</td>\n",
       "      <td>950</td>\n",
       "      <td>35</td>\n",
       "      <td>NaN</td>\n",
       "      <td>Санкт-Петербург</td>\n",
       "      <td>Павел</td>\n",
       "      <td>Гончаров</td>\n",
       "      <td>2018-08-15</td>\n",
       "      <td>smart</td>\n",
       "      <td>Павел Гончаров</td>\n",
       "    </tr>\n",
       "    <tr>\n",
       "      <td>3211</td>\n",
       "      <td>1489</td>\n",
       "      <td>2018-10</td>\n",
       "      <td>0</td>\n",
       "      <td>0</td>\n",
       "      <td>19559.44</td>\n",
       "      <td>20</td>\n",
       "      <td>21</td>\n",
       "      <td>smart</td>\n",
       "      <td>50</td>\n",
       "      <td>15360</td>\n",
       "      <td>500</td>\n",
       "      <td>550</td>\n",
       "      <td>200</td>\n",
       "      <td>3</td>\n",
       "      <td>3</td>\n",
       "      <td>15</td>\n",
       "      <td>1550</td>\n",
       "      <td>35</td>\n",
       "      <td>NaN</td>\n",
       "      <td>Санкт-Петербург</td>\n",
       "      <td>Павел</td>\n",
       "      <td>Гончаров</td>\n",
       "      <td>2018-08-15</td>\n",
       "      <td>smart</td>\n",
       "      <td>Павел Гончаров</td>\n",
       "    </tr>\n",
       "    <tr>\n",
       "      <td>3212</td>\n",
       "      <td>1489</td>\n",
       "      <td>2018-11</td>\n",
       "      <td>0</td>\n",
       "      <td>0</td>\n",
       "      <td>17491.56</td>\n",
       "      <td>18</td>\n",
       "      <td>20</td>\n",
       "      <td>smart</td>\n",
       "      <td>50</td>\n",
       "      <td>15360</td>\n",
       "      <td>500</td>\n",
       "      <td>550</td>\n",
       "      <td>200</td>\n",
       "      <td>3</td>\n",
       "      <td>3</td>\n",
       "      <td>15</td>\n",
       "      <td>1150</td>\n",
       "      <td>35</td>\n",
       "      <td>NaN</td>\n",
       "      <td>Санкт-Петербург</td>\n",
       "      <td>Павел</td>\n",
       "      <td>Гончаров</td>\n",
       "      <td>2018-08-15</td>\n",
       "      <td>smart</td>\n",
       "      <td>Павел Гончаров</td>\n",
       "    </tr>\n",
       "    <tr>\n",
       "      <td>3213</td>\n",
       "      <td>1489</td>\n",
       "      <td>2018-12</td>\n",
       "      <td>0</td>\n",
       "      <td>0</td>\n",
       "      <td>17322.51</td>\n",
       "      <td>17</td>\n",
       "      <td>35</td>\n",
       "      <td>smart</td>\n",
       "      <td>50</td>\n",
       "      <td>15360</td>\n",
       "      <td>500</td>\n",
       "      <td>550</td>\n",
       "      <td>200</td>\n",
       "      <td>3</td>\n",
       "      <td>3</td>\n",
       "      <td>15</td>\n",
       "      <td>950</td>\n",
       "      <td>35</td>\n",
       "      <td>NaN</td>\n",
       "      <td>Санкт-Петербург</td>\n",
       "      <td>Павел</td>\n",
       "      <td>Гончаров</td>\n",
       "      <td>2018-08-15</td>\n",
       "      <td>smart</td>\n",
       "      <td>Павел Гончаров</td>\n",
       "    </tr>\n",
       "  </tbody>\n",
       "</table>\n",
       "<p>3214 rows × 25 columns</p>\n",
       "</div>"
      ],
      "text/plain": [
       "      user_id    month  calls_count  calls_minutes  mb_used  gb_used  \\\n",
       "0        1000  2018-05           22            159  2253.49        3   \n",
       "1        1000  2018-06           43            172 23233.77       23   \n",
       "2        1000  2018-07           47            340 14003.64       14   \n",
       "3        1000  2018-08           52            408 14055.93       14   \n",
       "4        1000  2018-09           58            466 14568.91       15   \n",
       "...       ...      ...          ...            ...      ...      ...   \n",
       "3209     1489  2018-08            0              0 11050.56       11   \n",
       "3210     1489  2018-09            0              0 17206.30       17   \n",
       "3211     1489  2018-10            0              0 19559.44       20   \n",
       "3212     1489  2018-11            0              0 17491.56       18   \n",
       "3213     1489  2018-12            0              0 17322.51       17   \n",
       "\n",
       "      messages tariff_x  messages_included  mb_per_month_included  \\\n",
       "0           22    ultra               1000                  30720   \n",
       "1           60    ultra               1000                  30720   \n",
       "2           75    ultra               1000                  30720   \n",
       "3           81    ultra               1000                  30720   \n",
       "4           57    ultra               1000                  30720   \n",
       "...        ...      ...                ...                    ...   \n",
       "3209        17    smart                 50                  15360   \n",
       "3210        32    smart                 50                  15360   \n",
       "3211        21    smart                 50                  15360   \n",
       "3212        20    smart                 50                  15360   \n",
       "3213        35    smart                 50                  15360   \n",
       "\n",
       "      minutes_included  rub_monthly_fee  rub_per_gb  rub_per_message  \\\n",
       "0                 3000             1950         150                1   \n",
       "1                 3000             1950         150                1   \n",
       "2                 3000             1950         150                1   \n",
       "3                 3000             1950         150                1   \n",
       "4                 3000             1950         150                1   \n",
       "...                ...              ...         ...              ...   \n",
       "3209               500              550         200                3   \n",
       "3210               500              550         200                3   \n",
       "3211               500              550         200                3   \n",
       "3212               500              550         200                3   \n",
       "3213               500              550         200                3   \n",
       "\n",
       "      rub_per_minute  gb_per_month_included  fee_final  age churn_date  \\\n",
       "0                  1                     30       1950   52        NaN   \n",
       "1                  1                     30       1950   52        NaN   \n",
       "2                  1                     30       1950   52        NaN   \n",
       "3                  1                     30       1950   52        NaN   \n",
       "4                  1                     30       1950   52        NaN   \n",
       "...              ...                    ...        ...  ...        ...   \n",
       "3209               3                     15        550   35        NaN   \n",
       "3210               3                     15        950   35        NaN   \n",
       "3211               3                     15       1550   35        NaN   \n",
       "3212               3                     15       1150   35        NaN   \n",
       "3213               3                     15        950   35        NaN   \n",
       "\n",
       "                 city first_name  last_name    reg_date tariff_y  \\\n",
       "0           Краснодар     Рафаил  Верещагин  2018-05-25    ultra   \n",
       "1           Краснодар     Рафаил  Верещагин  2018-05-25    ultra   \n",
       "2           Краснодар     Рафаил  Верещагин  2018-05-25    ultra   \n",
       "3           Краснодар     Рафаил  Верещагин  2018-05-25    ultra   \n",
       "4           Краснодар     Рафаил  Верещагин  2018-05-25    ultra   \n",
       "...               ...        ...        ...         ...      ...   \n",
       "3209  Санкт-Петербург      Павел   Гончаров  2018-08-15    smart   \n",
       "3210  Санкт-Петербург      Павел   Гончаров  2018-08-15    smart   \n",
       "3211  Санкт-Петербург      Павел   Гончаров  2018-08-15    smart   \n",
       "3212  Санкт-Петербург      Павел   Гончаров  2018-08-15    smart   \n",
       "3213  Санкт-Петербург      Павел   Гончаров  2018-08-15    smart   \n",
       "\n",
       "             full_name  \n",
       "0     Рафаил Верещагин  \n",
       "1     Рафаил Верещагин  \n",
       "2     Рафаил Верещагин  \n",
       "3     Рафаил Верещагин  \n",
       "4     Рафаил Верещагин  \n",
       "...                ...  \n",
       "3209    Павел Гончаров  \n",
       "3210    Павел Гончаров  \n",
       "3211    Павел Гончаров  \n",
       "3212    Павел Гончаров  \n",
       "3213    Павел Гончаров  \n",
       "\n",
       "[3214 rows x 25 columns]"
      ]
     },
     "execution_count": 42,
     "metadata": {},
     "output_type": "execute_result"
    }
   ],
   "source": [
    "main_pivot"
   ]
  },
  {
   "cell_type": "markdown",
   "metadata": {},
   "source": [
    "Нулевая гипотеза:\n",
    "* средняя выручка пользователей из Москвы не отличается от выручки пользователей из других регионов.\n",
    "\n",
    "Алтернативная гипотеза:\n",
    "* средняя выручка пользователей из Москвы отличается от выручки пользователей из других регионов.\n",
    "\n",
    "Гипотеза о равенстве средних двух генеральных совокупностей.\n",
    "Применяем двусторонний критерий, так как разница в выручке по Москве и другим городам может быть как в положительную сторону, так и в отрицательную."
   ]
  },
  {
   "cell_type": "code",
   "execution_count": 43,
   "metadata": {},
   "outputs": [
    {
     "name": "stdout",
     "output_type": "stream",
     "text": [
      "p-значение: 0.5257376663729298\n",
      "Не получилось отвергнуть нулевую гипотезу\n"
     ]
    }
   ],
   "source": [
    "# совокупности по выплате по городам\n",
    "moscow_fee = main_pivot.query('city == \"Москва\"')['fee_final']\n",
    "other_fee = main_pivot.query('city != \"Москва\"')['fee_final']\n",
    "\n",
    "alpha = .05\n",
    "\n",
    "# предположим, что совокупности отличаются, и дисперсия тоже\n",
    "results = st.ttest_ind(\n",
    "    moscow_fee, \n",
    "    other_fee, \n",
    "    equal_var=False)\n",
    "    \n",
    "print('p-значение:', results.pvalue)\n",
    "    \n",
    "if (results.pvalue < alpha):\n",
    "    print(\"Отвергаем нулевую гипотезу\")\n",
    "else:\n",
    "    print(\"Не получилось отвергнуть нулевую гипотезу\")"
   ]
  },
  {
   "cell_type": "markdown",
   "metadata": {},
   "source": [
    "Гипотеза не отвергнута, а значит нет принципиальной разницы между выплатами по тарифу в Москве и других городах."
   ]
  },
  {
   "cell_type": "markdown",
   "metadata": {},
   "source": [
    "# Общий вывод"
   ]
  },
  {
   "cell_type": "markdown",
   "metadata": {},
   "source": [
    "Общий вывод по всем полученным данным:\n",
    "* Пользователи тарифа `ultra` наиболее активные пользователи. Они пользуются услугами оператора больше, чем пользователи тарифа `smart`.\n",
    "* Пользователи тарифа `smart` в среднем всегда платят выше тарифа, а пользователи иного тарифа почти всегда платят тарифную ставку. Исходя из стандартного отклонения по итоговой выплате, абоненты тарифа `smart` в среднем переплачивают.\n",
    "* Пользователи тарифа `ultra` приносят больше прибыли, чем абоненты `smart`. Даже маленький лимит по выданным минутам / гигабайтам / сообщениям в тарифе `smart` помесячно в сумме не превышает `ultra`.\n",
    "* Большинство абонентов тарифа `smart` превышают лимит по гигабайтам траффика. В тарифе `ultra` таких пользователей меньше.\n",
    "* Пользователи тарифа `ultra` платят больше, чем абоненты тарифа `smart`.\n",
    "* Абоненты из Москвы не платят больше, чем жители других городов, значит нет принципиальной разницы по рекламировании в зависимости от города.\n",
    "\n",
    "Исходя из изложенной задачи: *Нужно проанализировать поведение клиентов и сделать вывод — какой тариф лучше*, делаем вывод:\n",
    "\n",
    "Тариф `ultra` куда выгоднее в плане использования предоставленных лимитов. Абоненты данного тарифа редко выходят сверх данного лимита. Для компании выгоднее чаще рекламировать данный тариф, так как клиенты платят за него больше, по сравнению с клиентами тарифа `smart`. И активному пользователю сотовой сети, в тарифе `smart` вряд ли хватит выданных лимитов."
   ]
  }
 ],
 "metadata": {
  "ExecuteTimeLog": [
   {
    "duration": 1821,
    "start_time": "2022-01-14T16:52:42.943Z"
   },
   {
    "duration": 26,
    "start_time": "2022-01-14T16:53:18.739Z"
   },
   {
    "duration": 27,
    "start_time": "2022-01-14T16:53:57.058Z"
   },
   {
    "duration": 22,
    "start_time": "2022-01-14T16:53:58.392Z"
   },
   {
    "duration": 18,
    "start_time": "2022-01-14T16:53:59.551Z"
   },
   {
    "duration": 9,
    "start_time": "2022-01-14T16:54:01.366Z"
   },
   {
    "duration": 9,
    "start_time": "2022-01-14T16:54:03.009Z"
   },
   {
    "duration": 17,
    "start_time": "2022-01-14T16:54:32.000Z"
   },
   {
    "duration": 12,
    "start_time": "2022-01-14T16:55:21.348Z"
   },
   {
    "duration": 10,
    "start_time": "2022-01-14T16:55:22.943Z"
   },
   {
    "duration": 13,
    "start_time": "2022-01-14T16:55:24.276Z"
   },
   {
    "duration": 14,
    "start_time": "2022-01-14T16:55:26.964Z"
   },
   {
    "duration": 493,
    "start_time": "2022-01-14T17:02:24.841Z"
   },
   {
    "duration": 25,
    "start_time": "2022-01-14T17:02:26.264Z"
   },
   {
    "duration": 11,
    "start_time": "2022-01-14T17:02:27.647Z"
   },
   {
    "duration": 21,
    "start_time": "2022-01-14T17:02:29.046Z"
   },
   {
    "duration": 12,
    "start_time": "2022-01-14T17:02:30.752Z"
   },
   {
    "duration": 19,
    "start_time": "2022-01-14T17:02:33.295Z"
   },
   {
    "duration": 10,
    "start_time": "2022-01-14T17:02:34.585Z"
   },
   {
    "duration": 10,
    "start_time": "2022-01-14T17:02:35.711Z"
   },
   {
    "duration": 11,
    "start_time": "2022-01-14T17:02:37.059Z"
   },
   {
    "duration": 10,
    "start_time": "2022-01-14T17:02:38.386Z"
   },
   {
    "duration": 14,
    "start_time": "2022-01-14T17:02:39.412Z"
   },
   {
    "duration": 409,
    "start_time": "2022-01-14T17:09:59.238Z"
   },
   {
    "duration": 66,
    "start_time": "2022-01-14T17:10:02.901Z"
   },
   {
    "duration": 63,
    "start_time": "2022-01-14T17:10:06.364Z"
   },
   {
    "duration": 177,
    "start_time": "2022-01-14T17:10:32.231Z"
   },
   {
    "duration": 91,
    "start_time": "2022-01-14T17:10:40.807Z"
   },
   {
    "duration": 171,
    "start_time": "2022-01-14T17:10:43.868Z"
   },
   {
    "duration": 231,
    "start_time": "2022-01-14T17:11:34.345Z"
   },
   {
    "duration": 10,
    "start_time": "2022-01-14T17:31:49.359Z"
   },
   {
    "duration": 35,
    "start_time": "2022-01-14T17:32:52.924Z"
   },
   {
    "duration": 45,
    "start_time": "2022-01-14T17:32:58.951Z"
   },
   {
    "duration": 7671,
    "start_time": "2022-01-14T17:35:41.973Z"
   },
   {
    "duration": 348,
    "start_time": "2022-01-14T17:35:57.533Z"
   },
   {
    "duration": 19,
    "start_time": "2022-01-14T17:36:28.002Z"
   },
   {
    "duration": 19,
    "start_time": "2022-01-14T17:36:38.958Z"
   },
   {
    "duration": 1772,
    "start_time": "2022-01-14T17:36:45.224Z"
   },
   {
    "duration": 27,
    "start_time": "2022-01-14T17:36:46.999Z"
   },
   {
    "duration": 14,
    "start_time": "2022-01-14T17:36:47.029Z"
   },
   {
    "duration": 20,
    "start_time": "2022-01-14T17:36:47.047Z"
   },
   {
    "duration": 12,
    "start_time": "2022-01-14T17:36:47.069Z"
   },
   {
    "duration": 53,
    "start_time": "2022-01-14T17:36:47.083Z"
   },
   {
    "duration": 11,
    "start_time": "2022-01-14T17:36:47.138Z"
   },
   {
    "duration": 15,
    "start_time": "2022-01-14T17:36:47.151Z"
   },
   {
    "duration": 12,
    "start_time": "2022-01-14T17:36:47.170Z"
   },
   {
    "duration": 46,
    "start_time": "2022-01-14T17:36:47.185Z"
   },
   {
    "duration": 15,
    "start_time": "2022-01-14T17:36:47.234Z"
   },
   {
    "duration": 277,
    "start_time": "2022-01-14T17:36:47.252Z"
   },
   {
    "duration": 44,
    "start_time": "2022-01-14T17:36:47.531Z"
   },
   {
    "duration": 60,
    "start_time": "2022-01-14T17:36:47.577Z"
   },
   {
    "duration": 7497,
    "start_time": "2022-01-14T17:36:47.640Z"
   },
   {
    "duration": 75,
    "start_time": "2022-01-14T17:37:07.259Z"
   },
   {
    "duration": 43,
    "start_time": "2022-01-14T17:41:31.431Z"
   },
   {
    "duration": 403,
    "start_time": "2022-01-14T17:43:54.358Z"
   },
   {
    "duration": 304,
    "start_time": "2022-01-14T17:44:13.289Z"
   },
   {
    "duration": 82,
    "start_time": "2022-01-14T17:44:20.176Z"
   },
   {
    "duration": 1231,
    "start_time": "2022-01-14T17:44:58.735Z"
   },
   {
    "duration": 1027,
    "start_time": "2022-01-14T17:45:22.587Z"
   },
   {
    "duration": 1349,
    "start_time": "2022-01-14T17:46:38.969Z"
   },
   {
    "duration": 7735,
    "start_time": "2022-01-14T17:46:44.480Z"
   },
   {
    "duration": 1776,
    "start_time": "2022-01-14T17:47:03.110Z"
   },
   {
    "duration": 29,
    "start_time": "2022-01-14T17:47:04.888Z"
   },
   {
    "duration": 16,
    "start_time": "2022-01-14T17:47:04.921Z"
   },
   {
    "duration": 24,
    "start_time": "2022-01-14T17:47:04.940Z"
   },
   {
    "duration": 13,
    "start_time": "2022-01-14T17:47:04.967Z"
   },
   {
    "duration": 48,
    "start_time": "2022-01-14T17:47:04.982Z"
   },
   {
    "duration": 10,
    "start_time": "2022-01-14T17:47:05.033Z"
   },
   {
    "duration": 17,
    "start_time": "2022-01-14T17:47:05.045Z"
   },
   {
    "duration": 19,
    "start_time": "2022-01-14T17:47:05.065Z"
   },
   {
    "duration": 16,
    "start_time": "2022-01-14T17:47:05.086Z"
   },
   {
    "duration": 15,
    "start_time": "2022-01-14T17:47:05.124Z"
   },
   {
    "duration": 255,
    "start_time": "2022-01-14T17:47:05.141Z"
   },
   {
    "duration": 1304,
    "start_time": "2022-01-14T17:47:05.399Z"
   },
   {
    "duration": 956,
    "start_time": "2022-01-14T17:47:06.706Z"
   },
   {
    "duration": 7320,
    "start_time": "2022-01-14T17:47:07.665Z"
   },
   {
    "duration": 825,
    "start_time": "2022-01-14T17:48:34.679Z"
   },
   {
    "duration": 96,
    "start_time": "2022-01-14T18:00:44.852Z"
   },
   {
    "duration": 75,
    "start_time": "2022-01-14T18:01:52.829Z"
   },
   {
    "duration": 74,
    "start_time": "2022-01-14T18:02:18.400Z"
   },
   {
    "duration": 12,
    "start_time": "2022-01-14T18:15:37.617Z"
   },
   {
    "duration": 16,
    "start_time": "2022-01-14T18:15:44.374Z"
   },
   {
    "duration": 15,
    "start_time": "2022-01-14T18:15:56.476Z"
   },
   {
    "duration": 16,
    "start_time": "2022-01-14T18:17:07.197Z"
   },
   {
    "duration": 308,
    "start_time": "2022-01-14T18:23:49.951Z"
   },
   {
    "duration": 504,
    "start_time": "2022-01-14T18:27:48.833Z"
   },
   {
    "duration": 277,
    "start_time": "2022-01-14T18:28:05.241Z"
   },
   {
    "duration": 97,
    "start_time": "2022-01-14T18:28:11.257Z"
   },
   {
    "duration": 316,
    "start_time": "2022-01-14T18:35:58.454Z"
   },
   {
    "duration": 1282,
    "start_time": "2022-01-14T18:36:15.891Z"
   },
   {
    "duration": 104,
    "start_time": "2022-01-14T18:36:20.128Z"
   },
   {
    "duration": 1835,
    "start_time": "2022-01-14T18:37:04.191Z"
   },
   {
    "duration": 30,
    "start_time": "2022-01-14T18:37:06.028Z"
   },
   {
    "duration": 16,
    "start_time": "2022-01-14T18:37:06.062Z"
   },
   {
    "duration": 60,
    "start_time": "2022-01-14T18:37:06.081Z"
   },
   {
    "duration": 12,
    "start_time": "2022-01-14T18:37:06.144Z"
   },
   {
    "duration": 22,
    "start_time": "2022-01-14T18:37:06.159Z"
   },
   {
    "duration": 47,
    "start_time": "2022-01-14T18:37:06.184Z"
   },
   {
    "duration": 9,
    "start_time": "2022-01-14T18:37:06.234Z"
   },
   {
    "duration": 12,
    "start_time": "2022-01-14T18:37:06.246Z"
   },
   {
    "duration": 8,
    "start_time": "2022-01-14T18:37:06.261Z"
   },
   {
    "duration": 58,
    "start_time": "2022-01-14T18:37:06.272Z"
   },
   {
    "duration": 238,
    "start_time": "2022-01-14T18:37:06.333Z"
   },
   {
    "duration": 1291,
    "start_time": "2022-01-14T18:37:06.573Z"
   },
   {
    "duration": 970,
    "start_time": "2022-01-14T18:37:07.868Z"
   },
   {
    "duration": 784,
    "start_time": "2022-01-14T18:37:08.841Z"
   },
   {
    "duration": 123,
    "start_time": "2022-01-14T18:37:09.627Z"
   },
   {
    "duration": 99,
    "start_time": "2022-01-14T18:37:09.753Z"
   },
   {
    "duration": 61,
    "start_time": "2022-01-14T18:39:31.686Z"
   },
   {
    "duration": 57,
    "start_time": "2022-01-14T18:40:17.125Z"
   },
   {
    "duration": 50,
    "start_time": "2022-01-14T18:40:56.133Z"
   },
   {
    "duration": 59,
    "start_time": "2022-01-14T18:42:57.103Z"
   },
   {
    "duration": 405,
    "start_time": "2022-01-14T18:43:32.620Z"
   },
   {
    "duration": 53,
    "start_time": "2022-01-14T18:44:42.012Z"
   },
   {
    "duration": 96,
    "start_time": "2022-01-14T18:47:11.461Z"
   },
   {
    "duration": 50,
    "start_time": "2022-01-14T18:47:59.826Z"
   },
   {
    "duration": 98,
    "start_time": "2022-01-14T18:50:35.152Z"
   },
   {
    "duration": 442,
    "start_time": "2022-01-14T18:50:38.612Z"
   },
   {
    "duration": 293,
    "start_time": "2022-01-14T18:50:52.733Z"
   },
   {
    "duration": 11,
    "start_time": "2022-01-14T18:51:04.700Z"
   },
   {
    "duration": 22,
    "start_time": "2022-01-14T18:51:09.187Z"
   },
   {
    "duration": 184,
    "start_time": "2022-01-14T18:51:24.232Z"
   },
   {
    "duration": 174,
    "start_time": "2022-01-14T18:51:37.553Z"
   },
   {
    "duration": 172,
    "start_time": "2022-01-14T18:51:44.354Z"
   },
   {
    "duration": 303,
    "start_time": "2022-01-14T18:52:13.663Z"
   },
   {
    "duration": 48,
    "start_time": "2022-01-14T18:52:20.499Z"
   },
   {
    "duration": 48,
    "start_time": "2022-01-14T18:52:26.231Z"
   },
   {
    "duration": 334,
    "start_time": "2022-01-14T19:03:05.882Z"
   },
   {
    "duration": 48,
    "start_time": "2022-01-14T19:03:15.432Z"
   },
   {
    "duration": 327,
    "start_time": "2022-01-14T19:03:46.225Z"
   },
   {
    "duration": 49,
    "start_time": "2022-01-14T19:03:54.731Z"
   },
   {
    "duration": 102,
    "start_time": "2022-01-14T19:06:54.116Z"
   },
   {
    "duration": 294,
    "start_time": "2022-01-14T19:07:14.375Z"
   },
   {
    "duration": 293,
    "start_time": "2022-01-14T19:07:20.052Z"
   },
   {
    "duration": 32,
    "start_time": "2022-01-14T19:07:41.688Z"
   },
   {
    "duration": 31,
    "start_time": "2022-01-14T19:09:05.637Z"
   },
   {
    "duration": 63,
    "start_time": "2022-01-14T19:09:22.326Z"
   },
   {
    "duration": 23,
    "start_time": "2022-01-14T19:10:27.685Z"
   },
   {
    "duration": 33,
    "start_time": "2022-01-14T19:10:36.513Z"
   },
   {
    "duration": 41,
    "start_time": "2022-01-14T19:10:50.576Z"
   },
   {
    "duration": 44,
    "start_time": "2022-01-14T19:11:31.888Z"
   },
   {
    "duration": 44,
    "start_time": "2022-01-14T19:16:14.567Z"
   },
   {
    "duration": 400,
    "start_time": "2022-01-14T19:17:10.076Z"
   },
   {
    "duration": 47,
    "start_time": "2022-01-14T19:17:24.080Z"
   },
   {
    "duration": 42,
    "start_time": "2022-01-14T19:18:59.852Z"
   },
   {
    "duration": 43,
    "start_time": "2022-01-14T19:19:11.230Z"
   },
   {
    "duration": 318,
    "start_time": "2022-01-14T19:22:12.469Z"
   },
   {
    "duration": 43,
    "start_time": "2022-01-14T19:22:24.145Z"
   },
   {
    "duration": 35,
    "start_time": "2022-01-14T19:22:45.044Z"
   },
   {
    "duration": 41,
    "start_time": "2022-01-14T19:23:26.593Z"
   },
   {
    "duration": 284,
    "start_time": "2022-01-14T19:33:44.468Z"
   },
   {
    "duration": 6,
    "start_time": "2022-01-14T19:34:00.379Z"
   },
   {
    "duration": 28,
    "start_time": "2022-01-14T19:34:04.214Z"
   },
   {
    "duration": 23,
    "start_time": "2022-01-14T19:34:10.430Z"
   },
   {
    "duration": 24,
    "start_time": "2022-01-14T19:34:19.902Z"
   },
   {
    "duration": 12,
    "start_time": "2022-01-14T19:35:06.379Z"
   },
   {
    "duration": 311,
    "start_time": "2022-01-14T19:36:02.525Z"
   },
   {
    "duration": 1426,
    "start_time": "2022-01-14T19:36:29.935Z"
   },
   {
    "duration": 11,
    "start_time": "2022-01-14T19:37:00.063Z"
   },
   {
    "duration": 10,
    "start_time": "2022-01-14T19:38:10.366Z"
   },
   {
    "duration": 12,
    "start_time": "2022-01-14T19:39:36.458Z"
   },
   {
    "duration": 30,
    "start_time": "2022-01-14T19:39:41.424Z"
   },
   {
    "duration": 30,
    "start_time": "2022-01-14T19:39:50.063Z"
   },
   {
    "duration": 32,
    "start_time": "2022-01-14T19:39:59.099Z"
   },
   {
    "duration": 36,
    "start_time": "2022-01-14T19:40:01.352Z"
   },
   {
    "duration": 39,
    "start_time": "2022-01-14T19:40:02.117Z"
   },
   {
    "duration": 1857,
    "start_time": "2022-01-14T19:40:08.713Z"
   },
   {
    "duration": 28,
    "start_time": "2022-01-14T19:40:10.573Z"
   },
   {
    "duration": 15,
    "start_time": "2022-01-14T19:40:10.606Z"
   },
   {
    "duration": 27,
    "start_time": "2022-01-14T19:40:10.624Z"
   },
   {
    "duration": 11,
    "start_time": "2022-01-14T19:40:10.654Z"
   },
   {
    "duration": 29,
    "start_time": "2022-01-14T19:40:10.667Z"
   },
   {
    "duration": 30,
    "start_time": "2022-01-14T19:40:10.698Z"
   },
   {
    "duration": 23,
    "start_time": "2022-01-14T19:40:10.730Z"
   },
   {
    "duration": 18,
    "start_time": "2022-01-14T19:40:10.757Z"
   },
   {
    "duration": 12,
    "start_time": "2022-01-14T19:40:10.778Z"
   },
   {
    "duration": 27,
    "start_time": "2022-01-14T19:40:10.792Z"
   },
   {
    "duration": 245,
    "start_time": "2022-01-14T19:40:10.821Z"
   },
   {
    "duration": 1415,
    "start_time": "2022-01-14T19:40:11.068Z"
   },
   {
    "duration": 1004,
    "start_time": "2022-01-14T19:40:12.485Z"
   },
   {
    "duration": 822,
    "start_time": "2022-01-14T19:40:13.491Z"
   },
   {
    "duration": 127,
    "start_time": "2022-01-14T19:40:14.316Z"
   },
   {
    "duration": 94,
    "start_time": "2022-01-14T19:40:14.445Z"
   },
   {
    "duration": 82,
    "start_time": "2022-01-14T19:40:14.542Z"
   },
   {
    "duration": 60,
    "start_time": "2022-01-14T19:40:14.626Z"
   },
   {
    "duration": 60,
    "start_time": "2022-01-14T19:40:14.689Z"
   },
   {
    "duration": 9,
    "start_time": "2022-01-14T19:40:14.752Z"
   },
   {
    "duration": 29,
    "start_time": "2022-01-14T19:40:14.763Z"
   },
   {
    "duration": 104,
    "start_time": "2022-01-14T19:42:14.325Z"
   },
   {
    "duration": 373,
    "start_time": "2022-01-14T19:42:48.406Z"
   },
   {
    "duration": 107,
    "start_time": "2022-01-14T19:42:59.842Z"
   },
   {
    "duration": 44,
    "start_time": "2022-01-14T19:43:17.712Z"
   },
   {
    "duration": 2160,
    "start_time": "2022-01-14T19:45:28.895Z"
   },
   {
    "duration": 28,
    "start_time": "2022-01-14T19:45:31.058Z"
   },
   {
    "duration": 16,
    "start_time": "2022-01-14T19:45:31.089Z"
   },
   {
    "duration": 22,
    "start_time": "2022-01-14T19:45:31.108Z"
   },
   {
    "duration": 16,
    "start_time": "2022-01-14T19:45:31.133Z"
   },
   {
    "duration": 24,
    "start_time": "2022-01-14T19:45:31.152Z"
   },
   {
    "duration": 9,
    "start_time": "2022-01-14T19:45:31.179Z"
   },
   {
    "duration": 39,
    "start_time": "2022-01-14T19:45:31.191Z"
   },
   {
    "duration": 24,
    "start_time": "2022-01-14T19:45:31.234Z"
   },
   {
    "duration": 13,
    "start_time": "2022-01-14T19:45:31.260Z"
   },
   {
    "duration": 27,
    "start_time": "2022-01-14T19:45:31.275Z"
   },
   {
    "duration": 263,
    "start_time": "2022-01-14T19:45:31.304Z"
   },
   {
    "duration": 1395,
    "start_time": "2022-01-14T19:45:31.569Z"
   },
   {
    "duration": 1093,
    "start_time": "2022-01-14T19:45:32.966Z"
   },
   {
    "duration": 881,
    "start_time": "2022-01-14T19:45:34.061Z"
   },
   {
    "duration": 116,
    "start_time": "2022-01-14T19:45:34.945Z"
   },
   {
    "duration": 144,
    "start_time": "2022-01-14T19:45:35.063Z"
   },
   {
    "duration": 81,
    "start_time": "2022-01-14T19:45:35.210Z"
   },
   {
    "duration": 71,
    "start_time": "2022-01-14T19:45:35.293Z"
   },
   {
    "duration": 43,
    "start_time": "2022-01-14T19:45:35.366Z"
   },
   {
    "duration": 19,
    "start_time": "2022-01-14T19:45:35.411Z"
   },
   {
    "duration": 30,
    "start_time": "2022-01-14T19:45:35.432Z"
   },
   {
    "duration": 32,
    "start_time": "2022-01-14T19:46:49.033Z"
   },
   {
    "duration": 33,
    "start_time": "2022-01-14T19:47:02.555Z"
   },
   {
    "duration": 38,
    "start_time": "2022-01-14T19:48:12.408Z"
   },
   {
    "duration": 38,
    "start_time": "2022-01-14T19:48:15.801Z"
   },
   {
    "duration": 16,
    "start_time": "2022-01-14T19:49:58.189Z"
   },
   {
    "duration": 402,
    "start_time": "2022-01-14T19:50:05.053Z"
   },
   {
    "duration": 1918,
    "start_time": "2022-01-14T19:50:15.898Z"
   },
   {
    "duration": 27,
    "start_time": "2022-01-14T19:50:17.820Z"
   },
   {
    "duration": 15,
    "start_time": "2022-01-14T19:50:17.850Z"
   },
   {
    "duration": 22,
    "start_time": "2022-01-14T19:50:17.868Z"
   },
   {
    "duration": 37,
    "start_time": "2022-01-14T19:50:17.892Z"
   },
   {
    "duration": 19,
    "start_time": "2022-01-14T19:50:17.931Z"
   },
   {
    "duration": 11,
    "start_time": "2022-01-14T19:50:17.952Z"
   },
   {
    "duration": 11,
    "start_time": "2022-01-14T19:50:17.965Z"
   },
   {
    "duration": 49,
    "start_time": "2022-01-14T19:50:17.979Z"
   },
   {
    "duration": 11,
    "start_time": "2022-01-14T19:50:18.031Z"
   },
   {
    "duration": 16,
    "start_time": "2022-01-14T19:50:18.044Z"
   },
   {
    "duration": 361,
    "start_time": "2022-01-14T19:50:18.062Z"
   },
   {
    "duration": 1267,
    "start_time": "2022-01-14T19:50:18.426Z"
   },
   {
    "duration": 928,
    "start_time": "2022-01-14T19:50:19.695Z"
   },
   {
    "duration": 770,
    "start_time": "2022-01-14T19:50:20.626Z"
   },
   {
    "duration": 134,
    "start_time": "2022-01-14T19:50:21.399Z"
   },
   {
    "duration": 147,
    "start_time": "2022-01-14T19:50:21.536Z"
   },
   {
    "duration": 88,
    "start_time": "2022-01-14T19:50:21.686Z"
   },
   {
    "duration": 74,
    "start_time": "2022-01-14T19:50:21.776Z"
   },
   {
    "duration": 54,
    "start_time": "2022-01-14T19:50:21.853Z"
   },
   {
    "duration": 15,
    "start_time": "2022-01-14T19:50:21.925Z"
   },
   {
    "duration": 16,
    "start_time": "2022-01-14T19:50:21.944Z"
   },
   {
    "duration": 3,
    "start_time": "2022-01-14T19:50:29.403Z"
   },
   {
    "duration": 440,
    "start_time": "2022-01-14T19:50:36.815Z"
   },
   {
    "duration": 278,
    "start_time": "2022-01-14T19:50:50.297Z"
   },
   {
    "duration": 1869,
    "start_time": "2022-01-14T19:50:59.637Z"
   },
   {
    "duration": 29,
    "start_time": "2022-01-14T19:51:01.509Z"
   },
   {
    "duration": 19,
    "start_time": "2022-01-14T19:51:01.542Z"
   },
   {
    "duration": 28,
    "start_time": "2022-01-14T19:51:01.564Z"
   },
   {
    "duration": 32,
    "start_time": "2022-01-14T19:51:01.594Z"
   },
   {
    "duration": 37,
    "start_time": "2022-01-14T19:51:01.629Z"
   },
   {
    "duration": 19,
    "start_time": "2022-01-14T19:51:01.669Z"
   },
   {
    "duration": 26,
    "start_time": "2022-01-14T19:51:01.691Z"
   },
   {
    "duration": 31,
    "start_time": "2022-01-14T19:51:01.721Z"
   },
   {
    "duration": 31,
    "start_time": "2022-01-14T19:51:01.755Z"
   },
   {
    "duration": 40,
    "start_time": "2022-01-14T19:51:01.788Z"
   },
   {
    "duration": 271,
    "start_time": "2022-01-14T19:51:01.830Z"
   },
   {
    "duration": 1570,
    "start_time": "2022-01-14T19:51:02.103Z"
   },
   {
    "duration": 1058,
    "start_time": "2022-01-14T19:51:03.675Z"
   },
   {
    "duration": 898,
    "start_time": "2022-01-14T19:51:04.736Z"
   },
   {
    "duration": 116,
    "start_time": "2022-01-14T19:51:05.636Z"
   },
   {
    "duration": 150,
    "start_time": "2022-01-14T19:51:05.755Z"
   },
   {
    "duration": 81,
    "start_time": "2022-01-14T19:51:05.907Z"
   },
   {
    "duration": 73,
    "start_time": "2022-01-14T19:51:05.991Z"
   },
   {
    "duration": 42,
    "start_time": "2022-01-14T19:51:06.066Z"
   },
   {
    "duration": 20,
    "start_time": "2022-01-14T19:51:06.111Z"
   },
   {
    "duration": 32,
    "start_time": "2022-01-14T19:51:06.133Z"
   },
   {
    "duration": 495,
    "start_time": "2022-01-14T19:51:48.159Z"
   },
   {
    "duration": 322,
    "start_time": "2022-01-14T19:52:08.700Z"
   },
   {
    "duration": 305,
    "start_time": "2022-01-14T19:52:15.780Z"
   },
   {
    "duration": 93,
    "start_time": "2022-01-14T19:52:20.876Z"
   },
   {
    "duration": 39,
    "start_time": "2022-01-14T19:52:23.032Z"
   },
   {
    "duration": 41,
    "start_time": "2022-01-14T19:53:27.704Z"
   },
   {
    "duration": 39,
    "start_time": "2022-01-14T19:53:48.750Z"
   },
   {
    "duration": 7090,
    "start_time": "2022-01-14T19:55:37.371Z"
   },
   {
    "duration": 7958,
    "start_time": "2022-01-14T19:55:54.285Z"
   },
   {
    "duration": 389,
    "start_time": "2022-01-14T20:00:46.920Z"
   },
   {
    "duration": 8367,
    "start_time": "2022-01-14T20:00:59.764Z"
   },
   {
    "duration": 7606,
    "start_time": "2022-01-14T20:01:11.992Z"
   },
   {
    "duration": 7440,
    "start_time": "2022-01-14T20:01:22.006Z"
   },
   {
    "duration": 285,
    "start_time": "2022-01-14T20:04:06.838Z"
   },
   {
    "duration": 115,
    "start_time": "2022-01-14T20:04:19.697Z"
   },
   {
    "duration": 119,
    "start_time": "2022-01-14T20:06:15.252Z"
   },
   {
    "duration": 436,
    "start_time": "2022-01-14T20:06:31.785Z"
   },
   {
    "duration": 134,
    "start_time": "2022-01-14T20:06:35.549Z"
   },
   {
    "duration": 412,
    "start_time": "2022-01-14T20:06:45.799Z"
   },
   {
    "duration": 118,
    "start_time": "2022-01-14T20:06:49.395Z"
   },
   {
    "duration": 103,
    "start_time": "2022-01-14T20:08:47.851Z"
   },
   {
    "duration": 108,
    "start_time": "2022-01-14T20:09:06.540Z"
   },
   {
    "duration": 113,
    "start_time": "2022-01-14T20:09:28.437Z"
   },
   {
    "duration": 1746,
    "start_time": "2022-01-14T20:09:37.118Z"
   },
   {
    "duration": 26,
    "start_time": "2022-01-14T20:09:38.866Z"
   },
   {
    "duration": 15,
    "start_time": "2022-01-14T20:09:38.895Z"
   },
   {
    "duration": 22,
    "start_time": "2022-01-14T20:09:38.913Z"
   },
   {
    "duration": 12,
    "start_time": "2022-01-14T20:09:38.938Z"
   },
   {
    "duration": 21,
    "start_time": "2022-01-14T20:09:38.953Z"
   },
   {
    "duration": 48,
    "start_time": "2022-01-14T20:09:38.977Z"
   },
   {
    "duration": 11,
    "start_time": "2022-01-14T20:09:39.028Z"
   },
   {
    "duration": 11,
    "start_time": "2022-01-14T20:09:39.046Z"
   },
   {
    "duration": 10,
    "start_time": "2022-01-14T20:09:39.061Z"
   },
   {
    "duration": 59,
    "start_time": "2022-01-14T20:09:39.074Z"
   },
   {
    "duration": 267,
    "start_time": "2022-01-14T20:09:39.136Z"
   },
   {
    "duration": 1276,
    "start_time": "2022-01-14T20:09:39.406Z"
   },
   {
    "duration": 931,
    "start_time": "2022-01-14T20:09:40.686Z"
   },
   {
    "duration": 778,
    "start_time": "2022-01-14T20:09:41.623Z"
   },
   {
    "duration": 123,
    "start_time": "2022-01-14T20:09:42.404Z"
   },
   {
    "duration": 142,
    "start_time": "2022-01-14T20:09:42.530Z"
   },
   {
    "duration": 86,
    "start_time": "2022-01-14T20:09:42.675Z"
   },
   {
    "duration": 60,
    "start_time": "2022-01-14T20:09:42.764Z"
   },
   {
    "duration": 426,
    "start_time": "2022-01-14T20:09:42.827Z"
   },
   {
    "duration": 418,
    "start_time": "2022-01-14T20:09:42.838Z"
   },
   {
    "duration": 417,
    "start_time": "2022-01-14T20:09:42.841Z"
   },
   {
    "duration": 418,
    "start_time": "2022-01-14T20:09:42.842Z"
   },
   {
    "duration": 118,
    "start_time": "2022-01-14T20:09:55.334Z"
   },
   {
    "duration": 1830,
    "start_time": "2022-01-14T20:10:03.601Z"
   },
   {
    "duration": 27,
    "start_time": "2022-01-14T20:10:05.434Z"
   },
   {
    "duration": 15,
    "start_time": "2022-01-14T20:10:05.464Z"
   },
   {
    "duration": 43,
    "start_time": "2022-01-14T20:10:05.481Z"
   },
   {
    "duration": 11,
    "start_time": "2022-01-14T20:10:05.527Z"
   },
   {
    "duration": 19,
    "start_time": "2022-01-14T20:10:05.540Z"
   },
   {
    "duration": 10,
    "start_time": "2022-01-14T20:10:05.561Z"
   },
   {
    "duration": 9,
    "start_time": "2022-01-14T20:10:05.573Z"
   },
   {
    "duration": 11,
    "start_time": "2022-01-14T20:10:05.625Z"
   },
   {
    "duration": 10,
    "start_time": "2022-01-14T20:10:05.639Z"
   },
   {
    "duration": 17,
    "start_time": "2022-01-14T20:10:05.651Z"
   },
   {
    "duration": 277,
    "start_time": "2022-01-14T20:10:05.671Z"
   },
   {
    "duration": 1413,
    "start_time": "2022-01-14T20:10:05.950Z"
   },
   {
    "duration": 1111,
    "start_time": "2022-01-14T20:10:07.366Z"
   },
   {
    "duration": 830,
    "start_time": "2022-01-14T20:10:08.479Z"
   },
   {
    "duration": 118,
    "start_time": "2022-01-14T20:10:09.312Z"
   },
   {
    "duration": 152,
    "start_time": "2022-01-14T20:10:09.432Z"
   },
   {
    "duration": 84,
    "start_time": "2022-01-14T20:10:09.586Z"
   },
   {
    "duration": 68,
    "start_time": "2022-01-14T20:10:09.672Z"
   },
   {
    "duration": 43,
    "start_time": "2022-01-14T20:10:09.743Z"
   },
   {
    "duration": 8,
    "start_time": "2022-01-14T20:10:09.789Z"
   },
   {
    "duration": 33,
    "start_time": "2022-01-14T20:10:09.824Z"
   },
   {
    "duration": 7733,
    "start_time": "2022-01-14T20:10:09.859Z"
   },
   {
    "duration": 114,
    "start_time": "2022-01-14T20:11:51.093Z"
   },
   {
    "duration": 1724,
    "start_time": "2022-01-14T20:11:56.659Z"
   },
   {
    "duration": 25,
    "start_time": "2022-01-14T20:11:58.386Z"
   },
   {
    "duration": 14,
    "start_time": "2022-01-14T20:11:58.415Z"
   },
   {
    "duration": 21,
    "start_time": "2022-01-14T20:11:58.432Z"
   },
   {
    "duration": 12,
    "start_time": "2022-01-14T20:11:58.456Z"
   },
   {
    "duration": 53,
    "start_time": "2022-01-14T20:11:58.470Z"
   },
   {
    "duration": 10,
    "start_time": "2022-01-14T20:11:58.525Z"
   },
   {
    "duration": 8,
    "start_time": "2022-01-14T20:11:58.537Z"
   },
   {
    "duration": 12,
    "start_time": "2022-01-14T20:11:58.549Z"
   },
   {
    "duration": 8,
    "start_time": "2022-01-14T20:11:58.564Z"
   },
   {
    "duration": 59,
    "start_time": "2022-01-14T20:11:58.574Z"
   },
   {
    "duration": 245,
    "start_time": "2022-01-14T20:11:58.635Z"
   },
   {
    "duration": 1277,
    "start_time": "2022-01-14T20:11:58.882Z"
   },
   {
    "duration": 999,
    "start_time": "2022-01-14T20:12:00.161Z"
   },
   {
    "duration": 792,
    "start_time": "2022-01-14T20:12:01.163Z"
   },
   {
    "duration": 122,
    "start_time": "2022-01-14T20:12:01.958Z"
   },
   {
    "duration": 153,
    "start_time": "2022-01-14T20:12:02.083Z"
   },
   {
    "duration": 70,
    "start_time": "2022-01-14T20:12:02.239Z"
   },
   {
    "duration": 66,
    "start_time": "2022-01-14T20:12:02.311Z"
   },
   {
    "duration": 64,
    "start_time": "2022-01-14T20:12:02.379Z"
   },
   {
    "duration": 10,
    "start_time": "2022-01-14T20:12:02.445Z"
   },
   {
    "duration": 39,
    "start_time": "2022-01-14T20:12:02.458Z"
   },
   {
    "duration": 444,
    "start_time": "2022-01-14T20:16:01.462Z"
   },
   {
    "duration": 316,
    "start_time": "2022-01-14T20:16:37.774Z"
   },
   {
    "duration": 305,
    "start_time": "2022-01-14T20:16:43.707Z"
   },
   {
    "duration": 803,
    "start_time": "2022-01-14T20:17:08.199Z"
   },
   {
    "duration": 41,
    "start_time": "2022-01-14T20:17:58.104Z"
   },
   {
    "duration": 1826,
    "start_time": "2022-01-14T20:18:04.062Z"
   },
   {
    "duration": 27,
    "start_time": "2022-01-14T20:18:05.891Z"
   },
   {
    "duration": 15,
    "start_time": "2022-01-14T20:18:05.922Z"
   },
   {
    "duration": 28,
    "start_time": "2022-01-14T20:18:05.939Z"
   },
   {
    "duration": 13,
    "start_time": "2022-01-14T20:18:05.969Z"
   },
   {
    "duration": 45,
    "start_time": "2022-01-14T20:18:05.984Z"
   },
   {
    "duration": 10,
    "start_time": "2022-01-14T20:18:06.031Z"
   },
   {
    "duration": 12,
    "start_time": "2022-01-14T20:18:06.043Z"
   },
   {
    "duration": 11,
    "start_time": "2022-01-14T20:18:06.059Z"
   },
   {
    "duration": 10,
    "start_time": "2022-01-14T20:18:06.073Z"
   },
   {
    "duration": 51,
    "start_time": "2022-01-14T20:18:06.085Z"
   },
   {
    "duration": 265,
    "start_time": "2022-01-14T20:18:06.138Z"
   },
   {
    "duration": 1400,
    "start_time": "2022-01-14T20:18:06.405Z"
   },
   {
    "duration": 1086,
    "start_time": "2022-01-14T20:18:07.808Z"
   },
   {
    "duration": 839,
    "start_time": "2022-01-14T20:18:08.897Z"
   },
   {
    "duration": 123,
    "start_time": "2022-01-14T20:18:09.739Z"
   },
   {
    "duration": 164,
    "start_time": "2022-01-14T20:18:09.865Z"
   },
   {
    "duration": 72,
    "start_time": "2022-01-14T20:18:10.032Z"
   },
   {
    "duration": 71,
    "start_time": "2022-01-14T20:18:10.107Z"
   },
   {
    "duration": 62,
    "start_time": "2022-01-14T20:18:10.180Z"
   },
   {
    "duration": 11,
    "start_time": "2022-01-14T20:18:10.245Z"
   },
   {
    "duration": 31,
    "start_time": "2022-01-14T20:18:10.258Z"
   },
   {
    "duration": 445,
    "start_time": "2022-01-14T20:19:16.620Z"
   },
   {
    "duration": 1912,
    "start_time": "2022-01-14T20:20:03.653Z"
   },
   {
    "duration": 26,
    "start_time": "2022-01-14T20:20:05.567Z"
   },
   {
    "duration": 16,
    "start_time": "2022-01-14T20:20:05.597Z"
   },
   {
    "duration": 29,
    "start_time": "2022-01-14T20:20:05.616Z"
   },
   {
    "duration": 11,
    "start_time": "2022-01-14T20:20:05.647Z"
   },
   {
    "duration": 22,
    "start_time": "2022-01-14T20:20:05.660Z"
   },
   {
    "duration": 14,
    "start_time": "2022-01-14T20:20:05.685Z"
   },
   {
    "duration": 8,
    "start_time": "2022-01-14T20:20:05.723Z"
   },
   {
    "duration": 11,
    "start_time": "2022-01-14T20:20:05.735Z"
   },
   {
    "duration": 11,
    "start_time": "2022-01-14T20:20:05.749Z"
   },
   {
    "duration": 20,
    "start_time": "2022-01-14T20:20:05.763Z"
   },
   {
    "duration": 273,
    "start_time": "2022-01-14T20:20:05.786Z"
   },
   {
    "duration": 1323,
    "start_time": "2022-01-14T20:20:06.062Z"
   },
   {
    "duration": 1013,
    "start_time": "2022-01-14T20:20:07.387Z"
   },
   {
    "duration": 783,
    "start_time": "2022-01-14T20:20:08.423Z"
   },
   {
    "duration": 118,
    "start_time": "2022-01-14T20:20:09.208Z"
   },
   {
    "duration": 151,
    "start_time": "2022-01-14T20:20:09.328Z"
   },
   {
    "duration": 84,
    "start_time": "2022-01-14T20:20:09.482Z"
   },
   {
    "duration": 63,
    "start_time": "2022-01-14T20:20:09.568Z"
   },
   {
    "duration": 40,
    "start_time": "2022-01-14T20:20:09.634Z"
   },
   {
    "duration": 12,
    "start_time": "2022-01-14T20:20:09.677Z"
   },
   {
    "duration": 45,
    "start_time": "2022-01-14T20:20:09.724Z"
   },
   {
    "duration": 421,
    "start_time": "2022-01-14T20:21:57.390Z"
   },
   {
    "duration": 1872,
    "start_time": "2022-01-14T20:22:03.011Z"
   },
   {
    "duration": 29,
    "start_time": "2022-01-14T20:22:04.885Z"
   },
   {
    "duration": 16,
    "start_time": "2022-01-14T20:22:04.921Z"
   },
   {
    "duration": 22,
    "start_time": "2022-01-14T20:22:04.940Z"
   },
   {
    "duration": 11,
    "start_time": "2022-01-14T20:22:04.965Z"
   },
   {
    "duration": 52,
    "start_time": "2022-01-14T20:22:04.978Z"
   },
   {
    "duration": 10,
    "start_time": "2022-01-14T20:22:05.032Z"
   },
   {
    "duration": 13,
    "start_time": "2022-01-14T20:22:05.046Z"
   },
   {
    "duration": 20,
    "start_time": "2022-01-14T20:22:05.061Z"
   },
   {
    "duration": 11,
    "start_time": "2022-01-14T20:22:05.084Z"
   },
   {
    "duration": 39,
    "start_time": "2022-01-14T20:22:05.097Z"
   },
   {
    "duration": 273,
    "start_time": "2022-01-14T20:22:05.138Z"
   },
   {
    "duration": 1271,
    "start_time": "2022-01-14T20:22:05.423Z"
   },
   {
    "duration": 1045,
    "start_time": "2022-01-14T20:22:06.697Z"
   },
   {
    "duration": 848,
    "start_time": "2022-01-14T20:22:07.744Z"
   },
   {
    "duration": 115,
    "start_time": "2022-01-14T20:22:08.594Z"
   },
   {
    "duration": 146,
    "start_time": "2022-01-14T20:22:08.724Z"
   },
   {
    "duration": 77,
    "start_time": "2022-01-14T20:22:08.872Z"
   },
   {
    "duration": 72,
    "start_time": "2022-01-14T20:22:08.951Z"
   },
   {
    "duration": 44,
    "start_time": "2022-01-14T20:22:09.025Z"
   },
   {
    "duration": 10,
    "start_time": "2022-01-14T20:22:09.071Z"
   },
   {
    "duration": 68,
    "start_time": "2022-01-14T20:22:09.083Z"
   },
   {
    "duration": 405,
    "start_time": "2022-01-14T20:23:27.413Z"
   },
   {
    "duration": 5,
    "start_time": "2022-01-14T20:24:27.131Z"
   },
   {
    "duration": 31,
    "start_time": "2022-01-14T20:24:32.459Z"
   },
   {
    "duration": 289,
    "start_time": "2022-01-14T20:25:11.178Z"
   },
   {
    "duration": 302,
    "start_time": "2022-01-14T20:25:16.487Z"
   },
   {
    "duration": 37,
    "start_time": "2022-01-14T20:26:24.982Z"
   },
   {
    "duration": 36,
    "start_time": "2022-01-14T20:27:05.250Z"
   },
   {
    "duration": 1305,
    "start_time": "2022-01-14T20:37:18.957Z"
   },
   {
    "duration": 1348,
    "start_time": "2022-01-14T20:38:29.839Z"
   },
   {
    "duration": 1158,
    "start_time": "2022-01-14T20:39:18.034Z"
   },
   {
    "duration": 1156,
    "start_time": "2022-01-14T20:40:30.056Z"
   },
   {
    "duration": 1137,
    "start_time": "2022-01-14T20:41:05.334Z"
   },
   {
    "duration": 135,
    "start_time": "2022-01-14T20:41:51.083Z"
   },
   {
    "duration": 154,
    "start_time": "2022-01-14T20:41:57.305Z"
   },
   {
    "duration": 159,
    "start_time": "2022-01-14T20:42:16.144Z"
   },
   {
    "duration": 138,
    "start_time": "2022-01-14T20:42:36.329Z"
   },
   {
    "duration": 162,
    "start_time": "2022-01-14T20:42:54.609Z"
   },
   {
    "duration": 157,
    "start_time": "2022-01-14T20:43:11.318Z"
   },
   {
    "duration": 164,
    "start_time": "2022-01-14T20:43:26.493Z"
   },
   {
    "duration": 221,
    "start_time": "2022-01-14T20:43:38.124Z"
   },
   {
    "duration": 51,
    "start_time": "2022-01-14T20:58:02.417Z"
   },
   {
    "duration": 49,
    "start_time": "2022-01-14T20:58:13.564Z"
   },
   {
    "duration": 48,
    "start_time": "2022-01-14T20:58:57.874Z"
   },
   {
    "duration": 48,
    "start_time": "2022-01-14T20:59:09.829Z"
   },
   {
    "duration": 666,
    "start_time": "2022-01-14T20:59:24.632Z"
   },
   {
    "duration": 39,
    "start_time": "2022-01-14T20:59:25.301Z"
   },
   {
    "duration": 12,
    "start_time": "2022-01-14T20:59:25.343Z"
   },
   {
    "duration": 22,
    "start_time": "2022-01-14T20:59:25.357Z"
   },
   {
    "duration": 45,
    "start_time": "2022-01-14T20:59:25.381Z"
   },
   {
    "duration": 19,
    "start_time": "2022-01-14T20:59:25.429Z"
   },
   {
    "duration": 10,
    "start_time": "2022-01-14T20:59:25.451Z"
   },
   {
    "duration": 10,
    "start_time": "2022-01-14T20:59:25.463Z"
   },
   {
    "duration": 54,
    "start_time": "2022-01-14T20:59:25.476Z"
   },
   {
    "duration": 18,
    "start_time": "2022-01-14T20:59:25.533Z"
   },
   {
    "duration": 23,
    "start_time": "2022-01-14T20:59:25.553Z"
   },
   {
    "duration": 248,
    "start_time": "2022-01-14T20:59:25.578Z"
   },
   {
    "duration": 1336,
    "start_time": "2022-01-14T20:59:25.829Z"
   },
   {
    "duration": 968,
    "start_time": "2022-01-14T20:59:27.168Z"
   },
   {
    "duration": 853,
    "start_time": "2022-01-14T20:59:28.138Z"
   },
   {
    "duration": 119,
    "start_time": "2022-01-14T20:59:28.994Z"
   },
   {
    "duration": 157,
    "start_time": "2022-01-14T20:59:29.115Z"
   },
   {
    "duration": 80,
    "start_time": "2022-01-14T20:59:29.275Z"
   },
   {
    "duration": 77,
    "start_time": "2022-01-14T20:59:29.357Z"
   },
   {
    "duration": 42,
    "start_time": "2022-01-14T20:59:29.437Z"
   },
   {
    "duration": 12,
    "start_time": "2022-01-14T20:59:29.482Z"
   },
   {
    "duration": 43,
    "start_time": "2022-01-14T20:59:29.524Z"
   },
   {
    "duration": 66,
    "start_time": "2022-01-14T20:59:29.570Z"
   },
   {
    "duration": 523,
    "start_time": "2022-01-14T21:00:08.644Z"
   },
   {
    "duration": 27,
    "start_time": "2022-01-14T21:00:09.169Z"
   },
   {
    "duration": 15,
    "start_time": "2022-01-14T21:00:09.199Z"
   },
   {
    "duration": 27,
    "start_time": "2022-01-14T21:00:09.216Z"
   },
   {
    "duration": 12,
    "start_time": "2022-01-14T21:00:09.246Z"
   },
   {
    "duration": 25,
    "start_time": "2022-01-14T21:00:09.260Z"
   },
   {
    "duration": 11,
    "start_time": "2022-01-14T21:00:09.287Z"
   },
   {
    "duration": 30,
    "start_time": "2022-01-14T21:00:09.300Z"
   },
   {
    "duration": 14,
    "start_time": "2022-01-14T21:00:09.334Z"
   },
   {
    "duration": 13,
    "start_time": "2022-01-14T21:00:09.351Z"
   },
   {
    "duration": 28,
    "start_time": "2022-01-14T21:00:09.366Z"
   },
   {
    "duration": 248,
    "start_time": "2022-01-14T21:00:09.425Z"
   },
   {
    "duration": 1297,
    "start_time": "2022-01-14T21:00:09.676Z"
   },
   {
    "duration": 949,
    "start_time": "2022-01-14T21:00:10.976Z"
   },
   {
    "duration": 812,
    "start_time": "2022-01-14T21:00:11.927Z"
   },
   {
    "duration": 122,
    "start_time": "2022-01-14T21:00:12.742Z"
   },
   {
    "duration": 158,
    "start_time": "2022-01-14T21:00:12.866Z"
   },
   {
    "duration": 69,
    "start_time": "2022-01-14T21:00:13.027Z"
   },
   {
    "duration": 79,
    "start_time": "2022-01-14T21:00:13.098Z"
   },
   {
    "duration": 60,
    "start_time": "2022-01-14T21:00:13.180Z"
   },
   {
    "duration": 10,
    "start_time": "2022-01-14T21:00:13.243Z"
   },
   {
    "duration": 69,
    "start_time": "2022-01-14T21:00:13.256Z"
   },
   {
    "duration": 40,
    "start_time": "2022-01-14T21:00:13.328Z"
   },
   {
    "duration": 352,
    "start_time": "2022-01-14T21:02:32.216Z"
   },
   {
    "duration": 358,
    "start_time": "2022-01-14T21:04:22.757Z"
   },
   {
    "duration": 35,
    "start_time": "2022-01-14T21:12:08.672Z"
   },
   {
    "duration": 32,
    "start_time": "2022-01-14T21:12:21.618Z"
   },
   {
    "duration": 21,
    "start_time": "2022-01-14T21:13:39.486Z"
   },
   {
    "duration": 32,
    "start_time": "2022-01-14T21:13:44.434Z"
   },
   {
    "duration": 45,
    "start_time": "2022-01-14T21:19:32.823Z"
   },
   {
    "duration": 431,
    "start_time": "2022-01-14T21:20:32.053Z"
   },
   {
    "duration": 431,
    "start_time": "2022-01-14T21:20:41.204Z"
   },
   {
    "duration": 584,
    "start_time": "2022-01-14T21:20:48.142Z"
   },
   {
    "duration": 2018,
    "start_time": "2022-01-14T21:23:05.868Z"
   },
   {
    "duration": 37,
    "start_time": "2022-01-14T21:23:29.925Z"
   },
   {
    "duration": 2143,
    "start_time": "2022-01-14T21:23:31.392Z"
   },
   {
    "duration": 35,
    "start_time": "2022-01-14T21:24:04.314Z"
   },
   {
    "duration": 2244,
    "start_time": "2022-01-14T21:24:05.679Z"
   },
   {
    "duration": 2038,
    "start_time": "2022-01-14T21:41:20.618Z"
   },
   {
    "duration": 34,
    "start_time": "2022-01-14T21:49:13.272Z"
   },
   {
    "duration": 422,
    "start_time": "2022-01-14T21:51:09.261Z"
   },
   {
    "duration": 749,
    "start_time": "2022-01-14T21:51:37.469Z"
   },
   {
    "duration": 646,
    "start_time": "2022-01-14T21:51:53.882Z"
   },
   {
    "duration": 308,
    "start_time": "2022-01-14T21:52:02.235Z"
   },
   {
    "duration": 342,
    "start_time": "2022-01-14T21:52:21.442Z"
   },
   {
    "duration": 734,
    "start_time": "2022-01-14T21:52:51.438Z"
   },
   {
    "duration": 660,
    "start_time": "2022-01-14T21:52:57.946Z"
   },
   {
    "duration": 328,
    "start_time": "2022-01-14T21:53:02.406Z"
   },
   {
    "duration": 610,
    "start_time": "2022-01-14T21:53:14.677Z"
   },
   {
    "duration": 435,
    "start_time": "2022-01-14T21:53:42.203Z"
   },
   {
    "duration": 475,
    "start_time": "2022-01-14T21:53:54.550Z"
   },
   {
    "duration": 441,
    "start_time": "2022-01-14T21:54:00.888Z"
   },
   {
    "duration": 550,
    "start_time": "2022-01-14T21:54:06.275Z"
   },
   {
    "duration": 777,
    "start_time": "2022-01-14T21:54:13.710Z"
   },
   {
    "duration": 982,
    "start_time": "2022-01-14T21:55:41.105Z"
   },
   {
    "duration": 1276,
    "start_time": "2022-01-14T21:55:59.847Z"
   },
   {
    "duration": 42,
    "start_time": "2022-01-14T21:56:23.148Z"
   },
   {
    "duration": 949,
    "start_time": "2022-01-14T21:56:54.864Z"
   },
   {
    "duration": 8,
    "start_time": "2022-01-14T22:05:23.180Z"
   },
   {
    "duration": 8,
    "start_time": "2022-01-14T22:05:49.067Z"
   },
   {
    "duration": 925,
    "start_time": "2022-01-14T22:08:38.347Z"
   },
   {
    "duration": 807,
    "start_time": "2022-01-14T22:08:48.520Z"
   },
   {
    "duration": 1106,
    "start_time": "2022-01-14T22:09:11.820Z"
   },
   {
    "duration": 901,
    "start_time": "2022-01-14T22:09:47.845Z"
   },
   {
    "duration": 1005,
    "start_time": "2022-01-14T22:10:17.828Z"
   },
   {
    "duration": 1401,
    "start_time": "2022-01-14T22:10:48.153Z"
   },
   {
    "duration": 3728,
    "start_time": "2022-01-14T22:11:46.683Z"
   },
   {
    "duration": 2926,
    "start_time": "2022-01-14T22:12:08.947Z"
   },
   {
    "duration": 2798,
    "start_time": "2022-01-14T22:13:59.204Z"
   },
   {
    "duration": 10,
    "start_time": "2022-01-14T22:18:23.039Z"
   },
   {
    "duration": 317,
    "start_time": "2022-01-14T22:19:18.470Z"
   },
   {
    "duration": 14,
    "start_time": "2022-01-14T22:19:38.619Z"
   },
   {
    "duration": 12,
    "start_time": "2022-01-14T22:21:28.985Z"
   },
   {
    "duration": 7518,
    "start_time": "2022-01-14T22:21:30.077Z"
   },
   {
    "duration": 19,
    "start_time": "2022-01-14T22:21:47.329Z"
   },
   {
    "duration": 52,
    "start_time": "2022-01-14T22:24:14.132Z"
   },
   {
    "duration": 1838,
    "start_time": "2022-01-14T22:25:01.251Z"
   },
   {
    "duration": 28,
    "start_time": "2022-01-14T22:25:03.093Z"
   },
   {
    "duration": 17,
    "start_time": "2022-01-14T22:25:03.125Z"
   },
   {
    "duration": 39,
    "start_time": "2022-01-14T22:25:03.145Z"
   },
   {
    "duration": 38,
    "start_time": "2022-01-14T22:25:03.186Z"
   },
   {
    "duration": 30,
    "start_time": "2022-01-14T22:25:03.227Z"
   },
   {
    "duration": 11,
    "start_time": "2022-01-14T22:25:03.260Z"
   },
   {
    "duration": 12,
    "start_time": "2022-01-14T22:25:03.274Z"
   },
   {
    "duration": 15,
    "start_time": "2022-01-14T22:25:03.327Z"
   },
   {
    "duration": 14,
    "start_time": "2022-01-14T22:25:03.345Z"
   },
   {
    "duration": 19,
    "start_time": "2022-01-14T22:25:03.362Z"
   },
   {
    "duration": 346,
    "start_time": "2022-01-14T22:25:03.384Z"
   },
   {
    "duration": 1351,
    "start_time": "2022-01-14T22:25:03.732Z"
   },
   {
    "duration": 973,
    "start_time": "2022-01-14T22:25:05.086Z"
   },
   {
    "duration": 797,
    "start_time": "2022-01-14T22:25:06.062Z"
   },
   {
    "duration": 127,
    "start_time": "2022-01-14T22:25:06.861Z"
   },
   {
    "duration": 150,
    "start_time": "2022-01-14T22:25:06.991Z"
   },
   {
    "duration": 80,
    "start_time": "2022-01-14T22:25:07.144Z"
   },
   {
    "duration": 59,
    "start_time": "2022-01-14T22:25:07.227Z"
   },
   {
    "duration": 64,
    "start_time": "2022-01-14T22:25:07.288Z"
   },
   {
    "duration": 9,
    "start_time": "2022-01-14T22:25:07.354Z"
   },
   {
    "duration": 70,
    "start_time": "2022-01-14T22:25:07.366Z"
   },
   {
    "duration": 39,
    "start_time": "2022-01-14T22:25:07.439Z"
   },
   {
    "duration": 383,
    "start_time": "2022-01-14T22:25:07.481Z"
   },
   {
    "duration": 36,
    "start_time": "2022-01-14T22:25:07.866Z"
   },
   {
    "duration": 2165,
    "start_time": "2022-01-14T22:25:07.905Z"
   },
   {
    "duration": 53,
    "start_time": "2022-01-14T22:25:10.076Z"
   },
   {
    "duration": 1041,
    "start_time": "2022-01-14T22:25:10.131Z"
   },
   {
    "duration": 50,
    "start_time": "2022-01-14T22:25:11.175Z"
   },
   {
    "duration": 1098,
    "start_time": "2022-01-14T22:25:11.228Z"
   },
   {
    "duration": 525,
    "start_time": "2022-01-14T22:26:00.169Z"
   },
   {
    "duration": 27,
    "start_time": "2022-01-14T22:26:00.696Z"
   },
   {
    "duration": 18,
    "start_time": "2022-01-14T22:26:00.726Z"
   },
   {
    "duration": 28,
    "start_time": "2022-01-14T22:26:00.747Z"
   },
   {
    "duration": 11,
    "start_time": "2022-01-14T22:26:00.777Z"
   },
   {
    "duration": 45,
    "start_time": "2022-01-14T22:26:00.791Z"
   },
   {
    "duration": 16,
    "start_time": "2022-01-14T22:26:00.838Z"
   },
   {
    "duration": 16,
    "start_time": "2022-01-14T22:26:00.856Z"
   },
   {
    "duration": 21,
    "start_time": "2022-01-14T22:26:00.876Z"
   },
   {
    "duration": 25,
    "start_time": "2022-01-14T22:26:00.900Z"
   },
   {
    "duration": 24,
    "start_time": "2022-01-14T22:26:00.928Z"
   },
   {
    "duration": 270,
    "start_time": "2022-01-14T22:26:00.955Z"
   },
   {
    "duration": 1321,
    "start_time": "2022-01-14T22:26:01.228Z"
   },
   {
    "duration": 1010,
    "start_time": "2022-01-14T22:26:02.552Z"
   },
   {
    "duration": 788,
    "start_time": "2022-01-14T22:26:03.565Z"
   },
   {
    "duration": 122,
    "start_time": "2022-01-14T22:26:04.356Z"
   },
   {
    "duration": 164,
    "start_time": "2022-01-14T22:26:04.481Z"
   },
   {
    "duration": 80,
    "start_time": "2022-01-14T22:26:04.647Z"
   },
   {
    "duration": 60,
    "start_time": "2022-01-14T22:26:04.730Z"
   },
   {
    "duration": 60,
    "start_time": "2022-01-14T22:26:04.792Z"
   },
   {
    "duration": 9,
    "start_time": "2022-01-14T22:26:04.855Z"
   },
   {
    "duration": 68,
    "start_time": "2022-01-14T22:26:04.867Z"
   },
   {
    "duration": 40,
    "start_time": "2022-01-14T22:26:04.937Z"
   },
   {
    "duration": 394,
    "start_time": "2022-01-14T22:26:04.979Z"
   },
   {
    "duration": 49,
    "start_time": "2022-01-14T22:26:05.376Z"
   },
   {
    "duration": 2296,
    "start_time": "2022-01-14T22:26:05.427Z"
   },
   {
    "duration": 41,
    "start_time": "2022-01-14T22:26:07.727Z"
   },
   {
    "duration": 1183,
    "start_time": "2022-01-14T22:26:07.771Z"
   },
   {
    "duration": 34,
    "start_time": "2022-01-14T22:26:08.957Z"
   },
   {
    "duration": 1104,
    "start_time": "2022-01-14T22:26:08.994Z"
   },
   {
    "duration": 8,
    "start_time": "2022-01-14T22:26:10.100Z"
   },
   {
    "duration": 2161,
    "start_time": "2022-01-14T22:26:34.671Z"
   },
   {
    "duration": 27,
    "start_time": "2022-01-14T22:26:36.835Z"
   },
   {
    "duration": 14,
    "start_time": "2022-01-14T22:26:36.865Z"
   },
   {
    "duration": 47,
    "start_time": "2022-01-14T22:26:36.882Z"
   },
   {
    "duration": 11,
    "start_time": "2022-01-14T22:26:36.932Z"
   },
   {
    "duration": 23,
    "start_time": "2022-01-14T22:26:36.945Z"
   },
   {
    "duration": 16,
    "start_time": "2022-01-14T22:26:36.970Z"
   },
   {
    "duration": 39,
    "start_time": "2022-01-14T22:26:36.990Z"
   },
   {
    "duration": 12,
    "start_time": "2022-01-14T22:26:37.033Z"
   },
   {
    "duration": 10,
    "start_time": "2022-01-14T22:26:37.048Z"
   },
   {
    "duration": 16,
    "start_time": "2022-01-14T22:26:37.061Z"
   },
   {
    "duration": 290,
    "start_time": "2022-01-14T22:26:37.080Z"
   },
   {
    "duration": 1355,
    "start_time": "2022-01-14T22:26:37.374Z"
   },
   {
    "duration": 986,
    "start_time": "2022-01-14T22:26:38.731Z"
   },
   {
    "duration": 807,
    "start_time": "2022-01-14T22:26:39.723Z"
   },
   {
    "duration": 126,
    "start_time": "2022-01-14T22:26:40.533Z"
   },
   {
    "duration": 158,
    "start_time": "2022-01-14T22:26:40.662Z"
   },
   {
    "duration": 75,
    "start_time": "2022-01-14T22:26:40.824Z"
   },
   {
    "duration": 77,
    "start_time": "2022-01-14T22:26:40.902Z"
   },
   {
    "duration": 55,
    "start_time": "2022-01-14T22:26:40.981Z"
   },
   {
    "duration": 9,
    "start_time": "2022-01-14T22:26:41.039Z"
   },
   {
    "duration": 47,
    "start_time": "2022-01-14T22:26:41.050Z"
   },
   {
    "duration": 59,
    "start_time": "2022-01-14T22:26:41.102Z"
   },
   {
    "duration": 365,
    "start_time": "2022-01-14T22:26:41.164Z"
   },
   {
    "duration": 39,
    "start_time": "2022-01-14T22:26:41.531Z"
   },
   {
    "duration": 2034,
    "start_time": "2022-01-14T22:26:41.572Z"
   },
   {
    "duration": 42,
    "start_time": "2022-01-14T22:26:43.608Z"
   },
   {
    "duration": 995,
    "start_time": "2022-01-14T22:26:43.653Z"
   },
   {
    "duration": 31,
    "start_time": "2022-01-14T22:26:44.651Z"
   },
   {
    "duration": 1080,
    "start_time": "2022-01-14T22:26:44.685Z"
   },
   {
    "duration": 7,
    "start_time": "2022-01-14T22:26:45.768Z"
   },
   {
    "duration": 9,
    "start_time": "2022-01-14T22:26:45.778Z"
   },
   {
    "duration": 2906,
    "start_time": "2022-01-14T22:26:45.790Z"
   },
   {
    "duration": 7,
    "start_time": "2022-01-14T22:26:48.698Z"
   },
   {
    "duration": 30,
    "start_time": "2022-01-14T22:26:48.708Z"
   },
   {
    "duration": 14,
    "start_time": "2022-01-14T22:26:48.741Z"
   },
   {
    "duration": 81,
    "start_time": "2022-01-14T22:26:48.757Z"
   },
   {
    "duration": 19,
    "start_time": "2022-01-14T22:27:07.264Z"
   },
   {
    "duration": 10,
    "start_time": "2022-01-14T22:29:05.164Z"
   },
   {
    "duration": 8,
    "start_time": "2022-01-14T22:59:36.901Z"
   },
   {
    "duration": 8,
    "start_time": "2022-01-14T23:10:31.335Z"
   },
   {
    "duration": 14,
    "start_time": "2022-01-14T23:10:38.811Z"
   },
   {
    "duration": 10,
    "start_time": "2022-01-14T23:11:18.237Z"
   },
   {
    "duration": 6,
    "start_time": "2022-01-14T23:12:17.593Z"
   },
   {
    "duration": 5,
    "start_time": "2022-01-14T23:12:26.262Z"
   },
   {
    "duration": 16,
    "start_time": "2022-01-14T23:16:50.016Z"
   },
   {
    "duration": 15,
    "start_time": "2022-01-14T23:16:55.340Z"
   },
   {
    "duration": 2249,
    "start_time": "2022-01-14T23:34:00.005Z"
   },
   {
    "duration": 28,
    "start_time": "2022-01-14T23:34:02.256Z"
   },
   {
    "duration": 17,
    "start_time": "2022-01-14T23:34:02.288Z"
   },
   {
    "duration": 28,
    "start_time": "2022-01-14T23:34:02.308Z"
   },
   {
    "duration": 13,
    "start_time": "2022-01-14T23:34:02.339Z"
   },
   {
    "duration": 22,
    "start_time": "2022-01-14T23:34:02.355Z"
   },
   {
    "duration": 49,
    "start_time": "2022-01-14T23:34:02.380Z"
   },
   {
    "duration": 15,
    "start_time": "2022-01-14T23:34:02.433Z"
   },
   {
    "duration": 14,
    "start_time": "2022-01-14T23:34:02.452Z"
   },
   {
    "duration": 12,
    "start_time": "2022-01-14T23:34:02.469Z"
   },
   {
    "duration": 46,
    "start_time": "2022-01-14T23:34:02.485Z"
   },
   {
    "duration": 270,
    "start_time": "2022-01-14T23:34:02.534Z"
   },
   {
    "duration": 1378,
    "start_time": "2022-01-14T23:34:02.807Z"
   },
   {
    "duration": 998,
    "start_time": "2022-01-14T23:34:04.187Z"
   },
   {
    "duration": 812,
    "start_time": "2022-01-14T23:34:05.187Z"
   },
   {
    "duration": 126,
    "start_time": "2022-01-14T23:34:06.001Z"
   },
   {
    "duration": 195,
    "start_time": "2022-01-14T23:34:06.130Z"
   },
   {
    "duration": 103,
    "start_time": "2022-01-14T23:34:06.328Z"
   },
   {
    "duration": 76,
    "start_time": "2022-01-14T23:34:06.433Z"
   },
   {
    "duration": 42,
    "start_time": "2022-01-14T23:34:06.523Z"
   },
   {
    "duration": 9,
    "start_time": "2022-01-14T23:34:06.567Z"
   },
   {
    "duration": 74,
    "start_time": "2022-01-14T23:34:06.578Z"
   },
   {
    "duration": 38,
    "start_time": "2022-01-14T23:34:06.656Z"
   },
   {
    "duration": 391,
    "start_time": "2022-01-14T23:34:06.698Z"
   },
   {
    "duration": 52,
    "start_time": "2022-01-14T23:34:07.093Z"
   },
   {
    "duration": 2089,
    "start_time": "2022-01-14T23:34:07.147Z"
   },
   {
    "duration": 33,
    "start_time": "2022-01-14T23:34:09.238Z"
   },
   {
    "duration": 1029,
    "start_time": "2022-01-14T23:34:09.273Z"
   },
   {
    "duration": 40,
    "start_time": "2022-01-14T23:34:10.304Z"
   },
   {
    "duration": 1042,
    "start_time": "2022-01-14T23:34:10.346Z"
   },
   {
    "duration": 8,
    "start_time": "2022-01-14T23:34:11.390Z"
   },
   {
    "duration": 27,
    "start_time": "2022-01-14T23:34:11.401Z"
   },
   {
    "duration": 2914,
    "start_time": "2022-01-14T23:34:11.431Z"
   },
   {
    "duration": 8,
    "start_time": "2022-01-14T23:34:14.347Z"
   },
   {
    "duration": 15,
    "start_time": "2022-01-14T23:34:14.357Z"
   },
   {
    "duration": 76,
    "start_time": "2022-01-14T23:34:14.374Z"
   },
   {
    "duration": 17,
    "start_time": "2022-01-14T23:34:14.452Z"
   },
   {
    "duration": 1809,
    "start_time": "2022-01-14T23:35:21.173Z"
   },
   {
    "duration": 27,
    "start_time": "2022-01-14T23:35:22.985Z"
   },
   {
    "duration": 14,
    "start_time": "2022-01-14T23:35:23.016Z"
   },
   {
    "duration": 23,
    "start_time": "2022-01-14T23:35:23.033Z"
   },
   {
    "duration": 11,
    "start_time": "2022-01-14T23:35:23.058Z"
   },
   {
    "duration": 19,
    "start_time": "2022-01-14T23:35:23.071Z"
   },
   {
    "duration": 10,
    "start_time": "2022-01-14T23:35:23.124Z"
   },
   {
    "duration": 9,
    "start_time": "2022-01-14T23:35:23.137Z"
   },
   {
    "duration": 25,
    "start_time": "2022-01-14T23:35:23.149Z"
   },
   {
    "duration": 12,
    "start_time": "2022-01-14T23:35:23.177Z"
   },
   {
    "duration": 51,
    "start_time": "2022-01-14T23:35:23.192Z"
   },
   {
    "duration": 361,
    "start_time": "2022-01-14T23:35:23.245Z"
   },
   {
    "duration": 1755,
    "start_time": "2022-01-14T23:35:23.624Z"
   },
   {
    "duration": 976,
    "start_time": "2022-01-14T23:35:25.382Z"
   },
   {
    "duration": 825,
    "start_time": "2022-01-14T23:35:26.361Z"
   },
   {
    "duration": 124,
    "start_time": "2022-01-14T23:35:27.188Z"
   },
   {
    "duration": 161,
    "start_time": "2022-01-14T23:35:27.315Z"
   },
   {
    "duration": 92,
    "start_time": "2022-01-14T23:35:27.478Z"
   },
   {
    "duration": 70,
    "start_time": "2022-01-14T23:35:27.573Z"
   },
   {
    "duration": 41,
    "start_time": "2022-01-14T23:35:27.646Z"
   },
   {
    "duration": 9,
    "start_time": "2022-01-14T23:35:27.689Z"
   },
   {
    "duration": 42,
    "start_time": "2022-01-14T23:35:27.724Z"
   },
   {
    "duration": 67,
    "start_time": "2022-01-14T23:35:27.771Z"
   },
   {
    "duration": 394,
    "start_time": "2022-01-14T23:35:27.841Z"
   },
   {
    "duration": 35,
    "start_time": "2022-01-14T23:35:28.237Z"
   },
   {
    "duration": 2102,
    "start_time": "2022-01-14T23:35:28.274Z"
   },
   {
    "duration": 50,
    "start_time": "2022-01-14T23:35:30.378Z"
   },
   {
    "duration": 1001,
    "start_time": "2022-01-14T23:35:30.431Z"
   },
   {
    "duration": 32,
    "start_time": "2022-01-14T23:35:31.435Z"
   },
   {
    "duration": 1072,
    "start_time": "2022-01-14T23:35:31.470Z"
   },
   {
    "duration": 7,
    "start_time": "2022-01-14T23:35:32.544Z"
   },
   {
    "duration": 17,
    "start_time": "2022-01-14T23:35:32.553Z"
   },
   {
    "duration": 2893,
    "start_time": "2022-01-14T23:35:32.573Z"
   },
   {
    "duration": 10,
    "start_time": "2022-01-14T23:35:35.469Z"
   },
   {
    "duration": 41,
    "start_time": "2022-01-14T23:35:35.482Z"
   },
   {
    "duration": 42,
    "start_time": "2022-01-14T23:35:35.526Z"
   },
   {
    "duration": 20,
    "start_time": "2022-01-14T23:35:35.571Z"
   },
   {
    "duration": 1853,
    "start_time": "2022-01-14T23:42:09.379Z"
   },
   {
    "duration": 29,
    "start_time": "2022-01-14T23:42:11.235Z"
   },
   {
    "duration": 17,
    "start_time": "2022-01-14T23:42:11.268Z"
   },
   {
    "duration": 49,
    "start_time": "2022-01-14T23:42:11.288Z"
   },
   {
    "duration": 11,
    "start_time": "2022-01-14T23:42:11.341Z"
   },
   {
    "duration": 24,
    "start_time": "2022-01-14T23:42:11.356Z"
   },
   {
    "duration": 44,
    "start_time": "2022-01-14T23:42:11.383Z"
   },
   {
    "duration": 12,
    "start_time": "2022-01-14T23:42:11.429Z"
   },
   {
    "duration": 13,
    "start_time": "2022-01-14T23:42:11.445Z"
   },
   {
    "duration": 8,
    "start_time": "2022-01-14T23:42:11.461Z"
   },
   {
    "duration": 53,
    "start_time": "2022-01-14T23:42:11.471Z"
   },
   {
    "duration": 252,
    "start_time": "2022-01-14T23:42:11.527Z"
   },
   {
    "duration": 1301,
    "start_time": "2022-01-14T23:42:11.781Z"
   },
   {
    "duration": 973,
    "start_time": "2022-01-14T23:42:13.084Z"
   },
   {
    "duration": 807,
    "start_time": "2022-01-14T23:42:14.060Z"
   },
   {
    "duration": 122,
    "start_time": "2022-01-14T23:42:14.869Z"
   },
   {
    "duration": 158,
    "start_time": "2022-01-14T23:42:14.993Z"
   },
   {
    "duration": 78,
    "start_time": "2022-01-14T23:42:15.153Z"
   },
   {
    "duration": 57,
    "start_time": "2022-01-14T23:42:15.234Z"
   },
   {
    "duration": 64,
    "start_time": "2022-01-14T23:42:15.294Z"
   },
   {
    "duration": 8,
    "start_time": "2022-01-14T23:42:15.361Z"
   },
   {
    "duration": 60,
    "start_time": "2022-01-14T23:42:15.372Z"
   },
   {
    "duration": 43,
    "start_time": "2022-01-14T23:42:15.434Z"
   },
   {
    "duration": 397,
    "start_time": "2022-01-14T23:42:15.479Z"
   },
   {
    "duration": 47,
    "start_time": "2022-01-14T23:42:15.878Z"
   },
   {
    "duration": 2062,
    "start_time": "2022-01-14T23:42:15.927Z"
   },
   {
    "duration": 46,
    "start_time": "2022-01-14T23:42:17.994Z"
   },
   {
    "duration": 1038,
    "start_time": "2022-01-14T23:42:18.043Z"
   },
   {
    "duration": 49,
    "start_time": "2022-01-14T23:42:19.083Z"
   },
   {
    "duration": 1055,
    "start_time": "2022-01-14T23:42:19.135Z"
   },
   {
    "duration": 8,
    "start_time": "2022-01-14T23:42:20.193Z"
   },
   {
    "duration": 25,
    "start_time": "2022-01-14T23:42:20.203Z"
   },
   {
    "duration": 2902,
    "start_time": "2022-01-14T23:42:20.231Z"
   },
   {
    "duration": 8,
    "start_time": "2022-01-14T23:42:23.136Z"
   },
   {
    "duration": 16,
    "start_time": "2022-01-14T23:42:23.147Z"
   },
   {
    "duration": 70,
    "start_time": "2022-01-14T23:42:23.166Z"
   },
   {
    "duration": 19,
    "start_time": "2022-01-14T23:42:23.238Z"
   },
   {
    "duration": 1843,
    "start_time": "2022-01-14T23:43:47.983Z"
   },
   {
    "duration": 27,
    "start_time": "2022-01-14T23:43:49.829Z"
   },
   {
    "duration": 14,
    "start_time": "2022-01-14T23:43:49.860Z"
   },
   {
    "duration": 46,
    "start_time": "2022-01-14T23:43:49.877Z"
   },
   {
    "duration": 12,
    "start_time": "2022-01-14T23:43:49.925Z"
   },
   {
    "duration": 21,
    "start_time": "2022-01-14T23:43:49.939Z"
   },
   {
    "duration": 10,
    "start_time": "2022-01-14T23:43:49.963Z"
   },
   {
    "duration": 48,
    "start_time": "2022-01-14T23:43:49.975Z"
   },
   {
    "duration": 15,
    "start_time": "2022-01-14T23:43:50.028Z"
   },
   {
    "duration": 12,
    "start_time": "2022-01-14T23:43:50.047Z"
   },
   {
    "duration": 18,
    "start_time": "2022-01-14T23:43:50.062Z"
   },
   {
    "duration": 270,
    "start_time": "2022-01-14T23:43:50.082Z"
   },
   {
    "duration": 1300,
    "start_time": "2022-01-14T23:43:50.355Z"
   },
   {
    "duration": 947,
    "start_time": "2022-01-14T23:43:51.657Z"
   },
   {
    "duration": 812,
    "start_time": "2022-01-14T23:43:52.607Z"
   },
   {
    "duration": 121,
    "start_time": "2022-01-14T23:43:53.424Z"
   },
   {
    "duration": 157,
    "start_time": "2022-01-14T23:43:53.548Z"
   },
   {
    "duration": 84,
    "start_time": "2022-01-14T23:43:53.708Z"
   },
   {
    "duration": 82,
    "start_time": "2022-01-14T23:43:53.795Z"
   },
   {
    "duration": 75,
    "start_time": "2022-01-14T23:43:53.879Z"
   },
   {
    "duration": 9,
    "start_time": "2022-01-14T23:43:53.956Z"
   },
   {
    "duration": 41,
    "start_time": "2022-01-14T23:43:53.967Z"
   },
   {
    "duration": 47,
    "start_time": "2022-01-14T23:43:54.011Z"
   },
   {
    "duration": 472,
    "start_time": "2022-01-14T23:43:54.061Z"
   },
   {
    "duration": 35,
    "start_time": "2022-01-14T23:43:54.535Z"
   },
   {
    "duration": 2234,
    "start_time": "2022-01-14T23:43:54.572Z"
   },
   {
    "duration": 46,
    "start_time": "2022-01-14T23:43:56.812Z"
   },
   {
    "duration": 1013,
    "start_time": "2022-01-14T23:43:56.861Z"
   },
   {
    "duration": 29,
    "start_time": "2022-01-14T23:43:57.877Z"
   },
   {
    "duration": 1048,
    "start_time": "2022-01-14T23:43:57.923Z"
   },
   {
    "duration": 9,
    "start_time": "2022-01-14T23:43:58.974Z"
   },
   {
    "duration": 9,
    "start_time": "2022-01-14T23:43:58.986Z"
   },
   {
    "duration": 2994,
    "start_time": "2022-01-14T23:43:59.024Z"
   },
   {
    "duration": 8,
    "start_time": "2022-01-14T23:44:02.024Z"
   },
   {
    "duration": 15,
    "start_time": "2022-01-14T23:44:02.035Z"
   },
   {
    "duration": 40,
    "start_time": "2022-01-14T23:44:02.053Z"
   },
   {
    "duration": 17,
    "start_time": "2022-01-14T23:44:02.124Z"
   },
   {
    "duration": 1856,
    "start_time": "2022-01-14T23:47:09.226Z"
   },
   {
    "duration": 26,
    "start_time": "2022-01-14T23:47:11.085Z"
   },
   {
    "duration": 14,
    "start_time": "2022-01-14T23:47:11.115Z"
   },
   {
    "duration": 22,
    "start_time": "2022-01-14T23:47:11.133Z"
   },
   {
    "duration": 11,
    "start_time": "2022-01-14T23:47:11.158Z"
   },
   {
    "duration": 20,
    "start_time": "2022-01-14T23:47:11.172Z"
   },
   {
    "duration": 10,
    "start_time": "2022-01-14T23:47:11.223Z"
   },
   {
    "duration": 10,
    "start_time": "2022-01-14T23:47:11.237Z"
   },
   {
    "duration": 12,
    "start_time": "2022-01-14T23:47:11.250Z"
   },
   {
    "duration": 10,
    "start_time": "2022-01-14T23:47:11.264Z"
   },
   {
    "duration": 55,
    "start_time": "2022-01-14T23:47:11.276Z"
   },
   {
    "duration": 251,
    "start_time": "2022-01-14T23:47:11.334Z"
   },
   {
    "duration": 1305,
    "start_time": "2022-01-14T23:47:11.588Z"
   },
   {
    "duration": 961,
    "start_time": "2022-01-14T23:47:12.895Z"
   },
   {
    "duration": 808,
    "start_time": "2022-01-14T23:47:13.858Z"
   },
   {
    "duration": 122,
    "start_time": "2022-01-14T23:47:14.669Z"
   },
   {
    "duration": 154,
    "start_time": "2022-01-14T23:47:14.794Z"
   },
   {
    "duration": 82,
    "start_time": "2022-01-14T23:47:14.950Z"
   },
   {
    "duration": 62,
    "start_time": "2022-01-14T23:47:15.034Z"
   },
   {
    "duration": 62,
    "start_time": "2022-01-14T23:47:15.098Z"
   },
   {
    "duration": 10,
    "start_time": "2022-01-14T23:47:15.162Z"
   },
   {
    "duration": 67,
    "start_time": "2022-01-14T23:47:15.174Z"
   },
   {
    "duration": 41,
    "start_time": "2022-01-14T23:47:15.246Z"
   },
   {
    "duration": 382,
    "start_time": "2022-01-14T23:47:15.290Z"
   },
   {
    "duration": 51,
    "start_time": "2022-01-14T23:47:15.674Z"
   },
   {
    "duration": 2721,
    "start_time": "2022-01-14T23:47:15.728Z"
   },
   {
    "duration": 42,
    "start_time": "2022-01-14T23:47:18.452Z"
   },
   {
    "duration": 1355,
    "start_time": "2022-01-14T23:47:18.497Z"
   },
   {
    "duration": 40,
    "start_time": "2022-01-14T23:47:19.855Z"
   },
   {
    "duration": 1057,
    "start_time": "2022-01-14T23:47:19.898Z"
   },
   {
    "duration": 8,
    "start_time": "2022-01-14T23:47:20.957Z"
   },
   {
    "duration": 10,
    "start_time": "2022-01-14T23:47:20.968Z"
   },
   {
    "duration": 2850,
    "start_time": "2022-01-14T23:47:20.980Z"
   },
   {
    "duration": 8,
    "start_time": "2022-01-14T23:47:23.832Z"
   },
   {
    "duration": 15,
    "start_time": "2022-01-14T23:47:23.842Z"
   },
   {
    "duration": 68,
    "start_time": "2022-01-14T23:47:23.859Z"
   },
   {
    "duration": 18,
    "start_time": "2022-01-14T23:47:23.930Z"
   },
   {
    "duration": 1524,
    "start_time": "2022-01-17T11:28:13.099Z"
   },
   {
    "duration": 25,
    "start_time": "2022-01-17T11:28:14.625Z"
   },
   {
    "duration": 16,
    "start_time": "2022-01-17T11:28:14.653Z"
   },
   {
    "duration": 25,
    "start_time": "2022-01-17T11:28:14.672Z"
   },
   {
    "duration": 9,
    "start_time": "2022-01-17T11:28:14.699Z"
   },
   {
    "duration": 24,
    "start_time": "2022-01-17T11:28:14.710Z"
   },
   {
    "duration": 10,
    "start_time": "2022-01-17T11:28:14.736Z"
   },
   {
    "duration": 9,
    "start_time": "2022-01-17T11:28:14.748Z"
   },
   {
    "duration": 13,
    "start_time": "2022-01-17T11:28:14.794Z"
   },
   {
    "duration": 8,
    "start_time": "2022-01-17T11:28:14.809Z"
   },
   {
    "duration": 12,
    "start_time": "2022-01-17T11:28:14.819Z"
   },
   {
    "duration": 241,
    "start_time": "2022-01-17T11:28:14.833Z"
   },
   {
    "duration": 894,
    "start_time": "2022-01-17T11:28:15.076Z"
   },
   {
    "duration": 647,
    "start_time": "2022-01-17T11:28:15.972Z"
   },
   {
    "duration": 546,
    "start_time": "2022-01-17T11:28:16.621Z"
   },
   {
    "duration": 91,
    "start_time": "2022-01-17T11:28:17.170Z"
   },
   {
    "duration": 134,
    "start_time": "2022-01-17T11:28:17.263Z"
   },
   {
    "duration": 53,
    "start_time": "2022-01-17T11:28:17.399Z"
   },
   {
    "duration": 71,
    "start_time": "2022-01-17T11:28:17.454Z"
   },
   {
    "duration": 29,
    "start_time": "2022-01-17T11:28:17.527Z"
   },
   {
    "duration": 6,
    "start_time": "2022-01-17T11:28:17.558Z"
   },
   {
    "duration": 45,
    "start_time": "2022-01-17T11:28:17.566Z"
   },
   {
    "duration": 40,
    "start_time": "2022-01-17T11:28:17.613Z"
   },
   {
    "duration": 247,
    "start_time": "2022-01-17T11:28:17.655Z"
   },
   {
    "duration": 24,
    "start_time": "2022-01-17T11:28:17.904Z"
   },
   {
    "duration": 1585,
    "start_time": "2022-01-17T11:28:17.930Z"
   },
   {
    "duration": 34,
    "start_time": "2022-01-17T11:28:19.520Z"
   },
   {
    "duration": 777,
    "start_time": "2022-01-17T11:28:19.557Z"
   },
   {
    "duration": 30,
    "start_time": "2022-01-17T11:28:20.337Z"
   },
   {
    "duration": 811,
    "start_time": "2022-01-17T11:28:20.370Z"
   },
   {
    "duration": 13,
    "start_time": "2022-01-17T11:28:21.184Z"
   },
   {
    "duration": 15,
    "start_time": "2022-01-17T11:28:21.200Z"
   },
   {
    "duration": 2114,
    "start_time": "2022-01-17T11:28:21.218Z"
   },
   {
    "duration": 8,
    "start_time": "2022-01-17T11:28:23.334Z"
   },
   {
    "duration": 11,
    "start_time": "2022-01-17T11:28:23.344Z"
   },
   {
    "duration": 54,
    "start_time": "2022-01-17T11:28:23.357Z"
   },
   {
    "duration": 14,
    "start_time": "2022-01-17T11:28:23.413Z"
   },
   {
    "duration": 1903,
    "start_time": "2022-01-17T12:15:33.298Z"
   },
   {
    "duration": 29,
    "start_time": "2022-01-17T12:15:35.204Z"
   },
   {
    "duration": 16,
    "start_time": "2022-01-17T12:15:35.236Z"
   },
   {
    "duration": 25,
    "start_time": "2022-01-17T12:15:35.256Z"
   },
   {
    "duration": 12,
    "start_time": "2022-01-17T12:15:35.284Z"
   },
   {
    "duration": 24,
    "start_time": "2022-01-17T12:15:35.299Z"
   },
   {
    "duration": 45,
    "start_time": "2022-01-17T12:15:35.325Z"
   },
   {
    "duration": 9,
    "start_time": "2022-01-17T12:15:35.375Z"
   },
   {
    "duration": 15,
    "start_time": "2022-01-17T12:15:35.387Z"
   },
   {
    "duration": 17,
    "start_time": "2022-01-17T12:15:35.404Z"
   },
   {
    "duration": 52,
    "start_time": "2022-01-17T12:15:35.424Z"
   },
   {
    "duration": 288,
    "start_time": "2022-01-17T12:15:35.479Z"
   },
   {
    "duration": 1449,
    "start_time": "2022-01-17T12:15:35.769Z"
   },
   {
    "duration": 1124,
    "start_time": "2022-01-17T12:15:37.221Z"
   },
   {
    "duration": 862,
    "start_time": "2022-01-17T12:15:38.347Z"
   },
   {
    "duration": 128,
    "start_time": "2022-01-17T12:15:39.212Z"
   },
   {
    "duration": 408,
    "start_time": "2022-01-17T12:15:39.343Z"
   },
   {
    "duration": 332,
    "start_time": "2022-01-17T12:15:53.064Z"
   },
   {
    "duration": 7449,
    "start_time": "2022-01-17T12:16:04.577Z"
   },
   {
    "duration": 7590,
    "start_time": "2022-01-17T12:19:16.914Z"
   },
   {
    "duration": 8301,
    "start_time": "2022-01-17T12:19:40.642Z"
   },
   {
    "duration": 92,
    "start_time": "2022-01-17T12:21:51.023Z"
   },
   {
    "duration": 9730,
    "start_time": "2022-01-17T12:22:03.117Z"
   },
   {
    "duration": 299,
    "start_time": "2022-01-17T12:22:26.445Z"
   },
   {
    "duration": 322,
    "start_time": "2022-01-17T12:22:37.765Z"
   },
   {
    "duration": 346,
    "start_time": "2022-01-17T12:22:46.125Z"
   },
   {
    "duration": 69,
    "start_time": "2022-01-17T12:22:53.108Z"
   },
   {
    "duration": 70,
    "start_time": "2022-01-17T12:27:18.110Z"
   },
   {
    "duration": 67,
    "start_time": "2022-01-17T12:27:26.452Z"
   },
   {
    "duration": 254,
    "start_time": "2022-01-17T12:27:44.092Z"
   },
   {
    "duration": 125,
    "start_time": "2022-01-17T12:28:27.106Z"
   },
   {
    "duration": 84,
    "start_time": "2022-01-17T12:28:37.113Z"
   },
   {
    "duration": 67,
    "start_time": "2022-01-17T12:28:39.066Z"
   },
   {
    "duration": 320,
    "start_time": "2022-01-17T12:28:42.179Z"
   },
   {
    "duration": 121,
    "start_time": "2022-01-17T12:29:06.585Z"
   },
   {
    "duration": 45,
    "start_time": "2022-01-17T12:29:15.529Z"
   },
   {
    "duration": 44,
    "start_time": "2022-01-17T12:42:48.155Z"
   },
   {
    "duration": 45,
    "start_time": "2022-01-17T12:42:55.882Z"
   },
   {
    "duration": 319,
    "start_time": "2022-01-17T12:43:07.329Z"
   },
   {
    "duration": 352,
    "start_time": "2022-01-17T12:43:09.753Z"
   },
   {
    "duration": 321,
    "start_time": "2022-01-17T12:43:28.049Z"
   },
   {
    "duration": 445,
    "start_time": "2022-01-17T12:43:35.904Z"
   },
   {
    "duration": 363,
    "start_time": "2022-01-17T12:43:45.336Z"
   },
   {
    "duration": 46,
    "start_time": "2022-01-17T12:43:52.552Z"
   },
   {
    "duration": 117,
    "start_time": "2022-01-17T12:44:59.175Z"
   },
   {
    "duration": 323,
    "start_time": "2022-01-17T12:45:06.013Z"
   },
   {
    "duration": 43,
    "start_time": "2022-01-17T12:45:14.814Z"
   },
   {
    "duration": 119,
    "start_time": "2022-01-17T12:45:35.581Z"
   },
   {
    "duration": 113,
    "start_time": "2022-01-17T12:45:41.396Z"
   },
   {
    "duration": 119,
    "start_time": "2022-01-17T13:04:57.108Z"
   },
   {
    "duration": 1244,
    "start_time": "2022-01-17T13:07:04.730Z"
   },
   {
    "duration": 1231,
    "start_time": "2022-01-17T13:07:16.384Z"
   },
   {
    "duration": 117,
    "start_time": "2022-01-17T13:07:45.816Z"
   },
   {
    "duration": 129,
    "start_time": "2022-01-17T13:08:14.359Z"
   },
   {
    "duration": 129,
    "start_time": "2022-01-17T13:08:30.680Z"
   },
   {
    "duration": 119,
    "start_time": "2022-01-17T13:08:41.271Z"
   },
   {
    "duration": 122,
    "start_time": "2022-01-17T13:09:18.597Z"
   },
   {
    "duration": 128,
    "start_time": "2022-01-17T13:09:31.531Z"
   },
   {
    "duration": 137,
    "start_time": "2022-01-17T13:09:35.564Z"
   },
   {
    "duration": 1526,
    "start_time": "2022-01-17T13:12:53.503Z"
   },
   {
    "duration": 149,
    "start_time": "2022-01-17T13:13:01.591Z"
   },
   {
    "duration": 390,
    "start_time": "2022-01-17T13:13:16.415Z"
   },
   {
    "duration": 391,
    "start_time": "2022-01-17T13:13:21.350Z"
   },
   {
    "duration": 115,
    "start_time": "2022-01-17T13:13:29.078Z"
   },
   {
    "duration": 138,
    "start_time": "2022-01-17T13:14:08.492Z"
   },
   {
    "duration": 82,
    "start_time": "2022-01-17T13:15:20.522Z"
   },
   {
    "duration": 77,
    "start_time": "2022-01-17T13:16:33.097Z"
   },
   {
    "duration": 57,
    "start_time": "2022-01-17T13:16:39.536Z"
   },
   {
    "duration": 47,
    "start_time": "2022-01-17T13:16:41.536Z"
   },
   {
    "duration": 2076,
    "start_time": "2022-01-17T13:16:49.732Z"
   },
   {
    "duration": 28,
    "start_time": "2022-01-17T13:16:51.810Z"
   },
   {
    "duration": 18,
    "start_time": "2022-01-17T13:16:51.841Z"
   },
   {
    "duration": 35,
    "start_time": "2022-01-17T13:16:51.862Z"
   },
   {
    "duration": 12,
    "start_time": "2022-01-17T13:16:51.900Z"
   },
   {
    "duration": 21,
    "start_time": "2022-01-17T13:16:51.914Z"
   },
   {
    "duration": 34,
    "start_time": "2022-01-17T13:16:51.938Z"
   },
   {
    "duration": 20,
    "start_time": "2022-01-17T13:16:51.978Z"
   },
   {
    "duration": 14,
    "start_time": "2022-01-17T13:16:52.002Z"
   },
   {
    "duration": 10,
    "start_time": "2022-01-17T13:16:52.018Z"
   },
   {
    "duration": 52,
    "start_time": "2022-01-17T13:16:52.031Z"
   },
   {
    "duration": 291,
    "start_time": "2022-01-17T13:16:52.086Z"
   },
   {
    "duration": 1474,
    "start_time": "2022-01-17T13:16:52.380Z"
   },
   {
    "duration": 1072,
    "start_time": "2022-01-17T13:16:53.856Z"
   },
   {
    "duration": 908,
    "start_time": "2022-01-17T13:16:54.931Z"
   },
   {
    "duration": 145,
    "start_time": "2022-01-17T13:16:55.842Z"
   },
   {
    "duration": 130,
    "start_time": "2022-01-17T13:16:55.990Z"
   },
   {
    "duration": 100,
    "start_time": "2022-01-17T13:16:56.122Z"
   },
   {
    "duration": 75,
    "start_time": "2022-01-17T13:16:56.224Z"
   },
   {
    "duration": 44,
    "start_time": "2022-01-17T13:16:56.301Z"
   },
   {
    "duration": 29,
    "start_time": "2022-01-17T13:16:56.347Z"
   },
   {
    "duration": 56,
    "start_time": "2022-01-17T13:16:56.378Z"
   },
   {
    "duration": 62,
    "start_time": "2022-01-17T13:16:56.439Z"
   },
   {
    "duration": 418,
    "start_time": "2022-01-17T13:16:56.504Z"
   },
   {
    "duration": 59,
    "start_time": "2022-01-17T13:16:56.925Z"
   },
   {
    "duration": 2271,
    "start_time": "2022-01-17T13:16:56.986Z"
   },
   {
    "duration": 36,
    "start_time": "2022-01-17T13:16:59.268Z"
   },
   {
    "duration": 1105,
    "start_time": "2022-01-17T13:16:59.306Z"
   },
   {
    "duration": 34,
    "start_time": "2022-01-17T13:17:00.413Z"
   },
   {
    "duration": 1219,
    "start_time": "2022-01-17T13:17:00.449Z"
   },
   {
    "duration": 10,
    "start_time": "2022-01-17T13:17:01.672Z"
   },
   {
    "duration": 27,
    "start_time": "2022-01-17T13:17:01.685Z"
   },
   {
    "duration": 3131,
    "start_time": "2022-01-17T13:17:01.714Z"
   },
   {
    "duration": 19,
    "start_time": "2022-01-17T13:17:04.848Z"
   },
   {
    "duration": 25,
    "start_time": "2022-01-17T13:17:04.869Z"
   },
   {
    "duration": 43,
    "start_time": "2022-01-17T13:17:04.896Z"
   },
   {
    "duration": 37,
    "start_time": "2022-01-17T13:17:04.942Z"
   },
   {
    "duration": 5,
    "start_time": "2022-01-17T13:19:59.029Z"
   },
   {
    "duration": 592,
    "start_time": "2022-01-17T13:19:59.605Z"
   },
   {
    "duration": 7875,
    "start_time": "2022-01-17T13:25:45.259Z"
   },
   {
    "duration": 12,
    "start_time": "2022-01-17T13:26:00.299Z"
   },
   {
    "duration": 7,
    "start_time": "2022-01-17T13:26:02.627Z"
   },
   {
    "duration": 298,
    "start_time": "2022-01-17T17:54:03.938Z"
   },
   {
    "duration": 926,
    "start_time": "2022-01-17T17:54:18.141Z"
   },
   {
    "duration": 367,
    "start_time": "2022-01-17T17:54:19.069Z"
   },
   {
    "duration": 19,
    "start_time": "2022-01-17T17:54:19.437Z"
   },
   {
    "duration": 10,
    "start_time": "2022-01-17T17:54:19.458Z"
   },
   {
    "duration": 15,
    "start_time": "2022-01-17T17:54:19.469Z"
   },
   {
    "duration": 6,
    "start_time": "2022-01-17T17:54:19.486Z"
   },
   {
    "duration": 19,
    "start_time": "2022-01-17T17:54:19.494Z"
   },
   {
    "duration": 8,
    "start_time": "2022-01-17T17:54:19.516Z"
   },
   {
    "duration": 7,
    "start_time": "2022-01-17T17:54:19.526Z"
   },
   {
    "duration": 10,
    "start_time": "2022-01-17T17:54:19.534Z"
   },
   {
    "duration": 6,
    "start_time": "2022-01-17T17:54:19.546Z"
   },
   {
    "duration": 9,
    "start_time": "2022-01-17T17:54:19.554Z"
   },
   {
    "duration": 188,
    "start_time": "2022-01-17T17:54:19.565Z"
   },
   {
    "duration": 803,
    "start_time": "2022-01-17T17:54:19.755Z"
   },
   {
    "duration": 641,
    "start_time": "2022-01-17T17:54:20.560Z"
   },
   {
    "duration": 523,
    "start_time": "2022-01-17T17:54:21.203Z"
   },
   {
    "duration": 71,
    "start_time": "2022-01-17T17:54:21.727Z"
   },
   {
    "duration": 315,
    "start_time": "2022-01-17T17:54:21.800Z"
   },
   {
    "duration": 46,
    "start_time": "2022-01-17T17:54:22.117Z"
   },
   {
    "duration": 60,
    "start_time": "2022-01-17T17:54:22.165Z"
   },
   {
    "duration": 37,
    "start_time": "2022-01-17T17:54:22.226Z"
   },
   {
    "duration": 24,
    "start_time": "2022-01-17T17:54:22.265Z"
   },
   {
    "duration": 24,
    "start_time": "2022-01-17T17:54:22.292Z"
   },
   {
    "duration": 5,
    "start_time": "2022-01-17T17:54:22.317Z"
   },
   {
    "duration": 23,
    "start_time": "2022-01-17T17:54:22.324Z"
   },
   {
    "duration": 31,
    "start_time": "2022-01-17T17:54:22.349Z"
   },
   {
    "duration": 246,
    "start_time": "2022-01-17T17:54:22.381Z"
   },
   {
    "duration": 21,
    "start_time": "2022-01-17T17:54:22.628Z"
   },
   {
    "duration": 1222,
    "start_time": "2022-01-17T17:54:22.651Z"
   },
   {
    "duration": 20,
    "start_time": "2022-01-17T17:54:23.874Z"
   },
   {
    "duration": 589,
    "start_time": "2022-01-17T17:54:23.895Z"
   },
   {
    "duration": 29,
    "start_time": "2022-01-17T17:54:24.485Z"
   },
   {
    "duration": 646,
    "start_time": "2022-01-17T17:54:24.516Z"
   },
   {
    "duration": 6,
    "start_time": "2022-01-17T17:54:25.164Z"
   },
   {
    "duration": 5,
    "start_time": "2022-01-17T17:54:25.172Z"
   },
   {
    "duration": 1686,
    "start_time": "2022-01-17T17:54:25.179Z"
   },
   {
    "duration": 5,
    "start_time": "2022-01-17T17:54:26.866Z"
   },
   {
    "duration": 9,
    "start_time": "2022-01-17T17:54:26.873Z"
   },
   {
    "duration": 39,
    "start_time": "2022-01-17T17:54:26.883Z"
   },
   {
    "duration": 11,
    "start_time": "2022-01-17T17:54:26.923Z"
   },
   {
    "duration": 465,
    "start_time": "2022-01-17T17:55:05.961Z"
   },
   {
    "duration": 276,
    "start_time": "2022-01-17T17:55:12.189Z"
   },
   {
    "duration": 188,
    "start_time": "2022-01-17T17:55:16.308Z"
   },
   {
    "duration": 405,
    "start_time": "2022-01-17T17:56:24.225Z"
   },
   {
    "duration": 287,
    "start_time": "2022-01-17T17:56:38.803Z"
   },
   {
    "duration": 433,
    "start_time": "2022-01-17T17:56:46.582Z"
   },
   {
    "duration": 276,
    "start_time": "2022-01-17T17:56:53.651Z"
   },
   {
    "duration": 20,
    "start_time": "2022-01-17T17:56:58.758Z"
   },
   {
    "duration": 283,
    "start_time": "2022-01-17T17:57:07.103Z"
   },
   {
    "duration": 280,
    "start_time": "2022-01-17T17:57:09.602Z"
   },
   {
    "duration": 153,
    "start_time": "2022-01-17T17:58:07.748Z"
   },
   {
    "duration": 292,
    "start_time": "2022-01-17T18:01:25.622Z"
   },
   {
    "duration": 288,
    "start_time": "2022-01-17T18:03:20.407Z"
   },
   {
    "duration": 301,
    "start_time": "2022-01-17T18:03:37.759Z"
   },
   {
    "duration": 341,
    "start_time": "2022-01-17T18:03:53.334Z"
   },
   {
    "duration": 58,
    "start_time": "2022-01-17T18:04:42.135Z"
   },
   {
    "duration": 48,
    "start_time": "2022-01-17T18:04:46.183Z"
   },
   {
    "duration": 67,
    "start_time": "2022-01-17T18:05:10.955Z"
   },
   {
    "duration": 83,
    "start_time": "2022-01-17T18:05:21.231Z"
   },
   {
    "duration": 319,
    "start_time": "2022-01-17T18:05:42.751Z"
   },
   {
    "duration": 269,
    "start_time": "2022-01-17T18:05:53.032Z"
   },
   {
    "duration": 251,
    "start_time": "2022-01-17T18:06:00.096Z"
   },
   {
    "duration": 370,
    "start_time": "2022-01-17T18:06:05.180Z"
   },
   {
    "duration": 273,
    "start_time": "2022-01-17T18:07:01.273Z"
   },
   {
    "duration": 263,
    "start_time": "2022-01-17T18:07:13.157Z"
   },
   {
    "duration": 159,
    "start_time": "2022-01-17T18:07:24.501Z"
   },
   {
    "duration": 361,
    "start_time": "2022-01-17T18:07:35.604Z"
   },
   {
    "duration": 369,
    "start_time": "2022-01-17T18:07:41.974Z"
   },
   {
    "duration": 8,
    "start_time": "2022-01-17T18:12:27.491Z"
   },
   {
    "duration": 288,
    "start_time": "2022-01-17T18:13:11.673Z"
   },
   {
    "duration": 179,
    "start_time": "2022-01-17T18:13:15.897Z"
   },
   {
    "duration": 17,
    "start_time": "2022-01-17T18:13:26.567Z"
   },
   {
    "duration": 287,
    "start_time": "2022-01-17T18:13:31.406Z"
   },
   {
    "duration": 285,
    "start_time": "2022-01-17T18:15:14.402Z"
   },
   {
    "duration": 138,
    "start_time": "2022-01-17T18:15:28.025Z"
   },
   {
    "duration": 46,
    "start_time": "2022-01-17T18:16:16.925Z"
   },
   {
    "duration": 38,
    "start_time": "2022-01-17T18:17:39.098Z"
   },
   {
    "duration": 39,
    "start_time": "2022-01-17T18:19:37.807Z"
   },
   {
    "duration": 136,
    "start_time": "2022-01-17T18:22:49.776Z"
   },
   {
    "duration": 133,
    "start_time": "2022-01-17T18:22:59.334Z"
   },
   {
    "duration": 912,
    "start_time": "2022-01-17T18:28:19.050Z"
   },
   {
    "duration": 354,
    "start_time": "2022-01-17T18:28:19.963Z"
   },
   {
    "duration": 18,
    "start_time": "2022-01-17T18:28:20.319Z"
   },
   {
    "duration": 8,
    "start_time": "2022-01-17T18:28:20.339Z"
   },
   {
    "duration": 14,
    "start_time": "2022-01-17T18:28:20.349Z"
   },
   {
    "duration": 7,
    "start_time": "2022-01-17T18:28:20.364Z"
   },
   {
    "duration": 13,
    "start_time": "2022-01-17T18:28:20.372Z"
   },
   {
    "duration": 27,
    "start_time": "2022-01-17T18:28:20.386Z"
   },
   {
    "duration": 5,
    "start_time": "2022-01-17T18:28:20.415Z"
   },
   {
    "duration": 7,
    "start_time": "2022-01-17T18:28:20.421Z"
   },
   {
    "duration": 6,
    "start_time": "2022-01-17T18:28:20.430Z"
   },
   {
    "duration": 8,
    "start_time": "2022-01-17T18:28:20.437Z"
   },
   {
    "duration": 177,
    "start_time": "2022-01-17T18:28:20.447Z"
   },
   {
    "duration": 779,
    "start_time": "2022-01-17T18:28:20.626Z"
   },
   {
    "duration": 574,
    "start_time": "2022-01-17T18:28:21.407Z"
   },
   {
    "duration": 477,
    "start_time": "2022-01-17T18:28:21.982Z"
   },
   {
    "duration": 77,
    "start_time": "2022-01-17T18:28:22.460Z"
   },
   {
    "duration": 297,
    "start_time": "2022-01-17T18:28:22.539Z"
   },
   {
    "duration": 300,
    "start_time": "2022-01-17T18:28:22.838Z"
   },
   {
    "duration": 290,
    "start_time": "2022-01-17T18:28:23.139Z"
   },
   {
    "duration": 54,
    "start_time": "2022-01-17T18:28:23.430Z"
   },
   {
    "duration": 64,
    "start_time": "2022-01-17T18:28:23.486Z"
   },
   {
    "duration": 37,
    "start_time": "2022-01-17T18:28:23.552Z"
   },
   {
    "duration": 39,
    "start_time": "2022-01-17T18:28:23.591Z"
   },
   {
    "duration": 5,
    "start_time": "2022-01-17T18:28:23.631Z"
   },
   {
    "duration": 4,
    "start_time": "2022-01-17T18:28:23.638Z"
   },
   {
    "duration": 23,
    "start_time": "2022-01-17T18:28:23.645Z"
   },
   {
    "duration": 46,
    "start_time": "2022-01-17T18:28:23.669Z"
   },
   {
    "duration": 195,
    "start_time": "2022-01-17T18:28:23.717Z"
   },
   {
    "duration": 20,
    "start_time": "2022-01-17T18:28:23.914Z"
   },
   {
    "duration": 1166,
    "start_time": "2022-01-17T18:28:23.935Z"
   },
   {
    "duration": 24,
    "start_time": "2022-01-17T18:28:25.102Z"
   },
   {
    "duration": 620,
    "start_time": "2022-01-17T18:28:25.127Z"
   },
   {
    "duration": 20,
    "start_time": "2022-01-17T18:28:25.749Z"
   },
   {
    "duration": 545,
    "start_time": "2022-01-17T18:28:25.771Z"
   },
   {
    "duration": 4,
    "start_time": "2022-01-17T18:28:26.318Z"
   },
   {
    "duration": 6,
    "start_time": "2022-01-17T18:28:26.323Z"
   },
   {
    "duration": 1663,
    "start_time": "2022-01-17T18:28:26.330Z"
   },
   {
    "duration": 5,
    "start_time": "2022-01-17T18:28:27.995Z"
   },
   {
    "duration": 16,
    "start_time": "2022-01-17T18:28:28.002Z"
   },
   {
    "duration": 22,
    "start_time": "2022-01-17T18:28:28.020Z"
   },
   {
    "duration": 10,
    "start_time": "2022-01-17T18:28:28.043Z"
   },
   {
    "duration": 1706,
    "start_time": "2022-01-17T18:33:55.870Z"
   },
   {
    "duration": 801,
    "start_time": "2022-01-17T18:37:30.217Z"
   },
   {
    "duration": 1735,
    "start_time": "2022-01-17T18:37:44.205Z"
   },
   {
    "duration": 464,
    "start_time": "2022-01-17T18:38:07.980Z"
   },
   {
    "duration": 468,
    "start_time": "2022-01-17T18:38:15.676Z"
   },
   {
    "duration": 72,
    "start_time": "2022-01-17T18:45:20.682Z"
   },
   {
    "duration": 576,
    "start_time": "2022-01-17T18:45:23.701Z"
   },
   {
    "duration": 472,
    "start_time": "2022-01-17T18:45:44.629Z"
   },
   {
    "duration": 636,
    "start_time": "2022-01-17T18:45:56.262Z"
   },
   {
    "duration": 592,
    "start_time": "2022-01-17T18:46:29.820Z"
   },
   {
    "duration": 316,
    "start_time": "2022-01-17T18:46:36.029Z"
   },
   {
    "duration": 313,
    "start_time": "2022-01-17T18:48:33.840Z"
   },
   {
    "duration": 579,
    "start_time": "2022-01-17T18:48:53.418Z"
   },
   {
    "duration": 408,
    "start_time": "2022-01-17T18:49:38.429Z"
   },
   {
    "duration": 318,
    "start_time": "2022-01-17T18:49:42.257Z"
   },
   {
    "duration": 334,
    "start_time": "2022-01-17T18:50:05.239Z"
   },
   {
    "duration": 353,
    "start_time": "2022-01-17T18:50:11.497Z"
   },
   {
    "duration": 345,
    "start_time": "2022-01-17T18:51:18.397Z"
   },
   {
    "duration": 411,
    "start_time": "2022-01-17T18:53:26.069Z"
   },
   {
    "duration": 502,
    "start_time": "2022-01-17T18:53:57.321Z"
   },
   {
    "duration": 461,
    "start_time": "2022-01-17T18:55:50.619Z"
   },
   {
    "duration": 371,
    "start_time": "2022-01-17T18:57:06.097Z"
   },
   {
    "duration": 368,
    "start_time": "2022-01-17T18:58:05.533Z"
   },
   {
    "duration": 434,
    "start_time": "2022-01-17T18:58:18.287Z"
   },
   {
    "duration": 496,
    "start_time": "2022-01-17T18:58:23.310Z"
   },
   {
    "duration": 596,
    "start_time": "2022-01-17T18:58:38.154Z"
   },
   {
    "duration": 621,
    "start_time": "2022-01-17T18:58:53.004Z"
   },
   {
    "duration": 512,
    "start_time": "2022-01-17T18:59:02.164Z"
   },
   {
    "duration": 410,
    "start_time": "2022-01-17T18:59:12.085Z"
   },
   {
    "duration": 497,
    "start_time": "2022-01-17T18:59:15.703Z"
   },
   {
    "duration": 196,
    "start_time": "2022-01-17T18:59:20.188Z"
   },
   {
    "duration": 73,
    "start_time": "2022-01-17T18:59:26.487Z"
   },
   {
    "duration": 501,
    "start_time": "2022-01-17T18:59:29.455Z"
   },
   {
    "duration": 1043,
    "start_time": "2022-01-17T19:03:30.155Z"
   },
   {
    "duration": 192,
    "start_time": "2022-01-17T19:03:40.311Z"
   },
   {
    "duration": 283,
    "start_time": "2022-01-17T19:03:52.831Z"
   },
   {
    "duration": 246,
    "start_time": "2022-01-17T19:04:18.083Z"
   },
   {
    "duration": 311,
    "start_time": "2022-01-17T19:04:24.320Z"
   },
   {
    "duration": 499,
    "start_time": "2022-01-17T19:04:39.380Z"
   },
   {
    "duration": 338,
    "start_time": "2022-01-17T19:04:57.794Z"
   },
   {
    "duration": 345,
    "start_time": "2022-01-17T19:05:03.826Z"
   },
   {
    "duration": 389,
    "start_time": "2022-01-17T19:05:10.264Z"
   },
   {
    "duration": 294,
    "start_time": "2022-01-17T19:05:20.628Z"
   },
   {
    "duration": 300,
    "start_time": "2022-01-17T19:05:36.326Z"
   },
   {
    "duration": 303,
    "start_time": "2022-01-17T19:05:50.742Z"
   },
   {
    "duration": 354,
    "start_time": "2022-01-17T19:05:54.380Z"
   },
   {
    "duration": 407,
    "start_time": "2022-01-17T19:06:29.587Z"
   },
   {
    "duration": 338,
    "start_time": "2022-01-17T19:06:48.803Z"
   },
   {
    "duration": 524,
    "start_time": "2022-01-17T19:07:01.688Z"
   },
   {
    "duration": 455,
    "start_time": "2022-01-17T19:07:14.386Z"
   },
   {
    "duration": 333,
    "start_time": "2022-01-17T19:07:23.057Z"
   },
   {
    "duration": 484,
    "start_time": "2022-01-17T19:07:32.368Z"
   },
   {
    "duration": 636,
    "start_time": "2022-01-17T19:07:42.091Z"
   },
   {
    "duration": 632,
    "start_time": "2022-01-17T19:08:32.063Z"
   },
   {
    "duration": 355,
    "start_time": "2022-01-17T19:08:36.931Z"
   },
   {
    "duration": 702,
    "start_time": "2022-01-17T19:09:47.774Z"
   },
   {
    "duration": 827,
    "start_time": "2022-01-17T19:10:24.611Z"
   },
   {
    "duration": 1052,
    "start_time": "2022-01-17T19:11:47.248Z"
   },
   {
    "duration": 762,
    "start_time": "2022-01-17T19:12:47.611Z"
   },
   {
    "duration": 840,
    "start_time": "2022-01-17T19:13:02.340Z"
   },
   {
    "duration": 882,
    "start_time": "2022-01-17T19:13:19.564Z"
   },
   {
    "duration": 872,
    "start_time": "2022-01-17T19:13:29.286Z"
   },
   {
    "duration": 1112,
    "start_time": "2022-01-17T19:13:37.015Z"
   },
   {
    "duration": 1344,
    "start_time": "2022-01-17T19:13:56.950Z"
   },
   {
    "duration": 1152,
    "start_time": "2022-01-17T19:14:00.423Z"
   },
   {
    "duration": 1399,
    "start_time": "2022-01-17T19:16:16.460Z"
   },
   {
    "duration": 1541,
    "start_time": "2022-01-17T19:16:57.690Z"
   },
   {
    "duration": 975,
    "start_time": "2022-01-17T19:19:51.703Z"
   },
   {
    "duration": 356,
    "start_time": "2022-01-17T19:19:52.679Z"
   },
   {
    "duration": 19,
    "start_time": "2022-01-17T19:19:53.037Z"
   },
   {
    "duration": 10,
    "start_time": "2022-01-17T19:19:53.057Z"
   },
   {
    "duration": 14,
    "start_time": "2022-01-17T19:19:53.069Z"
   },
   {
    "duration": 7,
    "start_time": "2022-01-17T19:19:53.084Z"
   },
   {
    "duration": 20,
    "start_time": "2022-01-17T19:19:53.092Z"
   },
   {
    "duration": 7,
    "start_time": "2022-01-17T19:19:53.113Z"
   },
   {
    "duration": 9,
    "start_time": "2022-01-17T19:19:53.122Z"
   },
   {
    "duration": 8,
    "start_time": "2022-01-17T19:19:53.132Z"
   },
   {
    "duration": 8,
    "start_time": "2022-01-17T19:19:53.141Z"
   },
   {
    "duration": 10,
    "start_time": "2022-01-17T19:19:53.150Z"
   },
   {
    "duration": 179,
    "start_time": "2022-01-17T19:19:53.161Z"
   },
   {
    "duration": 818,
    "start_time": "2022-01-17T19:19:53.341Z"
   },
   {
    "duration": 597,
    "start_time": "2022-01-17T19:19:54.161Z"
   },
   {
    "duration": 482,
    "start_time": "2022-01-17T19:19:54.759Z"
   },
   {
    "duration": 87,
    "start_time": "2022-01-17T19:19:55.242Z"
   },
   {
    "duration": 339,
    "start_time": "2022-01-17T19:19:55.330Z"
   },
   {
    "duration": 349,
    "start_time": "2022-01-17T19:19:55.670Z"
   },
   {
    "duration": 336,
    "start_time": "2022-01-17T19:19:56.021Z"
   },
   {
    "duration": 61,
    "start_time": "2022-01-17T19:19:56.358Z"
   },
   {
    "duration": 40,
    "start_time": "2022-01-17T19:19:56.420Z"
   },
   {
    "duration": 54,
    "start_time": "2022-01-17T19:19:56.462Z"
   },
   {
    "duration": 25,
    "start_time": "2022-01-17T19:19:56.518Z"
   },
   {
    "duration": 6,
    "start_time": "2022-01-17T19:19:56.545Z"
   },
   {
    "duration": 5,
    "start_time": "2022-01-17T19:19:56.552Z"
   },
   {
    "duration": 26,
    "start_time": "2022-01-17T19:19:56.560Z"
   },
   {
    "duration": 24,
    "start_time": "2022-01-17T19:19:56.613Z"
   },
   {
    "duration": 226,
    "start_time": "2022-01-17T19:19:56.638Z"
   },
   {
    "duration": 22,
    "start_time": "2022-01-17T19:19:56.865Z"
   },
   {
    "duration": 1317,
    "start_time": "2022-01-17T19:19:56.889Z"
   },
   {
    "duration": 22,
    "start_time": "2022-01-17T19:19:58.208Z"
   },
   {
    "duration": 707,
    "start_time": "2022-01-17T19:19:58.232Z"
   },
   {
    "duration": 21,
    "start_time": "2022-01-17T19:19:58.941Z"
   },
   {
    "duration": 615,
    "start_time": "2022-01-17T19:19:58.964Z"
   },
   {
    "duration": 5,
    "start_time": "2022-01-17T19:19:59.580Z"
   },
   {
    "duration": 5,
    "start_time": "2022-01-17T19:19:59.587Z"
   },
   {
    "duration": 1618,
    "start_time": "2022-01-17T19:19:59.594Z"
   },
   {
    "duration": 1078,
    "start_time": "2022-01-17T19:20:01.214Z"
   },
   {
    "duration": 6,
    "start_time": "2022-01-17T19:20:02.293Z"
   },
   {
    "duration": 7,
    "start_time": "2022-01-17T19:20:02.312Z"
   },
   {
    "duration": 21,
    "start_time": "2022-01-17T19:20:02.321Z"
   },
   {
    "duration": 10,
    "start_time": "2022-01-17T19:20:02.344Z"
   }
  ],
  "kernelspec": {
   "display_name": "Python 3 (ipykernel)",
   "language": "python",
   "name": "python3"
  },
  "language_info": {
   "codemirror_mode": {
    "name": "ipython",
    "version": 3
   },
   "file_extension": ".py",
   "mimetype": "text/x-python",
   "name": "python",
   "nbconvert_exporter": "python",
   "pygments_lexer": "ipython3",
   "version": "3.9.13"
  },
  "toc": {
   "base_numbering": 1,
   "nav_menu": {},
   "number_sections": false,
   "sideBar": true,
   "skip_h1_title": false,
   "title_cell": "Table of Contents",
   "title_sidebar": "Contents",
   "toc_cell": false,
   "toc_position": {},
   "toc_section_display": true,
   "toc_window_display": true
  }
 },
 "nbformat": 4,
 "nbformat_minor": 4
}
