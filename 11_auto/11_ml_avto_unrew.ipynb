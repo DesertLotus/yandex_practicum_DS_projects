{
 "cells": [
  {
   "cell_type": "markdown",
   "metadata": {},
   "source": [
    "# Определение стоимости автомобилей"
   ]
  },
  {
   "cell_type": "markdown",
   "metadata": {},
   "source": [
    "Сервис по продаже автомобилей с пробегом «Не бит, не крашен» разрабатывает приложение для привлечения новых клиентов. В нём можно быстро узнать рыночную стоимость своего автомобиля. В вашем распоряжении исторические данные: технические характеристики, комплектации и цены автомобилей. Вам нужно построить модель для определения стоимости. \n",
    "\n",
    "Заказчику важны:\n",
    "\n",
    "- качество предсказания;\n",
    "- скорость предсказания;\n",
    "- время обучения."
   ]
  },
  {
   "cell_type": "markdown",
   "metadata": {},
   "source": [
    "Признаки:\n",
    "\n",
    "* DateCrawled — дата скачивания анкеты из базы\n",
    "* VehicleType — тип автомобильного кузова\n",
    "* RegistrationYear — год регистрации автомобиля\n",
    "* Gearbox — тип коробки передач\n",
    "* Power — мощность (л. с.)\n",
    "* Model — модель автомобиля\n",
    "* Kilometer — пробег (км)\n",
    "* RegistrationMonth — месяц регистрации автомобиля\n",
    "* FuelType — тип топлива\n",
    "* Brand — марка автомобиля\n",
    "* NotRepaired — была машина в ремонте или нет\n",
    "* DateCreated — дата создания анкеты\n",
    "* NumberOfPictures — количество фотографий автомобиля\n",
    "* PostalCode — почтовый индекс владельца анкеты (пользователя)\n",
    "* LastSeen — дата последней активности пользователя\n",
    " \n",
    "Целевой признак:\n",
    "\n",
    "* Price — цена (евро)"
   ]
  },
  {
   "cell_type": "markdown",
   "metadata": {},
   "source": [
    "## Подготовка данных"
   ]
  },
  {
   "cell_type": "code",
   "execution_count": 1,
   "metadata": {},
   "outputs": [],
   "source": [
    "# Загрузим все необходимые библиотеки\n",
    "\n",
    "import pandas as pd\n",
    "import matplotlib.pyplot as plt \n",
    "plt.style.use('seaborn-pastel')\n",
    "import seaborn as sns \n",
    "import numpy as np \n",
    "\n",
    "from sklearn.model_selection import train_test_split\n",
    "from sklearn.ensemble import RandomForestRegressor\n",
    "from sklearn.tree import DecisionTreeRegressor\n",
    "from sklearn.linear_model import LinearRegression\n",
    "from sklearn.metrics import mean_squared_error\n",
    "from sklearn.preprocessing import StandardScaler\n",
    "from sklearn.preprocessing import MinMaxScaler\n",
    "from sklearn.preprocessing import OrdinalEncoder\n",
    "from sklearn.model_selection import RandomizedSearchCV\n",
    "import lightgbm as lgb\n",
    "import xgboost as xgb\n",
    "from catboost import CatBoostRegressor\n",
    "\n",
    "from category_encoders import TargetEncoder\n",
    "\n",
    "from time import time\n",
    "from tqdm import tqdm\n",
    "\n",
    "pd.options.display.max_columns = None # полностью отображаем столбцы"
   ]
  },
  {
   "cell_type": "code",
   "execution_count": 2,
   "metadata": {
    "scrolled": false
   },
   "outputs": [
    {
     "data": {
      "text/html": [
       "<div>\n",
       "<style scoped>\n",
       "    .dataframe tbody tr th:only-of-type {\n",
       "        vertical-align: middle;\n",
       "    }\n",
       "\n",
       "    .dataframe tbody tr th {\n",
       "        vertical-align: top;\n",
       "    }\n",
       "\n",
       "    .dataframe thead th {\n",
       "        text-align: right;\n",
       "    }\n",
       "</style>\n",
       "<table border=\"1\" class=\"dataframe\">\n",
       "  <thead>\n",
       "    <tr style=\"text-align: right;\">\n",
       "      <th></th>\n",
       "      <th>DateCrawled</th>\n",
       "      <th>Price</th>\n",
       "      <th>VehicleType</th>\n",
       "      <th>RegistrationYear</th>\n",
       "      <th>Gearbox</th>\n",
       "      <th>Power</th>\n",
       "      <th>Model</th>\n",
       "      <th>Kilometer</th>\n",
       "      <th>RegistrationMonth</th>\n",
       "      <th>FuelType</th>\n",
       "      <th>Brand</th>\n",
       "      <th>NotRepaired</th>\n",
       "      <th>DateCreated</th>\n",
       "      <th>NumberOfPictures</th>\n",
       "      <th>PostalCode</th>\n",
       "      <th>LastSeen</th>\n",
       "    </tr>\n",
       "  </thead>\n",
       "  <tbody>\n",
       "    <tr>\n",
       "      <th>0</th>\n",
       "      <td>2016-03-24 11:52:17</td>\n",
       "      <td>480</td>\n",
       "      <td>NaN</td>\n",
       "      <td>1993</td>\n",
       "      <td>manual</td>\n",
       "      <td>0</td>\n",
       "      <td>golf</td>\n",
       "      <td>150000</td>\n",
       "      <td>0</td>\n",
       "      <td>petrol</td>\n",
       "      <td>volkswagen</td>\n",
       "      <td>NaN</td>\n",
       "      <td>2016-03-24 00:00:00</td>\n",
       "      <td>0</td>\n",
       "      <td>70435</td>\n",
       "      <td>2016-04-07 03:16:57</td>\n",
       "    </tr>\n",
       "    <tr>\n",
       "      <th>1</th>\n",
       "      <td>2016-03-24 10:58:45</td>\n",
       "      <td>18300</td>\n",
       "      <td>coupe</td>\n",
       "      <td>2011</td>\n",
       "      <td>manual</td>\n",
       "      <td>190</td>\n",
       "      <td>NaN</td>\n",
       "      <td>125000</td>\n",
       "      <td>5</td>\n",
       "      <td>gasoline</td>\n",
       "      <td>audi</td>\n",
       "      <td>yes</td>\n",
       "      <td>2016-03-24 00:00:00</td>\n",
       "      <td>0</td>\n",
       "      <td>66954</td>\n",
       "      <td>2016-04-07 01:46:50</td>\n",
       "    </tr>\n",
       "    <tr>\n",
       "      <th>2</th>\n",
       "      <td>2016-03-14 12:52:21</td>\n",
       "      <td>9800</td>\n",
       "      <td>suv</td>\n",
       "      <td>2004</td>\n",
       "      <td>auto</td>\n",
       "      <td>163</td>\n",
       "      <td>grand</td>\n",
       "      <td>125000</td>\n",
       "      <td>8</td>\n",
       "      <td>gasoline</td>\n",
       "      <td>jeep</td>\n",
       "      <td>NaN</td>\n",
       "      <td>2016-03-14 00:00:00</td>\n",
       "      <td>0</td>\n",
       "      <td>90480</td>\n",
       "      <td>2016-04-05 12:47:46</td>\n",
       "    </tr>\n",
       "    <tr>\n",
       "      <th>3</th>\n",
       "      <td>2016-03-17 16:54:04</td>\n",
       "      <td>1500</td>\n",
       "      <td>small</td>\n",
       "      <td>2001</td>\n",
       "      <td>manual</td>\n",
       "      <td>75</td>\n",
       "      <td>golf</td>\n",
       "      <td>150000</td>\n",
       "      <td>6</td>\n",
       "      <td>petrol</td>\n",
       "      <td>volkswagen</td>\n",
       "      <td>no</td>\n",
       "      <td>2016-03-17 00:00:00</td>\n",
       "      <td>0</td>\n",
       "      <td>91074</td>\n",
       "      <td>2016-03-17 17:40:17</td>\n",
       "    </tr>\n",
       "    <tr>\n",
       "      <th>4</th>\n",
       "      <td>2016-03-31 17:25:20</td>\n",
       "      <td>3600</td>\n",
       "      <td>small</td>\n",
       "      <td>2008</td>\n",
       "      <td>manual</td>\n",
       "      <td>69</td>\n",
       "      <td>fabia</td>\n",
       "      <td>90000</td>\n",
       "      <td>7</td>\n",
       "      <td>gasoline</td>\n",
       "      <td>skoda</td>\n",
       "      <td>no</td>\n",
       "      <td>2016-03-31 00:00:00</td>\n",
       "      <td>0</td>\n",
       "      <td>60437</td>\n",
       "      <td>2016-04-06 10:17:21</td>\n",
       "    </tr>\n",
       "  </tbody>\n",
       "</table>\n",
       "</div>"
      ],
      "text/plain": [
       "           DateCrawled  Price VehicleType  RegistrationYear Gearbox  Power  \\\n",
       "0  2016-03-24 11:52:17    480         NaN              1993  manual      0   \n",
       "1  2016-03-24 10:58:45  18300       coupe              2011  manual    190   \n",
       "2  2016-03-14 12:52:21   9800         suv              2004    auto    163   \n",
       "3  2016-03-17 16:54:04   1500       small              2001  manual     75   \n",
       "4  2016-03-31 17:25:20   3600       small              2008  manual     69   \n",
       "\n",
       "   Model  Kilometer  RegistrationMonth  FuelType       Brand NotRepaired  \\\n",
       "0   golf     150000                  0    petrol  volkswagen         NaN   \n",
       "1    NaN     125000                  5  gasoline        audi         yes   \n",
       "2  grand     125000                  8  gasoline        jeep         NaN   \n",
       "3   golf     150000                  6    petrol  volkswagen          no   \n",
       "4  fabia      90000                  7  gasoline       skoda          no   \n",
       "\n",
       "           DateCreated  NumberOfPictures  PostalCode             LastSeen  \n",
       "0  2016-03-24 00:00:00                 0       70435  2016-04-07 03:16:57  \n",
       "1  2016-03-24 00:00:00                 0       66954  2016-04-07 01:46:50  \n",
       "2  2016-03-14 00:00:00                 0       90480  2016-04-05 12:47:46  \n",
       "3  2016-03-17 00:00:00                 0       91074  2016-03-17 17:40:17  \n",
       "4  2016-03-31 00:00:00                 0       60437  2016-04-06 10:17:21  "
      ]
     },
     "execution_count": 2,
     "metadata": {},
     "output_type": "execute_result"
    }
   ],
   "source": [
    "try:\n",
    "    df = pd.read_csv('/datasets/autos.csv')\n",
    "except:\n",
    "    df = pd.read_csv('D:/DS/datasets/autos.csv')\n",
    "    \n",
    "df.head()"
   ]
  },
  {
   "cell_type": "code",
   "execution_count": 3,
   "metadata": {},
   "outputs": [
    {
     "name": "stdout",
     "output_type": "stream",
     "text": [
      "<class 'pandas.core.frame.DataFrame'>\n",
      "RangeIndex: 354369 entries, 0 to 354368\n",
      "Data columns (total 16 columns):\n",
      " #   Column             Non-Null Count   Dtype \n",
      "---  ------             --------------   ----- \n",
      " 0   DateCrawled        354369 non-null  object\n",
      " 1   Price              354369 non-null  int64 \n",
      " 2   VehicleType        316879 non-null  object\n",
      " 3   RegistrationYear   354369 non-null  int64 \n",
      " 4   Gearbox            334536 non-null  object\n",
      " 5   Power              354369 non-null  int64 \n",
      " 6   Model              334664 non-null  object\n",
      " 7   Kilometer          354369 non-null  int64 \n",
      " 8   RegistrationMonth  354369 non-null  int64 \n",
      " 9   FuelType           321474 non-null  object\n",
      " 10  Brand              354369 non-null  object\n",
      " 11  NotRepaired        283215 non-null  object\n",
      " 12  DateCreated        354369 non-null  object\n",
      " 13  NumberOfPictures   354369 non-null  int64 \n",
      " 14  PostalCode         354369 non-null  int64 \n",
      " 15  LastSeen           354369 non-null  object\n",
      "dtypes: int64(7), object(9)\n",
      "memory usage: 43.3+ MB\n"
     ]
    }
   ],
   "source": [
    "df.info()"
   ]
  },
  {
   "cell_type": "markdown",
   "metadata": {},
   "source": [
    "Признаки:\n",
    "\n",
    "* DateCrawled — дата скачивания анкеты из базы\n",
    "* VehicleType — тип автомобильного кузова\n",
    "* RegistrationYear — год регистрации автомобиля\n",
    "* Gearbox — тип коробки передач\n",
    "* Power — мощность (л. с.)\n",
    "* Model — модель автомобиля\n",
    "* Kilometer — пробег (км)\n",
    "* RegistrationMonth — месяц регистрации автомобиля\n",
    "* FuelType — тип топлива\n",
    "* Brand — марка автомобиля\n",
    "* NotRepaired — была машина в ремонте или нет\n",
    "* DateCreated — дата создания анкеты\n",
    "* NumberOfPictures — количество фотографий автомобиля\n",
    "* PostalCode — почтовый индекс владельца анкеты (пользователя)\n",
    "* LastSeen — дата последней активности пользователя\n",
    " \n",
    "Целевой признак:\n",
    "\n",
    "* Price — цена (евро)"
   ]
  },
  {
   "cell_type": "markdown",
   "metadata": {},
   "source": [
    "Удалим дубликаты:"
   ]
  },
  {
   "cell_type": "code",
   "execution_count": 4,
   "metadata": {},
   "outputs": [
    {
     "name": "stdout",
     "output_type": "stream",
     "text": [
      "4\n"
     ]
    }
   ],
   "source": [
    "print(df.duplicated().sum())\n",
    "\n",
    "df = df.drop_duplicates().reset_index(drop=True)"
   ]
  },
  {
   "cell_type": "code",
   "execution_count": 5,
   "metadata": {},
   "outputs": [],
   "source": [
    "for col in ['DateCrawled', 'DateCreated', 'LastSeen']:\n",
    "    df[col] = pd.to_datetime(df[col], format='%Y-%m-%d %H:%M:%S')"
   ]
  },
  {
   "cell_type": "markdown",
   "metadata": {},
   "source": [
    "Мы изменили тип колонок, связанные со временем, но колонки `RegistrationMonth` и `RegistrationYear` мы отнесем к численным признакам, которые могут помочь модели обучения."
   ]
  },
  {
   "cell_type": "markdown",
   "metadata": {},
   "source": [
    "Создадим списки колонок, чтоьы рассмотреть все характеристики столбцов:"
   ]
  },
  {
   "cell_type": "code",
   "execution_count": 6,
   "metadata": {},
   "outputs": [
    {
     "name": "stdout",
     "output_type": "stream",
     "text": [
      "['Price', 'RegistrationYear', 'Power', 'Kilometer', 'RegistrationMonth', 'NumberOfPictures', 'PostalCode'] \n",
      " ['DateCrawled', 'DateCreated', 'LastSeen'] \n",
      " ['VehicleType', 'Gearbox', 'Model', 'FuelType', 'Brand', 'NotRepaired']\n"
     ]
    }
   ],
   "source": [
    "num_cols = []\n",
    "date_cols = []\n",
    "cat_cols = []\n",
    "\n",
    "for i in range(len(df.columns)):\n",
    "    if df.dtypes[i] == 'int64':\n",
    "        num_cols.append(df.columns[i])\n",
    "    elif df.dtypes[i] == 'datetime64[ns]':\n",
    "        date_cols.append(df.columns[i])\n",
    "    else:\n",
    "        cat_cols.append(df.columns[i])\n",
    "        \n",
    "print(num_cols, '\\n',date_cols, '\\n', cat_cols)"
   ]
  },
  {
   "cell_type": "code",
   "execution_count": 7,
   "metadata": {
    "scrolled": false
   },
   "outputs": [
    {
     "data": {
      "image/png": "[encoded data removed]",
      "text/plain": [
       "<Figure size 1080x360 with 1 Axes>"
      ]
     },
     "metadata": {
      "needs_background": "light"
     },
     "output_type": "display_data"
    },
    {
     "data": {
      "image/png": "[encoded data removed]",
      "text/plain": [
       "<Figure size 1080x360 with 1 Axes>"
      ]
     },
     "metadata": {
      "needs_background": "light"
     },
     "output_type": "display_data"
    },
    {
     "data": {
      "image/png": "[encoded data removed]",
      "text/plain": [
       "<Figure size 1080x360 with 1 Axes>"
      ]
     },
     "metadata": {
      "needs_background": "light"
     },
     "output_type": "display_data"
    },
    {
     "data": {
      "image/png": "[encoded data removed]",
      "text/plain": [
       "<Figure size 1080x360 with 1 Axes>"
      ]
     },
     "metadata": {
      "needs_background": "light"
     },
     "output_type": "display_data"
    },
    {
     "data": {
      "image/png": "[encoded data removed]",
      "text/plain": [
       "<Figure size 1080x360 with 1 Axes>"
      ]
     },
     "metadata": {
      "needs_background": "light"
     },
     "output_type": "display_data"
    },
    {
     "data": {
      "image/png": "[encoded data removed]",
      "text/plain": [
       "<Figure size 1080x360 with 1 Axes>"
      ]
     },
     "metadata": {
      "needs_background": "light"
     },
     "output_type": "display_data"
    },
    {
     "data": {
      "image/png": "[encoded data removed]",
      "text/plain": [
       "<Figure size 1080x360 with 1 Axes>"
      ]
     },
     "metadata": {
      "needs_background": "light"
     },
     "output_type": "display_data"
    }
   ],
   "source": [
    "# Рассмотрим гистограммы столбцов\n",
    "for column in num_cols:\n",
    "    plt.figure(figsize=(15,5))\n",
    "    df[column].hist(bins=75, edgecolor='k')\n",
    "    plt.title(f'Распределение столбца {column}')\n",
    "    plt.show()"
   ]
  },
  {
   "cell_type": "code",
   "execution_count": 8,
   "metadata": {},
   "outputs": [
    {
     "data": {
      "image/png": "[encoded data removed]",
      "text/plain": [
       "<Figure size 1080x216 with 1 Axes>"
      ]
     },
     "metadata": {
      "needs_background": "light"
     },
     "output_type": "display_data"
    },
    {
     "data": {
      "image/png": "[encoded data removed]",
      "text/plain": [
       "<Figure size 1080x216 with 1 Axes>"
      ]
     },
     "metadata": {
      "needs_background": "light"
     },
     "output_type": "display_data"
    },
    {
     "data": {
      "image/png": "[encoded data removed]",
      "text/plain": [
       "<Figure size 1080x216 with 1 Axes>"
      ]
     },
     "metadata": {
      "needs_background": "light"
     },
     "output_type": "display_data"
    },
    {
     "data": {
      "image/png": "[encoded data removed]",
      "text/plain": [
       "<Figure size 1080x216 with 1 Axes>"
      ]
     },
     "metadata": {
      "needs_background": "light"
     },
     "output_type": "display_data"
    },
    {
     "data": {
      "image/png": "[encoded data removed]",
      "text/plain": [
       "<Figure size 1080x216 with 1 Axes>"
      ]
     },
     "metadata": {
      "needs_background": "light"
     },
     "output_type": "display_data"
    },
    {
     "data": {
      "image/png": "[encoded data removed]",
      "text/plain": [
       "<Figure size 1080x216 with 1 Axes>"
      ]
     },
     "metadata": {
      "needs_background": "light"
     },
     "output_type": "display_data"
    },
    {
     "data": {
      "image/png": "[encoded data removed]",
      "text/plain": [
       "<Figure size 1080x216 with 1 Axes>"
      ]
     },
     "metadata": {
      "needs_background": "light"
     },
     "output_type": "display_data"
    }
   ],
   "source": [
    "# рассмотрим выбросы по столбцам\n",
    "for col in num_cols:\n",
    "    plt.figure(figsize=(15,3))\n",
    "    df.boxplot(col, vert=False)\n",
    "    plt.title(f'Ящик с усами по столбцу {col}', fontsize='x-large')\n",
    "    plt.show()"
   ]
  },
  {
   "cell_type": "code",
   "execution_count": 9,
   "metadata": {
    "scrolled": false
   },
   "outputs": [
    {
     "data": {
      "image/png": "[encoded data removed]",
      "text/plain": [
       "<Figure size 1080x360 with 1 Axes>"
      ]
     },
     "metadata": {
      "needs_background": "light"
     },
     "output_type": "display_data"
    },
    {
     "data": {
      "image/png": "[encoded data removed]",
      "text/plain": [
       "<Figure size 1080x360 with 1 Axes>"
      ]
     },
     "metadata": {
      "needs_background": "light"
     },
     "output_type": "display_data"
    },
    {
     "data": {
      "image/png": "[encoded data removed]",
      "text/plain": [
       "<Figure size 1080x360 with 1 Axes>"
      ]
     },
     "metadata": {
      "needs_background": "light"
     },
     "output_type": "display_data"
    },
    {
     "data": {
      "image/png": "[encoded data removed]",
      "text/plain": [
       "<Figure size 1080x360 with 1 Axes>"
      ]
     },
     "metadata": {
      "needs_background": "light"
     },
     "output_type": "display_data"
    },
    {
     "data": {
      "image/png": "[encoded data removed]",
      "text/plain": [
       "<Figure size 1080x360 with 1 Axes>"
      ]
     },
     "metadata": {
      "needs_background": "light"
     },
     "output_type": "display_data"
    },
    {
     "data": {
      "image/png": "[encoded data removed]",
      "text/plain": [
       "<Figure size 1080x360 with 1 Axes>"
      ]
     },
     "metadata": {
      "needs_background": "light"
     },
     "output_type": "display_data"
    }
   ],
   "source": [
    "# рассмотрим категориальные признаки\n",
    "for column in cat_cols:\n",
    "    plt.figure(figsize=(15,5))\n",
    "    df[column].value_counts().plot.bar(color='purple', rot=90)\n",
    "    plt.title(f'Распределение столбца {column}')\n",
    "    plt.show()"
   ]
  },
  {
   "cell_type": "code",
   "execution_count": 10,
   "metadata": {},
   "outputs": [
    {
     "data": {
      "image/png": "[encoded data removed]",
      "text/plain": [
       "<Figure size 1080x360 with 1 Axes>"
      ]
     },
     "metadata": {
      "needs_background": "light"
     },
     "output_type": "display_data"
    }
   ],
   "source": [
    "# рассмотрим пропуски в столбцах\n",
    "\n",
    "plt.figure(figsize=(15,5))\n",
    "ax = df.isna().sum().plot.bar(color='red', rot=45)\n",
    "for p in ax.patches:\n",
    "    ax.annotate(str(p.get_height()), (p.get_x() * 0.99, p.get_height() * 1.005))\n",
    "plt.title('Количество пропусков в столбцах')\n",
    "plt.show()"
   ]
  },
  {
   "cell_type": "markdown",
   "metadata": {},
   "source": [
    "___"
   ]
  },
  {
   "cell_type": "markdown",
   "metadata": {},
   "source": [
    "**Выводы:**\n",
    "\n",
    "* В некоторых столбцах присутствуют выбросы, причем очень странного характера. Скорее всего это артефакты\n",
    "* Есть пропуски значений в категориальных столбцах. В численных нет.\n",
    "* Столбец с количеством фотографии - не содержит ничего. Все значения 0."
   ]
  },
  {
   "cell_type": "markdown",
   "metadata": {},
   "source": [
    "Чтобы не удалять много строк с пустыми значениями, заполним все категориальные значения значением `unknown`"
   ]
  },
  {
   "cell_type": "code",
   "execution_count": 11,
   "metadata": {},
   "outputs": [],
   "source": [
    "df = df.fillna('unknown')"
   ]
  },
  {
   "cell_type": "markdown",
   "metadata": {},
   "source": [
    "Рассмотрим артефакты:"
   ]
  },
  {
   "cell_type": "code",
   "execution_count": 12,
   "metadata": {},
   "outputs": [
    {
     "data": {
      "image/png": "[encoded data removed]",
      "text/plain": [
       "<Figure size 1080x504 with 1 Axes>"
      ]
     },
     "metadata": {
      "needs_background": "light"
     },
     "output_type": "display_data"
    }
   ],
   "source": [
    "plt.figure(figsize=(15,7))\n",
    "plt.ylim(0,200)\n",
    "df['RegistrationYear'].hist(bins=75, edgecolor='k')\n",
    "plt.title('Распределение анкет по годам', fontsize='x-large')\n",
    "plt.xlabel('Год публикации', fontsize='x-large')\n",
    "plt.show()"
   ]
  },
  {
   "cell_type": "code",
   "execution_count": 13,
   "metadata": {
    "scrolled": false
   },
   "outputs": [
    {
     "data": {
      "text/html": [
       "<div>\n",
       "<style scoped>\n",
       "    .dataframe tbody tr th:only-of-type {\n",
       "        vertical-align: middle;\n",
       "    }\n",
       "\n",
       "    .dataframe tbody tr th {\n",
       "        vertical-align: top;\n",
       "    }\n",
       "\n",
       "    .dataframe thead th {\n",
       "        text-align: right;\n",
       "    }\n",
       "</style>\n",
       "<table border=\"1\" class=\"dataframe\">\n",
       "  <thead>\n",
       "    <tr style=\"text-align: right;\">\n",
       "      <th></th>\n",
       "      <th>DateCrawled</th>\n",
       "      <th>Price</th>\n",
       "      <th>VehicleType</th>\n",
       "      <th>RegistrationYear</th>\n",
       "      <th>Gearbox</th>\n",
       "      <th>Power</th>\n",
       "      <th>Model</th>\n",
       "      <th>Kilometer</th>\n",
       "      <th>RegistrationMonth</th>\n",
       "      <th>FuelType</th>\n",
       "      <th>Brand</th>\n",
       "      <th>NotRepaired</th>\n",
       "      <th>DateCreated</th>\n",
       "      <th>NumberOfPictures</th>\n",
       "      <th>PostalCode</th>\n",
       "      <th>LastSeen</th>\n",
       "    </tr>\n",
       "  </thead>\n",
       "  <tbody>\n",
       "    <tr>\n",
       "      <th>15</th>\n",
       "      <td>2016-03-11 21:39:15</td>\n",
       "      <td>450</td>\n",
       "      <td>small</td>\n",
       "      <td>1910</td>\n",
       "      <td>unknown</td>\n",
       "      <td>0</td>\n",
       "      <td>ka</td>\n",
       "      <td>5000</td>\n",
       "      <td>0</td>\n",
       "      <td>petrol</td>\n",
       "      <td>ford</td>\n",
       "      <td>unknown</td>\n",
       "      <td>2016-03-11</td>\n",
       "      <td>0</td>\n",
       "      <td>24148</td>\n",
       "      <td>2016-03-19 08:46:47</td>\n",
       "    </tr>\n",
       "    <tr>\n",
       "      <th>622</th>\n",
       "      <td>2016-03-16 16:55:09</td>\n",
       "      <td>0</td>\n",
       "      <td>unknown</td>\n",
       "      <td>1111</td>\n",
       "      <td>unknown</td>\n",
       "      <td>0</td>\n",
       "      <td>unknown</td>\n",
       "      <td>5000</td>\n",
       "      <td>0</td>\n",
       "      <td>unknown</td>\n",
       "      <td>opel</td>\n",
       "      <td>unknown</td>\n",
       "      <td>2016-03-16</td>\n",
       "      <td>0</td>\n",
       "      <td>44628</td>\n",
       "      <td>2016-03-20 16:44:37</td>\n",
       "    </tr>\n",
       "    <tr>\n",
       "      <th>6629</th>\n",
       "      <td>2016-04-02 13:47:16</td>\n",
       "      <td>0</td>\n",
       "      <td>small</td>\n",
       "      <td>1910</td>\n",
       "      <td>unknown</td>\n",
       "      <td>0</td>\n",
       "      <td>unknown</td>\n",
       "      <td>5000</td>\n",
       "      <td>1</td>\n",
       "      <td>other</td>\n",
       "      <td>sonstige_autos</td>\n",
       "      <td>unknown</td>\n",
       "      <td>2016-04-02</td>\n",
       "      <td>0</td>\n",
       "      <td>93105</td>\n",
       "      <td>2016-04-04 11:16:30</td>\n",
       "    </tr>\n",
       "    <tr>\n",
       "      <th>6977</th>\n",
       "      <td>2016-03-24 08:37:22</td>\n",
       "      <td>135</td>\n",
       "      <td>unknown</td>\n",
       "      <td>1910</td>\n",
       "      <td>unknown</td>\n",
       "      <td>0</td>\n",
       "      <td>unknown</td>\n",
       "      <td>5000</td>\n",
       "      <td>0</td>\n",
       "      <td>unknown</td>\n",
       "      <td>opel</td>\n",
       "      <td>unknown</td>\n",
       "      <td>2016-03-24</td>\n",
       "      <td>0</td>\n",
       "      <td>19374</td>\n",
       "      <td>2016-04-06 20:46:08</td>\n",
       "    </tr>\n",
       "    <tr>\n",
       "      <th>10183</th>\n",
       "      <td>2016-03-27 13:59:08</td>\n",
       "      <td>1250</td>\n",
       "      <td>unknown</td>\n",
       "      <td>1910</td>\n",
       "      <td>unknown</td>\n",
       "      <td>0</td>\n",
       "      <td>other</td>\n",
       "      <td>5000</td>\n",
       "      <td>0</td>\n",
       "      <td>unknown</td>\n",
       "      <td>audi</td>\n",
       "      <td>unknown</td>\n",
       "      <td>2016-03-27</td>\n",
       "      <td>0</td>\n",
       "      <td>18445</td>\n",
       "      <td>2016-04-07 10:45:31</td>\n",
       "    </tr>\n",
       "  </tbody>\n",
       "</table>\n",
       "</div>"
      ],
      "text/plain": [
       "              DateCrawled  Price VehicleType  RegistrationYear  Gearbox  \\\n",
       "15    2016-03-11 21:39:15    450       small              1910  unknown   \n",
       "622   2016-03-16 16:55:09      0     unknown              1111  unknown   \n",
       "6629  2016-04-02 13:47:16      0       small              1910  unknown   \n",
       "6977  2016-03-24 08:37:22    135     unknown              1910  unknown   \n",
       "10183 2016-03-27 13:59:08   1250     unknown              1910  unknown   \n",
       "\n",
       "       Power    Model  Kilometer  RegistrationMonth FuelType           Brand  \\\n",
       "15         0       ka       5000                  0   petrol            ford   \n",
       "622        0  unknown       5000                  0  unknown            opel   \n",
       "6629       0  unknown       5000                  1    other  sonstige_autos   \n",
       "6977       0  unknown       5000                  0  unknown            opel   \n",
       "10183      0    other       5000                  0  unknown            audi   \n",
       "\n",
       "      NotRepaired DateCreated  NumberOfPictures  PostalCode  \\\n",
       "15        unknown  2016-03-11                 0       24148   \n",
       "622       unknown  2016-03-16                 0       44628   \n",
       "6629      unknown  2016-04-02                 0       93105   \n",
       "6977      unknown  2016-03-24                 0       19374   \n",
       "10183     unknown  2016-03-27                 0       18445   \n",
       "\n",
       "                 LastSeen  \n",
       "15    2016-03-19 08:46:47  \n",
       "622   2016-03-20 16:44:37  \n",
       "6629  2016-04-04 11:16:30  \n",
       "6977  2016-04-06 20:46:08  \n",
       "10183 2016-04-07 10:45:31  "
      ]
     },
     "metadata": {},
     "output_type": "display_data"
    },
    {
     "data": {
      "text/html": [
       "<div>\n",
       "<style scoped>\n",
       "    .dataframe tbody tr th:only-of-type {\n",
       "        vertical-align: middle;\n",
       "    }\n",
       "\n",
       "    .dataframe tbody tr th {\n",
       "        vertical-align: top;\n",
       "    }\n",
       "\n",
       "    .dataframe thead th {\n",
       "        text-align: right;\n",
       "    }\n",
       "</style>\n",
       "<table border=\"1\" class=\"dataframe\">\n",
       "  <thead>\n",
       "    <tr style=\"text-align: right;\">\n",
       "      <th></th>\n",
       "      <th>DateCrawled</th>\n",
       "      <th>Price</th>\n",
       "      <th>VehicleType</th>\n",
       "      <th>RegistrationYear</th>\n",
       "      <th>Gearbox</th>\n",
       "      <th>Power</th>\n",
       "      <th>Model</th>\n",
       "      <th>Kilometer</th>\n",
       "      <th>RegistrationMonth</th>\n",
       "      <th>FuelType</th>\n",
       "      <th>Brand</th>\n",
       "      <th>NotRepaired</th>\n",
       "      <th>DateCreated</th>\n",
       "      <th>NumberOfPictures</th>\n",
       "      <th>PostalCode</th>\n",
       "      <th>LastSeen</th>\n",
       "    </tr>\n",
       "  </thead>\n",
       "  <tbody>\n",
       "    <tr>\n",
       "      <th>341787</th>\n",
       "      <td>2016-03-28 17:37:30</td>\n",
       "      <td>1</td>\n",
       "      <td>unknown</td>\n",
       "      <td>3000</td>\n",
       "      <td>unknown</td>\n",
       "      <td>0</td>\n",
       "      <td>zafira</td>\n",
       "      <td>5000</td>\n",
       "      <td>0</td>\n",
       "      <td>unknown</td>\n",
       "      <td>opel</td>\n",
       "      <td>unknown</td>\n",
       "      <td>2016-03-28</td>\n",
       "      <td>0</td>\n",
       "      <td>26624</td>\n",
       "      <td>2016-04-02 22:17:49</td>\n",
       "    </tr>\n",
       "    <tr>\n",
       "      <th>343079</th>\n",
       "      <td>2016-04-01 08:51:08</td>\n",
       "      <td>1</td>\n",
       "      <td>other</td>\n",
       "      <td>1910</td>\n",
       "      <td>unknown</td>\n",
       "      <td>0</td>\n",
       "      <td>unknown</td>\n",
       "      <td>5000</td>\n",
       "      <td>1</td>\n",
       "      <td>other</td>\n",
       "      <td>volkswagen</td>\n",
       "      <td>unknown</td>\n",
       "      <td>2016-04-01</td>\n",
       "      <td>0</td>\n",
       "      <td>18273</td>\n",
       "      <td>2016-04-07 05:44:39</td>\n",
       "    </tr>\n",
       "    <tr>\n",
       "      <th>348826</th>\n",
       "      <td>2016-03-22 00:38:15</td>\n",
       "      <td>1</td>\n",
       "      <td>unknown</td>\n",
       "      <td>1000</td>\n",
       "      <td>unknown</td>\n",
       "      <td>1000</td>\n",
       "      <td>unknown</td>\n",
       "      <td>150000</td>\n",
       "      <td>0</td>\n",
       "      <td>unknown</td>\n",
       "      <td>sonstige_autos</td>\n",
       "      <td>unknown</td>\n",
       "      <td>2016-03-21</td>\n",
       "      <td>0</td>\n",
       "      <td>41472</td>\n",
       "      <td>2016-04-05 14:18:01</td>\n",
       "    </tr>\n",
       "    <tr>\n",
       "      <th>351678</th>\n",
       "      <td>2016-03-12 00:57:39</td>\n",
       "      <td>11500</td>\n",
       "      <td>unknown</td>\n",
       "      <td>1800</td>\n",
       "      <td>unknown</td>\n",
       "      <td>16</td>\n",
       "      <td>other</td>\n",
       "      <td>5000</td>\n",
       "      <td>6</td>\n",
       "      <td>petrol</td>\n",
       "      <td>fiat</td>\n",
       "      <td>unknown</td>\n",
       "      <td>2016-03-11</td>\n",
       "      <td>0</td>\n",
       "      <td>16515</td>\n",
       "      <td>2016-04-05 19:47:27</td>\n",
       "    </tr>\n",
       "    <tr>\n",
       "      <th>353957</th>\n",
       "      <td>2016-03-17 13:54:22</td>\n",
       "      <td>200</td>\n",
       "      <td>unknown</td>\n",
       "      <td>1910</td>\n",
       "      <td>unknown</td>\n",
       "      <td>0</td>\n",
       "      <td>unknown</td>\n",
       "      <td>5000</td>\n",
       "      <td>0</td>\n",
       "      <td>petrol</td>\n",
       "      <td>sonstige_autos</td>\n",
       "      <td>unknown</td>\n",
       "      <td>2016-03-17</td>\n",
       "      <td>0</td>\n",
       "      <td>42289</td>\n",
       "      <td>2016-03-31 22:46:47</td>\n",
       "    </tr>\n",
       "  </tbody>\n",
       "</table>\n",
       "</div>"
      ],
      "text/plain": [
       "               DateCrawled  Price VehicleType  RegistrationYear  Gearbox  \\\n",
       "341787 2016-03-28 17:37:30      1     unknown              3000  unknown   \n",
       "343079 2016-04-01 08:51:08      1       other              1910  unknown   \n",
       "348826 2016-03-22 00:38:15      1     unknown              1000  unknown   \n",
       "351678 2016-03-12 00:57:39  11500     unknown              1800  unknown   \n",
       "353957 2016-03-17 13:54:22    200     unknown              1910  unknown   \n",
       "\n",
       "        Power    Model  Kilometer  RegistrationMonth FuelType           Brand  \\\n",
       "341787      0   zafira       5000                  0  unknown            opel   \n",
       "343079      0  unknown       5000                  1    other      volkswagen   \n",
       "348826   1000  unknown     150000                  0  unknown  sonstige_autos   \n",
       "351678     16    other       5000                  6   petrol            fiat   \n",
       "353957      0  unknown       5000                  0   petrol  sonstige_autos   \n",
       "\n",
       "       NotRepaired DateCreated  NumberOfPictures  PostalCode  \\\n",
       "341787     unknown  2016-03-28                 0       26624   \n",
       "343079     unknown  2016-04-01                 0       18273   \n",
       "348826     unknown  2016-03-21                 0       41472   \n",
       "351678     unknown  2016-03-11                 0       16515   \n",
       "353957     unknown  2016-03-17                 0       42289   \n",
       "\n",
       "                  LastSeen  \n",
       "341787 2016-04-02 22:17:49  \n",
       "343079 2016-04-07 05:44:39  \n",
       "348826 2016-04-05 14:18:01  \n",
       "351678 2016-04-05 19:47:27  \n",
       "353957 2016-03-31 22:46:47  "
      ]
     },
     "metadata": {},
     "output_type": "display_data"
    }
   ],
   "source": [
    "display(df.query('RegistrationYear < 1920 or RegistrationYear >= 2022').head(),\n",
    "        df.query('RegistrationYear < 1920 or RegistrationYear >= 2022').tail())"
   ]
  },
  {
   "cell_type": "code",
   "execution_count": 14,
   "metadata": {},
   "outputs": [
    {
     "data": {
      "image/png": "[encoded data removed]",
      "text/plain": [
       "<Figure size 1080x504 with 1 Axes>"
      ]
     },
     "metadata": {
      "needs_background": "light"
     },
     "output_type": "display_data"
    }
   ],
   "source": [
    "plt.figure(figsize=(15,7))\n",
    "plt.ylim(0,100)\n",
    "df['Power'].hist(bins=75, edgecolor='k')\n",
    "plt.title('Распределение по мощности', fontsize='x-large')\n",
    "plt.xlabel('Год публикации', fontsize='x-large')\n",
    "plt.show()"
   ]
  },
  {
   "cell_type": "code",
   "execution_count": 15,
   "metadata": {},
   "outputs": [
    {
     "data": {
      "text/html": [
       "<div>\n",
       "<style scoped>\n",
       "    .dataframe tbody tr th:only-of-type {\n",
       "        vertical-align: middle;\n",
       "    }\n",
       "\n",
       "    .dataframe tbody tr th {\n",
       "        vertical-align: top;\n",
       "    }\n",
       "\n",
       "    .dataframe thead th {\n",
       "        text-align: right;\n",
       "    }\n",
       "</style>\n",
       "<table border=\"1\" class=\"dataframe\">\n",
       "  <thead>\n",
       "    <tr style=\"text-align: right;\">\n",
       "      <th></th>\n",
       "      <th>DateCrawled</th>\n",
       "      <th>Price</th>\n",
       "      <th>VehicleType</th>\n",
       "      <th>RegistrationYear</th>\n",
       "      <th>Gearbox</th>\n",
       "      <th>Power</th>\n",
       "      <th>Model</th>\n",
       "      <th>Kilometer</th>\n",
       "      <th>RegistrationMonth</th>\n",
       "      <th>FuelType</th>\n",
       "      <th>Brand</th>\n",
       "      <th>NotRepaired</th>\n",
       "      <th>DateCreated</th>\n",
       "      <th>NumberOfPictures</th>\n",
       "      <th>PostalCode</th>\n",
       "      <th>LastSeen</th>\n",
       "    </tr>\n",
       "  </thead>\n",
       "  <tbody>\n",
       "    <tr>\n",
       "      <th>1816</th>\n",
       "      <td>2016-03-22 20:52:00</td>\n",
       "      <td>3200</td>\n",
       "      <td>small</td>\n",
       "      <td>2004</td>\n",
       "      <td>manual</td>\n",
       "      <td>1398</td>\n",
       "      <td>corolla</td>\n",
       "      <td>5000</td>\n",
       "      <td>6</td>\n",
       "      <td>petrol</td>\n",
       "      <td>toyota</td>\n",
       "      <td>no</td>\n",
       "      <td>2016-03-22</td>\n",
       "      <td>0</td>\n",
       "      <td>22043</td>\n",
       "      <td>2016-03-22 21:43:26</td>\n",
       "    </tr>\n",
       "    <tr>\n",
       "      <th>2102</th>\n",
       "      <td>2016-03-21 11:55:22</td>\n",
       "      <td>0</td>\n",
       "      <td>sedan</td>\n",
       "      <td>1999</td>\n",
       "      <td>unknown</td>\n",
       "      <td>1799</td>\n",
       "      <td>vectra</td>\n",
       "      <td>150000</td>\n",
       "      <td>1</td>\n",
       "      <td>petrol</td>\n",
       "      <td>opel</td>\n",
       "      <td>yes</td>\n",
       "      <td>2016-03-21</td>\n",
       "      <td>0</td>\n",
       "      <td>1723</td>\n",
       "      <td>2016-04-04 04:49:06</td>\n",
       "    </tr>\n",
       "    <tr>\n",
       "      <th>3746</th>\n",
       "      <td>2016-03-21 14:48:31</td>\n",
       "      <td>0</td>\n",
       "      <td>unknown</td>\n",
       "      <td>2017</td>\n",
       "      <td>manual</td>\n",
       "      <td>750</td>\n",
       "      <td>unknown</td>\n",
       "      <td>150000</td>\n",
       "      <td>8</td>\n",
       "      <td>petrol</td>\n",
       "      <td>smart</td>\n",
       "      <td>no</td>\n",
       "      <td>2016-03-21</td>\n",
       "      <td>0</td>\n",
       "      <td>49356</td>\n",
       "      <td>2016-03-24 03:44:59</td>\n",
       "    </tr>\n",
       "    <tr>\n",
       "      <th>4060</th>\n",
       "      <td>2016-04-03 20:31:00</td>\n",
       "      <td>3100</td>\n",
       "      <td>sedan</td>\n",
       "      <td>2005</td>\n",
       "      <td>manual</td>\n",
       "      <td>953</td>\n",
       "      <td>colt</td>\n",
       "      <td>150000</td>\n",
       "      <td>4</td>\n",
       "      <td>gasoline</td>\n",
       "      <td>mitsubishi</td>\n",
       "      <td>no</td>\n",
       "      <td>2016-04-03</td>\n",
       "      <td>0</td>\n",
       "      <td>60326</td>\n",
       "      <td>2016-04-07 14:56:46</td>\n",
       "    </tr>\n",
       "    <tr>\n",
       "      <th>5328</th>\n",
       "      <td>2016-03-29 19:44:48</td>\n",
       "      <td>500</td>\n",
       "      <td>wagon</td>\n",
       "      <td>1999</td>\n",
       "      <td>manual</td>\n",
       "      <td>1001</td>\n",
       "      <td>astra</td>\n",
       "      <td>150000</td>\n",
       "      <td>7</td>\n",
       "      <td>petrol</td>\n",
       "      <td>opel</td>\n",
       "      <td>unknown</td>\n",
       "      <td>2016-03-29</td>\n",
       "      <td>0</td>\n",
       "      <td>33154</td>\n",
       "      <td>2016-04-06 05:44:36</td>\n",
       "    </tr>\n",
       "    <tr>\n",
       "      <th>...</th>\n",
       "      <td>...</td>\n",
       "      <td>...</td>\n",
       "      <td>...</td>\n",
       "      <td>...</td>\n",
       "      <td>...</td>\n",
       "      <td>...</td>\n",
       "      <td>...</td>\n",
       "      <td>...</td>\n",
       "      <td>...</td>\n",
       "      <td>...</td>\n",
       "      <td>...</td>\n",
       "      <td>...</td>\n",
       "      <td>...</td>\n",
       "      <td>...</td>\n",
       "      <td>...</td>\n",
       "      <td>...</td>\n",
       "    </tr>\n",
       "    <tr>\n",
       "      <th>348964</th>\n",
       "      <td>2016-04-04 18:53:25</td>\n",
       "      <td>250</td>\n",
       "      <td>small</td>\n",
       "      <td>1999</td>\n",
       "      <td>manual</td>\n",
       "      <td>1241</td>\n",
       "      <td>ypsilon</td>\n",
       "      <td>150000</td>\n",
       "      <td>5</td>\n",
       "      <td>petrol</td>\n",
       "      <td>lancia</td>\n",
       "      <td>yes</td>\n",
       "      <td>2016-04-04</td>\n",
       "      <td>0</td>\n",
       "      <td>28259</td>\n",
       "      <td>2016-04-04 18:53:25</td>\n",
       "    </tr>\n",
       "    <tr>\n",
       "      <th>351943</th>\n",
       "      <td>2016-03-07 21:36:19</td>\n",
       "      <td>1500</td>\n",
       "      <td>bus</td>\n",
       "      <td>2001</td>\n",
       "      <td>manual</td>\n",
       "      <td>1001</td>\n",
       "      <td>zafira</td>\n",
       "      <td>5000</td>\n",
       "      <td>7</td>\n",
       "      <td>gasoline</td>\n",
       "      <td>opel</td>\n",
       "      <td>no</td>\n",
       "      <td>2016-03-07</td>\n",
       "      <td>0</td>\n",
       "      <td>66117</td>\n",
       "      <td>2016-03-09 12:47:08</td>\n",
       "    </tr>\n",
       "    <tr>\n",
       "      <th>353489</th>\n",
       "      <td>2016-04-02 20:54:21</td>\n",
       "      <td>12500</td>\n",
       "      <td>unknown</td>\n",
       "      <td>2017</td>\n",
       "      <td>manual</td>\n",
       "      <td>2000</td>\n",
       "      <td>other</td>\n",
       "      <td>60000</td>\n",
       "      <td>0</td>\n",
       "      <td>gasoline</td>\n",
       "      <td>chrysler</td>\n",
       "      <td>no</td>\n",
       "      <td>2016-04-02</td>\n",
       "      <td>0</td>\n",
       "      <td>44145</td>\n",
       "      <td>2016-04-06 21:44:39</td>\n",
       "    </tr>\n",
       "    <tr>\n",
       "      <th>353629</th>\n",
       "      <td>2016-03-23 23:55:21</td>\n",
       "      <td>2400</td>\n",
       "      <td>sedan</td>\n",
       "      <td>2007</td>\n",
       "      <td>manual</td>\n",
       "      <td>650</td>\n",
       "      <td>c2</td>\n",
       "      <td>150000</td>\n",
       "      <td>8</td>\n",
       "      <td>petrol</td>\n",
       "      <td>citroen</td>\n",
       "      <td>unknown</td>\n",
       "      <td>2016-03-23</td>\n",
       "      <td>0</td>\n",
       "      <td>45277</td>\n",
       "      <td>2016-03-27 01:15:17</td>\n",
       "    </tr>\n",
       "    <tr>\n",
       "      <th>354256</th>\n",
       "      <td>2016-03-09 17:59:03</td>\n",
       "      <td>399</td>\n",
       "      <td>other</td>\n",
       "      <td>1994</td>\n",
       "      <td>unknown</td>\n",
       "      <td>1103</td>\n",
       "      <td>3er</td>\n",
       "      <td>150000</td>\n",
       "      <td>0</td>\n",
       "      <td>unknown</td>\n",
       "      <td>bmw</td>\n",
       "      <td>unknown</td>\n",
       "      <td>2016-03-09</td>\n",
       "      <td>0</td>\n",
       "      <td>56235</td>\n",
       "      <td>2016-03-17 09:17:08</td>\n",
       "    </tr>\n",
       "  </tbody>\n",
       "</table>\n",
       "<p>394 rows × 16 columns</p>\n",
       "</div>"
      ],
      "text/plain": [
       "               DateCrawled  Price VehicleType  RegistrationYear  Gearbox  \\\n",
       "1816   2016-03-22 20:52:00   3200       small              2004   manual   \n",
       "2102   2016-03-21 11:55:22      0       sedan              1999  unknown   \n",
       "3746   2016-03-21 14:48:31      0     unknown              2017   manual   \n",
       "4060   2016-04-03 20:31:00   3100       sedan              2005   manual   \n",
       "5328   2016-03-29 19:44:48    500       wagon              1999   manual   \n",
       "...                    ...    ...         ...               ...      ...   \n",
       "348964 2016-04-04 18:53:25    250       small              1999   manual   \n",
       "351943 2016-03-07 21:36:19   1500         bus              2001   manual   \n",
       "353489 2016-04-02 20:54:21  12500     unknown              2017   manual   \n",
       "353629 2016-03-23 23:55:21   2400       sedan              2007   manual   \n",
       "354256 2016-03-09 17:59:03    399       other              1994  unknown   \n",
       "\n",
       "        Power    Model  Kilometer  RegistrationMonth  FuelType       Brand  \\\n",
       "1816     1398  corolla       5000                  6    petrol      toyota   \n",
       "2102     1799   vectra     150000                  1    petrol        opel   \n",
       "3746      750  unknown     150000                  8    petrol       smart   \n",
       "4060      953     colt     150000                  4  gasoline  mitsubishi   \n",
       "5328     1001    astra     150000                  7    petrol        opel   \n",
       "...       ...      ...        ...                ...       ...         ...   \n",
       "348964   1241  ypsilon     150000                  5    petrol      lancia   \n",
       "351943   1001   zafira       5000                  7  gasoline        opel   \n",
       "353489   2000    other      60000                  0  gasoline    chrysler   \n",
       "353629    650       c2     150000                  8    petrol     citroen   \n",
       "354256   1103      3er     150000                  0   unknown         bmw   \n",
       "\n",
       "       NotRepaired DateCreated  NumberOfPictures  PostalCode  \\\n",
       "1816            no  2016-03-22                 0       22043   \n",
       "2102           yes  2016-03-21                 0        1723   \n",
       "3746            no  2016-03-21                 0       49356   \n",
       "4060            no  2016-04-03                 0       60326   \n",
       "5328       unknown  2016-03-29                 0       33154   \n",
       "...            ...         ...               ...         ...   \n",
       "348964         yes  2016-04-04                 0       28259   \n",
       "351943          no  2016-03-07                 0       66117   \n",
       "353489          no  2016-04-02                 0       44145   \n",
       "353629     unknown  2016-03-23                 0       45277   \n",
       "354256     unknown  2016-03-09                 0       56235   \n",
       "\n",
       "                  LastSeen  \n",
       "1816   2016-03-22 21:43:26  \n",
       "2102   2016-04-04 04:49:06  \n",
       "3746   2016-03-24 03:44:59  \n",
       "4060   2016-04-07 14:56:46  \n",
       "5328   2016-04-06 05:44:36  \n",
       "...                    ...  \n",
       "348964 2016-04-04 18:53:25  \n",
       "351943 2016-03-09 12:47:08  \n",
       "353489 2016-04-06 21:44:39  \n",
       "353629 2016-03-27 01:15:17  \n",
       "354256 2016-03-17 09:17:08  \n",
       "\n",
       "[394 rows x 16 columns]"
      ]
     },
     "execution_count": 15,
     "metadata": {},
     "output_type": "execute_result"
    }
   ],
   "source": [
    "df.query('Power >= 600')"
   ]
  },
  {
   "cell_type": "markdown",
   "metadata": {},
   "source": [
    "В двух столбцах замечены выбросы, которые могут повлиять на модель приобучении.\n",
    "\n",
    "Соотвественно, удалим лишние строки с выбросами в годах. Их всего 171. \n",
    "\n",
    "И также очистим строки с мощностью машин более 600 л.с - 394 строк."
   ]
  },
  {
   "cell_type": "code",
   "execution_count": 16,
   "metadata": {},
   "outputs": [
    {
     "data": {
      "image/png": "[encoded data removed]",
      "text/plain": [
       "<Figure size 1080x504 with 1 Axes>"
      ]
     },
     "metadata": {
      "needs_background": "light"
     },
     "output_type": "display_data"
    },
    {
     "data": {
      "image/png": "[encoded data removed]",
      "text/plain": [
       "<Figure size 1080x504 with 1 Axes>"
      ]
     },
     "metadata": {
      "needs_background": "light"
     },
     "output_type": "display_data"
    }
   ],
   "source": [
    "plt.figure(figsize=(15,7))\n",
    "df.query('RegistrationYear >= 1885 and RegistrationYear <= 2022')\\\n",
    "    .groupby(['RegistrationYear']).median()\\\n",
    "    .sort_values(by='RegistrationYear', ascending=False)['Price']\\\n",
    "    .plot.bar()\n",
    "plt.show()\n",
    "\n",
    "plt.figure(figsize=(15,7))\n",
    "df.groupby('Brand').median()['Price'].sort_values(ascending=False).plot.bar()\n",
    "plt.show()"
   ]
  },
  {
   "cell_type": "code",
   "execution_count": 17,
   "metadata": {},
   "outputs": [
    {
     "name": "stdout",
     "output_type": "stream",
     "text": [
      "<class 'pandas.core.frame.DataFrame'>\n",
      "RangeIndex: 353710 entries, 0 to 353709\n",
      "Data columns (total 16 columns):\n",
      " #   Column             Non-Null Count   Dtype         \n",
      "---  ------             --------------   -----         \n",
      " 0   DateCrawled        353710 non-null  datetime64[ns]\n",
      " 1   Price              353710 non-null  int64         \n",
      " 2   VehicleType        353710 non-null  object        \n",
      " 3   RegistrationYear   353710 non-null  int64         \n",
      " 4   Gearbox            353710 non-null  object        \n",
      " 5   Power              353710 non-null  int64         \n",
      " 6   Model              353710 non-null  object        \n",
      " 7   Kilometer          353710 non-null  int64         \n",
      " 8   RegistrationMonth  353710 non-null  int64         \n",
      " 9   FuelType           353710 non-null  object        \n",
      " 10  Brand              353710 non-null  object        \n",
      " 11  NotRepaired        353710 non-null  object        \n",
      " 12  DateCreated        353710 non-null  datetime64[ns]\n",
      " 13  NumberOfPictures   353710 non-null  int64         \n",
      " 14  PostalCode         353710 non-null  int64         \n",
      " 15  LastSeen           353710 non-null  datetime64[ns]\n",
      "dtypes: datetime64[ns](3), int64(7), object(6)\n",
      "memory usage: 43.2+ MB\n"
     ]
    }
   ],
   "source": [
    "df = df.drop(df.query('Power >= 600').index).reset_index(drop=True)\n",
    "df = df.drop(df.query('RegistrationYear < 1920 or RegistrationYear >= 2022').index).reset_index(drop=True)\n",
    "\n",
    "df.info()"
   ]
  },
  {
   "cell_type": "markdown",
   "metadata": {},
   "source": [
    "Так же отбросим столбцы, которые никак не повлияют на модель машинного обучения (являются индивидуальными параметрами пользователя или датасета):\n",
    "\n",
    "* DateCrawled — дата скачивания анкеты из базы\n",
    "* DateCreated — дата создания анкеты\n",
    "* NumberOfPictures — количество фотографий автомобиля (так как в столбце нет значений кроме `0`)\n",
    "* PostalCode — почтовый индекс владельца анкеты (пользователя)\n",
    "* LastSeen — дата последней активности пользователя"
   ]
  },
  {
   "cell_type": "code",
   "execution_count": 18,
   "metadata": {},
   "outputs": [],
   "source": [
    "df = df.drop(['DateCrawled', 'DateCreated', 'NumberOfPictures', 'PostalCode', 'LastSeen'], axis=1)"
   ]
  },
  {
   "cell_type": "markdown",
   "metadata": {},
   "source": [
    "> Снова проверим дубликаты и удалим их:"
   ]
  },
  {
   "cell_type": "code",
   "execution_count": 19,
   "metadata": {},
   "outputs": [
    {
     "name": "stdout",
     "output_type": "stream",
     "text": [
      "27508\n"
     ]
    }
   ],
   "source": [
    "print(df.duplicated().sum())\n",
    "\n",
    "df = df.drop_duplicates().reset_index(drop=True)"
   ]
  },
  {
   "cell_type": "markdown",
   "metadata": {},
   "source": [
    "Проверим корреляцию параметров:"
   ]
  },
  {
   "cell_type": "code",
   "execution_count": 20,
   "metadata": {},
   "outputs": [
    {
     "data": {
      "image/png": "[encoded data removed]",
      "text/plain": [
       "<Figure size 1080x360 with 2 Axes>"
      ]
     },
     "metadata": {
      "needs_background": "light"
     },
     "output_type": "display_data"
    }
   ],
   "source": [
    "plt.figure(figsize=(15, 5))\n",
    "plt.title('Матрица корреляций зависимости фичей')\n",
    "\n",
    "sns.heatmap(df.corr(), annot = True)\n",
    "\n",
    "plt.show()"
   ]
  },
  {
   "cell_type": "markdown",
   "metadata": {},
   "source": [
    "Нет значений, сильно коррелирующих между собой (больше 0.7), но некоторые параметры, коррелируют с целевым параметром сильнее, это может улучшить качество модели."
   ]
  },
  {
   "cell_type": "markdown",
   "metadata": {},
   "source": [
    "Данные подготовлены, можно приступать к обучению моделей."
   ]
  },
  {
   "cell_type": "markdown",
   "metadata": {},
   "source": [
    "Прежде, чем обучать модель, подготовим данные для обработки:\n",
    "\n",
    "* Применим OHE только для признаков, где мало разных признаков. То есть не будем брать признак `Model`\n",
    "* Разделим выборку на тренировочную и тестовую\n",
    "* Заменим 0 в целевом признаке на тренировочной выборке\n",
    "* обучим на тренировочной выборке TargetEncoder на признаке `Model` и применим, повторим на тестовой \n",
    "* применим стандартизацию\n",
    "* добавим в тренировочную и тестовую выборку столбцы из OHE, чтобы сходилось количество признаков"
   ]
  },
  {
   "cell_type": "code",
   "execution_count": 21,
   "metadata": {},
   "outputs": [],
   "source": [
    "# удаляем нужный столбец из категорий для обработки\n",
    "\n",
    "cat_cols.remove('Model')"
   ]
  },
  {
   "cell_type": "markdown",
   "metadata": {},
   "source": [
    "OHE:"
   ]
  },
  {
   "cell_type": "code",
   "execution_count": 22,
   "metadata": {},
   "outputs": [
    {
     "name": "stdout",
     "output_type": "stream",
     "text": [
      "<class 'pandas.core.frame.DataFrame'>\n",
      "RangeIndex: 326202 entries, 0 to 326201\n",
      "Data columns (total 64 columns):\n",
      " #   Column                   Non-Null Count   Dtype \n",
      "---  ------                   --------------   ----- \n",
      " 0   Price                    326202 non-null  int64 \n",
      " 1   RegistrationYear         326202 non-null  int64 \n",
      " 2   Power                    326202 non-null  int64 \n",
      " 3   Model                    326202 non-null  object\n",
      " 4   Kilometer                326202 non-null  int64 \n",
      " 5   RegistrationMonth        326202 non-null  int64 \n",
      " 6   VehicleType_convertible  326202 non-null  uint8 \n",
      " 7   VehicleType_coupe        326202 non-null  uint8 \n",
      " 8   VehicleType_other        326202 non-null  uint8 \n",
      " 9   VehicleType_sedan        326202 non-null  uint8 \n",
      " 10  VehicleType_small        326202 non-null  uint8 \n",
      " 11  VehicleType_suv          326202 non-null  uint8 \n",
      " 12  VehicleType_unknown      326202 non-null  uint8 \n",
      " 13  VehicleType_wagon        326202 non-null  uint8 \n",
      " 14  Gearbox_manual           326202 non-null  uint8 \n",
      " 15  Gearbox_unknown          326202 non-null  uint8 \n",
      " 16  FuelType_electric        326202 non-null  uint8 \n",
      " 17  FuelType_gasoline        326202 non-null  uint8 \n",
      " 18  FuelType_hybrid          326202 non-null  uint8 \n",
      " 19  FuelType_lpg             326202 non-null  uint8 \n",
      " 20  FuelType_other           326202 non-null  uint8 \n",
      " 21  FuelType_petrol          326202 non-null  uint8 \n",
      " 22  FuelType_unknown         326202 non-null  uint8 \n",
      " 23  Brand_audi               326202 non-null  uint8 \n",
      " 24  Brand_bmw                326202 non-null  uint8 \n",
      " 25  Brand_chevrolet          326202 non-null  uint8 \n",
      " 26  Brand_chrysler           326202 non-null  uint8 \n",
      " 27  Brand_citroen            326202 non-null  uint8 \n",
      " 28  Brand_dacia              326202 non-null  uint8 \n",
      " 29  Brand_daewoo             326202 non-null  uint8 \n",
      " 30  Brand_daihatsu           326202 non-null  uint8 \n",
      " 31  Brand_fiat               326202 non-null  uint8 \n",
      " 32  Brand_ford               326202 non-null  uint8 \n",
      " 33  Brand_honda              326202 non-null  uint8 \n",
      " 34  Brand_hyundai            326202 non-null  uint8 \n",
      " 35  Brand_jaguar             326202 non-null  uint8 \n",
      " 36  Brand_jeep               326202 non-null  uint8 \n",
      " 37  Brand_kia                326202 non-null  uint8 \n",
      " 38  Brand_lada               326202 non-null  uint8 \n",
      " 39  Brand_lancia             326202 non-null  uint8 \n",
      " 40  Brand_land_rover         326202 non-null  uint8 \n",
      " 41  Brand_mazda              326202 non-null  uint8 \n",
      " 42  Brand_mercedes_benz      326202 non-null  uint8 \n",
      " 43  Brand_mini               326202 non-null  uint8 \n",
      " 44  Brand_mitsubishi         326202 non-null  uint8 \n",
      " 45  Brand_nissan             326202 non-null  uint8 \n",
      " 46  Brand_opel               326202 non-null  uint8 \n",
      " 47  Brand_peugeot            326202 non-null  uint8 \n",
      " 48  Brand_porsche            326202 non-null  uint8 \n",
      " 49  Brand_renault            326202 non-null  uint8 \n",
      " 50  Brand_rover              326202 non-null  uint8 \n",
      " 51  Brand_saab               326202 non-null  uint8 \n",
      " 52  Brand_seat               326202 non-null  uint8 \n",
      " 53  Brand_skoda              326202 non-null  uint8 \n",
      " 54  Brand_smart              326202 non-null  uint8 \n",
      " 55  Brand_sonstige_autos     326202 non-null  uint8 \n",
      " 56  Brand_subaru             326202 non-null  uint8 \n",
      " 57  Brand_suzuki             326202 non-null  uint8 \n",
      " 58  Brand_toyota             326202 non-null  uint8 \n",
      " 59  Brand_trabant            326202 non-null  uint8 \n",
      " 60  Brand_volkswagen         326202 non-null  uint8 \n",
      " 61  Brand_volvo              326202 non-null  uint8 \n",
      " 62  NotRepaired_unknown      326202 non-null  uint8 \n",
      " 63  NotRepaired_yes          326202 non-null  uint8 \n",
      "dtypes: int64(5), object(1), uint8(58)\n",
      "memory usage: 33.0+ MB\n"
     ]
    }
   ],
   "source": [
    "df_ohe = pd.get_dummies(df, columns=cat_cols, drop_first=True)\n",
    "\n",
    "df_ohe.info()"
   ]
  },
  {
   "cell_type": "markdown",
   "metadata": {},
   "source": [
    "Так как мы будем заменять нули на тренировочной выборке, стоит разделить на начальном датасете и выполнить предобработку:"
   ]
  },
  {
   "cell_type": "code",
   "execution_count": 23,
   "metadata": {},
   "outputs": [
    {
     "name": "stdout",
     "output_type": "stream",
     "text": [
      "Размер тренировочной выборки: (260961, 11) \n",
      "Размер тестовой выборки: (65241, 11)\n"
     ]
    }
   ],
   "source": [
    "train, test = train_test_split(df,\n",
    "                               test_size=0.20,\n",
    "                               random_state=12345)\n",
    "\n",
    "print('Размер тренировочной выборки:', train.shape,\n",
    "      '\\nРазмер тестовой выборки:', test.shape)"
   ]
  },
  {
   "cell_type": "markdown",
   "metadata": {},
   "source": [
    "Заменим нули на трейне на пустые значения для заполнения:"
   ]
  },
  {
   "cell_type": "code",
   "execution_count": 24,
   "metadata": {},
   "outputs": [
    {
     "name": "stderr",
     "output_type": "stream",
     "text": [
      "<ipython-input-24-df0b89db05e7>:1: SettingWithCopyWarning: \n",
      "A value is trying to be set on a copy of a slice from a DataFrame.\n",
      "Try using .loc[row_indexer,col_indexer] = value instead\n",
      "\n",
      "See the caveats in the documentation: https://pandas.pydata.org/pandas-docs/stable/user_guide/indexing.html#returning-a-view-versus-a-copy\n",
      "  train['Price'] = train['Price'].replace(0, np.nan)\n"
     ]
    },
    {
     "data": {
      "text/plain": [
       "7479"
      ]
     },
     "execution_count": 24,
     "metadata": {},
     "output_type": "execute_result"
    }
   ],
   "source": [
    "train['Price'] = train['Price'].replace(0, np.nan)\n",
    "\n",
    "train['Price'].isna().sum()"
   ]
  },
  {
   "cell_type": "code",
   "execution_count": 25,
   "metadata": {},
   "outputs": [
    {
     "name": "stderr",
     "output_type": "stream",
     "text": [
      "<ipython-input-25-605fadedafc5>:1: SettingWithCopyWarning: \n",
      "A value is trying to be set on a copy of a slice from a DataFrame.\n",
      "Try using .loc[row_indexer,col_indexer] = value instead\n",
      "\n",
      "See the caveats in the documentation: https://pandas.pydata.org/pandas-docs/stable/user_guide/indexing.html#returning-a-view-versus-a-copy\n",
      "  train['Price'] = train['Price'].fillna(train.groupby(['RegistrationYear', 'Brand'])['Price'].transform('median'))\n"
     ]
    },
    {
     "data": {
      "text/html": [
       "<div>\n",
       "<style scoped>\n",
       "    .dataframe tbody tr th:only-of-type {\n",
       "        vertical-align: middle;\n",
       "    }\n",
       "\n",
       "    .dataframe tbody tr th {\n",
       "        vertical-align: top;\n",
       "    }\n",
       "\n",
       "    .dataframe thead th {\n",
       "        text-align: right;\n",
       "    }\n",
       "</style>\n",
       "<table border=\"1\" class=\"dataframe\">\n",
       "  <thead>\n",
       "    <tr style=\"text-align: right;\">\n",
       "      <th></th>\n",
       "      <th>Price</th>\n",
       "      <th>VehicleType</th>\n",
       "      <th>RegistrationYear</th>\n",
       "      <th>Gearbox</th>\n",
       "      <th>Power</th>\n",
       "      <th>Model</th>\n",
       "      <th>Kilometer</th>\n",
       "      <th>RegistrationMonth</th>\n",
       "      <th>FuelType</th>\n",
       "      <th>Brand</th>\n",
       "      <th>NotRepaired</th>\n",
       "    </tr>\n",
       "  </thead>\n",
       "  <tbody>\n",
       "    <tr>\n",
       "      <th>231382</th>\n",
       "      <td>NaN</td>\n",
       "      <td>unknown</td>\n",
       "      <td>1948</td>\n",
       "      <td>unknown</td>\n",
       "      <td>0</td>\n",
       "      <td>unknown</td>\n",
       "      <td>5000</td>\n",
       "      <td>0</td>\n",
       "      <td>unknown</td>\n",
       "      <td>opel</td>\n",
       "      <td>unknown</td>\n",
       "    </tr>\n",
       "    <tr>\n",
       "      <th>117362</th>\n",
       "      <td>NaN</td>\n",
       "      <td>unknown</td>\n",
       "      <td>1980</td>\n",
       "      <td>unknown</td>\n",
       "      <td>0</td>\n",
       "      <td>300c</td>\n",
       "      <td>150000</td>\n",
       "      <td>0</td>\n",
       "      <td>unknown</td>\n",
       "      <td>chrysler</td>\n",
       "      <td>unknown</td>\n",
       "    </tr>\n",
       "    <tr>\n",
       "      <th>108726</th>\n",
       "      <td>NaN</td>\n",
       "      <td>unknown</td>\n",
       "      <td>1980</td>\n",
       "      <td>manual</td>\n",
       "      <td>90</td>\n",
       "      <td>unknown</td>\n",
       "      <td>70000</td>\n",
       "      <td>0</td>\n",
       "      <td>petrol</td>\n",
       "      <td>mazda</td>\n",
       "      <td>unknown</td>\n",
       "    </tr>\n",
       "    <tr>\n",
       "      <th>62526</th>\n",
       "      <td>NaN</td>\n",
       "      <td>suv</td>\n",
       "      <td>1986</td>\n",
       "      <td>manual</td>\n",
       "      <td>99</td>\n",
       "      <td>pajero</td>\n",
       "      <td>125000</td>\n",
       "      <td>0</td>\n",
       "      <td>unknown</td>\n",
       "      <td>mitsubishi</td>\n",
       "      <td>unknown</td>\n",
       "    </tr>\n",
       "    <tr>\n",
       "      <th>219034</th>\n",
       "      <td>NaN</td>\n",
       "      <td>unknown</td>\n",
       "      <td>1980</td>\n",
       "      <td>unknown</td>\n",
       "      <td>0</td>\n",
       "      <td>rx_reihe</td>\n",
       "      <td>5000</td>\n",
       "      <td>0</td>\n",
       "      <td>unknown</td>\n",
       "      <td>mazda</td>\n",
       "      <td>unknown</td>\n",
       "    </tr>\n",
       "    <tr>\n",
       "      <th>263924</th>\n",
       "      <td>NaN</td>\n",
       "      <td>other</td>\n",
       "      <td>1920</td>\n",
       "      <td>unknown</td>\n",
       "      <td>0</td>\n",
       "      <td>unknown</td>\n",
       "      <td>5000</td>\n",
       "      <td>1</td>\n",
       "      <td>other</td>\n",
       "      <td>sonstige_autos</td>\n",
       "      <td>unknown</td>\n",
       "    </tr>\n",
       "    <tr>\n",
       "      <th>149355</th>\n",
       "      <td>NaN</td>\n",
       "      <td>convertible</td>\n",
       "      <td>1971</td>\n",
       "      <td>manual</td>\n",
       "      <td>75</td>\n",
       "      <td>other</td>\n",
       "      <td>125000</td>\n",
       "      <td>0</td>\n",
       "      <td>petrol</td>\n",
       "      <td>peugeot</td>\n",
       "      <td>unknown</td>\n",
       "    </tr>\n",
       "    <tr>\n",
       "      <th>44275</th>\n",
       "      <td>NaN</td>\n",
       "      <td>small</td>\n",
       "      <td>1987</td>\n",
       "      <td>auto</td>\n",
       "      <td>76</td>\n",
       "      <td>unknown</td>\n",
       "      <td>90000</td>\n",
       "      <td>10</td>\n",
       "      <td>petrol</td>\n",
       "      <td>kia</td>\n",
       "      <td>unknown</td>\n",
       "    </tr>\n",
       "    <tr>\n",
       "      <th>232203</th>\n",
       "      <td>NaN</td>\n",
       "      <td>unknown</td>\n",
       "      <td>2019</td>\n",
       "      <td>manual</td>\n",
       "      <td>0</td>\n",
       "      <td>twingo</td>\n",
       "      <td>150000</td>\n",
       "      <td>2</td>\n",
       "      <td>petrol</td>\n",
       "      <td>renault</td>\n",
       "      <td>yes</td>\n",
       "    </tr>\n",
       "    <tr>\n",
       "      <th>251449</th>\n",
       "      <td>NaN</td>\n",
       "      <td>other</td>\n",
       "      <td>1970</td>\n",
       "      <td>manual</td>\n",
       "      <td>0</td>\n",
       "      <td>other</td>\n",
       "      <td>5000</td>\n",
       "      <td>0</td>\n",
       "      <td>other</td>\n",
       "      <td>daihatsu</td>\n",
       "      <td>yes</td>\n",
       "    </tr>\n",
       "    <tr>\n",
       "      <th>290232</th>\n",
       "      <td>NaN</td>\n",
       "      <td>unknown</td>\n",
       "      <td>1970</td>\n",
       "      <td>unknown</td>\n",
       "      <td>0</td>\n",
       "      <td>unknown</td>\n",
       "      <td>30000</td>\n",
       "      <td>0</td>\n",
       "      <td>petrol</td>\n",
       "      <td>chrysler</td>\n",
       "      <td>unknown</td>\n",
       "    </tr>\n",
       "    <tr>\n",
       "      <th>148517</th>\n",
       "      <td>NaN</td>\n",
       "      <td>coupe</td>\n",
       "      <td>2012</td>\n",
       "      <td>auto</td>\n",
       "      <td>0</td>\n",
       "      <td>other</td>\n",
       "      <td>40000</td>\n",
       "      <td>11</td>\n",
       "      <td>gasoline</td>\n",
       "      <td>porsche</td>\n",
       "      <td>no</td>\n",
       "    </tr>\n",
       "    <tr>\n",
       "      <th>281113</th>\n",
       "      <td>NaN</td>\n",
       "      <td>sedan</td>\n",
       "      <td>1955</td>\n",
       "      <td>manual</td>\n",
       "      <td>0</td>\n",
       "      <td>other</td>\n",
       "      <td>70000</td>\n",
       "      <td>8</td>\n",
       "      <td>petrol</td>\n",
       "      <td>bmw</td>\n",
       "      <td>no</td>\n",
       "    </tr>\n",
       "    <tr>\n",
       "      <th>65861</th>\n",
       "      <td>NaN</td>\n",
       "      <td>small</td>\n",
       "      <td>1977</td>\n",
       "      <td>manual</td>\n",
       "      <td>55</td>\n",
       "      <td>other</td>\n",
       "      <td>150000</td>\n",
       "      <td>8</td>\n",
       "      <td>petrol</td>\n",
       "      <td>dacia</td>\n",
       "      <td>no</td>\n",
       "    </tr>\n",
       "    <tr>\n",
       "      <th>180773</th>\n",
       "      <td>NaN</td>\n",
       "      <td>unknown</td>\n",
       "      <td>2017</td>\n",
       "      <td>unknown</td>\n",
       "      <td>0</td>\n",
       "      <td>niva</td>\n",
       "      <td>90000</td>\n",
       "      <td>0</td>\n",
       "      <td>unknown</td>\n",
       "      <td>lada</td>\n",
       "      <td>unknown</td>\n",
       "    </tr>\n",
       "    <tr>\n",
       "      <th>17146</th>\n",
       "      <td>NaN</td>\n",
       "      <td>unknown</td>\n",
       "      <td>1960</td>\n",
       "      <td>manual</td>\n",
       "      <td>0</td>\n",
       "      <td>other</td>\n",
       "      <td>150000</td>\n",
       "      <td>3</td>\n",
       "      <td>petrol</td>\n",
       "      <td>jeep</td>\n",
       "      <td>unknown</td>\n",
       "    </tr>\n",
       "    <tr>\n",
       "      <th>264670</th>\n",
       "      <td>NaN</td>\n",
       "      <td>coupe</td>\n",
       "      <td>1987</td>\n",
       "      <td>manual</td>\n",
       "      <td>90</td>\n",
       "      <td>6_reihe</td>\n",
       "      <td>150000</td>\n",
       "      <td>12</td>\n",
       "      <td>petrol</td>\n",
       "      <td>mazda</td>\n",
       "      <td>no</td>\n",
       "    </tr>\n",
       "    <tr>\n",
       "      <th>138082</th>\n",
       "      <td>NaN</td>\n",
       "      <td>wagon</td>\n",
       "      <td>1930</td>\n",
       "      <td>manual</td>\n",
       "      <td>99</td>\n",
       "      <td>spark</td>\n",
       "      <td>20000</td>\n",
       "      <td>6</td>\n",
       "      <td>hybrid</td>\n",
       "      <td>chevrolet</td>\n",
       "      <td>no</td>\n",
       "    </tr>\n",
       "    <tr>\n",
       "      <th>87484</th>\n",
       "      <td>NaN</td>\n",
       "      <td>sedan</td>\n",
       "      <td>1959</td>\n",
       "      <td>auto</td>\n",
       "      <td>0</td>\n",
       "      <td>other</td>\n",
       "      <td>125000</td>\n",
       "      <td>7</td>\n",
       "      <td>petrol</td>\n",
       "      <td>chevrolet</td>\n",
       "      <td>unknown</td>\n",
       "    </tr>\n",
       "    <tr>\n",
       "      <th>12907</th>\n",
       "      <td>NaN</td>\n",
       "      <td>small</td>\n",
       "      <td>1954</td>\n",
       "      <td>manual</td>\n",
       "      <td>54</td>\n",
       "      <td>corsa</td>\n",
       "      <td>150000</td>\n",
       "      <td>0</td>\n",
       "      <td>petrol</td>\n",
       "      <td>opel</td>\n",
       "      <td>no</td>\n",
       "    </tr>\n",
       "    <tr>\n",
       "      <th>221061</th>\n",
       "      <td>NaN</td>\n",
       "      <td>other</td>\n",
       "      <td>1970</td>\n",
       "      <td>auto</td>\n",
       "      <td>0</td>\n",
       "      <td>other</td>\n",
       "      <td>5000</td>\n",
       "      <td>7</td>\n",
       "      <td>petrol</td>\n",
       "      <td>chevrolet</td>\n",
       "      <td>no</td>\n",
       "    </tr>\n",
       "    <tr>\n",
       "      <th>128132</th>\n",
       "      <td>NaN</td>\n",
       "      <td>unknown</td>\n",
       "      <td>1970</td>\n",
       "      <td>unknown</td>\n",
       "      <td>0</td>\n",
       "      <td>other</td>\n",
       "      <td>100000</td>\n",
       "      <td>0</td>\n",
       "      <td>unknown</td>\n",
       "      <td>chevrolet</td>\n",
       "      <td>unknown</td>\n",
       "    </tr>\n",
       "    <tr>\n",
       "      <th>307726</th>\n",
       "      <td>NaN</td>\n",
       "      <td>sedan</td>\n",
       "      <td>2001</td>\n",
       "      <td>manual</td>\n",
       "      <td>0</td>\n",
       "      <td>unknown</td>\n",
       "      <td>150000</td>\n",
       "      <td>0</td>\n",
       "      <td>petrol</td>\n",
       "      <td>lada</td>\n",
       "      <td>yes</td>\n",
       "    </tr>\n",
       "    <tr>\n",
       "      <th>276542</th>\n",
       "      <td>NaN</td>\n",
       "      <td>unknown</td>\n",
       "      <td>1990</td>\n",
       "      <td>unknown</td>\n",
       "      <td>45</td>\n",
       "      <td>other</td>\n",
       "      <td>150000</td>\n",
       "      <td>0</td>\n",
       "      <td>unknown</td>\n",
       "      <td>rover</td>\n",
       "      <td>yes</td>\n",
       "    </tr>\n",
       "    <tr>\n",
       "      <th>53685</th>\n",
       "      <td>NaN</td>\n",
       "      <td>small</td>\n",
       "      <td>1933</td>\n",
       "      <td>unknown</td>\n",
       "      <td>0</td>\n",
       "      <td>unknown</td>\n",
       "      <td>5000</td>\n",
       "      <td>0</td>\n",
       "      <td>petrol</td>\n",
       "      <td>fiat</td>\n",
       "      <td>unknown</td>\n",
       "    </tr>\n",
       "    <tr>\n",
       "      <th>42327</th>\n",
       "      <td>NaN</td>\n",
       "      <td>suv</td>\n",
       "      <td>1985</td>\n",
       "      <td>unknown</td>\n",
       "      <td>0</td>\n",
       "      <td>wrangler</td>\n",
       "      <td>150000</td>\n",
       "      <td>0</td>\n",
       "      <td>unknown</td>\n",
       "      <td>jeep</td>\n",
       "      <td>unknown</td>\n",
       "    </tr>\n",
       "    <tr>\n",
       "      <th>95027</th>\n",
       "      <td>NaN</td>\n",
       "      <td>other</td>\n",
       "      <td>1935</td>\n",
       "      <td>manual</td>\n",
       "      <td>100</td>\n",
       "      <td>other</td>\n",
       "      <td>10000</td>\n",
       "      <td>7</td>\n",
       "      <td>petrol</td>\n",
       "      <td>ford</td>\n",
       "      <td>unknown</td>\n",
       "    </tr>\n",
       "    <tr>\n",
       "      <th>194016</th>\n",
       "      <td>NaN</td>\n",
       "      <td>bus</td>\n",
       "      <td>1950</td>\n",
       "      <td>unknown</td>\n",
       "      <td>0</td>\n",
       "      <td>transporter</td>\n",
       "      <td>5000</td>\n",
       "      <td>11</td>\n",
       "      <td>petrol</td>\n",
       "      <td>volkswagen</td>\n",
       "      <td>unknown</td>\n",
       "    </tr>\n",
       "    <tr>\n",
       "      <th>146199</th>\n",
       "      <td>NaN</td>\n",
       "      <td>unknown</td>\n",
       "      <td>2019</td>\n",
       "      <td>manual</td>\n",
       "      <td>1</td>\n",
       "      <td>unknown</td>\n",
       "      <td>5000</td>\n",
       "      <td>1</td>\n",
       "      <td>other</td>\n",
       "      <td>sonstige_autos</td>\n",
       "      <td>yes</td>\n",
       "    </tr>\n",
       "  </tbody>\n",
       "</table>\n",
       "</div>"
      ],
      "text/plain": [
       "        Price  VehicleType  RegistrationYear  Gearbox  Power        Model  \\\n",
       "231382    NaN      unknown              1948  unknown      0      unknown   \n",
       "117362    NaN      unknown              1980  unknown      0         300c   \n",
       "108726    NaN      unknown              1980   manual     90      unknown   \n",
       "62526     NaN          suv              1986   manual     99       pajero   \n",
       "219034    NaN      unknown              1980  unknown      0     rx_reihe   \n",
       "263924    NaN        other              1920  unknown      0      unknown   \n",
       "149355    NaN  convertible              1971   manual     75        other   \n",
       "44275     NaN        small              1987     auto     76      unknown   \n",
       "232203    NaN      unknown              2019   manual      0       twingo   \n",
       "251449    NaN        other              1970   manual      0        other   \n",
       "290232    NaN      unknown              1970  unknown      0      unknown   \n",
       "148517    NaN        coupe              2012     auto      0        other   \n",
       "281113    NaN        sedan              1955   manual      0        other   \n",
       "65861     NaN        small              1977   manual     55        other   \n",
       "180773    NaN      unknown              2017  unknown      0         niva   \n",
       "17146     NaN      unknown              1960   manual      0        other   \n",
       "264670    NaN        coupe              1987   manual     90      6_reihe   \n",
       "138082    NaN        wagon              1930   manual     99        spark   \n",
       "87484     NaN        sedan              1959     auto      0        other   \n",
       "12907     NaN        small              1954   manual     54        corsa   \n",
       "221061    NaN        other              1970     auto      0        other   \n",
       "128132    NaN      unknown              1970  unknown      0        other   \n",
       "307726    NaN        sedan              2001   manual      0      unknown   \n",
       "276542    NaN      unknown              1990  unknown     45        other   \n",
       "53685     NaN        small              1933  unknown      0      unknown   \n",
       "42327     NaN          suv              1985  unknown      0     wrangler   \n",
       "95027     NaN        other              1935   manual    100        other   \n",
       "194016    NaN          bus              1950  unknown      0  transporter   \n",
       "146199    NaN      unknown              2019   manual      1      unknown   \n",
       "\n",
       "        Kilometer  RegistrationMonth  FuelType           Brand NotRepaired  \n",
       "231382       5000                  0   unknown            opel     unknown  \n",
       "117362     150000                  0   unknown        chrysler     unknown  \n",
       "108726      70000                  0    petrol           mazda     unknown  \n",
       "62526      125000                  0   unknown      mitsubishi     unknown  \n",
       "219034       5000                  0   unknown           mazda     unknown  \n",
       "263924       5000                  1     other  sonstige_autos     unknown  \n",
       "149355     125000                  0    petrol         peugeot     unknown  \n",
       "44275       90000                 10    petrol             kia     unknown  \n",
       "232203     150000                  2    petrol         renault         yes  \n",
       "251449       5000                  0     other        daihatsu         yes  \n",
       "290232      30000                  0    petrol        chrysler     unknown  \n",
       "148517      40000                 11  gasoline         porsche          no  \n",
       "281113      70000                  8    petrol             bmw          no  \n",
       "65861      150000                  8    petrol           dacia          no  \n",
       "180773      90000                  0   unknown            lada     unknown  \n",
       "17146      150000                  3    petrol            jeep     unknown  \n",
       "264670     150000                 12    petrol           mazda          no  \n",
       "138082      20000                  6    hybrid       chevrolet          no  \n",
       "87484      125000                  7    petrol       chevrolet     unknown  \n",
       "12907      150000                  0    petrol            opel          no  \n",
       "221061       5000                  7    petrol       chevrolet          no  \n",
       "128132     100000                  0   unknown       chevrolet     unknown  \n",
       "307726     150000                  0    petrol            lada         yes  \n",
       "276542     150000                  0   unknown           rover         yes  \n",
       "53685        5000                  0    petrol            fiat     unknown  \n",
       "42327      150000                  0   unknown            jeep     unknown  \n",
       "95027       10000                  7    petrol            ford     unknown  \n",
       "194016       5000                 11    petrol      volkswagen     unknown  \n",
       "146199       5000                  1     other  sonstige_autos         yes  "
      ]
     },
     "execution_count": 25,
     "metadata": {},
     "output_type": "execute_result"
    }
   ],
   "source": [
    "train['Price'] = train['Price'].fillna(train.groupby(['RegistrationYear', 'Brand'])['Price'].transform('median'))\n",
    "\n",
    "train[train['Price'].isna()]"
   ]
  },
  {
   "cell_type": "markdown",
   "metadata": {},
   "source": [
    "Оставшиеся пропуски заполним по году регистрации машины через медиану:"
   ]
  },
  {
   "cell_type": "code",
   "execution_count": 26,
   "metadata": {},
   "outputs": [
    {
     "name": "stderr",
     "output_type": "stream",
     "text": [
      "<ipython-input-26-f9546c7ecb61>:1: SettingWithCopyWarning: \n",
      "A value is trying to be set on a copy of a slice from a DataFrame.\n",
      "Try using .loc[row_indexer,col_indexer] = value instead\n",
      "\n",
      "See the caveats in the documentation: https://pandas.pydata.org/pandas-docs/stable/user_guide/indexing.html#returning-a-view-versus-a-copy\n",
      "  train['Price'] = train['Price'].fillna(train.groupby(['RegistrationYear'])['Price'].transform('median'))\n"
     ]
    },
    {
     "data": {
      "text/html": [
       "<div>\n",
       "<style scoped>\n",
       "    .dataframe tbody tr th:only-of-type {\n",
       "        vertical-align: middle;\n",
       "    }\n",
       "\n",
       "    .dataframe tbody tr th {\n",
       "        vertical-align: top;\n",
       "    }\n",
       "\n",
       "    .dataframe thead th {\n",
       "        text-align: right;\n",
       "    }\n",
       "</style>\n",
       "<table border=\"1\" class=\"dataframe\">\n",
       "  <thead>\n",
       "    <tr style=\"text-align: right;\">\n",
       "      <th></th>\n",
       "      <th>Price</th>\n",
       "      <th>VehicleType</th>\n",
       "      <th>RegistrationYear</th>\n",
       "      <th>Gearbox</th>\n",
       "      <th>Power</th>\n",
       "      <th>Model</th>\n",
       "      <th>Kilometer</th>\n",
       "      <th>RegistrationMonth</th>\n",
       "      <th>FuelType</th>\n",
       "      <th>Brand</th>\n",
       "      <th>NotRepaired</th>\n",
       "    </tr>\n",
       "  </thead>\n",
       "  <tbody>\n",
       "    <tr>\n",
       "      <th>263924</th>\n",
       "      <td>NaN</td>\n",
       "      <td>other</td>\n",
       "      <td>1920</td>\n",
       "      <td>unknown</td>\n",
       "      <td>0</td>\n",
       "      <td>unknown</td>\n",
       "      <td>5000</td>\n",
       "      <td>1</td>\n",
       "      <td>other</td>\n",
       "      <td>sonstige_autos</td>\n",
       "      <td>unknown</td>\n",
       "    </tr>\n",
       "  </tbody>\n",
       "</table>\n",
       "</div>"
      ],
      "text/plain": [
       "        Price VehicleType  RegistrationYear  Gearbox  Power    Model  \\\n",
       "263924    NaN       other              1920  unknown      0  unknown   \n",
       "\n",
       "        Kilometer  RegistrationMonth FuelType           Brand NotRepaired  \n",
       "263924       5000                  1    other  sonstige_autos     unknown  "
      ]
     },
     "execution_count": 26,
     "metadata": {},
     "output_type": "execute_result"
    }
   ],
   "source": [
    "train['Price'] = train['Price'].fillna(train.groupby(['RegistrationYear'])['Price'].transform('median'))\n",
    "\n",
    "train[train['Price'].isna()]"
   ]
  },
  {
   "cell_type": "markdown",
   "metadata": {},
   "source": [
    "Так как оставшаяся срока - раритетная машина, где цена была указана 0 - можно строкой пренебречь."
   ]
  },
  {
   "cell_type": "code",
   "execution_count": 27,
   "metadata": {},
   "outputs": [],
   "source": [
    "train = train.dropna()"
   ]
  },
  {
   "cell_type": "markdown",
   "metadata": {},
   "source": [
    "Закодируем модель машин через TargetEncoder и будем смотреть результаты:"
   ]
  },
  {
   "cell_type": "code",
   "execution_count": 28,
   "metadata": {
    "scrolled": true
   },
   "outputs": [
    {
     "name": "stderr",
     "output_type": "stream",
     "text": [
      "<ipython-input-28-2b14ae15c0ed>:5: SettingWithCopyWarning: \n",
      "A value is trying to be set on a copy of a slice from a DataFrame.\n",
      "Try using .loc[row_indexer,col_indexer] = value instead\n",
      "\n",
      "See the caveats in the documentation: https://pandas.pydata.org/pandas-docs/stable/user_guide/indexing.html#returning-a-view-versus-a-copy\n",
      "  test['Model'] = target_en.transform(test['Model'])\n"
     ]
    }
   ],
   "source": [
    "target_en = TargetEncoder()\n",
    "\n",
    "target_en.fit(train['Model'], train['Price'])\n",
    "train['Model'] = target_en.transform(train['Model'])\n",
    "test['Model'] = target_en.transform(test['Model'])"
   ]
  },
  {
   "cell_type": "markdown",
   "metadata": {},
   "source": [
    "Объединим данные, чтобы приступить к обучению модели:"
   ]
  },
  {
   "cell_type": "code",
   "execution_count": 29,
   "metadata": {},
   "outputs": [
    {
     "name": "stdout",
     "output_type": "stream",
     "text": [
      "Размер тренировочной выборки: (260960, 64) \n",
      "Размер тестовой выборки: (65241, 64)\n"
     ]
    }
   ],
   "source": [
    "train = pd.concat([train, df_ohe.drop(train.columns.drop(cat_cols), axis=1)], \n",
    "                  join='inner', \n",
    "                  axis=1)\n",
    "test = pd.concat([test, df_ohe.drop(test.columns.drop(cat_cols), axis=1)], \n",
    "                 join='inner', \n",
    "                 axis=1)\n",
    "\n",
    "train = train.drop(cat_cols, axis=1)\n",
    "test = test.drop(cat_cols, axis=1)\n",
    "\n",
    "print('Размер тренировочной выборки:', train.shape,\n",
    "      '\\nРазмер тестовой выборки:', test.shape)"
   ]
  },
  {
   "cell_type": "markdown",
   "metadata": {},
   "source": [
    "Применим стандартизацию:"
   ]
  },
  {
   "cell_type": "code",
   "execution_count": 30,
   "metadata": {},
   "outputs": [],
   "source": [
    "train_features = train.drop('Price', axis=1)\n",
    "train_target = train['Price']\n",
    "\n",
    "test_features = test.drop('Price', axis=1)\n",
    "test_target = test['Price']\n",
    "\n",
    "num_cols = ['Kilometer', 'Power', 'RegistrationYear', 'RegistrationMonth', 'Model']\n",
    "scaler = StandardScaler()\n",
    "scaler.fit(train_features[num_cols]) \n",
    "\n",
    "train_features[num_cols] = scaler.transform(train_features[num_cols])\n",
    "test_features[num_cols] = scaler.transform(test_features[num_cols])"
   ]
  },
  {
   "cell_type": "markdown",
   "metadata": {},
   "source": [
    "## Обучение моделей"
   ]
  },
  {
   "cell_type": "markdown",
   "metadata": {},
   "source": [
    "Обучите разные модели. Для каждой попробуйте различные гиперпараметры.\n",
    "\n",
    "Воспользуемся несколькими библиотеками и моделями машинного обучения:\n",
    "\n",
    "1. Линейная регрессия\n",
    "2. Дерево решений\n",
    "3. Случайный лес \n",
    "4. Градиентный бустинг\n",
    "\n",
    "Такими библиотеками, как:\n",
    "\n",
    "* `sklearn`\n",
    "* `XGBoost`\n",
    "* `LightGBM`\n",
    "* `CatBoost`"
   ]
  },
  {
   "cell_type": "markdown",
   "metadata": {},
   "source": [
    "### Линейная регрессия"
   ]
  },
  {
   "cell_type": "markdown",
   "metadata": {},
   "source": [
    "Делим выборки:"
   ]
  },
  {
   "cell_type": "code",
   "execution_count": 34,
   "metadata": {},
   "outputs": [],
   "source": [
    "train_features, valid_features, train_target, valid_target = train_test_split(train_features, \n",
    "                                                                              train_target,\n",
    "                                                                              test_size=0.25,\n",
    "                                                                              random_state=12345)"
   ]
  },
  {
   "cell_type": "markdown",
   "metadata": {},
   "source": [
    "Приступим к обучению модели:"
   ]
  },
  {
   "cell_type": "code",
   "execution_count": 35,
   "metadata": {},
   "outputs": [
    {
     "name": "stdout",
     "output_type": "stream",
     "text": [
      "Время обучения модели: 0.20 секунд \n",
      "RMSE на валидационной выборке: 2819.27834930842\n"
     ]
    }
   ],
   "source": [
    "lnr = LinearRegression()\n",
    "\n",
    "start = time()\n",
    "lnr.fit(train_features, train_target)\n",
    "predicted = lnr.predict(valid_features)\n",
    "lnr_time_fit = time() - start\n",
    "\n",
    "print('Время обучения модели: {:0.2f} секунд'.format(lnr_time_fit),\n",
    "      '\\nRMSE на валидационной выборке:', mean_squared_error(valid_target, predicted, squared=False))"
   ]
  },
  {
   "cell_type": "markdown",
   "metadata": {},
   "source": [
    "**Вывод:**\n",
    "\n",
    "После обработки данных, метрика качества на RMSE на валидационной выборке: `2820.20`. \n",
    "\n",
    "Время предсказания модели: `0.19` секунд. \n",
    "\n",
    "Сравним деревянные модели и сделаем вывод"
   ]
  },
  {
   "cell_type": "markdown",
   "metadata": {},
   "source": [
    "Удалим заранее переменные, которые нам больше не понадобятся:"
   ]
  },
  {
   "cell_type": "code",
   "execution_count": 37,
   "metadata": {},
   "outputs": [],
   "source": [
    "del df_ohe"
   ]
  },
  {
   "cell_type": "markdown",
   "metadata": {},
   "source": [
    "Для использования RandomizedSearchCV - объединим назад наши выборки."
   ]
  },
  {
   "cell_type": "code",
   "execution_count": 38,
   "metadata": {},
   "outputs": [],
   "source": [
    "train_features = pd.concat([train_features, valid_features])\n",
    "train_target = pd.concat([train_target, valid_target])"
   ]
  },
  {
   "cell_type": "markdown",
   "metadata": {},
   "source": [
    "### Деревянные модели"
   ]
  },
  {
   "cell_type": "markdown",
   "metadata": {},
   "source": [
    "Для подбора параметров деревянных моделей будем использовать `RandomizedSearchSV`, чтобы ускорить вычисления.\n",
    "\n",
    "Создадим функцию, которая обучит и вернет модель и метрику:"
   ]
  },
  {
   "cell_type": "code",
   "execution_count": 42,
   "metadata": {},
   "outputs": [],
   "source": [
    "analisys = pd.DataFrame({'model':[], 'RMSE':[], 'time_to_predict':[]})\n",
    "all_models = []\n",
    "\n",
    "def train_model(model, parameters):\n",
    "    \n",
    "    model_random = RandomizedSearchCV(estimator=model,\n",
    "                                      param_distributions=parameters, # используем параметры\n",
    "                                      n_iter=100, \n",
    "                                      scoring='neg_mean_absolute_error', # используем необходимую метрику\n",
    "                                      cv=3, \n",
    "                                      verbose=1, \n",
    "                                      random_state=12345)\n",
    "    \n",
    "    # посмотрим время обучения \n",
    "    start = time()\n",
    "    model_random.fit(train_features, train_target)\n",
    "    print('RandomizedSearchCV подбирал параметры %.2f секунд' %(time() - start))\n",
    "    \n",
    "    start = time()\n",
    "    model_random.predict(train_features)\n",
    "    time_to_predict = time() - start\n",
    "    print('Модель предсказывает за %.2f секунд' %time_to_predict)\n",
    "    \n",
    "    # высчитаем метрики\n",
    "    rmse = model_random.best_score_ * -1 ** 0.5\n",
    "    \n",
    "    print('Лучшие параметры:', model_random.best_params_)\n",
    "    print('RMSE обученной модели:', rmse)\n",
    "    \n",
    "    # заполним все таблицы    \n",
    "    all_models.append(model_random)\n",
    "    row = []\n",
    "    row.extend([model, rmse, time_to_predict])\n",
    "    analisys.loc[len(analisys.index)] = row\n",
    "    \n",
    "    return model_random, rmse"
   ]
  },
  {
   "cell_type": "markdown",
   "metadata": {},
   "source": [
    "**Дерево решений:**"
   ]
  },
  {
   "cell_type": "code",
   "execution_count": 43,
   "metadata": {
    "scrolled": true
   },
   "outputs": [
    {
     "name": "stdout",
     "output_type": "stream",
     "text": [
      "Fitting 3 folds for each of 11 candidates, totalling 33 fits\n"
     ]
    },
    {
     "name": "stderr",
     "output_type": "stream",
     "text": [
      "D:\\programms\\anaconda\\lib\\site-packages\\sklearn\\model_selection\\_search.py:285: UserWarning: The total space of parameters 11 is smaller than n_iter=100. Running 11 iterations. For exhaustive searches, use GridSearchCV.\n",
      "  warnings.warn(\n"
     ]
    },
    {
     "name": "stdout",
     "output_type": "stream",
     "text": [
      "RandomizedSearchCV подбирал параметры 49.07 секунд\n",
      "Модель предсказывает за 0.09 секунд\n",
      "Лучшие параметры: {'max_depth': 15}\n",
      "RMSE обученной модели: 1185.2465250325863\n"
     ]
    }
   ],
   "source": [
    "# зададим рандомные параметры\n",
    "\n",
    "ran_grid_tree = {\"max_depth\": list(range(15, 26))}\n",
    "\n",
    "dtr = DecisionTreeRegressor()\n",
    "\n",
    "dtr_random, rmse_dtr = train_model(dtr, ran_grid_tree) # обучим и сохраним значения"
   ]
  },
  {
   "cell_type": "markdown",
   "metadata": {},
   "source": [
    "**Случайный лес:**"
   ]
  },
  {
   "cell_type": "code",
   "execution_count": 44,
   "metadata": {
    "scrolled": true
   },
   "outputs": [
    {
     "name": "stdout",
     "output_type": "stream",
     "text": [
      "Fitting 3 folds for each of 9 candidates, totalling 27 fits\n"
     ]
    },
    {
     "name": "stderr",
     "output_type": "stream",
     "text": [
      "D:\\programms\\anaconda\\lib\\site-packages\\sklearn\\model_selection\\_search.py:285: UserWarning: The total space of parameters 9 is smaller than n_iter=100. Running 9 iterations. For exhaustive searches, use GridSearchCV.\n",
      "  warnings.warn(\n"
     ]
    },
    {
     "name": "stdout",
     "output_type": "stream",
     "text": [
      "RandomizedSearchCV подбирал параметры 849.55 секунд\n",
      "Модель предсказывает за 0.90 секунд\n",
      "Лучшие параметры: {'n_estimators': 300, 'max_depth': 13}\n",
      "RMSE обученной модели: 1104.6641722025122\n"
     ]
    }
   ],
   "source": [
    "# зададим рандомные параметры\n",
    "\n",
    "ran_grid_forest = {\n",
    "    'max_depth': [11, 12, 13],\n",
    "    'n_estimators': [100, 200, 300]\n",
    "}\n",
    "\n",
    "rfr = RandomForestRegressor(n_jobs=-1)\n",
    "\n",
    "rfr_random, rmse_rfr = train_model(rfr, ran_grid_forest) # обучим и сохраним значения"
   ]
  },
  {
   "cell_type": "markdown",
   "metadata": {},
   "source": [
    "**LightGBM:**"
   ]
  },
  {
   "cell_type": "code",
   "execution_count": 45,
   "metadata": {},
   "outputs": [
    {
     "name": "stdout",
     "output_type": "stream",
     "text": [
      "Fitting 3 folds for each of 15 candidates, totalling 45 fits\n"
     ]
    },
    {
     "name": "stderr",
     "output_type": "stream",
     "text": [
      "D:\\programms\\anaconda\\lib\\site-packages\\sklearn\\model_selection\\_search.py:285: UserWarning: The total space of parameters 15 is smaller than n_iter=100. Running 15 iterations. For exhaustive searches, use GridSearchCV.\n",
      "  warnings.warn(\n"
     ]
    },
    {
     "name": "stdout",
     "output_type": "stream",
     "text": [
      "RandomizedSearchCV подбирал параметры 28.12 секунд\n",
      "Модель предсказывает за 0.27 секунд\n",
      "Лучшие параметры: {'max_depth': 15, 'learning_rate': 0.15}\n",
      "RMSE обученной модели: 1065.9356744333493\n"
     ]
    }
   ],
   "source": [
    "rand_lgbm_param = {\n",
    "    'max_depth': [5, 10, 15, 25, 35],\n",
    "    'learning_rate': [0.01, 0.1, 0.15]\n",
    "}\n",
    "\n",
    "gbm = lgb.LGBMRegressor(boosting_type='gbdt',\n",
    "                         objective = 'regression',\n",
    "                         metric = 'RMSE')\n",
    "\n",
    "gbm_random, rmse_gbm = train_model(gbm, rand_lgbm_param)"
   ]
  },
  {
   "cell_type": "markdown",
   "metadata": {},
   "source": [
    "**XGBoost:**"
   ]
  },
  {
   "cell_type": "code",
   "execution_count": 46,
   "metadata": {
    "scrolled": true
   },
   "outputs": [
    {
     "name": "stdout",
     "output_type": "stream",
     "text": [
      "Fitting 3 folds for each of 12 candidates, totalling 36 fits\n"
     ]
    },
    {
     "name": "stderr",
     "output_type": "stream",
     "text": [
      "D:\\programms\\anaconda\\lib\\site-packages\\sklearn\\model_selection\\_search.py:285: UserWarning: The total space of parameters 12 is smaller than n_iter=100. Running 12 iterations. For exhaustive searches, use GridSearchCV.\n",
      "  warnings.warn(\n"
     ]
    },
    {
     "name": "stdout",
     "output_type": "stream",
     "text": [
      "RandomizedSearchCV подбирал параметры 534.14 секунд\n",
      "Модель предсказывает за 0.33 секунд\n",
      "Лучшие параметры: {'max_depth': 13, 'learning_rate': 0.1}\n",
      "RMSE обученной модели: 992.0349537206195\n"
     ]
    }
   ],
   "source": [
    "rand_xgb_param = {\n",
    "    'max_depth': [12, 13, 14, 15],\n",
    "    'learning_rate': [0.1, 0.15, 0.3]\n",
    "}\n",
    "\n",
    "xb = xgb.XGBRegressor(booster='gbtree', \n",
    "                      eval_metric='rmse', \n",
    "                      use_rmm=True)\n",
    "\n",
    "xb_random, rmse_xb = train_model(xb, rand_xgb_param)"
   ]
  },
  {
   "cell_type": "markdown",
   "metadata": {},
   "source": [
    "**CatBoost:**"
   ]
  },
  {
   "cell_type": "code",
   "execution_count": 47,
   "metadata": {},
   "outputs": [
    {
     "name": "stdout",
     "output_type": "stream",
     "text": [
      "Fitting 3 folds for each of 12 candidates, totalling 36 fits\n"
     ]
    },
    {
     "name": "stderr",
     "output_type": "stream",
     "text": [
      "D:\\programms\\anaconda\\lib\\site-packages\\sklearn\\model_selection\\_search.py:285: UserWarning: The total space of parameters 12 is smaller than n_iter=100. Running 12 iterations. For exhaustive searches, use GridSearchCV.\n",
      "  warnings.warn(\n"
     ]
    },
    {
     "name": "stdout",
     "output_type": "stream",
     "text": [
      "RandomizedSearchCV подбирал параметры 235.71 секунд\n",
      "Модель предсказывает за 0.40 секунд\n",
      "Лучшие параметры: {'max_depth': 11, 'learning_rate': 0.1}\n",
      "RMSE обученной модели: 996.8782388917692\n"
     ]
    }
   ],
   "source": [
    "rand_cat_param = {\n",
    "    'max_depth': [8, 9, 10, 11],\n",
    "    'learning_rate': [0.01, 0.1, 0.2]\n",
    "}\n",
    "\n",
    "cat = CatBoostRegressor(verbose=False, \n",
    "                        task_type='GPU') # у меня мощная видеокарта и она с ней обучалась куда быстрее\n",
    "\n",
    "cat_random, rmse_cat = train_model(cat, rand_cat_param)"
   ]
  },
  {
   "cell_type": "markdown",
   "metadata": {},
   "source": [
    "### Выводы"
   ]
  },
  {
   "cell_type": "markdown",
   "metadata": {},
   "source": [
    "Создадим списки для заполнения нашей итоговой таблицы и рассмотрим полученные метрики:"
   ]
  },
  {
   "cell_type": "code",
   "execution_count": 48,
   "metadata": {},
   "outputs": [
    {
     "data": {
      "text/html": [
       "<div>\n",
       "<style scoped>\n",
       "    .dataframe tbody tr th:only-of-type {\n",
       "        vertical-align: middle;\n",
       "    }\n",
       "\n",
       "    .dataframe tbody tr th {\n",
       "        vertical-align: top;\n",
       "    }\n",
       "\n",
       "    .dataframe thead th {\n",
       "        text-align: right;\n",
       "    }\n",
       "</style>\n",
       "<table border=\"1\" class=\"dataframe\">\n",
       "  <thead>\n",
       "    <tr style=\"text-align: right;\">\n",
       "      <th></th>\n",
       "      <th>model</th>\n",
       "      <th>RMSE</th>\n",
       "      <th>time_to_predict</th>\n",
       "      <th>names</th>\n",
       "    </tr>\n",
       "  </thead>\n",
       "  <tbody>\n",
       "    <tr>\n",
       "      <th>0</th>\n",
       "      <td>DecisionTreeRegressor()</td>\n",
       "      <td>1185.246525</td>\n",
       "      <td>0.085019</td>\n",
       "      <td>DecisionTree</td>\n",
       "    </tr>\n",
       "    <tr>\n",
       "      <th>1</th>\n",
       "      <td>RandomForestRegressor(n_jobs=-1)</td>\n",
       "      <td>1104.664172</td>\n",
       "      <td>0.899385</td>\n",
       "      <td>RandomForest</td>\n",
       "    </tr>\n",
       "    <tr>\n",
       "      <th>2</th>\n",
       "      <td>LGBMRegressor(metric='RMSE', objective='regres...</td>\n",
       "      <td>1065.935674</td>\n",
       "      <td>0.265113</td>\n",
       "      <td>LightGBM</td>\n",
       "    </tr>\n",
       "    <tr>\n",
       "      <th>3</th>\n",
       "      <td>XGBRegressor(base_score=None, booster='gbtree'...</td>\n",
       "      <td>992.034954</td>\n",
       "      <td>0.328140</td>\n",
       "      <td>XGBoost</td>\n",
       "    </tr>\n",
       "    <tr>\n",
       "      <th>4</th>\n",
       "      <td>&lt;catboost.core.CatBoostRegressor object at 0x0...</td>\n",
       "      <td>996.878239</td>\n",
       "      <td>0.400172</td>\n",
       "      <td>CatBoost</td>\n",
       "    </tr>\n",
       "  </tbody>\n",
       "</table>\n",
       "</div>"
      ],
      "text/plain": [
       "                                               model         RMSE  \\\n",
       "0                            DecisionTreeRegressor()  1185.246525   \n",
       "1                   RandomForestRegressor(n_jobs=-1)  1104.664172   \n",
       "2  LGBMRegressor(metric='RMSE', objective='regres...  1065.935674   \n",
       "3  XGBRegressor(base_score=None, booster='gbtree'...   992.034954   \n",
       "4  <catboost.core.CatBoostRegressor object at 0x0...   996.878239   \n",
       "\n",
       "   time_to_predict         names  \n",
       "0         0.085019  DecisionTree  \n",
       "1         0.899385  RandomForest  \n",
       "2         0.265113      LightGBM  \n",
       "3         0.328140       XGBoost  \n",
       "4         0.400172      CatBoost  "
      ]
     },
     "metadata": {},
     "output_type": "display_data"
    },
    {
     "data": {
      "image/png": "[encoded data removed]",
      "text/plain": [
       "<Figure size 1080x504 with 1 Axes>"
      ]
     },
     "metadata": {
      "needs_background": "light"
     },
     "output_type": "display_data"
    },
    {
     "data": {
      "image/png": "[encoded data removed]",
      "text/plain": [
       "<Figure size 1080x504 with 1 Axes>"
      ]
     },
     "metadata": {
      "needs_background": "light"
     },
     "output_type": "display_data"
    }
   ],
   "source": [
    "all_names = pd.DataFrame({'names':['DecisionTree', 'RandomForest', 'LightGBM', 'XGBoost', 'CatBoost']})\n",
    "analisys = pd.concat([analisys, all_names], axis=1, join='inner')\n",
    "display(analisys)\n",
    "\n",
    "analisys.plot.bar(y='RMSE', x='names', rot=45, figsize=(15,7), color='orange')\n",
    "plt.title('Сравнение метрик моделей', fontsize='x-large')\n",
    "plt.xlabel('Модель')\n",
    "plt.show()\n",
    "\n",
    "analisys.sort_values(by='time_to_predict', ascending=False)\\\n",
    ".plot.bar(y='time_to_predict', x='names', rot=45, figsize=(15,7), color='green')\n",
    "plt.title('Сравнение скорости предсказания моделей', fontsize='x-large')\n",
    "plt.xlabel('Модель')\n",
    "plt.show()"
   ]
  },
  {
   "cell_type": "markdown",
   "metadata": {},
   "source": [
    "Из полученных моделей выявлено:\n",
    "\n",
    "* Быстрее всех среди деревянных моделей с рандомными параметрами обучается LightGBM. Самая худшая модель среди всех - линейная регрессия.\n",
    "* Самые лучшие метрики у CatBoost и XGBoost. Они отличаются незначительно. Но и скорость обучения самая долгая. \n",
    "* Самые оптимальные показатели времени предсказания/качества модели - XGBoost.\n",
    "\n",
    "Стоит выделить именно обученную модель XGBoost и использовать ее."
   ]
  },
  {
   "cell_type": "markdown",
   "metadata": {},
   "source": [
    "## Анализ моделей"
   ]
  },
  {
   "cell_type": "markdown",
   "metadata": {},
   "source": [
    "Рассмотрим скорость обучения на итоговой модели и метрики:"
   ]
  },
  {
   "cell_type": "code",
   "execution_count": 50,
   "metadata": {},
   "outputs": [
    {
     "name": "stdout",
     "output_type": "stream",
     "text": [
      "Модель предсказывает не тестовой выборке за 0.11 секунд\n",
      "Итоговый RMSE на тестовой выборке: 1723.2378462982376\n"
     ]
    }
   ],
   "source": [
    "start = time()\n",
    "predicted = xb_random.predict(test_features)\n",
    "print('Модель предсказывает не тестовой выборке за %.2f секунд' %(time() - start))\n",
    "\n",
    "rmse_on_test = mean_squared_error(test_target, predicted, squared=False)\n",
    "print('Итоговый RMSE на тестовой выборке:', rmse_on_test)"
   ]
  },
  {
   "cell_type": "markdown",
   "metadata": {},
   "source": [
    "## Вывод"
   ]
  },
  {
   "cell_type": "markdown",
   "metadata": {},
   "source": [
    "В целом, все модели предсказывают довольно быстро - меньше секунды, но все же для заказчика важна скорость предсказания и метрика, потому лучшая модель - XGBoost с параметрами: `max_depth`: `13`, `learning_rate`: `0.1`."
   ]
  },
  {
   "cell_type": "markdown",
   "metadata": {},
   "source": [
    "## Чек-лист проверки"
   ]
  },
  {
   "cell_type": "markdown",
   "metadata": {},
   "source": [
    "Поставьте 'x' в выполненных пунктах. Далее нажмите Shift+Enter."
   ]
  },
  {
   "cell_type": "markdown",
   "metadata": {},
   "source": [
    "- [x]  Jupyter Notebook открыт\n",
    "- [x]  Весь код выполняется без ошибок\n",
    "- [x]  Ячейки с кодом расположены в порядке исполнения\n",
    "- [x]  Выполнена загрузка и подготовка данных\n",
    "- [x]  Выполнено обучение моделей\n",
    "- [x]  Есть анализ скорости работы и качества моделей"
   ]
  }
 ],
 "metadata": {
  "ExecuteTimeLog": [
   {
    "duration": 4039,
    "start_time": "2022-04-28T08:56:36.028Z"
   },
   {
    "duration": 898,
    "start_time": "2022-04-28T08:56:40.069Z"
   },
   {
    "duration": 274,
    "start_time": "2022-04-28T08:57:14.010Z"
   },
   {
    "duration": 123,
    "start_time": "2022-04-28T08:57:36.320Z"
   },
   {
    "duration": 5547,
    "start_time": "2022-04-28T08:57:56.733Z"
   },
   {
    "duration": 65,
    "start_time": "2022-04-28T08:59:11.391Z"
   },
   {
    "duration": 280,
    "start_time": "2022-04-28T08:59:38.109Z"
   },
   {
    "duration": 253,
    "start_time": "2022-04-28T08:59:44.669Z"
   },
   {
    "duration": 260,
    "start_time": "2022-04-28T09:00:06.460Z"
   },
   {
    "duration": 321,
    "start_time": "2022-04-28T09:00:17.050Z"
   },
   {
    "duration": 1686,
    "start_time": "2022-04-28T09:00:31.724Z"
   },
   {
    "duration": 156502,
    "start_time": "2022-04-28T09:02:33.109Z"
   },
   {
    "duration": 11,
    "start_time": "2022-04-28T09:32:07.197Z"
   },
   {
    "duration": 12,
    "start_time": "2022-04-28T09:32:10.478Z"
   },
   {
    "duration": 151,
    "start_time": "2022-04-28T09:32:17.175Z"
   },
   {
    "duration": 5,
    "start_time": "2022-04-28T09:39:02.376Z"
   },
   {
    "duration": 13,
    "start_time": "2022-04-28T09:39:31.459Z"
   },
   {
    "duration": 4,
    "start_time": "2022-04-28T09:39:36.952Z"
   },
   {
    "duration": 3,
    "start_time": "2022-04-28T09:43:21.905Z"
   },
   {
    "duration": 252,
    "start_time": "2022-04-28T09:46:02.124Z"
   },
   {
    "duration": 98,
    "start_time": "2022-04-28T09:46:07.950Z"
   },
   {
    "duration": 3830,
    "start_time": "2022-04-28T09:48:17.794Z"
   },
   {
    "duration": 7,
    "start_time": "2022-04-28T09:49:01.841Z"
   },
   {
    "duration": 8,
    "start_time": "2022-04-28T09:49:33.537Z"
   },
   {
    "duration": 9,
    "start_time": "2022-04-28T09:49:45.200Z"
   },
   {
    "duration": 33,
    "start_time": "2022-04-28T09:50:30.175Z"
   },
   {
    "duration": 247,
    "start_time": "2022-04-28T09:50:32.694Z"
   },
   {
    "duration": 5,
    "start_time": "2022-04-28T09:54:52.767Z"
   },
   {
    "duration": 4024,
    "start_time": "2022-04-28T09:55:02.909Z"
   },
   {
    "duration": 5,
    "start_time": "2022-04-28T09:55:23.391Z"
   },
   {
    "duration": 9,
    "start_time": "2022-04-28T09:57:56.528Z"
   },
   {
    "duration": 521,
    "start_time": "2022-04-28T09:58:31.377Z"
   },
   {
    "duration": 12,
    "start_time": "2022-04-28T09:58:35.833Z"
   },
   {
    "duration": 11,
    "start_time": "2022-04-28T09:58:47.929Z"
   },
   {
    "duration": 7,
    "start_time": "2022-04-28T10:00:02.271Z"
   },
   {
    "duration": 7,
    "start_time": "2022-04-28T10:00:12.534Z"
   },
   {
    "duration": 7,
    "start_time": "2022-04-28T10:00:16.110Z"
   },
   {
    "duration": 8,
    "start_time": "2022-04-28T10:00:18.214Z"
   },
   {
    "duration": 7,
    "start_time": "2022-04-28T10:00:19.622Z"
   },
   {
    "duration": 7,
    "start_time": "2022-04-28T10:00:26.453Z"
   },
   {
    "duration": 7,
    "start_time": "2022-04-28T10:00:30.221Z"
   },
   {
    "duration": 1097,
    "start_time": "2022-04-28T10:01:10.285Z"
   },
   {
    "duration": 1190,
    "start_time": "2022-04-28T10:06:25.211Z"
   },
   {
    "duration": 1511,
    "start_time": "2022-04-28T10:06:34.819Z"
   },
   {
    "duration": 2726,
    "start_time": "2022-04-28T10:08:05.785Z"
   },
   {
    "duration": 4129,
    "start_time": "2022-04-28T10:13:46.654Z"
   },
   {
    "duration": 3779,
    "start_time": "2022-04-28T10:13:58.591Z"
   },
   {
    "duration": 3898,
    "start_time": "2022-04-28T10:14:21.734Z"
   },
   {
    "duration": 7523,
    "start_time": "2022-04-28T10:16:00.115Z"
   },
   {
    "duration": 101,
    "start_time": "2022-04-28T10:24:17.267Z"
   },
   {
    "duration": 243,
    "start_time": "2022-04-28T10:24:29.150Z"
   },
   {
    "duration": 243,
    "start_time": "2022-04-28T10:24:33.461Z"
   },
   {
    "duration": 511,
    "start_time": "2022-04-28T10:25:13.180Z"
   },
   {
    "duration": 533,
    "start_time": "2022-04-28T10:25:20.380Z"
   },
   {
    "duration": 206,
    "start_time": "2022-04-28T10:27:40.544Z"
   },
   {
    "duration": 89,
    "start_time": "2022-04-28T10:27:55.984Z"
   },
   {
    "duration": 85,
    "start_time": "2022-04-28T10:30:33.699Z"
   },
   {
    "duration": 9,
    "start_time": "2022-04-28T10:30:51.611Z"
   },
   {
    "duration": 88,
    "start_time": "2022-04-28T10:30:59.698Z"
   },
   {
    "duration": 88,
    "start_time": "2022-04-28T10:31:21.610Z"
   },
   {
    "duration": 8,
    "start_time": "2022-04-28T10:31:28.203Z"
   },
   {
    "duration": 94,
    "start_time": "2022-04-28T10:32:24.303Z"
   },
   {
    "duration": 82,
    "start_time": "2022-04-28T10:32:29.126Z"
   },
   {
    "duration": 254,
    "start_time": "2022-04-28T10:38:51.347Z"
   },
   {
    "duration": 260,
    "start_time": "2022-04-28T10:56:49.438Z"
   },
   {
    "duration": 101,
    "start_time": "2022-04-28T10:58:14.621Z"
   },
   {
    "duration": 93,
    "start_time": "2022-04-28T10:58:25.020Z"
   },
   {
    "duration": 96,
    "start_time": "2022-04-28T10:58:48.260Z"
   },
   {
    "duration": 91,
    "start_time": "2022-04-28T10:59:06.219Z"
   },
   {
    "duration": 95,
    "start_time": "2022-04-28T10:59:11.515Z"
   },
   {
    "duration": 192,
    "start_time": "2022-04-28T10:59:27.738Z"
   },
   {
    "duration": 191,
    "start_time": "2022-04-28T10:59:31.746Z"
   },
   {
    "duration": 370,
    "start_time": "2022-04-28T10:59:33.698Z"
   },
   {
    "duration": 307,
    "start_time": "2022-04-28T10:59:39.809Z"
   },
   {
    "duration": 100,
    "start_time": "2022-04-28T11:00:05.425Z"
   },
   {
    "duration": 280,
    "start_time": "2022-04-28T11:00:13.634Z"
   },
   {
    "duration": 308,
    "start_time": "2022-04-28T11:00:44.752Z"
   },
   {
    "duration": 350,
    "start_time": "2022-04-28T11:01:01.672Z"
   },
   {
    "duration": 288,
    "start_time": "2022-04-28T11:01:06.199Z"
   },
   {
    "duration": 318,
    "start_time": "2022-04-28T11:01:16.512Z"
   },
   {
    "duration": 316,
    "start_time": "2022-04-28T11:02:18.576Z"
   },
   {
    "duration": 297,
    "start_time": "2022-04-28T11:02:27.821Z"
   },
   {
    "duration": 402,
    "start_time": "2022-04-28T11:02:42.997Z"
   },
   {
    "duration": 409,
    "start_time": "2022-04-28T11:02:55.533Z"
   },
   {
    "duration": 309,
    "start_time": "2022-04-28T11:03:13.492Z"
   },
   {
    "duration": 321,
    "start_time": "2022-04-28T11:03:25.404Z"
   },
   {
    "duration": 342,
    "start_time": "2022-04-28T11:05:49.183Z"
   },
   {
    "duration": 308,
    "start_time": "2022-04-28T11:05:55.327Z"
   },
   {
    "duration": 181,
    "start_time": "2022-04-28T11:08:24.459Z"
   },
   {
    "duration": 236,
    "start_time": "2022-04-28T11:08:32.090Z"
   },
   {
    "duration": 207,
    "start_time": "2022-04-28T11:09:14.127Z"
   },
   {
    "duration": 299,
    "start_time": "2022-04-28T11:09:17.402Z"
   },
   {
    "duration": 183,
    "start_time": "2022-04-28T11:09:23.354Z"
   },
   {
    "duration": 194,
    "start_time": "2022-04-28T11:10:36.759Z"
   },
   {
    "duration": 200,
    "start_time": "2022-04-28T11:10:42.151Z"
   },
   {
    "duration": 207,
    "start_time": "2022-04-28T11:10:49.296Z"
   },
   {
    "duration": 317,
    "start_time": "2022-04-28T11:11:10.343Z"
   },
   {
    "duration": 210,
    "start_time": "2022-04-28T11:11:23.926Z"
   },
   {
    "duration": 233,
    "start_time": "2022-04-28T11:12:05.397Z"
   },
   {
    "duration": 227,
    "start_time": "2022-04-28T11:12:18.484Z"
   },
   {
    "duration": 315,
    "start_time": "2022-04-28T11:12:24.317Z"
   },
   {
    "duration": 11,
    "start_time": "2022-04-28T11:18:09.717Z"
   },
   {
    "duration": 13,
    "start_time": "2022-04-28T11:18:15.387Z"
   },
   {
    "duration": 2076,
    "start_time": "2022-04-28T11:18:34.922Z"
   },
   {
    "duration": 10,
    "start_time": "2022-04-28T11:18:53.290Z"
   },
   {
    "duration": 90,
    "start_time": "2022-04-28T11:20:58.112Z"
   },
   {
    "duration": 75,
    "start_time": "2022-04-28T11:21:26.846Z"
   },
   {
    "duration": 83,
    "start_time": "2022-04-28T11:21:39.534Z"
   },
   {
    "duration": 44,
    "start_time": "2022-04-28T11:21:53.964Z"
   },
   {
    "duration": 126,
    "start_time": "2022-04-28T11:22:09.236Z"
   },
   {
    "duration": 120,
    "start_time": "2022-04-28T11:22:36.538Z"
   },
   {
    "duration": 123,
    "start_time": "2022-04-28T11:23:38.074Z"
   },
   {
    "duration": 301,
    "start_time": "2022-04-28T11:24:35.368Z"
   },
   {
    "duration": 371,
    "start_time": "2022-04-28T11:24:49.625Z"
   },
   {
    "duration": 11,
    "start_time": "2022-04-28T11:25:10.688Z"
   },
   {
    "duration": 14,
    "start_time": "2022-04-28T11:25:12.959Z"
   },
   {
    "duration": 926,
    "start_time": "2022-04-28T11:27:35.355Z"
   },
   {
    "duration": 27,
    "start_time": "2022-04-28T11:27:56.533Z"
   },
   {
    "duration": 15,
    "start_time": "2022-04-28T11:28:20.626Z"
   },
   {
    "duration": 12,
    "start_time": "2022-04-28T11:28:31.713Z"
   },
   {
    "duration": 968,
    "start_time": "2022-04-28T11:28:44.746Z"
   },
   {
    "duration": 939,
    "start_time": "2022-04-28T11:29:00.275Z"
   },
   {
    "duration": 988,
    "start_time": "2022-04-28T11:29:16.089Z"
   },
   {
    "duration": 27,
    "start_time": "2022-04-28T11:32:13.291Z"
   },
   {
    "duration": 19,
    "start_time": "2022-04-28T11:32:17.691Z"
   },
   {
    "duration": 18,
    "start_time": "2022-04-28T11:32:51.202Z"
   },
   {
    "duration": 25,
    "start_time": "2022-04-28T11:32:54.906Z"
   },
   {
    "duration": 8,
    "start_time": "2022-04-28T11:32:59.338Z"
   },
   {
    "duration": 14,
    "start_time": "2022-04-28T11:33:07.313Z"
   },
   {
    "duration": 503,
    "start_time": "2022-04-28T11:33:11.641Z"
   },
   {
    "duration": 564,
    "start_time": "2022-04-28T11:33:17.826Z"
   },
   {
    "duration": 5,
    "start_time": "2022-04-28T11:33:30.545Z"
   },
   {
    "duration": 60,
    "start_time": "2022-04-28T11:33:34.713Z"
   },
   {
    "duration": 509,
    "start_time": "2022-04-28T11:33:39.209Z"
   },
   {
    "duration": 10,
    "start_time": "2022-04-28T11:33:47.321Z"
   },
   {
    "duration": 161,
    "start_time": "2022-04-28T11:33:49.904Z"
   },
   {
    "duration": 12,
    "start_time": "2022-04-28T11:33:59.752Z"
   },
   {
    "duration": 516,
    "start_time": "2022-04-28T11:34:03.400Z"
   },
   {
    "duration": 5,
    "start_time": "2022-04-28T11:34:12.984Z"
   },
   {
    "duration": 573,
    "start_time": "2022-04-28T11:34:18.983Z"
   },
   {
    "duration": 1309,
    "start_time": "2022-04-28T11:35:01.711Z"
   },
   {
    "duration": 515,
    "start_time": "2022-04-28T11:35:13.134Z"
   },
   {
    "duration": 486,
    "start_time": "2022-04-28T11:35:18.630Z"
   },
   {
    "duration": 545,
    "start_time": "2022-04-28T11:35:23.325Z"
   },
   {
    "duration": 60,
    "start_time": "2022-04-28T11:35:39.358Z"
   },
   {
    "duration": 45,
    "start_time": "2022-04-28T11:36:34.549Z"
   },
   {
    "duration": 473,
    "start_time": "2022-04-28T11:36:40.779Z"
   },
   {
    "duration": 83,
    "start_time": "2022-04-28T11:36:46.947Z"
   },
   {
    "duration": 6,
    "start_time": "2022-04-28T11:37:10.019Z"
   },
   {
    "duration": 90,
    "start_time": "2022-04-28T11:37:12.491Z"
   },
   {
    "duration": 84,
    "start_time": "2022-04-28T11:38:23.057Z"
   },
   {
    "duration": 171,
    "start_time": "2022-04-28T11:39:55.999Z"
   },
   {
    "duration": 111,
    "start_time": "2022-04-28T11:40:03.471Z"
   },
   {
    "duration": 164,
    "start_time": "2022-04-28T11:40:11.286Z"
   },
   {
    "duration": 119,
    "start_time": "2022-04-28T11:40:15.814Z"
   },
   {
    "duration": 100,
    "start_time": "2022-04-28T11:40:38.381Z"
   },
   {
    "duration": 99,
    "start_time": "2022-04-28T11:40:52.900Z"
   },
   {
    "duration": 39,
    "start_time": "2022-04-28T11:41:32.086Z"
   },
   {
    "duration": 22,
    "start_time": "2022-04-28T11:41:41.732Z"
   },
   {
    "duration": 128,
    "start_time": "2022-04-28T11:42:21.588Z"
   },
   {
    "duration": 111,
    "start_time": "2022-04-28T11:42:26.250Z"
   },
   {
    "duration": 94,
    "start_time": "2022-04-28T11:42:40.306Z"
   },
   {
    "duration": 109,
    "start_time": "2022-04-28T11:43:13.240Z"
   },
   {
    "duration": 153,
    "start_time": "2022-04-28T11:46:06.971Z"
   },
   {
    "duration": 149,
    "start_time": "2022-04-28T11:46:11.963Z"
   },
   {
    "duration": 152,
    "start_time": "2022-04-28T11:46:48.379Z"
   },
   {
    "duration": 1814,
    "start_time": "2022-04-28T11:47:00.044Z"
   },
   {
    "duration": 97,
    "start_time": "2022-04-28T11:47:09.794Z"
   },
   {
    "duration": 137,
    "start_time": "2022-04-28T11:47:59.873Z"
   },
   {
    "duration": 150,
    "start_time": "2022-04-28T11:48:27.176Z"
   },
   {
    "duration": 91,
    "start_time": "2022-04-28T11:48:31.553Z"
   },
   {
    "duration": 95,
    "start_time": "2022-04-28T11:48:45.839Z"
   },
   {
    "duration": 90,
    "start_time": "2022-04-28T11:49:52.653Z"
   },
   {
    "duration": 142,
    "start_time": "2022-04-28T11:50:50.596Z"
   },
   {
    "duration": 3418,
    "start_time": "2022-04-28T11:50:59.823Z"
   },
   {
    "duration": 16,
    "start_time": "2022-04-28T11:51:08.731Z"
   },
   {
    "duration": 94,
    "start_time": "2022-04-28T11:51:27.219Z"
   },
   {
    "duration": 10,
    "start_time": "2022-04-28T11:51:33.179Z"
   },
   {
    "duration": 94,
    "start_time": "2022-04-28T11:51:47.346Z"
   },
   {
    "duration": 93,
    "start_time": "2022-04-28T11:51:59.301Z"
   },
   {
    "duration": 12,
    "start_time": "2022-04-28T11:52:06.594Z"
   },
   {
    "duration": 94,
    "start_time": "2022-04-28T11:52:27.762Z"
   },
   {
    "duration": 92,
    "start_time": "2022-04-28T11:52:35.799Z"
   },
   {
    "duration": 11,
    "start_time": "2022-04-28T11:52:44.041Z"
   },
   {
    "duration": 14,
    "start_time": "2022-04-28T11:52:46.745Z"
   },
   {
    "duration": 104,
    "start_time": "2022-04-28T11:52:58.424Z"
   },
   {
    "duration": 18,
    "start_time": "2022-04-28T11:52:59.400Z"
   },
   {
    "duration": 94,
    "start_time": "2022-04-28T11:53:15.452Z"
   },
   {
    "duration": 41,
    "start_time": "2022-04-28T11:53:37.848Z"
   },
   {
    "duration": 27,
    "start_time": "2022-04-28T11:53:55.687Z"
   },
   {
    "duration": 155,
    "start_time": "2022-04-28T11:54:30.447Z"
   },
   {
    "duration": 20,
    "start_time": "2022-04-28T11:54:32.830Z"
   },
   {
    "duration": 23,
    "start_time": "2022-04-28T11:54:37.782Z"
   },
   {
    "duration": 41,
    "start_time": "2022-04-28T11:54:47.846Z"
   },
   {
    "duration": 32,
    "start_time": "2022-04-28T11:54:51.838Z"
   },
   {
    "duration": 46,
    "start_time": "2022-04-28T11:55:03.428Z"
   },
   {
    "duration": 36,
    "start_time": "2022-04-28T11:59:43.204Z"
   },
   {
    "duration": 38,
    "start_time": "2022-04-28T11:59:55.101Z"
   },
   {
    "duration": 47,
    "start_time": "2022-04-28T12:00:03.255Z"
   },
   {
    "duration": 31,
    "start_time": "2022-04-28T12:00:08.796Z"
   },
   {
    "duration": 4875,
    "start_time": "2022-04-28T12:01:12.074Z"
   },
   {
    "duration": 313,
    "start_time": "2022-04-28T12:02:26.185Z"
   },
   {
    "duration": 98,
    "start_time": "2022-04-28T12:02:37.088Z"
   },
   {
    "duration": 11,
    "start_time": "2022-04-28T12:03:03.503Z"
   },
   {
    "duration": 11,
    "start_time": "2022-04-28T12:03:15.911Z"
   },
   {
    "duration": 96,
    "start_time": "2022-04-28T12:03:41.183Z"
   },
   {
    "duration": 30,
    "start_time": "2022-04-28T12:04:30.061Z"
   },
   {
    "duration": 30,
    "start_time": "2022-04-28T12:04:35.765Z"
   },
   {
    "duration": 32,
    "start_time": "2022-04-28T12:04:43.532Z"
   },
   {
    "duration": 45,
    "start_time": "2022-04-28T12:05:28.419Z"
   },
   {
    "duration": 24,
    "start_time": "2022-04-28T12:05:43.684Z"
   },
   {
    "duration": 4,
    "start_time": "2022-04-28T12:05:50.266Z"
   },
   {
    "duration": 5,
    "start_time": "2022-04-28T12:06:10.242Z"
   },
   {
    "duration": 5,
    "start_time": "2022-04-28T12:06:12.746Z"
   },
   {
    "duration": 92,
    "start_time": "2022-04-28T12:06:25.305Z"
   },
   {
    "duration": 91,
    "start_time": "2022-04-28T12:06:29.417Z"
   },
   {
    "duration": 23,
    "start_time": "2022-04-28T12:06:36.148Z"
   },
   {
    "duration": 36,
    "start_time": "2022-04-28T12:06:42.945Z"
   },
   {
    "duration": 26,
    "start_time": "2022-04-28T12:12:54.703Z"
   },
   {
    "duration": 109,
    "start_time": "2022-04-28T12:13:22.246Z"
   },
   {
    "duration": 91,
    "start_time": "2022-04-28T12:15:21.611Z"
   },
   {
    "duration": 32,
    "start_time": "2022-04-28T12:15:29.538Z"
   },
   {
    "duration": 6,
    "start_time": "2022-04-28T12:21:08.674Z"
   },
   {
    "duration": 36,
    "start_time": "2022-04-28T12:21:13.713Z"
   },
   {
    "duration": 27,
    "start_time": "2022-04-28T12:21:26.392Z"
   },
   {
    "duration": 96,
    "start_time": "2022-04-28T12:23:07.709Z"
   },
   {
    "duration": 98,
    "start_time": "2022-04-28T12:23:11.557Z"
   },
   {
    "duration": 115,
    "start_time": "2022-04-28T12:23:18.701Z"
   },
   {
    "duration": 10,
    "start_time": "2022-04-28T12:25:32.713Z"
   },
   {
    "duration": 98,
    "start_time": "2022-04-28T12:25:50.888Z"
   },
   {
    "duration": 78,
    "start_time": "2022-04-28T12:26:09.041Z"
   },
   {
    "duration": 36,
    "start_time": "2022-04-28T12:26:22.433Z"
   },
   {
    "duration": 166,
    "start_time": "2022-04-28T12:29:36.170Z"
   },
   {
    "duration": 406,
    "start_time": "2022-04-28T12:29:40.881Z"
   },
   {
    "duration": 50,
    "start_time": "2022-04-28T12:30:56.368Z"
   },
   {
    "duration": 19,
    "start_time": "2022-04-28T12:31:14.599Z"
   },
   {
    "duration": 17,
    "start_time": "2022-04-28T12:31:19.543Z"
   },
   {
    "duration": 179,
    "start_time": "2022-04-28T12:31:27.607Z"
   },
   {
    "duration": 45,
    "start_time": "2022-04-28T12:32:34.485Z"
   },
   {
    "duration": 28,
    "start_time": "2022-04-28T12:35:11.298Z"
   },
   {
    "duration": 14,
    "start_time": "2022-04-28T12:35:24.162Z"
   },
   {
    "duration": 46,
    "start_time": "2022-04-28T12:35:27.904Z"
   },
   {
    "duration": 31,
    "start_time": "2022-04-28T12:35:36.249Z"
   },
   {
    "duration": 49,
    "start_time": "2022-04-28T12:35:43.555Z"
   },
   {
    "duration": 53,
    "start_time": "2022-04-28T12:35:49.112Z"
   },
   {
    "duration": 420,
    "start_time": "2022-04-28T12:37:53.244Z"
   },
   {
    "duration": 279,
    "start_time": "2022-04-28T12:39:08.761Z"
   },
   {
    "duration": 42,
    "start_time": "2022-04-28T12:39:47.449Z"
   },
   {
    "duration": 45,
    "start_time": "2022-04-28T12:39:52.426Z"
   },
   {
    "duration": 360,
    "start_time": "2022-04-28T12:43:22.179Z"
   },
   {
    "duration": 34,
    "start_time": "2022-04-28T12:44:33.697Z"
   },
   {
    "duration": 43,
    "start_time": "2022-04-28T12:44:38.744Z"
   },
   {
    "duration": 30,
    "start_time": "2022-04-28T12:45:23.096Z"
   },
   {
    "duration": 39,
    "start_time": "2022-04-28T12:47:06.221Z"
   },
   {
    "duration": 25,
    "start_time": "2022-04-28T12:47:12.069Z"
   },
   {
    "duration": 25,
    "start_time": "2022-04-28T12:47:16.781Z"
   },
   {
    "duration": 35,
    "start_time": "2022-04-28T12:47:25.652Z"
   },
   {
    "duration": 62,
    "start_time": "2022-04-28T12:50:28.016Z"
   },
   {
    "duration": 48,
    "start_time": "2022-04-28T12:50:46.751Z"
   },
   {
    "duration": 2545,
    "start_time": "2022-04-28T13:05:03.046Z"
   },
   {
    "duration": 1397,
    "start_time": "2022-04-28T13:05:05.595Z"
   },
   {
    "duration": 199,
    "start_time": "2022-04-28T13:05:06.995Z"
   },
   {
    "duration": 1534,
    "start_time": "2022-04-28T13:05:07.197Z"
   },
   {
    "duration": 467,
    "start_time": "2022-04-28T13:05:08.734Z"
   },
   {
    "duration": 17,
    "start_time": "2022-04-28T13:05:09.204Z"
   },
   {
    "duration": 4120,
    "start_time": "2022-04-28T13:05:09.224Z"
   },
   {
    "duration": 6018,
    "start_time": "2022-04-28T13:05:13.347Z"
   },
   {
    "duration": 7072,
    "start_time": "2022-04-28T13:05:19.369Z"
   },
   {
    "duration": 739,
    "start_time": "2022-04-28T13:05:26.445Z"
   },
   {
    "duration": 157,
    "start_time": "2022-04-28T13:05:27.186Z"
   },
   {
    "duration": 183,
    "start_time": "2022-04-28T13:05:27.345Z"
   },
   {
    "duration": 449,
    "start_time": "2022-04-28T13:05:27.531Z"
   },
   {
    "duration": 110,
    "start_time": "2022-04-28T13:05:27.985Z"
   },
   {
    "duration": 582,
    "start_time": "2022-04-28T13:05:28.098Z"
   },
   {
    "duration": 43,
    "start_time": "2022-04-28T13:05:28.683Z"
   },
   {
    "duration": 249,
    "start_time": "2022-04-28T13:39:34.028Z"
   },
   {
    "duration": 11,
    "start_time": "2022-04-28T13:41:20.131Z"
   },
   {
    "duration": 51,
    "start_time": "2022-04-28T13:41:28.057Z"
   },
   {
    "duration": 66,
    "start_time": "2022-04-28T13:41:33.889Z"
   },
   {
    "duration": 146,
    "start_time": "2022-04-28T13:41:36.720Z"
   },
   {
    "duration": 2347,
    "start_time": "2022-04-28T13:42:24.420Z"
   },
   {
    "duration": 1230,
    "start_time": "2022-04-28T13:42:26.770Z"
   },
   {
    "duration": 200,
    "start_time": "2022-04-28T13:42:28.002Z"
   },
   {
    "duration": 1654,
    "start_time": "2022-04-28T13:42:28.205Z"
   },
   {
    "duration": 406,
    "start_time": "2022-04-28T13:42:29.862Z"
   },
   {
    "duration": 14,
    "start_time": "2022-04-28T13:42:30.271Z"
   },
   {
    "duration": 4465,
    "start_time": "2022-04-28T13:42:30.287Z"
   },
   {
    "duration": 6669,
    "start_time": "2022-04-28T13:42:34.755Z"
   },
   {
    "duration": 6943,
    "start_time": "2022-04-28T13:42:41.427Z"
   },
   {
    "duration": 681,
    "start_time": "2022-04-28T13:42:48.376Z"
   },
   {
    "duration": 223,
    "start_time": "2022-04-28T13:42:49.060Z"
   },
   {
    "duration": 186,
    "start_time": "2022-04-28T13:42:49.285Z"
   },
   {
    "duration": 699,
    "start_time": "2022-04-28T13:42:49.475Z"
   },
   {
    "duration": 127,
    "start_time": "2022-04-28T13:42:50.177Z"
   },
   {
    "duration": 585,
    "start_time": "2022-04-28T13:42:50.306Z"
   },
   {
    "duration": 63,
    "start_time": "2022-04-28T13:42:50.893Z"
   },
   {
    "duration": 108,
    "start_time": "2022-04-28T13:42:50.959Z"
   },
   {
    "duration": 343,
    "start_time": "2022-04-28T13:43:59.780Z"
   },
   {
    "duration": 4694,
    "start_time": "2022-04-28T13:44:18.427Z"
   },
   {
    "duration": 42,
    "start_time": "2022-04-28T13:48:51.139Z"
   },
   {
    "duration": 2033,
    "start_time": "2022-04-28T15:18:14.857Z"
   },
   {
    "duration": 1079,
    "start_time": "2022-04-28T15:18:16.893Z"
   },
   {
    "duration": 181,
    "start_time": "2022-04-28T15:18:17.974Z"
   },
   {
    "duration": 1403,
    "start_time": "2022-04-28T15:18:18.157Z"
   },
   {
    "duration": 355,
    "start_time": "2022-04-28T15:18:19.563Z"
   },
   {
    "duration": 12,
    "start_time": "2022-04-28T15:18:19.920Z"
   },
   {
    "duration": 2761,
    "start_time": "2022-04-28T15:18:19.934Z"
   },
   {
    "duration": 3943,
    "start_time": "2022-04-28T15:18:22.698Z"
   },
   {
    "duration": 6345,
    "start_time": "2022-04-28T15:18:26.651Z"
   },
   {
    "duration": 528,
    "start_time": "2022-04-28T15:18:32.999Z"
   },
   {
    "duration": 140,
    "start_time": "2022-04-28T15:18:33.530Z"
   },
   {
    "duration": 163,
    "start_time": "2022-04-28T15:18:33.672Z"
   },
   {
    "duration": 457,
    "start_time": "2022-04-28T15:18:33.838Z"
   },
   {
    "duration": 112,
    "start_time": "2022-04-28T15:18:34.299Z"
   },
   {
    "duration": 692,
    "start_time": "2022-04-28T15:18:34.414Z"
   },
   {
    "duration": 67,
    "start_time": "2022-04-28T15:18:35.109Z"
   },
   {
    "duration": 410,
    "start_time": "2022-04-28T15:18:35.178Z"
   },
   {
    "duration": 36,
    "start_time": "2022-04-28T15:18:35.590Z"
   },
   {
    "duration": 294,
    "start_time": "2022-04-28T15:31:09.039Z"
   },
   {
    "duration": 303,
    "start_time": "2022-04-28T15:34:57.495Z"
   },
   {
    "duration": 301,
    "start_time": "2022-04-28T15:35:18.853Z"
   },
   {
    "duration": 5,
    "start_time": "2022-04-28T15:54:10.843Z"
   },
   {
    "duration": 29,
    "start_time": "2022-04-28T16:07:52.899Z"
   },
   {
    "duration": 1629,
    "start_time": "2022-04-28T16:10:54.992Z"
   },
   {
    "duration": 286,
    "start_time": "2022-04-28T16:11:27.106Z"
   },
   {
    "duration": 339,
    "start_time": "2022-04-28T16:11:36.836Z"
   },
   {
    "duration": 193,
    "start_time": "2022-04-28T16:11:55.949Z"
   },
   {
    "duration": 1914,
    "start_time": "2022-04-28T16:12:51.698Z"
   },
   {
    "duration": 1187,
    "start_time": "2022-04-28T16:12:53.616Z"
   },
   {
    "duration": 175,
    "start_time": "2022-04-28T16:12:54.805Z"
   },
   {
    "duration": 1424,
    "start_time": "2022-04-28T16:12:54.982Z"
   },
   {
    "duration": 364,
    "start_time": "2022-04-28T16:12:56.410Z"
   },
   {
    "duration": 13,
    "start_time": "2022-04-28T16:12:56.777Z"
   },
   {
    "duration": 2739,
    "start_time": "2022-04-28T16:12:56.793Z"
   },
   {
    "duration": 3753,
    "start_time": "2022-04-28T16:12:59.534Z"
   },
   {
    "duration": 6380,
    "start_time": "2022-04-28T16:13:03.290Z"
   },
   {
    "duration": 517,
    "start_time": "2022-04-28T16:13:09.673Z"
   },
   {
    "duration": 138,
    "start_time": "2022-04-28T16:13:10.194Z"
   },
   {
    "duration": 169,
    "start_time": "2022-04-28T16:13:10.335Z"
   },
   {
    "duration": 409,
    "start_time": "2022-04-28T16:13:10.507Z"
   },
   {
    "duration": 104,
    "start_time": "2022-04-28T16:13:10.921Z"
   },
   {
    "duration": 528,
    "start_time": "2022-04-28T16:13:11.028Z"
   },
   {
    "duration": 41,
    "start_time": "2022-04-28T16:13:11.558Z"
   },
   {
    "duration": 336,
    "start_time": "2022-04-28T16:13:11.601Z"
   },
   {
    "duration": 40,
    "start_time": "2022-04-28T16:13:11.940Z"
   },
   {
    "duration": 158,
    "start_time": "2022-04-28T16:14:03.500Z"
   },
   {
    "duration": 127,
    "start_time": "2022-04-28T16:14:10.487Z"
   },
   {
    "duration": 6,
    "start_time": "2022-04-28T16:15:11.954Z"
   },
   {
    "duration": 1732,
    "start_time": "2022-04-28T16:15:19.555Z"
   },
   {
    "duration": 26,
    "start_time": "2022-04-28T16:16:29.293Z"
   },
   {
    "duration": 2024,
    "start_time": "2022-04-28T16:16:35.499Z"
   },
   {
    "duration": 1658,
    "start_time": "2022-04-28T16:17:12.181Z"
   },
   {
    "duration": 1833,
    "start_time": "2022-04-28T16:20:02.466Z"
   },
   {
    "duration": 1100,
    "start_time": "2022-04-28T16:20:04.301Z"
   },
   {
    "duration": 190,
    "start_time": "2022-04-28T16:20:05.403Z"
   },
   {
    "duration": 1592,
    "start_time": "2022-04-28T16:20:05.595Z"
   },
   {
    "duration": 392,
    "start_time": "2022-04-28T16:20:07.191Z"
   },
   {
    "duration": 12,
    "start_time": "2022-04-28T16:20:07.586Z"
   },
   {
    "duration": 2790,
    "start_time": "2022-04-28T16:20:07.600Z"
   },
   {
    "duration": 3799,
    "start_time": "2022-04-28T16:20:10.393Z"
   },
   {
    "duration": 6528,
    "start_time": "2022-04-28T16:20:14.195Z"
   },
   {
    "duration": 521,
    "start_time": "2022-04-28T16:20:20.726Z"
   },
   {
    "duration": 146,
    "start_time": "2022-04-28T16:20:21.252Z"
   },
   {
    "duration": 170,
    "start_time": "2022-04-28T16:20:21.400Z"
   },
   {
    "duration": 412,
    "start_time": "2022-04-28T16:20:21.572Z"
   },
   {
    "duration": 107,
    "start_time": "2022-04-28T16:20:21.988Z"
   },
   {
    "duration": 525,
    "start_time": "2022-04-28T16:20:22.096Z"
   },
   {
    "duration": 62,
    "start_time": "2022-04-28T16:20:22.624Z"
   },
   {
    "duration": 330,
    "start_time": "2022-04-28T16:20:22.689Z"
   },
   {
    "duration": 55,
    "start_time": "2022-04-28T16:20:23.022Z"
   },
   {
    "duration": 595,
    "start_time": "2022-04-28T16:20:23.080Z"
   },
   {
    "duration": 1877,
    "start_time": "2022-04-28T16:22:35.504Z"
   },
   {
    "duration": 6,
    "start_time": "2022-04-28T16:25:39.369Z"
   },
   {
    "duration": 1023,
    "start_time": "2022-04-28T16:25:39.377Z"
   },
   {
    "duration": 172,
    "start_time": "2022-04-28T16:25:40.403Z"
   },
   {
    "duration": 1374,
    "start_time": "2022-04-28T16:25:40.578Z"
   },
   {
    "duration": 334,
    "start_time": "2022-04-28T16:25:41.957Z"
   },
   {
    "duration": 11,
    "start_time": "2022-04-28T16:25:42.294Z"
   },
   {
    "duration": 2716,
    "start_time": "2022-04-28T16:25:42.307Z"
   },
   {
    "duration": 4056,
    "start_time": "2022-04-28T16:25:45.025Z"
   },
   {
    "duration": 6491,
    "start_time": "2022-04-28T16:25:49.083Z"
   },
   {
    "duration": 534,
    "start_time": "2022-04-28T16:25:55.576Z"
   },
   {
    "duration": 130,
    "start_time": "2022-04-28T16:25:56.113Z"
   },
   {
    "duration": 154,
    "start_time": "2022-04-28T16:25:56.251Z"
   },
   {
    "duration": 423,
    "start_time": "2022-04-28T16:25:56.407Z"
   },
   {
    "duration": 87,
    "start_time": "2022-04-28T16:25:56.834Z"
   },
   {
    "duration": 408,
    "start_time": "2022-04-28T16:25:56.923Z"
   },
   {
    "duration": 51,
    "start_time": "2022-04-28T16:25:57.333Z"
   },
   {
    "duration": 306,
    "start_time": "2022-04-28T16:25:57.386Z"
   },
   {
    "duration": 36,
    "start_time": "2022-04-28T16:25:57.694Z"
   },
   {
    "duration": 600,
    "start_time": "2022-04-28T16:25:57.733Z"
   },
   {
    "duration": 1748,
    "start_time": "2022-04-28T16:25:58.335Z"
   },
   {
    "duration": 1941,
    "start_time": "2022-04-28T16:26:39.043Z"
   },
   {
    "duration": 6,
    "start_time": "2022-04-28T16:26:46.223Z"
   },
   {
    "duration": 994,
    "start_time": "2022-04-28T16:26:46.232Z"
   },
   {
    "duration": 169,
    "start_time": "2022-04-28T16:26:47.229Z"
   },
   {
    "duration": 1285,
    "start_time": "2022-04-28T16:26:47.400Z"
   },
   {
    "duration": 334,
    "start_time": "2022-04-28T16:26:48.688Z"
   },
   {
    "duration": 11,
    "start_time": "2022-04-28T16:26:49.025Z"
   },
   {
    "duration": 2938,
    "start_time": "2022-04-28T16:26:49.039Z"
   },
   {
    "duration": 3676,
    "start_time": "2022-04-28T16:26:51.979Z"
   },
   {
    "duration": 6308,
    "start_time": "2022-04-28T16:26:55.657Z"
   },
   {
    "duration": 526,
    "start_time": "2022-04-28T16:27:01.968Z"
   },
   {
    "duration": 132,
    "start_time": "2022-04-28T16:27:02.496Z"
   },
   {
    "duration": 144,
    "start_time": "2022-04-28T16:27:02.630Z"
   },
   {
    "duration": 516,
    "start_time": "2022-04-28T16:27:02.776Z"
   },
   {
    "duration": 90,
    "start_time": "2022-04-28T16:27:03.296Z"
   },
   {
    "duration": 417,
    "start_time": "2022-04-28T16:27:03.388Z"
   },
   {
    "duration": 57,
    "start_time": "2022-04-28T16:27:03.807Z"
   },
   {
    "duration": 300,
    "start_time": "2022-04-28T16:27:03.866Z"
   },
   {
    "duration": 35,
    "start_time": "2022-04-28T16:27:04.169Z"
   },
   {
    "duration": 554,
    "start_time": "2022-04-28T16:27:04.206Z"
   },
   {
    "duration": 1928,
    "start_time": "2022-04-28T16:27:04.763Z"
   },
   {
    "duration": 4,
    "start_time": "2022-04-28T16:28:13.386Z"
   },
   {
    "duration": 1189,
    "start_time": "2022-04-28T16:28:29.266Z"
   },
   {
    "duration": 177,
    "start_time": "2022-04-28T16:28:30.458Z"
   },
   {
    "duration": 13,
    "start_time": "2022-04-28T16:29:14.892Z"
   },
   {
    "duration": 6,
    "start_time": "2022-04-28T16:29:35.559Z"
   },
   {
    "duration": 19,
    "start_time": "2022-04-28T16:31:05.850Z"
   },
   {
    "duration": 113,
    "start_time": "2022-04-28T16:31:51.340Z"
   },
   {
    "duration": 202,
    "start_time": "2022-04-28T16:32:02.951Z"
   },
   {
    "duration": 55112,
    "start_time": "2022-04-28T16:33:50.054Z"
   },
   {
    "duration": 60086,
    "start_time": "2022-04-28T16:40:03.966Z"
   },
   {
    "duration": 4391506,
    "start_time": "2022-04-28T16:48:07.950Z"
   },
   {
    "duration": 9,
    "start_time": "2022-04-28T18:01:19.460Z"
   },
   {
    "duration": 7,
    "start_time": "2022-04-28T18:02:47.379Z"
   },
   {
    "duration": 1885,
    "start_time": "2022-04-28T18:04:41.361Z"
   },
   {
    "duration": 1102,
    "start_time": "2022-04-28T18:04:43.249Z"
   },
   {
    "duration": 187,
    "start_time": "2022-04-28T18:04:44.353Z"
   },
   {
    "duration": 1587,
    "start_time": "2022-04-28T18:04:44.543Z"
   },
   {
    "duration": 386,
    "start_time": "2022-04-28T18:04:46.133Z"
   },
   {
    "duration": 12,
    "start_time": "2022-04-28T18:04:46.521Z"
   },
   {
    "duration": 3187,
    "start_time": "2022-04-28T18:04:46.535Z"
   },
   {
    "duration": 4208,
    "start_time": "2022-04-28T18:04:49.725Z"
   },
   {
    "duration": 6580,
    "start_time": "2022-04-28T18:04:53.937Z"
   },
   {
    "duration": 532,
    "start_time": "2022-04-28T18:05:00.520Z"
   },
   {
    "duration": 147,
    "start_time": "2022-04-28T18:05:01.055Z"
   },
   {
    "duration": 167,
    "start_time": "2022-04-28T18:05:01.206Z"
   },
   {
    "duration": 421,
    "start_time": "2022-04-28T18:05:01.375Z"
   },
   {
    "duration": 98,
    "start_time": "2022-04-28T18:05:01.798Z"
   },
   {
    "duration": 541,
    "start_time": "2022-04-28T18:05:01.898Z"
   },
   {
    "duration": 49,
    "start_time": "2022-04-28T18:05:02.441Z"
   },
   {
    "duration": 343,
    "start_time": "2022-04-28T18:05:02.493Z"
   },
   {
    "duration": 39,
    "start_time": "2022-04-28T18:05:02.838Z"
   },
   {
    "duration": 702,
    "start_time": "2022-04-28T18:05:02.879Z"
   },
   {
    "duration": 1886,
    "start_time": "2022-04-28T18:05:03.583Z"
   },
   {
    "duration": 4,
    "start_time": "2022-04-28T18:05:05.471Z"
   },
   {
    "duration": 7,
    "start_time": "2022-04-28T18:08:23.029Z"
   },
   {
    "duration": 996,
    "start_time": "2022-04-28T18:08:23.039Z"
   },
   {
    "duration": 168,
    "start_time": "2022-04-28T18:08:24.037Z"
   },
   {
    "duration": 1350,
    "start_time": "2022-04-28T18:08:24.207Z"
   },
   {
    "duration": 329,
    "start_time": "2022-04-28T18:08:25.561Z"
   },
   {
    "duration": 13,
    "start_time": "2022-04-28T18:08:25.892Z"
   },
   {
    "duration": 2876,
    "start_time": "2022-04-28T18:08:25.907Z"
   },
   {
    "duration": 3994,
    "start_time": "2022-04-28T18:08:28.785Z"
   },
   {
    "duration": 6781,
    "start_time": "2022-04-28T18:08:32.781Z"
   },
   {
    "duration": 809,
    "start_time": "2022-04-28T18:08:39.565Z"
   },
   {
    "duration": 140,
    "start_time": "2022-04-28T18:08:40.377Z"
   },
   {
    "duration": 144,
    "start_time": "2022-04-28T18:08:40.520Z"
   },
   {
    "duration": 420,
    "start_time": "2022-04-28T18:08:40.667Z"
   },
   {
    "duration": 89,
    "start_time": "2022-04-28T18:08:41.091Z"
   },
   {
    "duration": 434,
    "start_time": "2022-04-28T18:08:41.182Z"
   },
   {
    "duration": 55,
    "start_time": "2022-04-28T18:08:41.618Z"
   },
   {
    "duration": 40,
    "start_time": "2022-04-28T18:09:00.832Z"
   },
   {
    "duration": 302,
    "start_time": "2022-04-28T18:09:12.817Z"
   },
   {
    "duration": 33,
    "start_time": "2022-04-28T18:09:19.740Z"
   },
   {
    "duration": 560,
    "start_time": "2022-04-28T18:09:20.427Z"
   },
   {
    "duration": 301,
    "start_time": "2022-04-28T18:10:29.139Z"
   },
   {
    "duration": 196,
    "start_time": "2022-04-28T18:10:39.759Z"
   },
   {
    "duration": 1456,
    "start_time": "2022-04-28T18:10:48.526Z"
   },
   {
    "duration": 6,
    "start_time": "2022-04-28T18:11:29.240Z"
   },
   {
    "duration": 1020,
    "start_time": "2022-04-28T18:11:29.255Z"
   },
   {
    "duration": 174,
    "start_time": "2022-04-28T18:11:30.278Z"
   },
   {
    "duration": 1450,
    "start_time": "2022-04-28T18:11:30.454Z"
   },
   {
    "duration": 344,
    "start_time": "2022-04-28T18:11:31.907Z"
   },
   {
    "duration": 12,
    "start_time": "2022-04-28T18:11:32.255Z"
   },
   {
    "duration": 3023,
    "start_time": "2022-04-28T18:11:32.269Z"
   },
   {
    "duration": 3997,
    "start_time": "2022-04-28T18:11:35.294Z"
   },
   {
    "duration": 10211,
    "start_time": "2022-04-28T18:11:39.294Z"
   },
   {
    "duration": 531,
    "start_time": "2022-04-28T18:11:49.508Z"
   },
   {
    "duration": 136,
    "start_time": "2022-04-28T18:11:50.041Z"
   },
   {
    "duration": 141,
    "start_time": "2022-04-28T18:11:50.179Z"
   },
   {
    "duration": 539,
    "start_time": "2022-04-28T18:11:50.322Z"
   },
   {
    "duration": 97,
    "start_time": "2022-04-28T18:11:50.863Z"
   },
   {
    "duration": 435,
    "start_time": "2022-04-28T18:11:50.963Z"
   },
   {
    "duration": 59,
    "start_time": "2022-04-28T18:11:51.400Z"
   },
   {
    "duration": 310,
    "start_time": "2022-04-28T18:11:51.461Z"
   },
   {
    "duration": 33,
    "start_time": "2022-04-28T18:11:51.773Z"
   },
   {
    "duration": 574,
    "start_time": "2022-04-28T18:11:51.808Z"
   },
   {
    "duration": 1425,
    "start_time": "2022-04-28T18:11:52.384Z"
   },
   {
    "duration": 4,
    "start_time": "2022-04-28T18:12:37.380Z"
   },
   {
    "duration": 910,
    "start_time": "2022-04-28T18:12:39.225Z"
   },
   {
    "duration": 117,
    "start_time": "2022-04-28T18:12:40.799Z"
   },
   {
    "duration": 238,
    "start_time": "2022-04-28T18:12:43.314Z"
   },
   {
    "duration": 202125,
    "start_time": "2022-04-28T18:12:46.945Z"
   },
   {
    "duration": 199,
    "start_time": "2022-04-28T18:16:29.358Z"
   },
   {
    "duration": 17,
    "start_time": "2022-04-28T18:17:02.337Z"
   },
   {
    "duration": 37,
    "start_time": "2022-04-28T18:17:16.918Z"
   },
   {
    "duration": 42684,
    "start_time": "2022-04-28T18:17:22.237Z"
   },
   {
    "duration": 5,
    "start_time": "2022-04-28T18:18:05.520Z"
   },
   {
    "duration": 216,
    "start_time": "2022-04-28T18:19:33.884Z"
   },
   {
    "duration": 19,
    "start_time": "2022-04-28T18:19:39.209Z"
   },
   {
    "duration": 109907,
    "start_time": "2022-04-28T18:21:04.588Z"
   },
   {
    "duration": 76592,
    "start_time": "2022-04-28T18:24:20.591Z"
   },
   {
    "duration": 14527,
    "start_time": "2022-04-28T18:25:55.617Z"
   },
   {
    "duration": 757881,
    "start_time": "2022-04-28T18:26:10.921Z"
   },
   {
    "duration": 3,
    "start_time": "2022-04-28T18:38:48.805Z"
   },
   {
    "duration": 5,
    "start_time": "2022-04-28T18:39:58.738Z"
   },
   {
    "duration": 7,
    "start_time": "2022-04-28T18:40:42.777Z"
   },
   {
    "duration": 37,
    "start_time": "2022-04-28T18:45:31.633Z"
   },
   {
    "duration": 83,
    "start_time": "2022-04-28T18:46:45.634Z"
   },
   {
    "duration": 2002,
    "start_time": "2022-04-28T18:46:48.665Z"
   },
   {
    "duration": 12,
    "start_time": "2022-04-28T18:47:36.728Z"
   },
   {
    "duration": 1638,
    "start_time": "2022-04-28T18:47:36.743Z"
   },
   {
    "duration": 304,
    "start_time": "2022-04-28T18:47:38.384Z"
   },
   {
    "duration": 2226,
    "start_time": "2022-04-28T18:47:38.691Z"
   },
   {
    "duration": 641,
    "start_time": "2022-04-28T18:47:40.922Z"
   },
   {
    "duration": 16,
    "start_time": "2022-04-28T18:47:41.566Z"
   },
   {
    "duration": 4509,
    "start_time": "2022-04-28T18:47:41.585Z"
   },
   {
    "duration": 6303,
    "start_time": "2022-04-28T18:47:46.098Z"
   },
   {
    "duration": 10266,
    "start_time": "2022-04-28T18:47:52.404Z"
   },
   {
    "duration": 817,
    "start_time": "2022-04-28T18:48:02.673Z"
   },
   {
    "duration": 219,
    "start_time": "2022-04-28T18:48:03.493Z"
   },
   {
    "duration": 246,
    "start_time": "2022-04-28T18:48:03.715Z"
   },
   {
    "duration": 780,
    "start_time": "2022-04-28T18:48:03.964Z"
   },
   {
    "duration": 110,
    "start_time": "2022-04-28T18:48:04.754Z"
   },
   {
    "duration": 445,
    "start_time": "2022-04-28T18:48:04.867Z"
   },
   {
    "duration": 60,
    "start_time": "2022-04-28T18:48:05.315Z"
   },
   {
    "duration": 335,
    "start_time": "2022-04-28T18:48:05.378Z"
   },
   {
    "duration": 49,
    "start_time": "2022-04-28T18:48:05.716Z"
   },
   {
    "duration": 615,
    "start_time": "2022-04-28T18:48:05.768Z"
   },
   {
    "duration": 4,
    "start_time": "2022-04-28T18:48:06.385Z"
   },
   {
    "duration": 1585,
    "start_time": "2022-04-28T18:48:06.391Z"
   },
   {
    "duration": 4,
    "start_time": "2022-04-28T18:48:07.979Z"
   },
   {
    "duration": 924,
    "start_time": "2022-04-28T18:48:07.985Z"
   },
   {
    "duration": 140,
    "start_time": "2022-04-28T18:48:08.912Z"
   },
   {
    "duration": 240,
    "start_time": "2022-04-28T18:48:09.054Z"
   },
   {
    "duration": 121142,
    "start_time": "2022-04-28T18:48:09.297Z"
   },
   {
    "duration": 1977,
    "start_time": "2022-04-29T07:14:22.780Z"
   },
   {
    "duration": 5,
    "start_time": "2022-04-29T07:14:43.557Z"
   },
   {
    "duration": 1191,
    "start_time": "2022-04-29T07:14:43.564Z"
   },
   {
    "duration": 239,
    "start_time": "2022-04-29T07:14:44.758Z"
   },
   {
    "duration": 1608,
    "start_time": "2022-04-29T07:14:45.000Z"
   },
   {
    "duration": 373,
    "start_time": "2022-04-29T07:14:46.611Z"
   },
   {
    "duration": 10,
    "start_time": "2022-04-29T07:14:46.987Z"
   },
   {
    "duration": 2604,
    "start_time": "2022-04-29T07:14:46.999Z"
   },
   {
    "duration": 4453,
    "start_time": "2022-04-29T07:14:49.604Z"
   },
   {
    "duration": 5789,
    "start_time": "2022-04-29T07:14:54.060Z"
   },
   {
    "duration": 509,
    "start_time": "2022-04-29T07:14:59.856Z"
   },
   {
    "duration": 153,
    "start_time": "2022-04-29T07:15:00.367Z"
   },
   {
    "duration": 195,
    "start_time": "2022-04-29T07:15:00.522Z"
   },
   {
    "duration": 362,
    "start_time": "2022-04-29T07:15:00.720Z"
   },
   {
    "duration": 246,
    "start_time": "2022-04-29T07:15:01.085Z"
   },
   {
    "duration": 374,
    "start_time": "2022-04-29T07:15:01.333Z"
   },
   {
    "duration": 46,
    "start_time": "2022-04-29T07:15:01.710Z"
   },
   {
    "duration": 223,
    "start_time": "2022-04-29T07:15:01.757Z"
   },
   {
    "duration": 22,
    "start_time": "2022-04-29T07:15:01.982Z"
   },
   {
    "duration": 478,
    "start_time": "2022-04-29T07:15:02.006Z"
   },
   {
    "duration": 2,
    "start_time": "2022-04-29T07:15:02.486Z"
   },
   {
    "duration": 184,
    "start_time": "2022-04-29T07:15:02.490Z"
   },
   {
    "duration": 3,
    "start_time": "2022-04-29T07:15:02.676Z"
   },
   {
    "duration": 1071,
    "start_time": "2022-04-29T07:15:19.241Z"
   },
   {
    "duration": 18,
    "start_time": "2022-04-29T07:15:36.744Z"
   },
   {
    "duration": 3,
    "start_time": "2022-04-29T07:16:15.303Z"
   },
   {
    "duration": 104,
    "start_time": "2022-04-29T07:16:19.494Z"
   },
   {
    "duration": 13,
    "start_time": "2022-04-29T07:16:21.319Z"
   },
   {
    "duration": 3167,
    "start_time": "2022-04-29T07:16:28.151Z"
   },
   {
    "duration": 4,
    "start_time": "2022-04-29T07:16:33.215Z"
   },
   {
    "duration": 3349,
    "start_time": "2022-04-29T07:23:54.075Z"
   },
   {
    "duration": 4,
    "start_time": "2022-04-29T07:23:58.491Z"
   },
   {
    "duration": 107,
    "start_time": "2022-04-29T07:28:21.002Z"
   },
   {
    "duration": 3,
    "start_time": "2022-04-29T07:31:22.854Z"
   },
   {
    "duration": 5,
    "start_time": "2022-04-29T07:31:41.172Z"
   },
   {
    "duration": 4,
    "start_time": "2022-04-29T07:31:51.614Z"
   },
   {
    "duration": 5033,
    "start_time": "2022-04-29T07:32:59.149Z"
   },
   {
    "duration": 4,
    "start_time": "2022-04-29T07:33:33.523Z"
   },
   {
    "duration": 56998,
    "start_time": "2022-04-29T07:33:34.531Z"
   },
   {
    "duration": 21,
    "start_time": "2022-04-29T07:34:55.553Z"
   },
   {
    "duration": 4,
    "start_time": "2022-04-29T07:35:43.952Z"
   },
   {
    "duration": 10758,
    "start_time": "2022-04-29T07:35:51.319Z"
   },
   {
    "duration": 19,
    "start_time": "2022-04-29T07:36:02.079Z"
   },
   {
    "duration": 4,
    "start_time": "2022-04-29T07:37:23.525Z"
   },
   {
    "duration": 6,
    "start_time": "2022-04-29T07:39:34.201Z"
   },
   {
    "duration": 5,
    "start_time": "2022-04-29T07:40:19.528Z"
   },
   {
    "duration": 333404,
    "start_time": "2022-04-29T07:40:20.295Z"
   },
   {
    "duration": 4,
    "start_time": "2022-04-29T07:45:53.701Z"
   },
   {
    "duration": 258,
    "start_time": "2022-04-29T07:45:53.707Z"
   },
   {
    "duration": 27,
    "start_time": "2022-04-29T07:55:35.856Z"
   },
   {
    "duration": 3,
    "start_time": "2022-04-29T08:09:13.631Z"
   },
   {
    "duration": 2,
    "start_time": "2022-04-29T08:11:42.181Z"
   },
   {
    "duration": 26456,
    "start_time": "2022-04-29T08:12:28.153Z"
   },
   {
    "duration": 13116,
    "start_time": "2022-04-29T08:13:01.684Z"
   },
   {
    "duration": 12699,
    "start_time": "2022-04-29T08:14:31.426Z"
   },
   {
    "duration": 3,
    "start_time": "2022-04-29T08:16:10.198Z"
   },
   {
    "duration": 1629,
    "start_time": "2022-04-29T08:20:36.881Z"
   },
   {
    "duration": 832,
    "start_time": "2022-04-29T08:20:38.512Z"
   },
   {
    "duration": 124,
    "start_time": "2022-04-29T08:20:39.346Z"
   },
   {
    "duration": 1142,
    "start_time": "2022-04-29T08:20:39.472Z"
   },
   {
    "duration": 279,
    "start_time": "2022-04-29T08:20:40.617Z"
   },
   {
    "duration": 8,
    "start_time": "2022-04-29T08:20:40.898Z"
   },
   {
    "duration": 1795,
    "start_time": "2022-04-29T08:20:40.907Z"
   },
   {
    "duration": 2819,
    "start_time": "2022-04-29T08:20:42.703Z"
   },
   {
    "duration": 3863,
    "start_time": "2022-04-29T08:20:45.524Z"
   },
   {
    "duration": 322,
    "start_time": "2022-04-29T08:20:49.389Z"
   },
   {
    "duration": 101,
    "start_time": "2022-04-29T08:20:49.713Z"
   },
   {
    "duration": 127,
    "start_time": "2022-04-29T08:20:49.815Z"
   },
   {
    "duration": 223,
    "start_time": "2022-04-29T08:20:49.943Z"
   },
   {
    "duration": 191,
    "start_time": "2022-04-29T08:20:50.169Z"
   },
   {
    "duration": 230,
    "start_time": "2022-04-29T08:20:50.362Z"
   },
   {
    "duration": 26,
    "start_time": "2022-04-29T08:20:50.593Z"
   },
   {
    "duration": 235,
    "start_time": "2022-04-29T08:20:50.620Z"
   },
   {
    "duration": 24,
    "start_time": "2022-04-29T08:20:50.857Z"
   },
   {
    "duration": 418,
    "start_time": "2022-04-29T08:20:50.883Z"
   },
   {
    "duration": 2,
    "start_time": "2022-04-29T08:20:51.303Z"
   },
   {
    "duration": 96,
    "start_time": "2022-04-29T08:20:51.307Z"
   },
   {
    "duration": 12,
    "start_time": "2022-04-29T08:20:51.405Z"
   },
   {
    "duration": 1227,
    "start_time": "2022-04-29T08:20:51.419Z"
   },
   {
    "duration": 22,
    "start_time": "2022-04-29T08:20:52.647Z"
   },
   {
    "duration": 3,
    "start_time": "2022-04-29T08:20:52.671Z"
   },
   {
    "duration": 108,
    "start_time": "2022-04-29T08:20:52.675Z"
   },
   {
    "duration": 13,
    "start_time": "2022-04-29T08:20:52.785Z"
   },
   {
    "duration": 5,
    "start_time": "2022-04-29T08:21:24.063Z"
   },
   {
    "duration": 803,
    "start_time": "2022-04-29T08:21:24.069Z"
   },
   {
    "duration": 132,
    "start_time": "2022-04-29T08:21:24.874Z"
   },
   {
    "duration": 954,
    "start_time": "2022-04-29T08:21:25.009Z"
   },
   {
    "duration": 229,
    "start_time": "2022-04-29T08:21:25.965Z"
   },
   {
    "duration": 7,
    "start_time": "2022-04-29T08:21:26.196Z"
   },
   {
    "duration": 1628,
    "start_time": "2022-04-29T08:21:26.205Z"
   },
   {
    "duration": 2622,
    "start_time": "2022-04-29T08:21:27.835Z"
   },
   {
    "duration": 3787,
    "start_time": "2022-04-29T08:21:30.458Z"
   },
   {
    "duration": 337,
    "start_time": "2022-04-29T08:21:34.254Z"
   },
   {
    "duration": 101,
    "start_time": "2022-04-29T08:21:34.593Z"
   },
   {
    "duration": 111,
    "start_time": "2022-04-29T08:21:34.696Z"
   },
   {
    "duration": 235,
    "start_time": "2022-04-29T08:21:34.809Z"
   },
   {
    "duration": 65,
    "start_time": "2022-04-29T08:21:35.046Z"
   },
   {
    "duration": 237,
    "start_time": "2022-04-29T08:21:35.113Z"
   },
   {
    "duration": 27,
    "start_time": "2022-04-29T08:21:35.351Z"
   },
   {
    "duration": 221,
    "start_time": "2022-04-29T08:21:35.380Z"
   },
   {
    "duration": 22,
    "start_time": "2022-04-29T08:21:35.603Z"
   },
   {
    "duration": 385,
    "start_time": "2022-04-29T08:21:35.627Z"
   },
   {
    "duration": 2,
    "start_time": "2022-04-29T08:21:36.014Z"
   },
   {
    "duration": 91,
    "start_time": "2022-04-29T08:21:36.017Z"
   },
   {
    "duration": 3,
    "start_time": "2022-04-29T08:21:36.110Z"
   },
   {
    "duration": 1183,
    "start_time": "2022-04-29T08:21:36.115Z"
   },
   {
    "duration": 18,
    "start_time": "2022-04-29T08:21:37.300Z"
   },
   {
    "duration": 3,
    "start_time": "2022-04-29T08:21:37.319Z"
   },
   {
    "duration": 118,
    "start_time": "2022-04-29T08:21:37.323Z"
   },
   {
    "duration": 20,
    "start_time": "2022-04-29T08:21:37.443Z"
   },
   {
    "duration": 3,
    "start_time": "2022-04-29T08:21:39.948Z"
   },
   {
    "duration": 10106,
    "start_time": "2022-04-29T08:21:51.227Z"
   },
   {
    "duration": 12,
    "start_time": "2022-04-29T08:43:46.000Z"
   },
   {
    "duration": 11,
    "start_time": "2022-04-29T08:43:59.590Z"
   },
   {
    "duration": 100,
    "start_time": "2022-04-29T08:44:08.631Z"
   },
   {
    "duration": 107,
    "start_time": "2022-04-29T08:45:19.552Z"
   },
   {
    "duration": 102,
    "start_time": "2022-04-29T08:45:32.079Z"
   },
   {
    "duration": 103,
    "start_time": "2022-04-29T08:45:40.412Z"
   },
   {
    "duration": 2425,
    "start_time": "2022-04-29T08:46:08.131Z"
   },
   {
    "duration": 109,
    "start_time": "2022-04-29T08:46:54.011Z"
   },
   {
    "duration": 94,
    "start_time": "2022-04-29T08:48:50.318Z"
   },
   {
    "duration": 4071,
    "start_time": "2022-04-29T08:56:06.491Z"
   },
   {
    "duration": 4137,
    "start_time": "2022-04-29T08:56:35.626Z"
   },
   {
    "duration": 1269131,
    "start_time": "2022-04-29T08:58:17.937Z"
   },
   {
    "duration": 4,
    "start_time": "2022-04-29T09:20:38.143Z"
   },
   {
    "duration": 501,
    "start_time": "2022-04-29T09:20:58.560Z"
   },
   {
    "duration": 493,
    "start_time": "2022-04-29T09:21:06.568Z"
   },
   {
    "duration": 5927,
    "start_time": "2022-04-29T09:24:06.939Z"
   },
   {
    "duration": 5079,
    "start_time": "2022-04-29T09:24:39.378Z"
   },
   {
    "duration": 679,
    "start_time": "2022-04-29T09:26:06.783Z"
   },
   {
    "duration": 720,
    "start_time": "2022-04-29T09:26:10.947Z"
   },
   {
    "duration": 4496,
    "start_time": "2022-04-29T09:43:48.463Z"
   },
   {
    "duration": 471,
    "start_time": "2022-04-29T09:43:53.897Z"
   },
   {
    "duration": 157511,
    "start_time": "2022-04-29T09:48:03.658Z"
   },
   {
    "duration": 885,
    "start_time": "2022-04-29T09:50:41.171Z"
   },
   {
    "duration": 5,
    "start_time": "2022-04-29T09:53:37.017Z"
   },
   {
    "duration": 712,
    "start_time": "2022-04-29T09:53:39.105Z"
   },
   {
    "duration": 123,
    "start_time": "2022-04-29T09:53:41.297Z"
   },
   {
    "duration": 878,
    "start_time": "2022-04-29T09:53:47.136Z"
   },
   {
    "duration": 212,
    "start_time": "2022-04-29T09:53:49.049Z"
   },
   {
    "duration": 8,
    "start_time": "2022-04-29T09:53:51.408Z"
   },
   {
    "duration": 97,
    "start_time": "2022-04-29T09:54:02.688Z"
   },
   {
    "duration": 230,
    "start_time": "2022-04-29T09:54:08.920Z"
   },
   {
    "duration": 21,
    "start_time": "2022-04-29T09:54:12.071Z"
   },
   {
    "duration": 404,
    "start_time": "2022-04-29T09:54:14.240Z"
   },
   {
    "duration": 1097,
    "start_time": "2022-04-29T09:55:43.275Z"
   },
   {
    "duration": 20,
    "start_time": "2022-04-29T09:55:49.381Z"
   },
   {
    "duration": 2,
    "start_time": "2022-04-29T09:55:57.024Z"
   },
   {
    "duration": 71,
    "start_time": "2022-04-29T09:56:00.692Z"
   },
   {
    "duration": 10,
    "start_time": "2022-04-29T09:56:01.660Z"
   },
   {
    "duration": 3300,
    "start_time": "2022-04-29T09:56:08.661Z"
   },
   {
    "duration": 4,
    "start_time": "2022-04-29T09:56:12.604Z"
   },
   {
    "duration": 4,
    "start_time": "2022-04-29T09:56:17.508Z"
   },
   {
    "duration": 11353,
    "start_time": "2022-04-29T09:56:19.196Z"
   },
   {
    "duration": 23,
    "start_time": "2022-04-29T09:56:31.603Z"
   },
   {
    "duration": 4,
    "start_time": "2022-04-29T09:57:14.755Z"
   },
   {
    "duration": 10,
    "start_time": "2022-04-29T09:57:16.651Z"
   },
   {
    "duration": 4,
    "start_time": "2022-04-29T09:57:21.176Z"
   },
   {
    "duration": 19723,
    "start_time": "2022-04-29T09:57:31.674Z"
   },
   {
    "duration": 5337,
    "start_time": "2022-04-29T09:59:13.319Z"
   },
   {
    "duration": 737,
    "start_time": "2022-04-29T09:59:19.839Z"
   },
   {
    "duration": 4,
    "start_time": "2022-04-29T10:00:44.053Z"
   },
   {
    "duration": 11162,
    "start_time": "2022-04-29T10:00:45.526Z"
   },
   {
    "duration": 88320,
    "start_time": "2022-04-29T10:01:11.445Z"
   },
   {
    "duration": 4,
    "start_time": "2022-04-29T10:02:39.767Z"
   },
   {
    "duration": 695,
    "start_time": "2022-04-29T10:02:39.772Z"
   },
   {
    "duration": 5040,
    "start_time": "2022-04-29T10:05:46.222Z"
   },
   {
    "duration": 803,
    "start_time": "2022-04-29T10:05:51.264Z"
   },
   {
    "duration": 4,
    "start_time": "2022-04-29T10:06:25.355Z"
   },
   {
    "duration": 244010,
    "start_time": "2022-04-29T10:06:26.908Z"
   },
   {
    "duration": 4,
    "start_time": "2022-04-29T10:10:30.920Z"
   },
   {
    "duration": 247,
    "start_time": "2022-04-29T10:10:30.925Z"
   },
   {
    "duration": 5,
    "start_time": "2022-04-29T10:12:58.250Z"
   },
   {
    "duration": 213,
    "start_time": "2022-04-29T10:15:20.494Z"
   },
   {
    "duration": 3074,
    "start_time": "2022-04-30T09:49:30.774Z"
   },
   {
    "duration": 778,
    "start_time": "2022-04-30T09:49:34.634Z"
   },
   {
    "duration": 126,
    "start_time": "2022-04-30T09:49:36.726Z"
   },
   {
    "duration": 1300,
    "start_time": "2022-04-30T09:49:38.856Z"
   },
   {
    "duration": 234,
    "start_time": "2022-04-30T09:49:40.872Z"
   },
   {
    "duration": 11,
    "start_time": "2022-04-30T09:49:45.139Z"
   },
   {
    "duration": 133,
    "start_time": "2022-04-30T09:49:56.478Z"
   },
   {
    "duration": 52,
    "start_time": "2022-04-30T09:49:58.767Z"
   },
   {
    "duration": 317,
    "start_time": "2022-04-30T09:50:00.271Z"
   },
   {
    "duration": 26,
    "start_time": "2022-04-30T09:50:02.667Z"
   },
   {
    "duration": 331,
    "start_time": "2022-04-30T09:50:04.319Z"
   },
   {
    "duration": 22,
    "start_time": "2022-04-30T09:50:07.647Z"
   },
   {
    "duration": 471,
    "start_time": "2022-04-30T09:50:09.031Z"
   },
   {
    "duration": 1091,
    "start_time": "2022-04-30T09:50:13.386Z"
   },
   {
    "duration": 3,
    "start_time": "2022-04-30T09:50:17.814Z"
   },
   {
    "duration": 717,
    "start_time": "2022-04-30T09:50:24.208Z"
   },
   {
    "duration": 162,
    "start_time": "2022-04-30T09:50:26.402Z"
   },
   {
    "duration": 261,
    "start_time": "2022-04-30T09:50:28.424Z"
   },
   {
    "duration": 35248,
    "start_time": "2022-04-30T09:50:30.282Z"
   },
   {
    "duration": 5,
    "start_time": "2022-04-30T09:51:06.136Z"
   },
   {
    "duration": 173,
    "start_time": "2022-04-30T09:51:11.734Z"
   },
   {
    "duration": 5,
    "start_time": "2022-04-30T09:51:14.244Z"
   },
   {
    "duration": 109245,
    "start_time": "2022-04-30T09:51:16.412Z"
   },
   {
    "duration": 131,
    "start_time": "2022-04-30T09:53:05.659Z"
   },
   {
    "duration": 5,
    "start_time": "2022-04-30T09:53:14.014Z"
   },
   {
    "duration": 407294,
    "start_time": "2022-04-30T09:53:18.428Z"
   },
   {
    "duration": 0,
    "start_time": "2022-04-30T10:00:05.725Z"
   },
   {
    "duration": 0,
    "start_time": "2022-04-30T10:00:05.727Z"
   },
   {
    "duration": 0,
    "start_time": "2022-04-30T10:00:05.729Z"
   },
   {
    "duration": 9,
    "start_time": "2022-04-30T10:35:22.235Z"
   },
   {
    "duration": 5,
    "start_time": "2022-04-30T10:35:56.891Z"
   },
   {
    "duration": 31438,
    "start_time": "2022-04-30T10:36:01.492Z"
   },
   {
    "duration": 14,
    "start_time": "2022-04-30T10:37:10.314Z"
   },
   {
    "duration": 586,
    "start_time": "2022-04-30T10:37:17.251Z"
   },
   {
    "duration": 104,
    "start_time": "2022-04-30T10:37:18.795Z"
   },
   {
    "duration": 197,
    "start_time": "2022-04-30T10:37:24.402Z"
   },
   {
    "duration": 33659,
    "start_time": "2022-04-30T10:37:25.372Z"
   },
   {
    "duration": 11,
    "start_time": "2022-04-30T10:39:19.791Z"
   },
   {
    "duration": 5,
    "start_time": "2022-04-30T10:40:04.112Z"
   },
   {
    "duration": 834,
    "start_time": "2022-04-30T10:40:04.119Z"
   },
   {
    "duration": 129,
    "start_time": "2022-04-30T10:40:04.955Z"
   },
   {
    "duration": 876,
    "start_time": "2022-04-30T10:40:05.086Z"
   },
   {
    "duration": 211,
    "start_time": "2022-04-30T10:40:05.965Z"
   },
   {
    "duration": 7,
    "start_time": "2022-04-30T10:40:06.178Z"
   },
   {
    "duration": 1599,
    "start_time": "2022-04-30T10:40:06.187Z"
   },
   {
    "duration": 2541,
    "start_time": "2022-04-30T10:40:07.788Z"
   },
   {
    "duration": 3916,
    "start_time": "2022-04-30T10:40:10.331Z"
   },
   {
    "duration": 326,
    "start_time": "2022-04-30T10:40:14.248Z"
   },
   {
    "duration": 98,
    "start_time": "2022-04-30T10:40:14.575Z"
   },
   {
    "duration": 108,
    "start_time": "2022-04-30T10:40:14.675Z"
   },
   {
    "duration": 341,
    "start_time": "2022-04-30T10:40:14.785Z"
   },
   {
    "duration": 44,
    "start_time": "2022-04-30T10:40:15.129Z"
   },
   {
    "duration": 260,
    "start_time": "2022-04-30T10:40:15.175Z"
   },
   {
    "duration": 26,
    "start_time": "2022-04-30T10:40:15.437Z"
   },
   {
    "duration": 202,
    "start_time": "2022-04-30T10:40:15.464Z"
   },
   {
    "duration": 19,
    "start_time": "2022-04-30T10:40:15.667Z"
   },
   {
    "duration": 410,
    "start_time": "2022-04-30T10:40:15.688Z"
   },
   {
    "duration": 2,
    "start_time": "2022-04-30T10:40:16.100Z"
   },
   {
    "duration": 899,
    "start_time": "2022-04-30T10:40:16.104Z"
   },
   {
    "duration": 3,
    "start_time": "2022-04-30T10:40:17.005Z"
   },
   {
    "duration": 1076,
    "start_time": "2022-04-30T10:40:17.009Z"
   },
   {
    "duration": 21,
    "start_time": "2022-04-30T10:40:18.086Z"
   },
   {
    "duration": 708,
    "start_time": "2022-04-30T10:40:18.109Z"
   },
   {
    "duration": 104,
    "start_time": "2022-04-30T10:40:18.822Z"
   },
   {
    "duration": 241,
    "start_time": "2022-04-30T10:40:18.928Z"
   },
   {
    "duration": 28253,
    "start_time": "2022-04-30T10:40:19.171Z"
   },
   {
    "duration": 4,
    "start_time": "2022-04-30T10:40:47.426Z"
   },
   {
    "duration": 146,
    "start_time": "2022-04-30T10:40:47.432Z"
   },
   {
    "duration": 13,
    "start_time": "2022-04-30T10:40:47.579Z"
   },
   {
    "duration": 0,
    "start_time": "2022-04-30T10:40:47.594Z"
   },
   {
    "duration": 0,
    "start_time": "2022-04-30T10:40:47.595Z"
   },
   {
    "duration": 0,
    "start_time": "2022-04-30T10:40:47.597Z"
   },
   {
    "duration": 0,
    "start_time": "2022-04-30T10:40:47.622Z"
   },
   {
    "duration": 11,
    "start_time": "2022-04-30T10:41:05.832Z"
   },
   {
    "duration": 3521,
    "start_time": "2022-04-30T10:41:07.065Z"
   },
   {
    "duration": 5,
    "start_time": "2022-04-30T10:41:11.292Z"
   },
   {
    "duration": 4,
    "start_time": "2022-04-30T10:41:13.707Z"
   },
   {
    "duration": 11053,
    "start_time": "2022-04-30T10:41:14.334Z"
   },
   {
    "duration": 23,
    "start_time": "2022-04-30T10:41:25.389Z"
   },
   {
    "duration": 5,
    "start_time": "2022-04-30T10:41:30.859Z"
   },
   {
    "duration": 269976,
    "start_time": "2022-04-30T10:41:32.608Z"
   },
   {
    "duration": 4,
    "start_time": "2022-04-30T10:46:02.586Z"
   },
   {
    "duration": 4,
    "start_time": "2022-04-30T10:46:02.591Z"
   },
   {
    "duration": 310,
    "start_time": "2022-04-30T10:46:02.597Z"
   },
   {
    "duration": 3,
    "start_time": "2022-04-30T10:46:02.909Z"
   },
   {
    "duration": 2569,
    "start_time": "2022-05-01T06:39:26.874Z"
   },
   {
    "duration": 220,
    "start_time": "2022-05-01T06:39:29.445Z"
   },
   {
    "duration": 0,
    "start_time": "2022-05-01T06:39:29.668Z"
   },
   {
    "duration": 0,
    "start_time": "2022-05-01T06:39:29.670Z"
   },
   {
    "duration": 0,
    "start_time": "2022-05-01T06:39:29.671Z"
   },
   {
    "duration": 0,
    "start_time": "2022-05-01T06:39:29.672Z"
   },
   {
    "duration": 0,
    "start_time": "2022-05-01T06:39:29.673Z"
   },
   {
    "duration": 0,
    "start_time": "2022-05-01T06:39:29.682Z"
   },
   {
    "duration": 0,
    "start_time": "2022-05-01T06:39:29.684Z"
   },
   {
    "duration": 0,
    "start_time": "2022-05-01T06:39:29.687Z"
   },
   {
    "duration": 0,
    "start_time": "2022-05-01T06:39:29.689Z"
   },
   {
    "duration": 0,
    "start_time": "2022-05-01T06:39:29.691Z"
   },
   {
    "duration": 0,
    "start_time": "2022-05-01T06:39:29.693Z"
   },
   {
    "duration": 0,
    "start_time": "2022-05-01T06:39:29.695Z"
   },
   {
    "duration": 0,
    "start_time": "2022-05-01T06:39:29.697Z"
   },
   {
    "duration": 0,
    "start_time": "2022-05-01T06:39:29.699Z"
   },
   {
    "duration": 0,
    "start_time": "2022-05-01T06:39:29.702Z"
   },
   {
    "duration": 0,
    "start_time": "2022-05-01T06:39:29.704Z"
   },
   {
    "duration": 0,
    "start_time": "2022-05-01T06:39:29.706Z"
   },
   {
    "duration": 0,
    "start_time": "2022-05-01T06:39:29.708Z"
   },
   {
    "duration": 0,
    "start_time": "2022-05-01T06:39:29.710Z"
   },
   {
    "duration": 0,
    "start_time": "2022-05-01T06:39:29.713Z"
   },
   {
    "duration": 0,
    "start_time": "2022-05-01T06:39:29.714Z"
   },
   {
    "duration": 0,
    "start_time": "2022-05-01T06:39:29.717Z"
   },
   {
    "duration": 0,
    "start_time": "2022-05-01T06:39:29.719Z"
   },
   {
    "duration": 0,
    "start_time": "2022-05-01T06:39:29.721Z"
   },
   {
    "duration": 0,
    "start_time": "2022-05-01T06:39:29.783Z"
   },
   {
    "duration": 0,
    "start_time": "2022-05-01T06:39:29.785Z"
   },
   {
    "duration": 0,
    "start_time": "2022-05-01T06:39:29.787Z"
   },
   {
    "duration": 0,
    "start_time": "2022-05-01T06:39:29.790Z"
   },
   {
    "duration": 0,
    "start_time": "2022-05-01T06:39:29.791Z"
   },
   {
    "duration": 1,
    "start_time": "2022-05-01T06:39:29.793Z"
   },
   {
    "duration": 0,
    "start_time": "2022-05-01T06:39:29.796Z"
   },
   {
    "duration": 0,
    "start_time": "2022-05-01T06:39:29.798Z"
   },
   {
    "duration": 1111,
    "start_time": "2022-05-01T06:44:10.655Z"
   },
   {
    "duration": 207,
    "start_time": "2022-05-01T06:44:16.281Z"
   },
   {
    "duration": 1556,
    "start_time": "2022-05-01T06:44:16.491Z"
   },
   {
    "duration": 379,
    "start_time": "2022-05-01T06:44:18.049Z"
   },
   {
    "duration": 12,
    "start_time": "2022-05-01T06:44:18.430Z"
   },
   {
    "duration": 2894,
    "start_time": "2022-05-01T06:44:18.445Z"
   },
   {
    "duration": 3975,
    "start_time": "2022-05-01T06:44:21.342Z"
   },
   {
    "duration": 6313,
    "start_time": "2022-05-01T06:44:25.320Z"
   },
   {
    "duration": 529,
    "start_time": "2022-05-01T06:44:31.636Z"
   },
   {
    "duration": 181,
    "start_time": "2022-05-01T06:44:32.167Z"
   },
   {
    "duration": 534,
    "start_time": "2022-05-01T06:44:32.350Z"
   },
   {
    "duration": 101,
    "start_time": "2022-05-01T06:44:32.886Z"
   },
   {
    "duration": 429,
    "start_time": "2022-05-01T06:44:32.989Z"
   },
   {
    "duration": 41,
    "start_time": "2022-05-01T06:44:33.420Z"
   },
   {
    "duration": 317,
    "start_time": "2022-05-01T06:44:33.481Z"
   },
   {
    "duration": 35,
    "start_time": "2022-05-01T06:44:33.800Z"
   },
   {
    "duration": 683,
    "start_time": "2022-05-01T06:44:33.838Z"
   },
   {
    "duration": 1355,
    "start_time": "2022-05-01T06:44:34.523Z"
   },
   {
    "duration": 1050,
    "start_time": "2022-05-01T06:44:35.881Z"
   },
   {
    "duration": 258,
    "start_time": "2022-05-01T06:44:36.933Z"
   },
   {
    "duration": 32690,
    "start_time": "2022-05-01T06:44:37.193Z"
   },
   {
    "duration": 47599,
    "start_time": "2022-05-01T06:45:09.888Z"
   },
   {
    "duration": 90,
    "start_time": "2022-05-01T06:45:57.492Z"
   },
   {
    "duration": 2271,
    "start_time": "2022-05-01T06:45:57.585Z"
   },
   {
    "duration": 124,
    "start_time": "2022-05-01T06:45:59.858Z"
   },
   {
    "duration": 6,
    "start_time": "2022-05-01T06:45:59.984Z"
   },
   {
    "duration": 22733,
    "start_time": "2022-05-01T06:45:59.992Z"
   },
   {
    "duration": 1809749,
    "start_time": "2022-05-01T06:46:22.727Z"
   },
   {
    "duration": 217,
    "start_time": "2022-05-02T19:42:56.863Z"
   }
  ],
  "kernelspec": {
   "display_name": "Python 3 (ipykernel)",
   "language": "python",
   "name": "python3"
  },
  "language_info": {
   "codemirror_mode": {
    "name": "ipython",
    "version": 3
   },
   "file_extension": ".py",
   "mimetype": "text/x-python",
   "name": "python",
   "nbconvert_exporter": "python",
   "pygments_lexer": "ipython3",
   "version": "3.9.5"
  },
  "toc": {
   "base_numbering": 1,
   "nav_menu": {},
   "number_sections": true,
   "sideBar": true,
   "skip_h1_title": true,
   "title_cell": "Table of Contents",
   "title_sidebar": "Contents",
   "toc_cell": false,
   "toc_position": {},
   "toc_section_display": true,
   "toc_window_display": false
  }
 },
 "nbformat": 4,
 "nbformat_minor": 2
}
