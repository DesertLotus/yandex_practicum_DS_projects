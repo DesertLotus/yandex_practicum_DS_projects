{
 "cells": [
  {
   "cell_type": "markdown",
   "metadata": {},
   "source": [
    "# Рекомендация тарифов"
   ]
  },
  {
   "cell_type": "markdown",
   "metadata": {},
   "source": [
    "Оператор мобильной связи «Мегалайн» выяснил: многие клиенты пользуются архивными тарифами. Они хотят построить систему, способную проанализировать поведение клиентов и предложить пользователям новый тариф: «Смарт» или «Ультра»."
   ]
  },
  {
   "cell_type": "markdown",
   "metadata": {},
   "source": [
    "В вашем распоряжении данные о поведении клиентов, которые уже перешли на эти тарифы (из проекта курса «Статистический анализ данных»). Нужно построить модель для задачи классификации, которая выберет подходящий тариф. Предобработка данных не понадобится — вы её уже сделали.\n",
    "\n",
    "Постройте модель с максимально большим значением *accuracy*. Чтобы сдать проект успешно, нужно довести долю правильных ответов по крайней мере до 0.75. Проверьте *accuracy* на тестовой выборке самостоятельно."
   ]
  },
  {
   "cell_type": "markdown",
   "metadata": {},
   "source": [
    "## Откройте и изучите файл"
   ]
  },
  {
   "cell_type": "markdown",
   "metadata": {},
   "source": [
    "Импортируем нужные библиотеки:"
   ]
  },
  {
   "cell_type": "code",
   "execution_count": 1,
   "metadata": {},
   "outputs": [],
   "source": [
    "import pandas as pd # импорт библиотеки pandas \n",
    "import matplotlib.pyplot as plt # импорт библиотеки matplotlib\n",
    "import seaborn as sns # импорт библиотеки seaborn\n",
    "import numpy as np # импорт библиотеки nump\n",
    "from scipy import stats as st # импорт библиотеки scipy\n",
    "import random\n",
    "\n",
    "from sklearn.metrics import accuracy_score # импорт метрики из библиотеки sklearn \n",
    "from sklearn.model_selection import train_test_split # импорт разделителя\n",
    "from sklearn.tree import DecisionTreeClassifier # импорт дерева решений\n",
    "from sklearn.ensemble import RandomForestClassifier # импорт классификатора случайного леса\n",
    "from sklearn.linear_model import LogisticRegression # импорт линейной регрессии \n",
    "from catboost import CatBoostClassifier, Pool # импорт классификатора библиотеки CatBoost\n",
    "\n",
    "from sklearn.dummy import DummyClassifier # испорт Dummy для проверки адекватности\n",
    "\n",
    "import time\n",
    "from tqdm import tqdm # импорт библиотеки tqdm для просмотра прогресса обучения модели"
   ]
  },
  {
   "cell_type": "markdown",
   "metadata": {},
   "source": [
    "Изучим базу данных:"
   ]
  },
  {
   "cell_type": "code",
   "execution_count": 2,
   "metadata": {},
   "outputs": [],
   "source": [
    "df = pd.read_csv('/datasets/users_behavior.csv')"
   ]
  },
  {
   "cell_type": "code",
   "execution_count": 3,
   "metadata": {},
   "outputs": [
    {
     "data": {
      "text/html": [
       "<div>\n",
       "<style scoped>\n",
       "    .dataframe tbody tr th:only-of-type {\n",
       "        vertical-align: middle;\n",
       "    }\n",
       "\n",
       "    .dataframe tbody tr th {\n",
       "        vertical-align: top;\n",
       "    }\n",
       "\n",
       "    .dataframe thead th {\n",
       "        text-align: right;\n",
       "    }\n",
       "</style>\n",
       "<table border=\"1\" class=\"dataframe\">\n",
       "  <thead>\n",
       "    <tr style=\"text-align: right;\">\n",
       "      <th></th>\n",
       "      <th>calls</th>\n",
       "      <th>minutes</th>\n",
       "      <th>messages</th>\n",
       "      <th>mb_used</th>\n",
       "      <th>is_ultra</th>\n",
       "    </tr>\n",
       "  </thead>\n",
       "  <tbody>\n",
       "    <tr>\n",
       "      <td>0</td>\n",
       "      <td>40.0</td>\n",
       "      <td>311.90</td>\n",
       "      <td>83.0</td>\n",
       "      <td>19915.42</td>\n",
       "      <td>0</td>\n",
       "    </tr>\n",
       "    <tr>\n",
       "      <td>1</td>\n",
       "      <td>85.0</td>\n",
       "      <td>516.75</td>\n",
       "      <td>56.0</td>\n",
       "      <td>22696.96</td>\n",
       "      <td>0</td>\n",
       "    </tr>\n",
       "    <tr>\n",
       "      <td>2</td>\n",
       "      <td>77.0</td>\n",
       "      <td>467.66</td>\n",
       "      <td>86.0</td>\n",
       "      <td>21060.45</td>\n",
       "      <td>0</td>\n",
       "    </tr>\n",
       "    <tr>\n",
       "      <td>3</td>\n",
       "      <td>106.0</td>\n",
       "      <td>745.53</td>\n",
       "      <td>81.0</td>\n",
       "      <td>8437.39</td>\n",
       "      <td>1</td>\n",
       "    </tr>\n",
       "    <tr>\n",
       "      <td>4</td>\n",
       "      <td>66.0</td>\n",
       "      <td>418.74</td>\n",
       "      <td>1.0</td>\n",
       "      <td>14502.75</td>\n",
       "      <td>0</td>\n",
       "    </tr>\n",
       "  </tbody>\n",
       "</table>\n",
       "</div>"
      ],
      "text/plain": [
       "   calls  minutes  messages   mb_used  is_ultra\n",
       "0   40.0   311.90      83.0  19915.42         0\n",
       "1   85.0   516.75      56.0  22696.96         0\n",
       "2   77.0   467.66      86.0  21060.45         0\n",
       "3  106.0   745.53      81.0   8437.39         1\n",
       "4   66.0   418.74       1.0  14502.75         0"
      ]
     },
     "execution_count": 3,
     "metadata": {},
     "output_type": "execute_result"
    }
   ],
   "source": [
    "df.head()"
   ]
  },
  {
   "cell_type": "code",
   "execution_count": 4,
   "metadata": {},
   "outputs": [
    {
     "name": "stdout",
     "output_type": "stream",
     "text": [
      "<class 'pandas.core.frame.DataFrame'>\n",
      "RangeIndex: 3214 entries, 0 to 3213\n",
      "Data columns (total 5 columns):\n",
      "calls       3214 non-null float64\n",
      "minutes     3214 non-null float64\n",
      "messages    3214 non-null float64\n",
      "mb_used     3214 non-null float64\n",
      "is_ultra    3214 non-null int64\n",
      "dtypes: float64(4), int64(1)\n",
      "memory usage: 125.7 KB\n"
     ]
    }
   ],
   "source": [
    "df.info()"
   ]
  },
  {
   "cell_type": "markdown",
   "metadata": {},
   "source": [
    "Каждый объект в наборе данных — это информация о поведении одного пользователя за месяц. Известно:\n",
    "* `сalls` — количество звонков,\n",
    "* `minutes` — суммарная длительность звонков в минутах,\n",
    "* `messages` — количество sms-сообщений,\n",
    "* `mb_used` — израсходованный интернет-трафик в Мб,\n",
    "* `is_ultra` — каким тарифом пользовался в течение месяца («Ультра» — 1, «Смарт» — 0)."
   ]
  },
  {
   "cell_type": "markdown",
   "metadata": {},
   "source": [
    "Проверим дубликаты:"
   ]
  },
  {
   "cell_type": "code",
   "execution_count": 5,
   "metadata": {},
   "outputs": [
    {
     "data": {
      "text/plain": [
       "0"
      ]
     },
     "execution_count": 5,
     "metadata": {},
     "output_type": "execute_result"
    }
   ],
   "source": [
    "df.duplicated().sum()"
   ]
  },
  {
   "cell_type": "markdown",
   "metadata": {},
   "source": [
    "Посмотрим на выбросы с помощью boxplot:"
   ]
  },
  {
   "cell_type": "code",
   "execution_count": 6,
   "metadata": {},
   "outputs": [
    {
     "data": {
      "image/png": "[encoded data removed]",
      "text/plain": [
       "<Figure size 1080x216 with 1 Axes>"
      ]
     },
     "metadata": {
      "needs_background": "light"
     },
     "output_type": "display_data"
    },
    {
     "data": {
      "image/png": "[encoded data removed]",
      "text/plain": [
       "<Figure size 1080x216 with 1 Axes>"
      ]
     },
     "metadata": {
      "needs_background": "light"
     },
     "output_type": "display_data"
    },
    {
     "data": {
      "image/png": "[encoded data removed]",
      "text/plain": [
       "<Figure size 1080x216 with 1 Axes>"
      ]
     },
     "metadata": {
      "needs_background": "light"
     },
     "output_type": "display_data"
    },
    {
     "data": {
      "image/png": "[encoded data removed]",
      "text/plain": [
       "<Figure size 1080x216 with 1 Axes>"
      ]
     },
     "metadata": {
      "needs_background": "light"
     },
     "output_type": "display_data"
    },
    {
     "data": {
      "image/png": "[encoded data removed]",
      "text/plain": [
       "<Figure size 1080x216 with 1 Axes>"
      ]
     },
     "metadata": {
      "needs_background": "light"
     },
     "output_type": "display_data"
    }
   ],
   "source": [
    "for col in df.columns:\n",
    "    plt.figure(figsize=(15,3))\n",
    "    df.boxplot(col, vert=False)\n",
    "    plt.title(f'График по столбцу {col}', fontsize='x-large')\n",
    "    plt.show()"
   ]
  },
  {
   "cell_type": "markdown",
   "metadata": {},
   "source": [
    "Построим гистограммы значений по каждому столбцу:"
   ]
  },
  {
   "cell_type": "code",
   "execution_count": 7,
   "metadata": {},
   "outputs": [
    {
     "data": {
      "image/png": "[encoded data removed]",
      "text/plain": [
       "<Figure size 1080x1080 with 6 Axes>"
      ]
     },
     "metadata": {
      "needs_background": "light"
     },
     "output_type": "display_data"
    }
   ],
   "source": [
    "df.hist(figsize=(15,15))\n",
    "plt.show()"
   ]
  },
  {
   "cell_type": "markdown",
   "metadata": {},
   "source": [
    "### Вывод:"
   ]
  },
  {
   "cell_type": "markdown",
   "metadata": {},
   "source": [
    "* Количество строк в базе данных - `3214`\n",
    "* Количество пользователей smart и ultra отличается, нужно будет учесть в разделении выборок\n",
    "* Дубликатов и пустых значений нет"
   ]
  },
  {
   "cell_type": "markdown",
   "metadata": {},
   "source": [
    "## Разбейте данные на выборки"
   ]
  },
  {
   "cell_type": "markdown",
   "metadata": {},
   "source": [
    "Какую часть данных отвести под валидационную выборку, решают в зависимости от количества объектов, признаков и вариативности\n",
    "данных. Вот два самых распространённых сценария:\n",
    "\n",
    "1. Доступен исходный датасет, а тестовая выборка спрятана. Тогда рекомендуется 75% данных отвести под обучающую, а 25% — под валидационную. Соотношение 3:1.\n",
    "2. Спрятанной тестовой выборки нет. Значит, данные нужно разбить на три части: обучающую, валидационную и тестовую. Размеры тестового и валидационного наборов обычно равны. Исходные данные разбивают в соотношении 3:1:1.\n",
    "\n",
    "Воспользуемся вторым методом, так как тестовой выборки нет.\n",
    "\n",
    "**Выведем нужные нам столбцы и и присвоим их к новым переменным:**"
   ]
  },
  {
   "cell_type": "code",
   "execution_count": 8,
   "metadata": {},
   "outputs": [],
   "source": [
    "df_features = df.drop('is_ultra', axis=1) # датасет без target \n",
    "df_target = df['is_ultra'] # target "
   ]
  },
  {
   "cell_type": "markdown",
   "metadata": {},
   "source": [
    "Разделим выборки:\n",
    "\n",
    "> По ранее полученным графикам видно, что количество пользователей `smart` и `ultra` отличается, значит, воспользуемся стратификацией, для более точных предсказаний"
   ]
  },
  {
   "cell_type": "code",
   "execution_count": 9,
   "metadata": {},
   "outputs": [],
   "source": [
    "# воспользуемся train_test_split с стратификацией по target\n",
    "\n",
    "df_f_train, df_f_test, df_t_train, df_t_test = train_test_split(df_features,\n",
    "                                                                df_target,\n",
    "                                                                test_size=0.2,\n",
    "                                                                random_state=12345, \n",
    "                                                                stratify=df_target)"
   ]
  },
  {
   "cell_type": "code",
   "execution_count": 10,
   "metadata": {},
   "outputs": [],
   "source": [
    "# воспользуемся train_test_split с стратификацией по target\n",
    "\n",
    "df_f_train, df_f_valid, df_t_train, df_t_valid = train_test_split(df_f_train,\n",
    "                                                                df_t_train,\n",
    "                                                                test_size=0.25,\n",
    "                                                                random_state=12345, \n",
    "                                                                stratify=df_t_train)"
   ]
  },
  {
   "cell_type": "markdown",
   "metadata": {},
   "source": [
    "### Вывод"
   ]
  },
  {
   "cell_type": "markdown",
   "metadata": {},
   "source": [
    "Данные разделены, можно приступать к исследованию моделей."
   ]
  },
  {
   "cell_type": "markdown",
   "metadata": {},
   "source": [
    "## Исследуйте модели"
   ]
  },
  {
   "cell_type": "markdown",
   "metadata": {},
   "source": [
    "Для машинного обучения на тренировочной выборке воспользуемся ранее изученными способами классификации:\n",
    "\n",
    "1. Дерево решений\n",
    "2. Случайный лес\n",
    "3. Линейная регрессия\n",
    "\n",
    "И так же подберём гиперпараметры на валидацонной выборке.\n",
    "\n",
    "И для эксперимента продолжим исследование на одной из популярных моделей, ранее не изученных мной, градиентного бустинга: `CatBoost` \n",
    "\n",
    "Для метрики качества воспользуемся функцией `accuracy`, так как она предназначена для задач классификации."
   ]
  },
  {
   "cell_type": "markdown",
   "metadata": {},
   "source": [
    "### Дерево решений"
   ]
  },
  {
   "cell_type": "markdown",
   "metadata": {},
   "source": [
    "Рассмотрим одну популярную модель — решающее дерево. Оно может описывать процесс принятия решения почти в любой ситуации. На основе значений признаков формулируются ответы, а затем выстраивается дерево с ответами «Да»/«Нет» и различными вариантами действий"
   ]
  },
  {
   "cell_type": "markdown",
   "metadata": {},
   "source": [
    "Для сравнения гиперпараметров, создадим отдельную таблицу, где будем смотреть наши параметры и точность:"
   ]
  },
  {
   "cell_type": "code",
   "execution_count": 11,
   "metadata": {},
   "outputs": [],
   "source": [
    "table_tree = pd.DataFrame({'max_depth':[], 'accuracy':[]})"
   ]
  },
  {
   "cell_type": "code",
   "execution_count": 12,
   "metadata": {},
   "outputs": [
    {
     "name": "stderr",
     "output_type": "stream",
     "text": [
      "100%|██████████| 10/10 [00:00<00:00, 93.49it/s]\n"
     ]
    }
   ],
   "source": [
    "# запустим цикл с перебором глубины дерева от 1 до 10\n",
    "\n",
    "for depth in tqdm(range(1, 11)):\n",
    "    row = [] # строка для заполнения таблицы\n",
    "    model = DecisionTreeClassifier(random_state=12345, max_depth=depth) # задаём параметры\n",
    "    model.fit(df_f_train, df_t_train) # учим модель \n",
    "    predictions_valid = model.predict(df_f_valid) # предсказываем\n",
    "    accuracy = accuracy_score(df_t_valid, predictions_valid) # смотрим точность\n",
    "    row.extend([depth, accuracy]) # добавляем к строке данные\n",
    "    table_tree.loc[len(table_tree.index)] = row # заполняем таблицу"
   ]
  },
  {
   "cell_type": "markdown",
   "metadata": {},
   "source": [
    "**Результат:**"
   ]
  },
  {
   "cell_type": "code",
   "execution_count": 13,
   "metadata": {},
   "outputs": [
    {
     "data": {
      "text/html": [
       "<div>\n",
       "<style scoped>\n",
       "    .dataframe tbody tr th:only-of-type {\n",
       "        vertical-align: middle;\n",
       "    }\n",
       "\n",
       "    .dataframe tbody tr th {\n",
       "        vertical-align: top;\n",
       "    }\n",
       "\n",
       "    .dataframe thead th {\n",
       "        text-align: right;\n",
       "    }\n",
       "</style>\n",
       "<table border=\"1\" class=\"dataframe\">\n",
       "  <thead>\n",
       "    <tr style=\"text-align: right;\">\n",
       "      <th></th>\n",
       "      <th>max_depth</th>\n",
       "      <th>accuracy</th>\n",
       "    </tr>\n",
       "  </thead>\n",
       "  <tbody>\n",
       "    <tr>\n",
       "      <td>0</td>\n",
       "      <td>1.0</td>\n",
       "      <td>0.758942</td>\n",
       "    </tr>\n",
       "    <tr>\n",
       "      <td>1</td>\n",
       "      <td>2.0</td>\n",
       "      <td>0.783826</td>\n",
       "    </tr>\n",
       "    <tr>\n",
       "      <td>2</td>\n",
       "      <td>3.0</td>\n",
       "      <td>0.804044</td>\n",
       "    </tr>\n",
       "    <tr>\n",
       "      <td>3</td>\n",
       "      <td>4.0</td>\n",
       "      <td>0.804044</td>\n",
       "    </tr>\n",
       "    <tr>\n",
       "      <td>4</td>\n",
       "      <td>5.0</td>\n",
       "      <td>0.816485</td>\n",
       "    </tr>\n",
       "    <tr>\n",
       "      <td>5</td>\n",
       "      <td>6.0</td>\n",
       "      <td>0.802488</td>\n",
       "    </tr>\n",
       "    <tr>\n",
       "      <td>6</td>\n",
       "      <td>7.0</td>\n",
       "      <td>0.807154</td>\n",
       "    </tr>\n",
       "    <tr>\n",
       "      <td>7</td>\n",
       "      <td>8.0</td>\n",
       "      <td>0.805599</td>\n",
       "    </tr>\n",
       "    <tr>\n",
       "      <td>8</td>\n",
       "      <td>9.0</td>\n",
       "      <td>0.811820</td>\n",
       "    </tr>\n",
       "    <tr>\n",
       "      <td>9</td>\n",
       "      <td>10.0</td>\n",
       "      <td>0.805599</td>\n",
       "    </tr>\n",
       "  </tbody>\n",
       "</table>\n",
       "</div>"
      ],
      "text/plain": [
       "   max_depth  accuracy\n",
       "0        1.0  0.758942\n",
       "1        2.0  0.783826\n",
       "2        3.0  0.804044\n",
       "3        4.0  0.804044\n",
       "4        5.0  0.816485\n",
       "5        6.0  0.802488\n",
       "6        7.0  0.807154\n",
       "7        8.0  0.805599\n",
       "8        9.0  0.811820\n",
       "9       10.0  0.805599"
      ]
     },
     "execution_count": 13,
     "metadata": {},
     "output_type": "execute_result"
    }
   ],
   "source": [
    "table_tree"
   ]
  },
  {
   "cell_type": "code",
   "execution_count": 14,
   "metadata": {
    "scrolled": false
   },
   "outputs": [
    {
     "data": {
      "image/png": "[encoded data removed]",
      "text/plain": [
       "<Figure size 720x720 with 1 Axes>"
      ]
     },
     "metadata": {
      "needs_background": "light"
     },
     "output_type": "display_data"
    }
   ],
   "source": [
    "# посмотрим график\n",
    "\n",
    "table_tree.plot.bar(x='max_depth', y='accuracy', ylim=(0.75, 0.82), figsize=(10,10), color='blue')\n",
    "plt.show()"
   ]
  },
  {
   "cell_type": "markdown",
   "metadata": {},
   "source": [
    "Максимальная точность получилась при глубине - `5`, сохраним наш результат:"
   ]
  },
  {
   "cell_type": "code",
   "execution_count": 15,
   "metadata": {
    "scrolled": false
   },
   "outputs": [
    {
     "name": "stderr",
     "output_type": "stream",
     "text": [
      "/opt/conda/lib/python3.7/site-packages/ipykernel_launcher.py:3: SettingWithCopyWarning: \n",
      "A value is trying to be set on a copy of a slice from a DataFrame.\n",
      "Try using .loc[row_indexer,col_indexer] = value instead\n",
      "\n",
      "See the caveats in the documentation: http://pandas.pydata.org/pandas-docs/stable/user_guide/indexing.html#returning-a-view-versus-a-copy\n",
      "  This is separate from the ipykernel package so we can avoid doing imports until\n"
     ]
    },
    {
     "data": {
      "text/html": [
       "<div>\n",
       "<style scoped>\n",
       "    .dataframe tbody tr th:only-of-type {\n",
       "        vertical-align: middle;\n",
       "    }\n",
       "\n",
       "    .dataframe tbody tr th {\n",
       "        vertical-align: top;\n",
       "    }\n",
       "\n",
       "    .dataframe thead th {\n",
       "        text-align: right;\n",
       "    }\n",
       "</style>\n",
       "<table border=\"1\" class=\"dataframe\">\n",
       "  <thead>\n",
       "    <tr style=\"text-align: right;\">\n",
       "      <th></th>\n",
       "      <th>max_depth</th>\n",
       "      <th>accuracy</th>\n",
       "      <th>model</th>\n",
       "    </tr>\n",
       "  </thead>\n",
       "  <tbody>\n",
       "    <tr>\n",
       "      <td>4</td>\n",
       "      <td>5.0</td>\n",
       "      <td>0.816485</td>\n",
       "      <td>decision tree</td>\n",
       "    </tr>\n",
       "  </tbody>\n",
       "</table>\n",
       "</div>"
      ],
      "text/plain": [
       "   max_depth  accuracy          model\n",
       "4        5.0  0.816485  decision tree"
      ]
     },
     "execution_count": 15,
     "metadata": {},
     "output_type": "execute_result"
    }
   ],
   "source": [
    "best_tree = table_tree[table_tree['accuracy'] == table_tree['accuracy'].max()]\n",
    "\n",
    "best_tree['model'] = ['decision tree']\n",
    "\n",
    "best_tree"
   ]
  },
  {
   "cell_type": "code",
   "execution_count": 42,
   "metadata": {},
   "outputs": [
    {
     "data": {
      "image/png": "[encoded data removed]",
      "text/plain": [
       "<Figure size 720x720 with 1 Axes>"
      ]
     },
     "metadata": {
      "needs_background": "light"
     },
     "output_type": "display_data"
    }
   ],
   "source": [
    "table_tree.plot(x='max_depth', y='accuracy', ylim=(0.75, 0.82), figsize=(10,10), color='blue', lw=2)\n",
    "plt.show()"
   ]
  },
  {
   "cell_type": "markdown",
   "metadata": {},
   "source": [
    "### Случайный лес"
   ]
  },
  {
   "cell_type": "markdown",
   "metadata": {},
   "source": [
    "Один из алгоритмов классификации — случайный лес (random forest). Алгоритм обучает большое количество независимых друг от друга\n",
    "деревьев, а потом принимает решение на основе голосования"
   ]
  },
  {
   "cell_type": "markdown",
   "metadata": {},
   "source": [
    "Для сравнения гиперпараметров, создадим отдельную таблицу, где будем смотреть наши параметры и точность:"
   ]
  },
  {
   "cell_type": "code",
   "execution_count": 16,
   "metadata": {},
   "outputs": [],
   "source": [
    "table_forest = pd.DataFrame({'n_estimators':[], 'max_depth':[], 'accuracy':[]})"
   ]
  },
  {
   "cell_type": "code",
   "execution_count": 17,
   "metadata": {},
   "outputs": [
    {
     "name": "stderr",
     "output_type": "stream",
     "text": [
      "100%|██████████| 5/5 [00:05<00:00,  1.06s/it]\n"
     ]
    }
   ],
   "source": [
    "# запустим цикл с перебором количества деревьев от 10 до 50 с шагом 10\n",
    "# и глубины дерева от 1 до 10\n",
    "\n",
    "for est in tqdm(range(10, 51, 10)):\n",
    "    for depth in range (1, 11):\n",
    "        row = []\n",
    "        model = RandomForestClassifier(random_state=12345, n_estimators=est, max_depth=depth)\n",
    "        model.fit(df_f_train, df_t_train)\n",
    "        predictions_valid = model.predict(df_f_valid)\n",
    "        accuracy = accuracy_score(df_t_valid, predictions_valid)\n",
    "        row.extend([est, depth, accuracy])\n",
    "        table_forest.loc[len(table_forest.index)] = row"
   ]
  },
  {
   "cell_type": "markdown",
   "metadata": {},
   "source": [
    "**Результат:**"
   ]
  },
  {
   "cell_type": "code",
   "execution_count": 18,
   "metadata": {
    "scrolled": false
   },
   "outputs": [
    {
     "data": {
      "text/html": [
       "<div>\n",
       "<style scoped>\n",
       "    .dataframe tbody tr th:only-of-type {\n",
       "        vertical-align: middle;\n",
       "    }\n",
       "\n",
       "    .dataframe tbody tr th {\n",
       "        vertical-align: top;\n",
       "    }\n",
       "\n",
       "    .dataframe thead th {\n",
       "        text-align: right;\n",
       "    }\n",
       "</style>\n",
       "<table border=\"1\" class=\"dataframe\">\n",
       "  <thead>\n",
       "    <tr style=\"text-align: right;\">\n",
       "      <th></th>\n",
       "      <th>n_estimators</th>\n",
       "      <th>max_depth</th>\n",
       "      <th>accuracy</th>\n",
       "    </tr>\n",
       "  </thead>\n",
       "  <tbody>\n",
       "    <tr>\n",
       "      <td>0</td>\n",
       "      <td>10.0</td>\n",
       "      <td>1.0</td>\n",
       "      <td>0.751166</td>\n",
       "    </tr>\n",
       "    <tr>\n",
       "      <td>1</td>\n",
       "      <td>10.0</td>\n",
       "      <td>2.0</td>\n",
       "      <td>0.782271</td>\n",
       "    </tr>\n",
       "    <tr>\n",
       "      <td>2</td>\n",
       "      <td>10.0</td>\n",
       "      <td>3.0</td>\n",
       "      <td>0.793157</td>\n",
       "    </tr>\n",
       "    <tr>\n",
       "      <td>3</td>\n",
       "      <td>10.0</td>\n",
       "      <td>4.0</td>\n",
       "      <td>0.821151</td>\n",
       "    </tr>\n",
       "    <tr>\n",
       "      <td>4</td>\n",
       "      <td>10.0</td>\n",
       "      <td>5.0</td>\n",
       "      <td>0.814930</td>\n",
       "    </tr>\n",
       "    <tr>\n",
       "      <td>5</td>\n",
       "      <td>10.0</td>\n",
       "      <td>6.0</td>\n",
       "      <td>0.814930</td>\n",
       "    </tr>\n",
       "    <tr>\n",
       "      <td>6</td>\n",
       "      <td>10.0</td>\n",
       "      <td>7.0</td>\n",
       "      <td>0.819596</td>\n",
       "    </tr>\n",
       "    <tr>\n",
       "      <td>7</td>\n",
       "      <td>10.0</td>\n",
       "      <td>8.0</td>\n",
       "      <td>0.832037</td>\n",
       "    </tr>\n",
       "    <tr>\n",
       "      <td>8</td>\n",
       "      <td>10.0</td>\n",
       "      <td>9.0</td>\n",
       "      <td>0.821151</td>\n",
       "    </tr>\n",
       "    <tr>\n",
       "      <td>9</td>\n",
       "      <td>10.0</td>\n",
       "      <td>10.0</td>\n",
       "      <td>0.810264</td>\n",
       "    </tr>\n",
       "  </tbody>\n",
       "</table>\n",
       "</div>"
      ],
      "text/plain": [
       "   n_estimators  max_depth  accuracy\n",
       "0          10.0        1.0  0.751166\n",
       "1          10.0        2.0  0.782271\n",
       "2          10.0        3.0  0.793157\n",
       "3          10.0        4.0  0.821151\n",
       "4          10.0        5.0  0.814930\n",
       "5          10.0        6.0  0.814930\n",
       "6          10.0        7.0  0.819596\n",
       "7          10.0        8.0  0.832037\n",
       "8          10.0        9.0  0.821151\n",
       "9          10.0       10.0  0.810264"
      ]
     },
     "execution_count": 18,
     "metadata": {},
     "output_type": "execute_result"
    }
   ],
   "source": [
    "table_forest.head(10)"
   ]
  },
  {
   "cell_type": "markdown",
   "metadata": {},
   "source": [
    "Для простоты визуализации зададим функцию, которая подберет случайный цвет для графика в формате RGBA"
   ]
  },
  {
   "cell_type": "code",
   "execution_count": 19,
   "metadata": {},
   "outputs": [],
   "source": [
    "def random_color():\n",
    "    color = \"#\"+''.join([random.choice('0123456789ABCDEF') for j in range(6)])\n",
    "    return color"
   ]
  },
  {
   "cell_type": "markdown",
   "metadata": {},
   "source": [
    "Рассмотрим графики:"
   ]
  },
  {
   "cell_type": "code",
   "execution_count": 20,
   "metadata": {
    "scrolled": false
   },
   "outputs": [
    {
     "data": {
      "image/png": "[encoded data removed]",
      "text/plain": [
       "<Figure size 864x864 with 1 Axes>"
      ]
     },
     "metadata": {
      "needs_background": "light"
     },
     "output_type": "display_data"
    },
    {
     "data": {
      "image/png": "[encoded data removed]",
      "text/plain": [
       "<Figure size 864x864 with 1 Axes>"
      ]
     },
     "metadata": {
      "needs_background": "light"
     },
     "output_type": "display_data"
    },
    {
     "data": {
      "image/png": "[encoded data removed]",
      "text/plain": [
       "<Figure size 864x864 with 1 Axes>"
      ]
     },
     "metadata": {
      "needs_background": "light"
     },
     "output_type": "display_data"
    },
    {
     "data": {
      "image/png": "[encoded data removed]",
      "text/plain": [
       "<Figure size 864x864 with 1 Axes>"
      ]
     },
     "metadata": {
      "needs_background": "light"
     },
     "output_type": "display_data"
    },
    {
     "data": {
      "image/png": "[encoded data removed]",
      "text/plain": [
       "<Figure size 864x864 with 1 Axes>"
      ]
     },
     "metadata": {
      "needs_background": "light"
     },
     "output_type": "display_data"
    }
   ],
   "source": [
    "for est in range(10, 51, 10):\n",
    "    table_forest\n",
    "    table_forest[table_forest['n_estimators'] == est].plot.bar(x='max_depth', \n",
    "                                                               y='accuracy', \n",
    "                                                               ylim=(0.74, 0.85), \n",
    "                                                               figsize=(12,12), \n",
    "                                                               color=random_color())\n",
    "    plt.ylabel('Точность', fontsize='x-large')\n",
    "    plt.xlabel('Глубина', fontsize='x-large')\n",
    "    plt.title(f'Для {est} деревьев', fontsize='x-large')\n",
    "    plt.show()"
   ]
  },
  {
   "cell_type": "markdown",
   "metadata": {},
   "source": [
    "Максимальная точность получилась:\n",
    "* при количестве - `10`\n",
    "* при глубине - `8`.\n",
    "\n",
    "Сохраним наш результат:"
   ]
  },
  {
   "cell_type": "code",
   "execution_count": 21,
   "metadata": {},
   "outputs": [
    {
     "name": "stderr",
     "output_type": "stream",
     "text": [
      "/opt/conda/lib/python3.7/site-packages/ipykernel_launcher.py:3: SettingWithCopyWarning: \n",
      "A value is trying to be set on a copy of a slice from a DataFrame.\n",
      "Try using .loc[row_indexer,col_indexer] = value instead\n",
      "\n",
      "See the caveats in the documentation: http://pandas.pydata.org/pandas-docs/stable/user_guide/indexing.html#returning-a-view-versus-a-copy\n",
      "  This is separate from the ipykernel package so we can avoid doing imports until\n"
     ]
    },
    {
     "data": {
      "text/html": [
       "<div>\n",
       "<style scoped>\n",
       "    .dataframe tbody tr th:only-of-type {\n",
       "        vertical-align: middle;\n",
       "    }\n",
       "\n",
       "    .dataframe tbody tr th {\n",
       "        vertical-align: top;\n",
       "    }\n",
       "\n",
       "    .dataframe thead th {\n",
       "        text-align: right;\n",
       "    }\n",
       "</style>\n",
       "<table border=\"1\" class=\"dataframe\">\n",
       "  <thead>\n",
       "    <tr style=\"text-align: right;\">\n",
       "      <th></th>\n",
       "      <th>n_estimators</th>\n",
       "      <th>max_depth</th>\n",
       "      <th>accuracy</th>\n",
       "      <th>model</th>\n",
       "    </tr>\n",
       "  </thead>\n",
       "  <tbody>\n",
       "    <tr>\n",
       "      <td>7</td>\n",
       "      <td>10.0</td>\n",
       "      <td>8.0</td>\n",
       "      <td>0.832037</td>\n",
       "      <td>random forest</td>\n",
       "    </tr>\n",
       "  </tbody>\n",
       "</table>\n",
       "</div>"
      ],
      "text/plain": [
       "   n_estimators  max_depth  accuracy          model\n",
       "7          10.0        8.0  0.832037  random forest"
      ]
     },
     "execution_count": 21,
     "metadata": {},
     "output_type": "execute_result"
    }
   ],
   "source": [
    "best_forest = table_forest[table_forest['accuracy'] == table_forest['accuracy'].max()]\n",
    "\n",
    "best_forest['model'] = 'random forest'\n",
    "\n",
    "best_forest"
   ]
  },
  {
   "cell_type": "code",
   "execution_count": 93,
   "metadata": {
    "scrolled": false
   },
   "outputs": [
    {
     "data": {
      "image/png": "[encoded data removed]",
      "text/plain": [
       "<Figure size 1080x720 with 1 Axes>"
      ]
     },
     "metadata": {
      "needs_background": "light"
     },
     "output_type": "display_data"
    }
   ],
   "source": [
    "fig, ax1 = plt.subplots(figsize=(15,10))\n",
    "\n",
    "for est in range(10, 51, 10):\n",
    "    table_pivot = table_forest[table_forest['n_estimators'] == est].reset_index()\n",
    "    ax1.plot(table_pivot.index, 'accuracy', data=table_pivot, lw=2.5, label=est)\n",
    "    plt.legend(loc='lower right')\n",
    "\n",
    "plt.show()"
   ]
  },
  {
   "cell_type": "markdown",
   "metadata": {},
   "source": [
    "### Логистическая регрессия"
   ]
  },
  {
   "cell_type": "markdown",
   "metadata": {},
   "source": [
    "Ещё один алгоритм машинного обучения — логистическая регрессия.\n",
    "\n",
    "Если название и «мимикрирует» под задачу регрессии, всё-таки это алгоритм классификации. Логистическая регрессия:\n",
    "* Сначала считает, к какому классу близок объект\n",
    "* В зависимости от ответа выбирает нужный класс: если результат вычисления положительный, то — «1»; отрицательный — «0».\n",
    "\n",
    "В логистической регрессии параметров мало. Что-либо вызубрить по признакам в формуле не выйдет, поэтому и вероятность переобучения невелика."
   ]
  },
  {
   "cell_type": "code",
   "execution_count": 22,
   "metadata": {
    "scrolled": true
   },
   "outputs": [
    {
     "name": "stderr",
     "output_type": "stream",
     "text": [
      "/opt/conda/lib/python3.7/site-packages/sklearn/linear_model/logistic.py:432: FutureWarning: Default solver will be changed to 'lbfgs' in 0.22. Specify a solver to silence this warning.\n",
      "  FutureWarning)\n"
     ]
    },
    {
     "data": {
      "text/plain": [
       "0.7045101088646968"
      ]
     },
     "execution_count": 22,
     "metadata": {},
     "output_type": "execute_result"
    }
   ],
   "source": [
    "# запустим модель и посмотрим результат\n",
    "\n",
    "model_log = LogisticRegression(random_state=12345)\n",
    "model_log.fit(df_f_train, df_t_train)\n",
    "answers_log = model_log.predict(df_f_valid)\n",
    "accuracy_log = accuracy_score(df_t_valid, answers_log)\n",
    "\n",
    "accuracy_log"
   ]
  },
  {
   "cell_type": "markdown",
   "metadata": {},
   "source": [
    "Сохраним результат:"
   ]
  },
  {
   "cell_type": "code",
   "execution_count": 23,
   "metadata": {},
   "outputs": [
    {
     "data": {
      "text/html": [
       "<div>\n",
       "<style scoped>\n",
       "    .dataframe tbody tr th:only-of-type {\n",
       "        vertical-align: middle;\n",
       "    }\n",
       "\n",
       "    .dataframe tbody tr th {\n",
       "        vertical-align: top;\n",
       "    }\n",
       "\n",
       "    .dataframe thead th {\n",
       "        text-align: right;\n",
       "    }\n",
       "</style>\n",
       "<table border=\"1\" class=\"dataframe\">\n",
       "  <thead>\n",
       "    <tr style=\"text-align: right;\">\n",
       "      <th></th>\n",
       "      <th>model</th>\n",
       "      <th>accuracy</th>\n",
       "    </tr>\n",
       "  </thead>\n",
       "  <tbody>\n",
       "    <tr>\n",
       "      <td>0</td>\n",
       "      <td>logistic regression</td>\n",
       "      <td>0.70451</td>\n",
       "    </tr>\n",
       "  </tbody>\n",
       "</table>\n",
       "</div>"
      ],
      "text/plain": [
       "                 model  accuracy\n",
       "0  logistic regression   0.70451"
      ]
     },
     "execution_count": 23,
     "metadata": {},
     "output_type": "execute_result"
    }
   ],
   "source": [
    "table_log = pd.DataFrame({'model': ['logistic regression'], 'accuracy': accuracy_log})\n",
    "\n",
    "table_log"
   ]
  },
  {
   "cell_type": "markdown",
   "metadata": {},
   "source": [
    "Точность при использовании логистической регрессии низкая для поставленной нам цели: всего лишь `0.70451`.\n",
    "\n",
    "Соответственно, не будем рассматривать далее этот способ на тестовой выборке."
   ]
  },
  {
   "cell_type": "markdown",
   "metadata": {},
   "source": [
    "### CatBoost (Градиентный бустинг)"
   ]
  },
  {
   "cell_type": "markdown",
   "metadata": {},
   "source": [
    "В градиентном бустинге прогнозы делаются на основе ансамбля слабых обучающих алгоритмов. В отличие от случайного леса, который создает дерево решений для каждой выборки, в градиентном бустинге деревья создаются последовательно. Предыдущие деревья в модели не изменяются. Результаты предыдущего дерева используются для улучшения последующего. \n",
    "\n",
    "`CatBoost` — это библиотека градиентного бустинга, созданная Яндексом. Она использует небрежные (oblivious) деревья решений, чтобы вырастить сбалансированное дерево. Одни и те же функции используются для создания левых и правых разделений (split) на каждом уровне дерева."
   ]
  },
  {
   "cell_type": "code",
   "execution_count": 24,
   "metadata": {},
   "outputs": [],
   "source": [
    "# создаём таблицу для записи решений\n",
    "\n",
    "table_cat = pd.DataFrame({'iterations':[], 'max_depth':[], 'accuracy':[]})"
   ]
  },
  {
   "cell_type": "code",
   "execution_count": 25,
   "metadata": {},
   "outputs": [
    {
     "name": "stderr",
     "output_type": "stream",
     "text": [
      "100%|██████████| 10/10 [12:31<00:00, 75.11s/it] \n"
     ]
    }
   ],
   "source": [
    "# запустим цикл с перебором количества деревьев от 100 до 1000 с шагом 100\n",
    "# и глубины дерева от 6 до 11 (на основании рекомндаций в документации)\n",
    "\n",
    "for it in tqdm(range(100, 1001, 100)):\n",
    "    for depth in range(6, 11):\n",
    "        row = []\n",
    "        model = CatBoostClassifier(random_state=12345, iterations=it, max_depth=depth) # \n",
    "        model.fit(df_f_train, df_t_train, verbose=False) # обучите модель на тренировочной выборке\n",
    "        predictions_valid = model.predict(df_f_valid) # получите предсказания модели на валидационной выборке\n",
    "        accuracy = accuracy_score(df_t_valid, predictions_valid)\n",
    "        row.extend([it, depth, accuracy])\n",
    "        table_cat.loc[len(table_cat.index)] = row"
   ]
  },
  {
   "cell_type": "markdown",
   "metadata": {},
   "source": [
    "**Результат:**"
   ]
  },
  {
   "cell_type": "code",
   "execution_count": 26,
   "metadata": {},
   "outputs": [
    {
     "data": {
      "text/html": [
       "<div>\n",
       "<style scoped>\n",
       "    .dataframe tbody tr th:only-of-type {\n",
       "        vertical-align: middle;\n",
       "    }\n",
       "\n",
       "    .dataframe tbody tr th {\n",
       "        vertical-align: top;\n",
       "    }\n",
       "\n",
       "    .dataframe thead th {\n",
       "        text-align: right;\n",
       "    }\n",
       "</style>\n",
       "<table border=\"1\" class=\"dataframe\">\n",
       "  <thead>\n",
       "    <tr style=\"text-align: right;\">\n",
       "      <th></th>\n",
       "      <th>iterations</th>\n",
       "      <th>max_depth</th>\n",
       "      <th>accuracy</th>\n",
       "    </tr>\n",
       "  </thead>\n",
       "  <tbody>\n",
       "    <tr>\n",
       "      <td>0</td>\n",
       "      <td>100.0</td>\n",
       "      <td>6.0</td>\n",
       "      <td>0.821151</td>\n",
       "    </tr>\n",
       "    <tr>\n",
       "      <td>1</td>\n",
       "      <td>100.0</td>\n",
       "      <td>7.0</td>\n",
       "      <td>0.827372</td>\n",
       "    </tr>\n",
       "    <tr>\n",
       "      <td>2</td>\n",
       "      <td>100.0</td>\n",
       "      <td>8.0</td>\n",
       "      <td>0.816485</td>\n",
       "    </tr>\n",
       "    <tr>\n",
       "      <td>3</td>\n",
       "      <td>100.0</td>\n",
       "      <td>9.0</td>\n",
       "      <td>0.822706</td>\n",
       "    </tr>\n",
       "    <tr>\n",
       "      <td>4</td>\n",
       "      <td>100.0</td>\n",
       "      <td>10.0</td>\n",
       "      <td>0.825816</td>\n",
       "    </tr>\n",
       "  </tbody>\n",
       "</table>\n",
       "</div>"
      ],
      "text/plain": [
       "   iterations  max_depth  accuracy\n",
       "0       100.0        6.0  0.821151\n",
       "1       100.0        7.0  0.827372\n",
       "2       100.0        8.0  0.816485\n",
       "3       100.0        9.0  0.822706\n",
       "4       100.0       10.0  0.825816"
      ]
     },
     "execution_count": 26,
     "metadata": {},
     "output_type": "execute_result"
    }
   ],
   "source": [
    "table_cat.head()"
   ]
  },
  {
   "cell_type": "markdown",
   "metadata": {},
   "source": [
    "Рассмотрим графики:"
   ]
  },
  {
   "cell_type": "code",
   "execution_count": 27,
   "metadata": {
    "scrolled": false
   },
   "outputs": [
    {
     "data": {
      "image/png": "[encoded data removed]",
      "text/plain": [
       "<Figure size 720x720 with 1 Axes>"
      ]
     },
     "metadata": {
      "needs_background": "light"
     },
     "output_type": "display_data"
    },
    {
     "data": {
      "image/png": "[encoded data removed]",
      "text/plain": [
       "<Figure size 720x720 with 1 Axes>"
      ]
     },
     "metadata": {
      "needs_background": "light"
     },
     "output_type": "display_data"
    },
    {
     "data": {
      "image/png": "[encoded data removed]",
      "text/plain": [
       "<Figure size 720x720 with 1 Axes>"
      ]
     },
     "metadata": {
      "needs_background": "light"
     },
     "output_type": "display_data"
    },
    {
     "data": {
      "image/png": "[encoded data removed]",
      "text/plain": [
       "<Figure size 720x720 with 1 Axes>"
      ]
     },
     "metadata": {
      "needs_background": "light"
     },
     "output_type": "display_data"
    },
    {
     "data": {
      "image/png": "[encoded data removed]",
      "text/plain": [
       "<Figure size 720x720 with 1 Axes>"
      ]
     },
     "metadata": {
      "needs_background": "light"
     },
     "output_type": "display_data"
    },
    {
     "data": {
      "image/png": "[encoded data removed]",
      "text/plain": [
       "<Figure size 720x720 with 1 Axes>"
      ]
     },
     "metadata": {
      "needs_background": "light"
     },
     "output_type": "display_data"
    },
    {
     "data": {
      "image/png": "[encoded data removed]",
      "text/plain": [
       "<Figure size 720x720 with 1 Axes>"
      ]
     },
     "metadata": {
      "needs_background": "light"
     },
     "output_type": "display_data"
    },
    {
     "data": {
      "image/png": "[encoded data removed]",
      "text/plain": [
       "<Figure size 720x720 with 1 Axes>"
      ]
     },
     "metadata": {
      "needs_background": "light"
     },
     "output_type": "display_data"
    },
    {
     "data": {
      "image/png": "[encoded data removed]",
      "text/plain": [
       "<Figure size 720x720 with 1 Axes>"
      ]
     },
     "metadata": {
      "needs_background": "light"
     },
     "output_type": "display_data"
    },
    {
     "data": {
      "image/png": "[encoded data removed]",
      "text/plain": [
       "<Figure size 720x720 with 1 Axes>"
      ]
     },
     "metadata": {
      "needs_background": "light"
     },
     "output_type": "display_data"
    }
   ],
   "source": [
    "for est in range(100, 1001, 100):\n",
    "    table_cat\n",
    "    table_cat[table_cat['iterations'] == est].plot.bar(x='max_depth', \n",
    "                                                         y='accuracy', \n",
    "                                                         ylim=(0.79, 0.84), \n",
    "                                                         figsize=(10,10), \n",
    "                                                         color=random_color())\n",
    "    plt.ylabel('Точность', fontsize='x-large')\n",
    "    plt.xlabel('Глубина', fontsize='x-large')\n",
    "    plt.title(f'Для {est} деревьев', fontsize='x-large')\n",
    "    plt.show()"
   ]
  },
  {
   "cell_type": "markdown",
   "metadata": {},
   "source": [
    "Максимальная точность получилась:\n",
    "* при количестве - `100`, `200`, `400`, `700`\n",
    "* и при их глубине - `7`, `10`, `6`.\n",
    "\n",
    "При предсказании в тестовой выборке, возьмём тот вариант, где обучение будет проходить быстрее.\n",
    "\n",
    "Сохраним наш результат:"
   ]
  },
  {
   "cell_type": "code",
   "execution_count": 28,
   "metadata": {
    "scrolled": true
   },
   "outputs": [
    {
     "data": {
      "text/html": [
       "<div>\n",
       "<style scoped>\n",
       "    .dataframe tbody tr th:only-of-type {\n",
       "        vertical-align: middle;\n",
       "    }\n",
       "\n",
       "    .dataframe tbody tr th {\n",
       "        vertical-align: top;\n",
       "    }\n",
       "\n",
       "    .dataframe thead th {\n",
       "        text-align: right;\n",
       "    }\n",
       "</style>\n",
       "<table border=\"1\" class=\"dataframe\">\n",
       "  <thead>\n",
       "    <tr style=\"text-align: right;\">\n",
       "      <th></th>\n",
       "      <th>index</th>\n",
       "      <th>iterations</th>\n",
       "      <th>max_depth</th>\n",
       "      <th>accuracy</th>\n",
       "      <th>model</th>\n",
       "    </tr>\n",
       "  </thead>\n",
       "  <tbody>\n",
       "    <tr>\n",
       "      <td>0</td>\n",
       "      <td>1</td>\n",
       "      <td>100.0</td>\n",
       "      <td>7.0</td>\n",
       "      <td>0.827372</td>\n",
       "      <td>cat boost</td>\n",
       "    </tr>\n",
       "    <tr>\n",
       "      <td>1</td>\n",
       "      <td>6</td>\n",
       "      <td>200.0</td>\n",
       "      <td>7.0</td>\n",
       "      <td>0.827372</td>\n",
       "      <td>cat boost</td>\n",
       "    </tr>\n",
       "    <tr>\n",
       "      <td>2</td>\n",
       "      <td>9</td>\n",
       "      <td>200.0</td>\n",
       "      <td>10.0</td>\n",
       "      <td>0.827372</td>\n",
       "      <td>cat boost</td>\n",
       "    </tr>\n",
       "    <tr>\n",
       "      <td>3</td>\n",
       "      <td>15</td>\n",
       "      <td>400.0</td>\n",
       "      <td>6.0</td>\n",
       "      <td>0.827372</td>\n",
       "      <td>cat boost</td>\n",
       "    </tr>\n",
       "    <tr>\n",
       "      <td>4</td>\n",
       "      <td>34</td>\n",
       "      <td>700.0</td>\n",
       "      <td>10.0</td>\n",
       "      <td>0.827372</td>\n",
       "      <td>cat boost</td>\n",
       "    </tr>\n",
       "  </tbody>\n",
       "</table>\n",
       "</div>"
      ],
      "text/plain": [
       "   index  iterations  max_depth  accuracy      model\n",
       "0      1       100.0        7.0  0.827372  cat boost\n",
       "1      6       200.0        7.0  0.827372  cat boost\n",
       "2      9       200.0       10.0  0.827372  cat boost\n",
       "3     15       400.0        6.0  0.827372  cat boost\n",
       "4     34       700.0       10.0  0.827372  cat boost"
      ]
     },
     "execution_count": 28,
     "metadata": {},
     "output_type": "execute_result"
    }
   ],
   "source": [
    "best_cat = table_cat[table_cat['accuracy'] == table_cat['accuracy'].max()].reset_index()\n",
    "\n",
    "best_cat['model'] = 'cat boost'\n",
    "\n",
    "best_cat"
   ]
  },
  {
   "cell_type": "markdown",
   "metadata": {},
   "source": [
    "### Вывод:"
   ]
  },
  {
   "cell_type": "markdown",
   "metadata": {},
   "source": [
    "Рассмотрим наши результаты:"
   ]
  },
  {
   "cell_type": "code",
   "execution_count": 29,
   "metadata": {},
   "outputs": [
    {
     "name": "stderr",
     "output_type": "stream",
     "text": [
      "/opt/conda/lib/python3.7/site-packages/pandas/core/frame.py:7123: FutureWarning: Sorting because non-concatenation axis is not aligned. A future version\n",
      "of pandas will change to not sort by default.\n",
      "\n",
      "To accept the future behavior, pass 'sort=False'.\n",
      "\n",
      "To retain the current behavior and silence the warning, pass 'sort=True'.\n",
      "\n",
      "  sort=sort,\n"
     ]
    },
    {
     "data": {
      "text/html": [
       "<div>\n",
       "<style scoped>\n",
       "    .dataframe tbody tr th:only-of-type {\n",
       "        vertical-align: middle;\n",
       "    }\n",
       "\n",
       "    .dataframe tbody tr th {\n",
       "        vertical-align: top;\n",
       "    }\n",
       "\n",
       "    .dataframe thead th {\n",
       "        text-align: right;\n",
       "    }\n",
       "</style>\n",
       "<table border=\"1\" class=\"dataframe\">\n",
       "  <thead>\n",
       "    <tr style=\"text-align: right;\">\n",
       "      <th></th>\n",
       "      <th>model</th>\n",
       "      <th>n_estimators</th>\n",
       "      <th>iterations</th>\n",
       "      <th>max_depth</th>\n",
       "      <th>accuracy</th>\n",
       "    </tr>\n",
       "  </thead>\n",
       "  <tbody>\n",
       "    <tr>\n",
       "      <td>0</td>\n",
       "      <td>decision tree</td>\n",
       "      <td>NaN</td>\n",
       "      <td>NaN</td>\n",
       "      <td>5.0</td>\n",
       "      <td>0.816485</td>\n",
       "    </tr>\n",
       "    <tr>\n",
       "      <td>1</td>\n",
       "      <td>random forest</td>\n",
       "      <td>10.0</td>\n",
       "      <td>NaN</td>\n",
       "      <td>8.0</td>\n",
       "      <td>0.832037</td>\n",
       "    </tr>\n",
       "    <tr>\n",
       "      <td>2</td>\n",
       "      <td>logistic regression</td>\n",
       "      <td>NaN</td>\n",
       "      <td>NaN</td>\n",
       "      <td>NaN</td>\n",
       "      <td>0.704510</td>\n",
       "    </tr>\n",
       "    <tr>\n",
       "      <td>3</td>\n",
       "      <td>cat boost</td>\n",
       "      <td>NaN</td>\n",
       "      <td>100.0</td>\n",
       "      <td>7.0</td>\n",
       "      <td>0.827372</td>\n",
       "    </tr>\n",
       "  </tbody>\n",
       "</table>\n",
       "</div>"
      ],
      "text/plain": [
       "                 model  n_estimators  iterations  max_depth  accuracy\n",
       "0        decision tree           NaN         NaN        5.0  0.816485\n",
       "1        random forest          10.0         NaN        8.0  0.832037\n",
       "2  logistic regression           NaN         NaN        NaN  0.704510\n",
       "3            cat boost           NaN       100.0        7.0  0.827372"
      ]
     },
     "execution_count": 29,
     "metadata": {},
     "output_type": "execute_result"
    }
   ],
   "source": [
    "# сводная таблица по лучшим моделям\n",
    "\n",
    "best = pd.DataFrame({'model':[], 'n_estimators':[], 'iterations':[], 'max_depth':[], 'accuracy':[]})\n",
    "\n",
    "best = best.append(best_tree, ignore_index=True)\n",
    "best = best.append(best_forest, ignore_index=True)\n",
    "best = best.append(table_log, ignore_index=True)\n",
    "best = best.append(best_cat.loc[0], ignore_index=True)\n",
    "\n",
    "best = best[['model', 'n_estimators', 'iterations', 'max_depth', 'accuracy']]\n",
    "\n",
    "best"
   ]
  },
  {
   "cell_type": "markdown",
   "metadata": {},
   "source": [
    "Рассмотрим графики:"
   ]
  },
  {
   "cell_type": "code",
   "execution_count": 30,
   "metadata": {},
   "outputs": [
    {
     "data": {
      "image/png": "[encoded data removed]",
      "text/plain": [
       "<Figure size 1080x576 with 1 Axes>"
      ]
     },
     "metadata": {
      "needs_background": "light"
     },
     "output_type": "display_data"
    }
   ],
   "source": [
    "best.plot.bar(x='model', y='accuracy', rot=0, ylim=(0.65, 0.85), figsize=(15,8), color='blue')\n",
    "plt.title('Сравнение лучших показателей моделей', fontsize='x-large')\n",
    "plt.xlabel('Модель', fontsize='x-large')\n",
    "plt.ylabel('Точность', fontsize='x-large')\n",
    "plt.show()"
   ]
  },
  {
   "cell_type": "markdown",
   "metadata": {},
   "source": [
    "Лучшие показатели среди моделей:\n",
    "\n",
    "* Дерево решений - `0.816`\n",
    "* Случайный лес - `0.832`\n",
    "* Логистическая регрессия - `0.704`\n",
    "* Градиентный бустинг - `0.827`\n",
    "\n",
    "Для соответсвенно, для тестовой выборки возьмём те модели, которые показали значения выше `0.75`"
   ]
  },
  {
   "cell_type": "markdown",
   "metadata": {},
   "source": [
    "## Проверьте модель на тестовой выборке"
   ]
  },
  {
   "cell_type": "markdown",
   "metadata": {},
   "source": [
    "Проверим наши модели с лучшими гиперпараметрами на тестовой выборке:"
   ]
  },
  {
   "cell_type": "markdown",
   "metadata": {},
   "source": [
    "### Дерево решений"
   ]
  },
  {
   "cell_type": "markdown",
   "metadata": {},
   "source": [
    "Возьмём лучшие гиперпараметры и посмотрим результат точности на тестовой выборке:"
   ]
  },
  {
   "cell_type": "code",
   "execution_count": 31,
   "metadata": {},
   "outputs": [],
   "source": [
    "model = DecisionTreeClassifier(random_state=12345, max_depth=7) \n",
    "model.fit(df_f_train, df_t_train)\n",
    "predictions_test = model.predict(df_f_test) \n",
    "accuracy_tree = accuracy_score(df_t_test, predictions_test) "
   ]
  },
  {
   "cell_type": "markdown",
   "metadata": {},
   "source": [
    "**Вывод:**"
   ]
  },
  {
   "cell_type": "code",
   "execution_count": 32,
   "metadata": {},
   "outputs": [
    {
     "data": {
      "text/plain": [
       "'Результат точности дерева решений: 0.7822706065318819'"
      ]
     },
     "execution_count": 32,
     "metadata": {},
     "output_type": "execute_result"
    }
   ],
   "source": [
    "f'Результат точности дерева решений: {accuracy_tree}'"
   ]
  },
  {
   "cell_type": "markdown",
   "metadata": {},
   "source": [
    "### Случайный лес"
   ]
  },
  {
   "cell_type": "markdown",
   "metadata": {},
   "source": [
    "Возьмём лучшие гиперпараметры и посмотрим результат точности на тестовой выборке:"
   ]
  },
  {
   "cell_type": "code",
   "execution_count": 33,
   "metadata": {},
   "outputs": [],
   "source": [
    "model = RandomForestClassifier(random_state=12345, n_estimators=50, max_depth=10)\n",
    "model.fit(df_f_train, df_t_train)\n",
    "predictions_test = model.predict(df_f_test)  \n",
    "accuracy_forest = accuracy_score(df_t_test, predictions_test)  "
   ]
  },
  {
   "cell_type": "markdown",
   "metadata": {},
   "source": [
    "**Вывод:**"
   ]
  },
  {
   "cell_type": "code",
   "execution_count": 34,
   "metadata": {},
   "outputs": [
    {
     "data": {
      "text/plain": [
       "'Результат точности случайного леса: 0.8180404354587869'"
      ]
     },
     "execution_count": 34,
     "metadata": {},
     "output_type": "execute_result"
    }
   ],
   "source": [
    "f'Результат точности случайного леса: {accuracy_forest}'"
   ]
  },
  {
   "cell_type": "markdown",
   "metadata": {},
   "source": [
    "### CatBoost (Градиентный бустинг)"
   ]
  },
  {
   "cell_type": "markdown",
   "metadata": {},
   "source": [
    "Возьмём лучшие гиперпараметры и посмотрим результат точности на тестовой выборке:"
   ]
  },
  {
   "cell_type": "code",
   "execution_count": 35,
   "metadata": {
    "scrolled": true
   },
   "outputs": [
    {
     "name": "stderr",
     "output_type": "stream",
     "text": [
      "100%|██████████| 100/100 [04:54<00:00,  2.95s/it]\n"
     ]
    }
   ],
   "source": [
    "# возьмем лучшие гиперпараметры из таблицы\n",
    "\n",
    "for i in tqdm(range(1,101)):\n",
    "    model = CatBoostClassifier(random_state=12345, \n",
    "                               iterations=best_cat.loc[0, 'iterations'], \n",
    "                               max_depth=best_cat.loc[0, 'max_depth'])  \n",
    "    model.fit(df_f_train, df_t_train, verbose=False) \n",
    "    predictions_test = model.predict(df_f_test) \n",
    "    accuracy_cat = accuracy_score(df_t_test, predictions_test)"
   ]
  },
  {
   "cell_type": "markdown",
   "metadata": {},
   "source": [
    "**Вывод:**"
   ]
  },
  {
   "cell_type": "code",
   "execution_count": 36,
   "metadata": {},
   "outputs": [
    {
     "data": {
      "text/plain": [
       "'Результат точности градиентного бустинга: 0.8149300155520995'"
      ]
     },
     "execution_count": 36,
     "metadata": {},
     "output_type": "execute_result"
    }
   ],
   "source": [
    "f'Результат точности градиентного бустинга: {accuracy_cat}'"
   ]
  },
  {
   "cell_type": "markdown",
   "metadata": {},
   "source": [
    "## Общий вывод:"
   ]
  },
  {
   "cell_type": "markdown",
   "metadata": {},
   "source": [
    "Создадим отдельную табличку с результатами на тестовой выборке:"
   ]
  },
  {
   "cell_type": "code",
   "execution_count": 37,
   "metadata": {},
   "outputs": [
    {
     "data": {
      "text/html": [
       "<div>\n",
       "<style scoped>\n",
       "    .dataframe tbody tr th:only-of-type {\n",
       "        vertical-align: middle;\n",
       "    }\n",
       "\n",
       "    .dataframe tbody tr th {\n",
       "        vertical-align: top;\n",
       "    }\n",
       "\n",
       "    .dataframe thead th {\n",
       "        text-align: right;\n",
       "    }\n",
       "</style>\n",
       "<table border=\"1\" class=\"dataframe\">\n",
       "  <thead>\n",
       "    <tr style=\"text-align: right;\">\n",
       "      <th></th>\n",
       "      <th>accuracy</th>\n",
       "      <th>model</th>\n",
       "    </tr>\n",
       "  </thead>\n",
       "  <tbody>\n",
       "    <tr>\n",
       "      <td>0</td>\n",
       "      <td>0.782271</td>\n",
       "      <td>Дерево решений</td>\n",
       "    </tr>\n",
       "    <tr>\n",
       "      <td>1</td>\n",
       "      <td>0.818040</td>\n",
       "      <td>Случайный лес</td>\n",
       "    </tr>\n",
       "    <tr>\n",
       "      <td>2</td>\n",
       "      <td>0.814930</td>\n",
       "      <td>Градиентный бустинг</td>\n",
       "    </tr>\n",
       "  </tbody>\n",
       "</table>\n",
       "</div>"
      ],
      "text/plain": [
       "   accuracy                model\n",
       "0  0.782271       Дерево решений\n",
       "1  0.818040        Случайный лес\n",
       "2  0.814930  Градиентный бустинг"
      ]
     },
     "execution_count": 37,
     "metadata": {},
     "output_type": "execute_result"
    }
   ],
   "source": [
    "# создаём и заполняем таблицу\n",
    "\n",
    "best_test = pd.DataFrame({'accuracy':[accuracy_tree, accuracy_forest, accuracy_cat]})\n",
    "\n",
    "best_test['model'] = np.nan\n",
    "for i in range(0,3):\n",
    "    models = ['Дерево решений', 'Случайный лес', 'Градиентный бустинг']\n",
    "    best_test.loc[i, 'model'] = models[i]\n",
    "    \n",
    "best_test"
   ]
  },
  {
   "cell_type": "markdown",
   "metadata": {},
   "source": [
    "Построим график результатов:"
   ]
  },
  {
   "cell_type": "code",
   "execution_count": 38,
   "metadata": {
    "scrolled": false
   },
   "outputs": [
    {
     "data": {
      "image/png": "[encoded data removed]",
      "text/plain": [
       "<Figure size 720x720 with 1 Axes>"
      ]
     },
     "metadata": {
      "needs_background": "light"
     },
     "output_type": "display_data"
    }
   ],
   "source": [
    "best_test.plot.bar(x='model', ylim=(0.77, 0.83), figsize=(10,10), rot=45)\n",
    "plt.title('Сравнение точности на тестовой выборке', fontsize='x-large')\n",
    "plt.xlabel('Модель', fontsize='x-large')\n",
    "plt.ylabel('Точность', fontsize='x-large')\n",
    "plt.show()"
   ]
  },
  {
   "cell_type": "markdown",
   "metadata": {},
   "source": [
    "**На основании полученных результатов:**\n",
    "\n",
    "Лучшие показатели на тестовой выборке показала модель случайного леса с точностью `0.818040`.\n",
    "\n",
    "Для предсказаний, стоит пользоваться моделью случайного дерева с параметрами: \n",
    "* количество - `50`\n",
    "* глубина - `10`"
   ]
  },
  {
   "cell_type": "markdown",
   "metadata": {},
   "source": [
    "## (бонус) Проверьте модели на адекватность"
   ]
  },
  {
   "cell_type": "markdown",
   "metadata": {},
   "source": [
    "Для проверки адекватности модели мы можем воспользоваться `DummyClassifier`, который всегда предсказывает мажоритарный класс (в данном случае класс **«0»** - `smart`), чтобы проиллюстрировать, насколько малоинформативной может быть правильность:"
   ]
  },
  {
   "cell_type": "code",
   "execution_count": 39,
   "metadata": {},
   "outputs": [
    {
     "name": "stdout",
     "output_type": "stream",
     "text": [
      "Спрогнозированные метки: [0]\n",
      "Правильность на тестовом наборе: 0.69\n"
     ]
    }
   ],
   "source": [
    "dummy_majority = DummyClassifier(strategy='most_frequent').fit(df_f_train, df_t_train)\n",
    "pred_most_frequent = dummy_majority.predict(df_f_test)\n",
    "print(\"Спрогнозированные метки: {}\".format(np.unique(pred_most_frequent)))\n",
    "print(\"Правильность на тестовом наборе: {:.2f}\".format(dummy_majority.score(df_f_test, df_t_test)))"
   ]
  },
  {
   "cell_type": "markdown",
   "metadata": {},
   "source": [
    "Дамми-классификатор, который генерирует случайные прогнозы, имеет намного худшее качество (с точки зрения точности). \n",
    "Однако даже случайный классификатор дает `69%`-ную правильность. \n",
    "\n",
    "Проблема здесь заключается в том, что для несбалансированных наборов данных правильность не является адекватной метрикой, позволяющей количественно оценить прогностическую способность модели."
   ]
  },
  {
   "cell_type": "markdown",
   "metadata": {},
   "source": [
    "## Чек-лист готовности проекта"
   ]
  },
  {
   "cell_type": "markdown",
   "metadata": {},
   "source": [
    "Поставьте 'x' в выполненных пунктах. Далее нажмите Shift+Enter."
   ]
  },
  {
   "cell_type": "markdown",
   "metadata": {},
   "source": [
    "- [x] Jupyter Notebook открыт\n",
    "- [x] Весь код исполняется без ошибок\n",
    "- [x] Ячейки с кодом расположены в порядке исполнения\n",
    "- [x] Выполнено задание 1: данные загружены и изучены\n",
    "- [x] Выполнено задание 2: данные разбиты на три выборки\n",
    "- [x] Выполнено задание 3: проведено исследование моделей\n",
    "    - [x] Рассмотрено больше одной модели\n",
    "    - [x] Рассмотрено хотя бы 3 значения гипепараметров для какой-нибудь модели\n",
    "    - [x] Написаны выводы по результатам исследования\n",
    "- [x] Выполнено задание 3: Проведено тестирование\n",
    "- [x] Удалось достичь accuracy не меньше 0.75"
   ]
  }
 ],
 "metadata": {
  "ExecuteTimeLog": [
   {
    "duration": 346,
    "start_time": "2022-01-26T17:11:17.560Z"
   },
   {
    "duration": 1468,
    "start_time": "2022-01-26T17:11:23.645Z"
   },
   {
    "duration": 25,
    "start_time": "2022-01-26T17:11:25.116Z"
   },
   {
    "duration": 17,
    "start_time": "2022-01-26T17:11:25.457Z"
   },
   {
    "duration": 9,
    "start_time": "2022-01-26T17:12:18.324Z"
   },
   {
    "duration": 8,
    "start_time": "2022-01-26T17:20:33.145Z"
   },
   {
    "duration": 251,
    "start_time": "2022-01-26T17:21:00.261Z"
   },
   {
    "duration": 545,
    "start_time": "2022-01-26T17:21:11.133Z"
   },
   {
    "duration": 309,
    "start_time": "2022-01-26T17:21:16.182Z"
   },
   {
    "duration": 309,
    "start_time": "2022-01-26T17:21:52.596Z"
   },
   {
    "duration": 280,
    "start_time": "2022-01-26T17:21:56.265Z"
   },
   {
    "duration": 516,
    "start_time": "2022-01-26T17:22:18.570Z"
   },
   {
    "duration": 481,
    "start_time": "2022-01-26T17:22:30.827Z"
   },
   {
    "duration": 238,
    "start_time": "2022-01-26T17:22:49.645Z"
   },
   {
    "duration": 249,
    "start_time": "2022-01-26T17:23:18.288Z"
   },
   {
    "duration": 260,
    "start_time": "2022-01-26T17:23:23.387Z"
   },
   {
    "duration": 242,
    "start_time": "2022-01-26T17:23:28.251Z"
   },
   {
    "duration": 5,
    "start_time": "2022-01-26T17:24:33.106Z"
   },
   {
    "duration": 1101,
    "start_time": "2022-01-26T17:24:54.068Z"
   },
   {
    "duration": 5,
    "start_time": "2022-01-26T17:32:58.320Z"
   },
   {
    "duration": 128,
    "start_time": "2022-01-26T17:39:28.221Z"
   },
   {
    "duration": 7,
    "start_time": "2022-01-26T17:42:36.172Z"
   },
   {
    "duration": 20,
    "start_time": "2022-01-26T17:42:43.276Z"
   },
   {
    "duration": 7,
    "start_time": "2022-01-26T17:42:59.287Z"
   },
   {
    "duration": 15,
    "start_time": "2022-01-26T17:43:37.907Z"
   },
   {
    "duration": 7,
    "start_time": "2022-01-26T17:44:34.092Z"
   },
   {
    "duration": 15,
    "start_time": "2022-01-26T17:44:39.592Z"
   },
   {
    "duration": 6,
    "start_time": "2022-01-26T17:45:16.828Z"
   },
   {
    "duration": 14,
    "start_time": "2022-01-26T17:45:22.284Z"
   },
   {
    "duration": 15,
    "start_time": "2022-01-26T17:45:23.557Z"
   },
   {
    "duration": 7,
    "start_time": "2022-01-26T17:45:55.197Z"
   },
   {
    "duration": 15,
    "start_time": "2022-01-26T17:45:55.751Z"
   },
   {
    "duration": 16,
    "start_time": "2022-01-26T17:45:56.654Z"
   },
   {
    "duration": 9,
    "start_time": "2022-01-26T17:46:33.419Z"
   },
   {
    "duration": 15,
    "start_time": "2022-01-26T17:46:34.149Z"
   },
   {
    "duration": 15,
    "start_time": "2022-01-26T17:46:35.515Z"
   },
   {
    "duration": 15,
    "start_time": "2022-01-26T17:46:50.408Z"
   },
   {
    "duration": 15,
    "start_time": "2022-01-26T17:46:53.349Z"
   },
   {
    "duration": 8,
    "start_time": "2022-01-26T17:48:04.020Z"
   },
   {
    "duration": 34,
    "start_time": "2022-01-26T17:48:19.703Z"
   },
   {
    "duration": 37,
    "start_time": "2022-01-26T17:48:47.941Z"
   },
   {
    "duration": 6,
    "start_time": "2022-01-26T17:50:08.767Z"
   },
   {
    "duration": 35,
    "start_time": "2022-01-26T17:50:10.942Z"
   },
   {
    "duration": 7,
    "start_time": "2022-01-26T17:51:31.730Z"
   },
   {
    "duration": 17,
    "start_time": "2022-01-26T17:51:33.250Z"
   },
   {
    "duration": 6,
    "start_time": "2022-01-26T17:52:05.850Z"
   },
   {
    "duration": 15,
    "start_time": "2022-01-26T17:52:06.894Z"
   },
   {
    "duration": 14,
    "start_time": "2022-01-26T17:52:08.240Z"
   },
   {
    "duration": 7,
    "start_time": "2022-01-26T17:52:18.709Z"
   },
   {
    "duration": 36,
    "start_time": "2022-01-26T17:52:20.638Z"
   },
   {
    "duration": 6,
    "start_time": "2022-01-26T17:52:52.284Z"
   },
   {
    "duration": 36,
    "start_time": "2022-01-26T17:52:53.998Z"
   },
   {
    "duration": 8,
    "start_time": "2022-01-26T17:53:21.427Z"
   },
   {
    "duration": 37,
    "start_time": "2022-01-26T17:53:23.964Z"
   },
   {
    "duration": 8,
    "start_time": "2022-01-26T17:53:59.117Z"
   },
   {
    "duration": 47,
    "start_time": "2022-01-26T17:54:00.512Z"
   },
   {
    "duration": 7,
    "start_time": "2022-01-26T17:54:07.798Z"
   },
   {
    "duration": 40,
    "start_time": "2022-01-26T17:54:09.443Z"
   },
   {
    "duration": 7,
    "start_time": "2022-01-26T17:54:42.399Z"
   },
   {
    "duration": 35,
    "start_time": "2022-01-26T17:54:45.997Z"
   },
   {
    "duration": 7,
    "start_time": "2022-01-26T17:55:01.859Z"
   },
   {
    "duration": 35,
    "start_time": "2022-01-26T17:55:02.830Z"
   },
   {
    "duration": 8,
    "start_time": "2022-01-26T17:55:04.748Z"
   },
   {
    "duration": 16,
    "start_time": "2022-01-26T17:55:05.733Z"
   },
   {
    "duration": 15,
    "start_time": "2022-01-26T17:55:06.747Z"
   },
   {
    "duration": 8,
    "start_time": "2022-01-26T17:55:07.810Z"
   },
   {
    "duration": 36,
    "start_time": "2022-01-26T17:55:09.061Z"
   },
   {
    "duration": 11,
    "start_time": "2022-01-26T17:55:23.647Z"
   },
   {
    "duration": 3,
    "start_time": "2022-01-26T17:59:12.927Z"
   },
   {
    "duration": 3,
    "start_time": "2022-01-26T17:59:32.152Z"
   },
   {
    "duration": 18,
    "start_time": "2022-01-26T18:00:08.319Z"
   },
   {
    "duration": 4,
    "start_time": "2022-01-26T18:01:44.470Z"
   },
   {
    "duration": 4,
    "start_time": "2022-01-26T18:02:24.437Z"
   },
   {
    "duration": 6,
    "start_time": "2022-01-26T18:02:31.374Z"
   },
   {
    "duration": 3,
    "start_time": "2022-01-26T18:02:58.432Z"
   },
   {
    "duration": 11,
    "start_time": "2022-01-26T18:02:59.194Z"
   },
   {
    "duration": 5,
    "start_time": "2022-01-26T18:02:59.863Z"
   },
   {
    "duration": 7,
    "start_time": "2022-01-26T18:03:00.400Z"
   },
   {
    "duration": 4,
    "start_time": "2022-01-26T18:03:03.867Z"
   },
   {
    "duration": 13,
    "start_time": "2022-01-26T18:03:04.328Z"
   },
   {
    "duration": 5,
    "start_time": "2022-01-26T18:03:05.189Z"
   },
   {
    "duration": 6,
    "start_time": "2022-01-26T18:03:05.595Z"
   },
   {
    "duration": 3,
    "start_time": "2022-01-26T18:03:08.903Z"
   },
   {
    "duration": 12,
    "start_time": "2022-01-26T18:03:09.313Z"
   },
   {
    "duration": 5,
    "start_time": "2022-01-26T18:03:10.262Z"
   },
   {
    "duration": 7,
    "start_time": "2022-01-26T18:03:10.623Z"
   },
   {
    "duration": 4,
    "start_time": "2022-01-26T18:03:13.710Z"
   },
   {
    "duration": 9,
    "start_time": "2022-01-26T18:03:14.039Z"
   },
   {
    "duration": 5,
    "start_time": "2022-01-26T18:03:15.020Z"
   },
   {
    "duration": 6,
    "start_time": "2022-01-26T18:03:15.362Z"
   },
   {
    "duration": 3,
    "start_time": "2022-01-26T18:03:20.239Z"
   },
   {
    "duration": 15,
    "start_time": "2022-01-26T18:03:20.627Z"
   },
   {
    "duration": 5,
    "start_time": "2022-01-26T18:03:21.436Z"
   },
   {
    "duration": 7,
    "start_time": "2022-01-26T18:03:21.872Z"
   },
   {
    "duration": 4,
    "start_time": "2022-01-26T18:03:28.587Z"
   },
   {
    "duration": 23,
    "start_time": "2022-01-26T18:03:29.041Z"
   },
   {
    "duration": 4,
    "start_time": "2022-01-26T18:03:29.830Z"
   },
   {
    "duration": 6,
    "start_time": "2022-01-26T18:03:30.208Z"
   },
   {
    "duration": 5,
    "start_time": "2022-01-26T18:03:34.692Z"
   },
   {
    "duration": 24,
    "start_time": "2022-01-26T18:03:35.334Z"
   },
   {
    "duration": 5,
    "start_time": "2022-01-26T18:03:36.156Z"
   },
   {
    "duration": 9,
    "start_time": "2022-01-26T18:03:36.582Z"
   },
   {
    "duration": 4,
    "start_time": "2022-01-26T18:04:24.773Z"
   },
   {
    "duration": 12,
    "start_time": "2022-01-26T18:04:25.252Z"
   },
   {
    "duration": 5,
    "start_time": "2022-01-26T18:04:25.873Z"
   },
   {
    "duration": 7,
    "start_time": "2022-01-26T18:04:26.173Z"
   },
   {
    "duration": 5,
    "start_time": "2022-01-26T18:06:51.862Z"
   },
   {
    "duration": 6,
    "start_time": "2022-01-26T18:06:52.336Z"
   },
   {
    "duration": 5,
    "start_time": "2022-01-26T18:06:56.653Z"
   },
   {
    "duration": 6,
    "start_time": "2022-01-26T18:06:57.108Z"
   },
   {
    "duration": 1645,
    "start_time": "2022-01-30T07:13:31.888Z"
   },
   {
    "duration": 21,
    "start_time": "2022-01-30T07:13:33.537Z"
   },
   {
    "duration": 15,
    "start_time": "2022-01-30T07:13:33.561Z"
   },
   {
    "duration": 9,
    "start_time": "2022-01-30T07:13:33.579Z"
   },
   {
    "duration": 9,
    "start_time": "2022-01-30T07:13:33.590Z"
   },
   {
    "duration": 1302,
    "start_time": "2022-01-30T07:13:33.625Z"
   },
   {
    "duration": 7,
    "start_time": "2022-01-30T07:13:34.931Z"
   },
   {
    "duration": 13,
    "start_time": "2022-01-30T07:13:34.941Z"
   },
   {
    "duration": 15,
    "start_time": "2022-01-30T07:13:34.958Z"
   },
   {
    "duration": 48,
    "start_time": "2022-01-30T07:13:34.976Z"
   },
   {
    "duration": 9,
    "start_time": "2022-01-30T07:13:35.028Z"
   },
   {
    "duration": 42,
    "start_time": "2022-01-30T07:13:35.041Z"
   },
   {
    "duration": 45,
    "start_time": "2022-01-30T07:13:35.085Z"
   },
   {
    "duration": 5,
    "start_time": "2022-01-30T07:13:35.133Z"
   },
   {
    "duration": 114,
    "start_time": "2022-01-30T07:13:35.141Z"
   },
   {
    "duration": 4,
    "start_time": "2022-01-30T07:13:35.257Z"
   },
   {
    "duration": 9,
    "start_time": "2022-01-30T07:13:35.264Z"
   },
   {
    "duration": 8,
    "start_time": "2022-01-30T07:13:35.276Z"
   },
   {
    "duration": 10,
    "start_time": "2022-01-30T07:14:05.835Z"
   },
   {
    "duration": 7,
    "start_time": "2022-01-30T07:14:31.540Z"
   },
   {
    "duration": 4,
    "start_time": "2022-01-30T07:22:15.582Z"
   },
   {
    "duration": 25,
    "start_time": "2022-01-30T07:22:27.620Z"
   },
   {
    "duration": 5,
    "start_time": "2022-01-30T07:23:06.451Z"
   },
   {
    "duration": 7,
    "start_time": "2022-01-30T07:23:24.668Z"
   },
   {
    "duration": 9,
    "start_time": "2022-01-30T07:23:32.458Z"
   },
   {
    "duration": 956,
    "start_time": "2022-01-30T07:46:18.424Z"
   },
   {
    "duration": 1195,
    "start_time": "2022-01-30T07:46:31.855Z"
   },
   {
    "duration": 1294,
    "start_time": "2022-01-30T07:46:38.312Z"
   },
   {
    "duration": 12,
    "start_time": "2022-01-30T07:56:31.535Z"
   },
   {
    "duration": 20,
    "start_time": "2022-01-30T07:56:34.924Z"
   },
   {
    "duration": 9,
    "start_time": "2022-01-30T07:56:48.392Z"
   },
   {
    "duration": 16,
    "start_time": "2022-01-30T07:56:49.207Z"
   },
   {
    "duration": 11,
    "start_time": "2022-01-30T07:56:56.170Z"
   },
   {
    "duration": 9,
    "start_time": "2022-01-30T07:56:57.373Z"
   },
   {
    "duration": 15,
    "start_time": "2022-01-30T07:56:58.736Z"
   },
   {
    "duration": 16,
    "start_time": "2022-01-30T07:57:04.437Z"
   },
   {
    "duration": 11,
    "start_time": "2022-01-30T07:57:33.237Z"
   },
   {
    "duration": 48,
    "start_time": "2022-01-30T07:57:35.125Z"
   },
   {
    "duration": 13,
    "start_time": "2022-01-30T07:57:37.937Z"
   },
   {
    "duration": 5,
    "start_time": "2022-01-30T07:57:40.672Z"
   },
   {
    "duration": 12,
    "start_time": "2022-01-30T07:57:41.363Z"
   },
   {
    "duration": 5,
    "start_time": "2022-01-30T07:57:42.584Z"
   },
   {
    "duration": 8,
    "start_time": "2022-01-30T07:57:43.211Z"
   },
   {
    "duration": 5,
    "start_time": "2022-01-30T07:57:45.325Z"
   },
   {
    "duration": 16,
    "start_time": "2022-01-30T07:57:45.909Z"
   },
   {
    "duration": 5,
    "start_time": "2022-01-30T07:57:47.382Z"
   },
   {
    "duration": 8,
    "start_time": "2022-01-30T07:57:48.293Z"
   },
   {
    "duration": 9,
    "start_time": "2022-01-30T07:58:22.910Z"
   },
   {
    "duration": 24,
    "start_time": "2022-01-30T07:58:26.515Z"
   },
   {
    "duration": 20,
    "start_time": "2022-01-30T07:58:27.991Z"
   },
   {
    "duration": 7,
    "start_time": "2022-01-30T07:58:29.138Z"
   },
   {
    "duration": 53,
    "start_time": "2022-01-30T07:58:30.822Z"
   },
   {
    "duration": 22,
    "start_time": "2022-01-30T07:58:32.520Z"
   },
   {
    "duration": 1721,
    "start_time": "2022-01-30T07:58:37.380Z"
   },
   {
    "duration": 20,
    "start_time": "2022-01-30T07:58:39.104Z"
   },
   {
    "duration": 22,
    "start_time": "2022-01-30T07:58:39.133Z"
   },
   {
    "duration": 13,
    "start_time": "2022-01-30T07:58:39.158Z"
   },
   {
    "duration": 9,
    "start_time": "2022-01-30T07:58:39.174Z"
   },
   {
    "duration": 1332,
    "start_time": "2022-01-30T07:58:39.185Z"
   },
   {
    "duration": 1546,
    "start_time": "2022-01-30T07:58:40.520Z"
   },
   {
    "duration": 6,
    "start_time": "2022-01-30T07:58:42.072Z"
   },
   {
    "duration": 10,
    "start_time": "2022-01-30T07:58:42.082Z"
   },
   {
    "duration": 47,
    "start_time": "2022-01-30T07:58:42.095Z"
   },
   {
    "duration": 18,
    "start_time": "2022-01-30T07:58:42.145Z"
   },
   {
    "duration": 9,
    "start_time": "2022-01-30T07:58:42.166Z"
   },
   {
    "duration": 81,
    "start_time": "2022-01-30T07:58:42.178Z"
   },
   {
    "duration": 15,
    "start_time": "2022-01-30T07:58:42.262Z"
   },
   {
    "duration": 4,
    "start_time": "2022-01-30T07:58:42.279Z"
   },
   {
    "duration": 50,
    "start_time": "2022-01-30T07:58:42.286Z"
   },
   {
    "duration": 6,
    "start_time": "2022-01-30T07:58:42.339Z"
   },
   {
    "duration": 20,
    "start_time": "2022-01-30T07:58:42.347Z"
   },
   {
    "duration": 3,
    "start_time": "2022-01-30T07:58:42.371Z"
   },
   {
    "duration": 55,
    "start_time": "2022-01-30T07:58:42.378Z"
   },
   {
    "duration": 8,
    "start_time": "2022-01-30T07:58:42.436Z"
   },
   {
    "duration": 9,
    "start_time": "2022-01-30T07:58:42.447Z"
   },
   {
    "duration": 31,
    "start_time": "2022-01-30T08:01:11.218Z"
   },
   {
    "duration": 548,
    "start_time": "2022-01-30T08:03:16.408Z"
   },
   {
    "duration": 3,
    "start_time": "2022-01-30T08:11:27.637Z"
   },
   {
    "duration": 19530,
    "start_time": "2022-01-30T08:11:41.483Z"
   },
   {
    "duration": 14,
    "start_time": "2022-01-30T08:12:38.181Z"
   },
   {
    "duration": 7,
    "start_time": "2022-01-30T08:12:57.564Z"
   },
   {
    "duration": 7,
    "start_time": "2022-01-30T08:13:27.943Z"
   },
   {
    "duration": 6,
    "start_time": "2022-01-30T08:13:34.191Z"
   },
   {
    "duration": 17765,
    "start_time": "2022-01-30T08:14:05.106Z"
   },
   {
    "duration": 18489,
    "start_time": "2022-01-30T08:16:43.537Z"
   },
   {
    "duration": 5,
    "start_time": "2022-01-30T08:17:21.341Z"
   },
   {
    "duration": 331,
    "start_time": "2022-01-30T08:17:34.427Z"
   },
   {
    "duration": 399,
    "start_time": "2022-01-30T08:18:51.648Z"
   },
   {
    "duration": 305,
    "start_time": "2022-01-30T08:19:01.792Z"
   },
   {
    "duration": 302,
    "start_time": "2022-01-30T08:23:56.587Z"
   },
   {
    "duration": 364,
    "start_time": "2022-01-30T08:24:05.725Z"
   },
   {
    "duration": 3,
    "start_time": "2022-01-30T08:24:33.683Z"
   },
   {
    "duration": 4,
    "start_time": "2022-01-30T08:24:42.662Z"
   },
   {
    "duration": 9317,
    "start_time": "2022-01-30T08:24:43.695Z"
   },
   {
    "duration": 4,
    "start_time": "2022-01-30T08:24:54.412Z"
   },
   {
    "duration": 2665,
    "start_time": "2022-01-30T08:24:54.891Z"
   },
   {
    "duration": 4211,
    "start_time": "2022-01-30T08:25:13.276Z"
   },
   {
    "duration": 1588,
    "start_time": "2022-01-30T08:25:29.408Z"
   },
   {
    "duration": 20,
    "start_time": "2022-01-30T08:25:30.999Z"
   },
   {
    "duration": 22,
    "start_time": "2022-01-30T08:25:31.025Z"
   },
   {
    "duration": 14,
    "start_time": "2022-01-30T08:25:31.050Z"
   },
   {
    "duration": 14,
    "start_time": "2022-01-30T08:25:31.066Z"
   },
   {
    "duration": 1312,
    "start_time": "2022-01-30T08:25:31.083Z"
   },
   {
    "duration": 1563,
    "start_time": "2022-01-30T08:25:32.398Z"
   },
   {
    "duration": 5,
    "start_time": "2022-01-30T08:25:33.963Z"
   },
   {
    "duration": 12,
    "start_time": "2022-01-30T08:25:33.973Z"
   },
   {
    "duration": 38,
    "start_time": "2022-01-30T08:25:33.988Z"
   },
   {
    "duration": 23,
    "start_time": "2022-01-30T08:25:34.028Z"
   },
   {
    "duration": 8,
    "start_time": "2022-01-30T08:25:34.054Z"
   },
   {
    "duration": 73,
    "start_time": "2022-01-30T08:25:34.065Z"
   },
   {
    "duration": 12,
    "start_time": "2022-01-30T08:25:34.141Z"
   },
   {
    "duration": 4,
    "start_time": "2022-01-30T08:25:34.155Z"
   },
   {
    "duration": 12,
    "start_time": "2022-01-30T08:25:34.161Z"
   },
   {
    "duration": 4,
    "start_time": "2022-01-30T08:25:34.175Z"
   },
   {
    "duration": 50,
    "start_time": "2022-01-30T08:25:34.182Z"
   },
   {
    "duration": 27,
    "start_time": "2022-01-30T08:25:34.235Z"
   },
   {
    "duration": 24,
    "start_time": "2022-01-30T08:25:34.264Z"
   },
   {
    "duration": 6,
    "start_time": "2022-01-30T08:25:34.291Z"
   },
   {
    "duration": 8,
    "start_time": "2022-01-30T08:25:34.299Z"
   },
   {
    "duration": 16,
    "start_time": "2022-01-30T08:25:34.310Z"
   },
   {
    "duration": 2285,
    "start_time": "2022-01-30T08:25:34.329Z"
   },
   {
    "duration": 6,
    "start_time": "2022-01-30T08:25:36.617Z"
   },
   {
    "duration": 17,
    "start_time": "2022-01-30T08:25:36.627Z"
   },
   {
    "duration": 108,
    "start_time": "2022-01-30T08:25:53.957Z"
   },
   {
    "duration": 100,
    "start_time": "2022-01-30T08:26:01.247Z"
   },
   {
    "duration": 2181,
    "start_time": "2022-01-30T08:26:55.467Z"
   },
   {
    "duration": 6,
    "start_time": "2022-01-30T08:26:58.410Z"
   },
   {
    "duration": 7,
    "start_time": "2022-01-30T08:26:58.882Z"
   },
   {
    "duration": 3,
    "start_time": "2022-01-30T08:27:02.187Z"
   },
   {
    "duration": 8611,
    "start_time": "2022-01-30T08:27:02.783Z"
   },
   {
    "duration": 6,
    "start_time": "2022-01-30T08:27:13.497Z"
   },
   {
    "duration": 6,
    "start_time": "2022-01-30T08:27:14.688Z"
   },
   {
    "duration": 4,
    "start_time": "2022-01-30T08:27:18.536Z"
   },
   {
    "duration": 17100,
    "start_time": "2022-01-30T08:27:19.320Z"
   },
   {
    "duration": 9,
    "start_time": "2022-01-30T08:27:39.248Z"
   },
   {
    "duration": 8,
    "start_time": "2022-01-30T08:27:39.261Z"
   },
   {
    "duration": 11,
    "start_time": "2022-01-30T08:27:41.044Z"
   },
   {
    "duration": 7,
    "start_time": "2022-01-30T08:27:41.569Z"
   },
   {
    "duration": 15838,
    "start_time": "2022-01-30T08:27:49.078Z"
   },
   {
    "duration": 7,
    "start_time": "2022-01-30T08:28:04.918Z"
   },
   {
    "duration": 13,
    "start_time": "2022-01-30T08:28:04.928Z"
   },
   {
    "duration": 7,
    "start_time": "2022-01-30T08:28:21.872Z"
   },
   {
    "duration": 8,
    "start_time": "2022-01-30T08:28:40.146Z"
   },
   {
    "duration": 15,
    "start_time": "2022-01-30T08:29:12.889Z"
   },
   {
    "duration": 7,
    "start_time": "2022-01-30T08:29:19.361Z"
   },
   {
    "duration": 22,
    "start_time": "2022-01-30T08:29:41.059Z"
   },
   {
    "duration": 4,
    "start_time": "2022-01-30T08:35:58.320Z"
   },
   {
    "duration": 24,
    "start_time": "2022-01-30T08:35:59.215Z"
   },
   {
    "duration": 5,
    "start_time": "2022-01-30T08:36:01.057Z"
   },
   {
    "duration": 6,
    "start_time": "2022-01-30T08:36:01.681Z"
   },
   {
    "duration": 91,
    "start_time": "2022-01-30T08:41:15.206Z"
   },
   {
    "duration": 475,
    "start_time": "2022-01-30T08:41:23.103Z"
   },
   {
    "duration": 5,
    "start_time": "2022-01-30T08:41:30.649Z"
   },
   {
    "duration": 8,
    "start_time": "2022-01-30T08:41:36.541Z"
   },
   {
    "duration": 4,
    "start_time": "2022-01-30T08:44:24.763Z"
   },
   {
    "duration": 16,
    "start_time": "2022-01-30T08:44:34.816Z"
   },
   {
    "duration": 4,
    "start_time": "2022-01-30T08:45:24.737Z"
   },
   {
    "duration": 12,
    "start_time": "2022-01-30T08:45:25.257Z"
   },
   {
    "duration": 5,
    "start_time": "2022-01-30T08:46:40.104Z"
   },
   {
    "duration": 4,
    "start_time": "2022-01-30T08:46:40.541Z"
   },
   {
    "duration": 15,
    "start_time": "2022-01-30T08:46:41.155Z"
   },
   {
    "duration": 6,
    "start_time": "2022-01-30T08:49:52.000Z"
   },
   {
    "duration": 12,
    "start_time": "2022-01-30T08:49:56.605Z"
   },
   {
    "duration": 5,
    "start_time": "2022-01-30T08:50:01.536Z"
   },
   {
    "duration": 3,
    "start_time": "2022-01-30T08:50:02.078Z"
   },
   {
    "duration": 12,
    "start_time": "2022-01-30T08:50:02.450Z"
   },
   {
    "duration": 3,
    "start_time": "2022-01-30T08:50:26.404Z"
   },
   {
    "duration": 4,
    "start_time": "2022-01-30T08:50:31.577Z"
   },
   {
    "duration": 6,
    "start_time": "2022-01-30T08:50:34.695Z"
   },
   {
    "duration": 280,
    "start_time": "2022-01-30T08:51:31.703Z"
   },
   {
    "duration": 550,
    "start_time": "2022-01-30T08:51:56.904Z"
   },
   {
    "duration": 6,
    "start_time": "2022-01-30T08:52:16.891Z"
   },
   {
    "duration": 6,
    "start_time": "2022-01-30T08:52:39.642Z"
   },
   {
    "duration": 78,
    "start_time": "2022-01-30T08:52:40.428Z"
   },
   {
    "duration": 10,
    "start_time": "2022-01-30T08:52:46.761Z"
   },
   {
    "duration": 318,
    "start_time": "2022-01-30T08:53:22.276Z"
   },
   {
    "duration": 298,
    "start_time": "2022-01-30T08:53:25.756Z"
   },
   {
    "duration": 305,
    "start_time": "2022-01-30T08:53:36.251Z"
   },
   {
    "duration": 309,
    "start_time": "2022-01-30T08:54:00.276Z"
   },
   {
    "duration": 425,
    "start_time": "2022-01-30T08:54:07.393Z"
   },
   {
    "duration": 591,
    "start_time": "2022-01-30T08:54:42.908Z"
   },
   {
    "duration": 564,
    "start_time": "2022-01-30T08:54:45.288Z"
   },
   {
    "duration": 375,
    "start_time": "2022-01-30T08:54:48.197Z"
   },
   {
    "duration": 280,
    "start_time": "2022-01-30T08:57:03.828Z"
   },
   {
    "duration": 287,
    "start_time": "2022-01-30T08:57:10.043Z"
   },
   {
    "duration": 305,
    "start_time": "2022-01-30T08:58:46.530Z"
   },
   {
    "duration": 452,
    "start_time": "2022-01-30T08:58:58.774Z"
   },
   {
    "duration": 284,
    "start_time": "2022-01-30T09:00:38.167Z"
   },
   {
    "duration": 279,
    "start_time": "2022-01-30T09:00:46.738Z"
   },
   {
    "duration": 601,
    "start_time": "2022-01-30T09:01:04.893Z"
   },
   {
    "duration": 6,
    "start_time": "2022-01-30T09:02:46.952Z"
   },
   {
    "duration": 7179,
    "start_time": "2022-01-30T09:03:25.191Z"
   },
   {
    "duration": 394,
    "start_time": "2022-01-30T09:03:46.273Z"
   },
   {
    "duration": 8211,
    "start_time": "2022-01-30T09:03:58.552Z"
   },
   {
    "duration": 11,
    "start_time": "2022-01-30T09:04:30.268Z"
   },
   {
    "duration": 5,
    "start_time": "2022-01-30T09:04:48.647Z"
   },
   {
    "duration": 9,
    "start_time": "2022-01-30T09:04:56.227Z"
   },
   {
    "duration": 5,
    "start_time": "2022-01-30T09:05:06.938Z"
   },
   {
    "duration": 9,
    "start_time": "2022-01-30T09:05:07.369Z"
   },
   {
    "duration": 605,
    "start_time": "2022-01-30T09:05:26.035Z"
   },
   {
    "duration": 11,
    "start_time": "2022-01-30T09:05:37.119Z"
   },
   {
    "duration": 5,
    "start_time": "2022-01-30T09:07:15.727Z"
   },
   {
    "duration": 6,
    "start_time": "2022-01-30T09:09:02.947Z"
   },
   {
    "duration": 5,
    "start_time": "2022-01-30T09:09:12.430Z"
   },
   {
    "duration": 6,
    "start_time": "2022-01-30T09:09:18.685Z"
   },
   {
    "duration": 6,
    "start_time": "2022-01-30T09:09:30.507Z"
   },
   {
    "duration": 5,
    "start_time": "2022-01-30T09:09:39.391Z"
   },
   {
    "duration": 78,
    "start_time": "2022-01-30T09:12:42.913Z"
   },
   {
    "duration": 11,
    "start_time": "2022-01-30T09:12:44.250Z"
   },
   {
    "duration": 681,
    "start_time": "2022-01-30T09:12:45.727Z"
   },
   {
    "duration": 5,
    "start_time": "2022-01-30T09:12:55.767Z"
   },
   {
    "duration": 89,
    "start_time": "2022-01-30T09:12:56.208Z"
   },
   {
    "duration": 10,
    "start_time": "2022-01-30T09:12:56.934Z"
   },
   {
    "duration": 644,
    "start_time": "2022-01-30T09:12:57.709Z"
   },
   {
    "duration": 16,
    "start_time": "2022-01-30T09:13:02.003Z"
   },
   {
    "duration": 5102,
    "start_time": "2022-01-30T09:13:48.938Z"
   },
   {
    "duration": 18,
    "start_time": "2022-01-30T09:13:58.029Z"
   },
   {
    "duration": 1129,
    "start_time": "2022-01-30T09:15:04.978Z"
   },
   {
    "duration": 1109,
    "start_time": "2022-01-30T09:15:31.678Z"
   },
   {
    "duration": 3189,
    "start_time": "2022-01-30T09:19:04.070Z"
   },
   {
    "duration": 1093,
    "start_time": "2022-01-30T09:19:19.602Z"
   },
   {
    "duration": 4,
    "start_time": "2022-01-30T09:21:25.170Z"
   },
   {
    "duration": 625,
    "start_time": "2022-01-30T09:21:32.523Z"
   },
   {
    "duration": 4,
    "start_time": "2022-01-30T09:21:46.497Z"
   },
   {
    "duration": 487,
    "start_time": "2022-01-30T09:21:57.058Z"
   },
   {
    "duration": 7,
    "start_time": "2022-01-30T09:22:15.577Z"
   },
   {
    "duration": 882,
    "start_time": "2022-01-30T09:22:18.247Z"
   },
   {
    "duration": 860,
    "start_time": "2022-01-30T09:23:04.565Z"
   },
   {
    "duration": 901,
    "start_time": "2022-01-30T09:24:54.872Z"
   },
   {
    "duration": 881,
    "start_time": "2022-01-30T09:25:06.624Z"
   },
   {
    "duration": 834,
    "start_time": "2022-01-30T09:25:12.044Z"
   },
   {
    "duration": 3218,
    "start_time": "2022-01-30T09:26:42.354Z"
   },
   {
    "duration": 6,
    "start_time": "2022-01-30T09:27:15.421Z"
   },
   {
    "duration": 2950,
    "start_time": "2022-01-30T09:27:26.137Z"
   },
   {
    "duration": 5,
    "start_time": "2022-01-30T09:28:42.720Z"
   },
   {
    "duration": 9,
    "start_time": "2022-01-30T09:28:49.428Z"
   },
   {
    "duration": 90,
    "start_time": "2022-01-30T09:29:28.031Z"
   },
   {
    "duration": 87,
    "start_time": "2022-01-30T09:29:41.530Z"
   },
   {
    "duration": 102,
    "start_time": "2022-01-30T09:30:08.256Z"
   },
   {
    "duration": 99,
    "start_time": "2022-01-30T09:30:26.771Z"
   },
   {
    "duration": 92,
    "start_time": "2022-01-30T09:30:36.081Z"
   },
   {
    "duration": 98,
    "start_time": "2022-01-30T09:31:12.657Z"
   },
   {
    "duration": 4,
    "start_time": "2022-01-30T09:31:19.150Z"
   },
   {
    "duration": 6,
    "start_time": "2022-01-30T09:31:22.365Z"
   },
   {
    "duration": 6,
    "start_time": "2022-01-30T09:31:40.688Z"
   },
   {
    "duration": 6,
    "start_time": "2022-01-30T09:32:36.337Z"
   },
   {
    "duration": 6,
    "start_time": "2022-01-30T09:33:18.200Z"
   },
   {
    "duration": 482,
    "start_time": "2022-01-30T09:33:48.321Z"
   },
   {
    "duration": 6,
    "start_time": "2022-01-30T09:34:34.262Z"
   },
   {
    "duration": 6,
    "start_time": "2022-01-30T09:34:39.643Z"
   },
   {
    "duration": 3003,
    "start_time": "2022-01-30T09:34:52.295Z"
   },
   {
    "duration": 3180,
    "start_time": "2022-01-30T09:35:45.382Z"
   },
   {
    "duration": 3072,
    "start_time": "2022-01-30T09:36:59.156Z"
   },
   {
    "duration": 2449,
    "start_time": "2022-01-30T09:37:09.354Z"
   },
   {
    "duration": 2457,
    "start_time": "2022-01-30T09:37:23.611Z"
   },
   {
    "duration": 2447,
    "start_time": "2022-01-30T09:37:42.811Z"
   },
   {
    "duration": 12,
    "start_time": "2022-01-30T09:38:15.808Z"
   },
   {
    "duration": 2587,
    "start_time": "2022-01-30T09:39:57.291Z"
   },
   {
    "duration": 2513,
    "start_time": "2022-01-30T09:40:04.737Z"
   },
   {
    "duration": 13,
    "start_time": "2022-01-30T09:57:48.892Z"
   },
   {
    "duration": 5,
    "start_time": "2022-01-30T09:57:55.902Z"
   },
   {
    "duration": 7,
    "start_time": "2022-01-30T10:05:50.356Z"
   },
   {
    "duration": 10641,
    "start_time": "2022-01-30T10:11:12.520Z"
   },
   {
    "duration": 509413,
    "start_time": "2022-01-30T10:11:36.086Z"
   },
   {
    "duration": 16,
    "start_time": "2022-01-30T10:21:06.742Z"
   },
   {
    "duration": 7752,
    "start_time": "2022-01-30T10:21:56.009Z"
   },
   {
    "duration": 4749,
    "start_time": "2022-01-30T10:22:12.811Z"
   },
   {
    "duration": 12,
    "start_time": "2022-01-30T10:26:46.896Z"
   },
   {
    "duration": 8036,
    "start_time": "2022-01-30T10:28:08.963Z"
   },
   {
    "duration": 2704,
    "start_time": "2022-01-30T10:29:24.342Z"
   },
   {
    "duration": 3671,
    "start_time": "2022-01-30T10:29:46.190Z"
   },
   {
    "duration": 7608,
    "start_time": "2022-01-30T10:29:56.122Z"
   },
   {
    "duration": 18,
    "start_time": "2022-01-30T10:30:07.485Z"
   },
   {
    "duration": 7,
    "start_time": "2022-01-30T10:30:09.373Z"
   },
   {
    "duration": 2991,
    "start_time": "2022-01-30T10:30:10.664Z"
   },
   {
    "duration": 5,
    "start_time": "2022-01-30T10:30:16.496Z"
   },
   {
    "duration": 5328,
    "start_time": "2022-01-30T10:30:17.084Z"
   },
   {
    "duration": 17,
    "start_time": "2022-01-30T10:30:23.195Z"
   },
   {
    "duration": 3614,
    "start_time": "2022-01-30T10:30:26.509Z"
   },
   {
    "duration": 5,
    "start_time": "2022-01-30T10:31:16.352Z"
   },
   {
    "duration": 510989,
    "start_time": "2022-01-30T10:31:28.288Z"
   },
   {
    "duration": 15,
    "start_time": "2022-01-30T10:39:59.280Z"
   },
   {
    "duration": 4706,
    "start_time": "2022-01-30T10:39:59.325Z"
   },
   {
    "duration": 12,
    "start_time": "2022-01-30T10:40:04.034Z"
   },
   {
    "duration": 16,
    "start_time": "2022-01-30T10:40:14.031Z"
   },
   {
    "duration": 26,
    "start_time": "2022-01-30T10:40:51.524Z"
   },
   {
    "duration": 19,
    "start_time": "2022-01-30T10:41:04.142Z"
   },
   {
    "duration": 21,
    "start_time": "2022-01-30T10:41:15.133Z"
   },
   {
    "duration": 17,
    "start_time": "2022-01-30T10:41:20.052Z"
   },
   {
    "duration": 15,
    "start_time": "2022-01-30T10:41:30.637Z"
   },
   {
    "duration": 6,
    "start_time": "2022-01-30T10:41:36.580Z"
   },
   {
    "duration": 14,
    "start_time": "2022-01-30T10:41:37.771Z"
   },
   {
    "duration": 19,
    "start_time": "2022-01-30T10:41:56.764Z"
   },
   {
    "duration": 10,
    "start_time": "2022-01-30T10:42:02.571Z"
   },
   {
    "duration": 11,
    "start_time": "2022-01-30T10:42:38.837Z"
   },
   {
    "duration": 20,
    "start_time": "2022-01-30T10:42:39.312Z"
   },
   {
    "duration": 313,
    "start_time": "2022-01-30T10:43:59.407Z"
   },
   {
    "duration": 292,
    "start_time": "2022-01-30T10:44:05.170Z"
   },
   {
    "duration": 20,
    "start_time": "2022-01-30T10:44:37.932Z"
   },
   {
    "duration": 10,
    "start_time": "2022-01-30T10:44:51.150Z"
   },
   {
    "duration": 25,
    "start_time": "2022-01-30T10:44:51.594Z"
   },
   {
    "duration": 12,
    "start_time": "2022-01-30T10:47:20.832Z"
   },
   {
    "duration": 28,
    "start_time": "2022-01-30T10:47:21.389Z"
   },
   {
    "duration": 12,
    "start_time": "2022-01-30T10:48:49.933Z"
   },
   {
    "duration": 22,
    "start_time": "2022-01-30T10:48:51.576Z"
   },
   {
    "duration": 14,
    "start_time": "2022-01-30T10:50:19.075Z"
   },
   {
    "duration": 16,
    "start_time": "2022-01-30T10:51:07.200Z"
   },
   {
    "duration": 14,
    "start_time": "2022-01-30T10:51:27.051Z"
   },
   {
    "duration": 18,
    "start_time": "2022-01-30T10:51:55.594Z"
   },
   {
    "duration": 14,
    "start_time": "2022-01-30T10:52:24.967Z"
   },
   {
    "duration": 11,
    "start_time": "2022-01-30T10:52:28.756Z"
   },
   {
    "duration": 23,
    "start_time": "2022-01-30T10:52:30.378Z"
   },
   {
    "duration": 26,
    "start_time": "2022-01-30T10:55:45.842Z"
   },
   {
    "duration": 11,
    "start_time": "2022-01-30T10:55:53.932Z"
   },
   {
    "duration": 26,
    "start_time": "2022-01-30T10:55:54.405Z"
   },
   {
    "duration": 94,
    "start_time": "2022-01-30T10:57:47.461Z"
   },
   {
    "duration": 304,
    "start_time": "2022-01-30T10:57:53.737Z"
   },
   {
    "duration": 281,
    "start_time": "2022-01-30T10:58:08.900Z"
   },
   {
    "duration": 18,
    "start_time": "2022-01-30T10:58:37.258Z"
   },
   {
    "duration": 304,
    "start_time": "2022-01-30T10:59:42.775Z"
   },
   {
    "duration": 5,
    "start_time": "2022-01-30T10:59:49.229Z"
   },
   {
    "duration": 11,
    "start_time": "2022-01-30T10:59:54.522Z"
   },
   {
    "duration": 305,
    "start_time": "2022-01-30T11:00:11.078Z"
   },
   {
    "duration": 32,
    "start_time": "2022-01-30T11:00:32.265Z"
   },
   {
    "duration": 11,
    "start_time": "2022-01-30T11:00:34.352Z"
   },
   {
    "duration": 27,
    "start_time": "2022-01-30T11:00:34.871Z"
   },
   {
    "duration": 343,
    "start_time": "2022-01-30T11:01:28.900Z"
   },
   {
    "duration": 307,
    "start_time": "2022-01-30T11:02:45.674Z"
   },
   {
    "duration": 363,
    "start_time": "2022-01-30T11:02:49.235Z"
   },
   {
    "duration": 263,
    "start_time": "2022-01-30T11:03:19.735Z"
   },
   {
    "duration": 381,
    "start_time": "2022-01-30T11:03:34.467Z"
   },
   {
    "duration": 467,
    "start_time": "2022-01-30T11:03:46.369Z"
   },
   {
    "duration": 401,
    "start_time": "2022-01-30T11:03:52.932Z"
   },
   {
    "duration": 333,
    "start_time": "2022-01-30T11:03:56.807Z"
   },
   {
    "duration": 366,
    "start_time": "2022-01-30T11:04:02.879Z"
   },
   {
    "duration": 465,
    "start_time": "2022-01-30T11:04:08.075Z"
   },
   {
    "duration": 513,
    "start_time": "2022-01-30T11:04:14.545Z"
   },
   {
    "duration": 718,
    "start_time": "2022-01-30T11:05:07.798Z"
   },
   {
    "duration": 456,
    "start_time": "2022-01-30T11:05:16.152Z"
   },
   {
    "duration": 415,
    "start_time": "2022-01-30T11:05:25.249Z"
   },
   {
    "duration": 460,
    "start_time": "2022-01-30T11:05:30.790Z"
   },
   {
    "duration": 440,
    "start_time": "2022-01-30T11:05:35.604Z"
   },
   {
    "duration": 437,
    "start_time": "2022-01-30T11:05:55.261Z"
   },
   {
    "duration": 443,
    "start_time": "2022-01-30T11:06:00.902Z"
   },
   {
    "duration": 4690,
    "start_time": "2022-01-30T11:07:29.084Z"
   },
   {
    "duration": 3761,
    "start_time": "2022-01-30T11:08:00.379Z"
   },
   {
    "duration": 3965,
    "start_time": "2022-01-30T11:08:10.475Z"
   },
   {
    "duration": 60595,
    "start_time": "2022-01-30T11:11:40.521Z"
   },
   {
    "duration": 759823,
    "start_time": "2022-01-30T11:12:43.720Z"
   },
   {
    "duration": 13,
    "start_time": "2022-01-30T11:25:23.546Z"
   },
   {
    "duration": 4229,
    "start_time": "2022-01-30T11:25:23.562Z"
   },
   {
    "duration": 15,
    "start_time": "2022-01-30T11:25:27.794Z"
   },
   {
    "duration": 19,
    "start_time": "2022-01-30T11:25:27.811Z"
   },
   {
    "duration": 29,
    "start_time": "2022-01-30T11:25:27.832Z"
   },
   {
    "duration": 611,
    "start_time": "2022-01-30T11:25:27.864Z"
   },
   {
    "duration": 14,
    "start_time": "2022-01-30T11:25:28.479Z"
   },
   {
    "duration": 6,
    "start_time": "2022-01-30T11:26:31.106Z"
   },
   {
    "duration": 38635,
    "start_time": "2022-01-30T11:27:30.224Z"
   },
   {
    "duration": 229,
    "start_time": "2022-01-30T11:28:08.861Z"
   },
   {
    "duration": 5,
    "start_time": "2022-01-30T11:28:18.505Z"
   },
   {
    "duration": 5,
    "start_time": "2022-01-30T11:28:20.927Z"
   },
   {
    "duration": 382550,
    "start_time": "2022-01-30T11:28:47.045Z"
   },
   {
    "duration": 27,
    "start_time": "2022-01-30T11:35:09.597Z"
   },
   {
    "duration": 14,
    "start_time": "2022-01-30T11:35:09.628Z"
   },
   {
    "duration": 5,
    "start_time": "2022-01-30T11:35:09.644Z"
   },
   {
    "duration": 6,
    "start_time": "2022-01-30T11:47:42.918Z"
   },
   {
    "duration": 315,
    "start_time": "2022-01-30T11:48:45.575Z"
   },
   {
    "duration": 8,
    "start_time": "2022-01-30T11:49:04.910Z"
   },
   {
    "duration": 10,
    "start_time": "2022-01-30T11:52:25.578Z"
   },
   {
    "duration": 8,
    "start_time": "2022-01-30T11:52:50.468Z"
   },
   {
    "duration": 9,
    "start_time": "2022-01-30T11:52:53.986Z"
   },
   {
    "duration": 9,
    "start_time": "2022-01-30T11:54:28.264Z"
   },
   {
    "duration": 15,
    "start_time": "2022-01-30T11:54:28.863Z"
   },
   {
    "duration": 16,
    "start_time": "2022-01-30T11:54:31.681Z"
   },
   {
    "duration": 10,
    "start_time": "2022-01-30T11:54:46.647Z"
   },
   {
    "duration": 15,
    "start_time": "2022-01-30T11:54:47.110Z"
   },
   {
    "duration": 16,
    "start_time": "2022-01-30T11:54:48.857Z"
   },
   {
    "duration": 15,
    "start_time": "2022-01-30T11:54:54.928Z"
   },
   {
    "duration": 294,
    "start_time": "2022-01-30T11:54:57.039Z"
   },
   {
    "duration": 9,
    "start_time": "2022-01-30T11:55:04.796Z"
   },
   {
    "duration": 38,
    "start_time": "2022-01-30T11:55:06.249Z"
   },
   {
    "duration": 13,
    "start_time": "2022-01-30T11:55:11.391Z"
   },
   {
    "duration": 4,
    "start_time": "2022-01-30T11:55:15.398Z"
   },
   {
    "duration": 86,
    "start_time": "2022-01-30T11:55:17.645Z"
   },
   {
    "duration": 10,
    "start_time": "2022-01-30T11:55:20.340Z"
   },
   {
    "duration": 686,
    "start_time": "2022-01-30T11:55:22.688Z"
   },
   {
    "duration": 8,
    "start_time": "2022-01-30T11:55:42.954Z"
   },
   {
    "duration": 607,
    "start_time": "2022-01-30T11:56:16.968Z"
   },
   {
    "duration": 390,
    "start_time": "2022-01-30T11:56:26.253Z"
   },
   {
    "duration": 16,
    "start_time": "2022-01-30T11:56:33.421Z"
   },
   {
    "duration": 5,
    "start_time": "2022-01-30T11:56:36.516Z"
   },
   {
    "duration": 4947,
    "start_time": "2022-01-30T11:56:41.046Z"
   },
   {
    "duration": 17,
    "start_time": "2022-01-30T11:56:46.597Z"
   },
   {
    "duration": 6,
    "start_time": "2022-01-30T11:56:52.856Z"
   },
   {
    "duration": 4,
    "start_time": "2022-01-30T11:56:57.864Z"
   },
   {
    "duration": 2476,
    "start_time": "2022-01-30T11:57:03.870Z"
   },
   {
    "duration": 2408,
    "start_time": "2022-01-30T11:57:16.871Z"
   },
   {
    "duration": 2547,
    "start_time": "2022-01-30T11:57:26.492Z"
   },
   {
    "duration": 15,
    "start_time": "2022-01-30T11:57:33.238Z"
   },
   {
    "duration": 24,
    "start_time": "2022-01-30T11:57:36.619Z"
   },
   {
    "duration": 11,
    "start_time": "2022-01-30T11:57:39.495Z"
   },
   {
    "duration": 6,
    "start_time": "2022-01-30T11:57:40.956Z"
   },
   {
    "duration": 5,
    "start_time": "2022-01-30T11:57:43.144Z"
   },
   {
    "duration": 11595,
    "start_time": "2022-01-30T11:57:52.148Z"
   },
   {
    "duration": 358,
    "start_time": "2022-01-30T11:58:03.388Z"
   },
   {
    "duration": 1597,
    "start_time": "2022-01-30T11:58:11.896Z"
   },
   {
    "duration": 18,
    "start_time": "2022-01-30T11:58:13.496Z"
   },
   {
    "duration": 19,
    "start_time": "2022-01-30T11:58:13.517Z"
   },
   {
    "duration": 9,
    "start_time": "2022-01-30T11:58:13.538Z"
   },
   {
    "duration": 10,
    "start_time": "2022-01-30T11:58:13.549Z"
   },
   {
    "duration": 1209,
    "start_time": "2022-01-30T11:58:13.562Z"
   },
   {
    "duration": 1420,
    "start_time": "2022-01-30T11:58:14.773Z"
   },
   {
    "duration": 5,
    "start_time": "2022-01-30T11:58:16.196Z"
   },
   {
    "duration": 22,
    "start_time": "2022-01-30T11:58:16.205Z"
   },
   {
    "duration": 17,
    "start_time": "2022-01-30T11:58:16.230Z"
   },
   {
    "duration": 16,
    "start_time": "2022-01-30T11:58:16.250Z"
   },
   {
    "duration": 8,
    "start_time": "2022-01-30T11:58:16.268Z"
   },
   {
    "duration": 70,
    "start_time": "2022-01-30T11:58:16.279Z"
   },
   {
    "duration": 12,
    "start_time": "2022-01-30T11:58:16.351Z"
   },
   {
    "duration": 5,
    "start_time": "2022-01-30T11:58:16.365Z"
   },
   {
    "duration": 138,
    "start_time": "2022-01-30T11:58:16.372Z"
   },
   {
    "duration": 10,
    "start_time": "2022-01-30T11:58:16.523Z"
   },
   {
    "duration": 438,
    "start_time": "2022-01-30T11:58:16.536Z"
   },
   {
    "duration": 14,
    "start_time": "2022-01-30T11:58:16.976Z"
   },
   {
    "duration": 31,
    "start_time": "2022-01-30T11:58:16.992Z"
   },
   {
    "duration": 5077,
    "start_time": "2022-01-30T11:58:17.026Z"
   },
   {
    "duration": 28,
    "start_time": "2022-01-30T11:58:22.106Z"
   },
   {
    "duration": 13,
    "start_time": "2022-01-30T11:58:22.136Z"
   },
   {
    "duration": 2680,
    "start_time": "2022-01-30T11:58:22.152Z"
   },
   {
    "duration": 16,
    "start_time": "2022-01-30T11:58:24.834Z"
   },
   {
    "duration": 20,
    "start_time": "2022-01-30T11:58:24.853Z"
   },
   {
    "duration": 48,
    "start_time": "2022-01-30T11:58:24.880Z"
   },
   {
    "duration": 6,
    "start_time": "2022-01-30T11:58:24.933Z"
   },
   {
    "duration": 7,
    "start_time": "2022-01-30T11:58:24.943Z"
   },
   {
    "duration": 753410,
    "start_time": "2022-01-30T11:58:24.952Z"
   },
   {
    "duration": 17,
    "start_time": "2022-01-30T12:10:58.365Z"
   },
   {
    "duration": 4201,
    "start_time": "2022-01-30T12:10:58.385Z"
   },
   {
    "duration": 17,
    "start_time": "2022-01-30T12:11:02.589Z"
   },
   {
    "duration": 17,
    "start_time": "2022-01-30T12:11:02.625Z"
   },
   {
    "duration": 34,
    "start_time": "2022-01-30T12:11:02.645Z"
   },
   {
    "duration": 530,
    "start_time": "2022-01-30T12:11:02.682Z"
   },
   {
    "duration": 23,
    "start_time": "2022-01-30T12:11:03.223Z"
   },
   {
    "duration": 6,
    "start_time": "2022-01-30T12:11:03.248Z"
   },
   {
    "duration": 337,
    "start_time": "2022-01-30T12:11:03.257Z"
   },
   {
    "duration": 6,
    "start_time": "2022-01-30T12:11:03.597Z"
   },
   {
    "duration": 142178,
    "start_time": "2022-01-30T12:11:03.605Z"
   },
   {
    "duration": 372,
    "start_time": "2022-01-30T12:13:25.415Z"
   },
   {
    "duration": 374,
    "start_time": "2022-01-30T12:13:25.416Z"
   },
   {
    "duration": 32230,
    "start_time": "2022-01-30T12:13:37.842Z"
   },
   {
    "duration": 5,
    "start_time": "2022-01-30T12:14:10.075Z"
   },
   {
    "duration": 13,
    "start_time": "2022-01-30T12:14:10.083Z"
   },
   {
    "duration": 304612,
    "start_time": "2022-01-30T12:14:32.135Z"
   },
   {
    "duration": 6,
    "start_time": "2022-01-30T12:19:36.751Z"
   },
   {
    "duration": 49651,
    "start_time": "2022-01-30T12:20:48.449Z"
   },
   {
    "duration": 9574,
    "start_time": "2022-01-30T12:21:48.388Z"
   },
   {
    "duration": 403,
    "start_time": "2022-01-30T12:21:57.562Z"
   },
   {
    "duration": 5,
    "start_time": "2022-01-30T12:21:58.861Z"
   },
   {
    "duration": 31669,
    "start_time": "2022-01-30T12:23:46.880Z"
   },
   {
    "duration": 6,
    "start_time": "2022-01-30T12:24:18.551Z"
   },
   {
    "duration": 160929,
    "start_time": "2022-01-30T12:37:42.747Z"
   },
   {
    "duration": 6,
    "start_time": "2022-01-30T12:40:23.678Z"
   },
   {
    "duration": 411,
    "start_time": "2022-01-30T12:41:10.592Z"
   },
   {
    "duration": 29221,
    "start_time": "2022-01-30T12:41:13.825Z"
   },
   {
    "duration": 421,
    "start_time": "2022-01-30T12:41:42.629Z"
   },
   {
    "duration": 35109,
    "start_time": "2022-01-30T12:41:51.967Z"
   },
   {
    "duration": 429,
    "start_time": "2022-01-30T12:43:31.471Z"
   },
   {
    "duration": 426,
    "start_time": "2022-01-30T12:43:31.475Z"
   },
   {
    "duration": 81604,
    "start_time": "2022-01-30T12:43:34.805Z"
   },
   {
    "duration": 413,
    "start_time": "2022-01-30T12:44:56.000Z"
   },
   {
    "duration": 298885,
    "start_time": "2022-01-30T12:45:20.342Z"
   },
   {
    "duration": 5,
    "start_time": "2022-01-30T12:50:29.438Z"
   },
   {
    "duration": 10,
    "start_time": "2022-01-30T12:50:32.546Z"
   },
   {
    "duration": 11,
    "start_time": "2022-01-30T12:51:21.180Z"
   },
   {
    "duration": 7353,
    "start_time": "2022-01-30T12:51:39.831Z"
   },
   {
    "duration": 284,
    "start_time": "2022-01-30T12:51:56.133Z"
   },
   {
    "duration": 16,
    "start_time": "2022-01-30T12:52:07.049Z"
   },
   {
    "duration": 11,
    "start_time": "2022-01-30T12:52:09.009Z"
   },
   {
    "duration": 8381,
    "start_time": "2022-01-30T12:52:10.900Z"
   },
   {
    "duration": 6817,
    "start_time": "2022-01-30T12:52:35.605Z"
   },
   {
    "duration": 11309,
    "start_time": "2022-01-30T12:52:50.420Z"
   },
   {
    "duration": 6864,
    "start_time": "2022-01-30T12:53:05.362Z"
   },
   {
    "duration": 7,
    "start_time": "2022-01-30T12:53:23.328Z"
   },
   {
    "duration": 7281,
    "start_time": "2022-01-30T12:53:27.762Z"
   },
   {
    "duration": 34,
    "start_time": "2022-01-30T12:53:36.338Z"
   },
   {
    "duration": 10,
    "start_time": "2022-01-30T12:53:40.587Z"
   },
   {
    "duration": 33,
    "start_time": "2022-01-30T12:53:43.250Z"
   },
   {
    "duration": 430,
    "start_time": "2022-01-30T12:53:46.408Z"
   },
   {
    "duration": 4080,
    "start_time": "2022-01-30T12:54:28.232Z"
   },
   {
    "duration": 303,
    "start_time": "2022-01-30T12:55:07.380Z"
   },
   {
    "duration": 15,
    "start_time": "2022-01-30T12:55:21.917Z"
   },
   {
    "duration": 11,
    "start_time": "2022-01-30T12:55:31.357Z"
   },
   {
    "duration": 36,
    "start_time": "2022-01-30T12:55:33.438Z"
   },
   {
    "duration": 419,
    "start_time": "2022-01-30T12:55:34.807Z"
   },
   {
    "duration": 38,
    "start_time": "2022-01-30T13:23:21.247Z"
   },
   {
    "duration": 6,
    "start_time": "2022-01-30T13:29:52.144Z"
   },
   {
    "duration": 7578,
    "start_time": "2022-01-30T13:30:02.442Z"
   },
   {
    "duration": 5,
    "start_time": "2022-01-30T13:30:17.707Z"
   },
   {
    "duration": 10377,
    "start_time": "2022-01-30T13:30:35.489Z"
   },
   {
    "duration": 137,
    "start_time": "2022-01-30T13:34:46.901Z"
   },
   {
    "duration": 10,
    "start_time": "2022-01-30T13:35:31.293Z"
   },
   {
    "duration": 5,
    "start_time": "2022-01-30T13:38:06.916Z"
   },
   {
    "duration": 5,
    "start_time": "2022-01-30T13:38:12.987Z"
   },
   {
    "duration": 5,
    "start_time": "2022-01-30T13:38:55.193Z"
   },
   {
    "duration": 6,
    "start_time": "2022-01-30T13:39:35.688Z"
   },
   {
    "duration": 5,
    "start_time": "2022-01-30T13:40:52.740Z"
   },
   {
    "duration": 253,
    "start_time": "2022-01-30T13:41:06.709Z"
   },
   {
    "duration": 237,
    "start_time": "2022-01-30T13:43:03.771Z"
   },
   {
    "duration": 378,
    "start_time": "2022-01-30T13:43:11.610Z"
   },
   {
    "duration": 370,
    "start_time": "2022-01-30T13:43:20.298Z"
   },
   {
    "duration": 6,
    "start_time": "2022-01-30T13:44:02.553Z"
   },
   {
    "duration": 378,
    "start_time": "2022-01-30T13:44:04.978Z"
   },
   {
    "duration": 371,
    "start_time": "2022-01-30T13:44:29.154Z"
   },
   {
    "duration": 14,
    "start_time": "2022-01-30T13:46:51.654Z"
   },
   {
    "duration": 576,
    "start_time": "2022-01-30T13:46:53.025Z"
   },
   {
    "duration": 21,
    "start_time": "2022-01-30T13:47:08.055Z"
   },
   {
    "duration": 17,
    "start_time": "2022-01-30T13:47:48.309Z"
   },
   {
    "duration": 417,
    "start_time": "2022-01-30T13:47:51.385Z"
   },
   {
    "duration": 400,
    "start_time": "2022-01-30T13:49:12.031Z"
   },
   {
    "duration": 377,
    "start_time": "2022-01-30T13:50:21.424Z"
   },
   {
    "duration": 813,
    "start_time": "2022-01-30T13:50:28.416Z"
   },
   {
    "duration": 90,
    "start_time": "2022-01-30T13:50:43.863Z"
   },
   {
    "duration": 5,
    "start_time": "2022-01-30T13:50:54.703Z"
   },
   {
    "duration": 6,
    "start_time": "2022-01-30T13:51:06.577Z"
   },
   {
    "duration": 381,
    "start_time": "2022-01-30T13:51:40.920Z"
   },
   {
    "duration": 361,
    "start_time": "2022-01-30T13:52:11.853Z"
   },
   {
    "duration": 95,
    "start_time": "2022-01-30T13:52:49.928Z"
   },
   {
    "duration": 380,
    "start_time": "2022-01-30T13:53:00.922Z"
   },
   {
    "duration": 552,
    "start_time": "2022-01-30T13:53:12.858Z"
   },
   {
    "duration": 467,
    "start_time": "2022-01-30T13:53:56.919Z"
   },
   {
    "duration": 549,
    "start_time": "2022-01-30T13:54:26.039Z"
   },
   {
    "duration": 394,
    "start_time": "2022-01-30T13:54:38.140Z"
   },
   {
    "duration": 382,
    "start_time": "2022-01-30T13:54:43.763Z"
   },
   {
    "duration": 10,
    "start_time": "2022-01-30T13:55:36.418Z"
   },
   {
    "duration": 11,
    "start_time": "2022-01-30T13:57:04.634Z"
   },
   {
    "duration": 16,
    "start_time": "2022-01-30T13:57:08.322Z"
   },
   {
    "duration": 1661,
    "start_time": "2022-01-30T14:00:03.034Z"
   },
   {
    "duration": 1523,
    "start_time": "2022-01-30T14:00:10.131Z"
   },
   {
    "duration": 7,
    "start_time": "2022-01-30T14:01:13.881Z"
   },
   {
    "duration": 1692,
    "start_time": "2022-01-30T14:01:26.130Z"
   },
   {
    "duration": 21,
    "start_time": "2022-01-30T14:01:27.825Z"
   },
   {
    "duration": 20,
    "start_time": "2022-01-30T14:01:27.850Z"
   },
   {
    "duration": 11,
    "start_time": "2022-01-30T14:01:27.873Z"
   },
   {
    "duration": 38,
    "start_time": "2022-01-30T14:01:27.887Z"
   },
   {
    "duration": 1349,
    "start_time": "2022-01-30T14:01:27.927Z"
   },
   {
    "duration": 1589,
    "start_time": "2022-01-30T14:01:29.279Z"
   },
   {
    "duration": 5,
    "start_time": "2022-01-30T14:01:30.871Z"
   },
   {
    "duration": 21,
    "start_time": "2022-01-30T14:01:30.880Z"
   },
   {
    "duration": 26,
    "start_time": "2022-01-30T14:01:30.905Z"
   },
   {
    "duration": 24,
    "start_time": "2022-01-30T14:01:30.934Z"
   },
   {
    "duration": 107,
    "start_time": "2022-01-30T14:01:30.961Z"
   },
   {
    "duration": 10,
    "start_time": "2022-01-30T14:01:31.070Z"
   },
   {
    "duration": 465,
    "start_time": "2022-01-30T14:01:31.082Z"
   },
   {
    "duration": 15,
    "start_time": "2022-01-30T14:01:31.549Z"
   },
   {
    "duration": 6,
    "start_time": "2022-01-30T14:01:31.567Z"
   },
   {
    "duration": 5835,
    "start_time": "2022-01-30T14:01:31.576Z"
   },
   {
    "duration": 17,
    "start_time": "2022-01-30T14:01:37.424Z"
   },
   {
    "duration": 6,
    "start_time": "2022-01-30T14:01:37.444Z"
   },
   {
    "duration": 3165,
    "start_time": "2022-01-30T14:01:37.452Z"
   },
   {
    "duration": 15,
    "start_time": "2022-01-30T14:01:40.619Z"
   },
   {
    "duration": 23,
    "start_time": "2022-01-30T14:01:40.637Z"
   },
   {
    "duration": 11,
    "start_time": "2022-01-30T14:01:40.663Z"
   },
   {
    "duration": 49,
    "start_time": "2022-01-30T14:01:40.677Z"
   },
   {
    "duration": 1669,
    "start_time": "2022-01-30T14:05:50.230Z"
   },
   {
    "duration": 24,
    "start_time": "2022-01-30T14:05:51.903Z"
   },
   {
    "duration": 19,
    "start_time": "2022-01-30T14:05:51.931Z"
   },
   {
    "duration": 19,
    "start_time": "2022-01-30T14:05:51.953Z"
   },
   {
    "duration": 17,
    "start_time": "2022-01-30T14:05:51.975Z"
   },
   {
    "duration": 1324,
    "start_time": "2022-01-30T14:05:51.994Z"
   },
   {
    "duration": 2121,
    "start_time": "2022-01-30T14:05:53.324Z"
   },
   {
    "duration": 11,
    "start_time": "2022-01-30T14:05:55.449Z"
   },
   {
    "duration": 12,
    "start_time": "2022-01-30T14:05:55.466Z"
   },
   {
    "duration": 12,
    "start_time": "2022-01-30T14:05:55.482Z"
   },
   {
    "duration": 6,
    "start_time": "2022-01-30T14:05:55.525Z"
   },
   {
    "duration": 120,
    "start_time": "2022-01-30T14:05:55.535Z"
   },
   {
    "duration": 12,
    "start_time": "2022-01-30T14:05:55.658Z"
   },
   {
    "duration": 680,
    "start_time": "2022-01-30T14:05:55.673Z"
   },
   {
    "duration": 16,
    "start_time": "2022-01-30T14:05:56.355Z"
   },
   {
    "duration": 9,
    "start_time": "2022-01-30T14:05:56.374Z"
   },
   {
    "duration": 5313,
    "start_time": "2022-01-30T14:05:56.385Z"
   },
   {
    "duration": 28,
    "start_time": "2022-01-30T14:06:01.701Z"
   },
   {
    "duration": 27,
    "start_time": "2022-01-30T14:06:01.731Z"
   },
   {
    "duration": 2796,
    "start_time": "2022-01-30T14:06:01.760Z"
   },
   {
    "duration": 21,
    "start_time": "2022-01-30T14:06:04.559Z"
   },
   {
    "duration": 43,
    "start_time": "2022-01-30T14:06:04.582Z"
   },
   {
    "duration": 11,
    "start_time": "2022-01-30T14:06:04.627Z"
   },
   {
    "duration": 10,
    "start_time": "2022-01-30T14:06:04.641Z"
   },
   {
    "duration": 751134,
    "start_time": "2022-01-30T14:06:04.653Z"
   },
   {
    "duration": 11,
    "start_time": "2022-01-30T14:18:35.789Z"
   },
   {
    "duration": 3897,
    "start_time": "2022-01-30T14:18:35.805Z"
   },
   {
    "duration": 25,
    "start_time": "2022-01-30T14:18:39.704Z"
   },
   {
    "duration": 36,
    "start_time": "2022-01-30T14:18:39.731Z"
   },
   {
    "duration": 453,
    "start_time": "2022-01-30T14:18:39.770Z"
   },
   {
    "duration": 16,
    "start_time": "2022-01-30T14:18:40.225Z"
   },
   {
    "duration": 5,
    "start_time": "2022-01-30T14:18:40.243Z"
   },
   {
    "duration": 235,
    "start_time": "2022-01-30T14:18:40.251Z"
   },
   {
    "duration": 6,
    "start_time": "2022-01-30T14:18:40.488Z"
   },
   {
    "duration": 294755,
    "start_time": "2022-01-30T14:18:40.497Z"
   },
   {
    "duration": 5,
    "start_time": "2022-01-30T14:23:35.255Z"
   },
   {
    "duration": 26,
    "start_time": "2022-01-30T14:23:35.262Z"
   },
   {
    "duration": 410,
    "start_time": "2022-01-30T14:23:35.290Z"
   },
   {
    "duration": 21,
    "start_time": "2022-01-30T14:23:35.702Z"
   },
   {
    "duration": 411,
    "start_time": "2022-01-30T15:22:13.292Z"
   },
   {
    "duration": 423,
    "start_time": "2022-01-30T15:22:44.073Z"
   },
   {
    "duration": 502,
    "start_time": "2022-01-30T15:22:47.432Z"
   },
   {
    "duration": 3610,
    "start_time": "2022-01-30T15:24:25.449Z"
   },
   {
    "duration": 2408,
    "start_time": "2022-01-30T15:25:35.279Z"
   },
   {
    "duration": 1636,
    "start_time": "2022-01-30T15:26:31.837Z"
   },
   {
    "duration": 1414,
    "start_time": "2022-01-30T15:26:43.525Z"
   },
   {
    "duration": 1454,
    "start_time": "2022-01-30T15:27:25.715Z"
   },
   {
    "duration": 2337,
    "start_time": "2022-01-30T15:28:14.970Z"
   },
   {
    "duration": 1666,
    "start_time": "2022-01-30T15:30:15.023Z"
   },
   {
    "duration": 1708,
    "start_time": "2022-01-30T15:30:23.056Z"
   },
   {
    "duration": 1945,
    "start_time": "2022-01-30T15:33:09.842Z"
   },
   {
    "duration": 1416,
    "start_time": "2022-01-30T15:33:15.073Z"
   },
   {
    "duration": 769,
    "start_time": "2022-01-30T15:34:40.956Z"
   },
   {
    "duration": 602,
    "start_time": "2022-01-30T15:34:52.406Z"
   },
   {
    "duration": 325,
    "start_time": "2022-01-30T15:35:03.281Z"
   },
   {
    "duration": 317,
    "start_time": "2022-01-30T15:35:12.281Z"
   },
   {
    "duration": 567,
    "start_time": "2022-01-30T15:35:18.800Z"
   },
   {
    "duration": 832,
    "start_time": "2022-01-30T15:35:27.394Z"
   },
   {
    "duration": 530,
    "start_time": "2022-01-30T15:38:30.535Z"
   },
   {
    "duration": 281,
    "start_time": "2022-01-30T15:38:39.842Z"
   },
   {
    "duration": 416,
    "start_time": "2022-01-30T15:39:11.290Z"
   },
   {
    "duration": 669,
    "start_time": "2022-01-30T15:39:31.365Z"
   },
   {
    "duration": 615,
    "start_time": "2022-01-30T15:39:41.838Z"
   },
   {
    "duration": 618,
    "start_time": "2022-01-30T15:39:52.654Z"
   },
   {
    "duration": 732,
    "start_time": "2022-01-30T15:39:59.565Z"
   },
   {
    "duration": 971,
    "start_time": "2022-01-30T15:40:10.638Z"
   },
   {
    "duration": 453,
    "start_time": "2022-01-30T15:40:48.122Z"
   },
   {
    "duration": 387,
    "start_time": "2022-01-30T15:41:22.544Z"
   },
   {
    "duration": 945,
    "start_time": "2022-01-30T15:43:38.267Z"
   },
   {
    "duration": 890,
    "start_time": "2022-01-30T15:43:42.460Z"
   },
   {
    "duration": 402,
    "start_time": "2022-01-30T15:43:50.245Z"
   },
   {
    "duration": 10,
    "start_time": "2022-01-30T15:44:18.391Z"
   },
   {
    "duration": 46,
    "start_time": "2022-01-30T15:44:26.075Z"
   },
   {
    "duration": 403,
    "start_time": "2022-01-30T15:44:44.420Z"
   },
   {
    "duration": 398,
    "start_time": "2022-01-30T15:44:55.386Z"
   },
   {
    "duration": 431,
    "start_time": "2022-01-30T15:45:34.541Z"
   },
   {
    "duration": 1212,
    "start_time": "2022-01-30T15:46:03.032Z"
   },
   {
    "duration": 396,
    "start_time": "2022-01-30T15:47:21.585Z"
   },
   {
    "duration": 529,
    "start_time": "2022-01-30T15:47:56.233Z"
   },
   {
    "duration": 460,
    "start_time": "2022-01-30T15:48:41.663Z"
   },
   {
    "duration": 654,
    "start_time": "2022-01-30T15:48:54.744Z"
   },
   {
    "duration": 443,
    "start_time": "2022-01-30T15:49:01.868Z"
   },
   {
    "duration": 439,
    "start_time": "2022-01-30T15:49:06.512Z"
   },
   {
    "duration": 438,
    "start_time": "2022-01-30T15:49:15.260Z"
   },
   {
    "duration": 645,
    "start_time": "2022-01-30T15:49:24.072Z"
   },
   {
    "duration": 435,
    "start_time": "2022-01-30T15:49:56.479Z"
   },
   {
    "duration": 414,
    "start_time": "2022-01-30T15:50:04.345Z"
   },
   {
    "duration": 456,
    "start_time": "2022-01-30T15:50:12.957Z"
   },
   {
    "duration": 439,
    "start_time": "2022-01-30T15:50:19.321Z"
   },
   {
    "duration": 643,
    "start_time": "2022-01-30T15:50:30.461Z"
   },
   {
    "duration": 732,
    "start_time": "2022-01-30T15:51:42.336Z"
   },
   {
    "duration": 542,
    "start_time": "2022-01-30T15:51:49.714Z"
   },
   {
    "duration": 532,
    "start_time": "2022-01-30T15:51:54.852Z"
   }
  ],
  "kernelspec": {
   "display_name": "Python 3 (ipykernel)",
   "language": "python",
   "name": "python3"
  },
  "language_info": {
   "codemirror_mode": {
    "name": "ipython",
    "version": 3
   },
   "file_extension": ".py",
   "mimetype": "text/x-python",
   "name": "python",
   "nbconvert_exporter": "python",
   "pygments_lexer": "ipython3",
   "version": "3.9.5"
  },
  "toc": {
   "base_numbering": 1,
   "nav_menu": {},
   "number_sections": true,
   "sideBar": true,
   "skip_h1_title": true,
   "title_cell": "Table of Contents",
   "title_sidebar": "Contents",
   "toc_cell": false,
   "toc_position": {
    "height": "calc(100% - 180px)",
    "left": "10px",
    "top": "150px",
    "width": "311.391px"
   },
   "toc_section_display": true,
   "toc_window_display": true
  }
 },
 "nbformat": 4,
 "nbformat_minor": 2
}
